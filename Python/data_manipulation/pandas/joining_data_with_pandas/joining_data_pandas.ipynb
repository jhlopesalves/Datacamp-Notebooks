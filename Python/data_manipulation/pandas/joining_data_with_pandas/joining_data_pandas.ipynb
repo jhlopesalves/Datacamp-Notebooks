{
  "cells": [
    {
      "cell_type": "markdown",
      "id": "5e68ab1d",
      "metadata": {
        "colab_type": "text",
        "id": "view-in-github"
      },
      "source": [
        "<a href=\"https://colab.research.google.com/github/jhlopesalves/data-science-practice-notebook/blob/main/Python/data_manipulation/pandas/joining_data_with_pandas/joining_data_pandas.ipynb\" target=\"_parent\"><img src=\"https://colab.research.google.com/assets/colab-badge.svg\" alt=\"Open In Colab\"/></a>"
      ]
    },
    {
      "cell_type": "markdown",
      "id": "ed3b69c2",
      "metadata": {
        "id": "ed3b69c2"
      },
      "source": [
        "# Merging Data with Pandas\n",
        "\n",
        "## Introduction\n",
        "\n",
        "In real-world data analysis, information is rarely stored in a single monolithic table. Instead, data is typically distributed across multiple sources, each representing different aspects, entities, or time periods of the system under study. Combining these disparate tables - **merging** - is a foundational operation in data wrangling, much like performing SQL joins in a relational database. Effective merging allows you to enrich datasets, assemble complete records, and unlock the analytical power of relational thinking.\n",
        "\n",
        "## The Essence of Merging\n",
        "\n",
        "### What is a Merge (Join)?\n",
        "\n",
        "A **merge** combines two or more tables (DataFrames) based on the values of one or more shared columns, called **keys**. This process is analogous to SQL joins, enabling you to bring together related information from separate sources.\n",
        "\n",
        "### The Most Common Join: **Inner Join**\n",
        "\n",
        "**Intuition:**  \n",
        "An *inner join* retrieves only the rows that have matching key values in **both** DataFrames. It acts as a filter - retaining only those records for which the relationship exists in all datasets involved.\n",
        "\n",
        "If you imagine each table as a circle in a Venn diagram, an inner join corresponds to the overlapping region: only values present in both circles are included in the result.<br>\n",
        "This is the default behaviour in Pandas' `merge` function.\n",
        "\n",
        "**When to use:**  \n",
        "- When you want to analyse only the “shared universe” of your datasets - i.e., where data is available in all sources.\n",
        "\n",
        "### Syntax: `pd.merge()`\n",
        "\n",
        "The principal function for table merging in Pandas is `pd.merge()`. The basic usage is:\n",
        "\n",
        "```python\n",
        "import pandas as pd\n",
        "\n",
        "merged_df = pd.merge(\n",
        "    left=table1,\n",
        "    right=table2,\n",
        "    on=\"key_column\"        # or on=[\"key1\", \"key2\"] for composite keys\n",
        ")\n",
        "```\n",
        "By default, this performs an **inner join** on the specified key(s).\n",
        "\n",
        "\n",
        "### Example: Inner Join with a Common Key\n",
        "\n",
        "Suppose you have two DataFrames, each with a `\"user_id\"` column representing the entity to join on:\n",
        "\n",
        "```python\n",
        "merged_df = pd.merge(left=users, right=purchases, on=\"user_id\")\n",
        "```\n",
        "- Only users with purchase records - and vice versa - are included in the result.\n",
        "\n",
        "### Handling Overlapping Column Names: The `suffixes` Argument\n",
        "\n",
        "When both tables have columns with the same name (apart from the join key), Pandas automatically appends suffixes to distinguish them. You can customise these using the `suffixes` argument:\n",
        "\n",
        "```python\n",
        "merged_df = pd.merge(\n",
        "    left=table1,\n",
        "    right=table2,\n",
        "    on=\"id\",\n",
        "    suffixes=(\"_left\", \"_right\")\n",
        ")\n",
        "```\n",
        "This ensures the resulting DataFrame remains unambiguous and self-explanatory.\n",
        "\n",
        "## Best Practices\n",
        "\n",
        "1) **Explicit key columns:** Always specify the `on=` argument to avoid subtle merge errors, especially when column names are similar but not identical.\n",
        "2) **Review join types:** Inner joins are safe and conservative, but for broader analyses, consider left, right, or outer joins (see Pandas documentation).\n",
        "3) **Inspect results:** Always check the shape and sample rows of your merged DataFrame (`.shape`, `.head()`) to ensure correctness.\n",
        "4) **Column name hygiene:** Use `suffixes` to manage naming collisions for maximum interpretability.\n",
        "\n"
      ]
    },
    {
      "cell_type": "code",
      "execution_count": 1,
      "id": "040f37df",
      "metadata": {
        "id": "040f37df"
      },
      "outputs": [],
      "source": [
        "import matplotlib.pyplot as plt\n",
        "import numpy as np\n",
        "import pandas as pd\n",
        "import seaborn as sns\n",
        "import os"
      ]
    },
    {
      "cell_type": "code",
      "execution_count": 2,
      "id": "l-2TYCkTrkzJ",
      "metadata": {
        "colab": {
          "base_uri": "https://localhost:8080/"
        },
        "id": "l-2TYCkTrkzJ",
        "outputId": "9512e714-bccf-4a69-b503-234409610b81"
      },
      "outputs": [
        {
          "name": "stderr",
          "output_type": "stream",
          "text": [
            "'wget' is not recognized as an internal or external command,\n",
            "operable program or batch file.\n",
            "'wget' is not recognized as an internal or external command,\n",
            "operable program or batch file.\n",
            "'wget' is not recognized as an internal or external command,\n",
            "operable program or batch file.\n",
            "'wget' is not recognized as an internal or external command,\n",
            "operable program or batch file.\n",
            "'wget' is not recognized as an internal or external command,\n",
            "operable program or batch file.\n",
            "'wget' is not recognized as an internal or external command,\n",
            "operable program or batch file.\n",
            "'wget' is not recognized as an internal or external command,\n",
            "operable program or batch file.\n",
            "'wget' is not recognized as an internal or external command,\n",
            "operable program or batch file.\n",
            "'wget' is not recognized as an internal or external command,\n",
            "operable program or batch file.\n",
            "'wget' is not recognized as an internal or external command,\n",
            "operable program or batch file.\n",
            "'wget' is not recognized as an internal or external command,\n",
            "operable program or batch file.\n",
            "'wget' is not recognized as an internal or external command,\n",
            "operable program or batch file.\n",
            "'wget' is not recognized as an internal or external command,\n",
            "operable program or batch file.\n",
            "'wget' is not recognized as an internal or external command,\n",
            "operable program or batch file.\n",
            "'wget' is not recognized as an internal or external command,\n",
            "operable program or batch file.\n",
            "'wget' is not recognized as an internal or external command,\n",
            "operable program or batch file.\n",
            "'wget' is not recognized as an internal or external command,\n",
            "operable program or batch file.\n",
            "'wget' is not recognized as an internal or external command,\n",
            "operable program or batch file.\n",
            "'wget' is not recognized as an internal or external command,\n",
            "operable program or batch file.\n",
            "'wget' is not recognized as an internal or external command,\n",
            "operable program or batch file.\n",
            "'wget' is not recognized as an internal or external command,\n",
            "operable program or batch file.\n",
            "'wget' is not recognized as an internal or external command,\n",
            "operable program or batch file.\n",
            "'wget' is not recognized as an internal or external command,\n",
            "operable program or batch file.\n"
          ]
        },
        {
          "name": "stdout",
          "output_type": "stream",
          "text": [
            "All files downloaded successfully.\n"
          ]
        }
      ],
      "source": [
        "# Ensure the data directory exists\n",
        "os.makedirs('data', exist_ok=True)\n",
        "\n",
        "# Define sources: URLs that point to CSVs and ZIPs\n",
        "urls = [\n",
        "    \"https://raw.githubusercontent.com/jhlopesalves/data-science-practice-notebook/refs/heads/main/Python/data_manipulation/pandas/joining_data_with_pandas/data/S%26P500.csv\",\n",
        "    \"https://raw.githubusercontent.com/jhlopesalves/data-science-practice-notebook/refs/heads/main/Python/data_manipulation/pandas/joining_data_with_pandas/data/WorldBank_GDP.csv\",\n",
        "    \"https://raw.githubusercontent.com/jhlopesalves/data-science-practice-notebook/refs/heads/main/Python/data_manipulation/pandas/joining_data_with_pandas/data/WorldBank_POP.csv\",\n",
        "    \"https://raw.githubusercontent.com/jhlopesalves/data-science-practice-notebook/refs/heads/main/Python/data_manipulation/pandas/joining_data_with_pandas/data/actors_movies.csv\",\n",
        "    \"https://raw.githubusercontent.com/jhlopesalves/data-science-practice-notebook/refs/heads/main/Python/data_manipulation/pandas/joining_data_with_pandas/data/business_owners.p\",\n",
        "    \"https://raw.githubusercontent.com/jhlopesalves/data-science-practice-notebook/refs/heads/main/Python/data_manipulation/pandas/joining_data_with_pandas/data/casts.p\",\n",
        "    \"https://raw.githubusercontent.com/jhlopesalves/data-science-practice-notebook/refs/heads/main/Python/data_manipulation/pandas/joining_data_with_pandas/data/census.p\",\n",
        "    \"https://raw.githubusercontent.com/jhlopesalves/data-science-practice-notebook/refs/heads/main/Python/data_manipulation/pandas/joining_data_with_pandas/data/crews.p\",\n",
        "    \"https://raw.githubusercontent.com/jhlopesalves/data-science-practice-notebook/refs/heads/main/Python/data_manipulation/pandas/joining_data_with_pandas/data/cta_calendar.p\",\n",
        "    \"https://raw.githubusercontent.com/jhlopesalves/data-science-practice-notebook/refs/heads/main/Python/data_manipulation/pandas/joining_data_with_pandas/data/cta_ridership.p\",\n",
        "    \"https://raw.githubusercontent.com/jhlopesalves/data-science-practice-notebook/refs/heads/main/Python/data_manipulation/pandas/joining_data_with_pandas/data/land_use.p\",\n",
        "    \"https://raw.githubusercontent.com/jhlopesalves/data-science-practice-notebook/refs/heads/main/Python/data_manipulation/pandas/joining_data_with_pandas/data/financials.p\",\n",
        "    \"https://raw.githubusercontent.com/jhlopesalves/data-science-practice-notebook/refs/heads/main/Python/data_manipulation/pandas/joining_data_with_pandas/data/licenses.p\",\n",
        "    \"https://raw.githubusercontent.com/jhlopesalves/data-science-practice-notebook/refs/heads/main/Python/data_manipulation/pandas/joining_data_with_pandas/data/movie_to_genres.p\",\n",
        "    \"https://raw.githubusercontent.com/jhlopesalves/data-science-practice-notebook/refs/heads/main/Python/data_manipulation/pandas/joining_data_with_pandas/data/movies.p\",\n",
        "    \"https://raw.githubusercontent.com/jhlopesalves/data-science-practice-notebook/refs/heads/main/Python/data_manipulation/pandas/joining_data_with_pandas/data/ratings.p\",\n",
        "    \"https://raw.githubusercontent.com/jhlopesalves/data-science-practice-notebook/refs/heads/main/Python/data_manipulation/pandas/joining_data_with_pandas/data/sequels.p\",\n",
        "    \"https://raw.githubusercontent.com/jhlopesalves/data-science-practice-notebook/refs/heads/main/Python/data_manipulation/pandas/joining_data_with_pandas/data/stations.p\",\n",
        "    \"https://raw.githubusercontent.com/jhlopesalves/data-science-practice-notebook/refs/heads/main/Python/data_manipulation/pandas/joining_data_with_pandas/data/taglines.p\",\n",
        "    \"https://raw.githubusercontent.com/jhlopesalves/data-science-practice-notebook/refs/heads/main/Python/data_manipulation/pandas/joining_data_with_pandas/data/taxi_owners.p\",\n",
        "    \"https://raw.githubusercontent.com/jhlopesalves/data-science-practice-notebook/refs/heads/main/Python/data_manipulation/pandas/joining_data_with_pandas/data/taxi_vehicles.p\",\n",
        "    \"https://raw.githubusercontent.com/jhlopesalves/data-science-practice-notebook/refs/heads/main/Python/data_manipulation/pandas/joining_data_with_pandas/data/ward.p\",\n",
        "    \"https://raw.githubusercontent.com/jhlopesalves/data-science-practice-notebook/refs/heads/main/Python/data_manipulation/pandas/joining_data_with_pandas/data/zip_demo.p\",\n",
        "\n",
        "]\n",
        "\n",
        "# Run wget in quiet mode for each URL\n",
        "for url in urls:\n",
        "    # -q suppresses all output; -P directs output into 'data/' directory\n",
        "    !wget -q -P data/ \"{url}\"\n",
        "\n",
        "# Single success message\n",
        "print(\"All files downloaded successfully.\")"
      ]
    },
    {
      "cell_type": "code",
      "execution_count": 3,
      "id": "d45bd573",
      "metadata": {
        "id": "d45bd573"
      },
      "outputs": [],
      "source": [
        "wards = pd.read_pickle(\"data/ward.p\")\n",
        "census = pd.read_pickle(\"data/census.p\")"
      ]
    },
    {
      "cell_type": "code",
      "execution_count": 4,
      "id": "5b496ebf",
      "metadata": {
        "colab": {
          "base_uri": "https://localhost:8080/",
          "height": 206
        },
        "id": "5b496ebf",
        "outputId": "ae461aa6-1e2b-4913-f850-cf2a7bf010c7"
      },
      "outputs": [
        {
          "data": {
            "application/vnd.microsoft.datawrangler.viewer.v0+json": {
              "columns": [
                {
                  "name": "index",
                  "rawType": "int64",
                  "type": "integer"
                },
                {
                  "name": "ward",
                  "rawType": "object",
                  "type": "string"
                },
                {
                  "name": "alderman",
                  "rawType": "object",
                  "type": "string"
                },
                {
                  "name": "address",
                  "rawType": "object",
                  "type": "string"
                },
                {
                  "name": "zip",
                  "rawType": "object",
                  "type": "string"
                }
              ],
              "ref": "47ac9b10-7d51-4bd7-8f39-f7855cef8125",
              "rows": [
                [
                  "0",
                  "1",
                  "Proco \"Joe\" Moreno",
                  "2058 NORTH WESTERN AVENUE",
                  "60647"
                ],
                [
                  "1",
                  "2",
                  "Brian Hopkins",
                  "1400 NORTH  ASHLAND AVENUE",
                  "60622"
                ],
                [
                  "2",
                  "3",
                  "Pat Dowell",
                  "5046 SOUTH STATE STREET",
                  "60609"
                ],
                [
                  "3",
                  "4",
                  "William D. Burns",
                  "435 EAST 35TH STREET, 1ST FLOOR",
                  "60616"
                ],
                [
                  "4",
                  "5",
                  "Leslie A. Hairston",
                  "2325 EAST 71ST STREET",
                  "60649"
                ]
              ],
              "shape": {
                "columns": 4,
                "rows": 5
              }
            },
            "text/html": [
              "<div>\n",
              "<style scoped>\n",
              "    .dataframe tbody tr th:only-of-type {\n",
              "        vertical-align: middle;\n",
              "    }\n",
              "\n",
              "    .dataframe tbody tr th {\n",
              "        vertical-align: top;\n",
              "    }\n",
              "\n",
              "    .dataframe thead th {\n",
              "        text-align: right;\n",
              "    }\n",
              "</style>\n",
              "<table border=\"1\" class=\"dataframe\">\n",
              "  <thead>\n",
              "    <tr style=\"text-align: right;\">\n",
              "      <th></th>\n",
              "      <th>ward</th>\n",
              "      <th>alderman</th>\n",
              "      <th>address</th>\n",
              "      <th>zip</th>\n",
              "    </tr>\n",
              "  </thead>\n",
              "  <tbody>\n",
              "    <tr>\n",
              "      <th>0</th>\n",
              "      <td>1</td>\n",
              "      <td>Proco \"Joe\" Moreno</td>\n",
              "      <td>2058 NORTH WESTERN AVENUE</td>\n",
              "      <td>60647</td>\n",
              "    </tr>\n",
              "    <tr>\n",
              "      <th>1</th>\n",
              "      <td>2</td>\n",
              "      <td>Brian Hopkins</td>\n",
              "      <td>1400 NORTH  ASHLAND AVENUE</td>\n",
              "      <td>60622</td>\n",
              "    </tr>\n",
              "    <tr>\n",
              "      <th>2</th>\n",
              "      <td>3</td>\n",
              "      <td>Pat Dowell</td>\n",
              "      <td>5046 SOUTH STATE STREET</td>\n",
              "      <td>60609</td>\n",
              "    </tr>\n",
              "    <tr>\n",
              "      <th>3</th>\n",
              "      <td>4</td>\n",
              "      <td>William D. Burns</td>\n",
              "      <td>435 EAST 35TH STREET, 1ST FLOOR</td>\n",
              "      <td>60616</td>\n",
              "    </tr>\n",
              "    <tr>\n",
              "      <th>4</th>\n",
              "      <td>5</td>\n",
              "      <td>Leslie A. Hairston</td>\n",
              "      <td>2325 EAST 71ST STREET</td>\n",
              "      <td>60649</td>\n",
              "    </tr>\n",
              "  </tbody>\n",
              "</table>\n",
              "</div>"
            ],
            "text/plain": [
              "  ward            alderman                          address    zip\n",
              "0    1  Proco \"Joe\" Moreno        2058 NORTH WESTERN AVENUE  60647\n",
              "1    2       Brian Hopkins       1400 NORTH  ASHLAND AVENUE  60622\n",
              "2    3          Pat Dowell          5046 SOUTH STATE STREET  60609\n",
              "3    4    William D. Burns  435 EAST 35TH STREET, 1ST FLOOR  60616\n",
              "4    5  Leslie A. Hairston            2325 EAST 71ST STREET  60649"
            ]
          },
          "execution_count": 4,
          "metadata": {},
          "output_type": "execute_result"
        }
      ],
      "source": [
        "wards.head()"
      ]
    },
    {
      "cell_type": "code",
      "execution_count": 5,
      "id": "cd992382",
      "metadata": {
        "colab": {
          "base_uri": "https://localhost:8080/",
          "height": 241
        },
        "id": "cd992382",
        "outputId": "bca0aeb7-662a-432d-874a-5237f54a428c"
      },
      "outputs": [
        {
          "data": {
            "application/vnd.microsoft.datawrangler.viewer.v0+json": {
              "columns": [
                {
                  "name": "index",
                  "rawType": "int64",
                  "type": "integer"
                },
                {
                  "name": "ward",
                  "rawType": "object",
                  "type": "string"
                },
                {
                  "name": "pop_2000",
                  "rawType": "int64",
                  "type": "integer"
                },
                {
                  "name": "pop_2010",
                  "rawType": "int64",
                  "type": "integer"
                },
                {
                  "name": "change",
                  "rawType": "object",
                  "type": "string"
                },
                {
                  "name": "address",
                  "rawType": "object",
                  "type": "string"
                },
                {
                  "name": "zip",
                  "rawType": "object",
                  "type": "string"
                }
              ],
              "ref": "6f89674b-5e55-407b-a19c-e73c1db61aac",
              "rows": [
                [
                  "0",
                  "1",
                  "52951",
                  "56149",
                  "6%",
                  "2765 WEST SAINT MARY STREET",
                  "60647"
                ],
                [
                  "1",
                  "2",
                  "54361",
                  "55805",
                  "3%",
                  "WM WASTE MANAGEMENT 1500",
                  "60622"
                ],
                [
                  "2",
                  "3",
                  "40385",
                  "53039",
                  "31%",
                  "17 EAST 38TH STREET",
                  "60653"
                ],
                [
                  "3",
                  "4",
                  "51953",
                  "54589",
                  "5%",
                  "31ST ST HARBOR BUILDING LAKEFRONT TRAIL",
                  "60653"
                ],
                [
                  "4",
                  "5",
                  "55302",
                  "51455",
                  "-7%",
                  "JACKSON PARK LAGOON SOUTH CORNELL DRIVE",
                  "60637"
                ]
              ],
              "shape": {
                "columns": 6,
                "rows": 5
              }
            },
            "text/html": [
              "<div>\n",
              "<style scoped>\n",
              "    .dataframe tbody tr th:only-of-type {\n",
              "        vertical-align: middle;\n",
              "    }\n",
              "\n",
              "    .dataframe tbody tr th {\n",
              "        vertical-align: top;\n",
              "    }\n",
              "\n",
              "    .dataframe thead th {\n",
              "        text-align: right;\n",
              "    }\n",
              "</style>\n",
              "<table border=\"1\" class=\"dataframe\">\n",
              "  <thead>\n",
              "    <tr style=\"text-align: right;\">\n",
              "      <th></th>\n",
              "      <th>ward</th>\n",
              "      <th>pop_2000</th>\n",
              "      <th>pop_2010</th>\n",
              "      <th>change</th>\n",
              "      <th>address</th>\n",
              "      <th>zip</th>\n",
              "    </tr>\n",
              "  </thead>\n",
              "  <tbody>\n",
              "    <tr>\n",
              "      <th>0</th>\n",
              "      <td>1</td>\n",
              "      <td>52951</td>\n",
              "      <td>56149</td>\n",
              "      <td>6%</td>\n",
              "      <td>2765 WEST SAINT MARY STREET</td>\n",
              "      <td>60647</td>\n",
              "    </tr>\n",
              "    <tr>\n",
              "      <th>1</th>\n",
              "      <td>2</td>\n",
              "      <td>54361</td>\n",
              "      <td>55805</td>\n",
              "      <td>3%</td>\n",
              "      <td>WM WASTE MANAGEMENT 1500</td>\n",
              "      <td>60622</td>\n",
              "    </tr>\n",
              "    <tr>\n",
              "      <th>2</th>\n",
              "      <td>3</td>\n",
              "      <td>40385</td>\n",
              "      <td>53039</td>\n",
              "      <td>31%</td>\n",
              "      <td>17 EAST 38TH STREET</td>\n",
              "      <td>60653</td>\n",
              "    </tr>\n",
              "    <tr>\n",
              "      <th>3</th>\n",
              "      <td>4</td>\n",
              "      <td>51953</td>\n",
              "      <td>54589</td>\n",
              "      <td>5%</td>\n",
              "      <td>31ST ST HARBOR BUILDING LAKEFRONT TRAIL</td>\n",
              "      <td>60653</td>\n",
              "    </tr>\n",
              "    <tr>\n",
              "      <th>4</th>\n",
              "      <td>5</td>\n",
              "      <td>55302</td>\n",
              "      <td>51455</td>\n",
              "      <td>-7%</td>\n",
              "      <td>JACKSON PARK LAGOON SOUTH CORNELL DRIVE</td>\n",
              "      <td>60637</td>\n",
              "    </tr>\n",
              "  </tbody>\n",
              "</table>\n",
              "</div>"
            ],
            "text/plain": [
              "  ward  pop_2000  pop_2010 change                                  address  \\\n",
              "0    1     52951     56149     6%              2765 WEST SAINT MARY STREET   \n",
              "1    2     54361     55805     3%                 WM WASTE MANAGEMENT 1500   \n",
              "2    3     40385     53039    31%                      17 EAST 38TH STREET   \n",
              "3    4     51953     54589     5%  31ST ST HARBOR BUILDING LAKEFRONT TRAIL   \n",
              "4    5     55302     51455    -7%  JACKSON PARK LAGOON SOUTH CORNELL DRIVE   \n",
              "\n",
              "     zip  \n",
              "0  60647  \n",
              "1  60622  \n",
              "2  60653  \n",
              "3  60653  \n",
              "4  60637  "
            ]
          },
          "execution_count": 5,
          "metadata": {},
          "output_type": "execute_result"
        }
      ],
      "source": [
        "census.head()"
      ]
    },
    {
      "cell_type": "code",
      "execution_count": 6,
      "id": "2de29fef",
      "metadata": {
        "colab": {
          "base_uri": "https://localhost:8080/",
          "height": 539
        },
        "id": "2de29fef",
        "outputId": "87f9b757-b58a-4a98-d89e-423b1966b0a6"
      },
      "outputs": [
        {
          "data": {
            "application/vnd.microsoft.datawrangler.viewer.v0+json": {
              "columns": [
                {
                  "name": "index",
                  "rawType": "int64",
                  "type": "integer"
                },
                {
                  "name": "ward",
                  "rawType": "object",
                  "type": "string"
                },
                {
                  "name": "alderman",
                  "rawType": "object",
                  "type": "string"
                },
                {
                  "name": "address_x",
                  "rawType": "object",
                  "type": "string"
                },
                {
                  "name": "zip_x",
                  "rawType": "object",
                  "type": "string"
                },
                {
                  "name": "pop_2000",
                  "rawType": "int64",
                  "type": "integer"
                },
                {
                  "name": "pop_2010",
                  "rawType": "int64",
                  "type": "integer"
                },
                {
                  "name": "change",
                  "rawType": "object",
                  "type": "string"
                },
                {
                  "name": "address_y",
                  "rawType": "object",
                  "type": "string"
                },
                {
                  "name": "zip_y",
                  "rawType": "object",
                  "type": "string"
                }
              ],
              "ref": "23b1ac07-4293-46b4-a4b1-0b691e6d598c",
              "rows": [
                [
                  "0",
                  "1",
                  "Proco \"Joe\" Moreno",
                  "2058 NORTH WESTERN AVENUE",
                  "60647",
                  "52951",
                  "56149",
                  "6%",
                  "2765 WEST SAINT MARY STREET",
                  "60647"
                ],
                [
                  "1",
                  "2",
                  "Brian Hopkins",
                  "1400 NORTH  ASHLAND AVENUE",
                  "60622",
                  "54361",
                  "55805",
                  "3%",
                  "WM WASTE MANAGEMENT 1500",
                  "60622"
                ],
                [
                  "2",
                  "3",
                  "Pat Dowell",
                  "5046 SOUTH STATE STREET",
                  "60609",
                  "40385",
                  "53039",
                  "31%",
                  "17 EAST 38TH STREET",
                  "60653"
                ],
                [
                  "3",
                  "4",
                  "William D. Burns",
                  "435 EAST 35TH STREET, 1ST FLOOR",
                  "60616",
                  "51953",
                  "54589",
                  "5%",
                  "31ST ST HARBOR BUILDING LAKEFRONT TRAIL",
                  "60653"
                ],
                [
                  "4",
                  "5",
                  "Leslie A. Hairston",
                  "2325 EAST 71ST STREET",
                  "60649",
                  "55302",
                  "51455",
                  "-7%",
                  "JACKSON PARK LAGOON SOUTH CORNELL DRIVE",
                  "60637"
                ]
              ],
              "shape": {
                "columns": 9,
                "rows": 5
              }
            },
            "text/html": [
              "<div>\n",
              "<style scoped>\n",
              "    .dataframe tbody tr th:only-of-type {\n",
              "        vertical-align: middle;\n",
              "    }\n",
              "\n",
              "    .dataframe tbody tr th {\n",
              "        vertical-align: top;\n",
              "    }\n",
              "\n",
              "    .dataframe thead th {\n",
              "        text-align: right;\n",
              "    }\n",
              "</style>\n",
              "<table border=\"1\" class=\"dataframe\">\n",
              "  <thead>\n",
              "    <tr style=\"text-align: right;\">\n",
              "      <th></th>\n",
              "      <th>ward</th>\n",
              "      <th>alderman</th>\n",
              "      <th>address_x</th>\n",
              "      <th>zip_x</th>\n",
              "      <th>pop_2000</th>\n",
              "      <th>pop_2010</th>\n",
              "      <th>change</th>\n",
              "      <th>address_y</th>\n",
              "      <th>zip_y</th>\n",
              "    </tr>\n",
              "  </thead>\n",
              "  <tbody>\n",
              "    <tr>\n",
              "      <th>0</th>\n",
              "      <td>1</td>\n",
              "      <td>Proco \"Joe\" Moreno</td>\n",
              "      <td>2058 NORTH WESTERN AVENUE</td>\n",
              "      <td>60647</td>\n",
              "      <td>52951</td>\n",
              "      <td>56149</td>\n",
              "      <td>6%</td>\n",
              "      <td>2765 WEST SAINT MARY STREET</td>\n",
              "      <td>60647</td>\n",
              "    </tr>\n",
              "    <tr>\n",
              "      <th>1</th>\n",
              "      <td>2</td>\n",
              "      <td>Brian Hopkins</td>\n",
              "      <td>1400 NORTH  ASHLAND AVENUE</td>\n",
              "      <td>60622</td>\n",
              "      <td>54361</td>\n",
              "      <td>55805</td>\n",
              "      <td>3%</td>\n",
              "      <td>WM WASTE MANAGEMENT 1500</td>\n",
              "      <td>60622</td>\n",
              "    </tr>\n",
              "    <tr>\n",
              "      <th>2</th>\n",
              "      <td>3</td>\n",
              "      <td>Pat Dowell</td>\n",
              "      <td>5046 SOUTH STATE STREET</td>\n",
              "      <td>60609</td>\n",
              "      <td>40385</td>\n",
              "      <td>53039</td>\n",
              "      <td>31%</td>\n",
              "      <td>17 EAST 38TH STREET</td>\n",
              "      <td>60653</td>\n",
              "    </tr>\n",
              "    <tr>\n",
              "      <th>3</th>\n",
              "      <td>4</td>\n",
              "      <td>William D. Burns</td>\n",
              "      <td>435 EAST 35TH STREET, 1ST FLOOR</td>\n",
              "      <td>60616</td>\n",
              "      <td>51953</td>\n",
              "      <td>54589</td>\n",
              "      <td>5%</td>\n",
              "      <td>31ST ST HARBOR BUILDING LAKEFRONT TRAIL</td>\n",
              "      <td>60653</td>\n",
              "    </tr>\n",
              "    <tr>\n",
              "      <th>4</th>\n",
              "      <td>5</td>\n",
              "      <td>Leslie A. Hairston</td>\n",
              "      <td>2325 EAST 71ST STREET</td>\n",
              "      <td>60649</td>\n",
              "      <td>55302</td>\n",
              "      <td>51455</td>\n",
              "      <td>-7%</td>\n",
              "      <td>JACKSON PARK LAGOON SOUTH CORNELL DRIVE</td>\n",
              "      <td>60637</td>\n",
              "    </tr>\n",
              "  </tbody>\n",
              "</table>\n",
              "</div>"
            ],
            "text/plain": [
              "  ward            alderman                        address_x  zip_x  pop_2000  \\\n",
              "0    1  Proco \"Joe\" Moreno        2058 NORTH WESTERN AVENUE  60647     52951   \n",
              "1    2       Brian Hopkins       1400 NORTH  ASHLAND AVENUE  60622     54361   \n",
              "2    3          Pat Dowell          5046 SOUTH STATE STREET  60609     40385   \n",
              "3    4    William D. Burns  435 EAST 35TH STREET, 1ST FLOOR  60616     51953   \n",
              "4    5  Leslie A. Hairston            2325 EAST 71ST STREET  60649     55302   \n",
              "\n",
              "   pop_2010 change                                address_y  zip_y  \n",
              "0     56149     6%              2765 WEST SAINT MARY STREET  60647  \n",
              "1     55805     3%                 WM WASTE MANAGEMENT 1500  60622  \n",
              "2     53039    31%                      17 EAST 38TH STREET  60653  \n",
              "3     54589     5%  31ST ST HARBOR BUILDING LAKEFRONT TRAIL  60653  \n",
              "4     51455    -7%  JACKSON PARK LAGOON SOUTH CORNELL DRIVE  60637  "
            ]
          },
          "metadata": {},
          "output_type": "display_data"
        }
      ],
      "source": [
        "wards_census = wards.merge(census, on=\"ward\")\n",
        "display(wards_census.head())"
      ]
    },
    {
      "cell_type": "code",
      "execution_count": 7,
      "id": "20acce93",
      "metadata": {
        "colab": {
          "base_uri": "https://localhost:8080/"
        },
        "id": "20acce93",
        "outputId": "8c396955-d1e1-409a-8218-1fe79728a4ed"
      },
      "outputs": [
        {
          "name": "stdout",
          "output_type": "stream",
          "text": [
            "Index(['ward', 'alderman', 'address_x', 'zip_x', 'pop_2000', 'pop_2010',\n",
            "       'change', 'address_y', 'zip_y'],\n",
            "      dtype='object')\n"
          ]
        }
      ],
      "source": [
        "print(wards_census.columns)"
      ]
    },
    {
      "cell_type": "code",
      "execution_count": 8,
      "id": "a0522cef",
      "metadata": {
        "colab": {
          "base_uri": "https://localhost:8080/",
          "height": 487
        },
        "id": "a0522cef",
        "outputId": "efb12925-96b5-48b1-af00-69901e222ef7"
      },
      "outputs": [
        {
          "data": {
            "application/vnd.microsoft.datawrangler.viewer.v0+json": {
              "columns": [
                {
                  "name": "index",
                  "rawType": "int64",
                  "type": "integer"
                },
                {
                  "name": "ward",
                  "rawType": "object",
                  "type": "string"
                },
                {
                  "name": "alderman",
                  "rawType": "object",
                  "type": "string"
                },
                {
                  "name": "address_ward",
                  "rawType": "object",
                  "type": "string"
                },
                {
                  "name": "zip_ward",
                  "rawType": "object",
                  "type": "string"
                },
                {
                  "name": "pop_2000",
                  "rawType": "int64",
                  "type": "integer"
                },
                {
                  "name": "pop_2010",
                  "rawType": "int64",
                  "type": "integer"
                },
                {
                  "name": "change",
                  "rawType": "object",
                  "type": "string"
                },
                {
                  "name": "address_cen",
                  "rawType": "object",
                  "type": "string"
                },
                {
                  "name": "zip_cen",
                  "rawType": "object",
                  "type": "string"
                }
              ],
              "ref": "cf89da53-492c-46ce-a221-c843a3147d46",
              "rows": [
                [
                  "0",
                  "1",
                  "Proco \"Joe\" Moreno",
                  "2058 NORTH WESTERN AVENUE",
                  "60647",
                  "52951",
                  "56149",
                  "6%",
                  "2765 WEST SAINT MARY STREET",
                  "60647"
                ],
                [
                  "1",
                  "2",
                  "Brian Hopkins",
                  "1400 NORTH  ASHLAND AVENUE",
                  "60622",
                  "54361",
                  "55805",
                  "3%",
                  "WM WASTE MANAGEMENT 1500",
                  "60622"
                ],
                [
                  "2",
                  "3",
                  "Pat Dowell",
                  "5046 SOUTH STATE STREET",
                  "60609",
                  "40385",
                  "53039",
                  "31%",
                  "17 EAST 38TH STREET",
                  "60653"
                ],
                [
                  "3",
                  "4",
                  "William D. Burns",
                  "435 EAST 35TH STREET, 1ST FLOOR",
                  "60616",
                  "51953",
                  "54589",
                  "5%",
                  "31ST ST HARBOR BUILDING LAKEFRONT TRAIL",
                  "60653"
                ],
                [
                  "4",
                  "5",
                  "Leslie A. Hairston",
                  "2325 EAST 71ST STREET",
                  "60649",
                  "55302",
                  "51455",
                  "-7%",
                  "JACKSON PARK LAGOON SOUTH CORNELL DRIVE",
                  "60637"
                ]
              ],
              "shape": {
                "columns": 9,
                "rows": 5
              }
            },
            "text/html": [
              "<div>\n",
              "<style scoped>\n",
              "    .dataframe tbody tr th:only-of-type {\n",
              "        vertical-align: middle;\n",
              "    }\n",
              "\n",
              "    .dataframe tbody tr th {\n",
              "        vertical-align: top;\n",
              "    }\n",
              "\n",
              "    .dataframe thead th {\n",
              "        text-align: right;\n",
              "    }\n",
              "</style>\n",
              "<table border=\"1\" class=\"dataframe\">\n",
              "  <thead>\n",
              "    <tr style=\"text-align: right;\">\n",
              "      <th></th>\n",
              "      <th>ward</th>\n",
              "      <th>alderman</th>\n",
              "      <th>address_ward</th>\n",
              "      <th>zip_ward</th>\n",
              "      <th>pop_2000</th>\n",
              "      <th>pop_2010</th>\n",
              "      <th>change</th>\n",
              "      <th>address_cen</th>\n",
              "      <th>zip_cen</th>\n",
              "    </tr>\n",
              "  </thead>\n",
              "  <tbody>\n",
              "    <tr>\n",
              "      <th>0</th>\n",
              "      <td>1</td>\n",
              "      <td>Proco \"Joe\" Moreno</td>\n",
              "      <td>2058 NORTH WESTERN AVENUE</td>\n",
              "      <td>60647</td>\n",
              "      <td>52951</td>\n",
              "      <td>56149</td>\n",
              "      <td>6%</td>\n",
              "      <td>2765 WEST SAINT MARY STREET</td>\n",
              "      <td>60647</td>\n",
              "    </tr>\n",
              "    <tr>\n",
              "      <th>1</th>\n",
              "      <td>2</td>\n",
              "      <td>Brian Hopkins</td>\n",
              "      <td>1400 NORTH  ASHLAND AVENUE</td>\n",
              "      <td>60622</td>\n",
              "      <td>54361</td>\n",
              "      <td>55805</td>\n",
              "      <td>3%</td>\n",
              "      <td>WM WASTE MANAGEMENT 1500</td>\n",
              "      <td>60622</td>\n",
              "    </tr>\n",
              "    <tr>\n",
              "      <th>2</th>\n",
              "      <td>3</td>\n",
              "      <td>Pat Dowell</td>\n",
              "      <td>5046 SOUTH STATE STREET</td>\n",
              "      <td>60609</td>\n",
              "      <td>40385</td>\n",
              "      <td>53039</td>\n",
              "      <td>31%</td>\n",
              "      <td>17 EAST 38TH STREET</td>\n",
              "      <td>60653</td>\n",
              "    </tr>\n",
              "    <tr>\n",
              "      <th>3</th>\n",
              "      <td>4</td>\n",
              "      <td>William D. Burns</td>\n",
              "      <td>435 EAST 35TH STREET, 1ST FLOOR</td>\n",
              "      <td>60616</td>\n",
              "      <td>51953</td>\n",
              "      <td>54589</td>\n",
              "      <td>5%</td>\n",
              "      <td>31ST ST HARBOR BUILDING LAKEFRONT TRAIL</td>\n",
              "      <td>60653</td>\n",
              "    </tr>\n",
              "    <tr>\n",
              "      <th>4</th>\n",
              "      <td>5</td>\n",
              "      <td>Leslie A. Hairston</td>\n",
              "      <td>2325 EAST 71ST STREET</td>\n",
              "      <td>60649</td>\n",
              "      <td>55302</td>\n",
              "      <td>51455</td>\n",
              "      <td>-7%</td>\n",
              "      <td>JACKSON PARK LAGOON SOUTH CORNELL DRIVE</td>\n",
              "      <td>60637</td>\n",
              "    </tr>\n",
              "  </tbody>\n",
              "</table>\n",
              "</div>"
            ],
            "text/plain": [
              "  ward            alderman                     address_ward zip_ward  \\\n",
              "0    1  Proco \"Joe\" Moreno        2058 NORTH WESTERN AVENUE    60647   \n",
              "1    2       Brian Hopkins       1400 NORTH  ASHLAND AVENUE    60622   \n",
              "2    3          Pat Dowell          5046 SOUTH STATE STREET    60609   \n",
              "3    4    William D. Burns  435 EAST 35TH STREET, 1ST FLOOR    60616   \n",
              "4    5  Leslie A. Hairston            2325 EAST 71ST STREET    60649   \n",
              "\n",
              "   pop_2000  pop_2010 change                              address_cen zip_cen  \n",
              "0     52951     56149     6%              2765 WEST SAINT MARY STREET   60647  \n",
              "1     54361     55805     3%                 WM WASTE MANAGEMENT 1500   60622  \n",
              "2     40385     53039    31%                      17 EAST 38TH STREET   60653  \n",
              "3     51953     54589     5%  31ST ST HARBOR BUILDING LAKEFRONT TRAIL   60653  \n",
              "4     55302     51455    -7%  JACKSON PARK LAGOON SOUTH CORNELL DRIVE   60637  "
            ]
          },
          "metadata": {},
          "output_type": "display_data"
        }
      ],
      "source": [
        "wards_census = wards.merge(census, on=\"ward\", suffixes=(\"_ward\", \"_cen\"))\n",
        "display(wards_census.head())"
      ]
    },
    {
      "cell_type": "code",
      "execution_count": 9,
      "id": "f743c259",
      "metadata": {
        "colab": {
          "base_uri": "https://localhost:8080/"
        },
        "id": "f743c259",
        "outputId": "defe82ea-27b7-4b63-d0c3-3baf0b606aff"
      },
      "outputs": [
        {
          "name": "stdout",
          "output_type": "stream",
          "text": [
            "(50, 9)\n"
          ]
        }
      ],
      "source": [
        "print(wards_census.shape)"
      ]
    },
    {
      "cell_type": "markdown",
      "id": "4a30eec0",
      "metadata": {
        "id": "4a30eec0"
      },
      "source": [
        "### What column to merge on?\n",
        "Chicago provides a list of taxicab owners and vehicles licensed to operate within the city, for public safety. Your goal is to merge two tables together. One table is called `taxi_owners`, with info about the taxi cab company owners, and one is called `taxi_veh`, with info about each taxi cab vehicle. Both the `taxi_owners` and `taxi_veh` tables have been loaded for you to explore.\n",
        "\n",
        "Choose the column you would use to merge the two tables on using the `.merge()` method."
      ]
    },
    {
      "cell_type": "code",
      "execution_count": 10,
      "id": "a3d46a34",
      "metadata": {
        "id": "a3d46a34"
      },
      "outputs": [],
      "source": [
        "# Load the datasets taxi_owners and taxi_veh\n",
        "taxi_veh = pd.read_pickle(\"data/taxi_vehicles.p\")\n",
        "taxi_owners = pd.read_pickle(\"data/taxi_owners.p\")"
      ]
    },
    {
      "cell_type": "code",
      "execution_count": 11,
      "id": "472f9e50",
      "metadata": {
        "colab": {
          "base_uri": "https://localhost:8080/",
          "height": 206
        },
        "id": "472f9e50",
        "outputId": "ba136443-cf7b-46de-fa4b-27f76a40ed1b"
      },
      "outputs": [
        {
          "data": {
            "application/vnd.microsoft.datawrangler.viewer.v0+json": {
              "columns": [
                {
                  "name": "index",
                  "rawType": "int64",
                  "type": "integer"
                },
                {
                  "name": "vid",
                  "rawType": "object",
                  "type": "string"
                },
                {
                  "name": "make",
                  "rawType": "object",
                  "type": "string"
                },
                {
                  "name": "model",
                  "rawType": "object",
                  "type": "string"
                },
                {
                  "name": "year",
                  "rawType": "int64",
                  "type": "integer"
                },
                {
                  "name": "fuel_type",
                  "rawType": "object",
                  "type": "string"
                },
                {
                  "name": "owner",
                  "rawType": "object",
                  "type": "string"
                }
              ],
              "ref": "01b5ab1e-0666-4643-9235-105e2ea1936a",
              "rows": [
                [
                  "0",
                  "2767",
                  "TOYOTA",
                  "CAMRY",
                  "2013",
                  "HYBRID",
                  "SEYED M. BADRI"
                ],
                [
                  "1",
                  "1411",
                  "TOYOTA",
                  "RAV4",
                  "2017",
                  "HYBRID",
                  "DESZY CORP."
                ],
                [
                  "2",
                  "6500",
                  "NISSAN",
                  "SENTRA",
                  "2019",
                  "GASOLINE",
                  "AGAPH CAB CORP"
                ],
                [
                  "3",
                  "2746",
                  "TOYOTA",
                  "CAMRY",
                  "2013",
                  "HYBRID",
                  "MIDWEST CAB CO, INC"
                ],
                [
                  "4",
                  "5922",
                  "TOYOTA",
                  "CAMRY",
                  "2013",
                  "HYBRID",
                  "SUMETTI CAB CO"
                ]
              ],
              "shape": {
                "columns": 6,
                "rows": 5
              }
            },
            "text/html": [
              "<div>\n",
              "<style scoped>\n",
              "    .dataframe tbody tr th:only-of-type {\n",
              "        vertical-align: middle;\n",
              "    }\n",
              "\n",
              "    .dataframe tbody tr th {\n",
              "        vertical-align: top;\n",
              "    }\n",
              "\n",
              "    .dataframe thead th {\n",
              "        text-align: right;\n",
              "    }\n",
              "</style>\n",
              "<table border=\"1\" class=\"dataframe\">\n",
              "  <thead>\n",
              "    <tr style=\"text-align: right;\">\n",
              "      <th></th>\n",
              "      <th>vid</th>\n",
              "      <th>make</th>\n",
              "      <th>model</th>\n",
              "      <th>year</th>\n",
              "      <th>fuel_type</th>\n",
              "      <th>owner</th>\n",
              "    </tr>\n",
              "  </thead>\n",
              "  <tbody>\n",
              "    <tr>\n",
              "      <th>0</th>\n",
              "      <td>2767</td>\n",
              "      <td>TOYOTA</td>\n",
              "      <td>CAMRY</td>\n",
              "      <td>2013</td>\n",
              "      <td>HYBRID</td>\n",
              "      <td>SEYED M. BADRI</td>\n",
              "    </tr>\n",
              "    <tr>\n",
              "      <th>1</th>\n",
              "      <td>1411</td>\n",
              "      <td>TOYOTA</td>\n",
              "      <td>RAV4</td>\n",
              "      <td>2017</td>\n",
              "      <td>HYBRID</td>\n",
              "      <td>DESZY CORP.</td>\n",
              "    </tr>\n",
              "    <tr>\n",
              "      <th>2</th>\n",
              "      <td>6500</td>\n",
              "      <td>NISSAN</td>\n",
              "      <td>SENTRA</td>\n",
              "      <td>2019</td>\n",
              "      <td>GASOLINE</td>\n",
              "      <td>AGAPH CAB CORP</td>\n",
              "    </tr>\n",
              "    <tr>\n",
              "      <th>3</th>\n",
              "      <td>2746</td>\n",
              "      <td>TOYOTA</td>\n",
              "      <td>CAMRY</td>\n",
              "      <td>2013</td>\n",
              "      <td>HYBRID</td>\n",
              "      <td>MIDWEST CAB CO, INC</td>\n",
              "    </tr>\n",
              "    <tr>\n",
              "      <th>4</th>\n",
              "      <td>5922</td>\n",
              "      <td>TOYOTA</td>\n",
              "      <td>CAMRY</td>\n",
              "      <td>2013</td>\n",
              "      <td>HYBRID</td>\n",
              "      <td>SUMETTI CAB CO</td>\n",
              "    </tr>\n",
              "  </tbody>\n",
              "</table>\n",
              "</div>"
            ],
            "text/plain": [
              "    vid    make   model  year fuel_type                owner\n",
              "0  2767  TOYOTA   CAMRY  2013    HYBRID       SEYED M. BADRI\n",
              "1  1411  TOYOTA    RAV4  2017    HYBRID          DESZY CORP.\n",
              "2  6500  NISSAN  SENTRA  2019  GASOLINE       AGAPH CAB CORP\n",
              "3  2746  TOYOTA   CAMRY  2013    HYBRID  MIDWEST CAB CO, INC\n",
              "4  5922  TOYOTA   CAMRY  2013    HYBRID       SUMETTI CAB CO"
            ]
          },
          "execution_count": 11,
          "metadata": {},
          "output_type": "execute_result"
        }
      ],
      "source": [
        "taxi_veh.head()"
      ]
    },
    {
      "cell_type": "code",
      "execution_count": 12,
      "id": "a1039bcb",
      "metadata": {
        "colab": {
          "base_uri": "https://localhost:8080/",
          "height": 206
        },
        "id": "a1039bcb",
        "outputId": "26bf2028-a28e-49fe-9861-b90e6bcdbd17"
      },
      "outputs": [
        {
          "data": {
            "application/vnd.microsoft.datawrangler.viewer.v0+json": {
              "columns": [
                {
                  "name": "index",
                  "rawType": "int64",
                  "type": "integer"
                },
                {
                  "name": "rid",
                  "rawType": "object",
                  "type": "string"
                },
                {
                  "name": "vid",
                  "rawType": "object",
                  "type": "string"
                },
                {
                  "name": "owner",
                  "rawType": "object",
                  "type": "string"
                },
                {
                  "name": "address",
                  "rawType": "object",
                  "type": "string"
                },
                {
                  "name": "zip",
                  "rawType": "object",
                  "type": "string"
                }
              ],
              "ref": "09f20a99-8bc3-478d-9300-b50e6cc5c5eb",
              "rows": [
                [
                  "0",
                  "T6285",
                  "6285",
                  "AGEAN TAXI LLC",
                  "4536 N. ELSTON AVE.",
                  "60630"
                ],
                [
                  "1",
                  "T4862",
                  "4862",
                  "MANGIB CORP.",
                  "5717 N. WASHTENAW AVE.",
                  "60659"
                ],
                [
                  "2",
                  "T1495",
                  "1495",
                  "FUNRIDE, INC.",
                  "3351 W. ADDISON ST.",
                  "60618"
                ],
                [
                  "3",
                  "T4231",
                  "4231",
                  "ALQUSH CORP.",
                  "6611 N. CAMPBELL AVE.",
                  "60645"
                ],
                [
                  "4",
                  "T5971",
                  "5971",
                  "EUNIFFORD INC.",
                  "3351 W. ADDISON ST.",
                  "60618"
                ]
              ],
              "shape": {
                "columns": 5,
                "rows": 5
              }
            },
            "text/html": [
              "<div>\n",
              "<style scoped>\n",
              "    .dataframe tbody tr th:only-of-type {\n",
              "        vertical-align: middle;\n",
              "    }\n",
              "\n",
              "    .dataframe tbody tr th {\n",
              "        vertical-align: top;\n",
              "    }\n",
              "\n",
              "    .dataframe thead th {\n",
              "        text-align: right;\n",
              "    }\n",
              "</style>\n",
              "<table border=\"1\" class=\"dataframe\">\n",
              "  <thead>\n",
              "    <tr style=\"text-align: right;\">\n",
              "      <th></th>\n",
              "      <th>rid</th>\n",
              "      <th>vid</th>\n",
              "      <th>owner</th>\n",
              "      <th>address</th>\n",
              "      <th>zip</th>\n",
              "    </tr>\n",
              "  </thead>\n",
              "  <tbody>\n",
              "    <tr>\n",
              "      <th>0</th>\n",
              "      <td>T6285</td>\n",
              "      <td>6285</td>\n",
              "      <td>AGEAN TAXI LLC</td>\n",
              "      <td>4536 N. ELSTON AVE.</td>\n",
              "      <td>60630</td>\n",
              "    </tr>\n",
              "    <tr>\n",
              "      <th>1</th>\n",
              "      <td>T4862</td>\n",
              "      <td>4862</td>\n",
              "      <td>MANGIB CORP.</td>\n",
              "      <td>5717 N. WASHTENAW AVE.</td>\n",
              "      <td>60659</td>\n",
              "    </tr>\n",
              "    <tr>\n",
              "      <th>2</th>\n",
              "      <td>T1495</td>\n",
              "      <td>1495</td>\n",
              "      <td>FUNRIDE, INC.</td>\n",
              "      <td>3351 W. ADDISON ST.</td>\n",
              "      <td>60618</td>\n",
              "    </tr>\n",
              "    <tr>\n",
              "      <th>3</th>\n",
              "      <td>T4231</td>\n",
              "      <td>4231</td>\n",
              "      <td>ALQUSH CORP.</td>\n",
              "      <td>6611 N. CAMPBELL AVE.</td>\n",
              "      <td>60645</td>\n",
              "    </tr>\n",
              "    <tr>\n",
              "      <th>4</th>\n",
              "      <td>T5971</td>\n",
              "      <td>5971</td>\n",
              "      <td>EUNIFFORD INC.</td>\n",
              "      <td>3351 W. ADDISON ST.</td>\n",
              "      <td>60618</td>\n",
              "    </tr>\n",
              "  </tbody>\n",
              "</table>\n",
              "</div>"
            ],
            "text/plain": [
              "     rid   vid           owner                 address    zip\n",
              "0  T6285  6285  AGEAN TAXI LLC     4536 N. ELSTON AVE.  60630\n",
              "1  T4862  4862    MANGIB CORP.  5717 N. WASHTENAW AVE.  60659\n",
              "2  T1495  1495   FUNRIDE, INC.     3351 W. ADDISON ST.  60618\n",
              "3  T4231  4231    ALQUSH CORP.   6611 N. CAMPBELL AVE.  60645\n",
              "4  T5971  5971  EUNIFFORD INC.     3351 W. ADDISON ST.  60618"
            ]
          },
          "execution_count": 12,
          "metadata": {},
          "output_type": "execute_result"
        }
      ],
      "source": [
        "taxi_owners.head()"
      ]
    },
    {
      "cell_type": "markdown",
      "id": "703cf22a",
      "metadata": {
        "id": "703cf22a"
      },
      "source": [
        "### Your first inner join\n",
        "You have been tasked with figuring out what the most popular types of fuel used in Chicago taxis are. To complete the analysis, you need to merge the `taxi_owners` and `taxi_veh` tables together on the vid column. You can then use the merged table along with the `.value_counts()` method to find the most common fuel_type."
      ]
    },
    {
      "cell_type": "code",
      "execution_count": 13,
      "id": "385171f7",
      "metadata": {
        "colab": {
          "base_uri": "https://localhost:8080/"
        },
        "id": "385171f7",
        "outputId": "7f76b9d9-f207-4fc9-9341-039c45648bbd"
      },
      "outputs": [
        {
          "name": "stdout",
          "output_type": "stream",
          "text": [
            "Index(['rid', 'vid', 'owner_own', 'address', 'zip', 'make', 'model', 'year',\n",
            "       'fuel_type', 'owner_veh'],\n",
            "      dtype='object')\n"
          ]
        }
      ],
      "source": [
        "# Merge taxi_owners with taxi_veh on the column vid, and save the result to taxi_own_veh.\n",
        "# Set the left and right table suffixes for overlapping columns of the merge to _own and _veh, respectively.\n",
        "taxi_own_veh = taxi_owners.merge(taxi_veh, on=\"vid\", suffixes=(\"_own\",\"_veh\"))\n",
        "print(taxi_own_veh.columns)"
      ]
    },
    {
      "cell_type": "code",
      "execution_count": 14,
      "id": "7c282f80",
      "metadata": {
        "colab": {
          "base_uri": "https://localhost:8080/"
        },
        "id": "7c282f80",
        "outputId": "c37737f5-5fbc-42d8-93a6-0e08ce9477e6"
      },
      "outputs": [
        {
          "name": "stdout",
          "output_type": "stream",
          "text": [
            "<bound method IndexOpsMixin.value_counts of 0         HYBRID\n",
            "1       GASOLINE\n",
            "2       GASOLINE\n",
            "3         HYBRID\n",
            "4       GASOLINE\n",
            "          ...   \n",
            "3514      HYBRID\n",
            "3515      HYBRID\n",
            "3516      HYBRID\n",
            "3517      HYBRID\n",
            "3518      HYBRID\n",
            "Name: fuel_type, Length: 3519, dtype: object>\n"
          ]
        }
      ],
      "source": [
        "# Select the fuel_type column from taxi_own_veh and print the value_counts() to find the most popular fuel_types used.\n",
        "print(taxi_own_veh[\"fuel_type\"].value_counts)"
      ]
    },
    {
      "cell_type": "markdown",
      "id": "9f3c6627",
      "metadata": {
        "id": "9f3c6627"
      },
      "source": [
        "### Inner joins and number of rows returned\n",
        "All of the merges you have studied to this point are called inner joins. It is necessary to understand that inner joins only return the rows with matching values in both tables."
      ]
    },
    {
      "cell_type": "code",
      "execution_count": 15,
      "id": "b28f1867",
      "metadata": {
        "colab": {
          "base_uri": "https://localhost:8080/",
          "height": 1000
        },
        "id": "b28f1867",
        "outputId": "cfe161ab-fa49-4b58-b84c-e6fa66824987"
      },
      "outputs": [
        {
          "data": {
            "application/vnd.microsoft.datawrangler.viewer.v0+json": {
              "columns": [
                {
                  "name": "index",
                  "rawType": "int64",
                  "type": "integer"
                },
                {
                  "name": "ward",
                  "rawType": "object",
                  "type": "string"
                },
                {
                  "name": "alderman",
                  "rawType": "object",
                  "type": "string"
                },
                {
                  "name": "address_x",
                  "rawType": "object",
                  "type": "string"
                },
                {
                  "name": "zip_x",
                  "rawType": "object",
                  "type": "string"
                },
                {
                  "name": "pop_2000",
                  "rawType": "int64",
                  "type": "integer"
                },
                {
                  "name": "pop_2010",
                  "rawType": "int64",
                  "type": "integer"
                },
                {
                  "name": "change",
                  "rawType": "object",
                  "type": "string"
                },
                {
                  "name": "address_y",
                  "rawType": "object",
                  "type": "string"
                },
                {
                  "name": "zip_y",
                  "rawType": "object",
                  "type": "string"
                }
              ],
              "ref": "fa3c00f6-9d8a-491d-98ef-0c01241b7193",
              "rows": [
                [
                  "0",
                  "1",
                  "Proco \"Joe\" Moreno",
                  "2058 NORTH WESTERN AVENUE",
                  "60647",
                  "52951",
                  "56149",
                  "6%",
                  "2765 WEST SAINT MARY STREET",
                  "60647"
                ],
                [
                  "1",
                  "2",
                  "Brian Hopkins",
                  "1400 NORTH  ASHLAND AVENUE",
                  "60622",
                  "54361",
                  "55805",
                  "3%",
                  "WM WASTE MANAGEMENT 1500",
                  "60622"
                ],
                [
                  "2",
                  "3",
                  "Pat Dowell",
                  "5046 SOUTH STATE STREET",
                  "60609",
                  "40385",
                  "53039",
                  "31%",
                  "17 EAST 38TH STREET",
                  "60653"
                ],
                [
                  "3",
                  "4",
                  "William D. Burns",
                  "435 EAST 35TH STREET, 1ST FLOOR",
                  "60616",
                  "51953",
                  "54589",
                  "5%",
                  "31ST ST HARBOR BUILDING LAKEFRONT TRAIL",
                  "60653"
                ],
                [
                  "4",
                  "5",
                  "Leslie A. Hairston",
                  "2325 EAST 71ST STREET",
                  "60649",
                  "55302",
                  "51455",
                  "-7%",
                  "JACKSON PARK LAGOON SOUTH CORNELL DRIVE",
                  "60637"
                ],
                [
                  "5",
                  "6",
                  "Roderick T. Sawyer",
                  "8001 S. MARTIN LUTHER KING DRIVE",
                  "60619",
                  "54989",
                  "52341",
                  "-5%",
                  "150 WEST 74TH STREET",
                  "60636"
                ],
                [
                  "6",
                  "7",
                  "Gregory I. Mitchell",
                  "2249 EAST 95TH STREET",
                  "60617",
                  "54593",
                  "51581",
                  "-6%",
                  "8549 SOUTH OGLESBY AVENUE",
                  "60617"
                ],
                [
                  "7",
                  "8",
                  "Michelle A. Harris",
                  "8539 SOUTH COTTAGE GROVE AVENUE",
                  "60619",
                  "54039",
                  "51687",
                  "-4%",
                  "1346-1352 EAST 75TH STREET",
                  "60649"
                ],
                [
                  "8",
                  "9",
                  "Anthony A. Beale",
                  "34 EAST 112TH PLACE",
                  "60628",
                  "52008",
                  "51519",
                  "-1%",
                  "11039-11059 SOUTH WENTWORTH AVENUE",
                  "60628"
                ],
                [
                  "9",
                  "10",
                  "Susan Sadlowski Garza",
                  "10500 SOUTH EWING AVENUE",
                  "60617",
                  "56613",
                  "51535",
                  "-9%",
                  "10534 SOUTH AVENUE F",
                  "46394"
                ],
                [
                  "10",
                  "11",
                  "Patrick Daley Thompson",
                  "3659 SOUTH HALSTED STREET",
                  "60609",
                  "64228",
                  "51497",
                  "-20%",
                  "943-947 WEST 14TH PLACE",
                  "60607"
                ],
                [
                  "11",
                  "12",
                  "George Cardenas",
                  "3476 SOUTH ARCHER AVENUE",
                  "60608",
                  "68922",
                  "52235",
                  "-24%",
                  "CP 46 STEVENSON EXPRESSWAY",
                  "60632"
                ],
                [
                  "12",
                  "13",
                  "Marty Quinn",
                  "6500 SOUTH PULASKI ROAD",
                  "60629",
                  "64382",
                  "53722",
                  "-17%",
                  "SOUTH RAMP SOUTH LARAMIE AVENUE",
                  "60638"
                ],
                [
                  "13",
                  "14",
                  "Edward M. Burke",
                  "2650 WEST 51ST STREET",
                  "60632",
                  "80143",
                  "54031",
                  "-33%",
                  "4540 WEST 51ST STREET",
                  "60632"
                ],
                [
                  "14",
                  "15",
                  "Raymond A. Lopez",
                  "1650 WEST 63RD STREET",
                  "60636",
                  "56057",
                  "51501",
                  "-8%",
                  "CHICAGO FIRE DEPARTMENT ENGINE COMPANY 123 2215",
                  "60632"
                ],
                [
                  "15",
                  "16",
                  "Toni L. Foulkes",
                  "3045 WEST 63RD STREET",
                  "60629",
                  "50205",
                  "51954",
                  "3%",
                  "6036 SOUTH WOOD STREET",
                  "60636"
                ],
                [
                  "16",
                  "17",
                  "David H. Moore",
                  "7313 SOUTH ASHLAND AVENUE",
                  "60636",
                  "49264",
                  "51846",
                  "5%",
                  "7216 SOUTH WINCHESTER AVENUE",
                  "60636"
                ],
                [
                  "17",
                  "18",
                  "Derrick G. Curtis",
                  "8359 SOUTH PULASKI ROAD",
                  "60652",
                  "55043",
                  "52992",
                  "-4%",
                  "3286 WEST COLUMBUS AVENUE",
                  "60652"
                ],
                [
                  "18",
                  "19",
                  "Matthew J. O'Shea",
                  "10400 SOUTH WESTERN AVENUE",
                  "60643",
                  "54546",
                  "51525",
                  "-6%",
                  "9999 SOUTH FRANCISCO AVENUE",
                  "60805"
                ],
                [
                  "19",
                  "20",
                  "Willie B. Cochran",
                  "6357 SOUTH COTTAGE GROVE AVENUE",
                  "60637",
                  "51854",
                  "52372",
                  "1%",
                  "DAN RYAN EXPRESSWAY PARK MANOR",
                  "60621"
                ],
                [
                  "20",
                  "21",
                  "Howard B. Brookins, Jr.",
                  "9011 SOUTH ASHLAND AVENUE, UNIT B",
                  "60620",
                  "51751",
                  "51632",
                  "0%",
                  "8852-8854 SOUTH EMERALD AVENUE",
                  "60620"
                ],
                [
                  "21",
                  "22",
                  "Ricardo Munoz",
                  "2500 SOUTH ST. LOUIS AVENUE",
                  "60623",
                  "59734",
                  "53515",
                  "-10%",
                  "4233 WEST 36TH STREET",
                  "60632"
                ],
                [
                  "22",
                  "23",
                  "Michael R. Zalewski",
                  "6247 SOUTH ARCHER AVENUE",
                  "60638",
                  "63691",
                  "53728",
                  "-16%",
                  "CHICAGO MIDWAY INTERNATIONAL AIRPORT WEST 62ND STREET",
                  "60629"
                ],
                [
                  "23",
                  "24",
                  "Michael Scott, Jr.",
                  "1158 SOUTH KEELER AVENUE",
                  "60624",
                  "50879",
                  "54909",
                  "8%",
                  "1635 SOUTH CHRISTIANA AVENUE",
                  "60623"
                ],
                [
                  "24",
                  "25",
                  "Daniel \"Danny\" Solis",
                  "1800 SOUTH BLUE ISLAND AVENUE",
                  "60608",
                  "55954",
                  "54539",
                  "-3%",
                  "1632-1746 SOUTH MILLER STREET",
                  "60608"
                ],
                [
                  "25",
                  "26",
                  "Roberto Maldonado",
                  "2511 WEST DIVISION STREET",
                  "60622",
                  "56841",
                  "53516",
                  "-6%",
                  "LITTLE CUBS FIELD COMFORT STATION 1400",
                  "60622"
                ],
                [
                  "26",
                  "27",
                  "Walter Burnett, Jr.",
                  "4 NORTH WESTERN AVENUE",
                  "60612",
                  "61287",
                  "52939",
                  "-14%",
                  "2151-2153 WEST CHICAGO AVENUE",
                  "60651"
                ],
                [
                  "27",
                  "28",
                  "Jason C. Ervin",
                  "2602 WEST 16TH STREET",
                  "60612",
                  "49423",
                  "55199",
                  "12%",
                  "RML SPECIALTY HOSPITAL 3435",
                  "60624"
                ],
                [
                  "28",
                  "29",
                  "Chris Taliaferro",
                  "6272 WEST NORTH AVENUE",
                  "60639",
                  "61949",
                  "55267",
                  "-11%",
                  "1241 NORTH RIDGELAND AVENUE",
                  "60302"
                ],
                [
                  "29",
                  "30",
                  "Ariel E. Reyboras",
                  "3559 NORTH MILWAUKEE AVENUE",
                  "60641",
                  "72698",
                  "55560",
                  "-24%",
                  "5118 WEST FLETCHER STREET",
                  "60641"
                ],
                [
                  "30",
                  "31",
                  "Milagros \"Milly\" Santiago",
                  "2521 NORTH PULASKI ROAD",
                  "60639",
                  "65045",
                  "53724",
                  "-17%",
                  "2854 NORTH KEATING AVENUE",
                  "60641"
                ],
                [
                  "31",
                  "32",
                  "Scott Waguespack",
                  "2657 NORTH CLYBOURN AVENUE",
                  "60614",
                  "57204",
                  "55184",
                  "-4%",
                  "2901 NORTH WASHTENAW AVENUE",
                  "60618"
                ],
                [
                  "32",
                  "33",
                  "Deborah Mell",
                  "3001 WEST IRVING PARK ROAD",
                  "60618",
                  "63695",
                  "55598",
                  "-13%",
                  "4041-4043 NORTH RICHMOND STREET",
                  "60625"
                ],
                [
                  "33",
                  "34",
                  "Carrie M. Austin",
                  "507 WEST 111TH STREET",
                  "60628",
                  "49922",
                  "51599",
                  "3%",
                  "11544-11546 SOUTH PEORIA STREET",
                  "60827"
                ],
                [
                  "34",
                  "35",
                  "Carlos Ramirez-Rosa",
                  "2710 NORTH SAWYER AVENUE",
                  "60647",
                  "57588",
                  "55281",
                  "-4%",
                  "3634 WEST BELMONT AVENUE",
                  "60618"
                ],
                [
                  "35",
                  "36",
                  "Gilbert Villegas",
                  "6934 WEST DIVERSEY",
                  "60607",
                  "63376",
                  "54766",
                  "-14%",
                  "2918 NORTH RUTHERFORD AVENUE",
                  "60634"
                ],
                [
                  "36",
                  "37",
                  "Emma M. Mitts",
                  "4924 WEST CHICAGO AVENUE",
                  "60651",
                  "56120",
                  "51538",
                  "-8%",
                  "4738-4748 WEST RICE STREET",
                  "60651"
                ],
                [
                  "37",
                  "38",
                  "Nicholas Sposato",
                  "3821  NORTH HARLEM AVENUE",
                  "60634",
                  "66011",
                  "56001",
                  "-15%",
                  "7307-7331 WEST IRVING PARK ROAD",
                  "60706"
                ],
                [
                  "38",
                  "39",
                  "Margaret Laurino",
                  "4404 WEST LAWRENCE AVENUE",
                  "60630",
                  "64291",
                  "55882",
                  "-13%",
                  "QUEEN OF ALL SAINTS BASILICA 6280",
                  "60646"
                ],
                [
                  "39",
                  "40",
                  "Patrick J. O'Connor",
                  "5850 NORTH LINCOLN AVENUE",
                  "60659",
                  "58652",
                  "55319",
                  "-6%",
                  "5536 NORTH ARTESIAN AVENUE",
                  "60645"
                ],
                [
                  "40",
                  "41",
                  "Anthony V. Napolitano",
                  "7442 NORTH HARLEM AVENUE",
                  "60631",
                  "56127",
                  "55991",
                  "0%",
                  "1652 SOUTH CLIFTON AVENUE",
                  "60068"
                ],
                [
                  "41",
                  "42",
                  "Brendan Reilly",
                  "325 WEST HURON STREET, SUITE 510",
                  "60654",
                  "68102",
                  "55870",
                  "-18%",
                  "410-420 WEST GRAND AVENUE",
                  "60654"
                ],
                [
                  "42",
                  "43",
                  "Michelle Smith",
                  "2523 NORTH HALSTED STREET",
                  "60614",
                  "57668",
                  "56170",
                  "-3%",
                  "LINCOLN PARK ZOO 2001",
                  "60614"
                ],
                [
                  "43",
                  "44",
                  "Tom Tunney",
                  "3223 NORTH SHEFFIELD AVENUE",
                  "60657",
                  "58758",
                  "56058",
                  "-5%",
                  "507-513 WEST ALDINE AVENUE",
                  "60657"
                ],
                [
                  "44",
                  "45",
                  "John S. Arena",
                  "4754 NORTH MILWAUKEE AVENUE",
                  "60630",
                  "60653",
                  "55967",
                  "-8%",
                  "CONGREGATIONAL CHURCH OF JEFFERSON PARK 5320",
                  "60630"
                ],
                [
                  "45",
                  "46",
                  "James Cappleman",
                  "4544 NORTH BROADWAY AVENUE",
                  "60640",
                  "56587",
                  "53784",
                  "-5%",
                  "UPTOWN BROADWAY BUILDING 4743-4763",
                  "60640"
                ],
                [
                  "46",
                  "47",
                  "Ameya Pawar",
                  "4243 NORTH LINCOLN AVENUE",
                  "60618",
                  "52108",
                  "55074",
                  "6%",
                  "2153 WEST BERTEAU AVENUE",
                  "60618"
                ],
                [
                  "47",
                  "48",
                  "Harry Osterman",
                  "5533 NORTH BROADWAY AVENUE",
                  "60640",
                  "56246",
                  "55014",
                  "-2%",
                  "1025 WEST HOLLYWOOD AVENUE",
                  "60660"
                ],
                [
                  "48",
                  "49",
                  "Joe Moore",
                  "7356 NORTH GREENVIEW AVENUE",
                  "60626",
                  "59435",
                  "54633",
                  "-8%",
                  "1426 WEST ESTES AVENUE",
                  "60645"
                ],
                [
                  "49",
                  "50",
                  "Debra L. Silverstein",
                  "2949 WEST DEVON AVENUE, SUITE A",
                  "60659",
                  "62383",
                  "55809",
                  "-11%",
                  "2638 WEST NORTH SHORE AVENUE",
                  "60645"
                ]
              ],
              "shape": {
                "columns": 9,
                "rows": 50
              }
            },
            "text/html": [
              "<div>\n",
              "<style scoped>\n",
              "    .dataframe tbody tr th:only-of-type {\n",
              "        vertical-align: middle;\n",
              "    }\n",
              "\n",
              "    .dataframe tbody tr th {\n",
              "        vertical-align: top;\n",
              "    }\n",
              "\n",
              "    .dataframe thead th {\n",
              "        text-align: right;\n",
              "    }\n",
              "</style>\n",
              "<table border=\"1\" class=\"dataframe\">\n",
              "  <thead>\n",
              "    <tr style=\"text-align: right;\">\n",
              "      <th></th>\n",
              "      <th>ward</th>\n",
              "      <th>alderman</th>\n",
              "      <th>address_x</th>\n",
              "      <th>zip_x</th>\n",
              "      <th>pop_2000</th>\n",
              "      <th>pop_2010</th>\n",
              "      <th>change</th>\n",
              "      <th>address_y</th>\n",
              "      <th>zip_y</th>\n",
              "    </tr>\n",
              "  </thead>\n",
              "  <tbody>\n",
              "    <tr>\n",
              "      <th>0</th>\n",
              "      <td>1</td>\n",
              "      <td>Proco \"Joe\" Moreno</td>\n",
              "      <td>2058 NORTH WESTERN AVENUE</td>\n",
              "      <td>60647</td>\n",
              "      <td>52951</td>\n",
              "      <td>56149</td>\n",
              "      <td>6%</td>\n",
              "      <td>2765 WEST SAINT MARY STREET</td>\n",
              "      <td>60647</td>\n",
              "    </tr>\n",
              "    <tr>\n",
              "      <th>1</th>\n",
              "      <td>2</td>\n",
              "      <td>Brian Hopkins</td>\n",
              "      <td>1400 NORTH  ASHLAND AVENUE</td>\n",
              "      <td>60622</td>\n",
              "      <td>54361</td>\n",
              "      <td>55805</td>\n",
              "      <td>3%</td>\n",
              "      <td>WM WASTE MANAGEMENT 1500</td>\n",
              "      <td>60622</td>\n",
              "    </tr>\n",
              "    <tr>\n",
              "      <th>2</th>\n",
              "      <td>3</td>\n",
              "      <td>Pat Dowell</td>\n",
              "      <td>5046 SOUTH STATE STREET</td>\n",
              "      <td>60609</td>\n",
              "      <td>40385</td>\n",
              "      <td>53039</td>\n",
              "      <td>31%</td>\n",
              "      <td>17 EAST 38TH STREET</td>\n",
              "      <td>60653</td>\n",
              "    </tr>\n",
              "    <tr>\n",
              "      <th>3</th>\n",
              "      <td>4</td>\n",
              "      <td>William D. Burns</td>\n",
              "      <td>435 EAST 35TH STREET, 1ST FLOOR</td>\n",
              "      <td>60616</td>\n",
              "      <td>51953</td>\n",
              "      <td>54589</td>\n",
              "      <td>5%</td>\n",
              "      <td>31ST ST HARBOR BUILDING LAKEFRONT TRAIL</td>\n",
              "      <td>60653</td>\n",
              "    </tr>\n",
              "    <tr>\n",
              "      <th>4</th>\n",
              "      <td>5</td>\n",
              "      <td>Leslie A. Hairston</td>\n",
              "      <td>2325 EAST 71ST STREET</td>\n",
              "      <td>60649</td>\n",
              "      <td>55302</td>\n",
              "      <td>51455</td>\n",
              "      <td>-7%</td>\n",
              "      <td>JACKSON PARK LAGOON SOUTH CORNELL DRIVE</td>\n",
              "      <td>60637</td>\n",
              "    </tr>\n",
              "    <tr>\n",
              "      <th>5</th>\n",
              "      <td>6</td>\n",
              "      <td>Roderick T. Sawyer</td>\n",
              "      <td>8001 S. MARTIN LUTHER KING DRIVE</td>\n",
              "      <td>60619</td>\n",
              "      <td>54989</td>\n",
              "      <td>52341</td>\n",
              "      <td>-5%</td>\n",
              "      <td>150 WEST 74TH STREET</td>\n",
              "      <td>60636</td>\n",
              "    </tr>\n",
              "    <tr>\n",
              "      <th>6</th>\n",
              "      <td>7</td>\n",
              "      <td>Gregory I. Mitchell</td>\n",
              "      <td>2249 EAST 95TH STREET</td>\n",
              "      <td>60617</td>\n",
              "      <td>54593</td>\n",
              "      <td>51581</td>\n",
              "      <td>-6%</td>\n",
              "      <td>8549 SOUTH OGLESBY AVENUE</td>\n",
              "      <td>60617</td>\n",
              "    </tr>\n",
              "    <tr>\n",
              "      <th>7</th>\n",
              "      <td>8</td>\n",
              "      <td>Michelle A. Harris</td>\n",
              "      <td>8539 SOUTH COTTAGE GROVE AVENUE</td>\n",
              "      <td>60619</td>\n",
              "      <td>54039</td>\n",
              "      <td>51687</td>\n",
              "      <td>-4%</td>\n",
              "      <td>1346-1352 EAST 75TH STREET</td>\n",
              "      <td>60649</td>\n",
              "    </tr>\n",
              "    <tr>\n",
              "      <th>8</th>\n",
              "      <td>9</td>\n",
              "      <td>Anthony A. Beale</td>\n",
              "      <td>34 EAST 112TH PLACE</td>\n",
              "      <td>60628</td>\n",
              "      <td>52008</td>\n",
              "      <td>51519</td>\n",
              "      <td>-1%</td>\n",
              "      <td>11039-11059 SOUTH WENTWORTH AVENUE</td>\n",
              "      <td>60628</td>\n",
              "    </tr>\n",
              "    <tr>\n",
              "      <th>9</th>\n",
              "      <td>10</td>\n",
              "      <td>Susan Sadlowski Garza</td>\n",
              "      <td>10500 SOUTH EWING AVENUE</td>\n",
              "      <td>60617</td>\n",
              "      <td>56613</td>\n",
              "      <td>51535</td>\n",
              "      <td>-9%</td>\n",
              "      <td>10534 SOUTH AVENUE F</td>\n",
              "      <td>46394</td>\n",
              "    </tr>\n",
              "    <tr>\n",
              "      <th>10</th>\n",
              "      <td>11</td>\n",
              "      <td>Patrick Daley Thompson</td>\n",
              "      <td>3659 SOUTH HALSTED STREET</td>\n",
              "      <td>60609</td>\n",
              "      <td>64228</td>\n",
              "      <td>51497</td>\n",
              "      <td>-20%</td>\n",
              "      <td>943-947 WEST 14TH PLACE</td>\n",
              "      <td>60607</td>\n",
              "    </tr>\n",
              "    <tr>\n",
              "      <th>11</th>\n",
              "      <td>12</td>\n",
              "      <td>George Cardenas</td>\n",
              "      <td>3476 SOUTH ARCHER AVENUE</td>\n",
              "      <td>60608</td>\n",
              "      <td>68922</td>\n",
              "      <td>52235</td>\n",
              "      <td>-24%</td>\n",
              "      <td>CP 46 STEVENSON EXPRESSWAY</td>\n",
              "      <td>60632</td>\n",
              "    </tr>\n",
              "    <tr>\n",
              "      <th>12</th>\n",
              "      <td>13</td>\n",
              "      <td>Marty Quinn</td>\n",
              "      <td>6500 SOUTH PULASKI ROAD</td>\n",
              "      <td>60629</td>\n",
              "      <td>64382</td>\n",
              "      <td>53722</td>\n",
              "      <td>-17%</td>\n",
              "      <td>SOUTH RAMP SOUTH LARAMIE AVENUE</td>\n",
              "      <td>60638</td>\n",
              "    </tr>\n",
              "    <tr>\n",
              "      <th>13</th>\n",
              "      <td>14</td>\n",
              "      <td>Edward M. Burke</td>\n",
              "      <td>2650 WEST 51ST STREET</td>\n",
              "      <td>60632</td>\n",
              "      <td>80143</td>\n",
              "      <td>54031</td>\n",
              "      <td>-33%</td>\n",
              "      <td>4540 WEST 51ST STREET</td>\n",
              "      <td>60632</td>\n",
              "    </tr>\n",
              "    <tr>\n",
              "      <th>14</th>\n",
              "      <td>15</td>\n",
              "      <td>Raymond A. Lopez</td>\n",
              "      <td>1650 WEST 63RD STREET</td>\n",
              "      <td>60636</td>\n",
              "      <td>56057</td>\n",
              "      <td>51501</td>\n",
              "      <td>-8%</td>\n",
              "      <td>CHICAGO FIRE DEPARTMENT ENGINE COMPANY 123 2215</td>\n",
              "      <td>60632</td>\n",
              "    </tr>\n",
              "    <tr>\n",
              "      <th>15</th>\n",
              "      <td>16</td>\n",
              "      <td>Toni L. Foulkes</td>\n",
              "      <td>3045 WEST 63RD STREET</td>\n",
              "      <td>60629</td>\n",
              "      <td>50205</td>\n",
              "      <td>51954</td>\n",
              "      <td>3%</td>\n",
              "      <td>6036 SOUTH WOOD STREET</td>\n",
              "      <td>60636</td>\n",
              "    </tr>\n",
              "    <tr>\n",
              "      <th>16</th>\n",
              "      <td>17</td>\n",
              "      <td>David H. Moore</td>\n",
              "      <td>7313 SOUTH ASHLAND AVENUE</td>\n",
              "      <td>60636</td>\n",
              "      <td>49264</td>\n",
              "      <td>51846</td>\n",
              "      <td>5%</td>\n",
              "      <td>7216 SOUTH WINCHESTER AVENUE</td>\n",
              "      <td>60636</td>\n",
              "    </tr>\n",
              "    <tr>\n",
              "      <th>17</th>\n",
              "      <td>18</td>\n",
              "      <td>Derrick G. Curtis</td>\n",
              "      <td>8359 SOUTH PULASKI ROAD</td>\n",
              "      <td>60652</td>\n",
              "      <td>55043</td>\n",
              "      <td>52992</td>\n",
              "      <td>-4%</td>\n",
              "      <td>3286 WEST COLUMBUS AVENUE</td>\n",
              "      <td>60652</td>\n",
              "    </tr>\n",
              "    <tr>\n",
              "      <th>18</th>\n",
              "      <td>19</td>\n",
              "      <td>Matthew J. O'Shea</td>\n",
              "      <td>10400 SOUTH WESTERN AVENUE</td>\n",
              "      <td>60643</td>\n",
              "      <td>54546</td>\n",
              "      <td>51525</td>\n",
              "      <td>-6%</td>\n",
              "      <td>9999 SOUTH FRANCISCO AVENUE</td>\n",
              "      <td>60805</td>\n",
              "    </tr>\n",
              "    <tr>\n",
              "      <th>19</th>\n",
              "      <td>20</td>\n",
              "      <td>Willie B. Cochran</td>\n",
              "      <td>6357 SOUTH COTTAGE GROVE AVENUE</td>\n",
              "      <td>60637</td>\n",
              "      <td>51854</td>\n",
              "      <td>52372</td>\n",
              "      <td>1%</td>\n",
              "      <td>DAN RYAN EXPRESSWAY PARK MANOR</td>\n",
              "      <td>60621</td>\n",
              "    </tr>\n",
              "    <tr>\n",
              "      <th>20</th>\n",
              "      <td>21</td>\n",
              "      <td>Howard B. Brookins, Jr.</td>\n",
              "      <td>9011 SOUTH ASHLAND AVENUE, UNIT B</td>\n",
              "      <td>60620</td>\n",
              "      <td>51751</td>\n",
              "      <td>51632</td>\n",
              "      <td>0%</td>\n",
              "      <td>8852-8854 SOUTH EMERALD AVENUE</td>\n",
              "      <td>60620</td>\n",
              "    </tr>\n",
              "    <tr>\n",
              "      <th>21</th>\n",
              "      <td>22</td>\n",
              "      <td>Ricardo Munoz</td>\n",
              "      <td>2500 SOUTH ST. LOUIS AVENUE</td>\n",
              "      <td>60623</td>\n",
              "      <td>59734</td>\n",
              "      <td>53515</td>\n",
              "      <td>-10%</td>\n",
              "      <td>4233 WEST 36TH STREET</td>\n",
              "      <td>60632</td>\n",
              "    </tr>\n",
              "    <tr>\n",
              "      <th>22</th>\n",
              "      <td>23</td>\n",
              "      <td>Michael R. Zalewski</td>\n",
              "      <td>6247 SOUTH ARCHER AVENUE</td>\n",
              "      <td>60638</td>\n",
              "      <td>63691</td>\n",
              "      <td>53728</td>\n",
              "      <td>-16%</td>\n",
              "      <td>CHICAGO MIDWAY INTERNATIONAL AIRPORT WEST 62ND...</td>\n",
              "      <td>60629</td>\n",
              "    </tr>\n",
              "    <tr>\n",
              "      <th>23</th>\n",
              "      <td>24</td>\n",
              "      <td>Michael Scott, Jr.</td>\n",
              "      <td>1158 SOUTH KEELER AVENUE</td>\n",
              "      <td>60624</td>\n",
              "      <td>50879</td>\n",
              "      <td>54909</td>\n",
              "      <td>8%</td>\n",
              "      <td>1635 SOUTH CHRISTIANA AVENUE</td>\n",
              "      <td>60623</td>\n",
              "    </tr>\n",
              "    <tr>\n",
              "      <th>24</th>\n",
              "      <td>25</td>\n",
              "      <td>Daniel \"Danny\" Solis</td>\n",
              "      <td>1800 SOUTH BLUE ISLAND AVENUE</td>\n",
              "      <td>60608</td>\n",
              "      <td>55954</td>\n",
              "      <td>54539</td>\n",
              "      <td>-3%</td>\n",
              "      <td>1632-1746 SOUTH MILLER STREET</td>\n",
              "      <td>60608</td>\n",
              "    </tr>\n",
              "    <tr>\n",
              "      <th>25</th>\n",
              "      <td>26</td>\n",
              "      <td>Roberto Maldonado</td>\n",
              "      <td>2511 WEST DIVISION STREET</td>\n",
              "      <td>60622</td>\n",
              "      <td>56841</td>\n",
              "      <td>53516</td>\n",
              "      <td>-6%</td>\n",
              "      <td>LITTLE CUBS FIELD COMFORT STATION 1400</td>\n",
              "      <td>60622</td>\n",
              "    </tr>\n",
              "    <tr>\n",
              "      <th>26</th>\n",
              "      <td>27</td>\n",
              "      <td>Walter Burnett, Jr.</td>\n",
              "      <td>4 NORTH WESTERN AVENUE</td>\n",
              "      <td>60612</td>\n",
              "      <td>61287</td>\n",
              "      <td>52939</td>\n",
              "      <td>-14%</td>\n",
              "      <td>2151-2153 WEST CHICAGO AVENUE</td>\n",
              "      <td>60651</td>\n",
              "    </tr>\n",
              "    <tr>\n",
              "      <th>27</th>\n",
              "      <td>28</td>\n",
              "      <td>Jason C. Ervin</td>\n",
              "      <td>2602 WEST 16TH STREET</td>\n",
              "      <td>60612</td>\n",
              "      <td>49423</td>\n",
              "      <td>55199</td>\n",
              "      <td>12%</td>\n",
              "      <td>RML SPECIALTY HOSPITAL 3435</td>\n",
              "      <td>60624</td>\n",
              "    </tr>\n",
              "    <tr>\n",
              "      <th>28</th>\n",
              "      <td>29</td>\n",
              "      <td>Chris Taliaferro</td>\n",
              "      <td>6272 WEST NORTH AVENUE</td>\n",
              "      <td>60639</td>\n",
              "      <td>61949</td>\n",
              "      <td>55267</td>\n",
              "      <td>-11%</td>\n",
              "      <td>1241 NORTH RIDGELAND AVENUE</td>\n",
              "      <td>60302</td>\n",
              "    </tr>\n",
              "    <tr>\n",
              "      <th>29</th>\n",
              "      <td>30</td>\n",
              "      <td>Ariel E. Reyboras</td>\n",
              "      <td>3559 NORTH MILWAUKEE AVENUE</td>\n",
              "      <td>60641</td>\n",
              "      <td>72698</td>\n",
              "      <td>55560</td>\n",
              "      <td>-24%</td>\n",
              "      <td>5118 WEST FLETCHER STREET</td>\n",
              "      <td>60641</td>\n",
              "    </tr>\n",
              "    <tr>\n",
              "      <th>30</th>\n",
              "      <td>31</td>\n",
              "      <td>Milagros \"Milly\" Santiago</td>\n",
              "      <td>2521 NORTH PULASKI ROAD</td>\n",
              "      <td>60639</td>\n",
              "      <td>65045</td>\n",
              "      <td>53724</td>\n",
              "      <td>-17%</td>\n",
              "      <td>2854 NORTH KEATING AVENUE</td>\n",
              "      <td>60641</td>\n",
              "    </tr>\n",
              "    <tr>\n",
              "      <th>31</th>\n",
              "      <td>32</td>\n",
              "      <td>Scott Waguespack</td>\n",
              "      <td>2657 NORTH CLYBOURN AVENUE</td>\n",
              "      <td>60614</td>\n",
              "      <td>57204</td>\n",
              "      <td>55184</td>\n",
              "      <td>-4%</td>\n",
              "      <td>2901 NORTH WASHTENAW AVENUE</td>\n",
              "      <td>60618</td>\n",
              "    </tr>\n",
              "    <tr>\n",
              "      <th>32</th>\n",
              "      <td>33</td>\n",
              "      <td>Deborah Mell</td>\n",
              "      <td>3001 WEST IRVING PARK ROAD</td>\n",
              "      <td>60618</td>\n",
              "      <td>63695</td>\n",
              "      <td>55598</td>\n",
              "      <td>-13%</td>\n",
              "      <td>4041-4043 NORTH RICHMOND STREET</td>\n",
              "      <td>60625</td>\n",
              "    </tr>\n",
              "    <tr>\n",
              "      <th>33</th>\n",
              "      <td>34</td>\n",
              "      <td>Carrie M. Austin</td>\n",
              "      <td>507 WEST 111TH STREET</td>\n",
              "      <td>60628</td>\n",
              "      <td>49922</td>\n",
              "      <td>51599</td>\n",
              "      <td>3%</td>\n",
              "      <td>11544-11546 SOUTH PEORIA STREET</td>\n",
              "      <td>60827</td>\n",
              "    </tr>\n",
              "    <tr>\n",
              "      <th>34</th>\n",
              "      <td>35</td>\n",
              "      <td>Carlos Ramirez-Rosa</td>\n",
              "      <td>2710 NORTH SAWYER AVENUE</td>\n",
              "      <td>60647</td>\n",
              "      <td>57588</td>\n",
              "      <td>55281</td>\n",
              "      <td>-4%</td>\n",
              "      <td>3634 WEST BELMONT AVENUE</td>\n",
              "      <td>60618</td>\n",
              "    </tr>\n",
              "    <tr>\n",
              "      <th>35</th>\n",
              "      <td>36</td>\n",
              "      <td>Gilbert Villegas</td>\n",
              "      <td>6934 WEST DIVERSEY</td>\n",
              "      <td>60607</td>\n",
              "      <td>63376</td>\n",
              "      <td>54766</td>\n",
              "      <td>-14%</td>\n",
              "      <td>2918 NORTH RUTHERFORD AVENUE</td>\n",
              "      <td>60634</td>\n",
              "    </tr>\n",
              "    <tr>\n",
              "      <th>36</th>\n",
              "      <td>37</td>\n",
              "      <td>Emma M. Mitts</td>\n",
              "      <td>4924 WEST CHICAGO AVENUE</td>\n",
              "      <td>60651</td>\n",
              "      <td>56120</td>\n",
              "      <td>51538</td>\n",
              "      <td>-8%</td>\n",
              "      <td>4738-4748 WEST RICE STREET</td>\n",
              "      <td>60651</td>\n",
              "    </tr>\n",
              "    <tr>\n",
              "      <th>37</th>\n",
              "      <td>38</td>\n",
              "      <td>Nicholas Sposato</td>\n",
              "      <td>3821  NORTH HARLEM AVENUE</td>\n",
              "      <td>60634</td>\n",
              "      <td>66011</td>\n",
              "      <td>56001</td>\n",
              "      <td>-15%</td>\n",
              "      <td>7307-7331 WEST IRVING PARK ROAD</td>\n",
              "      <td>60706</td>\n",
              "    </tr>\n",
              "    <tr>\n",
              "      <th>38</th>\n",
              "      <td>39</td>\n",
              "      <td>Margaret Laurino</td>\n",
              "      <td>4404 WEST LAWRENCE AVENUE</td>\n",
              "      <td>60630</td>\n",
              "      <td>64291</td>\n",
              "      <td>55882</td>\n",
              "      <td>-13%</td>\n",
              "      <td>QUEEN OF ALL SAINTS BASILICA 6280</td>\n",
              "      <td>60646</td>\n",
              "    </tr>\n",
              "    <tr>\n",
              "      <th>39</th>\n",
              "      <td>40</td>\n",
              "      <td>Patrick J. O'Connor</td>\n",
              "      <td>5850 NORTH LINCOLN AVENUE</td>\n",
              "      <td>60659</td>\n",
              "      <td>58652</td>\n",
              "      <td>55319</td>\n",
              "      <td>-6%</td>\n",
              "      <td>5536 NORTH ARTESIAN AVENUE</td>\n",
              "      <td>60645</td>\n",
              "    </tr>\n",
              "    <tr>\n",
              "      <th>40</th>\n",
              "      <td>41</td>\n",
              "      <td>Anthony V. Napolitano</td>\n",
              "      <td>7442 NORTH HARLEM AVENUE</td>\n",
              "      <td>60631</td>\n",
              "      <td>56127</td>\n",
              "      <td>55991</td>\n",
              "      <td>0%</td>\n",
              "      <td>1652 SOUTH CLIFTON AVENUE</td>\n",
              "      <td>60068</td>\n",
              "    </tr>\n",
              "    <tr>\n",
              "      <th>41</th>\n",
              "      <td>42</td>\n",
              "      <td>Brendan Reilly</td>\n",
              "      <td>325 WEST HURON STREET, SUITE 510</td>\n",
              "      <td>60654</td>\n",
              "      <td>68102</td>\n",
              "      <td>55870</td>\n",
              "      <td>-18%</td>\n",
              "      <td>410-420 WEST GRAND AVENUE</td>\n",
              "      <td>60654</td>\n",
              "    </tr>\n",
              "    <tr>\n",
              "      <th>42</th>\n",
              "      <td>43</td>\n",
              "      <td>Michelle Smith</td>\n",
              "      <td>2523 NORTH HALSTED STREET</td>\n",
              "      <td>60614</td>\n",
              "      <td>57668</td>\n",
              "      <td>56170</td>\n",
              "      <td>-3%</td>\n",
              "      <td>LINCOLN PARK ZOO 2001</td>\n",
              "      <td>60614</td>\n",
              "    </tr>\n",
              "    <tr>\n",
              "      <th>43</th>\n",
              "      <td>44</td>\n",
              "      <td>Tom Tunney</td>\n",
              "      <td>3223 NORTH SHEFFIELD AVENUE</td>\n",
              "      <td>60657</td>\n",
              "      <td>58758</td>\n",
              "      <td>56058</td>\n",
              "      <td>-5%</td>\n",
              "      <td>507-513 WEST ALDINE AVENUE</td>\n",
              "      <td>60657</td>\n",
              "    </tr>\n",
              "    <tr>\n",
              "      <th>44</th>\n",
              "      <td>45</td>\n",
              "      <td>John S. Arena</td>\n",
              "      <td>4754 NORTH MILWAUKEE AVENUE</td>\n",
              "      <td>60630</td>\n",
              "      <td>60653</td>\n",
              "      <td>55967</td>\n",
              "      <td>-8%</td>\n",
              "      <td>CONGREGATIONAL CHURCH OF JEFFERSON PARK 5320</td>\n",
              "      <td>60630</td>\n",
              "    </tr>\n",
              "    <tr>\n",
              "      <th>45</th>\n",
              "      <td>46</td>\n",
              "      <td>James Cappleman</td>\n",
              "      <td>4544 NORTH BROADWAY AVENUE</td>\n",
              "      <td>60640</td>\n",
              "      <td>56587</td>\n",
              "      <td>53784</td>\n",
              "      <td>-5%</td>\n",
              "      <td>UPTOWN BROADWAY BUILDING 4743-4763</td>\n",
              "      <td>60640</td>\n",
              "    </tr>\n",
              "    <tr>\n",
              "      <th>46</th>\n",
              "      <td>47</td>\n",
              "      <td>Ameya Pawar</td>\n",
              "      <td>4243 NORTH LINCOLN AVENUE</td>\n",
              "      <td>60618</td>\n",
              "      <td>52108</td>\n",
              "      <td>55074</td>\n",
              "      <td>6%</td>\n",
              "      <td>2153 WEST BERTEAU AVENUE</td>\n",
              "      <td>60618</td>\n",
              "    </tr>\n",
              "    <tr>\n",
              "      <th>47</th>\n",
              "      <td>48</td>\n",
              "      <td>Harry Osterman</td>\n",
              "      <td>5533 NORTH BROADWAY AVENUE</td>\n",
              "      <td>60640</td>\n",
              "      <td>56246</td>\n",
              "      <td>55014</td>\n",
              "      <td>-2%</td>\n",
              "      <td>1025 WEST HOLLYWOOD AVENUE</td>\n",
              "      <td>60660</td>\n",
              "    </tr>\n",
              "    <tr>\n",
              "      <th>48</th>\n",
              "      <td>49</td>\n",
              "      <td>Joe Moore</td>\n",
              "      <td>7356 NORTH GREENVIEW AVENUE</td>\n",
              "      <td>60626</td>\n",
              "      <td>59435</td>\n",
              "      <td>54633</td>\n",
              "      <td>-8%</td>\n",
              "      <td>1426 WEST ESTES AVENUE</td>\n",
              "      <td>60645</td>\n",
              "    </tr>\n",
              "    <tr>\n",
              "      <th>49</th>\n",
              "      <td>50</td>\n",
              "      <td>Debra L. Silverstein</td>\n",
              "      <td>2949 WEST DEVON AVENUE, SUITE A</td>\n",
              "      <td>60659</td>\n",
              "      <td>62383</td>\n",
              "      <td>55809</td>\n",
              "      <td>-11%</td>\n",
              "      <td>2638 WEST NORTH SHORE AVENUE</td>\n",
              "      <td>60645</td>\n",
              "    </tr>\n",
              "  </tbody>\n",
              "</table>\n",
              "</div>"
            ],
            "text/plain": [
              "   ward                   alderman                          address_x  zip_x  \\\n",
              "0     1         Proco \"Joe\" Moreno          2058 NORTH WESTERN AVENUE  60647   \n",
              "1     2              Brian Hopkins         1400 NORTH  ASHLAND AVENUE  60622   \n",
              "2     3                 Pat Dowell            5046 SOUTH STATE STREET  60609   \n",
              "3     4           William D. Burns    435 EAST 35TH STREET, 1ST FLOOR  60616   \n",
              "4     5         Leslie A. Hairston              2325 EAST 71ST STREET  60649   \n",
              "5     6         Roderick T. Sawyer   8001 S. MARTIN LUTHER KING DRIVE  60619   \n",
              "6     7        Gregory I. Mitchell              2249 EAST 95TH STREET  60617   \n",
              "7     8         Michelle A. Harris    8539 SOUTH COTTAGE GROVE AVENUE  60619   \n",
              "8     9           Anthony A. Beale                34 EAST 112TH PLACE  60628   \n",
              "9    10      Susan Sadlowski Garza           10500 SOUTH EWING AVENUE  60617   \n",
              "10   11     Patrick Daley Thompson          3659 SOUTH HALSTED STREET  60609   \n",
              "11   12            George Cardenas           3476 SOUTH ARCHER AVENUE  60608   \n",
              "12   13                Marty Quinn            6500 SOUTH PULASKI ROAD  60629   \n",
              "13   14            Edward M. Burke              2650 WEST 51ST STREET  60632   \n",
              "14   15           Raymond A. Lopez              1650 WEST 63RD STREET  60636   \n",
              "15   16            Toni L. Foulkes              3045 WEST 63RD STREET  60629   \n",
              "16   17             David H. Moore          7313 SOUTH ASHLAND AVENUE  60636   \n",
              "17   18          Derrick G. Curtis            8359 SOUTH PULASKI ROAD  60652   \n",
              "18   19          Matthew J. O'Shea         10400 SOUTH WESTERN AVENUE  60643   \n",
              "19   20          Willie B. Cochran    6357 SOUTH COTTAGE GROVE AVENUE  60637   \n",
              "20   21    Howard B. Brookins, Jr.  9011 SOUTH ASHLAND AVENUE, UNIT B  60620   \n",
              "21   22              Ricardo Munoz        2500 SOUTH ST. LOUIS AVENUE  60623   \n",
              "22   23        Michael R. Zalewski           6247 SOUTH ARCHER AVENUE  60638   \n",
              "23   24         Michael Scott, Jr.           1158 SOUTH KEELER AVENUE  60624   \n",
              "24   25       Daniel \"Danny\" Solis      1800 SOUTH BLUE ISLAND AVENUE  60608   \n",
              "25   26          Roberto Maldonado          2511 WEST DIVISION STREET  60622   \n",
              "26   27        Walter Burnett, Jr.             4 NORTH WESTERN AVENUE  60612   \n",
              "27   28             Jason C. Ervin              2602 WEST 16TH STREET  60612   \n",
              "28   29           Chris Taliaferro             6272 WEST NORTH AVENUE  60639   \n",
              "29   30          Ariel E. Reyboras        3559 NORTH MILWAUKEE AVENUE  60641   \n",
              "30   31  Milagros \"Milly\" Santiago            2521 NORTH PULASKI ROAD  60639   \n",
              "31   32           Scott Waguespack         2657 NORTH CLYBOURN AVENUE  60614   \n",
              "32   33               Deborah Mell         3001 WEST IRVING PARK ROAD  60618   \n",
              "33   34           Carrie M. Austin              507 WEST 111TH STREET  60628   \n",
              "34   35        Carlos Ramirez-Rosa           2710 NORTH SAWYER AVENUE  60647   \n",
              "35   36           Gilbert Villegas                 6934 WEST DIVERSEY  60607   \n",
              "36   37              Emma M. Mitts           4924 WEST CHICAGO AVENUE  60651   \n",
              "37   38           Nicholas Sposato          3821  NORTH HARLEM AVENUE  60634   \n",
              "38   39           Margaret Laurino          4404 WEST LAWRENCE AVENUE  60630   \n",
              "39   40        Patrick J. O'Connor          5850 NORTH LINCOLN AVENUE  60659   \n",
              "40   41      Anthony V. Napolitano           7442 NORTH HARLEM AVENUE  60631   \n",
              "41   42             Brendan Reilly   325 WEST HURON STREET, SUITE 510  60654   \n",
              "42   43             Michelle Smith          2523 NORTH HALSTED STREET  60614   \n",
              "43   44                 Tom Tunney        3223 NORTH SHEFFIELD AVENUE  60657   \n",
              "44   45              John S. Arena        4754 NORTH MILWAUKEE AVENUE  60630   \n",
              "45   46            James Cappleman         4544 NORTH BROADWAY AVENUE  60640   \n",
              "46   47                Ameya Pawar          4243 NORTH LINCOLN AVENUE  60618   \n",
              "47   48             Harry Osterman         5533 NORTH BROADWAY AVENUE  60640   \n",
              "48   49                  Joe Moore        7356 NORTH GREENVIEW AVENUE  60626   \n",
              "49   50       Debra L. Silverstein    2949 WEST DEVON AVENUE, SUITE A  60659   \n",
              "\n",
              "    pop_2000  pop_2010 change  \\\n",
              "0      52951     56149     6%   \n",
              "1      54361     55805     3%   \n",
              "2      40385     53039    31%   \n",
              "3      51953     54589     5%   \n",
              "4      55302     51455    -7%   \n",
              "5      54989     52341    -5%   \n",
              "6      54593     51581    -6%   \n",
              "7      54039     51687    -4%   \n",
              "8      52008     51519    -1%   \n",
              "9      56613     51535    -9%   \n",
              "10     64228     51497   -20%   \n",
              "11     68922     52235   -24%   \n",
              "12     64382     53722   -17%   \n",
              "13     80143     54031   -33%   \n",
              "14     56057     51501    -8%   \n",
              "15     50205     51954     3%   \n",
              "16     49264     51846     5%   \n",
              "17     55043     52992    -4%   \n",
              "18     54546     51525    -6%   \n",
              "19     51854     52372     1%   \n",
              "20     51751     51632     0%   \n",
              "21     59734     53515   -10%   \n",
              "22     63691     53728   -16%   \n",
              "23     50879     54909     8%   \n",
              "24     55954     54539    -3%   \n",
              "25     56841     53516    -6%   \n",
              "26     61287     52939   -14%   \n",
              "27     49423     55199    12%   \n",
              "28     61949     55267   -11%   \n",
              "29     72698     55560   -24%   \n",
              "30     65045     53724   -17%   \n",
              "31     57204     55184    -4%   \n",
              "32     63695     55598   -13%   \n",
              "33     49922     51599     3%   \n",
              "34     57588     55281    -4%   \n",
              "35     63376     54766   -14%   \n",
              "36     56120     51538    -8%   \n",
              "37     66011     56001   -15%   \n",
              "38     64291     55882   -13%   \n",
              "39     58652     55319    -6%   \n",
              "40     56127     55991     0%   \n",
              "41     68102     55870   -18%   \n",
              "42     57668     56170    -3%   \n",
              "43     58758     56058    -5%   \n",
              "44     60653     55967    -8%   \n",
              "45     56587     53784    -5%   \n",
              "46     52108     55074     6%   \n",
              "47     56246     55014    -2%   \n",
              "48     59435     54633    -8%   \n",
              "49     62383     55809   -11%   \n",
              "\n",
              "                                            address_y  zip_y  \n",
              "0                         2765 WEST SAINT MARY STREET  60647  \n",
              "1                            WM WASTE MANAGEMENT 1500  60622  \n",
              "2                                 17 EAST 38TH STREET  60653  \n",
              "3             31ST ST HARBOR BUILDING LAKEFRONT TRAIL  60653  \n",
              "4             JACKSON PARK LAGOON SOUTH CORNELL DRIVE  60637  \n",
              "5                                150 WEST 74TH STREET  60636  \n",
              "6                           8549 SOUTH OGLESBY AVENUE  60617  \n",
              "7                          1346-1352 EAST 75TH STREET  60649  \n",
              "8                  11039-11059 SOUTH WENTWORTH AVENUE  60628  \n",
              "9                                10534 SOUTH AVENUE F  46394  \n",
              "10                            943-947 WEST 14TH PLACE  60607  \n",
              "11                         CP 46 STEVENSON EXPRESSWAY  60632  \n",
              "12                    SOUTH RAMP SOUTH LARAMIE AVENUE  60638  \n",
              "13                              4540 WEST 51ST STREET  60632  \n",
              "14    CHICAGO FIRE DEPARTMENT ENGINE COMPANY 123 2215  60632  \n",
              "15                             6036 SOUTH WOOD STREET  60636  \n",
              "16                       7216 SOUTH WINCHESTER AVENUE  60636  \n",
              "17                          3286 WEST COLUMBUS AVENUE  60652  \n",
              "18                        9999 SOUTH FRANCISCO AVENUE  60805  \n",
              "19                     DAN RYAN EXPRESSWAY PARK MANOR  60621  \n",
              "20                     8852-8854 SOUTH EMERALD AVENUE  60620  \n",
              "21                              4233 WEST 36TH STREET  60632  \n",
              "22  CHICAGO MIDWAY INTERNATIONAL AIRPORT WEST 62ND...  60629  \n",
              "23                       1635 SOUTH CHRISTIANA AVENUE  60623  \n",
              "24                      1632-1746 SOUTH MILLER STREET  60608  \n",
              "25             LITTLE CUBS FIELD COMFORT STATION 1400  60622  \n",
              "26                      2151-2153 WEST CHICAGO AVENUE  60651  \n",
              "27                        RML SPECIALTY HOSPITAL 3435  60624  \n",
              "28                        1241 NORTH RIDGELAND AVENUE  60302  \n",
              "29                          5118 WEST FLETCHER STREET  60641  \n",
              "30                          2854 NORTH KEATING AVENUE  60641  \n",
              "31                        2901 NORTH WASHTENAW AVENUE  60618  \n",
              "32                    4041-4043 NORTH RICHMOND STREET  60625  \n",
              "33                    11544-11546 SOUTH PEORIA STREET  60827  \n",
              "34                           3634 WEST BELMONT AVENUE  60618  \n",
              "35                       2918 NORTH RUTHERFORD AVENUE  60634  \n",
              "36                         4738-4748 WEST RICE STREET  60651  \n",
              "37                    7307-7331 WEST IRVING PARK ROAD  60706  \n",
              "38                  QUEEN OF ALL SAINTS BASILICA 6280  60646  \n",
              "39                         5536 NORTH ARTESIAN AVENUE  60645  \n",
              "40                          1652 SOUTH CLIFTON AVENUE  60068  \n",
              "41                          410-420 WEST GRAND AVENUE  60654  \n",
              "42                              LINCOLN PARK ZOO 2001  60614  \n",
              "43                         507-513 WEST ALDINE AVENUE  60657  \n",
              "44       CONGREGATIONAL CHURCH OF JEFFERSON PARK 5320  60630  \n",
              "45                 UPTOWN BROADWAY BUILDING 4743-4763  60640  \n",
              "46                           2153 WEST BERTEAU AVENUE  60618  \n",
              "47                         1025 WEST HOLLYWOOD AVENUE  60660  \n",
              "48                             1426 WEST ESTES AVENUE  60645  \n",
              "49                       2638 WEST NORTH SHORE AVENUE  60645  "
            ]
          },
          "execution_count": 15,
          "metadata": {},
          "output_type": "execute_result"
        }
      ],
      "source": [
        "# Merge wards and census on the ward column and save the result to wards_census.\n",
        "ward_census = wards.merge(census, on=\"ward\")\n",
        "ward_census\n"
      ]
    },
    {
      "cell_type": "markdown",
      "id": "d7c2b260",
      "metadata": {
        "id": "d7c2b260"
      },
      "source": [
        "# Merging Multiple DataFrames\n",
        "\n",
        "In practical data analysis, you frequently encounter scenarios where data is distributed across more than two tables—perhaps different files for different years, separate tables for related entities, or multiple sources tracking overlapping phenomena. The ability to **merge multiple DataFrames** is essential for building a unified, coherent dataset from fragmented sources. This task, while conceptually an extension of pairwise merging, introduces new technical and organisational considerations.\n",
        "\n",
        "This section presents a rigorous and pedagogical approach to merging more than two DataFrames in Pandas, emphasising underlying principles, technical best practices, and clear strategies for complex real-world workflows.\n",
        "\n",
        "## Why Merge Multiple Tables?\n",
        "\n",
        "**Normalised data:** Well-structured datasets are often “normalised,” with each table focusing on a single entity or relationship (e.g., users, transactions, products). <br>\n",
        "**Incremental enrichment:** You may need to successively enrich a “core” dataset by merging in supplementary information (demographics, geography, transactions, etc.).<br>\n",
        "**Time series and partitioned data:** Data split by year, month, or region often arrives as multiple files/tables requiring consolidation.<br>\n",
        "**Integrating data from multiple systems:** Merging is required to assemble a holistic view from various sources or platforms.\n",
        "\n",
        "## Principles and Theory: Merging Beyond Two Tables\n",
        "\n",
        "Theoretically, a **multi-way merge** can be decomposed into a sequence of binary (pairwise) merges. The result of each merge serves as the left table in the next merge, and so on.  \n",
        "However, practical complexities arise:\n",
        "**Consistent join keys:** All merges must use compatible keys; mismatched keys lead to data loss or duplication.<br>\n",
        "**Naming collisions:** Overlapping column names across tables require explicit disambiguation via `suffixes`.<br>\n",
        "**Data loss:** Each inner join restricts the dataset to rows common to all merged tables; outer joins preserve more data but may introduce missing values.\n",
        "\n",
        "## Single Merge vs. Multiple Merges\n",
        "\n",
        "### Single (Pairwise) Merge\n",
        "\n",
        "```python\n",
        "merged = pd.merge(table1, table2, on=\"id\")\n",
        "```\n",
        "- Simple, clear, and effective when you only need to combine two tables.\n",
        "\n",
        "### Merging Multiple Tables: Stepwise Approach\n",
        "\n",
        "To merge three or more tables, you typically proceed recursively:\n",
        "\n",
        "```python\n",
        "merged = pd.merge(table1, table2, on=\"id\", suffixes=(\"_t1\", \"_t2\"))\n",
        "merged = pd.merge(merged, table3, on=\"id\", suffixes=(\"\", \"_t3\"))\n",
        "```\n",
        "\n",
        "Each call combines the result of the previous merge with the next table, one at a time.\n",
        "\n",
        "### Example: Merging Multiple Tables with Composite Keys and Suffixes\n",
        "\n",
        "Suppose you have several tables sharing composite keys (multiple columns), and some columns overlap in name:\n",
        "\n",
        "```python\n",
        "merged = pd.merge(\n",
        "    table1,\n",
        "    table2,\n",
        "    on=[\"user_id\", \"date\"],\n",
        "    suffixes=(\"_t1\", \"_t2\")\n",
        ")\n",
        "merged = pd.merge(\n",
        "    merged,\n",
        "    table3,\n",
        "    on=[\"user_id\", \"date\"],\n",
        "    suffixes=(\"\", \"_t3\")\n",
        ")\n",
        "```\n",
        "- **Composite keys:** Use `on=[...]` to specify all join columns.\n",
        "- **Suffixes:** Avoid naming collisions as each table is added.\n",
        "\n",
        "## Chaining `.merge()` for Multiple DataFrames\n",
        "\n",
        "When merging more than two DataFrames that all share the same join key(s), Pandas allows you to **chain** `.merge()` calls. This produces concise, readable code and maintains clarity about the order and logic of each join.\n",
        "\n",
        "### Example: Merging Three or More Tables\n",
        "\n",
        "#### Merging Three Tables\n",
        "\n",
        "```python\n",
        "merged = df1.merge(df2, on=\"col\") \\\n",
        "            .merge(df3, on=\"col\")\n",
        "```\n",
        "- The result of the first merge (`df1` with `df2`) is merged immediately with `df3` on the same key.\n",
        "\n",
        "#### Merging Four Tables\n",
        "\n",
        "```python\n",
        "merged = df1.merge(df2, on=\"col\") \\\n",
        "            .merge(df3, on=\"col\") \\\n",
        "            .merge(df4, on=\"col\")\n",
        "```\n",
        "- The process is associative and left-to-right:  \n",
        "  `(((df1 + df2) + df3) + df4)`\n",
        "\n",
        "#### Merging Five or More Tables\n",
        "\n",
        "```python\n",
        "merged = df1.merge(df2, on=\"col\") \\\n",
        "            .merge(df3, on=\"col\") \\\n",
        "            .merge(df4, on=\"col\") \\\n",
        "            .merge(df5, on=\"col\")\n",
        "```\n",
        "- Each additional table is merged into the accumulating result.\n",
        "\n",
        "### Key Points and Best Practices\n",
        "\n",
        "1) **Consistent join key:** All tables must share the same key(s). For composite keys, use `on=[\"col1\", \"col2\"]`.\n",
        "2) **Suffixes for name collisions:** If non-key columns have the same names, manage them with `suffixes` in each call to avoid ambiguity.\n",
        "3) **Join type:** By default, `.merge()` performs an inner join. Specify `how=\"left\"` (or `\"outer\"`, etc.) if needed for your logic.\n",
        "4) **Readability:** For many tables or programmatic merges, consider using a loop or `functools.reduce()` for even greater generality and maintainability.\n",
        "\n",
        "### Programmatic Merging with a Loop\n",
        "\n",
        "If you have a list of DataFrames to merge:\n",
        "\n",
        "```python\n",
        "from functools import reduce\n",
        "\n",
        "merged = reduce(lambda left, right: left.merge(right, on=\"col\"), [df1, df2, df3, df4, df5])\n",
        "```\n",
        "This pattern is particularly useful when the number of tables is not known in advance (e.g., reading from a directory of CSV files).\n",
        "\n",
        "\n",
        "### Advanced: Different Join Keys and Suffixes\n",
        "\n",
        "If each merge uses different keys or needs custom suffixes, chain explicitly:\n",
        "\n",
        "```python\n",
        "merged = df1.merge(df2, on=\"key1\", suffixes=(\"_a\", \"_b\")) \\\n",
        "            .merge(df3, on=\"key2\", suffixes=(\"\", \"_c\")) \\\n",
        "            .merge(df4, on=\"key3\", suffixes=(\"\", \"_d\"))\n",
        "```\n",
        "\n"
      ]
    },
    {
      "cell_type": "code",
      "execution_count": 16,
      "id": "8b69a1a6",
      "metadata": {
        "id": "8b69a1a6"
      },
      "outputs": [],
      "source": [
        "licenses = pd.read_pickle(\"data/licenses.p\")\n",
        "biz_owners = pd.read_pickle(\"data/business_owners.p\")"
      ]
    },
    {
      "cell_type": "code",
      "execution_count": 17,
      "id": "20760643",
      "metadata": {
        "colab": {
          "base_uri": "https://localhost:8080/",
          "height": 276
        },
        "id": "20760643",
        "outputId": "b77060f4-49a2-48e8-c6fd-b175530d5fe7"
      },
      "outputs": [
        {
          "data": {
            "application/vnd.microsoft.datawrangler.viewer.v0+json": {
              "columns": [
                {
                  "name": "index",
                  "rawType": "int64",
                  "type": "integer"
                },
                {
                  "name": "account",
                  "rawType": "object",
                  "type": "string"
                },
                {
                  "name": "ward",
                  "rawType": "object",
                  "type": "string"
                },
                {
                  "name": "aid",
                  "rawType": "object",
                  "type": "unknown"
                },
                {
                  "name": "business",
                  "rawType": "object",
                  "type": "string"
                },
                {
                  "name": "address",
                  "rawType": "object",
                  "type": "string"
                },
                {
                  "name": "zip",
                  "rawType": "object",
                  "type": "string"
                }
              ],
              "ref": "fda3ebdb-5523-42d5-852f-fc396ff9d4c6",
              "rows": [
                [
                  "0",
                  "307071",
                  "3",
                  "743",
                  "REGGIE'S BAR & GRILL",
                  "2105 S STATE ST",
                  "60616"
                ],
                [
                  "1",
                  "10",
                  "10",
                  "829",
                  "HONEYBEERS",
                  "13200 S HOUSTON AVE",
                  "60633"
                ],
                [
                  "2",
                  "10002",
                  "14",
                  "775",
                  "CELINA DELI",
                  "5089 S ARCHER AVE",
                  "60632"
                ],
                [
                  "3",
                  "10005",
                  "12",
                  null,
                  "KRAFT FOODS NORTH AMERICA",
                  "2005 W 43RD ST",
                  "60609"
                ],
                [
                  "4",
                  "10044",
                  "44",
                  "638",
                  "NEYBOUR'S TAVERN & GRILLE",
                  "3651 N SOUTHPORT AVE",
                  "60613"
                ]
              ],
              "shape": {
                "columns": 6,
                "rows": 5
              }
            },
            "text/html": [
              "<div>\n",
              "<style scoped>\n",
              "    .dataframe tbody tr th:only-of-type {\n",
              "        vertical-align: middle;\n",
              "    }\n",
              "\n",
              "    .dataframe tbody tr th {\n",
              "        vertical-align: top;\n",
              "    }\n",
              "\n",
              "    .dataframe thead th {\n",
              "        text-align: right;\n",
              "    }\n",
              "</style>\n",
              "<table border=\"1\" class=\"dataframe\">\n",
              "  <thead>\n",
              "    <tr style=\"text-align: right;\">\n",
              "      <th></th>\n",
              "      <th>account</th>\n",
              "      <th>ward</th>\n",
              "      <th>aid</th>\n",
              "      <th>business</th>\n",
              "      <th>address</th>\n",
              "      <th>zip</th>\n",
              "    </tr>\n",
              "  </thead>\n",
              "  <tbody>\n",
              "    <tr>\n",
              "      <th>0</th>\n",
              "      <td>307071</td>\n",
              "      <td>3</td>\n",
              "      <td>743</td>\n",
              "      <td>REGGIE'S BAR &amp; GRILL</td>\n",
              "      <td>2105 S STATE ST</td>\n",
              "      <td>60616</td>\n",
              "    </tr>\n",
              "    <tr>\n",
              "      <th>1</th>\n",
              "      <td>10</td>\n",
              "      <td>10</td>\n",
              "      <td>829</td>\n",
              "      <td>HONEYBEERS</td>\n",
              "      <td>13200 S HOUSTON AVE</td>\n",
              "      <td>60633</td>\n",
              "    </tr>\n",
              "    <tr>\n",
              "      <th>2</th>\n",
              "      <td>10002</td>\n",
              "      <td>14</td>\n",
              "      <td>775</td>\n",
              "      <td>CELINA DELI</td>\n",
              "      <td>5089 S ARCHER AVE</td>\n",
              "      <td>60632</td>\n",
              "    </tr>\n",
              "    <tr>\n",
              "      <th>3</th>\n",
              "      <td>10005</td>\n",
              "      <td>12</td>\n",
              "      <td>NaN</td>\n",
              "      <td>KRAFT FOODS NORTH AMERICA</td>\n",
              "      <td>2005 W 43RD ST</td>\n",
              "      <td>60609</td>\n",
              "    </tr>\n",
              "    <tr>\n",
              "      <th>4</th>\n",
              "      <td>10044</td>\n",
              "      <td>44</td>\n",
              "      <td>638</td>\n",
              "      <td>NEYBOUR'S TAVERN &amp; GRILLE</td>\n",
              "      <td>3651 N SOUTHPORT AVE</td>\n",
              "      <td>60613</td>\n",
              "    </tr>\n",
              "  </tbody>\n",
              "</table>\n",
              "</div>"
            ],
            "text/plain": [
              "  account ward  aid                   business               address    zip\n",
              "0  307071    3  743       REGGIE'S BAR & GRILL       2105 S STATE ST  60616\n",
              "1      10   10  829                 HONEYBEERS   13200 S HOUSTON AVE  60633\n",
              "2   10002   14  775                CELINA DELI     5089 S ARCHER AVE  60632\n",
              "3   10005   12  NaN  KRAFT FOODS NORTH AMERICA        2005 W 43RD ST  60609\n",
              "4   10044   44  638  NEYBOUR'S TAVERN & GRILLE  3651 N SOUTHPORT AVE  60613"
            ]
          },
          "metadata": {},
          "output_type": "display_data"
        },
        {
          "data": {
            "text/plain": [
              "(10000, 6)"
            ]
          },
          "metadata": {},
          "output_type": "display_data"
        }
      ],
      "source": [
        "display(licenses.head())\n",
        "display(licenses.shape)"
      ]
    },
    {
      "cell_type": "code",
      "execution_count": 18,
      "id": "e1fda37b",
      "metadata": {
        "colab": {
          "base_uri": "https://localhost:8080/",
          "height": 224
        },
        "id": "e1fda37b",
        "outputId": "bed66cc1-7330-42f6-a45e-8e04dfcb3d9b"
      },
      "outputs": [
        {
          "data": {
            "application/vnd.microsoft.datawrangler.viewer.v0+json": {
              "columns": [
                {
                  "name": "index",
                  "rawType": "int64",
                  "type": "integer"
                },
                {
                  "name": "account",
                  "rawType": "object",
                  "type": "string"
                },
                {
                  "name": "first_name",
                  "rawType": "object",
                  "type": "string"
                },
                {
                  "name": "last_name",
                  "rawType": "object",
                  "type": "string"
                },
                {
                  "name": "title",
                  "rawType": "object",
                  "type": "string"
                }
              ],
              "ref": "0d30bd26-172b-46cc-8483-e1b29aa33432",
              "rows": [
                [
                  "0",
                  "10",
                  "PEARL",
                  "SHERMAN",
                  "PRESIDENT"
                ],
                [
                  "1",
                  "10",
                  "PEARL",
                  "SHERMAN",
                  "SECRETARY"
                ],
                [
                  "2",
                  "10002",
                  "WALTER",
                  "MROZEK",
                  "PARTNER"
                ],
                [
                  "3",
                  "10002",
                  "CELINA",
                  "BYRDAK",
                  "PARTNER"
                ],
                [
                  "4",
                  "10005",
                  "IRENE",
                  "ROSENFELD",
                  "PRESIDENT"
                ]
              ],
              "shape": {
                "columns": 4,
                "rows": 5
              }
            },
            "text/html": [
              "<div>\n",
              "<style scoped>\n",
              "    .dataframe tbody tr th:only-of-type {\n",
              "        vertical-align: middle;\n",
              "    }\n",
              "\n",
              "    .dataframe tbody tr th {\n",
              "        vertical-align: top;\n",
              "    }\n",
              "\n",
              "    .dataframe thead th {\n",
              "        text-align: right;\n",
              "    }\n",
              "</style>\n",
              "<table border=\"1\" class=\"dataframe\">\n",
              "  <thead>\n",
              "    <tr style=\"text-align: right;\">\n",
              "      <th></th>\n",
              "      <th>account</th>\n",
              "      <th>first_name</th>\n",
              "      <th>last_name</th>\n",
              "      <th>title</th>\n",
              "    </tr>\n",
              "  </thead>\n",
              "  <tbody>\n",
              "    <tr>\n",
              "      <th>0</th>\n",
              "      <td>10</td>\n",
              "      <td>PEARL</td>\n",
              "      <td>SHERMAN</td>\n",
              "      <td>PRESIDENT</td>\n",
              "    </tr>\n",
              "    <tr>\n",
              "      <th>1</th>\n",
              "      <td>10</td>\n",
              "      <td>PEARL</td>\n",
              "      <td>SHERMAN</td>\n",
              "      <td>SECRETARY</td>\n",
              "    </tr>\n",
              "    <tr>\n",
              "      <th>2</th>\n",
              "      <td>10002</td>\n",
              "      <td>WALTER</td>\n",
              "      <td>MROZEK</td>\n",
              "      <td>PARTNER</td>\n",
              "    </tr>\n",
              "    <tr>\n",
              "      <th>3</th>\n",
              "      <td>10002</td>\n",
              "      <td>CELINA</td>\n",
              "      <td>BYRDAK</td>\n",
              "      <td>PARTNER</td>\n",
              "    </tr>\n",
              "    <tr>\n",
              "      <th>4</th>\n",
              "      <td>10005</td>\n",
              "      <td>IRENE</td>\n",
              "      <td>ROSENFELD</td>\n",
              "      <td>PRESIDENT</td>\n",
              "    </tr>\n",
              "  </tbody>\n",
              "</table>\n",
              "</div>"
            ],
            "text/plain": [
              "  account first_name  last_name      title\n",
              "0      10      PEARL    SHERMAN  PRESIDENT\n",
              "1      10      PEARL    SHERMAN  SECRETARY\n",
              "2   10002     WALTER     MROZEK    PARTNER\n",
              "3   10002     CELINA     BYRDAK    PARTNER\n",
              "4   10005      IRENE  ROSENFELD  PRESIDENT"
            ]
          },
          "metadata": {},
          "output_type": "display_data"
        },
        {
          "data": {
            "text/plain": [
              "(21352, 4)"
            ]
          },
          "metadata": {},
          "output_type": "display_data"
        }
      ],
      "source": [
        "display(biz_owners.head())\n",
        "display(biz_owners.shape)"
      ]
    },
    {
      "cell_type": "code",
      "execution_count": 19,
      "id": "fd0b5169",
      "metadata": {
        "colab": {
          "base_uri": "https://localhost:8080/",
          "height": 400
        },
        "id": "fd0b5169",
        "outputId": "a5e13223-8efd-4a40-fedb-1ccfa46b7a05"
      },
      "outputs": [
        {
          "data": {
            "application/vnd.microsoft.datawrangler.viewer.v0+json": {
              "columns": [
                {
                  "name": "index",
                  "rawType": "int64",
                  "type": "integer"
                },
                {
                  "name": "ward",
                  "rawType": "object",
                  "type": "string"
                },
                {
                  "name": "alderman",
                  "rawType": "object",
                  "type": "string"
                },
                {
                  "name": "address_ward",
                  "rawType": "object",
                  "type": "string"
                },
                {
                  "name": "zip_ward",
                  "rawType": "object",
                  "type": "string"
                },
                {
                  "name": "account",
                  "rawType": "object",
                  "type": "string"
                },
                {
                  "name": "aid",
                  "rawType": "object",
                  "type": "unknown"
                },
                {
                  "name": "business",
                  "rawType": "object",
                  "type": "string"
                },
                {
                  "name": "address_lic",
                  "rawType": "object",
                  "type": "string"
                },
                {
                  "name": "zip_lic",
                  "rawType": "object",
                  "type": "string"
                }
              ],
              "ref": "f98ca743-9b99-45d3-819b-ad7a9413618e",
              "rows": [
                [
                  "0",
                  "1",
                  "Proco \"Joe\" Moreno",
                  "2058 NORTH WESTERN AVENUE",
                  "60647",
                  "12024",
                  null,
                  "DIGILOG ELECTRONICS",
                  "1038 N ASHLAND AVE",
                  "60622"
                ],
                [
                  "1",
                  "1",
                  "Proco \"Joe\" Moreno",
                  "2058 NORTH WESTERN AVENUE",
                  "60647",
                  "14446",
                  "743",
                  "EMPTY BOTTLE INC",
                  "1035 N WESTERN AVE 1ST",
                  "60622"
                ],
                [
                  "2",
                  "1",
                  "Proco \"Joe\" Moreno",
                  "2058 NORTH WESTERN AVENUE",
                  "60647",
                  "14624",
                  "775",
                  "LITTLE MEL'S HOT DOG",
                  "2205 N CALIFORNIA AVE",
                  "60647"
                ],
                [
                  "3",
                  "1",
                  "Proco \"Joe\" Moreno",
                  "2058 NORTH WESTERN AVENUE",
                  "60647",
                  "14987",
                  null,
                  "MR. BROWN'S LOUNGE",
                  "2301 W CHICAGO AVE 1ST",
                  "60622"
                ],
                [
                  "4",
                  "1",
                  "Proco \"Joe\" Moreno",
                  "2058 NORTH WESTERN AVENUE",
                  "60647",
                  "15642",
                  "814",
                  "Beat Kitchen",
                  "2000-2100 W DIVISION ST",
                  "60622"
                ]
              ],
              "shape": {
                "columns": 9,
                "rows": 5
              }
            },
            "text/html": [
              "<div>\n",
              "<style scoped>\n",
              "    .dataframe tbody tr th:only-of-type {\n",
              "        vertical-align: middle;\n",
              "    }\n",
              "\n",
              "    .dataframe tbody tr th {\n",
              "        vertical-align: top;\n",
              "    }\n",
              "\n",
              "    .dataframe thead th {\n",
              "        text-align: right;\n",
              "    }\n",
              "</style>\n",
              "<table border=\"1\" class=\"dataframe\">\n",
              "  <thead>\n",
              "    <tr style=\"text-align: right;\">\n",
              "      <th></th>\n",
              "      <th>ward</th>\n",
              "      <th>alderman</th>\n",
              "      <th>address_ward</th>\n",
              "      <th>zip_ward</th>\n",
              "      <th>account</th>\n",
              "      <th>aid</th>\n",
              "      <th>business</th>\n",
              "      <th>address_lic</th>\n",
              "      <th>zip_lic</th>\n",
              "    </tr>\n",
              "  </thead>\n",
              "  <tbody>\n",
              "    <tr>\n",
              "      <th>0</th>\n",
              "      <td>1</td>\n",
              "      <td>Proco \"Joe\" Moreno</td>\n",
              "      <td>2058 NORTH WESTERN AVENUE</td>\n",
              "      <td>60647</td>\n",
              "      <td>12024</td>\n",
              "      <td>NaN</td>\n",
              "      <td>DIGILOG ELECTRONICS</td>\n",
              "      <td>1038 N ASHLAND AVE</td>\n",
              "      <td>60622</td>\n",
              "    </tr>\n",
              "    <tr>\n",
              "      <th>1</th>\n",
              "      <td>1</td>\n",
              "      <td>Proco \"Joe\" Moreno</td>\n",
              "      <td>2058 NORTH WESTERN AVENUE</td>\n",
              "      <td>60647</td>\n",
              "      <td>14446</td>\n",
              "      <td>743</td>\n",
              "      <td>EMPTY BOTTLE INC</td>\n",
              "      <td>1035 N WESTERN AVE 1ST</td>\n",
              "      <td>60622</td>\n",
              "    </tr>\n",
              "    <tr>\n",
              "      <th>2</th>\n",
              "      <td>1</td>\n",
              "      <td>Proco \"Joe\" Moreno</td>\n",
              "      <td>2058 NORTH WESTERN AVENUE</td>\n",
              "      <td>60647</td>\n",
              "      <td>14624</td>\n",
              "      <td>775</td>\n",
              "      <td>LITTLE MEL'S HOT DOG</td>\n",
              "      <td>2205 N CALIFORNIA AVE</td>\n",
              "      <td>60647</td>\n",
              "    </tr>\n",
              "    <tr>\n",
              "      <th>3</th>\n",
              "      <td>1</td>\n",
              "      <td>Proco \"Joe\" Moreno</td>\n",
              "      <td>2058 NORTH WESTERN AVENUE</td>\n",
              "      <td>60647</td>\n",
              "      <td>14987</td>\n",
              "      <td>NaN</td>\n",
              "      <td>MR. BROWN'S LOUNGE</td>\n",
              "      <td>2301 W CHICAGO AVE 1ST</td>\n",
              "      <td>60622</td>\n",
              "    </tr>\n",
              "    <tr>\n",
              "      <th>4</th>\n",
              "      <td>1</td>\n",
              "      <td>Proco \"Joe\" Moreno</td>\n",
              "      <td>2058 NORTH WESTERN AVENUE</td>\n",
              "      <td>60647</td>\n",
              "      <td>15642</td>\n",
              "      <td>814</td>\n",
              "      <td>Beat Kitchen</td>\n",
              "      <td>2000-2100 W DIVISION ST</td>\n",
              "      <td>60622</td>\n",
              "    </tr>\n",
              "  </tbody>\n",
              "</table>\n",
              "</div>"
            ],
            "text/plain": [
              "  ward            alderman               address_ward zip_ward account  aid  \\\n",
              "0    1  Proco \"Joe\" Moreno  2058 NORTH WESTERN AVENUE    60647   12024  NaN   \n",
              "1    1  Proco \"Joe\" Moreno  2058 NORTH WESTERN AVENUE    60647   14446  743   \n",
              "2    1  Proco \"Joe\" Moreno  2058 NORTH WESTERN AVENUE    60647   14624  775   \n",
              "3    1  Proco \"Joe\" Moreno  2058 NORTH WESTERN AVENUE    60647   14987  NaN   \n",
              "4    1  Proco \"Joe\" Moreno  2058 NORTH WESTERN AVENUE    60647   15642  814   \n",
              "\n",
              "               business              address_lic zip_lic  \n",
              "0   DIGILOG ELECTRONICS       1038 N ASHLAND AVE   60622  \n",
              "1      EMPTY BOTTLE INC   1035 N WESTERN AVE 1ST   60622  \n",
              "2  LITTLE MEL'S HOT DOG    2205 N CALIFORNIA AVE   60647  \n",
              "3    MR. BROWN'S LOUNGE   2301 W CHICAGO AVE 1ST   60622  \n",
              "4          Beat Kitchen  2000-2100 W DIVISION ST   60622  "
            ]
          },
          "metadata": {},
          "output_type": "display_data"
        }
      ],
      "source": [
        "ward_licenses = wards.merge(licenses, on=\"ward\", suffixes=(\"_ward\", \"_lic\"))\n",
        "display(ward_licenses.head())"
      ]
    },
    {
      "cell_type": "markdown",
      "id": "30ac6232",
      "metadata": {
        "id": "30ac6232"
      },
      "source": [
        "### One-to-many merge\n",
        "A business may have one or multiple owners. In this exercise, you will continue to gain experience with one-to-many merges by merging a table of business owners, called `biz_owners`, to the `licenses` table. Recall from the video lesson, with a one-to-many relationship, a row in the left table may be repeated if it is related to multiple rows in the right table. In this lesson, you will explore this further by finding out what is the most common business owner title. (i.e., secretary, CEO, or vice president)"
      ]
    },
    {
      "cell_type": "code",
      "execution_count": 20,
      "id": "0f746631",
      "metadata": {
        "id": "0f746631"
      },
      "outputs": [],
      "source": [
        "# Starting with the licenses table on the left, merge it to the biz_owners table on the column account, and save the results to a variable named licenses_owners.\n",
        "licenses_owners = licenses.merge(biz_owners, on=\"account\")"
      ]
    },
    {
      "cell_type": "code",
      "execution_count": 21,
      "id": "dd8ee5a3",
      "metadata": {
        "colab": {
          "base_uri": "https://localhost:8080/",
          "height": 802
        },
        "id": "dd8ee5a3",
        "outputId": "b9a8196a-b298-465a-eff1-6056e2b2b486"
      },
      "outputs": [
        {
          "data": {
            "application/vnd.microsoft.datawrangler.viewer.v0+json": {
              "columns": [
                {
                  "name": "title",
                  "rawType": "object",
                  "type": "string"
                },
                {
                  "name": "account",
                  "rawType": "int64",
                  "type": "integer"
                }
              ],
              "ref": "64249868-2f1d-49c3-a18c-a26c2b6b6565",
              "rows": [
                [
                  "ASST. SECRETARY",
                  "111"
                ],
                [
                  "BENEFICIARY",
                  "4"
                ],
                [
                  "CEO",
                  "110"
                ],
                [
                  "DIRECTOR",
                  "146"
                ],
                [
                  "EXECUTIVE DIRECTOR",
                  "10"
                ],
                [
                  "GENERAL PARTNER",
                  "21"
                ],
                [
                  "INDIVIDUAL",
                  "268"
                ],
                [
                  "LIMITED PARTNER",
                  "26"
                ],
                [
                  "MANAGER",
                  "134"
                ],
                [
                  "MANAGING MEMBER",
                  "878"
                ],
                [
                  "MEMBER",
                  "884"
                ],
                [
                  "NOT APPLICABLE",
                  "11"
                ],
                [
                  "OTHER",
                  "1200"
                ],
                [
                  "PARTNER",
                  "451"
                ],
                [
                  "PRESIDENT",
                  "6259"
                ],
                [
                  "PRINCIPAL OFFICER",
                  "63"
                ],
                [
                  "SECRETARY",
                  "5205"
                ],
                [
                  "SHAREHOLDER",
                  "590"
                ],
                [
                  "SOLE PROPRIETOR",
                  "1658"
                ],
                [
                  "SPOUSE",
                  "34"
                ],
                [
                  "TREASURER",
                  "447"
                ],
                [
                  "TRUSTEE",
                  "6"
                ],
                [
                  "VICE PRESIDENT",
                  "970"
                ]
              ],
              "shape": {
                "columns": 1,
                "rows": 23
              }
            },
            "text/html": [
              "<div>\n",
              "<style scoped>\n",
              "    .dataframe tbody tr th:only-of-type {\n",
              "        vertical-align: middle;\n",
              "    }\n",
              "\n",
              "    .dataframe tbody tr th {\n",
              "        vertical-align: top;\n",
              "    }\n",
              "\n",
              "    .dataframe thead th {\n",
              "        text-align: right;\n",
              "    }\n",
              "</style>\n",
              "<table border=\"1\" class=\"dataframe\">\n",
              "  <thead>\n",
              "    <tr style=\"text-align: right;\">\n",
              "      <th></th>\n",
              "      <th>account</th>\n",
              "    </tr>\n",
              "    <tr>\n",
              "      <th>title</th>\n",
              "      <th></th>\n",
              "    </tr>\n",
              "  </thead>\n",
              "  <tbody>\n",
              "    <tr>\n",
              "      <th>ASST. SECRETARY</th>\n",
              "      <td>111</td>\n",
              "    </tr>\n",
              "    <tr>\n",
              "      <th>BENEFICIARY</th>\n",
              "      <td>4</td>\n",
              "    </tr>\n",
              "    <tr>\n",
              "      <th>CEO</th>\n",
              "      <td>110</td>\n",
              "    </tr>\n",
              "    <tr>\n",
              "      <th>DIRECTOR</th>\n",
              "      <td>146</td>\n",
              "    </tr>\n",
              "    <tr>\n",
              "      <th>EXECUTIVE DIRECTOR</th>\n",
              "      <td>10</td>\n",
              "    </tr>\n",
              "    <tr>\n",
              "      <th>GENERAL PARTNER</th>\n",
              "      <td>21</td>\n",
              "    </tr>\n",
              "    <tr>\n",
              "      <th>INDIVIDUAL</th>\n",
              "      <td>268</td>\n",
              "    </tr>\n",
              "    <tr>\n",
              "      <th>LIMITED PARTNER</th>\n",
              "      <td>26</td>\n",
              "    </tr>\n",
              "    <tr>\n",
              "      <th>MANAGER</th>\n",
              "      <td>134</td>\n",
              "    </tr>\n",
              "    <tr>\n",
              "      <th>MANAGING MEMBER</th>\n",
              "      <td>878</td>\n",
              "    </tr>\n",
              "    <tr>\n",
              "      <th>MEMBER</th>\n",
              "      <td>884</td>\n",
              "    </tr>\n",
              "    <tr>\n",
              "      <th>NOT APPLICABLE</th>\n",
              "      <td>11</td>\n",
              "    </tr>\n",
              "    <tr>\n",
              "      <th>OTHER</th>\n",
              "      <td>1200</td>\n",
              "    </tr>\n",
              "    <tr>\n",
              "      <th>PARTNER</th>\n",
              "      <td>451</td>\n",
              "    </tr>\n",
              "    <tr>\n",
              "      <th>PRESIDENT</th>\n",
              "      <td>6259</td>\n",
              "    </tr>\n",
              "    <tr>\n",
              "      <th>PRINCIPAL OFFICER</th>\n",
              "      <td>63</td>\n",
              "    </tr>\n",
              "    <tr>\n",
              "      <th>SECRETARY</th>\n",
              "      <td>5205</td>\n",
              "    </tr>\n",
              "    <tr>\n",
              "      <th>SHAREHOLDER</th>\n",
              "      <td>590</td>\n",
              "    </tr>\n",
              "    <tr>\n",
              "      <th>SOLE PROPRIETOR</th>\n",
              "      <td>1658</td>\n",
              "    </tr>\n",
              "    <tr>\n",
              "      <th>SPOUSE</th>\n",
              "      <td>34</td>\n",
              "    </tr>\n",
              "    <tr>\n",
              "      <th>TREASURER</th>\n",
              "      <td>447</td>\n",
              "    </tr>\n",
              "    <tr>\n",
              "      <th>TRUSTEE</th>\n",
              "      <td>6</td>\n",
              "    </tr>\n",
              "    <tr>\n",
              "      <th>VICE PRESIDENT</th>\n",
              "      <td>970</td>\n",
              "    </tr>\n",
              "  </tbody>\n",
              "</table>\n",
              "</div>"
            ],
            "text/plain": [
              "                    account\n",
              "title                      \n",
              "ASST. SECRETARY         111\n",
              "BENEFICIARY               4\n",
              "CEO                     110\n",
              "DIRECTOR                146\n",
              "EXECUTIVE DIRECTOR       10\n",
              "GENERAL PARTNER          21\n",
              "INDIVIDUAL              268\n",
              "LIMITED PARTNER          26\n",
              "MANAGER                 134\n",
              "MANAGING MEMBER         878\n",
              "MEMBER                  884\n",
              "NOT APPLICABLE           11\n",
              "OTHER                  1200\n",
              "PARTNER                 451\n",
              "PRESIDENT              6259\n",
              "PRINCIPAL OFFICER        63\n",
              "SECRETARY              5205\n",
              "SHAREHOLDER             590\n",
              "SOLE PROPRIETOR        1658\n",
              "SPOUSE                   34\n",
              "TREASURER               447\n",
              "TRUSTEE                   6\n",
              "VICE PRESIDENT          970"
            ]
          },
          "execution_count": 21,
          "metadata": {},
          "output_type": "execute_result"
        }
      ],
      "source": [
        "# Group the licenses_owners dataframe by the 'title' column to analyze business owner titles\n",
        "# Use the agg() function with a dictionary to specify aggregation operations for specific columns\n",
        "# The dictionary format is: {'column_name': 'aggregation_function'}\n",
        "counted_df = licenses_owners.groupby(\"title\").agg({\"account\":\"count\"})\n",
        "counted_df"
      ]
    },
    {
      "cell_type": "code",
      "execution_count": 22,
      "id": "1eb385ec",
      "metadata": {
        "colab": {
          "base_uri": "https://localhost:8080/",
          "height": 238
        },
        "id": "1eb385ec",
        "outputId": "755ada02-86ad-4e7c-e912-39f90cdc7060"
      },
      "outputs": [
        {
          "data": {
            "application/vnd.microsoft.datawrangler.viewer.v0+json": {
              "columns": [
                {
                  "name": "title",
                  "rawType": "object",
                  "type": "string"
                },
                {
                  "name": "account",
                  "rawType": "int64",
                  "type": "integer"
                }
              ],
              "ref": "d4e67e62-c8e0-4861-905f-73043f1ca888",
              "rows": [
                [
                  "PRESIDENT",
                  "6259"
                ],
                [
                  "SECRETARY",
                  "5205"
                ],
                [
                  "SOLE PROPRIETOR",
                  "1658"
                ],
                [
                  "OTHER",
                  "1200"
                ],
                [
                  "VICE PRESIDENT",
                  "970"
                ]
              ],
              "shape": {
                "columns": 1,
                "rows": 5
              }
            },
            "text/html": [
              "<div>\n",
              "<style scoped>\n",
              "    .dataframe tbody tr th:only-of-type {\n",
              "        vertical-align: middle;\n",
              "    }\n",
              "\n",
              "    .dataframe tbody tr th {\n",
              "        vertical-align: top;\n",
              "    }\n",
              "\n",
              "    .dataframe thead th {\n",
              "        text-align: right;\n",
              "    }\n",
              "</style>\n",
              "<table border=\"1\" class=\"dataframe\">\n",
              "  <thead>\n",
              "    <tr style=\"text-align: right;\">\n",
              "      <th></th>\n",
              "      <th>account</th>\n",
              "    </tr>\n",
              "    <tr>\n",
              "      <th>title</th>\n",
              "      <th></th>\n",
              "    </tr>\n",
              "  </thead>\n",
              "  <tbody>\n",
              "    <tr>\n",
              "      <th>PRESIDENT</th>\n",
              "      <td>6259</td>\n",
              "    </tr>\n",
              "    <tr>\n",
              "      <th>SECRETARY</th>\n",
              "      <td>5205</td>\n",
              "    </tr>\n",
              "    <tr>\n",
              "      <th>SOLE PROPRIETOR</th>\n",
              "      <td>1658</td>\n",
              "    </tr>\n",
              "    <tr>\n",
              "      <th>OTHER</th>\n",
              "      <td>1200</td>\n",
              "    </tr>\n",
              "    <tr>\n",
              "      <th>VICE PRESIDENT</th>\n",
              "      <td>970</td>\n",
              "    </tr>\n",
              "  </tbody>\n",
              "</table>\n",
              "</div>"
            ],
            "text/plain": [
              "                 account\n",
              "title                   \n",
              "PRESIDENT           6259\n",
              "SECRETARY           5205\n",
              "SOLE PROPRIETOR     1658\n",
              "OTHER               1200\n",
              "VICE PRESIDENT       970"
            ]
          },
          "metadata": {},
          "output_type": "display_data"
        }
      ],
      "source": [
        "# Sort counted_df by the number of accounts in descending order, and save this as a variable named sorted_df.\n",
        "sorted_df = counted_df.sort_values(by=\"account\", ascending=False)\n",
        "display(sorted_df.head())"
      ]
    },
    {
      "cell_type": "markdown",
      "id": "e0270089",
      "metadata": {
        "id": "e0270089"
      },
      "source": [
        "### Total riders in a month\n",
        "Your goal is to find the total number of rides provided to passengers passing through the Wilson station (`station_name == 'Wilson'`) when riding Chicago's public transportation system on weekdays (`day_type == 'Weekday'`) in July (`month == 7`). Luckily, Chicago provides this detailed data, but it is in three different tables. You will work on merging these tables together to answer the question. This data is different from the business related data you have seen so far, but all the information you need to answer the question is provided."
      ]
    },
    {
      "cell_type": "code",
      "execution_count": 23,
      "id": "936ce396",
      "metadata": {
        "id": "936ce396"
      },
      "outputs": [],
      "source": [
        "cal = pd.read_pickle(\"data/cta_calendar.p\")\n",
        "ridership = pd.read_pickle(\"data/cta_ridership.p\")\n",
        "stations = pd.read_pickle(\"data/stations.p\")"
      ]
    },
    {
      "cell_type": "code",
      "execution_count": 24,
      "id": "67c0f0a9",
      "metadata": {
        "colab": {
          "base_uri": "https://localhost:8080/",
          "height": 206
        },
        "id": "67c0f0a9",
        "outputId": "89dd6dac-01e1-4110-d79f-64ffcd61fd98"
      },
      "outputs": [
        {
          "data": {
            "application/vnd.microsoft.datawrangler.viewer.v0+json": {
              "columns": [
                {
                  "name": "index",
                  "rawType": "int64",
                  "type": "integer"
                },
                {
                  "name": "year",
                  "rawType": "int64",
                  "type": "integer"
                },
                {
                  "name": "month",
                  "rawType": "int64",
                  "type": "integer"
                },
                {
                  "name": "day",
                  "rawType": "int64",
                  "type": "integer"
                },
                {
                  "name": "day_type",
                  "rawType": "object",
                  "type": "string"
                }
              ],
              "ref": "99b60c00-23d3-4709-a209-1f909766e762",
              "rows": [
                [
                  "0",
                  "2019",
                  "1",
                  "1",
                  "Sunday/Holiday"
                ],
                [
                  "1",
                  "2019",
                  "1",
                  "2",
                  "Weekday"
                ],
                [
                  "2",
                  "2019",
                  "1",
                  "3",
                  "Weekday"
                ],
                [
                  "3",
                  "2019",
                  "1",
                  "4",
                  "Weekday"
                ],
                [
                  "4",
                  "2019",
                  "1",
                  "5",
                  "Saturday"
                ]
              ],
              "shape": {
                "columns": 4,
                "rows": 5
              }
            },
            "text/html": [
              "<div>\n",
              "<style scoped>\n",
              "    .dataframe tbody tr th:only-of-type {\n",
              "        vertical-align: middle;\n",
              "    }\n",
              "\n",
              "    .dataframe tbody tr th {\n",
              "        vertical-align: top;\n",
              "    }\n",
              "\n",
              "    .dataframe thead th {\n",
              "        text-align: right;\n",
              "    }\n",
              "</style>\n",
              "<table border=\"1\" class=\"dataframe\">\n",
              "  <thead>\n",
              "    <tr style=\"text-align: right;\">\n",
              "      <th></th>\n",
              "      <th>year</th>\n",
              "      <th>month</th>\n",
              "      <th>day</th>\n",
              "      <th>day_type</th>\n",
              "    </tr>\n",
              "  </thead>\n",
              "  <tbody>\n",
              "    <tr>\n",
              "      <th>0</th>\n",
              "      <td>2019</td>\n",
              "      <td>1</td>\n",
              "      <td>1</td>\n",
              "      <td>Sunday/Holiday</td>\n",
              "    </tr>\n",
              "    <tr>\n",
              "      <th>1</th>\n",
              "      <td>2019</td>\n",
              "      <td>1</td>\n",
              "      <td>2</td>\n",
              "      <td>Weekday</td>\n",
              "    </tr>\n",
              "    <tr>\n",
              "      <th>2</th>\n",
              "      <td>2019</td>\n",
              "      <td>1</td>\n",
              "      <td>3</td>\n",
              "      <td>Weekday</td>\n",
              "    </tr>\n",
              "    <tr>\n",
              "      <th>3</th>\n",
              "      <td>2019</td>\n",
              "      <td>1</td>\n",
              "      <td>4</td>\n",
              "      <td>Weekday</td>\n",
              "    </tr>\n",
              "    <tr>\n",
              "      <th>4</th>\n",
              "      <td>2019</td>\n",
              "      <td>1</td>\n",
              "      <td>5</td>\n",
              "      <td>Saturday</td>\n",
              "    </tr>\n",
              "  </tbody>\n",
              "</table>\n",
              "</div>"
            ],
            "text/plain": [
              "   year  month  day        day_type\n",
              "0  2019      1    1  Sunday/Holiday\n",
              "1  2019      1    2         Weekday\n",
              "2  2019      1    3         Weekday\n",
              "3  2019      1    4         Weekday\n",
              "4  2019      1    5        Saturday"
            ]
          },
          "execution_count": 24,
          "metadata": {},
          "output_type": "execute_result"
        }
      ],
      "source": [
        "cal.head()"
      ]
    },
    {
      "cell_type": "code",
      "execution_count": 25,
      "id": "6912285a",
      "metadata": {
        "colab": {
          "base_uri": "https://localhost:8080/",
          "height": 206
        },
        "id": "6912285a",
        "outputId": "665c8df3-7e60-4cce-b646-08627f6c88ee"
      },
      "outputs": [
        {
          "data": {
            "application/vnd.microsoft.datawrangler.viewer.v0+json": {
              "columns": [
                {
                  "name": "index",
                  "rawType": "int64",
                  "type": "integer"
                },
                {
                  "name": "station_id",
                  "rawType": "object",
                  "type": "string"
                },
                {
                  "name": "year",
                  "rawType": "int64",
                  "type": "integer"
                },
                {
                  "name": "month",
                  "rawType": "int64",
                  "type": "integer"
                },
                {
                  "name": "day",
                  "rawType": "int64",
                  "type": "integer"
                },
                {
                  "name": "rides",
                  "rawType": "int64",
                  "type": "integer"
                }
              ],
              "ref": "64864650-1492-4904-b27a-9eb014337cea",
              "rows": [
                [
                  "0",
                  "40010",
                  "2019",
                  "1",
                  "1",
                  "576"
                ],
                [
                  "1",
                  "40010",
                  "2019",
                  "1",
                  "2",
                  "1457"
                ],
                [
                  "2",
                  "40010",
                  "2019",
                  "1",
                  "3",
                  "1543"
                ],
                [
                  "3",
                  "40010",
                  "2019",
                  "1",
                  "4",
                  "1621"
                ],
                [
                  "4",
                  "40010",
                  "2019",
                  "1",
                  "5",
                  "719"
                ]
              ],
              "shape": {
                "columns": 5,
                "rows": 5
              }
            },
            "text/html": [
              "<div>\n",
              "<style scoped>\n",
              "    .dataframe tbody tr th:only-of-type {\n",
              "        vertical-align: middle;\n",
              "    }\n",
              "\n",
              "    .dataframe tbody tr th {\n",
              "        vertical-align: top;\n",
              "    }\n",
              "\n",
              "    .dataframe thead th {\n",
              "        text-align: right;\n",
              "    }\n",
              "</style>\n",
              "<table border=\"1\" class=\"dataframe\">\n",
              "  <thead>\n",
              "    <tr style=\"text-align: right;\">\n",
              "      <th></th>\n",
              "      <th>station_id</th>\n",
              "      <th>year</th>\n",
              "      <th>month</th>\n",
              "      <th>day</th>\n",
              "      <th>rides</th>\n",
              "    </tr>\n",
              "  </thead>\n",
              "  <tbody>\n",
              "    <tr>\n",
              "      <th>0</th>\n",
              "      <td>40010</td>\n",
              "      <td>2019</td>\n",
              "      <td>1</td>\n",
              "      <td>1</td>\n",
              "      <td>576</td>\n",
              "    </tr>\n",
              "    <tr>\n",
              "      <th>1</th>\n",
              "      <td>40010</td>\n",
              "      <td>2019</td>\n",
              "      <td>1</td>\n",
              "      <td>2</td>\n",
              "      <td>1457</td>\n",
              "    </tr>\n",
              "    <tr>\n",
              "      <th>2</th>\n",
              "      <td>40010</td>\n",
              "      <td>2019</td>\n",
              "      <td>1</td>\n",
              "      <td>3</td>\n",
              "      <td>1543</td>\n",
              "    </tr>\n",
              "    <tr>\n",
              "      <th>3</th>\n",
              "      <td>40010</td>\n",
              "      <td>2019</td>\n",
              "      <td>1</td>\n",
              "      <td>4</td>\n",
              "      <td>1621</td>\n",
              "    </tr>\n",
              "    <tr>\n",
              "      <th>4</th>\n",
              "      <td>40010</td>\n",
              "      <td>2019</td>\n",
              "      <td>1</td>\n",
              "      <td>5</td>\n",
              "      <td>719</td>\n",
              "    </tr>\n",
              "  </tbody>\n",
              "</table>\n",
              "</div>"
            ],
            "text/plain": [
              "  station_id  year  month  day  rides\n",
              "0      40010  2019      1    1    576\n",
              "1      40010  2019      1    2   1457\n",
              "2      40010  2019      1    3   1543\n",
              "3      40010  2019      1    4   1621\n",
              "4      40010  2019      1    5    719"
            ]
          },
          "execution_count": 25,
          "metadata": {},
          "output_type": "execute_result"
        }
      ],
      "source": [
        "ridership.head()"
      ]
    },
    {
      "cell_type": "code",
      "execution_count": 26,
      "id": "3315ae2b",
      "metadata": {
        "colab": {
          "base_uri": "https://localhost:8080/",
          "height": 206
        },
        "id": "3315ae2b",
        "outputId": "5b7ae2ef-3413-4f5d-db7c-8517441a45c4"
      },
      "outputs": [
        {
          "data": {
            "application/vnd.microsoft.datawrangler.viewer.v0+json": {
              "columns": [
                {
                  "name": "index",
                  "rawType": "int64",
                  "type": "integer"
                },
                {
                  "name": "station_id",
                  "rawType": "object",
                  "type": "string"
                },
                {
                  "name": "station_name",
                  "rawType": "object",
                  "type": "string"
                },
                {
                  "name": "location",
                  "rawType": "object",
                  "type": "string"
                }
              ],
              "ref": "02a52e0b-2468-4840-8984-e662762281ef",
              "rows": [
                [
                  "0",
                  "40010",
                  "Austin-Forest Park",
                  "(41.870851, -87.776812)"
                ],
                [
                  "1",
                  "40020",
                  "Harlem-Lake",
                  "(41.886848, -87.803176)"
                ],
                [
                  "2",
                  "40030",
                  "Pulaski-Lake",
                  "(41.885412, -87.725404)"
                ],
                [
                  "3",
                  "40040",
                  "Quincy/Wells",
                  "(41.878723, -87.63374)"
                ],
                [
                  "4",
                  "40050",
                  "Davis",
                  "(42.04771, -87.683543)"
                ]
              ],
              "shape": {
                "columns": 3,
                "rows": 5
              }
            },
            "text/html": [
              "<div>\n",
              "<style scoped>\n",
              "    .dataframe tbody tr th:only-of-type {\n",
              "        vertical-align: middle;\n",
              "    }\n",
              "\n",
              "    .dataframe tbody tr th {\n",
              "        vertical-align: top;\n",
              "    }\n",
              "\n",
              "    .dataframe thead th {\n",
              "        text-align: right;\n",
              "    }\n",
              "</style>\n",
              "<table border=\"1\" class=\"dataframe\">\n",
              "  <thead>\n",
              "    <tr style=\"text-align: right;\">\n",
              "      <th></th>\n",
              "      <th>station_id</th>\n",
              "      <th>station_name</th>\n",
              "      <th>location</th>\n",
              "    </tr>\n",
              "  </thead>\n",
              "  <tbody>\n",
              "    <tr>\n",
              "      <th>0</th>\n",
              "      <td>40010</td>\n",
              "      <td>Austin-Forest Park</td>\n",
              "      <td>(41.870851, -87.776812)</td>\n",
              "    </tr>\n",
              "    <tr>\n",
              "      <th>1</th>\n",
              "      <td>40020</td>\n",
              "      <td>Harlem-Lake</td>\n",
              "      <td>(41.886848, -87.803176)</td>\n",
              "    </tr>\n",
              "    <tr>\n",
              "      <th>2</th>\n",
              "      <td>40030</td>\n",
              "      <td>Pulaski-Lake</td>\n",
              "      <td>(41.885412, -87.725404)</td>\n",
              "    </tr>\n",
              "    <tr>\n",
              "      <th>3</th>\n",
              "      <td>40040</td>\n",
              "      <td>Quincy/Wells</td>\n",
              "      <td>(41.878723, -87.63374)</td>\n",
              "    </tr>\n",
              "    <tr>\n",
              "      <th>4</th>\n",
              "      <td>40050</td>\n",
              "      <td>Davis</td>\n",
              "      <td>(42.04771, -87.683543)</td>\n",
              "    </tr>\n",
              "  </tbody>\n",
              "</table>\n",
              "</div>"
            ],
            "text/plain": [
              "  station_id        station_name                 location\n",
              "0      40010  Austin-Forest Park  (41.870851, -87.776812)\n",
              "1      40020         Harlem-Lake  (41.886848, -87.803176)\n",
              "2      40030        Pulaski-Lake  (41.885412, -87.725404)\n",
              "3      40040        Quincy/Wells   (41.878723, -87.63374)\n",
              "4      40050               Davis   (42.04771, -87.683543)"
            ]
          },
          "execution_count": 26,
          "metadata": {},
          "output_type": "execute_result"
        }
      ],
      "source": [
        "stations.head()"
      ]
    },
    {
      "cell_type": "code",
      "execution_count": 27,
      "id": "1a2b696e",
      "metadata": {
        "colab": {
          "base_uri": "https://localhost:8080/",
          "height": 424
        },
        "id": "1a2b696e",
        "outputId": "a28c0004-bb08-4609-a9d8-7314cd4d5ed9"
      },
      "outputs": [
        {
          "data": {
            "application/vnd.microsoft.datawrangler.viewer.v0+json": {
              "columns": [
                {
                  "name": "index",
                  "rawType": "int64",
                  "type": "integer"
                },
                {
                  "name": "station_id",
                  "rawType": "object",
                  "type": "string"
                },
                {
                  "name": "year",
                  "rawType": "int64",
                  "type": "integer"
                },
                {
                  "name": "month",
                  "rawType": "int64",
                  "type": "integer"
                },
                {
                  "name": "day",
                  "rawType": "int64",
                  "type": "integer"
                },
                {
                  "name": "rides",
                  "rawType": "int64",
                  "type": "integer"
                },
                {
                  "name": "day_type",
                  "rawType": "object",
                  "type": "string"
                }
              ],
              "ref": "d624eda0-e1f1-411d-b3c2-a734d7f45693",
              "rows": [
                [
                  "0",
                  "40010",
                  "2019",
                  "1",
                  "1",
                  "576",
                  "Sunday/Holiday"
                ],
                [
                  "1",
                  "40010",
                  "2019",
                  "1",
                  "2",
                  "1457",
                  "Weekday"
                ],
                [
                  "2",
                  "40010",
                  "2019",
                  "1",
                  "3",
                  "1543",
                  "Weekday"
                ],
                [
                  "3",
                  "40010",
                  "2019",
                  "1",
                  "4",
                  "1621",
                  "Weekday"
                ],
                [
                  "4",
                  "40010",
                  "2019",
                  "1",
                  "5",
                  "719",
                  "Saturday"
                ],
                [
                  "5",
                  "40010",
                  "2019",
                  "1",
                  "6",
                  "554",
                  "Sunday/Holiday"
                ],
                [
                  "6",
                  "40010",
                  "2019",
                  "1",
                  "7",
                  "1714",
                  "Weekday"
                ],
                [
                  "7",
                  "40010",
                  "2019",
                  "1",
                  "8",
                  "1868",
                  "Weekday"
                ],
                [
                  "8",
                  "40010",
                  "2019",
                  "1",
                  "9",
                  "1811",
                  "Weekday"
                ],
                [
                  "9",
                  "40010",
                  "2019",
                  "1",
                  "10",
                  "1805",
                  "Weekday"
                ],
                [
                  "10",
                  "40010",
                  "2019",
                  "1",
                  "11",
                  "1697",
                  "Weekday"
                ],
                [
                  "11",
                  "40010",
                  "2019",
                  "1",
                  "12",
                  "679",
                  "Saturday"
                ],
                [
                  "12",
                  "40010",
                  "2019",
                  "1",
                  "13",
                  "489",
                  "Sunday/Holiday"
                ],
                [
                  "13",
                  "40010",
                  "2019",
                  "1",
                  "14",
                  "1945",
                  "Weekday"
                ],
                [
                  "14",
                  "40010",
                  "2019",
                  "1",
                  "15",
                  "1946",
                  "Weekday"
                ],
                [
                  "15",
                  "40010",
                  "2019",
                  "1",
                  "16",
                  "1994",
                  "Weekday"
                ],
                [
                  "16",
                  "40010",
                  "2019",
                  "1",
                  "17",
                  "2118",
                  "Weekday"
                ],
                [
                  "17",
                  "40010",
                  "2019",
                  "1",
                  "18",
                  "1836",
                  "Weekday"
                ],
                [
                  "18",
                  "40010",
                  "2019",
                  "1",
                  "19",
                  "594",
                  "Saturday"
                ],
                [
                  "19",
                  "40010",
                  "2019",
                  "1",
                  "20",
                  "458",
                  "Sunday/Holiday"
                ],
                [
                  "20",
                  "40010",
                  "2019",
                  "1",
                  "21",
                  "919",
                  "Weekday"
                ],
                [
                  "21",
                  "40010",
                  "2019",
                  "1",
                  "22",
                  "1976",
                  "Weekday"
                ],
                [
                  "22",
                  "40010",
                  "2019",
                  "1",
                  "23",
                  "1999",
                  "Weekday"
                ],
                [
                  "23",
                  "40010",
                  "2019",
                  "1",
                  "24",
                  "1923",
                  "Weekday"
                ],
                [
                  "24",
                  "40010",
                  "2019",
                  "1",
                  "25",
                  "1454",
                  "Weekday"
                ],
                [
                  "25",
                  "40010",
                  "2019",
                  "1",
                  "26",
                  "522",
                  "Saturday"
                ],
                [
                  "26",
                  "40010",
                  "2019",
                  "1",
                  "27",
                  "394",
                  "Sunday/Holiday"
                ],
                [
                  "27",
                  "40010",
                  "2019",
                  "1",
                  "28",
                  "1798",
                  "Weekday"
                ],
                [
                  "28",
                  "40010",
                  "2019",
                  "1",
                  "29",
                  "1573",
                  "Weekday"
                ],
                [
                  "29",
                  "40010",
                  "2019",
                  "1",
                  "30",
                  "255",
                  "Weekday"
                ],
                [
                  "30",
                  "40010",
                  "2019",
                  "1",
                  "31",
                  "562",
                  "Weekday"
                ],
                [
                  "31",
                  "40010",
                  "2019",
                  "2",
                  "1",
                  "1741",
                  "Weekday"
                ],
                [
                  "32",
                  "40010",
                  "2019",
                  "2",
                  "2",
                  "642",
                  "Saturday"
                ],
                [
                  "33",
                  "40010",
                  "2019",
                  "2",
                  "3",
                  "485",
                  "Sunday/Holiday"
                ],
                [
                  "34",
                  "40010",
                  "2019",
                  "2",
                  "4",
                  "1978",
                  "Weekday"
                ],
                [
                  "35",
                  "40010",
                  "2019",
                  "2",
                  "5",
                  "2035",
                  "Weekday"
                ],
                [
                  "36",
                  "40010",
                  "2019",
                  "2",
                  "6",
                  "1976",
                  "Weekday"
                ],
                [
                  "37",
                  "40010",
                  "2019",
                  "2",
                  "7",
                  "1949",
                  "Weekday"
                ],
                [
                  "38",
                  "40010",
                  "2019",
                  "2",
                  "8",
                  "1715",
                  "Weekday"
                ],
                [
                  "39",
                  "40010",
                  "2019",
                  "2",
                  "9",
                  "644",
                  "Saturday"
                ],
                [
                  "40",
                  "40010",
                  "2019",
                  "2",
                  "10",
                  "501",
                  "Sunday/Holiday"
                ],
                [
                  "41",
                  "40010",
                  "2019",
                  "2",
                  "11",
                  "1916",
                  "Weekday"
                ],
                [
                  "42",
                  "40010",
                  "2019",
                  "2",
                  "12",
                  "1905",
                  "Weekday"
                ],
                [
                  "43",
                  "40010",
                  "2019",
                  "2",
                  "13",
                  "1937",
                  "Weekday"
                ],
                [
                  "44",
                  "40010",
                  "2019",
                  "2",
                  "14",
                  "1996",
                  "Weekday"
                ],
                [
                  "45",
                  "40010",
                  "2019",
                  "2",
                  "15",
                  "1717",
                  "Weekday"
                ],
                [
                  "46",
                  "40010",
                  "2019",
                  "2",
                  "16",
                  "645",
                  "Saturday"
                ],
                [
                  "47",
                  "40010",
                  "2019",
                  "2",
                  "17",
                  "444",
                  "Sunday/Holiday"
                ],
                [
                  "48",
                  "40010",
                  "2019",
                  "2",
                  "18",
                  "1341",
                  "Weekday"
                ],
                [
                  "49",
                  "40010",
                  "2019",
                  "2",
                  "19",
                  "1941",
                  "Weekday"
                ]
              ],
              "shape": {
                "columns": 6,
                "rows": 3285
              }
            },
            "text/html": [
              "<div>\n",
              "<style scoped>\n",
              "    .dataframe tbody tr th:only-of-type {\n",
              "        vertical-align: middle;\n",
              "    }\n",
              "\n",
              "    .dataframe tbody tr th {\n",
              "        vertical-align: top;\n",
              "    }\n",
              "\n",
              "    .dataframe thead th {\n",
              "        text-align: right;\n",
              "    }\n",
              "</style>\n",
              "<table border=\"1\" class=\"dataframe\">\n",
              "  <thead>\n",
              "    <tr style=\"text-align: right;\">\n",
              "      <th></th>\n",
              "      <th>station_id</th>\n",
              "      <th>year</th>\n",
              "      <th>month</th>\n",
              "      <th>day</th>\n",
              "      <th>rides</th>\n",
              "      <th>day_type</th>\n",
              "    </tr>\n",
              "  </thead>\n",
              "  <tbody>\n",
              "    <tr>\n",
              "      <th>0</th>\n",
              "      <td>40010</td>\n",
              "      <td>2019</td>\n",
              "      <td>1</td>\n",
              "      <td>1</td>\n",
              "      <td>576</td>\n",
              "      <td>Sunday/Holiday</td>\n",
              "    </tr>\n",
              "    <tr>\n",
              "      <th>1</th>\n",
              "      <td>40010</td>\n",
              "      <td>2019</td>\n",
              "      <td>1</td>\n",
              "      <td>2</td>\n",
              "      <td>1457</td>\n",
              "      <td>Weekday</td>\n",
              "    </tr>\n",
              "    <tr>\n",
              "      <th>2</th>\n",
              "      <td>40010</td>\n",
              "      <td>2019</td>\n",
              "      <td>1</td>\n",
              "      <td>3</td>\n",
              "      <td>1543</td>\n",
              "      <td>Weekday</td>\n",
              "    </tr>\n",
              "    <tr>\n",
              "      <th>3</th>\n",
              "      <td>40010</td>\n",
              "      <td>2019</td>\n",
              "      <td>1</td>\n",
              "      <td>4</td>\n",
              "      <td>1621</td>\n",
              "      <td>Weekday</td>\n",
              "    </tr>\n",
              "    <tr>\n",
              "      <th>4</th>\n",
              "      <td>40010</td>\n",
              "      <td>2019</td>\n",
              "      <td>1</td>\n",
              "      <td>5</td>\n",
              "      <td>719</td>\n",
              "      <td>Saturday</td>\n",
              "    </tr>\n",
              "    <tr>\n",
              "      <th>...</th>\n",
              "      <td>...</td>\n",
              "      <td>...</td>\n",
              "      <td>...</td>\n",
              "      <td>...</td>\n",
              "      <td>...</td>\n",
              "      <td>...</td>\n",
              "    </tr>\n",
              "    <tr>\n",
              "      <th>3280</th>\n",
              "      <td>41660</td>\n",
              "      <td>2019</td>\n",
              "      <td>12</td>\n",
              "      <td>27</td>\n",
              "      <td>13898</td>\n",
              "      <td>Weekday</td>\n",
              "    </tr>\n",
              "    <tr>\n",
              "      <th>3281</th>\n",
              "      <td>41660</td>\n",
              "      <td>2019</td>\n",
              "      <td>12</td>\n",
              "      <td>28</td>\n",
              "      <td>9485</td>\n",
              "      <td>Saturday</td>\n",
              "    </tr>\n",
              "    <tr>\n",
              "      <th>3282</th>\n",
              "      <td>41660</td>\n",
              "      <td>2019</td>\n",
              "      <td>12</td>\n",
              "      <td>29</td>\n",
              "      <td>7581</td>\n",
              "      <td>Sunday/Holiday</td>\n",
              "    </tr>\n",
              "    <tr>\n",
              "      <th>3283</th>\n",
              "      <td>41660</td>\n",
              "      <td>2019</td>\n",
              "      <td>12</td>\n",
              "      <td>30</td>\n",
              "      <td>15332</td>\n",
              "      <td>Weekday</td>\n",
              "    </tr>\n",
              "    <tr>\n",
              "      <th>3284</th>\n",
              "      <td>41660</td>\n",
              "      <td>2019</td>\n",
              "      <td>12</td>\n",
              "      <td>31</td>\n",
              "      <td>13430</td>\n",
              "      <td>Weekday</td>\n",
              "    </tr>\n",
              "  </tbody>\n",
              "</table>\n",
              "<p>3285 rows × 6 columns</p>\n",
              "</div>"
            ],
            "text/plain": [
              "     station_id  year  month  day  rides        day_type\n",
              "0         40010  2019      1    1    576  Sunday/Holiday\n",
              "1         40010  2019      1    2   1457         Weekday\n",
              "2         40010  2019      1    3   1543         Weekday\n",
              "3         40010  2019      1    4   1621         Weekday\n",
              "4         40010  2019      1    5    719        Saturday\n",
              "...         ...   ...    ...  ...    ...             ...\n",
              "3280      41660  2019     12   27  13898         Weekday\n",
              "3281      41660  2019     12   28   9485        Saturday\n",
              "3282      41660  2019     12   29   7581  Sunday/Holiday\n",
              "3283      41660  2019     12   30  15332         Weekday\n",
              "3284      41660  2019     12   31  13430         Weekday\n",
              "\n",
              "[3285 rows x 6 columns]"
            ]
          },
          "execution_count": 27,
          "metadata": {},
          "output_type": "execute_result"
        }
      ],
      "source": [
        "# Merge the ridership and cal tables together, starting with the ridership table on the left and save the result to the variable ridership_cal. If you code takes too long to run, your merge conditions might be incorrect.\n",
        "ridership_cal = ridership.merge(cal, on=[\"year\", \"month\", \"day\"])\n",
        "ridership_cal"
      ]
    },
    {
      "cell_type": "code",
      "execution_count": 28,
      "id": "3b140fcd",
      "metadata": {
        "colab": {
          "base_uri": "https://localhost:8080/",
          "height": 617
        },
        "id": "3b140fcd",
        "outputId": "91a72112-be63-4b03-b824-0583c4d6b81d"
      },
      "outputs": [
        {
          "data": {
            "application/vnd.microsoft.datawrangler.viewer.v0+json": {
              "columns": [
                {
                  "name": "index",
                  "rawType": "int64",
                  "type": "integer"
                },
                {
                  "name": "station_id",
                  "rawType": "object",
                  "type": "string"
                },
                {
                  "name": "year",
                  "rawType": "int64",
                  "type": "integer"
                },
                {
                  "name": "month",
                  "rawType": "int64",
                  "type": "integer"
                },
                {
                  "name": "day",
                  "rawType": "int64",
                  "type": "integer"
                },
                {
                  "name": "rides",
                  "rawType": "int64",
                  "type": "integer"
                },
                {
                  "name": "day_type",
                  "rawType": "object",
                  "type": "string"
                },
                {
                  "name": "station_name",
                  "rawType": "object",
                  "type": "string"
                },
                {
                  "name": "location",
                  "rawType": "object",
                  "type": "string"
                }
              ],
              "ref": "f5147b83-38b1-4abc-bf65-acb094444b56",
              "rows": [
                [
                  "0",
                  "40010",
                  "2019",
                  "1",
                  "1",
                  "576",
                  "Sunday/Holiday",
                  "Austin-Forest Park",
                  "(41.870851, -87.776812)"
                ],
                [
                  "1",
                  "40010",
                  "2019",
                  "1",
                  "2",
                  "1457",
                  "Weekday",
                  "Austin-Forest Park",
                  "(41.870851, -87.776812)"
                ],
                [
                  "2",
                  "40010",
                  "2019",
                  "1",
                  "3",
                  "1543",
                  "Weekday",
                  "Austin-Forest Park",
                  "(41.870851, -87.776812)"
                ],
                [
                  "3",
                  "40010",
                  "2019",
                  "1",
                  "4",
                  "1621",
                  "Weekday",
                  "Austin-Forest Park",
                  "(41.870851, -87.776812)"
                ],
                [
                  "4",
                  "40010",
                  "2019",
                  "1",
                  "5",
                  "719",
                  "Saturday",
                  "Austin-Forest Park",
                  "(41.870851, -87.776812)"
                ],
                [
                  "5",
                  "40010",
                  "2019",
                  "1",
                  "6",
                  "554",
                  "Sunday/Holiday",
                  "Austin-Forest Park",
                  "(41.870851, -87.776812)"
                ],
                [
                  "6",
                  "40010",
                  "2019",
                  "1",
                  "7",
                  "1714",
                  "Weekday",
                  "Austin-Forest Park",
                  "(41.870851, -87.776812)"
                ],
                [
                  "7",
                  "40010",
                  "2019",
                  "1",
                  "8",
                  "1868",
                  "Weekday",
                  "Austin-Forest Park",
                  "(41.870851, -87.776812)"
                ],
                [
                  "8",
                  "40010",
                  "2019",
                  "1",
                  "9",
                  "1811",
                  "Weekday",
                  "Austin-Forest Park",
                  "(41.870851, -87.776812)"
                ],
                [
                  "9",
                  "40010",
                  "2019",
                  "1",
                  "10",
                  "1805",
                  "Weekday",
                  "Austin-Forest Park",
                  "(41.870851, -87.776812)"
                ],
                [
                  "10",
                  "40010",
                  "2019",
                  "1",
                  "11",
                  "1697",
                  "Weekday",
                  "Austin-Forest Park",
                  "(41.870851, -87.776812)"
                ],
                [
                  "11",
                  "40010",
                  "2019",
                  "1",
                  "12",
                  "679",
                  "Saturday",
                  "Austin-Forest Park",
                  "(41.870851, -87.776812)"
                ],
                [
                  "12",
                  "40010",
                  "2019",
                  "1",
                  "13",
                  "489",
                  "Sunday/Holiday",
                  "Austin-Forest Park",
                  "(41.870851, -87.776812)"
                ],
                [
                  "13",
                  "40010",
                  "2019",
                  "1",
                  "14",
                  "1945",
                  "Weekday",
                  "Austin-Forest Park",
                  "(41.870851, -87.776812)"
                ],
                [
                  "14",
                  "40010",
                  "2019",
                  "1",
                  "15",
                  "1946",
                  "Weekday",
                  "Austin-Forest Park",
                  "(41.870851, -87.776812)"
                ],
                [
                  "15",
                  "40010",
                  "2019",
                  "1",
                  "16",
                  "1994",
                  "Weekday",
                  "Austin-Forest Park",
                  "(41.870851, -87.776812)"
                ],
                [
                  "16",
                  "40010",
                  "2019",
                  "1",
                  "17",
                  "2118",
                  "Weekday",
                  "Austin-Forest Park",
                  "(41.870851, -87.776812)"
                ],
                [
                  "17",
                  "40010",
                  "2019",
                  "1",
                  "18",
                  "1836",
                  "Weekday",
                  "Austin-Forest Park",
                  "(41.870851, -87.776812)"
                ],
                [
                  "18",
                  "40010",
                  "2019",
                  "1",
                  "19",
                  "594",
                  "Saturday",
                  "Austin-Forest Park",
                  "(41.870851, -87.776812)"
                ],
                [
                  "19",
                  "40010",
                  "2019",
                  "1",
                  "20",
                  "458",
                  "Sunday/Holiday",
                  "Austin-Forest Park",
                  "(41.870851, -87.776812)"
                ],
                [
                  "20",
                  "40010",
                  "2019",
                  "1",
                  "21",
                  "919",
                  "Weekday",
                  "Austin-Forest Park",
                  "(41.870851, -87.776812)"
                ],
                [
                  "21",
                  "40010",
                  "2019",
                  "1",
                  "22",
                  "1976",
                  "Weekday",
                  "Austin-Forest Park",
                  "(41.870851, -87.776812)"
                ],
                [
                  "22",
                  "40010",
                  "2019",
                  "1",
                  "23",
                  "1999",
                  "Weekday",
                  "Austin-Forest Park",
                  "(41.870851, -87.776812)"
                ],
                [
                  "23",
                  "40010",
                  "2019",
                  "1",
                  "24",
                  "1923",
                  "Weekday",
                  "Austin-Forest Park",
                  "(41.870851, -87.776812)"
                ],
                [
                  "24",
                  "40010",
                  "2019",
                  "1",
                  "25",
                  "1454",
                  "Weekday",
                  "Austin-Forest Park",
                  "(41.870851, -87.776812)"
                ],
                [
                  "25",
                  "40010",
                  "2019",
                  "1",
                  "26",
                  "522",
                  "Saturday",
                  "Austin-Forest Park",
                  "(41.870851, -87.776812)"
                ],
                [
                  "26",
                  "40010",
                  "2019",
                  "1",
                  "27",
                  "394",
                  "Sunday/Holiday",
                  "Austin-Forest Park",
                  "(41.870851, -87.776812)"
                ],
                [
                  "27",
                  "40010",
                  "2019",
                  "1",
                  "28",
                  "1798",
                  "Weekday",
                  "Austin-Forest Park",
                  "(41.870851, -87.776812)"
                ],
                [
                  "28",
                  "40010",
                  "2019",
                  "1",
                  "29",
                  "1573",
                  "Weekday",
                  "Austin-Forest Park",
                  "(41.870851, -87.776812)"
                ],
                [
                  "29",
                  "40010",
                  "2019",
                  "1",
                  "30",
                  "255",
                  "Weekday",
                  "Austin-Forest Park",
                  "(41.870851, -87.776812)"
                ],
                [
                  "30",
                  "40010",
                  "2019",
                  "1",
                  "31",
                  "562",
                  "Weekday",
                  "Austin-Forest Park",
                  "(41.870851, -87.776812)"
                ],
                [
                  "31",
                  "40010",
                  "2019",
                  "2",
                  "1",
                  "1741",
                  "Weekday",
                  "Austin-Forest Park",
                  "(41.870851, -87.776812)"
                ],
                [
                  "32",
                  "40010",
                  "2019",
                  "2",
                  "2",
                  "642",
                  "Saturday",
                  "Austin-Forest Park",
                  "(41.870851, -87.776812)"
                ],
                [
                  "33",
                  "40010",
                  "2019",
                  "2",
                  "3",
                  "485",
                  "Sunday/Holiday",
                  "Austin-Forest Park",
                  "(41.870851, -87.776812)"
                ],
                [
                  "34",
                  "40010",
                  "2019",
                  "2",
                  "4",
                  "1978",
                  "Weekday",
                  "Austin-Forest Park",
                  "(41.870851, -87.776812)"
                ],
                [
                  "35",
                  "40010",
                  "2019",
                  "2",
                  "5",
                  "2035",
                  "Weekday",
                  "Austin-Forest Park",
                  "(41.870851, -87.776812)"
                ],
                [
                  "36",
                  "40010",
                  "2019",
                  "2",
                  "6",
                  "1976",
                  "Weekday",
                  "Austin-Forest Park",
                  "(41.870851, -87.776812)"
                ],
                [
                  "37",
                  "40010",
                  "2019",
                  "2",
                  "7",
                  "1949",
                  "Weekday",
                  "Austin-Forest Park",
                  "(41.870851, -87.776812)"
                ],
                [
                  "38",
                  "40010",
                  "2019",
                  "2",
                  "8",
                  "1715",
                  "Weekday",
                  "Austin-Forest Park",
                  "(41.870851, -87.776812)"
                ],
                [
                  "39",
                  "40010",
                  "2019",
                  "2",
                  "9",
                  "644",
                  "Saturday",
                  "Austin-Forest Park",
                  "(41.870851, -87.776812)"
                ],
                [
                  "40",
                  "40010",
                  "2019",
                  "2",
                  "10",
                  "501",
                  "Sunday/Holiday",
                  "Austin-Forest Park",
                  "(41.870851, -87.776812)"
                ],
                [
                  "41",
                  "40010",
                  "2019",
                  "2",
                  "11",
                  "1916",
                  "Weekday",
                  "Austin-Forest Park",
                  "(41.870851, -87.776812)"
                ],
                [
                  "42",
                  "40010",
                  "2019",
                  "2",
                  "12",
                  "1905",
                  "Weekday",
                  "Austin-Forest Park",
                  "(41.870851, -87.776812)"
                ],
                [
                  "43",
                  "40010",
                  "2019",
                  "2",
                  "13",
                  "1937",
                  "Weekday",
                  "Austin-Forest Park",
                  "(41.870851, -87.776812)"
                ],
                [
                  "44",
                  "40010",
                  "2019",
                  "2",
                  "14",
                  "1996",
                  "Weekday",
                  "Austin-Forest Park",
                  "(41.870851, -87.776812)"
                ],
                [
                  "45",
                  "40010",
                  "2019",
                  "2",
                  "15",
                  "1717",
                  "Weekday",
                  "Austin-Forest Park",
                  "(41.870851, -87.776812)"
                ],
                [
                  "46",
                  "40010",
                  "2019",
                  "2",
                  "16",
                  "645",
                  "Saturday",
                  "Austin-Forest Park",
                  "(41.870851, -87.776812)"
                ],
                [
                  "47",
                  "40010",
                  "2019",
                  "2",
                  "17",
                  "444",
                  "Sunday/Holiday",
                  "Austin-Forest Park",
                  "(41.870851, -87.776812)"
                ],
                [
                  "48",
                  "40010",
                  "2019",
                  "2",
                  "18",
                  "1341",
                  "Weekday",
                  "Austin-Forest Park",
                  "(41.870851, -87.776812)"
                ],
                [
                  "49",
                  "40010",
                  "2019",
                  "2",
                  "19",
                  "1941",
                  "Weekday",
                  "Austin-Forest Park",
                  "(41.870851, -87.776812)"
                ]
              ],
              "shape": {
                "columns": 8,
                "rows": 3285
              }
            },
            "text/html": [
              "<div>\n",
              "<style scoped>\n",
              "    .dataframe tbody tr th:only-of-type {\n",
              "        vertical-align: middle;\n",
              "    }\n",
              "\n",
              "    .dataframe tbody tr th {\n",
              "        vertical-align: top;\n",
              "    }\n",
              "\n",
              "    .dataframe thead th {\n",
              "        text-align: right;\n",
              "    }\n",
              "</style>\n",
              "<table border=\"1\" class=\"dataframe\">\n",
              "  <thead>\n",
              "    <tr style=\"text-align: right;\">\n",
              "      <th></th>\n",
              "      <th>station_id</th>\n",
              "      <th>year</th>\n",
              "      <th>month</th>\n",
              "      <th>day</th>\n",
              "      <th>rides</th>\n",
              "      <th>day_type</th>\n",
              "      <th>station_name</th>\n",
              "      <th>location</th>\n",
              "    </tr>\n",
              "  </thead>\n",
              "  <tbody>\n",
              "    <tr>\n",
              "      <th>0</th>\n",
              "      <td>40010</td>\n",
              "      <td>2019</td>\n",
              "      <td>1</td>\n",
              "      <td>1</td>\n",
              "      <td>576</td>\n",
              "      <td>Sunday/Holiday</td>\n",
              "      <td>Austin-Forest Park</td>\n",
              "      <td>(41.870851, -87.776812)</td>\n",
              "    </tr>\n",
              "    <tr>\n",
              "      <th>1</th>\n",
              "      <td>40010</td>\n",
              "      <td>2019</td>\n",
              "      <td>1</td>\n",
              "      <td>2</td>\n",
              "      <td>1457</td>\n",
              "      <td>Weekday</td>\n",
              "      <td>Austin-Forest Park</td>\n",
              "      <td>(41.870851, -87.776812)</td>\n",
              "    </tr>\n",
              "    <tr>\n",
              "      <th>2</th>\n",
              "      <td>40010</td>\n",
              "      <td>2019</td>\n",
              "      <td>1</td>\n",
              "      <td>3</td>\n",
              "      <td>1543</td>\n",
              "      <td>Weekday</td>\n",
              "      <td>Austin-Forest Park</td>\n",
              "      <td>(41.870851, -87.776812)</td>\n",
              "    </tr>\n",
              "    <tr>\n",
              "      <th>3</th>\n",
              "      <td>40010</td>\n",
              "      <td>2019</td>\n",
              "      <td>1</td>\n",
              "      <td>4</td>\n",
              "      <td>1621</td>\n",
              "      <td>Weekday</td>\n",
              "      <td>Austin-Forest Park</td>\n",
              "      <td>(41.870851, -87.776812)</td>\n",
              "    </tr>\n",
              "    <tr>\n",
              "      <th>4</th>\n",
              "      <td>40010</td>\n",
              "      <td>2019</td>\n",
              "      <td>1</td>\n",
              "      <td>5</td>\n",
              "      <td>719</td>\n",
              "      <td>Saturday</td>\n",
              "      <td>Austin-Forest Park</td>\n",
              "      <td>(41.870851, -87.776812)</td>\n",
              "    </tr>\n",
              "    <tr>\n",
              "      <th>...</th>\n",
              "      <td>...</td>\n",
              "      <td>...</td>\n",
              "      <td>...</td>\n",
              "      <td>...</td>\n",
              "      <td>...</td>\n",
              "      <td>...</td>\n",
              "      <td>...</td>\n",
              "      <td>...</td>\n",
              "    </tr>\n",
              "    <tr>\n",
              "      <th>3280</th>\n",
              "      <td>41660</td>\n",
              "      <td>2019</td>\n",
              "      <td>12</td>\n",
              "      <td>27</td>\n",
              "      <td>13898</td>\n",
              "      <td>Weekday</td>\n",
              "      <td>Lake/State</td>\n",
              "      <td>(41.884809, -87.627813)</td>\n",
              "    </tr>\n",
              "    <tr>\n",
              "      <th>3281</th>\n",
              "      <td>41660</td>\n",
              "      <td>2019</td>\n",
              "      <td>12</td>\n",
              "      <td>28</td>\n",
              "      <td>9485</td>\n",
              "      <td>Saturday</td>\n",
              "      <td>Lake/State</td>\n",
              "      <td>(41.884809, -87.627813)</td>\n",
              "    </tr>\n",
              "    <tr>\n",
              "      <th>3282</th>\n",
              "      <td>41660</td>\n",
              "      <td>2019</td>\n",
              "      <td>12</td>\n",
              "      <td>29</td>\n",
              "      <td>7581</td>\n",
              "      <td>Sunday/Holiday</td>\n",
              "      <td>Lake/State</td>\n",
              "      <td>(41.884809, -87.627813)</td>\n",
              "    </tr>\n",
              "    <tr>\n",
              "      <th>3283</th>\n",
              "      <td>41660</td>\n",
              "      <td>2019</td>\n",
              "      <td>12</td>\n",
              "      <td>30</td>\n",
              "      <td>15332</td>\n",
              "      <td>Weekday</td>\n",
              "      <td>Lake/State</td>\n",
              "      <td>(41.884809, -87.627813)</td>\n",
              "    </tr>\n",
              "    <tr>\n",
              "      <th>3284</th>\n",
              "      <td>41660</td>\n",
              "      <td>2019</td>\n",
              "      <td>12</td>\n",
              "      <td>31</td>\n",
              "      <td>13430</td>\n",
              "      <td>Weekday</td>\n",
              "      <td>Lake/State</td>\n",
              "      <td>(41.884809, -87.627813)</td>\n",
              "    </tr>\n",
              "  </tbody>\n",
              "</table>\n",
              "<p>3285 rows × 8 columns</p>\n",
              "</div>"
            ],
            "text/plain": [
              "     station_id  year  month  day  rides        day_type        station_name  \\\n",
              "0         40010  2019      1    1    576  Sunday/Holiday  Austin-Forest Park   \n",
              "1         40010  2019      1    2   1457         Weekday  Austin-Forest Park   \n",
              "2         40010  2019      1    3   1543         Weekday  Austin-Forest Park   \n",
              "3         40010  2019      1    4   1621         Weekday  Austin-Forest Park   \n",
              "4         40010  2019      1    5    719        Saturday  Austin-Forest Park   \n",
              "...         ...   ...    ...  ...    ...             ...                 ...   \n",
              "3280      41660  2019     12   27  13898         Weekday          Lake/State   \n",
              "3281      41660  2019     12   28   9485        Saturday          Lake/State   \n",
              "3282      41660  2019     12   29   7581  Sunday/Holiday          Lake/State   \n",
              "3283      41660  2019     12   30  15332         Weekday          Lake/State   \n",
              "3284      41660  2019     12   31  13430         Weekday          Lake/State   \n",
              "\n",
              "                     location  \n",
              "0     (41.870851, -87.776812)  \n",
              "1     (41.870851, -87.776812)  \n",
              "2     (41.870851, -87.776812)  \n",
              "3     (41.870851, -87.776812)  \n",
              "4     (41.870851, -87.776812)  \n",
              "...                       ...  \n",
              "3280  (41.884809, -87.627813)  \n",
              "3281  (41.884809, -87.627813)  \n",
              "3282  (41.884809, -87.627813)  \n",
              "3283  (41.884809, -87.627813)  \n",
              "3284  (41.884809, -87.627813)  \n",
              "\n",
              "[3285 rows x 8 columns]"
            ]
          },
          "execution_count": 28,
          "metadata": {},
          "output_type": "execute_result"
        }
      ],
      "source": [
        "# Extend the previous merge to three tables by also merging the stations table.\n",
        "ridership_cal_stations = ridership.merge(cal, on=['year','month','day']).merge(stations, on=\"station_id\")\n",
        "ridership_cal_stations"
      ]
    },
    {
      "cell_type": "code",
      "execution_count": 29,
      "id": "51afc865",
      "metadata": {
        "colab": {
          "base_uri": "https://localhost:8080/"
        },
        "id": "51afc865",
        "outputId": "ccda7d75-c035-4ca0-8ad9-01cda2c22736"
      },
      "outputs": [
        {
          "name": "stdout",
          "output_type": "stream",
          "text": [
            "140005\n"
          ]
        }
      ],
      "source": [
        "# Create a variable called filter_criteria to select the appropriate rows from the merged table so that you can sum the rides column.\n",
        "filter_criteria  = ((ridership_cal_stations[\"month\"] == 7)\n",
        "                    & (ridership_cal_stations[\"day_type\"] == \"Weekday\")\n",
        "                    & (ridership_cal_stations[\"station_name\"] == \"Wilson\"))\n",
        "\n",
        "# Use .loc and the filter to select for rides\n",
        "print(ridership_cal_stations.loc[filter_criteria, \"rides\"].sum())"
      ]
    },
    {
      "cell_type": "markdown",
      "id": "189eefe2",
      "metadata": {
        "id": "189eefe2"
      },
      "source": [
        "### Three table merge\n",
        "To solidify the concept of a three DataFrame merge, practice another exercise. A reasonable extension of our review of Chicago business data would include looking at demographics information about the neighborhoods where the businesses are. A table with the median income by zip code has been provided to you. You will merge the `licenses` and `wards` tables with this new income-by-zip-code table called `zip_demo`."
      ]
    },
    {
      "cell_type": "code",
      "execution_count": 30,
      "id": "603614b6",
      "metadata": {
        "id": "603614b6"
      },
      "outputs": [],
      "source": [
        "zip_demo = pd.read_pickle(\"data/zip_demo.p\")"
      ]
    },
    {
      "cell_type": "code",
      "execution_count": 31,
      "id": "64047582",
      "metadata": {
        "colab": {
          "base_uri": "https://localhost:8080/",
          "height": 206
        },
        "id": "64047582",
        "outputId": "96413af5-d0b8-46b0-89d0-09ae25d0b74b"
      },
      "outputs": [
        {
          "data": {
            "application/vnd.microsoft.datawrangler.viewer.v0+json": {
              "columns": [
                {
                  "name": "index",
                  "rawType": "int64",
                  "type": "integer"
                },
                {
                  "name": "zip",
                  "rawType": "object",
                  "type": "string"
                },
                {
                  "name": "income",
                  "rawType": "int64",
                  "type": "integer"
                }
              ],
              "ref": "f8aa3eb3-88d0-4916-8625-077cca93eb10",
              "rows": [
                [
                  "0",
                  "60630",
                  "70122"
                ],
                [
                  "1",
                  "60640",
                  "50488"
                ],
                [
                  "2",
                  "60622",
                  "87143"
                ],
                [
                  "3",
                  "60614",
                  "100116"
                ],
                [
                  "4",
                  "60608",
                  "41226"
                ]
              ],
              "shape": {
                "columns": 2,
                "rows": 5
              }
            },
            "text/html": [
              "<div>\n",
              "<style scoped>\n",
              "    .dataframe tbody tr th:only-of-type {\n",
              "        vertical-align: middle;\n",
              "    }\n",
              "\n",
              "    .dataframe tbody tr th {\n",
              "        vertical-align: top;\n",
              "    }\n",
              "\n",
              "    .dataframe thead th {\n",
              "        text-align: right;\n",
              "    }\n",
              "</style>\n",
              "<table border=\"1\" class=\"dataframe\">\n",
              "  <thead>\n",
              "    <tr style=\"text-align: right;\">\n",
              "      <th></th>\n",
              "      <th>zip</th>\n",
              "      <th>income</th>\n",
              "    </tr>\n",
              "  </thead>\n",
              "  <tbody>\n",
              "    <tr>\n",
              "      <th>0</th>\n",
              "      <td>60630</td>\n",
              "      <td>70122</td>\n",
              "    </tr>\n",
              "    <tr>\n",
              "      <th>1</th>\n",
              "      <td>60640</td>\n",
              "      <td>50488</td>\n",
              "    </tr>\n",
              "    <tr>\n",
              "      <th>2</th>\n",
              "      <td>60622</td>\n",
              "      <td>87143</td>\n",
              "    </tr>\n",
              "    <tr>\n",
              "      <th>3</th>\n",
              "      <td>60614</td>\n",
              "      <td>100116</td>\n",
              "    </tr>\n",
              "    <tr>\n",
              "      <th>4</th>\n",
              "      <td>60608</td>\n",
              "      <td>41226</td>\n",
              "    </tr>\n",
              "  </tbody>\n",
              "</table>\n",
              "</div>"
            ],
            "text/plain": [
              "     zip  income\n",
              "0  60630   70122\n",
              "1  60640   50488\n",
              "2  60622   87143\n",
              "3  60614  100116\n",
              "4  60608   41226"
            ]
          },
          "execution_count": 31,
          "metadata": {},
          "output_type": "execute_result"
        }
      ],
      "source": [
        "zip_demo.head()"
      ]
    },
    {
      "cell_type": "code",
      "execution_count": 32,
      "id": "f3cf4565",
      "metadata": {
        "colab": {
          "base_uri": "https://localhost:8080/",
          "height": 487
        },
        "id": "f3cf4565",
        "outputId": "179b1cf7-40bb-4e9d-80d0-099ad9f499e8"
      },
      "outputs": [
        {
          "data": {
            "application/vnd.microsoft.datawrangler.viewer.v0+json": {
              "columns": [
                {
                  "name": "index",
                  "rawType": "int64",
                  "type": "integer"
                },
                {
                  "name": "account",
                  "rawType": "object",
                  "type": "string"
                },
                {
                  "name": "ward",
                  "rawType": "object",
                  "type": "string"
                },
                {
                  "name": "aid",
                  "rawType": "object",
                  "type": "unknown"
                },
                {
                  "name": "business",
                  "rawType": "object",
                  "type": "string"
                },
                {
                  "name": "address_x",
                  "rawType": "object",
                  "type": "string"
                },
                {
                  "name": "zip_x",
                  "rawType": "object",
                  "type": "string"
                },
                {
                  "name": "income",
                  "rawType": "int64",
                  "type": "integer"
                },
                {
                  "name": "alderman",
                  "rawType": "object",
                  "type": "string"
                },
                {
                  "name": "address_y",
                  "rawType": "object",
                  "type": "string"
                },
                {
                  "name": "zip_y",
                  "rawType": "object",
                  "type": "string"
                }
              ],
              "ref": "096d5a68-2d90-4a95-b39e-c735edaa5418",
              "rows": [
                [
                  "0",
                  "307071",
                  "3",
                  "743",
                  "REGGIE'S BAR & GRILL",
                  "2105 S STATE ST",
                  "60616",
                  "46340",
                  "Pat Dowell",
                  "5046 SOUTH STATE STREET",
                  "60609"
                ],
                [
                  "1",
                  "10",
                  "10",
                  "829",
                  "HONEYBEERS",
                  "13200 S HOUSTON AVE",
                  "60633",
                  "50164",
                  "Susan Sadlowski Garza",
                  "10500 SOUTH EWING AVENUE",
                  "60617"
                ],
                [
                  "2",
                  "10002",
                  "14",
                  "775",
                  "CELINA DELI",
                  "5089 S ARCHER AVE",
                  "60632",
                  "42335",
                  "Edward M. Burke",
                  "2650 WEST 51ST STREET",
                  "60632"
                ],
                [
                  "3",
                  "10005",
                  "12",
                  null,
                  "KRAFT FOODS NORTH AMERICA",
                  "2005 W 43RD ST",
                  "60609",
                  "33959",
                  "George Cardenas",
                  "3476 SOUTH ARCHER AVENUE",
                  "60608"
                ],
                [
                  "4",
                  "10044",
                  "44",
                  "638",
                  "NEYBOUR'S TAVERN & GRILLE",
                  "3651 N SOUTHPORT AVE",
                  "60613",
                  "79565",
                  "Tom Tunney",
                  "3223 NORTH SHEFFIELD AVENUE",
                  "60657"
                ]
              ],
              "shape": {
                "columns": 10,
                "rows": 5
              }
            },
            "text/html": [
              "<div>\n",
              "<style scoped>\n",
              "    .dataframe tbody tr th:only-of-type {\n",
              "        vertical-align: middle;\n",
              "    }\n",
              "\n",
              "    .dataframe tbody tr th {\n",
              "        vertical-align: top;\n",
              "    }\n",
              "\n",
              "    .dataframe thead th {\n",
              "        text-align: right;\n",
              "    }\n",
              "</style>\n",
              "<table border=\"1\" class=\"dataframe\">\n",
              "  <thead>\n",
              "    <tr style=\"text-align: right;\">\n",
              "      <th></th>\n",
              "      <th>account</th>\n",
              "      <th>ward</th>\n",
              "      <th>aid</th>\n",
              "      <th>business</th>\n",
              "      <th>address_x</th>\n",
              "      <th>zip_x</th>\n",
              "      <th>income</th>\n",
              "      <th>alderman</th>\n",
              "      <th>address_y</th>\n",
              "      <th>zip_y</th>\n",
              "    </tr>\n",
              "  </thead>\n",
              "  <tbody>\n",
              "    <tr>\n",
              "      <th>0</th>\n",
              "      <td>307071</td>\n",
              "      <td>3</td>\n",
              "      <td>743</td>\n",
              "      <td>REGGIE'S BAR &amp; GRILL</td>\n",
              "      <td>2105 S STATE ST</td>\n",
              "      <td>60616</td>\n",
              "      <td>46340</td>\n",
              "      <td>Pat Dowell</td>\n",
              "      <td>5046 SOUTH STATE STREET</td>\n",
              "      <td>60609</td>\n",
              "    </tr>\n",
              "    <tr>\n",
              "      <th>1</th>\n",
              "      <td>10</td>\n",
              "      <td>10</td>\n",
              "      <td>829</td>\n",
              "      <td>HONEYBEERS</td>\n",
              "      <td>13200 S HOUSTON AVE</td>\n",
              "      <td>60633</td>\n",
              "      <td>50164</td>\n",
              "      <td>Susan Sadlowski Garza</td>\n",
              "      <td>10500 SOUTH EWING AVENUE</td>\n",
              "      <td>60617</td>\n",
              "    </tr>\n",
              "    <tr>\n",
              "      <th>2</th>\n",
              "      <td>10002</td>\n",
              "      <td>14</td>\n",
              "      <td>775</td>\n",
              "      <td>CELINA DELI</td>\n",
              "      <td>5089 S ARCHER AVE</td>\n",
              "      <td>60632</td>\n",
              "      <td>42335</td>\n",
              "      <td>Edward M. Burke</td>\n",
              "      <td>2650 WEST 51ST STREET</td>\n",
              "      <td>60632</td>\n",
              "    </tr>\n",
              "    <tr>\n",
              "      <th>3</th>\n",
              "      <td>10005</td>\n",
              "      <td>12</td>\n",
              "      <td>NaN</td>\n",
              "      <td>KRAFT FOODS NORTH AMERICA</td>\n",
              "      <td>2005 W 43RD ST</td>\n",
              "      <td>60609</td>\n",
              "      <td>33959</td>\n",
              "      <td>George Cardenas</td>\n",
              "      <td>3476 SOUTH ARCHER AVENUE</td>\n",
              "      <td>60608</td>\n",
              "    </tr>\n",
              "    <tr>\n",
              "      <th>4</th>\n",
              "      <td>10044</td>\n",
              "      <td>44</td>\n",
              "      <td>638</td>\n",
              "      <td>NEYBOUR'S TAVERN &amp; GRILLE</td>\n",
              "      <td>3651 N SOUTHPORT AVE</td>\n",
              "      <td>60613</td>\n",
              "      <td>79565</td>\n",
              "      <td>Tom Tunney</td>\n",
              "      <td>3223 NORTH SHEFFIELD AVENUE</td>\n",
              "      <td>60657</td>\n",
              "    </tr>\n",
              "  </tbody>\n",
              "</table>\n",
              "</div>"
            ],
            "text/plain": [
              "  account ward  aid                   business             address_x  zip_x  \\\n",
              "0  307071    3  743       REGGIE'S BAR & GRILL       2105 S STATE ST  60616   \n",
              "1      10   10  829                 HONEYBEERS   13200 S HOUSTON AVE  60633   \n",
              "2   10002   14  775                CELINA DELI     5089 S ARCHER AVE  60632   \n",
              "3   10005   12  NaN  KRAFT FOODS NORTH AMERICA        2005 W 43RD ST  60609   \n",
              "4   10044   44  638  NEYBOUR'S TAVERN & GRILLE  3651 N SOUTHPORT AVE  60613   \n",
              "\n",
              "   income               alderman                    address_y  zip_y  \n",
              "0   46340             Pat Dowell      5046 SOUTH STATE STREET  60609  \n",
              "1   50164  Susan Sadlowski Garza     10500 SOUTH EWING AVENUE  60617  \n",
              "2   42335        Edward M. Burke        2650 WEST 51ST STREET  60632  \n",
              "3   33959        George Cardenas     3476 SOUTH ARCHER AVENUE  60608  \n",
              "4   79565             Tom Tunney  3223 NORTH SHEFFIELD AVENUE  60657  "
            ]
          },
          "execution_count": 32,
          "metadata": {},
          "output_type": "execute_result"
        }
      ],
      "source": [
        "# Starting with the licenses table, merge to it the zip_demo table on the zip column. Then merge the resulting table to the wards table on the ward column. Save result of the three merged tables to a variable named licenses_zip_ward.\n",
        "licenses_zip_ward = licenses.merge(zip_demo, on=\"zip\").merge(wards, on=\"ward\")\n",
        "licenses_zip_ward.head()"
      ]
    },
    {
      "cell_type": "code",
      "execution_count": 33,
      "id": "c372bf29",
      "metadata": {
        "colab": {
          "base_uri": "https://localhost:8080/",
          "height": 1000
        },
        "id": "c372bf29",
        "outputId": "bf18394f-7250-4d4d-a5f0-862a6ea9fc66"
      },
      "outputs": [
        {
          "data": {
            "application/vnd.microsoft.datawrangler.viewer.v0+json": {
              "columns": [
                {
                  "name": "alderman",
                  "rawType": "object",
                  "type": "string"
                },
                {
                  "name": "income",
                  "rawType": "float64",
                  "type": "float"
                }
              ],
              "ref": "663751ad-449e-41b9-94a1-9ed64d508501",
              "rows": [
                [
                  "Ameya Pawar",
                  "66246.0"
                ],
                [
                  "Anthony A. Beale",
                  "38206.0"
                ],
                [
                  "Anthony V. Napolitano",
                  "82226.0"
                ],
                [
                  "Ariel E. Reyboras",
                  "41307.0"
                ],
                [
                  "Brendan Reilly",
                  "110215.0"
                ],
                [
                  "Brian Hopkins",
                  "87143.0"
                ],
                [
                  "Carlos Ramirez-Rosa",
                  "66246.0"
                ],
                [
                  "Carrie M. Austin",
                  "38206.0"
                ],
                [
                  "Chris Taliaferro",
                  "55566.0"
                ],
                [
                  "Daniel \"Danny\" Solis",
                  "41226.0"
                ],
                [
                  "David H. Moore",
                  "33304.0"
                ],
                [
                  "Deborah Mell",
                  "66246.0"
                ],
                [
                  "Debra L. Silverstein",
                  "50554.0"
                ],
                [
                  "Derrick G. Curtis",
                  "65770.0"
                ],
                [
                  "Edward M. Burke",
                  "42335.0"
                ],
                [
                  "Emma M. Mitts",
                  "36283.0"
                ],
                [
                  "George Cardenas",
                  "33959.0"
                ],
                [
                  "Gilbert Villegas",
                  "41307.0"
                ],
                [
                  "Gregory I. Mitchell",
                  "24941.0"
                ],
                [
                  "Harry Osterman",
                  "45442.0"
                ],
                [
                  "Howard B. Brookins, Jr.",
                  "33304.0"
                ],
                [
                  "James Cappleman",
                  "79565.0"
                ],
                [
                  "Jason C. Ervin",
                  "41226.0"
                ],
                [
                  "Joe Moore",
                  "39163.0"
                ],
                [
                  "John S. Arena",
                  "70122.0"
                ],
                [
                  "Leslie A. Hairston",
                  "28024.0"
                ],
                [
                  "Margaret Laurino",
                  "70122.0"
                ],
                [
                  "Marty Quinn",
                  "67045.0"
                ],
                [
                  "Matthew J. O'Shea",
                  "59488.0"
                ],
                [
                  "Michael R. Zalewski",
                  "42335.0"
                ],
                [
                  "Michael Scott, Jr.",
                  "31445.0"
                ],
                [
                  "Michelle A. Harris",
                  "32558.0"
                ],
                [
                  "Michelle Smith",
                  "100116.0"
                ],
                [
                  "Milagros \"Milly\" Santiago",
                  "41307.0"
                ],
                [
                  "Nicholas Sposato",
                  "62223.0"
                ],
                [
                  "Pat Dowell",
                  "46340.0"
                ],
                [
                  "Patrick Daley Thompson",
                  "41226.0"
                ],
                [
                  "Patrick J. O'Connor",
                  "50554.0"
                ],
                [
                  "Proco \"Joe\" Moreno",
                  "87143.0"
                ],
                [
                  "Raymond A. Lopez",
                  "33959.0"
                ],
                [
                  "Ricardo Munoz",
                  "31445.0"
                ],
                [
                  "Roberto Maldonado",
                  "68223.0"
                ],
                [
                  "Roderick T. Sawyer",
                  "32558.0"
                ],
                [
                  "Scott Waguespack",
                  "68223.0"
                ],
                [
                  "Susan Sadlowski Garza",
                  "38417.0"
                ],
                [
                  "Tom Tunney",
                  "88708.0"
                ],
                [
                  "Toni L. Foulkes",
                  "27573.0"
                ],
                [
                  "Walter Burnett, Jr.",
                  "87143.0"
                ],
                [
                  "William D. Burns",
                  "107811.0"
                ],
                [
                  "Willie B. Cochran",
                  "28024.0"
                ]
              ],
              "shape": {
                "columns": 1,
                "rows": 50
              }
            },
            "text/html": [
              "<div>\n",
              "<style scoped>\n",
              "    .dataframe tbody tr th:only-of-type {\n",
              "        vertical-align: middle;\n",
              "    }\n",
              "\n",
              "    .dataframe tbody tr th {\n",
              "        vertical-align: top;\n",
              "    }\n",
              "\n",
              "    .dataframe thead th {\n",
              "        text-align: right;\n",
              "    }\n",
              "</style>\n",
              "<table border=\"1\" class=\"dataframe\">\n",
              "  <thead>\n",
              "    <tr style=\"text-align: right;\">\n",
              "      <th></th>\n",
              "      <th>income</th>\n",
              "    </tr>\n",
              "    <tr>\n",
              "      <th>alderman</th>\n",
              "      <th></th>\n",
              "    </tr>\n",
              "  </thead>\n",
              "  <tbody>\n",
              "    <tr>\n",
              "      <th>Ameya Pawar</th>\n",
              "      <td>66246.0</td>\n",
              "    </tr>\n",
              "    <tr>\n",
              "      <th>Anthony A. Beale</th>\n",
              "      <td>38206.0</td>\n",
              "    </tr>\n",
              "    <tr>\n",
              "      <th>Anthony V. Napolitano</th>\n",
              "      <td>82226.0</td>\n",
              "    </tr>\n",
              "    <tr>\n",
              "      <th>Ariel E. Reyboras</th>\n",
              "      <td>41307.0</td>\n",
              "    </tr>\n",
              "    <tr>\n",
              "      <th>Brendan Reilly</th>\n",
              "      <td>110215.0</td>\n",
              "    </tr>\n",
              "    <tr>\n",
              "      <th>Brian Hopkins</th>\n",
              "      <td>87143.0</td>\n",
              "    </tr>\n",
              "    <tr>\n",
              "      <th>Carlos Ramirez-Rosa</th>\n",
              "      <td>66246.0</td>\n",
              "    </tr>\n",
              "    <tr>\n",
              "      <th>Carrie M. Austin</th>\n",
              "      <td>38206.0</td>\n",
              "    </tr>\n",
              "    <tr>\n",
              "      <th>Chris Taliaferro</th>\n",
              "      <td>55566.0</td>\n",
              "    </tr>\n",
              "    <tr>\n",
              "      <th>Daniel \"Danny\" Solis</th>\n",
              "      <td>41226.0</td>\n",
              "    </tr>\n",
              "    <tr>\n",
              "      <th>David H. Moore</th>\n",
              "      <td>33304.0</td>\n",
              "    </tr>\n",
              "    <tr>\n",
              "      <th>Deborah Mell</th>\n",
              "      <td>66246.0</td>\n",
              "    </tr>\n",
              "    <tr>\n",
              "      <th>Debra L. Silverstein</th>\n",
              "      <td>50554.0</td>\n",
              "    </tr>\n",
              "    <tr>\n",
              "      <th>Derrick G. Curtis</th>\n",
              "      <td>65770.0</td>\n",
              "    </tr>\n",
              "    <tr>\n",
              "      <th>Edward M. Burke</th>\n",
              "      <td>42335.0</td>\n",
              "    </tr>\n",
              "    <tr>\n",
              "      <th>Emma M. Mitts</th>\n",
              "      <td>36283.0</td>\n",
              "    </tr>\n",
              "    <tr>\n",
              "      <th>George Cardenas</th>\n",
              "      <td>33959.0</td>\n",
              "    </tr>\n",
              "    <tr>\n",
              "      <th>Gilbert Villegas</th>\n",
              "      <td>41307.0</td>\n",
              "    </tr>\n",
              "    <tr>\n",
              "      <th>Gregory I. Mitchell</th>\n",
              "      <td>24941.0</td>\n",
              "    </tr>\n",
              "    <tr>\n",
              "      <th>Harry Osterman</th>\n",
              "      <td>45442.0</td>\n",
              "    </tr>\n",
              "    <tr>\n",
              "      <th>Howard B. Brookins, Jr.</th>\n",
              "      <td>33304.0</td>\n",
              "    </tr>\n",
              "    <tr>\n",
              "      <th>James Cappleman</th>\n",
              "      <td>79565.0</td>\n",
              "    </tr>\n",
              "    <tr>\n",
              "      <th>Jason C. Ervin</th>\n",
              "      <td>41226.0</td>\n",
              "    </tr>\n",
              "    <tr>\n",
              "      <th>Joe Moore</th>\n",
              "      <td>39163.0</td>\n",
              "    </tr>\n",
              "    <tr>\n",
              "      <th>John S. Arena</th>\n",
              "      <td>70122.0</td>\n",
              "    </tr>\n",
              "    <tr>\n",
              "      <th>Leslie A. Hairston</th>\n",
              "      <td>28024.0</td>\n",
              "    </tr>\n",
              "    <tr>\n",
              "      <th>Margaret Laurino</th>\n",
              "      <td>70122.0</td>\n",
              "    </tr>\n",
              "    <tr>\n",
              "      <th>Marty Quinn</th>\n",
              "      <td>67045.0</td>\n",
              "    </tr>\n",
              "    <tr>\n",
              "      <th>Matthew J. O'Shea</th>\n",
              "      <td>59488.0</td>\n",
              "    </tr>\n",
              "    <tr>\n",
              "      <th>Michael R. Zalewski</th>\n",
              "      <td>42335.0</td>\n",
              "    </tr>\n",
              "    <tr>\n",
              "      <th>Michael Scott, Jr.</th>\n",
              "      <td>31445.0</td>\n",
              "    </tr>\n",
              "    <tr>\n",
              "      <th>Michelle A. Harris</th>\n",
              "      <td>32558.0</td>\n",
              "    </tr>\n",
              "    <tr>\n",
              "      <th>Michelle Smith</th>\n",
              "      <td>100116.0</td>\n",
              "    </tr>\n",
              "    <tr>\n",
              "      <th>Milagros \"Milly\" Santiago</th>\n",
              "      <td>41307.0</td>\n",
              "    </tr>\n",
              "    <tr>\n",
              "      <th>Nicholas Sposato</th>\n",
              "      <td>62223.0</td>\n",
              "    </tr>\n",
              "    <tr>\n",
              "      <th>Pat Dowell</th>\n",
              "      <td>46340.0</td>\n",
              "    </tr>\n",
              "    <tr>\n",
              "      <th>Patrick Daley Thompson</th>\n",
              "      <td>41226.0</td>\n",
              "    </tr>\n",
              "    <tr>\n",
              "      <th>Patrick J. O'Connor</th>\n",
              "      <td>50554.0</td>\n",
              "    </tr>\n",
              "    <tr>\n",
              "      <th>Proco \"Joe\" Moreno</th>\n",
              "      <td>87143.0</td>\n",
              "    </tr>\n",
              "    <tr>\n",
              "      <th>Raymond A. Lopez</th>\n",
              "      <td>33959.0</td>\n",
              "    </tr>\n",
              "    <tr>\n",
              "      <th>Ricardo Munoz</th>\n",
              "      <td>31445.0</td>\n",
              "    </tr>\n",
              "    <tr>\n",
              "      <th>Roberto Maldonado</th>\n",
              "      <td>68223.0</td>\n",
              "    </tr>\n",
              "    <tr>\n",
              "      <th>Roderick T. Sawyer</th>\n",
              "      <td>32558.0</td>\n",
              "    </tr>\n",
              "    <tr>\n",
              "      <th>Scott Waguespack</th>\n",
              "      <td>68223.0</td>\n",
              "    </tr>\n",
              "    <tr>\n",
              "      <th>Susan Sadlowski Garza</th>\n",
              "      <td>38417.0</td>\n",
              "    </tr>\n",
              "    <tr>\n",
              "      <th>Tom Tunney</th>\n",
              "      <td>88708.0</td>\n",
              "    </tr>\n",
              "    <tr>\n",
              "      <th>Toni L. Foulkes</th>\n",
              "      <td>27573.0</td>\n",
              "    </tr>\n",
              "    <tr>\n",
              "      <th>Walter Burnett, Jr.</th>\n",
              "      <td>87143.0</td>\n",
              "    </tr>\n",
              "    <tr>\n",
              "      <th>William D. Burns</th>\n",
              "      <td>107811.0</td>\n",
              "    </tr>\n",
              "    <tr>\n",
              "      <th>Willie B. Cochran</th>\n",
              "      <td>28024.0</td>\n",
              "    </tr>\n",
              "  </tbody>\n",
              "</table>\n",
              "</div>"
            ],
            "text/plain": [
              "                             income\n",
              "alderman                           \n",
              "Ameya Pawar                 66246.0\n",
              "Anthony A. Beale            38206.0\n",
              "Anthony V. Napolitano       82226.0\n",
              "Ariel E. Reyboras           41307.0\n",
              "Brendan Reilly             110215.0\n",
              "Brian Hopkins               87143.0\n",
              "Carlos Ramirez-Rosa         66246.0\n",
              "Carrie M. Austin            38206.0\n",
              "Chris Taliaferro            55566.0\n",
              "Daniel \"Danny\" Solis        41226.0\n",
              "David H. Moore              33304.0\n",
              "Deborah Mell                66246.0\n",
              "Debra L. Silverstein        50554.0\n",
              "Derrick G. Curtis           65770.0\n",
              "Edward M. Burke             42335.0\n",
              "Emma M. Mitts               36283.0\n",
              "George Cardenas             33959.0\n",
              "Gilbert Villegas            41307.0\n",
              "Gregory I. Mitchell         24941.0\n",
              "Harry Osterman              45442.0\n",
              "Howard B. Brookins, Jr.     33304.0\n",
              "James Cappleman             79565.0\n",
              "Jason C. Ervin              41226.0\n",
              "Joe Moore                   39163.0\n",
              "John S. Arena               70122.0\n",
              "Leslie A. Hairston          28024.0\n",
              "Margaret Laurino            70122.0\n",
              "Marty Quinn                 67045.0\n",
              "Matthew J. O'Shea           59488.0\n",
              "Michael R. Zalewski         42335.0\n",
              "Michael Scott, Jr.          31445.0\n",
              "Michelle A. Harris          32558.0\n",
              "Michelle Smith             100116.0\n",
              "Milagros \"Milly\" Santiago   41307.0\n",
              "Nicholas Sposato            62223.0\n",
              "Pat Dowell                  46340.0\n",
              "Patrick Daley Thompson      41226.0\n",
              "Patrick J. O'Connor         50554.0\n",
              "Proco \"Joe\" Moreno          87143.0\n",
              "Raymond A. Lopez            33959.0\n",
              "Ricardo Munoz               31445.0\n",
              "Roberto Maldonado           68223.0\n",
              "Roderick T. Sawyer          32558.0\n",
              "Scott Waguespack            68223.0\n",
              "Susan Sadlowski Garza       38417.0\n",
              "Tom Tunney                  88708.0\n",
              "Toni L. Foulkes             27573.0\n",
              "Walter Burnett, Jr.         87143.0\n",
              "William D. Burns           107811.0\n",
              "Willie B. Cochran           28024.0"
            ]
          },
          "metadata": {},
          "output_type": "display_data"
        }
      ],
      "source": [
        "# Group the results of the three merged tables by the column alderman and find the median income.\n",
        "display(licenses_zip_ward.groupby(\"alderman\").agg({\"income\":\"median\"}))\n"
      ]
    },
    {
      "cell_type": "markdown",
      "id": "1bdcbfb3",
      "metadata": {
        "id": "1bdcbfb3"
      },
      "source": [
        "### One-to-many merge with multiple tables\n",
        "In this exercise, assume that you are looking to start a business in the city of Chicago. Your perfect idea is to start a company that uses goats to mow the lawn for other businesses. However, you have to choose a location in the city to put your goat farm. You need a location with a great deal of space and relatively few businesses and people around to avoid complaints about the smell. You will need to merge three tables to help you choose your location. The `land_use` table has info on the percentage of vacant land by city ward. The `census` table has population by ward, and the `licenses` table lists businesses by ward."
      ]
    },
    {
      "cell_type": "code",
      "execution_count": 34,
      "id": "6f75f696",
      "metadata": {
        "colab": {
          "base_uri": "https://localhost:8080/",
          "height": 206
        },
        "id": "6f75f696",
        "outputId": "f4b1f6a7-7d73-49b6-d71e-decb47b06e3b"
      },
      "outputs": [
        {
          "data": {
            "application/vnd.microsoft.datawrangler.viewer.v0+json": {
              "columns": [
                {
                  "name": "index",
                  "rawType": "int64",
                  "type": "integer"
                },
                {
                  "name": "ward",
                  "rawType": "object",
                  "type": "string"
                },
                {
                  "name": "residential",
                  "rawType": "int64",
                  "type": "integer"
                },
                {
                  "name": "commercial",
                  "rawType": "int64",
                  "type": "integer"
                },
                {
                  "name": "industrial",
                  "rawType": "int64",
                  "type": "integer"
                },
                {
                  "name": "vacant",
                  "rawType": "int64",
                  "type": "integer"
                },
                {
                  "name": "other",
                  "rawType": "int64",
                  "type": "integer"
                }
              ],
              "ref": "b4aeda70-2641-4bd2-ab0b-ec7bec251812",
              "rows": [
                [
                  "0",
                  "1",
                  "41",
                  "9",
                  "2",
                  "2",
                  "46"
                ],
                [
                  "1",
                  "2",
                  "31",
                  "11",
                  "6",
                  "2",
                  "50"
                ],
                [
                  "2",
                  "3",
                  "20",
                  "5",
                  "3",
                  "13",
                  "59"
                ],
                [
                  "3",
                  "4",
                  "22",
                  "13",
                  "0",
                  "7",
                  "58"
                ],
                [
                  "4",
                  "5",
                  "25",
                  "3",
                  "1",
                  "3",
                  "68"
                ]
              ],
              "shape": {
                "columns": 6,
                "rows": 5
              }
            },
            "text/html": [
              "<div>\n",
              "<style scoped>\n",
              "    .dataframe tbody tr th:only-of-type {\n",
              "        vertical-align: middle;\n",
              "    }\n",
              "\n",
              "    .dataframe tbody tr th {\n",
              "        vertical-align: top;\n",
              "    }\n",
              "\n",
              "    .dataframe thead th {\n",
              "        text-align: right;\n",
              "    }\n",
              "</style>\n",
              "<table border=\"1\" class=\"dataframe\">\n",
              "  <thead>\n",
              "    <tr style=\"text-align: right;\">\n",
              "      <th></th>\n",
              "      <th>ward</th>\n",
              "      <th>residential</th>\n",
              "      <th>commercial</th>\n",
              "      <th>industrial</th>\n",
              "      <th>vacant</th>\n",
              "      <th>other</th>\n",
              "    </tr>\n",
              "  </thead>\n",
              "  <tbody>\n",
              "    <tr>\n",
              "      <th>0</th>\n",
              "      <td>1</td>\n",
              "      <td>41</td>\n",
              "      <td>9</td>\n",
              "      <td>2</td>\n",
              "      <td>2</td>\n",
              "      <td>46</td>\n",
              "    </tr>\n",
              "    <tr>\n",
              "      <th>1</th>\n",
              "      <td>2</td>\n",
              "      <td>31</td>\n",
              "      <td>11</td>\n",
              "      <td>6</td>\n",
              "      <td>2</td>\n",
              "      <td>50</td>\n",
              "    </tr>\n",
              "    <tr>\n",
              "      <th>2</th>\n",
              "      <td>3</td>\n",
              "      <td>20</td>\n",
              "      <td>5</td>\n",
              "      <td>3</td>\n",
              "      <td>13</td>\n",
              "      <td>59</td>\n",
              "    </tr>\n",
              "    <tr>\n",
              "      <th>3</th>\n",
              "      <td>4</td>\n",
              "      <td>22</td>\n",
              "      <td>13</td>\n",
              "      <td>0</td>\n",
              "      <td>7</td>\n",
              "      <td>58</td>\n",
              "    </tr>\n",
              "    <tr>\n",
              "      <th>4</th>\n",
              "      <td>5</td>\n",
              "      <td>25</td>\n",
              "      <td>3</td>\n",
              "      <td>1</td>\n",
              "      <td>3</td>\n",
              "      <td>68</td>\n",
              "    </tr>\n",
              "  </tbody>\n",
              "</table>\n",
              "</div>"
            ],
            "text/plain": [
              "  ward  residential  commercial  industrial  vacant  other\n",
              "0    1           41           9           2       2     46\n",
              "1    2           31          11           6       2     50\n",
              "2    3           20           5           3      13     59\n",
              "3    4           22          13           0       7     58\n",
              "4    5           25           3           1       3     68"
            ]
          },
          "execution_count": 34,
          "metadata": {},
          "output_type": "execute_result"
        }
      ],
      "source": [
        "land_use = pd.read_pickle(\"data/land_use.p\")\n",
        "land_use.head()"
      ]
    },
    {
      "cell_type": "code",
      "execution_count": 35,
      "id": "a144405d",
      "metadata": {
        "colab": {
          "base_uri": "https://localhost:8080/",
          "height": 241
        },
        "id": "a144405d",
        "outputId": "3c9d6c44-117b-4625-833a-e3ee15cbd08e"
      },
      "outputs": [
        {
          "data": {
            "application/vnd.microsoft.datawrangler.viewer.v0+json": {
              "columns": [
                {
                  "name": "index",
                  "rawType": "int64",
                  "type": "integer"
                },
                {
                  "name": "ward",
                  "rawType": "object",
                  "type": "string"
                },
                {
                  "name": "pop_2000",
                  "rawType": "int64",
                  "type": "integer"
                },
                {
                  "name": "pop_2010",
                  "rawType": "int64",
                  "type": "integer"
                },
                {
                  "name": "change",
                  "rawType": "object",
                  "type": "string"
                },
                {
                  "name": "address",
                  "rawType": "object",
                  "type": "string"
                },
                {
                  "name": "zip",
                  "rawType": "object",
                  "type": "string"
                }
              ],
              "ref": "b1962b09-ea03-4d2b-9153-bf95299070f9",
              "rows": [
                [
                  "0",
                  "1",
                  "52951",
                  "56149",
                  "6%",
                  "2765 WEST SAINT MARY STREET",
                  "60647"
                ],
                [
                  "1",
                  "2",
                  "54361",
                  "55805",
                  "3%",
                  "WM WASTE MANAGEMENT 1500",
                  "60622"
                ],
                [
                  "2",
                  "3",
                  "40385",
                  "53039",
                  "31%",
                  "17 EAST 38TH STREET",
                  "60653"
                ],
                [
                  "3",
                  "4",
                  "51953",
                  "54589",
                  "5%",
                  "31ST ST HARBOR BUILDING LAKEFRONT TRAIL",
                  "60653"
                ],
                [
                  "4",
                  "5",
                  "55302",
                  "51455",
                  "-7%",
                  "JACKSON PARK LAGOON SOUTH CORNELL DRIVE",
                  "60637"
                ]
              ],
              "shape": {
                "columns": 6,
                "rows": 5
              }
            },
            "text/html": [
              "<div>\n",
              "<style scoped>\n",
              "    .dataframe tbody tr th:only-of-type {\n",
              "        vertical-align: middle;\n",
              "    }\n",
              "\n",
              "    .dataframe tbody tr th {\n",
              "        vertical-align: top;\n",
              "    }\n",
              "\n",
              "    .dataframe thead th {\n",
              "        text-align: right;\n",
              "    }\n",
              "</style>\n",
              "<table border=\"1\" class=\"dataframe\">\n",
              "  <thead>\n",
              "    <tr style=\"text-align: right;\">\n",
              "      <th></th>\n",
              "      <th>ward</th>\n",
              "      <th>pop_2000</th>\n",
              "      <th>pop_2010</th>\n",
              "      <th>change</th>\n",
              "      <th>address</th>\n",
              "      <th>zip</th>\n",
              "    </tr>\n",
              "  </thead>\n",
              "  <tbody>\n",
              "    <tr>\n",
              "      <th>0</th>\n",
              "      <td>1</td>\n",
              "      <td>52951</td>\n",
              "      <td>56149</td>\n",
              "      <td>6%</td>\n",
              "      <td>2765 WEST SAINT MARY STREET</td>\n",
              "      <td>60647</td>\n",
              "    </tr>\n",
              "    <tr>\n",
              "      <th>1</th>\n",
              "      <td>2</td>\n",
              "      <td>54361</td>\n",
              "      <td>55805</td>\n",
              "      <td>3%</td>\n",
              "      <td>WM WASTE MANAGEMENT 1500</td>\n",
              "      <td>60622</td>\n",
              "    </tr>\n",
              "    <tr>\n",
              "      <th>2</th>\n",
              "      <td>3</td>\n",
              "      <td>40385</td>\n",
              "      <td>53039</td>\n",
              "      <td>31%</td>\n",
              "      <td>17 EAST 38TH STREET</td>\n",
              "      <td>60653</td>\n",
              "    </tr>\n",
              "    <tr>\n",
              "      <th>3</th>\n",
              "      <td>4</td>\n",
              "      <td>51953</td>\n",
              "      <td>54589</td>\n",
              "      <td>5%</td>\n",
              "      <td>31ST ST HARBOR BUILDING LAKEFRONT TRAIL</td>\n",
              "      <td>60653</td>\n",
              "    </tr>\n",
              "    <tr>\n",
              "      <th>4</th>\n",
              "      <td>5</td>\n",
              "      <td>55302</td>\n",
              "      <td>51455</td>\n",
              "      <td>-7%</td>\n",
              "      <td>JACKSON PARK LAGOON SOUTH CORNELL DRIVE</td>\n",
              "      <td>60637</td>\n",
              "    </tr>\n",
              "  </tbody>\n",
              "</table>\n",
              "</div>"
            ],
            "text/plain": [
              "  ward  pop_2000  pop_2010 change                                  address  \\\n",
              "0    1     52951     56149     6%              2765 WEST SAINT MARY STREET   \n",
              "1    2     54361     55805     3%                 WM WASTE MANAGEMENT 1500   \n",
              "2    3     40385     53039    31%                      17 EAST 38TH STREET   \n",
              "3    4     51953     54589     5%  31ST ST HARBOR BUILDING LAKEFRONT TRAIL   \n",
              "4    5     55302     51455    -7%  JACKSON PARK LAGOON SOUTH CORNELL DRIVE   \n",
              "\n",
              "     zip  \n",
              "0  60647  \n",
              "1  60622  \n",
              "2  60653  \n",
              "3  60653  \n",
              "4  60637  "
            ]
          },
          "execution_count": 35,
          "metadata": {},
          "output_type": "execute_result"
        }
      ],
      "source": [
        "census.head()"
      ]
    },
    {
      "cell_type": "code",
      "execution_count": 36,
      "id": "8a19cc4a",
      "metadata": {
        "colab": {
          "base_uri": "https://localhost:8080/",
          "height": 258
        },
        "id": "8a19cc4a",
        "outputId": "ef393edd-12a2-4982-bcd0-a634e947bb0b"
      },
      "outputs": [
        {
          "data": {
            "application/vnd.microsoft.datawrangler.viewer.v0+json": {
              "columns": [
                {
                  "name": "index",
                  "rawType": "int64",
                  "type": "integer"
                },
                {
                  "name": "account",
                  "rawType": "object",
                  "type": "string"
                },
                {
                  "name": "ward",
                  "rawType": "object",
                  "type": "string"
                },
                {
                  "name": "aid",
                  "rawType": "object",
                  "type": "unknown"
                },
                {
                  "name": "business",
                  "rawType": "object",
                  "type": "string"
                },
                {
                  "name": "address",
                  "rawType": "object",
                  "type": "string"
                },
                {
                  "name": "zip",
                  "rawType": "object",
                  "type": "string"
                }
              ],
              "ref": "8fdd06eb-0321-4949-a75c-6051b2e59297",
              "rows": [
                [
                  "0",
                  "307071",
                  "3",
                  "743",
                  "REGGIE'S BAR & GRILL",
                  "2105 S STATE ST",
                  "60616"
                ],
                [
                  "1",
                  "10",
                  "10",
                  "829",
                  "HONEYBEERS",
                  "13200 S HOUSTON AVE",
                  "60633"
                ],
                [
                  "2",
                  "10002",
                  "14",
                  "775",
                  "CELINA DELI",
                  "5089 S ARCHER AVE",
                  "60632"
                ],
                [
                  "3",
                  "10005",
                  "12",
                  null,
                  "KRAFT FOODS NORTH AMERICA",
                  "2005 W 43RD ST",
                  "60609"
                ],
                [
                  "4",
                  "10044",
                  "44",
                  "638",
                  "NEYBOUR'S TAVERN & GRILLE",
                  "3651 N SOUTHPORT AVE",
                  "60613"
                ]
              ],
              "shape": {
                "columns": 6,
                "rows": 5
              }
            },
            "text/html": [
              "<div>\n",
              "<style scoped>\n",
              "    .dataframe tbody tr th:only-of-type {\n",
              "        vertical-align: middle;\n",
              "    }\n",
              "\n",
              "    .dataframe tbody tr th {\n",
              "        vertical-align: top;\n",
              "    }\n",
              "\n",
              "    .dataframe thead th {\n",
              "        text-align: right;\n",
              "    }\n",
              "</style>\n",
              "<table border=\"1\" class=\"dataframe\">\n",
              "  <thead>\n",
              "    <tr style=\"text-align: right;\">\n",
              "      <th></th>\n",
              "      <th>account</th>\n",
              "      <th>ward</th>\n",
              "      <th>aid</th>\n",
              "      <th>business</th>\n",
              "      <th>address</th>\n",
              "      <th>zip</th>\n",
              "    </tr>\n",
              "  </thead>\n",
              "  <tbody>\n",
              "    <tr>\n",
              "      <th>0</th>\n",
              "      <td>307071</td>\n",
              "      <td>3</td>\n",
              "      <td>743</td>\n",
              "      <td>REGGIE'S BAR &amp; GRILL</td>\n",
              "      <td>2105 S STATE ST</td>\n",
              "      <td>60616</td>\n",
              "    </tr>\n",
              "    <tr>\n",
              "      <th>1</th>\n",
              "      <td>10</td>\n",
              "      <td>10</td>\n",
              "      <td>829</td>\n",
              "      <td>HONEYBEERS</td>\n",
              "      <td>13200 S HOUSTON AVE</td>\n",
              "      <td>60633</td>\n",
              "    </tr>\n",
              "    <tr>\n",
              "      <th>2</th>\n",
              "      <td>10002</td>\n",
              "      <td>14</td>\n",
              "      <td>775</td>\n",
              "      <td>CELINA DELI</td>\n",
              "      <td>5089 S ARCHER AVE</td>\n",
              "      <td>60632</td>\n",
              "    </tr>\n",
              "    <tr>\n",
              "      <th>3</th>\n",
              "      <td>10005</td>\n",
              "      <td>12</td>\n",
              "      <td>NaN</td>\n",
              "      <td>KRAFT FOODS NORTH AMERICA</td>\n",
              "      <td>2005 W 43RD ST</td>\n",
              "      <td>60609</td>\n",
              "    </tr>\n",
              "    <tr>\n",
              "      <th>4</th>\n",
              "      <td>10044</td>\n",
              "      <td>44</td>\n",
              "      <td>638</td>\n",
              "      <td>NEYBOUR'S TAVERN &amp; GRILLE</td>\n",
              "      <td>3651 N SOUTHPORT AVE</td>\n",
              "      <td>60613</td>\n",
              "    </tr>\n",
              "  </tbody>\n",
              "</table>\n",
              "</div>"
            ],
            "text/plain": [
              "  account ward  aid                   business               address    zip\n",
              "0  307071    3  743       REGGIE'S BAR & GRILL       2105 S STATE ST  60616\n",
              "1      10   10  829                 HONEYBEERS   13200 S HOUSTON AVE  60633\n",
              "2   10002   14  775                CELINA DELI     5089 S ARCHER AVE  60632\n",
              "3   10005   12  NaN  KRAFT FOODS NORTH AMERICA        2005 W 43RD ST  60609\n",
              "4   10044   44  638  NEYBOUR'S TAVERN & GRILLE  3651 N SOUTHPORT AVE  60613"
            ]
          },
          "execution_count": 36,
          "metadata": {},
          "output_type": "execute_result"
        }
      ],
      "source": [
        "licenses.head()"
      ]
    },
    {
      "cell_type": "code",
      "execution_count": 37,
      "id": "1a68e4ab",
      "metadata": {
        "colab": {
          "base_uri": "https://localhost:8080/",
          "height": 400
        },
        "id": "1a68e4ab",
        "outputId": "f471f833-9979-4fd2-8273-2a585206fe0c"
      },
      "outputs": [
        {
          "data": {
            "application/vnd.microsoft.datawrangler.viewer.v0+json": {
              "columns": [
                {
                  "name": "index",
                  "rawType": "int64",
                  "type": "integer"
                },
                {
                  "name": "ward",
                  "rawType": "object",
                  "type": "string"
                },
                {
                  "name": "residential",
                  "rawType": "int64",
                  "type": "integer"
                },
                {
                  "name": "commercial",
                  "rawType": "int64",
                  "type": "integer"
                },
                {
                  "name": "industrial",
                  "rawType": "int64",
                  "type": "integer"
                },
                {
                  "name": "vacant",
                  "rawType": "int64",
                  "type": "integer"
                },
                {
                  "name": "other",
                  "rawType": "int64",
                  "type": "integer"
                },
                {
                  "name": "pop_2000",
                  "rawType": "int64",
                  "type": "integer"
                },
                {
                  "name": "pop_2010",
                  "rawType": "int64",
                  "type": "integer"
                },
                {
                  "name": "change",
                  "rawType": "object",
                  "type": "string"
                },
                {
                  "name": "address_cen",
                  "rawType": "object",
                  "type": "string"
                },
                {
                  "name": "zip_cen",
                  "rawType": "object",
                  "type": "string"
                },
                {
                  "name": "account",
                  "rawType": "object",
                  "type": "string"
                },
                {
                  "name": "aid",
                  "rawType": "object",
                  "type": "unknown"
                },
                {
                  "name": "business",
                  "rawType": "object",
                  "type": "string"
                },
                {
                  "name": "address_lic",
                  "rawType": "object",
                  "type": "string"
                },
                {
                  "name": "zip_lic",
                  "rawType": "object",
                  "type": "string"
                }
              ],
              "ref": "4bd9382b-38e9-44d7-a69c-4ba63d1aa2ab",
              "rows": [
                [
                  "0",
                  "1",
                  "41",
                  "9",
                  "2",
                  "2",
                  "46",
                  "52951",
                  "56149",
                  "6%",
                  "2765 WEST SAINT MARY STREET",
                  "60647",
                  "12024",
                  null,
                  "DIGILOG ELECTRONICS",
                  "1038 N ASHLAND AVE",
                  "60622"
                ],
                [
                  "1",
                  "1",
                  "41",
                  "9",
                  "2",
                  "2",
                  "46",
                  "52951",
                  "56149",
                  "6%",
                  "2765 WEST SAINT MARY STREET",
                  "60647",
                  "14446",
                  "743",
                  "EMPTY BOTTLE INC",
                  "1035 N WESTERN AVE 1ST",
                  "60622"
                ],
                [
                  "2",
                  "1",
                  "41",
                  "9",
                  "2",
                  "2",
                  "46",
                  "52951",
                  "56149",
                  "6%",
                  "2765 WEST SAINT MARY STREET",
                  "60647",
                  "14624",
                  "775",
                  "LITTLE MEL'S HOT DOG",
                  "2205 N CALIFORNIA AVE",
                  "60647"
                ],
                [
                  "3",
                  "1",
                  "41",
                  "9",
                  "2",
                  "2",
                  "46",
                  "52951",
                  "56149",
                  "6%",
                  "2765 WEST SAINT MARY STREET",
                  "60647",
                  "14987",
                  null,
                  "MR. BROWN'S LOUNGE",
                  "2301 W CHICAGO AVE 1ST",
                  "60622"
                ],
                [
                  "4",
                  "1",
                  "41",
                  "9",
                  "2",
                  "2",
                  "46",
                  "52951",
                  "56149",
                  "6%",
                  "2765 WEST SAINT MARY STREET",
                  "60647",
                  "15642",
                  "814",
                  "Beat Kitchen",
                  "2000-2100 W DIVISION ST",
                  "60622"
                ]
              ],
              "shape": {
                "columns": 16,
                "rows": 5
              }
            },
            "text/html": [
              "<div>\n",
              "<style scoped>\n",
              "    .dataframe tbody tr th:only-of-type {\n",
              "        vertical-align: middle;\n",
              "    }\n",
              "\n",
              "    .dataframe tbody tr th {\n",
              "        vertical-align: top;\n",
              "    }\n",
              "\n",
              "    .dataframe thead th {\n",
              "        text-align: right;\n",
              "    }\n",
              "</style>\n",
              "<table border=\"1\" class=\"dataframe\">\n",
              "  <thead>\n",
              "    <tr style=\"text-align: right;\">\n",
              "      <th></th>\n",
              "      <th>ward</th>\n",
              "      <th>residential</th>\n",
              "      <th>commercial</th>\n",
              "      <th>industrial</th>\n",
              "      <th>vacant</th>\n",
              "      <th>other</th>\n",
              "      <th>pop_2000</th>\n",
              "      <th>pop_2010</th>\n",
              "      <th>change</th>\n",
              "      <th>address_cen</th>\n",
              "      <th>zip_cen</th>\n",
              "      <th>account</th>\n",
              "      <th>aid</th>\n",
              "      <th>business</th>\n",
              "      <th>address_lic</th>\n",
              "      <th>zip_lic</th>\n",
              "    </tr>\n",
              "  </thead>\n",
              "  <tbody>\n",
              "    <tr>\n",
              "      <th>0</th>\n",
              "      <td>1</td>\n",
              "      <td>41</td>\n",
              "      <td>9</td>\n",
              "      <td>2</td>\n",
              "      <td>2</td>\n",
              "      <td>46</td>\n",
              "      <td>52951</td>\n",
              "      <td>56149</td>\n",
              "      <td>6%</td>\n",
              "      <td>2765 WEST SAINT MARY STREET</td>\n",
              "      <td>60647</td>\n",
              "      <td>12024</td>\n",
              "      <td>NaN</td>\n",
              "      <td>DIGILOG ELECTRONICS</td>\n",
              "      <td>1038 N ASHLAND AVE</td>\n",
              "      <td>60622</td>\n",
              "    </tr>\n",
              "    <tr>\n",
              "      <th>1</th>\n",
              "      <td>1</td>\n",
              "      <td>41</td>\n",
              "      <td>9</td>\n",
              "      <td>2</td>\n",
              "      <td>2</td>\n",
              "      <td>46</td>\n",
              "      <td>52951</td>\n",
              "      <td>56149</td>\n",
              "      <td>6%</td>\n",
              "      <td>2765 WEST SAINT MARY STREET</td>\n",
              "      <td>60647</td>\n",
              "      <td>14446</td>\n",
              "      <td>743</td>\n",
              "      <td>EMPTY BOTTLE INC</td>\n",
              "      <td>1035 N WESTERN AVE 1ST</td>\n",
              "      <td>60622</td>\n",
              "    </tr>\n",
              "    <tr>\n",
              "      <th>2</th>\n",
              "      <td>1</td>\n",
              "      <td>41</td>\n",
              "      <td>9</td>\n",
              "      <td>2</td>\n",
              "      <td>2</td>\n",
              "      <td>46</td>\n",
              "      <td>52951</td>\n",
              "      <td>56149</td>\n",
              "      <td>6%</td>\n",
              "      <td>2765 WEST SAINT MARY STREET</td>\n",
              "      <td>60647</td>\n",
              "      <td>14624</td>\n",
              "      <td>775</td>\n",
              "      <td>LITTLE MEL'S HOT DOG</td>\n",
              "      <td>2205 N CALIFORNIA AVE</td>\n",
              "      <td>60647</td>\n",
              "    </tr>\n",
              "    <tr>\n",
              "      <th>3</th>\n",
              "      <td>1</td>\n",
              "      <td>41</td>\n",
              "      <td>9</td>\n",
              "      <td>2</td>\n",
              "      <td>2</td>\n",
              "      <td>46</td>\n",
              "      <td>52951</td>\n",
              "      <td>56149</td>\n",
              "      <td>6%</td>\n",
              "      <td>2765 WEST SAINT MARY STREET</td>\n",
              "      <td>60647</td>\n",
              "      <td>14987</td>\n",
              "      <td>NaN</td>\n",
              "      <td>MR. BROWN'S LOUNGE</td>\n",
              "      <td>2301 W CHICAGO AVE 1ST</td>\n",
              "      <td>60622</td>\n",
              "    </tr>\n",
              "    <tr>\n",
              "      <th>4</th>\n",
              "      <td>1</td>\n",
              "      <td>41</td>\n",
              "      <td>9</td>\n",
              "      <td>2</td>\n",
              "      <td>2</td>\n",
              "      <td>46</td>\n",
              "      <td>52951</td>\n",
              "      <td>56149</td>\n",
              "      <td>6%</td>\n",
              "      <td>2765 WEST SAINT MARY STREET</td>\n",
              "      <td>60647</td>\n",
              "      <td>15642</td>\n",
              "      <td>814</td>\n",
              "      <td>Beat Kitchen</td>\n",
              "      <td>2000-2100 W DIVISION ST</td>\n",
              "      <td>60622</td>\n",
              "    </tr>\n",
              "  </tbody>\n",
              "</table>\n",
              "</div>"
            ],
            "text/plain": [
              "  ward  residential  commercial  industrial  vacant  other  pop_2000  \\\n",
              "0    1           41           9           2       2     46     52951   \n",
              "1    1           41           9           2       2     46     52951   \n",
              "2    1           41           9           2       2     46     52951   \n",
              "3    1           41           9           2       2     46     52951   \n",
              "4    1           41           9           2       2     46     52951   \n",
              "\n",
              "   pop_2010 change                  address_cen zip_cen account  aid  \\\n",
              "0     56149     6%  2765 WEST SAINT MARY STREET   60647   12024  NaN   \n",
              "1     56149     6%  2765 WEST SAINT MARY STREET   60647   14446  743   \n",
              "2     56149     6%  2765 WEST SAINT MARY STREET   60647   14624  775   \n",
              "3     56149     6%  2765 WEST SAINT MARY STREET   60647   14987  NaN   \n",
              "4     56149     6%  2765 WEST SAINT MARY STREET   60647   15642  814   \n",
              "\n",
              "               business              address_lic zip_lic  \n",
              "0   DIGILOG ELECTRONICS       1038 N ASHLAND AVE   60622  \n",
              "1      EMPTY BOTTLE INC   1035 N WESTERN AVE 1ST   60622  \n",
              "2  LITTLE MEL'S HOT DOG    2205 N CALIFORNIA AVE   60647  \n",
              "3    MR. BROWN'S LOUNGE   2301 W CHICAGO AVE 1ST   60622  \n",
              "4          Beat Kitchen  2000-2100 W DIVISION ST   60622  "
            ]
          },
          "execution_count": 37,
          "metadata": {},
          "output_type": "execute_result"
        }
      ],
      "source": [
        "# Merge land_use and census on the ward column. Merge the result of this with licenses on the ward column, using the suffix _cen for the left table and _lic for the right table. Save this to the variable land_cen_lic.\n",
        "land_cen_lic = land_use.merge(census, on=\"ward\").merge(licenses, on=\"ward\", suffixes=(\"_cen\", \"_lic\"))\n",
        "land_cen_lic.head()"
      ]
    },
    {
      "cell_type": "code",
      "execution_count": 38,
      "id": "cd6ebf74",
      "metadata": {
        "colab": {
          "base_uri": "https://localhost:8080/",
          "height": 206
        },
        "id": "cd6ebf74",
        "outputId": "cbe946ac-aa1f-4147-b149-84ddf6796f82"
      },
      "outputs": [
        {
          "data": {
            "application/vnd.microsoft.datawrangler.viewer.v0+json": {
              "columns": [
                {
                  "name": "index",
                  "rawType": "int64",
                  "type": "integer"
                },
                {
                  "name": "ward",
                  "rawType": "object",
                  "type": "string"
                },
                {
                  "name": "pop_2010",
                  "rawType": "int64",
                  "type": "integer"
                },
                {
                  "name": "vacant",
                  "rawType": "int64",
                  "type": "integer"
                },
                {
                  "name": "account",
                  "rawType": "int64",
                  "type": "integer"
                }
              ],
              "ref": "32c6eb12-a833-4ff0-90e0-9b251bed7a8c",
              "rows": [
                [
                  "0",
                  "1",
                  "56149",
                  "2",
                  "253"
                ],
                [
                  "1",
                  "10",
                  "51535",
                  "14",
                  "130"
                ],
                [
                  "2",
                  "11",
                  "51497",
                  "5",
                  "201"
                ],
                [
                  "3",
                  "12",
                  "52235",
                  "4",
                  "255"
                ],
                [
                  "4",
                  "13",
                  "53722",
                  "1",
                  "101"
                ]
              ],
              "shape": {
                "columns": 4,
                "rows": 5
              }
            },
            "text/html": [
              "<div>\n",
              "<style scoped>\n",
              "    .dataframe tbody tr th:only-of-type {\n",
              "        vertical-align: middle;\n",
              "    }\n",
              "\n",
              "    .dataframe tbody tr th {\n",
              "        vertical-align: top;\n",
              "    }\n",
              "\n",
              "    .dataframe thead th {\n",
              "        text-align: right;\n",
              "    }\n",
              "</style>\n",
              "<table border=\"1\" class=\"dataframe\">\n",
              "  <thead>\n",
              "    <tr style=\"text-align: right;\">\n",
              "      <th></th>\n",
              "      <th>ward</th>\n",
              "      <th>pop_2010</th>\n",
              "      <th>vacant</th>\n",
              "      <th>account</th>\n",
              "    </tr>\n",
              "  </thead>\n",
              "  <tbody>\n",
              "    <tr>\n",
              "      <th>0</th>\n",
              "      <td>1</td>\n",
              "      <td>56149</td>\n",
              "      <td>2</td>\n",
              "      <td>253</td>\n",
              "    </tr>\n",
              "    <tr>\n",
              "      <th>1</th>\n",
              "      <td>10</td>\n",
              "      <td>51535</td>\n",
              "      <td>14</td>\n",
              "      <td>130</td>\n",
              "    </tr>\n",
              "    <tr>\n",
              "      <th>2</th>\n",
              "      <td>11</td>\n",
              "      <td>51497</td>\n",
              "      <td>5</td>\n",
              "      <td>201</td>\n",
              "    </tr>\n",
              "    <tr>\n",
              "      <th>3</th>\n",
              "      <td>12</td>\n",
              "      <td>52235</td>\n",
              "      <td>4</td>\n",
              "      <td>255</td>\n",
              "    </tr>\n",
              "    <tr>\n",
              "      <th>4</th>\n",
              "      <td>13</td>\n",
              "      <td>53722</td>\n",
              "      <td>1</td>\n",
              "      <td>101</td>\n",
              "    </tr>\n",
              "  </tbody>\n",
              "</table>\n",
              "</div>"
            ],
            "text/plain": [
              "  ward  pop_2010  vacant  account\n",
              "0    1     56149       2      253\n",
              "1   10     51535      14      130\n",
              "2   11     51497       5      201\n",
              "3   12     52235       4      255\n",
              "4   13     53722       1      101"
            ]
          },
          "execution_count": 38,
          "metadata": {},
          "output_type": "execute_result"
        }
      ],
      "source": [
        "# Group land_cen_lic by ward, pop_2010 (the population in 2010), and vacant, then count the number of accounts. Save the results to pop_vac_lic.\n",
        "# The as_index=False parameter keeps the grouping columns as regular columns instead of making them the index\n",
        "# The agg() function applies the count aggregation to the 'account' column\n",
        "pop_vac_lic = land_cen_lic.groupby([\"ward\", \"pop_2010\", \"vacant\"], as_index=False).agg({\"account\":\"count\"})\n",
        "pop_vac_lic.head()"
      ]
    },
    {
      "cell_type": "code",
      "execution_count": 39,
      "id": "f7f127d4",
      "metadata": {
        "colab": {
          "base_uri": "https://localhost:8080/",
          "height": 206
        },
        "id": "f7f127d4",
        "outputId": "f79dbb09-7cd5-40f8-e937-7138c60da84f"
      },
      "outputs": [
        {
          "data": {
            "application/vnd.microsoft.datawrangler.viewer.v0+json": {
              "columns": [
                {
                  "name": "index",
                  "rawType": "int64",
                  "type": "integer"
                },
                {
                  "name": "ward",
                  "rawType": "object",
                  "type": "string"
                },
                {
                  "name": "pop_2010",
                  "rawType": "int64",
                  "type": "integer"
                },
                {
                  "name": "vacant",
                  "rawType": "int64",
                  "type": "integer"
                },
                {
                  "name": "account",
                  "rawType": "int64",
                  "type": "integer"
                }
              ],
              "ref": "012eb4c5-266d-4355-a889-e01e5f3e1c36",
              "rows": [
                [
                  "47",
                  "7",
                  "51581",
                  "19",
                  "80"
                ],
                [
                  "12",
                  "20",
                  "52372",
                  "15",
                  "123"
                ],
                [
                  "1",
                  "10",
                  "51535",
                  "14",
                  "130"
                ],
                [
                  "16",
                  "24",
                  "54909",
                  "13",
                  "98"
                ],
                [
                  "7",
                  "16",
                  "51954",
                  "13",
                  "156"
                ]
              ],
              "shape": {
                "columns": 4,
                "rows": 5
              }
            },
            "text/html": [
              "<div>\n",
              "<style scoped>\n",
              "    .dataframe tbody tr th:only-of-type {\n",
              "        vertical-align: middle;\n",
              "    }\n",
              "\n",
              "    .dataframe tbody tr th {\n",
              "        vertical-align: top;\n",
              "    }\n",
              "\n",
              "    .dataframe thead th {\n",
              "        text-align: right;\n",
              "    }\n",
              "</style>\n",
              "<table border=\"1\" class=\"dataframe\">\n",
              "  <thead>\n",
              "    <tr style=\"text-align: right;\">\n",
              "      <th></th>\n",
              "      <th>ward</th>\n",
              "      <th>pop_2010</th>\n",
              "      <th>vacant</th>\n",
              "      <th>account</th>\n",
              "    </tr>\n",
              "  </thead>\n",
              "  <tbody>\n",
              "    <tr>\n",
              "      <th>47</th>\n",
              "      <td>7</td>\n",
              "      <td>51581</td>\n",
              "      <td>19</td>\n",
              "      <td>80</td>\n",
              "    </tr>\n",
              "    <tr>\n",
              "      <th>12</th>\n",
              "      <td>20</td>\n",
              "      <td>52372</td>\n",
              "      <td>15</td>\n",
              "      <td>123</td>\n",
              "    </tr>\n",
              "    <tr>\n",
              "      <th>1</th>\n",
              "      <td>10</td>\n",
              "      <td>51535</td>\n",
              "      <td>14</td>\n",
              "      <td>130</td>\n",
              "    </tr>\n",
              "    <tr>\n",
              "      <th>16</th>\n",
              "      <td>24</td>\n",
              "      <td>54909</td>\n",
              "      <td>13</td>\n",
              "      <td>98</td>\n",
              "    </tr>\n",
              "    <tr>\n",
              "      <th>7</th>\n",
              "      <td>16</td>\n",
              "      <td>51954</td>\n",
              "      <td>13</td>\n",
              "      <td>156</td>\n",
              "    </tr>\n",
              "  </tbody>\n",
              "</table>\n",
              "</div>"
            ],
            "text/plain": [
              "   ward  pop_2010  vacant  account\n",
              "47    7     51581      19       80\n",
              "12   20     52372      15      123\n",
              "1    10     51535      14      130\n",
              "16   24     54909      13       98\n",
              "7    16     51954      13      156"
            ]
          },
          "metadata": {},
          "output_type": "display_data"
        }
      ],
      "source": [
        "# Sort pop_vac_lic by vacant, account, an pop_2010 in descending, ascending, and ascending order respectively. Save it as sorted_pop_vac_lic.\n",
        "sorted_pop_vac_lic = pop_vac_lic.sort_values(by=[\"vacant\", \"account\", \"pop_2010\"], ascending=[False, True, True])\n",
        "\n",
        "# Print the top few rows of sorted_pop_vac_lic\n",
        "display(sorted_pop_vac_lic.head())"
      ]
    },
    {
      "cell_type": "markdown",
      "id": "b69bb297",
      "metadata": {
        "id": "b69bb297"
      },
      "source": [
        "# Left Join\n",
        "\n",
        "## Overview and Intuition\n",
        "\n",
        "In relational data analysis, joining tables is the act of combining records from two or more tables based on shared key values. While the **inner join** includes only rows where keys exist in **both** tables, the **left join** (also called a *left outer join*) is more inclusive: it returns all rows from the **left** table and fills in matching data from the **right** table - using missing values (`NaN`) where no match exists.\n",
        "\n",
        "**Intuitive Principle:**  \n",
        "\n",
        " The **left table** is \"guaranteed\" - all its records are preserved, regardless of whether there is corresponding data in the right table. <br>\n",
        " The **right table** only contributes data where the join key matches the left. <br>\n",
        " If you imagine a Venn diagram, a left join corresponds to the entirety of the left circle, plus any overlapping data from the right.<br>\n",
        "\n",
        "**Why use a left join?**<br>\n",
        "1) To **preserve the full set** of observations from a main dataset, adding supplementary data where available. <br>\n",
        "2) To identify **missing or unmatched** entries in a secondary dataset. <br>\n",
        "3) To annotate, enrich, or audit a dataset without losing the original structure or dropping any data.\n",
        "\n",
        "\n",
        "## Comparing Inner Join and Left Join\n",
        "\n",
        "| Join Type   | What is included?                                                         |\n",
        "|-------------|---------------------------------------------------------------------------|\n",
        "| Inner Join  | Only rows where the join key exists in **both** left and right tables      |\n",
        "| Left Join   | **All** rows from left table, plus matching data from right (or NaN)      |\n",
        "\n",
        "\n",
        "## Example: Left Join in Action\n",
        "\n",
        "Suppose you have:\n",
        "\n",
        "**Left Table**  \n",
        "| user_id | name   |\n",
        "|---------|--------|\n",
        "| 1       | Alice  |\n",
        "| 2       | Bob    |\n",
        "| 3       | Carlos |\n",
        "\n",
        "**Right Table**  \n",
        "| user_id | purchase_amount |\n",
        "|---------|----------------|\n",
        "| 1       | 100            |\n",
        "| 2       | 50             |\n",
        "\n",
        "**Left Join Result**  \n",
        "| user_id | name   | purchase_amount |\n",
        "|---------|--------|----------------|\n",
        "| 1       | Alice  | 100            |\n",
        "| 2       | Bob    | 50             |\n",
        "| 3       | Carlos | NaN            |\n",
        "\n",
        "Carlos is preserved in the result, even though he has no corresponding record in the right table. <br>\n",
        "\n",
        "\n",
        "## Pandas Syntax for a Left Join\n",
        "\n",
        "The key argument is `how=\"left\"` in `pd.merge()`:\n",
        "\n",
        "```python\n",
        "import pandas as pd\n",
        "\n",
        "merged = pd.merge(\n",
        "    left=left_table,\n",
        "    right=right_table,\n",
        "    on=\"user_id\",\n",
        "    how=\"left\"\n",
        ")\n",
        "```\n",
        "You may also use composite keys with `on=[\"key1\", \"key2\"]`. <br>\n",
        "Columns with no matching right-side value will be filled with `NaN`.\n",
        "\n",
        "\n",
        "## Best Practices\n",
        "\n",
        "1) Always use `how=\"left\"` when you want to preserve all rows from the primary (left) dataset.<br>\n",
        "2) Inspect the result for unmatched rows (those with `NaN` in right table columns).<br>\n",
        "3) Left joins are especially useful for feature engineering, data enrichment, and identifying gaps between datasets."
      ]
    },
    {
      "cell_type": "code",
      "execution_count": 40,
      "id": "a683cfc8",
      "metadata": {
        "id": "a683cfc8"
      },
      "outputs": [],
      "source": [
        "movies = pd.read_pickle(\"data/movies.p\")\n",
        "movies = movies.rename(columns={\"title\":\"original_title\"})"
      ]
    },
    {
      "cell_type": "code",
      "execution_count": 41,
      "id": "e4265ef3",
      "metadata": {
        "colab": {
          "base_uri": "https://localhost:8080/",
          "height": 224
        },
        "id": "e4265ef3",
        "outputId": "0f274216-2788-4fe9-d181-89628472ba79"
      },
      "outputs": [
        {
          "data": {
            "application/vnd.microsoft.datawrangler.viewer.v0+json": {
              "columns": [
                {
                  "name": "index",
                  "rawType": "int64",
                  "type": "integer"
                },
                {
                  "name": "id",
                  "rawType": "int64",
                  "type": "integer"
                },
                {
                  "name": "original_title",
                  "rawType": "object",
                  "type": "string"
                },
                {
                  "name": "popularity",
                  "rawType": "float64",
                  "type": "float"
                },
                {
                  "name": "release_date",
                  "rawType": "object",
                  "type": "string"
                }
              ],
              "ref": "129fa234-bd75-46ff-a14d-a290353d79b4",
              "rows": [
                [
                  "0",
                  "257",
                  "Oliver Twist",
                  "20.415572",
                  "2005-09-23"
                ],
                [
                  "1",
                  "14290",
                  "Better Luck Tomorrow",
                  "3.877036",
                  "2002-01-12"
                ],
                [
                  "2",
                  "38365",
                  "Grown Ups",
                  "38.864027",
                  "2010-06-24"
                ],
                [
                  "3",
                  "9672",
                  "Infamous",
                  "3.6808959999999997",
                  "2006-11-16"
                ],
                [
                  "4",
                  "12819",
                  "Alpha and Omega",
                  "12.300789",
                  "2010-09-17"
                ]
              ],
              "shape": {
                "columns": 4,
                "rows": 5
              }
            },
            "text/html": [
              "<div>\n",
              "<style scoped>\n",
              "    .dataframe tbody tr th:only-of-type {\n",
              "        vertical-align: middle;\n",
              "    }\n",
              "\n",
              "    .dataframe tbody tr th {\n",
              "        vertical-align: top;\n",
              "    }\n",
              "\n",
              "    .dataframe thead th {\n",
              "        text-align: right;\n",
              "    }\n",
              "</style>\n",
              "<table border=\"1\" class=\"dataframe\">\n",
              "  <thead>\n",
              "    <tr style=\"text-align: right;\">\n",
              "      <th></th>\n",
              "      <th>id</th>\n",
              "      <th>original_title</th>\n",
              "      <th>popularity</th>\n",
              "      <th>release_date</th>\n",
              "    </tr>\n",
              "  </thead>\n",
              "  <tbody>\n",
              "    <tr>\n",
              "      <th>0</th>\n",
              "      <td>257</td>\n",
              "      <td>Oliver Twist</td>\n",
              "      <td>20.415572</td>\n",
              "      <td>2005-09-23</td>\n",
              "    </tr>\n",
              "    <tr>\n",
              "      <th>1</th>\n",
              "      <td>14290</td>\n",
              "      <td>Better Luck Tomorrow</td>\n",
              "      <td>3.877036</td>\n",
              "      <td>2002-01-12</td>\n",
              "    </tr>\n",
              "    <tr>\n",
              "      <th>2</th>\n",
              "      <td>38365</td>\n",
              "      <td>Grown Ups</td>\n",
              "      <td>38.864027</td>\n",
              "      <td>2010-06-24</td>\n",
              "    </tr>\n",
              "    <tr>\n",
              "      <th>3</th>\n",
              "      <td>9672</td>\n",
              "      <td>Infamous</td>\n",
              "      <td>3.680896</td>\n",
              "      <td>2006-11-16</td>\n",
              "    </tr>\n",
              "    <tr>\n",
              "      <th>4</th>\n",
              "      <td>12819</td>\n",
              "      <td>Alpha and Omega</td>\n",
              "      <td>12.300789</td>\n",
              "      <td>2010-09-17</td>\n",
              "    </tr>\n",
              "  </tbody>\n",
              "</table>\n",
              "</div>"
            ],
            "text/plain": [
              "      id        original_title  popularity release_date\n",
              "0    257          Oliver Twist   20.415572   2005-09-23\n",
              "1  14290  Better Luck Tomorrow    3.877036   2002-01-12\n",
              "2  38365             Grown Ups   38.864027   2010-06-24\n",
              "3   9672              Infamous    3.680896   2006-11-16\n",
              "4  12819       Alpha and Omega   12.300789   2010-09-17"
            ]
          },
          "metadata": {},
          "output_type": "display_data"
        },
        {
          "data": {
            "text/plain": [
              "(4803, 4)"
            ]
          },
          "metadata": {},
          "output_type": "display_data"
        }
      ],
      "source": [
        "display(movies.head())\n",
        "display(movies.shape)"
      ]
    },
    {
      "cell_type": "code",
      "execution_count": 42,
      "id": "52232848",
      "metadata": {
        "colab": {
          "base_uri": "https://localhost:8080/",
          "height": 224
        },
        "id": "52232848",
        "outputId": "b91c7b11-bc1d-4770-b3ad-3a2a65f684b5"
      },
      "outputs": [
        {
          "data": {
            "application/vnd.microsoft.datawrangler.viewer.v0+json": {
              "columns": [
                {
                  "name": "index",
                  "rawType": "int64",
                  "type": "integer"
                },
                {
                  "name": "id",
                  "rawType": "int64",
                  "type": "integer"
                },
                {
                  "name": "tagline",
                  "rawType": "object",
                  "type": "string"
                }
              ],
              "ref": "17726cef-5b9c-418f-8432-3349b1ac09f9",
              "rows": [
                [
                  "0",
                  "19995",
                  "Enter the World of Pandora."
                ],
                [
                  "1",
                  "285",
                  "At the end of the world, the adventure begins."
                ],
                [
                  "2",
                  "206647",
                  "A Plan No One Escapes"
                ],
                [
                  "3",
                  "49026",
                  "The Legend Ends"
                ],
                [
                  "4",
                  "49529",
                  "Lost in our world, found in another."
                ]
              ],
              "shape": {
                "columns": 2,
                "rows": 5
              }
            },
            "text/html": [
              "<div>\n",
              "<style scoped>\n",
              "    .dataframe tbody tr th:only-of-type {\n",
              "        vertical-align: middle;\n",
              "    }\n",
              "\n",
              "    .dataframe tbody tr th {\n",
              "        vertical-align: top;\n",
              "    }\n",
              "\n",
              "    .dataframe thead th {\n",
              "        text-align: right;\n",
              "    }\n",
              "</style>\n",
              "<table border=\"1\" class=\"dataframe\">\n",
              "  <thead>\n",
              "    <tr style=\"text-align: right;\">\n",
              "      <th></th>\n",
              "      <th>id</th>\n",
              "      <th>tagline</th>\n",
              "    </tr>\n",
              "  </thead>\n",
              "  <tbody>\n",
              "    <tr>\n",
              "      <th>0</th>\n",
              "      <td>19995</td>\n",
              "      <td>Enter the World of Pandora.</td>\n",
              "    </tr>\n",
              "    <tr>\n",
              "      <th>1</th>\n",
              "      <td>285</td>\n",
              "      <td>At the end of the world, the adventure begins.</td>\n",
              "    </tr>\n",
              "    <tr>\n",
              "      <th>2</th>\n",
              "      <td>206647</td>\n",
              "      <td>A Plan No One Escapes</td>\n",
              "    </tr>\n",
              "    <tr>\n",
              "      <th>3</th>\n",
              "      <td>49026</td>\n",
              "      <td>The Legend Ends</td>\n",
              "    </tr>\n",
              "    <tr>\n",
              "      <th>4</th>\n",
              "      <td>49529</td>\n",
              "      <td>Lost in our world, found in another.</td>\n",
              "    </tr>\n",
              "  </tbody>\n",
              "</table>\n",
              "</div>"
            ],
            "text/plain": [
              "       id                                         tagline\n",
              "0   19995                     Enter the World of Pandora.\n",
              "1     285  At the end of the world, the adventure begins.\n",
              "2  206647                           A Plan No One Escapes\n",
              "3   49026                                 The Legend Ends\n",
              "4   49529            Lost in our world, found in another."
            ]
          },
          "metadata": {},
          "output_type": "display_data"
        },
        {
          "data": {
            "text/plain": [
              "(3955, 2)"
            ]
          },
          "metadata": {},
          "output_type": "display_data"
        }
      ],
      "source": [
        "taglines = pd.read_pickle(\"data/taglines.p\")\n",
        "display(taglines.head())\n",
        "display(taglines.shape)"
      ]
    },
    {
      "cell_type": "code",
      "execution_count": 43,
      "id": "907d43ca",
      "metadata": {
        "colab": {
          "base_uri": "https://localhost:8080/",
          "height": 310
        },
        "id": "907d43ca",
        "outputId": "2b29fc07-e627-4ee9-b14a-5d2ece07dc55"
      },
      "outputs": [
        {
          "data": {
            "application/vnd.microsoft.datawrangler.viewer.v0+json": {
              "columns": [
                {
                  "name": "index",
                  "rawType": "int64",
                  "type": "integer"
                },
                {
                  "name": "id",
                  "rawType": "int64",
                  "type": "integer"
                },
                {
                  "name": "original_title",
                  "rawType": "object",
                  "type": "string"
                },
                {
                  "name": "popularity",
                  "rawType": "float64",
                  "type": "float"
                },
                {
                  "name": "release_date",
                  "rawType": "object",
                  "type": "string"
                },
                {
                  "name": "tagline",
                  "rawType": "object",
                  "type": "unknown"
                }
              ],
              "ref": "172b2e99-45aa-4a5e-9783-6e4947b72038",
              "rows": [
                [
                  "0",
                  "257",
                  "Oliver Twist",
                  "20.415572",
                  "2005-09-23",
                  null
                ],
                [
                  "1",
                  "14290",
                  "Better Luck Tomorrow",
                  "3.877036",
                  "2002-01-12",
                  "Never underestimate an overachiever."
                ],
                [
                  "2",
                  "38365",
                  "Grown Ups",
                  "38.864027",
                  "2010-06-24",
                  "Boys will be boys. . . some longer than others."
                ],
                [
                  "3",
                  "9672",
                  "Infamous",
                  "3.6808959999999997",
                  "2006-11-16",
                  "There's more to the story than you know"
                ],
                [
                  "4",
                  "12819",
                  "Alpha and Omega",
                  "12.300789",
                  "2010-09-17",
                  "A Pawsome 3D Adventure"
                ]
              ],
              "shape": {
                "columns": 5,
                "rows": 5
              }
            },
            "text/html": [
              "<div>\n",
              "<style scoped>\n",
              "    .dataframe tbody tr th:only-of-type {\n",
              "        vertical-align: middle;\n",
              "    }\n",
              "\n",
              "    .dataframe tbody tr th {\n",
              "        vertical-align: top;\n",
              "    }\n",
              "\n",
              "    .dataframe thead th {\n",
              "        text-align: right;\n",
              "    }\n",
              "</style>\n",
              "<table border=\"1\" class=\"dataframe\">\n",
              "  <thead>\n",
              "    <tr style=\"text-align: right;\">\n",
              "      <th></th>\n",
              "      <th>id</th>\n",
              "      <th>original_title</th>\n",
              "      <th>popularity</th>\n",
              "      <th>release_date</th>\n",
              "      <th>tagline</th>\n",
              "    </tr>\n",
              "  </thead>\n",
              "  <tbody>\n",
              "    <tr>\n",
              "      <th>0</th>\n",
              "      <td>257</td>\n",
              "      <td>Oliver Twist</td>\n",
              "      <td>20.415572</td>\n",
              "      <td>2005-09-23</td>\n",
              "      <td>NaN</td>\n",
              "    </tr>\n",
              "    <tr>\n",
              "      <th>1</th>\n",
              "      <td>14290</td>\n",
              "      <td>Better Luck Tomorrow</td>\n",
              "      <td>3.877036</td>\n",
              "      <td>2002-01-12</td>\n",
              "      <td>Never underestimate an overachiever.</td>\n",
              "    </tr>\n",
              "    <tr>\n",
              "      <th>2</th>\n",
              "      <td>38365</td>\n",
              "      <td>Grown Ups</td>\n",
              "      <td>38.864027</td>\n",
              "      <td>2010-06-24</td>\n",
              "      <td>Boys will be boys. . . some longer than others.</td>\n",
              "    </tr>\n",
              "    <tr>\n",
              "      <th>3</th>\n",
              "      <td>9672</td>\n",
              "      <td>Infamous</td>\n",
              "      <td>3.680896</td>\n",
              "      <td>2006-11-16</td>\n",
              "      <td>There's more to the story than you know</td>\n",
              "    </tr>\n",
              "    <tr>\n",
              "      <th>4</th>\n",
              "      <td>12819</td>\n",
              "      <td>Alpha and Omega</td>\n",
              "      <td>12.300789</td>\n",
              "      <td>2010-09-17</td>\n",
              "      <td>A Pawsome 3D Adventure</td>\n",
              "    </tr>\n",
              "  </tbody>\n",
              "</table>\n",
              "</div>"
            ],
            "text/plain": [
              "      id        original_title  popularity release_date  \\\n",
              "0    257          Oliver Twist   20.415572   2005-09-23   \n",
              "1  14290  Better Luck Tomorrow    3.877036   2002-01-12   \n",
              "2  38365             Grown Ups   38.864027   2010-06-24   \n",
              "3   9672              Infamous    3.680896   2006-11-16   \n",
              "4  12819       Alpha and Omega   12.300789   2010-09-17   \n",
              "\n",
              "                                           tagline  \n",
              "0                                              NaN  \n",
              "1             Never underestimate an overachiever.  \n",
              "2  Boys will be boys. . . some longer than others.  \n",
              "3          There's more to the story than you know  \n",
              "4                           A Pawsome 3D Adventure  "
            ]
          },
          "metadata": {},
          "output_type": "display_data"
        },
        {
          "data": {
            "text/plain": [
              "(4803, 5)"
            ]
          },
          "metadata": {},
          "output_type": "display_data"
        }
      ],
      "source": [
        "# Merge with left join\n",
        "movie_taglines = movies.merge(taglines, on=\"id\", how=\"left\")\n",
        "display(movie_taglines.head())\n",
        "display(movie_taglines.shape)"
      ]
    },
    {
      "cell_type": "code",
      "execution_count": 44,
      "id": "842d1695",
      "metadata": {
        "colab": {
          "base_uri": "https://localhost:8080/",
          "height": 224
        },
        "id": "842d1695",
        "outputId": "67412256-06c9-4352-c983-f872913493e3"
      },
      "outputs": [
        {
          "data": {
            "application/vnd.microsoft.datawrangler.viewer.v0+json": {
              "columns": [
                {
                  "name": "index",
                  "rawType": "int64",
                  "type": "integer"
                },
                {
                  "name": "id",
                  "rawType": "int64",
                  "type": "integer"
                },
                {
                  "name": "budget",
                  "rawType": "int64",
                  "type": "integer"
                },
                {
                  "name": "revenue",
                  "rawType": "float64",
                  "type": "float"
                }
              ],
              "ref": "662dbd96-ff7a-445e-8dfc-a84cd10df568",
              "rows": [
                [
                  "0",
                  "19995",
                  "237000000",
                  "2787965087.0"
                ],
                [
                  "1",
                  "285",
                  "300000000",
                  "961000000.0"
                ],
                [
                  "2",
                  "206647",
                  "245000000",
                  "880674609.0"
                ],
                [
                  "3",
                  "49026",
                  "250000000",
                  "1084939099.0"
                ],
                [
                  "4",
                  "49529",
                  "260000000",
                  "284139100.0"
                ]
              ],
              "shape": {
                "columns": 3,
                "rows": 5
              }
            },
            "text/html": [
              "<div>\n",
              "<style scoped>\n",
              "    .dataframe tbody tr th:only-of-type {\n",
              "        vertical-align: middle;\n",
              "    }\n",
              "\n",
              "    .dataframe tbody tr th {\n",
              "        vertical-align: top;\n",
              "    }\n",
              "\n",
              "    .dataframe thead th {\n",
              "        text-align: right;\n",
              "    }\n",
              "</style>\n",
              "<table border=\"1\" class=\"dataframe\">\n",
              "  <thead>\n",
              "    <tr style=\"text-align: right;\">\n",
              "      <th></th>\n",
              "      <th>id</th>\n",
              "      <th>budget</th>\n",
              "      <th>revenue</th>\n",
              "    </tr>\n",
              "  </thead>\n",
              "  <tbody>\n",
              "    <tr>\n",
              "      <th>0</th>\n",
              "      <td>19995</td>\n",
              "      <td>237000000</td>\n",
              "      <td>2.787965e+09</td>\n",
              "    </tr>\n",
              "    <tr>\n",
              "      <th>1</th>\n",
              "      <td>285</td>\n",
              "      <td>300000000</td>\n",
              "      <td>9.610000e+08</td>\n",
              "    </tr>\n",
              "    <tr>\n",
              "      <th>2</th>\n",
              "      <td>206647</td>\n",
              "      <td>245000000</td>\n",
              "      <td>8.806746e+08</td>\n",
              "    </tr>\n",
              "    <tr>\n",
              "      <th>3</th>\n",
              "      <td>49026</td>\n",
              "      <td>250000000</td>\n",
              "      <td>1.084939e+09</td>\n",
              "    </tr>\n",
              "    <tr>\n",
              "      <th>4</th>\n",
              "      <td>49529</td>\n",
              "      <td>260000000</td>\n",
              "      <td>2.841391e+08</td>\n",
              "    </tr>\n",
              "  </tbody>\n",
              "</table>\n",
              "</div>"
            ],
            "text/plain": [
              "       id     budget       revenue\n",
              "0   19995  237000000  2.787965e+09\n",
              "1     285  300000000  9.610000e+08\n",
              "2  206647  245000000  8.806746e+08\n",
              "3   49026  250000000  1.084939e+09\n",
              "4   49529  260000000  2.841391e+08"
            ]
          },
          "metadata": {},
          "output_type": "display_data"
        },
        {
          "data": {
            "text/plain": [
              "(3229, 3)"
            ]
          },
          "metadata": {},
          "output_type": "display_data"
        }
      ],
      "source": [
        "financials = pd.read_pickle(\"data/financials.p\")\n",
        "display(financials.head())\n",
        "display(financials.shape)"
      ]
    },
    {
      "cell_type": "code",
      "execution_count": 45,
      "id": "598c1f0f",
      "metadata": {
        "colab": {
          "base_uri": "https://localhost:8080/",
          "height": 278
        },
        "id": "598c1f0f",
        "outputId": "b5f059a8-c4a6-41d7-ec89-5c9d2904af9e"
      },
      "outputs": [
        {
          "data": {
            "application/vnd.microsoft.datawrangler.viewer.v0+json": {
              "columns": [
                {
                  "name": "index",
                  "rawType": "int64",
                  "type": "integer"
                },
                {
                  "name": "id",
                  "rawType": "int64",
                  "type": "integer"
                },
                {
                  "name": "original_title",
                  "rawType": "object",
                  "type": "string"
                },
                {
                  "name": "popularity",
                  "rawType": "float64",
                  "type": "float"
                },
                {
                  "name": "release_date",
                  "rawType": "object",
                  "type": "string"
                },
                {
                  "name": "budget",
                  "rawType": "float64",
                  "type": "float"
                },
                {
                  "name": "revenue",
                  "rawType": "float64",
                  "type": "float"
                }
              ],
              "ref": "73a5dbc9-7455-42c9-b3cb-854442f3ba14",
              "rows": [
                [
                  "0",
                  "257",
                  "Oliver Twist",
                  "20.415572",
                  "2005-09-23",
                  "50000000.0",
                  "42093706.0"
                ],
                [
                  "1",
                  "14290",
                  "Better Luck Tomorrow",
                  "3.877036",
                  "2002-01-12",
                  null,
                  null
                ],
                [
                  "2",
                  "38365",
                  "Grown Ups",
                  "38.864027",
                  "2010-06-24",
                  "80000000.0",
                  "271430189.0"
                ],
                [
                  "3",
                  "9672",
                  "Infamous",
                  "3.6808959999999997",
                  "2006-11-16",
                  "13000000.0",
                  "1151330.0"
                ],
                [
                  "4",
                  "12819",
                  "Alpha and Omega",
                  "12.300789",
                  "2010-09-17",
                  "20000000.0",
                  "39300000.0"
                ]
              ],
              "shape": {
                "columns": 6,
                "rows": 5
              }
            },
            "text/html": [
              "<div>\n",
              "<style scoped>\n",
              "    .dataframe tbody tr th:only-of-type {\n",
              "        vertical-align: middle;\n",
              "    }\n",
              "\n",
              "    .dataframe tbody tr th {\n",
              "        vertical-align: top;\n",
              "    }\n",
              "\n",
              "    .dataframe thead th {\n",
              "        text-align: right;\n",
              "    }\n",
              "</style>\n",
              "<table border=\"1\" class=\"dataframe\">\n",
              "  <thead>\n",
              "    <tr style=\"text-align: right;\">\n",
              "      <th></th>\n",
              "      <th>id</th>\n",
              "      <th>original_title</th>\n",
              "      <th>popularity</th>\n",
              "      <th>release_date</th>\n",
              "      <th>budget</th>\n",
              "      <th>revenue</th>\n",
              "    </tr>\n",
              "  </thead>\n",
              "  <tbody>\n",
              "    <tr>\n",
              "      <th>0</th>\n",
              "      <td>257</td>\n",
              "      <td>Oliver Twist</td>\n",
              "      <td>20.415572</td>\n",
              "      <td>2005-09-23</td>\n",
              "      <td>50000000.0</td>\n",
              "      <td>42093706.0</td>\n",
              "    </tr>\n",
              "    <tr>\n",
              "      <th>1</th>\n",
              "      <td>14290</td>\n",
              "      <td>Better Luck Tomorrow</td>\n",
              "      <td>3.877036</td>\n",
              "      <td>2002-01-12</td>\n",
              "      <td>NaN</td>\n",
              "      <td>NaN</td>\n",
              "    </tr>\n",
              "    <tr>\n",
              "      <th>2</th>\n",
              "      <td>38365</td>\n",
              "      <td>Grown Ups</td>\n",
              "      <td>38.864027</td>\n",
              "      <td>2010-06-24</td>\n",
              "      <td>80000000.0</td>\n",
              "      <td>271430189.0</td>\n",
              "    </tr>\n",
              "    <tr>\n",
              "      <th>3</th>\n",
              "      <td>9672</td>\n",
              "      <td>Infamous</td>\n",
              "      <td>3.680896</td>\n",
              "      <td>2006-11-16</td>\n",
              "      <td>13000000.0</td>\n",
              "      <td>1151330.0</td>\n",
              "    </tr>\n",
              "    <tr>\n",
              "      <th>4</th>\n",
              "      <td>12819</td>\n",
              "      <td>Alpha and Omega</td>\n",
              "      <td>12.300789</td>\n",
              "      <td>2010-09-17</td>\n",
              "      <td>20000000.0</td>\n",
              "      <td>39300000.0</td>\n",
              "    </tr>\n",
              "  </tbody>\n",
              "</table>\n",
              "</div>"
            ],
            "text/plain": [
              "      id        original_title  popularity release_date      budget  \\\n",
              "0    257          Oliver Twist   20.415572   2005-09-23  50000000.0   \n",
              "1  14290  Better Luck Tomorrow    3.877036   2002-01-12         NaN   \n",
              "2  38365             Grown Ups   38.864027   2010-06-24  80000000.0   \n",
              "3   9672              Infamous    3.680896   2006-11-16  13000000.0   \n",
              "4  12819       Alpha and Omega   12.300789   2010-09-17  20000000.0   \n",
              "\n",
              "       revenue  \n",
              "0   42093706.0  \n",
              "1          NaN  \n",
              "2  271430189.0  \n",
              "3    1151330.0  \n",
              "4   39300000.0  "
            ]
          },
          "metadata": {},
          "output_type": "display_data"
        },
        {
          "data": {
            "text/plain": [
              "(4803, 6)"
            ]
          },
          "metadata": {},
          "output_type": "display_data"
        }
      ],
      "source": [
        "# Merge the movies table, as the left table, with the financials table using a left join, and save the result to movies_financials.\n",
        "movies_financials = movies.merge(financials, on=\"id\", how=\"left\")\n",
        "display(movies_financials.head())\n",
        "display(movies_financials.shape)"
      ]
    },
    {
      "cell_type": "code",
      "execution_count": 46,
      "id": "49685db7",
      "metadata": {
        "colab": {
          "base_uri": "https://localhost:8080/"
        },
        "id": "49685db7",
        "outputId": "d59bf0dd-16bc-4a3c-a888-0477e2308f1e"
      },
      "outputs": [
        {
          "name": "stdout",
          "output_type": "stream",
          "text": [
            "1574\n"
          ]
        }
      ],
      "source": [
        "# Count the number of rows in movies_financials with a null value in the budget column.\n",
        "number_of_missing_fin = movies_financials[\"budget\"].isna().sum()\n",
        "# Print the number of movies missing financials\n",
        "print(number_of_missing_fin)"
      ]
    },
    {
      "cell_type": "markdown",
      "id": "7e2dba5b",
      "metadata": {
        "id": "7e2dba5b"
      },
      "source": [
        "# Other Joins: Right Join and Outer Join\n",
        "\n",
        "Beyond inner and left joins, Pandas supports **right join** and **outer join**. Each join type serves a distinct analytical need. Mastering them gives you full control over how records are included or excluded when merging multiple data sources.\n",
        "\n",
        "## Right Join\n",
        "\n",
        "### Intuition and Principle\n",
        "\n",
        "A **right join** (or *right outer join*) preserves all rows from the **right** table and merges matching rows from the **left** table. Where there is no corresponding left record, missing values (`NaN`) fill in.\n",
        "\n",
        "The **right table** is \"guaranteed\": every row is kept. <br>\n",
        "The **left table** only contributes rows with a matching key.\n",
        "\n",
        "**Use cases:**  \n",
        "1) When the right table is your “master list” or reference.\n",
        "2) When you wish to annotate every entry in the right table with information from the left.\n",
        "\n",
        "### Example: Right Join in Action\n",
        "\n",
        "**Left Table**\n",
        "\n",
        "| id | name   |\n",
        "|----|--------|\n",
        "| 1  | Alice  |\n",
        "| 2  | Bob    |\n",
        "\n",
        "**Right Table**\n",
        "\n",
        "| id | score |\n",
        "|----|-------|\n",
        "| 1  | 95    |\n",
        "| 2  | 88    |\n",
        "| 3  | 77    |\n",
        "\n",
        "**Right Join Result**\n",
        "\n",
        "| id | name   | score |\n",
        "|----|--------|-------|\n",
        "| 1  | Alice  | 95    |\n",
        "| 2  | Bob    | 88    |\n",
        "| 3  | NaN    | 77    |\n",
        "\n",
        "Note how id=3 appears in the result, even though it is not present in the left table.\n",
        "\n",
        "\n",
        "### Pandas Syntax: Right Join\n",
        "\n",
        "```python\n",
        "import pandas as pd\n",
        "\n",
        "merged = pd.merge(\n",
        "    left=left_table,\n",
        "    right=right_table,\n",
        "    on=\"id\",\n",
        "    how=\"right\"\n",
        ")\n",
        "```\n",
        "For different key names, use `left_on=\"left_id\", right_on=\"right_id\"`.\n",
        "\n",
        "\n",
        "## Outer Join\n",
        "\n",
        "### Intuition and Principle\n",
        "\n",
        "An **outer join** (also called *full outer join*) preserves all rows from **both** tables, matching them where possible by key. Where no match exists, missing values (`NaN`) fill in from the missing side.\n",
        "\n",
        "Think of the union of both tables’ keys. <br>\n",
        "No data is lost—every unique key from either table appears in the result.\n",
        "\n",
        "**Use cases:**  \n",
        "1) When you want a comprehensive dataset, showing all records and explicitly displaying gaps.\n",
        "2) For comparing datasets, auditing coverage, or combining partially overlapping sources.\n",
        "\n",
        "\n",
        "### Example: Outer Join in Action\n",
        "\n",
        "**Left Table**\n",
        "\n",
        "| id | name   |\n",
        "|----|--------|\n",
        "| 1  | Alice  |\n",
        "| 2  | Bob    |\n",
        "\n",
        "**Right Table**\n",
        "\n",
        "| id | score |\n",
        "|----|-------|\n",
        "| 2  | 88    |\n",
        "| 3  | 77    |\n",
        "\n",
        "**Outer Join Result**\n",
        "\n",
        "| id | name   | score |\n",
        "|----|--------|-------|\n",
        "| 1  | Alice  | NaN   |\n",
        "| 2  | Bob    | 88    |\n",
        "| 3  | NaN    | 77    |\n",
        "\n",
        "All keys from both tables are present, with `NaN` where there is no match.\n",
        "\n",
        "\n",
        "### Pandas Syntax: Outer Join with Suffixes\n",
        "\n",
        "```python\n",
        "merged = pd.merge(\n",
        "    left=left_table,\n",
        "    right=right_table,\n",
        "    left_on=\"left_id\",\n",
        "    right_on=\"right_id\",\n",
        "    how=\"outer\",\n",
        "    suffixes=(\"_left\", \"_right\")\n",
        ")\n",
        "```\n",
        "- `left_on` and `right_on` specify different key columns if names differ.\n",
        "- `how=\"outer\"` signals a full join.\n",
        "- `suffixes` resolve naming collisions for non-key columns present in both tables.\n",
        "\n",
        "## Join Types\n",
        "\n",
        "| Join Type    | Includes...                                      | When to Use                                 |\n",
        "|--------------|--------------------------------------------------|---------------------------------------------|\n",
        "| inner        | Only keys present in **both** tables             | Intersection/overlap analysis               |\n",
        "| left         | All keys from **left** table                     | Enrich/annotate a primary dataset           |\n",
        "| right        | All keys from **right** table                    | Annotate or audit against reference table   |\n",
        "| outer        | All keys from **either** table                   | Full audit, gap analysis, combining sources |\n",
        "\n"
      ]
    },
    {
      "cell_type": "code",
      "execution_count": 47,
      "id": "54ba1e95",
      "metadata": {
        "colab": {
          "base_uri": "https://localhost:8080/",
          "height": 224
        },
        "id": "54ba1e95",
        "outputId": "21346aca-bbcc-4051-b768-035ffc3d7205"
      },
      "outputs": [
        {
          "data": {
            "application/vnd.microsoft.datawrangler.viewer.v0+json": {
              "columns": [
                {
                  "name": "index",
                  "rawType": "int64",
                  "type": "integer"
                },
                {
                  "name": "movie_id",
                  "rawType": "int64",
                  "type": "integer"
                },
                {
                  "name": "genre",
                  "rawType": "object",
                  "type": "string"
                }
              ],
              "ref": "9d781d41-793d-406d-b13b-49d2f18b60a1",
              "rows": [
                [
                  "0",
                  "5",
                  "Crime"
                ],
                [
                  "1",
                  "5",
                  "Comedy"
                ],
                [
                  "2",
                  "11",
                  "Science Fiction"
                ],
                [
                  "3",
                  "11",
                  "Action"
                ],
                [
                  "4",
                  "11",
                  "Adventure"
                ]
              ],
              "shape": {
                "columns": 2,
                "rows": 5
              }
            },
            "text/html": [
              "<div>\n",
              "<style scoped>\n",
              "    .dataframe tbody tr th:only-of-type {\n",
              "        vertical-align: middle;\n",
              "    }\n",
              "\n",
              "    .dataframe tbody tr th {\n",
              "        vertical-align: top;\n",
              "    }\n",
              "\n",
              "    .dataframe thead th {\n",
              "        text-align: right;\n",
              "    }\n",
              "</style>\n",
              "<table border=\"1\" class=\"dataframe\">\n",
              "  <thead>\n",
              "    <tr style=\"text-align: right;\">\n",
              "      <th></th>\n",
              "      <th>movie_id</th>\n",
              "      <th>genre</th>\n",
              "    </tr>\n",
              "  </thead>\n",
              "  <tbody>\n",
              "    <tr>\n",
              "      <th>0</th>\n",
              "      <td>5</td>\n",
              "      <td>Crime</td>\n",
              "    </tr>\n",
              "    <tr>\n",
              "      <th>1</th>\n",
              "      <td>5</td>\n",
              "      <td>Comedy</td>\n",
              "    </tr>\n",
              "    <tr>\n",
              "      <th>2</th>\n",
              "      <td>11</td>\n",
              "      <td>Science Fiction</td>\n",
              "    </tr>\n",
              "    <tr>\n",
              "      <th>3</th>\n",
              "      <td>11</td>\n",
              "      <td>Action</td>\n",
              "    </tr>\n",
              "    <tr>\n",
              "      <th>4</th>\n",
              "      <td>11</td>\n",
              "      <td>Adventure</td>\n",
              "    </tr>\n",
              "  </tbody>\n",
              "</table>\n",
              "</div>"
            ],
            "text/plain": [
              "   movie_id            genre\n",
              "0         5            Crime\n",
              "1         5           Comedy\n",
              "2        11  Science Fiction\n",
              "3        11           Action\n",
              "4        11        Adventure"
            ]
          },
          "metadata": {},
          "output_type": "display_data"
        },
        {
          "data": {
            "text/plain": [
              "(12160, 2)"
            ]
          },
          "metadata": {},
          "output_type": "display_data"
        }
      ],
      "source": [
        "movie_to_genres = pd.read_pickle(\"data/movie_to_genres.p\")\n",
        "display(movie_to_genres.head())\n",
        "display(movie_to_genres.shape)"
      ]
    },
    {
      "cell_type": "code",
      "execution_count": 48,
      "id": "3c9e9c7b",
      "metadata": {
        "colab": {
          "base_uri": "https://localhost:8080/",
          "height": 300
        },
        "id": "3c9e9c7b",
        "outputId": "1449e239-b660-4392-d79d-f1b855a4ef11"
      },
      "outputs": [
        {
          "data": {
            "application/vnd.microsoft.datawrangler.viewer.v0+json": {
              "columns": [
                {
                  "name": "index",
                  "rawType": "int64",
                  "type": "integer"
                },
                {
                  "name": "movie_id",
                  "rawType": "int64",
                  "type": "integer"
                },
                {
                  "name": "genre",
                  "rawType": "object",
                  "type": "string"
                }
              ],
              "ref": "e7e26a41-15f3-465a-9902-31b0f02a29cc",
              "rows": [
                [
                  "4998",
                  "10947",
                  "TV Movie"
                ],
                [
                  "5994",
                  "13187",
                  "TV Movie"
                ],
                [
                  "7443",
                  "22488",
                  "TV Movie"
                ],
                [
                  "10061",
                  "78814",
                  "TV Movie"
                ],
                [
                  "10790",
                  "153397",
                  "TV Movie"
                ],
                [
                  "10835",
                  "158150",
                  "TV Movie"
                ],
                [
                  "11096",
                  "205321",
                  "TV Movie"
                ],
                [
                  "11282",
                  "231617",
                  "TV Movie"
                ]
              ],
              "shape": {
                "columns": 2,
                "rows": 8
              }
            },
            "text/html": [
              "<div>\n",
              "<style scoped>\n",
              "    .dataframe tbody tr th:only-of-type {\n",
              "        vertical-align: middle;\n",
              "    }\n",
              "\n",
              "    .dataframe tbody tr th {\n",
              "        vertical-align: top;\n",
              "    }\n",
              "\n",
              "    .dataframe thead th {\n",
              "        text-align: right;\n",
              "    }\n",
              "</style>\n",
              "<table border=\"1\" class=\"dataframe\">\n",
              "  <thead>\n",
              "    <tr style=\"text-align: right;\">\n",
              "      <th></th>\n",
              "      <th>movie_id</th>\n",
              "      <th>genre</th>\n",
              "    </tr>\n",
              "  </thead>\n",
              "  <tbody>\n",
              "    <tr>\n",
              "      <th>4998</th>\n",
              "      <td>10947</td>\n",
              "      <td>TV Movie</td>\n",
              "    </tr>\n",
              "    <tr>\n",
              "      <th>5994</th>\n",
              "      <td>13187</td>\n",
              "      <td>TV Movie</td>\n",
              "    </tr>\n",
              "    <tr>\n",
              "      <th>7443</th>\n",
              "      <td>22488</td>\n",
              "      <td>TV Movie</td>\n",
              "    </tr>\n",
              "    <tr>\n",
              "      <th>10061</th>\n",
              "      <td>78814</td>\n",
              "      <td>TV Movie</td>\n",
              "    </tr>\n",
              "    <tr>\n",
              "      <th>10790</th>\n",
              "      <td>153397</td>\n",
              "      <td>TV Movie</td>\n",
              "    </tr>\n",
              "    <tr>\n",
              "      <th>10835</th>\n",
              "      <td>158150</td>\n",
              "      <td>TV Movie</td>\n",
              "    </tr>\n",
              "    <tr>\n",
              "      <th>11096</th>\n",
              "      <td>205321</td>\n",
              "      <td>TV Movie</td>\n",
              "    </tr>\n",
              "    <tr>\n",
              "      <th>11282</th>\n",
              "      <td>231617</td>\n",
              "      <td>TV Movie</td>\n",
              "    </tr>\n",
              "  </tbody>\n",
              "</table>\n",
              "</div>"
            ],
            "text/plain": [
              "       movie_id     genre\n",
              "4998      10947  TV Movie\n",
              "5994      13187  TV Movie\n",
              "7443      22488  TV Movie\n",
              "10061     78814  TV Movie\n",
              "10790    153397  TV Movie\n",
              "10835    158150  TV Movie\n",
              "11096    205321  TV Movie\n",
              "11282    231617  TV Movie"
            ]
          },
          "metadata": {},
          "output_type": "display_data"
        }
      ],
      "source": [
        "# Looking at data\n",
        "tv_genre = movie_to_genres[movie_to_genres[\"genre\"] == \"TV Movie\"]\n",
        "display(tv_genre)"
      ]
    },
    {
      "cell_type": "code",
      "execution_count": 49,
      "id": "60c58bab",
      "metadata": {
        "colab": {
          "base_uri": "https://localhost:8080/",
          "height": 300
        },
        "id": "60c58bab",
        "outputId": "54a301c4-53a0-4668-d405-67c2c1705cbd"
      },
      "outputs": [
        {
          "data": {
            "application/vnd.microsoft.datawrangler.viewer.v0+json": {
              "columns": [
                {
                  "name": "index",
                  "rawType": "int64",
                  "type": "integer"
                },
                {
                  "name": "movie_id",
                  "rawType": "int64",
                  "type": "integer"
                },
                {
                  "name": "genre",
                  "rawType": "object",
                  "type": "string"
                }
              ],
              "ref": "a6910fa4-e308-4434-b87c-fe1921d8c26d",
              "rows": [
                [
                  "4998",
                  "10947",
                  "TV Movie"
                ],
                [
                  "5994",
                  "13187",
                  "TV Movie"
                ],
                [
                  "7443",
                  "22488",
                  "TV Movie"
                ],
                [
                  "10061",
                  "78814",
                  "TV Movie"
                ],
                [
                  "10790",
                  "153397",
                  "TV Movie"
                ],
                [
                  "10835",
                  "158150",
                  "TV Movie"
                ],
                [
                  "11096",
                  "205321",
                  "TV Movie"
                ],
                [
                  "11282",
                  "231617",
                  "TV Movie"
                ]
              ],
              "shape": {
                "columns": 2,
                "rows": 8
              }
            },
            "text/html": [
              "<div>\n",
              "<style scoped>\n",
              "    .dataframe tbody tr th:only-of-type {\n",
              "        vertical-align: middle;\n",
              "    }\n",
              "\n",
              "    .dataframe tbody tr th {\n",
              "        vertical-align: top;\n",
              "    }\n",
              "\n",
              "    .dataframe thead th {\n",
              "        text-align: right;\n",
              "    }\n",
              "</style>\n",
              "<table border=\"1\" class=\"dataframe\">\n",
              "  <thead>\n",
              "    <tr style=\"text-align: right;\">\n",
              "      <th></th>\n",
              "      <th>movie_id</th>\n",
              "      <th>genre</th>\n",
              "    </tr>\n",
              "  </thead>\n",
              "  <tbody>\n",
              "    <tr>\n",
              "      <th>4998</th>\n",
              "      <td>10947</td>\n",
              "      <td>TV Movie</td>\n",
              "    </tr>\n",
              "    <tr>\n",
              "      <th>5994</th>\n",
              "      <td>13187</td>\n",
              "      <td>TV Movie</td>\n",
              "    </tr>\n",
              "    <tr>\n",
              "      <th>7443</th>\n",
              "      <td>22488</td>\n",
              "      <td>TV Movie</td>\n",
              "    </tr>\n",
              "    <tr>\n",
              "      <th>10061</th>\n",
              "      <td>78814</td>\n",
              "      <td>TV Movie</td>\n",
              "    </tr>\n",
              "    <tr>\n",
              "      <th>10790</th>\n",
              "      <td>153397</td>\n",
              "      <td>TV Movie</td>\n",
              "    </tr>\n",
              "    <tr>\n",
              "      <th>10835</th>\n",
              "      <td>158150</td>\n",
              "      <td>TV Movie</td>\n",
              "    </tr>\n",
              "    <tr>\n",
              "      <th>11096</th>\n",
              "      <td>205321</td>\n",
              "      <td>TV Movie</td>\n",
              "    </tr>\n",
              "    <tr>\n",
              "      <th>11282</th>\n",
              "      <td>231617</td>\n",
              "      <td>TV Movie</td>\n",
              "    </tr>\n",
              "  </tbody>\n",
              "</table>\n",
              "</div>"
            ],
            "text/plain": [
              "       movie_id     genre\n",
              "4998      10947  TV Movie\n",
              "5994      13187  TV Movie\n",
              "7443      22488  TV Movie\n",
              "10061     78814  TV Movie\n",
              "10790    153397  TV Movie\n",
              "10835    158150  TV Movie\n",
              "11096    205321  TV Movie\n",
              "11282    231617  TV Movie"
            ]
          },
          "metadata": {},
          "output_type": "display_data"
        }
      ],
      "source": [
        "# Filtering the data to find TV Movie genre records\n",
        "# Using boolean indexing to create a mask for filtering\n",
        "m = movie_to_genres[\"genre\"] == \"TV Movie\"\n",
        "tv_genre = movie_to_genres[m]\n",
        "display(tv_genre)"
      ]
    },
    {
      "cell_type": "code",
      "execution_count": 50,
      "id": "09804f0b",
      "metadata": {
        "colab": {
          "base_uri": "https://localhost:8080/",
          "height": 293
        },
        "id": "09804f0b",
        "outputId": "3a92f7e7-22c1-4246-b1ce-2ce27b1c346a"
      },
      "outputs": [
        {
          "data": {
            "application/vnd.microsoft.datawrangler.viewer.v0+json": {
              "columns": [
                {
                  "name": "index",
                  "rawType": "int64",
                  "type": "integer"
                },
                {
                  "name": "id",
                  "rawType": "int64",
                  "type": "integer"
                },
                {
                  "name": "original_title",
                  "rawType": "object",
                  "type": "string"
                },
                {
                  "name": "popularity",
                  "rawType": "float64",
                  "type": "float"
                },
                {
                  "name": "release_date",
                  "rawType": "object",
                  "type": "string"
                },
                {
                  "name": "movie_id",
                  "rawType": "int64",
                  "type": "integer"
                },
                {
                  "name": "genre",
                  "rawType": "object",
                  "type": "string"
                }
              ],
              "ref": "981c98fb-0c46-4ed8-a5ab-d045f0f3d02a",
              "rows": [
                [
                  "0",
                  "10947",
                  "High School Musical",
                  "16.536374",
                  "2006-01-20",
                  "10947",
                  "TV Movie"
                ],
                [
                  "1",
                  "13187",
                  "A Charlie Brown Christmas",
                  "8.701183",
                  "1965-12-09",
                  "13187",
                  "TV Movie"
                ],
                [
                  "2",
                  "22488",
                  "Love's Abiding Joy",
                  "1.128559",
                  "2006-10-06",
                  "22488",
                  "TV Movie"
                ],
                [
                  "3",
                  "78814",
                  "We Have Your Husband",
                  "0.102003",
                  "2011-11-12",
                  "78814",
                  "TV Movie"
                ],
                [
                  "4",
                  "153397",
                  "Restless",
                  "0.812776",
                  "2012-12-07",
                  "153397",
                  "TV Movie"
                ]
              ],
              "shape": {
                "columns": 6,
                "rows": 5
              }
            },
            "text/html": [
              "<div>\n",
              "<style scoped>\n",
              "    .dataframe tbody tr th:only-of-type {\n",
              "        vertical-align: middle;\n",
              "    }\n",
              "\n",
              "    .dataframe tbody tr th {\n",
              "        vertical-align: top;\n",
              "    }\n",
              "\n",
              "    .dataframe thead th {\n",
              "        text-align: right;\n",
              "    }\n",
              "</style>\n",
              "<table border=\"1\" class=\"dataframe\">\n",
              "  <thead>\n",
              "    <tr style=\"text-align: right;\">\n",
              "      <th></th>\n",
              "      <th>id</th>\n",
              "      <th>original_title</th>\n",
              "      <th>popularity</th>\n",
              "      <th>release_date</th>\n",
              "      <th>movie_id</th>\n",
              "      <th>genre</th>\n",
              "    </tr>\n",
              "  </thead>\n",
              "  <tbody>\n",
              "    <tr>\n",
              "      <th>0</th>\n",
              "      <td>10947</td>\n",
              "      <td>High School Musical</td>\n",
              "      <td>16.536374</td>\n",
              "      <td>2006-01-20</td>\n",
              "      <td>10947</td>\n",
              "      <td>TV Movie</td>\n",
              "    </tr>\n",
              "    <tr>\n",
              "      <th>1</th>\n",
              "      <td>13187</td>\n",
              "      <td>A Charlie Brown Christmas</td>\n",
              "      <td>8.701183</td>\n",
              "      <td>1965-12-09</td>\n",
              "      <td>13187</td>\n",
              "      <td>TV Movie</td>\n",
              "    </tr>\n",
              "    <tr>\n",
              "      <th>2</th>\n",
              "      <td>22488</td>\n",
              "      <td>Love's Abiding Joy</td>\n",
              "      <td>1.128559</td>\n",
              "      <td>2006-10-06</td>\n",
              "      <td>22488</td>\n",
              "      <td>TV Movie</td>\n",
              "    </tr>\n",
              "    <tr>\n",
              "      <th>3</th>\n",
              "      <td>78814</td>\n",
              "      <td>We Have Your Husband</td>\n",
              "      <td>0.102003</td>\n",
              "      <td>2011-11-12</td>\n",
              "      <td>78814</td>\n",
              "      <td>TV Movie</td>\n",
              "    </tr>\n",
              "    <tr>\n",
              "      <th>4</th>\n",
              "      <td>153397</td>\n",
              "      <td>Restless</td>\n",
              "      <td>0.812776</td>\n",
              "      <td>2012-12-07</td>\n",
              "      <td>153397</td>\n",
              "      <td>TV Movie</td>\n",
              "    </tr>\n",
              "  </tbody>\n",
              "</table>\n",
              "</div>"
            ],
            "text/plain": [
              "       id             original_title  popularity release_date  movie_id  \\\n",
              "0   10947        High School Musical   16.536374   2006-01-20     10947   \n",
              "1   13187  A Charlie Brown Christmas    8.701183   1965-12-09     13187   \n",
              "2   22488         Love's Abiding Joy    1.128559   2006-10-06     22488   \n",
              "3   78814       We Have Your Husband    0.102003   2011-11-12     78814   \n",
              "4  153397                   Restless    0.812776   2012-12-07    153397   \n",
              "\n",
              "      genre  \n",
              "0  TV Movie  \n",
              "1  TV Movie  \n",
              "2  TV Movie  \n",
              "3  TV Movie  \n",
              "4  TV Movie  "
            ]
          },
          "metadata": {},
          "output_type": "display_data"
        }
      ],
      "source": [
        "# Merge with right join\n",
        "# This preserves all TV Movie records from tv_genre (right table) and adds movie info where available\n",
        "# Using different column names for the join: 'id' from movies and 'movie_id' from tv_genre\n",
        "tv_movies = movies.merge(tv_genre, how=\"right\",\n",
        "                         left_on=\"id\", right_on=\"movie_id\")\n",
        "display(tv_movies.head())"
      ]
    },
    {
      "cell_type": "code",
      "execution_count": 51,
      "id": "74e1a292",
      "metadata": {
        "colab": {
          "base_uri": "https://localhost:8080/",
          "height": 143
        },
        "id": "74e1a292",
        "outputId": "472f27eb-7ac5-4589-8890-31b3134ca8de"
      },
      "outputs": [
        {
          "data": {
            "application/vnd.microsoft.datawrangler.viewer.v0+json": {
              "columns": [
                {
                  "name": "index",
                  "rawType": "int64",
                  "type": "integer"
                },
                {
                  "name": "movie_id",
                  "rawType": "int64",
                  "type": "integer"
                },
                {
                  "name": "genre",
                  "rawType": "object",
                  "type": "string"
                }
              ],
              "ref": "91938c30-d27b-4d46-a01b-10fbd92c72ae",
              "rows": [
                [
                  "5",
                  "12",
                  "Family"
                ],
                [
                  "33",
                  "35",
                  "Family"
                ],
                [
                  "111",
                  "105",
                  "Family"
                ]
              ],
              "shape": {
                "columns": 2,
                "rows": 3
              }
            },
            "text/html": [
              "<div>\n",
              "<style scoped>\n",
              "    .dataframe tbody tr th:only-of-type {\n",
              "        vertical-align: middle;\n",
              "    }\n",
              "\n",
              "    .dataframe tbody tr th {\n",
              "        vertical-align: top;\n",
              "    }\n",
              "\n",
              "    .dataframe thead th {\n",
              "        text-align: right;\n",
              "    }\n",
              "</style>\n",
              "<table border=\"1\" class=\"dataframe\">\n",
              "  <thead>\n",
              "    <tr style=\"text-align: right;\">\n",
              "      <th></th>\n",
              "      <th>movie_id</th>\n",
              "      <th>genre</th>\n",
              "    </tr>\n",
              "  </thead>\n",
              "  <tbody>\n",
              "    <tr>\n",
              "      <th>5</th>\n",
              "      <td>12</td>\n",
              "      <td>Family</td>\n",
              "    </tr>\n",
              "    <tr>\n",
              "      <th>33</th>\n",
              "      <td>35</td>\n",
              "      <td>Family</td>\n",
              "    </tr>\n",
              "    <tr>\n",
              "      <th>111</th>\n",
              "      <td>105</td>\n",
              "      <td>Family</td>\n",
              "    </tr>\n",
              "  </tbody>\n",
              "</table>\n",
              "</div>"
            ],
            "text/plain": [
              "     movie_id   genre\n",
              "5          12  Family\n",
              "33         35  Family\n",
              "111       105  Family"
            ]
          },
          "execution_count": 51,
          "metadata": {},
          "output_type": "execute_result"
        }
      ],
      "source": [
        "m = movie_to_genres[\"genre\"] == \"Family\"\n",
        "family = movie_to_genres[m].head(3)\n",
        "family"
      ]
    },
    {
      "cell_type": "code",
      "execution_count": 52,
      "id": "14cff21a",
      "metadata": {
        "colab": {
          "base_uri": "https://localhost:8080/",
          "height": 143
        },
        "id": "14cff21a",
        "outputId": "70e5e85c-bcdf-46e3-e8c1-bf7438351690"
      },
      "outputs": [
        {
          "data": {
            "application/vnd.microsoft.datawrangler.viewer.v0+json": {
              "columns": [
                {
                  "name": "index",
                  "rawType": "int64",
                  "type": "integer"
                },
                {
                  "name": "movie_id",
                  "rawType": "int64",
                  "type": "integer"
                },
                {
                  "name": "genre",
                  "rawType": "object",
                  "type": "string"
                }
              ],
              "ref": "14e0b71d-45b8-4c02-816c-1c703529b813",
              "rows": [
                [
                  "1",
                  "5",
                  "Comedy"
                ],
                [
                  "7",
                  "13",
                  "Comedy"
                ],
                [
                  "35",
                  "35",
                  "Comedy"
                ]
              ],
              "shape": {
                "columns": 2,
                "rows": 3
              }
            },
            "text/html": [
              "<div>\n",
              "<style scoped>\n",
              "    .dataframe tbody tr th:only-of-type {\n",
              "        vertical-align: middle;\n",
              "    }\n",
              "\n",
              "    .dataframe tbody tr th {\n",
              "        vertical-align: top;\n",
              "    }\n",
              "\n",
              "    .dataframe thead th {\n",
              "        text-align: right;\n",
              "    }\n",
              "</style>\n",
              "<table border=\"1\" class=\"dataframe\">\n",
              "  <thead>\n",
              "    <tr style=\"text-align: right;\">\n",
              "      <th></th>\n",
              "      <th>movie_id</th>\n",
              "      <th>genre</th>\n",
              "    </tr>\n",
              "  </thead>\n",
              "  <tbody>\n",
              "    <tr>\n",
              "      <th>1</th>\n",
              "      <td>5</td>\n",
              "      <td>Comedy</td>\n",
              "    </tr>\n",
              "    <tr>\n",
              "      <th>7</th>\n",
              "      <td>13</td>\n",
              "      <td>Comedy</td>\n",
              "    </tr>\n",
              "    <tr>\n",
              "      <th>35</th>\n",
              "      <td>35</td>\n",
              "      <td>Comedy</td>\n",
              "    </tr>\n",
              "  </tbody>\n",
              "</table>\n",
              "</div>"
            ],
            "text/plain": [
              "    movie_id   genre\n",
              "1          5  Comedy\n",
              "7         13  Comedy\n",
              "35        35  Comedy"
            ]
          },
          "execution_count": 52,
          "metadata": {},
          "output_type": "execute_result"
        }
      ],
      "source": [
        "m = movie_to_genres[\"genre\"] == \"Comedy\"\n",
        "comedy = movie_to_genres[m].head(3)\n",
        "comedy"
      ]
    },
    {
      "cell_type": "code",
      "execution_count": 53,
      "id": "00cc6e74",
      "metadata": {
        "colab": {
          "base_uri": "https://localhost:8080/",
          "height": 206
        },
        "id": "00cc6e74",
        "outputId": "e0b76a72-9ca3-4d6a-878c-d34b65f0fe87"
      },
      "outputs": [
        {
          "data": {
            "application/vnd.microsoft.datawrangler.viewer.v0+json": {
              "columns": [
                {
                  "name": "index",
                  "rawType": "int64",
                  "type": "integer"
                },
                {
                  "name": "movie_id",
                  "rawType": "int64",
                  "type": "integer"
                },
                {
                  "name": "genre_fam",
                  "rawType": "object",
                  "type": "unknown"
                },
                {
                  "name": "genre_com",
                  "rawType": "object",
                  "type": "unknown"
                }
              ],
              "ref": "4a06a398-f458-455d-bc58-a61ebf2274d5",
              "rows": [
                [
                  "0",
                  "5",
                  null,
                  "Comedy"
                ],
                [
                  "1",
                  "12",
                  "Family",
                  null
                ],
                [
                  "2",
                  "13",
                  null,
                  "Comedy"
                ],
                [
                  "3",
                  "35",
                  "Family",
                  "Comedy"
                ],
                [
                  "4",
                  "105",
                  "Family",
                  null
                ]
              ],
              "shape": {
                "columns": 3,
                "rows": 5
              }
            },
            "text/html": [
              "<div>\n",
              "<style scoped>\n",
              "    .dataframe tbody tr th:only-of-type {\n",
              "        vertical-align: middle;\n",
              "    }\n",
              "\n",
              "    .dataframe tbody tr th {\n",
              "        vertical-align: top;\n",
              "    }\n",
              "\n",
              "    .dataframe thead th {\n",
              "        text-align: right;\n",
              "    }\n",
              "</style>\n",
              "<table border=\"1\" class=\"dataframe\">\n",
              "  <thead>\n",
              "    <tr style=\"text-align: right;\">\n",
              "      <th></th>\n",
              "      <th>movie_id</th>\n",
              "      <th>genre_fam</th>\n",
              "      <th>genre_com</th>\n",
              "    </tr>\n",
              "  </thead>\n",
              "  <tbody>\n",
              "    <tr>\n",
              "      <th>0</th>\n",
              "      <td>5</td>\n",
              "      <td>NaN</td>\n",
              "      <td>Comedy</td>\n",
              "    </tr>\n",
              "    <tr>\n",
              "      <th>1</th>\n",
              "      <td>12</td>\n",
              "      <td>Family</td>\n",
              "      <td>NaN</td>\n",
              "    </tr>\n",
              "    <tr>\n",
              "      <th>2</th>\n",
              "      <td>13</td>\n",
              "      <td>NaN</td>\n",
              "      <td>Comedy</td>\n",
              "    </tr>\n",
              "    <tr>\n",
              "      <th>3</th>\n",
              "      <td>35</td>\n",
              "      <td>Family</td>\n",
              "      <td>Comedy</td>\n",
              "    </tr>\n",
              "    <tr>\n",
              "      <th>4</th>\n",
              "      <td>105</td>\n",
              "      <td>Family</td>\n",
              "      <td>NaN</td>\n",
              "    </tr>\n",
              "  </tbody>\n",
              "</table>\n",
              "</div>"
            ],
            "text/plain": [
              "   movie_id genre_fam genre_com\n",
              "0         5       NaN    Comedy\n",
              "1        12    Family       NaN\n",
              "2        13       NaN    Comedy\n",
              "3        35    Family    Comedy\n",
              "4       105    Family       NaN"
            ]
          },
          "metadata": {},
          "output_type": "display_data"
        }
      ],
      "source": [
        "family_comedy = family.merge(comedy, on=\"movie_id\", how=\"outer\",\n",
        "                             suffixes=(\"_fam\", \"_com\"))\n",
        "display(family_comedy)"
      ]
    },
    {
      "cell_type": "markdown",
      "id": "5d7491cd",
      "metadata": {
        "id": "5d7491cd"
      },
      "source": [
        "### Right join to find unique movies\n",
        "Most of the recent big-budget science fiction movies can also be classified as action movies. You are given a table of science fiction movies called `scifi_movies` and another table of action movies called `action_movies`. Your goal is to find which movies are considered only science fiction movies. Once you have this table, you can merge the movies table in to see the movie names. Since this exercise is related to science fiction movies, use a right join as your superhero power to solve this problem."
      ]
    },
    {
      "cell_type": "code",
      "execution_count": 54,
      "id": "f9150e03",
      "metadata": {
        "id": "f9150e03"
      },
      "outputs": [],
      "source": [
        "# Defining action_movies table\n",
        "m = movie_to_genres[\"genre\"] == \"Action\"\n",
        "action_movies = movie_to_genres[m]"
      ]
    },
    {
      "cell_type": "code",
      "execution_count": 55,
      "id": "96e00a59",
      "metadata": {
        "id": "96e00a59"
      },
      "outputs": [],
      "source": [
        "# Defining scifi_movies table\n",
        "m = movie_to_genres[\"genre\"] == \"Science Fiction\"\n",
        "scifi_movies = movie_to_genres[m]"
      ]
    },
    {
      "cell_type": "code",
      "execution_count": 56,
      "id": "1fe61d91",
      "metadata": {
        "colab": {
          "base_uri": "https://localhost:8080/",
          "height": 424
        },
        "id": "1fe61d91",
        "outputId": "ee43fa58-2291-4e57-e181-36f0c75dcda3"
      },
      "outputs": [
        {
          "data": {
            "application/vnd.microsoft.datawrangler.viewer.v0+json": {
              "columns": [
                {
                  "name": "index",
                  "rawType": "int64",
                  "type": "integer"
                },
                {
                  "name": "movie_id",
                  "rawType": "int64",
                  "type": "integer"
                },
                {
                  "name": "genre_x",
                  "rawType": "object",
                  "type": "unknown"
                },
                {
                  "name": "genre_y",
                  "rawType": "object",
                  "type": "string"
                }
              ],
              "ref": "c529cbb8-5014-4d2f-8ff5-59fc21e3250c",
              "rows": [
                [
                  "0",
                  "11",
                  "Action",
                  "Science Fiction"
                ],
                [
                  "1",
                  "18",
                  "Action",
                  "Science Fiction"
                ],
                [
                  "2",
                  "19",
                  null,
                  "Science Fiction"
                ],
                [
                  "3",
                  "38",
                  null,
                  "Science Fiction"
                ],
                [
                  "4",
                  "62",
                  null,
                  "Science Fiction"
                ],
                [
                  "5",
                  "68",
                  null,
                  "Science Fiction"
                ],
                [
                  "6",
                  "74",
                  null,
                  "Science Fiction"
                ],
                [
                  "7",
                  "75",
                  null,
                  "Science Fiction"
                ],
                [
                  "8",
                  "78",
                  null,
                  "Science Fiction"
                ],
                [
                  "9",
                  "95",
                  "Action",
                  "Science Fiction"
                ],
                [
                  "10",
                  "105",
                  null,
                  "Science Fiction"
                ],
                [
                  "11",
                  "106",
                  "Action",
                  "Science Fiction"
                ],
                [
                  "12",
                  "149",
                  null,
                  "Science Fiction"
                ],
                [
                  "13",
                  "152",
                  null,
                  "Science Fiction"
                ],
                [
                  "14",
                  "154",
                  "Action",
                  "Science Fiction"
                ],
                [
                  "15",
                  "157",
                  "Action",
                  "Science Fiction"
                ],
                [
                  "16",
                  "165",
                  null,
                  "Science Fiction"
                ],
                [
                  "17",
                  "167",
                  null,
                  "Science Fiction"
                ],
                [
                  "18",
                  "168",
                  null,
                  "Science Fiction"
                ],
                [
                  "19",
                  "169",
                  "Action",
                  "Science Fiction"
                ],
                [
                  "20",
                  "170",
                  null,
                  "Science Fiction"
                ],
                [
                  "21",
                  "172",
                  "Action",
                  "Science Fiction"
                ],
                [
                  "22",
                  "173",
                  null,
                  "Science Fiction"
                ],
                [
                  "23",
                  "174",
                  "Action",
                  "Science Fiction"
                ],
                [
                  "24",
                  "180",
                  "Action",
                  "Science Fiction"
                ],
                [
                  "25",
                  "193",
                  "Action",
                  "Science Fiction"
                ],
                [
                  "26",
                  "196",
                  null,
                  "Science Fiction"
                ],
                [
                  "27",
                  "199",
                  "Action",
                  "Science Fiction"
                ],
                [
                  "28",
                  "200",
                  "Action",
                  "Science Fiction"
                ],
                [
                  "29",
                  "201",
                  "Action",
                  "Science Fiction"
                ],
                [
                  "30",
                  "218",
                  "Action",
                  "Science Fiction"
                ],
                [
                  "31",
                  "280",
                  "Action",
                  "Science Fiction"
                ],
                [
                  "32",
                  "296",
                  "Action",
                  "Science Fiction"
                ],
                [
                  "33",
                  "329",
                  null,
                  "Science Fiction"
                ],
                [
                  "34",
                  "330",
                  "Action",
                  "Science Fiction"
                ],
                [
                  "35",
                  "331",
                  "Action",
                  "Science Fiction"
                ],
                [
                  "36",
                  "348",
                  "Action",
                  "Science Fiction"
                ],
                [
                  "37",
                  "395",
                  "Action",
                  "Science Fiction"
                ],
                [
                  "38",
                  "431",
                  null,
                  "Science Fiction"
                ],
                [
                  "39",
                  "435",
                  "Action",
                  "Science Fiction"
                ],
                [
                  "40",
                  "440",
                  "Action",
                  "Science Fiction"
                ],
                [
                  "41",
                  "534",
                  "Action",
                  "Science Fiction"
                ],
                [
                  "42",
                  "563",
                  "Action",
                  "Science Fiction"
                ],
                [
                  "43",
                  "593",
                  null,
                  "Science Fiction"
                ],
                [
                  "44",
                  "601",
                  null,
                  "Science Fiction"
                ],
                [
                  "45",
                  "602",
                  "Action",
                  "Science Fiction"
                ],
                [
                  "46",
                  "603",
                  "Action",
                  "Science Fiction"
                ],
                [
                  "47",
                  "604",
                  "Action",
                  "Science Fiction"
                ],
                [
                  "48",
                  "605",
                  "Action",
                  "Science Fiction"
                ],
                [
                  "49",
                  "607",
                  "Action",
                  "Science Fiction"
                ]
              ],
              "shape": {
                "columns": 3,
                "rows": 535
              }
            },
            "text/html": [
              "<div>\n",
              "<style scoped>\n",
              "    .dataframe tbody tr th:only-of-type {\n",
              "        vertical-align: middle;\n",
              "    }\n",
              "\n",
              "    .dataframe tbody tr th {\n",
              "        vertical-align: top;\n",
              "    }\n",
              "\n",
              "    .dataframe thead th {\n",
              "        text-align: right;\n",
              "    }\n",
              "</style>\n",
              "<table border=\"1\" class=\"dataframe\">\n",
              "  <thead>\n",
              "    <tr style=\"text-align: right;\">\n",
              "      <th></th>\n",
              "      <th>movie_id</th>\n",
              "      <th>genre_x</th>\n",
              "      <th>genre_y</th>\n",
              "    </tr>\n",
              "  </thead>\n",
              "  <tbody>\n",
              "    <tr>\n",
              "      <th>0</th>\n",
              "      <td>11</td>\n",
              "      <td>Action</td>\n",
              "      <td>Science Fiction</td>\n",
              "    </tr>\n",
              "    <tr>\n",
              "      <th>1</th>\n",
              "      <td>18</td>\n",
              "      <td>Action</td>\n",
              "      <td>Science Fiction</td>\n",
              "    </tr>\n",
              "    <tr>\n",
              "      <th>2</th>\n",
              "      <td>19</td>\n",
              "      <td>NaN</td>\n",
              "      <td>Science Fiction</td>\n",
              "    </tr>\n",
              "    <tr>\n",
              "      <th>3</th>\n",
              "      <td>38</td>\n",
              "      <td>NaN</td>\n",
              "      <td>Science Fiction</td>\n",
              "    </tr>\n",
              "    <tr>\n",
              "      <th>4</th>\n",
              "      <td>62</td>\n",
              "      <td>NaN</td>\n",
              "      <td>Science Fiction</td>\n",
              "    </tr>\n",
              "    <tr>\n",
              "      <th>...</th>\n",
              "      <td>...</td>\n",
              "      <td>...</td>\n",
              "      <td>...</td>\n",
              "    </tr>\n",
              "    <tr>\n",
              "      <th>530</th>\n",
              "      <td>335866</td>\n",
              "      <td>NaN</td>\n",
              "      <td>Science Fiction</td>\n",
              "    </tr>\n",
              "    <tr>\n",
              "      <th>531</th>\n",
              "      <td>347548</td>\n",
              "      <td>NaN</td>\n",
              "      <td>Science Fiction</td>\n",
              "    </tr>\n",
              "    <tr>\n",
              "      <th>532</th>\n",
              "      <td>360188</td>\n",
              "      <td>NaN</td>\n",
              "      <td>Science Fiction</td>\n",
              "    </tr>\n",
              "    <tr>\n",
              "      <th>533</th>\n",
              "      <td>367551</td>\n",
              "      <td>Action</td>\n",
              "      <td>Science Fiction</td>\n",
              "    </tr>\n",
              "    <tr>\n",
              "      <th>534</th>\n",
              "      <td>371690</td>\n",
              "      <td>NaN</td>\n",
              "      <td>Science Fiction</td>\n",
              "    </tr>\n",
              "  </tbody>\n",
              "</table>\n",
              "<p>535 rows × 3 columns</p>\n",
              "</div>"
            ],
            "text/plain": [
              "     movie_id genre_x          genre_y\n",
              "0          11  Action  Science Fiction\n",
              "1          18  Action  Science Fiction\n",
              "2          19     NaN  Science Fiction\n",
              "3          38     NaN  Science Fiction\n",
              "4          62     NaN  Science Fiction\n",
              "..        ...     ...              ...\n",
              "530    335866     NaN  Science Fiction\n",
              "531    347548     NaN  Science Fiction\n",
              "532    360188     NaN  Science Fiction\n",
              "533    367551  Action  Science Fiction\n",
              "534    371690     NaN  Science Fiction\n",
              "\n",
              "[535 rows x 3 columns]"
            ]
          },
          "metadata": {},
          "output_type": "display_data"
        }
      ],
      "source": [
        "# Merge action_movies and scifi_movies tables with a right join on movie_id. Save the result as action_scifi.\n",
        "action_scifi = action_movies.merge(scifi_movies, on=\"movie_id\", how=\"right\")\n",
        "display(action_scifi)"
      ]
    },
    {
      "cell_type": "code",
      "execution_count": 57,
      "id": "8636dd07",
      "metadata": {
        "colab": {
          "base_uri": "https://localhost:8080/",
          "height": 206
        },
        "id": "8636dd07",
        "outputId": "465d713d-eb91-45ad-e8c4-c5b1717db08a"
      },
      "outputs": [
        {
          "data": {
            "application/vnd.microsoft.datawrangler.viewer.v0+json": {
              "columns": [
                {
                  "name": "index",
                  "rawType": "int64",
                  "type": "integer"
                },
                {
                  "name": "movie_id",
                  "rawType": "int64",
                  "type": "integer"
                },
                {
                  "name": "genre_act",
                  "rawType": "object",
                  "type": "unknown"
                },
                {
                  "name": "genre_sci",
                  "rawType": "object",
                  "type": "string"
                }
              ],
              "ref": "0df2e2d3-af49-469d-adf7-b08b88dfd53e",
              "rows": [
                [
                  "0",
                  "11",
                  "Action",
                  "Science Fiction"
                ],
                [
                  "1",
                  "18",
                  "Action",
                  "Science Fiction"
                ],
                [
                  "2",
                  "19",
                  null,
                  "Science Fiction"
                ],
                [
                  "3",
                  "38",
                  null,
                  "Science Fiction"
                ],
                [
                  "4",
                  "62",
                  null,
                  "Science Fiction"
                ]
              ],
              "shape": {
                "columns": 3,
                "rows": 5
              }
            },
            "text/html": [
              "<div>\n",
              "<style scoped>\n",
              "    .dataframe tbody tr th:only-of-type {\n",
              "        vertical-align: middle;\n",
              "    }\n",
              "\n",
              "    .dataframe tbody tr th {\n",
              "        vertical-align: top;\n",
              "    }\n",
              "\n",
              "    .dataframe thead th {\n",
              "        text-align: right;\n",
              "    }\n",
              "</style>\n",
              "<table border=\"1\" class=\"dataframe\">\n",
              "  <thead>\n",
              "    <tr style=\"text-align: right;\">\n",
              "      <th></th>\n",
              "      <th>movie_id</th>\n",
              "      <th>genre_act</th>\n",
              "      <th>genre_sci</th>\n",
              "    </tr>\n",
              "  </thead>\n",
              "  <tbody>\n",
              "    <tr>\n",
              "      <th>0</th>\n",
              "      <td>11</td>\n",
              "      <td>Action</td>\n",
              "      <td>Science Fiction</td>\n",
              "    </tr>\n",
              "    <tr>\n",
              "      <th>1</th>\n",
              "      <td>18</td>\n",
              "      <td>Action</td>\n",
              "      <td>Science Fiction</td>\n",
              "    </tr>\n",
              "    <tr>\n",
              "      <th>2</th>\n",
              "      <td>19</td>\n",
              "      <td>NaN</td>\n",
              "      <td>Science Fiction</td>\n",
              "    </tr>\n",
              "    <tr>\n",
              "      <th>3</th>\n",
              "      <td>38</td>\n",
              "      <td>NaN</td>\n",
              "      <td>Science Fiction</td>\n",
              "    </tr>\n",
              "    <tr>\n",
              "      <th>4</th>\n",
              "      <td>62</td>\n",
              "      <td>NaN</td>\n",
              "      <td>Science Fiction</td>\n",
              "    </tr>\n",
              "  </tbody>\n",
              "</table>\n",
              "</div>"
            ],
            "text/plain": [
              "   movie_id genre_act        genre_sci\n",
              "0        11    Action  Science Fiction\n",
              "1        18    Action  Science Fiction\n",
              "2        19       NaN  Science Fiction\n",
              "3        38       NaN  Science Fiction\n",
              "4        62       NaN  Science Fiction"
            ]
          },
          "metadata": {},
          "output_type": "display_data"
        }
      ],
      "source": [
        "# Update the merge to add suffixes, where '_act' and '_sci' are suffixes for the left and right tables, respectively.\n",
        "action_scifi = action_movies.merge(scifi_movies, on=\"movie_id\", how=\"right\", suffixes=(\"_act\", \"_sci\"))\n",
        "display(action_scifi.head())"
      ]
    },
    {
      "cell_type": "code",
      "execution_count": 58,
      "id": "edb60418",
      "metadata": {
        "id": "edb60418"
      },
      "outputs": [],
      "source": [
        "# From action_scifi, subset only the rows where the genre_act column is null.\n",
        "scifi_only = action_scifi[action_scifi[\"genre_act\"].isna()]"
      ]
    },
    {
      "cell_type": "code",
      "execution_count": 59,
      "id": "4a18cb88",
      "metadata": {
        "colab": {
          "base_uri": "https://localhost:8080/",
          "height": 635
        },
        "id": "4a18cb88",
        "outputId": "d83faa86-e4b7-4176-bcbc-6e2745d81003"
      },
      "outputs": [
        {
          "data": {
            "application/vnd.microsoft.datawrangler.viewer.v0+json": {
              "columns": [
                {
                  "name": "index",
                  "rawType": "int64",
                  "type": "integer"
                },
                {
                  "name": "id",
                  "rawType": "int64",
                  "type": "integer"
                },
                {
                  "name": "original_title",
                  "rawType": "object",
                  "type": "string"
                },
                {
                  "name": "popularity",
                  "rawType": "float64",
                  "type": "float"
                },
                {
                  "name": "release_date",
                  "rawType": "object",
                  "type": "string"
                },
                {
                  "name": "movie_id",
                  "rawType": "int64",
                  "type": "integer"
                },
                {
                  "name": "genre_act",
                  "rawType": "object",
                  "type": "unknown"
                },
                {
                  "name": "genre_sci",
                  "rawType": "object",
                  "type": "string"
                }
              ],
              "ref": "a8acc738-2acd-4174-b6a1-7d36da070dee",
              "rows": [
                [
                  "0",
                  "18841",
                  "The Lost Skeleton of Cadavra",
                  "1.680525",
                  "2001-09-12",
                  "18841",
                  null,
                  "Science Fiction"
                ],
                [
                  "1",
                  "26672",
                  "The Thief and the Cobbler",
                  "2.439184",
                  "1993-09-23",
                  "26672",
                  null,
                  "Science Fiction"
                ],
                [
                  "2",
                  "15301",
                  "Twilight Zone: The Movie",
                  "12.902975",
                  "1983-06-24",
                  "15301",
                  null,
                  "Science Fiction"
                ],
                [
                  "3",
                  "8452",
                  "The 6th Day",
                  "18.447479",
                  "2000-11-17",
                  "8452",
                  null,
                  "Science Fiction"
                ],
                [
                  "4",
                  "1649",
                  "Bill & Ted's Bogus Journey",
                  "11.349664",
                  "1991-07-19",
                  "1649",
                  null,
                  "Science Fiction"
                ],
                [
                  "5",
                  "74",
                  "War of the Worlds",
                  "48.572726",
                  "2005-06-28",
                  "74",
                  null,
                  "Science Fiction"
                ],
                [
                  "6",
                  "62",
                  "2001: A Space Odyssey",
                  "86.201184",
                  "1968-04-10",
                  "62",
                  null,
                  "Science Fiction"
                ],
                [
                  "7",
                  "11588",
                  "The I Inside",
                  "3.789485",
                  "2004-01-15",
                  "11588",
                  null,
                  "Science Fiction"
                ],
                [
                  "8",
                  "889",
                  "The Flintstones in Viva Rock Vegas",
                  "6.248309",
                  "2000-04-28",
                  "889",
                  null,
                  "Science Fiction"
                ],
                [
                  "9",
                  "329",
                  "Jurassic Park",
                  "40.413191",
                  "1993-06-11",
                  "329",
                  null,
                  "Science Fiction"
                ],
                [
                  "10",
                  "84329",
                  "Robot & Frank",
                  "23.419061",
                  "2012-08-16",
                  "84329",
                  null,
                  "Science Fiction"
                ],
                [
                  "11",
                  "10386",
                  "The Iron Giant",
                  "61.245957",
                  "1999-08-06",
                  "10386",
                  null,
                  "Science Fiction"
                ],
                [
                  "12",
                  "35073",
                  "The Beast from 20,000 Fathoms",
                  "2.043661",
                  "1953-06-13",
                  "35073",
                  null,
                  "Science Fiction"
                ],
                [
                  "13",
                  "34549",
                  "Max Keeble's Big Move",
                  "1.0818219999999998",
                  "2001-10-05",
                  "34549",
                  null,
                  "Science Fiction"
                ],
                [
                  "14",
                  "14337",
                  "Primer",
                  "23.307949",
                  "2004-10-08",
                  "14337",
                  null,
                  "Science Fiction"
                ],
                [
                  "15",
                  "11561",
                  "Sleeper",
                  "10.664202000000001",
                  "1973-12-17",
                  "11561",
                  null,
                  "Science Fiction"
                ],
                [
                  "16",
                  "20455",
                  "Digimon: The Movie",
                  "3.7387",
                  "2000-03-17",
                  "20455",
                  null,
                  "Science Fiction"
                ],
                [
                  "17",
                  "15511",
                  "VeggieTales: The Pirates Who Don't Do Anything",
                  "1.8001189999999998",
                  "2008-01-11",
                  "15511",
                  null,
                  "Science Fiction"
                ],
                [
                  "18",
                  "13363",
                  "The Man from Earth",
                  "31.339015000000003",
                  "2007-06-10",
                  "13363",
                  null,
                  "Science Fiction"
                ],
                [
                  "19",
                  "2661",
                  "Batman",
                  "9.815394",
                  "1966-07-30",
                  "2661",
                  null,
                  "Science Fiction"
                ],
                [
                  "20",
                  "37707",
                  "Splice",
                  "23.227877",
                  "2009-10-06",
                  "37707",
                  null,
                  "Science Fiction"
                ],
                [
                  "21",
                  "11687",
                  "The Visitors",
                  "8.893676",
                  "1993-01-27",
                  "11687",
                  null,
                  "Science Fiction"
                ],
                [
                  "22",
                  "68179",
                  "Escape from Planet Earth",
                  "18.14218",
                  "2013-02-14",
                  "68179",
                  null,
                  "Science Fiction"
                ],
                [
                  "23",
                  "7512",
                  "Idiocracy",
                  "27.940093",
                  "2006-09-01",
                  "7512",
                  null,
                  "Science Fiction"
                ],
                [
                  "24",
                  "158015",
                  "The Purge",
                  "54.40303299999999",
                  "2013-05-31",
                  "158015",
                  null,
                  "Science Fiction"
                ],
                [
                  "25",
                  "45767",
                  "Time Changer",
                  "0.33975700000000003",
                  "2002-10-25",
                  "45767",
                  null,
                  "Science Fiction"
                ],
                [
                  "26",
                  "8843",
                  "The Cell",
                  "25.413954999999998",
                  "2000-08-17",
                  "8843",
                  null,
                  "Science Fiction"
                ],
                [
                  "27",
                  "21765",
                  "Good Boy!",
                  "3.5603300000000004",
                  "2003-10-10",
                  "21765",
                  null,
                  "Science Fiction"
                ],
                [
                  "28",
                  "14139",
                  "Timecrimes",
                  "19.02965",
                  "2007-09-20",
                  "14139",
                  null,
                  "Science Fiction"
                ],
                [
                  "29",
                  "246655",
                  "X-Men: Apocalypse",
                  "139.272042",
                  "2016-05-18",
                  "246655",
                  null,
                  "Science Fiction"
                ],
                [
                  "30",
                  "38541",
                  "The Divide",
                  "11.882563000000001",
                  "2011-03-13",
                  "38541",
                  null,
                  "Science Fiction"
                ],
                [
                  "31",
                  "6795",
                  "Zathura: A Space Adventure",
                  "15.194239000000001",
                  "2005-11-06",
                  "6795",
                  null,
                  "Science Fiction"
                ],
                [
                  "32",
                  "30315",
                  "Kingdom of the Spiders",
                  "2.537032",
                  "1977-08-24",
                  "30315",
                  null,
                  "Science Fiction"
                ],
                [
                  "33",
                  "3604",
                  "Flash Gordon",
                  "12.343507",
                  "1980-09-01",
                  "3604",
                  null,
                  "Science Fiction"
                ],
                [
                  "34",
                  "17431",
                  "Moon",
                  "46.114184",
                  "2009-06-12",
                  "17431",
                  null,
                  "Science Fiction"
                ],
                [
                  "35",
                  "286217",
                  "The Martian",
                  "167.93287",
                  "2015-09-30",
                  "286217",
                  null,
                  "Science Fiction"
                ],
                [
                  "36",
                  "16633",
                  "Somewhere in Time",
                  "5.934016000000001",
                  "1980-10-02",
                  "16633",
                  null,
                  "Science Fiction"
                ],
                [
                  "37",
                  "10200",
                  "The Day the Earth Stood Still",
                  "41.890722",
                  "2008-12-10",
                  "10200",
                  null,
                  "Science Fiction"
                ],
                [
                  "38",
                  "290370",
                  "Mutant World",
                  "1.8936970000000002",
                  "2014-09-27",
                  "290370",
                  null,
                  "Science Fiction"
                ],
                [
                  "39",
                  "926",
                  "Galaxy Quest",
                  "30.816340999999998",
                  "1999-12-23",
                  "926",
                  null,
                  "Science Fiction"
                ],
                [
                  "40",
                  "816",
                  "Austin Powers: International Man of Mystery",
                  "36.15716",
                  "1997-05-02",
                  "816",
                  null,
                  "Science Fiction"
                ],
                [
                  "41",
                  "167",
                  "K-PAX",
                  "30.920075",
                  "2001-10-22",
                  "167",
                  null,
                  "Science Fiction"
                ],
                [
                  "42",
                  "28260",
                  "Return of the Living Dead 3",
                  "7.502934",
                  "1993-10-01",
                  "28260",
                  null,
                  "Science Fiction"
                ],
                [
                  "43",
                  "2666",
                  "Dark City",
                  "39.324831",
                  "1998-02-27",
                  "2666",
                  null,
                  "Science Fiction"
                ],
                [
                  "44",
                  "312793",
                  "The Walking Deceased",
                  "1.332804",
                  "2015-03-20",
                  "312793",
                  null,
                  "Science Fiction"
                ],
                [
                  "45",
                  "11827",
                  "Heavy Metal",
                  "12.928269",
                  "1981-08-07",
                  "11827",
                  null,
                  "Science Fiction"
                ],
                [
                  "46",
                  "9306",
                  "The Island of Dr. Moreau",
                  "13.210898",
                  "1996-08-23",
                  "9306",
                  null,
                  "Science Fiction"
                ],
                [
                  "47",
                  "106845",
                  "Re-Kill",
                  "5.346205",
                  "2015-10-16",
                  "106845",
                  null,
                  "Science Fiction"
                ],
                [
                  "48",
                  "10133",
                  "Cypher",
                  "11.636883000000001",
                  "2002-10-01",
                  "10133",
                  null,
                  "Science Fiction"
                ],
                [
                  "49",
                  "262504",
                  "Allegiant",
                  "86.105615",
                  "2016-03-09",
                  "262504",
                  null,
                  "Science Fiction"
                ]
              ],
              "shape": {
                "columns": 7,
                "rows": 258
              }
            },
            "text/html": [
              "<div>\n",
              "<style scoped>\n",
              "    .dataframe tbody tr th:only-of-type {\n",
              "        vertical-align: middle;\n",
              "    }\n",
              "\n",
              "    .dataframe tbody tr th {\n",
              "        vertical-align: top;\n",
              "    }\n",
              "\n",
              "    .dataframe thead th {\n",
              "        text-align: right;\n",
              "    }\n",
              "</style>\n",
              "<table border=\"1\" class=\"dataframe\">\n",
              "  <thead>\n",
              "    <tr style=\"text-align: right;\">\n",
              "      <th></th>\n",
              "      <th>id</th>\n",
              "      <th>original_title</th>\n",
              "      <th>popularity</th>\n",
              "      <th>release_date</th>\n",
              "      <th>movie_id</th>\n",
              "      <th>genre_act</th>\n",
              "      <th>genre_sci</th>\n",
              "    </tr>\n",
              "  </thead>\n",
              "  <tbody>\n",
              "    <tr>\n",
              "      <th>0</th>\n",
              "      <td>18841</td>\n",
              "      <td>The Lost Skeleton of Cadavra</td>\n",
              "      <td>1.680525</td>\n",
              "      <td>2001-09-12</td>\n",
              "      <td>18841</td>\n",
              "      <td>NaN</td>\n",
              "      <td>Science Fiction</td>\n",
              "    </tr>\n",
              "    <tr>\n",
              "      <th>1</th>\n",
              "      <td>26672</td>\n",
              "      <td>The Thief and the Cobbler</td>\n",
              "      <td>2.439184</td>\n",
              "      <td>1993-09-23</td>\n",
              "      <td>26672</td>\n",
              "      <td>NaN</td>\n",
              "      <td>Science Fiction</td>\n",
              "    </tr>\n",
              "    <tr>\n",
              "      <th>2</th>\n",
              "      <td>15301</td>\n",
              "      <td>Twilight Zone: The Movie</td>\n",
              "      <td>12.902975</td>\n",
              "      <td>1983-06-24</td>\n",
              "      <td>15301</td>\n",
              "      <td>NaN</td>\n",
              "      <td>Science Fiction</td>\n",
              "    </tr>\n",
              "    <tr>\n",
              "      <th>3</th>\n",
              "      <td>8452</td>\n",
              "      <td>The 6th Day</td>\n",
              "      <td>18.447479</td>\n",
              "      <td>2000-11-17</td>\n",
              "      <td>8452</td>\n",
              "      <td>NaN</td>\n",
              "      <td>Science Fiction</td>\n",
              "    </tr>\n",
              "    <tr>\n",
              "      <th>4</th>\n",
              "      <td>1649</td>\n",
              "      <td>Bill &amp; Ted's Bogus Journey</td>\n",
              "      <td>11.349664</td>\n",
              "      <td>1991-07-19</td>\n",
              "      <td>1649</td>\n",
              "      <td>NaN</td>\n",
              "      <td>Science Fiction</td>\n",
              "    </tr>\n",
              "    <tr>\n",
              "      <th>...</th>\n",
              "      <td>...</td>\n",
              "      <td>...</td>\n",
              "      <td>...</td>\n",
              "      <td>...</td>\n",
              "      <td>...</td>\n",
              "      <td>...</td>\n",
              "      <td>...</td>\n",
              "    </tr>\n",
              "    <tr>\n",
              "      <th>253</th>\n",
              "      <td>245703</td>\n",
              "      <td>Midnight Special</td>\n",
              "      <td>32.717853</td>\n",
              "      <td>2016-02-18</td>\n",
              "      <td>245703</td>\n",
              "      <td>NaN</td>\n",
              "      <td>Science Fiction</td>\n",
              "    </tr>\n",
              "    <tr>\n",
              "      <th>254</th>\n",
              "      <td>3509</td>\n",
              "      <td>A Scanner Darkly</td>\n",
              "      <td>26.093043</td>\n",
              "      <td>2006-05-25</td>\n",
              "      <td>3509</td>\n",
              "      <td>NaN</td>\n",
              "      <td>Science Fiction</td>\n",
              "    </tr>\n",
              "    <tr>\n",
              "      <th>255</th>\n",
              "      <td>42188</td>\n",
              "      <td>Never Let Me Go</td>\n",
              "      <td>30.983397</td>\n",
              "      <td>2010-09-15</td>\n",
              "      <td>42188</td>\n",
              "      <td>NaN</td>\n",
              "      <td>Science Fiction</td>\n",
              "    </tr>\n",
              "    <tr>\n",
              "      <th>256</th>\n",
              "      <td>18045</td>\n",
              "      <td>The Dark Hours</td>\n",
              "      <td>1.428483</td>\n",
              "      <td>2005-03-11</td>\n",
              "      <td>18045</td>\n",
              "      <td>NaN</td>\n",
              "      <td>Science Fiction</td>\n",
              "    </tr>\n",
              "    <tr>\n",
              "      <th>257</th>\n",
              "      <td>11058</td>\n",
              "      <td>Godsend</td>\n",
              "      <td>12.102350</td>\n",
              "      <td>2004-04-30</td>\n",
              "      <td>11058</td>\n",
              "      <td>NaN</td>\n",
              "      <td>Science Fiction</td>\n",
              "    </tr>\n",
              "  </tbody>\n",
              "</table>\n",
              "<p>258 rows × 7 columns</p>\n",
              "</div>"
            ],
            "text/plain": [
              "         id                original_title  popularity release_date  movie_id  \\\n",
              "0     18841  The Lost Skeleton of Cadavra    1.680525   2001-09-12     18841   \n",
              "1     26672     The Thief and the Cobbler    2.439184   1993-09-23     26672   \n",
              "2     15301      Twilight Zone: The Movie   12.902975   1983-06-24     15301   \n",
              "3      8452                   The 6th Day   18.447479   2000-11-17      8452   \n",
              "4      1649    Bill & Ted's Bogus Journey   11.349664   1991-07-19      1649   \n",
              "..      ...                           ...         ...          ...       ...   \n",
              "253  245703              Midnight Special   32.717853   2016-02-18    245703   \n",
              "254    3509              A Scanner Darkly   26.093043   2006-05-25      3509   \n",
              "255   42188               Never Let Me Go   30.983397   2010-09-15     42188   \n",
              "256   18045                The Dark Hours    1.428483   2005-03-11     18045   \n",
              "257   11058                       Godsend   12.102350   2004-04-30     11058   \n",
              "\n",
              "    genre_act        genre_sci  \n",
              "0         NaN  Science Fiction  \n",
              "1         NaN  Science Fiction  \n",
              "2         NaN  Science Fiction  \n",
              "3         NaN  Science Fiction  \n",
              "4         NaN  Science Fiction  \n",
              "..        ...              ...  \n",
              "253       NaN  Science Fiction  \n",
              "254       NaN  Science Fiction  \n",
              "255       NaN  Science Fiction  \n",
              "256       NaN  Science Fiction  \n",
              "257       NaN  Science Fiction  \n",
              "\n",
              "[258 rows x 7 columns]"
            ]
          },
          "metadata": {},
          "output_type": "display_data"
        }
      ],
      "source": [
        "# Merge movies and scifi_only using the id column in the left table and the movie_id column in the right table with an inner join.\n",
        "movies_and_scifi_only = movies.merge(scifi_only, left_on=\"id\", right_on=\"movie_id\", how=\"inner\")\n",
        "display(movies_and_scifi_only)"
      ]
    },
    {
      "cell_type": "code",
      "execution_count": 60,
      "id": "x-xlmEjuxWgE",
      "metadata": {
        "colab": {
          "base_uri": "https://localhost:8080/",
          "height": 206
        },
        "id": "x-xlmEjuxWgE",
        "outputId": "bc128e79-c3ba-429e-acca-bd0e2c9335bd"
      },
      "outputs": [
        {
          "data": {
            "application/vnd.microsoft.datawrangler.viewer.v0+json": {
              "columns": [
                {
                  "name": "index",
                  "rawType": "int64",
                  "type": "integer"
                },
                {
                  "name": "movie_id",
                  "rawType": "int64",
                  "type": "integer"
                },
                {
                  "name": "genre",
                  "rawType": "object",
                  "type": "string"
                }
              ],
              "ref": "fb9f5f10-2f07-4fad-86fd-4fd88840677b",
              "rows": [
                [
                  "0",
                  "5",
                  "Crime"
                ],
                [
                  "1",
                  "5",
                  "Comedy"
                ],
                [
                  "2",
                  "11",
                  "Science Fiction"
                ],
                [
                  "3",
                  "11",
                  "Action"
                ],
                [
                  "4",
                  "11",
                  "Adventure"
                ]
              ],
              "shape": {
                "columns": 2,
                "rows": 5
              }
            },
            "text/html": [
              "<div>\n",
              "<style scoped>\n",
              "    .dataframe tbody tr th:only-of-type {\n",
              "        vertical-align: middle;\n",
              "    }\n",
              "\n",
              "    .dataframe tbody tr th {\n",
              "        vertical-align: top;\n",
              "    }\n",
              "\n",
              "    .dataframe thead th {\n",
              "        text-align: right;\n",
              "    }\n",
              "</style>\n",
              "<table border=\"1\" class=\"dataframe\">\n",
              "  <thead>\n",
              "    <tr style=\"text-align: right;\">\n",
              "      <th></th>\n",
              "      <th>movie_id</th>\n",
              "      <th>genre</th>\n",
              "    </tr>\n",
              "  </thead>\n",
              "  <tbody>\n",
              "    <tr>\n",
              "      <th>0</th>\n",
              "      <td>5</td>\n",
              "      <td>Crime</td>\n",
              "    </tr>\n",
              "    <tr>\n",
              "      <th>1</th>\n",
              "      <td>5</td>\n",
              "      <td>Comedy</td>\n",
              "    </tr>\n",
              "    <tr>\n",
              "      <th>2</th>\n",
              "      <td>11</td>\n",
              "      <td>Science Fiction</td>\n",
              "    </tr>\n",
              "    <tr>\n",
              "      <th>3</th>\n",
              "      <td>11</td>\n",
              "      <td>Action</td>\n",
              "    </tr>\n",
              "    <tr>\n",
              "      <th>4</th>\n",
              "      <td>11</td>\n",
              "      <td>Adventure</td>\n",
              "    </tr>\n",
              "  </tbody>\n",
              "</table>\n",
              "</div>"
            ],
            "text/plain": [
              "   movie_id            genre\n",
              "0         5            Crime\n",
              "1         5           Comedy\n",
              "2        11  Science Fiction\n",
              "3        11           Action\n",
              "4        11        Adventure"
            ]
          },
          "execution_count": 60,
          "metadata": {},
          "output_type": "execute_result"
        }
      ],
      "source": [
        "movies_to_genres = pd.read_pickle(\"data/movie_to_genres.p\")\n",
        "movies_to_genres.head()"
      ]
    },
    {
      "cell_type": "code",
      "execution_count": 61,
      "id": "ndJbvDeWvp_9",
      "metadata": {
        "colab": {
          "base_uri": "https://localhost:8080/",
          "height": 206
        },
        "id": "ndJbvDeWvp_9",
        "outputId": "f4712a3a-531c-4ab3-d1ca-5df0b2d2ed9e"
      },
      "outputs": [
        {
          "data": {
            "application/vnd.microsoft.datawrangler.viewer.v0+json": {
              "columns": [
                {
                  "name": "index",
                  "rawType": "int64",
                  "type": "integer"
                },
                {
                  "name": "id",
                  "rawType": "int64",
                  "type": "integer"
                },
                {
                  "name": "title",
                  "rawType": "object",
                  "type": "string"
                },
                {
                  "name": "popularity",
                  "rawType": "float64",
                  "type": "float"
                },
                {
                  "name": "release_date",
                  "rawType": "object",
                  "type": "string"
                }
              ],
              "ref": "836f170a-018c-48ea-b467-23752149d9f9",
              "rows": [
                [
                  "4546",
                  "211672",
                  "Minions",
                  "875.581305",
                  "2015-06-17"
                ],
                [
                  "4343",
                  "157336",
                  "Interstellar",
                  "724.247784",
                  "2014-11-05"
                ],
                [
                  "1966",
                  "293660",
                  "Deadpool",
                  "514.5699559999999",
                  "2016-02-09"
                ],
                [
                  "2423",
                  "118340",
                  "Guardians of the Galaxy",
                  "481.09862400000003",
                  "2014-07-30"
                ],
                [
                  "4220",
                  "76341",
                  "Mad Max: Fury Road",
                  "434.27856399999996",
                  "2015-05-13"
                ]
              ],
              "shape": {
                "columns": 4,
                "rows": 5
              }
            },
            "text/html": [
              "<div>\n",
              "<style scoped>\n",
              "    .dataframe tbody tr th:only-of-type {\n",
              "        vertical-align: middle;\n",
              "    }\n",
              "\n",
              "    .dataframe tbody tr th {\n",
              "        vertical-align: top;\n",
              "    }\n",
              "\n",
              "    .dataframe thead th {\n",
              "        text-align: right;\n",
              "    }\n",
              "</style>\n",
              "<table border=\"1\" class=\"dataframe\">\n",
              "  <thead>\n",
              "    <tr style=\"text-align: right;\">\n",
              "      <th></th>\n",
              "      <th>id</th>\n",
              "      <th>title</th>\n",
              "      <th>popularity</th>\n",
              "      <th>release_date</th>\n",
              "    </tr>\n",
              "  </thead>\n",
              "  <tbody>\n",
              "    <tr>\n",
              "      <th>4546</th>\n",
              "      <td>211672</td>\n",
              "      <td>Minions</td>\n",
              "      <td>875.581305</td>\n",
              "      <td>2015-06-17</td>\n",
              "    </tr>\n",
              "    <tr>\n",
              "      <th>4343</th>\n",
              "      <td>157336</td>\n",
              "      <td>Interstellar</td>\n",
              "      <td>724.247784</td>\n",
              "      <td>2014-11-05</td>\n",
              "    </tr>\n",
              "    <tr>\n",
              "      <th>1966</th>\n",
              "      <td>293660</td>\n",
              "      <td>Deadpool</td>\n",
              "      <td>514.569956</td>\n",
              "      <td>2016-02-09</td>\n",
              "    </tr>\n",
              "    <tr>\n",
              "      <th>2423</th>\n",
              "      <td>118340</td>\n",
              "      <td>Guardians of the Galaxy</td>\n",
              "      <td>481.098624</td>\n",
              "      <td>2014-07-30</td>\n",
              "    </tr>\n",
              "    <tr>\n",
              "      <th>4220</th>\n",
              "      <td>76341</td>\n",
              "      <td>Mad Max: Fury Road</td>\n",
              "      <td>434.278564</td>\n",
              "      <td>2015-05-13</td>\n",
              "    </tr>\n",
              "  </tbody>\n",
              "</table>\n",
              "</div>"
            ],
            "text/plain": [
              "          id                    title  popularity release_date\n",
              "4546  211672                  Minions  875.581305   2015-06-17\n",
              "4343  157336             Interstellar  724.247784   2014-11-05\n",
              "1966  293660                 Deadpool  514.569956   2016-02-09\n",
              "2423  118340  Guardians of the Galaxy  481.098624   2014-07-30\n",
              "4220   76341       Mad Max: Fury Road  434.278564   2015-05-13"
            ]
          },
          "execution_count": 61,
          "metadata": {},
          "output_type": "execute_result"
        }
      ],
      "source": [
        "pop_movies = movies.sort_values(by=\"popularity\", ascending=False).head(10).rename(columns={\"original_title\":\"title\"})\n",
        "pop_movies.head()"
      ]
    },
    {
      "cell_type": "code",
      "execution_count": 62,
      "id": "EnQlxOqWvXzp",
      "metadata": {
        "colab": {
          "base_uri": "https://localhost:8080/",
          "height": 206
        },
        "id": "EnQlxOqWvXzp",
        "outputId": "715482c7-37a9-41ff-b7d8-7ce55247afb3"
      },
      "outputs": [
        {
          "data": {
            "application/vnd.microsoft.datawrangler.viewer.v0+json": {
              "columns": [
                {
                  "name": "index",
                  "rawType": "int64",
                  "type": "integer"
                },
                {
                  "name": "movie_id",
                  "rawType": "int64",
                  "type": "integer"
                },
                {
                  "name": "genre",
                  "rawType": "object",
                  "type": "string"
                },
                {
                  "name": "id",
                  "rawType": "int64",
                  "type": "integer"
                },
                {
                  "name": "title",
                  "rawType": "object",
                  "type": "string"
                },
                {
                  "name": "popularity",
                  "rawType": "float64",
                  "type": "float"
                },
                {
                  "name": "release_date",
                  "rawType": "object",
                  "type": "string"
                }
              ],
              "ref": "0ab50465-e8f9-4d21-88d6-d97030c8b97e",
              "rows": [
                [
                  "0",
                  "211672",
                  "Comedy",
                  "211672",
                  "Minions",
                  "875.581305",
                  "2015-06-17"
                ],
                [
                  "1",
                  "211672",
                  "Adventure",
                  "211672",
                  "Minions",
                  "875.581305",
                  "2015-06-17"
                ],
                [
                  "2",
                  "211672",
                  "Animation",
                  "211672",
                  "Minions",
                  "875.581305",
                  "2015-06-17"
                ],
                [
                  "3",
                  "211672",
                  "Family",
                  "211672",
                  "Minions",
                  "875.581305",
                  "2015-06-17"
                ],
                [
                  "4",
                  "157336",
                  "Drama",
                  "157336",
                  "Interstellar",
                  "724.247784",
                  "2014-11-05"
                ]
              ],
              "shape": {
                "columns": 6,
                "rows": 5
              }
            },
            "text/html": [
              "<div>\n",
              "<style scoped>\n",
              "    .dataframe tbody tr th:only-of-type {\n",
              "        vertical-align: middle;\n",
              "    }\n",
              "\n",
              "    .dataframe tbody tr th {\n",
              "        vertical-align: top;\n",
              "    }\n",
              "\n",
              "    .dataframe thead th {\n",
              "        text-align: right;\n",
              "    }\n",
              "</style>\n",
              "<table border=\"1\" class=\"dataframe\">\n",
              "  <thead>\n",
              "    <tr style=\"text-align: right;\">\n",
              "      <th></th>\n",
              "      <th>movie_id</th>\n",
              "      <th>genre</th>\n",
              "      <th>id</th>\n",
              "      <th>title</th>\n",
              "      <th>popularity</th>\n",
              "      <th>release_date</th>\n",
              "    </tr>\n",
              "  </thead>\n",
              "  <tbody>\n",
              "    <tr>\n",
              "      <th>0</th>\n",
              "      <td>211672</td>\n",
              "      <td>Comedy</td>\n",
              "      <td>211672</td>\n",
              "      <td>Minions</td>\n",
              "      <td>875.581305</td>\n",
              "      <td>2015-06-17</td>\n",
              "    </tr>\n",
              "    <tr>\n",
              "      <th>1</th>\n",
              "      <td>211672</td>\n",
              "      <td>Adventure</td>\n",
              "      <td>211672</td>\n",
              "      <td>Minions</td>\n",
              "      <td>875.581305</td>\n",
              "      <td>2015-06-17</td>\n",
              "    </tr>\n",
              "    <tr>\n",
              "      <th>2</th>\n",
              "      <td>211672</td>\n",
              "      <td>Animation</td>\n",
              "      <td>211672</td>\n",
              "      <td>Minions</td>\n",
              "      <td>875.581305</td>\n",
              "      <td>2015-06-17</td>\n",
              "    </tr>\n",
              "    <tr>\n",
              "      <th>3</th>\n",
              "      <td>211672</td>\n",
              "      <td>Family</td>\n",
              "      <td>211672</td>\n",
              "      <td>Minions</td>\n",
              "      <td>875.581305</td>\n",
              "      <td>2015-06-17</td>\n",
              "    </tr>\n",
              "    <tr>\n",
              "      <th>4</th>\n",
              "      <td>157336</td>\n",
              "      <td>Drama</td>\n",
              "      <td>157336</td>\n",
              "      <td>Interstellar</td>\n",
              "      <td>724.247784</td>\n",
              "      <td>2014-11-05</td>\n",
              "    </tr>\n",
              "  </tbody>\n",
              "</table>\n",
              "</div>"
            ],
            "text/plain": [
              "   movie_id      genre      id         title  popularity release_date\n",
              "0    211672     Comedy  211672       Minions  875.581305   2015-06-17\n",
              "1    211672  Adventure  211672       Minions  875.581305   2015-06-17\n",
              "2    211672  Animation  211672       Minions  875.581305   2015-06-17\n",
              "3    211672     Family  211672       Minions  875.581305   2015-06-17\n",
              "4    157336      Drama  157336  Interstellar  724.247784   2014-11-05"
            ]
          },
          "execution_count": 62,
          "metadata": {},
          "output_type": "execute_result"
        }
      ],
      "source": [
        "# Merge movie_to_genres and pop_movies using a right join. Save the results as genres_movies.\n",
        "genres_movies = movie_to_genres.merge(pop_movies, how=\"right\", left_on=\"movie_id\", right_on=\"id\")\n",
        "genres_movies.head()"
      ]
    },
    {
      "cell_type": "code",
      "execution_count": 63,
      "id": "e02b87f5",
      "metadata": {
        "colab": {
          "base_uri": "https://localhost:8080/",
          "height": 363
        },
        "id": "e02b87f5",
        "outputId": "80493f6e-76b7-486a-870d-19a38e263154"
      },
      "outputs": [
        {
          "data": {
            "application/vnd.microsoft.datawrangler.viewer.v0+json": {
              "columns": [
                {
                  "name": "genre",
                  "rawType": "object",
                  "type": "string"
                },
                {
                  "name": "id",
                  "rawType": "int64",
                  "type": "integer"
                }
              ],
              "ref": "6f31a81b-1030-4c30-a304-d6fa7398d657",
              "rows": [
                [
                  "Action",
                  "7"
                ],
                [
                  "Adventure",
                  "9"
                ],
                [
                  "Animation",
                  "2"
                ],
                [
                  "Comedy",
                  "3"
                ],
                [
                  "Drama",
                  "2"
                ],
                [
                  "Family",
                  "2"
                ],
                [
                  "Fantasy",
                  "1"
                ],
                [
                  "Science Fiction",
                  "6"
                ],
                [
                  "Thriller",
                  "4"
                ]
              ],
              "shape": {
                "columns": 1,
                "rows": 9
              }
            },
            "text/html": [
              "<div>\n",
              "<style scoped>\n",
              "    .dataframe tbody tr th:only-of-type {\n",
              "        vertical-align: middle;\n",
              "    }\n",
              "\n",
              "    .dataframe tbody tr th {\n",
              "        vertical-align: top;\n",
              "    }\n",
              "\n",
              "    .dataframe thead th {\n",
              "        text-align: right;\n",
              "    }\n",
              "</style>\n",
              "<table border=\"1\" class=\"dataframe\">\n",
              "  <thead>\n",
              "    <tr style=\"text-align: right;\">\n",
              "      <th></th>\n",
              "      <th>id</th>\n",
              "    </tr>\n",
              "    <tr>\n",
              "      <th>genre</th>\n",
              "      <th></th>\n",
              "    </tr>\n",
              "  </thead>\n",
              "  <tbody>\n",
              "    <tr>\n",
              "      <th>Action</th>\n",
              "      <td>7</td>\n",
              "    </tr>\n",
              "    <tr>\n",
              "      <th>Adventure</th>\n",
              "      <td>9</td>\n",
              "    </tr>\n",
              "    <tr>\n",
              "      <th>Animation</th>\n",
              "      <td>2</td>\n",
              "    </tr>\n",
              "    <tr>\n",
              "      <th>Comedy</th>\n",
              "      <td>3</td>\n",
              "    </tr>\n",
              "    <tr>\n",
              "      <th>Drama</th>\n",
              "      <td>2</td>\n",
              "    </tr>\n",
              "    <tr>\n",
              "      <th>Family</th>\n",
              "      <td>2</td>\n",
              "    </tr>\n",
              "    <tr>\n",
              "      <th>Fantasy</th>\n",
              "      <td>1</td>\n",
              "    </tr>\n",
              "    <tr>\n",
              "      <th>Science Fiction</th>\n",
              "      <td>6</td>\n",
              "    </tr>\n",
              "    <tr>\n",
              "      <th>Thriller</th>\n",
              "      <td>4</td>\n",
              "    </tr>\n",
              "  </tbody>\n",
              "</table>\n",
              "</div>"
            ],
            "text/plain": [
              "                 id\n",
              "genre              \n",
              "Action            7\n",
              "Adventure         9\n",
              "Animation         2\n",
              "Comedy            3\n",
              "Drama             2\n",
              "Family            2\n",
              "Fantasy           1\n",
              "Science Fiction   6\n",
              "Thriller          4"
            ]
          },
          "metadata": {},
          "output_type": "display_data"
        }
      ],
      "source": [
        "# Group genres_movies by genre and count the number of id values.\n",
        "genre_count = genres_movies.groupby(\"genre\").agg({\"id\":\"count\"})\n",
        "display(genre_count)"
      ]
    },
    {
      "cell_type": "code",
      "execution_count": 64,
      "id": "2rsvkF4ayc56",
      "metadata": {
        "colab": {
          "base_uri": "https://localhost:8080/",
          "height": 486
        },
        "id": "2rsvkF4ayc56",
        "outputId": "8d1ff1aa-5e86-4bec-977a-cf586f5aeabb"
      },
      "outputs": [
        {
          "data": {
            "image/png": "[encoded data removed]",
            "text/plain": [
              "<Figure size 640x480 with 1 Axes>"
            ]
          },
          "metadata": {},
          "output_type": "display_data"
        }
      ],
      "source": [
        "# Plot a bar chart of the genre_count\n",
        "fig, ax = plt.subplots()\n",
        "\n",
        "sns.barplot(data=genre_count, x=genre_count.index, y=genre_count[\"id\"], palette=\"rocket\", hue=genre_count.index)\n",
        "\n",
        "ax.set(xlabel=\"\", ylabel=\"Number of Popular Movies\", title=\"Genre Breakdown of Highly Popular Films\")\n",
        "\n",
        "ax.set_axisbelow(True)\n",
        "ax.grid(True, alpha=0.3, zorder=0)\n",
        "# Add value labels on top of bars\n",
        "for container in ax.containers:\n",
        "    ax.bar_label(container, fontsize=6)\n",
        "\n",
        "# Show the plot\n",
        "plt.xticks(rotation=45, ha='right')\n",
        "plt.tight_layout()\n",
        "plt.show()"
      ]
    },
    {
      "cell_type": "markdown",
      "id": "C5caUBIK0ysY",
      "metadata": {
        "id": "C5caUBIK0ysY"
      },
      "source": [
        "### Using outer join to select actors\n",
        "One cool aspect of using an outer join is that, because it returns all rows from both merged tables and `null` where they do not match, you can use it to find rows that do not have a match in the other table.\n",
        "\n",
        "To try for yourself, you have been given two tables with a list of actors from two popular movies: Iron Man 1 and Iron Man 2. Most of the actors played in both movies. Use an outer join to find actors who did not act in both movies.\n",
        "\n",
        "The Iron Man 1 table must be called `iron_1_actors`, and Iron Man 2 table is called `iron_2_actors`."
      ]
    },
    {
      "cell_type": "code",
      "execution_count": 65,
      "id": "86yCmTLfzjVr",
      "metadata": {
        "colab": {
          "base_uri": "https://localhost:8080/",
          "height": 206
        },
        "id": "86yCmTLfzjVr",
        "outputId": "2c50f800-a074-4dcf-d16e-c5b4d4229f46"
      },
      "outputs": [
        {
          "data": {
            "application/vnd.microsoft.datawrangler.viewer.v0+json": {
              "columns": [
                {
                  "name": "index",
                  "rawType": "int64",
                  "type": "integer"
                },
                {
                  "name": "movie_id",
                  "rawType": "int64",
                  "type": "integer"
                },
                {
                  "name": "cast_id",
                  "rawType": "int64",
                  "type": "integer"
                },
                {
                  "name": "character",
                  "rawType": "object",
                  "type": "string"
                },
                {
                  "name": "gender",
                  "rawType": "int64",
                  "type": "integer"
                },
                {
                  "name": "id",
                  "rawType": "int64",
                  "type": "integer"
                },
                {
                  "name": "name",
                  "rawType": "object",
                  "type": "string"
                }
              ],
              "ref": "7dd74f0e-6033-49fd-b589-b31ca2878cf8",
              "rows": [
                [
                  "7",
                  "5",
                  "22",
                  "Jezebel",
                  "1",
                  "3122",
                  "Sammi Davis"
                ],
                [
                  "8",
                  "5",
                  "23",
                  "Diana",
                  "1",
                  "3123",
                  "Amanda de Cadenet"
                ],
                [
                  "9",
                  "5",
                  "24",
                  "Athena",
                  "1",
                  "3124",
                  "Valeria Golino"
                ],
                [
                  "3",
                  "5",
                  "25",
                  "Elspeth",
                  "1",
                  "3125",
                  "Madonna"
                ],
                [
                  "12",
                  "5",
                  "26",
                  "Eva",
                  "1",
                  "3126",
                  "Ione Skye"
                ]
              ],
              "shape": {
                "columns": 6,
                "rows": 5
              }
            },
            "text/html": [
              "<div>\n",
              "<style scoped>\n",
              "    .dataframe tbody tr th:only-of-type {\n",
              "        vertical-align: middle;\n",
              "    }\n",
              "\n",
              "    .dataframe tbody tr th {\n",
              "        vertical-align: top;\n",
              "    }\n",
              "\n",
              "    .dataframe thead th {\n",
              "        text-align: right;\n",
              "    }\n",
              "</style>\n",
              "<table border=\"1\" class=\"dataframe\">\n",
              "  <thead>\n",
              "    <tr style=\"text-align: right;\">\n",
              "      <th></th>\n",
              "      <th>movie_id</th>\n",
              "      <th>cast_id</th>\n",
              "      <th>character</th>\n",
              "      <th>gender</th>\n",
              "      <th>id</th>\n",
              "      <th>name</th>\n",
              "    </tr>\n",
              "  </thead>\n",
              "  <tbody>\n",
              "    <tr>\n",
              "      <th>7</th>\n",
              "      <td>5</td>\n",
              "      <td>22</td>\n",
              "      <td>Jezebel</td>\n",
              "      <td>1</td>\n",
              "      <td>3122</td>\n",
              "      <td>Sammi Davis</td>\n",
              "    </tr>\n",
              "    <tr>\n",
              "      <th>8</th>\n",
              "      <td>5</td>\n",
              "      <td>23</td>\n",
              "      <td>Diana</td>\n",
              "      <td>1</td>\n",
              "      <td>3123</td>\n",
              "      <td>Amanda de Cadenet</td>\n",
              "    </tr>\n",
              "    <tr>\n",
              "      <th>9</th>\n",
              "      <td>5</td>\n",
              "      <td>24</td>\n",
              "      <td>Athena</td>\n",
              "      <td>1</td>\n",
              "      <td>3124</td>\n",
              "      <td>Valeria Golino</td>\n",
              "    </tr>\n",
              "    <tr>\n",
              "      <th>3</th>\n",
              "      <td>5</td>\n",
              "      <td>25</td>\n",
              "      <td>Elspeth</td>\n",
              "      <td>1</td>\n",
              "      <td>3125</td>\n",
              "      <td>Madonna</td>\n",
              "    </tr>\n",
              "    <tr>\n",
              "      <th>12</th>\n",
              "      <td>5</td>\n",
              "      <td>26</td>\n",
              "      <td>Eva</td>\n",
              "      <td>1</td>\n",
              "      <td>3126</td>\n",
              "      <td>Ione Skye</td>\n",
              "    </tr>\n",
              "  </tbody>\n",
              "</table>\n",
              "</div>"
            ],
            "text/plain": [
              "    movie_id  cast_id character  gender    id               name\n",
              "7          5       22   Jezebel       1  3122        Sammi Davis\n",
              "8          5       23     Diana       1  3123  Amanda de Cadenet\n",
              "9          5       24    Athena       1  3124     Valeria Golino\n",
              "3          5       25   Elspeth       1  3125            Madonna\n",
              "12         5       26       Eva       1  3126          Ione Skye"
            ]
          },
          "execution_count": 65,
          "metadata": {},
          "output_type": "execute_result"
        }
      ],
      "source": [
        "casts = pd.read_pickle(\"data/casts.p\")\n",
        "casts.head()"
      ]
    },
    {
      "cell_type": "code",
      "execution_count": 66,
      "id": "gAVSgw4K1vX3",
      "metadata": {
        "colab": {
          "base_uri": "https://localhost:8080/",
          "height": 206
        },
        "id": "gAVSgw4K1vX3",
        "outputId": "3ed81643-a75d-4901-de19-41f3070e6cde"
      },
      "outputs": [
        {
          "data": {
            "application/vnd.microsoft.datawrangler.viewer.v0+json": {
              "columns": [
                {
                  "name": "index",
                  "rawType": "int64",
                  "type": "integer"
                },
                {
                  "name": "character",
                  "rawType": "object",
                  "type": "string"
                },
                {
                  "name": "id",
                  "rawType": "int64",
                  "type": "integer"
                },
                {
                  "name": "name",
                  "rawType": "object",
                  "type": "string"
                }
              ],
              "ref": "841f0163-e71e-4c3b-a7eb-86e9dc6893a8",
              "rows": [
                [
                  "7",
                  "Jezebel",
                  "3122",
                  "Sammi Davis"
                ],
                [
                  "8",
                  "Diana",
                  "3123",
                  "Amanda de Cadenet"
                ],
                [
                  "9",
                  "Athena",
                  "3124",
                  "Valeria Golino"
                ],
                [
                  "3",
                  "Elspeth",
                  "3125",
                  "Madonna"
                ],
                [
                  "12",
                  "Eva",
                  "3126",
                  "Ione Skye"
                ]
              ],
              "shape": {
                "columns": 3,
                "rows": 5
              }
            },
            "text/html": [
              "<div>\n",
              "<style scoped>\n",
              "    .dataframe tbody tr th:only-of-type {\n",
              "        vertical-align: middle;\n",
              "    }\n",
              "\n",
              "    .dataframe tbody tr th {\n",
              "        vertical-align: top;\n",
              "    }\n",
              "\n",
              "    .dataframe thead th {\n",
              "        text-align: right;\n",
              "    }\n",
              "</style>\n",
              "<table border=\"1\" class=\"dataframe\">\n",
              "  <thead>\n",
              "    <tr style=\"text-align: right;\">\n",
              "      <th></th>\n",
              "      <th>character</th>\n",
              "      <th>id</th>\n",
              "      <th>name</th>\n",
              "    </tr>\n",
              "  </thead>\n",
              "  <tbody>\n",
              "    <tr>\n",
              "      <th>7</th>\n",
              "      <td>Jezebel</td>\n",
              "      <td>3122</td>\n",
              "      <td>Sammi Davis</td>\n",
              "    </tr>\n",
              "    <tr>\n",
              "      <th>8</th>\n",
              "      <td>Diana</td>\n",
              "      <td>3123</td>\n",
              "      <td>Amanda de Cadenet</td>\n",
              "    </tr>\n",
              "    <tr>\n",
              "      <th>9</th>\n",
              "      <td>Athena</td>\n",
              "      <td>3124</td>\n",
              "      <td>Valeria Golino</td>\n",
              "    </tr>\n",
              "    <tr>\n",
              "      <th>3</th>\n",
              "      <td>Elspeth</td>\n",
              "      <td>3125</td>\n",
              "      <td>Madonna</td>\n",
              "    </tr>\n",
              "    <tr>\n",
              "      <th>12</th>\n",
              "      <td>Eva</td>\n",
              "      <td>3126</td>\n",
              "      <td>Ione Skye</td>\n",
              "    </tr>\n",
              "  </tbody>\n",
              "</table>\n",
              "</div>"
            ],
            "text/plain": [
              "   character    id               name\n",
              "7    Jezebel  3122        Sammi Davis\n",
              "8      Diana  3123  Amanda de Cadenet\n",
              "9     Athena  3124     Valeria Golino\n",
              "3    Elspeth  3125            Madonna\n",
              "12       Eva  3126          Ione Skye"
            ]
          },
          "execution_count": 66,
          "metadata": {},
          "output_type": "execute_result"
        }
      ],
      "source": [
        "casts_only = casts.drop([\"movie_id\", \"cast_id\", \"gender\"], axis=1)\n",
        "casts_only.head()"
      ]
    },
    {
      "cell_type": "code",
      "execution_count": 67,
      "id": "2Afv4M3517so",
      "metadata": {
        "id": "2Afv4M3517so"
      },
      "outputs": [],
      "source": [
        "iron_1_actors = casts_only[casts_only[\"id\"].isin([17857,   12052,    1229,   18288,   57451,   57452,    3223,\n",
        "          9048,  173810,    6162,   15277,   12708,   40275,    2231,\n",
        "         17200,  163671,   78299,   54809,  944830, 1209417,   95698,\n",
        "       1209418,   62037,  183439,  109669,  104669, 1209419,  195442,\n",
        "        142213, 1209702, 1209703,  183037, 1209704,  214951,  205362,\n",
        "        203468,  939869, 1209705, 1209706, 1209707, 1209708, 1209709,\n",
        "       1209710,  206423,  133121,  181895,   62843,  204606,  210842,\n",
        "        205720, 1005698,    7624, 1209711,   90721,  169681, 1209712,\n",
        "       1209713,  169642,   27031,   34544,  150669, 1209714, 1209715,\n",
        "       1004624,  984619, 1209716, 1209717,  970218, 1209718, 1202546,\n",
        "       1209719, 1209720, 1209721, 1209722, 1089759, 1096679, 1209723,\n",
        "       1209724,   78434, 1209725, 1209726, 1209727, 1209728, 1209729,\n",
        "       1209730, 1209731, 1429470])]"
      ]
    },
    {
      "cell_type": "code",
      "execution_count": 68,
      "id": "e19a373a",
      "metadata": {
        "id": "e19a373a"
      },
      "outputs": [],
      "source": [
        "# Create iron_2_actors DataFrame\n",
        "iron_2_actors = casts_only[casts_only[\"id\"].isin([\n",
        "    2295, 1245, 6807, 2231, 12052, 1896, 15277, 57451, 81364, 51072,\n",
        "    113676, 3223, 52865, 21134, 9048, 6162, 73641, 14741, 1209714, 216601,\n",
        "    1265248, 1265249, 1177850, 586090, 1228219, 40275, 1230885, 1265250,\n",
        "    1079976, 7624, 1265251, 118755, 210292, 1265252, 57563, 95777, 81957,\n",
        "    1265795, 997632, 1265796, 201883, 1265797, 1265798, 1003061, 1265799,\n",
        "    1202543, 1265800, 1265801, 571240, 1265802, 108725, 1265803, 995348,\n",
        "    1265804, 1265805, 1265806, 83274, 168925, 1265807, 98999, 1265808,\n",
        "    1265809, 1265810, 1265811, 1265812, 1265813, 1265814, 1265815, 1078574,\n",
        "    1265816, 1236642, 1231548, 1265817, 1265818, 1265819, 1225936, 97447,\n",
        "    1265820, 1265821, 1265822, 1265823, 1265824, 1265825, 1265826, 193946,\n",
        "    1265827, 201951, 1200895, 1200313, 101037, 1265828, 1265829, 1186481,\n",
        "    1265830, 992389, 1265831, 208056, 1265832, 1265833, 223048, 1197358,\n",
        "    1265834, 1265835, 1265836, 77824, 1197040, 1265837, 1265838, 1265839,\n",
        "    92189, 1265840, 1265841, 1122811, 1205141, 1429470, 1213109\n",
        "])]"
      ]
    },
    {
      "cell_type": "code",
      "execution_count": 69,
      "id": "7E_9UkVN4A4x",
      "metadata": {
        "colab": {
          "base_uri": "https://localhost:8080/",
          "height": 224
        },
        "id": "7E_9UkVN4A4x",
        "outputId": "1daf6efe-c58a-4f98-bcbe-00cef9e3e5bb"
      },
      "outputs": [
        {
          "data": {
            "application/vnd.microsoft.datawrangler.viewer.v0+json": {
              "columns": [
                {
                  "name": "index",
                  "rawType": "int64",
                  "type": "integer"
                },
                {
                  "name": "character",
                  "rawType": "object",
                  "type": "string"
                },
                {
                  "name": "id",
                  "rawType": "int64",
                  "type": "integer"
                },
                {
                  "name": "name",
                  "rawType": "object",
                  "type": "string"
                }
              ],
              "ref": "a5758888-2c45-43b5-afdd-8aefc6dc8c61",
              "rows": [
                [
                  "11",
                  "Branded Marine",
                  "95698",
                  "Kevin Foster"
                ],
                [
                  "45",
                  "Boxing Fan (uncredited)",
                  "1209723",
                  "Robert McMurrer"
                ],
                [
                  "0",
                  "The Dude",
                  "1229",
                  "Jeff Bridges"
                ],
                [
                  "17",
                  "Reese",
                  "34544",
                  "Joshua Harto"
                ],
                [
                  "0",
                  "Dr. Mark Powell",
                  "1229",
                  "Jeff Bridges"
                ]
              ],
              "shape": {
                "columns": 3,
                "rows": 5
              }
            },
            "text/html": [
              "<div>\n",
              "<style scoped>\n",
              "    .dataframe tbody tr th:only-of-type {\n",
              "        vertical-align: middle;\n",
              "    }\n",
              "\n",
              "    .dataframe tbody tr th {\n",
              "        vertical-align: top;\n",
              "    }\n",
              "\n",
              "    .dataframe thead th {\n",
              "        text-align: right;\n",
              "    }\n",
              "</style>\n",
              "<table border=\"1\" class=\"dataframe\">\n",
              "  <thead>\n",
              "    <tr style=\"text-align: right;\">\n",
              "      <th></th>\n",
              "      <th>character</th>\n",
              "      <th>id</th>\n",
              "      <th>name</th>\n",
              "    </tr>\n",
              "  </thead>\n",
              "  <tbody>\n",
              "    <tr>\n",
              "      <th>11</th>\n",
              "      <td>Branded Marine</td>\n",
              "      <td>95698</td>\n",
              "      <td>Kevin Foster</td>\n",
              "    </tr>\n",
              "    <tr>\n",
              "      <th>45</th>\n",
              "      <td>Boxing Fan (uncredited)</td>\n",
              "      <td>1209723</td>\n",
              "      <td>Robert McMurrer</td>\n",
              "    </tr>\n",
              "    <tr>\n",
              "      <th>0</th>\n",
              "      <td>The Dude</td>\n",
              "      <td>1229</td>\n",
              "      <td>Jeff Bridges</td>\n",
              "    </tr>\n",
              "    <tr>\n",
              "      <th>17</th>\n",
              "      <td>Reese</td>\n",
              "      <td>34544</td>\n",
              "      <td>Joshua Harto</td>\n",
              "    </tr>\n",
              "    <tr>\n",
              "      <th>0</th>\n",
              "      <td>Dr. Mark Powell</td>\n",
              "      <td>1229</td>\n",
              "      <td>Jeff Bridges</td>\n",
              "    </tr>\n",
              "  </tbody>\n",
              "</table>\n",
              "</div>"
            ],
            "text/plain": [
              "                  character       id             name\n",
              "11           Branded Marine    95698     Kevin Foster\n",
              "45  Boxing Fan (uncredited)  1209723  Robert McMurrer\n",
              "0                  The Dude     1229     Jeff Bridges\n",
              "17                    Reese    34544     Joshua Harto\n",
              "0           Dr. Mark Powell     1229     Jeff Bridges"
            ]
          },
          "metadata": {},
          "output_type": "display_data"
        },
        {
          "data": {
            "text/plain": [
              "(458, 3)"
            ]
          },
          "execution_count": 69,
          "metadata": {},
          "output_type": "execute_result"
        }
      ],
      "source": [
        "display(iron_1_actors.head())\n",
        "iron_1_actors.shape"
      ]
    },
    {
      "cell_type": "code",
      "execution_count": 70,
      "id": "955NIQoh4csr",
      "metadata": {
        "colab": {
          "base_uri": "https://localhost:8080/",
          "height": 224
        },
        "id": "955NIQoh4csr",
        "outputId": "c9e75ce8-fd38-4ba8-a706-cdd494f9dc4e"
      },
      "outputs": [
        {
          "data": {
            "application/vnd.microsoft.datawrangler.viewer.v0+json": {
              "columns": [
                {
                  "name": "index",
                  "rawType": "int64",
                  "type": "integer"
                },
                {
                  "name": "character",
                  "rawType": "object",
                  "type": "string"
                },
                {
                  "name": "id",
                  "rawType": "int64",
                  "type": "integer"
                },
                {
                  "name": "name",
                  "rawType": "object",
                  "type": "string"
                }
              ],
              "ref": "5f9240a3-4258-4429-af62-b2c43636b0c5",
              "rows": [
                [
                  "1",
                  "Nola Rice",
                  "1245",
                  "Scarlett Johansson"
                ],
                [
                  "12",
                  "Alma Jr. (Age 19)",
                  "51072",
                  "Kate Mara"
                ],
                [
                  "1",
                  "Charlotte",
                  "1245",
                  "Scarlett Johansson"
                ],
                [
                  "20",
                  "Basher Tarr (uncredited)",
                  "1896",
                  "Don Cheadle"
                ],
                [
                  "9",
                  "Basher Tarr",
                  "1896",
                  "Don Cheadle"
                ]
              ],
              "shape": {
                "columns": 3,
                "rows": 5
              }
            },
            "text/html": [
              "<div>\n",
              "<style scoped>\n",
              "    .dataframe tbody tr th:only-of-type {\n",
              "        vertical-align: middle;\n",
              "    }\n",
              "\n",
              "    .dataframe tbody tr th {\n",
              "        vertical-align: top;\n",
              "    }\n",
              "\n",
              "    .dataframe thead th {\n",
              "        text-align: right;\n",
              "    }\n",
              "</style>\n",
              "<table border=\"1\" class=\"dataframe\">\n",
              "  <thead>\n",
              "    <tr style=\"text-align: right;\">\n",
              "      <th></th>\n",
              "      <th>character</th>\n",
              "      <th>id</th>\n",
              "      <th>name</th>\n",
              "    </tr>\n",
              "  </thead>\n",
              "  <tbody>\n",
              "    <tr>\n",
              "      <th>1</th>\n",
              "      <td>Nola Rice</td>\n",
              "      <td>1245</td>\n",
              "      <td>Scarlett Johansson</td>\n",
              "    </tr>\n",
              "    <tr>\n",
              "      <th>12</th>\n",
              "      <td>Alma Jr. (Age 19)</td>\n",
              "      <td>51072</td>\n",
              "      <td>Kate Mara</td>\n",
              "    </tr>\n",
              "    <tr>\n",
              "      <th>1</th>\n",
              "      <td>Charlotte</td>\n",
              "      <td>1245</td>\n",
              "      <td>Scarlett Johansson</td>\n",
              "    </tr>\n",
              "    <tr>\n",
              "      <th>20</th>\n",
              "      <td>Basher Tarr (uncredited)</td>\n",
              "      <td>1896</td>\n",
              "      <td>Don Cheadle</td>\n",
              "    </tr>\n",
              "    <tr>\n",
              "      <th>9</th>\n",
              "      <td>Basher Tarr</td>\n",
              "      <td>1896</td>\n",
              "      <td>Don Cheadle</td>\n",
              "    </tr>\n",
              "  </tbody>\n",
              "</table>\n",
              "</div>"
            ],
            "text/plain": [
              "                   character     id                name\n",
              "1                  Nola Rice   1245  Scarlett Johansson\n",
              "12         Alma Jr. (Age 19)  51072           Kate Mara\n",
              "1                  Charlotte   1245  Scarlett Johansson\n",
              "20  Basher Tarr (uncredited)   1896         Don Cheadle\n",
              "9                Basher Tarr   1896         Don Cheadle"
            ]
          },
          "metadata": {},
          "output_type": "display_data"
        },
        {
          "data": {
            "text/plain": [
              "(547, 3)"
            ]
          },
          "execution_count": 70,
          "metadata": {},
          "output_type": "execute_result"
        }
      ],
      "source": [
        "display(iron_2_actors.head())\n",
        "iron_2_actors.shape"
      ]
    },
    {
      "cell_type": "code",
      "execution_count": 71,
      "id": "8S_HofCB4ePR",
      "metadata": {
        "colab": {
          "base_uri": "https://localhost:8080/",
          "height": 563
        },
        "id": "8S_HofCB4ePR",
        "outputId": "483cf276-343f-4961-aa3d-f8cfe617b896"
      },
      "outputs": [
        {
          "data": {
            "application/vnd.microsoft.datawrangler.viewer.v0+json": {
              "columns": [
                {
                  "name": "index",
                  "rawType": "int64",
                  "type": "integer"
                },
                {
                  "name": "character_1",
                  "rawType": "object",
                  "type": "unknown"
                },
                {
                  "name": "id",
                  "rawType": "int64",
                  "type": "integer"
                },
                {
                  "name": "name_1",
                  "rawType": "object",
                  "type": "unknown"
                },
                {
                  "name": "character_2",
                  "rawType": "object",
                  "type": "unknown"
                },
                {
                  "name": "name_2",
                  "rawType": "object",
                  "type": "unknown"
                }
              ],
              "ref": "cb3b636b-e66e-4fda-b296-c5bb4ee22d5f",
              "rows": [
                [
                  "0",
                  "The Dude",
                  "1229",
                  "Jeff Bridges",
                  null,
                  null
                ],
                [
                  "1",
                  "Dr. Mark Powell",
                  "1229",
                  "Jeff Bridges",
                  null,
                  null
                ],
                [
                  "2",
                  "Jack Lucas",
                  "1229",
                  "Jeff Bridges",
                  null,
                  null
                ],
                [
                  "3",
                  "Michael Faraday",
                  "1229",
                  "Jeff Bridges",
                  null,
                  null
                ],
                [
                  "4",
                  "Obadiah Stane / Iron Monger",
                  "1229",
                  "Jeff Bridges",
                  null,
                  null
                ],
                [
                  "5",
                  "Charles Howard",
                  "1229",
                  "Jeff Bridges",
                  null,
                  null
                ],
                [
                  "6",
                  "President Jackson Evans",
                  "1229",
                  "Jeff Bridges",
                  null,
                  null
                ],
                [
                  "7",
                  "Big Z / Geek",
                  "1229",
                  "Jeff Bridges",
                  null,
                  null
                ],
                [
                  "8",
                  "Burt Vickerman",
                  "1229",
                  "Jeff Bridges",
                  null,
                  null
                ],
                [
                  "9",
                  "Bill Django",
                  "1229",
                  "Jeff Bridges",
                  null,
                  null
                ],
                [
                  "10",
                  "Captain Christopher 'Skipper' Sheldon",
                  "1229",
                  "Jeff Bridges",
                  null,
                  null
                ],
                [
                  "11",
                  "John L. Bridges",
                  "1229",
                  "Jeff Bridges",
                  null,
                  null
                ],
                [
                  "12",
                  "Clayton Harding",
                  "1229",
                  "Jeff Bridges",
                  null,
                  null
                ],
                [
                  "13",
                  "Kevin Flynn / Clu",
                  "1229",
                  "Jeff Bridges",
                  null,
                  null
                ],
                [
                  "14",
                  "Tom Friend",
                  "1229",
                  "Jeff Bridges",
                  null,
                  null
                ],
                [
                  "15",
                  "Kyle",
                  "1229",
                  "Jeff Bridges",
                  null,
                  null
                ],
                [
                  "16",
                  "Gregory Larkin",
                  "1229",
                  "Jeff Bridges",
                  null,
                  null
                ],
                [
                  "17",
                  "Bad Blake",
                  "1229",
                  "Jeff Bridges",
                  null,
                  null
                ],
                [
                  "18",
                  "Jack Warrick",
                  "1229",
                  "Jeff Bridges",
                  null,
                  null
                ],
                [
                  "19",
                  "Rooster Cogburn",
                  "1229",
                  "Jeff Bridges",
                  null,
                  null
                ],
                [
                  "20",
                  "Roy Pulsipher",
                  "1229",
                  "Jeff Bridges",
                  null,
                  null
                ],
                [
                  "21",
                  "Master Gregory",
                  "1229",
                  "Jeff Bridges",
                  null,
                  null
                ],
                [
                  "22",
                  "The Giver",
                  "1229",
                  "Jeff Bridges",
                  null,
                  null
                ],
                [
                  "23",
                  "The Aviator (voice)",
                  "1229",
                  "Jeff Bridges",
                  null,
                  null
                ],
                [
                  "24",
                  null,
                  "1245",
                  null,
                  "Nola Rice",
                  "Scarlett Johansson"
                ],
                [
                  "25",
                  null,
                  "1245",
                  null,
                  "Charlotte",
                  "Scarlett Johansson"
                ],
                [
                  "26",
                  null,
                  "1245",
                  null,
                  "Sondra Pransky",
                  "Scarlett Johansson"
                ],
                [
                  "27",
                  null,
                  "1245",
                  null,
                  "Grace MacLean",
                  "Scarlett Johansson"
                ],
                [
                  "28",
                  null,
                  "1245",
                  null,
                  "Olivia Wenscombe",
                  "Scarlett Johansson"
                ],
                [
                  "29",
                  null,
                  "1245",
                  null,
                  "Rebecca",
                  "Scarlett Johansson"
                ],
                [
                  "30",
                  null,
                  "1245",
                  null,
                  "Jordan Two Delta / Sarah Jordan",
                  "Scarlett Johansson"
                ],
                [
                  "31",
                  null,
                  "1245",
                  null,
                  "Alex Foreman",
                  "Scarlett Johansson"
                ],
                [
                  "32",
                  null,
                  "1245",
                  null,
                  "Griet",
                  "Scarlett Johansson"
                ],
                [
                  "33",
                  null,
                  "1245",
                  null,
                  "Cristina",
                  "Scarlett Johansson"
                ],
                [
                  "34",
                  null,
                  "1245",
                  null,
                  "Silken Floss",
                  "Scarlett Johansson"
                ],
                [
                  "35",
                  null,
                  "1245",
                  null,
                  "Ashley Parker",
                  "Scarlett Johansson"
                ],
                [
                  "36",
                  null,
                  "1245",
                  null,
                  "Kay Lake",
                  "Scarlett Johansson"
                ],
                [
                  "37",
                  null,
                  "1245",
                  null,
                  "Natalie Rushman / Natasha Romanoff / Black Widow",
                  "Scarlett Johansson"
                ],
                [
                  "38",
                  null,
                  "1245",
                  null,
                  "Anna Marks",
                  "Scarlett Johansson"
                ],
                [
                  "39",
                  null,
                  "1245",
                  null,
                  "Mindy (voice)",
                  "Scarlett Johansson"
                ],
                [
                  "40",
                  null,
                  "1245",
                  null,
                  "Mary Boleyn",
                  "Scarlett Johansson"
                ],
                [
                  "41",
                  null,
                  "1245",
                  null,
                  "Natasha Romanoff / Black Widow",
                  "Scarlett Johansson"
                ],
                [
                  "42",
                  null,
                  "1245",
                  null,
                  "Kelly Foster",
                  "Scarlett Johansson"
                ],
                [
                  "43",
                  null,
                  "1245",
                  null,
                  "Laura",
                  "Scarlett Johansson"
                ],
                [
                  "44",
                  null,
                  "1245",
                  null,
                  "Natasha Romanoff / Black Widow",
                  "Scarlett Johansson"
                ],
                [
                  "45",
                  null,
                  "1245",
                  null,
                  "Natasha Romanoff / Black Widow",
                  "Scarlett Johansson"
                ],
                [
                  "46",
                  null,
                  "1245",
                  null,
                  "Barbara Sugarman",
                  "Scarlett Johansson"
                ],
                [
                  "47",
                  null,
                  "1245",
                  null,
                  "Samantha (voice)",
                  "Scarlett Johansson"
                ],
                [
                  "48",
                  null,
                  "1245",
                  null,
                  "Lucy Miller",
                  "Scarlett Johansson"
                ],
                [
                  "49",
                  null,
                  "1245",
                  null,
                  "DeeAnna Moran",
                  "Scarlett Johansson"
                ]
              ],
              "shape": {
                "columns": 5,
                "rows": 8947
              }
            },
            "text/html": [
              "<div>\n",
              "<style scoped>\n",
              "    .dataframe tbody tr th:only-of-type {\n",
              "        vertical-align: middle;\n",
              "    }\n",
              "\n",
              "    .dataframe tbody tr th {\n",
              "        vertical-align: top;\n",
              "    }\n",
              "\n",
              "    .dataframe thead th {\n",
              "        text-align: right;\n",
              "    }\n",
              "</style>\n",
              "<table border=\"1\" class=\"dataframe\">\n",
              "  <thead>\n",
              "    <tr style=\"text-align: right;\">\n",
              "      <th></th>\n",
              "      <th>character_1</th>\n",
              "      <th>id</th>\n",
              "      <th>name_1</th>\n",
              "      <th>character_2</th>\n",
              "      <th>name_2</th>\n",
              "    </tr>\n",
              "  </thead>\n",
              "  <tbody>\n",
              "    <tr>\n",
              "      <th>0</th>\n",
              "      <td>The Dude</td>\n",
              "      <td>1229</td>\n",
              "      <td>Jeff Bridges</td>\n",
              "      <td>NaN</td>\n",
              "      <td>NaN</td>\n",
              "    </tr>\n",
              "    <tr>\n",
              "      <th>1</th>\n",
              "      <td>Dr. Mark Powell</td>\n",
              "      <td>1229</td>\n",
              "      <td>Jeff Bridges</td>\n",
              "      <td>NaN</td>\n",
              "      <td>NaN</td>\n",
              "    </tr>\n",
              "    <tr>\n",
              "      <th>2</th>\n",
              "      <td>Jack Lucas</td>\n",
              "      <td>1229</td>\n",
              "      <td>Jeff Bridges</td>\n",
              "      <td>NaN</td>\n",
              "      <td>NaN</td>\n",
              "    </tr>\n",
              "    <tr>\n",
              "      <th>3</th>\n",
              "      <td>Michael Faraday</td>\n",
              "      <td>1229</td>\n",
              "      <td>Jeff Bridges</td>\n",
              "      <td>NaN</td>\n",
              "      <td>NaN</td>\n",
              "    </tr>\n",
              "    <tr>\n",
              "      <th>4</th>\n",
              "      <td>Obadiah Stane / Iron Monger</td>\n",
              "      <td>1229</td>\n",
              "      <td>Jeff Bridges</td>\n",
              "      <td>NaN</td>\n",
              "      <td>NaN</td>\n",
              "    </tr>\n",
              "    <tr>\n",
              "      <th>...</th>\n",
              "      <td>...</td>\n",
              "      <td>...</td>\n",
              "      <td>...</td>\n",
              "      <td>...</td>\n",
              "      <td>...</td>\n",
              "    </tr>\n",
              "    <tr>\n",
              "      <th>8942</th>\n",
              "      <td>Dr. Taryl Jenkins (uncredited)</td>\n",
              "      <td>1429470</td>\n",
              "      <td>Nick W. Nicholson</td>\n",
              "      <td>Reporter (uncredited)</td>\n",
              "      <td>Nick W. Nicholson</td>\n",
              "    </tr>\n",
              "    <tr>\n",
              "      <th>8943</th>\n",
              "      <td>Dr. Taryl Jenkins (uncredited)</td>\n",
              "      <td>1429470</td>\n",
              "      <td>Nick W. Nicholson</td>\n",
              "      <td>Stark Expo Attendee (uncredited)</td>\n",
              "      <td>Nick W. Nicholson</td>\n",
              "    </tr>\n",
              "    <tr>\n",
              "      <th>8944</th>\n",
              "      <td>Dr. Taryl Jenkins (uncredited)</td>\n",
              "      <td>1429470</td>\n",
              "      <td>Nick W. Nicholson</td>\n",
              "      <td>Saloon Guy (uncredited)</td>\n",
              "      <td>Nick W. Nicholson</td>\n",
              "    </tr>\n",
              "    <tr>\n",
              "      <th>8945</th>\n",
              "      <td>Dr. Taryl Jenkins (uncredited)</td>\n",
              "      <td>1429470</td>\n",
              "      <td>Nick W. Nicholson</td>\n",
              "      <td>White House Reporter (uncredited)</td>\n",
              "      <td>Nick W. Nicholson</td>\n",
              "    </tr>\n",
              "    <tr>\n",
              "      <th>8946</th>\n",
              "      <td>Dr. Taryl Jenkins (uncredited)</td>\n",
              "      <td>1429470</td>\n",
              "      <td>Nick W. Nicholson</td>\n",
              "      <td>Dr. Taryl Jenkins (uncredited)</td>\n",
              "      <td>Nick W. Nicholson</td>\n",
              "    </tr>\n",
              "  </tbody>\n",
              "</table>\n",
              "<p>8947 rows × 5 columns</p>\n",
              "</div>"
            ],
            "text/plain": [
              "                         character_1       id             name_1  \\\n",
              "0                           The Dude     1229       Jeff Bridges   \n",
              "1                    Dr. Mark Powell     1229       Jeff Bridges   \n",
              "2                         Jack Lucas     1229       Jeff Bridges   \n",
              "3                    Michael Faraday     1229       Jeff Bridges   \n",
              "4        Obadiah Stane / Iron Monger     1229       Jeff Bridges   \n",
              "...                              ...      ...                ...   \n",
              "8942  Dr. Taryl Jenkins (uncredited)  1429470  Nick W. Nicholson   \n",
              "8943  Dr. Taryl Jenkins (uncredited)  1429470  Nick W. Nicholson   \n",
              "8944  Dr. Taryl Jenkins (uncredited)  1429470  Nick W. Nicholson   \n",
              "8945  Dr. Taryl Jenkins (uncredited)  1429470  Nick W. Nicholson   \n",
              "8946  Dr. Taryl Jenkins (uncredited)  1429470  Nick W. Nicholson   \n",
              "\n",
              "                            character_2             name_2  \n",
              "0                                   NaN                NaN  \n",
              "1                                   NaN                NaN  \n",
              "2                                   NaN                NaN  \n",
              "3                                   NaN                NaN  \n",
              "4                                   NaN                NaN  \n",
              "...                                 ...                ...  \n",
              "8942              Reporter (uncredited)  Nick W. Nicholson  \n",
              "8943   Stark Expo Attendee (uncredited)  Nick W. Nicholson  \n",
              "8944            Saloon Guy (uncredited)  Nick W. Nicholson  \n",
              "8945  White House Reporter (uncredited)  Nick W. Nicholson  \n",
              "8946     Dr. Taryl Jenkins (uncredited)  Nick W. Nicholson  \n",
              "\n",
              "[8947 rows x 5 columns]"
            ]
          },
          "metadata": {},
          "output_type": "display_data"
        },
        {
          "data": {
            "text/plain": [
              "(8947, 5)"
            ]
          },
          "execution_count": 71,
          "metadata": {},
          "output_type": "execute_result"
        }
      ],
      "source": [
        "# Merge iron_1_actors to iron_2_actors on id with outer join using suffixes\n",
        "iron_1_and_2 = iron_1_actors.merge(iron_2_actors, on='id', how=\"outer\", suffixes=(\"_1\", \"_2\"))\n",
        "display(iron_1_and_2)\n",
        "iron_1_and_2.shape"
      ]
    },
    {
      "cell_type": "code",
      "execution_count": 72,
      "id": "CFROWXat42hW",
      "metadata": {
        "colab": {
          "base_uri": "https://localhost:8080/"
        },
        "id": "CFROWXat42hW",
        "outputId": "2f5f6701-9023-47f7-a691-e8d50f36af0a"
      },
      "outputs": [
        {
          "name": "stdout",
          "output_type": "stream",
          "text": [
            "                   character_1    id        name_1 character_2 name_2\n",
            "0                     The Dude  1229  Jeff Bridges         NaN    NaN\n",
            "1              Dr. Mark Powell  1229  Jeff Bridges         NaN    NaN\n",
            "2                   Jack Lucas  1229  Jeff Bridges         NaN    NaN\n",
            "3              Michael Faraday  1229  Jeff Bridges         NaN    NaN\n",
            "4  Obadiah Stane / Iron Monger  1229  Jeff Bridges         NaN    NaN\n"
          ]
        }
      ],
      "source": [
        "# Create an index that returns True if name_1 or name_2 are null, and False otherwise.\n",
        "m = ((iron_1_and_2['name_1'].isna()) |\n",
        "     (iron_1_and_2['name_2'].isna()))\n",
        "\n",
        "# Print the first few rows of iron_1_and_2\n",
        "print(iron_1_and_2[m].head())"
      ]
    },
    {
      "cell_type": "code",
      "execution_count": 73,
      "id": "0PKEY4xt5VBN",
      "metadata": {
        "colab": {
          "base_uri": "https://localhost:8080/",
          "height": 441
        },
        "id": "0PKEY4xt5VBN",
        "outputId": "f67624fb-df08-49d9-9874-af1619bc9ee3"
      },
      "outputs": [
        {
          "data": {
            "application/vnd.microsoft.datawrangler.viewer.v0+json": {
              "columns": [
                {
                  "name": "index",
                  "rawType": "int64",
                  "type": "integer"
                },
                {
                  "name": "character",
                  "rawType": "object",
                  "type": "string"
                },
                {
                  "name": "id",
                  "rawType": "int64",
                  "type": "integer"
                },
                {
                  "name": "name",
                  "rawType": "object",
                  "type": "string"
                }
              ],
              "ref": "1dfc3a25-b30a-40e0-956d-811399f2fc4a",
              "rows": [
                [
                  "0",
                  "'Old and Lame' Show Attendee",
                  "81364",
                  "Olivia Munn"
                ],
                [
                  "1",
                  "'Old and Lame' Show Attendee",
                  "142213",
                  "Nazanin Boniadi"
                ],
                [
                  "2",
                  "'Wild Bill' Wharton",
                  "6807",
                  "Sam Rockwell"
                ],
                [
                  "3",
                  "(voice)",
                  "14741",
                  "Philippe Bergeron"
                ],
                [
                  "4",
                  "10 Rings Gangster",
                  "1265250",
                  "Ali Khan"
                ],
                [
                  "5",
                  "1960's Film Crew (uncredited)",
                  "1265836",
                  "Tanner Alexander Redman"
                ],
                [
                  "6",
                  "AV Operator",
                  "1265251",
                  "Isaiah Guyman Martin IV"
                ],
                [
                  "7",
                  "Abby",
                  "51072",
                  "Kate Mara"
                ],
                [
                  "8",
                  "Abel Turner",
                  "2231",
                  "Samuel L. Jackson"
                ],
                [
                  "9",
                  "Abu Bakaar",
                  "173810",
                  "Sayed Badreya"
                ],
                [
                  "10",
                  "Admiral Thompson",
                  "17200",
                  "Bill Smitrovich"
                ],
                [
                  "11",
                  "Agent Augustus Gibbons",
                  "2231",
                  "Samuel L. Jackson"
                ],
                [
                  "12",
                  "Agent Augustus Gibbons",
                  "2231",
                  "Samuel L. Jackson"
                ],
                [
                  "13",
                  "Agent Augustus Gibbons",
                  "2231",
                  "Samuel L. Jackson"
                ],
                [
                  "14",
                  "Agent Augustus Gibbons",
                  "2231",
                  "Samuel L. Jackson"
                ],
                [
                  "15",
                  "Agent J.T. Roberts",
                  "1896",
                  "Don Cheadle"
                ],
                [
                  "16",
                  "Agent Phil Coulson",
                  "9048",
                  "Clark Gregg"
                ],
                [
                  "17",
                  "Agent Phil Coulson",
                  "9048",
                  "Clark Gregg"
                ],
                [
                  "18",
                  "Agent Phil Coulson",
                  "9048",
                  "Clark Gregg"
                ],
                [
                  "19",
                  "Agent Phil Coulson",
                  "9048",
                  "Clark Gregg"
                ],
                [
                  "20",
                  "Agent Phil Coulson",
                  "9048",
                  "Clark Gregg"
                ],
                [
                  "21",
                  "Agent Phil Coulson",
                  "9048",
                  "Clark Gregg"
                ],
                [
                  "22",
                  "Agent Phil Coulson",
                  "9048",
                  "Clark Gregg"
                ],
                [
                  "23",
                  "Agent Phil Coulson",
                  "9048",
                  "Clark Gregg"
                ],
                [
                  "24",
                  "Agent Phil Coulson",
                  "9048",
                  "Clark Gregg"
                ],
                [
                  "25",
                  "Agent Phil Coulson",
                  "9048",
                  "Clark Gregg"
                ],
                [
                  "26",
                  "Agent Phil Coulson",
                  "9048",
                  "Clark Gregg"
                ],
                [
                  "27",
                  "Agent Phil Coulson",
                  "9048",
                  "Clark Gregg"
                ],
                [
                  "28",
                  "Agent Phil Coulson",
                  "9048",
                  "Clark Gregg"
                ],
                [
                  "29",
                  "Agent Phil Coulson",
                  "9048",
                  "Clark Gregg"
                ],
                [
                  "30",
                  "Agent Phil Coulson",
                  "9048",
                  "Clark Gregg"
                ],
                [
                  "31",
                  "Agent Phil Coulson",
                  "9048",
                  "Clark Gregg"
                ],
                [
                  "32",
                  "Agent Stan Mitchell",
                  "27031",
                  "Tim Griffin"
                ],
                [
                  "33",
                  "Ahmed",
                  "183439",
                  "Ahmed Ahmed"
                ],
                [
                  "34",
                  "Air Force Lieutenant",
                  "1209711",
                  "Justin Rex"
                ],
                [
                  "35",
                  "Air Force Major (uncredited)",
                  "1078574",
                  "Pete Brown"
                ],
                [
                  "36",
                  "Air Force Officer",
                  "205362",
                  "Marvin Jordan"
                ],
                [
                  "37",
                  "Airforce Officer (uncredited)",
                  "1209724",
                  "James M. Myers"
                ],
                [
                  "38",
                  "Alan Johnson",
                  "1896",
                  "Don Cheadle"
                ],
                [
                  "39",
                  "Alex Foreman",
                  "1245",
                  "Scarlett Johansson"
                ],
                [
                  "40",
                  "Alma Jr. (Age 19)",
                  "51072",
                  "Kate Mara"
                ],
                [
                  "41",
                  "Alphonse",
                  "18288",
                  "Terrence Howard"
                ],
                [
                  "42",
                  "Amira Ahmed",
                  "142213",
                  "Nazanin Boniadi"
                ],
                [
                  "43",
                  "Anna Marks",
                  "1245",
                  "Scarlett Johansson"
                ],
                [
                  "44",
                  "Annie Cantrell",
                  "51072",
                  "Kate Mara"
                ],
                [
                  "45",
                  "Anton Vanko",
                  "1079976",
                  "Evgeniy Lazarev"
                ],
                [
                  "46",
                  "Apache",
                  "54809",
                  "Marco Khan"
                ],
                [
                  "47",
                  "Arab #3",
                  "1096679",
                  "Anthony Martins"
                ],
                [
                  "48",
                  "Arab Pilot",
                  "173810",
                  "Sayed Badreya"
                ],
                [
                  "49",
                  "Arnold",
                  "2231",
                  "Samuel L. Jackson"
                ]
              ],
              "shape": {
                "columns": 3,
                "rows": 881
              }
            },
            "text/html": [
              "<div>\n",
              "<style scoped>\n",
              "    .dataframe tbody tr th:only-of-type {\n",
              "        vertical-align: middle;\n",
              "    }\n",
              "\n",
              "    .dataframe tbody tr th {\n",
              "        vertical-align: top;\n",
              "    }\n",
              "\n",
              "    .dataframe thead th {\n",
              "        text-align: right;\n",
              "    }\n",
              "</style>\n",
              "<table border=\"1\" class=\"dataframe\">\n",
              "  <thead>\n",
              "    <tr style=\"text-align: right;\">\n",
              "      <th></th>\n",
              "      <th>character</th>\n",
              "      <th>id</th>\n",
              "      <th>name</th>\n",
              "    </tr>\n",
              "  </thead>\n",
              "  <tbody>\n",
              "    <tr>\n",
              "      <th>0</th>\n",
              "      <td>'Old and Lame' Show Attendee</td>\n",
              "      <td>81364</td>\n",
              "      <td>Olivia Munn</td>\n",
              "    </tr>\n",
              "    <tr>\n",
              "      <th>1</th>\n",
              "      <td>'Old and Lame' Show Attendee</td>\n",
              "      <td>142213</td>\n",
              "      <td>Nazanin Boniadi</td>\n",
              "    </tr>\n",
              "    <tr>\n",
              "      <th>2</th>\n",
              "      <td>'Wild Bill' Wharton</td>\n",
              "      <td>6807</td>\n",
              "      <td>Sam Rockwell</td>\n",
              "    </tr>\n",
              "    <tr>\n",
              "      <th>3</th>\n",
              "      <td>(voice)</td>\n",
              "      <td>14741</td>\n",
              "      <td>Philippe Bergeron</td>\n",
              "    </tr>\n",
              "    <tr>\n",
              "      <th>4</th>\n",
              "      <td>10 Rings Gangster</td>\n",
              "      <td>1265250</td>\n",
              "      <td>Ali Khan</td>\n",
              "    </tr>\n",
              "    <tr>\n",
              "      <th>...</th>\n",
              "      <td>...</td>\n",
              "      <td>...</td>\n",
              "      <td>...</td>\n",
              "    </tr>\n",
              "    <tr>\n",
              "      <th>876</th>\n",
              "      <td>Zeus Carver</td>\n",
              "      <td>2231</td>\n",
              "      <td>Samuel L. Jackson</td>\n",
              "    </tr>\n",
              "    <tr>\n",
              "      <th>877</th>\n",
              "      <td>Zoe Tripp</td>\n",
              "      <td>51072</td>\n",
              "      <td>Kate Mara</td>\n",
              "    </tr>\n",
              "    <tr>\n",
              "      <th>878</th>\n",
              "      <td>Zog (voice)</td>\n",
              "      <td>2231</td>\n",
              "      <td>Samuel L. Jackson</td>\n",
              "    </tr>\n",
              "    <tr>\n",
              "      <th>879</th>\n",
              "      <td>Zorianna Kit</td>\n",
              "      <td>90721</td>\n",
              "      <td>Zorianna Kit</td>\n",
              "    </tr>\n",
              "    <tr>\n",
              "      <th>880</th>\n",
              "      <td>Zucko</td>\n",
              "      <td>18288</td>\n",
              "      <td>Terrence Howard</td>\n",
              "    </tr>\n",
              "  </tbody>\n",
              "</table>\n",
              "<p>881 rows × 3 columns</p>\n",
              "</div>"
            ],
            "text/plain": [
              "                        character       id               name\n",
              "0    'Old and Lame' Show Attendee    81364        Olivia Munn\n",
              "1    'Old and Lame' Show Attendee   142213    Nazanin Boniadi\n",
              "2             'Wild Bill' Wharton     6807       Sam Rockwell\n",
              "3                         (voice)    14741  Philippe Bergeron\n",
              "4               10 Rings Gangster  1265250           Ali Khan\n",
              "..                            ...      ...                ...\n",
              "876                   Zeus Carver     2231  Samuel L. Jackson\n",
              "877                     Zoe Tripp    51072          Kate Mara\n",
              "878                   Zog (voice)     2231  Samuel L. Jackson\n",
              "879                  Zorianna Kit    90721       Zorianna Kit\n",
              "880                         Zucko    18288    Terrence Howard\n",
              "\n",
              "[881 rows x 3 columns]"
            ]
          },
          "metadata": {},
          "output_type": "display_data"
        },
        {
          "data": {
            "text/plain": [
              "(881, 3)"
            ]
          },
          "execution_count": 73,
          "metadata": {},
          "output_type": "execute_result"
        }
      ],
      "source": [
        "iron_1_and_2_merge = iron_1_actors.merge(iron_2_actors, how=\"outer\")\n",
        "display(iron_1_and_2_merge)\n",
        "iron_1_and_2_merge.shape"
      ]
    },
    {
      "cell_type": "code",
      "execution_count": 74,
      "id": "mJ70mByc5g3W",
      "metadata": {
        "colab": {
          "base_uri": "https://localhost:8080/",
          "height": 178
        },
        "id": "mJ70mByc5g3W",
        "outputId": "7833e691-2fe9-4745-e9e9-a19e9ebf9fde"
      },
      "outputs": [
        {
          "data": {
            "application/vnd.microsoft.datawrangler.viewer.v0+json": {
              "columns": [
                {
                  "name": "index",
                  "rawType": "object",
                  "type": "string"
                },
                {
                  "name": "0",
                  "rawType": "int64",
                  "type": "integer"
                }
              ],
              "ref": "a5246b9a-ac6a-4576-b4e5-fead330de50f",
              "rows": [
                [
                  "character",
                  "0"
                ],
                [
                  "id",
                  "0"
                ],
                [
                  "name",
                  "0"
                ]
              ],
              "shape": {
                "columns": 1,
                "rows": 3
              }
            },
            "text/plain": [
              "character    0\n",
              "id           0\n",
              "name         0\n",
              "dtype: int64"
            ]
          },
          "execution_count": 74,
          "metadata": {},
          "output_type": "execute_result"
        }
      ],
      "source": [
        "iron_1_and_2_merge.isna().sum()"
      ]
    },
    {
      "cell_type": "markdown",
      "id": "dace133a",
      "metadata": {},
      "source": [
        "# Merging a Table to Itself \n",
        "\n",
        "A **self-join** is the process of merging a table with itself. This operation is essential in scenarios where records in a dataset are hierarchically or sequentially related, or when modelling networks and graph-like structures. Self-joins are conceptually similar to ordinary joins, but both the left and right tables are the same DataFrame—often with different keys, enabling you to “look up” related records within the same dataset.\n",
        "\n",
        "This section covers the motivation, best practices, and technical procedures for merging a table to itself using Pandas, with an emphasis on careful, readable code and robust handling of key relationships.\n",
        "\n",
        "## Why Merge a Table to Itself?\n",
        "\n",
        "Common real-world scenarios include:\n",
        "\n",
        "- **Hierarchical relationships:**  \n",
        "  For example, employee-manager, category-subcategory, or parent-child relationships in trees or organisational charts.\n",
        "- **Sequential relationships:**  \n",
        "  Linking records in a sequence, such as steps in a process, chapters in a book, or “next” and “previous” pointers in linked data.\n",
        "- **Graph data:**  \n",
        "  Exploring relationships such as friends-of-friends, network links, or reference chains.\n",
        "\n",
        "Self-joins allow you to enrich each record with data from its “related” counterpart, using foreign keys or reference columns within the same table.\n",
        "\n",
        "\n",
        "## Mechanics: The Self-Join in Pandas\n",
        "\n",
        "To merge a table with itself, use `.merge()`—but specify **different keys** for the left and right:\n",
        "\n",
        "```python\n",
        "merged = df.merge(\n",
        "    df,\n",
        "    left_on=\"reference_column\",\n",
        "    right_on=\"id_column\",\n",
        "    suffixes=(\"_left\", \"_right\")\n",
        ")\n",
        "```\n",
        " `left_on`: the key column(s) in the left (original) DataFrame.<br>\n",
        " `right_on`: the key column(s) in the right (copy) DataFrame.<br>\n",
        " `suffixes`: distinguishes columns from each “side” of the join for clarity.<br>\n",
        "\n",
        "## Table Structure: Before and After Self-Join\n",
        "\n",
        "**Original Table (single DataFrame):**\n",
        "\n",
        "| id | reference | title  |\n",
        "|----|-----------|--------|\n",
        "| 1  | NaN       | Alpha  |\n",
        "| 2  | 1         | Beta   |\n",
        "| 3  | 2         | Gamma  |\n",
        "\n",
        "**Self-Join Result (joined on reference = id):**\n",
        "\n",
        "| id_left | reference | title_left | id_right | reference_right | title_right |\n",
        "|---------|-----------|------------|----------|----------------|-------------|\n",
        "| 2       | 1         | Beta       | 1        | NaN            | Alpha       |\n",
        "| 3       | 2         | Gamma      | 2        | 1              | Beta        |\n",
        "\n",
        "<br>\n",
        "Each row in the result links a record to its “related” record (e.g., child to parent, sequel to original, etc.).\n",
        "\n",
        "\n",
        "## Syntax: Merging a Table to Itself\n",
        "\n",
        "### Standard Self-Join (Inner Join by Default)\n",
        "\n",
        "```python\n",
        "merged = df.merge(\n",
        "    df,\n",
        "    left_on=\"reference_column\",\n",
        "    right_on=\"id_column\",\n",
        "    suffixes=(\"_src\", \"_ref\")\n",
        ")\n",
        "print(merged.head())\n",
        "```\n",
        "\n",
        "### Selecting Relevant Columns for Clarity\n",
        "\n",
        "Often, you want to focus on specific columns from each side of the join:\n",
        "\n",
        "```python\n",
        "print(merged[[\"title_src\", \"title_ref\"]].head())\n",
        "```\n",
        "\n",
        "### Left Self-Join\n",
        "\n",
        "To preserve all records from the original table, use a **left join**:\n",
        "\n",
        "```python\n",
        "merged = df.merge(\n",
        "    df,\n",
        "    left_on=\"reference_column\",\n",
        "    right_on=\"id_column\",\n",
        "    how=\"left\",\n",
        "    suffixes=(\"_src\", \"_ref\")\n",
        ")\n",
        "print(merged.head())\n",
        "```\n",
        "This ensures every row from the “source” table appears, even if there is no matching reference.\n",
        "\n",
        "\n",
        "## When to Use Self-Joins\n",
        "\n",
        "**Hierarchical relationships:** To reconstruct trees, look up parent records, or traverse levels of a hierarchy.<br>\n",
        "**Sequential relationships:** To chain records (e.g., previous/next, sequels, chronological events).<br>\n",
        "**Graph data:** To explore connections, paths, or adjacency in network-like datasets.<br>\n",
        "**Data enrichment:** To annotate each row with properties of a related row within the same dataset.<br>\n",
        "\n",
        "\n",
        "## Best Practices\n",
        "\n",
        "- **Use explicit suffixes** to avoid ambiguity in column names.\n",
        "- **Carefully specify keys**: Misaligned or missing keys may yield more or fewer rows than expected, or introduce incorrect relationships.\n",
        "- **Inspect the result**: Check the merged shape, sample values, and use `.isna()` to detect unlinked cases.\n",
        "- **Limit columns**: Select only the necessary columns from each “side” for clarity and performance.\n"
      ]
    },
    {
      "cell_type": "code",
      "execution_count": 75,
      "id": "FA0iF3Q35j19",
      "metadata": {
        "id": "FA0iF3Q35j19"
      },
      "outputs": [
        {
          "data": {
            "application/vnd.microsoft.datawrangler.viewer.v0+json": {
              "columns": [
                {
                  "name": "index",
                  "rawType": "int64",
                  "type": "integer"
                },
                {
                  "name": "id",
                  "rawType": "Int64",
                  "type": "integer"
                },
                {
                  "name": "title",
                  "rawType": "object",
                  "type": "string"
                },
                {
                  "name": "sequel",
                  "rawType": "Int64",
                  "type": "integer"
                }
              ],
              "ref": "336c6647-14a1-488a-8382-2a8cd70fec43",
              "rows": [
                [
                  "0",
                  "19995",
                  "Avatar",
                  null
                ],
                [
                  "1",
                  "862",
                  "Toy Story",
                  "863"
                ],
                [
                  "2",
                  "863",
                  "Toy Story 2",
                  "10193"
                ],
                [
                  "3",
                  "597",
                  "Titanic",
                  null
                ],
                [
                  "4",
                  "24428",
                  "The Avengers",
                  null
                ]
              ],
              "shape": {
                "columns": 3,
                "rows": 5
              }
            },
            "text/html": [
              "<div>\n",
              "<style scoped>\n",
              "    .dataframe tbody tr th:only-of-type {\n",
              "        vertical-align: middle;\n",
              "    }\n",
              "\n",
              "    .dataframe tbody tr th {\n",
              "        vertical-align: top;\n",
              "    }\n",
              "\n",
              "    .dataframe thead th {\n",
              "        text-align: right;\n",
              "    }\n",
              "</style>\n",
              "<table border=\"1\" class=\"dataframe\">\n",
              "  <thead>\n",
              "    <tr style=\"text-align: right;\">\n",
              "      <th></th>\n",
              "      <th>id</th>\n",
              "      <th>title</th>\n",
              "      <th>sequel</th>\n",
              "    </tr>\n",
              "  </thead>\n",
              "  <tbody>\n",
              "    <tr>\n",
              "      <th>0</th>\n",
              "      <td>19995</td>\n",
              "      <td>Avatar</td>\n",
              "      <td>&lt;NA&gt;</td>\n",
              "    </tr>\n",
              "    <tr>\n",
              "      <th>1</th>\n",
              "      <td>862</td>\n",
              "      <td>Toy Story</td>\n",
              "      <td>863</td>\n",
              "    </tr>\n",
              "    <tr>\n",
              "      <th>2</th>\n",
              "      <td>863</td>\n",
              "      <td>Toy Story 2</td>\n",
              "      <td>10193</td>\n",
              "    </tr>\n",
              "    <tr>\n",
              "      <th>3</th>\n",
              "      <td>597</td>\n",
              "      <td>Titanic</td>\n",
              "      <td>&lt;NA&gt;</td>\n",
              "    </tr>\n",
              "    <tr>\n",
              "      <th>4</th>\n",
              "      <td>24428</td>\n",
              "      <td>The Avengers</td>\n",
              "      <td>&lt;NA&gt;</td>\n",
              "    </tr>\n",
              "  </tbody>\n",
              "</table>\n",
              "</div>"
            ],
            "text/plain": [
              "      id         title  sequel\n",
              "0  19995        Avatar    <NA>\n",
              "1    862     Toy Story     863\n",
              "2    863   Toy Story 2   10193\n",
              "3    597       Titanic    <NA>\n",
              "4  24428  The Avengers    <NA>"
            ]
          },
          "execution_count": 75,
          "metadata": {},
          "output_type": "execute_result"
        }
      ],
      "source": [
        "sequels = pd.read_pickle(\"data/sequels.p\")\n",
        "sequels.head()"
      ]
    },
    {
      "cell_type": "code",
      "execution_count": 76,
      "id": "07ea91d7",
      "metadata": {},
      "outputs": [
        {
          "data": {
            "application/vnd.microsoft.datawrangler.viewer.v0+json": {
              "columns": [
                {
                  "name": "index",
                  "rawType": "int64",
                  "type": "integer"
                },
                {
                  "name": "id_org",
                  "rawType": "Int64",
                  "type": "integer"
                },
                {
                  "name": "title_org",
                  "rawType": "object",
                  "type": "string"
                },
                {
                  "name": "sequel_org",
                  "rawType": "Int64",
                  "type": "integer"
                },
                {
                  "name": "id_seq",
                  "rawType": "Int64",
                  "type": "integer"
                },
                {
                  "name": "title_seq",
                  "rawType": "object",
                  "type": "string"
                },
                {
                  "name": "sequel_seq",
                  "rawType": "Int64",
                  "type": "integer"
                }
              ],
              "ref": "b53ba1c7-e3d1-45b5-ae95-921ab5c22919",
              "rows": [
                [
                  "0",
                  "862",
                  "Toy Story",
                  "863",
                  "863",
                  "Toy Story 2",
                  "10193"
                ],
                [
                  "1",
                  "863",
                  "Toy Story 2",
                  "10193",
                  "10193",
                  "Toy Story 3",
                  null
                ],
                [
                  "2",
                  "675",
                  "Harry Potter and the Order of the Phoenix",
                  "767",
                  "767",
                  "Harry Potter and the Half-Blood Prince",
                  null
                ],
                [
                  "3",
                  "121",
                  "The Lord of the Rings: The Two Towers",
                  "122",
                  "122",
                  "The Lord of the Rings: The Return of the King",
                  null
                ],
                [
                  "4",
                  "120",
                  "The Lord of the Rings: The Fellowship of the Ring",
                  "121",
                  "121",
                  "The Lord of the Rings: The Two Towers",
                  "122"
                ]
              ],
              "shape": {
                "columns": 6,
                "rows": 5
              }
            },
            "text/html": [
              "<div>\n",
              "<style scoped>\n",
              "    .dataframe tbody tr th:only-of-type {\n",
              "        vertical-align: middle;\n",
              "    }\n",
              "\n",
              "    .dataframe tbody tr th {\n",
              "        vertical-align: top;\n",
              "    }\n",
              "\n",
              "    .dataframe thead th {\n",
              "        text-align: right;\n",
              "    }\n",
              "</style>\n",
              "<table border=\"1\" class=\"dataframe\">\n",
              "  <thead>\n",
              "    <tr style=\"text-align: right;\">\n",
              "      <th></th>\n",
              "      <th>id_org</th>\n",
              "      <th>title_org</th>\n",
              "      <th>sequel_org</th>\n",
              "      <th>id_seq</th>\n",
              "      <th>title_seq</th>\n",
              "      <th>sequel_seq</th>\n",
              "    </tr>\n",
              "  </thead>\n",
              "  <tbody>\n",
              "    <tr>\n",
              "      <th>0</th>\n",
              "      <td>862</td>\n",
              "      <td>Toy Story</td>\n",
              "      <td>863</td>\n",
              "      <td>863</td>\n",
              "      <td>Toy Story 2</td>\n",
              "      <td>10193</td>\n",
              "    </tr>\n",
              "    <tr>\n",
              "      <th>1</th>\n",
              "      <td>863</td>\n",
              "      <td>Toy Story 2</td>\n",
              "      <td>10193</td>\n",
              "      <td>10193</td>\n",
              "      <td>Toy Story 3</td>\n",
              "      <td>&lt;NA&gt;</td>\n",
              "    </tr>\n",
              "    <tr>\n",
              "      <th>2</th>\n",
              "      <td>675</td>\n",
              "      <td>Harry Potter and the Order of the Phoenix</td>\n",
              "      <td>767</td>\n",
              "      <td>767</td>\n",
              "      <td>Harry Potter and the Half-Blood Prince</td>\n",
              "      <td>&lt;NA&gt;</td>\n",
              "    </tr>\n",
              "    <tr>\n",
              "      <th>3</th>\n",
              "      <td>121</td>\n",
              "      <td>The Lord of the Rings: The Two Towers</td>\n",
              "      <td>122</td>\n",
              "      <td>122</td>\n",
              "      <td>The Lord of the Rings: The Return of the King</td>\n",
              "      <td>&lt;NA&gt;</td>\n",
              "    </tr>\n",
              "    <tr>\n",
              "      <th>4</th>\n",
              "      <td>120</td>\n",
              "      <td>The Lord of the Rings: The Fellowship of the Ring</td>\n",
              "      <td>121</td>\n",
              "      <td>121</td>\n",
              "      <td>The Lord of the Rings: The Two Towers</td>\n",
              "      <td>122</td>\n",
              "    </tr>\n",
              "  </tbody>\n",
              "</table>\n",
              "</div>"
            ],
            "text/plain": [
              "   id_org                                          title_org  sequel_org  \\\n",
              "0     862                                          Toy Story         863   \n",
              "1     863                                        Toy Story 2       10193   \n",
              "2     675          Harry Potter and the Order of the Phoenix         767   \n",
              "3     121              The Lord of the Rings: The Two Towers         122   \n",
              "4     120  The Lord of the Rings: The Fellowship of the Ring         121   \n",
              "\n",
              "   id_seq                                      title_seq  sequel_seq  \n",
              "0     863                                    Toy Story 2       10193  \n",
              "1   10193                                    Toy Story 3        <NA>  \n",
              "2     767         Harry Potter and the Half-Blood Prince        <NA>  \n",
              "3     122  The Lord of the Rings: The Return of the King        <NA>  \n",
              "4     121          The Lord of the Rings: The Two Towers         122  "
            ]
          },
          "execution_count": 76,
          "metadata": {},
          "output_type": "execute_result"
        }
      ],
      "source": [
        "original_sequels = sequels.merge(sequels, left_on=\"sequel\", right_on=\"id\", suffixes=(\"_org\", \"_seq\"))\n",
        "\n",
        "original_sequels.head()"
      ]
    },
    {
      "cell_type": "code",
      "execution_count": 77,
      "id": "3e6ff9ef",
      "metadata": {},
      "outputs": [
        {
          "data": {
            "application/vnd.microsoft.datawrangler.viewer.v0+json": {
              "columns": [
                {
                  "name": "index",
                  "rawType": "int64",
                  "type": "integer"
                },
                {
                  "name": "title_org",
                  "rawType": "object",
                  "type": "string"
                },
                {
                  "name": "title_seq",
                  "rawType": "object",
                  "type": "string"
                }
              ],
              "ref": "220a46cf-9c06-442d-935a-d41ac1af2dd5",
              "rows": [
                [
                  "0",
                  "Toy Story",
                  "Toy Story 2"
                ],
                [
                  "1",
                  "Toy Story 2",
                  "Toy Story 3"
                ],
                [
                  "2",
                  "Harry Potter and the Order of the Phoenix",
                  "Harry Potter and the Half-Blood Prince"
                ],
                [
                  "3",
                  "The Lord of the Rings: The Two Towers",
                  "The Lord of the Rings: The Return of the King"
                ],
                [
                  "4",
                  "The Lord of the Rings: The Fellowship of the Ring",
                  "The Lord of the Rings: The Two Towers"
                ]
              ],
              "shape": {
                "columns": 2,
                "rows": 5
              }
            },
            "text/html": [
              "<div>\n",
              "<style scoped>\n",
              "    .dataframe tbody tr th:only-of-type {\n",
              "        vertical-align: middle;\n",
              "    }\n",
              "\n",
              "    .dataframe tbody tr th {\n",
              "        vertical-align: top;\n",
              "    }\n",
              "\n",
              "    .dataframe thead th {\n",
              "        text-align: right;\n",
              "    }\n",
              "</style>\n",
              "<table border=\"1\" class=\"dataframe\">\n",
              "  <thead>\n",
              "    <tr style=\"text-align: right;\">\n",
              "      <th></th>\n",
              "      <th>title_org</th>\n",
              "      <th>title_seq</th>\n",
              "    </tr>\n",
              "  </thead>\n",
              "  <tbody>\n",
              "    <tr>\n",
              "      <th>0</th>\n",
              "      <td>Toy Story</td>\n",
              "      <td>Toy Story 2</td>\n",
              "    </tr>\n",
              "    <tr>\n",
              "      <th>1</th>\n",
              "      <td>Toy Story 2</td>\n",
              "      <td>Toy Story 3</td>\n",
              "    </tr>\n",
              "    <tr>\n",
              "      <th>2</th>\n",
              "      <td>Harry Potter and the Order of the Phoenix</td>\n",
              "      <td>Harry Potter and the Half-Blood Prince</td>\n",
              "    </tr>\n",
              "    <tr>\n",
              "      <th>3</th>\n",
              "      <td>The Lord of the Rings: The Two Towers</td>\n",
              "      <td>The Lord of the Rings: The Return of the King</td>\n",
              "    </tr>\n",
              "    <tr>\n",
              "      <th>4</th>\n",
              "      <td>The Lord of the Rings: The Fellowship of the Ring</td>\n",
              "      <td>The Lord of the Rings: The Two Towers</td>\n",
              "    </tr>\n",
              "  </tbody>\n",
              "</table>\n",
              "</div>"
            ],
            "text/plain": [
              "                                           title_org  \\\n",
              "0                                          Toy Story   \n",
              "1                                        Toy Story 2   \n",
              "2          Harry Potter and the Order of the Phoenix   \n",
              "3              The Lord of the Rings: The Two Towers   \n",
              "4  The Lord of the Rings: The Fellowship of the Ring   \n",
              "\n",
              "                                       title_seq  \n",
              "0                                    Toy Story 2  \n",
              "1                                    Toy Story 3  \n",
              "2         Harry Potter and the Half-Blood Prince  \n",
              "3  The Lord of the Rings: The Return of the King  \n",
              "4          The Lord of the Rings: The Two Towers  "
            ]
          },
          "execution_count": 77,
          "metadata": {},
          "output_type": "execute_result"
        }
      ],
      "source": [
        "original_sequels[[\"title_org\", \"title_seq\"]].head()"
      ]
    },
    {
      "cell_type": "code",
      "execution_count": 78,
      "id": "811c7da7",
      "metadata": {},
      "outputs": [
        {
          "data": {
            "application/vnd.microsoft.datawrangler.viewer.v0+json": {
              "columns": [
                {
                  "name": "index",
                  "rawType": "int64",
                  "type": "integer"
                },
                {
                  "name": "id_org",
                  "rawType": "Int64",
                  "type": "integer"
                },
                {
                  "name": "title_org",
                  "rawType": "object",
                  "type": "string"
                },
                {
                  "name": "sequel_org",
                  "rawType": "Int64",
                  "type": "integer"
                },
                {
                  "name": "id_seq",
                  "rawType": "Int64",
                  "type": "integer"
                },
                {
                  "name": "title_seq",
                  "rawType": "object",
                  "type": "unknown"
                },
                {
                  "name": "sequel_seq",
                  "rawType": "Int64",
                  "type": "integer"
                }
              ],
              "ref": "973a9b6e-b031-4377-84d0-57e65eccdf43",
              "rows": [
                [
                  "0",
                  "19995",
                  "Avatar",
                  null,
                  null,
                  null,
                  null
                ],
                [
                  "1",
                  "862",
                  "Toy Story",
                  "863",
                  "863",
                  "Toy Story 2",
                  "10193"
                ],
                [
                  "2",
                  "863",
                  "Toy Story 2",
                  "10193",
                  "10193",
                  "Toy Story 3",
                  null
                ],
                [
                  "3",
                  "597",
                  "Titanic",
                  null,
                  null,
                  null,
                  null
                ],
                [
                  "4",
                  "24428",
                  "The Avengers",
                  null,
                  null,
                  null,
                  null
                ]
              ],
              "shape": {
                "columns": 6,
                "rows": 5
              }
            },
            "text/html": [
              "<div>\n",
              "<style scoped>\n",
              "    .dataframe tbody tr th:only-of-type {\n",
              "        vertical-align: middle;\n",
              "    }\n",
              "\n",
              "    .dataframe tbody tr th {\n",
              "        vertical-align: top;\n",
              "    }\n",
              "\n",
              "    .dataframe thead th {\n",
              "        text-align: right;\n",
              "    }\n",
              "</style>\n",
              "<table border=\"1\" class=\"dataframe\">\n",
              "  <thead>\n",
              "    <tr style=\"text-align: right;\">\n",
              "      <th></th>\n",
              "      <th>id_org</th>\n",
              "      <th>title_org</th>\n",
              "      <th>sequel_org</th>\n",
              "      <th>id_seq</th>\n",
              "      <th>title_seq</th>\n",
              "      <th>sequel_seq</th>\n",
              "    </tr>\n",
              "  </thead>\n",
              "  <tbody>\n",
              "    <tr>\n",
              "      <th>0</th>\n",
              "      <td>19995</td>\n",
              "      <td>Avatar</td>\n",
              "      <td>&lt;NA&gt;</td>\n",
              "      <td>&lt;NA&gt;</td>\n",
              "      <td>NaN</td>\n",
              "      <td>&lt;NA&gt;</td>\n",
              "    </tr>\n",
              "    <tr>\n",
              "      <th>1</th>\n",
              "      <td>862</td>\n",
              "      <td>Toy Story</td>\n",
              "      <td>863</td>\n",
              "      <td>863</td>\n",
              "      <td>Toy Story 2</td>\n",
              "      <td>10193</td>\n",
              "    </tr>\n",
              "    <tr>\n",
              "      <th>2</th>\n",
              "      <td>863</td>\n",
              "      <td>Toy Story 2</td>\n",
              "      <td>10193</td>\n",
              "      <td>10193</td>\n",
              "      <td>Toy Story 3</td>\n",
              "      <td>&lt;NA&gt;</td>\n",
              "    </tr>\n",
              "    <tr>\n",
              "      <th>3</th>\n",
              "      <td>597</td>\n",
              "      <td>Titanic</td>\n",
              "      <td>&lt;NA&gt;</td>\n",
              "      <td>&lt;NA&gt;</td>\n",
              "      <td>NaN</td>\n",
              "      <td>&lt;NA&gt;</td>\n",
              "    </tr>\n",
              "    <tr>\n",
              "      <th>4</th>\n",
              "      <td>24428</td>\n",
              "      <td>The Avengers</td>\n",
              "      <td>&lt;NA&gt;</td>\n",
              "      <td>&lt;NA&gt;</td>\n",
              "      <td>NaN</td>\n",
              "      <td>&lt;NA&gt;</td>\n",
              "    </tr>\n",
              "  </tbody>\n",
              "</table>\n",
              "</div>"
            ],
            "text/plain": [
              "   id_org     title_org  sequel_org  id_seq    title_seq  sequel_seq\n",
              "0   19995        Avatar        <NA>    <NA>          NaN        <NA>\n",
              "1     862     Toy Story         863     863  Toy Story 2       10193\n",
              "2     863   Toy Story 2       10193   10193  Toy Story 3        <NA>\n",
              "3     597       Titanic        <NA>    <NA>          NaN        <NA>\n",
              "4   24428  The Avengers        <NA>    <NA>          NaN        <NA>"
            ]
          },
          "execution_count": 78,
          "metadata": {},
          "output_type": "execute_result"
        }
      ],
      "source": [
        "original_sequels = sequels.merge(sequels, left_on=\"sequel\", right_on=\"id\", how=\"left\", suffixes=(\"_org\", \"_seq\"))\n",
        "\n",
        "original_sequels.head()"
      ]
    },
    {
      "cell_type": "markdown",
      "id": "0eecabc0",
      "metadata": {},
      "source": [
        "### Self join\n",
        "Merging a table to itself can be useful when you want to compare values in a column to other values in the same column. In this exercise, you will practice this by creating a table that for each movie will list the movie director and a member of the crew on one row. You have been given a table called `crews`, which has columns `id`, `job`, and `name`. First, merge the table to itself using the movie ID. This merge will give you a larger table where for each movie, every job is matched against each other. Then select only those rows with a director in the left table, and avoid having a row where the director's job is listed in both the left and right tables. This filtering will remove job combinations that aren't with the director."
      ]
    },
    {
      "cell_type": "code",
      "execution_count": 79,
      "id": "26c791ad",
      "metadata": {},
      "outputs": [
        {
          "data": {
            "application/vnd.microsoft.datawrangler.viewer.v0+json": {
              "columns": [
                {
                  "name": "index",
                  "rawType": "int64",
                  "type": "integer"
                },
                {
                  "name": "id",
                  "rawType": "int64",
                  "type": "integer"
                },
                {
                  "name": "department",
                  "rawType": "object",
                  "type": "string"
                },
                {
                  "name": "job",
                  "rawType": "object",
                  "type": "string"
                },
                {
                  "name": "name",
                  "rawType": "object",
                  "type": "string"
                }
              ],
              "ref": "058d9a22-3006-4e95-b6eb-57aae06a8ec5",
              "rows": [
                [
                  "0",
                  "19995",
                  "Editing",
                  "Editor",
                  "Stephen E. Rivkin"
                ],
                [
                  "2",
                  "19995",
                  "Sound",
                  "Sound Designer",
                  "Christopher Boyes"
                ],
                [
                  "4",
                  "19995",
                  "Production",
                  "Casting",
                  "Mali Finn"
                ],
                [
                  "6",
                  "19995",
                  "Directing",
                  "Director",
                  "James Cameron"
                ],
                [
                  "7",
                  "19995",
                  "Writing",
                  "Writer",
                  "James Cameron"
                ]
              ],
              "shape": {
                "columns": 4,
                "rows": 5
              }
            },
            "text/html": [
              "<div>\n",
              "<style scoped>\n",
              "    .dataframe tbody tr th:only-of-type {\n",
              "        vertical-align: middle;\n",
              "    }\n",
              "\n",
              "    .dataframe tbody tr th {\n",
              "        vertical-align: top;\n",
              "    }\n",
              "\n",
              "    .dataframe thead th {\n",
              "        text-align: right;\n",
              "    }\n",
              "</style>\n",
              "<table border=\"1\" class=\"dataframe\">\n",
              "  <thead>\n",
              "    <tr style=\"text-align: right;\">\n",
              "      <th></th>\n",
              "      <th>id</th>\n",
              "      <th>department</th>\n",
              "      <th>job</th>\n",
              "      <th>name</th>\n",
              "    </tr>\n",
              "  </thead>\n",
              "  <tbody>\n",
              "    <tr>\n",
              "      <th>0</th>\n",
              "      <td>19995</td>\n",
              "      <td>Editing</td>\n",
              "      <td>Editor</td>\n",
              "      <td>Stephen E. Rivkin</td>\n",
              "    </tr>\n",
              "    <tr>\n",
              "      <th>2</th>\n",
              "      <td>19995</td>\n",
              "      <td>Sound</td>\n",
              "      <td>Sound Designer</td>\n",
              "      <td>Christopher Boyes</td>\n",
              "    </tr>\n",
              "    <tr>\n",
              "      <th>4</th>\n",
              "      <td>19995</td>\n",
              "      <td>Production</td>\n",
              "      <td>Casting</td>\n",
              "      <td>Mali Finn</td>\n",
              "    </tr>\n",
              "    <tr>\n",
              "      <th>6</th>\n",
              "      <td>19995</td>\n",
              "      <td>Directing</td>\n",
              "      <td>Director</td>\n",
              "      <td>James Cameron</td>\n",
              "    </tr>\n",
              "    <tr>\n",
              "      <th>7</th>\n",
              "      <td>19995</td>\n",
              "      <td>Writing</td>\n",
              "      <td>Writer</td>\n",
              "      <td>James Cameron</td>\n",
              "    </tr>\n",
              "  </tbody>\n",
              "</table>\n",
              "</div>"
            ],
            "text/plain": [
              "      id  department             job               name\n",
              "0  19995     Editing          Editor  Stephen E. Rivkin\n",
              "2  19995       Sound  Sound Designer  Christopher Boyes\n",
              "4  19995  Production         Casting          Mali Finn\n",
              "6  19995   Directing        Director      James Cameron\n",
              "7  19995     Writing          Writer      James Cameron"
            ]
          },
          "execution_count": 79,
          "metadata": {},
          "output_type": "execute_result"
        }
      ],
      "source": [
        "crews = pd.read_pickle(\"data/crews.p\")\n",
        "crews.head()"
      ]
    },
    {
      "cell_type": "code",
      "execution_count": 80,
      "id": "c82ff7e9",
      "metadata": {},
      "outputs": [
        {
          "data": {
            "application/vnd.microsoft.datawrangler.viewer.v0+json": {
              "columns": [
                {
                  "name": "index",
                  "rawType": "int64",
                  "type": "integer"
                },
                {
                  "name": "id",
                  "rawType": "int64",
                  "type": "integer"
                },
                {
                  "name": "department_dir",
                  "rawType": "object",
                  "type": "string"
                },
                {
                  "name": "job_dir",
                  "rawType": "object",
                  "type": "string"
                },
                {
                  "name": "name_dir",
                  "rawType": "object",
                  "type": "string"
                },
                {
                  "name": "department_crew",
                  "rawType": "object",
                  "type": "string"
                },
                {
                  "name": "job_crew",
                  "rawType": "object",
                  "type": "string"
                },
                {
                  "name": "name_crew",
                  "rawType": "object",
                  "type": "string"
                }
              ],
              "ref": "e6b7135e-a5a5-4913-8e36-9b1b8bf33edb",
              "rows": [
                [
                  "0",
                  "19995",
                  "Editing",
                  "Editor",
                  "Stephen E. Rivkin",
                  "Editing",
                  "Editor",
                  "Stephen E. Rivkin"
                ],
                [
                  "1",
                  "19995",
                  "Editing",
                  "Editor",
                  "Stephen E. Rivkin",
                  "Sound",
                  "Sound Designer",
                  "Christopher Boyes"
                ],
                [
                  "2",
                  "19995",
                  "Editing",
                  "Editor",
                  "Stephen E. Rivkin",
                  "Production",
                  "Casting",
                  "Mali Finn"
                ],
                [
                  "3",
                  "19995",
                  "Editing",
                  "Editor",
                  "Stephen E. Rivkin",
                  "Directing",
                  "Director",
                  "James Cameron"
                ],
                [
                  "4",
                  "19995",
                  "Editing",
                  "Editor",
                  "Stephen E. Rivkin",
                  "Writing",
                  "Writer",
                  "James Cameron"
                ]
              ],
              "shape": {
                "columns": 7,
                "rows": 5
              }
            },
            "text/html": [
              "<div>\n",
              "<style scoped>\n",
              "    .dataframe tbody tr th:only-of-type {\n",
              "        vertical-align: middle;\n",
              "    }\n",
              "\n",
              "    .dataframe tbody tr th {\n",
              "        vertical-align: top;\n",
              "    }\n",
              "\n",
              "    .dataframe thead th {\n",
              "        text-align: right;\n",
              "    }\n",
              "</style>\n",
              "<table border=\"1\" class=\"dataframe\">\n",
              "  <thead>\n",
              "    <tr style=\"text-align: right;\">\n",
              "      <th></th>\n",
              "      <th>id</th>\n",
              "      <th>department_dir</th>\n",
              "      <th>job_dir</th>\n",
              "      <th>name_dir</th>\n",
              "      <th>department_crew</th>\n",
              "      <th>job_crew</th>\n",
              "      <th>name_crew</th>\n",
              "    </tr>\n",
              "  </thead>\n",
              "  <tbody>\n",
              "    <tr>\n",
              "      <th>0</th>\n",
              "      <td>19995</td>\n",
              "      <td>Editing</td>\n",
              "      <td>Editor</td>\n",
              "      <td>Stephen E. Rivkin</td>\n",
              "      <td>Editing</td>\n",
              "      <td>Editor</td>\n",
              "      <td>Stephen E. Rivkin</td>\n",
              "    </tr>\n",
              "    <tr>\n",
              "      <th>1</th>\n",
              "      <td>19995</td>\n",
              "      <td>Editing</td>\n",
              "      <td>Editor</td>\n",
              "      <td>Stephen E. Rivkin</td>\n",
              "      <td>Sound</td>\n",
              "      <td>Sound Designer</td>\n",
              "      <td>Christopher Boyes</td>\n",
              "    </tr>\n",
              "    <tr>\n",
              "      <th>2</th>\n",
              "      <td>19995</td>\n",
              "      <td>Editing</td>\n",
              "      <td>Editor</td>\n",
              "      <td>Stephen E. Rivkin</td>\n",
              "      <td>Production</td>\n",
              "      <td>Casting</td>\n",
              "      <td>Mali Finn</td>\n",
              "    </tr>\n",
              "    <tr>\n",
              "      <th>3</th>\n",
              "      <td>19995</td>\n",
              "      <td>Editing</td>\n",
              "      <td>Editor</td>\n",
              "      <td>Stephen E. Rivkin</td>\n",
              "      <td>Directing</td>\n",
              "      <td>Director</td>\n",
              "      <td>James Cameron</td>\n",
              "    </tr>\n",
              "    <tr>\n",
              "      <th>4</th>\n",
              "      <td>19995</td>\n",
              "      <td>Editing</td>\n",
              "      <td>Editor</td>\n",
              "      <td>Stephen E. Rivkin</td>\n",
              "      <td>Writing</td>\n",
              "      <td>Writer</td>\n",
              "      <td>James Cameron</td>\n",
              "    </tr>\n",
              "  </tbody>\n",
              "</table>\n",
              "</div>"
            ],
            "text/plain": [
              "      id department_dir job_dir           name_dir department_crew  \\\n",
              "0  19995        Editing  Editor  Stephen E. Rivkin         Editing   \n",
              "1  19995        Editing  Editor  Stephen E. Rivkin           Sound   \n",
              "2  19995        Editing  Editor  Stephen E. Rivkin      Production   \n",
              "3  19995        Editing  Editor  Stephen E. Rivkin       Directing   \n",
              "4  19995        Editing  Editor  Stephen E. Rivkin         Writing   \n",
              "\n",
              "         job_crew          name_crew  \n",
              "0          Editor  Stephen E. Rivkin  \n",
              "1  Sound Designer  Christopher Boyes  \n",
              "2         Casting          Mali Finn  \n",
              "3        Director      James Cameron  \n",
              "4          Writer      James Cameron  "
            ]
          },
          "execution_count": 80,
          "metadata": {},
          "output_type": "execute_result"
        }
      ],
      "source": [
        "#To a variable called crews_self_merged, merge the crews table to itself on the id column using an inner join, setting the suffixes to '_dir' and '_crew' for the left and right tables respectively.\n",
        "crews_self_merged = crews.merge(crews, on=\"id\", how=\"inner\", suffixes=(\"_dir\", \"_crew\"))\n",
        "crews_self_merged.head()"
      ]
    },
    {
      "cell_type": "code",
      "execution_count": 81,
      "id": "04b0ce02",
      "metadata": {},
      "outputs": [
        {
          "data": {
            "application/vnd.microsoft.datawrangler.viewer.v0+json": {
              "columns": [
                {
                  "name": "index",
                  "rawType": "int64",
                  "type": "integer"
                },
                {
                  "name": "id",
                  "rawType": "int64",
                  "type": "integer"
                },
                {
                  "name": "department_dir",
                  "rawType": "object",
                  "type": "string"
                },
                {
                  "name": "job_dir",
                  "rawType": "object",
                  "type": "string"
                },
                {
                  "name": "name_dir",
                  "rawType": "object",
                  "type": "string"
                },
                {
                  "name": "department_crew",
                  "rawType": "object",
                  "type": "string"
                },
                {
                  "name": "job_crew",
                  "rawType": "object",
                  "type": "string"
                },
                {
                  "name": "name_crew",
                  "rawType": "object",
                  "type": "string"
                }
              ],
              "ref": "53f5cfde-64e9-4ae7-bb51-23cdde9ba169",
              "rows": [
                [
                  "156",
                  "19995",
                  "Directing",
                  "Director",
                  "James Cameron",
                  "Editing",
                  "Editor",
                  "Stephen E. Rivkin"
                ],
                [
                  "157",
                  "19995",
                  "Directing",
                  "Director",
                  "James Cameron",
                  "Sound",
                  "Sound Designer",
                  "Christopher Boyes"
                ],
                [
                  "158",
                  "19995",
                  "Directing",
                  "Director",
                  "James Cameron",
                  "Production",
                  "Casting",
                  "Mali Finn"
                ],
                [
                  "160",
                  "19995",
                  "Directing",
                  "Director",
                  "James Cameron",
                  "Writing",
                  "Writer",
                  "James Cameron"
                ],
                [
                  "161",
                  "19995",
                  "Directing",
                  "Director",
                  "James Cameron",
                  "Art",
                  "Set Designer",
                  "Richard F. Mays"
                ]
              ],
              "shape": {
                "columns": 7,
                "rows": 5
              }
            },
            "text/html": [
              "<div>\n",
              "<style scoped>\n",
              "    .dataframe tbody tr th:only-of-type {\n",
              "        vertical-align: middle;\n",
              "    }\n",
              "\n",
              "    .dataframe tbody tr th {\n",
              "        vertical-align: top;\n",
              "    }\n",
              "\n",
              "    .dataframe thead th {\n",
              "        text-align: right;\n",
              "    }\n",
              "</style>\n",
              "<table border=\"1\" class=\"dataframe\">\n",
              "  <thead>\n",
              "    <tr style=\"text-align: right;\">\n",
              "      <th></th>\n",
              "      <th>id</th>\n",
              "      <th>department_dir</th>\n",
              "      <th>job_dir</th>\n",
              "      <th>name_dir</th>\n",
              "      <th>department_crew</th>\n",
              "      <th>job_crew</th>\n",
              "      <th>name_crew</th>\n",
              "    </tr>\n",
              "  </thead>\n",
              "  <tbody>\n",
              "    <tr>\n",
              "      <th>156</th>\n",
              "      <td>19995</td>\n",
              "      <td>Directing</td>\n",
              "      <td>Director</td>\n",
              "      <td>James Cameron</td>\n",
              "      <td>Editing</td>\n",
              "      <td>Editor</td>\n",
              "      <td>Stephen E. Rivkin</td>\n",
              "    </tr>\n",
              "    <tr>\n",
              "      <th>157</th>\n",
              "      <td>19995</td>\n",
              "      <td>Directing</td>\n",
              "      <td>Director</td>\n",
              "      <td>James Cameron</td>\n",
              "      <td>Sound</td>\n",
              "      <td>Sound Designer</td>\n",
              "      <td>Christopher Boyes</td>\n",
              "    </tr>\n",
              "    <tr>\n",
              "      <th>158</th>\n",
              "      <td>19995</td>\n",
              "      <td>Directing</td>\n",
              "      <td>Director</td>\n",
              "      <td>James Cameron</td>\n",
              "      <td>Production</td>\n",
              "      <td>Casting</td>\n",
              "      <td>Mali Finn</td>\n",
              "    </tr>\n",
              "    <tr>\n",
              "      <th>160</th>\n",
              "      <td>19995</td>\n",
              "      <td>Directing</td>\n",
              "      <td>Director</td>\n",
              "      <td>James Cameron</td>\n",
              "      <td>Writing</td>\n",
              "      <td>Writer</td>\n",
              "      <td>James Cameron</td>\n",
              "    </tr>\n",
              "    <tr>\n",
              "      <th>161</th>\n",
              "      <td>19995</td>\n",
              "      <td>Directing</td>\n",
              "      <td>Director</td>\n",
              "      <td>James Cameron</td>\n",
              "      <td>Art</td>\n",
              "      <td>Set Designer</td>\n",
              "      <td>Richard F. Mays</td>\n",
              "    </tr>\n",
              "  </tbody>\n",
              "</table>\n",
              "</div>"
            ],
            "text/plain": [
              "        id department_dir   job_dir       name_dir department_crew  \\\n",
              "156  19995      Directing  Director  James Cameron         Editing   \n",
              "157  19995      Directing  Director  James Cameron           Sound   \n",
              "158  19995      Directing  Director  James Cameron      Production   \n",
              "160  19995      Directing  Director  James Cameron         Writing   \n",
              "161  19995      Directing  Director  James Cameron             Art   \n",
              "\n",
              "           job_crew          name_crew  \n",
              "156          Editor  Stephen E. Rivkin  \n",
              "157  Sound Designer  Christopher Boyes  \n",
              "158         Casting          Mali Finn  \n",
              "160          Writer      James Cameron  \n",
              "161    Set Designer    Richard F. Mays  "
            ]
          },
          "execution_count": 81,
          "metadata": {},
          "output_type": "execute_result"
        }
      ],
      "source": [
        "# Create a Boolean index, named boolean_filter, that selects rows from the left table with the job of 'Director' and avoids rows with the job of 'Director' in the right table.\n",
        "boolean_filter = ((crews_self_merged[\"job_dir\"] == \"Director\") & (crews_self_merged[\"job_crew\"] != \"Director\"))\n",
        "direct_crews = crews_self_merged[boolean_filter]\n",
        "\n",
        "# Print the first few rows of direct_crews\n",
        "direct_crews.head()"
      ]
    },
    {
      "cell_type": "markdown",
      "id": "eb4a2b4b",
      "metadata": {},
      "source": [
        "## Merging on Indexes\n",
        "\n",
        "In Pandas, the **index** (row labels) provides an additional axis for identifying and aligning data beyond explicit columns. Merging DataFrames on their indexes enables powerful data integration strategies—essential when dealing with time series, hierarchical (multi-level) datasets, or when keys are naturally stored as row labels rather than columns.\n",
        "\n",
        "### 1. Setting an Index\n",
        "\n",
        "Before you can merge on an index, ensure the relevant column(s) are set as the DataFrame’s index. You may do this during CSV import or after DataFrame creation.\n",
        "\n",
        "**Set index during CSV reading:**\n",
        "```python\n",
        "df = pd.read_csv(\"data.csv\", index_col=[\"unique_id\"])\n",
        "```\n",
        "\n",
        "**Set index on an existing DataFrame:**\n",
        "```python\n",
        "df = df.set_index(\"unique_id\")\n",
        "```\n",
        "- Use a single column or a list for a multi-level index.\n",
        "\n",
        "\n",
        "### 2. Merging DataFrames on Their Indexes\n",
        "\n",
        "When two DataFrames are indexed on the join key(s), merge using the `left_index=True` and/or `right_index=True` arguments:\n",
        "\n",
        "```python\n",
        "merged = pd.merge(\n",
        "    left=left_df,\n",
        "    right=right_df,\n",
        "    left_index=True,\n",
        "    right_index=True,\n",
        "    how=\"inner\"  # Can be \"left\", \"right\", or \"outer\"\n",
        ")\n",
        "```\n",
        "- Both DataFrames’ indexes must represent the same entity or be compatible.\n",
        "- If only one side uses the index and the other a column, use `left_index=True, right_on=\"column\"` (or vice versa).\n",
        "\n",
        "\n",
        "### 3. Merging Indexed DataFrames with Column Keys\n",
        "\n",
        "You can merge one DataFrame on its index with another on a column, or both on columns, for flexible alignment:\n",
        "\n",
        "**Index to column:**\n",
        "```python\n",
        "merged = pd.merge(\n",
        "    left=left_df,\n",
        "    right=right_df,\n",
        "    left_index=True,\n",
        "    right_on=\"key_column\",\n",
        "    how=\"left\"\n",
        ")\n",
        "```\n",
        "\n",
        "**Column to index:**\n",
        "```python\n",
        "merged = pd.merge(\n",
        "    left=left_df,\n",
        "    right=right_df,\n",
        "    left_on=\"key_column\",\n",
        "    right_index=True,\n",
        "    how=\"right\"\n",
        ")\n",
        "```\n",
        "\n",
        "### 4. Merging MultiIndex (Hierarchical Index) DataFrames\n",
        "\n",
        "Pandas supports merges where one or both DataFrames have a MultiIndex (multi-level index):\n",
        "\n",
        "**Merging on all index levels:**\n",
        "```python\n",
        "merged = pd.merge(\n",
        "    left=multiindex_df1,\n",
        "    right=multiindex_df2,\n",
        "    left_index=True,\n",
        "    right_index=True\n",
        ")\n",
        "```\n",
        "Both DataFrames must have the same number of index levels and matching index names.\n",
        "\n",
        "**Merging on specific index levels and columns:**\n",
        "- For highly custom merges, first use `.reset_index()` to convert some index levels to columns, then merge as usual, and optionally re-set the index.\n",
        "\n",
        "\n",
        "### 5. Best Practices and Practical Considerations\n",
        "\n",
        "- **Index uniqueness:** Merging on non-unique indexes may produce a Cartesian product, inflating row counts—always verify uniqueness or anticipate row expansion.\n",
        "- **Column and index naming:** Explicitly name your indexes (using `.rename_axis()`) to avoid ambiguity, especially in MultiIndex merges.\n",
        "- **Sort indexes:** Sorting (`.sort_index()`) before merging may improve performance and predictability.\n",
        "- **Alignment:** Ensure that index data types are consistent across DataFrames to avoid subtle merge errors.\n",
        "\n",
        "\n",
        "### 6. Inspecting the Result\n",
        "\n",
        "Always validate merged outputs:\n",
        "- `.head()` and `.shape` to confirm structure and dimensions.\n",
        "- `.info()` to review column/index types and missing values.\n",
        "- Use `suffixes` in `pd.merge()` to disambiguate overlapping column names.\n"
      ]
    },
    {
      "cell_type": "code",
      "execution_count": 82,
      "id": "847b068a",
      "metadata": {},
      "outputs": [
        {
          "data": {
            "application/vnd.microsoft.datawrangler.viewer.v0+json": {
              "columns": [
                {
                  "name": "id",
                  "rawType": "int64",
                  "type": "integer"
                },
                {
                  "name": "title",
                  "rawType": "object",
                  "type": "string"
                },
                {
                  "name": "popularity",
                  "rawType": "float64",
                  "type": "float"
                },
                {
                  "name": "release_date",
                  "rawType": "object",
                  "type": "string"
                }
              ],
              "ref": "4a88e26a-d070-4a25-ba5a-0b0a970be291",
              "rows": [
                [
                  "257",
                  "Oliver Twist",
                  "20.415572",
                  "2005-09-23"
                ],
                [
                  "14290",
                  "Better Luck Tomorrow",
                  "3.877036",
                  "2002-01-12"
                ],
                [
                  "38365",
                  "Grown Ups",
                  "38.864027",
                  "2010-06-24"
                ],
                [
                  "9672",
                  "Infamous",
                  "3.6808959999999997",
                  "2006-11-16"
                ],
                [
                  "12819",
                  "Alpha and Omega",
                  "12.300789",
                  "2010-09-17"
                ]
              ],
              "shape": {
                "columns": 3,
                "rows": 5
              }
            },
            "text/html": [
              "<div>\n",
              "<style scoped>\n",
              "    .dataframe tbody tr th:only-of-type {\n",
              "        vertical-align: middle;\n",
              "    }\n",
              "\n",
              "    .dataframe tbody tr th {\n",
              "        vertical-align: top;\n",
              "    }\n",
              "\n",
              "    .dataframe thead th {\n",
              "        text-align: right;\n",
              "    }\n",
              "</style>\n",
              "<table border=\"1\" class=\"dataframe\">\n",
              "  <thead>\n",
              "    <tr style=\"text-align: right;\">\n",
              "      <th></th>\n",
              "      <th>title</th>\n",
              "      <th>popularity</th>\n",
              "      <th>release_date</th>\n",
              "    </tr>\n",
              "    <tr>\n",
              "      <th>id</th>\n",
              "      <th></th>\n",
              "      <th></th>\n",
              "      <th></th>\n",
              "    </tr>\n",
              "  </thead>\n",
              "  <tbody>\n",
              "    <tr>\n",
              "      <th>257</th>\n",
              "      <td>Oliver Twist</td>\n",
              "      <td>20.415572</td>\n",
              "      <td>2005-09-23</td>\n",
              "    </tr>\n",
              "    <tr>\n",
              "      <th>14290</th>\n",
              "      <td>Better Luck Tomorrow</td>\n",
              "      <td>3.877036</td>\n",
              "      <td>2002-01-12</td>\n",
              "    </tr>\n",
              "    <tr>\n",
              "      <th>38365</th>\n",
              "      <td>Grown Ups</td>\n",
              "      <td>38.864027</td>\n",
              "      <td>2010-06-24</td>\n",
              "    </tr>\n",
              "    <tr>\n",
              "      <th>9672</th>\n",
              "      <td>Infamous</td>\n",
              "      <td>3.680896</td>\n",
              "      <td>2006-11-16</td>\n",
              "    </tr>\n",
              "    <tr>\n",
              "      <th>12819</th>\n",
              "      <td>Alpha and Omega</td>\n",
              "      <td>12.300789</td>\n",
              "      <td>2010-09-17</td>\n",
              "    </tr>\n",
              "  </tbody>\n",
              "</table>\n",
              "</div>"
            ],
            "text/plain": [
              "                      title  popularity release_date\n",
              "id                                                  \n",
              "257            Oliver Twist   20.415572   2005-09-23\n",
              "14290  Better Luck Tomorrow    3.877036   2002-01-12\n",
              "38365             Grown Ups   38.864027   2010-06-24\n",
              "9672               Infamous    3.680896   2006-11-16\n",
              "12819       Alpha and Omega   12.300789   2010-09-17"
            ]
          },
          "execution_count": 82,
          "metadata": {},
          "output_type": "execute_result"
        }
      ],
      "source": [
        "# The index_col parameter is only avaible for pd.read_csv()\n",
        "movies = pd.read_pickle(\"data/movies.p\").set_index(\"id\")\n",
        "movies.head()"
      ]
    },
    {
      "cell_type": "code",
      "execution_count": 83,
      "id": "f8a895a7",
      "metadata": {},
      "outputs": [
        {
          "data": {
            "application/vnd.microsoft.datawrangler.viewer.v0+json": {
              "columns": [
                {
                  "name": "index",
                  "rawType": "int64",
                  "type": "integer"
                },
                {
                  "name": "id",
                  "rawType": "int64",
                  "type": "integer"
                },
                {
                  "name": "title",
                  "rawType": "object",
                  "type": "string"
                },
                {
                  "name": "popularity",
                  "rawType": "float64",
                  "type": "float"
                },
                {
                  "name": "release_date",
                  "rawType": "object",
                  "type": "string"
                },
                {
                  "name": "tagline",
                  "rawType": "object",
                  "type": "unknown"
                }
              ],
              "ref": "e98dfb19-a728-4612-94be-6ebcd858dcf7",
              "rows": [
                [
                  "0",
                  "257",
                  "Oliver Twist",
                  "20.415572",
                  "2005-09-23",
                  null
                ],
                [
                  "1",
                  "14290",
                  "Better Luck Tomorrow",
                  "3.877036",
                  "2002-01-12",
                  "Never underestimate an overachiever."
                ],
                [
                  "2",
                  "38365",
                  "Grown Ups",
                  "38.864027",
                  "2010-06-24",
                  "Boys will be boys. . . some longer than others."
                ],
                [
                  "3",
                  "9672",
                  "Infamous",
                  "3.6808959999999997",
                  "2006-11-16",
                  "There's more to the story than you know"
                ],
                [
                  "4",
                  "12819",
                  "Alpha and Omega",
                  "12.300789",
                  "2010-09-17",
                  "A Pawsome 3D Adventure"
                ]
              ],
              "shape": {
                "columns": 5,
                "rows": 5
              }
            },
            "text/html": [
              "<div>\n",
              "<style scoped>\n",
              "    .dataframe tbody tr th:only-of-type {\n",
              "        vertical-align: middle;\n",
              "    }\n",
              "\n",
              "    .dataframe tbody tr th {\n",
              "        vertical-align: top;\n",
              "    }\n",
              "\n",
              "    .dataframe thead th {\n",
              "        text-align: right;\n",
              "    }\n",
              "</style>\n",
              "<table border=\"1\" class=\"dataframe\">\n",
              "  <thead>\n",
              "    <tr style=\"text-align: right;\">\n",
              "      <th></th>\n",
              "      <th>id</th>\n",
              "      <th>title</th>\n",
              "      <th>popularity</th>\n",
              "      <th>release_date</th>\n",
              "      <th>tagline</th>\n",
              "    </tr>\n",
              "  </thead>\n",
              "  <tbody>\n",
              "    <tr>\n",
              "      <th>0</th>\n",
              "      <td>257</td>\n",
              "      <td>Oliver Twist</td>\n",
              "      <td>20.415572</td>\n",
              "      <td>2005-09-23</td>\n",
              "      <td>NaN</td>\n",
              "    </tr>\n",
              "    <tr>\n",
              "      <th>1</th>\n",
              "      <td>14290</td>\n",
              "      <td>Better Luck Tomorrow</td>\n",
              "      <td>3.877036</td>\n",
              "      <td>2002-01-12</td>\n",
              "      <td>Never underestimate an overachiever.</td>\n",
              "    </tr>\n",
              "    <tr>\n",
              "      <th>2</th>\n",
              "      <td>38365</td>\n",
              "      <td>Grown Ups</td>\n",
              "      <td>38.864027</td>\n",
              "      <td>2010-06-24</td>\n",
              "      <td>Boys will be boys. . . some longer than others.</td>\n",
              "    </tr>\n",
              "    <tr>\n",
              "      <th>3</th>\n",
              "      <td>9672</td>\n",
              "      <td>Infamous</td>\n",
              "      <td>3.680896</td>\n",
              "      <td>2006-11-16</td>\n",
              "      <td>There's more to the story than you know</td>\n",
              "    </tr>\n",
              "    <tr>\n",
              "      <th>4</th>\n",
              "      <td>12819</td>\n",
              "      <td>Alpha and Omega</td>\n",
              "      <td>12.300789</td>\n",
              "      <td>2010-09-17</td>\n",
              "      <td>A Pawsome 3D Adventure</td>\n",
              "    </tr>\n",
              "  </tbody>\n",
              "</table>\n",
              "</div>"
            ],
            "text/plain": [
              "      id                 title  popularity release_date  \\\n",
              "0    257          Oliver Twist   20.415572   2005-09-23   \n",
              "1  14290  Better Luck Tomorrow    3.877036   2002-01-12   \n",
              "2  38365             Grown Ups   38.864027   2010-06-24   \n",
              "3   9672              Infamous    3.680896   2006-11-16   \n",
              "4  12819       Alpha and Omega   12.300789   2010-09-17   \n",
              "\n",
              "                                           tagline  \n",
              "0                                              NaN  \n",
              "1             Never underestimate an overachiever.  \n",
              "2  Boys will be boys. . . some longer than others.  \n",
              "3          There's more to the story than you know  \n",
              "4                           A Pawsome 3D Adventure  "
            ]
          },
          "execution_count": 83,
          "metadata": {},
          "output_type": "execute_result"
        }
      ],
      "source": [
        "movies_taglines = movies.merge(taglines, on=\"id\", how=\"left\")\n",
        "movies_taglines.head()"
      ]
    },
    {
      "cell_type": "code",
      "execution_count": 84,
      "id": "124b4873",
      "metadata": {},
      "outputs": [
        {
          "name": "stdout",
          "output_type": "stream",
          "text": [
            "    movie_id  cast_id character  gender       id               name\n",
            "7          5       22   Jezebel       1     3122        Sammi Davis\n",
            "8          5       23     Diana       1     3123  Amanda de Cadenet\n",
            "9          5       24    Athena       1     3124     Valeria Golino\n",
            "3          5       25   Elspeth       1     3125            Madonna\n",
            "12         5       26       Eva       1     3126          Ione Skye\n",
            "..       ...      ...       ...     ...      ...                ...\n",
            "0     433715        3     Amber       0  1500111      Nicole Smolen\n",
            "1     433715        4        BB       0  1734573        Kim Baldwin\n",
            "2     433715        5     Sugar       0  1734574    Ariana Stephens\n",
            "3     433715        6      Drew       0  1734575        Bryson Funk\n",
            "0     459488        0  Narrator       0  1354401    Tony Oppedisano\n",
            "\n",
            "[106257 rows x 6 columns]\n"
          ]
        }
      ],
      "source": [
        "casts = pd.read_pickle(\"data/casts.p\")\n",
        "print(casts)"
      ]
    },
    {
      "cell_type": "code",
      "execution_count": 85,
      "id": "ce5fb7c9",
      "metadata": {},
      "outputs": [
        {
          "name": "stdout",
          "output_type": "stream",
          "text": [
            "                               name\n",
            "movie_id cast_id                   \n",
            "184      3        Samuel L. Jackson\n",
            "319      13       Samuel L. Jackson\n",
            "326      2        Samuel L. Jackson\n",
            "329      138      Samuel L. Jackson\n",
            "393      21       Samuel L. Jackson\n",
            "...                             ...\n",
            "99861    14       Samuel L. Jackson\n",
            "100402   2        Samuel L. Jackson\n",
            "133931   10       Samuel L. Jackson\n",
            "258489   4        Samuel L. Jackson\n",
            "273248   22       Samuel L. Jackson\n",
            "\n",
            "[67 rows x 1 columns]\n"
          ]
        }
      ],
      "source": [
        "# Creating the \"samuel\" dataset available on datacamp envrionment \n",
        "samuel = (casts[casts[\"name\"] == \"Samuel L. Jackson\"]\n",
        "          .drop([\"character\", \"gender\", \"id\"], axis=1)\n",
        "          .set_index([\"movie_id\", \"cast_id\"]))\n",
        "print(samuel)"
      ]
    },
    {
      "cell_type": "code",
      "execution_count": 86,
      "id": "d27db16d",
      "metadata": {},
      "outputs": [
        {
          "data": {
            "application/vnd.microsoft.datawrangler.viewer.v0+json": {
              "columns": [
                {
                  "name": "index",
                  "rawType": "int64",
                  "type": "integer"
                },
                {
                  "name": "movie_id",
                  "rawType": "int64",
                  "type": "integer"
                },
                {
                  "name": "cast_id",
                  "rawType": "int64",
                  "type": "integer"
                },
                {
                  "name": "name_x",
                  "rawType": "object",
                  "type": "string"
                },
                {
                  "name": "character",
                  "rawType": "object",
                  "type": "string"
                },
                {
                  "name": "id",
                  "rawType": "int64",
                  "type": "integer"
                },
                {
                  "name": "name_y",
                  "rawType": "object",
                  "type": "string"
                }
              ],
              "ref": "9bdb8dd1-7212-47e6-b1f0-f864447b6741",
              "rows": [
                [
                  "0",
                  "184",
                  "3",
                  "Samuel L. Jackson",
                  "Ordell Robbie",
                  "2231",
                  "Samuel L. Jackson"
                ],
                [
                  "1",
                  "319",
                  "13",
                  "Samuel L. Jackson",
                  "Big Don",
                  "2231",
                  "Samuel L. Jackson"
                ],
                [
                  "2",
                  "326",
                  "2",
                  "Samuel L. Jackson",
                  "Neville Flynn",
                  "2231",
                  "Samuel L. Jackson"
                ],
                [
                  "3",
                  "329",
                  "138",
                  "Samuel L. Jackson",
                  "Arnold",
                  "2231",
                  "Samuel L. Jackson"
                ],
                [
                  "4",
                  "393",
                  "21",
                  "Samuel L. Jackson",
                  "Rufus",
                  "2231",
                  "Samuel L. Jackson"
                ]
              ],
              "shape": {
                "columns": 6,
                "rows": 5
              }
            },
            "text/html": [
              "<div>\n",
              "<style scoped>\n",
              "    .dataframe tbody tr th:only-of-type {\n",
              "        vertical-align: middle;\n",
              "    }\n",
              "\n",
              "    .dataframe tbody tr th {\n",
              "        vertical-align: top;\n",
              "    }\n",
              "\n",
              "    .dataframe thead th {\n",
              "        text-align: right;\n",
              "    }\n",
              "</style>\n",
              "<table border=\"1\" class=\"dataframe\">\n",
              "  <thead>\n",
              "    <tr style=\"text-align: right;\">\n",
              "      <th></th>\n",
              "      <th>movie_id</th>\n",
              "      <th>cast_id</th>\n",
              "      <th>name_x</th>\n",
              "      <th>character</th>\n",
              "      <th>id</th>\n",
              "      <th>name_y</th>\n",
              "    </tr>\n",
              "  </thead>\n",
              "  <tbody>\n",
              "    <tr>\n",
              "      <th>0</th>\n",
              "      <td>184</td>\n",
              "      <td>3</td>\n",
              "      <td>Samuel L. Jackson</td>\n",
              "      <td>Ordell Robbie</td>\n",
              "      <td>2231</td>\n",
              "      <td>Samuel L. Jackson</td>\n",
              "    </tr>\n",
              "    <tr>\n",
              "      <th>1</th>\n",
              "      <td>319</td>\n",
              "      <td>13</td>\n",
              "      <td>Samuel L. Jackson</td>\n",
              "      <td>Big Don</td>\n",
              "      <td>2231</td>\n",
              "      <td>Samuel L. Jackson</td>\n",
              "    </tr>\n",
              "    <tr>\n",
              "      <th>2</th>\n",
              "      <td>326</td>\n",
              "      <td>2</td>\n",
              "      <td>Samuel L. Jackson</td>\n",
              "      <td>Neville Flynn</td>\n",
              "      <td>2231</td>\n",
              "      <td>Samuel L. Jackson</td>\n",
              "    </tr>\n",
              "    <tr>\n",
              "      <th>3</th>\n",
              "      <td>329</td>\n",
              "      <td>138</td>\n",
              "      <td>Samuel L. Jackson</td>\n",
              "      <td>Arnold</td>\n",
              "      <td>2231</td>\n",
              "      <td>Samuel L. Jackson</td>\n",
              "    </tr>\n",
              "    <tr>\n",
              "      <th>4</th>\n",
              "      <td>393</td>\n",
              "      <td>21</td>\n",
              "      <td>Samuel L. Jackson</td>\n",
              "      <td>Rufus</td>\n",
              "      <td>2231</td>\n",
              "      <td>Samuel L. Jackson</td>\n",
              "    </tr>\n",
              "  </tbody>\n",
              "</table>\n",
              "</div>"
            ],
            "text/plain": [
              "   movie_id  cast_id             name_x      character    id  \\\n",
              "0       184        3  Samuel L. Jackson  Ordell Robbie  2231   \n",
              "1       319       13  Samuel L. Jackson        Big Don  2231   \n",
              "2       326        2  Samuel L. Jackson  Neville Flynn  2231   \n",
              "3       329      138  Samuel L. Jackson         Arnold  2231   \n",
              "4       393       21  Samuel L. Jackson          Rufus  2231   \n",
              "\n",
              "              name_y  \n",
              "0  Samuel L. Jackson  \n",
              "1  Samuel L. Jackson  \n",
              "2  Samuel L. Jackson  \n",
              "3  Samuel L. Jackson  \n",
              "4  Samuel L. Jackson  "
            ]
          },
          "metadata": {},
          "output_type": "display_data"
        },
        {
          "name": "stdout",
          "output_type": "stream",
          "text": [
            "(67, 6)\n"
          ]
        }
      ],
      "source": [
        "samuel_casts = samuel.merge(casts, on=[\"movie_id\", \"cast_id\"]).drop(\"gender\", axis=1)\n",
        "display(samuel_casts.head())\n",
        "print(samuel_casts.shape)"
      ]
    },
    {
      "cell_type": "code",
      "execution_count": 87,
      "id": "396b992c",
      "metadata": {},
      "outputs": [
        {
          "name": "stdout",
          "output_type": "stream",
          "text": [
            "              title  popularity release_date  movie_id    genre\n",
            "id                                                             \n",
            "257    Oliver Twist   20.415572   2005-09-23       194   Comedy\n",
            "9672       Infamous    3.680896   2006-11-16     66125    Drama\n",
            "10956      Joe Dirt   15.976335   2001-04-10    181283    Crime\n",
            "2757    Adaptation.   26.441669   2002-12-06      7364  Mystery\n",
            "2610       Shopgirl    4.820166   2005-10-21      6282   Comedy\n"
          ]
        }
      ],
      "source": [
        "movies_genres = movies.merge(movies_to_genres, left_on=\"id\",\n",
        "                             right_on=\"movie_id\", right_index=True)\n",
        "print(movies_genres.head())"
      ]
    },
    {
      "cell_type": "markdown",
      "id": "52c5f129",
      "metadata": {},
      "source": [
        "### Index merge for movie ratings\n",
        "To practice merging on indexes, you will merge `movies` and a table called `ratings` that holds info about movie ratings. Ensure that your merge returns all rows from the movies table, and only matching rows from the ratings table."
      ]
    },
    {
      "cell_type": "code",
      "execution_count": 88,
      "id": "eea4df74",
      "metadata": {},
      "outputs": [
        {
          "data": {
            "application/vnd.microsoft.datawrangler.viewer.v0+json": {
              "columns": [
                {
                  "name": "index",
                  "rawType": "int64",
                  "type": "integer"
                },
                {
                  "name": "id",
                  "rawType": "int64",
                  "type": "integer"
                },
                {
                  "name": "vote_average",
                  "rawType": "float64",
                  "type": "float"
                },
                {
                  "name": "vote_count",
                  "rawType": "float64",
                  "type": "float"
                }
              ],
              "ref": "a9f5793d-bc99-4742-a9e3-e10df253e4ff",
              "rows": [
                [
                  "0",
                  "19995",
                  "7.2",
                  "11800.0"
                ],
                [
                  "1",
                  "285",
                  "6.9",
                  "4500.0"
                ],
                [
                  "2",
                  "206647",
                  "6.3",
                  "4466.0"
                ],
                [
                  "3",
                  "49026",
                  "7.6",
                  "9106.0"
                ],
                [
                  "4",
                  "49529",
                  "6.1",
                  "2124.0"
                ]
              ],
              "shape": {
                "columns": 3,
                "rows": 5
              }
            },
            "text/html": [
              "<div>\n",
              "<style scoped>\n",
              "    .dataframe tbody tr th:only-of-type {\n",
              "        vertical-align: middle;\n",
              "    }\n",
              "\n",
              "    .dataframe tbody tr th {\n",
              "        vertical-align: top;\n",
              "    }\n",
              "\n",
              "    .dataframe thead th {\n",
              "        text-align: right;\n",
              "    }\n",
              "</style>\n",
              "<table border=\"1\" class=\"dataframe\">\n",
              "  <thead>\n",
              "    <tr style=\"text-align: right;\">\n",
              "      <th></th>\n",
              "      <th>id</th>\n",
              "      <th>vote_average</th>\n",
              "      <th>vote_count</th>\n",
              "    </tr>\n",
              "  </thead>\n",
              "  <tbody>\n",
              "    <tr>\n",
              "      <th>0</th>\n",
              "      <td>19995</td>\n",
              "      <td>7.2</td>\n",
              "      <td>11800.0</td>\n",
              "    </tr>\n",
              "    <tr>\n",
              "      <th>1</th>\n",
              "      <td>285</td>\n",
              "      <td>6.9</td>\n",
              "      <td>4500.0</td>\n",
              "    </tr>\n",
              "    <tr>\n",
              "      <th>2</th>\n",
              "      <td>206647</td>\n",
              "      <td>6.3</td>\n",
              "      <td>4466.0</td>\n",
              "    </tr>\n",
              "    <tr>\n",
              "      <th>3</th>\n",
              "      <td>49026</td>\n",
              "      <td>7.6</td>\n",
              "      <td>9106.0</td>\n",
              "    </tr>\n",
              "    <tr>\n",
              "      <th>4</th>\n",
              "      <td>49529</td>\n",
              "      <td>6.1</td>\n",
              "      <td>2124.0</td>\n",
              "    </tr>\n",
              "  </tbody>\n",
              "</table>\n",
              "</div>"
            ],
            "text/plain": [
              "       id  vote_average  vote_count\n",
              "0   19995           7.2     11800.0\n",
              "1     285           6.9      4500.0\n",
              "2  206647           6.3      4466.0\n",
              "3   49026           7.6      9106.0\n",
              "4   49529           6.1      2124.0"
            ]
          },
          "execution_count": 88,
          "metadata": {},
          "output_type": "execute_result"
        }
      ],
      "source": [
        "ratings = pd.read_pickle(\"data/ratings.p\")\n",
        "ratings.head()"
      ]
    },
    {
      "cell_type": "code",
      "execution_count": 89,
      "id": "24c30c26",
      "metadata": {},
      "outputs": [
        {
          "data": {
            "application/vnd.microsoft.datawrangler.viewer.v0+json": {
              "columns": [
                {
                  "name": "id",
                  "rawType": "int64",
                  "type": "integer"
                },
                {
                  "name": "title",
                  "rawType": "object",
                  "type": "string"
                },
                {
                  "name": "popularity",
                  "rawType": "float64",
                  "type": "float"
                },
                {
                  "name": "release_date",
                  "rawType": "object",
                  "type": "string"
                }
              ],
              "ref": "6369f841-0bf4-4ea1-9891-8a38ac369c2e",
              "rows": [
                [
                  "257",
                  "Oliver Twist",
                  "20.415572",
                  "2005-09-23"
                ],
                [
                  "14290",
                  "Better Luck Tomorrow",
                  "3.877036",
                  "2002-01-12"
                ],
                [
                  "38365",
                  "Grown Ups",
                  "38.864027",
                  "2010-06-24"
                ],
                [
                  "9672",
                  "Infamous",
                  "3.6808959999999997",
                  "2006-11-16"
                ],
                [
                  "12819",
                  "Alpha and Omega",
                  "12.300789",
                  "2010-09-17"
                ]
              ],
              "shape": {
                "columns": 3,
                "rows": 5
              }
            },
            "text/html": [
              "<div>\n",
              "<style scoped>\n",
              "    .dataframe tbody tr th:only-of-type {\n",
              "        vertical-align: middle;\n",
              "    }\n",
              "\n",
              "    .dataframe tbody tr th {\n",
              "        vertical-align: top;\n",
              "    }\n",
              "\n",
              "    .dataframe thead th {\n",
              "        text-align: right;\n",
              "    }\n",
              "</style>\n",
              "<table border=\"1\" class=\"dataframe\">\n",
              "  <thead>\n",
              "    <tr style=\"text-align: right;\">\n",
              "      <th></th>\n",
              "      <th>title</th>\n",
              "      <th>popularity</th>\n",
              "      <th>release_date</th>\n",
              "    </tr>\n",
              "    <tr>\n",
              "      <th>id</th>\n",
              "      <th></th>\n",
              "      <th></th>\n",
              "      <th></th>\n",
              "    </tr>\n",
              "  </thead>\n",
              "  <tbody>\n",
              "    <tr>\n",
              "      <th>257</th>\n",
              "      <td>Oliver Twist</td>\n",
              "      <td>20.415572</td>\n",
              "      <td>2005-09-23</td>\n",
              "    </tr>\n",
              "    <tr>\n",
              "      <th>14290</th>\n",
              "      <td>Better Luck Tomorrow</td>\n",
              "      <td>3.877036</td>\n",
              "      <td>2002-01-12</td>\n",
              "    </tr>\n",
              "    <tr>\n",
              "      <th>38365</th>\n",
              "      <td>Grown Ups</td>\n",
              "      <td>38.864027</td>\n",
              "      <td>2010-06-24</td>\n",
              "    </tr>\n",
              "    <tr>\n",
              "      <th>9672</th>\n",
              "      <td>Infamous</td>\n",
              "      <td>3.680896</td>\n",
              "      <td>2006-11-16</td>\n",
              "    </tr>\n",
              "    <tr>\n",
              "      <th>12819</th>\n",
              "      <td>Alpha and Omega</td>\n",
              "      <td>12.300789</td>\n",
              "      <td>2010-09-17</td>\n",
              "    </tr>\n",
              "  </tbody>\n",
              "</table>\n",
              "</div>"
            ],
            "text/plain": [
              "                      title  popularity release_date\n",
              "id                                                  \n",
              "257            Oliver Twist   20.415572   2005-09-23\n",
              "14290  Better Luck Tomorrow    3.877036   2002-01-12\n",
              "38365             Grown Ups   38.864027   2010-06-24\n",
              "9672               Infamous    3.680896   2006-11-16\n",
              "12819       Alpha and Omega   12.300789   2010-09-17"
            ]
          },
          "execution_count": 89,
          "metadata": {},
          "output_type": "execute_result"
        }
      ],
      "source": [
        "movies.head()"
      ]
    },
    {
      "cell_type": "code",
      "execution_count": 90,
      "id": "b66ce79d",
      "metadata": {},
      "outputs": [
        {
          "data": {
            "application/vnd.microsoft.datawrangler.viewer.v0+json": {
              "columns": [
                {
                  "name": "index",
                  "rawType": "int64",
                  "type": "integer"
                },
                {
                  "name": "id",
                  "rawType": "int64",
                  "type": "integer"
                },
                {
                  "name": "title",
                  "rawType": "object",
                  "type": "string"
                },
                {
                  "name": "popularity",
                  "rawType": "float64",
                  "type": "float"
                },
                {
                  "name": "release_date",
                  "rawType": "object",
                  "type": "string"
                },
                {
                  "name": "vote_average",
                  "rawType": "float64",
                  "type": "float"
                },
                {
                  "name": "vote_count",
                  "rawType": "float64",
                  "type": "float"
                }
              ],
              "ref": "b06b72eb-b6e2-45de-bd95-cc33d0a5d697",
              "rows": [
                [
                  "0",
                  "257",
                  "Oliver Twist",
                  "20.415572",
                  "2005-09-23",
                  "6.7",
                  "274.0"
                ],
                [
                  "1",
                  "14290",
                  "Better Luck Tomorrow",
                  "3.877036",
                  "2002-01-12",
                  "6.5",
                  "27.0"
                ],
                [
                  "2",
                  "38365",
                  "Grown Ups",
                  "38.864027",
                  "2010-06-24",
                  "6.0",
                  "1705.0"
                ],
                [
                  "3",
                  "9672",
                  "Infamous",
                  "3.6808959999999997",
                  "2006-11-16",
                  "6.4",
                  "60.0"
                ],
                [
                  "4",
                  "12819",
                  "Alpha and Omega",
                  "12.300789",
                  "2010-09-17",
                  "5.3",
                  "124.0"
                ]
              ],
              "shape": {
                "columns": 6,
                "rows": 5
              }
            },
            "text/html": [
              "<div>\n",
              "<style scoped>\n",
              "    .dataframe tbody tr th:only-of-type {\n",
              "        vertical-align: middle;\n",
              "    }\n",
              "\n",
              "    .dataframe tbody tr th {\n",
              "        vertical-align: top;\n",
              "    }\n",
              "\n",
              "    .dataframe thead th {\n",
              "        text-align: right;\n",
              "    }\n",
              "</style>\n",
              "<table border=\"1\" class=\"dataframe\">\n",
              "  <thead>\n",
              "    <tr style=\"text-align: right;\">\n",
              "      <th></th>\n",
              "      <th>id</th>\n",
              "      <th>title</th>\n",
              "      <th>popularity</th>\n",
              "      <th>release_date</th>\n",
              "      <th>vote_average</th>\n",
              "      <th>vote_count</th>\n",
              "    </tr>\n",
              "  </thead>\n",
              "  <tbody>\n",
              "    <tr>\n",
              "      <th>0</th>\n",
              "      <td>257</td>\n",
              "      <td>Oliver Twist</td>\n",
              "      <td>20.415572</td>\n",
              "      <td>2005-09-23</td>\n",
              "      <td>6.7</td>\n",
              "      <td>274.0</td>\n",
              "    </tr>\n",
              "    <tr>\n",
              "      <th>1</th>\n",
              "      <td>14290</td>\n",
              "      <td>Better Luck Tomorrow</td>\n",
              "      <td>3.877036</td>\n",
              "      <td>2002-01-12</td>\n",
              "      <td>6.5</td>\n",
              "      <td>27.0</td>\n",
              "    </tr>\n",
              "    <tr>\n",
              "      <th>2</th>\n",
              "      <td>38365</td>\n",
              "      <td>Grown Ups</td>\n",
              "      <td>38.864027</td>\n",
              "      <td>2010-06-24</td>\n",
              "      <td>6.0</td>\n",
              "      <td>1705.0</td>\n",
              "    </tr>\n",
              "    <tr>\n",
              "      <th>3</th>\n",
              "      <td>9672</td>\n",
              "      <td>Infamous</td>\n",
              "      <td>3.680896</td>\n",
              "      <td>2006-11-16</td>\n",
              "      <td>6.4</td>\n",
              "      <td>60.0</td>\n",
              "    </tr>\n",
              "    <tr>\n",
              "      <th>4</th>\n",
              "      <td>12819</td>\n",
              "      <td>Alpha and Omega</td>\n",
              "      <td>12.300789</td>\n",
              "      <td>2010-09-17</td>\n",
              "      <td>5.3</td>\n",
              "      <td>124.0</td>\n",
              "    </tr>\n",
              "  </tbody>\n",
              "</table>\n",
              "</div>"
            ],
            "text/plain": [
              "      id                 title  popularity release_date  vote_average  \\\n",
              "0    257          Oliver Twist   20.415572   2005-09-23           6.7   \n",
              "1  14290  Better Luck Tomorrow    3.877036   2002-01-12           6.5   \n",
              "2  38365             Grown Ups   38.864027   2010-06-24           6.0   \n",
              "3   9672              Infamous    3.680896   2006-11-16           6.4   \n",
              "4  12819       Alpha and Omega   12.300789   2010-09-17           5.3   \n",
              "\n",
              "   vote_count  \n",
              "0       274.0  \n",
              "1        27.0  \n",
              "2      1705.0  \n",
              "3        60.0  \n",
              "4       124.0  "
            ]
          },
          "execution_count": 90,
          "metadata": {},
          "output_type": "execute_result"
        }
      ],
      "source": [
        "# Merge the movies and ratings tables on the id column, keeping all rows from the movies table, and save the result as movies_ratings.\n",
        "movie_ratings = movies.merge(ratings, on=\"id\")\n",
        "movie_ratings.head()"
      ]
    },
    {
      "cell_type": "markdown",
      "id": "3f2fdc89",
      "metadata": {},
      "source": [
        "### Do sequels earn more?\n",
        "It is time to put together many of the aspects that you have learned in this chapter. In this exercise, you'll find out which movie sequels earned the most compared to the original movie. To answer this question, you will merge a modified version of the `sequels` and `financials` tables where their index is the movie ID.<br> \n",
        "\n",
        "You will need to choose a merge type that will return all of the rows from the sequels table and not all the rows of financials table need to be included in the result. <br>\n",
        "\n",
        "From there, you will join the resulting table to itself so that you can compare the revenue values of the original movie to the sequel. <br>\n",
        "\n",
        "Next, you will calculate the difference between the two revenues and sort the resulting dataset."
      ]
    },
    {
      "cell_type": "code",
      "execution_count": 91,
      "id": "51221618",
      "metadata": {},
      "outputs": [
        {
          "data": {
            "application/vnd.microsoft.datawrangler.viewer.v0+json": {
              "columns": [
                {
                  "name": "id",
                  "rawType": "int64",
                  "type": "integer"
                },
                {
                  "name": "budget",
                  "rawType": "int64",
                  "type": "integer"
                },
                {
                  "name": "revenue",
                  "rawType": "float64",
                  "type": "float"
                }
              ],
              "ref": "617741ad-4360-40a9-9f53-d7c2a0f78353",
              "rows": [
                [
                  "19995",
                  "237000000",
                  "2787965087.0"
                ],
                [
                  "285",
                  "300000000",
                  "961000000.0"
                ],
                [
                  "206647",
                  "245000000",
                  "880674609.0"
                ],
                [
                  "49026",
                  "250000000",
                  "1084939099.0"
                ],
                [
                  "49529",
                  "260000000",
                  "284139100.0"
                ],
                [
                  "559",
                  "258000000",
                  "890871626.0"
                ],
                [
                  "38757",
                  "260000000",
                  "591794936.0"
                ],
                [
                  "99861",
                  "280000000",
                  "1405403694.0"
                ],
                [
                  "767",
                  "250000000",
                  "933959197.0"
                ],
                [
                  "209112",
                  "250000000",
                  "873260194.0"
                ],
                [
                  "1452",
                  "270000000",
                  "391081192.0"
                ],
                [
                  "10764",
                  "200000000",
                  "586090727.0"
                ],
                [
                  "58",
                  "200000000",
                  "1065659812.0"
                ],
                [
                  "57201",
                  "255000000",
                  "89289910.0"
                ],
                [
                  "49521",
                  "225000000",
                  "662845518.0"
                ],
                [
                  "2454",
                  "225000000",
                  "419651413.0"
                ],
                [
                  "24428",
                  "220000000",
                  "1519557910.0"
                ],
                [
                  "1865",
                  "380000000",
                  "1045713802.0"
                ],
                [
                  "41154",
                  "225000000",
                  "624026776.0"
                ],
                [
                  "122917",
                  "250000000",
                  "956019788.0"
                ],
                [
                  "1930",
                  "215000000",
                  "752215857.0"
                ],
                [
                  "20662",
                  "200000000",
                  "310669540.0"
                ],
                [
                  "57158",
                  "250000000",
                  "958400000.0"
                ],
                [
                  "2268",
                  "180000000",
                  "372234864.0"
                ],
                [
                  "254",
                  "207000000",
                  "550000000.0"
                ],
                [
                  "597",
                  "200000000",
                  "1845034188.0"
                ],
                [
                  "271110",
                  "250000000",
                  "1153304495.0"
                ],
                [
                  "44833",
                  "209000000",
                  "303025485.0"
                ],
                [
                  "135397",
                  "150000000",
                  "1513528810.0"
                ],
                [
                  "37724",
                  "200000000",
                  "1108561013.0"
                ],
                [
                  "558",
                  "200000000",
                  "783766341.0"
                ],
                [
                  "68721",
                  "200000000",
                  "1215439994.0"
                ],
                [
                  "12155",
                  "200000000",
                  "1025491110.0"
                ],
                [
                  "36668",
                  "210000000",
                  "459359555.0"
                ],
                [
                  "62211",
                  "200000000",
                  "743559607.0"
                ],
                [
                  "8373",
                  "150000000",
                  "836297228.0"
                ],
                [
                  "91314",
                  "210000000",
                  "1091405097.0"
                ],
                [
                  "68728",
                  "200000000",
                  "491868548.0"
                ],
                [
                  "102382",
                  "200000000",
                  "705717432.0"
                ],
                [
                  "20526",
                  "170000000",
                  "400062763.0"
                ],
                [
                  "49013",
                  "200000000",
                  "559852396.0"
                ],
                [
                  "44912",
                  "200000000",
                  "219851172.0"
                ],
                [
                  "10193",
                  "200000000",
                  "1066969703.0"
                ],
                [
                  "534",
                  "200000000",
                  "371353001.0"
                ],
                [
                  "168259",
                  "190000000",
                  "1506249360.0"
                ],
                [
                  "72190",
                  "200000000",
                  "531865000.0"
                ],
                [
                  "127585",
                  "250000000",
                  "747862775.0"
                ],
                [
                  "54138",
                  "190000000",
                  "467365246.0"
                ],
                [
                  "81005",
                  "195000000",
                  "197687603.0"
                ],
                [
                  "64682",
                  "105000000",
                  "351040419.0"
                ]
              ],
              "shape": {
                "columns": 2,
                "rows": 3229
              }
            },
            "text/html": [
              "<div>\n",
              "<style scoped>\n",
              "    .dataframe tbody tr th:only-of-type {\n",
              "        vertical-align: middle;\n",
              "    }\n",
              "\n",
              "    .dataframe tbody tr th {\n",
              "        vertical-align: top;\n",
              "    }\n",
              "\n",
              "    .dataframe thead th {\n",
              "        text-align: right;\n",
              "    }\n",
              "</style>\n",
              "<table border=\"1\" class=\"dataframe\">\n",
              "  <thead>\n",
              "    <tr style=\"text-align: right;\">\n",
              "      <th></th>\n",
              "      <th>budget</th>\n",
              "      <th>revenue</th>\n",
              "    </tr>\n",
              "    <tr>\n",
              "      <th>id</th>\n",
              "      <th></th>\n",
              "      <th></th>\n",
              "    </tr>\n",
              "  </thead>\n",
              "  <tbody>\n",
              "    <tr>\n",
              "      <th>19995</th>\n",
              "      <td>237000000</td>\n",
              "      <td>2.787965e+09</td>\n",
              "    </tr>\n",
              "    <tr>\n",
              "      <th>285</th>\n",
              "      <td>300000000</td>\n",
              "      <td>9.610000e+08</td>\n",
              "    </tr>\n",
              "    <tr>\n",
              "      <th>206647</th>\n",
              "      <td>245000000</td>\n",
              "      <td>8.806746e+08</td>\n",
              "    </tr>\n",
              "    <tr>\n",
              "      <th>49026</th>\n",
              "      <td>250000000</td>\n",
              "      <td>1.084939e+09</td>\n",
              "    </tr>\n",
              "    <tr>\n",
              "      <th>49529</th>\n",
              "      <td>260000000</td>\n",
              "      <td>2.841391e+08</td>\n",
              "    </tr>\n",
              "    <tr>\n",
              "      <th>...</th>\n",
              "      <td>...</td>\n",
              "      <td>...</td>\n",
              "    </tr>\n",
              "    <tr>\n",
              "      <th>2292</th>\n",
              "      <td>27000</td>\n",
              "      <td>3.151130e+06</td>\n",
              "    </tr>\n",
              "    <tr>\n",
              "      <th>692</th>\n",
              "      <td>12000</td>\n",
              "      <td>6.000000e+06</td>\n",
              "    </tr>\n",
              "    <tr>\n",
              "      <th>36095</th>\n",
              "      <td>20000</td>\n",
              "      <td>9.900000e+04</td>\n",
              "    </tr>\n",
              "    <tr>\n",
              "      <th>14337</th>\n",
              "      <td>7000</td>\n",
              "      <td>4.247600e+05</td>\n",
              "    </tr>\n",
              "    <tr>\n",
              "      <th>9367</th>\n",
              "      <td>220000</td>\n",
              "      <td>2.040920e+06</td>\n",
              "    </tr>\n",
              "  </tbody>\n",
              "</table>\n",
              "<p>3229 rows × 2 columns</p>\n",
              "</div>"
            ],
            "text/plain": [
              "           budget       revenue\n",
              "id                             \n",
              "19995   237000000  2.787965e+09\n",
              "285     300000000  9.610000e+08\n",
              "206647  245000000  8.806746e+08\n",
              "49026   250000000  1.084939e+09\n",
              "49529   260000000  2.841391e+08\n",
              "...           ...           ...\n",
              "2292        27000  3.151130e+06\n",
              "692         12000  6.000000e+06\n",
              "36095       20000  9.900000e+04\n",
              "14337        7000  4.247600e+05\n",
              "9367       220000  2.040920e+06\n",
              "\n",
              "[3229 rows x 2 columns]"
            ]
          },
          "execution_count": 91,
          "metadata": {},
          "output_type": "execute_result"
        }
      ],
      "source": [
        "financials = financials.set_index(\"id\")\n",
        "financials"
      ]
    },
    {
      "cell_type": "code",
      "execution_count": 92,
      "id": "afb1194d",
      "metadata": {},
      "outputs": [
        {
          "data": {
            "application/vnd.microsoft.datawrangler.viewer.v0+json": {
              "columns": [
                {
                  "name": "id",
                  "rawType": "Int64",
                  "type": "integer"
                },
                {
                  "name": "title",
                  "rawType": "object",
                  "type": "string"
                },
                {
                  "name": "sequel",
                  "rawType": "Int64",
                  "type": "integer"
                }
              ],
              "ref": "e2fa774b-2ce5-4340-9aa6-06c90e670609",
              "rows": [
                [
                  "19995",
                  "Avatar",
                  null
                ],
                [
                  "862",
                  "Toy Story",
                  "863"
                ],
                [
                  "863",
                  "Toy Story 2",
                  "10193"
                ],
                [
                  "597",
                  "Titanic",
                  null
                ],
                [
                  "24428",
                  "The Avengers",
                  null
                ],
                [
                  "135397",
                  "Jurassic World",
                  null
                ],
                [
                  "168259",
                  "Furious 7",
                  null
                ],
                [
                  "99861",
                  "Avengers: Age of Ultron",
                  null
                ],
                [
                  "109445",
                  "Frozen",
                  null
                ],
                [
                  "68721",
                  "Iron Man 3",
                  null
                ],
                [
                  "211672",
                  "Minions",
                  null
                ],
                [
                  "271110",
                  "Captain America: Civil War",
                  null
                ],
                [
                  "38356",
                  "Transformers: Dark of the Moon",
                  null
                ],
                [
                  "122",
                  "The Lord of the Rings: The Return of the King",
                  null
                ],
                [
                  "37724",
                  "Skyfall",
                  null
                ],
                [
                  "91314",
                  "Transformers: Age of Extinction",
                  null
                ],
                [
                  "49026",
                  "The Dark Knight Rises",
                  null
                ],
                [
                  "10193",
                  "Toy Story 3",
                  null
                ],
                [
                  "58",
                  "Pirates of the Caribbean: Dead Man's Chest",
                  null
                ],
                [
                  "1865",
                  "Pirates of the Caribbean: On Stranger Tides",
                  null
                ],
                [
                  "12155",
                  "Alice in Wonderland",
                  null
                ],
                [
                  "49051",
                  "The Hobbit: An Unexpected Journey",
                  null
                ],
                [
                  "155",
                  "The Dark Knight",
                  null
                ],
                [
                  "671",
                  "Harry Potter and the Philosopher's Stone",
                  null
                ],
                [
                  "93456",
                  "Despicable Me 2",
                  null
                ],
                [
                  "278927",
                  "The Jungle Book",
                  null
                ],
                [
                  "285",
                  "Pirates of the Caribbean: At World's End",
                  null
                ],
                [
                  "57158",
                  "The Hobbit: The Desolation of Smaug",
                  null
                ],
                [
                  "122917",
                  "The Hobbit: The Battle of the Five Armies",
                  null
                ],
                [
                  "12",
                  "Finding Nemo",
                  null
                ],
                [
                  "675",
                  "Harry Potter and the Order of the Phoenix",
                  "767"
                ],
                [
                  "767",
                  "Harry Potter and the Half-Blood Prince",
                  null
                ],
                [
                  "121",
                  "The Lord of the Rings: The Two Towers",
                  "122"
                ],
                [
                  "1893",
                  "Star Wars: Episode I - The Phantom Menace",
                  null
                ],
                [
                  "329",
                  "Jurassic Park",
                  null
                ],
                [
                  "809",
                  "Shrek 2",
                  null
                ],
                [
                  "674",
                  "Harry Potter and the Goblet of Fire",
                  null
                ],
                [
                  "559",
                  "Spider-Man 3",
                  null
                ],
                [
                  "8355",
                  "Ice Age: Dawn of the Dinosaurs",
                  null
                ],
                [
                  "206647",
                  "Spectre",
                  null
                ],
                [
                  "57800",
                  "Ice Age: Continental Drift",
                  null
                ],
                [
                  "672",
                  "Harry Potter and the Chamber of Secrets",
                  null
                ],
                [
                  "328111",
                  "The Secret Life of Pets",
                  null
                ],
                [
                  "209112",
                  "Batman v Superman: Dawn of Justice",
                  null
                ],
                [
                  "120",
                  "The Lord of the Rings: The Fellowship of the Ring",
                  "121"
                ],
                [
                  "150540",
                  "Inside Out",
                  null
                ],
                [
                  "1895",
                  "Star Wars: Episode III - Revenge of the Sith",
                  null
                ],
                [
                  "101299",
                  "The Hunger Games: Catching Fire",
                  null
                ],
                [
                  "8373",
                  "Transformers: Revenge of the Fallen",
                  null
                ],
                [
                  "50620",
                  "The Twilight Saga: Breaking Dawn - Part 2",
                  null
                ]
              ],
              "shape": {
                "columns": 2,
                "rows": 4803
              }
            },
            "text/html": [
              "<div>\n",
              "<style scoped>\n",
              "    .dataframe tbody tr th:only-of-type {\n",
              "        vertical-align: middle;\n",
              "    }\n",
              "\n",
              "    .dataframe tbody tr th {\n",
              "        vertical-align: top;\n",
              "    }\n",
              "\n",
              "    .dataframe thead th {\n",
              "        text-align: right;\n",
              "    }\n",
              "</style>\n",
              "<table border=\"1\" class=\"dataframe\">\n",
              "  <thead>\n",
              "    <tr style=\"text-align: right;\">\n",
              "      <th></th>\n",
              "      <th>title</th>\n",
              "      <th>sequel</th>\n",
              "    </tr>\n",
              "    <tr>\n",
              "      <th>id</th>\n",
              "      <th></th>\n",
              "      <th></th>\n",
              "    </tr>\n",
              "  </thead>\n",
              "  <tbody>\n",
              "    <tr>\n",
              "      <th>19995</th>\n",
              "      <td>Avatar</td>\n",
              "      <td>&lt;NA&gt;</td>\n",
              "    </tr>\n",
              "    <tr>\n",
              "      <th>862</th>\n",
              "      <td>Toy Story</td>\n",
              "      <td>863</td>\n",
              "    </tr>\n",
              "    <tr>\n",
              "      <th>863</th>\n",
              "      <td>Toy Story 2</td>\n",
              "      <td>10193</td>\n",
              "    </tr>\n",
              "    <tr>\n",
              "      <th>597</th>\n",
              "      <td>Titanic</td>\n",
              "      <td>&lt;NA&gt;</td>\n",
              "    </tr>\n",
              "    <tr>\n",
              "      <th>24428</th>\n",
              "      <td>The Avengers</td>\n",
              "      <td>&lt;NA&gt;</td>\n",
              "    </tr>\n",
              "    <tr>\n",
              "      <th>...</th>\n",
              "      <td>...</td>\n",
              "      <td>...</td>\n",
              "    </tr>\n",
              "    <tr>\n",
              "      <th>133931</th>\n",
              "      <td>Zambezia</td>\n",
              "      <td>&lt;NA&gt;</td>\n",
              "    </tr>\n",
              "    <tr>\n",
              "      <th>309503</th>\n",
              "      <td>Zipper</td>\n",
              "      <td>&lt;NA&gt;</td>\n",
              "    </tr>\n",
              "    <tr>\n",
              "      <th>34592</th>\n",
              "      <td>ZMD: Zombies of Mass Destruction</td>\n",
              "      <td>&lt;NA&gt;</td>\n",
              "    </tr>\n",
              "    <tr>\n",
              "      <th>206213</th>\n",
              "      <td>Zombie Hunter</td>\n",
              "      <td>&lt;NA&gt;</td>\n",
              "    </tr>\n",
              "    <tr>\n",
              "      <th>185567</th>\n",
              "      <td>Zulu</td>\n",
              "      <td>&lt;NA&gt;</td>\n",
              "    </tr>\n",
              "  </tbody>\n",
              "</table>\n",
              "<p>4803 rows × 2 columns</p>\n",
              "</div>"
            ],
            "text/plain": [
              "                                   title  sequel\n",
              "id                                              \n",
              "19995                             Avatar    <NA>\n",
              "862                            Toy Story     863\n",
              "863                          Toy Story 2   10193\n",
              "597                              Titanic    <NA>\n",
              "24428                       The Avengers    <NA>\n",
              "...                                  ...     ...\n",
              "133931                          Zambezia    <NA>\n",
              "309503                            Zipper    <NA>\n",
              "34592   ZMD: Zombies of Mass Destruction    <NA>\n",
              "206213                     Zombie Hunter    <NA>\n",
              "185567                              Zulu    <NA>\n",
              "\n",
              "[4803 rows x 2 columns]"
            ]
          },
          "execution_count": 92,
          "metadata": {},
          "output_type": "execute_result"
        }
      ],
      "source": [
        "sequels = sequels.set_index(\"id\")\n",
        "sequels"
      ]
    },
    {
      "cell_type": "code",
      "execution_count": 93,
      "id": "18a97071",
      "metadata": {},
      "outputs": [
        {
          "data": {
            "application/vnd.microsoft.datawrangler.viewer.v0+json": {
              "columns": [
                {
                  "name": "id",
                  "rawType": "Int64",
                  "type": "integer"
                },
                {
                  "name": "title",
                  "rawType": "object",
                  "type": "string"
                },
                {
                  "name": "sequel",
                  "rawType": "Int64",
                  "type": "integer"
                },
                {
                  "name": "budget",
                  "rawType": "float64",
                  "type": "float"
                },
                {
                  "name": "revenue",
                  "rawType": "float64",
                  "type": "float"
                }
              ],
              "ref": "e3c5a82b-53df-4bc2-b283-61841a5ae2b6",
              "rows": [
                [
                  "19995",
                  "Avatar",
                  null,
                  "237000000.0",
                  "2787965087.0"
                ],
                [
                  "862",
                  "Toy Story",
                  "863",
                  "30000000.0",
                  "373554033.0"
                ],
                [
                  "863",
                  "Toy Story 2",
                  "10193",
                  "90000000.0",
                  "497366869.0"
                ],
                [
                  "597",
                  "Titanic",
                  null,
                  "200000000.0",
                  "1845034188.0"
                ],
                [
                  "24428",
                  "The Avengers",
                  null,
                  "220000000.0",
                  "1519557910.0"
                ],
                [
                  "135397",
                  "Jurassic World",
                  null,
                  "150000000.0",
                  "1513528810.0"
                ],
                [
                  "168259",
                  "Furious 7",
                  null,
                  "190000000.0",
                  "1506249360.0"
                ],
                [
                  "99861",
                  "Avengers: Age of Ultron",
                  null,
                  "280000000.0",
                  "1405403694.0"
                ],
                [
                  "109445",
                  "Frozen",
                  null,
                  "150000000.0",
                  "1274219009.0"
                ],
                [
                  "68721",
                  "Iron Man 3",
                  null,
                  "200000000.0",
                  "1215439994.0"
                ],
                [
                  "211672",
                  "Minions",
                  null,
                  "74000000.0",
                  "1156730962.0"
                ],
                [
                  "271110",
                  "Captain America: Civil War",
                  null,
                  "250000000.0",
                  "1153304495.0"
                ],
                [
                  "38356",
                  "Transformers: Dark of the Moon",
                  null,
                  "195000000.0",
                  "1123746996.0"
                ],
                [
                  "122",
                  "The Lord of the Rings: The Return of the King",
                  null,
                  "94000000.0",
                  "1118888979.0"
                ],
                [
                  "37724",
                  "Skyfall",
                  null,
                  "200000000.0",
                  "1108561013.0"
                ],
                [
                  "91314",
                  "Transformers: Age of Extinction",
                  null,
                  "210000000.0",
                  "1091405097.0"
                ],
                [
                  "49026",
                  "The Dark Knight Rises",
                  null,
                  "250000000.0",
                  "1084939099.0"
                ],
                [
                  "10193",
                  "Toy Story 3",
                  null,
                  "200000000.0",
                  "1066969703.0"
                ],
                [
                  "58",
                  "Pirates of the Caribbean: Dead Man's Chest",
                  null,
                  "200000000.0",
                  "1065659812.0"
                ],
                [
                  "1865",
                  "Pirates of the Caribbean: On Stranger Tides",
                  null,
                  "380000000.0",
                  "1045713802.0"
                ],
                [
                  "12155",
                  "Alice in Wonderland",
                  null,
                  "200000000.0",
                  "1025491110.0"
                ],
                [
                  "49051",
                  "The Hobbit: An Unexpected Journey",
                  null,
                  "250000000.0",
                  "1021103568.0"
                ],
                [
                  "155",
                  "The Dark Knight",
                  null,
                  "185000000.0",
                  "1004558444.0"
                ],
                [
                  "671",
                  "Harry Potter and the Philosopher's Stone",
                  null,
                  "125000000.0",
                  "976475550.0"
                ],
                [
                  "93456",
                  "Despicable Me 2",
                  null,
                  "76000000.0",
                  "970761885.0"
                ],
                [
                  "278927",
                  "The Jungle Book",
                  null,
                  "175000000.0",
                  "966550600.0"
                ],
                [
                  "285",
                  "Pirates of the Caribbean: At World's End",
                  null,
                  "300000000.0",
                  "961000000.0"
                ],
                [
                  "57158",
                  "The Hobbit: The Desolation of Smaug",
                  null,
                  "250000000.0",
                  "958400000.0"
                ],
                [
                  "122917",
                  "The Hobbit: The Battle of the Five Armies",
                  null,
                  "250000000.0",
                  "956019788.0"
                ],
                [
                  "12",
                  "Finding Nemo",
                  null,
                  "94000000.0",
                  "940335536.0"
                ],
                [
                  "675",
                  "Harry Potter and the Order of the Phoenix",
                  "767",
                  "150000000.0",
                  "938212738.0"
                ],
                [
                  "767",
                  "Harry Potter and the Half-Blood Prince",
                  null,
                  "250000000.0",
                  "933959197.0"
                ],
                [
                  "121",
                  "The Lord of the Rings: The Two Towers",
                  "122",
                  "79000000.0",
                  "926287400.0"
                ],
                [
                  "1893",
                  "Star Wars: Episode I - The Phantom Menace",
                  null,
                  "115000000.0",
                  "924317558.0"
                ],
                [
                  "329",
                  "Jurassic Park",
                  null,
                  "63000000.0",
                  "920100000.0"
                ],
                [
                  "809",
                  "Shrek 2",
                  null,
                  "150000000.0",
                  "919838758.0"
                ],
                [
                  "674",
                  "Harry Potter and the Goblet of Fire",
                  null,
                  "150000000.0",
                  "895921036.0"
                ],
                [
                  "559",
                  "Spider-Man 3",
                  null,
                  "258000000.0",
                  "890871626.0"
                ],
                [
                  "8355",
                  "Ice Age: Dawn of the Dinosaurs",
                  null,
                  "90000000.0",
                  "886686817.0"
                ],
                [
                  "206647",
                  "Spectre",
                  null,
                  "245000000.0",
                  "880674609.0"
                ],
                [
                  "57800",
                  "Ice Age: Continental Drift",
                  null,
                  "95000000.0",
                  "877244782.0"
                ],
                [
                  "672",
                  "Harry Potter and the Chamber of Secrets",
                  null,
                  "100000000.0",
                  "876688482.0"
                ],
                [
                  "328111",
                  "The Secret Life of Pets",
                  null,
                  "75000000.0",
                  "875958308.0"
                ],
                [
                  "209112",
                  "Batman v Superman: Dawn of Justice",
                  null,
                  "250000000.0",
                  "873260194.0"
                ],
                [
                  "120",
                  "The Lord of the Rings: The Fellowship of the Ring",
                  "121",
                  "93000000.0",
                  "871368364.0"
                ],
                [
                  "150540",
                  "Inside Out",
                  null,
                  "175000000.0",
                  "857611174.0"
                ],
                [
                  "1895",
                  "Star Wars: Episode III - Revenge of the Sith",
                  null,
                  "113000000.0",
                  "850000000.0"
                ],
                [
                  "101299",
                  "The Hunger Games: Catching Fire",
                  null,
                  "130000000.0",
                  "847423452.0"
                ],
                [
                  "8373",
                  "Transformers: Revenge of the Fallen",
                  null,
                  "150000000.0",
                  "836297228.0"
                ],
                [
                  "50620",
                  "The Twilight Saga: Breaking Dawn - Part 2",
                  null,
                  "120000000.0",
                  "829000000.0"
                ]
              ],
              "shape": {
                "columns": 4,
                "rows": 4803
              }
            },
            "text/html": [
              "<div>\n",
              "<style scoped>\n",
              "    .dataframe tbody tr th:only-of-type {\n",
              "        vertical-align: middle;\n",
              "    }\n",
              "\n",
              "    .dataframe tbody tr th {\n",
              "        vertical-align: top;\n",
              "    }\n",
              "\n",
              "    .dataframe thead th {\n",
              "        text-align: right;\n",
              "    }\n",
              "</style>\n",
              "<table border=\"1\" class=\"dataframe\">\n",
              "  <thead>\n",
              "    <tr style=\"text-align: right;\">\n",
              "      <th></th>\n",
              "      <th>title</th>\n",
              "      <th>sequel</th>\n",
              "      <th>budget</th>\n",
              "      <th>revenue</th>\n",
              "    </tr>\n",
              "    <tr>\n",
              "      <th>id</th>\n",
              "      <th></th>\n",
              "      <th></th>\n",
              "      <th></th>\n",
              "      <th></th>\n",
              "    </tr>\n",
              "  </thead>\n",
              "  <tbody>\n",
              "    <tr>\n",
              "      <th>19995</th>\n",
              "      <td>Avatar</td>\n",
              "      <td>&lt;NA&gt;</td>\n",
              "      <td>237000000.0</td>\n",
              "      <td>2.787965e+09</td>\n",
              "    </tr>\n",
              "    <tr>\n",
              "      <th>862</th>\n",
              "      <td>Toy Story</td>\n",
              "      <td>863</td>\n",
              "      <td>30000000.0</td>\n",
              "      <td>3.735540e+08</td>\n",
              "    </tr>\n",
              "    <tr>\n",
              "      <th>863</th>\n",
              "      <td>Toy Story 2</td>\n",
              "      <td>10193</td>\n",
              "      <td>90000000.0</td>\n",
              "      <td>4.973669e+08</td>\n",
              "    </tr>\n",
              "    <tr>\n",
              "      <th>597</th>\n",
              "      <td>Titanic</td>\n",
              "      <td>&lt;NA&gt;</td>\n",
              "      <td>200000000.0</td>\n",
              "      <td>1.845034e+09</td>\n",
              "    </tr>\n",
              "    <tr>\n",
              "      <th>24428</th>\n",
              "      <td>The Avengers</td>\n",
              "      <td>&lt;NA&gt;</td>\n",
              "      <td>220000000.0</td>\n",
              "      <td>1.519558e+09</td>\n",
              "    </tr>\n",
              "    <tr>\n",
              "      <th>...</th>\n",
              "      <td>...</td>\n",
              "      <td>...</td>\n",
              "      <td>...</td>\n",
              "      <td>...</td>\n",
              "    </tr>\n",
              "    <tr>\n",
              "      <th>133931</th>\n",
              "      <td>Zambezia</td>\n",
              "      <td>&lt;NA&gt;</td>\n",
              "      <td>NaN</td>\n",
              "      <td>NaN</td>\n",
              "    </tr>\n",
              "    <tr>\n",
              "      <th>309503</th>\n",
              "      <td>Zipper</td>\n",
              "      <td>&lt;NA&gt;</td>\n",
              "      <td>NaN</td>\n",
              "      <td>NaN</td>\n",
              "    </tr>\n",
              "    <tr>\n",
              "      <th>34592</th>\n",
              "      <td>ZMD: Zombies of Mass Destruction</td>\n",
              "      <td>&lt;NA&gt;</td>\n",
              "      <td>NaN</td>\n",
              "      <td>NaN</td>\n",
              "    </tr>\n",
              "    <tr>\n",
              "      <th>206213</th>\n",
              "      <td>Zombie Hunter</td>\n",
              "      <td>&lt;NA&gt;</td>\n",
              "      <td>NaN</td>\n",
              "      <td>NaN</td>\n",
              "    </tr>\n",
              "    <tr>\n",
              "      <th>185567</th>\n",
              "      <td>Zulu</td>\n",
              "      <td>&lt;NA&gt;</td>\n",
              "      <td>NaN</td>\n",
              "      <td>NaN</td>\n",
              "    </tr>\n",
              "  </tbody>\n",
              "</table>\n",
              "<p>4803 rows × 4 columns</p>\n",
              "</div>"
            ],
            "text/plain": [
              "                                   title  sequel       budget       revenue\n",
              "id                                                                         \n",
              "19995                             Avatar    <NA>  237000000.0  2.787965e+09\n",
              "862                            Toy Story     863   30000000.0  3.735540e+08\n",
              "863                          Toy Story 2   10193   90000000.0  4.973669e+08\n",
              "597                              Titanic    <NA>  200000000.0  1.845034e+09\n",
              "24428                       The Avengers    <NA>  220000000.0  1.519558e+09\n",
              "...                                  ...     ...          ...           ...\n",
              "133931                          Zambezia    <NA>          NaN           NaN\n",
              "309503                            Zipper    <NA>          NaN           NaN\n",
              "34592   ZMD: Zombies of Mass Destruction    <NA>          NaN           NaN\n",
              "206213                     Zombie Hunter    <NA>          NaN           NaN\n",
              "185567                              Zulu    <NA>          NaN           NaN\n",
              "\n",
              "[4803 rows x 4 columns]"
            ]
          },
          "execution_count": 93,
          "metadata": {},
          "output_type": "execute_result"
        }
      ],
      "source": [
        "# With the sequels table on the left, merge to it the financials table on index named id, ensuring that all the rows from the sequels are returned and some rows from the other table may not be returned, Save the results to sequels_fin.\n",
        "sequels_fin = sequels.merge(financials, on=\"id\", how=\"left\")\n",
        "sequels_fin"
      ]
    },
    {
      "cell_type": "code",
      "execution_count": 94,
      "id": "780be731",
      "metadata": {},
      "outputs": [
        {
          "data": {
            "application/vnd.microsoft.datawrangler.viewer.v0+json": {
              "columns": [
                {
                  "name": "id",
                  "rawType": "Int64",
                  "type": "integer"
                },
                {
                  "name": "title_org",
                  "rawType": "object",
                  "type": "string"
                },
                {
                  "name": "title_seq",
                  "rawType": "object",
                  "type": "string"
                },
                {
                  "name": "diff",
                  "rawType": "float64",
                  "type": "float"
                }
              ],
              "ref": "50bae328-3f2e-4f8c-a698-ce3001427f8a",
              "rows": [
                [
                  "331",
                  "Jurassic Park III",
                  "Jurassic World",
                  "1144748001.0"
                ],
                [
                  "272",
                  "Batman Begins",
                  "The Dark Knight",
                  "630339771.0"
                ],
                [
                  "10138",
                  "Iron Man 2",
                  "Iron Man 3",
                  "591506663.0"
                ],
                [
                  "863",
                  "Toy Story 2",
                  "Toy Story 3",
                  "569602834.0"
                ],
                [
                  "10764",
                  "Quantum of Solace",
                  "Skyfall",
                  "522470286.0"
                ]
              ],
              "shape": {
                "columns": 3,
                "rows": 5
              }
            },
            "text/html": [
              "<div>\n",
              "<style scoped>\n",
              "    .dataframe tbody tr th:only-of-type {\n",
              "        vertical-align: middle;\n",
              "    }\n",
              "\n",
              "    .dataframe tbody tr th {\n",
              "        vertical-align: top;\n",
              "    }\n",
              "\n",
              "    .dataframe thead th {\n",
              "        text-align: right;\n",
              "    }\n",
              "</style>\n",
              "<table border=\"1\" class=\"dataframe\">\n",
              "  <thead>\n",
              "    <tr style=\"text-align: right;\">\n",
              "      <th></th>\n",
              "      <th>title_org</th>\n",
              "      <th>title_seq</th>\n",
              "      <th>diff</th>\n",
              "    </tr>\n",
              "    <tr>\n",
              "      <th>id</th>\n",
              "      <th></th>\n",
              "      <th></th>\n",
              "      <th></th>\n",
              "    </tr>\n",
              "  </thead>\n",
              "  <tbody>\n",
              "    <tr>\n",
              "      <th>331</th>\n",
              "      <td>Jurassic Park III</td>\n",
              "      <td>Jurassic World</td>\n",
              "      <td>1.144748e+09</td>\n",
              "    </tr>\n",
              "    <tr>\n",
              "      <th>272</th>\n",
              "      <td>Batman Begins</td>\n",
              "      <td>The Dark Knight</td>\n",
              "      <td>6.303398e+08</td>\n",
              "    </tr>\n",
              "    <tr>\n",
              "      <th>10138</th>\n",
              "      <td>Iron Man 2</td>\n",
              "      <td>Iron Man 3</td>\n",
              "      <td>5.915067e+08</td>\n",
              "    </tr>\n",
              "    <tr>\n",
              "      <th>863</th>\n",
              "      <td>Toy Story 2</td>\n",
              "      <td>Toy Story 3</td>\n",
              "      <td>5.696028e+08</td>\n",
              "    </tr>\n",
              "    <tr>\n",
              "      <th>10764</th>\n",
              "      <td>Quantum of Solace</td>\n",
              "      <td>Skyfall</td>\n",
              "      <td>5.224703e+08</td>\n",
              "    </tr>\n",
              "  </tbody>\n",
              "</table>\n",
              "</div>"
            ],
            "text/plain": [
              "               title_org        title_seq          diff\n",
              "id                                                     \n",
              "331    Jurassic Park III   Jurassic World  1.144748e+09\n",
              "272        Batman Begins  The Dark Knight  6.303398e+08\n",
              "10138         Iron Man 2       Iron Man 3  5.915067e+08\n",
              "863          Toy Story 2      Toy Story 3  5.696028e+08\n",
              "10764  Quantum of Solace          Skyfall  5.224703e+08"
            ]
          },
          "metadata": {},
          "output_type": "display_data"
        }
      ],
      "source": [
        "# Merge the sequels_fin table to itself with an inner join, where the left and right tables merge on sequel and id respectively with suffixes equal to ('_org','_seq'), saving to orig_seq.\n",
        "orig_seq = sequels_fin.merge(sequels_fin, how='inner', left_on='sequel', \n",
        "                             right_on='id', right_index=True, suffixes=('_org','_seq'))\n",
        "\n",
        "# Add calculation to subtract revenue_org from revenue_seq \n",
        "orig_seq['diff'] = orig_seq['revenue_seq'] - orig_seq['revenue_org']\n",
        "\n",
        "# Select the title_org, title_seq, and diff \n",
        "titles_diff = orig_seq[['title_org','title_seq','diff']]\n",
        "\n",
        "# Print the first rows of the sorted titles_diff\n",
        "display(titles_diff.sort_values(by=\"diff\", ascending=False).head())"
      ]
    },
    {
      "cell_type": "markdown",
      "id": "86d24ae6",
      "metadata": {},
      "source": [
        "\n",
        "## Filtering Joins\n",
        "\n",
        "In data wrangling, joins are most commonly used to **mutate** - that is, to combine columns from two tables based on matching keys. However, another crucial use case is **filtering joins**: subsetting one table based on the presence (or absence) of matching keys in another. Filtering joins are essential for identifying intersections and exclusions between datasets, enabling nuanced subset operations for analytical, reporting, or data-cleaning tasks.\n",
        "\n",
        "This section explores filtering joins, covering **semi joins** and **anti joins**, their theoretical underpinnings, practical implications, and idiomatic Pandas implementations.\n",
        "\n",
        "\n",
        "### Mutating vs. Filtering Joins\n",
        "\n",
        "- **Mutating joins:**  \n",
        "  Combine data from two tables, adding columns from one table to the other where keys match (e.g., `pd.merge`). Result contains columns from both tables.\n",
        "\n",
        "- **Filtering joins:**  \n",
        "  Filter observations in one table based solely on whether a match exists in another table. The result includes **only the rows from the left table**, never columns from the right. No column mutation occurs.\n",
        "\n",
        "\n",
        "### Semi Join\n",
        "\n",
        "A **semi join** returns the intersection of two tables, but with a key distinction:  \n",
        "- **Only columns from the left table** are retained; columns from the right are not included.\n",
        "- Duplicates are removed - each matching row from the left appears only once, even if it has multiple matches in the right.\n",
        "\n",
        "**Use case:**  \n",
        "- To filter a table to only those records that have a corresponding match in another table.\n",
        "\n",
        "### Example Workflow\n",
        "\n",
        "1. **Merge the tables to find matches (inner join, keeping only left columns):**\n",
        "\n",
        "    ```python\n",
        "    matches = left_table.merge(\n",
        "        right_table,\n",
        "        on=\"key\",\n",
        "        how=\"inner\"\n",
        "    )\n",
        "    ```\n",
        "\n",
        "2. **Filter left table to rows with keys present in the intersection:**\n",
        "\n",
        "    ```python\n",
        "    filtered_left = left_table[left_table[\"key\"].isin(matches[\"key\"])]\n",
        "    ```\n",
        "\n",
        "3. **Remove duplicates if necessary:**\n",
        "\n",
        "    ```python\n",
        "    filtered_left = filtered_left.drop_duplicates(subset=\"key\")\n",
        "    ```\n",
        "\n",
        "\n",
        "### Anti Join\n",
        "\n",
        "An **anti join** returns the **set difference**: all rows from the left table **that do not have a match** in the right table.\n",
        "\n",
        "- Only columns from the left table are retained.\n",
        "- It is the inverse of a semi join.\n",
        "\n",
        "**Use case:**  \n",
        "- To identify or extract records from a dataset that are missing or unmatched in a reference set.\n",
        "\n",
        "### Example Workflow\n",
        "\n",
        "1. **Perform a left merge with the indicator flag:**\n",
        "\n",
        "    ```python\n",
        "    merged = left_table.merge(\n",
        "        right_table,\n",
        "        on=\"key\",\n",
        "        how=\"left\",\n",
        "        indicator=True\n",
        "    )\n",
        "    ```\n",
        "\n",
        "2. **Identify unmatched rows using the indicator column:**\n",
        "\n",
        "    ```python\n",
        "    unmatched_keys = merged.loc[merged[\"_merge\"] == \"left_only\", \"key\"]\n",
        "    ```\n",
        "\n",
        "3. **Filter the original left table for unmatched keys:**\n",
        "\n",
        "    ```python\n",
        "    anti_joined = left_table[left_table[\"key\"].isin(unmatched_keys)]\n",
        "    ```\n",
        "\n",
        "## Filtering Joins\n",
        "\n",
        "| Join Type    | Output Rows                               | Output Columns    | Purpose/Use Case              |\n",
        "|--------------|-------------------------------------------|-------------------|-------------------------------|\n",
        "| Semi Join    | Intersection of left/right on keys        | Left table only   | Keep matching records         |\n",
        "| Anti Join    | Left minus intersection (set difference)  | Left table only   | Exclude matching records      |\n",
        "\n",
        "\n",
        "## Best Practices and Implementation Notes\n",
        "\n",
        "- **Efficient filtering:** Use `.isin()` for large tables—highly optimised for vectorised subsetting.\n",
        "- **No right table columns:** Filtering joins never add columns from the right table; their sole purpose is to subset.\n",
        "- **No duplication:** Semi joins return only unique left-side rows, even if multiple matches exist.\n",
        "- **Indicator column:** Use `indicator=True` in `pd.merge()` to audit match status and support complex filtering.\n",
        "- **Chaining:** Filtering joins are commonly used before further analysis, such as aggregations or mutating joins.\n",
        "\n",
        "\n",
        "\n"
      ]
    },
    {
      "cell_type": "markdown",
      "id": "84f3ed9c",
      "metadata": {},
      "source": [
        "### Overview of the `tracks` DataFrame\n",
        "\n",
        "This DataFrame reflects the contents of the `track` table from the Chinook sample database, providing metadata for each track (identifiers, names, album and media references, genre as `gid`, composer, duration, file size and price). The SQLite file (`chinook.db`) was obtained manually because it is not supplied in the DataCamp resources.\n"
      ]
    },
    {
      "cell_type": "code",
      "execution_count": 95,
      "id": "c0bb2cbd",
      "metadata": {},
      "outputs": [],
      "source": [
        "import sqlite3\n",
        "conn = sqlite3.connect(\"data/chinook.db\")\n",
        "top_tracks = pd.read_sql_query(\"SELECT * FROM Track\", conn)"
      ]
    },
    {
      "cell_type": "code",
      "execution_count": 96,
      "id": "54f00e11",
      "metadata": {},
      "outputs": [
        {
          "ename": "NameError",
          "evalue": "name 'tracks' is not defined",
          "output_type": "error",
          "traceback": [
            "\u001b[31m---------------------------------------------------------------------------\u001b[39m",
            "\u001b[31mNameError\u001b[39m                                 Traceback (most recent call last)",
            "\u001b[36mCell\u001b[39m\u001b[36m \u001b[39m\u001b[32mIn[96]\u001b[39m\u001b[32m, line 1\u001b[39m\n\u001b[32m----> \u001b[39m\u001b[32m1\u001b[39m top_tracks = \u001b[43mtracks\u001b[49m.rename(columns={\u001b[33m'\u001b[39m\u001b[33mGenreId\u001b[39m\u001b[33m'\u001b[39m: \u001b[33m'\u001b[39m\u001b[33mgid\u001b[39m\u001b[33m'\u001b[39m, \u001b[33m'\u001b[39m\u001b[33mTrackId\u001b[39m\u001b[33m'\u001b[39m:\u001b[33m'\u001b[39m\u001b[33mtid\u001b[39m\u001b[33m'\u001b[39m, \u001b[33m'\u001b[39m\u001b[33mName\u001b[39m\u001b[33m'\u001b[39m: \u001b[33m'\u001b[39m\u001b[33mname\u001b[39m\u001b[33m'\u001b[39m, \u001b[33m'\u001b[39m\u001b[33mAlbumId\u001b[39m\u001b[33m'\u001b[39m:\u001b[33m'\u001b[39m\u001b[33maid\u001b[39m\u001b[33m'\u001b[39m,\u001b[33m'\u001b[39m\u001b[33mMediaTypeId\u001b[39m\u001b[33m'\u001b[39m:\u001b[33m'\u001b[39m\u001b[33mmid\u001b[39m\u001b[33m'\u001b[39m, \u001b[33m'\u001b[39m\u001b[33mComposer\u001b[39m\u001b[33m'\u001b[39m:\u001b[33m'\u001b[39m\u001b[33mcomposer\u001b[39m\u001b[33m'\u001b[39m, \u001b[33m'\u001b[39m\u001b[33mUnitPrice\u001b[39m\u001b[33m'\u001b[39m:\u001b[33m'\u001b[39m\u001b[33mu_price\u001b[39m\u001b[33m'\u001b[39m}).drop([\u001b[33m'\u001b[39m\u001b[33mMilliseconds\u001b[39m\u001b[33m'\u001b[39m, \u001b[33m'\u001b[39m\u001b[33mBytes\u001b[39m\u001b[33m'\u001b[39m], axis=\u001b[32m1\u001b[39m)\n\u001b[32m      2\u001b[39m top_tracks.head()\n",
            "\u001b[31mNameError\u001b[39m: name 'tracks' is not defined"
          ]
        }
      ],
      "source": [
        "top_tracks = tracks.rename(columns={'GenreId': 'gid', 'TrackId':'tid', 'Name': 'name', 'AlbumId':'aid','MediaTypeId':'mid', 'Composer':'composer', 'UnitPrice':'u_price'}).drop(['Milliseconds', 'Bytes'], axis=1)\n",
        "top_tracks.head()"
      ]
    },
    {
      "cell_type": "code",
      "execution_count": null,
      "id": "14c246ad",
      "metadata": {},
      "outputs": [
        {
          "data": {
            "application/vnd.microsoft.datawrangler.viewer.v0+json": {
              "columns": [
                {
                  "name": "index",
                  "rawType": "int64",
                  "type": "integer"
                },
                {
                  "name": "gid",
                  "rawType": "int64",
                  "type": "integer"
                },
                {
                  "name": "name",
                  "rawType": "object",
                  "type": "string"
                }
              ],
              "ref": "50e0ec23-fc4d-472d-a493-fa75afe4ffa8",
              "rows": [
                [
                  "0",
                  "1",
                  "Rock"
                ],
                [
                  "1",
                  "2",
                  "Jazz"
                ],
                [
                  "2",
                  "3",
                  "Metal"
                ],
                [
                  "3",
                  "4",
                  "Alternative & Punk"
                ],
                [
                  "4",
                  "5",
                  "Rock And Roll"
                ]
              ],
              "shape": {
                "columns": 2,
                "rows": 5
              }
            },
            "text/html": [
              "<div>\n",
              "<style scoped>\n",
              "    .dataframe tbody tr th:only-of-type {\n",
              "        vertical-align: middle;\n",
              "    }\n",
              "\n",
              "    .dataframe tbody tr th {\n",
              "        vertical-align: top;\n",
              "    }\n",
              "\n",
              "    .dataframe thead th {\n",
              "        text-align: right;\n",
              "    }\n",
              "</style>\n",
              "<table border=\"1\" class=\"dataframe\">\n",
              "  <thead>\n",
              "    <tr style=\"text-align: right;\">\n",
              "      <th></th>\n",
              "      <th>gid</th>\n",
              "      <th>name</th>\n",
              "    </tr>\n",
              "  </thead>\n",
              "  <tbody>\n",
              "    <tr>\n",
              "      <th>0</th>\n",
              "      <td>1</td>\n",
              "      <td>Rock</td>\n",
              "    </tr>\n",
              "    <tr>\n",
              "      <th>1</th>\n",
              "      <td>2</td>\n",
              "      <td>Jazz</td>\n",
              "    </tr>\n",
              "    <tr>\n",
              "      <th>2</th>\n",
              "      <td>3</td>\n",
              "      <td>Metal</td>\n",
              "    </tr>\n",
              "    <tr>\n",
              "      <th>3</th>\n",
              "      <td>4</td>\n",
              "      <td>Alternative &amp; Punk</td>\n",
              "    </tr>\n",
              "    <tr>\n",
              "      <th>4</th>\n",
              "      <td>5</td>\n",
              "      <td>Rock And Roll</td>\n",
              "    </tr>\n",
              "  </tbody>\n",
              "</table>\n",
              "</div>"
            ],
            "text/plain": [
              "   gid                name\n",
              "0    1                Rock\n",
              "1    2                Jazz\n",
              "2    3               Metal\n",
              "3    4  Alternative & Punk\n",
              "4    5       Rock And Roll"
            ]
          },
          "execution_count": 104,
          "metadata": {},
          "output_type": "execute_result"
        }
      ],
      "source": [
        "genres = pd.read_csv(\"data/Genre.csv\")\n",
        "genres = genres.rename(columns={'GenreId': 'gid', 'Name':'name'})\n",
        "genres.head()"
      ]
    },
    {
      "cell_type": "code",
      "execution_count": null,
      "id": "124a4d0d",
      "metadata": {},
      "outputs": [],
      "source": [
        "genres_track = genres.merge()"
      ]
    }
  ],
  "metadata": {
    "accelerator": "TPU",
    "colab": {
      "gpuType": "V28",
      "include_colab_link": true,
      "machine_shape": "hm",
      "provenance": []
    },
    "kernelspec": {
      "display_name": "datacamp",
      "language": "python",
      "name": "python3"
    },
    "language_info": {
      "codemirror_mode": {
        "name": "ipython",
        "version": 3
      },
      "file_extension": ".py",
      "mimetype": "text/x-python",
      "name": "python",
      "nbconvert_exporter": "python",
      "pygments_lexer": "ipython3",
      "version": "3.12.8"
    }
  },
  "nbformat": 4,
  "nbformat_minor": 5
}
