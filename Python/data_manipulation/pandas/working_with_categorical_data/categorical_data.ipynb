{
 "cells": [
  {
   "cell_type": "markdown",
   "id": "463b441c",
   "metadata": {},
   "source": [
    "# Working with Categorical Data in Python\n",
    "\n",
    "Categorical data—also called **qualitative data**—is foundational to nearly all real-world analysis, from social science surveys to machine learning. Unlike numerical (quantitative) data, categorical variables represent discrete groups, labels, or categories. Understanding how to rigorously represent, summarise, and interpret categorical variables is essential for valid statistics, robust visualisation, and effective modelling.\n",
    "\n",
    "\n",
    "### What Does It Mean to Be \"Categorical\"?\n",
    "\n",
    "**Categorical variables** describe characteristics that can be divided into a **finite number of groups** or levels, known as **categories**. These categories are typically:\n",
    "- **Fixed and known in advance** (e.g., eye colour, marital status, political affiliation).\n",
    "- **Qualitative in nature**—they describe *qualities* or *types* rather than magnitudes.\n",
    "\n",
    "**Examples:**\n",
    "- Gender: {Male, Female, Other}\n",
    "- Eye Colour: {Blue, Brown, Green}\n",
    "- Marital Status: {Single, Married, Divorced, Widowed}\n",
    "- Country of Birth: {Brazil, UK, USA, ...}\n",
    "\n",
    "**Numerical variables** (quantitative data), by contrast, express magnitudes—typically as measurements or counts (e.g., height, weight, salary, age).\n",
    "\n",
    "### Ordinal vs. Nominal Variables\n",
    "\n",
    "**Nominal variables:**\n",
    "- Purely categorical—**no natural order** among categories.\n",
    "- Examples: Eye colour {Blue, Green, Brown}, City names, Blood type.\n",
    "\n",
    "**Ordinal variables:**\n",
    "- Categorical with a **meaningful order or ranking** among categories.\n",
    "- The order matters, but the *interval* between categories is not necessarily consistent or known.\n",
    "- Examples:\n",
    "    - Survey responses: {Strongly Disagree, Disagree, Neutral, Agree, Strongly Agree}\n",
    "    - Education levels: {Primary, Secondary, Tertiary}\n",
    "    - T-shirt sizes: {Small, Medium, Large, Extra Large}\n",
    "\n",
    "**Why does this distinction matter?**\n",
    "- Many statistical methods and visualisations handle ordinal and nominal variables differently.\n",
    "- Ordinal variables allow for medians, percentiles, and ordered comparisons; nominal variables do not.\n",
    "\n",
    "\n",
    "### Describing and Summarising Categorical Data\n",
    "\n",
    "### Using `.describe()`\n",
    "\n",
    "Pandas’ `.describe()` for object or categorical columns yields basic summaries:\n",
    "\n",
    "```python\n",
    "df[\"category_column\"].describe()\n",
    "```\n",
    "\n",
    "Typical output:\n",
    "- **count**: Number of non-missing values.\n",
    "- **unique**: Number of distinct categories.\n",
    "- **top**: Most common category (the mode).\n",
    "- **freq**: Frequency of the most common category.\n",
    "\n",
    "\n",
    "### Frequency Tables and Proportions\n",
    "\n",
    "#### Using `.value_counts()`\n",
    "\n",
    "Get absolute frequencies of each category:\n",
    "\n",
    "```python\n",
    "df[\"category_column\"].value_counts()\n",
    "```\n",
    "\n",
    "#### Using `.value_counts(normalize=True)`\n",
    "\n",
    "Get relative frequencies (proportions):\n",
    "\n",
    "```python\n",
    "df[\"category_column\"].value_counts(normalize=True)\n",
    "```\n",
    "- Proportions sum to 1.0, expressing the percentage of each group.\n",
    "\n",
    "\n",
    "### Cross-tabulations\n",
    "\n",
    "Analyse the relationship between two (or more) categorical variables:\n",
    "\n",
    "```python\n",
    "pd.crosstab(df[\"cat1\"], df[\"cat2\"])\n",
    "```\n",
    "- Produces a contingency table showing counts for each combination of categories.\n",
    "\n",
    "### Encoding Categorical Data\n",
    "\n",
    "**For statistical modelling and machine learning, categorical data must often be encoded numerically:**\n",
    "\n",
    "- **Label encoding:** Assigns each category a unique integer (suitable for ordinal variables).\n",
    "- **One-hot encoding:** Creates a binary indicator column for each category (suitable for nominal variables).\n",
    "\n",
    "```python\n",
    "pd.get_dummies(df[\"category_column\"])\n",
    "```\n",
    "\n",
    "For ordinal variables, use Pandas’ `CategoricalDtype` to specify an order:\n",
    "\n",
    "```python\n",
    "import pandas as pd\n",
    "\n",
    "order = [\"Strongly Disagree\", \"Disagree\", \"Neutral\", \"Agree\", \"Strongly Agree\"]\n",
    "df[\"response\"] = pd.Categorical(df[\"response\"], categories=order, ordered=True)\n",
    "```\n",
    "\n",
    "### Concepts for Categorical Data\n",
    "\n",
    "- **Mode:** The most frequent category—useful for nominal and ordinal data.\n",
    "- **Median:** Only meaningful for ordinal variables.\n",
    "- **Proportions:** Compare category prevalence directly.\n",
    "- **Entropy / Gini impurity:** Measures of category diversity or inequality—useful for decision trees and information theory.\n",
    "- **Chi-square test:** Tests for independence between two categorical variables (contingency table analysis).\n",
    "- **Cramér's V:** Quantifies association strength between two categorical variables.\n",
    "\n",
    "### Visualisation\n",
    "\n",
    "- **Bar plots** for absolute/relative frequencies.\n",
    "- **Pie charts** (with caution) for proportions.\n",
    "- **Stacked bar charts** for bivariate categorical analysis.\n",
    "- **Mosaic plots** for multivariate relationships.\n",
    "\n",
    "\n",
    "### Best Practices \n",
    "\n",
    "- Always clearly distinguish between nominal and ordinal variables in your analysis.\n",
    "- Use `.astype(\"category\")` to explicitly mark columns as categorical—improves memory usage and ensures proper treatment by Pandas and plotting libraries.\n",
    "- Document the meaning of each category, especially for ordinal variables.\n",
    "- Carefully inspect for **unexpected, misspelled, or rare categories**, which may indicate data entry errors or outliers.\n",
    "\n",
    "\n",
    "Working rigorously with categorical data requires clear conceptual distinctions, careful statistical summarisation, and thoughtful encoding. By mastering Pandas’ categorical tools and understanding the statistical rationale, you ensure your analysis captures the structure, diversity, and relationships inherent in qualitative variables—foundations for robust, interpretable, and actionable data science.\n"
   ]
  },
  {
   "cell_type": "code",
   "execution_count": 90,
   "id": "c07e2d0b",
   "metadata": {},
   "outputs": [],
   "source": [
    "import matplotlib.pyplot as plt\n",
    "import numpy as np\n",
    "import pandas as pd\n",
    "import seaborn as sns"
   ]
  },
  {
   "cell_type": "code",
   "execution_count": 91,
   "id": "a7c2306d",
   "metadata": {},
   "outputs": [
    {
     "data": {
      "application/vnd.microsoft.datawrangler.viewer.v0+json": {
       "columns": [
        {
         "name": "index",
         "rawType": "int64",
         "type": "integer"
        },
        {
         "name": "Age",
         "rawType": "int64",
         "type": "integer"
        },
        {
         "name": "Workclass",
         "rawType": "object",
         "type": "string"
        },
        {
         "name": "fnlgwt",
         "rawType": "int64",
         "type": "integer"
        },
        {
         "name": "Education",
         "rawType": "object",
         "type": "string"
        },
        {
         "name": "Education Num",
         "rawType": "int64",
         "type": "integer"
        },
        {
         "name": "Marital Status",
         "rawType": "object",
         "type": "string"
        },
        {
         "name": "Occupation",
         "rawType": "object",
         "type": "string"
        },
        {
         "name": "Relationship",
         "rawType": "object",
         "type": "string"
        },
        {
         "name": "Race",
         "rawType": "object",
         "type": "string"
        },
        {
         "name": "Sex",
         "rawType": "object",
         "type": "string"
        },
        {
         "name": "Capital Gain",
         "rawType": "int64",
         "type": "integer"
        },
        {
         "name": "Capital Loss",
         "rawType": "int64",
         "type": "integer"
        },
        {
         "name": "Hours/Week",
         "rawType": "int64",
         "type": "integer"
        },
        {
         "name": "Country",
         "rawType": "object",
         "type": "string"
        },
        {
         "name": "Above/Below 50k",
         "rawType": "object",
         "type": "string"
        }
       ],
       "ref": "49b6dfa6-5ffc-44df-bd9b-71fb58f01eb4",
       "rows": [
        [
         "0",
         "39",
         " State-gov",
         "77516",
         " Bachelors",
         "13",
         " Never-married",
         " Adm-clerical",
         " Not-in-family",
         " White",
         " Male",
         "2174",
         "0",
         "40",
         " United-States",
         " <=50K"
        ],
        [
         "1",
         "50",
         " Self-emp-not-inc",
         "83311",
         " Bachelors",
         "13",
         " Married-civ-spouse",
         " Exec-managerial",
         " Husband",
         " White",
         " Male",
         "0",
         "0",
         "13",
         " United-States",
         " <=50K"
        ],
        [
         "2",
         "38",
         " Private",
         "215646",
         " HS-grad",
         "9",
         " Divorced",
         " Handlers-cleaners",
         " Not-in-family",
         " White",
         " Male",
         "0",
         "0",
         "40",
         " United-States",
         " <=50K"
        ],
        [
         "3",
         "53",
         " Private",
         "234721",
         " 11th",
         "7",
         " Married-civ-spouse",
         " Handlers-cleaners",
         " Husband",
         " Black",
         " Male",
         "0",
         "0",
         "40",
         " United-States",
         " <=50K"
        ],
        [
         "4",
         "28",
         " Private",
         "338409",
         " Bachelors",
         "13",
         " Married-civ-spouse",
         " Prof-specialty",
         " Wife",
         " Black",
         " Female",
         "0",
         "0",
         "40",
         " Cuba",
         " <=50K"
        ]
       ],
       "shape": {
        "columns": 15,
        "rows": 5
       }
      },
      "text/html": [
       "<div>\n",
       "<style scoped>\n",
       "    .dataframe tbody tr th:only-of-type {\n",
       "        vertical-align: middle;\n",
       "    }\n",
       "\n",
       "    .dataframe tbody tr th {\n",
       "        vertical-align: top;\n",
       "    }\n",
       "\n",
       "    .dataframe thead th {\n",
       "        text-align: right;\n",
       "    }\n",
       "</style>\n",
       "<table border=\"1\" class=\"dataframe\">\n",
       "  <thead>\n",
       "    <tr style=\"text-align: right;\">\n",
       "      <th></th>\n",
       "      <th>Age</th>\n",
       "      <th>Workclass</th>\n",
       "      <th>fnlgwt</th>\n",
       "      <th>Education</th>\n",
       "      <th>Education Num</th>\n",
       "      <th>Marital Status</th>\n",
       "      <th>Occupation</th>\n",
       "      <th>Relationship</th>\n",
       "      <th>Race</th>\n",
       "      <th>Sex</th>\n",
       "      <th>Capital Gain</th>\n",
       "      <th>Capital Loss</th>\n",
       "      <th>Hours/Week</th>\n",
       "      <th>Country</th>\n",
       "      <th>Above/Below 50k</th>\n",
       "    </tr>\n",
       "  </thead>\n",
       "  <tbody>\n",
       "    <tr>\n",
       "      <th>0</th>\n",
       "      <td>39</td>\n",
       "      <td>State-gov</td>\n",
       "      <td>77516</td>\n",
       "      <td>Bachelors</td>\n",
       "      <td>13</td>\n",
       "      <td>Never-married</td>\n",
       "      <td>Adm-clerical</td>\n",
       "      <td>Not-in-family</td>\n",
       "      <td>White</td>\n",
       "      <td>Male</td>\n",
       "      <td>2174</td>\n",
       "      <td>0</td>\n",
       "      <td>40</td>\n",
       "      <td>United-States</td>\n",
       "      <td>&lt;=50K</td>\n",
       "    </tr>\n",
       "    <tr>\n",
       "      <th>1</th>\n",
       "      <td>50</td>\n",
       "      <td>Self-emp-not-inc</td>\n",
       "      <td>83311</td>\n",
       "      <td>Bachelors</td>\n",
       "      <td>13</td>\n",
       "      <td>Married-civ-spouse</td>\n",
       "      <td>Exec-managerial</td>\n",
       "      <td>Husband</td>\n",
       "      <td>White</td>\n",
       "      <td>Male</td>\n",
       "      <td>0</td>\n",
       "      <td>0</td>\n",
       "      <td>13</td>\n",
       "      <td>United-States</td>\n",
       "      <td>&lt;=50K</td>\n",
       "    </tr>\n",
       "    <tr>\n",
       "      <th>2</th>\n",
       "      <td>38</td>\n",
       "      <td>Private</td>\n",
       "      <td>215646</td>\n",
       "      <td>HS-grad</td>\n",
       "      <td>9</td>\n",
       "      <td>Divorced</td>\n",
       "      <td>Handlers-cleaners</td>\n",
       "      <td>Not-in-family</td>\n",
       "      <td>White</td>\n",
       "      <td>Male</td>\n",
       "      <td>0</td>\n",
       "      <td>0</td>\n",
       "      <td>40</td>\n",
       "      <td>United-States</td>\n",
       "      <td>&lt;=50K</td>\n",
       "    </tr>\n",
       "    <tr>\n",
       "      <th>3</th>\n",
       "      <td>53</td>\n",
       "      <td>Private</td>\n",
       "      <td>234721</td>\n",
       "      <td>11th</td>\n",
       "      <td>7</td>\n",
       "      <td>Married-civ-spouse</td>\n",
       "      <td>Handlers-cleaners</td>\n",
       "      <td>Husband</td>\n",
       "      <td>Black</td>\n",
       "      <td>Male</td>\n",
       "      <td>0</td>\n",
       "      <td>0</td>\n",
       "      <td>40</td>\n",
       "      <td>United-States</td>\n",
       "      <td>&lt;=50K</td>\n",
       "    </tr>\n",
       "    <tr>\n",
       "      <th>4</th>\n",
       "      <td>28</td>\n",
       "      <td>Private</td>\n",
       "      <td>338409</td>\n",
       "      <td>Bachelors</td>\n",
       "      <td>13</td>\n",
       "      <td>Married-civ-spouse</td>\n",
       "      <td>Prof-specialty</td>\n",
       "      <td>Wife</td>\n",
       "      <td>Black</td>\n",
       "      <td>Female</td>\n",
       "      <td>0</td>\n",
       "      <td>0</td>\n",
       "      <td>40</td>\n",
       "      <td>Cuba</td>\n",
       "      <td>&lt;=50K</td>\n",
       "    </tr>\n",
       "  </tbody>\n",
       "</table>\n",
       "</div>"
      ],
      "text/plain": [
       "   Age          Workclass  fnlgwt   Education  Education Num  \\\n",
       "0   39          State-gov   77516   Bachelors             13   \n",
       "1   50   Self-emp-not-inc   83311   Bachelors             13   \n",
       "2   38            Private  215646     HS-grad              9   \n",
       "3   53            Private  234721        11th              7   \n",
       "4   28            Private  338409   Bachelors             13   \n",
       "\n",
       "        Marital Status          Occupation    Relationship    Race      Sex  \\\n",
       "0        Never-married        Adm-clerical   Not-in-family   White     Male   \n",
       "1   Married-civ-spouse     Exec-managerial         Husband   White     Male   \n",
       "2             Divorced   Handlers-cleaners   Not-in-family   White     Male   \n",
       "3   Married-civ-spouse   Handlers-cleaners         Husband   Black     Male   \n",
       "4   Married-civ-spouse      Prof-specialty            Wife   Black   Female   \n",
       "\n",
       "   Capital Gain  Capital Loss  Hours/Week         Country Above/Below 50k  \n",
       "0          2174             0          40   United-States           <=50K  \n",
       "1             0             0          13   United-States           <=50K  \n",
       "2             0             0          40   United-States           <=50K  \n",
       "3             0             0          40   United-States           <=50K  \n",
       "4             0             0          40            Cuba           <=50K  "
      ]
     },
     "execution_count": 91,
     "metadata": {},
     "output_type": "execute_result"
    }
   ],
   "source": [
    "adult = pd.read_csv(\"data/adult.csv\")\n",
    "adult.head()"
   ]
  },
  {
   "cell_type": "code",
   "execution_count": 92,
   "id": "9d13bcf1",
   "metadata": {},
   "outputs": [
    {
     "name": "stdout",
     "output_type": "stream",
     "text": [
      "<class 'pandas.core.frame.DataFrame'>\n",
      "RangeIndex: 32561 entries, 0 to 32560\n",
      "Data columns (total 15 columns):\n",
      " #   Column           Non-Null Count  Dtype \n",
      "---  ------           --------------  ----- \n",
      " 0   Age              32561 non-null  int64 \n",
      " 1   Workclass        32561 non-null  object\n",
      " 2   fnlgwt           32561 non-null  int64 \n",
      " 3   Education        32561 non-null  object\n",
      " 4   Education Num    32561 non-null  int64 \n",
      " 5   Marital Status   32561 non-null  object\n",
      " 6   Occupation       32561 non-null  object\n",
      " 7   Relationship     32561 non-null  object\n",
      " 8   Race             32561 non-null  object\n",
      " 9   Sex              32561 non-null  object\n",
      " 10  Capital Gain     32561 non-null  int64 \n",
      " 11  Capital Loss     32561 non-null  int64 \n",
      " 12  Hours/Week       32561 non-null  int64 \n",
      " 13  Country          32561 non-null  object\n",
      " 14  Above/Below 50k  32561 non-null  object\n",
      "dtypes: int64(6), object(9)\n",
      "memory usage: 3.7+ MB\n"
     ]
    }
   ],
   "source": [
    "adult.info()"
   ]
  },
  {
   "cell_type": "code",
   "execution_count": 93,
   "id": "42e0fed1",
   "metadata": {},
   "outputs": [
    {
     "data": {
      "application/vnd.microsoft.datawrangler.viewer.v0+json": {
       "columns": [
        {
         "name": "index",
         "rawType": "object",
         "type": "string"
        },
        {
         "name": "Marital Status",
         "rawType": "object",
         "type": "unknown"
        }
       ],
       "ref": "8b75a47c-9124-4ea1-ad42-4c071a582e6c",
       "rows": [
        [
         "count",
         "32561"
        ],
        [
         "unique",
         "7"
        ],
        [
         "top",
         " Married-civ-spouse"
        ],
        [
         "freq",
         "14976"
        ]
       ],
       "shape": {
        "columns": 1,
        "rows": 4
       }
      },
      "text/plain": [
       "count                   32561\n",
       "unique                      7\n",
       "top        Married-civ-spouse\n",
       "freq                    14976\n",
       "Name: Marital Status, dtype: object"
      ]
     },
     "execution_count": 93,
     "metadata": {},
     "output_type": "execute_result"
    }
   ],
   "source": [
    "adult[\"Marital Status\"].describe()"
   ]
  },
  {
   "cell_type": "code",
   "execution_count": 94,
   "id": "68c9fc25",
   "metadata": {},
   "outputs": [
    {
     "data": {
      "application/vnd.microsoft.datawrangler.viewer.v0+json": {
       "columns": [
        {
         "name": "Marital Status",
         "rawType": "object",
         "type": "string"
        },
        {
         "name": "count",
         "rawType": "int64",
         "type": "integer"
        }
       ],
       "ref": "4cf2fe7e-3cbb-4084-92b9-27e6484e8402",
       "rows": [
        [
         " Married-civ-spouse",
         "14976"
        ],
        [
         " Never-married",
         "10683"
        ],
        [
         " Divorced",
         "4443"
        ],
        [
         " Separated",
         "1025"
        ],
        [
         " Widowed",
         "993"
        ],
        [
         " Married-spouse-absent",
         "418"
        ],
        [
         " Married-AF-spouse",
         "23"
        ]
       ],
       "shape": {
        "columns": 1,
        "rows": 7
       }
      },
      "text/plain": [
       "Marital Status\n",
       "Married-civ-spouse       14976\n",
       "Never-married            10683\n",
       "Divorced                  4443\n",
       "Separated                 1025\n",
       "Widowed                    993\n",
       "Married-spouse-absent      418\n",
       "Married-AF-spouse           23\n",
       "Name: count, dtype: int64"
      ]
     },
     "execution_count": 94,
     "metadata": {},
     "output_type": "execute_result"
    }
   ],
   "source": [
    "adult[\"Marital Status\"].value_counts()"
   ]
  },
  {
   "cell_type": "code",
   "execution_count": 95,
   "id": "28c3421a",
   "metadata": {},
   "outputs": [
    {
     "data": {
      "application/vnd.microsoft.datawrangler.viewer.v0+json": {
       "columns": [
        {
         "name": "Marital Status",
         "rawType": "object",
         "type": "string"
        },
        {
         "name": "proportion",
         "rawType": "float64",
         "type": "float"
        }
       ],
       "ref": "4b73e61d-9fcf-4c75-a862-079ba57c37f0",
       "rows": [
        [
         " Married-civ-spouse",
         "0.4599"
        ],
        [
         " Never-married",
         "0.3281"
        ],
        [
         " Divorced",
         "0.1365"
        ],
        [
         " Separated",
         "0.0315"
        ],
        [
         " Widowed",
         "0.0305"
        ],
        [
         " Married-spouse-absent",
         "0.0128"
        ],
        [
         " Married-AF-spouse",
         "0.0007"
        ]
       ],
       "shape": {
        "columns": 1,
        "rows": 7
       }
      },
      "text/plain": [
       "Marital Status\n",
       "Married-civ-spouse       0.4599\n",
       "Never-married            0.3281\n",
       "Divorced                 0.1365\n",
       "Separated                0.0315\n",
       "Widowed                  0.0305\n",
       "Married-spouse-absent    0.0128\n",
       "Married-AF-spouse        0.0007\n",
       "Name: proportion, dtype: float64"
      ]
     },
     "execution_count": 95,
     "metadata": {},
     "output_type": "execute_result"
    }
   ],
   "source": [
    "adult[\"Marital Status\"].value_counts(normalize=True).round(4)"
   ]
  },
  {
   "cell_type": "markdown",
   "id": "0baae332",
   "metadata": {},
   "source": [
    "### Exploring a target variable\n",
    "You have been asked to build a machine learning model to predict whether or not a person makes over $50,000 in a year. To understand the target variable, Above/Below 50k, you decide to explore the variable in more detail.\n",
    "\n",
    "The Python package pandas will be used throughout this course and will be loaded as pd throughout. The adult census income dataset, `adult`, has also been preloaded for you."
   ]
  },
  {
   "cell_type": "code",
   "execution_count": 96,
   "id": "a86d9020",
   "metadata": {},
   "outputs": [
    {
     "data": {
      "application/vnd.microsoft.datawrangler.viewer.v0+json": {
       "columns": [
        {
         "name": "index",
         "rawType": "object",
         "type": "string"
        },
        {
         "name": "Above/Below 50k",
         "rawType": "object",
         "type": "unknown"
        }
       ],
       "ref": "010ad10c-dbfd-4a69-a5d0-7a5a547e6849",
       "rows": [
        [
         "count",
         "32561"
        ],
        [
         "unique",
         "2"
        ],
        [
         "top",
         " <=50K"
        ],
        [
         "freq",
         "24720"
        ]
       ],
       "shape": {
        "columns": 1,
        "rows": 4
       }
      },
      "text/plain": [
       "count      32561\n",
       "unique         2\n",
       "top        <=50K\n",
       "freq       24720\n",
       "Name: Above/Below 50k, dtype: object"
      ]
     },
     "execution_count": 96,
     "metadata": {},
     "output_type": "execute_result"
    }
   ],
   "source": [
    "# Explore the Above/Below 50k variable by printing out a description of the variable's contents.\n",
    "adult[\"Above/Below 50k\"].describe()"
   ]
  },
  {
   "cell_type": "code",
   "execution_count": 97,
   "id": "6340390c",
   "metadata": {},
   "outputs": [
    {
     "data": {
      "application/vnd.microsoft.datawrangler.viewer.v0+json": {
       "columns": [
        {
         "name": "Above/Below 50k",
         "rawType": "object",
         "type": "string"
        },
        {
         "name": "count",
         "rawType": "int64",
         "type": "integer"
        }
       ],
       "ref": "e7ce8d26-e4cc-4c03-97d5-6b33b35e5c54",
       "rows": [
        [
         " <=50K",
         "24720"
        ],
        [
         " >50K",
         "7841"
        ]
       ],
       "shape": {
        "columns": 1,
        "rows": 2
       }
      },
      "text/plain": [
       "Above/Below 50k\n",
       "<=50K    24720\n",
       ">50K      7841\n",
       "Name: count, dtype: int64"
      ]
     },
     "execution_count": 97,
     "metadata": {},
     "output_type": "execute_result"
    }
   ],
   "source": [
    "# Explore the Above/Below 50k variable by printing out a frequency table of the values found in this column.\n",
    "adult[\"Above/Below 50k\"].value_counts()"
   ]
  },
  {
   "cell_type": "code",
   "execution_count": 98,
   "id": "9e44200e",
   "metadata": {},
   "outputs": [
    {
     "data": {
      "application/vnd.microsoft.datawrangler.viewer.v0+json": {
       "columns": [
        {
         "name": "Above/Below 50k",
         "rawType": "object",
         "type": "string"
        },
        {
         "name": "proportion",
         "rawType": "float64",
         "type": "float"
        }
       ],
       "ref": "c3d43ced-0ceb-414e-947d-0a1ae2a99fe5",
       "rows": [
        [
         " <=50K",
         "0.7592"
        ],
        [
         " >50K",
         "0.2408"
        ]
       ],
       "shape": {
        "columns": 1,
        "rows": 2
       }
      },
      "text/plain": [
       "Above/Below 50k\n",
       "<=50K    0.7592\n",
       ">50K     0.2408\n",
       "Name: proportion, dtype: float64"
      ]
     },
     "execution_count": 98,
     "metadata": {},
     "output_type": "execute_result"
    }
   ],
   "source": [
    "# Rerun .value_counts(), but this time print out the relative frequency values instead of the counts.\n",
    "adult[\"Above/Below 50k\"].value_counts(normalize=True).round(4)"
   ]
  },
  {
   "cell_type": "markdown",
   "id": "3f55e3ac",
   "metadata": {},
   "source": [
    "## Categorical Data in Pandas\n",
    "\n",
    "\n",
    "Pandas offers dedicated support for **categorical data**, which encompasses variables that take on a limited, usually fixed, set of possible values (categories or levels). This is distinct from numerical data and from string data stored with the generic `object` dtype. Using Pandas’ categorical data type brings **significant memory savings**, faster operations, and a more faithful representation of the underlying variable semantics.\n",
    "\n",
    "This guide outlines how to create, convert, and optimise categorical data in Pandas—using general, schema-agnostic strategies and best practices.\n",
    "\n",
    "\n",
    "### Recognising Data Types: `object` vs. `category`\n",
    "\n",
    "- **Object dtype:** By default, columns containing text or mixed types are stored as `object`.\n",
    "- **Category dtype:** Columns defined as `category` encode their values using integer codes and category labels.\n",
    "\n",
    "To examine your DataFrame’s column types:\n",
    "\n",
    "```python\n",
    "data_frame.dtypes\n",
    "```\n",
    "\n",
    "\n",
    "### Converting Columns to Categorical\n",
    "\n",
    "To convert any existing column to categorical type:\n",
    "\n",
    "```python\n",
    "data_frame[\"variable\"] = data_frame[\"variable\"].astype(\"category\")\n",
    "```\n",
    "\n",
    "This operation replaces a memory-intensive object column with a more efficient categorical representation. You can check the result:\n",
    "\n",
    "```python\n",
    "print(data_frame[\"variable\"].dtype)\n",
    "# Output: CategoricalDtype(categories=[...], ordered=False)\n",
    "```\n",
    "\n",
    "Categories are inferred from unique values in the column. The `ordered` property indicates whether the categories have an inherent order.\n",
    "\n",
    "\n",
    "### Creating a Categorical Series from Scratch\n",
    "\n",
    "You can define a categorical series directly, either from a list of values or by specifying both the categories and their order.\n",
    "\n",
    "**Generic construction:**\n",
    "\n",
    "```python\n",
    "import pandas as pd\n",
    "\n",
    "# Basic categorical (categories discovered automatically)\n",
    "series = pd.Series([\"A\", \"B\", \"C\", \"A\"], dtype=\"category\")\n",
    "\n",
    "# Categorical with explicit categories and order\n",
    "ordered_series = pd.Categorical(\n",
    "    [\"X\", \"Y\", \"X\", \"Z\"],\n",
    "    categories=[\"Z\", \"Y\", \"X\"],\n",
    "    ordered=True\n",
    ")\n",
    "```\n",
    "This approach is agnostic to specific domain names—useful for any discrete grouping variable.\n",
    "\n",
    "\n",
    "### Why Use Categorical Dtypes? (Memory & Performance)\n",
    "\n",
    "Converting string/object columns with repeated values to categorical can save significant memory and speed up group-based operations.\n",
    "\n",
    "**Example workflow:**\n",
    "\n",
    "```python\n",
    "# Examine memory usage before conversion\n",
    "before = data_frame[\"variable\"].nbytes\n",
    "\n",
    "# Convert to categorical\n",
    "data_frame[\"variable\"] = data_frame[\"variable\"].astype(\"category\")\n",
    "\n",
    "# Examine memory usage after conversion\n",
    "after = data_frame[\"variable\"].nbytes\n",
    "\n",
    "print(f\"Memory reduced from {before} to {after} bytes\")\n",
    "```\n",
    "\n",
    "This benefit is maximised in large datasets with many repeated values per column.\n",
    "\n",
    "### Reading Data as Categorical\n",
    "\n",
    "You can specify categorical dtypes at the time of data import for efficiency and clarity:\n",
    "\n",
    "```python\n",
    "column_types = {\"variable\": \"category\"}\n",
    "data_frame = pd.read_csv(\"file.csv\", dtype=column_types)\n",
    "```\n",
    "\n",
    "This ensures columns are efficiently represented from the outset, without requiring a post-import conversion.\n",
    "\n",
    "\n",
    "### Managing Categories\n",
    "\n",
    "- **Ordering categories:** For ordinal variables, use `ordered=True` and specify the sequence of categories.\n",
    "- **Changing categories:** Use `.cat` accessor methods (e.g., `.cat.reorder_categories()`, `.cat.add_categories()`, `.cat.remove_unused_categories()`) for advanced manipulation.\n",
    "- **Unused categories:** Categorical dtype can store levels not currently present in the data—useful for predefined schemas.\n",
    "\n",
    "\n",
    "### Best Practices\n",
    "\n",
    "- Use the categorical dtype for all variables representing a limited set of discrete values (qualitative, group, or label data).\n",
    "- Specify category order for ordinal data to enable correct sorting and comparisons.\n",
    "- For very large datasets, always check and convert text columns with few unique values to categorical for both performance and clarity.\n",
    "- Document the intended categories (and their order) as part of your data schema for reproducibility.\n",
    "\n",
    "\n",
    "Categorical data types in Pandas provide an efficient, expressive, and semantically correct way to handle qualitative variables. By adopting categorical dtype for all appropriate columns—regardless of domain or dataset—you gain memory efficiency, analytic clarity, and robust handling of qualitative data structures.\n"
   ]
  },
  {
   "cell_type": "code",
   "execution_count": 99,
   "id": "3c368f29",
   "metadata": {},
   "outputs": [
    {
     "data": {
      "application/vnd.microsoft.datawrangler.viewer.v0+json": {
       "columns": [
        {
         "name": "index",
         "rawType": "object",
         "type": "string"
        },
        {
         "name": "0",
         "rawType": "object",
         "type": "unknown"
        }
       ],
       "ref": "c5012ba5-da1f-443f-ad6b-e724bc0b0ac5",
       "rows": [
        [
         "Age",
         "int64"
        ],
        [
         "Workclass",
         "object"
        ],
        [
         "fnlgwt",
         "int64"
        ],
        [
         "Education",
         "object"
        ],
        [
         "Education Num",
         "int64"
        ],
        [
         "Marital Status",
         "object"
        ],
        [
         "Occupation",
         "object"
        ],
        [
         "Relationship",
         "object"
        ],
        [
         "Race",
         "object"
        ],
        [
         "Sex",
         "object"
        ],
        [
         "Capital Gain",
         "int64"
        ],
        [
         "Capital Loss",
         "int64"
        ],
        [
         "Hours/Week",
         "int64"
        ],
        [
         "Country",
         "object"
        ],
        [
         "Above/Below 50k",
         "object"
        ]
       ],
       "shape": {
        "columns": 1,
        "rows": 15
       }
      },
      "text/plain": [
       "Age                 int64\n",
       "Workclass          object\n",
       "fnlgwt              int64\n",
       "Education          object\n",
       "Education Num       int64\n",
       "Marital Status     object\n",
       "Occupation         object\n",
       "Relationship       object\n",
       "Race               object\n",
       "Sex                object\n",
       "Capital Gain        int64\n",
       "Capital Loss        int64\n",
       "Hours/Week          int64\n",
       "Country            object\n",
       "Above/Below 50k    object\n",
       "dtype: object"
      ]
     },
     "execution_count": 99,
     "metadata": {},
     "output_type": "execute_result"
    }
   ],
   "source": [
    "adult.dtypes"
   ]
  },
  {
   "cell_type": "code",
   "execution_count": 100,
   "id": "b4144858",
   "metadata": {},
   "outputs": [
    {
     "data": {
      "text/plain": [
       "dtype('O')"
      ]
     },
     "execution_count": 100,
     "metadata": {},
     "output_type": "execute_result"
    }
   ],
   "source": [
    "adult[\"Marital Status\"].dtype"
   ]
  },
  {
   "cell_type": "code",
   "execution_count": 101,
   "id": "0dcf9e10",
   "metadata": {},
   "outputs": [],
   "source": [
    "# Set as categorical\n",
    "adult[\"Marital Status\"] = adult[\"Marital Status\"].astype(\"category\")"
   ]
  },
  {
   "cell_type": "code",
   "execution_count": 102,
   "id": "9da5355b",
   "metadata": {},
   "outputs": [
    {
     "data": {
      "text/plain": [
       "CategoricalDtype(categories=[' Divorced', ' Married-AF-spouse', ' Married-civ-spouse',\n",
       "                  ' Married-spouse-absent', ' Never-married', ' Separated',\n",
       "                  ' Widowed'],\n",
       ", ordered=False, categories_dtype=object)"
      ]
     },
     "execution_count": 102,
     "metadata": {},
     "output_type": "execute_result"
    }
   ],
   "source": [
    "adult[\"Marital Status\"].dtype"
   ]
  },
  {
   "cell_type": "code",
   "execution_count": 103,
   "id": "60c6ce01",
   "metadata": {},
   "outputs": [
    {
     "data": {
      "text/plain": [
       "['A', 'A', 'C', 'B', 'C', 'A']\n",
       "Categories (3, object): ['C' < 'B' < 'A']"
      ]
     },
     "execution_count": 103,
     "metadata": {},
     "output_type": "execute_result"
    }
   ],
   "source": [
    "my_data = [\"A\", \"A\", \"C\", \"B\", \"C\", \"A\"]\n",
    "my_series = pd.Categorical(my_data, categories=[\"C\", \"B\", \"A\"], ordered=True)\n",
    "my_series"
   ]
  },
  {
   "cell_type": "code",
   "execution_count": 104,
   "id": "8416412b",
   "metadata": {},
   "outputs": [
    {
     "data": {
      "application/vnd.microsoft.datawrangler.viewer.v0+json": {
       "columns": [
        {
         "name": "index",
         "rawType": "int64",
         "type": "integer"
        },
        {
         "name": "Age",
         "rawType": "int64",
         "type": "integer"
        },
        {
         "name": "Workclass",
         "rawType": "object",
         "type": "string"
        },
        {
         "name": "fnlgwt",
         "rawType": "int64",
         "type": "integer"
        },
        {
         "name": "Education",
         "rawType": "object",
         "type": "string"
        },
        {
         "name": "Education Num",
         "rawType": "int64",
         "type": "integer"
        },
        {
         "name": "Marital Status",
         "rawType": "category",
         "type": "unknown"
        },
        {
         "name": "Occupation",
         "rawType": "object",
         "type": "string"
        },
        {
         "name": "Relationship",
         "rawType": "object",
         "type": "string"
        },
        {
         "name": "Race",
         "rawType": "object",
         "type": "string"
        },
        {
         "name": "Sex",
         "rawType": "object",
         "type": "string"
        },
        {
         "name": "Capital Gain",
         "rawType": "int64",
         "type": "integer"
        },
        {
         "name": "Capital Loss",
         "rawType": "int64",
         "type": "integer"
        },
        {
         "name": "Hours/Week",
         "rawType": "int64",
         "type": "integer"
        },
        {
         "name": "Country",
         "rawType": "object",
         "type": "string"
        },
        {
         "name": "Above/Below 50k",
         "rawType": "object",
         "type": "string"
        }
       ],
       "ref": "4a2cd7ef-10db-4d72-81e6-0be569f159c5",
       "rows": [
        [
         "0",
         "39",
         " State-gov",
         "77516",
         " Bachelors",
         "13",
         " Never-married",
         " Adm-clerical",
         " Not-in-family",
         " White",
         " Male",
         "2174",
         "0",
         "40",
         " United-States",
         " <=50K"
        ],
        [
         "1",
         "50",
         " Self-emp-not-inc",
         "83311",
         " Bachelors",
         "13",
         " Married-civ-spouse",
         " Exec-managerial",
         " Husband",
         " White",
         " Male",
         "0",
         "0",
         "13",
         " United-States",
         " <=50K"
        ],
        [
         "2",
         "38",
         " Private",
         "215646",
         " HS-grad",
         "9",
         " Divorced",
         " Handlers-cleaners",
         " Not-in-family",
         " White",
         " Male",
         "0",
         "0",
         "40",
         " United-States",
         " <=50K"
        ],
        [
         "3",
         "53",
         " Private",
         "234721",
         " 11th",
         "7",
         " Married-civ-spouse",
         " Handlers-cleaners",
         " Husband",
         " Black",
         " Male",
         "0",
         "0",
         "40",
         " United-States",
         " <=50K"
        ],
        [
         "4",
         "28",
         " Private",
         "338409",
         " Bachelors",
         "13",
         " Married-civ-spouse",
         " Prof-specialty",
         " Wife",
         " Black",
         " Female",
         "0",
         "0",
         "40",
         " Cuba",
         " <=50K"
        ]
       ],
       "shape": {
        "columns": 15,
        "rows": 5
       }
      },
      "text/html": [
       "<div>\n",
       "<style scoped>\n",
       "    .dataframe tbody tr th:only-of-type {\n",
       "        vertical-align: middle;\n",
       "    }\n",
       "\n",
       "    .dataframe tbody tr th {\n",
       "        vertical-align: top;\n",
       "    }\n",
       "\n",
       "    .dataframe thead th {\n",
       "        text-align: right;\n",
       "    }\n",
       "</style>\n",
       "<table border=\"1\" class=\"dataframe\">\n",
       "  <thead>\n",
       "    <tr style=\"text-align: right;\">\n",
       "      <th></th>\n",
       "      <th>Age</th>\n",
       "      <th>Workclass</th>\n",
       "      <th>fnlgwt</th>\n",
       "      <th>Education</th>\n",
       "      <th>Education Num</th>\n",
       "      <th>Marital Status</th>\n",
       "      <th>Occupation</th>\n",
       "      <th>Relationship</th>\n",
       "      <th>Race</th>\n",
       "      <th>Sex</th>\n",
       "      <th>Capital Gain</th>\n",
       "      <th>Capital Loss</th>\n",
       "      <th>Hours/Week</th>\n",
       "      <th>Country</th>\n",
       "      <th>Above/Below 50k</th>\n",
       "    </tr>\n",
       "  </thead>\n",
       "  <tbody>\n",
       "    <tr>\n",
       "      <th>0</th>\n",
       "      <td>39</td>\n",
       "      <td>State-gov</td>\n",
       "      <td>77516</td>\n",
       "      <td>Bachelors</td>\n",
       "      <td>13</td>\n",
       "      <td>Never-married</td>\n",
       "      <td>Adm-clerical</td>\n",
       "      <td>Not-in-family</td>\n",
       "      <td>White</td>\n",
       "      <td>Male</td>\n",
       "      <td>2174</td>\n",
       "      <td>0</td>\n",
       "      <td>40</td>\n",
       "      <td>United-States</td>\n",
       "      <td>&lt;=50K</td>\n",
       "    </tr>\n",
       "    <tr>\n",
       "      <th>1</th>\n",
       "      <td>50</td>\n",
       "      <td>Self-emp-not-inc</td>\n",
       "      <td>83311</td>\n",
       "      <td>Bachelors</td>\n",
       "      <td>13</td>\n",
       "      <td>Married-civ-spouse</td>\n",
       "      <td>Exec-managerial</td>\n",
       "      <td>Husband</td>\n",
       "      <td>White</td>\n",
       "      <td>Male</td>\n",
       "      <td>0</td>\n",
       "      <td>0</td>\n",
       "      <td>13</td>\n",
       "      <td>United-States</td>\n",
       "      <td>&lt;=50K</td>\n",
       "    </tr>\n",
       "    <tr>\n",
       "      <th>2</th>\n",
       "      <td>38</td>\n",
       "      <td>Private</td>\n",
       "      <td>215646</td>\n",
       "      <td>HS-grad</td>\n",
       "      <td>9</td>\n",
       "      <td>Divorced</td>\n",
       "      <td>Handlers-cleaners</td>\n",
       "      <td>Not-in-family</td>\n",
       "      <td>White</td>\n",
       "      <td>Male</td>\n",
       "      <td>0</td>\n",
       "      <td>0</td>\n",
       "      <td>40</td>\n",
       "      <td>United-States</td>\n",
       "      <td>&lt;=50K</td>\n",
       "    </tr>\n",
       "    <tr>\n",
       "      <th>3</th>\n",
       "      <td>53</td>\n",
       "      <td>Private</td>\n",
       "      <td>234721</td>\n",
       "      <td>11th</td>\n",
       "      <td>7</td>\n",
       "      <td>Married-civ-spouse</td>\n",
       "      <td>Handlers-cleaners</td>\n",
       "      <td>Husband</td>\n",
       "      <td>Black</td>\n",
       "      <td>Male</td>\n",
       "      <td>0</td>\n",
       "      <td>0</td>\n",
       "      <td>40</td>\n",
       "      <td>United-States</td>\n",
       "      <td>&lt;=50K</td>\n",
       "    </tr>\n",
       "    <tr>\n",
       "      <th>4</th>\n",
       "      <td>28</td>\n",
       "      <td>Private</td>\n",
       "      <td>338409</td>\n",
       "      <td>Bachelors</td>\n",
       "      <td>13</td>\n",
       "      <td>Married-civ-spouse</td>\n",
       "      <td>Prof-specialty</td>\n",
       "      <td>Wife</td>\n",
       "      <td>Black</td>\n",
       "      <td>Female</td>\n",
       "      <td>0</td>\n",
       "      <td>0</td>\n",
       "      <td>40</td>\n",
       "      <td>Cuba</td>\n",
       "      <td>&lt;=50K</td>\n",
       "    </tr>\n",
       "  </tbody>\n",
       "</table>\n",
       "</div>"
      ],
      "text/plain": [
       "   Age          Workclass  fnlgwt   Education  Education Num  \\\n",
       "0   39          State-gov   77516   Bachelors             13   \n",
       "1   50   Self-emp-not-inc   83311   Bachelors             13   \n",
       "2   38            Private  215646     HS-grad              9   \n",
       "3   53            Private  234721        11th              7   \n",
       "4   28            Private  338409   Bachelors             13   \n",
       "\n",
       "        Marital Status          Occupation    Relationship    Race      Sex  \\\n",
       "0        Never-married        Adm-clerical   Not-in-family   White     Male   \n",
       "1   Married-civ-spouse     Exec-managerial         Husband   White     Male   \n",
       "2             Divorced   Handlers-cleaners   Not-in-family   White     Male   \n",
       "3   Married-civ-spouse   Handlers-cleaners         Husband   Black     Male   \n",
       "4   Married-civ-spouse      Prof-specialty            Wife   Black   Female   \n",
       "\n",
       "   Capital Gain  Capital Loss  Hours/Week         Country Above/Below 50k  \n",
       "0          2174             0          40   United-States           <=50K  \n",
       "1             0             0          13   United-States           <=50K  \n",
       "2             0             0          40   United-States           <=50K  \n",
       "3             0             0          40   United-States           <=50K  \n",
       "4             0             0          40            Cuba           <=50K  "
      ]
     },
     "execution_count": 104,
     "metadata": {},
     "output_type": "execute_result"
    }
   ],
   "source": [
    "# Specify dtypes when reading data\n",
    "adult_dtypes = {\"Marital Status\":\"category\"}\n",
    "adult = pd.read_csv(\"data/adult.csv\", dtype=adult_dtypes)\n",
    "adult.head()"
   ]
  },
  {
   "cell_type": "code",
   "execution_count": 105,
   "id": "dd20fb84",
   "metadata": {},
   "outputs": [],
   "source": [
    "import ast\n",
    "\n",
    "# Read the text file and create a list of occupations\n",
    "\n",
    "with open(\"data/list_of_occupations.txt\", \"r\") as file:\n",
    "    content = file.read().strip()\n",
    "    # If the file contains a list-like structure, evaluate it safely\n",
    "    try:\n",
    "        list_of_occupations = ast.literal_eval(content)\n",
    "    except:\n",
    "        # If that fails, try splitting by quotes and filtering\n",
    "        list_of_occupations = [item.strip().strip(\"'\\\"\") for item in content.split(',') if item.strip().strip(\"'\\\"\")]\n"
   ]
  },
  {
   "cell_type": "code",
   "execution_count": 106,
   "id": "fee858c1",
   "metadata": {},
   "outputs": [
    {
     "data": {
      "application/vnd.microsoft.datawrangler.viewer.v0+json": {
       "columns": [
        {
         "name": "index",
         "rawType": "int64",
         "type": "integer"
        },
        {
         "name": "0",
         "rawType": "object",
         "type": "string"
        }
       ],
       "ref": "8ca9a13f-f19f-44eb-8b90-a601427f8c11",
       "rows": [
        [
         "0",
         "Data Scientist"
        ],
        [
         "1",
         "Data Analyst"
        ],
        [
         "2",
         "Data Scientist"
        ],
        [
         "3",
         "Statistician"
        ],
        [
         "4",
         "Data Scientist"
        ],
        [
         "5",
         "Data Scientist"
        ],
        [
         "6",
         "Statistician"
        ],
        [
         "7",
         "Data Scientist"
        ],
        [
         "8",
         "Data Analyst"
        ],
        [
         "9",
         "Data Analyst"
        ],
        [
         "10",
         "Data Scientist"
        ],
        [
         "11",
         "Data Scientist"
        ],
        [
         "12",
         "Data Scientist"
        ],
        [
         "13",
         "Data Scientist"
        ],
        [
         "14",
         "Data Scientist"
        ],
        [
         "15",
         "Data Analyst"
        ],
        [
         "16",
         "Data Scientist"
        ],
        [
         "17",
         "Data Scientist"
        ],
        [
         "18",
         "Data Analyst"
        ],
        [
         "19",
         "Data Scientist"
        ],
        [
         "20",
         "Data Scientist"
        ],
        [
         "21",
         "Data Scientist"
        ],
        [
         "22",
         "Data Scientist"
        ],
        [
         "23",
         "Data Scientist"
        ],
        [
         "24",
         "Data Scientist"
        ],
        [
         "25",
         "Data Analyst"
        ],
        [
         "26",
         "Data Scientist"
        ],
        [
         "27",
         "Data Scientist"
        ],
        [
         "28",
         "Data Scientist"
        ],
        [
         "29",
         "Data Scientist"
        ],
        [
         "30",
         "Data Analyst"
        ],
        [
         "31",
         "Data Scientist"
        ],
        [
         "32",
         "Data Scientist"
        ],
        [
         "33",
         "Data Scientist"
        ],
        [
         "34",
         "Data Scientist"
        ],
        [
         "35",
         "Data Scientist"
        ],
        [
         "36",
         "Statistician"
        ],
        [
         "37",
         "Data Analyst"
        ],
        [
         "38",
         "Data Scientist"
        ],
        [
         "39",
         "Data Scientist"
        ],
        [
         "40",
         "Data Scientist"
        ],
        [
         "41",
         "Data Analyst"
        ],
        [
         "42",
         "Data Scientist"
        ],
        [
         "43",
         "Data Scientist"
        ],
        [
         "44",
         "Data Analyst"
        ],
        [
         "45",
         "Data Scientist"
        ],
        [
         "46",
         "Data Scientist"
        ],
        [
         "47",
         "Data Analyst"
        ],
        [
         "48",
         "Data Analyst"
        ],
        [
         "49",
         "Data Scientist"
        ]
       ],
       "shape": {
        "columns": 1,
        "rows": 1871
       }
      },
      "text/plain": [
       "0       Data Scientist\n",
       "1         Data Analyst\n",
       "2       Data Scientist\n",
       "3         Statistician\n",
       "4       Data Scientist\n",
       "             ...      \n",
       "1866      Data Analyst\n",
       "1867      Data Analyst\n",
       "1868    Data Scientist\n",
       "1869    Data Scientist\n",
       "1870    Data Scientist\n",
       "Length: 1871, dtype: object"
      ]
     },
     "execution_count": 106,
     "metadata": {},
     "output_type": "execute_result"
    }
   ],
   "source": [
    "# Create a pandas Series, series1, using the list_of_occupations (do not set the dtype).\n",
    "series1 = pd.Series(list_of_occupations)\n",
    "series1\n"
   ]
  },
  {
   "cell_type": "code",
   "execution_count": 107,
   "id": "d957ff03",
   "metadata": {},
   "outputs": [
    {
     "name": "stdout",
     "output_type": "stream",
     "text": [
      "series1 data type: object\n",
      "series1 number of bytes: 14968\n"
     ]
    }
   ],
   "source": [
    "# Print both the data type and number of bytes used of this new Series.\n",
    "print(f\"series1 data type: {series1.dtype}\")\n",
    "print(f\"series1 number of bytes: {series1.nbytes}\")\n"
   ]
  },
  {
   "cell_type": "code",
   "execution_count": 108,
   "id": "0ed84326",
   "metadata": {},
   "outputs": [
    {
     "data": {
      "application/vnd.microsoft.datawrangler.viewer.v0+json": {
       "columns": [
        {
         "name": "index",
         "rawType": "int64",
         "type": "integer"
        },
        {
         "name": "0",
         "rawType": "category",
         "type": "unknown"
        }
       ],
       "ref": "3722073b-4acd-493c-8548-0a27809fbd75",
       "rows": [
        [
         "0",
         "Data Scientist"
        ],
        [
         "1",
         "Data Analyst"
        ],
        [
         "2",
         "Data Scientist"
        ],
        [
         "3",
         "Statistician"
        ],
        [
         "4",
         "Data Scientist"
        ]
       ],
       "shape": {
        "columns": 1,
        "rows": 5
       }
      },
      "text/plain": [
       "0    Data Scientist\n",
       "1      Data Analyst\n",
       "2    Data Scientist\n",
       "3      Statistician\n",
       "4    Data Scientist\n",
       "dtype: category\n",
       "Categories (3, object): ['Data Analyst', 'Data Scientist', 'Statistician']"
      ]
     },
     "execution_count": 108,
     "metadata": {},
     "output_type": "execute_result"
    }
   ],
   "source": [
    "# Create a second pandas Series, series2, using the list_of_occupations and set the dtype to \"category\".\n",
    "\n",
    "series2 = pd.Series(list_of_occupations, dtype=\"category\")\n",
    "series2.head()"
   ]
  },
  {
   "cell_type": "code",
   "execution_count": 109,
   "id": "0e732cdc",
   "metadata": {},
   "outputs": [
    {
     "name": "stdout",
     "output_type": "stream",
     "text": [
      "series2 data type: category\n",
      "series2 number of bytes: 1895\n"
     ]
    }
   ],
   "source": [
    "# Print both the data type and number of bytes used of this new Series.\n",
    "print(f\"series2 data type: {series2.dtype}\")\n",
    "print(f\"series2 number of bytes: {series2.nbytes}\")"
   ]
  },
  {
   "cell_type": "markdown",
   "id": "1164a7a6",
   "metadata": {},
   "source": [
    "### Creating a categorical pandas Series\n",
    "Another colleague at work has collected information on the number of \"Gold\", \"Silver\", and \"Bronze\" medals won by the USA at the Summer & Winter Olympics since 1896. She has provided this as a list, `medals_won`. Before taking a look at the total number of each medal won, you want to create a categorical pandas Series. However, you know that these medals have a specific order to them and that Gold is better than Silver, but Silver is better than Bronze. Use the object, `medals_won`, to help."
   ]
  },
  {
   "cell_type": "code",
   "execution_count": 110,
   "id": "60caf0e6",
   "metadata": {},
   "outputs": [],
   "source": [
    "import ast\n",
    "\n",
    "# Read the text file and create a list of occupations\n",
    "\n",
    "with open(\"data/medals_won.txt\", \"r\") as file:\n",
    "    content = file.read().strip()\n",
    "    # If the file contains a list-like structure, evaluate it safely\n",
    "    try:\n",
    "        medals_won = ast.literal_eval(content)\n",
    "    except:\n",
    "        # If that fails, try splitting by quotes and filtering\n",
    "        medals_won = [item.strip().strip(\"'\\\"\") for item in content.split(',') if item.strip().strip(\"'\\\"\")]\n"
   ]
  },
  {
   "cell_type": "markdown",
   "id": "40bf26f5",
   "metadata": {},
   "source": [
    "Create a categorical pandas Series without using `pd.Series()`.\n",
    "Specify the three known medal categories such that `\"Bronze\" < \"Silver\" < \"Gold\"`.\n"
   ]
  },
  {
   "cell_type": "code",
   "execution_count": 111,
   "id": "3fee3dd4",
   "metadata": {},
   "outputs": [
    {
     "name": "stdout",
     "output_type": "stream",
     "text": [
      "['Silver', 'Silver', 'Bronze', 'Silver', 'Gold', ..., 'Gold', 'Bronze', 'Silver', 'Gold', 'Gold']\n",
      "Length: 2828\n",
      "Categories (3, object): ['Bronze' < 'Silver' < 'Gold']\n",
      "category\n"
     ]
    }
   ],
   "source": [
    "medals = pd.Categorical(medals_won, categories=[\"Bronze\", \"Silver\", \"Gold\"], ordered=True)\n",
    "print(medals)\n",
    "print(medals.dtype)"
   ]
  },
  {
   "cell_type": "markdown",
   "id": "b47a3d93",
   "metadata": {},
   "source": [
    "### Setting dtype when reading data\n",
    "You are preparing to create a machine learning model to predict a person's income category using the adult census income dataset. You don't have access to any cloud resources and you want to make sure that your laptop will be able to load the full dataset and process its contents. You have read in the first five rows of the dataset `adult` to help you understand what kind of columns are available."
   ]
  },
  {
   "cell_type": "markdown",
   "id": "fdc701bd",
   "metadata": {},
   "source": [
    "#### Question\n",
    "Based on the data types in adult, which columns are good candidates for specifying a dtype of \"category\" when reading in the adult dataset?\n",
    "\n",
    "**Possible answers**:\n",
    "\n",
    "1) \"Age\", \"Education Num\", and \"Nationality\"\n",
    "\n",
    "2) \"Age\", \"Hours/Week\", and \"Capital Loss\"\n",
    "\n",
    "3) \"Workclass\", \"Education Num\", \"Hours/Week\", and \"Above/Below 50k\"\n",
    "\n",
    "4) \"Workclass\", \"Education\", \"Relationship\", \"Above/Below 50k\""
   ]
  },
  {
   "cell_type": "code",
   "execution_count": 112,
   "id": "1e1bece6",
   "metadata": {},
   "outputs": [
    {
     "data": {
      "application/vnd.microsoft.datawrangler.viewer.v0+json": {
       "columns": [
        {
         "name": "index",
         "rawType": "object",
         "type": "string"
        },
        {
         "name": "0",
         "rawType": "object",
         "type": "unknown"
        }
       ],
       "ref": "5139dbd3-fa5e-45f7-86ac-ece25e58b61d",
       "rows": [
        [
         "Age",
         "int64"
        ],
        [
         "Workclass",
         "object"
        ],
        [
         "fnlgwt",
         "int64"
        ],
        [
         "Education",
         "object"
        ],
        [
         "Education Num",
         "int64"
        ],
        [
         "Marital Status",
         "category"
        ],
        [
         "Occupation",
         "object"
        ],
        [
         "Relationship",
         "object"
        ],
        [
         "Race",
         "object"
        ],
        [
         "Sex",
         "object"
        ],
        [
         "Capital Gain",
         "int64"
        ],
        [
         "Capital Loss",
         "int64"
        ],
        [
         "Hours/Week",
         "int64"
        ],
        [
         "Country",
         "object"
        ],
        [
         "Above/Below 50k",
         "object"
        ]
       ],
       "shape": {
        "columns": 1,
        "rows": 15
       }
      },
      "text/plain": [
       "Age                   int64\n",
       "Workclass            object\n",
       "fnlgwt                int64\n",
       "Education            object\n",
       "Education Num         int64\n",
       "Marital Status     category\n",
       "Occupation           object\n",
       "Relationship         object\n",
       "Race                 object\n",
       "Sex                  object\n",
       "Capital Gain          int64\n",
       "Capital Loss          int64\n",
       "Hours/Week            int64\n",
       "Country              object\n",
       "Above/Below 50k      object\n",
       "dtype: object"
      ]
     },
     "execution_count": 112,
     "metadata": {},
     "output_type": "execute_result"
    }
   ],
   "source": [
    "adult.dtypes"
   ]
  },
  {
   "cell_type": "markdown",
   "id": "92df3bf8",
   "metadata": {},
   "source": [
    "Create a dictionary with keys: `\"Workclass\"`, `\"Education\"`, `\"Relationship\"`, and `\"Above/Below 50k\"`.<br>\n",
    "Set the value for each key to be `\"category\"`."
   ]
  },
  {
   "cell_type": "code",
   "execution_count": 113,
   "id": "c380006b",
   "metadata": {},
   "outputs": [],
   "source": [
    "adult_dtypes = {\"Workclass\": \"category\", \"Education\": \"category\", \"Relationship\":\"category\", \"Above/Below 50k\": \"category\"}"
   ]
  },
  {
   "cell_type": "code",
   "execution_count": 114,
   "id": "3287b234",
   "metadata": {},
   "outputs": [
    {
     "data": {
      "application/vnd.microsoft.datawrangler.viewer.v0+json": {
       "columns": [
        {
         "name": "index",
         "rawType": "int64",
         "type": "integer"
        },
        {
         "name": "Age",
         "rawType": "int64",
         "type": "integer"
        },
        {
         "name": "Workclass",
         "rawType": "category",
         "type": "unknown"
        },
        {
         "name": "fnlgwt",
         "rawType": "int64",
         "type": "integer"
        },
        {
         "name": "Education",
         "rawType": "category",
         "type": "unknown"
        },
        {
         "name": "Education Num",
         "rawType": "int64",
         "type": "integer"
        },
        {
         "name": "Marital Status",
         "rawType": "object",
         "type": "string"
        },
        {
         "name": "Occupation",
         "rawType": "object",
         "type": "string"
        },
        {
         "name": "Relationship",
         "rawType": "category",
         "type": "unknown"
        },
        {
         "name": "Race",
         "rawType": "object",
         "type": "string"
        },
        {
         "name": "Sex",
         "rawType": "object",
         "type": "string"
        },
        {
         "name": "Capital Gain",
         "rawType": "int64",
         "type": "integer"
        },
        {
         "name": "Capital Loss",
         "rawType": "int64",
         "type": "integer"
        },
        {
         "name": "Hours/Week",
         "rawType": "int64",
         "type": "integer"
        },
        {
         "name": "Country",
         "rawType": "object",
         "type": "string"
        },
        {
         "name": "Above/Below 50k",
         "rawType": "category",
         "type": "unknown"
        }
       ],
       "ref": "5e70c507-a0d8-40aa-9e60-4f46098106e0",
       "rows": [
        [
         "0",
         "39",
         " State-gov",
         "77516",
         " Bachelors",
         "13",
         " Never-married",
         " Adm-clerical",
         " Not-in-family",
         " White",
         " Male",
         "2174",
         "0",
         "40",
         " United-States",
         " <=50K"
        ],
        [
         "1",
         "50",
         " Self-emp-not-inc",
         "83311",
         " Bachelors",
         "13",
         " Married-civ-spouse",
         " Exec-managerial",
         " Husband",
         " White",
         " Male",
         "0",
         "0",
         "13",
         " United-States",
         " <=50K"
        ],
        [
         "2",
         "38",
         " Private",
         "215646",
         " HS-grad",
         "9",
         " Divorced",
         " Handlers-cleaners",
         " Not-in-family",
         " White",
         " Male",
         "0",
         "0",
         "40",
         " United-States",
         " <=50K"
        ],
        [
         "3",
         "53",
         " Private",
         "234721",
         " 11th",
         "7",
         " Married-civ-spouse",
         " Handlers-cleaners",
         " Husband",
         " Black",
         " Male",
         "0",
         "0",
         "40",
         " United-States",
         " <=50K"
        ],
        [
         "4",
         "28",
         " Private",
         "338409",
         " Bachelors",
         "13",
         " Married-civ-spouse",
         " Prof-specialty",
         " Wife",
         " Black",
         " Female",
         "0",
         "0",
         "40",
         " Cuba",
         " <=50K"
        ]
       ],
       "shape": {
        "columns": 15,
        "rows": 5
       }
      },
      "text/html": [
       "<div>\n",
       "<style scoped>\n",
       "    .dataframe tbody tr th:only-of-type {\n",
       "        vertical-align: middle;\n",
       "    }\n",
       "\n",
       "    .dataframe tbody tr th {\n",
       "        vertical-align: top;\n",
       "    }\n",
       "\n",
       "    .dataframe thead th {\n",
       "        text-align: right;\n",
       "    }\n",
       "</style>\n",
       "<table border=\"1\" class=\"dataframe\">\n",
       "  <thead>\n",
       "    <tr style=\"text-align: right;\">\n",
       "      <th></th>\n",
       "      <th>Age</th>\n",
       "      <th>Workclass</th>\n",
       "      <th>fnlgwt</th>\n",
       "      <th>Education</th>\n",
       "      <th>Education Num</th>\n",
       "      <th>Marital Status</th>\n",
       "      <th>Occupation</th>\n",
       "      <th>Relationship</th>\n",
       "      <th>Race</th>\n",
       "      <th>Sex</th>\n",
       "      <th>Capital Gain</th>\n",
       "      <th>Capital Loss</th>\n",
       "      <th>Hours/Week</th>\n",
       "      <th>Country</th>\n",
       "      <th>Above/Below 50k</th>\n",
       "    </tr>\n",
       "  </thead>\n",
       "  <tbody>\n",
       "    <tr>\n",
       "      <th>0</th>\n",
       "      <td>39</td>\n",
       "      <td>State-gov</td>\n",
       "      <td>77516</td>\n",
       "      <td>Bachelors</td>\n",
       "      <td>13</td>\n",
       "      <td>Never-married</td>\n",
       "      <td>Adm-clerical</td>\n",
       "      <td>Not-in-family</td>\n",
       "      <td>White</td>\n",
       "      <td>Male</td>\n",
       "      <td>2174</td>\n",
       "      <td>0</td>\n",
       "      <td>40</td>\n",
       "      <td>United-States</td>\n",
       "      <td>&lt;=50K</td>\n",
       "    </tr>\n",
       "    <tr>\n",
       "      <th>1</th>\n",
       "      <td>50</td>\n",
       "      <td>Self-emp-not-inc</td>\n",
       "      <td>83311</td>\n",
       "      <td>Bachelors</td>\n",
       "      <td>13</td>\n",
       "      <td>Married-civ-spouse</td>\n",
       "      <td>Exec-managerial</td>\n",
       "      <td>Husband</td>\n",
       "      <td>White</td>\n",
       "      <td>Male</td>\n",
       "      <td>0</td>\n",
       "      <td>0</td>\n",
       "      <td>13</td>\n",
       "      <td>United-States</td>\n",
       "      <td>&lt;=50K</td>\n",
       "    </tr>\n",
       "    <tr>\n",
       "      <th>2</th>\n",
       "      <td>38</td>\n",
       "      <td>Private</td>\n",
       "      <td>215646</td>\n",
       "      <td>HS-grad</td>\n",
       "      <td>9</td>\n",
       "      <td>Divorced</td>\n",
       "      <td>Handlers-cleaners</td>\n",
       "      <td>Not-in-family</td>\n",
       "      <td>White</td>\n",
       "      <td>Male</td>\n",
       "      <td>0</td>\n",
       "      <td>0</td>\n",
       "      <td>40</td>\n",
       "      <td>United-States</td>\n",
       "      <td>&lt;=50K</td>\n",
       "    </tr>\n",
       "    <tr>\n",
       "      <th>3</th>\n",
       "      <td>53</td>\n",
       "      <td>Private</td>\n",
       "      <td>234721</td>\n",
       "      <td>11th</td>\n",
       "      <td>7</td>\n",
       "      <td>Married-civ-spouse</td>\n",
       "      <td>Handlers-cleaners</td>\n",
       "      <td>Husband</td>\n",
       "      <td>Black</td>\n",
       "      <td>Male</td>\n",
       "      <td>0</td>\n",
       "      <td>0</td>\n",
       "      <td>40</td>\n",
       "      <td>United-States</td>\n",
       "      <td>&lt;=50K</td>\n",
       "    </tr>\n",
       "    <tr>\n",
       "      <th>4</th>\n",
       "      <td>28</td>\n",
       "      <td>Private</td>\n",
       "      <td>338409</td>\n",
       "      <td>Bachelors</td>\n",
       "      <td>13</td>\n",
       "      <td>Married-civ-spouse</td>\n",
       "      <td>Prof-specialty</td>\n",
       "      <td>Wife</td>\n",
       "      <td>Black</td>\n",
       "      <td>Female</td>\n",
       "      <td>0</td>\n",
       "      <td>0</td>\n",
       "      <td>40</td>\n",
       "      <td>Cuba</td>\n",
       "      <td>&lt;=50K</td>\n",
       "    </tr>\n",
       "  </tbody>\n",
       "</table>\n",
       "</div>"
      ],
      "text/plain": [
       "   Age          Workclass  fnlgwt   Education  Education Num  \\\n",
       "0   39          State-gov   77516   Bachelors             13   \n",
       "1   50   Self-emp-not-inc   83311   Bachelors             13   \n",
       "2   38            Private  215646     HS-grad              9   \n",
       "3   53            Private  234721        11th              7   \n",
       "4   28            Private  338409   Bachelors             13   \n",
       "\n",
       "        Marital Status          Occupation    Relationship    Race      Sex  \\\n",
       "0        Never-married        Adm-clerical   Not-in-family   White     Male   \n",
       "1   Married-civ-spouse     Exec-managerial         Husband   White     Male   \n",
       "2             Divorced   Handlers-cleaners   Not-in-family   White     Male   \n",
       "3   Married-civ-spouse   Handlers-cleaners         Husband   Black     Male   \n",
       "4   Married-civ-spouse      Prof-specialty            Wife   Black   Female   \n",
       "\n",
       "   Capital Gain  Capital Loss  Hours/Week         Country Above/Below 50k  \n",
       "0          2174             0          40   United-States           <=50K  \n",
       "1             0             0          13   United-States           <=50K  \n",
       "2             0             0          40   United-States           <=50K  \n",
       "3             0             0          40   United-States           <=50K  \n",
       "4             0             0          40            Cuba           <=50K  "
      ]
     },
     "execution_count": 114,
     "metadata": {},
     "output_type": "execute_result"
    }
   ],
   "source": [
    "# Use the newly created dictionary, adult_dtypes, when reading in adult.csv\n",
    "adult2 = pd.read_csv(\"data/adult.csv\", dtype=adult_dtypes)\n",
    "adult2.head()"
   ]
  },
  {
   "cell_type": "markdown",
   "id": "f54abeb9",
   "metadata": {},
   "source": [
    "## Grouping Data by Category in Pandas\n",
    "\n",
    "Grouping data is a fundamental operation in data analysis, enabling the computation of aggregate statistics and summaries within meaningful subsets. The Pandas `.groupby()` method provides a powerful, flexible, and efficient way to split data into groups, apply functions, and combine the results. This process—*split, apply, combine*—is central to both exploratory data analysis and data wrangling.\n",
    "\n",
    "This guide presents the principles, strategies, and best practices for grouping data by categorical variables in a fully general, schema-agnostic manner.\n",
    "\n",
    "\n",
    "### The Basics: Splitting Data with `.groupby()`\n",
    "\n",
    "The `.groupby()` operation partitions your DataFrame into distinct groups based on the unique values of one or more columns (often categorical). All subsequent computations (such as means, sums, counts, or custom functions) are performed **within each group**.\n",
    "\n",
    "**Syntax:**\n",
    "\n",
    "```python\n",
    "grouped_object = data_frame.groupby(by=\"category_column\")\n",
    "```\n",
    "- You can also group by a list of columns for hierarchical grouping:\n",
    "\n",
    "```python\n",
    "grouped_object = data_frame.groupby(by=[\"category1\", \"category2\"])\n",
    "```\n",
    "\n",
    "\n",
    "### Applying Aggregate Functions\n",
    "\n",
    "Once the data is grouped, apply aggregate functions to summarise the data within each group. This can be done in a chain or stored in an intermediate variable.\n",
    "\n",
    "**Common aggregate functions:**\n",
    "- `.mean()` – arithmetic mean of each group\n",
    "- `.sum()` – total of each group\n",
    "- `.size()` – number of items in each group\n",
    "- `.count()` – number of non-missing items in each group\n",
    "- `.median()`, `.min()`, `.max()`, `.std()`, `.var()` – standard statistics\n",
    "\n",
    "**Example:**\n",
    "\n",
    "```python\n",
    "# Compute the mean of all numeric columns, grouped by a categorical variable\n",
    "grouped_object = data_frame.groupby(by=\"category_column\")\n",
    "means = grouped_object.mean()\n",
    "```\n",
    "\n",
    "**One-liner:**\n",
    "\n",
    "```python\n",
    "data_frame.groupby(\"category_column\").mean()\n",
    "```\n",
    "\n",
    "\n",
    "### Specifying Columns for Aggregation\n",
    "\n",
    "- To aggregate only specific columns, subset them before calling the aggregate function:\n",
    "\n",
    "```python\n",
    "# Only computes the sum for selected columns\n",
    "data_frame.groupby(\"category_column\")[[\"numeric_col1\", \"numeric_col2\"]].sum()\n",
    "```\n",
    "\n",
    "- Alternatively, aggregate all numeric columns, then subset the result:\n",
    "\n",
    "```python\n",
    "# Aggregates all, then selects\n",
    "summary = data_frame.groupby(\"category_column\").sum()[[\"numeric_col1\", \"numeric_col2\"]]\n",
    "```\n",
    "\n",
    "- **Preferred**: Specify columns **before** aggregation, especially with large DataFrames, for efficiency.\n",
    "\n",
    "\n",
    "### Grouping by Multiple Columns\n",
    "\n",
    "Pandas allows grouping by more than one column to create higher-dimensional groupings.\n",
    "\n",
    "```python\n",
    "grouped_object = data_frame.groupby([\"category1\", \"category2\"])\n",
    "result = grouped_object.size()\n",
    "```\n",
    "- The result is a Series or DataFrame with a **MultiIndex** (hierarchical index), reflecting the combination of group keys.\n",
    "\n",
    "\n",
    "### Aggregate with Custom Functions\n",
    "\n",
    "Any function (built-in or custom) can be applied to grouped data via `.agg()`:\n",
    "\n",
    "```python\n",
    "# Apply multiple functions to one or more columns\n",
    "grouped_object.agg({\"numeric_col\": [\"mean\", \"sum\", \"std\"]})\n",
    "```\n",
    "\n",
    "- `.agg()` accepts dictionaries, lists of functions, or even lambda expressions for flexible summaries.\n",
    "\n",
    "\n",
    "### Output Types\n",
    "\n",
    "- Aggregating a **single column** produces a Series indexed by the group key(s).\n",
    "- Aggregating **multiple columns** yields a DataFrame with group key(s) as the index.\n",
    "\n",
    "\n",
    "### Best Practices\n",
    "\n",
    "- Always examine the output structure (`.head()`, `.info()`, `.index`) to ensure the result matches your expectations.\n",
    "- Use descriptive, meaningful column names when renaming aggregations, especially for downstream reporting.\n",
    "- For large datasets or complex grouping, consider `.groupby().agg()` for efficiency and flexibility.\n",
    "- Reset the index (`.reset_index()`) if you prefer a flat DataFrame rather than a grouped index after aggregation.\n",
    "\n",
    "- Grouped summaries allow direct comparison of distributions, central tendencies, and variability **between categories or subgroups**.\n",
    "- Enables fast exploratory analysis of relationships, trends, or disparities across different segments of the data.\n",
    "- Critical for feature engineering, data validation, and preparing data for further modelling.\n",
    "\n",
    "Grouping and aggregating by category is a core capability in Pandas, unlocking efficient, expressive, and semantically powerful ways to summarise, explore, and understand your data. By mastering `.groupby()`, you can produce accurate and insightful statistics for any categorical structure—regardless of variable names or context.\n"
   ]
  },
  {
   "cell_type": "code",
   "execution_count": 115,
   "id": "a45fd7d4",
   "metadata": {},
   "outputs": [
    {
     "data": {
      "application/vnd.microsoft.datawrangler.viewer.v0+json": {
       "columns": [
        {
         "name": "Above/Below 50k",
         "rawType": "object",
         "type": "string"
        },
        {
         "name": "Age",
         "rawType": "float64",
         "type": "float"
        },
        {
         "name": "fnlgwt",
         "rawType": "float64",
         "type": "float"
        },
        {
         "name": "Education Num",
         "rawType": "float64",
         "type": "float"
        },
        {
         "name": "Capital Gain",
         "rawType": "float64",
         "type": "float"
        },
        {
         "name": "Capital Loss",
         "rawType": "float64",
         "type": "float"
        },
        {
         "name": "Hours/Week",
         "rawType": "float64",
         "type": "float"
        }
       ],
       "ref": "ac1d930c-6f51-48db-94e1-af768e98fa57",
       "rows": [
        [
         " <=50K",
         "36.7837",
         "190340.8652",
         "9.5951",
         "148.7525",
         "53.1429",
         "38.8402"
        ],
        [
         " >50K",
         "44.2498",
         "188005.0",
         "11.6117",
         "4006.1425",
         "195.0015",
         "45.473"
        ]
       ],
       "shape": {
        "columns": 6,
        "rows": 2
       }
      },
      "text/html": [
       "<div>\n",
       "<style scoped>\n",
       "    .dataframe tbody tr th:only-of-type {\n",
       "        vertical-align: middle;\n",
       "    }\n",
       "\n",
       "    .dataframe tbody tr th {\n",
       "        vertical-align: top;\n",
       "    }\n",
       "\n",
       "    .dataframe thead th {\n",
       "        text-align: right;\n",
       "    }\n",
       "</style>\n",
       "<table border=\"1\" class=\"dataframe\">\n",
       "  <thead>\n",
       "    <tr style=\"text-align: right;\">\n",
       "      <th></th>\n",
       "      <th>Age</th>\n",
       "      <th>fnlgwt</th>\n",
       "      <th>Education Num</th>\n",
       "      <th>Capital Gain</th>\n",
       "      <th>Capital Loss</th>\n",
       "      <th>Hours/Week</th>\n",
       "    </tr>\n",
       "    <tr>\n",
       "      <th>Above/Below 50k</th>\n",
       "      <th></th>\n",
       "      <th></th>\n",
       "      <th></th>\n",
       "      <th></th>\n",
       "      <th></th>\n",
       "      <th></th>\n",
       "    </tr>\n",
       "  </thead>\n",
       "  <tbody>\n",
       "    <tr>\n",
       "      <th>&lt;=50K</th>\n",
       "      <td>36.7837</td>\n",
       "      <td>190340.8652</td>\n",
       "      <td>9.5951</td>\n",
       "      <td>148.7525</td>\n",
       "      <td>53.1429</td>\n",
       "      <td>38.8402</td>\n",
       "    </tr>\n",
       "    <tr>\n",
       "      <th>&gt;50K</th>\n",
       "      <td>44.2498</td>\n",
       "      <td>188005.0000</td>\n",
       "      <td>11.6117</td>\n",
       "      <td>4006.1425</td>\n",
       "      <td>195.0015</td>\n",
       "      <td>45.4730</td>\n",
       "    </tr>\n",
       "  </tbody>\n",
       "</table>\n",
       "</div>"
      ],
      "text/plain": [
       "                     Age       fnlgwt  Education Num  Capital Gain  \\\n",
       "Above/Below 50k                                                      \n",
       "<=50K            36.7837  190340.8652         9.5951      148.7525   \n",
       ">50K             44.2498  188005.0000        11.6117     4006.1425   \n",
       "\n",
       "                 Capital Loss  Hours/Week  \n",
       "Above/Below 50k                            \n",
       "<=50K                 53.1429     38.8402  \n",
       ">50K                 195.0015     45.4730  "
      ]
     },
     "execution_count": 115,
     "metadata": {},
     "output_type": "execute_result"
    }
   ],
   "source": [
    "groupby_object = adult.groupby(by=[\"Above/Below 50k\"]).mean(numeric_only=True).round(4)\n",
    "groupby_object"
   ]
  },
  {
   "cell_type": "code",
   "execution_count": 116,
   "id": "93b5ac4f",
   "metadata": {},
   "outputs": [
    {
     "data": {
      "application/vnd.microsoft.datawrangler.viewer.v0+json": {
       "columns": [
        {
         "name": "Above/Below 50k",
         "rawType": "object",
         "type": "string"
        },
        {
         "name": "Age",
         "rawType": "int64",
         "type": "integer"
        },
        {
         "name": "Education Num",
         "rawType": "int64",
         "type": "integer"
        }
       ],
       "ref": "9a43d62d-7749-46de-ba63-b55314ec8699",
       "rows": [
        [
         " <=50K",
         "909294",
         "237190"
        ],
        [
         " >50K",
         "346963",
         "91047"
        ]
       ],
       "shape": {
        "columns": 2,
        "rows": 2
       }
      },
      "text/html": [
       "<div>\n",
       "<style scoped>\n",
       "    .dataframe tbody tr th:only-of-type {\n",
       "        vertical-align: middle;\n",
       "    }\n",
       "\n",
       "    .dataframe tbody tr th {\n",
       "        vertical-align: top;\n",
       "    }\n",
       "\n",
       "    .dataframe thead th {\n",
       "        text-align: right;\n",
       "    }\n",
       "</style>\n",
       "<table border=\"1\" class=\"dataframe\">\n",
       "  <thead>\n",
       "    <tr style=\"text-align: right;\">\n",
       "      <th></th>\n",
       "      <th>Age</th>\n",
       "      <th>Education Num</th>\n",
       "    </tr>\n",
       "    <tr>\n",
       "      <th>Above/Below 50k</th>\n",
       "      <th></th>\n",
       "      <th></th>\n",
       "    </tr>\n",
       "  </thead>\n",
       "  <tbody>\n",
       "    <tr>\n",
       "      <th>&lt;=50K</th>\n",
       "      <td>909294</td>\n",
       "      <td>237190</td>\n",
       "    </tr>\n",
       "    <tr>\n",
       "      <th>&gt;50K</th>\n",
       "      <td>346963</td>\n",
       "      <td>91047</td>\n",
       "    </tr>\n",
       "  </tbody>\n",
       "</table>\n",
       "</div>"
      ],
      "text/plain": [
       "                    Age  Education Num\n",
       "Above/Below 50k                       \n",
       "<=50K            909294         237190\n",
       ">50K             346963          91047"
      ]
     },
     "execution_count": 116,
     "metadata": {},
     "output_type": "execute_result"
    }
   ],
   "source": [
    "# Specifying columns\n",
    "adult.groupby(by=[\"Above/Below 50k\"])[[\"Age\", \"Education Num\"]].sum()"
   ]
  },
  {
   "cell_type": "code",
   "execution_count": 117,
   "id": "b338ce17",
   "metadata": {},
   "outputs": [
    {
     "name": "stdout",
     "output_type": "stream",
     "text": [
      "Above/Below 50k  Marital Status       \n",
      "<=50K            Divorced                  3980\n",
      "                 Married-AF-spouse           13\n",
      "                 Married-civ-spouse        8284\n",
      "                 Married-spouse-absent      384\n",
      "                 Never-married            10192\n",
      "                 Separated                  959\n",
      "                 Widowed                    908\n",
      ">50K             Divorced                   463\n",
      "                 Married-AF-spouse           10\n",
      "                 Married-civ-spouse        6692\n",
      "                 Married-spouse-absent       34\n",
      "                 Never-married              491\n",
      "                 Separated                   66\n",
      "                 Widowed                     85\n",
      "dtype: int64\n"
     ]
    }
   ],
   "source": [
    "print(adult.groupby(by=[\"Above/Below 50k\", \"Marital Status\"], observed=True).size())\n"
   ]
  },
  {
   "cell_type": "markdown",
   "id": "22559e29",
   "metadata": {},
   "source": [
    "### Create lots of groups\n",
    "You want to find the mean Age of adults when grouping by the following categories:\n",
    "\n",
    "- `\"Workclass\"` (which has 9 categories)\n",
    "- `\"Above/Below 50k\"` (which has 2 categories)\n",
    "- `\"Education\"` (which has 16 categories).\n",
    "You have developed the following bit of code:\n",
    "```python\n",
    "gb = adult.groupby(by=[ \"Workclass\",\n",
    "                        \"Above/Below 50k\", \n",
    "                        \"Education\"])\n",
    "```\n",
    "How many groups are in the gb object and what is the maximum possible number of groups that could have been created? The dataset adult, and the gb object have been preloaded for you."
   ]
  },
  {
   "cell_type": "code",
   "execution_count": 118,
   "id": "b8d11586",
   "metadata": {},
   "outputs": [
    {
     "data": {
      "application/vnd.microsoft.datawrangler.viewer.v0+json": {
       "columns": [
        {
         "name": "('Workclass', 'Above/Below 50k', 'Education')",
         "rawType": "object",
         "type": "unknown"
        },
        {
         "name": "Age",
         "rawType": "float64",
         "type": "float"
        }
       ],
       "ref": "59d1fac3-6932-497e-9778-ad192443fe43",
       "rows": [
        [
         "(' ?', ' <=50K', ' 10th')",
         "33.357142857142854"
        ],
        [
         "(' ?', ' <=50K', ' 11th')",
         "32.3728813559322"
        ],
        [
         "(' ?', ' <=50K', ' 12th')",
         "30.736842105263158"
        ],
        [
         "(' ?', ' <=50K', ' 1st-4th')",
         "63.833333333333336"
        ],
        [
         "(' ?', ' <=50K', ' 5th-6th')",
         "53.642857142857146"
        ],
        [
         "(' ?', ' <=50K', ' 7th-8th')",
         "55.957142857142856"
        ],
        [
         "(' ?', ' <=50K', ' 9th')",
         "46.88"
        ],
        [
         "(' ?', ' <=50K', ' Assoc-acdm')",
         "38.26829268292683"
        ],
        [
         "(' ?', ' <=50K', ' Assoc-voc')",
         "45.979166666666664"
        ],
        [
         "(' ?', ' <=50K', ' Bachelors')",
         "44.171875"
        ],
        [
         "(' ?', ' <=50K', ' Doctorate')",
         "66.75"
        ],
        [
         "(' ?', ' <=50K', ' HS-grad')",
         "44.275720164609055"
        ],
        [
         "(' ?', ' <=50K', ' Masters')",
         "52.2"
        ],
        [
         "(' ?', ' <=50K', ' Preschool')",
         "54.8"
        ],
        [
         "(' ?', ' <=50K', ' Prof-school')",
         "62.0"
        ],
        [
         "(' ?', ' <=50K', ' Some-college')",
         "29.47599164926931"
        ],
        [
         "(' ?', ' >50K', ' 10th')",
         "64.5"
        ],
        [
         "(' ?', ' >50K', ' 12th')",
         "35.5"
        ],
        [
         "(' ?', ' >50K', ' 5th-6th')",
         "58.5"
        ],
        [
         "(' ?', ' >50K', ' 7th-8th')",
         "61.5"
        ],
        [
         "(' ?', ' >50K', ' 9th')",
         "63.0"
        ],
        [
         "(' ?', ' >50K', ' Assoc-acdm')",
         "59.5"
        ],
        [
         "(' ?', ' >50K', ' Assoc-voc')",
         "43.69230769230769"
        ],
        [
         "(' ?', ' >50K', ' Bachelors')",
         "52.91111111111111"
        ],
        [
         "(' ?', ' >50K', ' Doctorate')",
         "62.45454545454545"
        ],
        [
         "(' ?', ' >50K', ' HS-grad')",
         "58.08695652173913"
        ],
        [
         "(' ?', ' >50K', ' Masters')",
         "56.388888888888886"
        ],
        [
         "(' ?', ' >50K', ' Prof-school')",
         "65.5"
        ],
        [
         "(' ?', ' >50K', ' Some-college')",
         "54.74285714285714"
        ],
        [
         "(' Federal-gov', ' <=50K', ' 10th')",
         "54.333333333333336"
        ],
        [
         "(' Federal-gov', ' <=50K', ' 11th')",
         "41.5"
        ],
        [
         "(' Federal-gov', ' <=50K', ' 12th')",
         "36.0"
        ],
        [
         "(' Federal-gov', ' <=50K', ' 5th-6th')",
         "35.0"
        ],
        [
         "(' Federal-gov', ' <=50K', ' 7th-8th')",
         "56.0"
        ],
        [
         "(' Federal-gov', ' <=50K', ' 9th')",
         "32.5"
        ],
        [
         "(' Federal-gov', ' <=50K', ' Assoc-acdm')",
         "37.583333333333336"
        ],
        [
         "(' Federal-gov', ' <=50K', ' Assoc-voc')",
         "41.391304347826086"
        ],
        [
         "(' Federal-gov', ' <=50K', ' Bachelors')",
         "38.427350427350426"
        ],
        [
         "(' Federal-gov', ' <=50K', ' Doctorate')",
         "34.0"
        ],
        [
         "(' Federal-gov', ' <=50K', ' HS-grad')",
         "41.810526315789474"
        ],
        [
         "(' Federal-gov', ' <=50K', ' Masters')",
         "45.2"
        ],
        [
         "(' Federal-gov', ' <=50K', ' Prof-school')",
         "29.833333333333332"
        ],
        [
         "(' Federal-gov', ' <=50K', ' Some-college')",
         "40.7906976744186"
        ],
        [
         "(' Federal-gov', ' >50K', ' 11th')",
         "58.0"
        ],
        [
         "(' Federal-gov', ' >50K', ' 9th')",
         "39.0"
        ],
        [
         "(' Federal-gov', ' >50K', ' Assoc-acdm')",
         "46.10526315789474"
        ],
        [
         "(' Federal-gov', ' >50K', ' Assoc-voc')",
         "41.86666666666667"
        ],
        [
         "(' Federal-gov', ' >50K', ' Bachelors')",
         "44.863157894736844"
        ],
        [
         "(' Federal-gov', ' >50K', ' Doctorate')",
         "50.13333333333333"
        ],
        [
         "(' Federal-gov', ' >50K', ' HS-grad')",
         "47.23287671232877"
        ]
       ],
       "shape": {
        "columns": 1,
        "rows": 208
       }
      },
      "text/plain": [
       "Workclass    Above/Below 50k  Education   \n",
       "?            <=50K            10th            33.357143\n",
       "                              11th            32.372881\n",
       "                              12th            30.736842\n",
       "                              1st-4th         63.833333\n",
       "                              5th-6th         53.642857\n",
       "                                                ...    \n",
       "State-gov    >50K             Some-college    44.322581\n",
       "Without-pay  <=50K            7th-8th         65.000000\n",
       "                              Assoc-acdm      62.000000\n",
       "                              HS-grad         42.555556\n",
       "                              Some-college    53.000000\n",
       "Name: Age, Length: 208, dtype: float64"
      ]
     },
     "execution_count": 118,
     "metadata": {},
     "output_type": "execute_result"
    }
   ],
   "source": [
    "gb = adult.groupby(by=[\"Workclass\", \"Above/Below 50k\", \"Education\"])[\"Age\"].mean()\n",
    "gb\n"
   ]
  },
  {
   "cell_type": "code",
   "execution_count": 119,
   "id": "1dcf1ac1",
   "metadata": {},
   "outputs": [
    {
     "name": "stdout",
     "output_type": "stream",
     "text": [
      "Sex     Above/Below 50k\n",
      "Female  <=50K               9592\n",
      "        >50K                1179\n",
      "Male    <=50K              15128\n",
      "        >50K                6662\n",
      "dtype: int64\n"
     ]
    },
    {
     "data": {
      "application/vnd.microsoft.datawrangler.viewer.v0+json": {
       "columns": [
        {
         "name": "('Sex', 'Above/Below 50k')",
         "rawType": "object",
         "type": "unknown"
        },
        {
         "name": "Age",
         "rawType": "float64",
         "type": "float"
        },
        {
         "name": "fnlgwt",
         "rawType": "float64",
         "type": "float"
        },
        {
         "name": "Education Num",
         "rawType": "float64",
         "type": "float"
        },
        {
         "name": "Capital Gain",
         "rawType": "float64",
         "type": "float"
        },
        {
         "name": "Capital Loss",
         "rawType": "float64",
         "type": "float"
        },
        {
         "name": "Hours/Week",
         "rawType": "float64",
         "type": "float"
        }
       ],
       "ref": "6fc2c32d-f627-4a73-ac9a-2b19238110b5",
       "rows": [
        [
         "(' Female', ' <=50K')",
         "36.210800667222685",
         "185999.38135946624",
         "9.82047539616347",
         "121.98613427856547",
         "47.36447039199333",
         "35.91670141784821"
        ],
        [
         "(' Female', ' >50K')",
         "42.125530110262936",
         "183687.4062765055",
         "11.787107718405428",
         "4200.3893129770995",
         "173.64885496183206",
         "40.426632739609836"
        ],
        [
         "(' Male', ' <=50K')",
         "37.147012162876784",
         "193093.6092675833",
         "9.45214172395558",
         "165.72382337387626",
         "56.806782125859336",
         "40.69387890005288"
        ],
        [
         "(' Male', ' >50K')",
         "44.62578805163614",
         "188769.10132092464",
         "11.580606424497148",
         "3971.7658360852597",
         "198.78039627739417",
         "46.366106274392074"
        ]
       ],
       "shape": {
        "columns": 6,
        "rows": 4
       }
      },
      "text/html": [
       "<div>\n",
       "<style scoped>\n",
       "    .dataframe tbody tr th:only-of-type {\n",
       "        vertical-align: middle;\n",
       "    }\n",
       "\n",
       "    .dataframe tbody tr th {\n",
       "        vertical-align: top;\n",
       "    }\n",
       "\n",
       "    .dataframe thead th {\n",
       "        text-align: right;\n",
       "    }\n",
       "</style>\n",
       "<table border=\"1\" class=\"dataframe\">\n",
       "  <thead>\n",
       "    <tr style=\"text-align: right;\">\n",
       "      <th></th>\n",
       "      <th></th>\n",
       "      <th>Age</th>\n",
       "      <th>fnlgwt</th>\n",
       "      <th>Education Num</th>\n",
       "      <th>Capital Gain</th>\n",
       "      <th>Capital Loss</th>\n",
       "      <th>Hours/Week</th>\n",
       "    </tr>\n",
       "    <tr>\n",
       "      <th>Sex</th>\n",
       "      <th>Above/Below 50k</th>\n",
       "      <th></th>\n",
       "      <th></th>\n",
       "      <th></th>\n",
       "      <th></th>\n",
       "      <th></th>\n",
       "      <th></th>\n",
       "    </tr>\n",
       "  </thead>\n",
       "  <tbody>\n",
       "    <tr>\n",
       "      <th rowspan=\"2\" valign=\"top\">Female</th>\n",
       "      <th>&lt;=50K</th>\n",
       "      <td>36.210801</td>\n",
       "      <td>185999.381359</td>\n",
       "      <td>9.820475</td>\n",
       "      <td>121.986134</td>\n",
       "      <td>47.364470</td>\n",
       "      <td>35.916701</td>\n",
       "    </tr>\n",
       "    <tr>\n",
       "      <th>&gt;50K</th>\n",
       "      <td>42.125530</td>\n",
       "      <td>183687.406277</td>\n",
       "      <td>11.787108</td>\n",
       "      <td>4200.389313</td>\n",
       "      <td>173.648855</td>\n",
       "      <td>40.426633</td>\n",
       "    </tr>\n",
       "    <tr>\n",
       "      <th rowspan=\"2\" valign=\"top\">Male</th>\n",
       "      <th>&lt;=50K</th>\n",
       "      <td>37.147012</td>\n",
       "      <td>193093.609268</td>\n",
       "      <td>9.452142</td>\n",
       "      <td>165.723823</td>\n",
       "      <td>56.806782</td>\n",
       "      <td>40.693879</td>\n",
       "    </tr>\n",
       "    <tr>\n",
       "      <th>&gt;50K</th>\n",
       "      <td>44.625788</td>\n",
       "      <td>188769.101321</td>\n",
       "      <td>11.580606</td>\n",
       "      <td>3971.765836</td>\n",
       "      <td>198.780396</td>\n",
       "      <td>46.366106</td>\n",
       "    </tr>\n",
       "  </tbody>\n",
       "</table>\n",
       "</div>"
      ],
      "text/plain": [
       "                              Age         fnlgwt  Education Num  Capital Gain  \\\n",
       "Sex    Above/Below 50k                                                          \n",
       "Female <=50K            36.210801  185999.381359       9.820475    121.986134   \n",
       "       >50K             42.125530  183687.406277      11.787108   4200.389313   \n",
       "Male   <=50K            37.147012  193093.609268       9.452142    165.723823   \n",
       "       >50K             44.625788  188769.101321      11.580606   3971.765836   \n",
       "\n",
       "                        Capital Loss  Hours/Week  \n",
       "Sex    Above/Below 50k                            \n",
       "Female <=50K               47.364470   35.916701  \n",
       "       >50K               173.648855   40.426633  \n",
       "Male   <=50K               56.806782   40.693879  \n",
       "       >50K               198.780396   46.366106  "
      ]
     },
     "metadata": {},
     "output_type": "display_data"
    }
   ],
   "source": [
    "# Split the adult dataset across the \"Sex\" and \"Above/Below 50k\" columns, saving this object as gb.\n",
    "gb = adult.groupby(by=[\"Sex\", \"Above/Below 50k\"])\n",
    "\n",
    "# Print out the number of observations found in each group.\n",
    "print(gb.size())\n",
    "\n",
    "# Using gb, find the average of each numerical column.\n",
    "display(gb.mean(numeric_only=True))\n"
   ]
  },
  {
   "cell_type": "markdown",
   "id": "c516b7cd",
   "metadata": {},
   "source": [
    "### Using pandas functions effectively\n",
    "You are creating a Python application that will calculate summary statistics based on user-selected variables. The complete dataset is quite large. For now, you are setting up your code using part of the dataset, preloaded as `adult`. As you create a reusable process, make sure you are thinking through the most efficient way to setup the `GroupBy` object."
   ]
  },
  {
   "cell_type": "code",
   "execution_count": 120,
   "id": "7797da6c",
   "metadata": {},
   "outputs": [
    {
     "data": {
      "application/vnd.microsoft.datawrangler.viewer.v0+json": {
       "columns": [
        {
         "name": "('Education', 'Above/Below 50k')",
         "rawType": "object",
         "type": "unknown"
        },
        {
         "name": "Hours/Week",
         "rawType": "float64",
         "type": "float"
        }
       ],
       "ref": "17f6adb4-3d4a-4619-b873-ac583d4abc5c",
       "rows": [
        [
         "(' 10th', ' <=50K')",
         "36.5741"
        ],
        [
         "(' 10th', ' >50K')",
         "43.7742"
        ],
        [
         "(' 11th', ' <=50K')",
         "33.3229"
        ],
        [
         "(' 11th', ' >50K')",
         "45.1333"
        ],
        [
         "(' 12th', ' <=50K')",
         "35.035"
        ],
        [
         "(' 12th', ' >50K')",
         "44.8182"
        ],
        [
         "(' 1st-4th', ' <=50K')",
         "37.8642"
        ],
        [
         "(' 1st-4th', ' >50K')",
         "48.8333"
        ],
        [
         "(' 5th-6th', ' <=50K')",
         "38.5394"
        ],
        [
         "(' 5th-6th', ' >50K')",
         "46.0"
        ],
        [
         "(' 7th-8th', ' <=50K')",
         "38.83"
        ],
        [
         "(' 7th-8th', ' >50K')",
         "47.5"
        ],
        [
         "(' 9th', ' <=50K')",
         "37.6674"
        ],
        [
         "(' 9th', ' >50K')",
         "44.8519"
        ],
        [
         "(' Assoc-acdm', ' <=50K')",
         "39.2643"
        ],
        [
         "(' Assoc-acdm', ' >50K')",
         "44.2566"
        ],
        [
         "(' Assoc-voc', ' <=50K')",
         "40.8178"
        ],
        [
         "(' Assoc-voc', ' >50K')",
         "43.8532"
        ],
        [
         "(' Bachelors', ' <=50K')",
         "40.5862"
        ],
        [
         "(' Bachelors', ' >50K')",
         "45.4755"
        ],
        [
         "(' Doctorate', ' <=50K')",
         "45.4299"
        ],
        [
         "(' Doctorate', ' >50K')",
         "47.5131"
        ],
        [
         "(' HS-grad', ' <=50K')",
         "39.7275"
        ],
        [
         "(' HS-grad', ' >50K')",
         "45.043"
        ],
        [
         "(' Masters', ' <=50K')",
         "41.2238"
        ],
        [
         "(' Masters', ' >50K')",
         "45.9176"
        ],
        [
         "(' Preschool', ' <=50K')",
         "36.6471"
        ],
        [
         "(' Prof-school', ' <=50K')",
         "42.817"
        ],
        [
         "(' Prof-school', ' >50K')",
         "49.0922"
        ],
        [
         "(' Some-college', ' <=50K')",
         "37.4502"
        ],
        [
         "(' Some-college', ' >50K')",
         "44.8205"
        ]
       ],
       "shape": {
        "columns": 1,
        "rows": 31
       }
      },
      "text/plain": [
       "Education     Above/Below 50k\n",
       "10th          <=50K              36.5741\n",
       "              >50K               43.7742\n",
       "11th          <=50K              33.3229\n",
       "              >50K               45.1333\n",
       "12th          <=50K              35.0350\n",
       "              >50K               44.8182\n",
       "1st-4th       <=50K              37.8642\n",
       "              >50K               48.8333\n",
       "5th-6th       <=50K              38.5394\n",
       "              >50K               46.0000\n",
       "7th-8th       <=50K              38.8300\n",
       "              >50K               47.5000\n",
       "9th           <=50K              37.6674\n",
       "              >50K               44.8519\n",
       "Assoc-acdm    <=50K              39.2643\n",
       "              >50K               44.2566\n",
       "Assoc-voc     <=50K              40.8178\n",
       "              >50K               43.8532\n",
       "Bachelors     <=50K              40.5862\n",
       "              >50K               45.4755\n",
       "Doctorate     <=50K              45.4299\n",
       "              >50K               47.5131\n",
       "HS-grad       <=50K              39.7275\n",
       "              >50K               45.0430\n",
       "Masters       <=50K              41.2238\n",
       "              >50K               45.9176\n",
       "Preschool     <=50K              36.6471\n",
       "Prof-school   <=50K              42.8170\n",
       "              >50K               49.0922\n",
       "Some-college  <=50K              37.4502\n",
       "              >50K               44.8205\n",
       "Name: Hours/Week, dtype: float64"
      ]
     },
     "metadata": {},
     "output_type": "display_data"
    }
   ],
   "source": [
    "# Create a list of the names for two user-selected variables: \"Education\" and \"Above/Below 50k\".\n",
    "user_list = [\"Education\", \"Above/Below 50k\"]\n",
    "\n",
    "# Create a GroupBy object, gb, using the user_list as the grouping variables.\n",
    "gb = adult.groupby(by=user_list)\n",
    "\n",
    "# Calculate the mean of \"Hours/Week\" across each group using the most efficient approach covered in the video.\n",
    "display(gb[\"Hours/Week\"].mean(numeric_only=True).round(4))"
   ]
  },
  {
   "cell_type": "markdown",
   "id": "c3174b08",
   "metadata": {},
   "source": [
    "## Setting Category Variables in Pandas\n",
    "\n",
    "\n",
    "For categorical variables, precise control over the categories, their order, and their presence in your data is essential for analysis, statistics, and modelling. Pandas provides robust methods for managing categorical data via the `.cat` accessor, allowing for category assignment, ordering, addition, and removal—all agnostic to specific dataset themes.\n",
    "\n",
    "This guide details the full workflow for configuring and optimising categorical variables in Pandas, emphasising abstract principles and flexible usage patterns.\n",
    "\n",
    "\n",
    "\n",
    "### Assigning Categorical Type\n",
    "\n",
    "Convert any string or integer column to categorical for efficiency and semantic clarity:\n",
    "\n",
    "```python\n",
    "data_frame[\"variable\"] = data_frame[\"variable\"].astype(\"category\")\n",
    "```\n",
    "\n",
    "Check current categories:\n",
    "```python\n",
    "print(data_frame[\"variable\"].cat.categories)\n",
    "```\n",
    "\n",
    "### Setting Categories Explicitly\n",
    "\n",
    "You can redefine the set of valid categories using `.cat.set_categories()`. This is critical for:\n",
    "\n",
    "- Establishing the **set of allowed categories** (including categories not currently present in the data).\n",
    "- Setting or enforcing a **custom order** for categories (for ordinal data or ordered plots).\n",
    "\n",
    "```python\n",
    "data_frame[\"variable\"] = data_frame[\"variable\"].cat.set_categories(\n",
    "    new_categories=[\"cat_a\", \"cat_b\", \"cat_c\"],\n",
    "    ordered=True   # or False for nominal data\n",
    ")\n",
    "```\n",
    "\n",
    "- Any value not listed in `new_categories` will be set to `NaN`.\n",
    "- The `ordered` parameter determines whether the categories are treated as ordinal.\n",
    "\n",
    "\n",
    "### Adding Categories\n",
    "\n",
    "You may add new, possibly unrepresented, categories using `.cat.add_categories()`—useful when categories are possible but not observed in the current data.\n",
    "\n",
    "```python\n",
    "data_frame[\"variable\"] = data_frame[\"variable\"].cat.add_categories(\n",
    "    new_categories=[\"cat_x\", \"cat_y\"]\n",
    ")\n",
    "```\n",
    "\n",
    "- This expands the list of valid categories but does not alter existing data.\n",
    "- Newly added categories will have a count of zero unless assigned.\n",
    "\n",
    "### Removing Categories\n",
    "\n",
    "To restrict valid values and clean up unused or irrelevant categories, use `.cat.remove_categories()`:\n",
    "\n",
    "```python\n",
    "data_frame[\"variable\"] = data_frame[\"variable\"].cat.remove_categories(\n",
    "    removals=[\"cat_b\", \"cat_x\"]\n",
    ")\n",
    "```\n",
    "- Any value matching a removed category is set to `NaN`.\n",
    "- The category list shrinks, improving semantic precision.\n",
    "\n",
    "\n",
    "### Handling Missing Values\n",
    "\n",
    "If the categorical column contains values not listed among categories, or after removing a category, those entries are set to `NaN`. In practice, `NaN` in a categorical variable may mean:\n",
    "\n",
    "- The value is genuinely unknown.\n",
    "- The observation does not fit any current category.\n",
    "- Data was recoded or filtered in a way that excluded the category.\n",
    "\n",
    "Check frequencies and missingness:\n",
    "```python\n",
    "data_frame[\"variable\"].value_counts(dropna=False)\n",
    "```\n",
    "\n",
    "### Category Management Methods\n",
    "\n",
    "- **Setting categories and order:**  \n",
    "  `cat.set_categories(new_categories=[...], ordered=...)`\n",
    "    - Can reorder and restrict to a defined set, removing all others.\n",
    "- **Adding categories:**  \n",
    "  `cat.add_categories(new_categories=[...])`\n",
    "    - Expands the possible category set; existing data unchanged.\n",
    "- **Removing categories:**  \n",
    "  `cat.remove_categories(removals=[...])`\n",
    "    - Sets matching data to `NaN` and removes from category list.\n",
    "\n",
    "All methods can be used in-place (with `inplace=True`) or assigned to a new variable.\n",
    "\n",
    "### Best Practices\n",
    "\n",
    "- Always explicitly set category order for ordinal variables—this controls comparison, sorting, and ordered visualisation.\n",
    "- Define all possible categories in advance for survey data, rating scales, or enumerated types, even if some categories are absent in the current sample.\n",
    "- Regularly clean up unused or irrelevant categories for clarity and performance.\n",
    "- Treat `NaN` thoughtfully, documenting whether it means missing, not applicable, or recoded.\n",
    "\n",
    "<br>\n",
    "\n",
    "Fine-grained management of categorical variables in Pandas ensures analytical accuracy, memory efficiency, and precise data semantics. By leveraging `.cat` methods to set, add, and remove categories and control ordering, you build robust, interpretable pipelines for any categorical data structure—regardless of specific variable names or dataset context.\n"
   ]
  },
  {
   "cell_type": "code",
   "execution_count": 121,
   "id": "e67b92aa",
   "metadata": {},
   "outputs": [],
   "source": [
    "dogs = pd.read_csv(\"data/ShelterDogs.csv\")"
   ]
  },
  {
   "cell_type": "markdown",
   "id": "47fe1547",
   "metadata": {},
   "source": [
    "### Adding categories\n",
    "The owner of a local dog adoption agency has listings for almost 3,000 dogs. One of the most common questions they have been receiving lately is: \"What type of area was the dog previously kept in?\". You are setting up a pipeline to do some analysis and want to look into what information is available regarding the `\"keep_in\"` variable."
   ]
  },
  {
   "cell_type": "code",
   "execution_count": 122,
   "id": "5d7e7eb4",
   "metadata": {},
   "outputs": [
    {
     "data": {
      "application/vnd.microsoft.datawrangler.viewer.v0+json": {
       "columns": [
        {
         "name": "keep_in",
         "rawType": "object",
         "type": "unknown"
        },
        {
         "name": "count",
         "rawType": "int64",
         "type": "integer"
        }
       ],
       "ref": "fd73e6d8-4ad7-40f9-825b-6f08ceac28e2",
       "rows": [
        [
         "both flat and garden",
         "1224"
        ],
        [
         null,
         "1021"
        ],
        [
         "garden",
         "510"
        ],
        [
         "flat",
         "182"
        ]
       ],
       "shape": {
        "columns": 1,
        "rows": 4
       }
      },
      "text/plain": [
       "keep_in\n",
       "both flat and garden    1224\n",
       "NaN                     1021\n",
       "garden                   510\n",
       "flat                     182\n",
       "Name: count, dtype: int64"
      ]
     },
     "execution_count": 122,
     "metadata": {},
     "output_type": "execute_result"
    }
   ],
   "source": [
    "# Check frequency counts while also printing the NaN count\n",
    "dogs[\"keep_in\"].value_counts(dropna=False)"
   ]
  },
  {
   "cell_type": "code",
   "execution_count": 123,
   "id": "9fe95f35",
   "metadata": {},
   "outputs": [],
   "source": [
    "# Convert the \"keep_in\" variable to a categorical Series.\n",
    "dogs[\"keep_in\"] = dogs[\"keep_in\"].astype(\"category\")"
   ]
  },
  {
   "cell_type": "code",
   "execution_count": 124,
   "id": "f945bbb2",
   "metadata": {},
   "outputs": [
    {
     "data": {
      "application/vnd.microsoft.datawrangler.viewer.v0+json": {
       "columns": [
        {
         "name": "keep_in",
         "rawType": "category",
         "type": "unknown"
        },
        {
         "name": "count",
         "rawType": "int64",
         "type": "integer"
        }
       ],
       "ref": "8385c532-351d-44c4-b7f8-5f4c451ac439",
       "rows": [
        [
         "both flat and garden",
         "1224"
        ],
        [
         null,
         "1021"
        ],
        [
         "garden",
         "510"
        ],
        [
         "flat",
         "182"
        ]
       ],
       "shape": {
        "columns": 1,
        "rows": 4
       }
      },
      "text/plain": [
       "keep_in\n",
       "both flat and garden    1224\n",
       "NaN                     1021\n",
       "garden                   510\n",
       "flat                     182\n",
       "Name: count, dtype: int64"
      ]
     },
     "execution_count": 124,
     "metadata": {},
     "output_type": "execute_result"
    }
   ],
   "source": [
    "# Add the list of new categories provided by the adoption agency, new_categories, to the \"keep_in\" column.\n",
    "# new_categories = [\"Unknown History\", \"Open Yard (Countryside)\"]\n",
    "# dogs[\"keep_in\"] = dogs[\"keep_in\"].cat.add_categories(\n",
    "#     new_categories = new_categories\n",
    "# )\n",
    "\n",
    "# Check frequency counts one more time\n",
    "dogs[\"keep_in\"].value_counts(dropna=False)"
   ]
  },
  {
   "cell_type": "code",
   "execution_count": 125,
   "id": "7e68c0a2",
   "metadata": {},
   "outputs": [
    {
     "name": "stdout",
     "output_type": "stream",
     "text": [
      "Index(['no', 'yes'], dtype='object')\n"
     ]
    }
   ],
   "source": [
    "# Set \"maybe\" to be \"no\"\n",
    "dogs.loc[dogs[\"likes_children\"] == \"maybe\", \"likes_children\"] = \"no\"\n",
    "\n",
    "# Set \"likes_children\" to category type\n",
    "dogs[\"likes_children\"] = dogs[\"likes_children\"].astype(\"category\")\n",
    "\n",
    "# Print out categories\n",
    "print(dogs[\"likes_children\"].cat.categories)\n",
    "\n",
    "# # Remove the `\"maybe\" category\n",
    "# dogs[\"likes_children\"] = dogs[\"likes_children\"].cat.remove_categories([\"maybe\"])\n",
    "# print(dogs[\"likes_children\"].value_counts())\n"
   ]
  },
  {
   "cell_type": "markdown",
   "id": "eccc03a0",
   "metadata": {},
   "source": [
    "## Updating Categories in Pandas Categorical Data\n",
    "\n",
    "Categorical variables often require updates: categories may need renaming, collapsing (combining several categories into one), or systematic changes to naming conventions. Pandas provides flexible, robust tools for manipulating the category levels of a categorical Series or DataFrame column, supporting high-quality, schema-agnostic data cleaning and preparation workflows.\n",
    "\n",
    "This guide covers all key methods for updating, renaming, and collapsing categories—focusing on abstract principles, not domain-specific examples.\n",
    "\n",
    "### Renaming Categories\n",
    "\n",
    "Use the `.cat.rename_categories()` method to update category names in a categorical Series.  \n",
    "This is useful for:\n",
    "\n",
    "- Correcting typos or inconsistencies.\n",
    "- Adopting standard naming conventions.\n",
    "- Making labels more concise or readable.\n",
    "\n",
    "### Renaming with a Dictionary\n",
    "\n",
    "Pass a dictionary mapping old category names to new ones:\n",
    "\n",
    "```python\n",
    "# Rename categories according to a mapping\n",
    "category_mapping = {\"old_name_a\": \"new_name_a\", \"old_name_b\": \"new_name_b\"}\n",
    "data_frame[\"variable\"] = data_frame[\"variable\"].cat.rename_categories(category_mapping)\n",
    "```\n",
    "\n",
    "**Best Practices:**\n",
    "- All category names not listed in the dictionary remain unchanged.\n",
    "- All new names **must be unique**—you cannot collapse multiple categories into the same label using `rename_categories`.\n",
    "- If a new name already exists in the list of categories, it cannot be duplicated in the result.\n",
    "\n",
    "### Renaming with a Function\n",
    "\n",
    "Apply a function to each category (e.g., title case, lower case):\n",
    "\n",
    "```python\n",
    "data_frame[\"variable\"] = data_frame[\"variable\"].cat.rename_categories(lambda c: c.capitalize())\n",
    "```\n",
    "This allows for systematic, scalable updates to category naming conventions.\n",
    "\n",
    "\n",
    "### Collapsing Categories\n",
    "\n",
    "To merge or **collapse several categories into a single label** (e.g., grouping similar types), use the `.replace()` method first, then convert back to categorical:\n",
    "\n",
    "#### Steps:\n",
    "\n",
    "1. **Create a mapping for category collapsing:**\n",
    "\n",
    "```python\n",
    "collapse_mapping = {\n",
    "    \"cat_a\": \"new_cat\",\n",
    "    \"cat_b\": \"new_cat\",\n",
    "    # Any other categories to collapse...\n",
    "}\n",
    "```\n",
    "\n",
    "2. **Replace values in the Series:**\n",
    "\n",
    "```python\n",
    "data_frame[\"new_variable\"] = data_frame[\"variable\"].replace(collapse_mapping)\n",
    "```\n",
    "\n",
    "3. **Convert the result back to categorical for memory and efficiency:**\n",
    "\n",
    "```python\n",
    "data_frame[\"new_variable\"] = data_frame[\"new_variable\"].astype(\"category\")\n",
    "```\n",
    "\n",
    "**Why not use `rename_categories()` for collapsing?**  \n",
    "`rename_categories()` requires all new names to be unique—collapsing multiple categories into one creates duplicate labels, which is not allowed.\n",
    "\n",
    "\n",
    "### Common Mistakes\n",
    "\n",
    "- **Uniqueness constraint:**  \n",
    "  `rename_categories()` cannot create duplicate category labels; for merging categories, use `.replace()` as shown.\n",
    "- **Temporary type changes:**  \n",
    "  When collapsing categories, the Series may temporarily become `object` dtype after `.replace()`—convert it back to categorical immediately.\n",
    "- **Renaming missing categories:**  \n",
    "  If you attempt to rename a category that does not exist, Pandas will raise an error—always confirm categories first using `.cat.categories`.\n",
    "- **Adding or removing categories:**  \n",
    "  Use `.cat.add_categories()` and `.cat.remove_categories()` to manage the valid set of category labels as needed.\n",
    "\n",
    "\n",
    "### Recap: Methods for Updating Categories\n",
    "\n",
    "- **Renaming (no collapsing):**  \n",
    "  `.cat.rename_categories(mapping_dict)` or `.cat.rename_categories(function)`\n",
    "- **Collapsing (merging categories):**  \n",
    "  `.replace(collapse_mapping)` followed by `.astype(\"category\")`\n",
    "- **Systematic renaming:**  \n",
    "  Use string methods, lambdas, or custom functions for uniform formatting.\n",
    "- **Managing set of categories:**  \n",
    "  Add new categories with `.cat.add_categories()`, remove with `.cat.remove_categories()`.\n",
    "\n",
    "\n",
    "### Rationale\n",
    "\n",
    "- Consistent, concise, and semantically meaningful category names are essential for interpretable visualisation, tabulation, and modelling.\n",
    "- Collapsing categories can reduce noise and increase sample size per group, improving statistical power and stability.\n",
    "- All category modifications should be well-documented for reproducibility and transparency.\n",
    "\n",
    "\n",
    "Updating categories in Pandas requires a clear strategy: use `.cat.rename_categories()` for one-to-one renaming, `.replace()` for many-to-one collapsing, and always ensure the categorical dtype is preserved for efficiency and semantic integrity. Mastery of these techniques enables robust, scalable, and interpretable categorical data workflows across any domain.\n"
   ]
  },
  {
   "cell_type": "code",
   "execution_count": 126,
   "id": "b3f4eb32",
   "metadata": {},
   "outputs": [
    {
     "data": {
      "application/vnd.microsoft.datawrangler.viewer.v0+json": {
       "columns": [
        {
         "name": "breed",
         "rawType": "category",
         "type": "unknown"
        },
        {
         "name": "count",
         "rawType": "int64",
         "type": "integer"
        }
       ],
       "ref": "e14d3667-4eaf-485b-8348-915a5d1b233a",
       "rows": [
        [
         "Unknown Mix",
         "1524"
        ],
        [
         "German Shepherd Dog Mix",
         "190"
        ],
        [
         "Dachshund Mix",
         "147"
        ],
        [
         "Labrador Retriever Mix",
         "83"
        ],
        [
         "Staffordshire Terrier Mix",
         "62"
        ],
        [
         "Puli Mix",
         "40"
        ],
        [
         "German Shepherd Dog",
         "37"
        ],
        [
         "Schnauzer Mix",
         "34"
        ],
        [
         "Fox Terrier Mix",
         "32"
        ],
        [
         "Greyhound Mix",
         "32"
        ],
        [
         "Terrier Mix",
         "29"
        ],
        [
         "Rottweiler Mix",
         "26"
        ],
        [
         "Vizsla Mix",
         "24"
        ],
        [
         "Hound Mix",
         "22"
        ],
        [
         "Labrador Retriever",
         "17"
        ],
        [
         "Puli",
         "17"
        ],
        [
         "Staffordshire Terrier",
         "13"
        ],
        [
         "English Cocker Spaniel",
         "13"
        ],
        [
         "Chinese Shar-Pei Mix",
         "13"
        ],
        [
         "German Pointer Mix",
         "13"
        ],
        [
         "Mudi Mix",
         "13"
        ],
        [
         "Siberian Husky Mix",
         "12"
        ],
        [
         "Spaniel Mix",
         "11"
        ],
        [
         "English Cocker Spaniel Mix",
         "11"
        ],
        [
         "Pumi Mix",
         "10"
        ],
        [
         "Bull Terrier Mix",
         "9"
        ],
        [
         "Jagd Terrier Mix",
         "9"
        ],
        [
         "Caucasian Ovtcharka Mix",
         "9"
        ],
        [
         "German Shepherd Dog, Labrador Retriever Mix",
         "9"
        ],
        [
         "Dogo Argentino",
         "8"
        ],
        [
         "Pekingese Mix",
         "8"
        ],
        [
         "Puli, Pumi Mix",
         "7"
        ],
        [
         "Beagle",
         "7"
        ],
        [
         "Pinscher Mix",
         "7"
        ],
        [
         "Fox Terrier",
         "7"
        ],
        [
         "German Shepherd Dog, Siberian Husky Mix",
         "7"
        ],
        [
         "Beagle Mix",
         "7"
        ],
        [
         "Belgian Sheepdog Mix",
         "6"
        ],
        [
         "Kuvasz",
         "6"
        ],
        [
         "Golden Retriever Mix",
         "6"
        ],
        [
         "German Dog",
         "5"
        ],
        [
         "Dachshund, Fox Terrier Mix",
         "5"
        ],
        [
         "Rottweiler",
         "5"
        ],
        [
         "Golden Retriever",
         "5"
        ],
        [
         "Labrador Retriever, Vizsla Mix",
         "5"
        ],
        [
         "Akita Mix",
         "5"
        ],
        [
         "Dachshund, German Shepherd Dog Mix",
         "5"
        ],
        [
         "Komondor",
         "5"
        ],
        [
         "Kuvasz Mix",
         "5"
        ],
        [
         "Miniature Schnauzer Mix",
         "5"
        ]
       ],
       "shape": {
        "columns": 1,
        "rows": 277
       }
      },
      "text/plain": [
       "breed\n",
       "Unknown Mix                        1524\n",
       "German Shepherd Dog Mix             190\n",
       "Dachshund Mix                       147\n",
       "Labrador Retriever Mix               83\n",
       "Staffordshire Terrier Mix            62\n",
       "                                   ... \n",
       "Vizsla, Whippet Mix                   1\n",
       "Akita, German Shepherd Dog Mix        1\n",
       "West Highland White Terrier Mix       1\n",
       "Akita                                 1\n",
       "Yorkshire Terrier                     1\n",
       "Name: count, Length: 277, dtype: int64"
      ]
     },
     "execution_count": 126,
     "metadata": {},
     "output_type": "execute_result"
    }
   ],
   "source": [
    "dogs[\"breed\"] = dogs[\"breed\"].astype(\"category\")\n",
    "dogs[\"breed\"].value_counts()"
   ]
  },
  {
   "cell_type": "code",
   "execution_count": 127,
   "id": "5e30bfc7",
   "metadata": {},
   "outputs": [],
   "source": [
    "my_changes = {\"Unknown Mix\":\"Unknown\"}\n",
    "dogs[\"breed\"] = dogs[\"breed\"].cat.rename_categories(my_changes)"
   ]
  },
  {
   "cell_type": "code",
   "execution_count": 128,
   "id": "eee6d10e",
   "metadata": {},
   "outputs": [
    {
     "data": {
      "application/vnd.microsoft.datawrangler.viewer.v0+json": {
       "columns": [
        {
         "name": "breed",
         "rawType": "category",
         "type": "unknown"
        },
        {
         "name": "count",
         "rawType": "int64",
         "type": "integer"
        }
       ],
       "ref": "9fe5d4f3-e8f1-4413-9cd6-e1b2a509a2bd",
       "rows": [
        [
         "Unknown",
         "1524"
        ],
        [
         "German Shepherd Dog Mix",
         "190"
        ],
        [
         "Dachshund Mix",
         "147"
        ],
        [
         "Labrador Retriever Mix",
         "83"
        ],
        [
         "Staffordshire Terrier Mix",
         "62"
        ],
        [
         "Puli Mix",
         "40"
        ],
        [
         "German Shepherd Dog",
         "37"
        ],
        [
         "Schnauzer Mix",
         "34"
        ],
        [
         "Fox Terrier Mix",
         "32"
        ],
        [
         "Greyhound Mix",
         "32"
        ],
        [
         "Terrier Mix",
         "29"
        ],
        [
         "Rottweiler Mix",
         "26"
        ],
        [
         "Vizsla Mix",
         "24"
        ],
        [
         "Hound Mix",
         "22"
        ],
        [
         "Labrador Retriever",
         "17"
        ],
        [
         "Puli",
         "17"
        ],
        [
         "Staffordshire Terrier",
         "13"
        ],
        [
         "English Cocker Spaniel",
         "13"
        ],
        [
         "Chinese Shar-Pei Mix",
         "13"
        ],
        [
         "German Pointer Mix",
         "13"
        ],
        [
         "Mudi Mix",
         "13"
        ],
        [
         "Siberian Husky Mix",
         "12"
        ],
        [
         "Spaniel Mix",
         "11"
        ],
        [
         "English Cocker Spaniel Mix",
         "11"
        ],
        [
         "Pumi Mix",
         "10"
        ],
        [
         "Bull Terrier Mix",
         "9"
        ],
        [
         "Jagd Terrier Mix",
         "9"
        ],
        [
         "Caucasian Ovtcharka Mix",
         "9"
        ],
        [
         "German Shepherd Dog, Labrador Retriever Mix",
         "9"
        ],
        [
         "Dogo Argentino",
         "8"
        ],
        [
         "Pekingese Mix",
         "8"
        ],
        [
         "Puli, Pumi Mix",
         "7"
        ],
        [
         "Beagle",
         "7"
        ],
        [
         "Pinscher Mix",
         "7"
        ],
        [
         "Fox Terrier",
         "7"
        ],
        [
         "German Shepherd Dog, Siberian Husky Mix",
         "7"
        ],
        [
         "Beagle Mix",
         "7"
        ],
        [
         "Belgian Sheepdog Mix",
         "6"
        ],
        [
         "Kuvasz",
         "6"
        ],
        [
         "Golden Retriever Mix",
         "6"
        ],
        [
         "German Dog",
         "5"
        ],
        [
         "Dachshund, Fox Terrier Mix",
         "5"
        ],
        [
         "Rottweiler",
         "5"
        ],
        [
         "Golden Retriever",
         "5"
        ],
        [
         "Labrador Retriever, Vizsla Mix",
         "5"
        ],
        [
         "Akita Mix",
         "5"
        ],
        [
         "Dachshund, German Shepherd Dog Mix",
         "5"
        ],
        [
         "Komondor",
         "5"
        ],
        [
         "Kuvasz Mix",
         "5"
        ],
        [
         "Miniature Schnauzer Mix",
         "5"
        ]
       ],
       "shape": {
        "columns": 1,
        "rows": 277
       }
      },
      "text/plain": [
       "breed\n",
       "Unknown                            1524\n",
       "German Shepherd Dog Mix             190\n",
       "Dachshund Mix                       147\n",
       "Labrador Retriever Mix               83\n",
       "Staffordshire Terrier Mix            62\n",
       "                                   ... \n",
       "Vizsla, Whippet Mix                   1\n",
       "Akita, German Shepherd Dog Mix        1\n",
       "West Highland White Terrier Mix       1\n",
       "Akita                                 1\n",
       "Yorkshire Terrier                     1\n",
       "Name: count, Length: 277, dtype: int64"
      ]
     },
     "execution_count": 128,
     "metadata": {},
     "output_type": "execute_result"
    }
   ],
   "source": [
    "dogs[\"breed\"].value_counts()"
   ]
  },
  {
   "cell_type": "code",
   "execution_count": 129,
   "id": "3bfbd2b3",
   "metadata": {},
   "outputs": [
    {
     "data": {
      "application/vnd.microsoft.datawrangler.viewer.v0+json": {
       "columns": [
        {
         "name": "sex",
         "rawType": "category",
         "type": "unknown"
        },
        {
         "name": "count",
         "rawType": "int64",
         "type": "integer"
        }
       ],
       "ref": "38431690-61bf-4989-aa8e-52304e1372df",
       "rows": [
        [
         "Male",
         "1681"
        ],
        [
         "Female",
         "1256"
        ]
       ],
       "shape": {
        "columns": 1,
        "rows": 2
       }
      },
      "text/plain": [
       "sex\n",
       "Male      1681\n",
       "Female    1256\n",
       "Name: count, dtype: int64"
      ]
     },
     "execution_count": 129,
     "metadata": {},
     "output_type": "execute_result"
    }
   ],
   "source": [
    "dogs[\"sex\"] = dogs[\"sex\"].astype(\"category\").cat.rename_categories(lambda c: c.title())\n",
    "dogs[\"sex\"].value_counts()"
   ]
  },
  {
   "cell_type": "code",
   "execution_count": 130,
   "id": "34a3631f",
   "metadata": {},
   "outputs": [
    {
     "data": {
      "text/plain": [
       "Index(['apricot', 'black', 'black and brown', 'black and tan',\n",
       "       'black and white', 'brown', 'brown and white', 'dotted', 'golden',\n",
       "       'gray', 'gray and black', 'gray and white', 'red', 'red and white',\n",
       "       'sable', 'saddle back', 'spotty', 'striped', 'tricolor', 'white',\n",
       "       'wild boar', 'yellow', 'yellow-brown'],\n",
       "      dtype='object')"
      ]
     },
     "execution_count": 130,
     "metadata": {},
     "output_type": "execute_result"
    }
   ],
   "source": [
    "dogs[\"color\"] = dogs[\"color\"].astype(\"category\")\n",
    "dogs[\"color\"].cat.categories"
   ]
  },
  {
   "cell_type": "code",
   "execution_count": 131,
   "id": "0b1f9439",
   "metadata": {},
   "outputs": [
    {
     "data": {
      "application/vnd.microsoft.datawrangler.viewer.v0+json": {
       "columns": [
        {
         "name": "main_color",
         "rawType": "category",
         "type": "unknown"
        },
        {
         "name": "count",
         "rawType": "int64",
         "type": "integer"
        }
       ],
       "ref": "f1fb6b2a-963c-4064-82e8-7658e3646fea",
       "rows": [
        [
         "black",
         "1252"
        ],
        [
         "brown",
         "293"
        ],
        [
         "yellow-brown",
         "212"
        ],
        [
         "apricot",
         "142"
        ],
        [
         "brown and white",
         "124"
        ],
        [
         "white",
         "124"
        ],
        [
         "sable",
         "118"
        ],
        [
         "tricolor",
         "99"
        ],
        [
         "saddle back",
         "91"
        ],
        [
         "striped",
         "89"
        ],
        [
         "gray",
         "64"
        ],
        [
         "yellow",
         "63"
        ],
        [
         "golden",
         "61"
        ],
        [
         "red",
         "53"
        ],
        [
         "spotty",
         "47"
        ],
        [
         "gray and white",
         "35"
        ],
        [
         "gray and black",
         "28"
        ],
        [
         "wild boar",
         "18"
        ],
        [
         "red and white",
         "14"
        ],
        [
         "dotted",
         "10"
        ]
       ],
       "shape": {
        "columns": 1,
        "rows": 20
       }
      },
      "text/plain": [
       "main_color\n",
       "black              1252\n",
       "brown               293\n",
       "yellow-brown        212\n",
       "apricot             142\n",
       "brown and white     124\n",
       "white               124\n",
       "sable               118\n",
       "tricolor             99\n",
       "saddle back          91\n",
       "striped              89\n",
       "gray                 64\n",
       "yellow               63\n",
       "golden               61\n",
       "red                  53\n",
       "spotty               47\n",
       "gray and white       35\n",
       "gray and black       28\n",
       "wild boar            18\n",
       "red and white        14\n",
       "dotted               10\n",
       "Name: count, dtype: int64"
      ]
     },
     "execution_count": 131,
     "metadata": {},
     "output_type": "execute_result"
    }
   ],
   "source": [
    "# Create mapping to collapse multiple \"black\" variants into one category\n",
    "update_colors = {\n",
    "    \"black and brown\": \"black\", \n",
    "    \"black and tan\" : \"black\",\n",
    "    \"black and white\" : \"black\",\n",
    "}\n",
    "\n",
    "# Convert to string, apply replace, then convert back to category\n",
    "dogs[\"main_color\"] = (dogs[\"color\"]\n",
    "                      .astype(\"object\")\n",
    "                      .replace(update_colors)\n",
    "                      .astype(\"category\")\n",
    ")\n",
    "\n",
    "dogs[\"main_color\"].value_counts()"
   ]
  },
  {
   "cell_type": "markdown",
   "id": "cbcb5bcd",
   "metadata": {},
   "source": [
    "### Renaming categories\n",
    "The `likes_children` column of the adoptable dogs dataset needs an update. Here are the current frequency counts:"
   ]
  },
  {
   "cell_type": "code",
   "execution_count": 132,
   "id": "62b9ce98",
   "metadata": {},
   "outputs": [
    {
     "data": {
      "application/vnd.microsoft.datawrangler.viewer.v0+json": {
       "columns": [
        {
         "name": "likes_children",
         "rawType": "category",
         "type": "unknown"
        },
        {
         "name": "count",
         "rawType": "int64",
         "type": "integer"
        }
       ],
       "ref": "1e6fdf60-2863-4558-bd86-39896763bdf9",
       "rows": [
        [
         "Maybe?",
         "1718"
        ],
        [
         "yes",
         "1172"
        ],
        [
         "no",
         "47"
        ]
       ],
       "shape": {
        "columns": 1,
        "rows": 3
       }
      },
      "text/plain": [
       "likes_children\n",
       "Maybe?    1718\n",
       "yes       1172\n",
       "no          47\n",
       "Name: count, dtype: int64"
      ]
     },
     "execution_count": 132,
     "metadata": {},
     "output_type": "execute_result"
    }
   ],
   "source": [
    "dogs[\"likes_children\"] = dogs[\"likes_children\"].cat.add_categories([\"Maybe?\"])\n",
    "dogs[\"likes_children\"] = dogs[\"likes_children\"].fillna(\"Maybe?\")\n",
    "dogs[\"likes_children\"].value_counts()"
   ]
  },
  {
   "cell_type": "markdown",
   "id": "33d10354",
   "metadata": {},
   "source": [
    "Two things that stick out are the differences in capitalization and the `?` found in the `Maybe?` category. The data should be cleaner than this and you are being asked to make a few changes."
   ]
  },
  {
   "cell_type": "code",
   "execution_count": 133,
   "id": "29f5fd03",
   "metadata": {},
   "outputs": [
    {
     "name": "stdout",
     "output_type": "stream",
     "text": [
      "Index(['MAYBE', 'NO', 'YES'], dtype='object')\n"
     ]
    }
   ],
   "source": [
    "# Create a dictionary called my_changes that will update the Maybe? category to Maybe.\n",
    "my_changes = {\"Maybe?\":\"Maybe\"}\n",
    "\n",
    "# Rename the categories in likes_children using the my_changes dictionary.\n",
    "dogs[\"likes_children\"] = dogs[\"likes_children\"].astype(\"object\").replace(my_changes).astype(\"category\")\n",
    "\n",
    "# Update the categories one more time so that all categories are uppercase using the .upper() method.\n",
    "dogs[\"likes_children\"] = dogs[\"likes_children\"].cat.rename_categories(lambda c:c.upper())\n",
    "\n",
    "# Print out the categories of the updated likes_children Series.\n",
    "print(dogs[\"likes_children\"].cat.categories)\n"
   ]
  },
  {
   "cell_type": "markdown",
   "id": "1d11aac1",
   "metadata": {},
   "source": [
    "### Collapsing categories\n",
    "One problem that users of a local dog adoption website have voiced is that there are too many options. As they look through the different types of dogs, they are getting lost in the overwhelming amount of choice. To simplify some of the data, you are going through each column and collapsing data if appropriate. To preserve the original data, you are going to make new updated columns in the `dogs` dataset. You will start with the `coat` column. The frequency table is listed here:\n",
    "\n",
    "| Coat Type | Count |\n",
    "|-----------|-------|\n",
    "| short | 1969 |\n",
    "| medium | 565 |\n",
    "| wirehaired | 220 |\n",
    "| long | 180 |\n",
    "| medium-long | 3 |"
   ]
  },
  {
   "cell_type": "code",
   "execution_count": 134,
   "id": "4e344d5b",
   "metadata": {},
   "outputs": [
    {
     "name": "stdout",
     "output_type": "stream",
     "text": [
      "coat_collapsed\n",
      "short     1972\n",
      "medium     785\n",
      "long       180\n",
      "Name: count, dtype: int64\n"
     ]
    }
   ],
   "source": [
    "# Create a dictionary named update_coats to map both wirehaired and medium-long to medium.\n",
    "update_coats = {\"wirehaired\":\"medium\", \"medium-long\":\"medium\"}\n",
    "\n",
    "# Collapse the categories listed in this new dictionary and save this as a new column, coat_collapsed.\n",
    "dogs[\"coat_collapsed\"] = dogs[\"coat\"].replace(update_coats)\n",
    "\n",
    "# Convert the column to categorical\n",
    "dogs[\"coat_collapsed\"] = dogs[\"coat_collapsed\"].astype(\"category\")\n",
    "\n",
    "# Print the frequency table\n",
    "print(dogs[\"coat_collapsed\"].value_counts())"
   ]
  },
  {
   "cell_type": "markdown",
   "id": "80f349ef",
   "metadata": {},
   "source": [
    "## Reordering Categories in Pandas\n",
    "\n",
    "In categorical data analysis, the order of categories often matters for both **statistical meaning** and **presentation**. Reordering categories is fundamental when defining ordinal variables (e.g., satisfaction ratings), ensuring logical ordering in plots or reports, or optimising grouping and summarisation operations. Pandas provides explicit tools for reordering category levels and specifying whether they are to be treated as *ordered* or *nominal*.\n",
    "\n",
    "### Why Reorder Categories?\n",
    "\n",
    "1. **Defining Ordinal Variables:**  \n",
    "   Some categorical variables have a natural order (e.g., \"low\", \"medium\", \"high\"), but are not numeric. Explicitly ordering these categories enables correct sorting, comparison, and modelling.\n",
    "2. **Controlling Output Display:**  \n",
    "   Ordered categories determine the sequence in which results appear in tables, charts, or summaries—crucial for readable, interpretable outputs.\n",
    "3. **Analytical Consistency:**  \n",
    "   Certain analyses and statistical methods require the order to be defined (e.g., median calculation, trend plots).\n",
    "4. **Memory and Performance:**  \n",
    "   Categorical ordering can optimise internal storage and computation, especially when category levels are defined precisely and unused categories are removed.\n",
    "\n",
    "\n",
    "### Reordering Categories: Syntax and Strategy\n",
    "\n",
    "To change the order of categories and set ordinal status, use `.cat.reorder_categories()`:\n",
    "\n",
    "```python\n",
    "data_frame[\"categorical_var\"] = data_frame[\"categorical_var\"].cat.reorder_categories(\n",
    "    new_categories=[\"level1\", \"level2\", \"level3\"],\n",
    "    ordered=True  # or False for nominal data\n",
    ")\n",
    "```\n",
    "\n",
    "- `new_categories` must contain all existing (or allowed) categories, in the desired sequence.\n",
    "- `ordered=True` signals that the variable should be treated as ordinal.\n",
    "\n",
    "**In-place Reordering:**\n",
    "\n",
    "```python\n",
    "data_frame[\"categorical_var\"].cat.reorder_categories(\n",
    "    new_categories=[\"level1\", \"level2\", \"level3\"],\n",
    "    ordered=True,\n",
    "    inplace=True\n",
    ")\n",
    "```\n",
    "- When `inplace=True`, the operation modifies the Series directly.\n",
    "\n",
    "### Grouping and Summarisation: Effect of Category Order\n",
    "\n",
    "- When `ordered=True`, groupby results, plots, and sorting will reflect the specified order.\n",
    "- When `ordered=False` (nominal), category order is ignored for analysis, and outputs may be in lexicographical or arbitrary order.\n",
    "\n",
    "**Example Analysis:**\n",
    "```python\n",
    "# Ordered grouping (ordered=True)\n",
    "grouped_summary = data_frame.groupby(\"categorical_var\")[\"numeric_var\"].mean()\n",
    "```\n",
    "- With ordered categories, group summaries, plots, and crosstabs follow the defined order.\n",
    "\n",
    "**Without ordering:**\n",
    "```python\n",
    "# Nominal grouping (ordered=False)\n",
    "grouped_summary = data_frame.groupby(\"categorical_var\")[\"numeric_var\"].mean()\n",
    "```\n",
    "- The display order is not controlled, and may be arbitrary.\n",
    "\n",
    "\n",
    "### Best Practices and Notes\n",
    "\n",
    "- **Always define the logical order** for ordinal variables immediately after creation or import.\n",
    "- **Remove unused categories** after reordering to optimise storage and avoid confusion.\n",
    "- **Explicitly set `ordered=False`** for nominal variables, preventing accidental ordered analyses.\n",
    "- **Check category order** using `.cat.categories` and `.cat.ordered` to confirm the variable’s configuration.\n",
    "- Use descriptive, meaningful category labels to improve interpretability in outputs and documentation.\n",
    "\n",
    "\n",
    "### Analytical Rationale\n",
    "\n",
    "- Ordinal categories enable correct computation of medians, percentiles, and trend detection.\n",
    "- Ensuring the display order matches the analytical logic reduces risk of misinterpretation in reports and plots.\n",
    "- Explicit ordering is vital for reproducible research, as output and model interpretation depend on it.\n",
    "<br>\n",
    "\n",
    "Reordering categories in Pandas is essential for both statistical correctness and practical clarity. By using `.cat.reorder_categories()`, analysts can control not just the appearance, but the **analytical semantics** of categorical variables—ensuring robust, reproducible, and meaningful data science workflows.\n"
   ]
  },
  {
   "cell_type": "code",
   "execution_count": 135,
   "id": "38113679",
   "metadata": {},
   "outputs": [],
   "source": [
    "dogs[\"coat\"] = dogs[\"coat\"].astype(\"category\").cat.reorder_categories(\n",
    "    new_categories = [\"short\", \"medium\", \"wirehaired\", \"long\"],\n",
    "    ordered=True\n",
    ")\n"
   ]
  },
  {
   "cell_type": "code",
   "execution_count": 136,
   "id": "5c7dac55",
   "metadata": {},
   "outputs": [
    {
     "data": {
      "application/vnd.microsoft.datawrangler.viewer.v0+json": {
       "columns": [
        {
         "name": "coat",
         "rawType": "category",
         "type": "unknown"
        },
        {
         "name": "age",
         "rawType": "float64",
         "type": "float"
        }
       ],
       "ref": "e1763179-d3c4-48a8-a746-dce0bf7223b9",
       "rows": [
        [
         "short",
         "8.36474645030426"
        ],
        [
         "medium",
         "9.027982300884956"
        ],
        [
         "wirehaired",
         "8.424136363636363"
        ],
        [
         "long",
         "9.552055555555555"
        ]
       ],
       "shape": {
        "columns": 1,
        "rows": 4
       }
      },
      "text/plain": [
       "coat\n",
       "short         8.364746\n",
       "medium        9.027982\n",
       "wirehaired    8.424136\n",
       "long          9.552056\n",
       "Name: age, dtype: float64"
      ]
     },
     "execution_count": 136,
     "metadata": {},
     "output_type": "execute_result"
    }
   ],
   "source": [
    "dogs.groupby([\"coat\"], observed=True)[\"age\"].mean()"
   ]
  },
  {
   "cell_type": "code",
   "execution_count": 137,
   "id": "4dade9ee",
   "metadata": {},
   "outputs": [],
   "source": [
    "dogs[\"coat\"] = dogs[\"coat\"].cat.reorder_categories(\n",
    "    new_categories=[\"short\", \"medium\", \"long\", \"wirehaired\"],\n",
    "    ordered=False\n",
    ")"
   ]
  },
  {
   "cell_type": "code",
   "execution_count": 138,
   "id": "9085bcc2",
   "metadata": {},
   "outputs": [
    {
     "data": {
      "application/vnd.microsoft.datawrangler.viewer.v0+json": {
       "columns": [
        {
         "name": "coat",
         "rawType": "category",
         "type": "unknown"
        },
        {
         "name": "age",
         "rawType": "float64",
         "type": "float"
        }
       ],
       "ref": "ed7ed6ac-17b6-48ba-861f-58ae0119d23a",
       "rows": [
        [
         "short",
         "8.36474645030426"
        ],
        [
         "medium",
         "9.027982300884956"
        ],
        [
         "long",
         "9.552055555555555"
        ],
        [
         "wirehaired",
         "8.424136363636363"
        ]
       ],
       "shape": {
        "columns": 1,
        "rows": 4
       }
      },
      "text/plain": [
       "coat\n",
       "short         8.364746\n",
       "medium        9.027982\n",
       "long          9.552056\n",
       "wirehaired    8.424136\n",
       "Name: age, dtype: float64"
      ]
     },
     "execution_count": 138,
     "metadata": {},
     "output_type": "execute_result"
    }
   ],
   "source": [
    "dogs.groupby(\"coat\", observed=True)[\"age\"].mean()"
   ]
  },
  {
   "cell_type": "markdown",
   "id": "38c61f2d",
   "metadata": {},
   "source": [
    "### Reordering categories in a Series\n",
    "The owner of a local dog adoption agency has asked you take a look at her data on adoptable dogs. She is specifically interested in the size of the dogs in her dataset and wants to know if there are differences in other variables, given a dog's size. The adoptable dogs dataset has been loaded as `dogs` and the `\"size\"` variable has already been saved as a categorical column."
   ]
  },
  {
   "cell_type": "code",
   "execution_count": 139,
   "id": "f1904a2a",
   "metadata": {},
   "outputs": [
    {
     "name": "stdout",
     "output_type": "stream",
     "text": [
      "Index(['large', 'medium', 'small'], dtype='object')\n"
     ]
    }
   ],
   "source": [
    "dogs[\"size\"] = dogs[\"size\"].astype(\"category\")\n",
    "\n",
    "# Print out the current categories of the size variable\n",
    "print(dogs[\"size\"].cat.categories)\n"
   ]
  },
  {
   "cell_type": "code",
   "execution_count": 140,
   "id": "20096fee",
   "metadata": {},
   "outputs": [],
   "source": [
    "# Reorder categories in the \"size\" column using the categories \"small\", \"medium\", \"large\", do not set the ordered parameter.\n",
    "dogs[\"size\"] = dogs[\"size\"].cat.reorder_categories(\n",
    "    new_categories = [\"small\", \"medium\", \"large\"]\n",
    ")"
   ]
  },
  {
   "cell_type": "code",
   "execution_count": 141,
   "id": "02142433",
   "metadata": {},
   "outputs": [],
   "source": [
    "# Update the reorder_categories() method so that pandas knows the variable has a natural order.\n",
    "dogs[\"size\"] = dogs[\"size\"].cat.reorder_categories(\n",
    "    new_categories = [\"small\", \"medium\", \"large\"],\n",
    "    ordered=True\n",
    ")"
   ]
  },
  {
   "cell_type": "markdown",
   "id": "7b03b5d7",
   "metadata": {},
   "source": [
    "### Using `.groupby()` after reordering\n",
    "It is now time to run some analyses on the adoptable dogs dataset that is focused on the `\"size\"` of the dog. You have already developed some code to reorder the categories. In this exercise, you will develop two similar `.groupby()` statements to help better understand the effect of `\"size\"` on other variables. dogs has been preloaded for you."
   ]
  },
  {
   "cell_type": "code",
   "execution_count": 142,
   "id": "333d2a89",
   "metadata": {},
   "outputs": [
    {
     "data": {
      "application/vnd.microsoft.datawrangler.viewer.v0+json": {
       "columns": [
        {
         "name": "('size', 'sex')",
         "rawType": "object",
         "type": "unknown"
        },
        {
         "name": "count",
         "rawType": "int64",
         "type": "integer"
        }
       ],
       "ref": "f3ea0bc3-7849-4e07-9239-e5621a69507c",
       "rows": [
        [
         "('small', 'Male')",
         "260"
        ],
        [
         "('small', 'Female')",
         "214"
        ],
        [
         "('medium', 'Male')",
         "1090"
        ],
        [
         "('medium', 'Female')",
         "854"
        ],
        [
         "('large', 'Male')",
         "331"
        ],
        [
         "('large', 'Female')",
         "188"
        ]
       ],
       "shape": {
        "columns": 1,
        "rows": 6
       }
      },
      "text/plain": [
       "size    sex   \n",
       "small   Male       260\n",
       "        Female     214\n",
       "medium  Male      1090\n",
       "        Female     854\n",
       "large   Male       331\n",
       "        Female     188\n",
       "Name: count, dtype: int64"
      ]
     },
     "execution_count": 142,
     "metadata": {},
     "output_type": "execute_result"
    }
   ],
   "source": [
    "# Print out the frequency table of \"sex\" for each category of the \"size\" column.\n",
    "dogs.groupby(\"size\", observed=True)[\"sex\"].value_counts()"
   ]
  },
  {
   "cell_type": "code",
   "execution_count": 143,
   "id": "0182f408",
   "metadata": {},
   "outputs": [
    {
     "data": {
      "application/vnd.microsoft.datawrangler.viewer.v0+json": {
       "columns": [
        {
         "name": "('size', 'keep_in')",
         "rawType": "object",
         "type": "unknown"
        },
        {
         "name": "count",
         "rawType": "int64",
         "type": "integer"
        }
       ],
       "ref": "4319ccc8-dedc-49b4-b1d7-fb145025783b",
       "rows": [
        [
         "('small', 'both flat and garden')",
         "238"
        ],
        [
         "('small', 'flat')",
         "80"
        ],
        [
         "('small', 'garden')",
         "21"
        ],
        [
         "('medium', 'both flat and garden')",
         "795"
        ],
        [
         "('medium', 'garden')",
         "317"
        ],
        [
         "('medium', 'flat')",
         "97"
        ],
        [
         "('large', 'both flat and garden')",
         "191"
        ],
        [
         "('large', 'garden')",
         "172"
        ],
        [
         "('large', 'flat')",
         "5"
        ]
       ],
       "shape": {
        "columns": 1,
        "rows": 9
       }
      },
      "text/plain": [
       "size    keep_in             \n",
       "small   both flat and garden    238\n",
       "        flat                     80\n",
       "        garden                   21\n",
       "medium  both flat and garden    795\n",
       "        garden                  317\n",
       "        flat                     97\n",
       "large   both flat and garden    191\n",
       "        garden                  172\n",
       "        flat                      5\n",
       "Name: count, dtype: int64"
      ]
     },
     "execution_count": 143,
     "metadata": {},
     "output_type": "execute_result"
    }
   ],
   "source": [
    "# Print out the frequency table of \"keep_in\" for each category of the \"size\" column.\n",
    "dogs.groupby(\"size\", observed=True)[\"keep_in\"].value_counts()"
   ]
  },
  {
   "cell_type": "markdown",
   "id": "f9a17654",
   "metadata": {},
   "source": [
    "## Cleaning and Accessing Categorical Data in Pandas\n",
    "\n",
    "\n",
    "Categorical data, while powerful and memory-efficient, is prone to inconsistencies and quality issues arising from data entry errors, formatting inconsistencies, and misapplied types. Robust data cleaning and access methods are essential for ensuring reliable analysis and modelling. This section covers rigorous strategies for identifying, correcting, and accessing categorical data, using agnostic methods applicable to any dataset.\n",
    "\n",
    "\n",
    "### Common Issues with Categorical Data\n",
    "\n",
    "1. **Inconsistent Values:**  \n",
    "   - Variations in case (\"Yes\" vs \"yes\"), whitespace (\" Value \" vs \"Value\"), or mixed representations.\n",
    "2. **Misspellings and Typos:**  \n",
    "   - Variants such as \"Noo\" instead of \"No\" create duplicate, misleading categories.\n",
    "3. **Incorrect Dtype:**  \n",
    "   - Data intended as categorical may be stored as `object` dtype, losing efficiency and analytic clarity.\n",
    "\n",
    "\n",
    "### Identifying Issues\n",
    "\n",
    "Use the following to inspect categorical variables:\n",
    "\n",
    "- **View all categories:**\n",
    "  ```python\n",
    "  data_frame[\"categorical_var\"].cat.categories\n",
    "  ```\n",
    "\n",
    "- **Frequency counts (including `NaN`):**\n",
    "  ```python\n",
    "  data_frame[\"categorical_var\"].value_counts(dropna=False)\n",
    "  ```\n",
    "  - Reveals duplicate or rare categories due to inconsistencies.\n",
    "\n",
    "\n",
    "### Fixing Whitespace Issues\n",
    "\n",
    "Leading/trailing whitespace is a common problem. Use `.str.strip()` to remove it:\n",
    "\n",
    "```python\n",
    "data_frame[\"categorical_var\"] = data_frame[\"categorical_var\"].str.strip()\n",
    "```\n",
    "- Removes spaces before and after category values, merging otherwise-duplicated entries.\n",
    "\n",
    "\n",
    "### Standardising Capitalization\n",
    "\n",
    "Differences in capitalisation may fragment categories. Use string methods to standardise:\n",
    "\n",
    "```python\n",
    "data_frame[\"categorical_var\"] = data_frame[\"categorical_var\"].str.title()   # \"no\" → \"No\"\n",
    "# or\n",
    "data_frame[\"categorical_var\"] = data_frame[\"categorical_var\"].str.upper()\n",
    "# or\n",
    "data_frame[\"categorical_var\"] = data_frame[\"categorical_var\"].str.lower()\n",
    "```\n",
    "\n",
    "Choose the style appropriate for your analysis or domain convention.\n",
    "\n",
    "\n",
    "### Correcting Misspelled Categories\n",
    "\n",
    "Use `.replace()` with a mapping dictionary to correct typos or unify equivalent categories:\n",
    "\n",
    "```python\n",
    "corrections = {\"Typoo\": \"Typo\", \"Yess\": \"Yes\"}\n",
    "data_frame[\"categorical_var\"].replace(corrections, inplace=True)\n",
    "```\n",
    "- Ensures consistency and improves data quality.\n",
    "\n",
    "\n",
    "### Ensuring Proper Data Type\n",
    "\n",
    "After cleaning, confirm that the variable is of categorical dtype:\n",
    "\n",
    "```python\n",
    "print(data_frame[\"categorical_var\"].dtype)\n",
    "```\n",
    "- If it is not `category`, convert it:\n",
    "  ```python\n",
    "  data_frame[\"categorical_var\"] = data_frame[\"categorical_var\"].astype(\"category\")\n",
    "  ```\n",
    "\n",
    "\n",
    "### Accessing Categorical Data\n",
    "\n",
    "#### Using the `.str` Accessor\n",
    "\n",
    "- **Search for substrings:**\n",
    "  ```python\n",
    "  mask = data_frame[\"categorical_var\"].str.contains(\"pattern\", regex=False)\n",
    "  filtered = data_frame[mask]\n",
    "  ```\n",
    "  - Enables pattern matching and targeted filtering.\n",
    "\n",
    "#### Using `.loc` for Conditional Access\n",
    "\n",
    "- **Subset rows by category value:**\n",
    "  ```python\n",
    "  result = data_frame.loc[data_frame[\"categorical_var\"] == \"Target\", \"other_column\"]\n",
    "  ```\n",
    "- **Summarise by group:**\n",
    "  ```python\n",
    "  data_frame.loc[data_frame[\"categorical_var\"] == \"Target\", \"other_column\"].value_counts()\n",
    "  ```\n",
    "\n",
    "\n",
    "### Best Practices\n",
    "\n",
    "- **Always inspect and clean categorical data before analysis.**\n",
    "- **Consolidate categories** through consistent capitalisation, whitespace trimming, and typo correction.\n",
    "- **Convert cleaned columns to categorical dtype** for memory efficiency and clarity.\n",
    "- **Validate results** with frequency tables after each cleaning step.\n",
    "- **Document cleaning decisions** to ensure reproducibility and transparency.\n",
    "\n",
    "<br>\n",
    "\n",
    "Reliable analysis of categorical data requires systematic cleaning and consistent access patterns. By employing Pandas’ string methods, replacement strategies, and dtype management—along with disciplined data inspection—you can ensure categorical variables are tidy, interpretable, and fully optimised for analysis, regardless of the dataset’s domain or context.\n"
   ]
  },
  {
   "cell_type": "code",
   "execution_count": 144,
   "id": "18c367bd",
   "metadata": {},
   "outputs": [
    {
     "data": {
      "application/vnd.microsoft.datawrangler.viewer.v0+json": {
       "columns": [
        {
         "name": "get_along_cats",
         "rawType": "object",
         "type": "string"
        },
        {
         "name": "count",
         "rawType": "int64",
         "type": "integer"
        }
       ],
       "ref": "3b491aeb-8312-4597-a73f-9aefa41969f0",
       "rows": [
        [
         "No",
         "2503"
        ],
        [
         "yes",
         "275"
        ],
        [
         "no",
         "156"
        ],
        [
         "Noo",
         "2"
        ],
        [
         " NO",
         "1"
        ]
       ],
       "shape": {
        "columns": 1,
        "rows": 5
       }
      },
      "text/plain": [
       "get_along_cats\n",
       "No     2503\n",
       "yes     275\n",
       "no      156\n",
       "Noo       2\n",
       " NO       1\n",
       "Name: count, dtype: int64"
      ]
     },
     "metadata": {},
     "output_type": "display_data"
    }
   ],
   "source": [
    "target_counts = {\"No\": 2503, \"yes\": 275, \"no\": 156, \"Noo\": 2, \" NO\": 1}\n",
    "\n",
    "# Build the column as an ndarray of the correct length\n",
    "target_column = np.repeat(\n",
    "    list(target_counts.keys()),      # the labels\n",
    "    list(target_counts.values())     # repeat each label this many times\n",
    ")\n",
    "\n",
    "dogs = dogs.iloc[: len(target_column)].copy()  # safety: match lengths\n",
    "dogs[\"get_along_cats\"] = target_column\n",
    "\n",
    "# Randomise the order \n",
    "rng = np.random.default_rng(seed=42)\n",
    "rng.shuffle(dogs[\"get_along_cats\"].values)\n",
    "\n",
    "# Set the values to categorical\n",
    "dogs[\"get_along_cats\"].astype(\"category\")\n",
    "\n",
    "display(dogs[\"get_along_cats\"].value_counts(dropna=False))\n"
   ]
  },
  {
   "cell_type": "code",
   "execution_count": 145,
   "id": "2a68ac60",
   "metadata": {},
   "outputs": [
    {
     "data": {
      "application/vnd.microsoft.datawrangler.viewer.v0+json": {
       "columns": [
        {
         "name": "get_along_cats",
         "rawType": "object",
         "type": "string"
        },
        {
         "name": "count",
         "rawType": "int64",
         "type": "integer"
        }
       ],
       "ref": "cf7ebe03-af93-4f47-b465-81643cb6a1d7",
       "rows": [
        [
         "No",
         "2503"
        ],
        [
         "yes",
         "275"
        ],
        [
         "no",
         "156"
        ],
        [
         "Noo",
         "2"
        ],
        [
         "NO",
         "1"
        ]
       ],
       "shape": {
        "columns": 1,
        "rows": 5
       }
      },
      "text/plain": [
       "get_along_cats\n",
       "No     2503\n",
       "yes     275\n",
       "no      156\n",
       "Noo       2\n",
       "NO        1\n",
       "Name: count, dtype: int64"
      ]
     },
     "execution_count": 145,
     "metadata": {},
     "output_type": "execute_result"
    }
   ],
   "source": [
    "# Fixing the issues of white spaces\n",
    "dogs[\"get_along_cats\"] = dogs[\"get_along_cats\"].str.strip()\n",
    "dogs[\"get_along_cats\"].value_counts()"
   ]
  },
  {
   "cell_type": "code",
   "execution_count": 146,
   "id": "cded1565",
   "metadata": {},
   "outputs": [
    {
     "data": {
      "application/vnd.microsoft.datawrangler.viewer.v0+json": {
       "columns": [
        {
         "name": "get_along_cats",
         "rawType": "object",
         "type": "string"
        },
        {
         "name": "count",
         "rawType": "int64",
         "type": "integer"
        }
       ],
       "ref": "5792b67f-a494-490d-9d1c-38978bcb4399",
       "rows": [
        [
         "No",
         "2660"
        ],
        [
         "Yes",
         "275"
        ],
        [
         "Noo",
         "2"
        ]
       ],
       "shape": {
        "columns": 1,
        "rows": 3
       }
      },
      "text/plain": [
       "get_along_cats\n",
       "No     2660\n",
       "Yes     275\n",
       "Noo       2\n",
       "Name: count, dtype: int64"
      ]
     },
     "execution_count": 146,
     "metadata": {},
     "output_type": "execute_result"
    }
   ],
   "source": [
    "# Fixing the issues of capitalizaztion\n",
    "dogs[\"get_along_cats\"] = dogs[\"get_along_cats\"].str.title()\n",
    "dogs[\"get_along_cats\"].value_counts()"
   ]
  },
  {
   "cell_type": "code",
   "execution_count": 147,
   "id": "02c3c8b4",
   "metadata": {},
   "outputs": [
    {
     "data": {
      "application/vnd.microsoft.datawrangler.viewer.v0+json": {
       "columns": [
        {
         "name": "get_along_cats",
         "rawType": "object",
         "type": "string"
        },
        {
         "name": "count",
         "rawType": "int64",
         "type": "integer"
        }
       ],
       "ref": "b705f516-5712-47fd-bb67-3d3b0324071b",
       "rows": [
        [
         "No",
         "2662"
        ],
        [
         "Yes",
         "275"
        ]
       ],
       "shape": {
        "columns": 1,
        "rows": 2
       }
      },
      "text/plain": [
       "get_along_cats\n",
       "No     2662\n",
       "Yes     275\n",
       "Name: count, dtype: int64"
      ]
     },
     "execution_count": 147,
     "metadata": {},
     "output_type": "execute_result"
    }
   ],
   "source": [
    "# Fixing the issues of misspelled words\n",
    "replace_map = {\"Noo\":\"No\"}\n",
    "dogs[\"get_along_cats\"] = dogs[\"get_along_cats\"].replace(replace_map)\n",
    "dogs[\"get_along_cats\"].value_counts()"
   ]
  },
  {
   "cell_type": "code",
   "execution_count": 148,
   "id": "6b8a5c34",
   "metadata": {},
   "outputs": [
    {
     "data": {
      "text/plain": [
       "dtype('O')"
      ]
     },
     "execution_count": 148,
     "metadata": {},
     "output_type": "execute_result"
    }
   ],
   "source": [
    "dogs[\"get_along_cats\"].dtype"
   ]
  },
  {
   "cell_type": "code",
   "execution_count": 149,
   "id": "bdd995ef",
   "metadata": {},
   "outputs": [
    {
     "data": {
      "text/plain": [
       "CategoricalDtype(categories=['No', 'Yes'], ordered=False, categories_dtype=object)"
      ]
     },
     "execution_count": 149,
     "metadata": {},
     "output_type": "execute_result"
    }
   ],
   "source": [
    "dogs[\"get_along_cats\"] = dogs[\"get_along_cats\"].astype(\"category\")\n",
    "dogs[\"get_along_cats\"].dtype"
   ]
  },
  {
   "cell_type": "code",
   "execution_count": 150,
   "id": "41390551",
   "metadata": {},
   "outputs": [
    {
     "data": {
      "application/vnd.microsoft.datawrangler.viewer.v0+json": {
       "columns": [
        {
         "name": "index",
         "rawType": "int64",
         "type": "integer"
        },
        {
         "name": "breed",
         "rawType": "bool",
         "type": "boolean"
        }
       ],
       "ref": "c6474dbc-3171-41a4-a01a-d78ac7a19d45",
       "rows": [
        [
         "0",
         "False"
        ],
        [
         "1",
         "False"
        ],
        [
         "2",
         "False"
        ],
        [
         "3",
         "False"
        ],
        [
         "4",
         "False"
        ],
        [
         "5",
         "False"
        ],
        [
         "6",
         "False"
        ],
        [
         "7",
         "False"
        ],
        [
         "8",
         "False"
        ],
        [
         "9",
         "False"
        ],
        [
         "10",
         "False"
        ],
        [
         "11",
         "False"
        ],
        [
         "12",
         "False"
        ],
        [
         "13",
         "False"
        ],
        [
         "14",
         "False"
        ],
        [
         "15",
         "False"
        ],
        [
         "16",
         "False"
        ],
        [
         "17",
         "False"
        ],
        [
         "18",
         "False"
        ],
        [
         "19",
         "False"
        ],
        [
         "20",
         "False"
        ],
        [
         "21",
         "False"
        ],
        [
         "22",
         "False"
        ],
        [
         "23",
         "False"
        ],
        [
         "24",
         "False"
        ],
        [
         "25",
         "False"
        ],
        [
         "26",
         "False"
        ],
        [
         "27",
         "True"
        ],
        [
         "28",
         "False"
        ],
        [
         "29",
         "False"
        ],
        [
         "30",
         "False"
        ],
        [
         "31",
         "False"
        ],
        [
         "32",
         "False"
        ],
        [
         "33",
         "False"
        ],
        [
         "34",
         "False"
        ],
        [
         "35",
         "False"
        ],
        [
         "36",
         "False"
        ],
        [
         "37",
         "False"
        ],
        [
         "38",
         "False"
        ],
        [
         "39",
         "False"
        ],
        [
         "40",
         "False"
        ],
        [
         "41",
         "False"
        ],
        [
         "42",
         "False"
        ],
        [
         "43",
         "False"
        ],
        [
         "44",
         "False"
        ],
        [
         "45",
         "False"
        ],
        [
         "46",
         "False"
        ],
        [
         "47",
         "False"
        ],
        [
         "48",
         "False"
        ],
        [
         "49",
         "False"
        ]
       ],
       "shape": {
        "columns": 1,
        "rows": 2937
       }
      },
      "text/plain": [
       "0       False\n",
       "1       False\n",
       "2       False\n",
       "3       False\n",
       "4       False\n",
       "        ...  \n",
       "2932    False\n",
       "2933    False\n",
       "2934    False\n",
       "2935    False\n",
       "2936     True\n",
       "Name: breed, Length: 2937, dtype: bool"
      ]
     },
     "execution_count": 150,
     "metadata": {},
     "output_type": "execute_result"
    }
   ],
   "source": [
    "# Searching for a stringg\n",
    "dogs[\"breed\"].str.contains(\"Shepherd\", regex=False)"
   ]
  },
  {
   "cell_type": "code",
   "execution_count": 151,
   "id": "499c1b5c",
   "metadata": {},
   "outputs": [
    {
     "data": {
      "application/vnd.microsoft.datawrangler.viewer.v0+json": {
       "columns": [
        {
         "name": "size",
         "rawType": "category",
         "type": "unknown"
        },
        {
         "name": "count",
         "rawType": "int64",
         "type": "integer"
        }
       ],
       "ref": "572506d3-d5e5-47bc-9d42-a165c410cd05",
       "rows": [
        [
         "small",
         "50"
        ],
        [
         "medium",
         "181"
        ],
        [
         "large",
         "44"
        ]
       ],
       "shape": {
        "columns": 1,
        "rows": 3
       }
      },
      "text/plain": [
       "size\n",
       "small      50\n",
       "medium    181\n",
       "large      44\n",
       "Name: count, dtype: int64"
      ]
     },
     "execution_count": 151,
     "metadata": {},
     "output_type": "execute_result"
    }
   ],
   "source": [
    "# Access Series values based on category\n",
    "dogs.loc[dogs[\"get_along_cats\"] == \"Yes\", \"size\"].value_counts(sort=False)"
   ]
  },
  {
   "cell_type": "code",
   "execution_count": 152,
   "id": "8f475708",
   "metadata": {},
   "outputs": [
    {
     "data": {
      "application/vnd.microsoft.datawrangler.viewer.v0+json": {
       "columns": [
        {
         "name": "sex",
         "rawType": "category",
         "type": "unknown"
        },
        {
         "name": "count",
         "rawType": "int64",
         "type": "integer"
        }
       ],
       "ref": "95da2850-6293-48f8-a2e9-83f2431ca852",
       "rows": [
        [
         "Male",
         "1681"
        ],
        [
         "Female",
         "1256"
        ]
       ],
       "shape": {
        "columns": 1,
        "rows": 2
       }
      },
      "text/plain": [
       "sex\n",
       "Male      1681\n",
       "Female    1256\n",
       "Name: count, dtype: int64"
      ]
     },
     "execution_count": 152,
     "metadata": {},
     "output_type": "execute_result"
    }
   ],
   "source": [
    "dogs[\"sex\"].value_counts(dropna=False)"
   ]
  },
  {
   "cell_type": "markdown",
   "id": "219d4f93",
   "metadata": {},
   "source": [
    "### Cleaning variables\n",
    "Users of an online entry system used to have the ability to freely type in responses to questions. This is causing issues when trying to analyze the adoptable dogs dataset, `dogs`. Here is the current frequency table of the `\"sex\"` column:"
   ]
  },
  {
   "cell_type": "code",
   "execution_count": 153,
   "id": "e20a5785",
   "metadata": {},
   "outputs": [
    {
     "data": {
      "application/vnd.microsoft.datawrangler.viewer.v0+json": {
       "columns": [
        {
         "name": "sex",
         "rawType": "object",
         "type": "string"
        },
        {
         "name": "count",
         "rawType": "int64",
         "type": "integer"
        }
       ],
       "ref": "7565913c-37d8-4cf7-83f9-61d67da63fb1",
       "rows": [
        [
         "male",
         "1672"
        ],
        [
         "female",
         "1249"
        ],
        [
         " MALE",
         "10"
        ],
        [
         " FEMALE",
         "5"
        ],
        [
         "Malez",
         "1"
        ]
       ],
       "shape": {
        "columns": 1,
        "rows": 5
       }
      },
      "text/plain": [
       "sex\n",
       "male       1672\n",
       "female     1249\n",
       " MALE        10\n",
       " FEMALE       5\n",
       "Malez         1\n",
       "Name: count, dtype: int64"
      ]
     },
     "metadata": {},
     "output_type": "display_data"
    }
   ],
   "source": [
    "target_sex = {\"male\":1672, \"female\":1249, \" MALE\":10, \" FEMALE\":5, \"Malez\":1}\n",
    "target_sex_column = np.repeat(\n",
    "    list(target_sex.keys()), \n",
    "    list(target_sex.values())\n",
    ")\n",
    "\n",
    "dogs = dogs.iloc[: len(target_sex_column)].copy()  # safety: match lengths\n",
    "dogs[\"sex\"] = target_sex_column\n",
    "\n",
    "# Randomise the order \n",
    "rng = np.random.default_rng(seed=42)\n",
    "rng.shuffle(dogs[\"sex\"].values)\n",
    "\n",
    "# Set the values to categorical\n",
    "dogs[\"sex\"].astype(\"category\")\n",
    "\n",
    "display(dogs[\"sex\"].value_counts(dropna=False))"
   ]
  },
  {
   "cell_type": "markdown",
   "id": "9fbebb83",
   "metadata": {},
   "source": [
    "Now that the system only takes responses of `\"female\"` and `\"male\"`, you want this variable to match the updated system."
   ]
  },
  {
   "cell_type": "code",
   "execution_count": 154,
   "id": "00d2b5e8",
   "metadata": {},
   "outputs": [
    {
     "data": {
      "application/vnd.microsoft.datawrangler.viewer.v0+json": {
       "columns": [
        {
         "name": "sex",
         "rawType": "object",
         "type": "string"
        },
        {
         "name": "count",
         "rawType": "int64",
         "type": "integer"
        }
       ],
       "ref": "a9548b6a-25cc-427d-9fc7-6fd2dac96e52",
       "rows": [
        [
         "male",
         "1673"
        ],
        [
         "female",
         "1249"
        ],
        [
         " MALE",
         "10"
        ],
        [
         " FEMALE",
         "5"
        ]
       ],
       "shape": {
        "columns": 1,
        "rows": 4
       }
      },
      "text/plain": [
       "sex\n",
       "male       1673\n",
       "female     1249\n",
       " MALE        10\n",
       " FEMALE       5\n",
       "Name: count, dtype: int64"
      ]
     },
     "metadata": {},
     "output_type": "display_data"
    }
   ],
   "source": [
    "# Update the misspelled response \"Malez\" to be \"male\" by creating the replacement map, replace_map.\n",
    "replace_map = {\"Malez\": \"male\"}\n",
    "dogs[\"sex\"] = dogs[\"sex\"].replace(replace_map)\n",
    "display(dogs[\"sex\"].value_counts())"
   ]
  },
  {
   "cell_type": "code",
   "execution_count": 155,
   "id": "b6adef7e",
   "metadata": {},
   "outputs": [
    {
     "data": {
      "application/vnd.microsoft.datawrangler.viewer.v0+json": {
       "columns": [
        {
         "name": "sex",
         "rawType": "object",
         "type": "string"
        },
        {
         "name": "count",
         "rawType": "int64",
         "type": "integer"
        }
       ],
       "ref": "18df2c95-47f9-4d44-a431-ed307db96957",
       "rows": [
        [
         "male",
         "1673"
        ],
        [
         "female",
         "1249"
        ],
        [
         "MALE",
         "10"
        ],
        [
         "FEMALE",
         "5"
        ]
       ],
       "shape": {
        "columns": 1,
        "rows": 4
       }
      },
      "text/plain": [
       "sex\n",
       "male      1673\n",
       "female    1249\n",
       "MALE        10\n",
       "FEMALE       5\n",
       "Name: count, dtype: int64"
      ]
     },
     "metadata": {},
     "output_type": "display_data"
    }
   ],
   "source": [
    "# Remove the leading spaces of the \" MALE\" and \" FEMALE\" responses.\n",
    "dogs[\"sex\"] = dogs[\"sex\"].str.strip()\n",
    "display(dogs[\"sex\"].value_counts())"
   ]
  },
  {
   "cell_type": "code",
   "execution_count": 156,
   "id": "0fdf53e5",
   "metadata": {},
   "outputs": [
    {
     "data": {
      "application/vnd.microsoft.datawrangler.viewer.v0+json": {
       "columns": [
        {
         "name": "sex",
         "rawType": "object",
         "type": "string"
        },
        {
         "name": "count",
         "rawType": "int64",
         "type": "integer"
        }
       ],
       "ref": "bc794901-1a07-4b42-a0fd-87599d324bb6",
       "rows": [
        [
         "male",
         "1683"
        ],
        [
         "female",
         "1254"
        ]
       ],
       "shape": {
        "columns": 1,
        "rows": 2
       }
      },
      "text/plain": [
       "sex\n",
       "male      1683\n",
       "female    1254\n",
       "Name: count, dtype: int64"
      ]
     },
     "metadata": {},
     "output_type": "display_data"
    }
   ],
   "source": [
    "# Convert all responses to be strictly lowercase.\n",
    "dogs[\"sex\"] = dogs[\"sex\"].str.lower()\n",
    "display(dogs[\"sex\"].value_counts())"
   ]
  },
  {
   "cell_type": "code",
   "execution_count": 157,
   "id": "30bacb5d",
   "metadata": {},
   "outputs": [
    {
     "data": {
      "text/plain": [
       "CategoricalDtype(categories=['female', 'male'], ordered=False, categories_dtype=object)"
      ]
     },
     "metadata": {},
     "output_type": "display_data"
    }
   ],
   "source": [
    "# Convert the \"sex\" column to a categorical pandas Series.\n",
    "dogs[\"sex\"] = dogs[\"sex\"].astype(\"category\")\n",
    "display(dogs[\"sex\"].dtype)"
   ]
  },
  {
   "cell_type": "markdown",
   "id": "4be98add",
   "metadata": {},
   "source": [
    "### Accessing and filtering data\n",
    "You are working on a Python application to display information about the dogs available for adoption at your local animal shelter. Some of the variables of interest, such as `\"breed\"`, `\"size\"`, and `\"coat\"`, are saved as categorical variables. In order for this application to work properly, you need to be able to access and filter data using these columns."
   ]
  },
  {
   "cell_type": "code",
   "execution_count": 158,
   "id": "74075b1a",
   "metadata": {},
   "outputs": [
    {
     "data": {
      "application/vnd.microsoft.datawrangler.viewer.v0+json": {
       "columns": [
        {
         "name": "coat",
         "rawType": "object",
         "type": "string"
        },
        {
         "name": "count",
         "rawType": "int64",
         "type": "integer"
        }
       ],
       "ref": "99292862-32e4-4b17-99b7-17a33223a151",
       "rows": [
        [
         "short",
         "1669"
        ],
        [
         "medium",
         "430"
        ],
        [
         "wirehaired",
         "199"
        ],
        [
         "long",
         "117"
        ]
       ],
       "shape": {
        "columns": 1,
        "rows": 4
       }
      },
      "text/plain": [
       "coat\n",
       "short         1669\n",
       "medium         430\n",
       "wirehaired     199\n",
       "long           117\n",
       "Name: count, dtype: int64"
      ]
     },
     "metadata": {},
     "output_type": "display_data"
    }
   ],
   "source": [
    "intended_coat = {\"short\":1669, \"medium\": 430, \"wirehaired\":199, \"long\":117}\n",
    "target_coat_column = np.repeat(\n",
    "    list(intended_coat.keys()),\n",
    "    list(intended_coat.values())\n",
    ")\n",
    "dogs = dogs.iloc[: len(target_coat_column)].copy()  # safety: match lengths\n",
    "dogs[\"coat\"] = target_coat_column\n",
    "\n",
    "# Randomise the order \n",
    "rng = np.random.default_rng(seed=42)\n",
    "rng.shuffle(dogs[\"coat\"].values)\n",
    "\n",
    "# Set the values to categorical\n",
    "dogs[\"coat\"].astype(\"category\")\n",
    "\n",
    "display(dogs[\"coat\"].value_counts(dropna=False))"
   ]
  },
  {
   "cell_type": "code",
   "execution_count": 159,
   "id": "dfc27977",
   "metadata": {},
   "outputs": [
    {
     "data": {
      "application/vnd.microsoft.datawrangler.viewer.v0+json": {
       "columns": [
        {
         "name": "index",
         "rawType": "int64",
         "type": "integer"
        },
        {
         "name": "coat",
         "rawType": "object",
         "type": "string"
        }
       ],
       "ref": "f4c6bada-b2de-42eb-9a39-3dc12fe3efd3",
       "rows": [
        [
         "0",
         "short"
        ]
       ],
       "shape": {
        "columns": 1,
        "rows": 1
       }
      },
      "text/plain": [
       "0    short\n",
       "Name: coat, dtype: object"
      ]
     },
     "execution_count": 159,
     "metadata": {},
     "output_type": "execute_result"
    }
   ],
   "source": [
    "dogs.loc[dogs[\"ID\"] == 23807, \"coat\"]\n"
   ]
  },
  {
   "cell_type": "code",
   "execution_count": 160,
   "id": "aa83ddbc",
   "metadata": {},
   "outputs": [
    {
     "data": {
      "application/vnd.microsoft.datawrangler.viewer.v0+json": {
       "columns": [
        {
         "name": "sex",
         "rawType": "category",
         "type": "unknown"
        },
        {
         "name": "count",
         "rawType": "int64",
         "type": "integer"
        }
       ],
       "ref": "cbd83b35-051d-4928-9791-45e21c219168",
       "rows": [
        [
         "male",
         "72"
        ],
        [
         "female",
         "45"
        ]
       ],
       "shape": {
        "columns": 1,
        "rows": 2
       }
      },
      "text/plain": [
       "sex\n",
       "male      72\n",
       "female    45\n",
       "Name: count, dtype: int64"
      ]
     },
     "execution_count": 160,
     "metadata": {},
     "output_type": "execute_result"
    }
   ],
   "source": [
    "# For dogs with a long \"coat\", print the number of each \"sex\".\n",
    "dogs.loc[dogs[\"coat\"] == \"long\", \"sex\"].value_counts()"
   ]
  },
  {
   "cell_type": "code",
   "execution_count": 161,
   "id": "7bbf794b",
   "metadata": {},
   "outputs": [
    {
     "data": {
      "text/plain": [
       "np.float64(8.186153846153847)"
      ]
     },
     "execution_count": 161,
     "metadata": {},
     "output_type": "execute_result"
    }
   ],
   "source": [
    "# Print the average age of dogs with a \"breed\" of \"English Cocker Spaniel\".\n",
    "dogs.loc[dogs[\"breed\"] == \"English Cocker Spaniel\", \"age\"].mean(numeric_only=True)"
   ]
  },
  {
   "cell_type": "code",
   "execution_count": 162,
   "id": "227bd971",
   "metadata": {},
   "outputs": [
    {
     "data": {
      "text/plain": [
       "34"
      ]
     },
     "execution_count": 162,
     "metadata": {},
     "output_type": "execute_result"
    }
   ],
   "source": [
    "# Filter to the dogs with \"English\" in their \"breed\" name using the .contains() method.\n",
    "dogs[dogs[\"breed\"].str.contains(\"English\", regex=False)].shape[0]"
   ]
  },
  {
   "cell_type": "markdown",
   "id": "e2edd0a8",
   "metadata": {},
   "source": [
    "## Introduction to Categorical Plots Using Seaborn\n",
    "\n",
    "Seaborn is a powerful and flexible Python library for data visualisation, particularly well-suited for statistical graphics. Among its core strengths are **categorical plots**, which are designed to reveal the distribution, central tendency, and relationships between qualitative variables and their quantitative counterparts. Categorical plotting in Seaborn is highly efficient, producing visually compelling results with minimal code.\n",
    "\n",
    "This guide covers foundational principles, syntax, and best practices for categorical plotting using Seaborn’s `catplot` function, with a focus on the object-oriented (OOP) approach for maximum control and clarity.\n",
    "\n",
    "\n",
    "### Why Categorical Plots?\n",
    "\n",
    "Categorical plots are essential for:\n",
    "- Comparing distributions across discrete groups.\n",
    "- Understanding the relationship between categorical and numerical variables.\n",
    "- Detecting outliers, variability, and trends within categories.\n",
    "- Summarising counts or proportions for qualitative data.\n",
    "\n",
    "\n",
    "### Overview of Seaborn’s `catplot`\n",
    "\n",
    "Seaborn’s `catplot()` is a unified interface for creating several types of categorical plots, with the `kind` parameter controlling the plot style.\n",
    "\n",
    "#### Supported Plot Types:\n",
    "- `\"strip\"`: Scatter plot of all data points (with jitter for overlap).\n",
    "- `\"swarm\"`: Scatter plot with non-overlapping points.\n",
    "- `\"box\"`: Box-and-whisker plot (quartiles, outliers, median).\n",
    "- `\"violin\"`: Kernel density estimate mirrored for each category.\n",
    "- `\"boxen\"`: Enhanced box plot for large datasets.\n",
    "- `\"point\"`: Plot of means (or other summary stats) with confidence intervals.\n",
    "- `\"bar\"`: Bar plot of summary statistic (default: mean) for each category.\n",
    "- `\"count\"`: Bar plot of raw counts for each category.\n",
    "\n",
    "\n",
    "### General Syntax for `catplot` (OOP Approach)\n",
    "\n",
    "```python\n",
    "import seaborn as sns\n",
    "import matplotlib.pyplot as plt\n",
    "\n",
    "# Set global figure aesthetics (optional)\n",
    "sns.set(font_scale=1.2)\n",
    "sns.set_style(\"whitegrid\")\n",
    "\n",
    "# Create the categorical plot as a FacetGrid object\n",
    "g = sns.catplot(\n",
    "    x=\"categorical_var\",        # column in your DataFrame\n",
    "    y=\"numeric_var\",            # column in your DataFrame\n",
    "    data=data_frame,            # your DataFrame\n",
    "    kind=\"box\",                 # or \"violin\", \"bar\", etc.\n",
    "    height=6,                   # controls figure height (in inches)\n",
    "    aspect=1.3,                 # width/height ratio\n",
    "    palette=\"muted\"             # colour scheme\n",
    ")\n",
    "\n",
    "# Customise axes and figure using OOP interface\n",
    "g.set_axis_labels(\"Category Label\", \"Value Label\")\n",
    "g.fig.suptitle(\"Title of Your Categorical Plot\", y=1.03)\n",
    "g.set_titles(\"{col_name}\")\n",
    "\n",
    "# Additional customisation (optional)\n",
    "for ax in g.axes.flat:\n",
    "    ax.set_ylabel(\"Custom Y Label\")\n",
    "    ax.set_xlabel(\"Custom X Label\")\n",
    "    ax.tick_params(axis='x', rotation=45)\n",
    "\n",
    "plt.tight_layout()\n",
    "plt.show()\n",
    "```\n",
    "\n",
    "\n",
    "### Robust Plot Options (OOP Approach)\n",
    "\n",
    "- **Box Plot:** Useful for visualising the distribution, median, quartiles, and outliers within each category.\n",
    "    ```python\n",
    "    g = sns.catplot(\n",
    "        x=\"category\", y=\"value\", data=df,\n",
    "        kind=\"box\", height=5, aspect=1.2, palette=\"Set2\"\n",
    "    )\n",
    "    ```\n",
    "- **Violin Plot:** Shows the full distribution with density estimation.\n",
    "    ```python\n",
    "    g = sns.catplot(\n",
    "        x=\"category\", y=\"value\", data=df,\n",
    "        kind=\"violin\", inner=\"quartile\", height=5, aspect=1.2, palette=\"coolwarm\"\n",
    "    )\n",
    "    ```\n",
    "- **Bar Plot:** Displays means (or other estimator) with error bars.\n",
    "    ```python\n",
    "    g = sns.catplot(\n",
    "        x=\"category\", y=\"value\", data=df,\n",
    "        kind=\"bar\", height=5, aspect=1.2, ci=\"sd\", palette=\"muted\"\n",
    "    )\n",
    "    ```\n",
    "- **Count Plot:** Number of observations per category (no y argument).\n",
    "    ```python\n",
    "    g = sns.catplot(\n",
    "        x=\"category\", data=df,\n",
    "        kind=\"count\", height=5, aspect=1.2, palette=\"deep\"\n",
    "    )\n",
    "    ```\n",
    "\n",
    "\n",
    "### Principles of Effective Categorical Plotting\n",
    "\n",
    "- **Use OOP customisation:** With `catplot`, you get a FacetGrid object, which allows further manipulation and fine-tuning.\n",
    "- **Set axis labels and titles for interpretability.**\n",
    "- **Rotate x-axis labels** if category names are long or numerous.\n",
    "- **Choose appropriate palettes** for clarity and accessibility.\n",
    "- **Adjust plot height/aspect** for readability, especially in presentations.\n",
    "\n",
    "### Advanced: Multiple Categories and Faceting\n",
    "\n",
    "Visualise additional categorical groupings using `hue`, `col`, or `row`:\n",
    "\n",
    "```python\n",
    "g = sns.catplot(\n",
    "    x=\"category1\", y=\"value\", hue=\"category2\", data=df,\n",
    "    kind=\"box\", col=\"facet_category\", height=4, aspect=1\n",
    ")\n",
    "```\n",
    "- This produces subplots (facets) split by a third variable.\n",
    "\n",
    "Seaborn’s `catplot` function—especially when used via the OOP (FacetGrid) interface—offers a highly flexible, robust, and visually compelling way to explore relationships between categorical and numerical data. Mastery of categorical plotting enables you to rapidly detect patterns, differences, and outliers, providing the foundation for statistical insight and communicative data visualisation in any field.\n"
   ]
  },
  {
   "cell_type": "code",
   "execution_count": 163,
   "id": "6c71641e",
   "metadata": {},
   "outputs": [
    {
     "data": {
      "application/vnd.microsoft.datawrangler.viewer.v0+json": {
       "columns": [
        {
         "name": "index",
         "rawType": "int64",
         "type": "integer"
        },
        {
         "name": "User country",
         "rawType": "object",
         "type": "string"
        },
        {
         "name": "Nr. reviews",
         "rawType": "int64",
         "type": "integer"
        },
        {
         "name": "Nr. hotel reviews",
         "rawType": "int64",
         "type": "integer"
        },
        {
         "name": "Helpful votes",
         "rawType": "int64",
         "type": "integer"
        },
        {
         "name": "Score",
         "rawType": "int64",
         "type": "integer"
        },
        {
         "name": "Period of stay",
         "rawType": "object",
         "type": "string"
        },
        {
         "name": "Traveler type",
         "rawType": "object",
         "type": "string"
        },
        {
         "name": "Pool",
         "rawType": "object",
         "type": "string"
        },
        {
         "name": "Gym",
         "rawType": "object",
         "type": "string"
        },
        {
         "name": "Tennis court",
         "rawType": "object",
         "type": "string"
        },
        {
         "name": "Spa",
         "rawType": "object",
         "type": "string"
        },
        {
         "name": "Casino",
         "rawType": "object",
         "type": "string"
        },
        {
         "name": "Free internet",
         "rawType": "object",
         "type": "string"
        },
        {
         "name": "Hotel name",
         "rawType": "object",
         "type": "string"
        },
        {
         "name": "Hotel stars",
         "rawType": "int64",
         "type": "integer"
        },
        {
         "name": "Nr. rooms",
         "rawType": "int64",
         "type": "integer"
        },
        {
         "name": "User continent",
         "rawType": "object",
         "type": "string"
        },
        {
         "name": "Member years",
         "rawType": "int64",
         "type": "integer"
        },
        {
         "name": "Review month",
         "rawType": "object",
         "type": "string"
        },
        {
         "name": "Review weekday",
         "rawType": "object",
         "type": "string"
        }
       ],
       "ref": "bd0ae9db-3f72-462c-953d-81c13098ed18",
       "rows": [
        [
         "0",
         "USA",
         "11",
         "4",
         "13",
         "5",
         "Dec-Feb",
         "Friends",
         "NO",
         "YES",
         "NO",
         "NO",
         "YES",
         "YES",
         "Circus Circus Hotel & Casino Las Vegas",
         "3",
         "3773",
         "North America",
         "9",
         "January",
         "Thursday"
        ],
        [
         "1",
         "USA",
         "119",
         "21",
         "75",
         "3",
         "Dec-Feb",
         "Business",
         "NO",
         "YES",
         "NO",
         "NO",
         "YES",
         "YES",
         "Circus Circus Hotel & Casino Las Vegas",
         "3",
         "3773",
         "North America",
         "3",
         "January",
         "Friday"
        ],
        [
         "2",
         "USA",
         "36",
         "9",
         "25",
         "5",
         "Mar-May",
         "Families",
         "NO",
         "YES",
         "NO",
         "NO",
         "YES",
         "YES",
         "Circus Circus Hotel & Casino Las Vegas",
         "3",
         "3773",
         "North America",
         "2",
         "February",
         "Saturday"
        ],
        [
         "3",
         "UK",
         "14",
         "7",
         "14",
         "4",
         "Mar-May",
         "Friends",
         "NO",
         "YES",
         "NO",
         "NO",
         "YES",
         "YES",
         "Circus Circus Hotel & Casino Las Vegas",
         "3",
         "3773",
         "Europe",
         "6",
         "February",
         "Friday"
        ],
        [
         "4",
         "Canada",
         "5",
         "5",
         "2",
         "4",
         "Mar-May",
         "Solo",
         "NO",
         "YES",
         "NO",
         "NO",
         "YES",
         "YES",
         "Circus Circus Hotel & Casino Las Vegas",
         "3",
         "3773",
         "North America",
         "7",
         "March",
         "Tuesday"
        ]
       ],
       "shape": {
        "columns": 20,
        "rows": 5
       }
      },
      "text/html": [
       "<div>\n",
       "<style scoped>\n",
       "    .dataframe tbody tr th:only-of-type {\n",
       "        vertical-align: middle;\n",
       "    }\n",
       "\n",
       "    .dataframe tbody tr th {\n",
       "        vertical-align: top;\n",
       "    }\n",
       "\n",
       "    .dataframe thead th {\n",
       "        text-align: right;\n",
       "    }\n",
       "</style>\n",
       "<table border=\"1\" class=\"dataframe\">\n",
       "  <thead>\n",
       "    <tr style=\"text-align: right;\">\n",
       "      <th></th>\n",
       "      <th>User country</th>\n",
       "      <th>Nr. reviews</th>\n",
       "      <th>Nr. hotel reviews</th>\n",
       "      <th>Helpful votes</th>\n",
       "      <th>Score</th>\n",
       "      <th>Period of stay</th>\n",
       "      <th>Traveler type</th>\n",
       "      <th>Pool</th>\n",
       "      <th>Gym</th>\n",
       "      <th>Tennis court</th>\n",
       "      <th>Spa</th>\n",
       "      <th>Casino</th>\n",
       "      <th>Free internet</th>\n",
       "      <th>Hotel name</th>\n",
       "      <th>Hotel stars</th>\n",
       "      <th>Nr. rooms</th>\n",
       "      <th>User continent</th>\n",
       "      <th>Member years</th>\n",
       "      <th>Review month</th>\n",
       "      <th>Review weekday</th>\n",
       "    </tr>\n",
       "  </thead>\n",
       "  <tbody>\n",
       "    <tr>\n",
       "      <th>0</th>\n",
       "      <td>USA</td>\n",
       "      <td>11</td>\n",
       "      <td>4</td>\n",
       "      <td>13</td>\n",
       "      <td>5</td>\n",
       "      <td>Dec-Feb</td>\n",
       "      <td>Friends</td>\n",
       "      <td>NO</td>\n",
       "      <td>YES</td>\n",
       "      <td>NO</td>\n",
       "      <td>NO</td>\n",
       "      <td>YES</td>\n",
       "      <td>YES</td>\n",
       "      <td>Circus Circus Hotel &amp; Casino Las Vegas</td>\n",
       "      <td>3</td>\n",
       "      <td>3773</td>\n",
       "      <td>North America</td>\n",
       "      <td>9</td>\n",
       "      <td>January</td>\n",
       "      <td>Thursday</td>\n",
       "    </tr>\n",
       "    <tr>\n",
       "      <th>1</th>\n",
       "      <td>USA</td>\n",
       "      <td>119</td>\n",
       "      <td>21</td>\n",
       "      <td>75</td>\n",
       "      <td>3</td>\n",
       "      <td>Dec-Feb</td>\n",
       "      <td>Business</td>\n",
       "      <td>NO</td>\n",
       "      <td>YES</td>\n",
       "      <td>NO</td>\n",
       "      <td>NO</td>\n",
       "      <td>YES</td>\n",
       "      <td>YES</td>\n",
       "      <td>Circus Circus Hotel &amp; Casino Las Vegas</td>\n",
       "      <td>3</td>\n",
       "      <td>3773</td>\n",
       "      <td>North America</td>\n",
       "      <td>3</td>\n",
       "      <td>January</td>\n",
       "      <td>Friday</td>\n",
       "    </tr>\n",
       "    <tr>\n",
       "      <th>2</th>\n",
       "      <td>USA</td>\n",
       "      <td>36</td>\n",
       "      <td>9</td>\n",
       "      <td>25</td>\n",
       "      <td>5</td>\n",
       "      <td>Mar-May</td>\n",
       "      <td>Families</td>\n",
       "      <td>NO</td>\n",
       "      <td>YES</td>\n",
       "      <td>NO</td>\n",
       "      <td>NO</td>\n",
       "      <td>YES</td>\n",
       "      <td>YES</td>\n",
       "      <td>Circus Circus Hotel &amp; Casino Las Vegas</td>\n",
       "      <td>3</td>\n",
       "      <td>3773</td>\n",
       "      <td>North America</td>\n",
       "      <td>2</td>\n",
       "      <td>February</td>\n",
       "      <td>Saturday</td>\n",
       "    </tr>\n",
       "    <tr>\n",
       "      <th>3</th>\n",
       "      <td>UK</td>\n",
       "      <td>14</td>\n",
       "      <td>7</td>\n",
       "      <td>14</td>\n",
       "      <td>4</td>\n",
       "      <td>Mar-May</td>\n",
       "      <td>Friends</td>\n",
       "      <td>NO</td>\n",
       "      <td>YES</td>\n",
       "      <td>NO</td>\n",
       "      <td>NO</td>\n",
       "      <td>YES</td>\n",
       "      <td>YES</td>\n",
       "      <td>Circus Circus Hotel &amp; Casino Las Vegas</td>\n",
       "      <td>3</td>\n",
       "      <td>3773</td>\n",
       "      <td>Europe</td>\n",
       "      <td>6</td>\n",
       "      <td>February</td>\n",
       "      <td>Friday</td>\n",
       "    </tr>\n",
       "    <tr>\n",
       "      <th>4</th>\n",
       "      <td>Canada</td>\n",
       "      <td>5</td>\n",
       "      <td>5</td>\n",
       "      <td>2</td>\n",
       "      <td>4</td>\n",
       "      <td>Mar-May</td>\n",
       "      <td>Solo</td>\n",
       "      <td>NO</td>\n",
       "      <td>YES</td>\n",
       "      <td>NO</td>\n",
       "      <td>NO</td>\n",
       "      <td>YES</td>\n",
       "      <td>YES</td>\n",
       "      <td>Circus Circus Hotel &amp; Casino Las Vegas</td>\n",
       "      <td>3</td>\n",
       "      <td>3773</td>\n",
       "      <td>North America</td>\n",
       "      <td>7</td>\n",
       "      <td>March</td>\n",
       "      <td>Tuesday</td>\n",
       "    </tr>\n",
       "  </tbody>\n",
       "</table>\n",
       "</div>"
      ],
      "text/plain": [
       "  User country  Nr. reviews  Nr. hotel reviews  Helpful votes  Score  \\\n",
       "0          USA           11                  4             13      5   \n",
       "1          USA          119                 21             75      3   \n",
       "2          USA           36                  9             25      5   \n",
       "3           UK           14                  7             14      4   \n",
       "4       Canada            5                  5              2      4   \n",
       "\n",
       "  Period of stay Traveler type Pool  Gym Tennis court Spa Casino  \\\n",
       "0        Dec-Feb       Friends   NO  YES           NO  NO    YES   \n",
       "1        Dec-Feb      Business   NO  YES           NO  NO    YES   \n",
       "2        Mar-May      Families   NO  YES           NO  NO    YES   \n",
       "3        Mar-May       Friends   NO  YES           NO  NO    YES   \n",
       "4        Mar-May          Solo   NO  YES           NO  NO    YES   \n",
       "\n",
       "  Free internet                              Hotel name  Hotel stars  \\\n",
       "0           YES  Circus Circus Hotel & Casino Las Vegas            3   \n",
       "1           YES  Circus Circus Hotel & Casino Las Vegas            3   \n",
       "2           YES  Circus Circus Hotel & Casino Las Vegas            3   \n",
       "3           YES  Circus Circus Hotel & Casino Las Vegas            3   \n",
       "4           YES  Circus Circus Hotel & Casino Las Vegas            3   \n",
       "\n",
       "   Nr. rooms User continent  Member years Review month Review weekday  \n",
       "0       3773  North America             9      January       Thursday  \n",
       "1       3773  North America             3      January         Friday  \n",
       "2       3773  North America             2     February       Saturday  \n",
       "3       3773         Europe             6     February         Friday  \n",
       "4       3773  North America             7        March        Tuesday  "
      ]
     },
     "execution_count": 163,
     "metadata": {},
     "output_type": "execute_result"
    }
   ],
   "source": [
    "reviews = pd.read_csv(\"data/lasvegas_tripadvisor.csv\")\n",
    "reviews.head()"
   ]
  },
  {
   "cell_type": "code",
   "execution_count": 164,
   "id": "e8354695",
   "metadata": {},
   "outputs": [
    {
     "name": "stdout",
     "output_type": "stream",
     "text": [
      "<class 'pandas.core.frame.DataFrame'>\n",
      "RangeIndex: 504 entries, 0 to 503\n",
      "Data columns (total 20 columns):\n",
      " #   Column             Non-Null Count  Dtype \n",
      "---  ------             --------------  ----- \n",
      " 0   User country       504 non-null    object\n",
      " 1   Nr. reviews        504 non-null    int64 \n",
      " 2   Nr. hotel reviews  504 non-null    int64 \n",
      " 3   Helpful votes      504 non-null    int64 \n",
      " 4   Score              504 non-null    int64 \n",
      " 5   Period of stay     504 non-null    object\n",
      " 6   Traveler type      504 non-null    object\n",
      " 7   Pool               504 non-null    object\n",
      " 8   Gym                504 non-null    object\n",
      " 9   Tennis court       504 non-null    object\n",
      " 10  Spa                504 non-null    object\n",
      " 11  Casino             504 non-null    object\n",
      " 12  Free internet      504 non-null    object\n",
      " 13  Hotel name         504 non-null    object\n",
      " 14  Hotel stars        504 non-null    int64 \n",
      " 15  Nr. rooms          504 non-null    int64 \n",
      " 16  User continent     504 non-null    object\n",
      " 17  Member years       504 non-null    int64 \n",
      " 18  Review month       504 non-null    object\n",
      " 19  Review weekday     504 non-null    object\n",
      "dtypes: int64(7), object(13)\n",
      "memory usage: 78.9+ KB\n"
     ]
    }
   ],
   "source": [
    "reviews.info()"
   ]
  },
  {
   "cell_type": "code",
   "execution_count": 165,
   "id": "528be1c1",
   "metadata": {},
   "outputs": [
    {
     "data": {
      "application/vnd.microsoft.datawrangler.viewer.v0+json": {
       "columns": [
        {
         "name": "Score",
         "rawType": "int64",
         "type": "integer"
        },
        {
         "name": "count",
         "rawType": "int64",
         "type": "integer"
        }
       ],
       "ref": "2ba303a6-494e-4688-a28a-d54c906c4527",
       "rows": [
        [
         "5",
         "227"
        ],
        [
         "4",
         "164"
        ],
        [
         "3",
         "72"
        ],
        [
         "2",
         "30"
        ],
        [
         "1",
         "11"
        ]
       ],
       "shape": {
        "columns": 1,
        "rows": 5
       }
      },
      "text/plain": [
       "Score\n",
       "5    227\n",
       "4    164\n",
       "3     72\n",
       "2     30\n",
       "1     11\n",
       "Name: count, dtype: int64"
      ]
     },
     "execution_count": 165,
     "metadata": {},
     "output_type": "execute_result"
    }
   ],
   "source": [
    "reviews[\"Score\"].value_counts()"
   ]
  },
  {
   "cell_type": "code",
   "execution_count": 166,
   "id": "70cbf61c",
   "metadata": {},
   "outputs": [
    {
     "data": {
      "image/png": "[encoded data removed]",
      "text/plain": [
       "<Figure size 780x600 with 1 Axes>"
      ]
     },
     "metadata": {},
     "output_type": "display_data"
    }
   ],
   "source": [
    "# sns.catplot() creates a FacetGrid object, allowing for more customization\n",
    "g = sns.catplot(\n",
    "    x=\"Pool\",                    # Categorical variable on x-axis (Pool availability: YES/NO)\n",
    "    y=\"Score\",                   # Numerical variable on y-axis (Review scores: 1-5)\n",
    "    data=reviews,                \n",
    "    kind=\"box\",                  \n",
    "    height=6,                    # Figure height in inches\n",
    "    aspect=1.3,                  # Width-to-height ratio (1.3 means 30% wider than tall)\n",
    "    palette=\"viridis\",           \n",
    "    hue=\"Pool\"\n",
    ")\n",
    "\n",
    "\n",
    "# Add a main title positioned slightly above the plot\n",
    "g.figure.suptitle(\"Hotel Review Scores by Pool Availability\", y=1.02, fontsize=14)\n",
    "\n",
    "# Customize individual axes for enhanced readability\n",
    "for ax in g.axes.flat:         # Iterate through all subplot axes in the grid\n",
    "    ax.set_ylim(0, 6)          # Set consistent y-axis range from 0 to 6\n",
    "    ax.grid(True, alpha=0.3)    # Add subtle grid lines (alpha controls transparency)\n",
    "    ax.set_ylabel(\"Review Score (1-5)\", fontsize=12)    # Detailed y-axis label\n",
    "    ax.set_xlabel(\"Pool Available\", fontsize=12)        # Clear x-axis label\n",
    "\n",
    "\n",
    "plt.tight_layout()             \n",
    "plt.show()                     "
   ]
  },
  {
   "cell_type": "markdown",
   "id": "6e47d521",
   "metadata": {},
   "source": [
    "### Creating a box plot\n",
    "When people leave reviews for products, services, or destinations, people reading those reviews can sometimes mark the original review as helpful. If enough people mark the review as helpful, future readers of these reviews might be more likely to trust the content of the original review.\n",
    "\n",
    "Using the reviews dataset, explore the continuous variable `\"Helpful votes\"` across the different categories found in the `\"Traveler type\"` variable."
   ]
  },
  {
   "cell_type": "code",
   "execution_count": 167,
   "id": "e426d5a2",
   "metadata": {},
   "outputs": [],
   "source": [
    "# Setting \"Traveler type\" to a categorical type\n",
    "reviews[\"Traveler type\"] = reviews[\"Traveler type\"].astype(\"category\")"
   ]
  },
  {
   "cell_type": "code",
   "execution_count": 168,
   "id": "f1bb1a37",
   "metadata": {},
   "outputs": [
    {
     "data": {
      "image/png": "[encoded data removed]",
      "text/plain": [
       "<Figure size 780x600 with 1 Axes>"
      ]
     },
     "metadata": {},
     "output_type": "display_data"
    }
   ],
   "source": [
    "# Create a boxplot using catplot() with \"Helpful votes\" as the continuous variable split across each \"Traveler type\". Make sure that you are using the reviews dataset.\n",
    "g = sns.catplot(x=\"Traveler type\", y=\"Helpful votes\", data=reviews, \n",
    "                kind=\"box\", height=6, aspect=1.3, \n",
    "                palette=\"viridis\", hue=\"Traveler type\")\n",
    "\n",
    "\n",
    "# Add meaningful title and axis labels\n",
    "g.figure.suptitle(\"Helpful Votes Distribution by Traveler Type\", y=1.02, fontsize=14)\n",
    "\n",
    "for ax in g.axes.flat:\n",
    "    ax.grid(True, alpha=0.3)\n",
    "    ax.set_ylabel(\"Number of Helpful Votes\", fontsize=12)\n",
    "    ax.set_xlabel(\"Traveler Type\", fontsize=12)\n",
    "\n",
    "plt.tight_layout()\n",
    "plt.show() "
   ]
  },
  {
   "cell_type": "markdown",
   "id": "61a1e324",
   "metadata": {},
   "source": [
    "## Point and Count Plots with Seaborn\n",
    "\n",
    "Seaborn’s categorical plotting suite (`catplot`) includes **point plots** and **count plots**—two powerful tools for summarising relationships and distributions in categorical data. Both types can reveal patterns, trends, and differences across groups, but are suited for different statistical questions and visual storytelling. This guide explains the principles, syntax, and best practices for both, with an emphasis on analytical clarity and publication-quality presentation using the object-oriented (OOP) approach.\n",
    "\n",
    "\n",
    "####  What is a Point Plot?\n",
    "\n",
    "A **point plot** visualises **summary statistics** (by default, the mean) for one numeric variable within each category of another variable. Points are plotted at each group mean and connected by lines to highlight trends or differences.\n",
    "\n",
    "- **Statistic:** Typically mean (but can be changed).\n",
    "- **Visual elements:** Points, confidence intervals, and optional connecting lines.\n",
    "- **Best for:** Comparing trends or differences across categories, especially when the number of categories is moderate.\n",
    "\n",
    "#### Syntax\n",
    "\n",
    "```python\n",
    "import seaborn as sns\n",
    "import matplotlib.pyplot as plt\n",
    "\n",
    "sns.set(font_scale=1.2, style=\"whitegrid\")\n",
    "g = sns.catplot(\n",
    "    x=\"category\", y=\"value\", data=data_frame,\n",
    "    kind=\"point\", \n",
    "    height=5, aspect=1.2, \n",
    "    ci=\"sd\",              # Error bars: standard deviation (or 95% CI by default)\n",
    "    color=\"darkblue\",     # Single colour, or use palette for multiple\n",
    "    markers=\"o\",          # Marker style for points\n",
    "    linestyles=\"-\",       # Line style connecting points\n",
    ")\n",
    "g.set_axis_labels(\"Category\", \"Statistic\")\n",
    "g.fig.suptitle(\"Point Plot of Value by Category\", y=1.02)\n",
    "plt.tight_layout()\n",
    "plt.show()\n",
    "```\n",
    "\n",
    "### OOP Customisation and Aesthetics\n",
    "\n",
    "- **Faceting:** Add `col`, `row`, or `hue` for subgroup analysis.\n",
    "- **Marker/Line Styling:** Use `markers`, `linestyles`, and `palette` for clear group distinctions.\n",
    "- **Legend control:** `g._legend.set_title(\"Legend Title\")` for clarity.\n",
    "\n",
    "#### Example: Point Plot with Grouping (Hue)\n",
    "\n",
    "```python\n",
    "g = sns.catplot(\n",
    "    x=\"category\", y=\"value\",\n",
    "    hue=\"subgroup\", dodge=True,\n",
    "    data=data_frame,\n",
    "    kind=\"point\", height=5, aspect=1.4,\n",
    "    palette=\"viridis\", markers=[\"o\", \"s\", \"D\"], linestyles=[\"-\", \"--\", \":\"]\n",
    ")\n",
    "g.set_axis_labels(\"Category\", \"Mean Value\")\n",
    "g.fig.suptitle(\"Point Plot by Category and Subgroup\", y=1.03)\n",
    "plt.tight_layout()\n",
    "plt.show()\n",
    "```\n",
    "\n",
    "#### Example: Disabling Lines (`join=False`)\n",
    "\n",
    "Highlight points only (no trend lines):\n",
    "\n",
    "```python\n",
    "g = sns.catplot(\n",
    "    x=\"category\", y=\"value\",\n",
    "    data=data_frame,\n",
    "    kind=\"point\", join=False,\n",
    "    height=4.5, aspect=1.2,\n",
    "    palette=\"Set1\"\n",
    ")\n",
    "g.set_axis_labels(\"Category\", \"Mean Value\")\n",
    "g.fig.suptitle(\"Point Plot (Points Only)\", y=1.03)\n",
    "plt.tight_layout()\n",
    "plt.show()\n",
    "```\n",
    "\n",
    "### Statistics, Use-Cases, and Data Analysis\n",
    "\n",
    "- **Point plots** show the mean (or chosen statistic) and its uncertainty for each category.\n",
    "- **Visualises trends, differences, or interaction effects**—especially useful for repeated measures, experiments, or time series across groups.\n",
    "- Use with moderate or small numbers of categories; for very wide or dense data, consider alternative summary plots.\n",
    "\n",
    "\n",
    "#### What is a Count Plot?\n",
    "\n",
    "A **count plot** displays the **number of occurrences** (frequency) of each category in a variable, typically as a bar plot. It is a direct visualisation of `.value_counts()` for a categorical variable.\n",
    "\n",
    "- **Statistic:** Frequency/count (no y argument needed).\n",
    "- **Visual elements:** Bars representing counts.\n",
    "- **Best for:** Understanding the distribution and prevalence of categories.\n",
    "\n",
    "#### Syntax\n",
    "\n",
    "```python\n",
    "g = sns.catplot(\n",
    "    x=\"category\", data=data_frame,\n",
    "    kind=\"count\",\n",
    "    height=4.5, aspect=1.3,\n",
    "    palette=\"pastel\"\n",
    ")\n",
    "g.set_axis_labels(\"Category\", \"Count\")\n",
    "g.fig.suptitle(\"Count Plot of Category\", y=1.02)\n",
    "plt.tight_layout()\n",
    "plt.show()\n",
    "```\n",
    "\n",
    "#### Example: Count Plot with Grouping (Hue)\n",
    "\n",
    "```python\n",
    "g = sns.catplot(\n",
    "    x=\"category\", hue=\"subgroup\",\n",
    "    data=data_frame,\n",
    "    kind=\"count\",\n",
    "    height=5, aspect=1.2,\n",
    "    palette=\"muted\",\n",
    "    dodge=True  # Split bars side-by-side for each subgroup\n",
    ")\n",
    "g.set_axis_labels(\"Category\", \"Count\")\n",
    "g.fig.suptitle(\"Count Plot by Category and Subgroup\", y=1.02)\n",
    "plt.tight_layout()\n",
    "plt.show()\n",
    "```\n",
    "\n",
    "\n",
    "### Bar Plot vs. Point Plot\n",
    "\n",
    "| Plot Type    | Statistic              | Best for                | Visual Output           |\n",
    "|--------------|------------------------|-------------------------|-------------------------|\n",
    "| Bar Plot     | Mean (or estimator)    | Comparing means         | Bars + error bars       |\n",
    "| Point Plot   | Mean (or estimator)    | Trends/interactions     | Points + lines + CI     |\n",
    "| Count Plot   | Count/frequency        | Category prevalence     | Bars                   |\n",
    "\n",
    "- **Bar plot:** Emphasises size (area) and mean, often less precise for comparing means across many groups.\n",
    "- **Point plot:** Emphasises trend and pattern, uses position and lines, ideal for comparing multiple groups or over ordered categories.\n",
    "\n",
    "\n",
    "### OOP & Visual Tips \n",
    "\n",
    "- Always use `sns.set()` or `sns.set_theme()` to standardise plot appearance and font size.\n",
    "- Customise palette, marker, and style to differentiate subgroups or highlight specific comparisons.\n",
    "- Use facetting (`row`, `col`) for multi-panel comparative visualisation.\n",
    "- Adjust plot size (`height`, `aspect`) for clarity in presentations or reports.\n",
    "- Apply `plt.tight_layout()` to avoid label cut-off and improve aesthetics.\n",
    "- Customise axis labels and titles for communicative, professional output.\n",
    "- If many categories, rotate x-axis labels: `g.set_xticklabels(rotation=45)`.\n",
    "\n",
    "\n",
    "**Point plots** and **count plots** in Seaborn’s `catplot` suite provide efficient, visually powerful methods to summarise, compare, and interpret categorical data in modern exploratory analysis. Point plots focus on summary statistics and trends; count plots reveal distribution and prevalence. Leverage the OOP interface for advanced control, stunning visuals, and publication-ready graphics in any analytical workflow.\n"
   ]
  },
  {
   "cell_type": "code",
   "execution_count": 169,
   "id": "86ce62bc",
   "metadata": {},
   "outputs": [],
   "source": [
    "reviews[\"Traveler type\"] = reviews[\"Traveler type\"].astype(\"category\")"
   ]
  },
  {
   "cell_type": "code",
   "execution_count": 187,
   "id": "b88ed915",
   "metadata": {},
   "outputs": [
    {
     "data": {
      "image/png": "[encoded data removed]",
      "text/plain": [
       "<Figure size 594.736x500 with 1 Axes>"
      ]
     },
     "metadata": {},
     "output_type": "display_data"
    }
   ],
   "source": [
    "g = sns.catplot(\n",
    "    data=reviews,\n",
    "    x=\"Traveler type\",\n",
    "    y=\"Score\",\n",
    "    hue=\"Tennis court\",\n",
    "    kind=\"bar\",\n",
    "    palette=\"rocket_r\"           # legend is created automatically\n",
    ")\n",
    "\n",
    "g.figure.suptitle(\"Average Review Scores by Traveller Type\", y=1.02)\n",
    "g.set_axis_labels(\"Traveller Type\", \"Average Score\")\n",
    "\n",
    "leg = g._legend                       # reference to the existing Legend instance\n",
    "leg.set_title(\"Tennis Court\")\n",
    "leg.set_bbox_to_anchor((0.8, 0.8))     # move it to the right\n",
    "leg.set_loc(\"upper left\")\n",
    "\n",
    "# Light grid beneath bars\n",
    "for ax in g.axes.flat:\n",
    "    ax.grid(True, alpha=0.3)\n",
    "    ax.set_axisbelow(True)\n",
    "\n",
    "# Make room on the right for the legend\n",
    "g.figure.subplots_adjust(right=0.8)\n",
    "plt.show()\n"
   ]
  },
  {
   "cell_type": "markdown",
   "id": "29d22309",
   "metadata": {},
   "source": [
    "### Creating a bar plot\n",
    "Las Vegas hotels are seeing large variations in how helpful reviews appear to other people. The owners of these hotels are curious if there are times of the year when reviews have been more helpful to their potential guests. Help the owners understand their reviews better by creating a bar plot of the average number of helpful votes per review across the categorical variable `\"Period of stay\"`. "
   ]
  },
  {
   "cell_type": "code",
   "execution_count": 189,
   "id": "25b20369",
   "metadata": {},
   "outputs": [
    {
     "data": {
      "application/vnd.microsoft.datawrangler.viewer.v0+json": {
       "columns": [
        {
         "name": "Period of stay",
         "rawType": "category",
         "type": "unknown"
        },
        {
         "name": "count",
         "rawType": "int64",
         "type": "integer"
        }
       ],
       "ref": "3d5a7494-e590-4d9e-9027-ce392f1cf742",
       "rows": [
        [
         "Mar-May",
         "128"
        ],
        [
         "Jun-Aug",
         "126"
        ],
        [
         "Sep-Nov",
         "126"
        ],
        [
         "Dec-Feb",
         "124"
        ]
       ],
       "shape": {
        "columns": 1,
        "rows": 4
       }
      },
      "text/plain": [
       "Period of stay\n",
       "Mar-May    128\n",
       "Jun-Aug    126\n",
       "Sep-Nov    126\n",
       "Dec-Feb    124\n",
       "Name: count, dtype: int64"
      ]
     },
     "execution_count": 189,
     "metadata": {},
     "output_type": "execute_result"
    }
   ],
   "source": [
    "reviews[\"Period of stay\"] = reviews[\"Period of stay\"].astype(\"category\")\n",
    "reviews[\"Period of stay\"].value_counts()"
   ]
  },
  {
   "cell_type": "code",
   "execution_count": 195,
   "id": "14dba33f",
   "metadata": {},
   "outputs": [
    {
     "data": {
      "image/png": "[encoded data removed]",
      "text/plain": [
       "<Figure size 500x500 with 1 Axes>"
      ]
     },
     "metadata": {},
     "output_type": "display_data"
    }
   ],
   "source": [
    "# Create a bar plot using catplot(); Split the reviews dataset on \"Period of stay\" across the x-axis\n",
    "# Specify the numerical variable to aggregate on as \"Helpful votes\"\n",
    "g = sns.catplot(x=\"Period of stay\", y=\"Helpful votes\", data=reviews, \n",
    "                kind=\"bar\", palette=\"cubehelix\", hue=\"Period of stay\")  \n",
    "\n",
    "\n",
    "g.figure.suptitle(\"Average of Helpful Votes by Periods of Staying\")\n",
    "g.set_axis_labels(\"Period of Stay\", \"Average Helpful Votes\")  \n",
    "\n",
    "for ax in g.axes.flat:\n",
    "    ax.grid(True, alpha=0.3)\n",
    "    ax.set_axisbelow(True)\n",
    "    \n",
    "plt.tight_layout()\n",
    "plt.show()"
   ]
  },
  {
   "cell_type": "markdown",
   "id": "05644a3c",
   "metadata": {},
   "source": [
    "### Ordering categories\n",
    "Not all categories are created equal. In the hotel review dataset, `reviews`, hotel owners know that most of their customers are from North America. When visualizing data broken out by `\"User continent\"` they might want North America to appear first. An ordered list of user continents has been provided as `continent_categories`. In this exercise, you will work through preparing a visualization that is ordered by the frequency counts of a Series."
   ]
  },
  {
   "cell_type": "code",
   "execution_count": 197,
   "id": "0d2baacf",
   "metadata": {},
   "outputs": [
    {
     "data": {
      "application/vnd.microsoft.datawrangler.viewer.v0+json": {
       "columns": [
        {
         "name": "User continent",
         "rawType": "category",
         "type": "unknown"
        },
        {
         "name": "count",
         "rawType": "int64",
         "type": "integer"
        }
       ],
       "ref": "204eca33-2d6d-4632-90fb-ca87c65c3dbc",
       "rows": [
        [
         "North America",
         "295"
        ],
        [
         "Europe",
         "118"
        ],
        [
         "Oceania",
         "41"
        ],
        [
         "Asia",
         "36"
        ],
        [
         "Africa",
         "7"
        ],
        [
         "South America",
         "7"
        ]
       ],
       "shape": {
        "columns": 1,
        "rows": 6
       }
      },
      "text/plain": [
       "User continent\n",
       "North America    295\n",
       "Europe           118\n",
       "Oceania           41\n",
       "Asia              36\n",
       "Africa             7\n",
       "South America      7\n",
       "Name: count, dtype: int64"
      ]
     },
     "execution_count": 197,
     "metadata": {},
     "output_type": "execute_result"
    }
   ],
   "source": [
    "reviews[\"User continent\"] = reviews[\"User continent\"].astype(\"category\")\n",
    "reviews[\"User continent\"].value_counts()"
   ]
  },
  {
   "cell_type": "code",
   "execution_count": 210,
   "id": "05dd6837",
   "metadata": {},
   "outputs": [
    {
     "data": {
      "image/png": "[encoded data removed]",
      "text/plain": [
       "<Figure size 500x500 with 1 Axes>"
      ]
     },
     "metadata": {},
     "output_type": "display_data"
    }
   ],
   "source": [
    "# Create a bar chart with \"User continent\" along the x-axis and \"Score\" along the y-axis.\n",
    "g = sns.catplot(x=\"User continent\", y=\"Score\", data=reviews, \n",
    "                kind=\"bar\", palette=\"flare\", hue=\"User continent\")\n",
    "g.figure.suptitle(\"Average of Scores across Continents\")\n",
    "g.set_axis_labels(\"\", \"Average Score\")\n",
    "\n",
    "for ax in g.axes.flat:\n",
    "    ax.grid(True, alpha=0.3)\n",
    "    ax.set_axisbelow(True)\n",
    "    \n",
    "    # Center the tick labels with the bars\n",
    "    plt.setp(ax.get_xticklabels(), rotation=90, ha='right', va='center', rotation_mode='anchor')\n",
    "    \n",
    "# Adjust layout to prevent label cutoff\n",
    "plt.tight_layout()\n",
    "plt.show()"
   ]
  },
  {
   "cell_type": "code",
   "execution_count": 211,
   "id": "efc75950",
   "metadata": {},
   "outputs": [],
   "source": [
    "# Reorder \"User continent\" using continent_categories and rerun the graphic\n",
    "continent_categories = list(reviews[\"User continent\"].value_counts().index)\n",
    "\n",
    "reviews[\"User continent\"] = reviews[\"User continent\"].cat.reorder_categories(new_categories = continent_categories)"
   ]
  },
  {
   "cell_type": "code",
   "execution_count": 212,
   "id": "bdb9f57c",
   "metadata": {},
   "outputs": [
    {
     "data": {
      "image/png": "[encoded data removed]",
      "text/plain": [
       "<Figure size 500x500 with 1 Axes>"
      ]
     },
     "metadata": {},
     "output_type": "display_data"
    }
   ],
   "source": [
    "# Create a bar chart with \"User continent\" along the x-axis and \"Score\" along the y-axis.\n",
    "g = sns.catplot(x=\"User continent\", y=\"Score\", data=reviews, \n",
    "                kind=\"bar\", palette=\"flare\", hue=\"User continent\")\n",
    "\n",
    "g.figure.suptitle(\"Average of Scores across Continents\")\n",
    "g.set_axis_labels(\"\", \"Average Score\")\n",
    "\n",
    "for ax in g.axes.flat:\n",
    "    ax.grid(True, alpha=0.3)\n",
    "    ax.set_axisbelow(True)\n",
    "   \n",
    "    # Center the tick labels with the bars\n",
    "    plt.setp(ax.get_xticklabels(), rotation=90, ha='right', va='center', rotation_mode='anchor')\n",
    "    \n",
    "# Adjust layout to prevent label cutoff\n",
    "plt.tight_layout()\n",
    "plt.show()"
   ]
  },
  {
   "cell_type": "markdown",
   "id": "d119470a",
   "metadata": {},
   "source": [
    "### Bar plot using hue\n",
    "Aggregating information across multiple categories is often necessary to help stakeholders better understand their data. In preparation for building a dashboard that will allow users to select up to two variables when creating visualizations, you want to test visualizations that use different combinations of categorical variables using a bar plot."
   ]
  },
  {
   "cell_type": "code",
   "execution_count": 215,
   "id": "4385e54f",
   "metadata": {},
   "outputs": [],
   "source": [
    "reviews[\"Casino\"] = reviews[\"Casino\"].astype(\"category\")\n",
    "reviews[\"Free internet\"] = reviews[\"Free internet\"].astype(\"category\")"
   ]
  },
  {
   "cell_type": "code",
   "execution_count": 247,
   "id": "526a700b",
   "metadata": {},
   "outputs": [
    {
     "data": {
      "image/png": "[encoded data removed]",
      "text/plain": [
       "<Figure size 599.861x500 with 1 Axes>"
      ]
     },
     "metadata": {},
     "output_type": "display_data"
    }
   ],
   "source": [
    "# Update the plot so that \"Casino\" (along the x-axis) and \"Free internet\" (to color the bars) are used to split the data.\n",
    "g = sns.catplot(x=\"Casino\", y=\"Score\", data=reviews, \n",
    "                kind=\"bar\", palette=\"crest\", hue=\"Free internet\")\n",
    "\n",
    "g.figure.suptitle(\"Average Review Scores by Casino Availability and Free Internet\")\n",
    "g.set_axis_labels(\"Casino Available\", \"Average Score\")\n",
    "\n",
    "# Position the legend\n",
    "leg = g._legend\n",
    "leg.set_title(\"Free Internet\")\n",
    "leg.set_bbox_to_anchor((1.15, 0.6))\n",
    "\n",
    "for ax in g.axes.flat:\n",
    "    ax.grid(True, alpha=0.3)\n",
    "    ax.set_axisbelow(True)\n",
    "    \n",
    "\n",
    "plt.tight_layout()\n",
    "plt.show()"
   ]
  },
  {
   "cell_type": "code",
   "execution_count": 243,
   "id": "f1528b47",
   "metadata": {},
   "outputs": [
    {
     "data": {
      "image/png": "[encoded data removed]",
      "text/plain": [
       "<Figure size 575.875x500 with 1 Axes>"
      ]
     },
     "metadata": {},
     "output_type": "display_data"
    }
   ],
   "source": [
    "# Switch the categories so that \"Free internet\" is on the x-axis and \"Casino\" is in the legend.\n",
    "\n",
    "g = sns.catplot(x=\"Free internet\", y=\"Score\", data=reviews, \n",
    "                kind=\"bar\", palette=\"rocket\", hue=\"Casino\")\n",
    "\n",
    "g.figure.suptitle(\"Average Review Scores by Casino Availability and Free Internet\")\n",
    "g.set_axis_labels(\"Casino Available\", \"Average Score\")\n",
    "\n",
    "# Position the legend\n",
    "leg = g._legend\n",
    "leg.set_title(\"Casino Available\")\n",
    "leg.set_bbox_to_anchor((1.15, 0.6))\n",
    "\n",
    "for ax in g.axes.flat:\n",
    "    ax.grid(True, alpha=0.3)\n",
    "    ax.set_axisbelow(True)\n",
    "    \n",
    "plt.tight_layout()\n",
    "plt.show()"
   ]
  },
  {
   "cell_type": "code",
   "execution_count": 246,
   "id": "2a770f6c",
   "metadata": {},
   "outputs": [
    {
     "data": {
      "image/png": "[encoded data removed]",
      "text/plain": [
       "<Figure size 575.875x500 with 1 Axes>"
      ]
     },
     "metadata": {},
     "output_type": "display_data"
    }
   ],
   "source": [
    "# Update the x parameter to be \"User continent\".\n",
    "\n",
    "g = sns.catplot(x=\"User continent\", y=\"Score\", data=reviews, \n",
    "                kind=\"bar\", palette=\"viridis\", hue=\"Casino\")\n",
    "g.figure.suptitle(\"\")\n",
    "g.set_axis_labels(\"\", \"Average Score\")\n",
    "\n",
    "# Position the legend\n",
    "leg = g._legend\n",
    "leg.set_title(\"Casino Available\")\n",
    "leg.set_bbox_to_anchor((1.20, 0.8))\n",
    "\n",
    "for ax in g.axes.flat:\n",
    "    ax.grid(True)\n",
    "    ax.set_axisbelow(True)\n",
    "    plt.setp(ax.get_xticklabels(), rotation=45, ha=\"right\", va=\"center\", rotation_mode=\"anchor\")\n",
    "\n",
    "    \n",
    "plt.tight_layout()\n",
    "plt.show()"
   ]
  },
  {
   "cell_type": "code",
   "execution_count": null,
   "id": "bb77f0b2",
   "metadata": {},
   "outputs": [],
   "source": []
  }
 ],
 "metadata": {
  "kernelspec": {
   "display_name": "datacamp",
   "language": "python",
   "name": "python3"
  },
  "language_info": {
   "codemirror_mode": {
    "name": "ipython",
    "version": 3
   },
   "file_extension": ".py",
   "mimetype": "text/x-python",
   "name": "python",
   "nbconvert_exporter": "python",
   "pygments_lexer": "ipython3",
   "version": "3.12.7"
  }
 },
 "nbformat": 4,
 "nbformat_minor": 5
}
