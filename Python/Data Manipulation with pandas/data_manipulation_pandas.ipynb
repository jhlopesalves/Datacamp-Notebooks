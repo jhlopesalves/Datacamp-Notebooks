{
  "cells": [
    {
      "cell_type": "markdown",
      "id": "fc0148c6",
      "metadata": {
        "colab_type": "text",
        "id": "view-in-github"
      },
      "source": [
        "<a href=\"https://colab.research.google.com/github/jhlopesalves/Datacamp-Notebooks/blob/main/Python/Data%20Manipulation%20with%20pandas/data_manipulation_pandas.ipynb\" target=\"_parent\"><img src=\"https://colab.research.google.com/assets/colab-badge.svg\" alt=\"Open In Colab\"/></a>"
      ]
    },
    {
      "cell_type": "markdown",
      "id": "582f44d4",
      "metadata": {
        "id": "582f44d4"
      },
      "source": [
        "# Introduction to Data Manipulation with Pandas\n",
        "\n",
        "**Pandas** (Python Data Analysis Library) is one of the most powerful and popular libraries for data manipulation and analysis in Python. Built on top of NumPy, pandas provides high-performance, easy-to-use data structures and data analysis tools that make working with structured data both intuitive and efficient.\n",
        "\n",
        "## Why Pandas is Essential\n",
        "\n",
        "Pandas has become the **backbone of data science** in Python for several compelling reasons:\n",
        "\n",
        "### **Powerful Data Structures**\n",
        "- **DataFrame**: 2-dimensional labeled data structure (think Excel spreadsheet with superpowers)\n",
        "- **Series**: 1-dimensional labeled array (a single column of data)\n",
        "\n",
        "### **Versatile Data Handling**\n",
        "- Read from multiple file formats (CSV, Excel, JSON, SQL databases, and more)\n",
        "- Handle missing data gracefully\n",
        "- Perform complex data transformations with simple, readable code\n",
        "- Group, aggregate, and pivot data effortlessly\n",
        "\n",
        "## The Foundation of Data Science\n",
        "\n",
        "Pandas serves as the **bridge between raw data and insights**. Whether you're cleaning messy datasets, performing exploratory data analysis, or preparing data for machine learning models, pandas provides the tools you need to transform data into actionable intelligence.\n",
        "\n",
        "## Official Documentation\n",
        "\n",
        "**[https://pandas.pydata.org/docs/](https://pandas.pydata.org/docs/)**"
      ]
    },
    {
      "cell_type": "code",
      "execution_count": 2,
      "id": "e5ebd905",
      "metadata": {
        "id": "e5ebd905"
      },
      "outputs": [],
      "source": [
        "import numpy as np\n",
        "import matplotlib.pyplot as plt\n",
        "import pandas as pd\n",
        "import seaborn as sns\n",
        "import os"
      ]
    },
    {
      "cell_type": "code",
      "execution_count": 3,
      "id": "f2587e22",
      "metadata": {
        "colab": {
          "base_uri": "https://localhost:8080/"
        },
        "id": "f2587e22",
        "outputId": "9dec0a85-297c-4a0d-fe17-fa16b46e8bdc"
      },
      "outputs": [
        {
          "name": "stderr",
          "output_type": "stream",
          "text": [
            "'wget' is not recognized as an internal or external command,\n",
            "operable program or batch file.\n",
            "'wget' is not recognized as an internal or external command,\n",
            "operable program or batch file.\n",
            "'wget' is not recognized as an internal or external command,\n",
            "operable program or batch file.\n",
            "'wget' is not recognized as an internal or external command,\n",
            "operable program or batch file.\n"
          ]
        },
        {
          "name": "stdout",
          "output_type": "stream",
          "text": [
            "Files downloaded succesfully\n"
          ]
        }
      ],
      "source": [
        "if not os.path.exists('data'):\n",
        "    os.makedirs('data')\n",
        "\n",
        "!wget -q https://raw.githubusercontent.com/jhlopesalves/Datacamp-Notebooks/refs/heads/main/Python/Data%20Manipulation%20with%20pandas/data/homelessness.csv -O data/homelessness.csv\n",
        "!wget -q https://raw.githubusercontent.com/jhlopesalves/Datacamp-Notebooks/refs/heads/main/Python/Data%20Manipulation%20with%20pandas/data/sales_subset.csv -O data/sales_subset.csv\n",
        "!wget -q https://raw.githubusercontent.com/jhlopesalves/Datacamp-Notebooks/refs/heads/main/Python/Data%20Manipulation%20with%20pandas/data/temperatures.csv -O data/temperatures.csv\n",
        "!wget -q https://raw.githubusercontent.com/jhlopesalves/Datacamp-Notebooks/blob/main/Python/Data%20Manipulation%20with%20pandas/data/avoplotto.pkl -O data/avoplotto.pkl\n",
        "\n",
        "print(\"Files downloaded succesfully\")"
      ]
    },
    {
      "cell_type": "markdown",
      "id": "ZycsIucOGFiS",
      "metadata": {
        "id": "ZycsIucOGFiS"
      },
      "source": [
        "## Inspecting a DataFrame\n",
        "When you get a new DataFrame to work with, the first thing you need to do is explore it and see what it contains. There are several useful methods and attributes for this.\n",
        "\n",
        "`.head()` returns the first few rows (the “head” of the DataFrame).\n",
        "`.info()` shows information on each of the columns, such as the data type and number of missing values.\n",
        "`.shape` returns the number of rows and columns of the DataFrame.\n",
        "`.describe()` calculates a few summary statistics for each column.\n",
        "homelessness is a DataFrame containing estimates of homelessness in each U.S. state in 2018. The individual column is the number of homeless individuals not part of a family with children. The family_members column is the number of homeless individuals part of a family with children. The state_pop column is the state's total population."
      ]
    },
    {
      "cell_type": "code",
      "execution_count": 4,
      "id": "1e91be9c",
      "metadata": {
        "id": "1e91be9c"
      },
      "outputs": [],
      "source": [
        "homelessness = pd.read_csv(\"data/homelessness.csv\")"
      ]
    },
    {
      "cell_type": "code",
      "execution_count": 5,
      "id": "-n_7k0u0GWlY",
      "metadata": {
        "colab": {
          "base_uri": "https://localhost:8080/",
          "height": 206
        },
        "id": "-n_7k0u0GWlY",
        "outputId": "ba435c91-6bf6-49b7-f0dd-6373175ee9bf"
      },
      "outputs": [
        {
          "data": {
            "application/vnd.microsoft.datawrangler.viewer.v0+json": {
              "columns": [
                {
                  "name": "index",
                  "rawType": "int64",
                  "type": "integer"
                },
                {
                  "name": "Unnamed: 0",
                  "rawType": "int64",
                  "type": "integer"
                },
                {
                  "name": "region",
                  "rawType": "object",
                  "type": "string"
                },
                {
                  "name": "state",
                  "rawType": "object",
                  "type": "string"
                },
                {
                  "name": "individuals",
                  "rawType": "float64",
                  "type": "float"
                },
                {
                  "name": "family_members",
                  "rawType": "float64",
                  "type": "float"
                },
                {
                  "name": "state_pop",
                  "rawType": "int64",
                  "type": "integer"
                }
              ],
              "ref": "ca36122a-8a2b-4472-81a2-61adbb8acd88",
              "rows": [
                [
                  "0",
                  "0",
                  "East South Central",
                  "Alabama",
                  "2570.0",
                  "864.0",
                  "4887681"
                ],
                [
                  "1",
                  "1",
                  "Pacific",
                  "Alaska",
                  "1434.0",
                  "582.0",
                  "735139"
                ],
                [
                  "2",
                  "2",
                  "Mountain",
                  "Arizona",
                  "7259.0",
                  "2606.0",
                  "7158024"
                ],
                [
                  "3",
                  "3",
                  "West South Central",
                  "Arkansas",
                  "2280.0",
                  "432.0",
                  "3009733"
                ],
                [
                  "4",
                  "4",
                  "Pacific",
                  "California",
                  "109008.0",
                  "20964.0",
                  "39461588"
                ]
              ],
              "shape": {
                "columns": 6,
                "rows": 5
              }
            },
            "text/html": [
              "<div>\n",
              "<style scoped>\n",
              "    .dataframe tbody tr th:only-of-type {\n",
              "        vertical-align: middle;\n",
              "    }\n",
              "\n",
              "    .dataframe tbody tr th {\n",
              "        vertical-align: top;\n",
              "    }\n",
              "\n",
              "    .dataframe thead th {\n",
              "        text-align: right;\n",
              "    }\n",
              "</style>\n",
              "<table border=\"1\" class=\"dataframe\">\n",
              "  <thead>\n",
              "    <tr style=\"text-align: right;\">\n",
              "      <th></th>\n",
              "      <th>Unnamed: 0</th>\n",
              "      <th>region</th>\n",
              "      <th>state</th>\n",
              "      <th>individuals</th>\n",
              "      <th>family_members</th>\n",
              "      <th>state_pop</th>\n",
              "    </tr>\n",
              "  </thead>\n",
              "  <tbody>\n",
              "    <tr>\n",
              "      <th>0</th>\n",
              "      <td>0</td>\n",
              "      <td>East South Central</td>\n",
              "      <td>Alabama</td>\n",
              "      <td>2570.0</td>\n",
              "      <td>864.0</td>\n",
              "      <td>4887681</td>\n",
              "    </tr>\n",
              "    <tr>\n",
              "      <th>1</th>\n",
              "      <td>1</td>\n",
              "      <td>Pacific</td>\n",
              "      <td>Alaska</td>\n",
              "      <td>1434.0</td>\n",
              "      <td>582.0</td>\n",
              "      <td>735139</td>\n",
              "    </tr>\n",
              "    <tr>\n",
              "      <th>2</th>\n",
              "      <td>2</td>\n",
              "      <td>Mountain</td>\n",
              "      <td>Arizona</td>\n",
              "      <td>7259.0</td>\n",
              "      <td>2606.0</td>\n",
              "      <td>7158024</td>\n",
              "    </tr>\n",
              "    <tr>\n",
              "      <th>3</th>\n",
              "      <td>3</td>\n",
              "      <td>West South Central</td>\n",
              "      <td>Arkansas</td>\n",
              "      <td>2280.0</td>\n",
              "      <td>432.0</td>\n",
              "      <td>3009733</td>\n",
              "    </tr>\n",
              "    <tr>\n",
              "      <th>4</th>\n",
              "      <td>4</td>\n",
              "      <td>Pacific</td>\n",
              "      <td>California</td>\n",
              "      <td>109008.0</td>\n",
              "      <td>20964.0</td>\n",
              "      <td>39461588</td>\n",
              "    </tr>\n",
              "  </tbody>\n",
              "</table>\n",
              "</div>"
            ],
            "text/plain": [
              "   Unnamed: 0              region       state  individuals  family_members  \\\n",
              "0           0  East South Central     Alabama       2570.0           864.0   \n",
              "1           1             Pacific      Alaska       1434.0           582.0   \n",
              "2           2            Mountain     Arizona       7259.0          2606.0   \n",
              "3           3  West South Central    Arkansas       2280.0           432.0   \n",
              "4           4             Pacific  California     109008.0         20964.0   \n",
              "\n",
              "   state_pop  \n",
              "0    4887681  \n",
              "1     735139  \n",
              "2    7158024  \n",
              "3    3009733  \n",
              "4   39461588  "
            ]
          },
          "execution_count": 5,
          "metadata": {},
          "output_type": "execute_result"
        }
      ],
      "source": [
        "# Print the head of the homelessness DataFrame\n",
        "homelessness.head()"
      ]
    },
    {
      "cell_type": "code",
      "execution_count": 6,
      "id": "FxM6IC6cGdY2",
      "metadata": {
        "colab": {
          "base_uri": "https://localhost:8080/"
        },
        "id": "FxM6IC6cGdY2",
        "outputId": "cab76dab-126b-4bb4-850c-80ee6f17ea90"
      },
      "outputs": [
        {
          "name": "stdout",
          "output_type": "stream",
          "text": [
            "<class 'pandas.core.frame.DataFrame'>\n",
            "RangeIndex: 51 entries, 0 to 50\n",
            "Data columns (total 6 columns):\n",
            " #   Column          Non-Null Count  Dtype  \n",
            "---  ------          --------------  -----  \n",
            " 0   Unnamed: 0      51 non-null     int64  \n",
            " 1   region          51 non-null     object \n",
            " 2   state           51 non-null     object \n",
            " 3   individuals     51 non-null     float64\n",
            " 4   family_members  51 non-null     float64\n",
            " 5   state_pop       51 non-null     int64  \n",
            "dtypes: float64(2), int64(2), object(2)\n",
            "memory usage: 2.5+ KB\n"
          ]
        }
      ],
      "source": [
        "# Print information about the column types and missing values in homelessness\n",
        "homelessness.info()"
      ]
    },
    {
      "cell_type": "code",
      "execution_count": 7,
      "id": "q3b8FKxaGp3i",
      "metadata": {
        "colab": {
          "base_uri": "https://localhost:8080/"
        },
        "id": "q3b8FKxaGp3i",
        "outputId": "86ac8d1e-7083-4270-b8bd-cbaf7d1bc3ef"
      },
      "outputs": [
        {
          "data": {
            "text/plain": [
              "(51, 6)"
            ]
          },
          "execution_count": 7,
          "metadata": {},
          "output_type": "execute_result"
        }
      ],
      "source": [
        "# Print the shape of homelessness\n",
        "homelessness.shape"
      ]
    },
    {
      "cell_type": "code",
      "execution_count": 8,
      "id": "9H0-C719GwVm",
      "metadata": {
        "colab": {
          "base_uri": "https://localhost:8080/",
          "height": 300
        },
        "id": "9H0-C719GwVm",
        "outputId": "a52faf5a-d316-41e4-f12a-5394d4fd873f"
      },
      "outputs": [
        {
          "data": {
            "application/vnd.microsoft.datawrangler.viewer.v0+json": {
              "columns": [
                {
                  "name": "index",
                  "rawType": "object",
                  "type": "string"
                },
                {
                  "name": "Unnamed: 0",
                  "rawType": "float64",
                  "type": "float"
                },
                {
                  "name": "individuals",
                  "rawType": "float64",
                  "type": "float"
                },
                {
                  "name": "family_members",
                  "rawType": "float64",
                  "type": "float"
                },
                {
                  "name": "state_pop",
                  "rawType": "float64",
                  "type": "float"
                }
              ],
              "ref": "61da7c67-8605-46e5-a873-ba82e26934a8",
              "rows": [
                [
                  "count",
                  "51.0",
                  "51.0",
                  "51.0",
                  "51.0"
                ],
                [
                  "mean",
                  "25.0",
                  "7225.78431372549",
                  "3504.8823529411766",
                  "6405637.274509804"
                ],
                [
                  "std",
                  "14.866068747318506",
                  "15991.025083231812",
                  "7805.411811421762",
                  "7327257.808678786"
                ],
                [
                  "min",
                  "0.0",
                  "434.0",
                  "75.0",
                  "577601.0"
                ],
                [
                  "25%",
                  "12.5",
                  "1446.5",
                  "592.0",
                  "1777413.5"
                ],
                [
                  "50%",
                  "25.0",
                  "3082.0",
                  "1482.0",
                  "4461153.0"
                ],
                [
                  "75%",
                  "37.5",
                  "6781.5",
                  "3196.0",
                  "7340946.5"
                ],
                [
                  "max",
                  "50.0",
                  "109008.0",
                  "52070.0",
                  "39461588.0"
                ]
              ],
              "shape": {
                "columns": 4,
                "rows": 8
              }
            },
            "text/html": [
              "<div>\n",
              "<style scoped>\n",
              "    .dataframe tbody tr th:only-of-type {\n",
              "        vertical-align: middle;\n",
              "    }\n",
              "\n",
              "    .dataframe tbody tr th {\n",
              "        vertical-align: top;\n",
              "    }\n",
              "\n",
              "    .dataframe thead th {\n",
              "        text-align: right;\n",
              "    }\n",
              "</style>\n",
              "<table border=\"1\" class=\"dataframe\">\n",
              "  <thead>\n",
              "    <tr style=\"text-align: right;\">\n",
              "      <th></th>\n",
              "      <th>Unnamed: 0</th>\n",
              "      <th>individuals</th>\n",
              "      <th>family_members</th>\n",
              "      <th>state_pop</th>\n",
              "    </tr>\n",
              "  </thead>\n",
              "  <tbody>\n",
              "    <tr>\n",
              "      <th>count</th>\n",
              "      <td>51.000000</td>\n",
              "      <td>51.000000</td>\n",
              "      <td>51.000000</td>\n",
              "      <td>5.100000e+01</td>\n",
              "    </tr>\n",
              "    <tr>\n",
              "      <th>mean</th>\n",
              "      <td>25.000000</td>\n",
              "      <td>7225.784314</td>\n",
              "      <td>3504.882353</td>\n",
              "      <td>6.405637e+06</td>\n",
              "    </tr>\n",
              "    <tr>\n",
              "      <th>std</th>\n",
              "      <td>14.866069</td>\n",
              "      <td>15991.025083</td>\n",
              "      <td>7805.411811</td>\n",
              "      <td>7.327258e+06</td>\n",
              "    </tr>\n",
              "    <tr>\n",
              "      <th>min</th>\n",
              "      <td>0.000000</td>\n",
              "      <td>434.000000</td>\n",
              "      <td>75.000000</td>\n",
              "      <td>5.776010e+05</td>\n",
              "    </tr>\n",
              "    <tr>\n",
              "      <th>25%</th>\n",
              "      <td>12.500000</td>\n",
              "      <td>1446.500000</td>\n",
              "      <td>592.000000</td>\n",
              "      <td>1.777414e+06</td>\n",
              "    </tr>\n",
              "    <tr>\n",
              "      <th>50%</th>\n",
              "      <td>25.000000</td>\n",
              "      <td>3082.000000</td>\n",
              "      <td>1482.000000</td>\n",
              "      <td>4.461153e+06</td>\n",
              "    </tr>\n",
              "    <tr>\n",
              "      <th>75%</th>\n",
              "      <td>37.500000</td>\n",
              "      <td>6781.500000</td>\n",
              "      <td>3196.000000</td>\n",
              "      <td>7.340946e+06</td>\n",
              "    </tr>\n",
              "    <tr>\n",
              "      <th>max</th>\n",
              "      <td>50.000000</td>\n",
              "      <td>109008.000000</td>\n",
              "      <td>52070.000000</td>\n",
              "      <td>3.946159e+07</td>\n",
              "    </tr>\n",
              "  </tbody>\n",
              "</table>\n",
              "</div>"
            ],
            "text/plain": [
              "       Unnamed: 0    individuals  family_members     state_pop\n",
              "count   51.000000      51.000000       51.000000  5.100000e+01\n",
              "mean    25.000000    7225.784314     3504.882353  6.405637e+06\n",
              "std     14.866069   15991.025083     7805.411811  7.327258e+06\n",
              "min      0.000000     434.000000       75.000000  5.776010e+05\n",
              "25%     12.500000    1446.500000      592.000000  1.777414e+06\n",
              "50%     25.000000    3082.000000     1482.000000  4.461153e+06\n",
              "75%     37.500000    6781.500000     3196.000000  7.340946e+06\n",
              "max     50.000000  109008.000000    52070.000000  3.946159e+07"
            ]
          },
          "execution_count": 8,
          "metadata": {},
          "output_type": "execute_result"
        }
      ],
      "source": [
        "# Print some summary statistics that describe the homelessness DataFrame\n",
        "homelessness.describe()"
      ]
    },
    {
      "cell_type": "markdown",
      "id": "w3ABxY1cHKIG",
      "metadata": {
        "id": "w3ABxY1cHKIG"
      },
      "source": [
        "### Parts of a DataFrame\n",
        "To better understand DataFrame objects, it's useful to know that they consist of three components, stored as attributes:\n",
        "\n",
        "`.values`: A two-dimensional NumPy array of values.\n",
        "`.columns`: An index of columns: the column names.\n",
        "`.index`: An index for the rows: either row numbers or row names.\n",
        "You can usually think of indexes as a list of strings or numbers, though the pandas Index data type allows for more sophisticated options. (These will be covered later in the course.)"
      ]
    },
    {
      "cell_type": "code",
      "execution_count": 9,
      "id": "FGyaiXuoG8X6",
      "metadata": {
        "colab": {
          "base_uri": "https://localhost:8080/",
          "height": 920
        },
        "id": "FGyaiXuoG8X6",
        "outputId": "250660e8-cad7-4cb5-801b-264eb63407c0"
      },
      "outputs": [
        {
          "data": {
            "application/vnd.microsoft.datawrangler.viewer.v0+json": {
              "columns": [
                {
                  "name": "index",
                  "rawType": "int64",
                  "type": "integer"
                },
                {
                  "name": "0",
                  "rawType": "object",
                  "type": "unknown"
                },
                {
                  "name": "1",
                  "rawType": "object",
                  "type": "string"
                },
                {
                  "name": "2",
                  "rawType": "object",
                  "type": "string"
                },
                {
                  "name": "3",
                  "rawType": "object",
                  "type": "unknown"
                },
                {
                  "name": "4",
                  "rawType": "object",
                  "type": "unknown"
                },
                {
                  "name": "5",
                  "rawType": "object",
                  "type": "unknown"
                }
              ],
              "ref": "7448c4ce-040b-4b90-a5c8-536191d7c12b",
              "rows": [
                [
                  "0",
                  "0",
                  "East South Central",
                  "Alabama",
                  "2570.0",
                  "864.0",
                  "4887681"
                ],
                [
                  "1",
                  "1",
                  "Pacific",
                  "Alaska",
                  "1434.0",
                  "582.0",
                  "735139"
                ],
                [
                  "2",
                  "2",
                  "Mountain",
                  "Arizona",
                  "7259.0",
                  "2606.0",
                  "7158024"
                ],
                [
                  "3",
                  "3",
                  "West South Central",
                  "Arkansas",
                  "2280.0",
                  "432.0",
                  "3009733"
                ],
                [
                  "4",
                  "4",
                  "Pacific",
                  "California",
                  "109008.0",
                  "20964.0",
                  "39461588"
                ],
                [
                  "5",
                  "5",
                  "Mountain",
                  "Colorado",
                  "7607.0",
                  "3250.0",
                  "5691287"
                ],
                [
                  "6",
                  "6",
                  "New England",
                  "Connecticut",
                  "2280.0",
                  "1696.0",
                  "3571520"
                ],
                [
                  "7",
                  "7",
                  "South Atlantic",
                  "Delaware",
                  "708.0",
                  "374.0",
                  "965479"
                ],
                [
                  "8",
                  "8",
                  "South Atlantic",
                  "District of Columbia",
                  "3770.0",
                  "3134.0",
                  "701547"
                ],
                [
                  "9",
                  "9",
                  "South Atlantic",
                  "Florida",
                  "21443.0",
                  "9587.0",
                  "21244317"
                ],
                [
                  "10",
                  "10",
                  "South Atlantic",
                  "Georgia",
                  "6943.0",
                  "2556.0",
                  "10511131"
                ],
                [
                  "11",
                  "11",
                  "Pacific",
                  "Hawaii",
                  "4131.0",
                  "2399.0",
                  "1420593"
                ],
                [
                  "12",
                  "12",
                  "Mountain",
                  "Idaho",
                  "1297.0",
                  "715.0",
                  "1750536"
                ],
                [
                  "13",
                  "13",
                  "East North Central",
                  "Illinois",
                  "6752.0",
                  "3891.0",
                  "12723071"
                ],
                [
                  "14",
                  "14",
                  "East North Central",
                  "Indiana",
                  "3776.0",
                  "1482.0",
                  "6695497"
                ],
                [
                  "15",
                  "15",
                  "West North Central",
                  "Iowa",
                  "1711.0",
                  "1038.0",
                  "3148618"
                ],
                [
                  "16",
                  "16",
                  "West North Central",
                  "Kansas",
                  "1443.0",
                  "773.0",
                  "2911359"
                ],
                [
                  "17",
                  "17",
                  "East South Central",
                  "Kentucky",
                  "2735.0",
                  "953.0",
                  "4461153"
                ],
                [
                  "18",
                  "18",
                  "West South Central",
                  "Louisiana",
                  "2540.0",
                  "519.0",
                  "4659690"
                ],
                [
                  "19",
                  "19",
                  "New England",
                  "Maine",
                  "1450.0",
                  "1066.0",
                  "1339057"
                ],
                [
                  "20",
                  "20",
                  "South Atlantic",
                  "Maryland",
                  "4914.0",
                  "2230.0",
                  "6035802"
                ],
                [
                  "21",
                  "21",
                  "New England",
                  "Massachusetts",
                  "6811.0",
                  "13257.0",
                  "6882635"
                ],
                [
                  "22",
                  "22",
                  "East North Central",
                  "Michigan",
                  "5209.0",
                  "3142.0",
                  "9984072"
                ],
                [
                  "23",
                  "23",
                  "West North Central",
                  "Minnesota",
                  "3993.0",
                  "3250.0",
                  "5606249"
                ],
                [
                  "24",
                  "24",
                  "East South Central",
                  "Mississippi",
                  "1024.0",
                  "328.0",
                  "2981020"
                ],
                [
                  "25",
                  "25",
                  "West North Central",
                  "Missouri",
                  "3776.0",
                  "2107.0",
                  "6121623"
                ],
                [
                  "26",
                  "26",
                  "Mountain",
                  "Montana",
                  "983.0",
                  "422.0",
                  "1060665"
                ],
                [
                  "27",
                  "27",
                  "West North Central",
                  "Nebraska",
                  "1745.0",
                  "676.0",
                  "1925614"
                ],
                [
                  "28",
                  "28",
                  "Mountain",
                  "Nevada",
                  "7058.0",
                  "486.0",
                  "3027341"
                ],
                [
                  "29",
                  "29",
                  "New England",
                  "New Hampshire",
                  "835.0",
                  "615.0",
                  "1353465"
                ],
                [
                  "30",
                  "30",
                  "Mid-Atlantic",
                  "New Jersey",
                  "6048.0",
                  "3350.0",
                  "8886025"
                ],
                [
                  "31",
                  "31",
                  "Mountain",
                  "New Mexico",
                  "1949.0",
                  "602.0",
                  "2092741"
                ],
                [
                  "32",
                  "32",
                  "Mid-Atlantic",
                  "New York",
                  "39827.0",
                  "52070.0",
                  "19530351"
                ],
                [
                  "33",
                  "33",
                  "South Atlantic",
                  "North Carolina",
                  "6451.0",
                  "2817.0",
                  "10381615"
                ],
                [
                  "34",
                  "34",
                  "West North Central",
                  "North Dakota",
                  "467.0",
                  "75.0",
                  "758080"
                ],
                [
                  "35",
                  "35",
                  "East North Central",
                  "Ohio",
                  "6929.0",
                  "3320.0",
                  "11676341"
                ],
                [
                  "36",
                  "36",
                  "West South Central",
                  "Oklahoma",
                  "2823.0",
                  "1048.0",
                  "3940235"
                ],
                [
                  "37",
                  "37",
                  "Pacific",
                  "Oregon",
                  "11139.0",
                  "3337.0",
                  "4181886"
                ],
                [
                  "38",
                  "38",
                  "Mid-Atlantic",
                  "Pennsylvania",
                  "8163.0",
                  "5349.0",
                  "12800922"
                ],
                [
                  "39",
                  "39",
                  "New England",
                  "Rhode Island",
                  "747.0",
                  "354.0",
                  "1058287"
                ],
                [
                  "40",
                  "40",
                  "South Atlantic",
                  "South Carolina",
                  "3082.0",
                  "851.0",
                  "5084156"
                ],
                [
                  "41",
                  "41",
                  "West North Central",
                  "South Dakota",
                  "836.0",
                  "323.0",
                  "878698"
                ],
                [
                  "42",
                  "42",
                  "East South Central",
                  "Tennessee",
                  "6139.0",
                  "1744.0",
                  "6771631"
                ],
                [
                  "43",
                  "43",
                  "West South Central",
                  "Texas",
                  "19199.0",
                  "6111.0",
                  "28628666"
                ],
                [
                  "44",
                  "44",
                  "Mountain",
                  "Utah",
                  "1904.0",
                  "972.0",
                  "3153550"
                ],
                [
                  "45",
                  "45",
                  "New England",
                  "Vermont",
                  "780.0",
                  "511.0",
                  "624358"
                ],
                [
                  "46",
                  "46",
                  "South Atlantic",
                  "Virginia",
                  "3928.0",
                  "2047.0",
                  "8501286"
                ],
                [
                  "47",
                  "47",
                  "Pacific",
                  "Washington",
                  "16424.0",
                  "5880.0",
                  "7523869"
                ],
                [
                  "48",
                  "48",
                  "South Atlantic",
                  "West Virginia",
                  "1021.0",
                  "222.0",
                  "1804291"
                ],
                [
                  "49",
                  "49",
                  "East North Central",
                  "Wisconsin",
                  "2740.0",
                  "2167.0",
                  "5807406"
                ]
              ],
              "shape": {
                "columns": 6,
                "rows": 51
              }
            },
            "text/plain": [
              "array([[0, 'East South Central', 'Alabama', 2570.0, 864.0, 4887681],\n",
              "       [1, 'Pacific', 'Alaska', 1434.0, 582.0, 735139],\n",
              "       [2, 'Mountain', 'Arizona', 7259.0, 2606.0, 7158024],\n",
              "       [3, 'West South Central', 'Arkansas', 2280.0, 432.0, 3009733],\n",
              "       [4, 'Pacific', 'California', 109008.0, 20964.0, 39461588],\n",
              "       [5, 'Mountain', 'Colorado', 7607.0, 3250.0, 5691287],\n",
              "       [6, 'New England', 'Connecticut', 2280.0, 1696.0, 3571520],\n",
              "       [7, 'South Atlantic', 'Delaware', 708.0, 374.0, 965479],\n",
              "       [8, 'South Atlantic', 'District of Columbia', 3770.0, 3134.0,\n",
              "        701547],\n",
              "       [9, 'South Atlantic', 'Florida', 21443.0, 9587.0, 21244317],\n",
              "       [10, 'South Atlantic', 'Georgia', 6943.0, 2556.0, 10511131],\n",
              "       [11, 'Pacific', 'Hawaii', 4131.0, 2399.0, 1420593],\n",
              "       [12, 'Mountain', 'Idaho', 1297.0, 715.0, 1750536],\n",
              "       [13, 'East North Central', 'Illinois', 6752.0, 3891.0, 12723071],\n",
              "       [14, 'East North Central', 'Indiana', 3776.0, 1482.0, 6695497],\n",
              "       [15, 'West North Central', 'Iowa', 1711.0, 1038.0, 3148618],\n",
              "       [16, 'West North Central', 'Kansas', 1443.0, 773.0, 2911359],\n",
              "       [17, 'East South Central', 'Kentucky', 2735.0, 953.0, 4461153],\n",
              "       [18, 'West South Central', 'Louisiana', 2540.0, 519.0, 4659690],\n",
              "       [19, 'New England', 'Maine', 1450.0, 1066.0, 1339057],\n",
              "       [20, 'South Atlantic', 'Maryland', 4914.0, 2230.0, 6035802],\n",
              "       [21, 'New England', 'Massachusetts', 6811.0, 13257.0, 6882635],\n",
              "       [22, 'East North Central', 'Michigan', 5209.0, 3142.0, 9984072],\n",
              "       [23, 'West North Central', 'Minnesota', 3993.0, 3250.0, 5606249],\n",
              "       [24, 'East South Central', 'Mississippi', 1024.0, 328.0, 2981020],\n",
              "       [25, 'West North Central', 'Missouri', 3776.0, 2107.0, 6121623],\n",
              "       [26, 'Mountain', 'Montana', 983.0, 422.0, 1060665],\n",
              "       [27, 'West North Central', 'Nebraska', 1745.0, 676.0, 1925614],\n",
              "       [28, 'Mountain', 'Nevada', 7058.0, 486.0, 3027341],\n",
              "       [29, 'New England', 'New Hampshire', 835.0, 615.0, 1353465],\n",
              "       [30, 'Mid-Atlantic', 'New Jersey', 6048.0, 3350.0, 8886025],\n",
              "       [31, 'Mountain', 'New Mexico', 1949.0, 602.0, 2092741],\n",
              "       [32, 'Mid-Atlantic', 'New York', 39827.0, 52070.0, 19530351],\n",
              "       [33, 'South Atlantic', 'North Carolina', 6451.0, 2817.0, 10381615],\n",
              "       [34, 'West North Central', 'North Dakota', 467.0, 75.0, 758080],\n",
              "       [35, 'East North Central', 'Ohio', 6929.0, 3320.0, 11676341],\n",
              "       [36, 'West South Central', 'Oklahoma', 2823.0, 1048.0, 3940235],\n",
              "       [37, 'Pacific', 'Oregon', 11139.0, 3337.0, 4181886],\n",
              "       [38, 'Mid-Atlantic', 'Pennsylvania', 8163.0, 5349.0, 12800922],\n",
              "       [39, 'New England', 'Rhode Island', 747.0, 354.0, 1058287],\n",
              "       [40, 'South Atlantic', 'South Carolina', 3082.0, 851.0, 5084156],\n",
              "       [41, 'West North Central', 'South Dakota', 836.0, 323.0, 878698],\n",
              "       [42, 'East South Central', 'Tennessee', 6139.0, 1744.0, 6771631],\n",
              "       [43, 'West South Central', 'Texas', 19199.0, 6111.0, 28628666],\n",
              "       [44, 'Mountain', 'Utah', 1904.0, 972.0, 3153550],\n",
              "       [45, 'New England', 'Vermont', 780.0, 511.0, 624358],\n",
              "       [46, 'South Atlantic', 'Virginia', 3928.0, 2047.0, 8501286],\n",
              "       [47, 'Pacific', 'Washington', 16424.0, 5880.0, 7523869],\n",
              "       [48, 'South Atlantic', 'West Virginia', 1021.0, 222.0, 1804291],\n",
              "       [49, 'East North Central', 'Wisconsin', 2740.0, 2167.0, 5807406],\n",
              "       [50, 'Mountain', 'Wyoming', 434.0, 205.0, 577601]], dtype=object)"
            ]
          },
          "metadata": {},
          "output_type": "display_data"
        }
      ],
      "source": [
        "# Print a 2D NumPy array of the values in homelessness\n",
        "display(homelessness.values)"
      ]
    },
    {
      "cell_type": "code",
      "execution_count": 10,
      "id": "gBqHjSUwHg8n",
      "metadata": {
        "colab": {
          "base_uri": "https://localhost:8080/"
        },
        "id": "gBqHjSUwHg8n",
        "outputId": "5ee161b6-c927-4626-967a-54d330b0182c"
      },
      "outputs": [
        {
          "name": "stdout",
          "output_type": "stream",
          "text": [
            "Index(['Unnamed: 0', 'region', 'state', 'individuals', 'family_members',\n",
            "       'state_pop'],\n",
            "      dtype='object')\n"
          ]
        }
      ],
      "source": [
        "# Print the column index of homelessness\n",
        "print(homelessness.columns)"
      ]
    },
    {
      "cell_type": "code",
      "execution_count": 11,
      "id": "A4wRuBRcHpST",
      "metadata": {
        "colab": {
          "base_uri": "https://localhost:8080/"
        },
        "id": "A4wRuBRcHpST",
        "outputId": "ea400a54-3d5c-4fdd-dd69-175c146be309"
      },
      "outputs": [
        {
          "name": "stdout",
          "output_type": "stream",
          "text": [
            "RangeIndex(start=0, stop=51, step=1)\n"
          ]
        }
      ],
      "source": [
        "# Print the row index of homelessness\n",
        "print(homelessness.index)"
      ]
    },
    {
      "cell_type": "markdown",
      "id": "a9dee0fa",
      "metadata": {
        "id": "a9dee0fa"
      },
      "source": [
        "## Sorting and Subsetting DataFrames\n",
        "\n",
        "DataFrames often contain a large volume of information, and effectively analyzing this data requires the ability to organize and filter it. **Sorting** allows you to reorder the rows of a DataFrame based on the values in one or more columns, while **subsetting** enables you to select specific rows and/or columns of interest. These operations are fundamental to data exploration and preparation.\n",
        "\n",
        "#### Sorting Rows\n",
        "\n",
        "To sort a DataFrame by one or more columns, you can use the `.sort_values()` method. This method returns a new DataFrame with the rows sorted according to the specified column(s).\n",
        "\n",
        "- **Sorting by a single column**:\n",
        "  By default, `.sort_values()` sorts in ascending order. To sort in descending order, set the `ascending` argument to `False`.\n",
        "\n",
        "#### Subsetting Data in Pandas\n",
        "\n",
        "Subsetting is the process of extracting specific **rows**, **columns**, or both from a DataFrame. This is crucial for data inspection, filtering observations, feature selection, and modular analysis.\n",
        "\n",
        "Pandas offers several methods for subsetting, grouped into three principal strategies:\n",
        "\n",
        "### 1. Subsetting Columns\n",
        "\n",
        "Selecting columns is straightforward and crucial for isolating relevant variables.\n",
        "\n",
        "- **Select a single column** (returns a `Series`):\n",
        "\n",
        "```python\n",
        "df[\"column_name\"]\n",
        "```\n",
        "\n",
        "- **Select multiple columns** (returns a `DataFrame`):\n",
        "\n",
        "```python\n",
        "df[[\"col1\", \"col2\", \"col3\"]]\n",
        "```\n",
        "\n",
        "This can be assigned to a new variable for reuse:\n",
        "\n",
        "```python\n",
        "features = df[[\"height\", \"weight\", \"bmi\"]]\n",
        "```\n",
        "\n",
        "\n",
        "### 2. Subsetting Rows\n",
        "\n",
        "There are two primary methods for selecting rows: by **position** and by **label**.\n",
        "\n",
        "#### a) Using `.iloc` (Integer-location based)\n",
        "\n",
        "`.iloc` selects rows by integer position (zero-indexed):\n",
        "\n",
        "```python\n",
        "df.iloc[0]         # First row (as Series)\n",
        "df.iloc[0:5]       # First five rows (as DataFrame)\n",
        "df.iloc[[1, 3, 5]] # Specific row positions\n",
        "```\n",
        "\n",
        "#### b) Using `.loc` (Label-based)\n",
        "\n",
        "`.loc` selects rows by index **label** (not numerical position). Note that slicing is **inclusive** on both ends:\n",
        "\n",
        "```python\n",
        "df.loc[\"row_label\"]\n",
        "df.loc[[\"row1\", \"row3\", \"row5\"]]\n",
        "df.loc[\"label1\":\"label4\"]  # Includes both endpoints\n",
        "```\n",
        "\n",
        "If the DataFrame uses a RangeIndex (i.e., 0, 1, 2...), `.loc[0]` and `.iloc[0]` behave similarly but are semantically different.\n",
        "\n",
        "\n",
        "### 3. Conditional Subsetting (Boolean Indexing)\n",
        "\n",
        "This is one of the most powerful tools in the pandas arsenal and central to exploratory data analysis.\n",
        "\n",
        "#### Basic condition:\n",
        "\n",
        "```python\n",
        "df[df[\"Age\"] > 30]\n",
        "```\n",
        "\n",
        "This returns all rows where the value in the `Age` column exceeds 30.\n",
        "\n",
        "#### Combining conditions:\n",
        "\n",
        "Use **bitwise logical operators** — not `and`/`or` — along with **parentheses**:\n",
        "\n",
        "```python\n",
        "df[(df[\"Age\"] > 30) & (df[\"Department\"] == \"Engineering\")]\n",
        "```\n",
        "\n",
        "- `&` for logical AND\n",
        "- `|` for logical OR\n",
        "- `~` for logical NOT\n",
        "\n",
        "Example of negation:\n",
        "\n",
        "```python\n",
        "df[~(df[\"Status\"] == \"Inactive\")]\n",
        "```\n",
        "\n",
        "#### Assigning boolean masks:\n",
        "\n",
        "To improve clarity and reuse logic:\n",
        "\n",
        "```python\n",
        "is_engineer = df[\"Department\"] == \"Engineering\"\n",
        "high_salary = df[\"Salary\"] > 100000\n",
        "\n",
        "df[is_engineer & high_salary]\n",
        "```\n",
        "\n",
        "This separates the logic into expressive components.\n",
        "\n",
        "\n",
        "### 4. Subsetting Rows and Columns Simultaneously\n",
        "\n",
        "You may use `.loc` to filter rows and columns **at once**:\n",
        "\n",
        "```python\n",
        "df.loc[df[\"Age\"] > 30, [\"Name\", \"Salary\"]]\n",
        "```\n",
        "\n",
        "This returns a new DataFrame where:\n",
        "\n",
        "- Rows: satisfy the condition `Age > 30`\n",
        "- Columns: limited to `\"Name\"` and `\"Salary\"`\n",
        "\n",
        "This is highly idiomatic in data cleaning pipelines.\n",
        "\n",
        "### 5. Subsetting Using `.isin()` (Membership-Based Filtering)\n",
        "\n",
        "`.isin()` is particularly useful when you need to filter for **multiple matches** in a categorical column, such as selecting all rows whose values belong to a predefined list.\n",
        "\n",
        "#### Example:\n",
        "\n",
        "```python\n",
        "is_black_or_brown = df[\"Color\"].isin([\"Black\", \"Brown\"])\n",
        "df[is_black_or_brown]\n",
        "```\n",
        "\n",
        "This selects all rows where the `Color` column is either `\"Black\"` or `\"Brown\"`.\n",
        "\n",
        "#### Alternative inline version:\n",
        "\n",
        "```python\n",
        "df[df[\"Color\"].isin([\"Black\", \"Brown\"])]\n",
        "```\n",
        "\n",
        "This approach is ideal for filtering based on categorical membership — such as departments, statuses, genres, or tags.\n",
        "\n",
        "\n",
        "\n",
        "#### Best Practices\n",
        "\n",
        "- When writing complex filters, store boolean masks in variables to improve readability and testability.\n",
        "- Combine `.loc[]` with conditional subsetting to avoid chained indexing.\n",
        "- Always verify results with `.head()`, `.shape`, or `.info()` when filtering to ensure logical correctness.\n"
      ]
    },
    {
      "cell_type": "code",
      "execution_count": 12,
      "id": "fEbDY5NPK92x",
      "metadata": {
        "colab": {
          "base_uri": "https://localhost:8080/",
          "height": 206
        },
        "id": "fEbDY5NPK92x",
        "outputId": "0ee83cf2-b1a6-444f-9c1d-4fecffbc4561"
      },
      "outputs": [
        {
          "data": {
            "application/vnd.microsoft.datawrangler.viewer.v0+json": {
              "columns": [
                {
                  "name": "index",
                  "rawType": "int64",
                  "type": "integer"
                },
                {
                  "name": "Unnamed: 0",
                  "rawType": "int64",
                  "type": "integer"
                },
                {
                  "name": "region",
                  "rawType": "object",
                  "type": "string"
                },
                {
                  "name": "state",
                  "rawType": "object",
                  "type": "string"
                },
                {
                  "name": "individuals",
                  "rawType": "float64",
                  "type": "float"
                },
                {
                  "name": "family_members",
                  "rawType": "float64",
                  "type": "float"
                },
                {
                  "name": "state_pop",
                  "rawType": "int64",
                  "type": "integer"
                }
              ],
              "ref": "5b1ea94a-1fad-4ab7-8010-e8bc382c5438",
              "rows": [
                [
                  "50",
                  "50",
                  "Mountain",
                  "Wyoming",
                  "434.0",
                  "205.0",
                  "577601"
                ],
                [
                  "34",
                  "34",
                  "West North Central",
                  "North Dakota",
                  "467.0",
                  "75.0",
                  "758080"
                ],
                [
                  "7",
                  "7",
                  "South Atlantic",
                  "Delaware",
                  "708.0",
                  "374.0",
                  "965479"
                ],
                [
                  "39",
                  "39",
                  "New England",
                  "Rhode Island",
                  "747.0",
                  "354.0",
                  "1058287"
                ],
                [
                  "45",
                  "45",
                  "New England",
                  "Vermont",
                  "780.0",
                  "511.0",
                  "624358"
                ]
              ],
              "shape": {
                "columns": 6,
                "rows": 5
              }
            },
            "text/html": [
              "<div>\n",
              "<style scoped>\n",
              "    .dataframe tbody tr th:only-of-type {\n",
              "        vertical-align: middle;\n",
              "    }\n",
              "\n",
              "    .dataframe tbody tr th {\n",
              "        vertical-align: top;\n",
              "    }\n",
              "\n",
              "    .dataframe thead th {\n",
              "        text-align: right;\n",
              "    }\n",
              "</style>\n",
              "<table border=\"1\" class=\"dataframe\">\n",
              "  <thead>\n",
              "    <tr style=\"text-align: right;\">\n",
              "      <th></th>\n",
              "      <th>Unnamed: 0</th>\n",
              "      <th>region</th>\n",
              "      <th>state</th>\n",
              "      <th>individuals</th>\n",
              "      <th>family_members</th>\n",
              "      <th>state_pop</th>\n",
              "    </tr>\n",
              "  </thead>\n",
              "  <tbody>\n",
              "    <tr>\n",
              "      <th>50</th>\n",
              "      <td>50</td>\n",
              "      <td>Mountain</td>\n",
              "      <td>Wyoming</td>\n",
              "      <td>434.0</td>\n",
              "      <td>205.0</td>\n",
              "      <td>577601</td>\n",
              "    </tr>\n",
              "    <tr>\n",
              "      <th>34</th>\n",
              "      <td>34</td>\n",
              "      <td>West North Central</td>\n",
              "      <td>North Dakota</td>\n",
              "      <td>467.0</td>\n",
              "      <td>75.0</td>\n",
              "      <td>758080</td>\n",
              "    </tr>\n",
              "    <tr>\n",
              "      <th>7</th>\n",
              "      <td>7</td>\n",
              "      <td>South Atlantic</td>\n",
              "      <td>Delaware</td>\n",
              "      <td>708.0</td>\n",
              "      <td>374.0</td>\n",
              "      <td>965479</td>\n",
              "    </tr>\n",
              "    <tr>\n",
              "      <th>39</th>\n",
              "      <td>39</td>\n",
              "      <td>New England</td>\n",
              "      <td>Rhode Island</td>\n",
              "      <td>747.0</td>\n",
              "      <td>354.0</td>\n",
              "      <td>1058287</td>\n",
              "    </tr>\n",
              "    <tr>\n",
              "      <th>45</th>\n",
              "      <td>45</td>\n",
              "      <td>New England</td>\n",
              "      <td>Vermont</td>\n",
              "      <td>780.0</td>\n",
              "      <td>511.0</td>\n",
              "      <td>624358</td>\n",
              "    </tr>\n",
              "  </tbody>\n",
              "</table>\n",
              "</div>"
            ],
            "text/plain": [
              "    Unnamed: 0              region         state  individuals  family_members  \\\n",
              "50          50            Mountain       Wyoming        434.0           205.0   \n",
              "34          34  West North Central  North Dakota        467.0            75.0   \n",
              "7            7      South Atlantic      Delaware        708.0           374.0   \n",
              "39          39         New England  Rhode Island        747.0           354.0   \n",
              "45          45         New England       Vermont        780.0           511.0   \n",
              "\n",
              "    state_pop  \n",
              "50     577601  \n",
              "34     758080  \n",
              "7      965479  \n",
              "39    1058287  \n",
              "45     624358  "
            ]
          },
          "execution_count": 12,
          "metadata": {},
          "output_type": "execute_result"
        }
      ],
      "source": [
        "# Sort homelessness by the number of homeless individuals in the individuals column, from smallest to largest, and save this as homelessness_ind. Print the head of the sorted DataFrame\n",
        "homelessness_ind = homelessness.sort_values(by=\"individuals\", ascending=True)\n",
        "# Print the top few rows\n",
        "homelessness_ind.head()"
      ]
    },
    {
      "cell_type": "code",
      "execution_count": 13,
      "id": "Hz2xX9LfMSqv",
      "metadata": {
        "colab": {
          "base_uri": "https://localhost:8080/",
          "height": 206
        },
        "id": "Hz2xX9LfMSqv",
        "outputId": "afa6c8da-86c0-4120-a93a-19df32d4aa09"
      },
      "outputs": [
        {
          "data": {
            "application/vnd.microsoft.datawrangler.viewer.v0+json": {
              "columns": [
                {
                  "name": "index",
                  "rawType": "int64",
                  "type": "integer"
                },
                {
                  "name": "Unnamed: 0",
                  "rawType": "int64",
                  "type": "integer"
                },
                {
                  "name": "region",
                  "rawType": "object",
                  "type": "string"
                },
                {
                  "name": "state",
                  "rawType": "object",
                  "type": "string"
                },
                {
                  "name": "individuals",
                  "rawType": "float64",
                  "type": "float"
                },
                {
                  "name": "family_members",
                  "rawType": "float64",
                  "type": "float"
                },
                {
                  "name": "state_pop",
                  "rawType": "int64",
                  "type": "integer"
                }
              ],
              "ref": "f15b5a35-265b-449b-89e2-cb17f8d0273a",
              "rows": [
                [
                  "32",
                  "32",
                  "Mid-Atlantic",
                  "New York",
                  "39827.0",
                  "52070.0",
                  "19530351"
                ],
                [
                  "4",
                  "4",
                  "Pacific",
                  "California",
                  "109008.0",
                  "20964.0",
                  "39461588"
                ],
                [
                  "21",
                  "21",
                  "New England",
                  "Massachusetts",
                  "6811.0",
                  "13257.0",
                  "6882635"
                ],
                [
                  "9",
                  "9",
                  "South Atlantic",
                  "Florida",
                  "21443.0",
                  "9587.0",
                  "21244317"
                ],
                [
                  "43",
                  "43",
                  "West South Central",
                  "Texas",
                  "19199.0",
                  "6111.0",
                  "28628666"
                ]
              ],
              "shape": {
                "columns": 6,
                "rows": 5
              }
            },
            "text/html": [
              "<div>\n",
              "<style scoped>\n",
              "    .dataframe tbody tr th:only-of-type {\n",
              "        vertical-align: middle;\n",
              "    }\n",
              "\n",
              "    .dataframe tbody tr th {\n",
              "        vertical-align: top;\n",
              "    }\n",
              "\n",
              "    .dataframe thead th {\n",
              "        text-align: right;\n",
              "    }\n",
              "</style>\n",
              "<table border=\"1\" class=\"dataframe\">\n",
              "  <thead>\n",
              "    <tr style=\"text-align: right;\">\n",
              "      <th></th>\n",
              "      <th>Unnamed: 0</th>\n",
              "      <th>region</th>\n",
              "      <th>state</th>\n",
              "      <th>individuals</th>\n",
              "      <th>family_members</th>\n",
              "      <th>state_pop</th>\n",
              "    </tr>\n",
              "  </thead>\n",
              "  <tbody>\n",
              "    <tr>\n",
              "      <th>32</th>\n",
              "      <td>32</td>\n",
              "      <td>Mid-Atlantic</td>\n",
              "      <td>New York</td>\n",
              "      <td>39827.0</td>\n",
              "      <td>52070.0</td>\n",
              "      <td>19530351</td>\n",
              "    </tr>\n",
              "    <tr>\n",
              "      <th>4</th>\n",
              "      <td>4</td>\n",
              "      <td>Pacific</td>\n",
              "      <td>California</td>\n",
              "      <td>109008.0</td>\n",
              "      <td>20964.0</td>\n",
              "      <td>39461588</td>\n",
              "    </tr>\n",
              "    <tr>\n",
              "      <th>21</th>\n",
              "      <td>21</td>\n",
              "      <td>New England</td>\n",
              "      <td>Massachusetts</td>\n",
              "      <td>6811.0</td>\n",
              "      <td>13257.0</td>\n",
              "      <td>6882635</td>\n",
              "    </tr>\n",
              "    <tr>\n",
              "      <th>9</th>\n",
              "      <td>9</td>\n",
              "      <td>South Atlantic</td>\n",
              "      <td>Florida</td>\n",
              "      <td>21443.0</td>\n",
              "      <td>9587.0</td>\n",
              "      <td>21244317</td>\n",
              "    </tr>\n",
              "    <tr>\n",
              "      <th>43</th>\n",
              "      <td>43</td>\n",
              "      <td>West South Central</td>\n",
              "      <td>Texas</td>\n",
              "      <td>19199.0</td>\n",
              "      <td>6111.0</td>\n",
              "      <td>28628666</td>\n",
              "    </tr>\n",
              "  </tbody>\n",
              "</table>\n",
              "</div>"
            ],
            "text/plain": [
              "    Unnamed: 0              region          state  individuals  \\\n",
              "32          32        Mid-Atlantic       New York      39827.0   \n",
              "4            4             Pacific     California     109008.0   \n",
              "21          21         New England  Massachusetts       6811.0   \n",
              "9            9      South Atlantic        Florida      21443.0   \n",
              "43          43  West South Central          Texas      19199.0   \n",
              "\n",
              "    family_members  state_pop  \n",
              "32         52070.0   19530351  \n",
              "4          20964.0   39461588  \n",
              "21         13257.0    6882635  \n",
              "9           9587.0   21244317  \n",
              "43          6111.0   28628666  "
            ]
          },
          "execution_count": 13,
          "metadata": {},
          "output_type": "execute_result"
        }
      ],
      "source": [
        "# Sort homelessness by the number of homeless family_members in descending order, and save this as homelessness_fam.\n",
        "homelessness_fam = homelessness.sort_values(by=\"family_members\", ascending=False)\n",
        "homelessness_fam.head()"
      ]
    },
    {
      "cell_type": "code",
      "execution_count": 14,
      "id": "2DdOh9-LM7x_",
      "metadata": {
        "colab": {
          "base_uri": "https://localhost:8080/",
          "height": 206
        },
        "id": "2DdOh9-LM7x_",
        "outputId": "b6b0fab6-b5e3-41fd-d80a-85c2f7bf6b31"
      },
      "outputs": [
        {
          "data": {
            "application/vnd.microsoft.datawrangler.viewer.v0+json": {
              "columns": [
                {
                  "name": "index",
                  "rawType": "int64",
                  "type": "integer"
                },
                {
                  "name": "Unnamed: 0",
                  "rawType": "int64",
                  "type": "integer"
                },
                {
                  "name": "region",
                  "rawType": "object",
                  "type": "string"
                },
                {
                  "name": "state",
                  "rawType": "object",
                  "type": "string"
                },
                {
                  "name": "individuals",
                  "rawType": "float64",
                  "type": "float"
                },
                {
                  "name": "family_members",
                  "rawType": "float64",
                  "type": "float"
                },
                {
                  "name": "state_pop",
                  "rawType": "int64",
                  "type": "integer"
                }
              ],
              "ref": "2aae0063-6621-4c19-9d98-d0f67612126c",
              "rows": [
                [
                  "13",
                  "13",
                  "East North Central",
                  "Illinois",
                  "6752.0",
                  "3891.0",
                  "12723071"
                ],
                [
                  "35",
                  "35",
                  "East North Central",
                  "Ohio",
                  "6929.0",
                  "3320.0",
                  "11676341"
                ],
                [
                  "22",
                  "22",
                  "East North Central",
                  "Michigan",
                  "5209.0",
                  "3142.0",
                  "9984072"
                ],
                [
                  "49",
                  "49",
                  "East North Central",
                  "Wisconsin",
                  "2740.0",
                  "2167.0",
                  "5807406"
                ],
                [
                  "14",
                  "14",
                  "East North Central",
                  "Indiana",
                  "3776.0",
                  "1482.0",
                  "6695497"
                ]
              ],
              "shape": {
                "columns": 6,
                "rows": 5
              }
            },
            "text/html": [
              "<div>\n",
              "<style scoped>\n",
              "    .dataframe tbody tr th:only-of-type {\n",
              "        vertical-align: middle;\n",
              "    }\n",
              "\n",
              "    .dataframe tbody tr th {\n",
              "        vertical-align: top;\n",
              "    }\n",
              "\n",
              "    .dataframe thead th {\n",
              "        text-align: right;\n",
              "    }\n",
              "</style>\n",
              "<table border=\"1\" class=\"dataframe\">\n",
              "  <thead>\n",
              "    <tr style=\"text-align: right;\">\n",
              "      <th></th>\n",
              "      <th>Unnamed: 0</th>\n",
              "      <th>region</th>\n",
              "      <th>state</th>\n",
              "      <th>individuals</th>\n",
              "      <th>family_members</th>\n",
              "      <th>state_pop</th>\n",
              "    </tr>\n",
              "  </thead>\n",
              "  <tbody>\n",
              "    <tr>\n",
              "      <th>13</th>\n",
              "      <td>13</td>\n",
              "      <td>East North Central</td>\n",
              "      <td>Illinois</td>\n",
              "      <td>6752.0</td>\n",
              "      <td>3891.0</td>\n",
              "      <td>12723071</td>\n",
              "    </tr>\n",
              "    <tr>\n",
              "      <th>35</th>\n",
              "      <td>35</td>\n",
              "      <td>East North Central</td>\n",
              "      <td>Ohio</td>\n",
              "      <td>6929.0</td>\n",
              "      <td>3320.0</td>\n",
              "      <td>11676341</td>\n",
              "    </tr>\n",
              "    <tr>\n",
              "      <th>22</th>\n",
              "      <td>22</td>\n",
              "      <td>East North Central</td>\n",
              "      <td>Michigan</td>\n",
              "      <td>5209.0</td>\n",
              "      <td>3142.0</td>\n",
              "      <td>9984072</td>\n",
              "    </tr>\n",
              "    <tr>\n",
              "      <th>49</th>\n",
              "      <td>49</td>\n",
              "      <td>East North Central</td>\n",
              "      <td>Wisconsin</td>\n",
              "      <td>2740.0</td>\n",
              "      <td>2167.0</td>\n",
              "      <td>5807406</td>\n",
              "    </tr>\n",
              "    <tr>\n",
              "      <th>14</th>\n",
              "      <td>14</td>\n",
              "      <td>East North Central</td>\n",
              "      <td>Indiana</td>\n",
              "      <td>3776.0</td>\n",
              "      <td>1482.0</td>\n",
              "      <td>6695497</td>\n",
              "    </tr>\n",
              "  </tbody>\n",
              "</table>\n",
              "</div>"
            ],
            "text/plain": [
              "    Unnamed: 0              region      state  individuals  family_members  \\\n",
              "13          13  East North Central   Illinois       6752.0          3891.0   \n",
              "35          35  East North Central       Ohio       6929.0          3320.0   \n",
              "22          22  East North Central   Michigan       5209.0          3142.0   \n",
              "49          49  East North Central  Wisconsin       2740.0          2167.0   \n",
              "14          14  East North Central    Indiana       3776.0          1482.0   \n",
              "\n",
              "    state_pop  \n",
              "13   12723071  \n",
              "35   11676341  \n",
              "22    9984072  \n",
              "49    5807406  \n",
              "14    6695497  "
            ]
          },
          "execution_count": 14,
          "metadata": {},
          "output_type": "execute_result"
        }
      ],
      "source": [
        "# Sort homelessness first by region (ascending), and then by number of family members (descending). Save this as homelessness_reg_fam.\n",
        "homelessness_reg_fam = homelessness.sort_values(by=[\"region\", \"family_members\"], ascending=[True, False])\n",
        "# Print the top few rows\n",
        "homelessness_reg_fam.head()"
      ]
    },
    {
      "cell_type": "code",
      "execution_count": 15,
      "id": "GLTs1mEANkG0",
      "metadata": {
        "colab": {
          "base_uri": "https://localhost:8080/",
          "height": 241
        },
        "id": "GLTs1mEANkG0",
        "outputId": "33d02771-dde8-4326-8760-cf2aa3b6081c"
      },
      "outputs": [
        {
          "data": {
            "application/vnd.microsoft.datawrangler.viewer.v0+json": {
              "columns": [
                {
                  "name": "index",
                  "rawType": "int64",
                  "type": "integer"
                },
                {
                  "name": "individuals",
                  "rawType": "float64",
                  "type": "float"
                }
              ],
              "ref": "30c673cf-9373-448b-bf5c-0a70f8230829",
              "rows": [
                [
                  "0",
                  "2570.0"
                ],
                [
                  "1",
                  "1434.0"
                ],
                [
                  "2",
                  "7259.0"
                ],
                [
                  "3",
                  "2280.0"
                ],
                [
                  "4",
                  "109008.0"
                ]
              ],
              "shape": {
                "columns": 1,
                "rows": 5
              }
            },
            "text/plain": [
              "0      2570.0\n",
              "1      1434.0\n",
              "2      7259.0\n",
              "3      2280.0\n",
              "4    109008.0\n",
              "Name: individuals, dtype: float64"
            ]
          },
          "metadata": {},
          "output_type": "display_data"
        }
      ],
      "source": [
        "# Create a Series called individuals that contains only the individuals column of homelessness.\n",
        "individuals = homelessness[\"individuals\"]\n",
        "display(individuals.head())"
      ]
    },
    {
      "cell_type": "code",
      "execution_count": 16,
      "id": "C2Sv4ap3OR3C",
      "metadata": {
        "colab": {
          "base_uri": "https://localhost:8080/",
          "height": 206
        },
        "id": "C2Sv4ap3OR3C",
        "outputId": "4f62134d-036f-403e-9ec9-9f86d0b0c59d"
      },
      "outputs": [
        {
          "data": {
            "application/vnd.microsoft.datawrangler.viewer.v0+json": {
              "columns": [
                {
                  "name": "index",
                  "rawType": "int64",
                  "type": "integer"
                },
                {
                  "name": "state",
                  "rawType": "object",
                  "type": "string"
                },
                {
                  "name": "family_members",
                  "rawType": "float64",
                  "type": "float"
                }
              ],
              "ref": "02e5ed42-0b26-4357-a81e-1cba2e6e3119",
              "rows": [
                [
                  "0",
                  "Alabama",
                  "864.0"
                ],
                [
                  "1",
                  "Alaska",
                  "582.0"
                ],
                [
                  "2",
                  "Arizona",
                  "2606.0"
                ],
                [
                  "3",
                  "Arkansas",
                  "432.0"
                ],
                [
                  "4",
                  "California",
                  "20964.0"
                ]
              ],
              "shape": {
                "columns": 2,
                "rows": 5
              }
            },
            "text/html": [
              "<div>\n",
              "<style scoped>\n",
              "    .dataframe tbody tr th:only-of-type {\n",
              "        vertical-align: middle;\n",
              "    }\n",
              "\n",
              "    .dataframe tbody tr th {\n",
              "        vertical-align: top;\n",
              "    }\n",
              "\n",
              "    .dataframe thead th {\n",
              "        text-align: right;\n",
              "    }\n",
              "</style>\n",
              "<table border=\"1\" class=\"dataframe\">\n",
              "  <thead>\n",
              "    <tr style=\"text-align: right;\">\n",
              "      <th></th>\n",
              "      <th>state</th>\n",
              "      <th>family_members</th>\n",
              "    </tr>\n",
              "  </thead>\n",
              "  <tbody>\n",
              "    <tr>\n",
              "      <th>0</th>\n",
              "      <td>Alabama</td>\n",
              "      <td>864.0</td>\n",
              "    </tr>\n",
              "    <tr>\n",
              "      <th>1</th>\n",
              "      <td>Alaska</td>\n",
              "      <td>582.0</td>\n",
              "    </tr>\n",
              "    <tr>\n",
              "      <th>2</th>\n",
              "      <td>Arizona</td>\n",
              "      <td>2606.0</td>\n",
              "    </tr>\n",
              "    <tr>\n",
              "      <th>3</th>\n",
              "      <td>Arkansas</td>\n",
              "      <td>432.0</td>\n",
              "    </tr>\n",
              "    <tr>\n",
              "      <th>4</th>\n",
              "      <td>California</td>\n",
              "      <td>20964.0</td>\n",
              "    </tr>\n",
              "  </tbody>\n",
              "</table>\n",
              "</div>"
            ],
            "text/plain": [
              "        state  family_members\n",
              "0     Alabama           864.0\n",
              "1      Alaska           582.0\n",
              "2     Arizona          2606.0\n",
              "3    Arkansas           432.0\n",
              "4  California         20964.0"
            ]
          },
          "metadata": {},
          "output_type": "display_data"
        }
      ],
      "source": [
        "# Create a DataFrame called state_fam that contains only the state and family_members columns of homelessness, in that order.\n",
        "state_fam = homelessness[[\"state\", \"family_members\"]]\n",
        "display(state_fam.head())"
      ]
    },
    {
      "cell_type": "code",
      "execution_count": 17,
      "id": "L02cYSeYOguS",
      "metadata": {
        "colab": {
          "base_uri": "https://localhost:8080/",
          "height": 206
        },
        "id": "L02cYSeYOguS",
        "outputId": "8913802a-094f-4c30-b322-21a624df3c9e"
      },
      "outputs": [
        {
          "data": {
            "application/vnd.microsoft.datawrangler.viewer.v0+json": {
              "columns": [
                {
                  "name": "index",
                  "rawType": "int64",
                  "type": "integer"
                },
                {
                  "name": "individuals",
                  "rawType": "float64",
                  "type": "float"
                },
                {
                  "name": "state",
                  "rawType": "object",
                  "type": "string"
                }
              ],
              "ref": "bf25cc13-4c9d-4652-99b6-73cccffa0684",
              "rows": [
                [
                  "0",
                  "2570.0",
                  "Alabama"
                ],
                [
                  "1",
                  "1434.0",
                  "Alaska"
                ],
                [
                  "2",
                  "7259.0",
                  "Arizona"
                ],
                [
                  "3",
                  "2280.0",
                  "Arkansas"
                ],
                [
                  "4",
                  "109008.0",
                  "California"
                ]
              ],
              "shape": {
                "columns": 2,
                "rows": 5
              }
            },
            "text/html": [
              "<div>\n",
              "<style scoped>\n",
              "    .dataframe tbody tr th:only-of-type {\n",
              "        vertical-align: middle;\n",
              "    }\n",
              "\n",
              "    .dataframe tbody tr th {\n",
              "        vertical-align: top;\n",
              "    }\n",
              "\n",
              "    .dataframe thead th {\n",
              "        text-align: right;\n",
              "    }\n",
              "</style>\n",
              "<table border=\"1\" class=\"dataframe\">\n",
              "  <thead>\n",
              "    <tr style=\"text-align: right;\">\n",
              "      <th></th>\n",
              "      <th>individuals</th>\n",
              "      <th>state</th>\n",
              "    </tr>\n",
              "  </thead>\n",
              "  <tbody>\n",
              "    <tr>\n",
              "      <th>0</th>\n",
              "      <td>2570.0</td>\n",
              "      <td>Alabama</td>\n",
              "    </tr>\n",
              "    <tr>\n",
              "      <th>1</th>\n",
              "      <td>1434.0</td>\n",
              "      <td>Alaska</td>\n",
              "    </tr>\n",
              "    <tr>\n",
              "      <th>2</th>\n",
              "      <td>7259.0</td>\n",
              "      <td>Arizona</td>\n",
              "    </tr>\n",
              "    <tr>\n",
              "      <th>3</th>\n",
              "      <td>2280.0</td>\n",
              "      <td>Arkansas</td>\n",
              "    </tr>\n",
              "    <tr>\n",
              "      <th>4</th>\n",
              "      <td>109008.0</td>\n",
              "      <td>California</td>\n",
              "    </tr>\n",
              "  </tbody>\n",
              "</table>\n",
              "</div>"
            ],
            "text/plain": [
              "   individuals       state\n",
              "0       2570.0     Alabama\n",
              "1       1434.0      Alaska\n",
              "2       7259.0     Arizona\n",
              "3       2280.0    Arkansas\n",
              "4     109008.0  California"
            ]
          },
          "metadata": {},
          "output_type": "display_data"
        }
      ],
      "source": [
        "# Create a DataFrame called ind_state that contains the individuals and state columns of homelessness, in that order.\n",
        "ind_state = homelessness[[\"individuals\", \"state\"]]\n",
        "display(ind_state.head())"
      ]
    },
    {
      "cell_type": "code",
      "execution_count": 18,
      "id": "PX88ixNYO3Nx",
      "metadata": {
        "colab": {
          "base_uri": "https://localhost:8080/",
          "height": 206
        },
        "id": "PX88ixNYO3Nx",
        "outputId": "8f9b1d71-af93-4e48-c30b-634a9e84c021"
      },
      "outputs": [
        {
          "data": {
            "application/vnd.microsoft.datawrangler.viewer.v0+json": {
              "columns": [
                {
                  "name": "index",
                  "rawType": "int64",
                  "type": "integer"
                },
                {
                  "name": "Unnamed: 0",
                  "rawType": "int64",
                  "type": "integer"
                },
                {
                  "name": "region",
                  "rawType": "object",
                  "type": "string"
                },
                {
                  "name": "state",
                  "rawType": "object",
                  "type": "string"
                },
                {
                  "name": "individuals",
                  "rawType": "float64",
                  "type": "float"
                },
                {
                  "name": "family_members",
                  "rawType": "float64",
                  "type": "float"
                },
                {
                  "name": "state_pop",
                  "rawType": "int64",
                  "type": "integer"
                }
              ],
              "ref": "562d19fe-d567-49d9-8051-fed23805fa20",
              "rows": [
                [
                  "4",
                  "4",
                  "Pacific",
                  "California",
                  "109008.0",
                  "20964.0",
                  "39461588"
                ],
                [
                  "9",
                  "9",
                  "South Atlantic",
                  "Florida",
                  "21443.0",
                  "9587.0",
                  "21244317"
                ],
                [
                  "32",
                  "32",
                  "Mid-Atlantic",
                  "New York",
                  "39827.0",
                  "52070.0",
                  "19530351"
                ],
                [
                  "37",
                  "37",
                  "Pacific",
                  "Oregon",
                  "11139.0",
                  "3337.0",
                  "4181886"
                ],
                [
                  "43",
                  "43",
                  "West South Central",
                  "Texas",
                  "19199.0",
                  "6111.0",
                  "28628666"
                ]
              ],
              "shape": {
                "columns": 6,
                "rows": 5
              }
            },
            "text/html": [
              "<div>\n",
              "<style scoped>\n",
              "    .dataframe tbody tr th:only-of-type {\n",
              "        vertical-align: middle;\n",
              "    }\n",
              "\n",
              "    .dataframe tbody tr th {\n",
              "        vertical-align: top;\n",
              "    }\n",
              "\n",
              "    .dataframe thead th {\n",
              "        text-align: right;\n",
              "    }\n",
              "</style>\n",
              "<table border=\"1\" class=\"dataframe\">\n",
              "  <thead>\n",
              "    <tr style=\"text-align: right;\">\n",
              "      <th></th>\n",
              "      <th>Unnamed: 0</th>\n",
              "      <th>region</th>\n",
              "      <th>state</th>\n",
              "      <th>individuals</th>\n",
              "      <th>family_members</th>\n",
              "      <th>state_pop</th>\n",
              "    </tr>\n",
              "  </thead>\n",
              "  <tbody>\n",
              "    <tr>\n",
              "      <th>4</th>\n",
              "      <td>4</td>\n",
              "      <td>Pacific</td>\n",
              "      <td>California</td>\n",
              "      <td>109008.0</td>\n",
              "      <td>20964.0</td>\n",
              "      <td>39461588</td>\n",
              "    </tr>\n",
              "    <tr>\n",
              "      <th>9</th>\n",
              "      <td>9</td>\n",
              "      <td>South Atlantic</td>\n",
              "      <td>Florida</td>\n",
              "      <td>21443.0</td>\n",
              "      <td>9587.0</td>\n",
              "      <td>21244317</td>\n",
              "    </tr>\n",
              "    <tr>\n",
              "      <th>32</th>\n",
              "      <td>32</td>\n",
              "      <td>Mid-Atlantic</td>\n",
              "      <td>New York</td>\n",
              "      <td>39827.0</td>\n",
              "      <td>52070.0</td>\n",
              "      <td>19530351</td>\n",
              "    </tr>\n",
              "    <tr>\n",
              "      <th>37</th>\n",
              "      <td>37</td>\n",
              "      <td>Pacific</td>\n",
              "      <td>Oregon</td>\n",
              "      <td>11139.0</td>\n",
              "      <td>3337.0</td>\n",
              "      <td>4181886</td>\n",
              "    </tr>\n",
              "    <tr>\n",
              "      <th>43</th>\n",
              "      <td>43</td>\n",
              "      <td>West South Central</td>\n",
              "      <td>Texas</td>\n",
              "      <td>19199.0</td>\n",
              "      <td>6111.0</td>\n",
              "      <td>28628666</td>\n",
              "    </tr>\n",
              "  </tbody>\n",
              "</table>\n",
              "</div>"
            ],
            "text/plain": [
              "    Unnamed: 0              region       state  individuals  family_members  \\\n",
              "4            4             Pacific  California     109008.0         20964.0   \n",
              "9            9      South Atlantic     Florida      21443.0          9587.0   \n",
              "32          32        Mid-Atlantic    New York      39827.0         52070.0   \n",
              "37          37             Pacific      Oregon      11139.0          3337.0   \n",
              "43          43  West South Central       Texas      19199.0          6111.0   \n",
              "\n",
              "    state_pop  \n",
              "4    39461588  \n",
              "9    21244317  \n",
              "32   19530351  \n",
              "37    4181886  \n",
              "43   28628666  "
            ]
          },
          "metadata": {},
          "output_type": "display_data"
        }
      ],
      "source": [
        "# Filter homelessness for cases where the number of individuals is greater than ten thousand, assigning to ind_gt_10k.\n",
        "ind_gt_10k = homelessness[(homelessness[\"individuals\"] > 10_000)]\n",
        "# See the result\n",
        "display(ind_gt_10k.head())"
      ]
    },
    {
      "cell_type": "code",
      "execution_count": 19,
      "id": "HIk4w0k6POfm",
      "metadata": {
        "colab": {
          "base_uri": "https://localhost:8080/",
          "height": 206
        },
        "id": "HIk4w0k6POfm",
        "outputId": "c21821bd-4de1-4d00-f39b-f22f10ff5dec"
      },
      "outputs": [
        {
          "data": {
            "application/vnd.microsoft.datawrangler.viewer.v0+json": {
              "columns": [
                {
                  "name": "index",
                  "rawType": "int64",
                  "type": "integer"
                },
                {
                  "name": "Unnamed: 0",
                  "rawType": "int64",
                  "type": "integer"
                },
                {
                  "name": "region",
                  "rawType": "object",
                  "type": "string"
                },
                {
                  "name": "state",
                  "rawType": "object",
                  "type": "string"
                },
                {
                  "name": "individuals",
                  "rawType": "float64",
                  "type": "float"
                },
                {
                  "name": "family_members",
                  "rawType": "float64",
                  "type": "float"
                },
                {
                  "name": "state_pop",
                  "rawType": "int64",
                  "type": "integer"
                }
              ],
              "ref": "646e6346-66c2-4b40-ad4e-72acdfdca89e",
              "rows": [
                [
                  "2",
                  "2",
                  "Mountain",
                  "Arizona",
                  "7259.0",
                  "2606.0",
                  "7158024"
                ],
                [
                  "5",
                  "5",
                  "Mountain",
                  "Colorado",
                  "7607.0",
                  "3250.0",
                  "5691287"
                ],
                [
                  "12",
                  "12",
                  "Mountain",
                  "Idaho",
                  "1297.0",
                  "715.0",
                  "1750536"
                ],
                [
                  "26",
                  "26",
                  "Mountain",
                  "Montana",
                  "983.0",
                  "422.0",
                  "1060665"
                ],
                [
                  "28",
                  "28",
                  "Mountain",
                  "Nevada",
                  "7058.0",
                  "486.0",
                  "3027341"
                ]
              ],
              "shape": {
                "columns": 6,
                "rows": 5
              }
            },
            "text/html": [
              "<div>\n",
              "<style scoped>\n",
              "    .dataframe tbody tr th:only-of-type {\n",
              "        vertical-align: middle;\n",
              "    }\n",
              "\n",
              "    .dataframe tbody tr th {\n",
              "        vertical-align: top;\n",
              "    }\n",
              "\n",
              "    .dataframe thead th {\n",
              "        text-align: right;\n",
              "    }\n",
              "</style>\n",
              "<table border=\"1\" class=\"dataframe\">\n",
              "  <thead>\n",
              "    <tr style=\"text-align: right;\">\n",
              "      <th></th>\n",
              "      <th>Unnamed: 0</th>\n",
              "      <th>region</th>\n",
              "      <th>state</th>\n",
              "      <th>individuals</th>\n",
              "      <th>family_members</th>\n",
              "      <th>state_pop</th>\n",
              "    </tr>\n",
              "  </thead>\n",
              "  <tbody>\n",
              "    <tr>\n",
              "      <th>2</th>\n",
              "      <td>2</td>\n",
              "      <td>Mountain</td>\n",
              "      <td>Arizona</td>\n",
              "      <td>7259.0</td>\n",
              "      <td>2606.0</td>\n",
              "      <td>7158024</td>\n",
              "    </tr>\n",
              "    <tr>\n",
              "      <th>5</th>\n",
              "      <td>5</td>\n",
              "      <td>Mountain</td>\n",
              "      <td>Colorado</td>\n",
              "      <td>7607.0</td>\n",
              "      <td>3250.0</td>\n",
              "      <td>5691287</td>\n",
              "    </tr>\n",
              "    <tr>\n",
              "      <th>12</th>\n",
              "      <td>12</td>\n",
              "      <td>Mountain</td>\n",
              "      <td>Idaho</td>\n",
              "      <td>1297.0</td>\n",
              "      <td>715.0</td>\n",
              "      <td>1750536</td>\n",
              "    </tr>\n",
              "    <tr>\n",
              "      <th>26</th>\n",
              "      <td>26</td>\n",
              "      <td>Mountain</td>\n",
              "      <td>Montana</td>\n",
              "      <td>983.0</td>\n",
              "      <td>422.0</td>\n",
              "      <td>1060665</td>\n",
              "    </tr>\n",
              "    <tr>\n",
              "      <th>28</th>\n",
              "      <td>28</td>\n",
              "      <td>Mountain</td>\n",
              "      <td>Nevada</td>\n",
              "      <td>7058.0</td>\n",
              "      <td>486.0</td>\n",
              "      <td>3027341</td>\n",
              "    </tr>\n",
              "  </tbody>\n",
              "</table>\n",
              "</div>"
            ],
            "text/plain": [
              "    Unnamed: 0    region     state  individuals  family_members  state_pop\n",
              "2            2  Mountain   Arizona       7259.0          2606.0    7158024\n",
              "5            5  Mountain  Colorado       7607.0          3250.0    5691287\n",
              "12          12  Mountain     Idaho       1297.0           715.0    1750536\n",
              "26          26  Mountain   Montana        983.0           422.0    1060665\n",
              "28          28  Mountain    Nevada       7058.0           486.0    3027341"
            ]
          },
          "metadata": {},
          "output_type": "display_data"
        }
      ],
      "source": [
        "# Filter homelessness for cases where the USA Census region is \"Mountain\", assigning to mountain_reg.\n",
        "mountain_reg = homelessness[(homelessness[\"region\"] == \"Mountain\")]\n",
        "# See the result\n",
        "display(mountain_reg.head())"
      ]
    },
    {
      "cell_type": "code",
      "execution_count": 20,
      "id": "Tp_yH7nCQCm9",
      "metadata": {
        "colab": {
          "base_uri": "https://localhost:8080/",
          "height": 81
        },
        "id": "Tp_yH7nCQCm9",
        "outputId": "24fb18ec-3ed5-4280-a1cf-e8507fd966a5"
      },
      "outputs": [
        {
          "data": {
            "application/vnd.microsoft.datawrangler.viewer.v0+json": {
              "columns": [
                {
                  "name": "index",
                  "rawType": "int64",
                  "type": "integer"
                },
                {
                  "name": "Unnamed: 0",
                  "rawType": "int64",
                  "type": "integer"
                },
                {
                  "name": "region",
                  "rawType": "object",
                  "type": "string"
                },
                {
                  "name": "state",
                  "rawType": "object",
                  "type": "string"
                },
                {
                  "name": "individuals",
                  "rawType": "float64",
                  "type": "float"
                },
                {
                  "name": "family_members",
                  "rawType": "float64",
                  "type": "float"
                },
                {
                  "name": "state_pop",
                  "rawType": "int64",
                  "type": "integer"
                }
              ],
              "ref": "386ca0c1-a17e-414b-beab-125a9eb68f6d",
              "rows": [
                [
                  "1",
                  "1",
                  "Pacific",
                  "Alaska",
                  "1434.0",
                  "582.0",
                  "735139"
                ]
              ],
              "shape": {
                "columns": 6,
                "rows": 1
              }
            },
            "text/html": [
              "<div>\n",
              "<style scoped>\n",
              "    .dataframe tbody tr th:only-of-type {\n",
              "        vertical-align: middle;\n",
              "    }\n",
              "\n",
              "    .dataframe tbody tr th {\n",
              "        vertical-align: top;\n",
              "    }\n",
              "\n",
              "    .dataframe thead th {\n",
              "        text-align: right;\n",
              "    }\n",
              "</style>\n",
              "<table border=\"1\" class=\"dataframe\">\n",
              "  <thead>\n",
              "    <tr style=\"text-align: right;\">\n",
              "      <th></th>\n",
              "      <th>Unnamed: 0</th>\n",
              "      <th>region</th>\n",
              "      <th>state</th>\n",
              "      <th>individuals</th>\n",
              "      <th>family_members</th>\n",
              "      <th>state_pop</th>\n",
              "    </tr>\n",
              "  </thead>\n",
              "  <tbody>\n",
              "    <tr>\n",
              "      <th>1</th>\n",
              "      <td>1</td>\n",
              "      <td>Pacific</td>\n",
              "      <td>Alaska</td>\n",
              "      <td>1434.0</td>\n",
              "      <td>582.0</td>\n",
              "      <td>735139</td>\n",
              "    </tr>\n",
              "  </tbody>\n",
              "</table>\n",
              "</div>"
            ],
            "text/plain": [
              "   Unnamed: 0   region   state  individuals  family_members  state_pop\n",
              "1           1  Pacific  Alaska       1434.0           582.0     735139"
            ]
          },
          "metadata": {},
          "output_type": "display_data"
        }
      ],
      "source": [
        "# Filter homelessness for cases where the number of family_members is less than one thousand and the region is \"Pacific\", assigning to fam_lt_1k_pac\n",
        "fam_lt_1k_pac = homelessness[(homelessness[\"family_members\"] < 1000) & (homelessness[\"region\"] == \"Pacific\")]\n",
        "# See the result\n",
        "display(fam_lt_1k_pac.head())"
      ]
    },
    {
      "cell_type": "code",
      "execution_count": 21,
      "id": "F7SWWxMIQsFj",
      "metadata": {
        "colab": {
          "base_uri": "https://localhost:8080/",
          "height": 175
        },
        "id": "F7SWWxMIQsFj",
        "outputId": "a46fd3ae-1373-41e0-d1a9-4ac11562977a"
      },
      "outputs": [
        {
          "data": {
            "application/vnd.microsoft.datawrangler.viewer.v0+json": {
              "columns": [
                {
                  "name": "index",
                  "rawType": "int64",
                  "type": "integer"
                },
                {
                  "name": "Unnamed: 0",
                  "rawType": "int64",
                  "type": "integer"
                },
                {
                  "name": "region",
                  "rawType": "object",
                  "type": "string"
                },
                {
                  "name": "state",
                  "rawType": "object",
                  "type": "string"
                },
                {
                  "name": "individuals",
                  "rawType": "float64",
                  "type": "float"
                },
                {
                  "name": "family_members",
                  "rawType": "float64",
                  "type": "float"
                },
                {
                  "name": "state_pop",
                  "rawType": "int64",
                  "type": "integer"
                }
              ],
              "ref": "51f600b5-96aa-44f6-acd8-9f87b016a866",
              "rows": [
                [
                  "2",
                  "2",
                  "Mountain",
                  "Arizona",
                  "7259.0",
                  "2606.0",
                  "7158024"
                ],
                [
                  "4",
                  "4",
                  "Pacific",
                  "California",
                  "109008.0",
                  "20964.0",
                  "39461588"
                ],
                [
                  "28",
                  "28",
                  "Mountain",
                  "Nevada",
                  "7058.0",
                  "486.0",
                  "3027341"
                ],
                [
                  "44",
                  "44",
                  "Mountain",
                  "Utah",
                  "1904.0",
                  "972.0",
                  "3153550"
                ]
              ],
              "shape": {
                "columns": 6,
                "rows": 4
              }
            },
            "text/html": [
              "<div>\n",
              "<style scoped>\n",
              "    .dataframe tbody tr th:only-of-type {\n",
              "        vertical-align: middle;\n",
              "    }\n",
              "\n",
              "    .dataframe tbody tr th {\n",
              "        vertical-align: top;\n",
              "    }\n",
              "\n",
              "    .dataframe thead th {\n",
              "        text-align: right;\n",
              "    }\n",
              "</style>\n",
              "<table border=\"1\" class=\"dataframe\">\n",
              "  <thead>\n",
              "    <tr style=\"text-align: right;\">\n",
              "      <th></th>\n",
              "      <th>Unnamed: 0</th>\n",
              "      <th>region</th>\n",
              "      <th>state</th>\n",
              "      <th>individuals</th>\n",
              "      <th>family_members</th>\n",
              "      <th>state_pop</th>\n",
              "    </tr>\n",
              "  </thead>\n",
              "  <tbody>\n",
              "    <tr>\n",
              "      <th>2</th>\n",
              "      <td>2</td>\n",
              "      <td>Mountain</td>\n",
              "      <td>Arizona</td>\n",
              "      <td>7259.0</td>\n",
              "      <td>2606.0</td>\n",
              "      <td>7158024</td>\n",
              "    </tr>\n",
              "    <tr>\n",
              "      <th>4</th>\n",
              "      <td>4</td>\n",
              "      <td>Pacific</td>\n",
              "      <td>California</td>\n",
              "      <td>109008.0</td>\n",
              "      <td>20964.0</td>\n",
              "      <td>39461588</td>\n",
              "    </tr>\n",
              "    <tr>\n",
              "      <th>28</th>\n",
              "      <td>28</td>\n",
              "      <td>Mountain</td>\n",
              "      <td>Nevada</td>\n",
              "      <td>7058.0</td>\n",
              "      <td>486.0</td>\n",
              "      <td>3027341</td>\n",
              "    </tr>\n",
              "    <tr>\n",
              "      <th>44</th>\n",
              "      <td>44</td>\n",
              "      <td>Mountain</td>\n",
              "      <td>Utah</td>\n",
              "      <td>1904.0</td>\n",
              "      <td>972.0</td>\n",
              "      <td>3153550</td>\n",
              "    </tr>\n",
              "  </tbody>\n",
              "</table>\n",
              "</div>"
            ],
            "text/plain": [
              "    Unnamed: 0    region       state  individuals  family_members  state_pop\n",
              "2            2  Mountain     Arizona       7259.0          2606.0    7158024\n",
              "4            4   Pacific  California     109008.0         20964.0   39461588\n",
              "28          28  Mountain      Nevada       7058.0           486.0    3027341\n",
              "44          44  Mountain        Utah       1904.0           972.0    3153550"
            ]
          },
          "metadata": {},
          "output_type": "display_data"
        }
      ],
      "source": [
        "# Filter homelessness for cases where the USA census state is in the list of Mojave states, canu, assigning to mojave_homelessness\n",
        "canu = [\"California\", \"Arizona\", \"Nevada\", \"Utah\"]\n",
        "# Filter for rows in the Mojave Desert states\n",
        "mojave_homelessness = homelessness[homelessness[\"state\"].isin(canu)]\n",
        "# See the result\n",
        "display(mojave_homelessness.head())"
      ]
    },
    {
      "cell_type": "markdown",
      "id": "x2JOgowITGWA",
      "metadata": {
        "id": "x2JOgowITGWA"
      },
      "source": [
        "## Adding New Columns to a DataFrame\n",
        "\n",
        "The capacity to create new columns is fundamental to any serious data analysis workflow. Whether you are engineering features, deriving metrics, or flagging data for quality checks, Pandas enables you to add columns efficiently and flexibly.\n",
        "\n",
        "\n",
        "### 1. Adding Columns by Assignment\n",
        "\n",
        "The most idiomatic way to add a new column is by simple assignment, using the column name as a key.\n",
        "\n",
        "#### Example: Add a column based on existing data\n",
        "\n",
        "```python\n",
        "df[\"bmi\"] = df[\"weight_kg\"] / (df[\"height_m\"] ** 2)\n",
        "```\n",
        "\n",
        "This adds a new column called `bmi`, computed from existing columns.\n",
        "\n",
        "\n",
        "### 2. Adding Columns with a Scalar Value\n",
        "\n",
        "If you wish to assign the same value to all rows:\n",
        "\n",
        "```python\n",
        "df[\"country\"] = \"Brazil\"\n",
        "```\n",
        "\n",
        "Every row now has `\"Brazil\"` in the `country` column.\n",
        "\n",
        "\n",
        "### 3. Adding Columns from a List, Array, or Series\n",
        "\n",
        "You may assign a list, NumPy array, or Pandas Series, provided it matches the DataFrame’s length:\n",
        "\n",
        "```python\n",
        "df[\"random_noise\"] = np.random.normal(size=len(df))\n",
        "```\n",
        "\n",
        "If the length does not match, Pandas will raise a `ValueError`.\n",
        "\n",
        "\n",
        "### 4. Adding Columns with `assign()` (Functional Chaining)\n",
        "\n",
        "For pipeline-oriented code, use `.assign()`, which returns a new DataFrame:\n",
        "\n",
        "```python\n",
        "df2 = df.assign(log_salary=np.log(df[\"salary\"]))\n",
        "```\n",
        "\n",
        "Multiple columns can be added simultaneously:\n",
        "\n",
        "```python\n",
        "df2 = df.assign(\n",
        "    salary_eur = df[\"salary\"] * 0.92,\n",
        "    has_bonus = df[\"bonus\"].notna()\n",
        ")\n",
        "```\n",
        "\n",
        "This is ideal for chaining several transformations without mutating the original object.\n",
        "\n",
        "\n",
        "### 5. Adding Columns Conditionally\n",
        "\n",
        "It is often necessary to add a column reflecting a condition:\n",
        "\n",
        "```python\n",
        "df[\"is_adult\"] = df[\"age\"] >= 18\n",
        "```\n",
        "\n",
        "The new column will be of boolean dtype (`True`/`False`). For categorical flags, you may use `.map()` or `np.where()`:\n",
        "\n",
        "```python\n",
        "df[\"age_group\"] = np.where(df[\"age\"] < 18, \"child\", \"adult\")\n",
        "```\n",
        "\n",
        "\n",
        "### 6. Adding Columns from Functions\n",
        "\n",
        "You can generate new columns by applying a function row-wise:\n",
        "\n",
        "```python\n",
        "df[\"full_name\"] = df[\"first_name\"] + \" \" + df[\"last_name\"]\n",
        "```\n",
        "\n",
        "For more complex logic:\n",
        "\n",
        "```python\n",
        "def bmi_category(row):\n",
        "    if row[\"bmi\"] < 18.5:\n",
        "        return \"Underweight\"\n",
        "    elif row[\"bmi\"] < 25:\n",
        "        return \"Normal\"\n",
        "    else:\n",
        "        return \"Overweight\"\n",
        "\n",
        "df[\"bmi_category\"] = df.apply(bmi_category, axis=1)\n",
        "```\n",
        "\n",
        "Note: `.apply(..., axis=1)` can be slow for large DataFrames; prefer vectorised methods whenever possible.\n",
        "\n",
        "\n",
        "### Best Practices\n",
        "\n",
        "- Prefer vectorised operations for performance and clarity.\n",
        "- Use `.assign()` in pipelines for non-destructive transformations.\n",
        "- Always check column alignment when assigning from external sequences.\n",
        "- When overwriting columns, be explicit and cautious to avoid accidental data loss.\n"
      ]
    },
    {
      "cell_type": "code",
      "execution_count": 22,
      "id": "DgjWmaiuRmx0",
      "metadata": {
        "id": "DgjWmaiuRmx0"
      },
      "outputs": [],
      "source": [
        "# Add a new column to homelessness, named total, containing the sum of the individuals and family_members columns.\n",
        "homelessness[\"total\"] = homelessness[\"individuals\"] + homelessness[\"family_members\"]"
      ]
    },
    {
      "cell_type": "code",
      "execution_count": 23,
      "id": "gdGeyz35Vqhq",
      "metadata": {
        "id": "gdGeyz35Vqhq"
      },
      "outputs": [],
      "source": [
        "# Add another column to homelessness, named p_homeless, containing the proportion of the total homeless population to the total population in each state state_pop.\n",
        "homelessness[\"p_homeless\"] = homelessness[\"total\"] / homelessness[\"state_pop\"]"
      ]
    },
    {
      "cell_type": "code",
      "execution_count": 24,
      "id": "dk_xuP23V9M5",
      "metadata": {
        "colab": {
          "base_uri": "https://localhost:8080/",
          "height": 313
        },
        "id": "dk_xuP23V9M5",
        "outputId": "f4860b82-e5ab-4492-b1b8-80bcca7b8597"
      },
      "outputs": [
        {
          "data": {
            "application/vnd.microsoft.datawrangler.viewer.v0+json": {
              "columns": [
                {
                  "name": "index",
                  "rawType": "int64",
                  "type": "integer"
                },
                {
                  "name": "Unnamed: 0",
                  "rawType": "int64",
                  "type": "integer"
                },
                {
                  "name": "region",
                  "rawType": "object",
                  "type": "string"
                },
                {
                  "name": "state",
                  "rawType": "object",
                  "type": "string"
                },
                {
                  "name": "individuals",
                  "rawType": "float64",
                  "type": "float"
                },
                {
                  "name": "family_members",
                  "rawType": "float64",
                  "type": "float"
                },
                {
                  "name": "state_pop",
                  "rawType": "int64",
                  "type": "integer"
                },
                {
                  "name": "total",
                  "rawType": "float64",
                  "type": "float"
                },
                {
                  "name": "p_homeless",
                  "rawType": "float64",
                  "type": "float"
                }
              ],
              "ref": "e16b492a-5a6f-404b-a168-3f608e0838c6",
              "rows": [
                [
                  "0",
                  "0",
                  "East South Central",
                  "Alabama",
                  "2570.0",
                  "864.0",
                  "4887681",
                  "3434.0",
                  "0.0007025826767336085"
                ],
                [
                  "1",
                  "1",
                  "Pacific",
                  "Alaska",
                  "1434.0",
                  "582.0",
                  "735139",
                  "2016.0",
                  "0.0027423385237349673"
                ],
                [
                  "2",
                  "2",
                  "Mountain",
                  "Arizona",
                  "7259.0",
                  "2606.0",
                  "7158024",
                  "9865.0",
                  "0.0013781736412171851"
                ],
                [
                  "3",
                  "3",
                  "West South Central",
                  "Arkansas",
                  "2280.0",
                  "432.0",
                  "3009733",
                  "2712.0",
                  "0.000901076607127609"
                ],
                [
                  "4",
                  "4",
                  "Pacific",
                  "California",
                  "109008.0",
                  "20964.0",
                  "39461588",
                  "129972.0",
                  "0.0032936332922030406"
                ]
              ],
              "shape": {
                "columns": 8,
                "rows": 5
              }
            },
            "text/html": [
              "<div>\n",
              "<style scoped>\n",
              "    .dataframe tbody tr th:only-of-type {\n",
              "        vertical-align: middle;\n",
              "    }\n",
              "\n",
              "    .dataframe tbody tr th {\n",
              "        vertical-align: top;\n",
              "    }\n",
              "\n",
              "    .dataframe thead th {\n",
              "        text-align: right;\n",
              "    }\n",
              "</style>\n",
              "<table border=\"1\" class=\"dataframe\">\n",
              "  <thead>\n",
              "    <tr style=\"text-align: right;\">\n",
              "      <th></th>\n",
              "      <th>Unnamed: 0</th>\n",
              "      <th>region</th>\n",
              "      <th>state</th>\n",
              "      <th>individuals</th>\n",
              "      <th>family_members</th>\n",
              "      <th>state_pop</th>\n",
              "      <th>total</th>\n",
              "      <th>p_homeless</th>\n",
              "    </tr>\n",
              "  </thead>\n",
              "  <tbody>\n",
              "    <tr>\n",
              "      <th>0</th>\n",
              "      <td>0</td>\n",
              "      <td>East South Central</td>\n",
              "      <td>Alabama</td>\n",
              "      <td>2570.0</td>\n",
              "      <td>864.0</td>\n",
              "      <td>4887681</td>\n",
              "      <td>3434.0</td>\n",
              "      <td>0.000703</td>\n",
              "    </tr>\n",
              "    <tr>\n",
              "      <th>1</th>\n",
              "      <td>1</td>\n",
              "      <td>Pacific</td>\n",
              "      <td>Alaska</td>\n",
              "      <td>1434.0</td>\n",
              "      <td>582.0</td>\n",
              "      <td>735139</td>\n",
              "      <td>2016.0</td>\n",
              "      <td>0.002742</td>\n",
              "    </tr>\n",
              "    <tr>\n",
              "      <th>2</th>\n",
              "      <td>2</td>\n",
              "      <td>Mountain</td>\n",
              "      <td>Arizona</td>\n",
              "      <td>7259.0</td>\n",
              "      <td>2606.0</td>\n",
              "      <td>7158024</td>\n",
              "      <td>9865.0</td>\n",
              "      <td>0.001378</td>\n",
              "    </tr>\n",
              "    <tr>\n",
              "      <th>3</th>\n",
              "      <td>3</td>\n",
              "      <td>West South Central</td>\n",
              "      <td>Arkansas</td>\n",
              "      <td>2280.0</td>\n",
              "      <td>432.0</td>\n",
              "      <td>3009733</td>\n",
              "      <td>2712.0</td>\n",
              "      <td>0.000901</td>\n",
              "    </tr>\n",
              "    <tr>\n",
              "      <th>4</th>\n",
              "      <td>4</td>\n",
              "      <td>Pacific</td>\n",
              "      <td>California</td>\n",
              "      <td>109008.0</td>\n",
              "      <td>20964.0</td>\n",
              "      <td>39461588</td>\n",
              "      <td>129972.0</td>\n",
              "      <td>0.003294</td>\n",
              "    </tr>\n",
              "  </tbody>\n",
              "</table>\n",
              "</div>"
            ],
            "text/plain": [
              "   Unnamed: 0              region       state  individuals  family_members  \\\n",
              "0           0  East South Central     Alabama       2570.0           864.0   \n",
              "1           1             Pacific      Alaska       1434.0           582.0   \n",
              "2           2            Mountain     Arizona       7259.0          2606.0   \n",
              "3           3  West South Central    Arkansas       2280.0           432.0   \n",
              "4           4             Pacific  California     109008.0         20964.0   \n",
              "\n",
              "   state_pop     total  p_homeless  \n",
              "0    4887681    3434.0    0.000703  \n",
              "1     735139    2016.0    0.002742  \n",
              "2    7158024    9865.0    0.001378  \n",
              "3    3009733    2712.0    0.000901  \n",
              "4   39461588  129972.0    0.003294  "
            ]
          },
          "metadata": {},
          "output_type": "display_data"
        }
      ],
      "source": [
        "# See the result\n",
        "display(homelessness.head())"
      ]
    },
    {
      "cell_type": "code",
      "execution_count": 25,
      "id": "M5AS3gNCWBIs",
      "metadata": {
        "colab": {
          "base_uri": "https://localhost:8080/",
          "height": 269
        },
        "id": "M5AS3gNCWBIs",
        "outputId": "3d67db89-c14f-4785-969c-5f4af69da5ba"
      },
      "outputs": [
        {
          "data": {
            "application/vnd.microsoft.datawrangler.viewer.v0+json": {
              "columns": [
                {
                  "name": "index",
                  "rawType": "int64",
                  "type": "integer"
                },
                {
                  "name": "state",
                  "rawType": "object",
                  "type": "string"
                },
                {
                  "name": "indiv_per_10k",
                  "rawType": "float64",
                  "type": "float"
                }
              ],
              "ref": "823d5e91-aa18-4d20-8da7-a977accafbf0",
              "rows": [
                [
                  "8",
                  "District of Columbia",
                  "53.73838103505538"
                ],
                [
                  "11",
                  "Hawaii",
                  "29.079405572180068"
                ],
                [
                  "4",
                  "California",
                  "27.62382497126066"
                ],
                [
                  "37",
                  "Oregon",
                  "26.63630715901868"
                ],
                [
                  "28",
                  "Nevada",
                  "23.314188920243872"
                ],
                [
                  "47",
                  "Washington",
                  "21.82919452744326"
                ],
                [
                  "32",
                  "New York",
                  "20.3923626359813"
                ]
              ],
              "shape": {
                "columns": 2,
                "rows": 7
              }
            },
            "text/html": [
              "<div>\n",
              "<style scoped>\n",
              "    .dataframe tbody tr th:only-of-type {\n",
              "        vertical-align: middle;\n",
              "    }\n",
              "\n",
              "    .dataframe tbody tr th {\n",
              "        vertical-align: top;\n",
              "    }\n",
              "\n",
              "    .dataframe thead th {\n",
              "        text-align: right;\n",
              "    }\n",
              "</style>\n",
              "<table border=\"1\" class=\"dataframe\">\n",
              "  <thead>\n",
              "    <tr style=\"text-align: right;\">\n",
              "      <th></th>\n",
              "      <th>state</th>\n",
              "      <th>indiv_per_10k</th>\n",
              "    </tr>\n",
              "  </thead>\n",
              "  <tbody>\n",
              "    <tr>\n",
              "      <th>8</th>\n",
              "      <td>District of Columbia</td>\n",
              "      <td>53.738381</td>\n",
              "    </tr>\n",
              "    <tr>\n",
              "      <th>11</th>\n",
              "      <td>Hawaii</td>\n",
              "      <td>29.079406</td>\n",
              "    </tr>\n",
              "    <tr>\n",
              "      <th>4</th>\n",
              "      <td>California</td>\n",
              "      <td>27.623825</td>\n",
              "    </tr>\n",
              "    <tr>\n",
              "      <th>37</th>\n",
              "      <td>Oregon</td>\n",
              "      <td>26.636307</td>\n",
              "    </tr>\n",
              "    <tr>\n",
              "      <th>28</th>\n",
              "      <td>Nevada</td>\n",
              "      <td>23.314189</td>\n",
              "    </tr>\n",
              "    <tr>\n",
              "      <th>47</th>\n",
              "      <td>Washington</td>\n",
              "      <td>21.829195</td>\n",
              "    </tr>\n",
              "    <tr>\n",
              "      <th>32</th>\n",
              "      <td>New York</td>\n",
              "      <td>20.392363</td>\n",
              "    </tr>\n",
              "  </tbody>\n",
              "</table>\n",
              "</div>"
            ],
            "text/plain": [
              "                   state  indiv_per_10k\n",
              "8   District of Columbia      53.738381\n",
              "11                Hawaii      29.079406\n",
              "4             California      27.623825\n",
              "37                Oregon      26.636307\n",
              "28                Nevada      23.314189\n",
              "47            Washington      21.829195\n",
              "32              New York      20.392363"
            ]
          },
          "metadata": {},
          "output_type": "display_data"
        }
      ],
      "source": [
        "# Add a column to homelessness, indiv_per_10k, containing the number of homeless individuals per ten thousand people in each state, using state_pop for state population.\n",
        "homelessness[\"indiv_per_10k\"] = 10_000 * homelessness[\"individuals\"] / homelessness[\"state_pop\"]\n",
        "# Subset rows where indiv_per_10k is higher than 20, assigning to high_homelessness.\n",
        "high_homelessness = homelessness[homelessness[\"indiv_per_10k\"] > 20]\n",
        "# Sort high_homelessness by descending indiv_per_10k, assigning to high_homelessness_srt.\n",
        "high_homelessness_srt = high_homelessness.sort_values(by=\"indiv_per_10k\", ascending=False)\n",
        "# Select only the state and indiv_per_10k columns of high_homelessness_srt and save as result.\n",
        "result = high_homelessness_srt[[\"state\", \"indiv_per_10k\"]]\n",
        "# See the result\n",
        "display(result)"
      ]
    },
    {
      "cell_type": "markdown",
      "id": "ahb3n3QdZ12J",
      "metadata": {
        "id": "ahb3n3QdZ12J"
      },
      "source": [
        "## Aggregating DataFrames\n",
        "\n",
        "Aggregation is the process of collapsing one or more dimensions of a DataFrame into summary statistics. It lies at the core of data analysis—facilitating trend identification, hypothesis testing, and the creation of meaningful summaries from granular data. Pandas offers a rich set of aggregation functions, both simple and cumulative, along with the highly flexible `.agg()` method for multi-statistic summarisation.\n",
        "\n",
        "### 1. Basic Summary Statistics\n",
        "\n",
        "#### Mean, Median, and Mode\n",
        "\n",
        "- **Mean** (`.mean()`): Arithmetic average.\n",
        "- **Median** (`.median()`): Middle value in ordered data.\n",
        "- **Mode** (`.mode()`): Most frequent value(s).\n",
        "\n",
        "```python\n",
        "df[\"salary\"].mean()\n",
        "df[\"salary\"].median()\n",
        "df[\"salary\"].mode()  # returns a Series, as there may be multiple modes\n",
        "```\n",
        "\n",
        "- For DataFrames, calling these methods without specifying a column computes statistics **column-wise** for all numeric columns:\n",
        "\n",
        "```python\n",
        "df.mean()     # Mean of all numeric columns\n",
        "df.median()   # Median of all numeric columns\n",
        "df.mode()     # Mode(s) for all columns (returns DataFrame)\n",
        "```\n",
        "\n",
        "### 2. Summarising Dates: `min()` and `max()`\n",
        "\n",
        "The `.min()` and `.max()` methods apply to both numeric and datetime columns, yielding the smallest and largest values, respectively.\n",
        "\n",
        "```python\n",
        "df[\"date\"].min()  # Earliest date\n",
        "df[\"date\"].max()  # Latest date\n",
        "```\n",
        "\n",
        "### 3. The `.agg()` Method: Flexible Multi-Statistic Summarisation\n",
        "\n",
        "`.agg()` allows you to compute multiple statistics simultaneously, for one or many columns.\n",
        "\n",
        "#### Aggregating a single column:\n",
        "\n",
        "```python\n",
        "df[\"salary\"].agg([\"mean\", \"std\", \"min\", \"max\"])\n",
        "```\n",
        "\n",
        "#### Aggregating multiple columns with different statistics:\n",
        "\n",
        "```python\n",
        "df.agg({\n",
        "    \"salary\": [\"mean\", \"median\"],\n",
        "    \"age\": [\"min\", \"max\"]\n",
        "})\n",
        "```\n",
        "\n",
        "- The result is a DataFrame with a hierarchical index (MultiIndex), useful for inspection or reporting.\n",
        "\n",
        "#### Custom functions with `.agg()`:\n",
        "\n",
        "You may pass user-defined functions, either as named functions or lambdas:\n",
        "\n",
        "```python\n",
        "df[\"salary\"].agg(lambda s: s.quantile(0.9))\n",
        "```\n",
        "\n",
        "### 4. Aggregating Multiple Columns at Once\n",
        "\n",
        "With `.agg()` you may specify different sets of statistics for each column:\n",
        "\n",
        "```python\n",
        "df.agg({\n",
        "    \"revenue\": [\"sum\", \"mean\"],\n",
        "    \"expenses\": [\"sum\", \"mean\"]\n",
        "})\n",
        "```\n",
        "\n",
        "Alternatively, aggregate over all columns:\n",
        "\n",
        "```python\n",
        "df[[\"revenue\", \"expenses\"]].agg([\"sum\", \"mean\"])\n",
        "```\n",
        "\n",
        "### 5. Cumulative Statistics\n",
        "\n",
        "Cumulative functions return running totals or extremes, revealing trends or thresholds over a sequence (often chronological).\n",
        "\n",
        "#### a) Cumulative Sum: `.cumsum()`\n",
        "\n",
        "Returns the running total:\n",
        "\n",
        "```python\n",
        "df[\"sales\"].cumsum()\n",
        "```\n",
        "\n",
        "#### b) Cumulative Maximum: `.cummax()`\n",
        "\n",
        "Tracks the largest value encountered up to each row:\n",
        "\n",
        "```python\n",
        "df[\"score\"].cummax()\n",
        "```\n",
        "\n",
        "#### c) Cumulative Minimum: `.cummin()`\n",
        "\n",
        "Tracks the smallest value encountered up to each row:\n",
        "\n",
        "```python\n",
        "df[\"score\"].cummin()\n",
        "```\n",
        "\n",
        "#### d) Cumulative Product: `.cumprod()`\n",
        "\n",
        "Returns the running product:\n",
        "\n",
        "```python\n",
        "df[\"growth_factor\"].cumprod()\n",
        "```\n",
        "\n",
        "All these methods operate column-wise by default and can be used on multiple columns:\n",
        "\n",
        "```python\n",
        "df[[\"sales\", \"profit\"]].cumsum()\n",
        "```\n",
        "\n",
        "### Best Practices and Further Considerations\n",
        "\n",
        "- Aggregations are most powerful when combined with **grouping** (see `groupby`) for stratified summaries.\n",
        "- For descriptive overviews, use `.describe()` for numeric columns, and `.value_counts()` for categorical data.\n",
        "- Always inspect the shape and structure of the output—especially when using `.agg()`—to avoid confusion with MultiIndex results.\n",
        "- When working with large datasets, cumulative functions can reveal seasonality, trends, or threshold events more transparently than simple statistics."
      ]
    },
    {
      "cell_type": "code",
      "execution_count": 26,
      "id": "99kOVkeTYCYi",
      "metadata": {
        "id": "99kOVkeTYCYi"
      },
      "outputs": [],
      "source": [
        "sales = pd.read_csv(\"data/sales_subset.csv\")"
      ]
    },
    {
      "cell_type": "code",
      "execution_count": 27,
      "id": "7T2SILr_rLNF",
      "metadata": {
        "colab": {
          "base_uri": "https://localhost:8080/"
        },
        "id": "7T2SILr_rLNF",
        "outputId": "d5f4bcaa-2a2b-493e-b745-3d554a9e10ac"
      },
      "outputs": [
        {
          "data": {
            "application/vnd.microsoft.datawrangler.viewer.v0+json": {
              "columns": [
                {
                  "name": "index",
                  "rawType": "int64",
                  "type": "integer"
                },
                {
                  "name": "Unnamed: 0",
                  "rawType": "int64",
                  "type": "integer"
                },
                {
                  "name": "store",
                  "rawType": "int64",
                  "type": "integer"
                },
                {
                  "name": "type",
                  "rawType": "object",
                  "type": "string"
                },
                {
                  "name": "department",
                  "rawType": "int64",
                  "type": "integer"
                },
                {
                  "name": "date",
                  "rawType": "object",
                  "type": "string"
                },
                {
                  "name": "weekly_sales",
                  "rawType": "float64",
                  "type": "float"
                },
                {
                  "name": "is_holiday",
                  "rawType": "bool",
                  "type": "boolean"
                },
                {
                  "name": "temperature_c",
                  "rawType": "float64",
                  "type": "float"
                },
                {
                  "name": "fuel_price_usd_per_l",
                  "rawType": "float64",
                  "type": "float"
                },
                {
                  "name": "unemployment",
                  "rawType": "float64",
                  "type": "float"
                }
              ],
              "ref": "e89c3197-8dde-4017-bbfa-120fab22329a",
              "rows": [
                [
                  "0",
                  "0",
                  "1",
                  "A",
                  "1",
                  "2010-02-05",
                  "24924.5",
                  "False",
                  "5.727777777777779",
                  "0.6794508388787476",
                  "8.106"
                ],
                [
                  "1",
                  "1",
                  "1",
                  "A",
                  "1",
                  "2010-03-05",
                  "21827.9",
                  "False",
                  "8.055555555555555",
                  "0.693451964252221",
                  "8.106"
                ],
                [
                  "2",
                  "2",
                  "1",
                  "A",
                  "1",
                  "2010-04-02",
                  "57258.43",
                  "False",
                  "16.81666666666667",
                  "0.718284148876872",
                  "7.808"
                ],
                [
                  "3",
                  "3",
                  "1",
                  "A",
                  "1",
                  "2010-05-07",
                  "17413.94",
                  "False",
                  "22.52777777777778",
                  "0.7489281213923986",
                  "7.808"
                ],
                [
                  "4",
                  "4",
                  "1",
                  "A",
                  "1",
                  "2010-06-04",
                  "17558.09",
                  "False",
                  "27.05",
                  "0.7145857384008601",
                  "7.808"
                ]
              ],
              "shape": {
                "columns": 10,
                "rows": 5
              }
            },
            "text/html": [
              "<div>\n",
              "<style scoped>\n",
              "    .dataframe tbody tr th:only-of-type {\n",
              "        vertical-align: middle;\n",
              "    }\n",
              "\n",
              "    .dataframe tbody tr th {\n",
              "        vertical-align: top;\n",
              "    }\n",
              "\n",
              "    .dataframe thead th {\n",
              "        text-align: right;\n",
              "    }\n",
              "</style>\n",
              "<table border=\"1\" class=\"dataframe\">\n",
              "  <thead>\n",
              "    <tr style=\"text-align: right;\">\n",
              "      <th></th>\n",
              "      <th>Unnamed: 0</th>\n",
              "      <th>store</th>\n",
              "      <th>type</th>\n",
              "      <th>department</th>\n",
              "      <th>date</th>\n",
              "      <th>weekly_sales</th>\n",
              "      <th>is_holiday</th>\n",
              "      <th>temperature_c</th>\n",
              "      <th>fuel_price_usd_per_l</th>\n",
              "      <th>unemployment</th>\n",
              "    </tr>\n",
              "  </thead>\n",
              "  <tbody>\n",
              "    <tr>\n",
              "      <th>0</th>\n",
              "      <td>0</td>\n",
              "      <td>1</td>\n",
              "      <td>A</td>\n",
              "      <td>1</td>\n",
              "      <td>2010-02-05</td>\n",
              "      <td>24924.50</td>\n",
              "      <td>False</td>\n",
              "      <td>5.727778</td>\n",
              "      <td>0.679451</td>\n",
              "      <td>8.106</td>\n",
              "    </tr>\n",
              "    <tr>\n",
              "      <th>1</th>\n",
              "      <td>1</td>\n",
              "      <td>1</td>\n",
              "      <td>A</td>\n",
              "      <td>1</td>\n",
              "      <td>2010-03-05</td>\n",
              "      <td>21827.90</td>\n",
              "      <td>False</td>\n",
              "      <td>8.055556</td>\n",
              "      <td>0.693452</td>\n",
              "      <td>8.106</td>\n",
              "    </tr>\n",
              "    <tr>\n",
              "      <th>2</th>\n",
              "      <td>2</td>\n",
              "      <td>1</td>\n",
              "      <td>A</td>\n",
              "      <td>1</td>\n",
              "      <td>2010-04-02</td>\n",
              "      <td>57258.43</td>\n",
              "      <td>False</td>\n",
              "      <td>16.816667</td>\n",
              "      <td>0.718284</td>\n",
              "      <td>7.808</td>\n",
              "    </tr>\n",
              "    <tr>\n",
              "      <th>3</th>\n",
              "      <td>3</td>\n",
              "      <td>1</td>\n",
              "      <td>A</td>\n",
              "      <td>1</td>\n",
              "      <td>2010-05-07</td>\n",
              "      <td>17413.94</td>\n",
              "      <td>False</td>\n",
              "      <td>22.527778</td>\n",
              "      <td>0.748928</td>\n",
              "      <td>7.808</td>\n",
              "    </tr>\n",
              "    <tr>\n",
              "      <th>4</th>\n",
              "      <td>4</td>\n",
              "      <td>1</td>\n",
              "      <td>A</td>\n",
              "      <td>1</td>\n",
              "      <td>2010-06-04</td>\n",
              "      <td>17558.09</td>\n",
              "      <td>False</td>\n",
              "      <td>27.050000</td>\n",
              "      <td>0.714586</td>\n",
              "      <td>7.808</td>\n",
              "    </tr>\n",
              "  </tbody>\n",
              "</table>\n",
              "</div>"
            ],
            "text/plain": [
              "   Unnamed: 0  store type  department        date  weekly_sales  is_holiday  \\\n",
              "0           0      1    A           1  2010-02-05      24924.50       False   \n",
              "1           1      1    A           1  2010-03-05      21827.90       False   \n",
              "2           2      1    A           1  2010-04-02      57258.43       False   \n",
              "3           3      1    A           1  2010-05-07      17413.94       False   \n",
              "4           4      1    A           1  2010-06-04      17558.09       False   \n",
              "\n",
              "   temperature_c  fuel_price_usd_per_l  unemployment  \n",
              "0       5.727778              0.679451         8.106  \n",
              "1       8.055556              0.693452         8.106  \n",
              "2      16.816667              0.718284         7.808  \n",
              "3      22.527778              0.748928         7.808  \n",
              "4      27.050000              0.714586         7.808  "
            ]
          },
          "metadata": {},
          "output_type": "display_data"
        }
      ],
      "source": [
        "# Explore your new DataFrame first by printing the first few rows of the sales DataFrame.\n",
        "display(sales.head())"
      ]
    },
    {
      "cell_type": "code",
      "execution_count": 28,
      "id": "B0ZPSMlqr0fF",
      "metadata": {
        "colab": {
          "base_uri": "https://localhost:8080/"
        },
        "id": "B0ZPSMlqr0fF",
        "outputId": "ab331109-efd1-46aa-f380-072513ea5a51"
      },
      "outputs": [
        {
          "name": "stdout",
          "output_type": "stream",
          "text": [
            "<class 'pandas.core.frame.DataFrame'>\n",
            "RangeIndex: 10774 entries, 0 to 10773\n",
            "Data columns (total 10 columns):\n",
            " #   Column                Non-Null Count  Dtype  \n",
            "---  ------                --------------  -----  \n",
            " 0   Unnamed: 0            10774 non-null  int64  \n",
            " 1   store                 10774 non-null  int64  \n",
            " 2   type                  10774 non-null  object \n",
            " 3   department            10774 non-null  int64  \n",
            " 4   date                  10774 non-null  object \n",
            " 5   weekly_sales          10774 non-null  float64\n",
            " 6   is_holiday            10774 non-null  bool   \n",
            " 7   temperature_c         10774 non-null  float64\n",
            " 8   fuel_price_usd_per_l  10774 non-null  float64\n",
            " 9   unemployment          10774 non-null  float64\n",
            "dtypes: bool(1), float64(4), int64(3), object(2)\n",
            "memory usage: 768.2+ KB\n",
            "None\n"
          ]
        }
      ],
      "source": [
        "# Print information about the columns in sales.\n",
        "print(sales.info())"
      ]
    },
    {
      "cell_type": "code",
      "execution_count": 29,
      "id": "-eZQATjVsBnI",
      "metadata": {
        "colab": {
          "base_uri": "https://localhost:8080/"
        },
        "id": "-eZQATjVsBnI",
        "outputId": "fe1ed4e5-823d-4485-bcbb-2bddf3bb9eb8"
      },
      "outputs": [
        {
          "name": "stdout",
          "output_type": "stream",
          "text": [
            "23843.95014850566\n"
          ]
        }
      ],
      "source": [
        "# Print the mean of the weekly_sales column.\n",
        "print(sales[\"weekly_sales\"].mean())"
      ]
    },
    {
      "cell_type": "code",
      "execution_count": 30,
      "id": "w8xRTc19sP2p",
      "metadata": {
        "colab": {
          "base_uri": "https://localhost:8080/"
        },
        "id": "w8xRTc19sP2p",
        "outputId": "6e8ba839-ad0c-4c31-f222-8e31f9bb973f"
      },
      "outputs": [
        {
          "name": "stdout",
          "output_type": "stream",
          "text": [
            "12049.064999999999\n"
          ]
        }
      ],
      "source": [
        "# Print the median of the weekly_sales column.\n",
        "print(sales[\"weekly_sales\"].median())"
      ]
    },
    {
      "cell_type": "markdown",
      "id": "Y1Z0BFfLssy4",
      "metadata": {
        "id": "Y1Z0BFfLssy4"
      },
      "source": [
        "### Summarizing dates\n",
        "Summary statistics can also be calculated on date columns that have values with the data type `datetime64`. Some summary statistics — like mean — don't make a ton of sense on dates, but others are super helpful, for example, minimum and maximum, which allow you to see what time range your data covers."
      ]
    },
    {
      "cell_type": "code",
      "execution_count": 31,
      "id": "KD9K80WBsXAF",
      "metadata": {
        "colab": {
          "base_uri": "https://localhost:8080/"
        },
        "id": "KD9K80WBsXAF",
        "outputId": "ea115711-b016-4501-ee02-7d033756e13d"
      },
      "outputs": [
        {
          "name": "stdout",
          "output_type": "stream",
          "text": [
            "2012-10-26\n"
          ]
        }
      ],
      "source": [
        "# Print the maximum of the date column.\n",
        "print(sales[\"date\"].max())"
      ]
    },
    {
      "cell_type": "code",
      "execution_count": 32,
      "id": "q0j2DKa8s18z",
      "metadata": {
        "colab": {
          "base_uri": "https://localhost:8080/"
        },
        "id": "q0j2DKa8s18z",
        "outputId": "8f98f474-df72-4019-b45b-4e699d98cf95"
      },
      "outputs": [
        {
          "name": "stdout",
          "output_type": "stream",
          "text": [
            "2010-02-05\n"
          ]
        }
      ],
      "source": [
        "# Print the minimum of the date column.\n",
        "print(sales[\"date\"].min())"
      ]
    },
    {
      "cell_type": "markdown",
      "id": "TKfNHmq5tN4V",
      "metadata": {
        "id": "TKfNHmq5tN4V"
      },
      "source": [
        "### Efficient summaries\n",
        "While pandas and NumPy have tons of functions, sometimes, you may need a different function to summarize your data.\n",
        "\n",
        "The `.agg()` method allows you to apply your own custom functions to a DataFrame, as well as apply functions to more than one column of a DataFrame at once, making your aggregations super-efficient. For example,\n",
        "\n",
        "```\n",
        "df['column'].agg(function)\n",
        "```\n",
        "In the custom function for this exercise, \"IQR\" is short for inter-quartile range, which is the 75th percentile minus the 25th percentile. It's an alternative to standard deviation that is helpful if your data contains outliers."
      ]
    },
    {
      "cell_type": "code",
      "execution_count": 33,
      "id": "JcpZUYAitIdI",
      "metadata": {
        "colab": {
          "base_uri": "https://localhost:8080/"
        },
        "id": "JcpZUYAitIdI",
        "outputId": "761d93eb-f47c-4f2a-f668-dc7281368fd9"
      },
      "outputs": [
        {
          "name": "stdout",
          "output_type": "stream",
          "text": [
            "16.583333333333336\n"
          ]
        }
      ],
      "source": [
        "# A custom IQR function\n",
        "def iqr(column):\n",
        "    return column.quantile(0.75) - column.quantile(0.25)\n",
        "\n",
        "# Print IQR of the temperature_c column\n",
        "print(sales[\"temperature_c\"].agg(iqr))"
      ]
    },
    {
      "cell_type": "code",
      "execution_count": 34,
      "id": "4IFIK8aQtwWv",
      "metadata": {
        "colab": {
          "base_uri": "https://localhost:8080/"
        },
        "id": "4IFIK8aQtwWv",
        "outputId": "0846f4ae-9a20-43b4-9946-f8eeb6a82bab"
      },
      "outputs": [
        {
          "name": "stdout",
          "output_type": "stream",
          "text": [
            "temperature_c           16.583333\n",
            "fuel_price_usd_per_l     0.073176\n",
            "unemployment             0.565000\n",
            "dtype: float64\n"
          ]
        }
      ],
      "source": [
        "# Update the column selection to use the custom iqr function with .agg() to print the IQR of temperature_c, fuel_price_usd_per_l, and unemployment, in that order.\n",
        "print(sales[[\"temperature_c\", \"fuel_price_usd_per_l\", \"unemployment\"]].agg(iqr))"
      ]
    },
    {
      "cell_type": "code",
      "execution_count": 35,
      "id": "OUPrOLv3uRfM",
      "metadata": {
        "colab": {
          "base_uri": "https://localhost:8080/"
        },
        "id": "OUPrOLv3uRfM",
        "outputId": "ae979be2-8435-4675-b43d-bf99c8570591"
      },
      "outputs": [],
      "source": [
        "# Subset the rows where store is 1 and department is 1, assigning to sales_1_1.\n",
        "sales_1_1 = sales[(sales[\"store\"] == 1) & (sales[\"department\"] == 1)]"
      ]
    },
    {
      "cell_type": "markdown",
      "id": "NaK_PKDovIOm",
      "metadata": {
        "id": "NaK_PKDovIOm"
      },
      "source": [
        "### Cumulative statistics\n",
        "Cumulative statistics can also be helpful in tracking summary statistics over time. In this exercise, you'll calculate the cumulative sum and cumulative max of a department's weekly sales, which will allow you to identify what the total sales were so far as well as what the highest weekly sales were so far."
      ]
    },
    {
      "cell_type": "code",
      "execution_count": 36,
      "id": "ZzHaqdipukvh",
      "metadata": {
        "id": "ZzHaqdipukvh"
      },
      "outputs": [
        {
          "name": "stdout",
          "output_type": "stream",
          "text": [
            "Sorted sales_1_1 shape: (12, 10)\n"
          ]
        }
      ],
      "source": [
        "# Sort the rows of sales_1_1 by the date column in ascending order.\n",
        "sales_1_1 = sales_1_1.sort_values(\"date\").copy()\n",
        "print(f\"Sorted sales_1_1 shape: {sales_1_1.shape}\")"
      ]
    },
    {
      "cell_type": "code",
      "execution_count": 37,
      "id": "Fe1OjfGEvhg4",
      "metadata": {
        "id": "Fe1OjfGEvhg4"
      },
      "outputs": [],
      "source": [
        "# Get the cumulative sum of weekly_sales and add it as a new column of sales_1_1 called cum_weekly_sales.\n",
        "sales_1_1[\"cum_weekly_sales\"] = sales_1_1[\"weekly_sales\"].cumsum()"
      ]
    },
    {
      "cell_type": "code",
      "execution_count": 38,
      "id": "By7tLjW3vtod",
      "metadata": {
        "id": "By7tLjW3vtod"
      },
      "outputs": [],
      "source": [
        "# Get the cumulative maximum of weekly_sales, and add it as a column called cum_max_sales.\n",
        "sales_1_1[\"cum_max_sales\"] = sales[\"weekly_sales\"].cummax()"
      ]
    },
    {
      "cell_type": "code",
      "execution_count": 39,
      "id": "i1IZO4CZwMxg",
      "metadata": {
        "colab": {
          "base_uri": "https://localhost:8080/",
          "height": 424
        },
        "id": "i1IZO4CZwMxg",
        "outputId": "05ed472b-03ad-42c3-c50c-440bcb9b97ed"
      },
      "outputs": [
        {
          "data": {
            "application/vnd.microsoft.datawrangler.viewer.v0+json": {
              "columns": [
                {
                  "name": "index",
                  "rawType": "int64",
                  "type": "integer"
                },
                {
                  "name": "date",
                  "rawType": "object",
                  "type": "string"
                },
                {
                  "name": "weekly_sales",
                  "rawType": "float64",
                  "type": "float"
                },
                {
                  "name": "cum_weekly_sales",
                  "rawType": "float64",
                  "type": "float"
                },
                {
                  "name": "cum_max_sales",
                  "rawType": "float64",
                  "type": "float"
                }
              ],
              "ref": "17a5dbe6-a8dc-455e-ad68-c937564550e7",
              "rows": [
                [
                  "0",
                  "2010-02-05",
                  "24924.5",
                  "24924.5",
                  "24924.5"
                ],
                [
                  "1",
                  "2010-03-05",
                  "21827.9",
                  "46752.4",
                  "24924.5"
                ],
                [
                  "2",
                  "2010-04-02",
                  "57258.43",
                  "104010.83",
                  "57258.43"
                ],
                [
                  "3",
                  "2010-05-07",
                  "17413.94",
                  "121424.77",
                  "57258.43"
                ],
                [
                  "4",
                  "2010-06-04",
                  "17558.09",
                  "138982.86000000002",
                  "57258.43"
                ],
                [
                  "5",
                  "2010-07-02",
                  "16333.14",
                  "155316.0",
                  "57258.43"
                ],
                [
                  "6",
                  "2010-08-06",
                  "17508.41",
                  "172824.41",
                  "57258.43"
                ],
                [
                  "7",
                  "2010-09-03",
                  "16241.78",
                  "189066.19",
                  "57258.43"
                ],
                [
                  "8",
                  "2010-10-01",
                  "20094.19",
                  "209160.38",
                  "57258.43"
                ],
                [
                  "9",
                  "2010-11-05",
                  "34238.88",
                  "243399.26",
                  "57258.43"
                ],
                [
                  "10",
                  "2010-12-03",
                  "22517.56",
                  "265916.82",
                  "57258.43"
                ],
                [
                  "11",
                  "2011-01-07",
                  "15984.24",
                  "281901.06",
                  "57258.43"
                ]
              ],
              "shape": {
                "columns": 4,
                "rows": 12
              }
            },
            "text/html": [
              "<div>\n",
              "<style scoped>\n",
              "    .dataframe tbody tr th:only-of-type {\n",
              "        vertical-align: middle;\n",
              "    }\n",
              "\n",
              "    .dataframe tbody tr th {\n",
              "        vertical-align: top;\n",
              "    }\n",
              "\n",
              "    .dataframe thead th {\n",
              "        text-align: right;\n",
              "    }\n",
              "</style>\n",
              "<table border=\"1\" class=\"dataframe\">\n",
              "  <thead>\n",
              "    <tr style=\"text-align: right;\">\n",
              "      <th></th>\n",
              "      <th>date</th>\n",
              "      <th>weekly_sales</th>\n",
              "      <th>cum_weekly_sales</th>\n",
              "      <th>cum_max_sales</th>\n",
              "    </tr>\n",
              "  </thead>\n",
              "  <tbody>\n",
              "    <tr>\n",
              "      <th>0</th>\n",
              "      <td>2010-02-05</td>\n",
              "      <td>24924.50</td>\n",
              "      <td>24924.50</td>\n",
              "      <td>24924.50</td>\n",
              "    </tr>\n",
              "    <tr>\n",
              "      <th>1</th>\n",
              "      <td>2010-03-05</td>\n",
              "      <td>21827.90</td>\n",
              "      <td>46752.40</td>\n",
              "      <td>24924.50</td>\n",
              "    </tr>\n",
              "    <tr>\n",
              "      <th>2</th>\n",
              "      <td>2010-04-02</td>\n",
              "      <td>57258.43</td>\n",
              "      <td>104010.83</td>\n",
              "      <td>57258.43</td>\n",
              "    </tr>\n",
              "    <tr>\n",
              "      <th>3</th>\n",
              "      <td>2010-05-07</td>\n",
              "      <td>17413.94</td>\n",
              "      <td>121424.77</td>\n",
              "      <td>57258.43</td>\n",
              "    </tr>\n",
              "    <tr>\n",
              "      <th>4</th>\n",
              "      <td>2010-06-04</td>\n",
              "      <td>17558.09</td>\n",
              "      <td>138982.86</td>\n",
              "      <td>57258.43</td>\n",
              "    </tr>\n",
              "    <tr>\n",
              "      <th>5</th>\n",
              "      <td>2010-07-02</td>\n",
              "      <td>16333.14</td>\n",
              "      <td>155316.00</td>\n",
              "      <td>57258.43</td>\n",
              "    </tr>\n",
              "    <tr>\n",
              "      <th>6</th>\n",
              "      <td>2010-08-06</td>\n",
              "      <td>17508.41</td>\n",
              "      <td>172824.41</td>\n",
              "      <td>57258.43</td>\n",
              "    </tr>\n",
              "    <tr>\n",
              "      <th>7</th>\n",
              "      <td>2010-09-03</td>\n",
              "      <td>16241.78</td>\n",
              "      <td>189066.19</td>\n",
              "      <td>57258.43</td>\n",
              "    </tr>\n",
              "    <tr>\n",
              "      <th>8</th>\n",
              "      <td>2010-10-01</td>\n",
              "      <td>20094.19</td>\n",
              "      <td>209160.38</td>\n",
              "      <td>57258.43</td>\n",
              "    </tr>\n",
              "    <tr>\n",
              "      <th>9</th>\n",
              "      <td>2010-11-05</td>\n",
              "      <td>34238.88</td>\n",
              "      <td>243399.26</td>\n",
              "      <td>57258.43</td>\n",
              "    </tr>\n",
              "    <tr>\n",
              "      <th>10</th>\n",
              "      <td>2010-12-03</td>\n",
              "      <td>22517.56</td>\n",
              "      <td>265916.82</td>\n",
              "      <td>57258.43</td>\n",
              "    </tr>\n",
              "    <tr>\n",
              "      <th>11</th>\n",
              "      <td>2011-01-07</td>\n",
              "      <td>15984.24</td>\n",
              "      <td>281901.06</td>\n",
              "      <td>57258.43</td>\n",
              "    </tr>\n",
              "  </tbody>\n",
              "</table>\n",
              "</div>"
            ],
            "text/plain": [
              "          date  weekly_sales  cum_weekly_sales  cum_max_sales\n",
              "0   2010-02-05      24924.50          24924.50       24924.50\n",
              "1   2010-03-05      21827.90          46752.40       24924.50\n",
              "2   2010-04-02      57258.43         104010.83       57258.43\n",
              "3   2010-05-07      17413.94         121424.77       57258.43\n",
              "4   2010-06-04      17558.09         138982.86       57258.43\n",
              "5   2010-07-02      16333.14         155316.00       57258.43\n",
              "6   2010-08-06      17508.41         172824.41       57258.43\n",
              "7   2010-09-03      16241.78         189066.19       57258.43\n",
              "8   2010-10-01      20094.19         209160.38       57258.43\n",
              "9   2010-11-05      34238.88         243399.26       57258.43\n",
              "10  2010-12-03      22517.56         265916.82       57258.43\n",
              "11  2011-01-07      15984.24         281901.06       57258.43"
            ]
          },
          "metadata": {},
          "output_type": "display_data"
        }
      ],
      "source": [
        "# See the columns you calculated\n",
        "display(sales_1_1[[\"date\", \"weekly_sales\", \"cum_weekly_sales\", \"cum_max_sales\"]])"
      ]
    },
    {
      "cell_type": "markdown",
      "id": "e3c1b3a8",
      "metadata": {},
      "source": [
        "## Counting\n",
        "\n",
        "Counting is an elemental operation in data exploration, supporting tasks such as deduplication, frequency analysis, and the estimation of proportions or rates. Accurate counting is fundamental to understanding dataset structure, identifying irregularities, and producing summary statistics for categorical and discrete variables. Pandas provides robust, highly-optimised methods for these operations.\n",
        "\n",
        "### 1. Removing Duplicates: `drop_duplicates(subset=...)`\n",
        "\n",
        "Duplicate entries can bias frequency analyses and inflate summary statistics. Use `.drop_duplicates()` to remove repeated rows.\n",
        "\n",
        "- **Basic usage:**\n",
        "\n",
        "```python\n",
        "df_unique = df.drop_duplicates()\n",
        "```\n",
        "\n",
        "Removes fully duplicated rows.\n",
        "\n",
        "- **Deduplicate by specific columns:**\n",
        "\n",
        "```python\n",
        "df_unique = df.drop_duplicates(subset=[\"name\", \"birthdate\"])\n",
        "```\n",
        "\n",
        "This retains only the first occurrence of each unique combination of `name` and `birthdate`, removing any subsequent duplicates on these fields.\n",
        "\n",
        "**Note:** By default, `.drop_duplicates()` preserves the first occurrence; set `keep='last'` to retain the last.\n",
        "\n",
        "### 2. Counting Unique Values: `value_counts()`\n",
        "\n",
        "The `.value_counts()` method is central for frequency analysis of a Series (i.e., a single column).\n",
        "\n",
        "#### Basic frequency count:\n",
        "\n",
        "```python\n",
        "df[\"city\"].value_counts()\n",
        "```\n",
        "\n",
        "Returns a Series with unique values in `\"city\"` as the index, and their frequencies as values, sorted in descending order by default.\n",
        "\n",
        "#### Sorting Frequencies: `sort=True/False`\n",
        "\n",
        "By default, `.value_counts()` sorts results in descending order of frequency (`sort=True`).\n",
        "\n",
        "- **Sort in ascending order of frequency:**\n",
        "\n",
        "```python\n",
        "df[\"city\"].value_counts(ascending=True)\n",
        "```\n",
        "\n",
        "- **Disable sorting (preserve appearance order):**\n",
        "\n",
        "```python\n",
        "df[\"city\"].value_counts(sort=False)\n",
        "```\n",
        "\n",
        "#### Proportional Frequencies: `normalize=True`\n",
        "\n",
        "For proportions (relative frequencies), set `normalize=True`:\n",
        "\n",
        "```python\n",
        "df[\"city\"].value_counts(normalize=True)\n",
        "```\n",
        "\n",
        "Each value in the output will be the proportion of total observations (ranging from 0 to 1). This is essential for estimating prevalence, market shares, or demographic rates.\n",
        "\n",
        "- **Combine options:**\n",
        "\n",
        "```python\n",
        "df[\"city\"].value_counts(normalize=True, ascending=True)\n",
        "```\n",
        "### Best Practices and Considerations\n",
        "\n",
        "- Use `drop_duplicates()` before frequency counts if repeated rows represent accidental duplication.\n",
        "- `.value_counts()` works only on Series; for DataFrames, use `df[\"column\"].value_counts()`.\n",
        "- For more than one column, use `.groupby()` in conjunction with `.size()` for multi-dimensional frequency tables.\n",
        "- Frequencies (absolute and proportional) are crucial in EDA, quality assurance, and reporting for both categorical and discrete numerical variables.\n"
      ]
    },
    {
      "cell_type": "code",
      "execution_count": 40,
      "id": "ace197fa",
      "metadata": {},
      "outputs": [
        {
          "data": {
            "application/vnd.microsoft.datawrangler.viewer.v0+json": {
              "columns": [
                {
                  "name": "index",
                  "rawType": "int64",
                  "type": "integer"
                },
                {
                  "name": "Unnamed: 0",
                  "rawType": "int64",
                  "type": "integer"
                },
                {
                  "name": "store",
                  "rawType": "int64",
                  "type": "integer"
                },
                {
                  "name": "type",
                  "rawType": "object",
                  "type": "string"
                },
                {
                  "name": "department",
                  "rawType": "int64",
                  "type": "integer"
                },
                {
                  "name": "date",
                  "rawType": "object",
                  "type": "string"
                },
                {
                  "name": "weekly_sales",
                  "rawType": "float64",
                  "type": "float"
                },
                {
                  "name": "is_holiday",
                  "rawType": "bool",
                  "type": "boolean"
                },
                {
                  "name": "temperature_c",
                  "rawType": "float64",
                  "type": "float"
                },
                {
                  "name": "fuel_price_usd_per_l",
                  "rawType": "float64",
                  "type": "float"
                },
                {
                  "name": "unemployment",
                  "rawType": "float64",
                  "type": "float"
                }
              ],
              "ref": "092df7c8-c9e4-4835-851f-a1d48b73ee0c",
              "rows": [
                [
                  "0",
                  "0",
                  "1",
                  "A",
                  "1",
                  "2010-02-05",
                  "24924.5",
                  "False",
                  "5.727777777777779",
                  "0.6794508388787476",
                  "8.106"
                ],
                [
                  "901",
                  "901",
                  "2",
                  "A",
                  "1",
                  "2010-02-05",
                  "35034.06",
                  "False",
                  "4.549999999999999",
                  "0.6794508388787476",
                  "8.324"
                ],
                [
                  "1798",
                  "1798",
                  "4",
                  "A",
                  "1",
                  "2010-02-05",
                  "38724.42",
                  "False",
                  "6.533333333333332",
                  "0.6863193154770554",
                  "8.623"
                ],
                [
                  "2699",
                  "2699",
                  "6",
                  "A",
                  "1",
                  "2010-02-05",
                  "25619.0",
                  "False",
                  "4.683333333333334",
                  "0.6794508388787476",
                  "7.258999999999999"
                ],
                [
                  "3593",
                  "3593",
                  "10",
                  "B",
                  "1",
                  "2010-02-05",
                  "40212.84",
                  "False",
                  "12.411111111111111",
                  "0.7824779878533632",
                  "9.765"
                ]
              ],
              "shape": {
                "columns": 10,
                "rows": 5
              }
            },
            "text/html": [
              "<div>\n",
              "<style scoped>\n",
              "    .dataframe tbody tr th:only-of-type {\n",
              "        vertical-align: middle;\n",
              "    }\n",
              "\n",
              "    .dataframe tbody tr th {\n",
              "        vertical-align: top;\n",
              "    }\n",
              "\n",
              "    .dataframe thead th {\n",
              "        text-align: right;\n",
              "    }\n",
              "</style>\n",
              "<table border=\"1\" class=\"dataframe\">\n",
              "  <thead>\n",
              "    <tr style=\"text-align: right;\">\n",
              "      <th></th>\n",
              "      <th>Unnamed: 0</th>\n",
              "      <th>store</th>\n",
              "      <th>type</th>\n",
              "      <th>department</th>\n",
              "      <th>date</th>\n",
              "      <th>weekly_sales</th>\n",
              "      <th>is_holiday</th>\n",
              "      <th>temperature_c</th>\n",
              "      <th>fuel_price_usd_per_l</th>\n",
              "      <th>unemployment</th>\n",
              "    </tr>\n",
              "  </thead>\n",
              "  <tbody>\n",
              "    <tr>\n",
              "      <th>0</th>\n",
              "      <td>0</td>\n",
              "      <td>1</td>\n",
              "      <td>A</td>\n",
              "      <td>1</td>\n",
              "      <td>2010-02-05</td>\n",
              "      <td>24924.50</td>\n",
              "      <td>False</td>\n",
              "      <td>5.727778</td>\n",
              "      <td>0.679451</td>\n",
              "      <td>8.106</td>\n",
              "    </tr>\n",
              "    <tr>\n",
              "      <th>901</th>\n",
              "      <td>901</td>\n",
              "      <td>2</td>\n",
              "      <td>A</td>\n",
              "      <td>1</td>\n",
              "      <td>2010-02-05</td>\n",
              "      <td>35034.06</td>\n",
              "      <td>False</td>\n",
              "      <td>4.550000</td>\n",
              "      <td>0.679451</td>\n",
              "      <td>8.324</td>\n",
              "    </tr>\n",
              "    <tr>\n",
              "      <th>1798</th>\n",
              "      <td>1798</td>\n",
              "      <td>4</td>\n",
              "      <td>A</td>\n",
              "      <td>1</td>\n",
              "      <td>2010-02-05</td>\n",
              "      <td>38724.42</td>\n",
              "      <td>False</td>\n",
              "      <td>6.533333</td>\n",
              "      <td>0.686319</td>\n",
              "      <td>8.623</td>\n",
              "    </tr>\n",
              "    <tr>\n",
              "      <th>2699</th>\n",
              "      <td>2699</td>\n",
              "      <td>6</td>\n",
              "      <td>A</td>\n",
              "      <td>1</td>\n",
              "      <td>2010-02-05</td>\n",
              "      <td>25619.00</td>\n",
              "      <td>False</td>\n",
              "      <td>4.683333</td>\n",
              "      <td>0.679451</td>\n",
              "      <td>7.259</td>\n",
              "    </tr>\n",
              "    <tr>\n",
              "      <th>3593</th>\n",
              "      <td>3593</td>\n",
              "      <td>10</td>\n",
              "      <td>B</td>\n",
              "      <td>1</td>\n",
              "      <td>2010-02-05</td>\n",
              "      <td>40212.84</td>\n",
              "      <td>False</td>\n",
              "      <td>12.411111</td>\n",
              "      <td>0.782478</td>\n",
              "      <td>9.765</td>\n",
              "    </tr>\n",
              "  </tbody>\n",
              "</table>\n",
              "</div>"
            ],
            "text/plain": [
              "      Unnamed: 0  store type  department        date  weekly_sales  \\\n",
              "0              0      1    A           1  2010-02-05      24924.50   \n",
              "901          901      2    A           1  2010-02-05      35034.06   \n",
              "1798        1798      4    A           1  2010-02-05      38724.42   \n",
              "2699        2699      6    A           1  2010-02-05      25619.00   \n",
              "3593        3593     10    B           1  2010-02-05      40212.84   \n",
              "\n",
              "      is_holiday  temperature_c  fuel_price_usd_per_l  unemployment  \n",
              "0          False       5.727778              0.679451         8.106  \n",
              "901        False       4.550000              0.679451         8.324  \n",
              "1798       False       6.533333              0.686319         8.623  \n",
              "2699       False       4.683333              0.679451         7.259  \n",
              "3593       False      12.411111              0.782478         9.765  "
            ]
          },
          "metadata": {},
          "output_type": "display_data"
        }
      ],
      "source": [
        "# Remove rows of sales with duplicate pairs of store and type and save as store_types and print the head.\n",
        "store_types = sales.drop_duplicates(subset=[\"store\", \"type\"])\n",
        "display(store_types.head())"
      ]
    },
    {
      "cell_type": "code",
      "execution_count": 41,
      "id": "9304bb95",
      "metadata": {},
      "outputs": [
        {
          "data": {
            "application/vnd.microsoft.datawrangler.viewer.v0+json": {
              "columns": [
                {
                  "name": "index",
                  "rawType": "int64",
                  "type": "integer"
                },
                {
                  "name": "Unnamed: 0",
                  "rawType": "int64",
                  "type": "integer"
                },
                {
                  "name": "store",
                  "rawType": "int64",
                  "type": "integer"
                },
                {
                  "name": "type",
                  "rawType": "object",
                  "type": "string"
                },
                {
                  "name": "department",
                  "rawType": "int64",
                  "type": "integer"
                },
                {
                  "name": "date",
                  "rawType": "object",
                  "type": "string"
                },
                {
                  "name": "weekly_sales",
                  "rawType": "float64",
                  "type": "float"
                },
                {
                  "name": "is_holiday",
                  "rawType": "bool",
                  "type": "boolean"
                },
                {
                  "name": "temperature_c",
                  "rawType": "float64",
                  "type": "float"
                },
                {
                  "name": "fuel_price_usd_per_l",
                  "rawType": "float64",
                  "type": "float"
                },
                {
                  "name": "unemployment",
                  "rawType": "float64",
                  "type": "float"
                }
              ],
              "ref": "8659011d-68df-4b93-9edd-897cbea14eb8",
              "rows": [
                [
                  "0",
                  "0",
                  "1",
                  "A",
                  "1",
                  "2010-02-05",
                  "24924.5",
                  "False",
                  "5.727777777777779",
                  "0.6794508388787476",
                  "8.106"
                ],
                [
                  "12",
                  "12",
                  "1",
                  "A",
                  "2",
                  "2010-02-05",
                  "50605.27",
                  "False",
                  "5.727777777777779",
                  "0.6794508388787476",
                  "8.106"
                ],
                [
                  "24",
                  "24",
                  "1",
                  "A",
                  "3",
                  "2010-02-05",
                  "13740.12",
                  "False",
                  "5.727777777777779",
                  "0.6794508388787476",
                  "8.106"
                ],
                [
                  "36",
                  "36",
                  "1",
                  "A",
                  "4",
                  "2010-02-05",
                  "39954.04",
                  "False",
                  "5.727777777777779",
                  "0.6794508388787476",
                  "8.106"
                ],
                [
                  "48",
                  "48",
                  "1",
                  "A",
                  "5",
                  "2010-02-05",
                  "32229.38",
                  "False",
                  "5.727777777777779",
                  "0.6794508388787476",
                  "8.106"
                ]
              ],
              "shape": {
                "columns": 10,
                "rows": 5
              }
            },
            "text/html": [
              "<div>\n",
              "<style scoped>\n",
              "    .dataframe tbody tr th:only-of-type {\n",
              "        vertical-align: middle;\n",
              "    }\n",
              "\n",
              "    .dataframe tbody tr th {\n",
              "        vertical-align: top;\n",
              "    }\n",
              "\n",
              "    .dataframe thead th {\n",
              "        text-align: right;\n",
              "    }\n",
              "</style>\n",
              "<table border=\"1\" class=\"dataframe\">\n",
              "  <thead>\n",
              "    <tr style=\"text-align: right;\">\n",
              "      <th></th>\n",
              "      <th>Unnamed: 0</th>\n",
              "      <th>store</th>\n",
              "      <th>type</th>\n",
              "      <th>department</th>\n",
              "      <th>date</th>\n",
              "      <th>weekly_sales</th>\n",
              "      <th>is_holiday</th>\n",
              "      <th>temperature_c</th>\n",
              "      <th>fuel_price_usd_per_l</th>\n",
              "      <th>unemployment</th>\n",
              "    </tr>\n",
              "  </thead>\n",
              "  <tbody>\n",
              "    <tr>\n",
              "      <th>0</th>\n",
              "      <td>0</td>\n",
              "      <td>1</td>\n",
              "      <td>A</td>\n",
              "      <td>1</td>\n",
              "      <td>2010-02-05</td>\n",
              "      <td>24924.50</td>\n",
              "      <td>False</td>\n",
              "      <td>5.727778</td>\n",
              "      <td>0.679451</td>\n",
              "      <td>8.106</td>\n",
              "    </tr>\n",
              "    <tr>\n",
              "      <th>12</th>\n",
              "      <td>12</td>\n",
              "      <td>1</td>\n",
              "      <td>A</td>\n",
              "      <td>2</td>\n",
              "      <td>2010-02-05</td>\n",
              "      <td>50605.27</td>\n",
              "      <td>False</td>\n",
              "      <td>5.727778</td>\n",
              "      <td>0.679451</td>\n",
              "      <td>8.106</td>\n",
              "    </tr>\n",
              "    <tr>\n",
              "      <th>24</th>\n",
              "      <td>24</td>\n",
              "      <td>1</td>\n",
              "      <td>A</td>\n",
              "      <td>3</td>\n",
              "      <td>2010-02-05</td>\n",
              "      <td>13740.12</td>\n",
              "      <td>False</td>\n",
              "      <td>5.727778</td>\n",
              "      <td>0.679451</td>\n",
              "      <td>8.106</td>\n",
              "    </tr>\n",
              "    <tr>\n",
              "      <th>36</th>\n",
              "      <td>36</td>\n",
              "      <td>1</td>\n",
              "      <td>A</td>\n",
              "      <td>4</td>\n",
              "      <td>2010-02-05</td>\n",
              "      <td>39954.04</td>\n",
              "      <td>False</td>\n",
              "      <td>5.727778</td>\n",
              "      <td>0.679451</td>\n",
              "      <td>8.106</td>\n",
              "    </tr>\n",
              "    <tr>\n",
              "      <th>48</th>\n",
              "      <td>48</td>\n",
              "      <td>1</td>\n",
              "      <td>A</td>\n",
              "      <td>5</td>\n",
              "      <td>2010-02-05</td>\n",
              "      <td>32229.38</td>\n",
              "      <td>False</td>\n",
              "      <td>5.727778</td>\n",
              "      <td>0.679451</td>\n",
              "      <td>8.106</td>\n",
              "    </tr>\n",
              "  </tbody>\n",
              "</table>\n",
              "</div>"
            ],
            "text/plain": [
              "    Unnamed: 0  store type  department        date  weekly_sales  is_holiday  \\\n",
              "0            0      1    A           1  2010-02-05      24924.50       False   \n",
              "12          12      1    A           2  2010-02-05      50605.27       False   \n",
              "24          24      1    A           3  2010-02-05      13740.12       False   \n",
              "36          36      1    A           4  2010-02-05      39954.04       False   \n",
              "48          48      1    A           5  2010-02-05      32229.38       False   \n",
              "\n",
              "    temperature_c  fuel_price_usd_per_l  unemployment  \n",
              "0        5.727778              0.679451         8.106  \n",
              "12       5.727778              0.679451         8.106  \n",
              "24       5.727778              0.679451         8.106  \n",
              "36       5.727778              0.679451         8.106  \n",
              "48       5.727778              0.679451         8.106  "
            ]
          },
          "metadata": {},
          "output_type": "display_data"
        }
      ],
      "source": [
        "# Remove rows of sales with duplicate pairs of store and department and save as store_depts and print the head.\n",
        "store_depts = sales.drop_duplicates(subset=[\"store\", \"department\"])\n",
        "display(store_depts.head())"
      ]
    },
    {
      "cell_type": "code",
      "execution_count": 42,
      "id": "22593419",
      "metadata": {},
      "outputs": [
        {
          "name": "stdout",
          "output_type": "stream",
          "text": [
            "498     2010-09-10\n",
            "691     2011-11-25\n",
            "2315    2010-02-12\n",
            "6735    2012-09-07\n",
            "6810    2010-12-31\n",
            "6815    2012-02-10\n",
            "6820    2011-09-09\n",
            "Name: date, dtype: object\n"
          ]
        }
      ],
      "source": [
        "# Subset the rows that are holiday weeks using the is_holiday column, and drop the duplicate dates, saving as holiday_dates.\n",
        "holiday_dates = sales[sales[\"is_holiday\"] == True].drop_duplicates(subset=[\"date\"])\n",
        "# Print date col of holiday_dates\n",
        "print(holiday_dates[\"date\"])"
      ]
    },
    {
      "cell_type": "code",
      "execution_count": 43,
      "id": "4a5338da",
      "metadata": {},
      "outputs": [
        {
          "name": "stdout",
          "output_type": "stream",
          "text": [
            "Unnamed: 0  store  type  department  date        weekly_sales  is_holiday  temperature_c  fuel_price_usd_per_l  unemployment\n",
            "0           1      A     1           2010-02-05  24924.50      False        5.727778      0.679451              8.106           1\n",
            "901         2      A     1           2010-02-05  35034.06      False        4.550000      0.679451              8.324           1\n",
            "1798        4      A     1           2010-02-05  38724.42      False        6.533333      0.686319              8.623           1\n",
            "2699        6      A     1           2010-02-05  25619.00      False        4.683333      0.679451              7.259           1\n",
            "3593        10     B     1           2010-02-05  40212.84      False        12.411111     0.782478              9.765           1\n",
            "4495        13     A     1           2010-02-05  46761.90      False       -0.261111      0.704283              8.316           1\n",
            "5408        14     A     1           2010-02-05  32842.31      False       -2.605556      0.735455              8.992           1\n",
            "6293        19     A     1           2010-02-05  21500.58      False       -6.133333      0.780365              8.350           1\n",
            "7199        20     A     1           2010-02-05  46021.21      False       -3.377778      0.735455              8.187           1\n",
            "8109        27     A     1           2010-02-05  32313.79      False       -2.672222      0.780365              8.237           1\n",
            "9009        31     A     1           2010-02-05  18187.71      False        3.916667      0.679451              8.324           1\n",
            "9899        39     A     1           2010-02-05  21244.50      False        6.833333      0.679451              8.554           1\n",
            "Name: count, dtype: int64\n"
          ]
        }
      ],
      "source": [
        "# Count the number of stores of each store type in store_types.\n",
        "store_counts = store_types.value_counts()\n",
        "print(store_counts)"
      ]
    },
    {
      "cell_type": "code",
      "execution_count": 44,
      "id": "040f9d8f",
      "metadata": {},
      "outputs": [
        {
          "data": {
            "application/vnd.microsoft.datawrangler.viewer.v0+json": {
              "columns": [
                {
                  "name": "('Unnamed: 0', 'store', 'type', 'department', 'date', 'weekly_sales', 'is_holiday', 'temperature_c', 'fuel_price_usd_per_l', 'unemployment')",
                  "rawType": "object",
                  "type": "unknown"
                },
                {
                  "name": "proportion",
                  "rawType": "float64",
                  "type": "float"
                }
              ],
              "ref": "f387f13e-4529-4b3a-b914-f480b1b4ecc5",
              "rows": [
                [
                  "(np.int64(0), np.int64(1), 'A', np.int64(1), '2010-02-05', np.float64(24924.5), np.False_, np.float64(5.727777777777779), np.float64(0.6794508388787476), np.float64(8.106))",
                  "0.08333333333333333"
                ],
                [
                  "(np.int64(901), np.int64(2), 'A', np.int64(1), '2010-02-05', np.float64(35034.06), np.False_, np.float64(4.549999999999999), np.float64(0.6794508388787476), np.float64(8.324))",
                  "0.08333333333333333"
                ],
                [
                  "(np.int64(1798), np.int64(4), 'A', np.int64(1), '2010-02-05', np.float64(38724.42), np.False_, np.float64(6.533333333333332), np.float64(0.6863193154770554), np.float64(8.623))",
                  "0.08333333333333333"
                ],
                [
                  "(np.int64(2699), np.int64(6), 'A', np.int64(1), '2010-02-05', np.float64(25619.0), np.False_, np.float64(4.683333333333334), np.float64(0.6794508388787476), np.float64(7.258999999999999))",
                  "0.08333333333333333"
                ],
                [
                  "(np.int64(3593), np.int64(10), 'B', np.int64(1), '2010-02-05', np.float64(40212.84), np.False_, np.float64(12.411111111111111), np.float64(0.7824779878533632), np.float64(9.765))",
                  "0.08333333333333333"
                ],
                [
                  "(np.int64(4495), np.int64(13), 'A', np.int64(1), '2010-02-05', np.float64(46761.9), np.False_, np.float64(-0.2611111111111104), np.float64(0.7042830235033987), np.float64(8.316))",
                  "0.08333333333333333"
                ],
                [
                  "(np.int64(5408), np.int64(14), 'A', np.int64(1), '2010-02-05', np.float64(32842.31), np.False_, np.float64(-2.605555555555556), np.float64(0.7354553403726412), np.float64(8.992))",
                  "0.08333333333333333"
                ],
                [
                  "(np.int64(6293), np.int64(19), 'A', np.int64(1), '2010-02-05', np.float64(21500.58), np.False_, np.float64(-6.133333333333333), np.float64(0.7803646104384993), np.float64(8.35))",
                  "0.08333333333333333"
                ],
                [
                  "(np.int64(7199), np.int64(20), 'A', np.int64(1), '2010-02-05', np.float64(46021.21), np.False_, np.float64(-3.377777777777777), np.float64(0.7354553403726412), np.float64(8.187000000000001))",
                  "0.08333333333333333"
                ],
                [
                  "(np.int64(8109), np.int64(27), 'A', np.int64(1), '2010-02-05', np.float64(32313.79), np.False_, np.float64(-2.6722222222222216), np.float64(0.7803646104384993), np.float64(8.237))",
                  "0.08333333333333333"
                ],
                [
                  "(np.int64(9009), np.int64(31), 'A', np.int64(1), '2010-02-05', np.float64(18187.71), np.False_, np.float64(3.916666666666665), np.float64(0.6794508388787476), np.float64(8.324))",
                  "0.08333333333333333"
                ],
                [
                  "(np.int64(9899), np.int64(39), 'A', np.int64(1), '2010-02-05', np.float64(21244.5), np.False_, np.float64(6.833333333333332), np.float64(0.6794508388787476), np.float64(8.554))",
                  "0.08333333333333333"
                ]
              ],
              "shape": {
                "columns": 1,
                "rows": 12
              }
            },
            "text/plain": [
              "Unnamed: 0  store  type  department  date        weekly_sales  is_holiday  temperature_c  fuel_price_usd_per_l  unemployment\n",
              "0           1      A     1           2010-02-05  24924.50      False        5.727778      0.679451              8.106           0.083333\n",
              "901         2      A     1           2010-02-05  35034.06      False        4.550000      0.679451              8.324           0.083333\n",
              "1798        4      A     1           2010-02-05  38724.42      False        6.533333      0.686319              8.623           0.083333\n",
              "2699        6      A     1           2010-02-05  25619.00      False        4.683333      0.679451              7.259           0.083333\n",
              "3593        10     B     1           2010-02-05  40212.84      False        12.411111     0.782478              9.765           0.083333\n",
              "4495        13     A     1           2010-02-05  46761.90      False       -0.261111      0.704283              8.316           0.083333\n",
              "5408        14     A     1           2010-02-05  32842.31      False       -2.605556      0.735455              8.992           0.083333\n",
              "6293        19     A     1           2010-02-05  21500.58      False       -6.133333      0.780365              8.350           0.083333\n",
              "7199        20     A     1           2010-02-05  46021.21      False       -3.377778      0.735455              8.187           0.083333\n",
              "8109        27     A     1           2010-02-05  32313.79      False       -2.672222      0.780365              8.237           0.083333\n",
              "9009        31     A     1           2010-02-05  18187.71      False        3.916667      0.679451              8.324           0.083333\n",
              "9899        39     A     1           2010-02-05  21244.50      False        6.833333      0.679451              8.554           0.083333\n",
              "Name: proportion, dtype: float64"
            ]
          },
          "metadata": {},
          "output_type": "display_data"
        }
      ],
      "source": [
        "# Count the proportion of stores of each store type in store_types.\n",
        "store_props = store_types.value_counts(normalize=True)\n",
        "display(store_props)"
      ]
    },
    {
      "cell_type": "code",
      "execution_count": 45,
      "id": "c38cf784",
      "metadata": {},
      "outputs": [
        {
          "data": {
            "application/vnd.microsoft.datawrangler.viewer.v0+json": {
              "columns": [
                {
                  "name": "department",
                  "rawType": "int64",
                  "type": "integer"
                },
                {
                  "name": "count",
                  "rawType": "int64",
                  "type": "integer"
                }
              ],
              "ref": "aa6d7179-a825-4d91-adc2-8828422ba513",
              "rows": [
                [
                  "1",
                  "12"
                ],
                [
                  "2",
                  "12"
                ],
                [
                  "3",
                  "12"
                ],
                [
                  "4",
                  "12"
                ],
                [
                  "5",
                  "12"
                ],
                [
                  "6",
                  "12"
                ],
                [
                  "7",
                  "12"
                ],
                [
                  "8",
                  "12"
                ],
                [
                  "9",
                  "12"
                ],
                [
                  "10",
                  "12"
                ],
                [
                  "11",
                  "12"
                ],
                [
                  "12",
                  "12"
                ],
                [
                  "13",
                  "12"
                ],
                [
                  "14",
                  "12"
                ],
                [
                  "16",
                  "12"
                ],
                [
                  "17",
                  "12"
                ],
                [
                  "18",
                  "12"
                ],
                [
                  "19",
                  "12"
                ],
                [
                  "20",
                  "12"
                ],
                [
                  "21",
                  "12"
                ],
                [
                  "22",
                  "12"
                ],
                [
                  "23",
                  "12"
                ],
                [
                  "24",
                  "12"
                ],
                [
                  "25",
                  "12"
                ],
                [
                  "26",
                  "12"
                ],
                [
                  "27",
                  "12"
                ],
                [
                  "28",
                  "12"
                ],
                [
                  "29",
                  "12"
                ],
                [
                  "30",
                  "12"
                ],
                [
                  "31",
                  "12"
                ],
                [
                  "32",
                  "12"
                ],
                [
                  "33",
                  "12"
                ],
                [
                  "34",
                  "12"
                ],
                [
                  "35",
                  "12"
                ],
                [
                  "36",
                  "12"
                ],
                [
                  "38",
                  "12"
                ],
                [
                  "41",
                  "12"
                ],
                [
                  "40",
                  "12"
                ],
                [
                  "42",
                  "12"
                ],
                [
                  "44",
                  "12"
                ],
                [
                  "49",
                  "12"
                ],
                [
                  "45",
                  "12"
                ],
                [
                  "46",
                  "12"
                ],
                [
                  "47",
                  "12"
                ],
                [
                  "52",
                  "12"
                ],
                [
                  "51",
                  "12"
                ],
                [
                  "55",
                  "12"
                ],
                [
                  "54",
                  "12"
                ],
                [
                  "83",
                  "12"
                ],
                [
                  "85",
                  "12"
                ]
              ],
              "shape": {
                "columns": 1,
                "rows": 80
              }
            },
            "text/plain": [
              "department\n",
              "1     12\n",
              "2     12\n",
              "3     12\n",
              "4     12\n",
              "5     12\n",
              "      ..\n",
              "37    10\n",
              "48     8\n",
              "50     6\n",
              "39     4\n",
              "43     2\n",
              "Name: count, Length: 80, dtype: int64"
            ]
          },
          "metadata": {},
          "output_type": "display_data"
        }
      ],
      "source": [
        "# Count the number of stores of each department in store_depts, sorting the counts in descending order.\n",
        "dept_counts_sorted = store_depts[\"department\"].value_counts(sort=True)\n",
        "display(dept_counts_sorted)"
      ]
    },
    {
      "cell_type": "code",
      "execution_count": 46,
      "id": "e9219343",
      "metadata": {},
      "outputs": [
        {
          "data": {
            "application/vnd.microsoft.datawrangler.viewer.v0+json": {
              "columns": [
                {
                  "name": "department",
                  "rawType": "int64",
                  "type": "integer"
                },
                {
                  "name": "proportion",
                  "rawType": "float64",
                  "type": "float"
                }
              ],
              "ref": "07da0304-6681-44ec-b64a-144646867bd4",
              "rows": [
                [
                  "1",
                  "0.0129"
                ],
                [
                  "2",
                  "0.0129"
                ],
                [
                  "3",
                  "0.0129"
                ],
                [
                  "4",
                  "0.0129"
                ],
                [
                  "5",
                  "0.0129"
                ],
                [
                  "6",
                  "0.0129"
                ],
                [
                  "7",
                  "0.0129"
                ],
                [
                  "8",
                  "0.0129"
                ],
                [
                  "9",
                  "0.0129"
                ],
                [
                  "10",
                  "0.0129"
                ],
                [
                  "11",
                  "0.0129"
                ],
                [
                  "12",
                  "0.0129"
                ],
                [
                  "13",
                  "0.0129"
                ],
                [
                  "14",
                  "0.0129"
                ],
                [
                  "16",
                  "0.0129"
                ],
                [
                  "17",
                  "0.0129"
                ],
                [
                  "18",
                  "0.0129"
                ],
                [
                  "19",
                  "0.0129"
                ],
                [
                  "20",
                  "0.0129"
                ],
                [
                  "21",
                  "0.0129"
                ],
                [
                  "22",
                  "0.0129"
                ],
                [
                  "23",
                  "0.0129"
                ],
                [
                  "24",
                  "0.0129"
                ],
                [
                  "25",
                  "0.0129"
                ],
                [
                  "26",
                  "0.0129"
                ],
                [
                  "27",
                  "0.0129"
                ],
                [
                  "28",
                  "0.0129"
                ],
                [
                  "29",
                  "0.0129"
                ],
                [
                  "30",
                  "0.0129"
                ],
                [
                  "31",
                  "0.0129"
                ],
                [
                  "32",
                  "0.0129"
                ],
                [
                  "33",
                  "0.0129"
                ],
                [
                  "34",
                  "0.0129"
                ],
                [
                  "35",
                  "0.0129"
                ],
                [
                  "36",
                  "0.0129"
                ],
                [
                  "38",
                  "0.0129"
                ],
                [
                  "41",
                  "0.0129"
                ],
                [
                  "40",
                  "0.0129"
                ],
                [
                  "42",
                  "0.0129"
                ],
                [
                  "44",
                  "0.0129"
                ],
                [
                  "49",
                  "0.0129"
                ],
                [
                  "45",
                  "0.0129"
                ],
                [
                  "46",
                  "0.0129"
                ],
                [
                  "47",
                  "0.0129"
                ],
                [
                  "52",
                  "0.0129"
                ],
                [
                  "51",
                  "0.0129"
                ],
                [
                  "55",
                  "0.0129"
                ],
                [
                  "54",
                  "0.0129"
                ],
                [
                  "83",
                  "0.0129"
                ],
                [
                  "85",
                  "0.0129"
                ]
              ],
              "shape": {
                "columns": 1,
                "rows": 80
              }
            },
            "text/plain": [
              "department\n",
              "1     0.0129\n",
              "2     0.0129\n",
              "3     0.0129\n",
              "4     0.0129\n",
              "5     0.0129\n",
              "       ...  \n",
              "37    0.0108\n",
              "48    0.0086\n",
              "50    0.0065\n",
              "39    0.0043\n",
              "43    0.0022\n",
              "Name: proportion, Length: 80, dtype: float64"
            ]
          },
          "metadata": {},
          "output_type": "display_data"
        }
      ],
      "source": [
        "# Count the proportion of stores of each department in store_depts, sorting the proportions in descending order.\n",
        "dept_props_sorted = store_depts[\"department\"].value_counts(sort=True, normalize=True).round(4)\n",
        "display(dept_props_sorted)"
      ]
    },
    {
      "cell_type": "markdown",
      "id": "ead19b95",
      "metadata": {},
      "source": [
        "## Grouped Summary Statistics\n",
        "\n",
        "Grouping is the analytical process of dividing your dataset into meaningful categories and then computing summary statistics **within each group**. This approach is indispensable for uncovering patterns, trends, and disparities that may be masked in overall aggregates. Pandas provides an efficient, expressive `groupby` mechanism for split-apply-combine operations—central to all serious exploratory data analysis.\n",
        "\n",
        "### 1. Summaries by Group: The `groupby` Method\n",
        "\n",
        "The fundamental method for groupwise operations is `.groupby()`. This constructs an intermediate “grouped” object, on which you may apply aggregation functions.\n",
        "\n",
        "#### Basic usage—single group, single summary:\n",
        "\n",
        "```python\n",
        "df.groupby(\"department\")[\"salary\"].mean()\n",
        "```\n",
        "\n",
        "This computes the mean salary **within each department**.\n",
        "\n",
        "\n",
        "### 2. Multiple Grouped Summaries with `.agg()`\n",
        "\n",
        "For more comprehensive analyses, use `.agg()` to compute multiple statistics at once.\n",
        "\n",
        "```python\n",
        "df.groupby(\"department\")[\"salary\"].agg([\"min\", \"max\", \"sum\"])\n",
        "```\n",
        "\n",
        "This yields the minimum, maximum, and total salary for each department in a single DataFrame.\n",
        "\n",
        "### 3. Grouping by Multiple Variables\n",
        "\n",
        "You may group by two or more columns simultaneously, creating multi-indexed summaries.\n",
        "\n",
        "```python\n",
        "df.groupby([\"department\", \"gender\"])[\"salary\"].mean()\n",
        "```\n",
        "\n",
        "This produces the average salary for every combination of department and gender.\n",
        "\n",
        "- The resulting Series or DataFrame has a hierarchical index (MultiIndex) reflecting each grouping variable.\n",
        "\n",
        "### 4. Summarising Many Variables, Many Groups\n",
        "\n",
        "You may select multiple columns and compute statistics for each, grouped by one or more variables.\n",
        "\n",
        "#### Example:\n",
        "\n",
        "```python\n",
        "df.groupby([\"species\", \"region\"])[[\"weight\", \"height\"]].mean()\n",
        "```\n",
        "\n",
        "- This produces the mean weight and height for each species-region combination.\n",
        "\n",
        "#### Aggregating different statistics for different columns:\n",
        "\n",
        "```python\n",
        "df.groupby(\"department\").agg({\n",
        "    \"salary\": [\"min\", \"max\", \"mean\"],\n",
        "    \"age\": \"median\"\n",
        "})\n",
        "```\n",
        "\n",
        "This returns a DataFrame where each group (department) has the specified statistics for each relevant column.\n",
        "\n",
        "### 5. Chaining Further Transformations\n",
        "\n",
        "The grouped object can be further filtered, sorted, or transformed. For example, to find the top-earning group:\n",
        "\n",
        "```python\n",
        "grouped = df.groupby(\"department\")[\"salary\"].sum()\n",
        "top_department = grouped.idxmax()\n",
        "```\n",
        "\n",
        "Or, to reset the index for easier downstream analysis:\n",
        "\n",
        "```python\n",
        "summary = df.groupby(\"department\")[\"salary\"].mean().reset_index()\n",
        "```\n",
        "\n",
        "\n",
        "### Best Practices and Considerations\n",
        "\n",
        "- Always inspect the output index: multi-level indices are common with multiple grouping variables.\n",
        "- For large, complex summaries, use `.agg()` with a dictionary mapping columns to statistics for maximum clarity.\n",
        "- Chaining `.reset_index()` is recommended when you wish to convert group labels back to ordinary columns.\n",
        "\n"
      ]
    },
    {
      "cell_type": "code",
      "execution_count": 47,
      "id": "f2e481da",
      "metadata": {},
      "outputs": [
        {
          "data": {
            "application/vnd.microsoft.datawrangler.viewer.v0+json": {
              "columns": [
                {
                  "name": "index",
                  "rawType": "int64",
                  "type": "integer"
                },
                {
                  "name": "0",
                  "rawType": "float64",
                  "type": "float"
                }
              ],
              "ref": "575f9bfe-e88f-4484-9a89-febebed5ce7a",
              "rows": [
                [
                  "0",
                  "0.9097746968515047"
                ],
                [
                  "1",
                  "0.09022530314849538"
                ],
                [
                  "2",
                  "0.0"
                ]
              ],
              "shape": {
                "columns": 1,
                "rows": 3
              }
            },
            "text/plain": [
              "array([0.9097747, 0.0902253, 0.       ])"
            ]
          },
          "metadata": {},
          "output_type": "display_data"
        }
      ],
      "source": [
        "# Calculate the total weekly_sales over the whole dataset.\n",
        "sales_all = sales[\"weekly_sales\"].sum()\n",
        "# Subset for type A stores, calc total weekly sales\n",
        "sales_A = sales[sales[\"type\"] == \"A\"][\"weekly_sales\"].sum()\n",
        "# Subset for type B stores, calc total weekly sales\n",
        "sales_B = sales[sales[\"type\"] == \"B\"][\"weekly_sales\"].sum()\n",
        "# Subset for type C stores, calc total weekly sales\n",
        "sales_C = sales[sales[\"type\"] == \"C\"][\"weekly_sales\"].sum()\n",
        "\n",
        "# Combine the A/B/C results into a list, and divide by sales_all to get the proportion of sales by type.\n",
        "sales_propn_by_type =[sales_A, sales_B, sales_C] / sales_all\n",
        "# View the result\n",
        "display(sales_propn_by_type)"
      ]
    },
    {
      "cell_type": "code",
      "execution_count": 48,
      "id": "6aed39f2",
      "metadata": {},
      "outputs": [
        {
          "name": "stdout",
          "output_type": "stream",
          "text": [
            "type\n",
            "A    2.337163e+08\n",
            "B    2.317840e+07\n",
            "Name: weekly_sales, dtype: float64\n"
          ]
        }
      ],
      "source": [
        "# Group sales by \"type\", take the sum of \"weekly_sales\", and store as sales_by_type.\n",
        "sales_by_type = sales.groupby(\"type\")[\"weekly_sales\"].sum()\n",
        "print(sales_by_type)"
      ]
    },
    {
      "cell_type": "code",
      "execution_count": 49,
      "id": "0db4b731",
      "metadata": {},
      "outputs": [
        {
          "name": "stdout",
          "output_type": "stream",
          "text": [
            "type\n",
            "A    0.909775\n",
            "B    0.090225\n",
            "Name: weekly_sales, dtype: float64\n"
          ]
        }
      ],
      "source": [
        "# Calculate the proportion of sales at each store type by dividing by the sum of sales_by_type. Assign to sales_propn_by_type.\n",
        "sales_propn_by_type = sales_by_type / sum(sales_by_type)\n",
        "print(sales_propn_by_type)"
      ]
    },
    {
      "cell_type": "code",
      "execution_count": 50,
      "id": "b8a7d282",
      "metadata": {},
      "outputs": [
        {
          "data": {
            "application/vnd.microsoft.datawrangler.viewer.v0+json": {
              "columns": [
                {
                  "name": "('type', 'is_holiday')",
                  "rawType": "object",
                  "type": "unknown"
                },
                {
                  "name": "weekly_sales",
                  "rawType": "float64",
                  "type": "float"
                }
              ],
              "ref": "c0239b2a-be28-46fb-92c4-3b1820916273",
              "rows": [
                [
                  "('A', np.False_)",
                  "233692713.2"
                ],
                [
                  "('A', np.True_)",
                  "23601.81"
                ],
                [
                  "('B', np.False_)",
                  "23176782.48"
                ],
                [
                  "('B', np.True_)",
                  "1621.41"
                ]
              ],
              "shape": {
                "columns": 1,
                "rows": 4
              }
            },
            "text/plain": [
              "type  is_holiday\n",
              "A     False         2.336927e+08\n",
              "      True          2.360181e+04\n",
              "B     False         2.317678e+07\n",
              "      True          1.621410e+03\n",
              "Name: weekly_sales, dtype: float64"
            ]
          },
          "metadata": {},
          "output_type": "display_data"
        }
      ],
      "source": [
        "# Group sales by \"type\" and \"is_holiday\", take the sum of weekly_sales, and store as sales_by_type_is_holiday.\n",
        "sales_by_type_is_holiday = sales.groupby([\"type\", \"is_holiday\"])[\"weekly_sales\"].sum()\n",
        "display(sales_by_type_is_holiday)"
      ]
    },
    {
      "cell_type": "code",
      "execution_count": 51,
      "id": "24aafb54",
      "metadata": {},
      "outputs": [
        {
          "data": {
            "application/vnd.microsoft.datawrangler.viewer.v0+json": {
              "columns": [
                {
                  "name": "type",
                  "rawType": "object",
                  "type": "string"
                },
                {
                  "name": "min",
                  "rawType": "float64",
                  "type": "float"
                },
                {
                  "name": "max",
                  "rawType": "float64",
                  "type": "float"
                },
                {
                  "name": "mean",
                  "rawType": "float64",
                  "type": "float"
                },
                {
                  "name": "median",
                  "rawType": "float64",
                  "type": "float"
                }
              ],
              "ref": "4c55a0a1-f00a-48f8-bd17-71f22cafb927",
              "rows": [
                [
                  "A",
                  "-1098.0",
                  "293966.05",
                  "23674.667241693678",
                  "11943.92"
                ],
                [
                  "B",
                  "-798.0",
                  "232558.51",
                  "25696.67837028825",
                  "13336.08"
                ]
              ],
              "shape": {
                "columns": 4,
                "rows": 2
              }
            },
            "text/html": [
              "<div>\n",
              "<style scoped>\n",
              "    .dataframe tbody tr th:only-of-type {\n",
              "        vertical-align: middle;\n",
              "    }\n",
              "\n",
              "    .dataframe tbody tr th {\n",
              "        vertical-align: top;\n",
              "    }\n",
              "\n",
              "    .dataframe thead th {\n",
              "        text-align: right;\n",
              "    }\n",
              "</style>\n",
              "<table border=\"1\" class=\"dataframe\">\n",
              "  <thead>\n",
              "    <tr style=\"text-align: right;\">\n",
              "      <th></th>\n",
              "      <th>min</th>\n",
              "      <th>max</th>\n",
              "      <th>mean</th>\n",
              "      <th>median</th>\n",
              "    </tr>\n",
              "    <tr>\n",
              "      <th>type</th>\n",
              "      <th></th>\n",
              "      <th></th>\n",
              "      <th></th>\n",
              "      <th></th>\n",
              "    </tr>\n",
              "  </thead>\n",
              "  <tbody>\n",
              "    <tr>\n",
              "      <th>A</th>\n",
              "      <td>-1098.0</td>\n",
              "      <td>293966.05</td>\n",
              "      <td>23674.667242</td>\n",
              "      <td>11943.92</td>\n",
              "    </tr>\n",
              "    <tr>\n",
              "      <th>B</th>\n",
              "      <td>-798.0</td>\n",
              "      <td>232558.51</td>\n",
              "      <td>25696.678370</td>\n",
              "      <td>13336.08</td>\n",
              "    </tr>\n",
              "  </tbody>\n",
              "</table>\n",
              "</div>"
            ],
            "text/plain": [
              "         min        max          mean    median\n",
              "type                                           \n",
              "A    -1098.0  293966.05  23674.667242  11943.92\n",
              "B     -798.0  232558.51  25696.678370  13336.08"
            ]
          },
          "metadata": {},
          "output_type": "display_data"
        }
      ],
      "source": [
        "# Get the min, max, mean, and median of weekly_sales for each store type using .groupby() and .agg(). Store this as sales_stats. \n",
        "sales_stats = sales.groupby(\"type\")[\"weekly_sales\"].agg([\"min\", \"max\", \"mean\", \"median\"])\n",
        "# Print sales_stats\n",
        "display(sales_stats)"
      ]
    },
    {
      "cell_type": "code",
      "execution_count": 52,
      "id": "e6da4439",
      "metadata": {},
      "outputs": [
        {
          "data": {
            "application/vnd.microsoft.datawrangler.viewer.v0+json": {
              "columns": [
                {
                  "name": "type",
                  "rawType": "object",
                  "type": "string"
                },
                {
                  "name": "('unemployment', 'min')",
                  "rawType": "float64",
                  "type": "float"
                },
                {
                  "name": "('unemployment', 'max')",
                  "rawType": "float64",
                  "type": "float"
                },
                {
                  "name": "('unemployment', 'mean')",
                  "rawType": "float64",
                  "type": "float"
                },
                {
                  "name": "('unemployment', 'median')",
                  "rawType": "float64",
                  "type": "float"
                },
                {
                  "name": "('fuel_price_usd_per_l', 'min')",
                  "rawType": "float64",
                  "type": "float"
                },
                {
                  "name": "('fuel_price_usd_per_l', 'max')",
                  "rawType": "float64",
                  "type": "float"
                },
                {
                  "name": "('fuel_price_usd_per_l', 'mean')",
                  "rawType": "float64",
                  "type": "float"
                },
                {
                  "name": "('fuel_price_usd_per_l', 'median')",
                  "rawType": "float64",
                  "type": "float"
                }
              ],
              "ref": "9384cb02-4020-4dca-be52-820f4c8b2a5c",
              "rows": [
                [
                  "A",
                  "3.879",
                  "8.992",
                  "7.972610615883306",
                  "8.067",
                  "0.6641288526209843",
                  "1.1074097653886896",
                  "0.7446188662768876",
                  "0.7354553403726412"
                ],
                [
                  "B",
                  "7.17",
                  "9.765",
                  "9.279322616407983",
                  "9.199",
                  "0.7600233528204342",
                  "1.1076739375655478",
                  "0.8058583970005363",
                  "0.8033475898251445"
                ]
              ],
              "shape": {
                "columns": 8,
                "rows": 2
              }
            },
            "text/html": [
              "<div>\n",
              "<style scoped>\n",
              "    .dataframe tbody tr th:only-of-type {\n",
              "        vertical-align: middle;\n",
              "    }\n",
              "\n",
              "    .dataframe tbody tr th {\n",
              "        vertical-align: top;\n",
              "    }\n",
              "\n",
              "    .dataframe thead tr th {\n",
              "        text-align: left;\n",
              "    }\n",
              "\n",
              "    .dataframe thead tr:last-of-type th {\n",
              "        text-align: right;\n",
              "    }\n",
              "</style>\n",
              "<table border=\"1\" class=\"dataframe\">\n",
              "  <thead>\n",
              "    <tr>\n",
              "      <th></th>\n",
              "      <th colspan=\"4\" halign=\"left\">unemployment</th>\n",
              "      <th colspan=\"4\" halign=\"left\">fuel_price_usd_per_l</th>\n",
              "    </tr>\n",
              "    <tr>\n",
              "      <th></th>\n",
              "      <th>min</th>\n",
              "      <th>max</th>\n",
              "      <th>mean</th>\n",
              "      <th>median</th>\n",
              "      <th>min</th>\n",
              "      <th>max</th>\n",
              "      <th>mean</th>\n",
              "      <th>median</th>\n",
              "    </tr>\n",
              "    <tr>\n",
              "      <th>type</th>\n",
              "      <th></th>\n",
              "      <th></th>\n",
              "      <th></th>\n",
              "      <th></th>\n",
              "      <th></th>\n",
              "      <th></th>\n",
              "      <th></th>\n",
              "      <th></th>\n",
              "    </tr>\n",
              "  </thead>\n",
              "  <tbody>\n",
              "    <tr>\n",
              "      <th>A</th>\n",
              "      <td>3.879</td>\n",
              "      <td>8.992</td>\n",
              "      <td>7.972611</td>\n",
              "      <td>8.067</td>\n",
              "      <td>0.664129</td>\n",
              "      <td>1.107410</td>\n",
              "      <td>0.744619</td>\n",
              "      <td>0.735455</td>\n",
              "    </tr>\n",
              "    <tr>\n",
              "      <th>B</th>\n",
              "      <td>7.170</td>\n",
              "      <td>9.765</td>\n",
              "      <td>9.279323</td>\n",
              "      <td>9.199</td>\n",
              "      <td>0.760023</td>\n",
              "      <td>1.107674</td>\n",
              "      <td>0.805858</td>\n",
              "      <td>0.803348</td>\n",
              "    </tr>\n",
              "  </tbody>\n",
              "</table>\n",
              "</div>"
            ],
            "text/plain": [
              "     unemployment                         fuel_price_usd_per_l            \\\n",
              "              min    max      mean median                  min       max   \n",
              "type                                                                       \n",
              "A           3.879  8.992  7.972611  8.067             0.664129  1.107410   \n",
              "B           7.170  9.765  9.279323  9.199             0.760023  1.107674   \n",
              "\n",
              "                          \n",
              "          mean    median  \n",
              "type                      \n",
              "A     0.744619  0.735455  \n",
              "B     0.805858  0.803348  "
            ]
          },
          "metadata": {},
          "output_type": "display_data"
        }
      ],
      "source": [
        "# Get the min, max, mean, and median of unemployment and fuel_price_usd_per_l for each store type. Store this as unemp_fuel_stats.\n",
        "unemp_fuel_stats = sales.groupby(\"type\")[[\"unemployment\", \"fuel_price_usd_per_l\"]].agg([\"min\", \"max\", \"mean\", \"median\"])\n",
        "display(unemp_fuel_stats)"
      ]
    },
    {
      "cell_type": "markdown",
      "id": "40532b7e",
      "metadata": {},
      "source": [
        "## Pivot Tables\n",
        "\n",
        "Pivot tables are a powerful analytical construct that summarise data by re-arranging (or “pivoting”) the axes of a DataFrame, enabling rapid computation of grouped statistics across one or more categorical variables. They provide an intuitive interface for multi-dimensional aggregation - often revealing trends or comparisons that groupby - summaries alone might obscure.\n",
        "\n",
        "In Pandas, the `pivot_table` method is the canonical tool for this purpose, supporting flexible computation of means, sums, counts, and other statistics with optional handling of missing values and multi-level grouping.\n",
        "\n",
        "\n",
        "### 1. From GroupBy to Pivot Table\n",
        "\n",
        "While `.groupby()` returns results with grouped indices, `.pivot_table()` allows you to produce a two-dimensional (or higher) table with distinct row and column axes for categorical variables. This format is more amenable to exploratory data analysis, reporting, and visualisation.\n",
        "\n",
        "#### Example: Grouped mean as pivot\n",
        "\n",
        "```python\n",
        "df.pivot_table(values=\"salary\", index=\"department\", aggfunc=\"mean\")\n",
        "```\n",
        "\n",
        "This produces a table where each row is a department and the value is the mean salary.\n",
        "\n",
        "\n",
        "### 2. Customising Aggregated Statistics\n",
        "\n",
        "You may compute different statistics by changing the `aggfunc` parameter:\n",
        "\n",
        "- **Mean (default):**\n",
        "  ```python\n",
        "  df.pivot_table(values=\"sales\", index=\"region\")\n",
        "  ```\n",
        "- **Sum:**\n",
        "  ```python\n",
        "  df.pivot_table(values=\"sales\", index=\"region\", aggfunc=\"sum\")\n",
        "  ```\n",
        "- **Count:**\n",
        "  ```python\n",
        "  df.pivot_table(values=\"sales\", index=\"region\", aggfunc=\"count\")\n",
        "  ```\n",
        "- **Median or custom:**\n",
        "  ```python\n",
        "  df.pivot_table(values=\"sales\", index=\"region\", aggfunc=\"median\")\n",
        "  ```\n",
        "\n",
        "\n",
        "### 3. Multiple Statistics in a Pivot Table\n",
        "\n",
        "You may request several statistics at once by passing a list to `aggfunc`:\n",
        "\n",
        "```python\n",
        "df.pivot_table(\n",
        "    values=\"profit\",\n",
        "    index=\"region\",\n",
        "    aggfunc=[\"min\", \"max\", \"mean\"]\n",
        ")\n",
        "```\n",
        "\n",
        "This yields a DataFrame with the minimum, maximum, and mean profit per region.\n",
        "\n",
        "\n",
        "### 4. Pivoting on Multiple Variables\n",
        "\n",
        "You may specify several columns as row or column indices to produce a multi-dimensional summary:\n",
        "\n",
        "```python\n",
        "df.pivot_table(\n",
        "    values=\"sales\",\n",
        "    index=[\"region\", \"year\"],\n",
        "    columns=\"product\",\n",
        "    aggfunc=\"sum\"\n",
        ")\n",
        "```\n",
        "\n",
        "This returns a table of sales totals, broken down by region and year (as rows), with one column per product.\n",
        "\n",
        "\n",
        "### 5. Filling Missing Values in Pivot Tables\n",
        "\n",
        "By default, combinations with no data produce `NaN` entries in the pivot table. Use the `fill_value` argument to replace missing values (e.g., with zero):\n",
        "\n",
        "```python\n",
        "df.pivot_table(\n",
        "    values=\"sales\",\n",
        "    index=\"region\",\n",
        "    columns=\"product\",\n",
        "    aggfunc=\"sum\",\n",
        "    fill_value=0\n",
        ")\n",
        "```\n",
        "\n",
        "This ensures that empty cells are filled with a defined value, often necessary for downstream computations or presentations.\n",
        "\n",
        "\n",
        "### 6. Summing with Pivot Tables\n",
        "\n",
        "To produce a matrix of groupwise sums:\n",
        "\n",
        "```python\n",
        "df.pivot_table(\n",
        "    values=\"sales\",\n",
        "    index=\"region\",\n",
        "    columns=\"quarter\",\n",
        "    aggfunc=\"sum\",\n",
        "    fill_value=0\n",
        ")\n",
        "```\n",
        "\n",
        "This yields total sales per region for each quarter, with missing values replaced by zero.\n",
        "\n",
        "### Best Practices\n",
        "\n",
        "- Prefer pivot tables for multi-dimensional summaries that require simultaneous grouping by rows and columns.\n",
        "- Use `fill_value` judiciously to avoid misleading results in sparse datasets.\n",
        "- For extremely large datasets or high cardinality variables, use with care to avoid memory issues.\n",
        "- When interpreting pivot tables, always confirm which statistic (`aggfunc`) has been used, especially if using custom or non-default functions.\n"
      ]
    },
    {
      "cell_type": "code",
      "execution_count": 53,
      "id": "9818e579",
      "metadata": {},
      "outputs": [
        {
          "data": {
            "application/vnd.microsoft.datawrangler.viewer.v0+json": {
              "columns": [
                {
                  "name": "type",
                  "rawType": "object",
                  "type": "string"
                },
                {
                  "name": "weekly_sales",
                  "rawType": "float64",
                  "type": "float"
                }
              ],
              "ref": "12267004-8010-4fe0-a29e-1b992a56dda1",
              "rows": [
                [
                  "A",
                  "23674.667241693678"
                ],
                [
                  "B",
                  "25696.67837028825"
                ]
              ],
              "shape": {
                "columns": 1,
                "rows": 2
              }
            },
            "text/html": [
              "<div>\n",
              "<style scoped>\n",
              "    .dataframe tbody tr th:only-of-type {\n",
              "        vertical-align: middle;\n",
              "    }\n",
              "\n",
              "    .dataframe tbody tr th {\n",
              "        vertical-align: top;\n",
              "    }\n",
              "\n",
              "    .dataframe thead th {\n",
              "        text-align: right;\n",
              "    }\n",
              "</style>\n",
              "<table border=\"1\" class=\"dataframe\">\n",
              "  <thead>\n",
              "    <tr style=\"text-align: right;\">\n",
              "      <th></th>\n",
              "      <th>weekly_sales</th>\n",
              "    </tr>\n",
              "    <tr>\n",
              "      <th>type</th>\n",
              "      <th></th>\n",
              "    </tr>\n",
              "  </thead>\n",
              "  <tbody>\n",
              "    <tr>\n",
              "      <th>A</th>\n",
              "      <td>23674.667242</td>\n",
              "    </tr>\n",
              "    <tr>\n",
              "      <th>B</th>\n",
              "      <td>25696.678370</td>\n",
              "    </tr>\n",
              "  </tbody>\n",
              "</table>\n",
              "</div>"
            ],
            "text/plain": [
              "      weekly_sales\n",
              "type              \n",
              "A     23674.667242\n",
              "B     25696.678370"
            ]
          },
          "metadata": {},
          "output_type": "display_data"
        }
      ],
      "source": [
        "# Get the mean weekly_sales by type using .pivot_table() and store as mean_sales_by_type.\n",
        "mean_sales_by_type = sales.pivot_table(values=\"weekly_sales\", index=\"type\", aggfunc=\"mean\")\n",
        "# Print mean_sales_by_type\n",
        "display(mean_sales_by_type)"
      ]
    },
    {
      "cell_type": "code",
      "execution_count": 54,
      "id": "c2e89f60",
      "metadata": {},
      "outputs": [
        {
          "data": {
            "application/vnd.microsoft.datawrangler.viewer.v0+json": {
              "columns": [
                {
                  "name": "type",
                  "rawType": "object",
                  "type": "string"
                },
                {
                  "name": "('mean', 'weekly_sales')",
                  "rawType": "float64",
                  "type": "float"
                },
                {
                  "name": "('median', 'weekly_sales')",
                  "rawType": "float64",
                  "type": "float"
                }
              ],
              "ref": "96c4a530-2bc1-4989-bf3a-983d7f033003",
              "rows": [
                [
                  "A",
                  "23674.667241693678",
                  "11943.92"
                ],
                [
                  "B",
                  "25696.67837028825",
                  "13336.08"
                ]
              ],
              "shape": {
                "columns": 2,
                "rows": 2
              }
            },
            "text/html": [
              "<div>\n",
              "<style scoped>\n",
              "    .dataframe tbody tr th:only-of-type {\n",
              "        vertical-align: middle;\n",
              "    }\n",
              "\n",
              "    .dataframe tbody tr th {\n",
              "        vertical-align: top;\n",
              "    }\n",
              "\n",
              "    .dataframe thead tr th {\n",
              "        text-align: left;\n",
              "    }\n",
              "\n",
              "    .dataframe thead tr:last-of-type th {\n",
              "        text-align: right;\n",
              "    }\n",
              "</style>\n",
              "<table border=\"1\" class=\"dataframe\">\n",
              "  <thead>\n",
              "    <tr>\n",
              "      <th></th>\n",
              "      <th>mean</th>\n",
              "      <th>median</th>\n",
              "    </tr>\n",
              "    <tr>\n",
              "      <th></th>\n",
              "      <th>weekly_sales</th>\n",
              "      <th>weekly_sales</th>\n",
              "    </tr>\n",
              "    <tr>\n",
              "      <th>type</th>\n",
              "      <th></th>\n",
              "      <th></th>\n",
              "    </tr>\n",
              "  </thead>\n",
              "  <tbody>\n",
              "    <tr>\n",
              "      <th>A</th>\n",
              "      <td>23674.667242</td>\n",
              "      <td>11943.92</td>\n",
              "    </tr>\n",
              "    <tr>\n",
              "      <th>B</th>\n",
              "      <td>25696.678370</td>\n",
              "      <td>13336.08</td>\n",
              "    </tr>\n",
              "  </tbody>\n",
              "</table>\n",
              "</div>"
            ],
            "text/plain": [
              "              mean       median\n",
              "      weekly_sales weekly_sales\n",
              "type                           \n",
              "A     23674.667242     11943.92\n",
              "B     25696.678370     13336.08"
            ]
          },
          "metadata": {},
          "output_type": "display_data"
        }
      ],
      "source": [
        "# Get the mean and median (using NumPy functions) of weekly_sales by type using .pivot_table() and store as mean_med_sales_by_type.\n",
        "mean_med_sales_by_type = sales.pivot_table(values=\"weekly_sales\", index=\"type\", aggfunc=[\"mean\", \"median\"])\n",
        "# Print mean_med_sales_by_type\n",
        "display(mean_med_sales_by_type)"
      ]
    },
    {
      "cell_type": "code",
      "execution_count": 55,
      "id": "f81a9797",
      "metadata": {},
      "outputs": [
        {
          "name": "stdout",
          "output_type": "stream",
          "text": [
            "is_holiday         False      True \n",
            "type                               \n",
            "A           23768.583523  590.04525\n",
            "B           25751.980533  810.70500\n"
          ]
        }
      ],
      "source": [
        "# Get the mean of weekly_sales by type and is_holiday using .pivot_table() and store as mean_sales_by_type_holiday.\n",
        "mean_sales_by_type_holiday = sales.pivot_table(values=\"weekly_sales\", index=\"type\", columns=\"is_holiday\")\n",
        "# Print mean_sales_by_type_holiday\n",
        "print(mean_sales_by_type_holiday)"
      ]
    },
    {
      "cell_type": "code",
      "execution_count": 56,
      "id": "7b5db34b",
      "metadata": {},
      "outputs": [
        {
          "data": {
            "application/vnd.microsoft.datawrangler.viewer.v0+json": {
              "columns": [
                {
                  "name": "department",
                  "rawType": "int64",
                  "type": "integer"
                },
                {
                  "name": "A",
                  "rawType": "float64",
                  "type": "float"
                },
                {
                  "name": "B",
                  "rawType": "float64",
                  "type": "float"
                }
              ],
              "ref": "987973f6-4008-4ce9-bb3c-8752577e33a3",
              "rows": [
                [
                  "1",
                  "30961.72537878788",
                  "44050.62666666667"
                ],
                [
                  "2",
                  "67600.1587878788",
                  "112958.52666666667"
                ],
                [
                  "3",
                  "17160.002954545456",
                  "30580.655"
                ],
                [
                  "4",
                  "44285.399090909086",
                  "51219.65416666667"
                ],
                [
                  "5",
                  "34821.01136363636",
                  "63236.875"
                ],
                [
                  "6",
                  "7136.292651515151",
                  "10717.2975"
                ],
                [
                  "7",
                  "38454.336818181815",
                  "52909.65333333333"
                ],
                [
                  "8",
                  "48583.4753030303",
                  "90733.75333333334"
                ],
                [
                  "9",
                  "30120.449924242424",
                  "66679.30166666667"
                ],
                [
                  "10",
                  "30930.456363636364",
                  "48595.12666666667"
                ],
                [
                  "11",
                  "23028.312727272725",
                  "35488.42916666667"
                ],
                [
                  "12",
                  "6786.840606060606",
                  "9656.52"
                ],
                [
                  "13",
                  "51398.168560606064",
                  "67213.58750000001"
                ],
                [
                  "14",
                  "22457.6953030303",
                  "40400.02"
                ],
                [
                  "16",
                  "25202.751893939392",
                  "29558.1825"
                ],
                [
                  "17",
                  "16167.586136363638",
                  "27675.351666666666"
                ],
                [
                  "18",
                  "12201.771212121212",
                  "17361.3475"
                ],
                [
                  "19",
                  "1560.95171875",
                  "3365.895"
                ],
                [
                  "20",
                  "8312.070227272727",
                  "16191.81"
                ],
                [
                  "21",
                  "9324.387196969697",
                  "10368.968333333332"
                ],
                [
                  "22",
                  "14225.324166666667",
                  "26044.7975"
                ],
                [
                  "23",
                  "29350.745075757575",
                  "63960.27333333334"
                ],
                [
                  "24",
                  "8204.587575757576",
                  "15376.829166666668"
                ],
                [
                  "25",
                  "13382.164242424242",
                  "20619.285"
                ],
                [
                  "26",
                  "11254.311212121213",
                  "17535.4575"
                ],
                [
                  "27",
                  "2079.1604545454543",
                  "4553.720833333334"
                ],
                [
                  "28",
                  "968.2473484848484",
                  "1422.7625"
                ],
                [
                  "29",
                  "6859.108484848484",
                  "14999.843333333332"
                ],
                [
                  "30",
                  "5403.619772727273",
                  "12442.08"
                ],
                [
                  "31",
                  "3221.001818181818",
                  "6151.995"
                ],
                [
                  "32",
                  "9599.30340909091",
                  "21047.399166666666"
                ],
                [
                  "33",
                  "8588.995303030302",
                  "14912.160000000002"
                ],
                [
                  "34",
                  "19148.73371212121",
                  "44931.18916666667"
                ],
                [
                  "35",
                  "3504.714015151515",
                  "7560.045000000001"
                ],
                [
                  "36",
                  "2455.8184090909094",
                  "3827.72"
                ],
                [
                  "37",
                  "3628.0197222222223",
                  "4303.381666666667"
                ],
                [
                  "38",
                  "84796.32393939394",
                  "85665.30833333333"
                ],
                [
                  "39",
                  "5.198571428571428",
                  "0.0"
                ],
                [
                  "40",
                  "70695.73363636364",
                  "104830.62916666667"
                ],
                [
                  "41",
                  "2218.5159090909087",
                  "7514.514166666667"
                ],
                [
                  "42",
                  "7831.95053030303",
                  "11280.798333333332"
                ],
                [
                  "43",
                  "0.66",
                  "0.0"
                ],
                [
                  "44",
                  "5984.462575757575",
                  "9091.141666666666"
                ],
                [
                  "45",
                  "19.12087719298246",
                  "41.751666666666665"
                ],
                [
                  "46",
                  "29991.069924242423",
                  "53406.16333333333"
                ],
                [
                  "47",
                  "10.484901960784313",
                  "-71.91666666666667"
                ],
                [
                  "48",
                  "1020.9829487179487",
                  "1965.1083333333333"
                ],
                [
                  "49",
                  "11008.071742424243",
                  "19313.554166666665"
                ],
                [
                  "50",
                  "2325.2301666666667",
                  "3991.5"
                ],
                [
                  "51",
                  "23.057526881720428",
                  "38.66166666666667"
                ]
              ],
              "shape": {
                "columns": 2,
                "rows": 80
              }
            },
            "text/html": [
              "<div>\n",
              "<style scoped>\n",
              "    .dataframe tbody tr th:only-of-type {\n",
              "        vertical-align: middle;\n",
              "    }\n",
              "\n",
              "    .dataframe tbody tr th {\n",
              "        vertical-align: top;\n",
              "    }\n",
              "\n",
              "    .dataframe thead th {\n",
              "        text-align: right;\n",
              "    }\n",
              "</style>\n",
              "<table border=\"1\" class=\"dataframe\">\n",
              "  <thead>\n",
              "    <tr style=\"text-align: right;\">\n",
              "      <th>type</th>\n",
              "      <th>A</th>\n",
              "      <th>B</th>\n",
              "    </tr>\n",
              "    <tr>\n",
              "      <th>department</th>\n",
              "      <th></th>\n",
              "      <th></th>\n",
              "    </tr>\n",
              "  </thead>\n",
              "  <tbody>\n",
              "    <tr>\n",
              "      <th>1</th>\n",
              "      <td>30961.725379</td>\n",
              "      <td>44050.626667</td>\n",
              "    </tr>\n",
              "    <tr>\n",
              "      <th>2</th>\n",
              "      <td>67600.158788</td>\n",
              "      <td>112958.526667</td>\n",
              "    </tr>\n",
              "    <tr>\n",
              "      <th>3</th>\n",
              "      <td>17160.002955</td>\n",
              "      <td>30580.655000</td>\n",
              "    </tr>\n",
              "    <tr>\n",
              "      <th>4</th>\n",
              "      <td>44285.399091</td>\n",
              "      <td>51219.654167</td>\n",
              "    </tr>\n",
              "    <tr>\n",
              "      <th>5</th>\n",
              "      <td>34821.011364</td>\n",
              "      <td>63236.875000</td>\n",
              "    </tr>\n",
              "    <tr>\n",
              "      <th>...</th>\n",
              "      <td>...</td>\n",
              "      <td>...</td>\n",
              "    </tr>\n",
              "    <tr>\n",
              "      <th>95</th>\n",
              "      <td>123933.787121</td>\n",
              "      <td>77082.102500</td>\n",
              "    </tr>\n",
              "    <tr>\n",
              "      <th>96</th>\n",
              "      <td>21367.042857</td>\n",
              "      <td>9528.538333</td>\n",
              "    </tr>\n",
              "    <tr>\n",
              "      <th>97</th>\n",
              "      <td>28471.266970</td>\n",
              "      <td>5828.873333</td>\n",
              "    </tr>\n",
              "    <tr>\n",
              "      <th>98</th>\n",
              "      <td>12875.423182</td>\n",
              "      <td>217.428333</td>\n",
              "    </tr>\n",
              "    <tr>\n",
              "      <th>99</th>\n",
              "      <td>379.123659</td>\n",
              "      <td>0.000000</td>\n",
              "    </tr>\n",
              "  </tbody>\n",
              "</table>\n",
              "<p>80 rows × 2 columns</p>\n",
              "</div>"
            ],
            "text/plain": [
              "type                    A              B\n",
              "department                              \n",
              "1            30961.725379   44050.626667\n",
              "2            67600.158788  112958.526667\n",
              "3            17160.002955   30580.655000\n",
              "4            44285.399091   51219.654167\n",
              "5            34821.011364   63236.875000\n",
              "...                   ...            ...\n",
              "95          123933.787121   77082.102500\n",
              "96           21367.042857    9528.538333\n",
              "97           28471.266970    5828.873333\n",
              "98           12875.423182     217.428333\n",
              "99             379.123659       0.000000\n",
              "\n",
              "[80 rows x 2 columns]"
            ]
          },
          "metadata": {},
          "output_type": "display_data"
        }
      ],
      "source": [
        "# Print the mean weekly_sales by department and type, filling in any missing values with 0.\n",
        "display(sales.pivot_table(values=\"weekly_sales\", index=\"department\", columns=\"type\", fill_value=0))"
      ]
    },
    {
      "cell_type": "code",
      "execution_count": 57,
      "id": "7bb4f3f6",
      "metadata": {},
      "outputs": [
        {
          "data": {
            "application/vnd.microsoft.datawrangler.viewer.v0+json": {
              "columns": [
                {
                  "name": "department",
                  "rawType": "object",
                  "type": "unknown"
                },
                {
                  "name": "A",
                  "rawType": "float64",
                  "type": "float"
                },
                {
                  "name": "B",
                  "rawType": "float64",
                  "type": "float"
                },
                {
                  "name": "All",
                  "rawType": "float64",
                  "type": "float"
                }
              ],
              "ref": "d7ddd2ae-e339-415d-99df-d71f6c31768d",
              "rows": [
                [
                  "1",
                  "30961.72537878788",
                  "44050.62666666667",
                  "32052.467152777775"
                ],
                [
                  "2",
                  "67600.1587878788",
                  "112958.52666666667",
                  "71380.02277777778"
                ],
                [
                  "3",
                  "17160.002954545456",
                  "30580.655",
                  "18278.390625"
                ],
                [
                  "4",
                  "44285.399090909086",
                  "51219.65416666667",
                  "44863.25368055556"
                ],
                [
                  "5",
                  "34821.01136363636",
                  "63236.875",
                  "37189.0"
                ],
                [
                  "6",
                  "7136.292651515151",
                  "10717.2975",
                  "7434.709722222222"
                ],
                [
                  "7",
                  "38454.336818181815",
                  "52909.65333333333",
                  "39658.94652777778"
                ],
                [
                  "8",
                  "48583.4753030303",
                  "90733.75333333334",
                  "52095.99847222222"
                ],
                [
                  "9",
                  "30120.449924242424",
                  "66679.30166666667",
                  "33167.020902777775"
                ],
                [
                  "10",
                  "30930.456363636364",
                  "48595.12666666667",
                  "32402.51222222222"
                ],
                [
                  "11",
                  "23028.312727272725",
                  "35488.42916666667",
                  "24066.65576388889"
                ],
                [
                  "12",
                  "6786.840606060606",
                  "9656.52",
                  "7025.980555555555"
                ],
                [
                  "13",
                  "51398.168560606064",
                  "67213.58750000001",
                  "52716.12013888889"
                ],
                [
                  "14",
                  "22457.6953030303",
                  "40400.02",
                  "23952.88902777778"
                ],
                [
                  "16",
                  "25202.751893939392",
                  "29558.1825",
                  "25565.704444444444"
                ],
                [
                  "17",
                  "16167.586136363638",
                  "27675.351666666666",
                  "17126.56659722222"
                ],
                [
                  "18",
                  "12201.771212121212",
                  "17361.3475",
                  "12631.735902777778"
                ],
                [
                  "19",
                  "1560.95171875",
                  "3365.895",
                  "1715.6611428571427"
                ],
                [
                  "20",
                  "8312.070227272727",
                  "16191.81",
                  "8968.715208333333"
                ],
                [
                  "21",
                  "9324.387196969697",
                  "10368.968333333332",
                  "9411.435625"
                ],
                [
                  "22",
                  "14225.324166666667",
                  "26044.7975",
                  "15210.280277777776"
                ],
                [
                  "23",
                  "29350.745075757575",
                  "63960.27333333334",
                  "32234.872430555555"
                ],
                [
                  "24",
                  "8204.587575757576",
                  "15376.829166666668",
                  "8802.274375"
                ],
                [
                  "25",
                  "13382.164242424242",
                  "20619.285",
                  "13985.25763888889"
                ],
                [
                  "26",
                  "11254.311212121213",
                  "17535.4575",
                  "11777.740069444444"
                ],
                [
                  "27",
                  "2079.1604545454543",
                  "4553.720833333334",
                  "2285.3738194444445"
                ],
                [
                  "28",
                  "968.2473484848484",
                  "1422.7625",
                  "1006.123611111111"
                ],
                [
                  "29",
                  "6859.108484848484",
                  "14999.843333333332",
                  "7537.503055555555"
                ],
                [
                  "30",
                  "5403.619772727273",
                  "12442.08",
                  "5990.158125"
                ],
                [
                  "31",
                  "3221.001818181818",
                  "6151.995",
                  "3465.25125"
                ],
                [
                  "32",
                  "9599.30340909091",
                  "21047.399166666666",
                  "10553.31138888889"
                ],
                [
                  "33",
                  "8588.995303030302",
                  "14912.160000000002",
                  "9115.925694444444"
                ],
                [
                  "34",
                  "19148.73371212121",
                  "44931.18916666667",
                  "21297.271666666667"
                ],
                [
                  "35",
                  "3504.714015151515",
                  "7560.045000000001",
                  "3842.658263888889"
                ],
                [
                  "36",
                  "2455.8184090909094",
                  "3827.72",
                  "2570.1435416666664"
                ],
                [
                  "37",
                  "3628.0197222222223",
                  "4303.381666666667",
                  "3695.5559166666667"
                ],
                [
                  "38",
                  "84796.32393939394",
                  "85665.30833333333",
                  "84868.73930555554"
                ],
                [
                  "39",
                  "5.198571428571428",
                  "0.0",
                  "5.198571428571428"
                ],
                [
                  "40",
                  "70695.73363636364",
                  "104830.62916666667",
                  "73540.30826388889"
                ],
                [
                  "41",
                  "2218.5159090909087",
                  "7514.514166666667",
                  "2659.8490972222226"
                ],
                [
                  "42",
                  "7831.95053030303",
                  "11280.798333333332",
                  "8119.354513888889"
                ],
                [
                  "43",
                  "0.66",
                  "0.0",
                  "0.66"
                ],
                [
                  "44",
                  "5984.462575757575",
                  "9091.141666666666",
                  "6243.3525"
                ],
                [
                  "45",
                  "19.12087719298246",
                  "41.751666666666665",
                  "21.27619047619048"
                ],
                [
                  "46",
                  "29991.069924242423",
                  "53406.16333333333",
                  "31942.327708333338"
                ],
                [
                  "47",
                  "10.484901960784313",
                  "-71.91666666666667",
                  "1.8110526315789477"
                ],
                [
                  "48",
                  "1020.9829487179487",
                  "1965.1083333333333",
                  "1146.8663333333334"
                ],
                [
                  "49",
                  "11008.071742424243",
                  "19313.554166666665",
                  "11700.195277777777"
                ],
                [
                  "50",
                  "2325.2301666666667",
                  "3991.5",
                  "2602.9418055555557"
                ],
                [
                  "51",
                  "23.057526881720428",
                  "38.66166666666667",
                  "24.003232323232325"
                ]
              ],
              "shape": {
                "columns": 3,
                "rows": 81
              }
            },
            "text/html": [
              "<div>\n",
              "<style scoped>\n",
              "    .dataframe tbody tr th:only-of-type {\n",
              "        vertical-align: middle;\n",
              "    }\n",
              "\n",
              "    .dataframe tbody tr th {\n",
              "        vertical-align: top;\n",
              "    }\n",
              "\n",
              "    .dataframe thead th {\n",
              "        text-align: right;\n",
              "    }\n",
              "</style>\n",
              "<table border=\"1\" class=\"dataframe\">\n",
              "  <thead>\n",
              "    <tr style=\"text-align: right;\">\n",
              "      <th>type</th>\n",
              "      <th>A</th>\n",
              "      <th>B</th>\n",
              "      <th>All</th>\n",
              "    </tr>\n",
              "    <tr>\n",
              "      <th>department</th>\n",
              "      <th></th>\n",
              "      <th></th>\n",
              "      <th></th>\n",
              "    </tr>\n",
              "  </thead>\n",
              "  <tbody>\n",
              "    <tr>\n",
              "      <th>1</th>\n",
              "      <td>30961.725379</td>\n",
              "      <td>44050.626667</td>\n",
              "      <td>32052.467153</td>\n",
              "    </tr>\n",
              "    <tr>\n",
              "      <th>2</th>\n",
              "      <td>67600.158788</td>\n",
              "      <td>112958.526667</td>\n",
              "      <td>71380.022778</td>\n",
              "    </tr>\n",
              "    <tr>\n",
              "      <th>3</th>\n",
              "      <td>17160.002955</td>\n",
              "      <td>30580.655000</td>\n",
              "      <td>18278.390625</td>\n",
              "    </tr>\n",
              "    <tr>\n",
              "      <th>4</th>\n",
              "      <td>44285.399091</td>\n",
              "      <td>51219.654167</td>\n",
              "      <td>44863.253681</td>\n",
              "    </tr>\n",
              "    <tr>\n",
              "      <th>5</th>\n",
              "      <td>34821.011364</td>\n",
              "      <td>63236.875000</td>\n",
              "      <td>37189.000000</td>\n",
              "    </tr>\n",
              "    <tr>\n",
              "      <th>...</th>\n",
              "      <td>...</td>\n",
              "      <td>...</td>\n",
              "      <td>...</td>\n",
              "    </tr>\n",
              "    <tr>\n",
              "      <th>96</th>\n",
              "      <td>21367.042857</td>\n",
              "      <td>9528.538333</td>\n",
              "      <td>20337.607681</td>\n",
              "    </tr>\n",
              "    <tr>\n",
              "      <th>97</th>\n",
              "      <td>28471.266970</td>\n",
              "      <td>5828.873333</td>\n",
              "      <td>26584.400833</td>\n",
              "    </tr>\n",
              "    <tr>\n",
              "      <th>98</th>\n",
              "      <td>12875.423182</td>\n",
              "      <td>217.428333</td>\n",
              "      <td>11820.590278</td>\n",
              "    </tr>\n",
              "    <tr>\n",
              "      <th>99</th>\n",
              "      <td>379.123659</td>\n",
              "      <td>0.000000</td>\n",
              "      <td>379.123659</td>\n",
              "    </tr>\n",
              "    <tr>\n",
              "      <th>All</th>\n",
              "      <td>23674.667242</td>\n",
              "      <td>25696.678370</td>\n",
              "      <td>23843.950149</td>\n",
              "    </tr>\n",
              "  </tbody>\n",
              "</table>\n",
              "<p>81 rows × 3 columns</p>\n",
              "</div>"
            ],
            "text/plain": [
              "type                   A              B           All\n",
              "department                                           \n",
              "1           30961.725379   44050.626667  32052.467153\n",
              "2           67600.158788  112958.526667  71380.022778\n",
              "3           17160.002955   30580.655000  18278.390625\n",
              "4           44285.399091   51219.654167  44863.253681\n",
              "5           34821.011364   63236.875000  37189.000000\n",
              "...                  ...            ...           ...\n",
              "96          21367.042857    9528.538333  20337.607681\n",
              "97          28471.266970    5828.873333  26584.400833\n",
              "98          12875.423182     217.428333  11820.590278\n",
              "99            379.123659       0.000000    379.123659\n",
              "All         23674.667242   25696.678370  23843.950149\n",
              "\n",
              "[81 rows x 3 columns]"
            ]
          },
          "metadata": {},
          "output_type": "display_data"
        }
      ],
      "source": [
        "# Print the mean weekly_sales by department and type, filling in any missing values with 0 and summing all rows and columns.\n",
        "display(sales.pivot_table(values=\"weekly_sales\", index=\"department\", columns=\"type\", fill_value=0, margins=True))"
      ]
    },
    {
      "cell_type": "markdown",
      "id": "c653a76b",
      "metadata": {},
      "source": [
        "## Explicit Indexes\n",
        "\n",
        "An **explicit index** is a labelled reference axis of a *DataFrame* (or *Series*), providing flexible, semantically meaningful ways to reference, order, and subset data. Proper management of indexes&nbsp; - columns *and* rows&nbsp; - enables efficient and expressive analysis but can also create complexity if misapplied.\n",
        "\n",
        "\n",
        "### 1. The Anatomy of Indexes\n",
        "\n",
        "- **`.columns`** – the column labels.\n",
        "\n",
        "  ```\n",
        "  df.columns\n",
        "  ```\n",
        "\n",
        "* **`.index`** – the row labels (the “index” proper).\n",
        "\n",
        "  ```python\n",
        "  df.index\n",
        "  ```\n",
        "\n",
        "Both are `Index` objects, supporting set-like operations (`intersection`, `difference`, etc.) and fast membership tests.\n",
        "\n",
        "\n",
        "### 2. Setting and Resetting Indexes\n",
        "\n",
        "#### a) Setting a column as the index – `.set_index()`\n",
        "\n",
        "Replacing the default integer index with a column often suits time-series, panel data, or any situation where a domain-specific key provides clearer semantics.\n",
        "\n",
        "```python\n",
        "df_country = df.set_index(\"country\")\n",
        "```\n",
        "\n",
        "#### b) Restoring the default index – `.reset_index()`\n",
        "\n",
        "```python\n",
        "df_reset = df_country.reset_index()\n",
        "```\n",
        "\n",
        "#### c) Dropping the index entirely\n",
        "\n",
        "```python\n",
        "df_reset_clean = df_country.reset_index(drop=True)\n",
        "```\n",
        "\n",
        "Dropping can be useful when you have finished using the index as a key and want to preserve tidy-data principles.\n",
        "\n",
        "\n",
        "### 3. Indexes and Subsetting\n",
        "\n",
        "Indexes make subsetting more direct, especially with **`.loc`** (label-based) and **`.iloc`** (position-based).\n",
        "\n",
        "```python\n",
        "# Label-based\n",
        "df_country.loc[\"Brazil\"]\n",
        "\n",
        "# Position-based (row 0, column 2)\n",
        "df_country.iloc[0, 2]\n",
        "```\n",
        "\n",
        "If index values are not unique, `.loc` returns *all* matching rows. Membership tests remain straightforward:\n",
        "\n",
        "```python\n",
        "df[df[\"region\"].isin([\"Americas\", \"Europe\"])]\n",
        "\n",
        "# Equivalent after indexing by 'region'\n",
        "df_region = df.set_index(\"region\")\n",
        "df_region.loc[[\"Americas\", \"Europe\"]]\n",
        "```\n",
        "\n",
        "\n",
        "### 4. Index Values Need Not Be Unique\n",
        "\n",
        "Pandas allows duplicate index entries. `.loc` on a duplicated key yields every matching row:\n",
        "\n",
        "```python\n",
        "df_dup = df.set_index(\"category\")\n",
        "df_dup.loc[\"A\"]   # all rows with category == \"A\"\n",
        "```\n",
        "\n",
        "Use this sparingly: many algorithms (e.g. `reindex`) assume unique keys and will raise or mis-align otherwise.\n",
        "\n",
        "\n",
        "### 5. Multi-level (Hierarchical) Indexes\n",
        "\n",
        "A `MultiIndex` lets you work with nested keys and naturally represents grouped or panel structures.\n",
        "\n",
        "```python\n",
        "df_multi = df.set_index([\"species\", \"region\"])\n",
        "```\n",
        "\n",
        "* **Outer-level subset**\n",
        "\n",
        "  ```python\n",
        "  df_multi.loc[[\"Lion\", \"Tiger\"]]\n",
        "  ```\n",
        "\n",
        "* **Tuple subset**\n",
        "\n",
        "  ```python\n",
        "  df_multi.loc[[(\"Lion\", \"Africa\"), (\"Tiger\", \"Asia\")]]\n",
        "  ```\n",
        "\n",
        "\n",
        "### 6. Sorting by Index Values\n",
        "\n",
        "Sorted indexes accelerate joins, as-of merges, and range queries:\n",
        "\n",
        "```python\n",
        "df_sorted = df.sort_index()\n",
        "df_multi_sorted = df_multi.sort_index(level=\"region\", ascending=False)\n",
        "```\n",
        "\n",
        "\n",
        "### 7. `.loc` v `.iloc` – Essential Distinctions\n",
        "\n",
        "| Aspect                | `.loc` (label)                                    | `.iloc` (position)                          |\n",
        "| --------------------- | ------------------------------------------------- | ------------------------------------------- |\n",
        "| Basis                 | *Labels* in the index                             | *Integer positions* (0-based)               |\n",
        "| Slice end-point       | **Inclusive** of stop label                       | **Exclusive** of stop integer               |\n",
        "| Boolean masks         | Accepts boolean Series aligned on index           | Accepts boolean *array-like* of same length |\n",
        "| Partial string slices | Supported for monotonic datetime / string indexes | Not applicable                              |\n",
        "| Performance           | Fast hash look-ups                                | Fast NumPy-style slicing                    |\n",
        "\n",
        "```python\n",
        "# Inclusive slice with .loc\n",
        "df_country.loc[\"Argentina\":\"Brazil\"]\n",
        "\n",
        "# Exclusive with .iloc\n",
        "df_country.iloc[2:5]\n",
        "\n",
        "# Boolean mask\n",
        "mask = df_country[\"population\"] > 100_000_000\n",
        "df_country.loc[mask]          # label aligned\n",
        "df_country.iloc[mask.values]  # positional\n",
        "```\n",
        "\n",
        "**Mnemonic** – *loc*ation by *loc*ator (label), *iloc*ation by *i*nteger.\n",
        "\n",
        "\n",
        "### 8. Fine-grained Scalars – `.at` and `.iat`\n",
        "\n",
        "For single-element access (and mutation) use the scalar variants; they bypass most overhead:\n",
        "\n",
        "```python\n",
        "population_br = df_country.at[\"Brazil\", \"population\"]\n",
        "df_country.iat[0, 2] = 212_559_417\n",
        "```\n",
        "\n",
        "\n",
        "### 9. Performance Notes\n",
        "\n",
        "1. **Alignment** – Operations align on labels. Mismatched indexes introduce `NaN` where labels do not overlap.\n",
        "2. **Monotonic indexes** – Range searches (`df.loc[start:end]`) are O(log n) only if the index is sorted.\n",
        "3. **Categorical indexes** – Memory-light, but they disable range slicing.\n",
        "\n",
        "\n",
        "### 10. Conceptual Challenges and Practical Warnings\n",
        "\n",
        "* **Indexes are merely data**: Moving a column into the index changes how you address it, not its semantics.\n",
        "* **Two syntaxes, two mental models**: You must master both label and position perspectives.\n",
        "* **Tidy-data tension**: Indexing moves variables out of columns, potentially complicating reshaping or export.\n",
        "* **Chain indexing pitfalls**: Never mix `.loc`/`.iloc` with successive `[]` slices; assign through `.loc`/`.iloc` directly to avoid `SettingWithCopyWarning`.\n",
        "\n",
        "\n",
        "Explicit indexes, used judiciously, enhance clarity, performance, and expressiveness for time-series, panel, and hierarchical data. Misapplied, they introduce hidden traps. Cultivate the habit of making your indexing intentions explicit, and you will write code that is both faster and easier to reason about.\n"
      ]
    },
    {
      "cell_type": "code",
      "execution_count": 58,
      "id": "57ffe338",
      "metadata": {},
      "outputs": [],
      "source": [
        "temperatures = pd.read_csv(\"data/temperatures.csv\")"
      ]
    },
    {
      "cell_type": "code",
      "execution_count": 59,
      "id": "64b7b082",
      "metadata": {},
      "outputs": [
        {
          "data": {
            "application/vnd.microsoft.datawrangler.viewer.v0+json": {
              "columns": [
                {
                  "name": "index",
                  "rawType": "int64",
                  "type": "integer"
                },
                {
                  "name": "Unnamed: 0",
                  "rawType": "int64",
                  "type": "integer"
                },
                {
                  "name": "date",
                  "rawType": "object",
                  "type": "string"
                },
                {
                  "name": "city",
                  "rawType": "object",
                  "type": "string"
                },
                {
                  "name": "country",
                  "rawType": "object",
                  "type": "string"
                },
                {
                  "name": "avg_temp_c",
                  "rawType": "float64",
                  "type": "float"
                }
              ],
              "ref": "548a2aa4-54f0-4079-8ef3-12d73dd4c77c",
              "rows": [
                [
                  "0",
                  "0",
                  "2000-01-01",
                  "Abidjan",
                  "Côte D'Ivoire",
                  "27.29300000000001"
                ],
                [
                  "1",
                  "1",
                  "2000-02-01",
                  "Abidjan",
                  "Côte D'Ivoire",
                  "27.685"
                ],
                [
                  "2",
                  "2",
                  "2000-03-01",
                  "Abidjan",
                  "Côte D'Ivoire",
                  "29.061"
                ],
                [
                  "3",
                  "3",
                  "2000-04-01",
                  "Abidjan",
                  "Côte D'Ivoire",
                  "28.162"
                ],
                [
                  "4",
                  "4",
                  "2000-05-01",
                  "Abidjan",
                  "Côte D'Ivoire",
                  "27.547"
                ]
              ],
              "shape": {
                "columns": 5,
                "rows": 5
              }
            },
            "text/html": [
              "<div>\n",
              "<style scoped>\n",
              "    .dataframe tbody tr th:only-of-type {\n",
              "        vertical-align: middle;\n",
              "    }\n",
              "\n",
              "    .dataframe tbody tr th {\n",
              "        vertical-align: top;\n",
              "    }\n",
              "\n",
              "    .dataframe thead th {\n",
              "        text-align: right;\n",
              "    }\n",
              "</style>\n",
              "<table border=\"1\" class=\"dataframe\">\n",
              "  <thead>\n",
              "    <tr style=\"text-align: right;\">\n",
              "      <th></th>\n",
              "      <th>Unnamed: 0</th>\n",
              "      <th>date</th>\n",
              "      <th>city</th>\n",
              "      <th>country</th>\n",
              "      <th>avg_temp_c</th>\n",
              "    </tr>\n",
              "  </thead>\n",
              "  <tbody>\n",
              "    <tr>\n",
              "      <th>0</th>\n",
              "      <td>0</td>\n",
              "      <td>2000-01-01</td>\n",
              "      <td>Abidjan</td>\n",
              "      <td>Côte D'Ivoire</td>\n",
              "      <td>27.293</td>\n",
              "    </tr>\n",
              "    <tr>\n",
              "      <th>1</th>\n",
              "      <td>1</td>\n",
              "      <td>2000-02-01</td>\n",
              "      <td>Abidjan</td>\n",
              "      <td>Côte D'Ivoire</td>\n",
              "      <td>27.685</td>\n",
              "    </tr>\n",
              "    <tr>\n",
              "      <th>2</th>\n",
              "      <td>2</td>\n",
              "      <td>2000-03-01</td>\n",
              "      <td>Abidjan</td>\n",
              "      <td>Côte D'Ivoire</td>\n",
              "      <td>29.061</td>\n",
              "    </tr>\n",
              "    <tr>\n",
              "      <th>3</th>\n",
              "      <td>3</td>\n",
              "      <td>2000-04-01</td>\n",
              "      <td>Abidjan</td>\n",
              "      <td>Côte D'Ivoire</td>\n",
              "      <td>28.162</td>\n",
              "    </tr>\n",
              "    <tr>\n",
              "      <th>4</th>\n",
              "      <td>4</td>\n",
              "      <td>2000-05-01</td>\n",
              "      <td>Abidjan</td>\n",
              "      <td>Côte D'Ivoire</td>\n",
              "      <td>27.547</td>\n",
              "    </tr>\n",
              "  </tbody>\n",
              "</table>\n",
              "</div>"
            ],
            "text/plain": [
              "   Unnamed: 0        date     city        country  avg_temp_c\n",
              "0           0  2000-01-01  Abidjan  Côte D'Ivoire      27.293\n",
              "1           1  2000-02-01  Abidjan  Côte D'Ivoire      27.685\n",
              "2           2  2000-03-01  Abidjan  Côte D'Ivoire      29.061\n",
              "3           3  2000-04-01  Abidjan  Côte D'Ivoire      28.162\n",
              "4           4  2000-05-01  Abidjan  Côte D'Ivoire      27.547"
            ]
          },
          "execution_count": 59,
          "metadata": {},
          "output_type": "execute_result"
        }
      ],
      "source": [
        "# Look at temperatures.\n",
        "temperatures.head()"
      ]
    },
    {
      "cell_type": "code",
      "execution_count": 61,
      "id": "a4a4df81",
      "metadata": {},
      "outputs": [
        {
          "name": "stdout",
          "output_type": "stream",
          "text": [
            "         Unnamed: 0        date        country  avg_temp_c\n",
            "city                                                      \n",
            "Abidjan           0  2000-01-01  Côte D'Ivoire      27.293\n",
            "Abidjan           1  2000-02-01  Côte D'Ivoire      27.685\n",
            "Abidjan           2  2000-03-01  Côte D'Ivoire      29.061\n",
            "Abidjan           3  2000-04-01  Côte D'Ivoire      28.162\n",
            "Abidjan           4  2000-05-01  Côte D'Ivoire      27.547\n"
          ]
        }
      ],
      "source": [
        "# Set the index of temperatures to city\n",
        "temperatures_ind = temperatures.set_index(\"city\")\n",
        "# Look at temperatures_ind\n",
        "print(temperatures_ind.head())"
      ]
    },
    {
      "cell_type": "code",
      "execution_count": 63,
      "id": "fc2e8c76",
      "metadata": {},
      "outputs": [
        {
          "data": {
            "application/vnd.microsoft.datawrangler.viewer.v0+json": {
              "columns": [
                {
                  "name": "index",
                  "rawType": "int64",
                  "type": "integer"
                },
                {
                  "name": "city",
                  "rawType": "object",
                  "type": "string"
                },
                {
                  "name": "Unnamed: 0",
                  "rawType": "int64",
                  "type": "integer"
                },
                {
                  "name": "date",
                  "rawType": "object",
                  "type": "string"
                },
                {
                  "name": "country",
                  "rawType": "object",
                  "type": "string"
                },
                {
                  "name": "avg_temp_c",
                  "rawType": "float64",
                  "type": "float"
                }
              ],
              "ref": "93e6a994-56c3-4ea8-8cd4-0852496c1273",
              "rows": [
                [
                  "0",
                  "Abidjan",
                  "0",
                  "2000-01-01",
                  "Côte D'Ivoire",
                  "27.29300000000001"
                ],
                [
                  "1",
                  "Abidjan",
                  "1",
                  "2000-02-01",
                  "Côte D'Ivoire",
                  "27.685"
                ],
                [
                  "2",
                  "Abidjan",
                  "2",
                  "2000-03-01",
                  "Côte D'Ivoire",
                  "29.061"
                ],
                [
                  "3",
                  "Abidjan",
                  "3",
                  "2000-04-01",
                  "Côte D'Ivoire",
                  "28.162"
                ],
                [
                  "4",
                  "Abidjan",
                  "4",
                  "2000-05-01",
                  "Côte D'Ivoire",
                  "27.547"
                ],
                [
                  "5",
                  "Abidjan",
                  "5",
                  "2000-06-01",
                  "Côte D'Ivoire",
                  "25.812"
                ],
                [
                  "6",
                  "Abidjan",
                  "6",
                  "2000-07-01",
                  "Côte D'Ivoire",
                  "24.87"
                ],
                [
                  "7",
                  "Abidjan",
                  "7",
                  "2000-08-01",
                  "Côte D'Ivoire",
                  "24.884"
                ],
                [
                  "8",
                  "Abidjan",
                  "8",
                  "2000-09-01",
                  "Côte D'Ivoire",
                  "25.405"
                ],
                [
                  "9",
                  "Abidjan",
                  "9",
                  "2000-10-01",
                  "Côte D'Ivoire",
                  "26.074"
                ],
                [
                  "10",
                  "Abidjan",
                  "10",
                  "2000-11-01",
                  "Côte D'Ivoire",
                  "27.315"
                ],
                [
                  "11",
                  "Abidjan",
                  "11",
                  "2000-12-01",
                  "Côte D'Ivoire",
                  "26.929"
                ],
                [
                  "12",
                  "Abidjan",
                  "12",
                  "2001-01-01",
                  "Côte D'Ivoire",
                  "26.92"
                ],
                [
                  "13",
                  "Abidjan",
                  "13",
                  "2001-02-01",
                  "Côte D'Ivoire",
                  "28.234"
                ],
                [
                  "14",
                  "Abidjan",
                  "14",
                  "2001-03-01",
                  "Côte D'Ivoire",
                  "28.706"
                ],
                [
                  "15",
                  "Abidjan",
                  "15",
                  "2001-04-01",
                  "Côte D'Ivoire",
                  "27.702"
                ],
                [
                  "16",
                  "Abidjan",
                  "16",
                  "2001-05-01",
                  "Côte D'Ivoire",
                  "27.653"
                ],
                [
                  "17",
                  "Abidjan",
                  "17",
                  "2001-06-01",
                  "Côte D'Ivoire",
                  "25.94"
                ],
                [
                  "18",
                  "Abidjan",
                  "18",
                  "2001-07-01",
                  "Côte D'Ivoire",
                  "24.841"
                ],
                [
                  "19",
                  "Abidjan",
                  "19",
                  "2001-08-01",
                  "Côte D'Ivoire",
                  "24.28"
                ],
                [
                  "20",
                  "Abidjan",
                  "20",
                  "2001-09-01",
                  "Côte D'Ivoire",
                  "24.797"
                ],
                [
                  "21",
                  "Abidjan",
                  "21",
                  "2001-10-01",
                  "Côte D'Ivoire",
                  "26.278"
                ],
                [
                  "22",
                  "Abidjan",
                  "22",
                  "2001-11-01",
                  "Côte D'Ivoire",
                  "27.374"
                ],
                [
                  "23",
                  "Abidjan",
                  "23",
                  "2001-12-01",
                  "Côte D'Ivoire",
                  "27.59800000000001"
                ],
                [
                  "24",
                  "Abidjan",
                  "24",
                  "2002-01-01",
                  "Côte D'Ivoire",
                  "27.192"
                ],
                [
                  "25",
                  "Abidjan",
                  "25",
                  "2002-02-01",
                  "Côte D'Ivoire",
                  "28.796"
                ],
                [
                  "26",
                  "Abidjan",
                  "26",
                  "2002-03-01",
                  "Côte D'Ivoire",
                  "28.564"
                ],
                [
                  "27",
                  "Abidjan",
                  "27",
                  "2002-04-01",
                  "Côte D'Ivoire",
                  "28.50800000000001"
                ],
                [
                  "28",
                  "Abidjan",
                  "28",
                  "2002-05-01",
                  "Côte D'Ivoire",
                  "27.721"
                ],
                [
                  "29",
                  "Abidjan",
                  "29",
                  "2002-06-01",
                  "Côte D'Ivoire",
                  "25.972"
                ],
                [
                  "30",
                  "Abidjan",
                  "30",
                  "2002-07-01",
                  "Côte D'Ivoire",
                  "25.054"
                ],
                [
                  "31",
                  "Abidjan",
                  "31",
                  "2002-08-01",
                  "Côte D'Ivoire",
                  "24.58"
                ],
                [
                  "32",
                  "Abidjan",
                  "32",
                  "2002-09-01",
                  "Côte D'Ivoire",
                  "25.26"
                ],
                [
                  "33",
                  "Abidjan",
                  "33",
                  "2002-10-01",
                  "Côte D'Ivoire",
                  "26.076"
                ],
                [
                  "34",
                  "Abidjan",
                  "34",
                  "2002-11-01",
                  "Côte D'Ivoire",
                  "27.282"
                ],
                [
                  "35",
                  "Abidjan",
                  "35",
                  "2002-12-01",
                  "Côte D'Ivoire",
                  "27.087"
                ],
                [
                  "36",
                  "Abidjan",
                  "36",
                  "2003-01-01",
                  "Côte D'Ivoire",
                  "27.59"
                ],
                [
                  "37",
                  "Abidjan",
                  "37",
                  "2003-02-01",
                  "Côte D'Ivoire",
                  "28.863000000000003"
                ],
                [
                  "38",
                  "Abidjan",
                  "38",
                  "2003-03-01",
                  "Côte D'Ivoire",
                  "28.98"
                ],
                [
                  "39",
                  "Abidjan",
                  "39",
                  "2003-04-01",
                  "Côte D'Ivoire",
                  "28.169"
                ],
                [
                  "40",
                  "Abidjan",
                  "40",
                  "2003-05-01",
                  "Côte D'Ivoire",
                  "27.91"
                ],
                [
                  "41",
                  "Abidjan",
                  "41",
                  "2003-06-01",
                  "Côte D'Ivoire",
                  "25.993"
                ],
                [
                  "42",
                  "Abidjan",
                  "42",
                  "2003-07-01",
                  "Côte D'Ivoire",
                  "25.221"
                ],
                [
                  "43",
                  "Abidjan",
                  "43",
                  "2003-08-01",
                  "Côte D'Ivoire",
                  "24.88"
                ],
                [
                  "44",
                  "Abidjan",
                  "44",
                  "2003-09-01",
                  "Côte D'Ivoire",
                  "25.737"
                ],
                [
                  "45",
                  "Abidjan",
                  "45",
                  "2003-10-01",
                  "Côte D'Ivoire",
                  "26.69400000000001"
                ],
                [
                  "46",
                  "Abidjan",
                  "46",
                  "2003-11-01",
                  "Côte D'Ivoire",
                  "27.479"
                ],
                [
                  "47",
                  "Abidjan",
                  "47",
                  "2003-12-01",
                  "Côte D'Ivoire",
                  "27.092"
                ],
                [
                  "48",
                  "Abidjan",
                  "48",
                  "2004-01-01",
                  "Côte D'Ivoire",
                  "27.728"
                ],
                [
                  "49",
                  "Abidjan",
                  "49",
                  "2004-02-01",
                  "Côte D'Ivoire",
                  "28.705"
                ]
              ],
              "shape": {
                "columns": 5,
                "rows": 16500
              }
            },
            "text/html": [
              "<div>\n",
              "<style scoped>\n",
              "    .dataframe tbody tr th:only-of-type {\n",
              "        vertical-align: middle;\n",
              "    }\n",
              "\n",
              "    .dataframe tbody tr th {\n",
              "        vertical-align: top;\n",
              "    }\n",
              "\n",
              "    .dataframe thead th {\n",
              "        text-align: right;\n",
              "    }\n",
              "</style>\n",
              "<table border=\"1\" class=\"dataframe\">\n",
              "  <thead>\n",
              "    <tr style=\"text-align: right;\">\n",
              "      <th></th>\n",
              "      <th>city</th>\n",
              "      <th>Unnamed: 0</th>\n",
              "      <th>date</th>\n",
              "      <th>country</th>\n",
              "      <th>avg_temp_c</th>\n",
              "    </tr>\n",
              "  </thead>\n",
              "  <tbody>\n",
              "    <tr>\n",
              "      <th>0</th>\n",
              "      <td>Abidjan</td>\n",
              "      <td>0</td>\n",
              "      <td>2000-01-01</td>\n",
              "      <td>Côte D'Ivoire</td>\n",
              "      <td>27.293</td>\n",
              "    </tr>\n",
              "    <tr>\n",
              "      <th>1</th>\n",
              "      <td>Abidjan</td>\n",
              "      <td>1</td>\n",
              "      <td>2000-02-01</td>\n",
              "      <td>Côte D'Ivoire</td>\n",
              "      <td>27.685</td>\n",
              "    </tr>\n",
              "    <tr>\n",
              "      <th>2</th>\n",
              "      <td>Abidjan</td>\n",
              "      <td>2</td>\n",
              "      <td>2000-03-01</td>\n",
              "      <td>Côte D'Ivoire</td>\n",
              "      <td>29.061</td>\n",
              "    </tr>\n",
              "    <tr>\n",
              "      <th>3</th>\n",
              "      <td>Abidjan</td>\n",
              "      <td>3</td>\n",
              "      <td>2000-04-01</td>\n",
              "      <td>Côte D'Ivoire</td>\n",
              "      <td>28.162</td>\n",
              "    </tr>\n",
              "    <tr>\n",
              "      <th>4</th>\n",
              "      <td>Abidjan</td>\n",
              "      <td>4</td>\n",
              "      <td>2000-05-01</td>\n",
              "      <td>Côte D'Ivoire</td>\n",
              "      <td>27.547</td>\n",
              "    </tr>\n",
              "    <tr>\n",
              "      <th>...</th>\n",
              "      <td>...</td>\n",
              "      <td>...</td>\n",
              "      <td>...</td>\n",
              "      <td>...</td>\n",
              "      <td>...</td>\n",
              "    </tr>\n",
              "    <tr>\n",
              "      <th>16495</th>\n",
              "      <td>Xian</td>\n",
              "      <td>16495</td>\n",
              "      <td>2013-05-01</td>\n",
              "      <td>China</td>\n",
              "      <td>18.979</td>\n",
              "    </tr>\n",
              "    <tr>\n",
              "      <th>16496</th>\n",
              "      <td>Xian</td>\n",
              "      <td>16496</td>\n",
              "      <td>2013-06-01</td>\n",
              "      <td>China</td>\n",
              "      <td>23.522</td>\n",
              "    </tr>\n",
              "    <tr>\n",
              "      <th>16497</th>\n",
              "      <td>Xian</td>\n",
              "      <td>16497</td>\n",
              "      <td>2013-07-01</td>\n",
              "      <td>China</td>\n",
              "      <td>25.251</td>\n",
              "    </tr>\n",
              "    <tr>\n",
              "      <th>16498</th>\n",
              "      <td>Xian</td>\n",
              "      <td>16498</td>\n",
              "      <td>2013-08-01</td>\n",
              "      <td>China</td>\n",
              "      <td>24.528</td>\n",
              "    </tr>\n",
              "    <tr>\n",
              "      <th>16499</th>\n",
              "      <td>Xian</td>\n",
              "      <td>16499</td>\n",
              "      <td>2013-09-01</td>\n",
              "      <td>China</td>\n",
              "      <td>NaN</td>\n",
              "    </tr>\n",
              "  </tbody>\n",
              "</table>\n",
              "<p>16500 rows × 5 columns</p>\n",
              "</div>"
            ],
            "text/plain": [
              "          city  Unnamed: 0        date        country  avg_temp_c\n",
              "0      Abidjan           0  2000-01-01  Côte D'Ivoire      27.293\n",
              "1      Abidjan           1  2000-02-01  Côte D'Ivoire      27.685\n",
              "2      Abidjan           2  2000-03-01  Côte D'Ivoire      29.061\n",
              "3      Abidjan           3  2000-04-01  Côte D'Ivoire      28.162\n",
              "4      Abidjan           4  2000-05-01  Côte D'Ivoire      27.547\n",
              "...        ...         ...         ...            ...         ...\n",
              "16495     Xian       16495  2013-05-01          China      18.979\n",
              "16496     Xian       16496  2013-06-01          China      23.522\n",
              "16497     Xian       16497  2013-07-01          China      25.251\n",
              "16498     Xian       16498  2013-08-01          China      24.528\n",
              "16499     Xian       16499  2013-09-01          China         NaN\n",
              "\n",
              "[16500 rows x 5 columns]"
            ]
          },
          "metadata": {},
          "output_type": "display_data"
        }
      ],
      "source": [
        "# Reset the temperatures_ind index, keeping its contents\n",
        "display(temperatures_ind.reset_index())"
      ]
    },
    {
      "cell_type": "code",
      "execution_count": 64,
      "id": "5d5d1aa8",
      "metadata": {},
      "outputs": [
        {
          "data": {
            "application/vnd.microsoft.datawrangler.viewer.v0+json": {
              "columns": [
                {
                  "name": "index",
                  "rawType": "int64",
                  "type": "integer"
                },
                {
                  "name": "Unnamed: 0",
                  "rawType": "int64",
                  "type": "integer"
                },
                {
                  "name": "date",
                  "rawType": "object",
                  "type": "string"
                },
                {
                  "name": "country",
                  "rawType": "object",
                  "type": "string"
                },
                {
                  "name": "avg_temp_c",
                  "rawType": "float64",
                  "type": "float"
                }
              ],
              "ref": "6e3490d0-ef3b-4107-b575-c41d5d7b7bed",
              "rows": [
                [
                  "0",
                  "0",
                  "2000-01-01",
                  "Côte D'Ivoire",
                  "27.29300000000001"
                ],
                [
                  "1",
                  "1",
                  "2000-02-01",
                  "Côte D'Ivoire",
                  "27.685"
                ],
                [
                  "2",
                  "2",
                  "2000-03-01",
                  "Côte D'Ivoire",
                  "29.061"
                ],
                [
                  "3",
                  "3",
                  "2000-04-01",
                  "Côte D'Ivoire",
                  "28.162"
                ],
                [
                  "4",
                  "4",
                  "2000-05-01",
                  "Côte D'Ivoire",
                  "27.547"
                ],
                [
                  "5",
                  "5",
                  "2000-06-01",
                  "Côte D'Ivoire",
                  "25.812"
                ],
                [
                  "6",
                  "6",
                  "2000-07-01",
                  "Côte D'Ivoire",
                  "24.87"
                ],
                [
                  "7",
                  "7",
                  "2000-08-01",
                  "Côte D'Ivoire",
                  "24.884"
                ],
                [
                  "8",
                  "8",
                  "2000-09-01",
                  "Côte D'Ivoire",
                  "25.405"
                ],
                [
                  "9",
                  "9",
                  "2000-10-01",
                  "Côte D'Ivoire",
                  "26.074"
                ],
                [
                  "10",
                  "10",
                  "2000-11-01",
                  "Côte D'Ivoire",
                  "27.315"
                ],
                [
                  "11",
                  "11",
                  "2000-12-01",
                  "Côte D'Ivoire",
                  "26.929"
                ],
                [
                  "12",
                  "12",
                  "2001-01-01",
                  "Côte D'Ivoire",
                  "26.92"
                ],
                [
                  "13",
                  "13",
                  "2001-02-01",
                  "Côte D'Ivoire",
                  "28.234"
                ],
                [
                  "14",
                  "14",
                  "2001-03-01",
                  "Côte D'Ivoire",
                  "28.706"
                ],
                [
                  "15",
                  "15",
                  "2001-04-01",
                  "Côte D'Ivoire",
                  "27.702"
                ],
                [
                  "16",
                  "16",
                  "2001-05-01",
                  "Côte D'Ivoire",
                  "27.653"
                ],
                [
                  "17",
                  "17",
                  "2001-06-01",
                  "Côte D'Ivoire",
                  "25.94"
                ],
                [
                  "18",
                  "18",
                  "2001-07-01",
                  "Côte D'Ivoire",
                  "24.841"
                ],
                [
                  "19",
                  "19",
                  "2001-08-01",
                  "Côte D'Ivoire",
                  "24.28"
                ],
                [
                  "20",
                  "20",
                  "2001-09-01",
                  "Côte D'Ivoire",
                  "24.797"
                ],
                [
                  "21",
                  "21",
                  "2001-10-01",
                  "Côte D'Ivoire",
                  "26.278"
                ],
                [
                  "22",
                  "22",
                  "2001-11-01",
                  "Côte D'Ivoire",
                  "27.374"
                ],
                [
                  "23",
                  "23",
                  "2001-12-01",
                  "Côte D'Ivoire",
                  "27.59800000000001"
                ],
                [
                  "24",
                  "24",
                  "2002-01-01",
                  "Côte D'Ivoire",
                  "27.192"
                ],
                [
                  "25",
                  "25",
                  "2002-02-01",
                  "Côte D'Ivoire",
                  "28.796"
                ],
                [
                  "26",
                  "26",
                  "2002-03-01",
                  "Côte D'Ivoire",
                  "28.564"
                ],
                [
                  "27",
                  "27",
                  "2002-04-01",
                  "Côte D'Ivoire",
                  "28.50800000000001"
                ],
                [
                  "28",
                  "28",
                  "2002-05-01",
                  "Côte D'Ivoire",
                  "27.721"
                ],
                [
                  "29",
                  "29",
                  "2002-06-01",
                  "Côte D'Ivoire",
                  "25.972"
                ],
                [
                  "30",
                  "30",
                  "2002-07-01",
                  "Côte D'Ivoire",
                  "25.054"
                ],
                [
                  "31",
                  "31",
                  "2002-08-01",
                  "Côte D'Ivoire",
                  "24.58"
                ],
                [
                  "32",
                  "32",
                  "2002-09-01",
                  "Côte D'Ivoire",
                  "25.26"
                ],
                [
                  "33",
                  "33",
                  "2002-10-01",
                  "Côte D'Ivoire",
                  "26.076"
                ],
                [
                  "34",
                  "34",
                  "2002-11-01",
                  "Côte D'Ivoire",
                  "27.282"
                ],
                [
                  "35",
                  "35",
                  "2002-12-01",
                  "Côte D'Ivoire",
                  "27.087"
                ],
                [
                  "36",
                  "36",
                  "2003-01-01",
                  "Côte D'Ivoire",
                  "27.59"
                ],
                [
                  "37",
                  "37",
                  "2003-02-01",
                  "Côte D'Ivoire",
                  "28.863000000000003"
                ],
                [
                  "38",
                  "38",
                  "2003-03-01",
                  "Côte D'Ivoire",
                  "28.98"
                ],
                [
                  "39",
                  "39",
                  "2003-04-01",
                  "Côte D'Ivoire",
                  "28.169"
                ],
                [
                  "40",
                  "40",
                  "2003-05-01",
                  "Côte D'Ivoire",
                  "27.91"
                ],
                [
                  "41",
                  "41",
                  "2003-06-01",
                  "Côte D'Ivoire",
                  "25.993"
                ],
                [
                  "42",
                  "42",
                  "2003-07-01",
                  "Côte D'Ivoire",
                  "25.221"
                ],
                [
                  "43",
                  "43",
                  "2003-08-01",
                  "Côte D'Ivoire",
                  "24.88"
                ],
                [
                  "44",
                  "44",
                  "2003-09-01",
                  "Côte D'Ivoire",
                  "25.737"
                ],
                [
                  "45",
                  "45",
                  "2003-10-01",
                  "Côte D'Ivoire",
                  "26.69400000000001"
                ],
                [
                  "46",
                  "46",
                  "2003-11-01",
                  "Côte D'Ivoire",
                  "27.479"
                ],
                [
                  "47",
                  "47",
                  "2003-12-01",
                  "Côte D'Ivoire",
                  "27.092"
                ],
                [
                  "48",
                  "48",
                  "2004-01-01",
                  "Côte D'Ivoire",
                  "27.728"
                ],
                [
                  "49",
                  "49",
                  "2004-02-01",
                  "Côte D'Ivoire",
                  "28.705"
                ]
              ],
              "shape": {
                "columns": 4,
                "rows": 16500
              }
            },
            "text/html": [
              "<div>\n",
              "<style scoped>\n",
              "    .dataframe tbody tr th:only-of-type {\n",
              "        vertical-align: middle;\n",
              "    }\n",
              "\n",
              "    .dataframe tbody tr th {\n",
              "        vertical-align: top;\n",
              "    }\n",
              "\n",
              "    .dataframe thead th {\n",
              "        text-align: right;\n",
              "    }\n",
              "</style>\n",
              "<table border=\"1\" class=\"dataframe\">\n",
              "  <thead>\n",
              "    <tr style=\"text-align: right;\">\n",
              "      <th></th>\n",
              "      <th>Unnamed: 0</th>\n",
              "      <th>date</th>\n",
              "      <th>country</th>\n",
              "      <th>avg_temp_c</th>\n",
              "    </tr>\n",
              "  </thead>\n",
              "  <tbody>\n",
              "    <tr>\n",
              "      <th>0</th>\n",
              "      <td>0</td>\n",
              "      <td>2000-01-01</td>\n",
              "      <td>Côte D'Ivoire</td>\n",
              "      <td>27.293</td>\n",
              "    </tr>\n",
              "    <tr>\n",
              "      <th>1</th>\n",
              "      <td>1</td>\n",
              "      <td>2000-02-01</td>\n",
              "      <td>Côte D'Ivoire</td>\n",
              "      <td>27.685</td>\n",
              "    </tr>\n",
              "    <tr>\n",
              "      <th>2</th>\n",
              "      <td>2</td>\n",
              "      <td>2000-03-01</td>\n",
              "      <td>Côte D'Ivoire</td>\n",
              "      <td>29.061</td>\n",
              "    </tr>\n",
              "    <tr>\n",
              "      <th>3</th>\n",
              "      <td>3</td>\n",
              "      <td>2000-04-01</td>\n",
              "      <td>Côte D'Ivoire</td>\n",
              "      <td>28.162</td>\n",
              "    </tr>\n",
              "    <tr>\n",
              "      <th>4</th>\n",
              "      <td>4</td>\n",
              "      <td>2000-05-01</td>\n",
              "      <td>Côte D'Ivoire</td>\n",
              "      <td>27.547</td>\n",
              "    </tr>\n",
              "    <tr>\n",
              "      <th>...</th>\n",
              "      <td>...</td>\n",
              "      <td>...</td>\n",
              "      <td>...</td>\n",
              "      <td>...</td>\n",
              "    </tr>\n",
              "    <tr>\n",
              "      <th>16495</th>\n",
              "      <td>16495</td>\n",
              "      <td>2013-05-01</td>\n",
              "      <td>China</td>\n",
              "      <td>18.979</td>\n",
              "    </tr>\n",
              "    <tr>\n",
              "      <th>16496</th>\n",
              "      <td>16496</td>\n",
              "      <td>2013-06-01</td>\n",
              "      <td>China</td>\n",
              "      <td>23.522</td>\n",
              "    </tr>\n",
              "    <tr>\n",
              "      <th>16497</th>\n",
              "      <td>16497</td>\n",
              "      <td>2013-07-01</td>\n",
              "      <td>China</td>\n",
              "      <td>25.251</td>\n",
              "    </tr>\n",
              "    <tr>\n",
              "      <th>16498</th>\n",
              "      <td>16498</td>\n",
              "      <td>2013-08-01</td>\n",
              "      <td>China</td>\n",
              "      <td>24.528</td>\n",
              "    </tr>\n",
              "    <tr>\n",
              "      <th>16499</th>\n",
              "      <td>16499</td>\n",
              "      <td>2013-09-01</td>\n",
              "      <td>China</td>\n",
              "      <td>NaN</td>\n",
              "    </tr>\n",
              "  </tbody>\n",
              "</table>\n",
              "<p>16500 rows × 4 columns</p>\n",
              "</div>"
            ],
            "text/plain": [
              "       Unnamed: 0        date        country  avg_temp_c\n",
              "0               0  2000-01-01  Côte D'Ivoire      27.293\n",
              "1               1  2000-02-01  Côte D'Ivoire      27.685\n",
              "2               2  2000-03-01  Côte D'Ivoire      29.061\n",
              "3               3  2000-04-01  Côte D'Ivoire      28.162\n",
              "4               4  2000-05-01  Côte D'Ivoire      27.547\n",
              "...           ...         ...            ...         ...\n",
              "16495       16495  2013-05-01          China      18.979\n",
              "16496       16496  2013-06-01          China      23.522\n",
              "16497       16497  2013-07-01          China      25.251\n",
              "16498       16498  2013-08-01          China      24.528\n",
              "16499       16499  2013-09-01          China         NaN\n",
              "\n",
              "[16500 rows x 4 columns]"
            ]
          },
          "metadata": {},
          "output_type": "display_data"
        }
      ],
      "source": [
        "# Reset the temperatures_ind index, dropping its contents\n",
        "display(temperatures_ind.reset_index(drop=True))"
      ]
    },
    {
      "cell_type": "code",
      "execution_count": 72,
      "id": "9c30fb4c",
      "metadata": {},
      "outputs": [
        {
          "name": "stdout",
          "output_type": "stream",
          "text": [
            "       Unnamed: 0        date              city country  avg_temp_c\n",
            "10725       10725  2000-01-01            Moscow  Russia      -7.313\n",
            "10726       10726  2000-02-01            Moscow  Russia      -3.551\n",
            "10727       10727  2000-03-01            Moscow  Russia      -1.661\n",
            "10728       10728  2000-04-01            Moscow  Russia      10.096\n",
            "10729       10729  2000-05-01            Moscow  Russia      10.357\n",
            "...           ...         ...               ...     ...         ...\n",
            "13360       13360  2013-05-01  Saint Petersburg  Russia      12.355\n",
            "13361       13361  2013-06-01  Saint Petersburg  Russia      17.185\n",
            "13362       13362  2013-07-01  Saint Petersburg  Russia      17.234\n",
            "13363       13363  2013-08-01  Saint Petersburg  Russia      17.153\n",
            "13364       13364  2013-09-01  Saint Petersburg  Russia         NaN\n",
            "\n",
            "[330 rows x 5 columns]\n"
          ]
        }
      ],
      "source": [
        "# Create a list called cities that contains \"Moscow\" and \"Saint Petersburg\".\n",
        "cities = [\"Moscow\", \"Saint Petersburg\"]\n",
        "# Use [] subsetting to filter temperatures for rows where the city column takes a value in the cities list.\n",
        "print(temperatures[temperatures[\"city\"].isin(cities)])"
      ]
    },
    {
      "cell_type": "code",
      "execution_count": 71,
      "id": "73d8f287",
      "metadata": {},
      "outputs": [
        {
          "name": "stdout",
          "output_type": "stream",
          "text": [
            "                  Unnamed: 0        date country  avg_temp_c\n",
            "city                                                        \n",
            "Moscow                 10725  2000-01-01  Russia      -7.313\n",
            "Moscow                 10726  2000-02-01  Russia      -3.551\n",
            "Moscow                 10727  2000-03-01  Russia      -1.661\n",
            "Moscow                 10728  2000-04-01  Russia      10.096\n",
            "Moscow                 10729  2000-05-01  Russia      10.357\n",
            "...                      ...         ...     ...         ...\n",
            "Saint Petersburg       13360  2013-05-01  Russia      12.355\n",
            "Saint Petersburg       13361  2013-06-01  Russia      17.185\n",
            "Saint Petersburg       13362  2013-07-01  Russia      17.234\n",
            "Saint Petersburg       13363  2013-08-01  Russia      17.153\n",
            "Saint Petersburg       13364  2013-09-01  Russia         NaN\n",
            "\n",
            "[330 rows x 4 columns]\n"
          ]
        }
      ],
      "source": [
        "# Use .loc[] subsetting to filter temperatures_ind for rows where the city is in the cities list.\n",
        "print(temperatures_ind.loc[cities])"
      ]
    },
    {
      "cell_type": "code",
      "execution_count": 79,
      "id": "315d36d6",
      "metadata": {},
      "outputs": [
        {
          "data": {
            "application/vnd.microsoft.datawrangler.viewer.v0+json": {
              "columns": [
                {
                  "name": "('country', 'city')",
                  "rawType": "object",
                  "type": "unknown"
                },
                {
                  "name": "Unnamed: 0",
                  "rawType": "int64",
                  "type": "integer"
                },
                {
                  "name": "date",
                  "rawType": "object",
                  "type": "string"
                },
                {
                  "name": "avg_temp_c",
                  "rawType": "float64",
                  "type": "float"
                }
              ],
              "ref": "3312b9df-8413-4784-a18e-daf4c679092a",
              "rows": [
                [
                  "('Brazil', 'Rio De Janeiro')",
                  "12540",
                  "2000-01-01",
                  "25.974"
                ],
                [
                  "('Brazil', 'Rio De Janeiro')",
                  "12541",
                  "2000-02-01",
                  "26.699"
                ],
                [
                  "('Brazil', 'Rio De Janeiro')",
                  "12542",
                  "2000-03-01",
                  "26.27"
                ],
                [
                  "('Brazil', 'Rio De Janeiro')",
                  "12543",
                  "2000-04-01",
                  "25.75"
                ],
                [
                  "('Brazil', 'Rio De Janeiro')",
                  "12544",
                  "2000-05-01",
                  "24.356"
                ],
                [
                  "('Brazil', 'Rio De Janeiro')",
                  "12545",
                  "2000-06-01",
                  "24.059"
                ],
                [
                  "('Brazil', 'Rio De Janeiro')",
                  "12546",
                  "2000-07-01",
                  "22.049"
                ],
                [
                  "('Brazil', 'Rio De Janeiro')",
                  "12547",
                  "2000-08-01",
                  "22.447"
                ],
                [
                  "('Brazil', 'Rio De Janeiro')",
                  "12548",
                  "2000-09-01",
                  "22.099"
                ],
                [
                  "('Brazil', 'Rio De Janeiro')",
                  "12549",
                  "2000-10-01",
                  "23.844"
                ],
                [
                  "('Brazil', 'Rio De Janeiro')",
                  "12550",
                  "2000-11-01",
                  "23.601"
                ],
                [
                  "('Brazil', 'Rio De Janeiro')",
                  "12551",
                  "2000-12-01",
                  "25.209"
                ],
                [
                  "('Brazil', 'Rio De Janeiro')",
                  "12552",
                  "2001-01-01",
                  "26.852"
                ],
                [
                  "('Brazil', 'Rio De Janeiro')",
                  "12553",
                  "2001-02-01",
                  "27.992"
                ],
                [
                  "('Brazil', 'Rio De Janeiro')",
                  "12554",
                  "2001-03-01",
                  "27.559"
                ],
                [
                  "('Brazil', 'Rio De Janeiro')",
                  "12555",
                  "2001-04-01",
                  "27.281"
                ],
                [
                  "('Brazil', 'Rio De Janeiro')",
                  "12556",
                  "2001-05-01",
                  "24.784"
                ],
                [
                  "('Brazil', 'Rio De Janeiro')",
                  "12557",
                  "2001-06-01",
                  "24.773000000000003"
                ],
                [
                  "('Brazil', 'Rio De Janeiro')",
                  "12558",
                  "2001-07-01",
                  "23.822"
                ],
                [
                  "('Brazil', 'Rio De Janeiro')",
                  "12559",
                  "2001-08-01",
                  "23.59800000000001"
                ],
                [
                  "('Brazil', 'Rio De Janeiro')",
                  "12560",
                  "2001-09-01",
                  "22.41200000000001"
                ],
                [
                  "('Brazil', 'Rio De Janeiro')",
                  "12561",
                  "2001-10-01",
                  "22.259"
                ],
                [
                  "('Brazil', 'Rio De Janeiro')",
                  "12562",
                  "2001-11-01",
                  "23.689"
                ],
                [
                  "('Brazil', 'Rio De Janeiro')",
                  "12563",
                  "2001-12-01",
                  "24.84800000000001"
                ],
                [
                  "('Brazil', 'Rio De Janeiro')",
                  "12564",
                  "2002-01-01",
                  "26.016"
                ],
                [
                  "('Brazil', 'Rio De Janeiro')",
                  "12565",
                  "2002-02-01",
                  "26.14"
                ],
                [
                  "('Brazil', 'Rio De Janeiro')",
                  "12566",
                  "2002-03-01",
                  "27.786"
                ],
                [
                  "('Brazil', 'Rio De Janeiro')",
                  "12567",
                  "2002-04-01",
                  "26.73"
                ],
                [
                  "('Brazil', 'Rio De Janeiro')",
                  "12568",
                  "2002-05-01",
                  "25.657"
                ],
                [
                  "('Brazil', 'Rio De Janeiro')",
                  "12569",
                  "2002-06-01",
                  "25.29300000000001"
                ],
                [
                  "('Brazil', 'Rio De Janeiro')",
                  "12570",
                  "2002-07-01",
                  "23.677"
                ],
                [
                  "('Brazil', 'Rio De Janeiro')",
                  "12571",
                  "2002-08-01",
                  "24.605"
                ],
                [
                  "('Brazil', 'Rio De Janeiro')",
                  "12572",
                  "2002-09-01",
                  "21.845"
                ],
                [
                  "('Brazil', 'Rio De Janeiro')",
                  "12573",
                  "2002-10-01",
                  "24.344"
                ],
                [
                  "('Brazil', 'Rio De Janeiro')",
                  "12574",
                  "2002-11-01",
                  "24.511"
                ],
                [
                  "('Brazil', 'Rio De Janeiro')",
                  "12575",
                  "2002-12-01",
                  "25.516"
                ],
                [
                  "('Brazil', 'Rio De Janeiro')",
                  "12576",
                  "2003-01-01",
                  "26.499"
                ],
                [
                  "('Brazil', 'Rio De Janeiro')",
                  "12577",
                  "2003-02-01",
                  "28.359"
                ],
                [
                  "('Brazil', 'Rio De Janeiro')",
                  "12578",
                  "2003-03-01",
                  "27.262"
                ],
                [
                  "('Brazil', 'Rio De Janeiro')",
                  "12579",
                  "2003-04-01",
                  "26.41800000000001"
                ],
                [
                  "('Brazil', 'Rio De Janeiro')",
                  "12580",
                  "2003-05-01",
                  "24.68"
                ],
                [
                  "('Brazil', 'Rio De Janeiro')",
                  "12581",
                  "2003-06-01",
                  "25.092"
                ],
                [
                  "('Brazil', 'Rio De Janeiro')",
                  "12582",
                  "2003-07-01",
                  "23.82"
                ],
                [
                  "('Brazil', 'Rio De Janeiro')",
                  "12583",
                  "2003-08-01",
                  "22.388"
                ],
                [
                  "('Brazil', 'Rio De Janeiro')",
                  "12584",
                  "2003-09-01",
                  "22.112"
                ],
                [
                  "('Brazil', 'Rio De Janeiro')",
                  "12585",
                  "2003-10-01",
                  "22.725"
                ],
                [
                  "('Brazil', 'Rio De Janeiro')",
                  "12586",
                  "2003-11-01",
                  "24.077"
                ],
                [
                  "('Brazil', 'Rio De Janeiro')",
                  "12587",
                  "2003-12-01",
                  "25.32"
                ],
                [
                  "('Brazil', 'Rio De Janeiro')",
                  "12588",
                  "2004-01-01",
                  "25.435"
                ],
                [
                  "('Brazil', 'Rio De Janeiro')",
                  "12589",
                  "2004-02-01",
                  "26.00500000000001"
                ]
              ],
              "shape": {
                "columns": 3,
                "rows": 330
              }
            },
            "text/html": [
              "<div>\n",
              "<style scoped>\n",
              "    .dataframe tbody tr th:only-of-type {\n",
              "        vertical-align: middle;\n",
              "    }\n",
              "\n",
              "    .dataframe tbody tr th {\n",
              "        vertical-align: top;\n",
              "    }\n",
              "\n",
              "    .dataframe thead th {\n",
              "        text-align: right;\n",
              "    }\n",
              "</style>\n",
              "<table border=\"1\" class=\"dataframe\">\n",
              "  <thead>\n",
              "    <tr style=\"text-align: right;\">\n",
              "      <th></th>\n",
              "      <th></th>\n",
              "      <th>Unnamed: 0</th>\n",
              "      <th>date</th>\n",
              "      <th>avg_temp_c</th>\n",
              "    </tr>\n",
              "    <tr>\n",
              "      <th>country</th>\n",
              "      <th>city</th>\n",
              "      <th></th>\n",
              "      <th></th>\n",
              "      <th></th>\n",
              "    </tr>\n",
              "  </thead>\n",
              "  <tbody>\n",
              "    <tr>\n",
              "      <th rowspan=\"5\" valign=\"top\">Brazil</th>\n",
              "      <th>Rio De Janeiro</th>\n",
              "      <td>12540</td>\n",
              "      <td>2000-01-01</td>\n",
              "      <td>25.974</td>\n",
              "    </tr>\n",
              "    <tr>\n",
              "      <th>Rio De Janeiro</th>\n",
              "      <td>12541</td>\n",
              "      <td>2000-02-01</td>\n",
              "      <td>26.699</td>\n",
              "    </tr>\n",
              "    <tr>\n",
              "      <th>Rio De Janeiro</th>\n",
              "      <td>12542</td>\n",
              "      <td>2000-03-01</td>\n",
              "      <td>26.270</td>\n",
              "    </tr>\n",
              "    <tr>\n",
              "      <th>Rio De Janeiro</th>\n",
              "      <td>12543</td>\n",
              "      <td>2000-04-01</td>\n",
              "      <td>25.750</td>\n",
              "    </tr>\n",
              "    <tr>\n",
              "      <th>Rio De Janeiro</th>\n",
              "      <td>12544</td>\n",
              "      <td>2000-05-01</td>\n",
              "      <td>24.356</td>\n",
              "    </tr>\n",
              "    <tr>\n",
              "      <th>...</th>\n",
              "      <th>...</th>\n",
              "      <td>...</td>\n",
              "      <td>...</td>\n",
              "      <td>...</td>\n",
              "    </tr>\n",
              "    <tr>\n",
              "      <th rowspan=\"5\" valign=\"top\">Pakistan</th>\n",
              "      <th>Lahore</th>\n",
              "      <td>8575</td>\n",
              "      <td>2013-05-01</td>\n",
              "      <td>33.457</td>\n",
              "    </tr>\n",
              "    <tr>\n",
              "      <th>Lahore</th>\n",
              "      <td>8576</td>\n",
              "      <td>2013-06-01</td>\n",
              "      <td>34.456</td>\n",
              "    </tr>\n",
              "    <tr>\n",
              "      <th>Lahore</th>\n",
              "      <td>8577</td>\n",
              "      <td>2013-07-01</td>\n",
              "      <td>33.279</td>\n",
              "    </tr>\n",
              "    <tr>\n",
              "      <th>Lahore</th>\n",
              "      <td>8578</td>\n",
              "      <td>2013-08-01</td>\n",
              "      <td>31.511</td>\n",
              "    </tr>\n",
              "    <tr>\n",
              "      <th>Lahore</th>\n",
              "      <td>8579</td>\n",
              "      <td>2013-09-01</td>\n",
              "      <td>NaN</td>\n",
              "    </tr>\n",
              "  </tbody>\n",
              "</table>\n",
              "<p>330 rows × 3 columns</p>\n",
              "</div>"
            ],
            "text/plain": [
              "                         Unnamed: 0        date  avg_temp_c\n",
              "country  city                                              \n",
              "Brazil   Rio De Janeiro       12540  2000-01-01      25.974\n",
              "         Rio De Janeiro       12541  2000-02-01      26.699\n",
              "         Rio De Janeiro       12542  2000-03-01      26.270\n",
              "         Rio De Janeiro       12543  2000-04-01      25.750\n",
              "         Rio De Janeiro       12544  2000-05-01      24.356\n",
              "...                             ...         ...         ...\n",
              "Pakistan Lahore                8575  2013-05-01      33.457\n",
              "         Lahore                8576  2013-06-01      34.456\n",
              "         Lahore                8577  2013-07-01      33.279\n",
              "         Lahore                8578  2013-08-01      31.511\n",
              "         Lahore                8579  2013-09-01         NaN\n",
              "\n",
              "[330 rows x 3 columns]"
            ]
          },
          "metadata": {},
          "output_type": "display_data"
        }
      ],
      "source": [
        "# Set the index of temperatures to the \"country\" and \"city\" columns, and assign this to temperatures_ind.\n",
        "temperatures_ind = temperatures.set_index([\"country\", \"city\"])\n",
        "# Specify two country/city pairs to keep: \"Brazil\"/\"Rio De Janeiro\" and \"Pakistan\"/\"Lahore\", assigning to rows_to_keep.\n",
        "rows_to_keep = [(\"Brazil\", \"Rio De Janeiro\"), (\"Pakistan\", \"Lahore\")]\n",
        "# Print and subset temperatures_ind for rows_to_keep using .loc[].\n",
        "display(temperatures_ind.loc[rows_to_keep])"
      ]
    },
    {
      "cell_type": "code",
      "execution_count": 83,
      "id": "a7db1ab7",
      "metadata": {},
      "outputs": [
        {
          "data": {
            "application/vnd.microsoft.datawrangler.viewer.v0+json": {
              "columns": [
                {
                  "name": "('country', 'city')",
                  "rawType": "object",
                  "type": "unknown"
                },
                {
                  "name": "Unnamed: 0",
                  "rawType": "int64",
                  "type": "integer"
                },
                {
                  "name": "date",
                  "rawType": "object",
                  "type": "string"
                },
                {
                  "name": "avg_temp_c",
                  "rawType": "float64",
                  "type": "float"
                }
              ],
              "ref": "a04f999f-5d86-43db-ac40-8714a9cce8ec",
              "rows": [
                [
                  "('Afghanistan', 'Kabul')",
                  "7260",
                  "2000-01-01",
                  "3.326"
                ],
                [
                  "('Afghanistan', 'Kabul')",
                  "7261",
                  "2000-02-01",
                  "3.454"
                ],
                [
                  "('Afghanistan', 'Kabul')",
                  "7262",
                  "2000-03-01",
                  "9.612"
                ],
                [
                  "('Afghanistan', 'Kabul')",
                  "7263",
                  "2000-04-01",
                  "17.925"
                ],
                [
                  "('Afghanistan', 'Kabul')",
                  "7264",
                  "2000-05-01",
                  "24.658"
                ],
                [
                  "('Afghanistan', 'Kabul')",
                  "7265",
                  "2000-06-01",
                  "25.582"
                ],
                [
                  "('Afghanistan', 'Kabul')",
                  "7266",
                  "2000-07-01",
                  "26.107"
                ],
                [
                  "('Afghanistan', 'Kabul')",
                  "7267",
                  "2000-08-01",
                  "25.459"
                ],
                [
                  "('Afghanistan', 'Kabul')",
                  "7268",
                  "2000-09-01",
                  "22.116"
                ],
                [
                  "('Afghanistan', 'Kabul')",
                  "7269",
                  "2000-10-01",
                  "16.805999999999994"
                ],
                [
                  "('Afghanistan', 'Kabul')",
                  "7270",
                  "2000-11-01",
                  "9.72"
                ],
                [
                  "('Afghanistan', 'Kabul')",
                  "7271",
                  "2000-12-01",
                  "5.107"
                ],
                [
                  "('Afghanistan', 'Kabul')",
                  "7272",
                  "2001-01-01",
                  "2.208"
                ],
                [
                  "('Afghanistan', 'Kabul')",
                  "7273",
                  "2001-02-01",
                  "5.567"
                ],
                [
                  "('Afghanistan', 'Kabul')",
                  "7274",
                  "2001-03-01",
                  "10.807"
                ],
                [
                  "('Afghanistan', 'Kabul')",
                  "7275",
                  "2001-04-01",
                  "16.587"
                ],
                [
                  "('Afghanistan', 'Kabul')",
                  "7276",
                  "2001-05-01",
                  "23.782"
                ],
                [
                  "('Afghanistan', 'Kabul')",
                  "7277",
                  "2001-06-01",
                  "25.905"
                ],
                [
                  "('Afghanistan', 'Kabul')",
                  "7278",
                  "2001-07-01",
                  "26.065"
                ],
                [
                  "('Afghanistan', 'Kabul')",
                  "7279",
                  "2001-08-01",
                  "25.149"
                ],
                [
                  "('Afghanistan', 'Kabul')",
                  "7280",
                  "2001-09-01",
                  "21.178"
                ],
                [
                  "('Afghanistan', 'Kabul')",
                  "7281",
                  "2001-10-01",
                  "16.552"
                ],
                [
                  "('Afghanistan', 'Kabul')",
                  "7282",
                  "2001-11-01",
                  "10.731000000000002"
                ],
                [
                  "('Afghanistan', 'Kabul')",
                  "7283",
                  "2001-12-01",
                  "5.644"
                ],
                [
                  "('Afghanistan', 'Kabul')",
                  "7284",
                  "2002-01-01",
                  "3.432"
                ],
                [
                  "('Afghanistan', 'Kabul')",
                  "7285",
                  "2002-02-01",
                  "4.735"
                ],
                [
                  "('Afghanistan', 'Kabul')",
                  "7286",
                  "2002-03-01",
                  "11.382"
                ],
                [
                  "('Afghanistan', 'Kabul')",
                  "7287",
                  "2002-04-01",
                  "15.668"
                ],
                [
                  "('Afghanistan', 'Kabul')",
                  "7288",
                  "2002-05-01",
                  "21.992"
                ],
                [
                  "('Afghanistan', 'Kabul')",
                  "7289",
                  "2002-06-01",
                  "25.957"
                ],
                [
                  "('Afghanistan', 'Kabul')",
                  "7290",
                  "2002-07-01",
                  "26.732"
                ],
                [
                  "('Afghanistan', 'Kabul')",
                  "7291",
                  "2002-08-01",
                  "25.736"
                ],
                [
                  "('Afghanistan', 'Kabul')",
                  "7292",
                  "2002-09-01",
                  "20.907"
                ],
                [
                  "('Afghanistan', 'Kabul')",
                  "7293",
                  "2002-10-01",
                  "17.33"
                ],
                [
                  "('Afghanistan', 'Kabul')",
                  "7294",
                  "2002-11-01",
                  "10.447"
                ],
                [
                  "('Afghanistan', 'Kabul')",
                  "7295",
                  "2002-12-01",
                  "4.257"
                ],
                [
                  "('Afghanistan', 'Kabul')",
                  "7296",
                  "2003-01-01",
                  "4.334"
                ],
                [
                  "('Afghanistan', 'Kabul')",
                  "7297",
                  "2003-02-01",
                  "4.714"
                ],
                [
                  "('Afghanistan', 'Kabul')",
                  "7298",
                  "2003-03-01",
                  "9.071"
                ],
                [
                  "('Afghanistan', 'Kabul')",
                  "7299",
                  "2003-04-01",
                  "15.486"
                ],
                [
                  "('Afghanistan', 'Kabul')",
                  "7300",
                  "2003-05-01",
                  "19.13"
                ],
                [
                  "('Afghanistan', 'Kabul')",
                  "7301",
                  "2003-06-01",
                  "25.716"
                ],
                [
                  "('Afghanistan', 'Kabul')",
                  "7302",
                  "2003-07-01",
                  "26.815"
                ],
                [
                  "('Afghanistan', 'Kabul')",
                  "7303",
                  "2003-08-01",
                  "25.149"
                ],
                [
                  "('Afghanistan', 'Kabul')",
                  "7304",
                  "2003-09-01",
                  "21.945"
                ],
                [
                  "('Afghanistan', 'Kabul')",
                  "7305",
                  "2003-10-01",
                  "15.884"
                ],
                [
                  "('Afghanistan', 'Kabul')",
                  "7306",
                  "2003-11-01",
                  "8.681000000000001"
                ],
                [
                  "('Afghanistan', 'Kabul')",
                  "7307",
                  "2003-12-01",
                  "4.666"
                ],
                [
                  "('Afghanistan', 'Kabul')",
                  "7308",
                  "2004-01-01",
                  "3.655"
                ],
                [
                  "('Afghanistan', 'Kabul')",
                  "7309",
                  "2004-02-01",
                  "6.775"
                ]
              ],
              "shape": {
                "columns": 3,
                "rows": 16500
              }
            },
            "text/html": [
              "<div>\n",
              "<style scoped>\n",
              "    .dataframe tbody tr th:only-of-type {\n",
              "        vertical-align: middle;\n",
              "    }\n",
              "\n",
              "    .dataframe tbody tr th {\n",
              "        vertical-align: top;\n",
              "    }\n",
              "\n",
              "    .dataframe thead th {\n",
              "        text-align: right;\n",
              "    }\n",
              "</style>\n",
              "<table border=\"1\" class=\"dataframe\">\n",
              "  <thead>\n",
              "    <tr style=\"text-align: right;\">\n",
              "      <th></th>\n",
              "      <th></th>\n",
              "      <th>Unnamed: 0</th>\n",
              "      <th>date</th>\n",
              "      <th>avg_temp_c</th>\n",
              "    </tr>\n",
              "    <tr>\n",
              "      <th>country</th>\n",
              "      <th>city</th>\n",
              "      <th></th>\n",
              "      <th></th>\n",
              "      <th></th>\n",
              "    </tr>\n",
              "  </thead>\n",
              "  <tbody>\n",
              "    <tr>\n",
              "      <th rowspan=\"5\" valign=\"top\">Afghanistan</th>\n",
              "      <th>Kabul</th>\n",
              "      <td>7260</td>\n",
              "      <td>2000-01-01</td>\n",
              "      <td>3.326</td>\n",
              "    </tr>\n",
              "    <tr>\n",
              "      <th>Kabul</th>\n",
              "      <td>7261</td>\n",
              "      <td>2000-02-01</td>\n",
              "      <td>3.454</td>\n",
              "    </tr>\n",
              "    <tr>\n",
              "      <th>Kabul</th>\n",
              "      <td>7262</td>\n",
              "      <td>2000-03-01</td>\n",
              "      <td>9.612</td>\n",
              "    </tr>\n",
              "    <tr>\n",
              "      <th>Kabul</th>\n",
              "      <td>7263</td>\n",
              "      <td>2000-04-01</td>\n",
              "      <td>17.925</td>\n",
              "    </tr>\n",
              "    <tr>\n",
              "      <th>Kabul</th>\n",
              "      <td>7264</td>\n",
              "      <td>2000-05-01</td>\n",
              "      <td>24.658</td>\n",
              "    </tr>\n",
              "    <tr>\n",
              "      <th>...</th>\n",
              "      <th>...</th>\n",
              "      <td>...</td>\n",
              "      <td>...</td>\n",
              "      <td>...</td>\n",
              "    </tr>\n",
              "    <tr>\n",
              "      <th rowspan=\"5\" valign=\"top\">Zimbabwe</th>\n",
              "      <th>Harare</th>\n",
              "      <td>5605</td>\n",
              "      <td>2013-05-01</td>\n",
              "      <td>18.298</td>\n",
              "    </tr>\n",
              "    <tr>\n",
              "      <th>Harare</th>\n",
              "      <td>5606</td>\n",
              "      <td>2013-06-01</td>\n",
              "      <td>17.020</td>\n",
              "    </tr>\n",
              "    <tr>\n",
              "      <th>Harare</th>\n",
              "      <td>5607</td>\n",
              "      <td>2013-07-01</td>\n",
              "      <td>16.299</td>\n",
              "    </tr>\n",
              "    <tr>\n",
              "      <th>Harare</th>\n",
              "      <td>5608</td>\n",
              "      <td>2013-08-01</td>\n",
              "      <td>19.232</td>\n",
              "    </tr>\n",
              "    <tr>\n",
              "      <th>Harare</th>\n",
              "      <td>5609</td>\n",
              "      <td>2013-09-01</td>\n",
              "      <td>NaN</td>\n",
              "    </tr>\n",
              "  </tbody>\n",
              "</table>\n",
              "<p>16500 rows × 3 columns</p>\n",
              "</div>"
            ],
            "text/plain": [
              "                    Unnamed: 0        date  avg_temp_c\n",
              "country     city                                      \n",
              "Afghanistan Kabul         7260  2000-01-01       3.326\n",
              "            Kabul         7261  2000-02-01       3.454\n",
              "            Kabul         7262  2000-03-01       9.612\n",
              "            Kabul         7263  2000-04-01      17.925\n",
              "            Kabul         7264  2000-05-01      24.658\n",
              "...                        ...         ...         ...\n",
              "Zimbabwe    Harare        5605  2013-05-01      18.298\n",
              "            Harare        5606  2013-06-01      17.020\n",
              "            Harare        5607  2013-07-01      16.299\n",
              "            Harare        5608  2013-08-01      19.232\n",
              "            Harare        5609  2013-09-01         NaN\n",
              "\n",
              "[16500 rows x 3 columns]"
            ]
          },
          "metadata": {},
          "output_type": "display_data"
        }
      ],
      "source": [
        "# Sort temperatures_ind by the index values.\n",
        "display(temperatures_ind.sort_index())\n"
      ]
    },
    {
      "cell_type": "code",
      "execution_count": 84,
      "id": "17b4dac7",
      "metadata": {},
      "outputs": [
        {
          "data": {
            "application/vnd.microsoft.datawrangler.viewer.v0+json": {
              "columns": [
                {
                  "name": "('country', 'city')",
                  "rawType": "object",
                  "type": "unknown"
                },
                {
                  "name": "Unnamed: 0",
                  "rawType": "int64",
                  "type": "integer"
                },
                {
                  "name": "date",
                  "rawType": "object",
                  "type": "string"
                },
                {
                  "name": "avg_temp_c",
                  "rawType": "float64",
                  "type": "float"
                }
              ],
              "ref": "a4ff5134-b175-4443-b5e1-0db0a00fd83c",
              "rows": [
                [
                  "(\"Côte D'Ivoire\", 'Abidjan')",
                  "0",
                  "2000-01-01",
                  "27.29300000000001"
                ],
                [
                  "(\"Côte D'Ivoire\", 'Abidjan')",
                  "1",
                  "2000-02-01",
                  "27.685"
                ],
                [
                  "(\"Côte D'Ivoire\", 'Abidjan')",
                  "2",
                  "2000-03-01",
                  "29.061"
                ],
                [
                  "(\"Côte D'Ivoire\", 'Abidjan')",
                  "3",
                  "2000-04-01",
                  "28.162"
                ],
                [
                  "(\"Côte D'Ivoire\", 'Abidjan')",
                  "4",
                  "2000-05-01",
                  "27.547"
                ],
                [
                  "(\"Côte D'Ivoire\", 'Abidjan')",
                  "5",
                  "2000-06-01",
                  "25.812"
                ],
                [
                  "(\"Côte D'Ivoire\", 'Abidjan')",
                  "6",
                  "2000-07-01",
                  "24.87"
                ],
                [
                  "(\"Côte D'Ivoire\", 'Abidjan')",
                  "7",
                  "2000-08-01",
                  "24.884"
                ],
                [
                  "(\"Côte D'Ivoire\", 'Abidjan')",
                  "8",
                  "2000-09-01",
                  "25.405"
                ],
                [
                  "(\"Côte D'Ivoire\", 'Abidjan')",
                  "9",
                  "2000-10-01",
                  "26.074"
                ],
                [
                  "(\"Côte D'Ivoire\", 'Abidjan')",
                  "10",
                  "2000-11-01",
                  "27.315"
                ],
                [
                  "(\"Côte D'Ivoire\", 'Abidjan')",
                  "11",
                  "2000-12-01",
                  "26.929"
                ],
                [
                  "(\"Côte D'Ivoire\", 'Abidjan')",
                  "12",
                  "2001-01-01",
                  "26.92"
                ],
                [
                  "(\"Côte D'Ivoire\", 'Abidjan')",
                  "13",
                  "2001-02-01",
                  "28.234"
                ],
                [
                  "(\"Côte D'Ivoire\", 'Abidjan')",
                  "14",
                  "2001-03-01",
                  "28.706"
                ],
                [
                  "(\"Côte D'Ivoire\", 'Abidjan')",
                  "15",
                  "2001-04-01",
                  "27.702"
                ],
                [
                  "(\"Côte D'Ivoire\", 'Abidjan')",
                  "16",
                  "2001-05-01",
                  "27.653"
                ],
                [
                  "(\"Côte D'Ivoire\", 'Abidjan')",
                  "17",
                  "2001-06-01",
                  "25.94"
                ],
                [
                  "(\"Côte D'Ivoire\", 'Abidjan')",
                  "18",
                  "2001-07-01",
                  "24.841"
                ],
                [
                  "(\"Côte D'Ivoire\", 'Abidjan')",
                  "19",
                  "2001-08-01",
                  "24.28"
                ],
                [
                  "(\"Côte D'Ivoire\", 'Abidjan')",
                  "20",
                  "2001-09-01",
                  "24.797"
                ],
                [
                  "(\"Côte D'Ivoire\", 'Abidjan')",
                  "21",
                  "2001-10-01",
                  "26.278"
                ],
                [
                  "(\"Côte D'Ivoire\", 'Abidjan')",
                  "22",
                  "2001-11-01",
                  "27.374"
                ],
                [
                  "(\"Côte D'Ivoire\", 'Abidjan')",
                  "23",
                  "2001-12-01",
                  "27.59800000000001"
                ],
                [
                  "(\"Côte D'Ivoire\", 'Abidjan')",
                  "24",
                  "2002-01-01",
                  "27.192"
                ],
                [
                  "(\"Côte D'Ivoire\", 'Abidjan')",
                  "25",
                  "2002-02-01",
                  "28.796"
                ],
                [
                  "(\"Côte D'Ivoire\", 'Abidjan')",
                  "26",
                  "2002-03-01",
                  "28.564"
                ],
                [
                  "(\"Côte D'Ivoire\", 'Abidjan')",
                  "27",
                  "2002-04-01",
                  "28.50800000000001"
                ],
                [
                  "(\"Côte D'Ivoire\", 'Abidjan')",
                  "28",
                  "2002-05-01",
                  "27.721"
                ],
                [
                  "(\"Côte D'Ivoire\", 'Abidjan')",
                  "29",
                  "2002-06-01",
                  "25.972"
                ],
                [
                  "(\"Côte D'Ivoire\", 'Abidjan')",
                  "30",
                  "2002-07-01",
                  "25.054"
                ],
                [
                  "(\"Côte D'Ivoire\", 'Abidjan')",
                  "31",
                  "2002-08-01",
                  "24.58"
                ],
                [
                  "(\"Côte D'Ivoire\", 'Abidjan')",
                  "32",
                  "2002-09-01",
                  "25.26"
                ],
                [
                  "(\"Côte D'Ivoire\", 'Abidjan')",
                  "33",
                  "2002-10-01",
                  "26.076"
                ],
                [
                  "(\"Côte D'Ivoire\", 'Abidjan')",
                  "34",
                  "2002-11-01",
                  "27.282"
                ],
                [
                  "(\"Côte D'Ivoire\", 'Abidjan')",
                  "35",
                  "2002-12-01",
                  "27.087"
                ],
                [
                  "(\"Côte D'Ivoire\", 'Abidjan')",
                  "36",
                  "2003-01-01",
                  "27.59"
                ],
                [
                  "(\"Côte D'Ivoire\", 'Abidjan')",
                  "37",
                  "2003-02-01",
                  "28.863000000000003"
                ],
                [
                  "(\"Côte D'Ivoire\", 'Abidjan')",
                  "38",
                  "2003-03-01",
                  "28.98"
                ],
                [
                  "(\"Côte D'Ivoire\", 'Abidjan')",
                  "39",
                  "2003-04-01",
                  "28.169"
                ],
                [
                  "(\"Côte D'Ivoire\", 'Abidjan')",
                  "40",
                  "2003-05-01",
                  "27.91"
                ],
                [
                  "(\"Côte D'Ivoire\", 'Abidjan')",
                  "41",
                  "2003-06-01",
                  "25.993"
                ],
                [
                  "(\"Côte D'Ivoire\", 'Abidjan')",
                  "42",
                  "2003-07-01",
                  "25.221"
                ],
                [
                  "(\"Côte D'Ivoire\", 'Abidjan')",
                  "43",
                  "2003-08-01",
                  "24.88"
                ],
                [
                  "(\"Côte D'Ivoire\", 'Abidjan')",
                  "44",
                  "2003-09-01",
                  "25.737"
                ],
                [
                  "(\"Côte D'Ivoire\", 'Abidjan')",
                  "45",
                  "2003-10-01",
                  "26.69400000000001"
                ],
                [
                  "(\"Côte D'Ivoire\", 'Abidjan')",
                  "46",
                  "2003-11-01",
                  "27.479"
                ],
                [
                  "(\"Côte D'Ivoire\", 'Abidjan')",
                  "47",
                  "2003-12-01",
                  "27.092"
                ],
                [
                  "(\"Côte D'Ivoire\", 'Abidjan')",
                  "48",
                  "2004-01-01",
                  "27.728"
                ],
                [
                  "(\"Côte D'Ivoire\", 'Abidjan')",
                  "49",
                  "2004-02-01",
                  "28.705"
                ]
              ],
              "shape": {
                "columns": 3,
                "rows": 16500
              }
            },
            "text/html": [
              "<div>\n",
              "<style scoped>\n",
              "    .dataframe tbody tr th:only-of-type {\n",
              "        vertical-align: middle;\n",
              "    }\n",
              "\n",
              "    .dataframe tbody tr th {\n",
              "        vertical-align: top;\n",
              "    }\n",
              "\n",
              "    .dataframe thead th {\n",
              "        text-align: right;\n",
              "    }\n",
              "</style>\n",
              "<table border=\"1\" class=\"dataframe\">\n",
              "  <thead>\n",
              "    <tr style=\"text-align: right;\">\n",
              "      <th></th>\n",
              "      <th></th>\n",
              "      <th>Unnamed: 0</th>\n",
              "      <th>date</th>\n",
              "      <th>avg_temp_c</th>\n",
              "    </tr>\n",
              "    <tr>\n",
              "      <th>country</th>\n",
              "      <th>city</th>\n",
              "      <th></th>\n",
              "      <th></th>\n",
              "      <th></th>\n",
              "    </tr>\n",
              "  </thead>\n",
              "  <tbody>\n",
              "    <tr>\n",
              "      <th rowspan=\"5\" valign=\"top\">Côte D'Ivoire</th>\n",
              "      <th>Abidjan</th>\n",
              "      <td>0</td>\n",
              "      <td>2000-01-01</td>\n",
              "      <td>27.293</td>\n",
              "    </tr>\n",
              "    <tr>\n",
              "      <th>Abidjan</th>\n",
              "      <td>1</td>\n",
              "      <td>2000-02-01</td>\n",
              "      <td>27.685</td>\n",
              "    </tr>\n",
              "    <tr>\n",
              "      <th>Abidjan</th>\n",
              "      <td>2</td>\n",
              "      <td>2000-03-01</td>\n",
              "      <td>29.061</td>\n",
              "    </tr>\n",
              "    <tr>\n",
              "      <th>Abidjan</th>\n",
              "      <td>3</td>\n",
              "      <td>2000-04-01</td>\n",
              "      <td>28.162</td>\n",
              "    </tr>\n",
              "    <tr>\n",
              "      <th>Abidjan</th>\n",
              "      <td>4</td>\n",
              "      <td>2000-05-01</td>\n",
              "      <td>27.547</td>\n",
              "    </tr>\n",
              "    <tr>\n",
              "      <th>...</th>\n",
              "      <th>...</th>\n",
              "      <td>...</td>\n",
              "      <td>...</td>\n",
              "      <td>...</td>\n",
              "    </tr>\n",
              "    <tr>\n",
              "      <th rowspan=\"5\" valign=\"top\">China</th>\n",
              "      <th>Xian</th>\n",
              "      <td>16495</td>\n",
              "      <td>2013-05-01</td>\n",
              "      <td>18.979</td>\n",
              "    </tr>\n",
              "    <tr>\n",
              "      <th>Xian</th>\n",
              "      <td>16496</td>\n",
              "      <td>2013-06-01</td>\n",
              "      <td>23.522</td>\n",
              "    </tr>\n",
              "    <tr>\n",
              "      <th>Xian</th>\n",
              "      <td>16497</td>\n",
              "      <td>2013-07-01</td>\n",
              "      <td>25.251</td>\n",
              "    </tr>\n",
              "    <tr>\n",
              "      <th>Xian</th>\n",
              "      <td>16498</td>\n",
              "      <td>2013-08-01</td>\n",
              "      <td>24.528</td>\n",
              "    </tr>\n",
              "    <tr>\n",
              "      <th>Xian</th>\n",
              "      <td>16499</td>\n",
              "      <td>2013-09-01</td>\n",
              "      <td>NaN</td>\n",
              "    </tr>\n",
              "  </tbody>\n",
              "</table>\n",
              "<p>16500 rows × 3 columns</p>\n",
              "</div>"
            ],
            "text/plain": [
              "                       Unnamed: 0        date  avg_temp_c\n",
              "country       city                                       \n",
              "Côte D'Ivoire Abidjan           0  2000-01-01      27.293\n",
              "              Abidjan           1  2000-02-01      27.685\n",
              "              Abidjan           2  2000-03-01      29.061\n",
              "              Abidjan           3  2000-04-01      28.162\n",
              "              Abidjan           4  2000-05-01      27.547\n",
              "...                           ...         ...         ...\n",
              "China         Xian          16495  2013-05-01      18.979\n",
              "              Xian          16496  2013-06-01      23.522\n",
              "              Xian          16497  2013-07-01      25.251\n",
              "              Xian          16498  2013-08-01      24.528\n",
              "              Xian          16499  2013-09-01         NaN\n",
              "\n",
              "[16500 rows x 3 columns]"
            ]
          },
          "metadata": {},
          "output_type": "display_data"
        }
      ],
      "source": [
        "# Sort temperatures_ind by the index values at the \"city\" level.\n",
        "display(temperatures_ind.sort_index(level=\"city\"))"
      ]
    },
    {
      "cell_type": "code",
      "execution_count": 86,
      "id": "c787ed72",
      "metadata": {},
      "outputs": [
        {
          "name": "stdout",
          "output_type": "stream",
          "text": [
            "                    Unnamed: 0        date  avg_temp_c\n",
            "country     city                                      \n",
            "Afghanistan Kabul         7260  2000-01-01       3.326\n",
            "            Kabul         7261  2000-02-01       3.454\n",
            "            Kabul         7262  2000-03-01       9.612\n",
            "            Kabul         7263  2000-04-01      17.925\n",
            "            Kabul         7264  2000-05-01      24.658\n",
            "...                        ...         ...         ...\n",
            "Zimbabwe    Harare        5605  2013-05-01      18.298\n",
            "            Harare        5606  2013-06-01      17.020\n",
            "            Harare        5607  2013-07-01      16.299\n",
            "            Harare        5608  2013-08-01      19.232\n",
            "            Harare        5609  2013-09-01         NaN\n",
            "\n",
            "[16500 rows x 3 columns]\n"
          ]
        }
      ],
      "source": [
        "# Sort temperatures_ind by ascending country then descending city.\n",
        "print(temperatures_ind.sort_index(level=[\"country\", \"city\"], ascending=[True, False]))"
      ]
    },
    {
      "cell_type": "markdown",
      "id": "6ea2764c",
      "metadata": {},
      "source": [
        "## Slicing and Subsetting with `.loc` and `.iloc`\n",
        "\n",
        "The `.loc` and `.iloc` accessors provide a rigorous and expressive means to subset and slice DataFrames by **labels** and **positions**, respectively. Mastery of these methods is indispensable for analytical clarity, code precision, and efficient data handling in Pandas.\n",
        "\n",
        "\n",
        "### 1. Lists vs DataFrames in Slicing\n",
        "\n",
        "- Using a **list** in a selection returns a DataFrame containing all rows (or columns) that match any of the listed labels/positions.\n",
        "- Using a **slice** (`:`) selects a range - either by label (for `.loc`) or by position (for `.iloc`).\n",
        "\n",
        "\n",
        "### 2. Sorting the Index Before Slicing\n",
        "\n",
        "Slicing by labels with `.loc` only works correctly and efficiently when the DataFrame's index is **sorted**. Always ensure that you have sorted the relevant index level before attempting a slice.\n",
        "\n",
        "```python\n",
        "df_sorted = df.sort_index()\n",
        "```\n",
        "\n",
        "\n",
        "### 3. Slicing the Outer Index Level (Single or MultiIndex)\n",
        "\n",
        "For single-level or the outermost level of a MultiIndex, slicing is straightforward:\n",
        "\n",
        "```python\n",
        "df.loc[\"A\":\"C\"]\n",
        "```\n",
        "\n",
        "This selects all rows from label `\"A\"` up to and including `\"C\"`.\n",
        "\n",
        "\n",
        "### 4. Slicing Inner Index Levels (MultiIndex)\n",
        "\n",
        "#### **Incorrect**: Slicing inner levels with a simple range (will not work as intended):\n",
        "\n",
        "```python\n",
        "df_multi.loc[\"Level1Value\":\"Level2Value\"]  # Not valid for inner levels\n",
        "```\n",
        "\n",
        "#### **Correct**: Use tuples to specify full index keys for ranges:\n",
        "\n",
        "```python\n",
        "df_multi.loc[\n",
        "    (\"GroupA\", \"SubA\"):(\"GroupC\", \"SubD\")\n",
        "]\n",
        "```\n",
        "\n",
        "This will select all rows between the tupled index values, inclusive. This is the idiomatic approach for MultiIndexes.\n",
        "\n",
        "\n",
        "### 5. Slicing Columns\n",
        "\n",
        "You may slice both rows and columns simultaneously with `.loc`:\n",
        "\n",
        "```python\n",
        "df.loc[\n",
        "    \"row_start\":\"row_end\",\n",
        "    \"col_start\":\"col_end\"\n",
        "]\n",
        "```\n",
        "\n",
        "This selects a rectangular block of data by label ranges.\n",
        "\n",
        "\n",
        "### 6. Slicing Twice\n",
        "\n",
        "You may first slice rows, then columns - or vice versa—by chaining:\n",
        "\n",
        "```python\n",
        "df.loc[\"rowA\":\"rowD\"].loc[:, \"colA\":\"colC\"]\n",
        "```\n",
        "\n",
        "However, slicing both dimensions simultaneously is clearer and more efficient.\n",
        "\n",
        "\n",
        "### 7. Slicing by Dates\n",
        "\n",
        "If your DataFrame is indexed by a `datetime`-like index (ensure it is sorted):\n",
        "\n",
        "```python\n",
        "df_by_date = df.set_index(\"date_column\").sort_index()\n",
        "df_by_date.loc[\"2020-01-01\":\"2021-01-01\"]\n",
        "```\n",
        "\n",
        "This extracts all rows where the date falls within the specified interval. Pandas understands both full dates and partial string matches (e.g., `\"2020\"` for the entire year).\n",
        "\n",
        "\n",
        "### 8. Slicing by Partial Dates\n",
        "\n",
        "Partial string indexing is a powerful feature for date-indexed DataFrames:\n",
        "\n",
        "```python\n",
        "df_by_date.loc[\"2020\":\"2021\"]  # All data from 2020 and 2021\n",
        "```\n",
        "\n",
        "\n",
        "### 9. Subsetting by Row/Column Number: `.iloc`\n",
        "\n",
        "When you need to select rows and columns by their **integer position** (zero-based), use `.iloc`:\n",
        "\n",
        "```python\n",
        "df.iloc[2:5, 1:4]\n",
        "```\n",
        "\n",
        "This selects rows with positions 2, 3, 4 and columns with positions 1, 2, 3.\n",
        "\n",
        "\n",
        "### 10. General Principles and Best Practices\n",
        "\n",
        "- Always sort the relevant index before attempting slicing by labels.\n",
        "- Use tuples to slice over MultiIndex objects; slicing by only the outer label on a MultiIndex returns all data within that outer group.\n",
        "- Slicing is **inclusive** at both ends for label-based (`.loc`) slicing.\n",
        "- For time-series data, partial slicing by year, month, or even day is supported and highly idiomatic.\n",
        "- `.iloc` is strictly integer position-based and does **not** accept labels.\n",
        "- Prefer simultaneous slicing of rows and columns for clarity and efficiency.\n",
        "- Confirm the result of your slicing with `.shape`, `.head()`, or `.info()` to ensure correctness.\n",
        "\n"
      ]
    },
    {
      "cell_type": "code",
      "execution_count": 87,
      "id": "11a8bba1",
      "metadata": {},
      "outputs": [],
      "source": [
        "# Sort the index of temperatures_ind.\n",
        "temperatures_srt = temperatures_ind.sort_index()"
      ]
    },
    {
      "cell_type": "code",
      "execution_count": 88,
      "id": "75425767",
      "metadata": {},
      "outputs": [
        {
          "data": {
            "application/vnd.microsoft.datawrangler.viewer.v0+json": {
              "columns": [
                {
                  "name": "('country', 'city')",
                  "rawType": "object",
                  "type": "unknown"
                },
                {
                  "name": "Unnamed: 0",
                  "rawType": "int64",
                  "type": "integer"
                },
                {
                  "name": "date",
                  "rawType": "object",
                  "type": "string"
                },
                {
                  "name": "avg_temp_c",
                  "rawType": "float64",
                  "type": "float"
                }
              ],
              "ref": "22486c3a-62bb-4721-bd85-ebb31540c532",
              "rows": [
                [
                  "('Afghanistan', 'Kabul')",
                  "7260",
                  "2000-01-01",
                  "3.326"
                ],
                [
                  "('Afghanistan', 'Kabul')",
                  "7261",
                  "2000-02-01",
                  "3.454"
                ],
                [
                  "('Afghanistan', 'Kabul')",
                  "7262",
                  "2000-03-01",
                  "9.612"
                ],
                [
                  "('Afghanistan', 'Kabul')",
                  "7263",
                  "2000-04-01",
                  "17.925"
                ],
                [
                  "('Afghanistan', 'Kabul')",
                  "7264",
                  "2000-05-01",
                  "24.658"
                ]
              ],
              "shape": {
                "columns": 3,
                "rows": 5
              }
            },
            "text/html": [
              "<div>\n",
              "<style scoped>\n",
              "    .dataframe tbody tr th:only-of-type {\n",
              "        vertical-align: middle;\n",
              "    }\n",
              "\n",
              "    .dataframe tbody tr th {\n",
              "        vertical-align: top;\n",
              "    }\n",
              "\n",
              "    .dataframe thead th {\n",
              "        text-align: right;\n",
              "    }\n",
              "</style>\n",
              "<table border=\"1\" class=\"dataframe\">\n",
              "  <thead>\n",
              "    <tr style=\"text-align: right;\">\n",
              "      <th></th>\n",
              "      <th></th>\n",
              "      <th>Unnamed: 0</th>\n",
              "      <th>date</th>\n",
              "      <th>avg_temp_c</th>\n",
              "    </tr>\n",
              "    <tr>\n",
              "      <th>country</th>\n",
              "      <th>city</th>\n",
              "      <th></th>\n",
              "      <th></th>\n",
              "      <th></th>\n",
              "    </tr>\n",
              "  </thead>\n",
              "  <tbody>\n",
              "    <tr>\n",
              "      <th rowspan=\"5\" valign=\"top\">Afghanistan</th>\n",
              "      <th>Kabul</th>\n",
              "      <td>7260</td>\n",
              "      <td>2000-01-01</td>\n",
              "      <td>3.326</td>\n",
              "    </tr>\n",
              "    <tr>\n",
              "      <th>Kabul</th>\n",
              "      <td>7261</td>\n",
              "      <td>2000-02-01</td>\n",
              "      <td>3.454</td>\n",
              "    </tr>\n",
              "    <tr>\n",
              "      <th>Kabul</th>\n",
              "      <td>7262</td>\n",
              "      <td>2000-03-01</td>\n",
              "      <td>9.612</td>\n",
              "    </tr>\n",
              "    <tr>\n",
              "      <th>Kabul</th>\n",
              "      <td>7263</td>\n",
              "      <td>2000-04-01</td>\n",
              "      <td>17.925</td>\n",
              "    </tr>\n",
              "    <tr>\n",
              "      <th>Kabul</th>\n",
              "      <td>7264</td>\n",
              "      <td>2000-05-01</td>\n",
              "      <td>24.658</td>\n",
              "    </tr>\n",
              "  </tbody>\n",
              "</table>\n",
              "</div>"
            ],
            "text/plain": [
              "                   Unnamed: 0        date  avg_temp_c\n",
              "country     city                                     \n",
              "Afghanistan Kabul        7260  2000-01-01       3.326\n",
              "            Kabul        7261  2000-02-01       3.454\n",
              "            Kabul        7262  2000-03-01       9.612\n",
              "            Kabul        7263  2000-04-01      17.925\n",
              "            Kabul        7264  2000-05-01      24.658"
            ]
          },
          "execution_count": 88,
          "metadata": {},
          "output_type": "execute_result"
        }
      ],
      "source": [
        "temperatures_srt.head()"
      ]
    },
    {
      "cell_type": "markdown",
      "id": "290ffba2",
      "metadata": {},
      "source": [
        "Use slicing with `.loc[]` to get these subsets:\n",
        "- from Pakistan to Russia.\n",
        "- from Lahore to Moscow. (This will return nonsense.)\n",
        "- from Pakistan, Lahore to Russia, Moscow."
      ]
    },
    {
      "cell_type": "code",
      "execution_count": 91,
      "id": "460e0c66",
      "metadata": {},
      "outputs": [
        {
          "data": {
            "application/vnd.microsoft.datawrangler.viewer.v0+json": {
              "columns": [
                {
                  "name": "('country', 'city')",
                  "rawType": "object",
                  "type": "unknown"
                },
                {
                  "name": "Unnamed: 0",
                  "rawType": "int64",
                  "type": "integer"
                },
                {
                  "name": "date",
                  "rawType": "object",
                  "type": "string"
                },
                {
                  "name": "avg_temp_c",
                  "rawType": "float64",
                  "type": "float"
                }
              ],
              "ref": "98083dea-cb0e-4177-8d72-f6a37cc2d613",
              "rows": [
                [
                  "('Pakistan', 'Faisalabad')",
                  "4785",
                  "2000-01-01",
                  "12.792"
                ],
                [
                  "('Pakistan', 'Faisalabad')",
                  "4786",
                  "2000-02-01",
                  "14.339"
                ],
                [
                  "('Pakistan', 'Faisalabad')",
                  "4787",
                  "2000-03-01",
                  "20.309"
                ],
                [
                  "('Pakistan', 'Faisalabad')",
                  "4788",
                  "2000-04-01",
                  "29.072"
                ],
                [
                  "('Pakistan', 'Faisalabad')",
                  "4789",
                  "2000-05-01",
                  "34.845"
                ],
                [
                  "('Pakistan', 'Faisalabad')",
                  "4790",
                  "2000-06-01",
                  "34.299"
                ],
                [
                  "('Pakistan', 'Faisalabad')",
                  "4791",
                  "2000-07-01",
                  "32.302"
                ],
                [
                  "('Pakistan', 'Faisalabad')",
                  "4792",
                  "2000-08-01",
                  "32.255"
                ],
                [
                  "('Pakistan', 'Faisalabad')",
                  "4793",
                  "2000-09-01",
                  "30.438"
                ],
                [
                  "('Pakistan', 'Faisalabad')",
                  "4794",
                  "2000-10-01",
                  "27.395"
                ],
                [
                  "('Pakistan', 'Faisalabad')",
                  "4795",
                  "2000-11-01",
                  "20.64"
                ],
                [
                  "('Pakistan', 'Faisalabad')",
                  "4796",
                  "2000-12-01",
                  "15.195"
                ],
                [
                  "('Pakistan', 'Faisalabad')",
                  "4797",
                  "2001-01-01",
                  "11.853"
                ],
                [
                  "('Pakistan', 'Faisalabad')",
                  "4798",
                  "2001-02-01",
                  "16.701"
                ],
                [
                  "('Pakistan', 'Faisalabad')",
                  "4799",
                  "2001-03-01",
                  "21.885"
                ],
                [
                  "('Pakistan', 'Faisalabad')",
                  "4800",
                  "2001-04-01",
                  "26.814"
                ],
                [
                  "('Pakistan', 'Faisalabad')",
                  "4801",
                  "2001-05-01",
                  "33.924"
                ],
                [
                  "('Pakistan', 'Faisalabad')",
                  "4802",
                  "2001-06-01",
                  "32.882000000000005"
                ],
                [
                  "('Pakistan', 'Faisalabad')",
                  "4803",
                  "2001-07-01",
                  "32.090999999999994"
                ],
                [
                  "('Pakistan', 'Faisalabad')",
                  "4804",
                  "2001-08-01",
                  "32.562"
                ],
                [
                  "('Pakistan', 'Faisalabad')",
                  "4805",
                  "2001-09-01",
                  "30.615"
                ],
                [
                  "('Pakistan', 'Faisalabad')",
                  "4806",
                  "2001-10-01",
                  "27.015"
                ],
                [
                  "('Pakistan', 'Faisalabad')",
                  "4807",
                  "2001-11-01",
                  "20.501"
                ],
                [
                  "('Pakistan', 'Faisalabad')",
                  "4808",
                  "2001-12-01",
                  "15.306"
                ],
                [
                  "('Pakistan', 'Faisalabad')",
                  "4809",
                  "2002-01-01",
                  "12.844"
                ],
                [
                  "('Pakistan', 'Faisalabad')",
                  "4810",
                  "2002-02-01",
                  "15.569"
                ],
                [
                  "('Pakistan', 'Faisalabad')",
                  "4811",
                  "2002-03-01",
                  "22.269"
                ],
                [
                  "('Pakistan', 'Faisalabad')",
                  "4812",
                  "2002-04-01",
                  "28.641"
                ],
                [
                  "('Pakistan', 'Faisalabad')",
                  "4813",
                  "2002-05-01",
                  "34.396"
                ],
                [
                  "('Pakistan', 'Faisalabad')",
                  "4814",
                  "2002-06-01",
                  "34.613"
                ],
                [
                  "('Pakistan', 'Faisalabad')",
                  "4815",
                  "2002-07-01",
                  "34.564"
                ],
                [
                  "('Pakistan', 'Faisalabad')",
                  "4816",
                  "2002-08-01",
                  "32.718"
                ],
                [
                  "('Pakistan', 'Faisalabad')",
                  "4817",
                  "2002-09-01",
                  "29.322"
                ],
                [
                  "('Pakistan', 'Faisalabad')",
                  "4818",
                  "2002-10-01",
                  "26.461"
                ],
                [
                  "('Pakistan', 'Faisalabad')",
                  "4819",
                  "2002-11-01",
                  "20.609"
                ],
                [
                  "('Pakistan', 'Faisalabad')",
                  "4820",
                  "2002-12-01",
                  "15.308"
                ],
                [
                  "('Pakistan', 'Faisalabad')",
                  "4821",
                  "2003-01-01",
                  "11.285"
                ],
                [
                  "('Pakistan', 'Faisalabad')",
                  "4822",
                  "2003-02-01",
                  "15.578"
                ],
                [
                  "('Pakistan', 'Faisalabad')",
                  "4823",
                  "2003-03-01",
                  "20.81"
                ],
                [
                  "('Pakistan', 'Faisalabad')",
                  "4824",
                  "2003-04-01",
                  "28.07800000000001"
                ],
                [
                  "('Pakistan', 'Faisalabad')",
                  "4825",
                  "2003-05-01",
                  "31.784"
                ],
                [
                  "('Pakistan', 'Faisalabad')",
                  "4826",
                  "2003-06-01",
                  "35.15600000000001"
                ],
                [
                  "('Pakistan', 'Faisalabad')",
                  "4827",
                  "2003-07-01",
                  "32.379999999999995"
                ],
                [
                  "('Pakistan', 'Faisalabad')",
                  "4828",
                  "2003-08-01",
                  "31.92"
                ],
                [
                  "('Pakistan', 'Faisalabad')",
                  "4829",
                  "2003-09-01",
                  "30.605"
                ],
                [
                  "('Pakistan', 'Faisalabad')",
                  "4830",
                  "2003-10-01",
                  "25.63000000000001"
                ],
                [
                  "('Pakistan', 'Faisalabad')",
                  "4831",
                  "2003-11-01",
                  "18.777"
                ],
                [
                  "('Pakistan', 'Faisalabad')",
                  "4832",
                  "2003-12-01",
                  "14.562"
                ],
                [
                  "('Pakistan', 'Faisalabad')",
                  "4833",
                  "2004-01-01",
                  "12.994000000000002"
                ],
                [
                  "('Pakistan', 'Faisalabad')",
                  "4834",
                  "2004-02-01",
                  "17.075"
                ]
              ],
              "shape": {
                "columns": 3,
                "rows": 1155
              }
            },
            "text/html": [
              "<div>\n",
              "<style scoped>\n",
              "    .dataframe tbody tr th:only-of-type {\n",
              "        vertical-align: middle;\n",
              "    }\n",
              "\n",
              "    .dataframe tbody tr th {\n",
              "        vertical-align: top;\n",
              "    }\n",
              "\n",
              "    .dataframe thead th {\n",
              "        text-align: right;\n",
              "    }\n",
              "</style>\n",
              "<table border=\"1\" class=\"dataframe\">\n",
              "  <thead>\n",
              "    <tr style=\"text-align: right;\">\n",
              "      <th></th>\n",
              "      <th></th>\n",
              "      <th>Unnamed: 0</th>\n",
              "      <th>date</th>\n",
              "      <th>avg_temp_c</th>\n",
              "    </tr>\n",
              "    <tr>\n",
              "      <th>country</th>\n",
              "      <th>city</th>\n",
              "      <th></th>\n",
              "      <th></th>\n",
              "      <th></th>\n",
              "    </tr>\n",
              "  </thead>\n",
              "  <tbody>\n",
              "    <tr>\n",
              "      <th rowspan=\"5\" valign=\"top\">Pakistan</th>\n",
              "      <th>Faisalabad</th>\n",
              "      <td>4785</td>\n",
              "      <td>2000-01-01</td>\n",
              "      <td>12.792</td>\n",
              "    </tr>\n",
              "    <tr>\n",
              "      <th>Faisalabad</th>\n",
              "      <td>4786</td>\n",
              "      <td>2000-02-01</td>\n",
              "      <td>14.339</td>\n",
              "    </tr>\n",
              "    <tr>\n",
              "      <th>Faisalabad</th>\n",
              "      <td>4787</td>\n",
              "      <td>2000-03-01</td>\n",
              "      <td>20.309</td>\n",
              "    </tr>\n",
              "    <tr>\n",
              "      <th>Faisalabad</th>\n",
              "      <td>4788</td>\n",
              "      <td>2000-04-01</td>\n",
              "      <td>29.072</td>\n",
              "    </tr>\n",
              "    <tr>\n",
              "      <th>Faisalabad</th>\n",
              "      <td>4789</td>\n",
              "      <td>2000-05-01</td>\n",
              "      <td>34.845</td>\n",
              "    </tr>\n",
              "    <tr>\n",
              "      <th>...</th>\n",
              "      <th>...</th>\n",
              "      <td>...</td>\n",
              "      <td>...</td>\n",
              "      <td>...</td>\n",
              "    </tr>\n",
              "    <tr>\n",
              "      <th rowspan=\"5\" valign=\"top\">Russia</th>\n",
              "      <th>Saint Petersburg</th>\n",
              "      <td>13360</td>\n",
              "      <td>2013-05-01</td>\n",
              "      <td>12.355</td>\n",
              "    </tr>\n",
              "    <tr>\n",
              "      <th>Saint Petersburg</th>\n",
              "      <td>13361</td>\n",
              "      <td>2013-06-01</td>\n",
              "      <td>17.185</td>\n",
              "    </tr>\n",
              "    <tr>\n",
              "      <th>Saint Petersburg</th>\n",
              "      <td>13362</td>\n",
              "      <td>2013-07-01</td>\n",
              "      <td>17.234</td>\n",
              "    </tr>\n",
              "    <tr>\n",
              "      <th>Saint Petersburg</th>\n",
              "      <td>13363</td>\n",
              "      <td>2013-08-01</td>\n",
              "      <td>17.153</td>\n",
              "    </tr>\n",
              "    <tr>\n",
              "      <th>Saint Petersburg</th>\n",
              "      <td>13364</td>\n",
              "      <td>2013-09-01</td>\n",
              "      <td>NaN</td>\n",
              "    </tr>\n",
              "  </tbody>\n",
              "</table>\n",
              "<p>1155 rows × 3 columns</p>\n",
              "</div>"
            ],
            "text/plain": [
              "                           Unnamed: 0        date  avg_temp_c\n",
              "country  city                                                \n",
              "Pakistan Faisalabad              4785  2000-01-01      12.792\n",
              "         Faisalabad              4786  2000-02-01      14.339\n",
              "         Faisalabad              4787  2000-03-01      20.309\n",
              "         Faisalabad              4788  2000-04-01      29.072\n",
              "         Faisalabad              4789  2000-05-01      34.845\n",
              "...                               ...         ...         ...\n",
              "Russia   Saint Petersburg       13360  2013-05-01      12.355\n",
              "         Saint Petersburg       13361  2013-06-01      17.185\n",
              "         Saint Petersburg       13362  2013-07-01      17.234\n",
              "         Saint Petersburg       13363  2013-08-01      17.153\n",
              "         Saint Petersburg       13364  2013-09-01         NaN\n",
              "\n",
              "[1155 rows x 3 columns]"
            ]
          },
          "metadata": {},
          "output_type": "display_data"
        }
      ],
      "source": [
        "# Subset rows from Pakistan to Russia\n",
        "display(temperatures_srt.loc[\"Pakistan\":\"Russia\"])"
      ]
    },
    {
      "cell_type": "code",
      "execution_count": 92,
      "id": "bd39e0bb",
      "metadata": {},
      "outputs": [
        {
          "data": {
            "application/vnd.microsoft.datawrangler.viewer.v0+json": {
              "columns": [
                {
                  "name": "('country', 'city')",
                  "rawType": "object",
                  "type": "unknown"
                },
                {
                  "name": "Unnamed: 0",
                  "rawType": "int64",
                  "type": "integer"
                },
                {
                  "name": "date",
                  "rawType": "object",
                  "type": "string"
                },
                {
                  "name": "avg_temp_c",
                  "rawType": "float64",
                  "type": "float"
                }
              ],
              "ref": "62cc85a9-4042-4975-8f8d-82f2b78f2a7e",
              "rows": [
                [
                  "('Mexico', 'Mexico')",
                  "10230",
                  "2000-01-01",
                  "12.694"
                ],
                [
                  "('Mexico', 'Mexico')",
                  "10231",
                  "2000-02-01",
                  "14.677"
                ],
                [
                  "('Mexico', 'Mexico')",
                  "10232",
                  "2000-03-01",
                  "17.375999999999998"
                ],
                [
                  "('Mexico', 'Mexico')",
                  "10233",
                  "2000-04-01",
                  "18.294"
                ],
                [
                  "('Mexico', 'Mexico')",
                  "10234",
                  "2000-05-01",
                  "18.562"
                ],
                [
                  "('Mexico', 'Mexico')",
                  "10235",
                  "2000-06-01",
                  "17.27"
                ],
                [
                  "('Mexico', 'Mexico')",
                  "10236",
                  "2000-07-01",
                  "17.723000000000006"
                ],
                [
                  "('Mexico', 'Mexico')",
                  "10237",
                  "2000-08-01",
                  "16.967"
                ],
                [
                  "('Mexico', 'Mexico')",
                  "10238",
                  "2000-09-01",
                  "16.996"
                ],
                [
                  "('Mexico', 'Mexico')",
                  "10239",
                  "2000-10-01",
                  "15.605"
                ],
                [
                  "('Mexico', 'Mexico')",
                  "10240",
                  "2000-11-01",
                  "15.237"
                ],
                [
                  "('Mexico', 'Mexico')",
                  "10241",
                  "2000-12-01",
                  "11.966"
                ],
                [
                  "('Mexico', 'Mexico')",
                  "10242",
                  "2001-01-01",
                  "12.733"
                ],
                [
                  "('Mexico', 'Mexico')",
                  "10243",
                  "2001-02-01",
                  "14.461"
                ],
                [
                  "('Mexico', 'Mexico')",
                  "10244",
                  "2001-03-01",
                  "15.925999999999998"
                ],
                [
                  "('Mexico', 'Mexico')",
                  "10245",
                  "2001-04-01",
                  "18.156"
                ],
                [
                  "('Mexico', 'Mexico')",
                  "10246",
                  "2001-05-01",
                  "18.121"
                ],
                [
                  "('Mexico', 'Mexico')",
                  "10247",
                  "2001-06-01",
                  "17.809"
                ],
                [
                  "('Mexico', 'Mexico')",
                  "10248",
                  "2001-07-01",
                  "17.570999999999998"
                ],
                [
                  "('Mexico', 'Mexico')",
                  "10249",
                  "2001-08-01",
                  "17.71"
                ],
                [
                  "('Mexico', 'Mexico')",
                  "10250",
                  "2001-09-01",
                  "16.96"
                ],
                [
                  "('Mexico', 'Mexico')",
                  "10251",
                  "2001-10-01",
                  "15.281"
                ],
                [
                  "('Mexico', 'Mexico')",
                  "10252",
                  "2001-11-01",
                  "13.861"
                ],
                [
                  "('Mexico', 'Mexico')",
                  "10253",
                  "2001-12-01",
                  "13.157"
                ],
                [
                  "('Mexico', 'Mexico')",
                  "10254",
                  "2002-01-01",
                  "12.965"
                ],
                [
                  "('Mexico', 'Mexico')",
                  "10255",
                  "2002-02-01",
                  "13.622"
                ],
                [
                  "('Mexico', 'Mexico')",
                  "10256",
                  "2002-03-01",
                  "17.116"
                ],
                [
                  "('Mexico', 'Mexico')",
                  "10257",
                  "2002-04-01",
                  "18.396"
                ],
                [
                  "('Mexico', 'Mexico')",
                  "10258",
                  "2002-05-01",
                  "19.608"
                ],
                [
                  "('Mexico', 'Mexico')",
                  "10259",
                  "2002-06-01",
                  "18.479"
                ],
                [
                  "('Mexico', 'Mexico')",
                  "10260",
                  "2002-07-01",
                  "17.561"
                ],
                [
                  "('Mexico', 'Mexico')",
                  "10261",
                  "2002-08-01",
                  "18.084"
                ],
                [
                  "('Mexico', 'Mexico')",
                  "10262",
                  "2002-09-01",
                  "17.07"
                ],
                [
                  "('Mexico', 'Mexico')",
                  "10263",
                  "2002-10-01",
                  "17.051"
                ],
                [
                  "('Mexico', 'Mexico')",
                  "10264",
                  "2002-11-01",
                  "13.543"
                ],
                [
                  "('Mexico', 'Mexico')",
                  "10265",
                  "2002-12-01",
                  "12.945"
                ],
                [
                  "('Mexico', 'Mexico')",
                  "10266",
                  "2003-01-01",
                  "12.398"
                ],
                [
                  "('Mexico', 'Mexico')",
                  "10267",
                  "2003-02-01",
                  "15.373"
                ],
                [
                  "('Mexico', 'Mexico')",
                  "10268",
                  "2003-03-01",
                  "17.124000000000002"
                ],
                [
                  "('Mexico', 'Mexico')",
                  "10269",
                  "2003-04-01",
                  "18.917"
                ],
                [
                  "('Mexico', 'Mexico')",
                  "10270",
                  "2003-05-01",
                  "20.928"
                ],
                [
                  "('Mexico', 'Mexico')",
                  "10271",
                  "2003-06-01",
                  "18.661"
                ],
                [
                  "('Mexico', 'Mexico')",
                  "10272",
                  "2003-07-01",
                  "17.766000000000005"
                ],
                [
                  "('Mexico', 'Mexico')",
                  "10273",
                  "2003-08-01",
                  "17.783"
                ],
                [
                  "('Mexico', 'Mexico')",
                  "10274",
                  "2003-09-01",
                  "17.66"
                ],
                [
                  "('Mexico', 'Mexico')",
                  "10275",
                  "2003-10-01",
                  "16.386"
                ],
                [
                  "('Mexico', 'Mexico')",
                  "10276",
                  "2003-11-01",
                  "15.194"
                ],
                [
                  "('Mexico', 'Mexico')",
                  "10277",
                  "2003-12-01",
                  "11.623"
                ],
                [
                  "('Mexico', 'Mexico')",
                  "10278",
                  "2004-01-01",
                  "12.455"
                ],
                [
                  "('Mexico', 'Mexico')",
                  "10279",
                  "2004-02-01",
                  "13.95"
                ]
              ],
              "shape": {
                "columns": 3,
                "rows": 330
              }
            },
            "text/html": [
              "<div>\n",
              "<style scoped>\n",
              "    .dataframe tbody tr th:only-of-type {\n",
              "        vertical-align: middle;\n",
              "    }\n",
              "\n",
              "    .dataframe tbody tr th {\n",
              "        vertical-align: top;\n",
              "    }\n",
              "\n",
              "    .dataframe thead th {\n",
              "        text-align: right;\n",
              "    }\n",
              "</style>\n",
              "<table border=\"1\" class=\"dataframe\">\n",
              "  <thead>\n",
              "    <tr style=\"text-align: right;\">\n",
              "      <th></th>\n",
              "      <th></th>\n",
              "      <th>Unnamed: 0</th>\n",
              "      <th>date</th>\n",
              "      <th>avg_temp_c</th>\n",
              "    </tr>\n",
              "    <tr>\n",
              "      <th>country</th>\n",
              "      <th>city</th>\n",
              "      <th></th>\n",
              "      <th></th>\n",
              "      <th></th>\n",
              "    </tr>\n",
              "  </thead>\n",
              "  <tbody>\n",
              "    <tr>\n",
              "      <th rowspan=\"5\" valign=\"top\">Mexico</th>\n",
              "      <th>Mexico</th>\n",
              "      <td>10230</td>\n",
              "      <td>2000-01-01</td>\n",
              "      <td>12.694</td>\n",
              "    </tr>\n",
              "    <tr>\n",
              "      <th>Mexico</th>\n",
              "      <td>10231</td>\n",
              "      <td>2000-02-01</td>\n",
              "      <td>14.677</td>\n",
              "    </tr>\n",
              "    <tr>\n",
              "      <th>Mexico</th>\n",
              "      <td>10232</td>\n",
              "      <td>2000-03-01</td>\n",
              "      <td>17.376</td>\n",
              "    </tr>\n",
              "    <tr>\n",
              "      <th>Mexico</th>\n",
              "      <td>10233</td>\n",
              "      <td>2000-04-01</td>\n",
              "      <td>18.294</td>\n",
              "    </tr>\n",
              "    <tr>\n",
              "      <th>Mexico</th>\n",
              "      <td>10234</td>\n",
              "      <td>2000-05-01</td>\n",
              "      <td>18.562</td>\n",
              "    </tr>\n",
              "    <tr>\n",
              "      <th>...</th>\n",
              "      <th>...</th>\n",
              "      <td>...</td>\n",
              "      <td>...</td>\n",
              "      <td>...</td>\n",
              "    </tr>\n",
              "    <tr>\n",
              "      <th rowspan=\"5\" valign=\"top\">Morocco</th>\n",
              "      <th>Casablanca</th>\n",
              "      <td>3130</td>\n",
              "      <td>2013-05-01</td>\n",
              "      <td>19.217</td>\n",
              "    </tr>\n",
              "    <tr>\n",
              "      <th>Casablanca</th>\n",
              "      <td>3131</td>\n",
              "      <td>2013-06-01</td>\n",
              "      <td>23.649</td>\n",
              "    </tr>\n",
              "    <tr>\n",
              "      <th>Casablanca</th>\n",
              "      <td>3132</td>\n",
              "      <td>2013-07-01</td>\n",
              "      <td>27.488</td>\n",
              "    </tr>\n",
              "    <tr>\n",
              "      <th>Casablanca</th>\n",
              "      <td>3133</td>\n",
              "      <td>2013-08-01</td>\n",
              "      <td>27.952</td>\n",
              "    </tr>\n",
              "    <tr>\n",
              "      <th>Casablanca</th>\n",
              "      <td>3134</td>\n",
              "      <td>2013-09-01</td>\n",
              "      <td>NaN</td>\n",
              "    </tr>\n",
              "  </tbody>\n",
              "</table>\n",
              "<p>330 rows × 3 columns</p>\n",
              "</div>"
            ],
            "text/plain": [
              "                    Unnamed: 0        date  avg_temp_c\n",
              "country city                                          \n",
              "Mexico  Mexico           10230  2000-01-01      12.694\n",
              "        Mexico           10231  2000-02-01      14.677\n",
              "        Mexico           10232  2000-03-01      17.376\n",
              "        Mexico           10233  2000-04-01      18.294\n",
              "        Mexico           10234  2000-05-01      18.562\n",
              "...                        ...         ...         ...\n",
              "Morocco Casablanca        3130  2013-05-01      19.217\n",
              "        Casablanca        3131  2013-06-01      23.649\n",
              "        Casablanca        3132  2013-07-01      27.488\n",
              "        Casablanca        3133  2013-08-01      27.952\n",
              "        Casablanca        3134  2013-09-01         NaN\n",
              "\n",
              "[330 rows x 3 columns]"
            ]
          },
          "metadata": {},
          "output_type": "display_data"
        }
      ],
      "source": [
        "# Try to subset rows from Lahore to Moscow - (This will return nonsense.)\n",
        "display(temperatures_srt.loc[\"Lahore\":\"Moscow\"])"
      ]
    },
    {
      "cell_type": "code",
      "execution_count": 96,
      "id": "06406a71",
      "metadata": {},
      "outputs": [
        {
          "data": {
            "application/vnd.microsoft.datawrangler.viewer.v0+json": {
              "columns": [
                {
                  "name": "('country', 'city')",
                  "rawType": "object",
                  "type": "unknown"
                },
                {
                  "name": "Unnamed: 0",
                  "rawType": "int64",
                  "type": "integer"
                },
                {
                  "name": "date",
                  "rawType": "object",
                  "type": "string"
                },
                {
                  "name": "avg_temp_c",
                  "rawType": "float64",
                  "type": "float"
                }
              ],
              "ref": "3fc13335-8419-4417-acc7-998e1eff7069",
              "rows": [
                [
                  "('Pakistan', 'Lahore')",
                  "8415",
                  "2000-01-01",
                  "12.792"
                ],
                [
                  "('Pakistan', 'Lahore')",
                  "8416",
                  "2000-02-01",
                  "14.339"
                ],
                [
                  "('Pakistan', 'Lahore')",
                  "8417",
                  "2000-03-01",
                  "20.309"
                ],
                [
                  "('Pakistan', 'Lahore')",
                  "8418",
                  "2000-04-01",
                  "29.072"
                ],
                [
                  "('Pakistan', 'Lahore')",
                  "8419",
                  "2000-05-01",
                  "34.845"
                ],
                [
                  "('Pakistan', 'Lahore')",
                  "8420",
                  "2000-06-01",
                  "34.299"
                ],
                [
                  "('Pakistan', 'Lahore')",
                  "8421",
                  "2000-07-01",
                  "32.302"
                ],
                [
                  "('Pakistan', 'Lahore')",
                  "8422",
                  "2000-08-01",
                  "32.255"
                ],
                [
                  "('Pakistan', 'Lahore')",
                  "8423",
                  "2000-09-01",
                  "30.438"
                ],
                [
                  "('Pakistan', 'Lahore')",
                  "8424",
                  "2000-10-01",
                  "27.395"
                ],
                [
                  "('Pakistan', 'Lahore')",
                  "8425",
                  "2000-11-01",
                  "20.64"
                ],
                [
                  "('Pakistan', 'Lahore')",
                  "8426",
                  "2000-12-01",
                  "15.195"
                ],
                [
                  "('Pakistan', 'Lahore')",
                  "8427",
                  "2001-01-01",
                  "11.853"
                ],
                [
                  "('Pakistan', 'Lahore')",
                  "8428",
                  "2001-02-01",
                  "16.701"
                ],
                [
                  "('Pakistan', 'Lahore')",
                  "8429",
                  "2001-03-01",
                  "21.885"
                ],
                [
                  "('Pakistan', 'Lahore')",
                  "8430",
                  "2001-04-01",
                  "26.814"
                ],
                [
                  "('Pakistan', 'Lahore')",
                  "8431",
                  "2001-05-01",
                  "33.924"
                ],
                [
                  "('Pakistan', 'Lahore')",
                  "8432",
                  "2001-06-01",
                  "32.882000000000005"
                ],
                [
                  "('Pakistan', 'Lahore')",
                  "8433",
                  "2001-07-01",
                  "32.090999999999994"
                ],
                [
                  "('Pakistan', 'Lahore')",
                  "8434",
                  "2001-08-01",
                  "32.562"
                ],
                [
                  "('Pakistan', 'Lahore')",
                  "8435",
                  "2001-09-01",
                  "30.615"
                ],
                [
                  "('Pakistan', 'Lahore')",
                  "8436",
                  "2001-10-01",
                  "27.015"
                ],
                [
                  "('Pakistan', 'Lahore')",
                  "8437",
                  "2001-11-01",
                  "20.501"
                ],
                [
                  "('Pakistan', 'Lahore')",
                  "8438",
                  "2001-12-01",
                  "15.306"
                ],
                [
                  "('Pakistan', 'Lahore')",
                  "8439",
                  "2002-01-01",
                  "12.844"
                ],
                [
                  "('Pakistan', 'Lahore')",
                  "8440",
                  "2002-02-01",
                  "15.569"
                ],
                [
                  "('Pakistan', 'Lahore')",
                  "8441",
                  "2002-03-01",
                  "22.269"
                ],
                [
                  "('Pakistan', 'Lahore')",
                  "8442",
                  "2002-04-01",
                  "28.641"
                ],
                [
                  "('Pakistan', 'Lahore')",
                  "8443",
                  "2002-05-01",
                  "34.396"
                ],
                [
                  "('Pakistan', 'Lahore')",
                  "8444",
                  "2002-06-01",
                  "34.613"
                ],
                [
                  "('Pakistan', 'Lahore')",
                  "8445",
                  "2002-07-01",
                  "34.564"
                ],
                [
                  "('Pakistan', 'Lahore')",
                  "8446",
                  "2002-08-01",
                  "32.718"
                ],
                [
                  "('Pakistan', 'Lahore')",
                  "8447",
                  "2002-09-01",
                  "29.322"
                ],
                [
                  "('Pakistan', 'Lahore')",
                  "8448",
                  "2002-10-01",
                  "26.461"
                ],
                [
                  "('Pakistan', 'Lahore')",
                  "8449",
                  "2002-11-01",
                  "20.609"
                ],
                [
                  "('Pakistan', 'Lahore')",
                  "8450",
                  "2002-12-01",
                  "15.308"
                ],
                [
                  "('Pakistan', 'Lahore')",
                  "8451",
                  "2003-01-01",
                  "11.285"
                ],
                [
                  "('Pakistan', 'Lahore')",
                  "8452",
                  "2003-02-01",
                  "15.578"
                ],
                [
                  "('Pakistan', 'Lahore')",
                  "8453",
                  "2003-03-01",
                  "20.81"
                ],
                [
                  "('Pakistan', 'Lahore')",
                  "8454",
                  "2003-04-01",
                  "28.07800000000001"
                ],
                [
                  "('Pakistan', 'Lahore')",
                  "8455",
                  "2003-05-01",
                  "31.784"
                ],
                [
                  "('Pakistan', 'Lahore')",
                  "8456",
                  "2003-06-01",
                  "35.15600000000001"
                ],
                [
                  "('Pakistan', 'Lahore')",
                  "8457",
                  "2003-07-01",
                  "32.379999999999995"
                ],
                [
                  "('Pakistan', 'Lahore')",
                  "8458",
                  "2003-08-01",
                  "31.92"
                ],
                [
                  "('Pakistan', 'Lahore')",
                  "8459",
                  "2003-09-01",
                  "30.605"
                ],
                [
                  "('Pakistan', 'Lahore')",
                  "8460",
                  "2003-10-01",
                  "25.63000000000001"
                ],
                [
                  "('Pakistan', 'Lahore')",
                  "8461",
                  "2003-11-01",
                  "18.777"
                ],
                [
                  "('Pakistan', 'Lahore')",
                  "8462",
                  "2003-12-01",
                  "14.562"
                ],
                [
                  "('Pakistan', 'Lahore')",
                  "8463",
                  "2004-01-01",
                  "12.994000000000002"
                ],
                [
                  "('Pakistan', 'Lahore')",
                  "8464",
                  "2004-02-01",
                  "17.075"
                ]
              ],
              "shape": {
                "columns": 3,
                "rows": 660
              }
            },
            "text/html": [
              "<div>\n",
              "<style scoped>\n",
              "    .dataframe tbody tr th:only-of-type {\n",
              "        vertical-align: middle;\n",
              "    }\n",
              "\n",
              "    .dataframe tbody tr th {\n",
              "        vertical-align: top;\n",
              "    }\n",
              "\n",
              "    .dataframe thead th {\n",
              "        text-align: right;\n",
              "    }\n",
              "</style>\n",
              "<table border=\"1\" class=\"dataframe\">\n",
              "  <thead>\n",
              "    <tr style=\"text-align: right;\">\n",
              "      <th></th>\n",
              "      <th></th>\n",
              "      <th>Unnamed: 0</th>\n",
              "      <th>date</th>\n",
              "      <th>avg_temp_c</th>\n",
              "    </tr>\n",
              "    <tr>\n",
              "      <th>country</th>\n",
              "      <th>city</th>\n",
              "      <th></th>\n",
              "      <th></th>\n",
              "      <th></th>\n",
              "    </tr>\n",
              "  </thead>\n",
              "  <tbody>\n",
              "    <tr>\n",
              "      <th rowspan=\"5\" valign=\"top\">Pakistan</th>\n",
              "      <th>Lahore</th>\n",
              "      <td>8415</td>\n",
              "      <td>2000-01-01</td>\n",
              "      <td>12.792</td>\n",
              "    </tr>\n",
              "    <tr>\n",
              "      <th>Lahore</th>\n",
              "      <td>8416</td>\n",
              "      <td>2000-02-01</td>\n",
              "      <td>14.339</td>\n",
              "    </tr>\n",
              "    <tr>\n",
              "      <th>Lahore</th>\n",
              "      <td>8417</td>\n",
              "      <td>2000-03-01</td>\n",
              "      <td>20.309</td>\n",
              "    </tr>\n",
              "    <tr>\n",
              "      <th>Lahore</th>\n",
              "      <td>8418</td>\n",
              "      <td>2000-04-01</td>\n",
              "      <td>29.072</td>\n",
              "    </tr>\n",
              "    <tr>\n",
              "      <th>Lahore</th>\n",
              "      <td>8419</td>\n",
              "      <td>2000-05-01</td>\n",
              "      <td>34.845</td>\n",
              "    </tr>\n",
              "    <tr>\n",
              "      <th>...</th>\n",
              "      <th>...</th>\n",
              "      <td>...</td>\n",
              "      <td>...</td>\n",
              "      <td>...</td>\n",
              "    </tr>\n",
              "    <tr>\n",
              "      <th rowspan=\"5\" valign=\"top\">Russia</th>\n",
              "      <th>Moscow</th>\n",
              "      <td>10885</td>\n",
              "      <td>2013-05-01</td>\n",
              "      <td>16.152</td>\n",
              "    </tr>\n",
              "    <tr>\n",
              "      <th>Moscow</th>\n",
              "      <td>10886</td>\n",
              "      <td>2013-06-01</td>\n",
              "      <td>18.718</td>\n",
              "    </tr>\n",
              "    <tr>\n",
              "      <th>Moscow</th>\n",
              "      <td>10887</td>\n",
              "      <td>2013-07-01</td>\n",
              "      <td>18.136</td>\n",
              "    </tr>\n",
              "    <tr>\n",
              "      <th>Moscow</th>\n",
              "      <td>10888</td>\n",
              "      <td>2013-08-01</td>\n",
              "      <td>17.485</td>\n",
              "    </tr>\n",
              "    <tr>\n",
              "      <th>Moscow</th>\n",
              "      <td>10889</td>\n",
              "      <td>2013-09-01</td>\n",
              "      <td>NaN</td>\n",
              "    </tr>\n",
              "  </tbody>\n",
              "</table>\n",
              "<p>660 rows × 3 columns</p>\n",
              "</div>"
            ],
            "text/plain": [
              "                 Unnamed: 0        date  avg_temp_c\n",
              "country  city                                      \n",
              "Pakistan Lahore        8415  2000-01-01      12.792\n",
              "         Lahore        8416  2000-02-01      14.339\n",
              "         Lahore        8417  2000-03-01      20.309\n",
              "         Lahore        8418  2000-04-01      29.072\n",
              "         Lahore        8419  2000-05-01      34.845\n",
              "...                     ...         ...         ...\n",
              "Russia   Moscow       10885  2013-05-01      16.152\n",
              "         Moscow       10886  2013-06-01      18.718\n",
              "         Moscow       10887  2013-07-01      18.136\n",
              "         Moscow       10888  2013-08-01      17.485\n",
              "         Moscow       10889  2013-09-01         NaN\n",
              "\n",
              "[660 rows x 3 columns]"
            ]
          },
          "metadata": {},
          "output_type": "display_data"
        }
      ],
      "source": [
        "# Subset rows from Pakistan, Lahore to Russia, Moscow\n",
        "display(temperatures_srt.loc[\n",
        "    (\"Pakistan\", \"Lahore\"):(\"Russia\",\"Moscow\")\n",
        "])"
      ]
    },
    {
      "cell_type": "markdown",
      "id": "2cdabdb8",
      "metadata": {},
      "source": [
        "### Slicing in both directions\n",
        "You've seen slicing DataFrames by rows and by columns, but since DataFrames are two-dimensional objects, it is often natural to slice both dimensions at once. That is, by passing two arguments to `.loc[]`, you can subset by rows and columns in one go."
      ]
    },
    {
      "cell_type": "code",
      "execution_count": null,
      "id": "26cd5eae",
      "metadata": {},
      "outputs": [],
      "source": []
    }
  ],
  "metadata": {
    "colab": {
      "include_colab_link": true,
      "machine_shape": "hm",
      "provenance": []
    },
    "kernelspec": {
      "display_name": "datacamp",
      "language": "python",
      "name": "python3"
    },
    "language_info": {
      "codemirror_mode": {
        "name": "ipython",
        "version": 3
      },
      "file_extension": ".py",
      "mimetype": "text/x-python",
      "name": "python",
      "nbconvert_exporter": "python",
      "pygments_lexer": "ipython3",
      "version": "3.12.8"
    }
  },
  "nbformat": 4,
  "nbformat_minor": 5
}
