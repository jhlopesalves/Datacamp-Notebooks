{
  "cells": [
    {
      "cell_type": "code",
      "execution_count": 1,
      "id": "8d67c7ba",
      "metadata": {
        "id": "8d67c7ba"
      },
      "outputs": [],
      "source": [
        "import matplotlib.pyplot as plt\n",
        "import numpy as np\n",
        "import pandas as pd\n",
        "import seaborn as sns\n",
        "import os"
      ]
    },
    {
      "cell_type": "code",
      "execution_count": 2,
      "id": "3rg61WTDt8Em",
      "metadata": {
        "colab": {
          "base_uri": "https://localhost:8080/"
        },
        "id": "3rg61WTDt8Em",
        "outputId": "e3a20615-30e1-4273-dda6-d51fa045638c"
      },
      "outputs": [
        {
          "name": "stderr",
          "output_type": "stream",
          "text": [
            "'wget' is not recognized as an internal or external command,\n",
            "operable program or batch file.\n",
            "'wget' is not recognized as an internal or external command,\n",
            "operable program or batch file.\n",
            "'wget' is not recognized as an internal or external command,\n",
            "operable program or batch file.\n",
            "'wget' is not recognized as an internal or external command,\n",
            "operable program or batch file.\n",
            "'wget' is not recognized as an internal or external command,\n",
            "operable program or batch file.\n",
            "'wget' is not recognized as an internal or external command,\n",
            "operable program or batch file.\n"
          ]
        },
        {
          "name": "stdout",
          "output_type": "stream",
          "text": [
            "All files downloaded successfully.\n"
          ]
        }
      ],
      "source": [
        "# Ensure the data directory exists\n",
        "if not os.path.exists('data'):\n",
        "    os.makedirs('data')\n",
        "\n",
        "# List of raw-GitHub URLs to download\n",
        "urls = [\n",
        "    \"https://raw.githubusercontent.com/jhlopesalves/Datacamp-Notebooks/main/Python/Exploratory%20Data%20Analysis/data/clean_books.csv\",\n",
        "    \"https://raw.githubusercontent.com/jhlopesalves/Datacamp-Notebooks/main/Python/Exploratory%20Data%20Analysis/data/clean_unemployment.csv\",\n",
        "    \"https://raw.githubusercontent.com/jhlopesalves/Datacamp-Notebooks/main/Python/Exploratory%20Data%20Analysis/data/divorce.csv\",\n",
        "    \"https://raw.githubusercontent.com/jhlopesalves/Datacamp-Notebooks/main/Python/Exploratory%20Data%20Analysis/data/ds_salaries_clean.csv\",\n",
        "    \"https://raw.githubusercontent.com/jhlopesalves/Datacamp-Notebooks/main/Python/Exploratory%20Data%20Analysis/data/ds_salaries.csv\",\n",
        "    \"https://raw.githubusercontent.com/jhlopesalves/Datacamp-Notebooks/main/Python/Exploratory%20Data%20Analysis/data/planes.csv\",\n",
        "]\n",
        "\n",
        "# Run wget in quiet mode for each URL\n",
        "for url in urls:\n",
        "    # -q suppresses all output; -P directs output into 'data/' directory\n",
        "    !wget -q -P data/ \"{url}\"\n",
        "\n",
        "# Single success message\n",
        "print(\"All files downloaded successfully.\")\n"
      ]
    },
    {
      "cell_type": "markdown",
      "id": "N9fSIwjAcQ7J",
      "metadata": {
        "id": "N9fSIwjAcQ7J"
      },
      "source": [
        "## Getting to Know a Dataset\n",
        "What's the best way to approach a new dataset? Learn to validate and summarize categorical and numerical data and create Seaborn visualizations to communicate your findings.\n",
        "\n",
        "\n"
      ]
    },
    {
      "cell_type": "code",
      "execution_count": 3,
      "id": "efc766ae",
      "metadata": {
        "colab": {
          "base_uri": "https://localhost:8080/",
          "height": 206
        },
        "id": "efc766ae",
        "outputId": "b706b851-bd39-40e8-9468-24127e20de1a"
      },
      "outputs": [
        {
          "data": {
            "application/vnd.microsoft.datawrangler.viewer.v0+json": {
              "columns": [
                {
                  "name": "index",
                  "rawType": "int64",
                  "type": "integer"
                },
                {
                  "name": "name",
                  "rawType": "object",
                  "type": "string"
                },
                {
                  "name": "author",
                  "rawType": "object",
                  "type": "string"
                },
                {
                  "name": "rating",
                  "rawType": "float64",
                  "type": "float"
                },
                {
                  "name": "year",
                  "rawType": "int64",
                  "type": "integer"
                },
                {
                  "name": "genre",
                  "rawType": "object",
                  "type": "string"
                }
              ],
              "ref": "5ff47b9f-680d-44a4-b136-fa0f93bd8d65",
              "rows": [
                [
                  "0",
                  "10-Day Green Smoothie Cleanse",
                  "JJ Smith",
                  "4.7",
                  "2016",
                  "Non Fiction"
                ],
                [
                  "1",
                  "11/22/63: A Novel",
                  "Stephen King",
                  "4.6",
                  "2011",
                  "Fiction"
                ],
                [
                  "2",
                  "12 Rules for Life: An Antidote to Chaos",
                  "Jordan B. Peterson",
                  "4.7",
                  "2018",
                  "Non Fiction"
                ],
                [
                  "3",
                  "1984 (Signet Classics)",
                  "George Orwell",
                  "4.7",
                  "2017",
                  "Fiction"
                ],
                [
                  "4",
                  "5,000 Awesome Facts (About Everything!) (National Geographic Kids)",
                  "National Geographic Kids",
                  "4.8",
                  "2019",
                  "Childrens"
                ]
              ],
              "shape": {
                "columns": 5,
                "rows": 5
              }
            },
            "text/html": [
              "<div>\n",
              "<style scoped>\n",
              "    .dataframe tbody tr th:only-of-type {\n",
              "        vertical-align: middle;\n",
              "    }\n",
              "\n",
              "    .dataframe tbody tr th {\n",
              "        vertical-align: top;\n",
              "    }\n",
              "\n",
              "    .dataframe thead th {\n",
              "        text-align: right;\n",
              "    }\n",
              "</style>\n",
              "<table border=\"1\" class=\"dataframe\">\n",
              "  <thead>\n",
              "    <tr style=\"text-align: right;\">\n",
              "      <th></th>\n",
              "      <th>name</th>\n",
              "      <th>author</th>\n",
              "      <th>rating</th>\n",
              "      <th>year</th>\n",
              "      <th>genre</th>\n",
              "    </tr>\n",
              "  </thead>\n",
              "  <tbody>\n",
              "    <tr>\n",
              "      <th>0</th>\n",
              "      <td>10-Day Green Smoothie Cleanse</td>\n",
              "      <td>JJ Smith</td>\n",
              "      <td>4.7</td>\n",
              "      <td>2016</td>\n",
              "      <td>Non Fiction</td>\n",
              "    </tr>\n",
              "    <tr>\n",
              "      <th>1</th>\n",
              "      <td>11/22/63: A Novel</td>\n",
              "      <td>Stephen King</td>\n",
              "      <td>4.6</td>\n",
              "      <td>2011</td>\n",
              "      <td>Fiction</td>\n",
              "    </tr>\n",
              "    <tr>\n",
              "      <th>2</th>\n",
              "      <td>12 Rules for Life: An Antidote to Chaos</td>\n",
              "      <td>Jordan B. Peterson</td>\n",
              "      <td>4.7</td>\n",
              "      <td>2018</td>\n",
              "      <td>Non Fiction</td>\n",
              "    </tr>\n",
              "    <tr>\n",
              "      <th>3</th>\n",
              "      <td>1984 (Signet Classics)</td>\n",
              "      <td>George Orwell</td>\n",
              "      <td>4.7</td>\n",
              "      <td>2017</td>\n",
              "      <td>Fiction</td>\n",
              "    </tr>\n",
              "    <tr>\n",
              "      <th>4</th>\n",
              "      <td>5,000 Awesome Facts (About Everything!) (Natio...</td>\n",
              "      <td>National Geographic Kids</td>\n",
              "      <td>4.8</td>\n",
              "      <td>2019</td>\n",
              "      <td>Childrens</td>\n",
              "    </tr>\n",
              "  </tbody>\n",
              "</table>\n",
              "</div>"
            ],
            "text/plain": [
              "                                                name  \\\n",
              "0                      10-Day Green Smoothie Cleanse   \n",
              "1                                  11/22/63: A Novel   \n",
              "2            12 Rules for Life: An Antidote to Chaos   \n",
              "3                             1984 (Signet Classics)   \n",
              "4  5,000 Awesome Facts (About Everything!) (Natio...   \n",
              "\n",
              "                     author  rating  year        genre  \n",
              "0                  JJ Smith     4.7  2016  Non Fiction  \n",
              "1              Stephen King     4.6  2011      Fiction  \n",
              "2        Jordan B. Peterson     4.7  2018  Non Fiction  \n",
              "3             George Orwell     4.7  2017      Fiction  \n",
              "4  National Geographic Kids     4.8  2019    Childrens  "
            ]
          },
          "execution_count": 3,
          "metadata": {},
          "output_type": "execute_result"
        }
      ],
      "source": [
        "books = pd.read_csv(\"data/clean_books.csv\")\n",
        "books.head()"
      ]
    },
    {
      "cell_type": "code",
      "execution_count": 4,
      "id": "e5d6a52e",
      "metadata": {
        "colab": {
          "base_uri": "https://localhost:8080/",
          "height": 449
        },
        "id": "e5d6a52e",
        "outputId": "35bcd1e2-bd16-4928-c002-c8f92d107cb0"
      },
      "outputs": [
        {
          "data": {
            "image/png": "[encoded data removed]",
            "text/plain": [
              "<Figure size 640x480 with 1 Axes>"
            ]
          },
          "metadata": {},
          "output_type": "display_data"
        }
      ],
      "source": [
        "sns.histplot(data=books, x=\"rating\", binwidth=.1)\n",
        "plt.show()"
      ]
    },
    {
      "cell_type": "code",
      "execution_count": 5,
      "id": "f01248c3",
      "metadata": {
        "colab": {
          "base_uri": "https://localhost:8080/",
          "height": 175
        },
        "id": "f01248c3",
        "outputId": "edb3010d-c40d-46bf-fab3-302262e9e95a"
      },
      "outputs": [
        {
          "data": {
            "application/vnd.microsoft.datawrangler.viewer.v0+json": {
              "columns": [
                {
                  "name": "genre",
                  "rawType": "object",
                  "type": "string"
                },
                {
                  "name": "rating",
                  "rawType": "float64",
                  "type": "float"
                },
                {
                  "name": "year",
                  "rawType": "float64",
                  "type": "float"
                }
              ],
              "ref": "cdb0f48f-e11a-4b3c-9054-b8a7908d181d",
              "rows": [
                [
                  "Childrens",
                  "4.779999999999999",
                  "2015.075"
                ],
                [
                  "Fiction",
                  "4.570229007633588",
                  "2013.0229007633588"
                ],
                [
                  "Non Fiction",
                  "4.598324022346369",
                  "2013.513966480447"
                ]
              ],
              "shape": {
                "columns": 2,
                "rows": 3
              }
            },
            "text/html": [
              "<div>\n",
              "<style scoped>\n",
              "    .dataframe tbody tr th:only-of-type {\n",
              "        vertical-align: middle;\n",
              "    }\n",
              "\n",
              "    .dataframe tbody tr th {\n",
              "        vertical-align: top;\n",
              "    }\n",
              "\n",
              "    .dataframe thead th {\n",
              "        text-align: right;\n",
              "    }\n",
              "</style>\n",
              "<table border=\"1\" class=\"dataframe\">\n",
              "  <thead>\n",
              "    <tr style=\"text-align: right;\">\n",
              "      <th></th>\n",
              "      <th>rating</th>\n",
              "      <th>year</th>\n",
              "    </tr>\n",
              "    <tr>\n",
              "      <th>genre</th>\n",
              "      <th></th>\n",
              "      <th></th>\n",
              "    </tr>\n",
              "  </thead>\n",
              "  <tbody>\n",
              "    <tr>\n",
              "      <th>Childrens</th>\n",
              "      <td>4.780000</td>\n",
              "      <td>2015.075000</td>\n",
              "    </tr>\n",
              "    <tr>\n",
              "      <th>Fiction</th>\n",
              "      <td>4.570229</td>\n",
              "      <td>2013.022901</td>\n",
              "    </tr>\n",
              "    <tr>\n",
              "      <th>Non Fiction</th>\n",
              "      <td>4.598324</td>\n",
              "      <td>2013.513966</td>\n",
              "    </tr>\n",
              "  </tbody>\n",
              "</table>\n",
              "</div>"
            ],
            "text/plain": [
              "               rating         year\n",
              "genre                             \n",
              "Childrens    4.780000  2015.075000\n",
              "Fiction      4.570229  2013.022901\n",
              "Non Fiction  4.598324  2013.513966"
            ]
          },
          "execution_count": 5,
          "metadata": {},
          "output_type": "execute_result"
        }
      ],
      "source": [
        "books.groupby(\"genre\").mean(numeric_only=True)"
      ]
    },
    {
      "cell_type": "code",
      "execution_count": 6,
      "id": "Vg18BnlH-7mW",
      "metadata": {
        "colab": {
          "base_uri": "https://localhost:8080/",
          "height": 112
        },
        "id": "Vg18BnlH-7mW",
        "outputId": "01d4e095-d9d5-48ec-9709-9a8d2d13622c"
      },
      "outputs": [
        {
          "data": {
            "application/vnd.microsoft.datawrangler.viewer.v0+json": {
              "columns": [
                {
                  "name": "index",
                  "rawType": "object",
                  "type": "string"
                },
                {
                  "name": "rating",
                  "rawType": "float64",
                  "type": "float"
                },
                {
                  "name": "year",
                  "rawType": "float64",
                  "type": "float"
                }
              ],
              "ref": "3309b6e1-c9bd-474b-aa78-14e093350136",
              "rows": [
                [
                  "mean",
                  "4.6085714285714285",
                  "2013.5085714285715"
                ],
                [
                  "std",
                  "0.22694107457737037",
                  "3.2847107332154124"
                ]
              ],
              "shape": {
                "columns": 2,
                "rows": 2
              }
            },
            "text/html": [
              "<div>\n",
              "<style scoped>\n",
              "    .dataframe tbody tr th:only-of-type {\n",
              "        vertical-align: middle;\n",
              "    }\n",
              "\n",
              "    .dataframe tbody tr th {\n",
              "        vertical-align: top;\n",
              "    }\n",
              "\n",
              "    .dataframe thead th {\n",
              "        text-align: right;\n",
              "    }\n",
              "</style>\n",
              "<table border=\"1\" class=\"dataframe\">\n",
              "  <thead>\n",
              "    <tr style=\"text-align: right;\">\n",
              "      <th></th>\n",
              "      <th>rating</th>\n",
              "      <th>year</th>\n",
              "    </tr>\n",
              "  </thead>\n",
              "  <tbody>\n",
              "    <tr>\n",
              "      <th>mean</th>\n",
              "      <td>4.608571</td>\n",
              "      <td>2013.508571</td>\n",
              "    </tr>\n",
              "    <tr>\n",
              "      <th>std</th>\n",
              "      <td>0.226941</td>\n",
              "      <td>3.284711</td>\n",
              "    </tr>\n",
              "  </tbody>\n",
              "</table>\n",
              "</div>"
            ],
            "text/plain": [
              "        rating         year\n",
              "mean  4.608571  2013.508571\n",
              "std   0.226941     3.284711"
            ]
          },
          "execution_count": 6,
          "metadata": {},
          "output_type": "execute_result"
        }
      ],
      "source": [
        "books.select_dtypes(include=np.number).agg([\"mean\", \"std\"])"
      ]
    },
    {
      "cell_type": "code",
      "execution_count": 7,
      "id": "7wvenz_R_Wln",
      "metadata": {
        "colab": {
          "base_uri": "https://localhost:8080/",
          "height": 143
        },
        "id": "7wvenz_R_Wln",
        "outputId": "2af8cf54-f6eb-4718-9462-32cad48c2991"
      },
      "outputs": [
        {
          "data": {
            "application/vnd.microsoft.datawrangler.viewer.v0+json": {
              "columns": [
                {
                  "name": "index",
                  "rawType": "object",
                  "type": "string"
                },
                {
                  "name": "rating",
                  "rawType": "float64",
                  "type": "float"
                },
                {
                  "name": "year",
                  "rawType": "float64",
                  "type": "float"
                }
              ],
              "ref": "6617c3e0-9163-48c4-9c2c-586a797e3088",
              "rows": [
                [
                  "mean",
                  "4.6085714285714285",
                  null
                ],
                [
                  "std",
                  "0.22694107457737037",
                  null
                ],
                [
                  "median",
                  null,
                  "2013.0"
                ]
              ],
              "shape": {
                "columns": 2,
                "rows": 3
              }
            },
            "text/html": [
              "<div>\n",
              "<style scoped>\n",
              "    .dataframe tbody tr th:only-of-type {\n",
              "        vertical-align: middle;\n",
              "    }\n",
              "\n",
              "    .dataframe tbody tr th {\n",
              "        vertical-align: top;\n",
              "    }\n",
              "\n",
              "    .dataframe thead th {\n",
              "        text-align: right;\n",
              "    }\n",
              "</style>\n",
              "<table border=\"1\" class=\"dataframe\">\n",
              "  <thead>\n",
              "    <tr style=\"text-align: right;\">\n",
              "      <th></th>\n",
              "      <th>rating</th>\n",
              "      <th>year</th>\n",
              "    </tr>\n",
              "  </thead>\n",
              "  <tbody>\n",
              "    <tr>\n",
              "      <th>mean</th>\n",
              "      <td>4.608571</td>\n",
              "      <td>NaN</td>\n",
              "    </tr>\n",
              "    <tr>\n",
              "      <th>std</th>\n",
              "      <td>0.226941</td>\n",
              "      <td>NaN</td>\n",
              "    </tr>\n",
              "    <tr>\n",
              "      <th>median</th>\n",
              "      <td>NaN</td>\n",
              "      <td>2013.0</td>\n",
              "    </tr>\n",
              "  </tbody>\n",
              "</table>\n",
              "</div>"
            ],
            "text/plain": [
              "          rating    year\n",
              "mean    4.608571     NaN\n",
              "std     0.226941     NaN\n",
              "median       NaN  2013.0"
            ]
          },
          "execution_count": 7,
          "metadata": {},
          "output_type": "execute_result"
        }
      ],
      "source": [
        "books.select_dtypes(include=np.number).agg({\"rating\": [\"mean\", \"std\"], \"year\":[\"median\"]})"
      ]
    },
    {
      "cell_type": "code",
      "execution_count": 8,
      "id": "KXxuBKiEAIp6",
      "metadata": {
        "colab": {
          "base_uri": "https://localhost:8080/",
          "height": 175
        },
        "id": "KXxuBKiEAIp6",
        "outputId": "c09fa8de-e18a-4e2a-8109-d0bda21f465a"
      },
      "outputs": [
        {
          "data": {
            "application/vnd.microsoft.datawrangler.viewer.v0+json": {
              "columns": [
                {
                  "name": "genre",
                  "rawType": "object",
                  "type": "string"
                },
                {
                  "name": "mean_rating",
                  "rawType": "float64",
                  "type": "float"
                },
                {
                  "name": "std_rating",
                  "rawType": "float64",
                  "type": "float"
                },
                {
                  "name": "median_year",
                  "rawType": "float64",
                  "type": "float"
                }
              ],
              "ref": "8a859948-2237-4fbf-b4d5-2e932a4918d5",
              "rows": [
                [
                  "Childrens",
                  "4.779999999999999",
                  "0.12236976331741024",
                  "2015.0"
                ],
                [
                  "Fiction",
                  "4.570229007633588",
                  "0.2811226549961503",
                  "2013.0"
                ],
                [
                  "Non Fiction",
                  "4.598324022346369",
                  "0.17941066455067908",
                  "2013.0"
                ]
              ],
              "shape": {
                "columns": 3,
                "rows": 3
              }
            },
            "text/html": [
              "<div>\n",
              "<style scoped>\n",
              "    .dataframe tbody tr th:only-of-type {\n",
              "        vertical-align: middle;\n",
              "    }\n",
              "\n",
              "    .dataframe tbody tr th {\n",
              "        vertical-align: top;\n",
              "    }\n",
              "\n",
              "    .dataframe thead th {\n",
              "        text-align: right;\n",
              "    }\n",
              "</style>\n",
              "<table border=\"1\" class=\"dataframe\">\n",
              "  <thead>\n",
              "    <tr style=\"text-align: right;\">\n",
              "      <th></th>\n",
              "      <th>mean_rating</th>\n",
              "      <th>std_rating</th>\n",
              "      <th>median_year</th>\n",
              "    </tr>\n",
              "    <tr>\n",
              "      <th>genre</th>\n",
              "      <th></th>\n",
              "      <th></th>\n",
              "      <th></th>\n",
              "    </tr>\n",
              "  </thead>\n",
              "  <tbody>\n",
              "    <tr>\n",
              "      <th>Childrens</th>\n",
              "      <td>4.780000</td>\n",
              "      <td>0.122370</td>\n",
              "      <td>2015.0</td>\n",
              "    </tr>\n",
              "    <tr>\n",
              "      <th>Fiction</th>\n",
              "      <td>4.570229</td>\n",
              "      <td>0.281123</td>\n",
              "      <td>2013.0</td>\n",
              "    </tr>\n",
              "    <tr>\n",
              "      <th>Non Fiction</th>\n",
              "      <td>4.598324</td>\n",
              "      <td>0.179411</td>\n",
              "      <td>2013.0</td>\n",
              "    </tr>\n",
              "  </tbody>\n",
              "</table>\n",
              "</div>"
            ],
            "text/plain": [
              "             mean_rating  std_rating  median_year\n",
              "genre                                            \n",
              "Childrens       4.780000    0.122370       2015.0\n",
              "Fiction         4.570229    0.281123       2013.0\n",
              "Non Fiction     4.598324    0.179411       2013.0"
            ]
          },
          "execution_count": 8,
          "metadata": {},
          "output_type": "execute_result"
        }
      ],
      "source": [
        "books.groupby(\"genre\").agg(\n",
        "    mean_rating=(\"rating\", \"mean\"),\n",
        "    std_rating=(\"rating\", \"std\"),\n",
        "    median_year=(\"year\", \"median\")\n",
        ")"
      ]
    },
    {
      "cell_type": "markdown",
      "id": "AHrvYqXeC--S",
      "metadata": {
        "id": "AHrvYqXeC--S"
      },
      "source": [
        "### Summaries with .groupby() and .agg()\n",
        "In this exercise, you'll explore the means and standard deviations of the yearly unemployment data. First, you'll find means and standard deviations regardless of the continent to observe worldwide unemployment trends. Then, you'll check unemployment trends broken down by continent."
      ]
    },
    {
      "cell_type": "code",
      "execution_count": 9,
      "id": "XIvb8TziBToB",
      "metadata": {
        "id": "XIvb8TziBToB"
      },
      "outputs": [],
      "source": [
        "unemployment = pd.read_csv(\"data/clean_unemployment.csv\")"
      ]
    },
    {
      "cell_type": "code",
      "execution_count": 10,
      "id": "2OsGGiQlC6lK",
      "metadata": {
        "colab": {
          "base_uri": "https://localhost:8080/",
          "height": 112
        },
        "id": "2OsGGiQlC6lK",
        "outputId": "27f10378-83f3-499c-871d-2ef1a04a9555"
      },
      "outputs": [
        {
          "data": {
            "application/vnd.microsoft.datawrangler.viewer.v0+json": {
              "columns": [
                {
                  "name": "index",
                  "rawType": "object",
                  "type": "string"
                },
                {
                  "name": "2010",
                  "rawType": "float64",
                  "type": "float"
                },
                {
                  "name": "2011",
                  "rawType": "float64",
                  "type": "float"
                },
                {
                  "name": "2012",
                  "rawType": "float64",
                  "type": "float"
                },
                {
                  "name": "2013",
                  "rawType": "float64",
                  "type": "float"
                },
                {
                  "name": "2014",
                  "rawType": "float64",
                  "type": "float"
                },
                {
                  "name": "2015",
                  "rawType": "float64",
                  "type": "float"
                },
                {
                  "name": "2016",
                  "rawType": "float64",
                  "type": "float"
                },
                {
                  "name": "2017",
                  "rawType": "float64",
                  "type": "float"
                },
                {
                  "name": "2018",
                  "rawType": "float64",
                  "type": "float"
                },
                {
                  "name": "2019",
                  "rawType": "float64",
                  "type": "float"
                },
                {
                  "name": "2020",
                  "rawType": "float64",
                  "type": "float"
                },
                {
                  "name": "2021",
                  "rawType": "float64",
                  "type": "float"
                }
              ],
              "ref": "938c0251-6514-4074-8267-c56dc8a48665",
              "rows": [
                [
                  "mean",
                  "8.409285714285714",
                  "8.31543956043956",
                  "8.317967032967033",
                  "8.344780219780219",
                  "8.17967032967033",
                  "8.058901098901098",
                  "7.925879120879119",
                  "7.668626373626374",
                  "7.426428571428571",
                  "7.243736263736263",
                  "8.420934065934066",
                  "8.390879120879122"
                ],
                [
                  "std",
                  "6.248886931667684",
                  "6.266794767386903",
                  "6.367269876365001",
                  "6.416040646359651",
                  "6.284240914272588",
                  "6.16117023586002",
                  "6.045438538553597",
                  "5.902151755105511",
                  "5.818914661464903",
                  "5.696572517698331",
                  "6.04091489046657",
                  "6.067191846516359"
                ]
              ],
              "shape": {
                "columns": 12,
                "rows": 2
              }
            },
            "text/html": [
              "<div>\n",
              "<style scoped>\n",
              "    .dataframe tbody tr th:only-of-type {\n",
              "        vertical-align: middle;\n",
              "    }\n",
              "\n",
              "    .dataframe tbody tr th {\n",
              "        vertical-align: top;\n",
              "    }\n",
              "\n",
              "    .dataframe thead th {\n",
              "        text-align: right;\n",
              "    }\n",
              "</style>\n",
              "<table border=\"1\" class=\"dataframe\">\n",
              "  <thead>\n",
              "    <tr style=\"text-align: right;\">\n",
              "      <th></th>\n",
              "      <th>2010</th>\n",
              "      <th>2011</th>\n",
              "      <th>2012</th>\n",
              "      <th>2013</th>\n",
              "      <th>2014</th>\n",
              "      <th>2015</th>\n",
              "      <th>2016</th>\n",
              "      <th>2017</th>\n",
              "      <th>2018</th>\n",
              "      <th>2019</th>\n",
              "      <th>2020</th>\n",
              "      <th>2021</th>\n",
              "    </tr>\n",
              "  </thead>\n",
              "  <tbody>\n",
              "    <tr>\n",
              "      <th>mean</th>\n",
              "      <td>8.409286</td>\n",
              "      <td>8.315440</td>\n",
              "      <td>8.317967</td>\n",
              "      <td>8.344780</td>\n",
              "      <td>8.179670</td>\n",
              "      <td>8.058901</td>\n",
              "      <td>7.925879</td>\n",
              "      <td>7.668626</td>\n",
              "      <td>7.426429</td>\n",
              "      <td>7.243736</td>\n",
              "      <td>8.420934</td>\n",
              "      <td>8.390879</td>\n",
              "    </tr>\n",
              "    <tr>\n",
              "      <th>std</th>\n",
              "      <td>6.248887</td>\n",
              "      <td>6.266795</td>\n",
              "      <td>6.367270</td>\n",
              "      <td>6.416041</td>\n",
              "      <td>6.284241</td>\n",
              "      <td>6.161170</td>\n",
              "      <td>6.045439</td>\n",
              "      <td>5.902152</td>\n",
              "      <td>5.818915</td>\n",
              "      <td>5.696573</td>\n",
              "      <td>6.040915</td>\n",
              "      <td>6.067192</td>\n",
              "    </tr>\n",
              "  </tbody>\n",
              "</table>\n",
              "</div>"
            ],
            "text/plain": [
              "          2010      2011      2012      2013      2014      2015      2016  \\\n",
              "mean  8.409286  8.315440  8.317967  8.344780  8.179670  8.058901  7.925879   \n",
              "std   6.248887  6.266795  6.367270  6.416041  6.284241  6.161170  6.045439   \n",
              "\n",
              "          2017      2018      2019      2020      2021  \n",
              "mean  7.668626  7.426429  7.243736  8.420934  8.390879  \n",
              "std   5.902152  5.818915  5.696573  6.040915  6.067192  "
            ]
          },
          "metadata": {},
          "output_type": "display_data"
        }
      ],
      "source": [
        "# Print yearly mean and standard deviation grouped by continent\n",
        "display(unemployment.select_dtypes(include=np.number).agg([\"mean\", \"std\"]))"
      ]
    },
    {
      "cell_type": "code",
      "execution_count": 11,
      "id": "5osxfOYkDwpY",
      "metadata": {
        "colab": {
          "base_uri": "https://localhost:8080/",
          "height": 384
        },
        "id": "5osxfOYkDwpY",
        "outputId": "b232062d-dccf-433e-86cc-11980333be88"
      },
      "outputs": [
        {
          "data": {
            "application/vnd.microsoft.datawrangler.viewer.v0+json": {
              "columns": [
                {
                  "name": "continent",
                  "rawType": "object",
                  "type": "string"
                },
                {
                  "name": "('2010', 'mean')",
                  "rawType": "float64",
                  "type": "float"
                },
                {
                  "name": "('2010', 'std')",
                  "rawType": "float64",
                  "type": "float"
                },
                {
                  "name": "('2011', 'mean')",
                  "rawType": "float64",
                  "type": "float"
                },
                {
                  "name": "('2011', 'std')",
                  "rawType": "float64",
                  "type": "float"
                },
                {
                  "name": "('2012', 'mean')",
                  "rawType": "float64",
                  "type": "float"
                },
                {
                  "name": "('2012', 'std')",
                  "rawType": "float64",
                  "type": "float"
                },
                {
                  "name": "('2013', 'mean')",
                  "rawType": "float64",
                  "type": "float"
                },
                {
                  "name": "('2013', 'std')",
                  "rawType": "float64",
                  "type": "float"
                },
                {
                  "name": "('2014', 'mean')",
                  "rawType": "float64",
                  "type": "float"
                },
                {
                  "name": "('2014', 'std')",
                  "rawType": "float64",
                  "type": "float"
                },
                {
                  "name": "('2015', 'mean')",
                  "rawType": "float64",
                  "type": "float"
                },
                {
                  "name": "('2015', 'std')",
                  "rawType": "float64",
                  "type": "float"
                },
                {
                  "name": "('2016', 'mean')",
                  "rawType": "float64",
                  "type": "float"
                },
                {
                  "name": "('2016', 'std')",
                  "rawType": "float64",
                  "type": "float"
                },
                {
                  "name": "('2017', 'mean')",
                  "rawType": "float64",
                  "type": "float"
                },
                {
                  "name": "('2017', 'std')",
                  "rawType": "float64",
                  "type": "float"
                },
                {
                  "name": "('2018', 'mean')",
                  "rawType": "float64",
                  "type": "float"
                },
                {
                  "name": "('2018', 'std')",
                  "rawType": "float64",
                  "type": "float"
                },
                {
                  "name": "('2019', 'mean')",
                  "rawType": "float64",
                  "type": "float"
                },
                {
                  "name": "('2019', 'std')",
                  "rawType": "float64",
                  "type": "float"
                },
                {
                  "name": "('2020', 'mean')",
                  "rawType": "float64",
                  "type": "float"
                },
                {
                  "name": "('2020', 'std')",
                  "rawType": "float64",
                  "type": "float"
                },
                {
                  "name": "('2021', 'mean')",
                  "rawType": "float64",
                  "type": "float"
                },
                {
                  "name": "('2021', 'std')",
                  "rawType": "float64",
                  "type": "float"
                }
              ],
              "ref": "30c8ba23-b87c-41dc-b764-d890cf76bf67",
              "rows": [
                [
                  "Africa",
                  "9.343584905660377",
                  "7.411259390107736",
                  "9.369245283018868",
                  "7.401555930254074",
                  "9.240754716981131",
                  "7.26454240420726",
                  "9.13245283018868",
                  "7.309284639747422",
                  "9.121320754716981",
                  "7.291359490661598",
                  "9.222075471698114",
                  "7.349322668552672",
                  "9.27754716981132",
                  "7.459438756383233",
                  "9.284528301886793",
                  "7.407620184138279",
                  "9.237924528301887",
                  "7.358424621973877",
                  "9.26433962264151",
                  "7.45529303696734",
                  "10.307735849056602",
                  "7.928165866441336",
                  "10.473584905660378",
                  "8.13163553762039"
                ],
                [
                  "Asia",
                  "6.240638297872341",
                  "5.146174773665395",
                  "5.942127659574469",
                  "4.779575174941176",
                  "5.83531914893617",
                  "4.756904296166385",
                  "5.852127659574468",
                  "4.668404874291139",
                  "5.853191489361703",
                  "4.681300964839181",
                  "5.967446808510639",
                  "4.893859714450125",
                  "6.0948936170212775",
                  "5.0517960096602526",
                  "6.171276595744681",
                  "5.277200598893516",
                  "6.090212765957447",
                  "5.409127748281121",
                  "5.9491489361702135",
                  "5.254007923475609",
                  "7.012340425531915",
                  "5.69960876337176",
                  "6.906170212765957",
                  "5.4147453885267485"
                ],
                [
                  "Europe",
                  "11.008205128205129",
                  "6.392062870958702",
                  "10.947948717948718",
                  "6.539538121259498",
                  "11.325641025641024",
                  "7.003527229705043",
                  "11.466666666666667",
                  "6.969208719462963",
                  "10.971282051282051",
                  "6.759765325842224",
                  "10.301282051282051",
                  "6.355756271819636",
                  "9.394615384615385",
                  "5.822792713102286",
                  "8.359743589743589",
                  "5.177845257582635",
                  "7.427435897435898",
                  "4.7382056996675095",
                  "6.7643589743589745",
                  "4.124733991341167",
                  "7.4705128205128215",
                  "4.07121794056375",
                  "7.414871794871795",
                  "3.9478247653445484"
                ],
                [
                  "North America",
                  "8.663333333333334",
                  "5.115804807020046",
                  "8.563333333333333",
                  "5.3770405155515",
                  "8.448888888888888",
                  "5.495818612565577",
                  "8.840555555555556",
                  "6.081828742218347",
                  "8.512222222222222",
                  "5.801927220943416",
                  "8.098888888888888",
                  "5.6164484160773265",
                  "7.941111111111111",
                  "5.503089922290063",
                  "7.391111111111111",
                  "5.326445552356865",
                  "7.2811111111111115",
                  "5.2531804247677805",
                  "7.095000000000001",
                  "4.770490479160891",
                  "9.297777777777778",
                  "4.963045264820138",
                  "9.155",
                  "5.0764823972325335"
                ],
                [
                  "Oceania",
                  "3.6225",
                  "2.0547210446745736",
                  "3.6475",
                  "2.0084660102390868",
                  "4.10375",
                  "2.723117632945214",
                  "3.98",
                  "2.640119044935014",
                  "3.9762500000000003",
                  "2.6592047011949163",
                  "3.985",
                  "2.569441295579366",
                  "3.8775000000000004",
                  "2.477866305628984",
                  "3.8725",
                  "2.492834015447364",
                  "3.85125",
                  "2.4558934219546256",
                  "3.77375",
                  "2.3690681561684603",
                  "4.27375",
                  "2.617490278328242",
                  "4.28",
                  "2.6715217707195595"
                ],
                [
                  "South America",
                  "6.870833333333334",
                  "2.807057528747313",
                  "6.5183333333333335",
                  "2.801576936893458",
                  "6.410833333333334",
                  "2.9365083110057872",
                  "6.335",
                  "2.808780065178734",
                  "6.3475",
                  "2.8343321323309367",
                  "6.609999999999999",
                  "2.8371272282171116",
                  "7.230833333333333",
                  "3.052308986900761",
                  "7.281666666666666",
                  "3.3989940579619446",
                  "7.496666666666666",
                  "3.4088556686514275",
                  "7.719166666666666",
                  "3.3798452313499197",
                  "10.275",
                  "3.411263428968537",
                  "9.924166666666666",
                  "3.6116238058734074"
                ]
              ],
              "shape": {
                "columns": 24,
                "rows": 6
              }
            },
            "text/html": [
              "<div>\n",
              "<style scoped>\n",
              "    .dataframe tbody tr th:only-of-type {\n",
              "        vertical-align: middle;\n",
              "    }\n",
              "\n",
              "    .dataframe tbody tr th {\n",
              "        vertical-align: top;\n",
              "    }\n",
              "\n",
              "    .dataframe thead tr th {\n",
              "        text-align: left;\n",
              "    }\n",
              "\n",
              "    .dataframe thead tr:last-of-type th {\n",
              "        text-align: right;\n",
              "    }\n",
              "</style>\n",
              "<table border=\"1\" class=\"dataframe\">\n",
              "  <thead>\n",
              "    <tr>\n",
              "      <th></th>\n",
              "      <th colspan=\"2\" halign=\"left\">2010</th>\n",
              "      <th colspan=\"2\" halign=\"left\">2011</th>\n",
              "      <th colspan=\"2\" halign=\"left\">2012</th>\n",
              "      <th colspan=\"2\" halign=\"left\">2013</th>\n",
              "      <th colspan=\"2\" halign=\"left\">2014</th>\n",
              "      <th>...</th>\n",
              "      <th colspan=\"2\" halign=\"left\">2017</th>\n",
              "      <th colspan=\"2\" halign=\"left\">2018</th>\n",
              "      <th colspan=\"2\" halign=\"left\">2019</th>\n",
              "      <th colspan=\"2\" halign=\"left\">2020</th>\n",
              "      <th colspan=\"2\" halign=\"left\">2021</th>\n",
              "    </tr>\n",
              "    <tr>\n",
              "      <th></th>\n",
              "      <th>mean</th>\n",
              "      <th>std</th>\n",
              "      <th>mean</th>\n",
              "      <th>std</th>\n",
              "      <th>mean</th>\n",
              "      <th>std</th>\n",
              "      <th>mean</th>\n",
              "      <th>std</th>\n",
              "      <th>mean</th>\n",
              "      <th>std</th>\n",
              "      <th>...</th>\n",
              "      <th>mean</th>\n",
              "      <th>std</th>\n",
              "      <th>mean</th>\n",
              "      <th>std</th>\n",
              "      <th>mean</th>\n",
              "      <th>std</th>\n",
              "      <th>mean</th>\n",
              "      <th>std</th>\n",
              "      <th>mean</th>\n",
              "      <th>std</th>\n",
              "    </tr>\n",
              "    <tr>\n",
              "      <th>continent</th>\n",
              "      <th></th>\n",
              "      <th></th>\n",
              "      <th></th>\n",
              "      <th></th>\n",
              "      <th></th>\n",
              "      <th></th>\n",
              "      <th></th>\n",
              "      <th></th>\n",
              "      <th></th>\n",
              "      <th></th>\n",
              "      <th></th>\n",
              "      <th></th>\n",
              "      <th></th>\n",
              "      <th></th>\n",
              "      <th></th>\n",
              "      <th></th>\n",
              "      <th></th>\n",
              "      <th></th>\n",
              "      <th></th>\n",
              "      <th></th>\n",
              "      <th></th>\n",
              "    </tr>\n",
              "  </thead>\n",
              "  <tbody>\n",
              "    <tr>\n",
              "      <th>Africa</th>\n",
              "      <td>9.343585</td>\n",
              "      <td>7.411259</td>\n",
              "      <td>9.369245</td>\n",
              "      <td>7.401556</td>\n",
              "      <td>9.240755</td>\n",
              "      <td>7.264542</td>\n",
              "      <td>9.132453</td>\n",
              "      <td>7.309285</td>\n",
              "      <td>9.121321</td>\n",
              "      <td>7.291359</td>\n",
              "      <td>...</td>\n",
              "      <td>9.284528</td>\n",
              "      <td>7.407620</td>\n",
              "      <td>9.237925</td>\n",
              "      <td>7.358425</td>\n",
              "      <td>9.264340</td>\n",
              "      <td>7.455293</td>\n",
              "      <td>10.307736</td>\n",
              "      <td>7.928166</td>\n",
              "      <td>10.473585</td>\n",
              "      <td>8.131636</td>\n",
              "    </tr>\n",
              "    <tr>\n",
              "      <th>Asia</th>\n",
              "      <td>6.240638</td>\n",
              "      <td>5.146175</td>\n",
              "      <td>5.942128</td>\n",
              "      <td>4.779575</td>\n",
              "      <td>5.835319</td>\n",
              "      <td>4.756904</td>\n",
              "      <td>5.852128</td>\n",
              "      <td>4.668405</td>\n",
              "      <td>5.853191</td>\n",
              "      <td>4.681301</td>\n",
              "      <td>...</td>\n",
              "      <td>6.171277</td>\n",
              "      <td>5.277201</td>\n",
              "      <td>6.090213</td>\n",
              "      <td>5.409128</td>\n",
              "      <td>5.949149</td>\n",
              "      <td>5.254008</td>\n",
              "      <td>7.012340</td>\n",
              "      <td>5.699609</td>\n",
              "      <td>6.906170</td>\n",
              "      <td>5.414745</td>\n",
              "    </tr>\n",
              "    <tr>\n",
              "      <th>Europe</th>\n",
              "      <td>11.008205</td>\n",
              "      <td>6.392063</td>\n",
              "      <td>10.947949</td>\n",
              "      <td>6.539538</td>\n",
              "      <td>11.325641</td>\n",
              "      <td>7.003527</td>\n",
              "      <td>11.466667</td>\n",
              "      <td>6.969209</td>\n",
              "      <td>10.971282</td>\n",
              "      <td>6.759765</td>\n",
              "      <td>...</td>\n",
              "      <td>8.359744</td>\n",
              "      <td>5.177845</td>\n",
              "      <td>7.427436</td>\n",
              "      <td>4.738206</td>\n",
              "      <td>6.764359</td>\n",
              "      <td>4.124734</td>\n",
              "      <td>7.470513</td>\n",
              "      <td>4.071218</td>\n",
              "      <td>7.414872</td>\n",
              "      <td>3.947825</td>\n",
              "    </tr>\n",
              "    <tr>\n",
              "      <th>North America</th>\n",
              "      <td>8.663333</td>\n",
              "      <td>5.115805</td>\n",
              "      <td>8.563333</td>\n",
              "      <td>5.377041</td>\n",
              "      <td>8.448889</td>\n",
              "      <td>5.495819</td>\n",
              "      <td>8.840556</td>\n",
              "      <td>6.081829</td>\n",
              "      <td>8.512222</td>\n",
              "      <td>5.801927</td>\n",
              "      <td>...</td>\n",
              "      <td>7.391111</td>\n",
              "      <td>5.326446</td>\n",
              "      <td>7.281111</td>\n",
              "      <td>5.253180</td>\n",
              "      <td>7.095000</td>\n",
              "      <td>4.770490</td>\n",
              "      <td>9.297778</td>\n",
              "      <td>4.963045</td>\n",
              "      <td>9.155000</td>\n",
              "      <td>5.076482</td>\n",
              "    </tr>\n",
              "    <tr>\n",
              "      <th>Oceania</th>\n",
              "      <td>3.622500</td>\n",
              "      <td>2.054721</td>\n",
              "      <td>3.647500</td>\n",
              "      <td>2.008466</td>\n",
              "      <td>4.103750</td>\n",
              "      <td>2.723118</td>\n",
              "      <td>3.980000</td>\n",
              "      <td>2.640119</td>\n",
              "      <td>3.976250</td>\n",
              "      <td>2.659205</td>\n",
              "      <td>...</td>\n",
              "      <td>3.872500</td>\n",
              "      <td>2.492834</td>\n",
              "      <td>3.851250</td>\n",
              "      <td>2.455893</td>\n",
              "      <td>3.773750</td>\n",
              "      <td>2.369068</td>\n",
              "      <td>4.273750</td>\n",
              "      <td>2.617490</td>\n",
              "      <td>4.280000</td>\n",
              "      <td>2.671522</td>\n",
              "    </tr>\n",
              "    <tr>\n",
              "      <th>South America</th>\n",
              "      <td>6.870833</td>\n",
              "      <td>2.807058</td>\n",
              "      <td>6.518333</td>\n",
              "      <td>2.801577</td>\n",
              "      <td>6.410833</td>\n",
              "      <td>2.936508</td>\n",
              "      <td>6.335000</td>\n",
              "      <td>2.808780</td>\n",
              "      <td>6.347500</td>\n",
              "      <td>2.834332</td>\n",
              "      <td>...</td>\n",
              "      <td>7.281667</td>\n",
              "      <td>3.398994</td>\n",
              "      <td>7.496667</td>\n",
              "      <td>3.408856</td>\n",
              "      <td>7.719167</td>\n",
              "      <td>3.379845</td>\n",
              "      <td>10.275000</td>\n",
              "      <td>3.411263</td>\n",
              "      <td>9.924167</td>\n",
              "      <td>3.611624</td>\n",
              "    </tr>\n",
              "  </tbody>\n",
              "</table>\n",
              "<p>6 rows × 24 columns</p>\n",
              "</div>"
            ],
            "text/plain": [
              "                    2010                 2011                 2012            \\\n",
              "                    mean       std       mean       std       mean       std   \n",
              "continent                                                                      \n",
              "Africa          9.343585  7.411259   9.369245  7.401556   9.240755  7.264542   \n",
              "Asia            6.240638  5.146175   5.942128  4.779575   5.835319  4.756904   \n",
              "Europe         11.008205  6.392063  10.947949  6.539538  11.325641  7.003527   \n",
              "North America   8.663333  5.115805   8.563333  5.377041   8.448889  5.495819   \n",
              "Oceania         3.622500  2.054721   3.647500  2.008466   4.103750  2.723118   \n",
              "South America   6.870833  2.807058   6.518333  2.801577   6.410833  2.936508   \n",
              "\n",
              "                    2013                 2014            ...      2017  \\\n",
              "                    mean       std       mean       std  ...      mean   \n",
              "continent                                                ...             \n",
              "Africa          9.132453  7.309285   9.121321  7.291359  ...  9.284528   \n",
              "Asia            5.852128  4.668405   5.853191  4.681301  ...  6.171277   \n",
              "Europe         11.466667  6.969209  10.971282  6.759765  ...  8.359744   \n",
              "North America   8.840556  6.081829   8.512222  5.801927  ...  7.391111   \n",
              "Oceania         3.980000  2.640119   3.976250  2.659205  ...  3.872500   \n",
              "South America   6.335000  2.808780   6.347500  2.834332  ...  7.281667   \n",
              "\n",
              "                             2018                2019                 2020  \\\n",
              "                    std      mean       std      mean       std       mean   \n",
              "continent                                                                    \n",
              "Africa         7.407620  9.237925  7.358425  9.264340  7.455293  10.307736   \n",
              "Asia           5.277201  6.090213  5.409128  5.949149  5.254008   7.012340   \n",
              "Europe         5.177845  7.427436  4.738206  6.764359  4.124734   7.470513   \n",
              "North America  5.326446  7.281111  5.253180  7.095000  4.770490   9.297778   \n",
              "Oceania        2.492834  3.851250  2.455893  3.773750  2.369068   4.273750   \n",
              "South America  3.398994  7.496667  3.408856  7.719167  3.379845  10.275000   \n",
              "\n",
              "                              2021            \n",
              "                    std       mean       std  \n",
              "continent                                     \n",
              "Africa         7.928166  10.473585  8.131636  \n",
              "Asia           5.699609   6.906170  5.414745  \n",
              "Europe         4.071218   7.414872  3.947825  \n",
              "North America  4.963045   9.155000  5.076482  \n",
              "Oceania        2.617490   4.280000  2.671522  \n",
              "South America  3.411263   9.924167  3.611624  \n",
              "\n",
              "[6 rows x 24 columns]"
            ]
          },
          "metadata": {},
          "output_type": "display_data"
        }
      ],
      "source": [
        "# Print yearly mean and standard deviation grouped by continent\n",
        "year_cols = [col for col in unemployment.columns if col.isdigit()]\n",
        "display(unemployment.groupby(\"continent\")[year_cols].agg([\"mean\", \"std\"]))\n"
      ]
    },
    {
      "cell_type": "markdown",
      "id": "1gW5iNN-MmkR",
      "metadata": {
        "id": "1gW5iNN-MmkR"
      },
      "source": [
        "### Named aggregations\n",
        "You've seen how `.groupby()` and `.agg()` can be combined to show summaries across categories. Sometimes, it's helpful to name new columns when aggregating so that it's clear in the code output what aggregations are being applied and where.\n",
        "\n",
        "Your task is to create a DataFrame called `continent_summary` which shows a row for each continent. The DataFrame columns will contain the mean unemployment rate for each continent in 2021 as well as the standard deviation of the 2021 employment rate. And of course, you'll rename the columns so that their contents are clear!"
      ]
    },
    {
      "cell_type": "code",
      "execution_count": 12,
      "id": "SWAYHJMzGGMx",
      "metadata": {
        "colab": {
          "base_uri": "https://localhost:8080/",
          "height": 269
        },
        "id": "SWAYHJMzGGMx",
        "outputId": "9a505c63-227b-469c-f876-7c729ed1550a"
      },
      "outputs": [
        {
          "data": {
            "application/vnd.microsoft.datawrangler.viewer.v0+json": {
              "columns": [
                {
                  "name": "continent",
                  "rawType": "object",
                  "type": "string"
                },
                {
                  "name": "mean_rate_2021",
                  "rawType": "float64",
                  "type": "float"
                },
                {
                  "name": "std_rate_2021",
                  "rawType": "float64",
                  "type": "float"
                }
              ],
              "ref": "06f5352b-274c-481b-a463-0a579e4afb54",
              "rows": [
                [
                  "Africa",
                  "10.473584905660378",
                  "10.473584905660378"
                ],
                [
                  "Asia",
                  "6.906170212765957",
                  "6.906170212765957"
                ],
                [
                  "Europe",
                  "7.414871794871795",
                  "7.414871794871795"
                ],
                [
                  "North America",
                  "9.155",
                  "9.155"
                ],
                [
                  "Oceania",
                  "4.28",
                  "4.28"
                ],
                [
                  "South America",
                  "9.924166666666666",
                  "9.924166666666666"
                ]
              ],
              "shape": {
                "columns": 2,
                "rows": 6
              }
            },
            "text/html": [
              "<div>\n",
              "<style scoped>\n",
              "    .dataframe tbody tr th:only-of-type {\n",
              "        vertical-align: middle;\n",
              "    }\n",
              "\n",
              "    .dataframe tbody tr th {\n",
              "        vertical-align: top;\n",
              "    }\n",
              "\n",
              "    .dataframe thead th {\n",
              "        text-align: right;\n",
              "    }\n",
              "</style>\n",
              "<table border=\"1\" class=\"dataframe\">\n",
              "  <thead>\n",
              "    <tr style=\"text-align: right;\">\n",
              "      <th></th>\n",
              "      <th>mean_rate_2021</th>\n",
              "      <th>std_rate_2021</th>\n",
              "    </tr>\n",
              "    <tr>\n",
              "      <th>continent</th>\n",
              "      <th></th>\n",
              "      <th></th>\n",
              "    </tr>\n",
              "  </thead>\n",
              "  <tbody>\n",
              "    <tr>\n",
              "      <th>Africa</th>\n",
              "      <td>10.473585</td>\n",
              "      <td>10.473585</td>\n",
              "    </tr>\n",
              "    <tr>\n",
              "      <th>Asia</th>\n",
              "      <td>6.906170</td>\n",
              "      <td>6.906170</td>\n",
              "    </tr>\n",
              "    <tr>\n",
              "      <th>Europe</th>\n",
              "      <td>7.414872</td>\n",
              "      <td>7.414872</td>\n",
              "    </tr>\n",
              "    <tr>\n",
              "      <th>North America</th>\n",
              "      <td>9.155000</td>\n",
              "      <td>9.155000</td>\n",
              "    </tr>\n",
              "    <tr>\n",
              "      <th>Oceania</th>\n",
              "      <td>4.280000</td>\n",
              "      <td>4.280000</td>\n",
              "    </tr>\n",
              "    <tr>\n",
              "      <th>South America</th>\n",
              "      <td>9.924167</td>\n",
              "      <td>9.924167</td>\n",
              "    </tr>\n",
              "  </tbody>\n",
              "</table>\n",
              "</div>"
            ],
            "text/plain": [
              "               mean_rate_2021  std_rate_2021\n",
              "continent                                   \n",
              "Africa              10.473585      10.473585\n",
              "Asia                 6.906170       6.906170\n",
              "Europe               7.414872       7.414872\n",
              "North America        9.155000       9.155000\n",
              "Oceania              4.280000       4.280000\n",
              "South America        9.924167       9.924167"
            ]
          },
          "metadata": {},
          "output_type": "display_data"
        }
      ],
      "source": [
        "\n",
        "continent_summary = unemployment.groupby(\"continent\").agg(\n",
        "    # Create the mean_rate_2021 column\n",
        "    mean_rate_2021=(\"2021\", \"mean\"),\n",
        "    # Create the std_rate_2021 column\n",
        "    std_rate_2021=(\"2021\", \"mean\")\n",
        ")\n",
        "display(continent_summary)"
      ]
    },
    {
      "cell_type": "code",
      "execution_count": 13,
      "id": "E1d0sXh9GaXt",
      "metadata": {
        "colab": {
          "base_uri": "https://localhost:8080/",
          "height": 555
        },
        "id": "E1d0sXh9GaXt",
        "outputId": "ffd6bf34-fbbb-40b3-e127-be8ac5c47f58"
      },
      "outputs": [
        {
          "name": "stderr",
          "output_type": "stream",
          "text": [
            "C:\\Users\\lerea\\AppData\\Local\\Temp\\ipykernel_1740\\4049570833.py:6: UserWarning: set_ticklabels() should only be used with a fixed number of ticks, i.e. after set_ticks() or using a FixedLocator.\n",
            "  ax.set_xticklabels(ax.get_xticklabels(), rotation=90)\n"
          ]
        },
        {
          "data": {
            "image/png": "[encoded data removed]",
            "text/plain": [
              "<Figure size 640x480 with 1 Axes>"
            ]
          },
          "metadata": {},
          "output_type": "display_data"
        }
      ],
      "source": [
        "# Create a bar plot of continents and their average unemployment\n",
        "fig, ax = plt.subplots()\n",
        "sns.barplot(x=\"continent\", y=\"2021\", data=unemployment, hue=\"continent\", legend=False)\n",
        "ax.set_xlabel(\"\") # Set the x-label to an empty string\n",
        "ax.set_ylabel(\"Unemployment Rate (2021)\")\n",
        "ax.set_xticklabels(ax.get_xticklabels(), rotation=90)\n",
        "plt.show()"
      ]
    },
    {
      "cell_type": "markdown",
      "id": "dNUc27QCcXcc",
      "metadata": {
        "id": "dNUc27QCcXcc"
      },
      "source": [
        "## Data Cleaning and Imputation\n",
        "Exploring and analyzing data often means dealing with missing values, incorrect data types, and outliers. In this chapter, you’ll learn techniques to handle these issues and streamline your EDA processes!\n",
        "\n"
      ]
    },
    {
      "cell_type": "code",
      "execution_count": 19,
      "id": "dw0ULEmbM8Fd",
      "metadata": {
        "colab": {
          "base_uri": "https://localhost:8080/",
          "height": 485
        },
        "id": "dw0ULEmbM8Fd",
        "outputId": "c6dd329e-cf04-431a-e072-3380fd0a63de"
      },
      "outputs": [],
      "source": [
        "ds_salaries = pd.read_csv(\"data/ds_salaries.csv\")"
      ]
    },
    {
      "cell_type": "code",
      "execution_count": 22,
      "id": "JI4YlYaPdFe-",
      "metadata": {
        "id": "JI4YlYaPdFe-"
      },
      "outputs": [
        {
          "data": {
            "application/vnd.microsoft.datawrangler.viewer.v0+json": {
              "columns": [
                {
                  "name": "index",
                  "rawType": "int64",
                  "type": "integer"
                },
                {
                  "name": "work_year",
                  "rawType": "int64",
                  "type": "integer"
                },
                {
                  "name": "experience_level",
                  "rawType": "object",
                  "type": "string"
                },
                {
                  "name": "employment_type",
                  "rawType": "object",
                  "type": "string"
                },
                {
                  "name": "job_title",
                  "rawType": "object",
                  "type": "string"
                },
                {
                  "name": "salary",
                  "rawType": "int64",
                  "type": "integer"
                },
                {
                  "name": "salary_currency",
                  "rawType": "object",
                  "type": "string"
                },
                {
                  "name": "salary_in_usd",
                  "rawType": "int64",
                  "type": "integer"
                },
                {
                  "name": "employee_residence",
                  "rawType": "object",
                  "type": "string"
                },
                {
                  "name": "remote_ratio",
                  "rawType": "int64",
                  "type": "integer"
                },
                {
                  "name": "company_location",
                  "rawType": "object",
                  "type": "string"
                },
                {
                  "name": "company_size",
                  "rawType": "object",
                  "type": "string"
                }
              ],
              "ref": "033f7551-e5a2-4774-b2c8-72582ba566a4",
              "rows": [
                [
                  "0",
                  "2023",
                  "SE",
                  "FT",
                  "Principal Data Scientist",
                  "80000",
                  "EUR",
                  "85847",
                  "ES",
                  "100",
                  "ES",
                  "L"
                ],
                [
                  "1",
                  "2023",
                  "MI",
                  "CT",
                  "ML Engineer",
                  "30000",
                  "USD",
                  "30000",
                  "US",
                  "100",
                  "US",
                  "S"
                ],
                [
                  "2",
                  "2023",
                  "MI",
                  "CT",
                  "ML Engineer",
                  "25500",
                  "USD",
                  "25500",
                  "US",
                  "100",
                  "US",
                  "S"
                ],
                [
                  "3",
                  "2023",
                  "SE",
                  "FT",
                  "Data Scientist",
                  "175000",
                  "USD",
                  "175000",
                  "CA",
                  "100",
                  "CA",
                  "M"
                ],
                [
                  "4",
                  "2023",
                  "SE",
                  "FT",
                  "Data Scientist",
                  "120000",
                  "USD",
                  "120000",
                  "CA",
                  "100",
                  "CA",
                  "M"
                ]
              ],
              "shape": {
                "columns": 11,
                "rows": 5
              }
            },
            "text/html": [
              "<div>\n",
              "<style scoped>\n",
              "    .dataframe tbody tr th:only-of-type {\n",
              "        vertical-align: middle;\n",
              "    }\n",
              "\n",
              "    .dataframe tbody tr th {\n",
              "        vertical-align: top;\n",
              "    }\n",
              "\n",
              "    .dataframe thead th {\n",
              "        text-align: right;\n",
              "    }\n",
              "</style>\n",
              "<table border=\"1\" class=\"dataframe\">\n",
              "  <thead>\n",
              "    <tr style=\"text-align: right;\">\n",
              "      <th></th>\n",
              "      <th>work_year</th>\n",
              "      <th>experience_level</th>\n",
              "      <th>employment_type</th>\n",
              "      <th>job_title</th>\n",
              "      <th>salary</th>\n",
              "      <th>salary_currency</th>\n",
              "      <th>salary_in_usd</th>\n",
              "      <th>employee_residence</th>\n",
              "      <th>remote_ratio</th>\n",
              "      <th>company_location</th>\n",
              "      <th>company_size</th>\n",
              "    </tr>\n",
              "  </thead>\n",
              "  <tbody>\n",
              "    <tr>\n",
              "      <th>0</th>\n",
              "      <td>2023</td>\n",
              "      <td>SE</td>\n",
              "      <td>FT</td>\n",
              "      <td>Principal Data Scientist</td>\n",
              "      <td>80000</td>\n",
              "      <td>EUR</td>\n",
              "      <td>85847</td>\n",
              "      <td>ES</td>\n",
              "      <td>100</td>\n",
              "      <td>ES</td>\n",
              "      <td>L</td>\n",
              "    </tr>\n",
              "    <tr>\n",
              "      <th>1</th>\n",
              "      <td>2023</td>\n",
              "      <td>MI</td>\n",
              "      <td>CT</td>\n",
              "      <td>ML Engineer</td>\n",
              "      <td>30000</td>\n",
              "      <td>USD</td>\n",
              "      <td>30000</td>\n",
              "      <td>US</td>\n",
              "      <td>100</td>\n",
              "      <td>US</td>\n",
              "      <td>S</td>\n",
              "    </tr>\n",
              "    <tr>\n",
              "      <th>2</th>\n",
              "      <td>2023</td>\n",
              "      <td>MI</td>\n",
              "      <td>CT</td>\n",
              "      <td>ML Engineer</td>\n",
              "      <td>25500</td>\n",
              "      <td>USD</td>\n",
              "      <td>25500</td>\n",
              "      <td>US</td>\n",
              "      <td>100</td>\n",
              "      <td>US</td>\n",
              "      <td>S</td>\n",
              "    </tr>\n",
              "    <tr>\n",
              "      <th>3</th>\n",
              "      <td>2023</td>\n",
              "      <td>SE</td>\n",
              "      <td>FT</td>\n",
              "      <td>Data Scientist</td>\n",
              "      <td>175000</td>\n",
              "      <td>USD</td>\n",
              "      <td>175000</td>\n",
              "      <td>CA</td>\n",
              "      <td>100</td>\n",
              "      <td>CA</td>\n",
              "      <td>M</td>\n",
              "    </tr>\n",
              "    <tr>\n",
              "      <th>4</th>\n",
              "      <td>2023</td>\n",
              "      <td>SE</td>\n",
              "      <td>FT</td>\n",
              "      <td>Data Scientist</td>\n",
              "      <td>120000</td>\n",
              "      <td>USD</td>\n",
              "      <td>120000</td>\n",
              "      <td>CA</td>\n",
              "      <td>100</td>\n",
              "      <td>CA</td>\n",
              "      <td>M</td>\n",
              "    </tr>\n",
              "  </tbody>\n",
              "</table>\n",
              "</div>"
            ],
            "text/plain": [
              "   work_year experience_level employment_type                 job_title  \\\n",
              "0       2023               SE              FT  Principal Data Scientist   \n",
              "1       2023               MI              CT               ML Engineer   \n",
              "2       2023               MI              CT               ML Engineer   \n",
              "3       2023               SE              FT            Data Scientist   \n",
              "4       2023               SE              FT            Data Scientist   \n",
              "\n",
              "   salary salary_currency  salary_in_usd employee_residence  remote_ratio  \\\n",
              "0   80000             EUR          85847                 ES           100   \n",
              "1   30000             USD          30000                 US           100   \n",
              "2   25500             USD          25500                 US           100   \n",
              "3  175000             USD         175000                 CA           100   \n",
              "4  120000             USD         120000                 CA           100   \n",
              "\n",
              "  company_location company_size  \n",
              "0               ES            L  \n",
              "1               US            S  \n",
              "2               US            S  \n",
              "3               CA            M  \n",
              "4               CA            M  "
            ]
          },
          "execution_count": 22,
          "metadata": {},
          "output_type": "execute_result"
        }
      ],
      "source": [
        "ds_salaries.head()"
      ]
    },
    {
      "cell_type": "code",
      "execution_count": 23,
      "id": "DayY6bnGdHs_",
      "metadata": {
        "id": "DayY6bnGdHs_"
      },
      "outputs": [
        {
          "name": "stdout",
          "output_type": "stream",
          "text": [
            "<class 'pandas.core.frame.DataFrame'>\n",
            "RangeIndex: 3755 entries, 0 to 3754\n",
            "Data columns (total 11 columns):\n",
            " #   Column              Non-Null Count  Dtype \n",
            "---  ------              --------------  ----- \n",
            " 0   work_year           3755 non-null   int64 \n",
            " 1   experience_level    3755 non-null   object\n",
            " 2   employment_type     3755 non-null   object\n",
            " 3   job_title           3755 non-null   object\n",
            " 4   salary              3755 non-null   int64 \n",
            " 5   salary_currency     3755 non-null   object\n",
            " 6   salary_in_usd       3755 non-null   int64 \n",
            " 7   employee_residence  3755 non-null   object\n",
            " 8   remote_ratio        3755 non-null   int64 \n",
            " 9   company_location    3755 non-null   object\n",
            " 10  company_size        3755 non-null   object\n",
            "dtypes: int64(4), object(7)\n",
            "memory usage: 322.8+ KB\n"
          ]
        }
      ],
      "source": [
        "ds_salaries.info()"
      ]
    },
    {
      "cell_type": "code",
      "execution_count": 24,
      "id": "oLlKPAn0f034",
      "metadata": {
        "id": "oLlKPAn0f034"
      },
      "outputs": [
        {
          "data": {
            "application/vnd.microsoft.datawrangler.viewer.v0+json": {
              "columns": [
                {
                  "name": "index",
                  "rawType": "object",
                  "type": "string"
                },
                {
                  "name": "work_year",
                  "rawType": "float64",
                  "type": "float"
                },
                {
                  "name": "salary",
                  "rawType": "float64",
                  "type": "float"
                },
                {
                  "name": "salary_in_usd",
                  "rawType": "float64",
                  "type": "float"
                },
                {
                  "name": "remote_ratio",
                  "rawType": "float64",
                  "type": "float"
                }
              ],
              "ref": "8810c9c1-f6ce-458c-9a82-6d389c2dbeae",
              "rows": [
                [
                  "count",
                  "3755.0",
                  "3755.0",
                  "3755.0",
                  "3755.0"
                ],
                [
                  "mean",
                  "2022.3736351531293",
                  "190695.57177097205",
                  "137570.38988015978",
                  "46.271637816245004"
                ],
                [
                  "std",
                  "0.6914482342671989",
                  "671676.5005079068",
                  "63055.6252782241",
                  "48.589050470587566"
                ],
                [
                  "min",
                  "2020.0",
                  "6000.0",
                  "5132.0",
                  "0.0"
                ],
                [
                  "25%",
                  "2022.0",
                  "100000.0",
                  "95000.0",
                  "0.0"
                ],
                [
                  "50%",
                  "2022.0",
                  "138000.0",
                  "135000.0",
                  "0.0"
                ],
                [
                  "75%",
                  "2023.0",
                  "180000.0",
                  "175000.0",
                  "100.0"
                ],
                [
                  "max",
                  "2023.0",
                  "30400000.0",
                  "450000.0",
                  "100.0"
                ]
              ],
              "shape": {
                "columns": 4,
                "rows": 8
              }
            },
            "text/html": [
              "<div>\n",
              "<style scoped>\n",
              "    .dataframe tbody tr th:only-of-type {\n",
              "        vertical-align: middle;\n",
              "    }\n",
              "\n",
              "    .dataframe tbody tr th {\n",
              "        vertical-align: top;\n",
              "    }\n",
              "\n",
              "    .dataframe thead th {\n",
              "        text-align: right;\n",
              "    }\n",
              "</style>\n",
              "<table border=\"1\" class=\"dataframe\">\n",
              "  <thead>\n",
              "    <tr style=\"text-align: right;\">\n",
              "      <th></th>\n",
              "      <th>work_year</th>\n",
              "      <th>salary</th>\n",
              "      <th>salary_in_usd</th>\n",
              "      <th>remote_ratio</th>\n",
              "    </tr>\n",
              "  </thead>\n",
              "  <tbody>\n",
              "    <tr>\n",
              "      <th>count</th>\n",
              "      <td>3755.000000</td>\n",
              "      <td>3.755000e+03</td>\n",
              "      <td>3755.000000</td>\n",
              "      <td>3755.000000</td>\n",
              "    </tr>\n",
              "    <tr>\n",
              "      <th>mean</th>\n",
              "      <td>2022.373635</td>\n",
              "      <td>1.906956e+05</td>\n",
              "      <td>137570.389880</td>\n",
              "      <td>46.271638</td>\n",
              "    </tr>\n",
              "    <tr>\n",
              "      <th>std</th>\n",
              "      <td>0.691448</td>\n",
              "      <td>6.716765e+05</td>\n",
              "      <td>63055.625278</td>\n",
              "      <td>48.589050</td>\n",
              "    </tr>\n",
              "    <tr>\n",
              "      <th>min</th>\n",
              "      <td>2020.000000</td>\n",
              "      <td>6.000000e+03</td>\n",
              "      <td>5132.000000</td>\n",
              "      <td>0.000000</td>\n",
              "    </tr>\n",
              "    <tr>\n",
              "      <th>25%</th>\n",
              "      <td>2022.000000</td>\n",
              "      <td>1.000000e+05</td>\n",
              "      <td>95000.000000</td>\n",
              "      <td>0.000000</td>\n",
              "    </tr>\n",
              "    <tr>\n",
              "      <th>50%</th>\n",
              "      <td>2022.000000</td>\n",
              "      <td>1.380000e+05</td>\n",
              "      <td>135000.000000</td>\n",
              "      <td>0.000000</td>\n",
              "    </tr>\n",
              "    <tr>\n",
              "      <th>75%</th>\n",
              "      <td>2023.000000</td>\n",
              "      <td>1.800000e+05</td>\n",
              "      <td>175000.000000</td>\n",
              "      <td>100.000000</td>\n",
              "    </tr>\n",
              "    <tr>\n",
              "      <th>max</th>\n",
              "      <td>2023.000000</td>\n",
              "      <td>3.040000e+07</td>\n",
              "      <td>450000.000000</td>\n",
              "      <td>100.000000</td>\n",
              "    </tr>\n",
              "  </tbody>\n",
              "</table>\n",
              "</div>"
            ],
            "text/plain": [
              "         work_year        salary  salary_in_usd  remote_ratio\n",
              "count  3755.000000  3.755000e+03    3755.000000   3755.000000\n",
              "mean   2022.373635  1.906956e+05  137570.389880     46.271638\n",
              "std       0.691448  6.716765e+05   63055.625278     48.589050\n",
              "min    2020.000000  6.000000e+03    5132.000000      0.000000\n",
              "25%    2022.000000  1.000000e+05   95000.000000      0.000000\n",
              "50%    2022.000000  1.380000e+05  135000.000000      0.000000\n",
              "75%    2023.000000  1.800000e+05  175000.000000    100.000000\n",
              "max    2023.000000  3.040000e+07  450000.000000    100.000000"
            ]
          },
          "execution_count": 24,
          "metadata": {},
          "output_type": "execute_result"
        }
      ],
      "source": [
        "ds_salaries.describe()"
      ]
    },
    {
      "cell_type": "code",
      "execution_count": null,
      "id": "9e89ebc8",
      "metadata": {},
      "outputs": [],
      "source": []
    }
  ],
  "metadata": {
    "colab": {
      "machine_shape": "hm",
      "provenance": []
    },
    "kernelspec": {
      "display_name": "datacamp",
      "language": "python",
      "name": "python3"
    },
    "language_info": {
      "codemirror_mode": {
        "name": "ipython",
        "version": 3
      },
      "file_extension": ".py",
      "mimetype": "text/x-python",
      "name": "python",
      "nbconvert_exporter": "python",
      "pygments_lexer": "ipython3",
      "version": "3.12.8"
    }
  },
  "nbformat": 4,
  "nbformat_minor": 5
}
