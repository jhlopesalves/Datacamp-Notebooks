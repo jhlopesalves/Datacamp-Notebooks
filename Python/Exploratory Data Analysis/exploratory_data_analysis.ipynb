{
 "cells": [
  {
   "cell_type": "markdown",
   "metadata": {
    "colab_type": "text",
    "id": "view-in-github"
   },
   "source": [
    "<a href=\"https://colab.research.google.com/github/jhlopesalves/Datacamp-Notebooks/blob/main/Python/Exploratory%20Data%20Analysis/exploratory_data_analysis.ipynb\" target=\"_parent\"><img src=\"https://colab.research.google.com/assets/colab-badge.svg\" alt=\"Open In Colab\"/></a>"
   ]
  },
  {
   "cell_type": "code",
   "execution_count": 1,
   "id": "8d67c7ba",
   "metadata": {
    "id": "8d67c7ba"
   },
   "outputs": [],
   "source": [
    "import matplotlib.pyplot as plt\n",
    "import numpy as np\n",
    "import pandas as pd\n",
    "import seaborn as sns\n",
    "import os"
   ]
  },
  {
   "cell_type": "code",
   "execution_count": 2,
   "id": "3rg61WTDt8Em",
   "metadata": {
    "colab": {
     "base_uri": "https://localhost:8080/"
    },
    "id": "3rg61WTDt8Em",
    "outputId": "d2709599-6b59-4135-d264-bf87fe49868d"
   },
   "outputs": [
    {
     "name": "stderr",
     "output_type": "stream",
     "text": [
      "'wget' is not recognized as an internal or external command,\n",
      "operable program or batch file.\n",
      "'wget' is not recognized as an internal or external command,\n",
      "operable program or batch file.\n",
      "'wget' is not recognized as an internal or external command,\n",
      "operable program or batch file.\n",
      "'wget' is not recognized as an internal or external command,\n",
      "operable program or batch file.\n",
      "'wget' is not recognized as an internal or external command,\n",
      "operable program or batch file.\n",
      "'wget' is not recognized as an internal or external command,\n",
      "operable program or batch file.\n",
      "'wget' is not recognized as an internal or external command,\n",
      "operable program or batch file.\n",
      "'wget' is not recognized as an internal or external command,\n",
      "operable program or batch file.\n",
      "'wget' is not recognized as an internal or external command,\n",
      "operable program or batch file.\n",
      "'wget' is not recognized as an internal or external command,\n",
      "operable program or batch file.\n",
      "'wget' is not recognized as an internal or external command,\n",
      "operable program or batch file.\n"
     ]
    },
    {
     "name": "stdout",
     "output_type": "stream",
     "text": [
      "All files downloaded successfully.\n"
     ]
    }
   ],
   "source": [
    "# Ensure the data directory exists\n",
    "if not os.path.exists('data'):\n",
    "    os.makedirs('data')\n",
    "\n",
    "# List of raw-GitHub URLs to download\n",
    "urls = [\n",
    "    \"https://raw.githubusercontent.com/jhlopesalves/Datacamp-Notebooks/main/Python/Exploratory%20Data%20Analysis/data/clean_books.csv\",\n",
    "    \"https://raw.githubusercontent.com/jhlopesalves/Datacamp-Notebooks/main/Python/Exploratory%20Data%20Analysis/data/clean_unemployment.csv\",\n",
    "    \"https://raw.githubusercontent.com/jhlopesalves/Datacamp-Notebooks/main/Python/Exploratory%20Data%20Analysis/data/divorce.csv\",\n",
    "    \"https://raw.githubusercontent.com/jhlopesalves/Datacamp-Notebooks/main/Python/Exploratory%20Data%20Analysis/data/ds_salaries_clean.csv\",\n",
    "    \"https://raw.githubusercontent.com/jhlopesalves/Datacamp-Notebooks/main/Python/Exploratory%20Data%20Analysis/data/ds_salaries.csv\",\n",
    "    \"https://raw.githubusercontent.com/jhlopesalves/Datacamp-Notebooks/main/Python/Exploratory%20Data%20Analysis/data/planes.csv\",\n",
    "]\n",
    "\n",
    "# Run wget in quiet mode for each URL\n",
    "for url in urls:\n",
    "    # -q suppresses all output; -P directs output into 'data/' directory\n",
    "    !wget -q -P data/ \"{url}\"\n",
    "\n",
    "# Single success message\n",
    "print(\"All files downloaded successfully.\")\n"
   ]
  },
  {
   "cell_type": "markdown",
   "id": "N9fSIwjAcQ7J",
   "metadata": {
    "id": "N9fSIwjAcQ7J"
   },
   "source": [
    "## Getting to Know a Dataset\n",
    "What's the best way to approach a new dataset? Learn to validate and summarize categorical and numerical data and create Seaborn visualizations to communicate your findings.\n",
    "\n",
    "\n"
   ]
  },
  {
   "cell_type": "markdown",
   "id": "VnE-08177b-K",
   "metadata": {
    "id": "VnE-08177b-K"
   },
   "source": [
    "### Initial exploration\n",
    "The process of reviewing and cleaning data\n",
    "to...\n",
    "- derive insights\n",
    "- generate hypotheses"
   ]
  },
  {
   "cell_type": "markdown",
   "id": "z50h-OvH7nJJ",
   "metadata": {
    "id": "z50h-OvH7nJJ"
   },
   "source": [
    "A first look with `.head()`"
   ]
  },
  {
   "cell_type": "code",
   "execution_count": 3,
   "id": "efc766ae",
   "metadata": {
    "colab": {
     "base_uri": "https://localhost:8080/",
     "height": 206
    },
    "id": "efc766ae",
    "outputId": "0ad346fe-ae7e-41b1-d7a8-822d60f3e760"
   },
   "outputs": [
    {
     "data": {
      "application/vnd.microsoft.datawrangler.viewer.v0+json": {
       "columns": [
        {
         "name": "index",
         "rawType": "int64",
         "type": "integer"
        },
        {
         "name": "name",
         "rawType": "object",
         "type": "string"
        },
        {
         "name": "author",
         "rawType": "object",
         "type": "string"
        },
        {
         "name": "rating",
         "rawType": "float64",
         "type": "float"
        },
        {
         "name": "year",
         "rawType": "int64",
         "type": "integer"
        },
        {
         "name": "genre",
         "rawType": "object",
         "type": "string"
        }
       ],
       "ref": "b1b7be4f-eb40-41d6-b7bc-d5ec75c53581",
       "rows": [
        [
         "0",
         "10-Day Green Smoothie Cleanse",
         "JJ Smith",
         "4.7",
         "2016",
         "Non Fiction"
        ],
        [
         "1",
         "11/22/63: A Novel",
         "Stephen King",
         "4.6",
         "2011",
         "Fiction"
        ],
        [
         "2",
         "12 Rules for Life: An Antidote to Chaos",
         "Jordan B. Peterson",
         "4.7",
         "2018",
         "Non Fiction"
        ],
        [
         "3",
         "1984 (Signet Classics)",
         "George Orwell",
         "4.7",
         "2017",
         "Fiction"
        ],
        [
         "4",
         "5,000 Awesome Facts (About Everything!) (National Geographic Kids)",
         "National Geographic Kids",
         "4.8",
         "2019",
         "Childrens"
        ]
       ],
       "shape": {
        "columns": 5,
        "rows": 5
       }
      },
      "text/html": [
       "<div>\n",
       "<style scoped>\n",
       "    .dataframe tbody tr th:only-of-type {\n",
       "        vertical-align: middle;\n",
       "    }\n",
       "\n",
       "    .dataframe tbody tr th {\n",
       "        vertical-align: top;\n",
       "    }\n",
       "\n",
       "    .dataframe thead th {\n",
       "        text-align: right;\n",
       "    }\n",
       "</style>\n",
       "<table border=\"1\" class=\"dataframe\">\n",
       "  <thead>\n",
       "    <tr style=\"text-align: right;\">\n",
       "      <th></th>\n",
       "      <th>name</th>\n",
       "      <th>author</th>\n",
       "      <th>rating</th>\n",
       "      <th>year</th>\n",
       "      <th>genre</th>\n",
       "    </tr>\n",
       "  </thead>\n",
       "  <tbody>\n",
       "    <tr>\n",
       "      <th>0</th>\n",
       "      <td>10-Day Green Smoothie Cleanse</td>\n",
       "      <td>JJ Smith</td>\n",
       "      <td>4.7</td>\n",
       "      <td>2016</td>\n",
       "      <td>Non Fiction</td>\n",
       "    </tr>\n",
       "    <tr>\n",
       "      <th>1</th>\n",
       "      <td>11/22/63: A Novel</td>\n",
       "      <td>Stephen King</td>\n",
       "      <td>4.6</td>\n",
       "      <td>2011</td>\n",
       "      <td>Fiction</td>\n",
       "    </tr>\n",
       "    <tr>\n",
       "      <th>2</th>\n",
       "      <td>12 Rules for Life: An Antidote to Chaos</td>\n",
       "      <td>Jordan B. Peterson</td>\n",
       "      <td>4.7</td>\n",
       "      <td>2018</td>\n",
       "      <td>Non Fiction</td>\n",
       "    </tr>\n",
       "    <tr>\n",
       "      <th>3</th>\n",
       "      <td>1984 (Signet Classics)</td>\n",
       "      <td>George Orwell</td>\n",
       "      <td>4.7</td>\n",
       "      <td>2017</td>\n",
       "      <td>Fiction</td>\n",
       "    </tr>\n",
       "    <tr>\n",
       "      <th>4</th>\n",
       "      <td>5,000 Awesome Facts (About Everything!) (Natio...</td>\n",
       "      <td>National Geographic Kids</td>\n",
       "      <td>4.8</td>\n",
       "      <td>2019</td>\n",
       "      <td>Childrens</td>\n",
       "    </tr>\n",
       "  </tbody>\n",
       "</table>\n",
       "</div>"
      ],
      "text/plain": [
       "                                                name  \\\n",
       "0                      10-Day Green Smoothie Cleanse   \n",
       "1                                  11/22/63: A Novel   \n",
       "2            12 Rules for Life: An Antidote to Chaos   \n",
       "3                             1984 (Signet Classics)   \n",
       "4  5,000 Awesome Facts (About Everything!) (Natio...   \n",
       "\n",
       "                     author  rating  year        genre  \n",
       "0                  JJ Smith     4.7  2016  Non Fiction  \n",
       "1              Stephen King     4.6  2011      Fiction  \n",
       "2        Jordan B. Peterson     4.7  2018  Non Fiction  \n",
       "3             George Orwell     4.7  2017      Fiction  \n",
       "4  National Geographic Kids     4.8  2019    Childrens  "
      ]
     },
     "execution_count": 3,
     "metadata": {},
     "output_type": "execute_result"
    }
   ],
   "source": [
    "books = pd.read_csv(\"data/clean_books.csv\")\n",
    "books.head()"
   ]
  },
  {
   "cell_type": "markdown",
   "id": "dWQd1vwB7v2Z",
   "metadata": {
    "id": "dWQd1vwB7v2Z"
   },
   "source": [
    "Gathering more `.info()`"
   ]
  },
  {
   "cell_type": "code",
   "execution_count": 4,
   "id": "mKlgaeeG7y8b",
   "metadata": {
    "colab": {
     "base_uri": "https://localhost:8080/"
    },
    "id": "mKlgaeeG7y8b",
    "outputId": "0ffd3656-5f85-4b20-80bf-7f677f7a98e0"
   },
   "outputs": [
    {
     "name": "stdout",
     "output_type": "stream",
     "text": [
      "<class 'pandas.core.frame.DataFrame'>\n",
      "RangeIndex: 350 entries, 0 to 349\n",
      "Data columns (total 5 columns):\n",
      " #   Column  Non-Null Count  Dtype  \n",
      "---  ------  --------------  -----  \n",
      " 0   name    350 non-null    object \n",
      " 1   author  350 non-null    object \n",
      " 2   rating  350 non-null    float64\n",
      " 3   year    350 non-null    int64  \n",
      " 4   genre   350 non-null    object \n",
      "dtypes: float64(1), int64(1), object(3)\n",
      "memory usage: 13.8+ KB\n"
     ]
    }
   ],
   "source": [
    "books.info()"
   ]
  },
  {
   "cell_type": "markdown",
   "id": "x_LpoAtb77UO",
   "metadata": {
    "id": "x_LpoAtb77UO"
   },
   "source": [
    "A closer look at categorical columns"
   ]
  },
  {
   "cell_type": "code",
   "execution_count": 5,
   "id": "BQrgTQGv79nC",
   "metadata": {
    "colab": {
     "base_uri": "https://localhost:8080/",
     "height": 210
    },
    "id": "BQrgTQGv79nC",
    "outputId": "9449b82a-6779-4953-fd41-b3acc2b1b99c"
   },
   "outputs": [
    {
     "data": {
      "application/vnd.microsoft.datawrangler.viewer.v0+json": {
       "columns": [
        {
         "name": "genre",
         "rawType": "object",
         "type": "string"
        },
        {
         "name": "count",
         "rawType": "int64",
         "type": "integer"
        }
       ],
       "ref": "5e9c7c22-afb7-49e2-8bce-9f1fa3b99764",
       "rows": [
        [
         "Non Fiction",
         "179"
        ],
        [
         "Fiction",
         "131"
        ],
        [
         "Childrens",
         "40"
        ]
       ],
       "shape": {
        "columns": 1,
        "rows": 3
       }
      },
      "text/plain": [
       "genre\n",
       "Non Fiction    179\n",
       "Fiction        131\n",
       "Childrens       40\n",
       "Name: count, dtype: int64"
      ]
     },
     "execution_count": 5,
     "metadata": {},
     "output_type": "execute_result"
    }
   ],
   "source": [
    "books.value_counts(\"genre\")"
   ]
  },
  {
   "cell_type": "markdown",
   "id": "v9VWOR_n8Gzl",
   "metadata": {
    "id": "v9VWOR_n8Gzl"
   },
   "source": [
    "`.describe()` numerical columns\n"
   ]
  },
  {
   "cell_type": "code",
   "execution_count": 6,
   "id": "oyP6_xUn8Jzk",
   "metadata": {
    "colab": {
     "base_uri": "https://localhost:8080/",
     "height": 300
    },
    "id": "oyP6_xUn8Jzk",
    "outputId": "339442e4-703a-44bc-87c2-32c1e60a3db4"
   },
   "outputs": [
    {
     "data": {
      "application/vnd.microsoft.datawrangler.viewer.v0+json": {
       "columns": [
        {
         "name": "index",
         "rawType": "object",
         "type": "string"
        },
        {
         "name": "rating",
         "rawType": "float64",
         "type": "float"
        },
        {
         "name": "year",
         "rawType": "float64",
         "type": "float"
        }
       ],
       "ref": "43d5046a-ff2d-45fb-bf82-21b1f35f5964",
       "rows": [
        [
         "count",
         "350.0",
         "350.0"
        ],
        [
         "mean",
         "4.6085714285714285",
         "2013.5085714285715"
        ],
        [
         "std",
         "0.22694107457737037",
         "3.2847107332154124"
        ],
        [
         "min",
         "3.3",
         "2009.0"
        ],
        [
         "25%",
         "4.5",
         "2010.0"
        ],
        [
         "50%",
         "4.6",
         "2013.0"
        ],
        [
         "75%",
         "4.8",
         "2016.0"
        ],
        [
         "max",
         "4.9",
         "2019.0"
        ]
       ],
       "shape": {
        "columns": 2,
        "rows": 8
       }
      },
      "text/html": [
       "<div>\n",
       "<style scoped>\n",
       "    .dataframe tbody tr th:only-of-type {\n",
       "        vertical-align: middle;\n",
       "    }\n",
       "\n",
       "    .dataframe tbody tr th {\n",
       "        vertical-align: top;\n",
       "    }\n",
       "\n",
       "    .dataframe thead th {\n",
       "        text-align: right;\n",
       "    }\n",
       "</style>\n",
       "<table border=\"1\" class=\"dataframe\">\n",
       "  <thead>\n",
       "    <tr style=\"text-align: right;\">\n",
       "      <th></th>\n",
       "      <th>rating</th>\n",
       "      <th>year</th>\n",
       "    </tr>\n",
       "  </thead>\n",
       "  <tbody>\n",
       "    <tr>\n",
       "      <th>count</th>\n",
       "      <td>350.000000</td>\n",
       "      <td>350.000000</td>\n",
       "    </tr>\n",
       "    <tr>\n",
       "      <th>mean</th>\n",
       "      <td>4.608571</td>\n",
       "      <td>2013.508571</td>\n",
       "    </tr>\n",
       "    <tr>\n",
       "      <th>std</th>\n",
       "      <td>0.226941</td>\n",
       "      <td>3.284711</td>\n",
       "    </tr>\n",
       "    <tr>\n",
       "      <th>min</th>\n",
       "      <td>3.300000</td>\n",
       "      <td>2009.000000</td>\n",
       "    </tr>\n",
       "    <tr>\n",
       "      <th>25%</th>\n",
       "      <td>4.500000</td>\n",
       "      <td>2010.000000</td>\n",
       "    </tr>\n",
       "    <tr>\n",
       "      <th>50%</th>\n",
       "      <td>4.600000</td>\n",
       "      <td>2013.000000</td>\n",
       "    </tr>\n",
       "    <tr>\n",
       "      <th>75%</th>\n",
       "      <td>4.800000</td>\n",
       "      <td>2016.000000</td>\n",
       "    </tr>\n",
       "    <tr>\n",
       "      <th>max</th>\n",
       "      <td>4.900000</td>\n",
       "      <td>2019.000000</td>\n",
       "    </tr>\n",
       "  </tbody>\n",
       "</table>\n",
       "</div>"
      ],
      "text/plain": [
       "           rating         year\n",
       "count  350.000000   350.000000\n",
       "mean     4.608571  2013.508571\n",
       "std      0.226941     3.284711\n",
       "min      3.300000  2009.000000\n",
       "25%      4.500000  2010.000000\n",
       "50%      4.600000  2013.000000\n",
       "75%      4.800000  2016.000000\n",
       "max      4.900000  2019.000000"
      ]
     },
     "execution_count": 6,
     "metadata": {},
     "output_type": "execute_result"
    }
   ],
   "source": [
    "books.describe()"
   ]
  },
  {
   "cell_type": "markdown",
   "id": "DbwO-q7I8Rg4",
   "metadata": {
    "id": "DbwO-q7I8Rg4"
   },
   "source": [
    "### Visualizing numerical dta with Seaborn"
   ]
  },
  {
   "cell_type": "code",
   "execution_count": 7,
   "id": "e5d6a52e",
   "metadata": {
    "colab": {
     "base_uri": "https://localhost:8080/",
     "height": 472
    },
    "id": "e5d6a52e",
    "outputId": "5be8e393-c435-4812-8ee9-5383174975f9"
   },
   "outputs": [
    {
     "data": {
      "image/png": "[encoded data removed]",
      "text/plain": [
       "<Figure size 640x480 with 1 Axes>"
      ]
     },
     "metadata": {},
     "output_type": "display_data"
    }
   ],
   "source": [
    "# Create a histogram of ratings count\n",
    "fig, ax = plt.subplots()\n",
    "sns.histplot(data=books, x=\"rating\", binwidth=.1)\n",
    "ax.set(xlabel=\"Ratings\",\n",
    "       ylabel=\"Count of Books\",\n",
    "       title=\"Distribution of Books per rating\")\n",
    "\n",
    "plt.show()"
   ]
  },
  {
   "cell_type": "code",
   "execution_count": 8,
   "id": "07a3f189",
   "metadata": {
    "colab": {
     "base_uri": "https://localhost:8080/",
     "height": 472
    },
    "id": "07a3f189",
    "outputId": "7a0a7896-918e-4176-ed7c-e24d57ca7cd2"
   },
   "outputs": [
    {
     "data": {
      "image/png": "[encoded data removed]",
      "text/plain": [
       "<Figure size 640x480 with 1 Axes>"
      ]
     },
     "metadata": {},
     "output_type": "display_data"
    }
   ],
   "source": [
    "# Create a histogram of ratings colored by genre\n",
    "fig, ax = plt.subplots()\n",
    "\n",
    "sns.histplot(data=books, x=\"rating\", hue=\"genre\", binwidth=.1, palette=\"viridis\")\n",
    "\n",
    "# Set the labels and title for the plot\n",
    "ax.set(xlabel=\"Ratings\",\n",
    "       ylabel=\"Count of Books\",\n",
    "       title=\"Distribution of Book Ratings by Genre\")\n",
    "\n",
    "plt.show()"
   ]
  },
  {
   "cell_type": "code",
   "execution_count": 9,
   "id": "f01248c3",
   "metadata": {
    "colab": {
     "base_uri": "https://localhost:8080/",
     "height": 175
    },
    "id": "f01248c3",
    "outputId": "454030f4-6a5f-43ba-9c99-fde56b662464"
   },
   "outputs": [
    {
     "data": {
      "application/vnd.microsoft.datawrangler.viewer.v0+json": {
       "columns": [
        {
         "name": "genre",
         "rawType": "object",
         "type": "string"
        },
        {
         "name": "rating",
         "rawType": "float64",
         "type": "float"
        },
        {
         "name": "year",
         "rawType": "float64",
         "type": "float"
        }
       ],
       "ref": "2170732d-08c1-40c2-841a-0417c35975ab",
       "rows": [
        [
         "Childrens",
         "4.779999999999999",
         "2015.075"
        ],
        [
         "Fiction",
         "4.570229007633588",
         "2013.0229007633588"
        ],
        [
         "Non Fiction",
         "4.598324022346369",
         "2013.513966480447"
        ]
       ],
       "shape": {
        "columns": 2,
        "rows": 3
       }
      },
      "text/html": [
       "<div>\n",
       "<style scoped>\n",
       "    .dataframe tbody tr th:only-of-type {\n",
       "        vertical-align: middle;\n",
       "    }\n",
       "\n",
       "    .dataframe tbody tr th {\n",
       "        vertical-align: top;\n",
       "    }\n",
       "\n",
       "    .dataframe thead th {\n",
       "        text-align: right;\n",
       "    }\n",
       "</style>\n",
       "<table border=\"1\" class=\"dataframe\">\n",
       "  <thead>\n",
       "    <tr style=\"text-align: right;\">\n",
       "      <th></th>\n",
       "      <th>rating</th>\n",
       "      <th>year</th>\n",
       "    </tr>\n",
       "    <tr>\n",
       "      <th>genre</th>\n",
       "      <th></th>\n",
       "      <th></th>\n",
       "    </tr>\n",
       "  </thead>\n",
       "  <tbody>\n",
       "    <tr>\n",
       "      <th>Childrens</th>\n",
       "      <td>4.780000</td>\n",
       "      <td>2015.075000</td>\n",
       "    </tr>\n",
       "    <tr>\n",
       "      <th>Fiction</th>\n",
       "      <td>4.570229</td>\n",
       "      <td>2013.022901</td>\n",
       "    </tr>\n",
       "    <tr>\n",
       "      <th>Non Fiction</th>\n",
       "      <td>4.598324</td>\n",
       "      <td>2013.513966</td>\n",
       "    </tr>\n",
       "  </tbody>\n",
       "</table>\n",
       "</div>"
      ],
      "text/plain": [
       "               rating         year\n",
       "genre                             \n",
       "Childrens    4.780000  2015.075000\n",
       "Fiction      4.570229  2013.022901\n",
       "Non Fiction  4.598324  2013.513966"
      ]
     },
     "execution_count": 9,
     "metadata": {},
     "output_type": "execute_result"
    }
   ],
   "source": [
    "books.groupby(\"genre\").mean(numeric_only=True)"
   ]
  },
  {
   "cell_type": "code",
   "execution_count": 10,
   "id": "Vg18BnlH-7mW",
   "metadata": {
    "colab": {
     "base_uri": "https://localhost:8080/",
     "height": 112
    },
    "id": "Vg18BnlH-7mW",
    "outputId": "74fc837a-6be5-4112-e0d5-096716f43257"
   },
   "outputs": [
    {
     "data": {
      "application/vnd.microsoft.datawrangler.viewer.v0+json": {
       "columns": [
        {
         "name": "index",
         "rawType": "object",
         "type": "string"
        },
        {
         "name": "rating",
         "rawType": "float64",
         "type": "float"
        },
        {
         "name": "year",
         "rawType": "float64",
         "type": "float"
        }
       ],
       "ref": "b778a377-9faf-43cd-91ba-f08ef64d25de",
       "rows": [
        [
         "mean",
         "4.6085714285714285",
         "2013.5085714285715"
        ],
        [
         "std",
         "0.22694107457737037",
         "3.2847107332154124"
        ]
       ],
       "shape": {
        "columns": 2,
        "rows": 2
       }
      },
      "text/html": [
       "<div>\n",
       "<style scoped>\n",
       "    .dataframe tbody tr th:only-of-type {\n",
       "        vertical-align: middle;\n",
       "    }\n",
       "\n",
       "    .dataframe tbody tr th {\n",
       "        vertical-align: top;\n",
       "    }\n",
       "\n",
       "    .dataframe thead th {\n",
       "        text-align: right;\n",
       "    }\n",
       "</style>\n",
       "<table border=\"1\" class=\"dataframe\">\n",
       "  <thead>\n",
       "    <tr style=\"text-align: right;\">\n",
       "      <th></th>\n",
       "      <th>rating</th>\n",
       "      <th>year</th>\n",
       "    </tr>\n",
       "  </thead>\n",
       "  <tbody>\n",
       "    <tr>\n",
       "      <th>mean</th>\n",
       "      <td>4.608571</td>\n",
       "      <td>2013.508571</td>\n",
       "    </tr>\n",
       "    <tr>\n",
       "      <th>std</th>\n",
       "      <td>0.226941</td>\n",
       "      <td>3.284711</td>\n",
       "    </tr>\n",
       "  </tbody>\n",
       "</table>\n",
       "</div>"
      ],
      "text/plain": [
       "        rating         year\n",
       "mean  4.608571  2013.508571\n",
       "std   0.226941     3.284711"
      ]
     },
     "execution_count": 10,
     "metadata": {},
     "output_type": "execute_result"
    }
   ],
   "source": [
    "books.select_dtypes(include=np.number).agg([\"mean\", \"std\"])"
   ]
  },
  {
   "cell_type": "code",
   "execution_count": 11,
   "id": "7wvenz_R_Wln",
   "metadata": {
    "colab": {
     "base_uri": "https://localhost:8080/",
     "height": 144
    },
    "id": "7wvenz_R_Wln",
    "outputId": "d3f38a57-6b76-4254-b6e8-8ad5c664339e"
   },
   "outputs": [
    {
     "data": {
      "application/vnd.microsoft.datawrangler.viewer.v0+json": {
       "columns": [
        {
         "name": "index",
         "rawType": "object",
         "type": "string"
        },
        {
         "name": "rating",
         "rawType": "float64",
         "type": "float"
        },
        {
         "name": "year",
         "rawType": "float64",
         "type": "float"
        }
       ],
       "ref": "fa13e8c0-9863-4e6e-8cdb-91df31f4d12d",
       "rows": [
        [
         "mean",
         "4.6085714285714285",
         null
        ],
        [
         "std",
         "0.22694107457737037",
         null
        ],
        [
         "median",
         null,
         "2013.0"
        ]
       ],
       "shape": {
        "columns": 2,
        "rows": 3
       }
      },
      "text/html": [
       "<div>\n",
       "<style scoped>\n",
       "    .dataframe tbody tr th:only-of-type {\n",
       "        vertical-align: middle;\n",
       "    }\n",
       "\n",
       "    .dataframe tbody tr th {\n",
       "        vertical-align: top;\n",
       "    }\n",
       "\n",
       "    .dataframe thead th {\n",
       "        text-align: right;\n",
       "    }\n",
       "</style>\n",
       "<table border=\"1\" class=\"dataframe\">\n",
       "  <thead>\n",
       "    <tr style=\"text-align: right;\">\n",
       "      <th></th>\n",
       "      <th>rating</th>\n",
       "      <th>year</th>\n",
       "    </tr>\n",
       "  </thead>\n",
       "  <tbody>\n",
       "    <tr>\n",
       "      <th>mean</th>\n",
       "      <td>4.608571</td>\n",
       "      <td>NaN</td>\n",
       "    </tr>\n",
       "    <tr>\n",
       "      <th>std</th>\n",
       "      <td>0.226941</td>\n",
       "      <td>NaN</td>\n",
       "    </tr>\n",
       "    <tr>\n",
       "      <th>median</th>\n",
       "      <td>NaN</td>\n",
       "      <td>2013.0</td>\n",
       "    </tr>\n",
       "  </tbody>\n",
       "</table>\n",
       "</div>"
      ],
      "text/plain": [
       "          rating    year\n",
       "mean    4.608571     NaN\n",
       "std     0.226941     NaN\n",
       "median       NaN  2013.0"
      ]
     },
     "execution_count": 11,
     "metadata": {},
     "output_type": "execute_result"
    }
   ],
   "source": [
    "books.select_dtypes(include=np.number).agg({\"rating\": [\"mean\", \"std\"], \"year\":[\"median\"]})"
   ]
  },
  {
   "cell_type": "code",
   "execution_count": 12,
   "id": "KXxuBKiEAIp6",
   "metadata": {
    "colab": {
     "base_uri": "https://localhost:8080/",
     "height": 175
    },
    "id": "KXxuBKiEAIp6",
    "outputId": "a5d8b72c-6491-4691-c8d8-ae6705cd7a5d"
   },
   "outputs": [
    {
     "data": {
      "application/vnd.microsoft.datawrangler.viewer.v0+json": {
       "columns": [
        {
         "name": "genre",
         "rawType": "object",
         "type": "string"
        },
        {
         "name": "mean_rating",
         "rawType": "float64",
         "type": "float"
        },
        {
         "name": "std_rating",
         "rawType": "float64",
         "type": "float"
        },
        {
         "name": "median_year",
         "rawType": "float64",
         "type": "float"
        }
       ],
       "ref": "2101ed7b-fbff-43a9-9582-252eac131634",
       "rows": [
        [
         "Childrens",
         "4.779999999999999",
         "0.12236976331741024",
         "2015.0"
        ],
        [
         "Fiction",
         "4.570229007633588",
         "0.2811226549961503",
         "2013.0"
        ],
        [
         "Non Fiction",
         "4.598324022346369",
         "0.17941066455067908",
         "2013.0"
        ]
       ],
       "shape": {
        "columns": 3,
        "rows": 3
       }
      },
      "text/html": [
       "<div>\n",
       "<style scoped>\n",
       "    .dataframe tbody tr th:only-of-type {\n",
       "        vertical-align: middle;\n",
       "    }\n",
       "\n",
       "    .dataframe tbody tr th {\n",
       "        vertical-align: top;\n",
       "    }\n",
       "\n",
       "    .dataframe thead th {\n",
       "        text-align: right;\n",
       "    }\n",
       "</style>\n",
       "<table border=\"1\" class=\"dataframe\">\n",
       "  <thead>\n",
       "    <tr style=\"text-align: right;\">\n",
       "      <th></th>\n",
       "      <th>mean_rating</th>\n",
       "      <th>std_rating</th>\n",
       "      <th>median_year</th>\n",
       "    </tr>\n",
       "    <tr>\n",
       "      <th>genre</th>\n",
       "      <th></th>\n",
       "      <th></th>\n",
       "      <th></th>\n",
       "    </tr>\n",
       "  </thead>\n",
       "  <tbody>\n",
       "    <tr>\n",
       "      <th>Childrens</th>\n",
       "      <td>4.780000</td>\n",
       "      <td>0.122370</td>\n",
       "      <td>2015.0</td>\n",
       "    </tr>\n",
       "    <tr>\n",
       "      <th>Fiction</th>\n",
       "      <td>4.570229</td>\n",
       "      <td>0.281123</td>\n",
       "      <td>2013.0</td>\n",
       "    </tr>\n",
       "    <tr>\n",
       "      <th>Non Fiction</th>\n",
       "      <td>4.598324</td>\n",
       "      <td>0.179411</td>\n",
       "      <td>2013.0</td>\n",
       "    </tr>\n",
       "  </tbody>\n",
       "</table>\n",
       "</div>"
      ],
      "text/plain": [
       "             mean_rating  std_rating  median_year\n",
       "genre                                            \n",
       "Childrens       4.780000    0.122370       2015.0\n",
       "Fiction         4.570229    0.281123       2013.0\n",
       "Non Fiction     4.598324    0.179411       2013.0"
      ]
     },
     "execution_count": 12,
     "metadata": {},
     "output_type": "execute_result"
    }
   ],
   "source": [
    "books.groupby(\"genre\").agg(\n",
    "    mean_rating=(\"rating\", \"mean\"),\n",
    "    std_rating=(\"rating\", \"std\"),\n",
    "    median_year=(\"year\", \"median\")\n",
    ")"
   ]
  },
  {
   "cell_type": "markdown",
   "id": "tobac7UK-QPn",
   "metadata": {
    "id": "tobac7UK-QPn"
   },
   "source": [
    "### Functions for initial exploration\n",
    "You are researching unemployment rates worldwide and have been given a new dataset to work with. The data has been saved and loaded for you as a pandas DataFrame called unemployment. You've never seen the data before, so your first task is to use a few pandas functions to learn about this new data."
   ]
  },
  {
   "cell_type": "code",
   "execution_count": 13,
   "id": "XIvb8TziBToB",
   "metadata": {
    "id": "XIvb8TziBToB"
   },
   "outputs": [],
   "source": [
    "unemployment = pd.read_csv(\"data/clean_unemployment.csv\")"
   ]
  },
  {
   "cell_type": "code",
   "execution_count": 14,
   "id": "0V0cuDmU-Uav",
   "metadata": {
    "colab": {
     "base_uri": "https://localhost:8080/",
     "height": 206
    },
    "id": "0V0cuDmU-Uav",
    "outputId": "97a8103d-3def-4d9c-9ea8-65c4414e9d6e"
   },
   "outputs": [
    {
     "data": {
      "application/vnd.microsoft.datawrangler.viewer.v0+json": {
       "columns": [
        {
         "name": "index",
         "rawType": "int64",
         "type": "integer"
        },
        {
         "name": "country_code",
         "rawType": "object",
         "type": "string"
        },
        {
         "name": "country_name",
         "rawType": "object",
         "type": "string"
        },
        {
         "name": "continent",
         "rawType": "object",
         "type": "string"
        },
        {
         "name": "2010",
         "rawType": "float64",
         "type": "float"
        },
        {
         "name": "2011",
         "rawType": "float64",
         "type": "float"
        },
        {
         "name": "2012",
         "rawType": "float64",
         "type": "float"
        },
        {
         "name": "2013",
         "rawType": "float64",
         "type": "float"
        },
        {
         "name": "2014",
         "rawType": "float64",
         "type": "float"
        },
        {
         "name": "2015",
         "rawType": "float64",
         "type": "float"
        },
        {
         "name": "2016",
         "rawType": "float64",
         "type": "float"
        },
        {
         "name": "2017",
         "rawType": "float64",
         "type": "float"
        },
        {
         "name": "2018",
         "rawType": "float64",
         "type": "float"
        },
        {
         "name": "2019",
         "rawType": "float64",
         "type": "float"
        },
        {
         "name": "2020",
         "rawType": "float64",
         "type": "float"
        },
        {
         "name": "2021",
         "rawType": "float64",
         "type": "float"
        }
       ],
       "ref": "3c6471c7-bf72-435c-860e-ee01fcb30142",
       "rows": [
        [
         "0",
         "AFG",
         "Afghanistan",
         "Asia",
         "11.35",
         "11.05",
         "11.34",
         "11.19",
         "11.14",
         "11.13",
         "11.16",
         "11.18",
         "11.15",
         "11.22",
         "11.71",
         "13.28"
        ],
        [
         "1",
         "AGO",
         "Angola",
         "Africa",
         "9.43",
         "7.36",
         "7.35",
         "7.37",
         "7.37",
         "7.39",
         "7.41",
         "7.41",
         "7.42",
         "7.42",
         "8.33",
         "8.53"
        ],
        [
         "2",
         "ALB",
         "Albania",
         "Europe",
         "14.09",
         "13.48",
         "13.38",
         "15.87",
         "18.05",
         "17.19",
         "15.42",
         "13.62",
         "12.3",
         "11.47",
         "13.33",
         "11.82"
        ],
        [
         "3",
         "ARE",
         "United Arab Emirates",
         "Asia",
         "2.48",
         "2.3",
         "2.18",
         "2.04",
         "1.91",
         "1.77",
         "1.64",
         "2.46",
         "2.35",
         "2.23",
         "3.19",
         "3.36"
        ],
        [
         "4",
         "ARG",
         "Argentina",
         "South America",
         "7.71",
         "7.18",
         "7.22",
         "7.1",
         "7.27",
         "7.52",
         "8.11",
         "8.35",
         "9.22",
         "9.84",
         "11.46",
         "10.9"
        ]
       ],
       "shape": {
        "columns": 15,
        "rows": 5
       }
      },
      "text/html": [
       "<div>\n",
       "<style scoped>\n",
       "    .dataframe tbody tr th:only-of-type {\n",
       "        vertical-align: middle;\n",
       "    }\n",
       "\n",
       "    .dataframe tbody tr th {\n",
       "        vertical-align: top;\n",
       "    }\n",
       "\n",
       "    .dataframe thead th {\n",
       "        text-align: right;\n",
       "    }\n",
       "</style>\n",
       "<table border=\"1\" class=\"dataframe\">\n",
       "  <thead>\n",
       "    <tr style=\"text-align: right;\">\n",
       "      <th></th>\n",
       "      <th>country_code</th>\n",
       "      <th>country_name</th>\n",
       "      <th>continent</th>\n",
       "      <th>2010</th>\n",
       "      <th>2011</th>\n",
       "      <th>2012</th>\n",
       "      <th>2013</th>\n",
       "      <th>2014</th>\n",
       "      <th>2015</th>\n",
       "      <th>2016</th>\n",
       "      <th>2017</th>\n",
       "      <th>2018</th>\n",
       "      <th>2019</th>\n",
       "      <th>2020</th>\n",
       "      <th>2021</th>\n",
       "    </tr>\n",
       "  </thead>\n",
       "  <tbody>\n",
       "    <tr>\n",
       "      <th>0</th>\n",
       "      <td>AFG</td>\n",
       "      <td>Afghanistan</td>\n",
       "      <td>Asia</td>\n",
       "      <td>11.35</td>\n",
       "      <td>11.05</td>\n",
       "      <td>11.34</td>\n",
       "      <td>11.19</td>\n",
       "      <td>11.14</td>\n",
       "      <td>11.13</td>\n",
       "      <td>11.16</td>\n",
       "      <td>11.18</td>\n",
       "      <td>11.15</td>\n",
       "      <td>11.22</td>\n",
       "      <td>11.71</td>\n",
       "      <td>13.28</td>\n",
       "    </tr>\n",
       "    <tr>\n",
       "      <th>1</th>\n",
       "      <td>AGO</td>\n",
       "      <td>Angola</td>\n",
       "      <td>Africa</td>\n",
       "      <td>9.43</td>\n",
       "      <td>7.36</td>\n",
       "      <td>7.35</td>\n",
       "      <td>7.37</td>\n",
       "      <td>7.37</td>\n",
       "      <td>7.39</td>\n",
       "      <td>7.41</td>\n",
       "      <td>7.41</td>\n",
       "      <td>7.42</td>\n",
       "      <td>7.42</td>\n",
       "      <td>8.33</td>\n",
       "      <td>8.53</td>\n",
       "    </tr>\n",
       "    <tr>\n",
       "      <th>2</th>\n",
       "      <td>ALB</td>\n",
       "      <td>Albania</td>\n",
       "      <td>Europe</td>\n",
       "      <td>14.09</td>\n",
       "      <td>13.48</td>\n",
       "      <td>13.38</td>\n",
       "      <td>15.87</td>\n",
       "      <td>18.05</td>\n",
       "      <td>17.19</td>\n",
       "      <td>15.42</td>\n",
       "      <td>13.62</td>\n",
       "      <td>12.30</td>\n",
       "      <td>11.47</td>\n",
       "      <td>13.33</td>\n",
       "      <td>11.82</td>\n",
       "    </tr>\n",
       "    <tr>\n",
       "      <th>3</th>\n",
       "      <td>ARE</td>\n",
       "      <td>United Arab Emirates</td>\n",
       "      <td>Asia</td>\n",
       "      <td>2.48</td>\n",
       "      <td>2.30</td>\n",
       "      <td>2.18</td>\n",
       "      <td>2.04</td>\n",
       "      <td>1.91</td>\n",
       "      <td>1.77</td>\n",
       "      <td>1.64</td>\n",
       "      <td>2.46</td>\n",
       "      <td>2.35</td>\n",
       "      <td>2.23</td>\n",
       "      <td>3.19</td>\n",
       "      <td>3.36</td>\n",
       "    </tr>\n",
       "    <tr>\n",
       "      <th>4</th>\n",
       "      <td>ARG</td>\n",
       "      <td>Argentina</td>\n",
       "      <td>South America</td>\n",
       "      <td>7.71</td>\n",
       "      <td>7.18</td>\n",
       "      <td>7.22</td>\n",
       "      <td>7.10</td>\n",
       "      <td>7.27</td>\n",
       "      <td>7.52</td>\n",
       "      <td>8.11</td>\n",
       "      <td>8.35</td>\n",
       "      <td>9.22</td>\n",
       "      <td>9.84</td>\n",
       "      <td>11.46</td>\n",
       "      <td>10.90</td>\n",
       "    </tr>\n",
       "  </tbody>\n",
       "</table>\n",
       "</div>"
      ],
      "text/plain": [
       "  country_code          country_name      continent   2010   2011   2012  \\\n",
       "0          AFG           Afghanistan           Asia  11.35  11.05  11.34   \n",
       "1          AGO                Angola         Africa   9.43   7.36   7.35   \n",
       "2          ALB               Albania         Europe  14.09  13.48  13.38   \n",
       "3          ARE  United Arab Emirates           Asia   2.48   2.30   2.18   \n",
       "4          ARG             Argentina  South America   7.71   7.18   7.22   \n",
       "\n",
       "    2013   2014   2015   2016   2017   2018   2019   2020   2021  \n",
       "0  11.19  11.14  11.13  11.16  11.18  11.15  11.22  11.71  13.28  \n",
       "1   7.37   7.37   7.39   7.41   7.41   7.42   7.42   8.33   8.53  \n",
       "2  15.87  18.05  17.19  15.42  13.62  12.30  11.47  13.33  11.82  \n",
       "3   2.04   1.91   1.77   1.64   2.46   2.35   2.23   3.19   3.36  \n",
       "4   7.10   7.27   7.52   8.11   8.35   9.22   9.84  11.46  10.90  "
      ]
     },
     "metadata": {},
     "output_type": "display_data"
    }
   ],
   "source": [
    "# Print the first five rows of unemployment\n",
    "display(unemployment.head())"
   ]
  },
  {
   "cell_type": "code",
   "execution_count": 15,
   "id": "CQsFT6K0-fYW",
   "metadata": {
    "colab": {
     "base_uri": "https://localhost:8080/"
    },
    "id": "CQsFT6K0-fYW",
    "outputId": "2842841e-8d62-4670-db39-5a7779f581b7"
   },
   "outputs": [
    {
     "name": "stdout",
     "output_type": "stream",
     "text": [
      "<class 'pandas.core.frame.DataFrame'>\n",
      "RangeIndex: 182 entries, 0 to 181\n",
      "Data columns (total 15 columns):\n",
      " #   Column        Non-Null Count  Dtype  \n",
      "---  ------        --------------  -----  \n",
      " 0   country_code  182 non-null    object \n",
      " 1   country_name  182 non-null    object \n",
      " 2   continent     177 non-null    object \n",
      " 3   2010          182 non-null    float64\n",
      " 4   2011          182 non-null    float64\n",
      " 5   2012          182 non-null    float64\n",
      " 6   2013          182 non-null    float64\n",
      " 7   2014          182 non-null    float64\n",
      " 8   2015          182 non-null    float64\n",
      " 9   2016          182 non-null    float64\n",
      " 10  2017          182 non-null    float64\n",
      " 11  2018          182 non-null    float64\n",
      " 12  2019          182 non-null    float64\n",
      " 13  2020          182 non-null    float64\n",
      " 14  2021          182 non-null    float64\n",
      "dtypes: float64(12), object(3)\n",
      "memory usage: 21.5+ KB\n",
      "None\n"
     ]
    }
   ],
   "source": [
    "# Use a pandas function to print a summary of column non-missing values and data types from the unemployment DataFrame.\n",
    "print(unemployment.info())"
   ]
  },
  {
   "cell_type": "code",
   "execution_count": 16,
   "id": "f4op7Asm-nGW",
   "metadata": {
    "colab": {
     "base_uri": "https://localhost:8080/",
     "height": 300
    },
    "id": "f4op7Asm-nGW",
    "outputId": "5d41eb9c-502e-46f5-f44c-a22a00b1501a"
   },
   "outputs": [
    {
     "data": {
      "application/vnd.microsoft.datawrangler.viewer.v0+json": {
       "columns": [
        {
         "name": "index",
         "rawType": "object",
         "type": "string"
        },
        {
         "name": "2010",
         "rawType": "float64",
         "type": "float"
        },
        {
         "name": "2011",
         "rawType": "float64",
         "type": "float"
        },
        {
         "name": "2012",
         "rawType": "float64",
         "type": "float"
        },
        {
         "name": "2013",
         "rawType": "float64",
         "type": "float"
        },
        {
         "name": "2014",
         "rawType": "float64",
         "type": "float"
        },
        {
         "name": "2015",
         "rawType": "float64",
         "type": "float"
        },
        {
         "name": "2016",
         "rawType": "float64",
         "type": "float"
        },
        {
         "name": "2017",
         "rawType": "float64",
         "type": "float"
        },
        {
         "name": "2018",
         "rawType": "float64",
         "type": "float"
        },
        {
         "name": "2019",
         "rawType": "float64",
         "type": "float"
        },
        {
         "name": "2020",
         "rawType": "float64",
         "type": "float"
        },
        {
         "name": "2021",
         "rawType": "float64",
         "type": "float"
        }
       ],
       "ref": "8ea6f4ae-e825-4334-ac7c-2d451521c752",
       "rows": [
        [
         "count",
         "182.0",
         "182.0",
         "182.0",
         "182.0",
         "182.0",
         "182.0",
         "182.0",
         "182.0",
         "182.0",
         "182.0",
         "182.0",
         "182.0"
        ],
        [
         "mean",
         "8.409285714285714",
         "8.31543956043956",
         "8.317967032967033",
         "8.344780219780219",
         "8.17967032967033",
         "8.058901098901098",
         "7.925879120879119",
         "7.668626373626374",
         "7.426428571428571",
         "7.243736263736263",
         "8.420934065934066",
         "8.390879120879122"
        ],
        [
         "std",
         "6.248886931667684",
         "6.266794767386903",
         "6.367269876365001",
         "6.416040646359651",
         "6.284240914272588",
         "6.16117023586002",
         "6.045438538553597",
         "5.902151755105511",
         "5.818914661464903",
         "5.696572517698331",
         "6.04091489046657",
         "6.067191846516359"
        ],
        [
         "min",
         "0.45",
         "0.32",
         "0.48",
         "0.25",
         "0.2",
         "0.17",
         "0.15",
         "0.14",
         "0.11",
         "0.1",
         "0.21",
         "0.26"
        ],
        [
         "25%",
         "4.015",
         "3.775",
         "3.7425",
         "3.6925",
         "3.625",
         "3.6625",
         "3.8",
         "3.69",
         "3.625",
         "3.4875",
         "4.285",
         "4.335"
        ],
        [
         "50%",
         "6.965",
         "6.805",
         "6.6899999999999995",
         "6.395",
         "6.449999999999999",
         "6.17",
         "5.925000000000001",
         "5.65",
         "5.375",
         "5.24",
         "6.695",
         "6.425"
        ],
        [
         "75%",
         "10.9575",
         "11.045",
         "11.285",
         "11.309999999999999",
         "10.695",
         "10.215",
         "10.245",
         "10.315",
         "9.2575",
         "9.445",
         "11.155",
         "10.84"
        ],
        [
         "max",
         "32.02",
         "31.38",
         "31.02",
         "29.0",
         "28.03",
         "27.69",
         "26.54",
         "27.04",
         "26.91",
         "28.47",
         "29.22",
         "33.56"
        ]
       ],
       "shape": {
        "columns": 12,
        "rows": 8
       }
      },
      "text/html": [
       "<div>\n",
       "<style scoped>\n",
       "    .dataframe tbody tr th:only-of-type {\n",
       "        vertical-align: middle;\n",
       "    }\n",
       "\n",
       "    .dataframe tbody tr th {\n",
       "        vertical-align: top;\n",
       "    }\n",
       "\n",
       "    .dataframe thead th {\n",
       "        text-align: right;\n",
       "    }\n",
       "</style>\n",
       "<table border=\"1\" class=\"dataframe\">\n",
       "  <thead>\n",
       "    <tr style=\"text-align: right;\">\n",
       "      <th></th>\n",
       "      <th>2010</th>\n",
       "      <th>2011</th>\n",
       "      <th>2012</th>\n",
       "      <th>2013</th>\n",
       "      <th>2014</th>\n",
       "      <th>2015</th>\n",
       "      <th>2016</th>\n",
       "      <th>2017</th>\n",
       "      <th>2018</th>\n",
       "      <th>2019</th>\n",
       "      <th>2020</th>\n",
       "      <th>2021</th>\n",
       "    </tr>\n",
       "  </thead>\n",
       "  <tbody>\n",
       "    <tr>\n",
       "      <th>count</th>\n",
       "      <td>182.000000</td>\n",
       "      <td>182.000000</td>\n",
       "      <td>182.000000</td>\n",
       "      <td>182.000000</td>\n",
       "      <td>182.000000</td>\n",
       "      <td>182.000000</td>\n",
       "      <td>182.000000</td>\n",
       "      <td>182.000000</td>\n",
       "      <td>182.000000</td>\n",
       "      <td>182.000000</td>\n",
       "      <td>182.000000</td>\n",
       "      <td>182.000000</td>\n",
       "    </tr>\n",
       "    <tr>\n",
       "      <th>mean</th>\n",
       "      <td>8.409286</td>\n",
       "      <td>8.315440</td>\n",
       "      <td>8.317967</td>\n",
       "      <td>8.344780</td>\n",
       "      <td>8.179670</td>\n",
       "      <td>8.058901</td>\n",
       "      <td>7.925879</td>\n",
       "      <td>7.668626</td>\n",
       "      <td>7.426429</td>\n",
       "      <td>7.243736</td>\n",
       "      <td>8.420934</td>\n",
       "      <td>8.390879</td>\n",
       "    </tr>\n",
       "    <tr>\n",
       "      <th>std</th>\n",
       "      <td>6.248887</td>\n",
       "      <td>6.266795</td>\n",
       "      <td>6.367270</td>\n",
       "      <td>6.416041</td>\n",
       "      <td>6.284241</td>\n",
       "      <td>6.161170</td>\n",
       "      <td>6.045439</td>\n",
       "      <td>5.902152</td>\n",
       "      <td>5.818915</td>\n",
       "      <td>5.696573</td>\n",
       "      <td>6.040915</td>\n",
       "      <td>6.067192</td>\n",
       "    </tr>\n",
       "    <tr>\n",
       "      <th>min</th>\n",
       "      <td>0.450000</td>\n",
       "      <td>0.320000</td>\n",
       "      <td>0.480000</td>\n",
       "      <td>0.250000</td>\n",
       "      <td>0.200000</td>\n",
       "      <td>0.170000</td>\n",
       "      <td>0.150000</td>\n",
       "      <td>0.140000</td>\n",
       "      <td>0.110000</td>\n",
       "      <td>0.100000</td>\n",
       "      <td>0.210000</td>\n",
       "      <td>0.260000</td>\n",
       "    </tr>\n",
       "    <tr>\n",
       "      <th>25%</th>\n",
       "      <td>4.015000</td>\n",
       "      <td>3.775000</td>\n",
       "      <td>3.742500</td>\n",
       "      <td>3.692500</td>\n",
       "      <td>3.625000</td>\n",
       "      <td>3.662500</td>\n",
       "      <td>3.800000</td>\n",
       "      <td>3.690000</td>\n",
       "      <td>3.625000</td>\n",
       "      <td>3.487500</td>\n",
       "      <td>4.285000</td>\n",
       "      <td>4.335000</td>\n",
       "    </tr>\n",
       "    <tr>\n",
       "      <th>50%</th>\n",
       "      <td>6.965000</td>\n",
       "      <td>6.805000</td>\n",
       "      <td>6.690000</td>\n",
       "      <td>6.395000</td>\n",
       "      <td>6.450000</td>\n",
       "      <td>6.170000</td>\n",
       "      <td>5.925000</td>\n",
       "      <td>5.650000</td>\n",
       "      <td>5.375000</td>\n",
       "      <td>5.240000</td>\n",
       "      <td>6.695000</td>\n",
       "      <td>6.425000</td>\n",
       "    </tr>\n",
       "    <tr>\n",
       "      <th>75%</th>\n",
       "      <td>10.957500</td>\n",
       "      <td>11.045000</td>\n",
       "      <td>11.285000</td>\n",
       "      <td>11.310000</td>\n",
       "      <td>10.695000</td>\n",
       "      <td>10.215000</td>\n",
       "      <td>10.245000</td>\n",
       "      <td>10.315000</td>\n",
       "      <td>9.257500</td>\n",
       "      <td>9.445000</td>\n",
       "      <td>11.155000</td>\n",
       "      <td>10.840000</td>\n",
       "    </tr>\n",
       "    <tr>\n",
       "      <th>max</th>\n",
       "      <td>32.020000</td>\n",
       "      <td>31.380000</td>\n",
       "      <td>31.020000</td>\n",
       "      <td>29.000000</td>\n",
       "      <td>28.030000</td>\n",
       "      <td>27.690000</td>\n",
       "      <td>26.540000</td>\n",
       "      <td>27.040000</td>\n",
       "      <td>26.910000</td>\n",
       "      <td>28.470000</td>\n",
       "      <td>29.220000</td>\n",
       "      <td>33.560000</td>\n",
       "    </tr>\n",
       "  </tbody>\n",
       "</table>\n",
       "</div>"
      ],
      "text/plain": [
       "             2010        2011        2012        2013        2014        2015  \\\n",
       "count  182.000000  182.000000  182.000000  182.000000  182.000000  182.000000   \n",
       "mean     8.409286    8.315440    8.317967    8.344780    8.179670    8.058901   \n",
       "std      6.248887    6.266795    6.367270    6.416041    6.284241    6.161170   \n",
       "min      0.450000    0.320000    0.480000    0.250000    0.200000    0.170000   \n",
       "25%      4.015000    3.775000    3.742500    3.692500    3.625000    3.662500   \n",
       "50%      6.965000    6.805000    6.690000    6.395000    6.450000    6.170000   \n",
       "75%     10.957500   11.045000   11.285000   11.310000   10.695000   10.215000   \n",
       "max     32.020000   31.380000   31.020000   29.000000   28.030000   27.690000   \n",
       "\n",
       "             2016        2017        2018        2019        2020        2021  \n",
       "count  182.000000  182.000000  182.000000  182.000000  182.000000  182.000000  \n",
       "mean     7.925879    7.668626    7.426429    7.243736    8.420934    8.390879  \n",
       "std      6.045439    5.902152    5.818915    5.696573    6.040915    6.067192  \n",
       "min      0.150000    0.140000    0.110000    0.100000    0.210000    0.260000  \n",
       "25%      3.800000    3.690000    3.625000    3.487500    4.285000    4.335000  \n",
       "50%      5.925000    5.650000    5.375000    5.240000    6.695000    6.425000  \n",
       "75%     10.245000   10.315000    9.257500    9.445000   11.155000   10.840000  \n",
       "max     26.540000   27.040000   26.910000   28.470000   29.220000   33.560000  "
      ]
     },
     "metadata": {},
     "output_type": "display_data"
    }
   ],
   "source": [
    "# Print the summary statistics (count, mean, standard deviation, min, max, and quartile values) of each numerical column in unemployment.\n",
    "display(unemployment.describe())"
   ]
  },
  {
   "cell_type": "code",
   "execution_count": 17,
   "id": "M-kjpuDt-wRj",
   "metadata": {
    "colab": {
     "base_uri": "https://localhost:8080/"
    },
    "id": "M-kjpuDt-wRj",
    "outputId": "84acae0d-7ad4-48df-ec60-67ceac0cda70"
   },
   "outputs": [
    {
     "name": "stdout",
     "output_type": "stream",
     "text": [
      "continent\n",
      "Africa           53\n",
      "Asia             47\n",
      "Europe           39\n",
      "North America    18\n",
      "South America    12\n",
      "Oceania           8\n",
      "Name: count, dtype: int64\n"
     ]
    }
   ],
   "source": [
    "# Use a method to count the values associated with each continent in the unemployment DataFrame.\n",
    "print(unemployment[\"continent\"].value_counts())"
   ]
  },
  {
   "cell_type": "markdown",
   "id": "uhLv-IhY-6Yv",
   "metadata": {
    "id": "uhLv-IhY-6Yv"
   },
   "source": [
    "### Global unemployment in 2021\n",
    "It's time to explore some of the numerical data in unemployment! What was typical unemployment in a given year? What was the minimum and maximum unemployment rate, and what did the distribution of the unemployment rates look like across the world? A histogram is a great way to get a sense of the answers to these questions.\n",
    "\n",
    "Your task in this exercise is to create a histogram showing the distribution of global unemployment rates in 2021."
   ]
  },
  {
   "cell_type": "code",
   "execution_count": 18,
   "id": "0MQlFoAD_WPq",
   "metadata": {
    "colab": {
     "base_uri": "https://localhost:8080/",
     "height": 206
    },
    "id": "0MQlFoAD_WPq",
    "outputId": "b7dbbed7-1a92-4940-a97d-a6ab24c153cf"
   },
   "outputs": [
    {
     "data": {
      "application/vnd.microsoft.datawrangler.viewer.v0+json": {
       "columns": [
        {
         "name": "index",
         "rawType": "int64",
         "type": "integer"
        },
        {
         "name": "country_code",
         "rawType": "object",
         "type": "string"
        },
        {
         "name": "country_name",
         "rawType": "object",
         "type": "string"
        },
        {
         "name": "continent",
         "rawType": "object",
         "type": "string"
        },
        {
         "name": "2010",
         "rawType": "float64",
         "type": "float"
        },
        {
         "name": "2011",
         "rawType": "float64",
         "type": "float"
        },
        {
         "name": "2012",
         "rawType": "float64",
         "type": "float"
        },
        {
         "name": "2013",
         "rawType": "float64",
         "type": "float"
        },
        {
         "name": "2014",
         "rawType": "float64",
         "type": "float"
        },
        {
         "name": "2015",
         "rawType": "float64",
         "type": "float"
        },
        {
         "name": "2016",
         "rawType": "float64",
         "type": "float"
        },
        {
         "name": "2017",
         "rawType": "float64",
         "type": "float"
        },
        {
         "name": "2018",
         "rawType": "float64",
         "type": "float"
        },
        {
         "name": "2019",
         "rawType": "float64",
         "type": "float"
        },
        {
         "name": "2020",
         "rawType": "float64",
         "type": "float"
        },
        {
         "name": "2021",
         "rawType": "float64",
         "type": "float"
        }
       ],
       "ref": "3f68bdfb-9965-49fc-aeb9-f4df248304b6",
       "rows": [
        [
         "0",
         "AFG",
         "Afghanistan",
         "Asia",
         "11.35",
         "11.05",
         "11.34",
         "11.19",
         "11.14",
         "11.13",
         "11.16",
         "11.18",
         "11.15",
         "11.22",
         "11.71",
         "13.28"
        ],
        [
         "1",
         "AGO",
         "Angola",
         "Africa",
         "9.43",
         "7.36",
         "7.35",
         "7.37",
         "7.37",
         "7.39",
         "7.41",
         "7.41",
         "7.42",
         "7.42",
         "8.33",
         "8.53"
        ],
        [
         "2",
         "ALB",
         "Albania",
         "Europe",
         "14.09",
         "13.48",
         "13.38",
         "15.87",
         "18.05",
         "17.19",
         "15.42",
         "13.62",
         "12.3",
         "11.47",
         "13.33",
         "11.82"
        ],
        [
         "3",
         "ARE",
         "United Arab Emirates",
         "Asia",
         "2.48",
         "2.3",
         "2.18",
         "2.04",
         "1.91",
         "1.77",
         "1.64",
         "2.46",
         "2.35",
         "2.23",
         "3.19",
         "3.36"
        ],
        [
         "4",
         "ARG",
         "Argentina",
         "South America",
         "7.71",
         "7.18",
         "7.22",
         "7.1",
         "7.27",
         "7.52",
         "8.11",
         "8.35",
         "9.22",
         "9.84",
         "11.46",
         "10.9"
        ]
       ],
       "shape": {
        "columns": 15,
        "rows": 5
       }
      },
      "text/html": [
       "<div>\n",
       "<style scoped>\n",
       "    .dataframe tbody tr th:only-of-type {\n",
       "        vertical-align: middle;\n",
       "    }\n",
       "\n",
       "    .dataframe tbody tr th {\n",
       "        vertical-align: top;\n",
       "    }\n",
       "\n",
       "    .dataframe thead th {\n",
       "        text-align: right;\n",
       "    }\n",
       "</style>\n",
       "<table border=\"1\" class=\"dataframe\">\n",
       "  <thead>\n",
       "    <tr style=\"text-align: right;\">\n",
       "      <th></th>\n",
       "      <th>country_code</th>\n",
       "      <th>country_name</th>\n",
       "      <th>continent</th>\n",
       "      <th>2010</th>\n",
       "      <th>2011</th>\n",
       "      <th>2012</th>\n",
       "      <th>2013</th>\n",
       "      <th>2014</th>\n",
       "      <th>2015</th>\n",
       "      <th>2016</th>\n",
       "      <th>2017</th>\n",
       "      <th>2018</th>\n",
       "      <th>2019</th>\n",
       "      <th>2020</th>\n",
       "      <th>2021</th>\n",
       "    </tr>\n",
       "  </thead>\n",
       "  <tbody>\n",
       "    <tr>\n",
       "      <th>0</th>\n",
       "      <td>AFG</td>\n",
       "      <td>Afghanistan</td>\n",
       "      <td>Asia</td>\n",
       "      <td>11.35</td>\n",
       "      <td>11.05</td>\n",
       "      <td>11.34</td>\n",
       "      <td>11.19</td>\n",
       "      <td>11.14</td>\n",
       "      <td>11.13</td>\n",
       "      <td>11.16</td>\n",
       "      <td>11.18</td>\n",
       "      <td>11.15</td>\n",
       "      <td>11.22</td>\n",
       "      <td>11.71</td>\n",
       "      <td>13.28</td>\n",
       "    </tr>\n",
       "    <tr>\n",
       "      <th>1</th>\n",
       "      <td>AGO</td>\n",
       "      <td>Angola</td>\n",
       "      <td>Africa</td>\n",
       "      <td>9.43</td>\n",
       "      <td>7.36</td>\n",
       "      <td>7.35</td>\n",
       "      <td>7.37</td>\n",
       "      <td>7.37</td>\n",
       "      <td>7.39</td>\n",
       "      <td>7.41</td>\n",
       "      <td>7.41</td>\n",
       "      <td>7.42</td>\n",
       "      <td>7.42</td>\n",
       "      <td>8.33</td>\n",
       "      <td>8.53</td>\n",
       "    </tr>\n",
       "    <tr>\n",
       "      <th>2</th>\n",
       "      <td>ALB</td>\n",
       "      <td>Albania</td>\n",
       "      <td>Europe</td>\n",
       "      <td>14.09</td>\n",
       "      <td>13.48</td>\n",
       "      <td>13.38</td>\n",
       "      <td>15.87</td>\n",
       "      <td>18.05</td>\n",
       "      <td>17.19</td>\n",
       "      <td>15.42</td>\n",
       "      <td>13.62</td>\n",
       "      <td>12.30</td>\n",
       "      <td>11.47</td>\n",
       "      <td>13.33</td>\n",
       "      <td>11.82</td>\n",
       "    </tr>\n",
       "    <tr>\n",
       "      <th>3</th>\n",
       "      <td>ARE</td>\n",
       "      <td>United Arab Emirates</td>\n",
       "      <td>Asia</td>\n",
       "      <td>2.48</td>\n",
       "      <td>2.30</td>\n",
       "      <td>2.18</td>\n",
       "      <td>2.04</td>\n",
       "      <td>1.91</td>\n",
       "      <td>1.77</td>\n",
       "      <td>1.64</td>\n",
       "      <td>2.46</td>\n",
       "      <td>2.35</td>\n",
       "      <td>2.23</td>\n",
       "      <td>3.19</td>\n",
       "      <td>3.36</td>\n",
       "    </tr>\n",
       "    <tr>\n",
       "      <th>4</th>\n",
       "      <td>ARG</td>\n",
       "      <td>Argentina</td>\n",
       "      <td>South America</td>\n",
       "      <td>7.71</td>\n",
       "      <td>7.18</td>\n",
       "      <td>7.22</td>\n",
       "      <td>7.10</td>\n",
       "      <td>7.27</td>\n",
       "      <td>7.52</td>\n",
       "      <td>8.11</td>\n",
       "      <td>8.35</td>\n",
       "      <td>9.22</td>\n",
       "      <td>9.84</td>\n",
       "      <td>11.46</td>\n",
       "      <td>10.90</td>\n",
       "    </tr>\n",
       "  </tbody>\n",
       "</table>\n",
       "</div>"
      ],
      "text/plain": [
       "  country_code          country_name      continent   2010   2011   2012  \\\n",
       "0          AFG           Afghanistan           Asia  11.35  11.05  11.34   \n",
       "1          AGO                Angola         Africa   9.43   7.36   7.35   \n",
       "2          ALB               Albania         Europe  14.09  13.48  13.38   \n",
       "3          ARE  United Arab Emirates           Asia   2.48   2.30   2.18   \n",
       "4          ARG             Argentina  South America   7.71   7.18   7.22   \n",
       "\n",
       "    2013   2014   2015   2016   2017   2018   2019   2020   2021  \n",
       "0  11.19  11.14  11.13  11.16  11.18  11.15  11.22  11.71  13.28  \n",
       "1   7.37   7.37   7.39   7.41   7.41   7.42   7.42   8.33   8.53  \n",
       "2  15.87  18.05  17.19  15.42  13.62  12.30  11.47  13.33  11.82  \n",
       "3   2.04   1.91   1.77   1.64   2.46   2.35   2.23   3.19   3.36  \n",
       "4   7.10   7.27   7.52   8.11   8.35   9.22   9.84  11.46  10.90  "
      ]
     },
     "execution_count": 18,
     "metadata": {},
     "output_type": "execute_result"
    }
   ],
   "source": [
    "unemployment.head()"
   ]
  },
  {
   "cell_type": "code",
   "execution_count": 19,
   "id": "q-IHxl3K-_AK",
   "metadata": {
    "colab": {
     "base_uri": "https://localhost:8080/",
     "height": 472
    },
    "id": "q-IHxl3K-_AK",
    "outputId": "8eb40cd5-6acb-46db-8e83-abf91ca3762e"
   },
   "outputs": [
    {
     "data": {
      "image/png": "[encoded data removed]",
      "text/plain": [
       "<Figure size 640x480 with 1 Axes>"
      ]
     },
     "metadata": {},
     "output_type": "display_data"
    }
   ],
   "source": [
    "# Create a histogram of the distribution of 2021 unemployment percentages across all countries in unemployment; show a full percentage point in each bin.\n",
    "fig, ax = plt.subplots()\n",
    "sns.histplot(data=unemployment, x=\"2021\", binwidth=1)\n",
    "ax.set(title=\"Distribution of Global Unemployment Rates in 2021\",\n",
    "       xlabel=\"2021 Unemployment Percentage\",\n",
    "       ylabel=\"Count of Countries\")\n",
    "\n",
    "plt.show()"
   ]
  },
  {
   "cell_type": "markdown",
   "id": "n9qD9yvmIOJw",
   "metadata": {
    "id": "n9qD9yvmIOJw"
   },
   "source": [
    "### Data Validation"
   ]
  },
  {
   "cell_type": "markdown",
   "id": "NcfwmKwAIcyD",
   "metadata": {
    "id": "NcfwmKwAIcyD"
   },
   "source": [
    "Validating data types\n"
   ]
  },
  {
   "cell_type": "code",
   "execution_count": 20,
   "id": "kuhIkd6pIeh_",
   "metadata": {
    "colab": {
     "base_uri": "https://localhost:8080/"
    },
    "id": "kuhIkd6pIeh_",
    "outputId": "ec0717e6-fa5e-4da7-c63b-985f7098f56b"
   },
   "outputs": [
    {
     "name": "stdout",
     "output_type": "stream",
     "text": [
      "<class 'pandas.core.frame.DataFrame'>\n",
      "RangeIndex: 350 entries, 0 to 349\n",
      "Data columns (total 5 columns):\n",
      " #   Column  Non-Null Count  Dtype  \n",
      "---  ------  --------------  -----  \n",
      " 0   name    350 non-null    object \n",
      " 1   author  350 non-null    object \n",
      " 2   rating  350 non-null    float64\n",
      " 3   year    350 non-null    int64  \n",
      " 4   genre   350 non-null    object \n",
      "dtypes: float64(1), int64(1), object(3)\n",
      "memory usage: 13.8+ KB\n"
     ]
    }
   ],
   "source": [
    "books.info()"
   ]
  },
  {
   "cell_type": "code",
   "execution_count": 21,
   "id": "fn-uDoYqIif6",
   "metadata": {
    "colab": {
     "base_uri": "https://localhost:8080/",
     "height": 241
    },
    "id": "fn-uDoYqIif6",
    "outputId": "669886a3-c593-471f-b566-6832d4463e79"
   },
   "outputs": [
    {
     "data": {
      "application/vnd.microsoft.datawrangler.viewer.v0+json": {
       "columns": [
        {
         "name": "index",
         "rawType": "object",
         "type": "string"
        },
        {
         "name": "0",
         "rawType": "object",
         "type": "unknown"
        }
       ],
       "ref": "286668c4-d4e8-44fb-998d-21c10411b0bd",
       "rows": [
        [
         "name",
         "object"
        ],
        [
         "author",
         "object"
        ],
        [
         "rating",
         "float64"
        ],
        [
         "year",
         "int64"
        ],
        [
         "genre",
         "object"
        ]
       ],
       "shape": {
        "columns": 1,
        "rows": 5
       }
      },
      "text/plain": [
       "name       object\n",
       "author     object\n",
       "rating    float64\n",
       "year        int64\n",
       "genre      object\n",
       "dtype: object"
      ]
     },
     "execution_count": 21,
     "metadata": {},
     "output_type": "execute_result"
    }
   ],
   "source": [
    "books.dtypes"
   ]
  },
  {
   "cell_type": "markdown",
   "id": "6d3dojMDIlHk",
   "metadata": {
    "id": "6d3dojMDIlHk"
   },
   "source": [
    "### Updating data types\n",
    "\n",
    "| Type       | Python Name |\n",
    "|------------|-------------|\n",
    "| String     | `str`       |\n",
    "| Integer    | `int`       |\n",
    "| Float      | `float`     |\n",
    "| Dictionary | `dict`      |\n",
    "| List       | `list`      |\n",
    "| Boolean    | `bool`      |\n"
   ]
  },
  {
   "cell_type": "code",
   "execution_count": 22,
   "id": "o50n4pnwIpgk",
   "metadata": {
    "colab": {
     "base_uri": "https://localhost:8080/",
     "height": 241
    },
    "id": "o50n4pnwIpgk",
    "outputId": "a509fc9e-e033-41e5-9199-3b87431d60b0"
   },
   "outputs": [
    {
     "data": {
      "application/vnd.microsoft.datawrangler.viewer.v0+json": {
       "columns": [
        {
         "name": "index",
         "rawType": "object",
         "type": "string"
        },
        {
         "name": "0",
         "rawType": "object",
         "type": "unknown"
        }
       ],
       "ref": "8ecebf90-33ed-42d5-8da6-45a7faa1ef60",
       "rows": [
        [
         "name",
         "object"
        ],
        [
         "author",
         "object"
        ],
        [
         "rating",
         "float64"
        ],
        [
         "year",
         "int64"
        ],
        [
         "genre",
         "object"
        ]
       ],
       "shape": {
        "columns": 1,
        "rows": 5
       }
      },
      "text/plain": [
       "name       object\n",
       "author     object\n",
       "rating    float64\n",
       "year        int64\n",
       "genre      object\n",
       "dtype: object"
      ]
     },
     "execution_count": 22,
     "metadata": {},
     "output_type": "execute_result"
    }
   ],
   "source": [
    "books [\"year\"] = books [\"year\"].astype(int)\n",
    "books.dtypes"
   ]
  },
  {
   "cell_type": "markdown",
   "id": "s7uojjMgJQuc",
   "metadata": {
    "id": "s7uojjMgJQuc"
   },
   "source": [
    "### Validating categorical data"
   ]
  },
  {
   "cell_type": "code",
   "execution_count": 23,
   "id": "qByj2QMOJMCz",
   "metadata": {
    "colab": {
     "base_uri": "https://localhost:8080/",
     "height": 458
    },
    "id": "qByj2QMOJMCz",
    "outputId": "36e0e822-f6b5-4fd3-d3f8-c2215db42d36"
   },
   "outputs": [
    {
     "data": {
      "application/vnd.microsoft.datawrangler.viewer.v0+json": {
       "columns": [
        {
         "name": "index",
         "rawType": "int64",
         "type": "integer"
        },
        {
         "name": "genre",
         "rawType": "bool",
         "type": "boolean"
        }
       ],
       "ref": "4e9ec63e-33dc-4fab-96d8-b470487042c0",
       "rows": [
        [
         "0",
         "True"
        ],
        [
         "1",
         "True"
        ],
        [
         "2",
         "True"
        ],
        [
         "3",
         "True"
        ],
        [
         "4",
         "False"
        ],
        [
         "5",
         "True"
        ],
        [
         "6",
         "True"
        ],
        [
         "7",
         "True"
        ],
        [
         "8",
         "True"
        ],
        [
         "9",
         "True"
        ],
        [
         "10",
         "True"
        ],
        [
         "11",
         "True"
        ],
        [
         "12",
         "True"
        ],
        [
         "13",
         "True"
        ],
        [
         "14",
         "True"
        ],
        [
         "15",
         "True"
        ],
        [
         "16",
         "True"
        ],
        [
         "17",
         "True"
        ],
        [
         "18",
         "True"
        ],
        [
         "19",
         "True"
        ],
        [
         "20",
         "True"
        ],
        [
         "21",
         "True"
        ],
        [
         "22",
         "True"
        ],
        [
         "23",
         "True"
        ],
        [
         "24",
         "True"
        ],
        [
         "25",
         "True"
        ],
        [
         "26",
         "False"
        ],
        [
         "27",
         "True"
        ],
        [
         "28",
         "True"
        ],
        [
         "29",
         "True"
        ],
        [
         "30",
         "True"
        ],
        [
         "31",
         "True"
        ],
        [
         "32",
         "True"
        ],
        [
         "33",
         "True"
        ],
        [
         "34",
         "True"
        ],
        [
         "35",
         "True"
        ],
        [
         "36",
         "False"
        ],
        [
         "37",
         "False"
        ],
        [
         "38",
         "True"
        ],
        [
         "39",
         "True"
        ],
        [
         "40",
         "True"
        ],
        [
         "41",
         "True"
        ],
        [
         "42",
         "True"
        ],
        [
         "43",
         "True"
        ],
        [
         "44",
         "True"
        ],
        [
         "45",
         "True"
        ],
        [
         "46",
         "True"
        ],
        [
         "47",
         "True"
        ],
        [
         "48",
         "True"
        ],
        [
         "49",
         "True"
        ]
       ],
       "shape": {
        "columns": 1,
        "rows": 350
       }
      },
      "text/plain": [
       "0       True\n",
       "1       True\n",
       "2       True\n",
       "3       True\n",
       "4      False\n",
       "       ...  \n",
       "345     True\n",
       "346     True\n",
       "347     True\n",
       "348     True\n",
       "349    False\n",
       "Name: genre, Length: 350, dtype: bool"
      ]
     },
     "execution_count": 23,
     "metadata": {},
     "output_type": "execute_result"
    }
   ],
   "source": [
    "books [\"genre\"].isin([\"Fiction\", \"Non Fiction\"])"
   ]
  },
  {
   "cell_type": "code",
   "execution_count": 24,
   "id": "O8ntsvG1JgqU",
   "metadata": {
    "colab": {
     "base_uri": "https://localhost:8080/",
     "height": 458
    },
    "id": "O8ntsvG1JgqU",
    "outputId": "921752c4-7020-4d03-8f19-f8d61188128e"
   },
   "outputs": [
    {
     "data": {
      "application/vnd.microsoft.datawrangler.viewer.v0+json": {
       "columns": [
        {
         "name": "index",
         "rawType": "int64",
         "type": "integer"
        },
        {
         "name": "genre",
         "rawType": "bool",
         "type": "boolean"
        }
       ],
       "ref": "99e5650d-ecf5-4d4c-90ab-927479ed37a5",
       "rows": [
        [
         "0",
         "False"
        ],
        [
         "1",
         "False"
        ],
        [
         "2",
         "False"
        ],
        [
         "3",
         "False"
        ],
        [
         "4",
         "True"
        ],
        [
         "5",
         "False"
        ],
        [
         "6",
         "False"
        ],
        [
         "7",
         "False"
        ],
        [
         "8",
         "False"
        ],
        [
         "9",
         "False"
        ],
        [
         "10",
         "False"
        ],
        [
         "11",
         "False"
        ],
        [
         "12",
         "False"
        ],
        [
         "13",
         "False"
        ],
        [
         "14",
         "False"
        ],
        [
         "15",
         "False"
        ],
        [
         "16",
         "False"
        ],
        [
         "17",
         "False"
        ],
        [
         "18",
         "False"
        ],
        [
         "19",
         "False"
        ],
        [
         "20",
         "False"
        ],
        [
         "21",
         "False"
        ],
        [
         "22",
         "False"
        ],
        [
         "23",
         "False"
        ],
        [
         "24",
         "False"
        ],
        [
         "25",
         "False"
        ],
        [
         "26",
         "True"
        ],
        [
         "27",
         "False"
        ],
        [
         "28",
         "False"
        ],
        [
         "29",
         "False"
        ],
        [
         "30",
         "False"
        ],
        [
         "31",
         "False"
        ],
        [
         "32",
         "False"
        ],
        [
         "33",
         "False"
        ],
        [
         "34",
         "False"
        ],
        [
         "35",
         "False"
        ],
        [
         "36",
         "True"
        ],
        [
         "37",
         "True"
        ],
        [
         "38",
         "False"
        ],
        [
         "39",
         "False"
        ],
        [
         "40",
         "False"
        ],
        [
         "41",
         "False"
        ],
        [
         "42",
         "False"
        ],
        [
         "43",
         "False"
        ],
        [
         "44",
         "False"
        ],
        [
         "45",
         "False"
        ],
        [
         "46",
         "False"
        ],
        [
         "47",
         "False"
        ],
        [
         "48",
         "False"
        ],
        [
         "49",
         "False"
        ]
       ],
       "shape": {
        "columns": 1,
        "rows": 350
       }
      },
      "text/plain": [
       "0      False\n",
       "1      False\n",
       "2      False\n",
       "3      False\n",
       "4       True\n",
       "       ...  \n",
       "345    False\n",
       "346    False\n",
       "347    False\n",
       "348    False\n",
       "349     True\n",
       "Name: genre, Length: 350, dtype: bool"
      ]
     },
     "execution_count": 24,
     "metadata": {},
     "output_type": "execute_result"
    }
   ],
   "source": [
    "~books [\"genre\"].isin([\"Fiction\", \"Non Fiction\"])"
   ]
  },
  {
   "cell_type": "code",
   "execution_count": 25,
   "id": "RRwmBp1DJj0t",
   "metadata": {
    "colab": {
     "base_uri": "https://localhost:8080/",
     "height": 206
    },
    "id": "RRwmBp1DJj0t",
    "outputId": "6a073536-b5ff-49d5-c96b-b28bcec2cacf"
   },
   "outputs": [
    {
     "data": {
      "application/vnd.microsoft.datawrangler.viewer.v0+json": {
       "columns": [
        {
         "name": "index",
         "rawType": "int64",
         "type": "integer"
        },
        {
         "name": "name",
         "rawType": "object",
         "type": "string"
        },
        {
         "name": "author",
         "rawType": "object",
         "type": "string"
        },
        {
         "name": "rating",
         "rawType": "float64",
         "type": "float"
        },
        {
         "name": "year",
         "rawType": "int64",
         "type": "integer"
        },
        {
         "name": "genre",
         "rawType": "object",
         "type": "string"
        }
       ],
       "ref": "5d3d91a6-3821-4981-b069-48374a642142",
       "rows": [
        [
         "0",
         "10-Day Green Smoothie Cleanse",
         "JJ Smith",
         "4.7",
         "2016",
         "Non Fiction"
        ],
        [
         "1",
         "11/22/63: A Novel",
         "Stephen King",
         "4.6",
         "2011",
         "Fiction"
        ],
        [
         "2",
         "12 Rules for Life: An Antidote to Chaos",
         "Jordan B. Peterson",
         "4.7",
         "2018",
         "Non Fiction"
        ],
        [
         "3",
         "1984 (Signet Classics)",
         "George Orwell",
         "4.7",
         "2017",
         "Fiction"
        ],
        [
         "5",
         "A Dance with Dragons (A Song of Ice and Fire)",
         "George R. R. Martin",
         "4.4",
         "2011",
         "Fiction"
        ]
       ],
       "shape": {
        "columns": 5,
        "rows": 5
       }
      },
      "text/html": [
       "<div>\n",
       "<style scoped>\n",
       "    .dataframe tbody tr th:only-of-type {\n",
       "        vertical-align: middle;\n",
       "    }\n",
       "\n",
       "    .dataframe tbody tr th {\n",
       "        vertical-align: top;\n",
       "    }\n",
       "\n",
       "    .dataframe thead th {\n",
       "        text-align: right;\n",
       "    }\n",
       "</style>\n",
       "<table border=\"1\" class=\"dataframe\">\n",
       "  <thead>\n",
       "    <tr style=\"text-align: right;\">\n",
       "      <th></th>\n",
       "      <th>name</th>\n",
       "      <th>author</th>\n",
       "      <th>rating</th>\n",
       "      <th>year</th>\n",
       "      <th>genre</th>\n",
       "    </tr>\n",
       "  </thead>\n",
       "  <tbody>\n",
       "    <tr>\n",
       "      <th>0</th>\n",
       "      <td>10-Day Green Smoothie Cleanse</td>\n",
       "      <td>JJ Smith</td>\n",
       "      <td>4.7</td>\n",
       "      <td>2016</td>\n",
       "      <td>Non Fiction</td>\n",
       "    </tr>\n",
       "    <tr>\n",
       "      <th>1</th>\n",
       "      <td>11/22/63: A Novel</td>\n",
       "      <td>Stephen King</td>\n",
       "      <td>4.6</td>\n",
       "      <td>2011</td>\n",
       "      <td>Fiction</td>\n",
       "    </tr>\n",
       "    <tr>\n",
       "      <th>2</th>\n",
       "      <td>12 Rules for Life: An Antidote to Chaos</td>\n",
       "      <td>Jordan B. Peterson</td>\n",
       "      <td>4.7</td>\n",
       "      <td>2018</td>\n",
       "      <td>Non Fiction</td>\n",
       "    </tr>\n",
       "    <tr>\n",
       "      <th>3</th>\n",
       "      <td>1984 (Signet Classics)</td>\n",
       "      <td>George Orwell</td>\n",
       "      <td>4.7</td>\n",
       "      <td>2017</td>\n",
       "      <td>Fiction</td>\n",
       "    </tr>\n",
       "    <tr>\n",
       "      <th>5</th>\n",
       "      <td>A Dance with Dragons (A Song of Ice and Fire)</td>\n",
       "      <td>George R. R. Martin</td>\n",
       "      <td>4.4</td>\n",
       "      <td>2011</td>\n",
       "      <td>Fiction</td>\n",
       "    </tr>\n",
       "  </tbody>\n",
       "</table>\n",
       "</div>"
      ],
      "text/plain": [
       "                                            name               author  rating  \\\n",
       "0                  10-Day Green Smoothie Cleanse             JJ Smith     4.7   \n",
       "1                              11/22/63: A Novel         Stephen King     4.6   \n",
       "2        12 Rules for Life: An Antidote to Chaos   Jordan B. Peterson     4.7   \n",
       "3                         1984 (Signet Classics)        George Orwell     4.7   \n",
       "5  A Dance with Dragons (A Song of Ice and Fire)  George R. R. Martin     4.4   \n",
       "\n",
       "   year        genre  \n",
       "0  2016  Non Fiction  \n",
       "1  2011      Fiction  \n",
       "2  2018  Non Fiction  \n",
       "3  2017      Fiction  \n",
       "5  2011      Fiction  "
      ]
     },
     "execution_count": 25,
     "metadata": {},
     "output_type": "execute_result"
    }
   ],
   "source": [
    "books [books[\"genre\"].isin([\"Fiction\", \"Non Fiction\"])].head()"
   ]
  },
  {
   "cell_type": "code",
   "execution_count": 26,
   "id": "3VZjVPGCJnEv",
   "metadata": {
    "colab": {
     "base_uri": "https://localhost:8080/",
     "height": 206
    },
    "id": "3VZjVPGCJnEv",
    "outputId": "16c23bfb-d66e-42aa-ddf7-c532abdb572c"
   },
   "outputs": [
    {
     "data": {
      "application/vnd.microsoft.datawrangler.viewer.v0+json": {
       "columns": [
        {
         "name": "index",
         "rawType": "int64",
         "type": "integer"
        },
        {
         "name": "rating",
         "rawType": "float64",
         "type": "float"
        },
        {
         "name": "year",
         "rawType": "int64",
         "type": "integer"
        }
       ],
       "ref": "449e5fe9-52da-4fb2-a351-0fda8122eb4e",
       "rows": [
        [
         "0",
         "4.7",
         "2016"
        ],
        [
         "1",
         "4.6",
         "2011"
        ],
        [
         "2",
         "4.7",
         "2018"
        ],
        [
         "3",
         "4.7",
         "2017"
        ],
        [
         "4",
         "4.8",
         "2019"
        ]
       ],
       "shape": {
        "columns": 2,
        "rows": 5
       }
      },
      "text/html": [
       "<div>\n",
       "<style scoped>\n",
       "    .dataframe tbody tr th:only-of-type {\n",
       "        vertical-align: middle;\n",
       "    }\n",
       "\n",
       "    .dataframe tbody tr th {\n",
       "        vertical-align: top;\n",
       "    }\n",
       "\n",
       "    .dataframe thead th {\n",
       "        text-align: right;\n",
       "    }\n",
       "</style>\n",
       "<table border=\"1\" class=\"dataframe\">\n",
       "  <thead>\n",
       "    <tr style=\"text-align: right;\">\n",
       "      <th></th>\n",
       "      <th>rating</th>\n",
       "      <th>year</th>\n",
       "    </tr>\n",
       "  </thead>\n",
       "  <tbody>\n",
       "    <tr>\n",
       "      <th>0</th>\n",
       "      <td>4.7</td>\n",
       "      <td>2016</td>\n",
       "    </tr>\n",
       "    <tr>\n",
       "      <th>1</th>\n",
       "      <td>4.6</td>\n",
       "      <td>2011</td>\n",
       "    </tr>\n",
       "    <tr>\n",
       "      <th>2</th>\n",
       "      <td>4.7</td>\n",
       "      <td>2018</td>\n",
       "    </tr>\n",
       "    <tr>\n",
       "      <th>3</th>\n",
       "      <td>4.7</td>\n",
       "      <td>2017</td>\n",
       "    </tr>\n",
       "    <tr>\n",
       "      <th>4</th>\n",
       "      <td>4.8</td>\n",
       "      <td>2019</td>\n",
       "    </tr>\n",
       "  </tbody>\n",
       "</table>\n",
       "</div>"
      ],
      "text/plain": [
       "   rating  year\n",
       "0     4.7  2016\n",
       "1     4.6  2011\n",
       "2     4.7  2018\n",
       "3     4.7  2017\n",
       "4     4.8  2019"
      ]
     },
     "execution_count": 26,
     "metadata": {},
     "output_type": "execute_result"
    }
   ],
   "source": [
    "books.select_dtypes(\"number\").head()"
   ]
  },
  {
   "cell_type": "markdown",
   "id": "s2wwrXRMJrAr",
   "metadata": {
    "id": "s2wwrXRMJrAr"
   },
   "source": [
    "### Validating numerical data\n"
   ]
  },
  {
   "cell_type": "code",
   "execution_count": 27,
   "id": "j1yWLwHcJxng",
   "metadata": {
    "colab": {
     "base_uri": "https://localhost:8080/"
    },
    "id": "j1yWLwHcJxng",
    "outputId": "7b5ebb20-8fa9-482b-bd1e-5f4adf837d51"
   },
   "outputs": [
    {
     "name": "stdout",
     "output_type": "stream",
     "text": [
      "Lowest year: 2009, Highest year: 2019\n"
     ]
    }
   ],
   "source": [
    "print(f\"Lowest year: {books['year'].min()}, Highest year: {books['year'].max()}\")"
   ]
  },
  {
   "cell_type": "code",
   "execution_count": 28,
   "id": "Jb3qGxdaKQbT",
   "metadata": {
    "colab": {
     "base_uri": "https://localhost:8080/",
     "height": 487
    },
    "id": "Jb3qGxdaKQbT",
    "outputId": "cee428f0-b395-4ce0-b2e8-bba19034717d"
   },
   "outputs": [
    {
     "data": {
      "image/png": "[encoded data removed]",
      "text/plain": [
       "<Figure size 640x480 with 1 Axes>"
      ]
     },
     "metadata": {},
     "output_type": "display_data"
    }
   ],
   "source": [
    "fig, ax = plt.subplots()\n",
    "sns.boxplot(data=books, x=\"year\")\n",
    "ax.set(title=\"Distribution of Publication Years for Books\",\n",
    "       xlabel=\"Years\")\n",
    "plt.tight_layout()\n",
    "plt.show()"
   ]
  },
  {
   "cell_type": "code",
   "execution_count": 29,
   "id": "F6z7oYaJKro-",
   "metadata": {
    "colab": {
     "base_uri": "https://localhost:8080/",
     "height": 472
    },
    "id": "F6z7oYaJKro-",
    "outputId": "5877b3b4-4eee-49c9-fc6e-3b40100ece9c"
   },
   "outputs": [
    {
     "data": {
      "image/png": "[encoded data removed]",
      "text/plain": [
       "<Figure size 640x480 with 1 Axes>"
      ]
     },
     "metadata": {},
     "output_type": "display_data"
    }
   ],
   "source": [
    "fig, ax = plt.subplots()\n",
    "sns.boxplot(data=books, x=\"year\", y=\"genre\", hue=\"genre\")\n",
    "ax.set(xlabel=\"Years\", ylabel=\"Genres\", title=\"Distribution of Genres for Books\")\n",
    "plt.show()"
   ]
  },
  {
   "cell_type": "markdown",
   "id": "EcZemMiuLDoo",
   "metadata": {
    "id": "EcZemMiuLDoo"
   },
   "source": [
    "### Data summarization\n",
    "#### Exploring groups of data\n",
    "- `.groupby()` groups data by category\n",
    "- Aggregating function indicates how to summarize grouped data\n"
   ]
  },
  {
   "cell_type": "code",
   "execution_count": 30,
   "id": "lDWC33SNKrae",
   "metadata": {
    "colab": {
     "base_uri": "https://localhost:8080/",
     "height": 175
    },
    "id": "lDWC33SNKrae",
    "outputId": "1b3ac6c1-e9f5-4882-8464-04a293868cd0"
   },
   "outputs": [
    {
     "data": {
      "application/vnd.microsoft.datawrangler.viewer.v0+json": {
       "columns": [
        {
         "name": "genre",
         "rawType": "object",
         "type": "string"
        },
        {
         "name": "rating",
         "rawType": "float64",
         "type": "float"
        },
        {
         "name": "year",
         "rawType": "float64",
         "type": "float"
        }
       ],
       "ref": "77953248-7023-4cc2-be13-6ad5e6d08046",
       "rows": [
        [
         "Childrens",
         "4.779999999999999",
         "2015.075"
        ],
        [
         "Fiction",
         "4.570229007633588",
         "2013.0229007633588"
        ],
        [
         "Non Fiction",
         "4.598324022346369",
         "2013.513966480447"
        ]
       ],
       "shape": {
        "columns": 2,
        "rows": 3
       }
      },
      "text/html": [
       "<div>\n",
       "<style scoped>\n",
       "    .dataframe tbody tr th:only-of-type {\n",
       "        vertical-align: middle;\n",
       "    }\n",
       "\n",
       "    .dataframe tbody tr th {\n",
       "        vertical-align: top;\n",
       "    }\n",
       "\n",
       "    .dataframe thead th {\n",
       "        text-align: right;\n",
       "    }\n",
       "</style>\n",
       "<table border=\"1\" class=\"dataframe\">\n",
       "  <thead>\n",
       "    <tr style=\"text-align: right;\">\n",
       "      <th></th>\n",
       "      <th>rating</th>\n",
       "      <th>year</th>\n",
       "    </tr>\n",
       "    <tr>\n",
       "      <th>genre</th>\n",
       "      <th></th>\n",
       "      <th></th>\n",
       "    </tr>\n",
       "  </thead>\n",
       "  <tbody>\n",
       "    <tr>\n",
       "      <th>Childrens</th>\n",
       "      <td>4.780000</td>\n",
       "      <td>2015.075000</td>\n",
       "    </tr>\n",
       "    <tr>\n",
       "      <th>Fiction</th>\n",
       "      <td>4.570229</td>\n",
       "      <td>2013.022901</td>\n",
       "    </tr>\n",
       "    <tr>\n",
       "      <th>Non Fiction</th>\n",
       "      <td>4.598324</td>\n",
       "      <td>2013.513966</td>\n",
       "    </tr>\n",
       "  </tbody>\n",
       "</table>\n",
       "</div>"
      ],
      "text/plain": [
       "               rating         year\n",
       "genre                             \n",
       "Childrens    4.780000  2015.075000\n",
       "Fiction      4.570229  2013.022901\n",
       "Non Fiction  4.598324  2013.513966"
      ]
     },
     "metadata": {},
     "output_type": "display_data"
    }
   ],
   "source": [
    "# Calculate the mean of numeric columns after grouping by genre\n",
    "display(books.groupby(\"genre\")[[\"rating\", \"year\"]].mean())"
   ]
  },
  {
   "cell_type": "markdown",
   "id": "XrFWp019Lfu_",
   "metadata": {
    "id": "XrFWp019Lfu_"
   },
   "source": [
    "### Aggregating functions\n",
    "- Sum:`.sum()`\n",
    "- Count: `.count()`\n",
    "- Minimum: `.min()`\n",
    "- Maximum: `.max()`\n",
    "- Variance: `.var()`\n",
    "- Standard deviation:`.std()`"
   ]
  },
  {
   "cell_type": "markdown",
   "id": "qEHIUhsLL1gF",
   "metadata": {
    "id": "qEHIUhsLL1gF"
   },
   "source": [
    "### Aggregating ungrouped data\n",
    "`.agg()` applies aggregating functions across a DataFrame"
   ]
  },
  {
   "cell_type": "code",
   "execution_count": 31,
   "id": "oFupF072L8qU",
   "metadata": {
    "colab": {
     "base_uri": "https://localhost:8080/",
     "height": 112
    },
    "id": "oFupF072L8qU",
    "outputId": "0bfd6ebc-8543-4a09-e5e7-ef5de956c219"
   },
   "outputs": [
    {
     "data": {
      "application/vnd.microsoft.datawrangler.viewer.v0+json": {
       "columns": [
        {
         "name": "index",
         "rawType": "object",
         "type": "string"
        },
        {
         "name": "rating",
         "rawType": "float64",
         "type": "float"
        },
        {
         "name": "year",
         "rawType": "float64",
         "type": "float"
        }
       ],
       "ref": "93d43624-b8d6-4bf6-8148-9044620a73c0",
       "rows": [
        [
         "mean",
         "4.6085714285714285",
         "2013.5085714285715"
        ],
        [
         "std",
         "0.22694107457737037",
         "3.2847107332154124"
        ]
       ],
       "shape": {
        "columns": 2,
        "rows": 2
       }
      },
      "text/html": [
       "<div>\n",
       "<style scoped>\n",
       "    .dataframe tbody tr th:only-of-type {\n",
       "        vertical-align: middle;\n",
       "    }\n",
       "\n",
       "    .dataframe tbody tr th {\n",
       "        vertical-align: top;\n",
       "    }\n",
       "\n",
       "    .dataframe thead th {\n",
       "        text-align: right;\n",
       "    }\n",
       "</style>\n",
       "<table border=\"1\" class=\"dataframe\">\n",
       "  <thead>\n",
       "    <tr style=\"text-align: right;\">\n",
       "      <th></th>\n",
       "      <th>rating</th>\n",
       "      <th>year</th>\n",
       "    </tr>\n",
       "  </thead>\n",
       "  <tbody>\n",
       "    <tr>\n",
       "      <th>mean</th>\n",
       "      <td>4.608571</td>\n",
       "      <td>2013.508571</td>\n",
       "    </tr>\n",
       "    <tr>\n",
       "      <th>std</th>\n",
       "      <td>0.226941</td>\n",
       "      <td>3.284711</td>\n",
       "    </tr>\n",
       "  </tbody>\n",
       "</table>\n",
       "</div>"
      ],
      "text/plain": [
       "        rating         year\n",
       "mean  4.608571  2013.508571\n",
       "std   0.226941     3.284711"
      ]
     },
     "metadata": {},
     "output_type": "display_data"
    }
   ],
   "source": [
    "# Select only columns with numeric data types (integers and floats).\n",
    "# np.number is a shorthand for all numeric dtypes.\n",
    "numeric_books = books.select_dtypes(include=np.number)\n",
    "\n",
    "# Apply multiple aggregation functions ('mean' and 'std') to the selected numeric columns.\n",
    "display(numeric_books.agg([\"mean\", \"std\"]))"
   ]
  },
  {
   "cell_type": "markdown",
   "id": "i-_fITTkMbmG",
   "metadata": {
    "id": "i-_fITTkMbmG"
   },
   "source": [
    "### Specifying aggregations for columns\n"
   ]
  },
  {
   "cell_type": "code",
   "execution_count": 32,
   "id": "Ga837Mo3Me8_",
   "metadata": {
    "colab": {
     "base_uri": "https://localhost:8080/",
     "height": 144
    },
    "id": "Ga837Mo3Me8_",
    "outputId": "77ab6a4c-ccf3-42b2-a243-d9f231994db7"
   },
   "outputs": [
    {
     "data": {
      "application/vnd.microsoft.datawrangler.viewer.v0+json": {
       "columns": [
        {
         "name": "index",
         "rawType": "object",
         "type": "string"
        },
        {
         "name": "rating",
         "rawType": "float64",
         "type": "float"
        },
        {
         "name": "year",
         "rawType": "float64",
         "type": "float"
        }
       ],
       "ref": "62c0f61b-01fa-49c6-9dca-e83acdeaec4f",
       "rows": [
        [
         "mean",
         "4.6085714285714285",
         null
        ],
        [
         "std",
         "0.22694107457737037",
         null
        ],
        [
         "median",
         null,
         "2013.0"
        ]
       ],
       "shape": {
        "columns": 2,
        "rows": 3
       }
      },
      "text/html": [
       "<div>\n",
       "<style scoped>\n",
       "    .dataframe tbody tr th:only-of-type {\n",
       "        vertical-align: middle;\n",
       "    }\n",
       "\n",
       "    .dataframe tbody tr th {\n",
       "        vertical-align: top;\n",
       "    }\n",
       "\n",
       "    .dataframe thead th {\n",
       "        text-align: right;\n",
       "    }\n",
       "</style>\n",
       "<table border=\"1\" class=\"dataframe\">\n",
       "  <thead>\n",
       "    <tr style=\"text-align: right;\">\n",
       "      <th></th>\n",
       "      <th>rating</th>\n",
       "      <th>year</th>\n",
       "    </tr>\n",
       "  </thead>\n",
       "  <tbody>\n",
       "    <tr>\n",
       "      <th>mean</th>\n",
       "      <td>4.608571</td>\n",
       "      <td>NaN</td>\n",
       "    </tr>\n",
       "    <tr>\n",
       "      <th>std</th>\n",
       "      <td>0.226941</td>\n",
       "      <td>NaN</td>\n",
       "    </tr>\n",
       "    <tr>\n",
       "      <th>median</th>\n",
       "      <td>NaN</td>\n",
       "      <td>2013.0</td>\n",
       "    </tr>\n",
       "  </tbody>\n",
       "</table>\n",
       "</div>"
      ],
      "text/plain": [
       "          rating    year\n",
       "mean    4.608571     NaN\n",
       "std     0.226941     NaN\n",
       "median       NaN  2013.0"
      ]
     },
     "execution_count": 32,
     "metadata": {},
     "output_type": "execute_result"
    }
   ],
   "source": [
    "books.agg({\"rating\": [\"mean\", \"std\"], \"year\": [\"median\"]})"
   ]
  },
  {
   "cell_type": "markdown",
   "id": "WxvcUCLoMjt2",
   "metadata": {
    "id": "WxvcUCLoMjt2"
   },
   "source": [
    "### Named summary columns\n"
   ]
  },
  {
   "cell_type": "code",
   "execution_count": 33,
   "id": "L8Nsr6pUMme6",
   "metadata": {
    "colab": {
     "base_uri": "https://localhost:8080/",
     "height": 175
    },
    "id": "L8Nsr6pUMme6",
    "outputId": "83825172-9d58-4b26-e76a-fc57febdef86"
   },
   "outputs": [
    {
     "data": {
      "application/vnd.microsoft.datawrangler.viewer.v0+json": {
       "columns": [
        {
         "name": "genre",
         "rawType": "object",
         "type": "string"
        },
        {
         "name": "mean_rating",
         "rawType": "float64",
         "type": "float"
        },
        {
         "name": "std_rating",
         "rawType": "float64",
         "type": "float"
        },
        {
         "name": "median_year",
         "rawType": "float64",
         "type": "float"
        }
       ],
       "ref": "b0ae3a6c-d08d-4ec2-b03c-3677be8d72fc",
       "rows": [
        [
         "Childrens",
         "4.779999999999999",
         "0.12236976331741024",
         "2015.0"
        ],
        [
         "Fiction",
         "4.570229007633588",
         "0.2811226549961503",
         "2013.0"
        ],
        [
         "Non Fiction",
         "4.598324022346369",
         "0.17941066455067908",
         "2013.0"
        ]
       ],
       "shape": {
        "columns": 3,
        "rows": 3
       }
      },
      "text/html": [
       "<div>\n",
       "<style scoped>\n",
       "    .dataframe tbody tr th:only-of-type {\n",
       "        vertical-align: middle;\n",
       "    }\n",
       "\n",
       "    .dataframe tbody tr th {\n",
       "        vertical-align: top;\n",
       "    }\n",
       "\n",
       "    .dataframe thead th {\n",
       "        text-align: right;\n",
       "    }\n",
       "</style>\n",
       "<table border=\"1\" class=\"dataframe\">\n",
       "  <thead>\n",
       "    <tr style=\"text-align: right;\">\n",
       "      <th></th>\n",
       "      <th>mean_rating</th>\n",
       "      <th>std_rating</th>\n",
       "      <th>median_year</th>\n",
       "    </tr>\n",
       "    <tr>\n",
       "      <th>genre</th>\n",
       "      <th></th>\n",
       "      <th></th>\n",
       "      <th></th>\n",
       "    </tr>\n",
       "  </thead>\n",
       "  <tbody>\n",
       "    <tr>\n",
       "      <th>Childrens</th>\n",
       "      <td>4.780000</td>\n",
       "      <td>0.122370</td>\n",
       "      <td>2015.0</td>\n",
       "    </tr>\n",
       "    <tr>\n",
       "      <th>Fiction</th>\n",
       "      <td>4.570229</td>\n",
       "      <td>0.281123</td>\n",
       "      <td>2013.0</td>\n",
       "    </tr>\n",
       "    <tr>\n",
       "      <th>Non Fiction</th>\n",
       "      <td>4.598324</td>\n",
       "      <td>0.179411</td>\n",
       "      <td>2013.0</td>\n",
       "    </tr>\n",
       "  </tbody>\n",
       "</table>\n",
       "</div>"
      ],
      "text/plain": [
       "             mean_rating  std_rating  median_year\n",
       "genre                                            \n",
       "Childrens       4.780000    0.122370       2015.0\n",
       "Fiction         4.570229    0.281123       2013.0\n",
       "Non Fiction     4.598324    0.179411       2013.0"
      ]
     },
     "execution_count": 33,
     "metadata": {},
     "output_type": "execute_result"
    }
   ],
   "source": [
    "# Group the books DataFrame by the 'genre' column.\n",
    "books.groupby(\"genre\").agg(\n",
    "    # Calculate the mean of the 'rating' column and name the resulting column 'mean_rating'.\n",
    "    mean_rating=(\"rating\", \"mean\"),\n",
    "    # Calculate the standard deviation of the 'rating' column and name the resulting column 'std_rating'.\n",
    "    std_rating=(\"rating\", \"std\"),\n",
    "    # Calculate the median of the 'year' column and name the resulting column 'median_year'.\n",
    "    median_year=(\"year\", \"median\")\n",
    ")"
   ]
  },
  {
   "cell_type": "markdown",
   "id": "BX3MyyDzM0-D",
   "metadata": {
    "id": "BX3MyyDzM0-D"
   },
   "source": [
    "### Visualizing categorical summaries\n"
   ]
  },
  {
   "cell_type": "code",
   "execution_count": 34,
   "id": "Zz_9QnAFM7c1",
   "metadata": {
    "colab": {
     "base_uri": "https://localhost:8080/",
     "height": 487
    },
    "id": "Zz_9QnAFM7c1",
    "outputId": "6ab5a057-3545-47e2-a296-7eef45aefc76"
   },
   "outputs": [
    {
     "data": {
      "image/png": "[encoded data removed]",
      "text/plain": [
       "<Figure size 640x480 with 1 Axes>"
      ]
     },
     "metadata": {},
     "output_type": "display_data"
    }
   ],
   "source": [
    "fig, ax = plt.subplots()\n",
    "sns.barplot(data=books, x=\"genre\", y=\"rating\", hue=\"genre\", palette=\"viridis\")\n",
    "ax.set(title=\"Distribution of Ratings per Genre\",\n",
    "       xlabel=\"\",\n",
    "       ylabel=\"Ratings\")\n",
    "plt.tight_layout()\n",
    "plt.show()"
   ]
  },
  {
   "cell_type": "markdown",
   "id": "AHrvYqXeC--S",
   "metadata": {
    "id": "AHrvYqXeC--S"
   },
   "source": [
    "### Summaries with .groupby() and .agg()\n",
    "In this exercise, you'll explore the means and standard deviations of the yearly unemployment data. First, you'll find means and standard deviations regardless of the continent to observe worldwide unemployment trends. Then, you'll check unemployment trends broken down by continent."
   ]
  },
  {
   "cell_type": "code",
   "execution_count": 35,
   "id": "2OsGGiQlC6lK",
   "metadata": {
    "colab": {
     "base_uri": "https://localhost:8080/",
     "height": 112
    },
    "id": "2OsGGiQlC6lK",
    "outputId": "f860b3df-4559-471e-81be-7a8e4a6b0a69"
   },
   "outputs": [
    {
     "data": {
      "application/vnd.microsoft.datawrangler.viewer.v0+json": {
       "columns": [
        {
         "name": "index",
         "rawType": "object",
         "type": "string"
        },
        {
         "name": "2010",
         "rawType": "float64",
         "type": "float"
        },
        {
         "name": "2011",
         "rawType": "float64",
         "type": "float"
        },
        {
         "name": "2012",
         "rawType": "float64",
         "type": "float"
        },
        {
         "name": "2013",
         "rawType": "float64",
         "type": "float"
        },
        {
         "name": "2014",
         "rawType": "float64",
         "type": "float"
        },
        {
         "name": "2015",
         "rawType": "float64",
         "type": "float"
        },
        {
         "name": "2016",
         "rawType": "float64",
         "type": "float"
        },
        {
         "name": "2017",
         "rawType": "float64",
         "type": "float"
        },
        {
         "name": "2018",
         "rawType": "float64",
         "type": "float"
        },
        {
         "name": "2019",
         "rawType": "float64",
         "type": "float"
        },
        {
         "name": "2020",
         "rawType": "float64",
         "type": "float"
        },
        {
         "name": "2021",
         "rawType": "float64",
         "type": "float"
        }
       ],
       "ref": "7863b3e3-97f4-4105-8dff-83f8813d1bc3",
       "rows": [
        [
         "mean",
         "8.409285714285714",
         "8.31543956043956",
         "8.317967032967033",
         "8.344780219780219",
         "8.17967032967033",
         "8.058901098901098",
         "7.925879120879119",
         "7.668626373626374",
         "7.426428571428571",
         "7.243736263736263",
         "8.420934065934066",
         "8.390879120879122"
        ],
        [
         "std",
         "6.248886931667684",
         "6.266794767386903",
         "6.367269876365001",
         "6.416040646359651",
         "6.284240914272588",
         "6.16117023586002",
         "6.045438538553597",
         "5.902151755105511",
         "5.818914661464903",
         "5.696572517698331",
         "6.04091489046657",
         "6.067191846516359"
        ]
       ],
       "shape": {
        "columns": 12,
        "rows": 2
       }
      },
      "text/html": [
       "<div>\n",
       "<style scoped>\n",
       "    .dataframe tbody tr th:only-of-type {\n",
       "        vertical-align: middle;\n",
       "    }\n",
       "\n",
       "    .dataframe tbody tr th {\n",
       "        vertical-align: top;\n",
       "    }\n",
       "\n",
       "    .dataframe thead th {\n",
       "        text-align: right;\n",
       "    }\n",
       "</style>\n",
       "<table border=\"1\" class=\"dataframe\">\n",
       "  <thead>\n",
       "    <tr style=\"text-align: right;\">\n",
       "      <th></th>\n",
       "      <th>2010</th>\n",
       "      <th>2011</th>\n",
       "      <th>2012</th>\n",
       "      <th>2013</th>\n",
       "      <th>2014</th>\n",
       "      <th>2015</th>\n",
       "      <th>2016</th>\n",
       "      <th>2017</th>\n",
       "      <th>2018</th>\n",
       "      <th>2019</th>\n",
       "      <th>2020</th>\n",
       "      <th>2021</th>\n",
       "    </tr>\n",
       "  </thead>\n",
       "  <tbody>\n",
       "    <tr>\n",
       "      <th>mean</th>\n",
       "      <td>8.409286</td>\n",
       "      <td>8.315440</td>\n",
       "      <td>8.317967</td>\n",
       "      <td>8.344780</td>\n",
       "      <td>8.179670</td>\n",
       "      <td>8.058901</td>\n",
       "      <td>7.925879</td>\n",
       "      <td>7.668626</td>\n",
       "      <td>7.426429</td>\n",
       "      <td>7.243736</td>\n",
       "      <td>8.420934</td>\n",
       "      <td>8.390879</td>\n",
       "    </tr>\n",
       "    <tr>\n",
       "      <th>std</th>\n",
       "      <td>6.248887</td>\n",
       "      <td>6.266795</td>\n",
       "      <td>6.367270</td>\n",
       "      <td>6.416041</td>\n",
       "      <td>6.284241</td>\n",
       "      <td>6.161170</td>\n",
       "      <td>6.045439</td>\n",
       "      <td>5.902152</td>\n",
       "      <td>5.818915</td>\n",
       "      <td>5.696573</td>\n",
       "      <td>6.040915</td>\n",
       "      <td>6.067192</td>\n",
       "    </tr>\n",
       "  </tbody>\n",
       "</table>\n",
       "</div>"
      ],
      "text/plain": [
       "          2010      2011      2012      2013      2014      2015      2016  \\\n",
       "mean  8.409286  8.315440  8.317967  8.344780  8.179670  8.058901  7.925879   \n",
       "std   6.248887  6.266795  6.367270  6.416041  6.284241  6.161170  6.045439   \n",
       "\n",
       "          2017      2018      2019      2020      2021  \n",
       "mean  7.668626  7.426429  7.243736  8.420934  8.390879  \n",
       "std   5.902152  5.818915  5.696573  6.040915  6.067192  "
      ]
     },
     "metadata": {},
     "output_type": "display_data"
    }
   ],
   "source": [
    "# Print yearly mean and standard deviation grouped by continent\n",
    "display(unemployment.select_dtypes(include=np.number).agg([\"mean\", \"std\"]))"
   ]
  },
  {
   "cell_type": "code",
   "execution_count": 36,
   "id": "5osxfOYkDwpY",
   "metadata": {
    "colab": {
     "base_uri": "https://localhost:8080/",
     "height": 384
    },
    "id": "5osxfOYkDwpY",
    "outputId": "305d0c81-ebdb-44ad-8211-c43b58426bbe"
   },
   "outputs": [
    {
     "data": {
      "application/vnd.microsoft.datawrangler.viewer.v0+json": {
       "columns": [
        {
         "name": "continent",
         "rawType": "object",
         "type": "string"
        },
        {
         "name": "('2010', 'mean')",
         "rawType": "float64",
         "type": "float"
        },
        {
         "name": "('2010', 'std')",
         "rawType": "float64",
         "type": "float"
        },
        {
         "name": "('2011', 'mean')",
         "rawType": "float64",
         "type": "float"
        },
        {
         "name": "('2011', 'std')",
         "rawType": "float64",
         "type": "float"
        },
        {
         "name": "('2012', 'mean')",
         "rawType": "float64",
         "type": "float"
        },
        {
         "name": "('2012', 'std')",
         "rawType": "float64",
         "type": "float"
        },
        {
         "name": "('2013', 'mean')",
         "rawType": "float64",
         "type": "float"
        },
        {
         "name": "('2013', 'std')",
         "rawType": "float64",
         "type": "float"
        },
        {
         "name": "('2014', 'mean')",
         "rawType": "float64",
         "type": "float"
        },
        {
         "name": "('2014', 'std')",
         "rawType": "float64",
         "type": "float"
        },
        {
         "name": "('2015', 'mean')",
         "rawType": "float64",
         "type": "float"
        },
        {
         "name": "('2015', 'std')",
         "rawType": "float64",
         "type": "float"
        },
        {
         "name": "('2016', 'mean')",
         "rawType": "float64",
         "type": "float"
        },
        {
         "name": "('2016', 'std')",
         "rawType": "float64",
         "type": "float"
        },
        {
         "name": "('2017', 'mean')",
         "rawType": "float64",
         "type": "float"
        },
        {
         "name": "('2017', 'std')",
         "rawType": "float64",
         "type": "float"
        },
        {
         "name": "('2018', 'mean')",
         "rawType": "float64",
         "type": "float"
        },
        {
         "name": "('2018', 'std')",
         "rawType": "float64",
         "type": "float"
        },
        {
         "name": "('2019', 'mean')",
         "rawType": "float64",
         "type": "float"
        },
        {
         "name": "('2019', 'std')",
         "rawType": "float64",
         "type": "float"
        },
        {
         "name": "('2020', 'mean')",
         "rawType": "float64",
         "type": "float"
        },
        {
         "name": "('2020', 'std')",
         "rawType": "float64",
         "type": "float"
        },
        {
         "name": "('2021', 'mean')",
         "rawType": "float64",
         "type": "float"
        },
        {
         "name": "('2021', 'std')",
         "rawType": "float64",
         "type": "float"
        }
       ],
       "ref": "c8c8a8bc-67cf-4192-8caf-1a9e7b84d479",
       "rows": [
        [
         "Africa",
         "9.343584905660377",
         "7.411259390107736",
         "9.369245283018868",
         "7.401555930254074",
         "9.240754716981131",
         "7.26454240420726",
         "9.13245283018868",
         "7.309284639747422",
         "9.121320754716981",
         "7.291359490661598",
         "9.222075471698114",
         "7.349322668552672",
         "9.27754716981132",
         "7.459438756383233",
         "9.284528301886793",
         "7.407620184138279",
         "9.237924528301887",
         "7.358424621973877",
         "9.26433962264151",
         "7.45529303696734",
         "10.307735849056602",
         "7.928165866441336",
         "10.473584905660378",
         "8.13163553762039"
        ],
        [
         "Asia",
         "6.240638297872341",
         "5.146174773665395",
         "5.942127659574469",
         "4.779575174941176",
         "5.83531914893617",
         "4.756904296166385",
         "5.852127659574468",
         "4.668404874291139",
         "5.853191489361703",
         "4.681300964839181",
         "5.967446808510639",
         "4.893859714450125",
         "6.0948936170212775",
         "5.0517960096602526",
         "6.171276595744681",
         "5.277200598893516",
         "6.090212765957447",
         "5.409127748281121",
         "5.9491489361702135",
         "5.254007923475609",
         "7.012340425531915",
         "5.69960876337176",
         "6.906170212765957",
         "5.4147453885267485"
        ],
        [
         "Europe",
         "11.008205128205129",
         "6.392062870958702",
         "10.947948717948718",
         "6.539538121259498",
         "11.325641025641024",
         "7.003527229705043",
         "11.466666666666667",
         "6.969208719462963",
         "10.971282051282051",
         "6.759765325842224",
         "10.301282051282051",
         "6.355756271819636",
         "9.394615384615385",
         "5.822792713102286",
         "8.359743589743589",
         "5.177845257582635",
         "7.427435897435898",
         "4.7382056996675095",
         "6.7643589743589745",
         "4.124733991341167",
         "7.4705128205128215",
         "4.07121794056375",
         "7.414871794871795",
         "3.9478247653445484"
        ],
        [
         "North America",
         "8.663333333333334",
         "5.115804807020046",
         "8.563333333333333",
         "5.3770405155515",
         "8.448888888888888",
         "5.495818612565577",
         "8.840555555555556",
         "6.081828742218347",
         "8.512222222222222",
         "5.801927220943416",
         "8.098888888888888",
         "5.6164484160773265",
         "7.941111111111111",
         "5.503089922290063",
         "7.391111111111111",
         "5.326445552356865",
         "7.2811111111111115",
         "5.2531804247677805",
         "7.095000000000001",
         "4.770490479160891",
         "9.297777777777778",
         "4.963045264820138",
         "9.155",
         "5.0764823972325335"
        ],
        [
         "Oceania",
         "3.6225",
         "2.0547210446745736",
         "3.6475",
         "2.0084660102390868",
         "4.10375",
         "2.723117632945214",
         "3.98",
         "2.640119044935014",
         "3.9762500000000003",
         "2.6592047011949163",
         "3.985",
         "2.569441295579366",
         "3.8775000000000004",
         "2.477866305628984",
         "3.8725",
         "2.492834015447364",
         "3.85125",
         "2.4558934219546256",
         "3.77375",
         "2.3690681561684603",
         "4.27375",
         "2.617490278328242",
         "4.28",
         "2.6715217707195595"
        ],
        [
         "South America",
         "6.870833333333334",
         "2.807057528747313",
         "6.5183333333333335",
         "2.801576936893458",
         "6.410833333333334",
         "2.9365083110057872",
         "6.335",
         "2.808780065178734",
         "6.3475",
         "2.8343321323309367",
         "6.609999999999999",
         "2.8371272282171116",
         "7.230833333333333",
         "3.052308986900761",
         "7.281666666666666",
         "3.3989940579619446",
         "7.496666666666666",
         "3.4088556686514275",
         "7.719166666666666",
         "3.3798452313499197",
         "10.275",
         "3.411263428968537",
         "9.924166666666666",
         "3.6116238058734074"
        ]
       ],
       "shape": {
        "columns": 24,
        "rows": 6
       }
      },
      "text/html": [
       "<div>\n",
       "<style scoped>\n",
       "    .dataframe tbody tr th:only-of-type {\n",
       "        vertical-align: middle;\n",
       "    }\n",
       "\n",
       "    .dataframe tbody tr th {\n",
       "        vertical-align: top;\n",
       "    }\n",
       "\n",
       "    .dataframe thead tr th {\n",
       "        text-align: left;\n",
       "    }\n",
       "\n",
       "    .dataframe thead tr:last-of-type th {\n",
       "        text-align: right;\n",
       "    }\n",
       "</style>\n",
       "<table border=\"1\" class=\"dataframe\">\n",
       "  <thead>\n",
       "    <tr>\n",
       "      <th></th>\n",
       "      <th colspan=\"2\" halign=\"left\">2010</th>\n",
       "      <th colspan=\"2\" halign=\"left\">2011</th>\n",
       "      <th colspan=\"2\" halign=\"left\">2012</th>\n",
       "      <th colspan=\"2\" halign=\"left\">2013</th>\n",
       "      <th colspan=\"2\" halign=\"left\">2014</th>\n",
       "      <th>...</th>\n",
       "      <th colspan=\"2\" halign=\"left\">2017</th>\n",
       "      <th colspan=\"2\" halign=\"left\">2018</th>\n",
       "      <th colspan=\"2\" halign=\"left\">2019</th>\n",
       "      <th colspan=\"2\" halign=\"left\">2020</th>\n",
       "      <th colspan=\"2\" halign=\"left\">2021</th>\n",
       "    </tr>\n",
       "    <tr>\n",
       "      <th></th>\n",
       "      <th>mean</th>\n",
       "      <th>std</th>\n",
       "      <th>mean</th>\n",
       "      <th>std</th>\n",
       "      <th>mean</th>\n",
       "      <th>std</th>\n",
       "      <th>mean</th>\n",
       "      <th>std</th>\n",
       "      <th>mean</th>\n",
       "      <th>std</th>\n",
       "      <th>...</th>\n",
       "      <th>mean</th>\n",
       "      <th>std</th>\n",
       "      <th>mean</th>\n",
       "      <th>std</th>\n",
       "      <th>mean</th>\n",
       "      <th>std</th>\n",
       "      <th>mean</th>\n",
       "      <th>std</th>\n",
       "      <th>mean</th>\n",
       "      <th>std</th>\n",
       "    </tr>\n",
       "    <tr>\n",
       "      <th>continent</th>\n",
       "      <th></th>\n",
       "      <th></th>\n",
       "      <th></th>\n",
       "      <th></th>\n",
       "      <th></th>\n",
       "      <th></th>\n",
       "      <th></th>\n",
       "      <th></th>\n",
       "      <th></th>\n",
       "      <th></th>\n",
       "      <th></th>\n",
       "      <th></th>\n",
       "      <th></th>\n",
       "      <th></th>\n",
       "      <th></th>\n",
       "      <th></th>\n",
       "      <th></th>\n",
       "      <th></th>\n",
       "      <th></th>\n",
       "      <th></th>\n",
       "      <th></th>\n",
       "    </tr>\n",
       "  </thead>\n",
       "  <tbody>\n",
       "    <tr>\n",
       "      <th>Africa</th>\n",
       "      <td>9.343585</td>\n",
       "      <td>7.411259</td>\n",
       "      <td>9.369245</td>\n",
       "      <td>7.401556</td>\n",
       "      <td>9.240755</td>\n",
       "      <td>7.264542</td>\n",
       "      <td>9.132453</td>\n",
       "      <td>7.309285</td>\n",
       "      <td>9.121321</td>\n",
       "      <td>7.291359</td>\n",
       "      <td>...</td>\n",
       "      <td>9.284528</td>\n",
       "      <td>7.407620</td>\n",
       "      <td>9.237925</td>\n",
       "      <td>7.358425</td>\n",
       "      <td>9.264340</td>\n",
       "      <td>7.455293</td>\n",
       "      <td>10.307736</td>\n",
       "      <td>7.928166</td>\n",
       "      <td>10.473585</td>\n",
       "      <td>8.131636</td>\n",
       "    </tr>\n",
       "    <tr>\n",
       "      <th>Asia</th>\n",
       "      <td>6.240638</td>\n",
       "      <td>5.146175</td>\n",
       "      <td>5.942128</td>\n",
       "      <td>4.779575</td>\n",
       "      <td>5.835319</td>\n",
       "      <td>4.756904</td>\n",
       "      <td>5.852128</td>\n",
       "      <td>4.668405</td>\n",
       "      <td>5.853191</td>\n",
       "      <td>4.681301</td>\n",
       "      <td>...</td>\n",
       "      <td>6.171277</td>\n",
       "      <td>5.277201</td>\n",
       "      <td>6.090213</td>\n",
       "      <td>5.409128</td>\n",
       "      <td>5.949149</td>\n",
       "      <td>5.254008</td>\n",
       "      <td>7.012340</td>\n",
       "      <td>5.699609</td>\n",
       "      <td>6.906170</td>\n",
       "      <td>5.414745</td>\n",
       "    </tr>\n",
       "    <tr>\n",
       "      <th>Europe</th>\n",
       "      <td>11.008205</td>\n",
       "      <td>6.392063</td>\n",
       "      <td>10.947949</td>\n",
       "      <td>6.539538</td>\n",
       "      <td>11.325641</td>\n",
       "      <td>7.003527</td>\n",
       "      <td>11.466667</td>\n",
       "      <td>6.969209</td>\n",
       "      <td>10.971282</td>\n",
       "      <td>6.759765</td>\n",
       "      <td>...</td>\n",
       "      <td>8.359744</td>\n",
       "      <td>5.177845</td>\n",
       "      <td>7.427436</td>\n",
       "      <td>4.738206</td>\n",
       "      <td>6.764359</td>\n",
       "      <td>4.124734</td>\n",
       "      <td>7.470513</td>\n",
       "      <td>4.071218</td>\n",
       "      <td>7.414872</td>\n",
       "      <td>3.947825</td>\n",
       "    </tr>\n",
       "    <tr>\n",
       "      <th>North America</th>\n",
       "      <td>8.663333</td>\n",
       "      <td>5.115805</td>\n",
       "      <td>8.563333</td>\n",
       "      <td>5.377041</td>\n",
       "      <td>8.448889</td>\n",
       "      <td>5.495819</td>\n",
       "      <td>8.840556</td>\n",
       "      <td>6.081829</td>\n",
       "      <td>8.512222</td>\n",
       "      <td>5.801927</td>\n",
       "      <td>...</td>\n",
       "      <td>7.391111</td>\n",
       "      <td>5.326446</td>\n",
       "      <td>7.281111</td>\n",
       "      <td>5.253180</td>\n",
       "      <td>7.095000</td>\n",
       "      <td>4.770490</td>\n",
       "      <td>9.297778</td>\n",
       "      <td>4.963045</td>\n",
       "      <td>9.155000</td>\n",
       "      <td>5.076482</td>\n",
       "    </tr>\n",
       "    <tr>\n",
       "      <th>Oceania</th>\n",
       "      <td>3.622500</td>\n",
       "      <td>2.054721</td>\n",
       "      <td>3.647500</td>\n",
       "      <td>2.008466</td>\n",
       "      <td>4.103750</td>\n",
       "      <td>2.723118</td>\n",
       "      <td>3.980000</td>\n",
       "      <td>2.640119</td>\n",
       "      <td>3.976250</td>\n",
       "      <td>2.659205</td>\n",
       "      <td>...</td>\n",
       "      <td>3.872500</td>\n",
       "      <td>2.492834</td>\n",
       "      <td>3.851250</td>\n",
       "      <td>2.455893</td>\n",
       "      <td>3.773750</td>\n",
       "      <td>2.369068</td>\n",
       "      <td>4.273750</td>\n",
       "      <td>2.617490</td>\n",
       "      <td>4.280000</td>\n",
       "      <td>2.671522</td>\n",
       "    </tr>\n",
       "    <tr>\n",
       "      <th>South America</th>\n",
       "      <td>6.870833</td>\n",
       "      <td>2.807058</td>\n",
       "      <td>6.518333</td>\n",
       "      <td>2.801577</td>\n",
       "      <td>6.410833</td>\n",
       "      <td>2.936508</td>\n",
       "      <td>6.335000</td>\n",
       "      <td>2.808780</td>\n",
       "      <td>6.347500</td>\n",
       "      <td>2.834332</td>\n",
       "      <td>...</td>\n",
       "      <td>7.281667</td>\n",
       "      <td>3.398994</td>\n",
       "      <td>7.496667</td>\n",
       "      <td>3.408856</td>\n",
       "      <td>7.719167</td>\n",
       "      <td>3.379845</td>\n",
       "      <td>10.275000</td>\n",
       "      <td>3.411263</td>\n",
       "      <td>9.924167</td>\n",
       "      <td>3.611624</td>\n",
       "    </tr>\n",
       "  </tbody>\n",
       "</table>\n",
       "<p>6 rows × 24 columns</p>\n",
       "</div>"
      ],
      "text/plain": [
       "                    2010                 2011                 2012            \\\n",
       "                    mean       std       mean       std       mean       std   \n",
       "continent                                                                      \n",
       "Africa          9.343585  7.411259   9.369245  7.401556   9.240755  7.264542   \n",
       "Asia            6.240638  5.146175   5.942128  4.779575   5.835319  4.756904   \n",
       "Europe         11.008205  6.392063  10.947949  6.539538  11.325641  7.003527   \n",
       "North America   8.663333  5.115805   8.563333  5.377041   8.448889  5.495819   \n",
       "Oceania         3.622500  2.054721   3.647500  2.008466   4.103750  2.723118   \n",
       "South America   6.870833  2.807058   6.518333  2.801577   6.410833  2.936508   \n",
       "\n",
       "                    2013                 2014            ...      2017  \\\n",
       "                    mean       std       mean       std  ...      mean   \n",
       "continent                                                ...             \n",
       "Africa          9.132453  7.309285   9.121321  7.291359  ...  9.284528   \n",
       "Asia            5.852128  4.668405   5.853191  4.681301  ...  6.171277   \n",
       "Europe         11.466667  6.969209  10.971282  6.759765  ...  8.359744   \n",
       "North America   8.840556  6.081829   8.512222  5.801927  ...  7.391111   \n",
       "Oceania         3.980000  2.640119   3.976250  2.659205  ...  3.872500   \n",
       "South America   6.335000  2.808780   6.347500  2.834332  ...  7.281667   \n",
       "\n",
       "                             2018                2019                 2020  \\\n",
       "                    std      mean       std      mean       std       mean   \n",
       "continent                                                                    \n",
       "Africa         7.407620  9.237925  7.358425  9.264340  7.455293  10.307736   \n",
       "Asia           5.277201  6.090213  5.409128  5.949149  5.254008   7.012340   \n",
       "Europe         5.177845  7.427436  4.738206  6.764359  4.124734   7.470513   \n",
       "North America  5.326446  7.281111  5.253180  7.095000  4.770490   9.297778   \n",
       "Oceania        2.492834  3.851250  2.455893  3.773750  2.369068   4.273750   \n",
       "South America  3.398994  7.496667  3.408856  7.719167  3.379845  10.275000   \n",
       "\n",
       "                              2021            \n",
       "                    std       mean       std  \n",
       "continent                                     \n",
       "Africa         7.928166  10.473585  8.131636  \n",
       "Asia           5.699609   6.906170  5.414745  \n",
       "Europe         4.071218   7.414872  3.947825  \n",
       "North America  4.963045   9.155000  5.076482  \n",
       "Oceania        2.617490   4.280000  2.671522  \n",
       "South America  3.411263   9.924167  3.611624  \n",
       "\n",
       "[6 rows x 24 columns]"
      ]
     },
     "metadata": {},
     "output_type": "display_data"
    }
   ],
   "source": [
    "# Print yearly mean and standard deviation grouped by continent\n",
    "year_cols = [col for col in unemployment.columns if col.isdigit()]\n",
    "display(unemployment.groupby(\"continent\")[year_cols].agg([\"mean\", \"std\"]))\n"
   ]
  },
  {
   "cell_type": "markdown",
   "id": "1gW5iNN-MmkR",
   "metadata": {
    "id": "1gW5iNN-MmkR"
   },
   "source": [
    "### Named aggregations\n",
    "You've seen how `.groupby()` and `.agg()` can be combined to show summaries across categories. Sometimes, it's helpful to name new columns when aggregating so that it's clear in the code output what aggregations are being applied and where.\n",
    "\n",
    "Your task is to create a DataFrame called `continent_summary` which shows a row for each continent. The DataFrame columns will contain the mean unemployment rate for each continent in 2021 as well as the standard deviation of the 2021 employment rate. And of course, you'll rename the columns so that their contents are clear!"
   ]
  },
  {
   "cell_type": "code",
   "execution_count": 37,
   "id": "SWAYHJMzGGMx",
   "metadata": {
    "colab": {
     "base_uri": "https://localhost:8080/",
     "height": 269
    },
    "id": "SWAYHJMzGGMx",
    "outputId": "fca79be7-55cb-4383-d4ac-0f762752dd5e"
   },
   "outputs": [
    {
     "data": {
      "application/vnd.microsoft.datawrangler.viewer.v0+json": {
       "columns": [
        {
         "name": "continent",
         "rawType": "object",
         "type": "string"
        },
        {
         "name": "mean_rate_2021",
         "rawType": "float64",
         "type": "float"
        },
        {
         "name": "std_rate_2021",
         "rawType": "float64",
         "type": "float"
        }
       ],
       "ref": "22143de4-0917-4ec5-a18c-eab122773f4e",
       "rows": [
        [
         "Africa",
         "10.473584905660378",
         "10.473584905660378"
        ],
        [
         "Asia",
         "6.906170212765957",
         "6.906170212765957"
        ],
        [
         "Europe",
         "7.414871794871795",
         "7.414871794871795"
        ],
        [
         "North America",
         "9.155",
         "9.155"
        ],
        [
         "Oceania",
         "4.28",
         "4.28"
        ],
        [
         "South America",
         "9.924166666666666",
         "9.924166666666666"
        ]
       ],
       "shape": {
        "columns": 2,
        "rows": 6
       }
      },
      "text/html": [
       "<div>\n",
       "<style scoped>\n",
       "    .dataframe tbody tr th:only-of-type {\n",
       "        vertical-align: middle;\n",
       "    }\n",
       "\n",
       "    .dataframe tbody tr th {\n",
       "        vertical-align: top;\n",
       "    }\n",
       "\n",
       "    .dataframe thead th {\n",
       "        text-align: right;\n",
       "    }\n",
       "</style>\n",
       "<table border=\"1\" class=\"dataframe\">\n",
       "  <thead>\n",
       "    <tr style=\"text-align: right;\">\n",
       "      <th></th>\n",
       "      <th>mean_rate_2021</th>\n",
       "      <th>std_rate_2021</th>\n",
       "    </tr>\n",
       "    <tr>\n",
       "      <th>continent</th>\n",
       "      <th></th>\n",
       "      <th></th>\n",
       "    </tr>\n",
       "  </thead>\n",
       "  <tbody>\n",
       "    <tr>\n",
       "      <th>Africa</th>\n",
       "      <td>10.473585</td>\n",
       "      <td>10.473585</td>\n",
       "    </tr>\n",
       "    <tr>\n",
       "      <th>Asia</th>\n",
       "      <td>6.906170</td>\n",
       "      <td>6.906170</td>\n",
       "    </tr>\n",
       "    <tr>\n",
       "      <th>Europe</th>\n",
       "      <td>7.414872</td>\n",
       "      <td>7.414872</td>\n",
       "    </tr>\n",
       "    <tr>\n",
       "      <th>North America</th>\n",
       "      <td>9.155000</td>\n",
       "      <td>9.155000</td>\n",
       "    </tr>\n",
       "    <tr>\n",
       "      <th>Oceania</th>\n",
       "      <td>4.280000</td>\n",
       "      <td>4.280000</td>\n",
       "    </tr>\n",
       "    <tr>\n",
       "      <th>South America</th>\n",
       "      <td>9.924167</td>\n",
       "      <td>9.924167</td>\n",
       "    </tr>\n",
       "  </tbody>\n",
       "</table>\n",
       "</div>"
      ],
      "text/plain": [
       "               mean_rate_2021  std_rate_2021\n",
       "continent                                   \n",
       "Africa              10.473585      10.473585\n",
       "Asia                 6.906170       6.906170\n",
       "Europe               7.414872       7.414872\n",
       "North America        9.155000       9.155000\n",
       "Oceania              4.280000       4.280000\n",
       "South America        9.924167       9.924167"
      ]
     },
     "metadata": {},
     "output_type": "display_data"
    }
   ],
   "source": [
    "\n",
    "continent_summary = unemployment.groupby(\"continent\").agg(\n",
    "    # Create the mean_rate_2021 column\n",
    "    mean_rate_2021=(\"2021\", \"mean\"),\n",
    "    # Create the std_rate_2021 column\n",
    "    std_rate_2021=(\"2021\", \"mean\")\n",
    ")\n",
    "display(continent_summary)"
   ]
  },
  {
   "cell_type": "code",
   "execution_count": 38,
   "id": "E1d0sXh9GaXt",
   "metadata": {
    "colab": {
     "base_uri": "https://localhost:8080/",
     "height": 487
    },
    "id": "E1d0sXh9GaXt",
    "outputId": "593c7eea-7803-4c8a-d7c3-c802032cf8ac"
   },
   "outputs": [
    {
     "data": {
      "image/png": "[encoded data removed]",
      "text/plain": [
       "<Figure size 640x480 with 1 Axes>"
      ]
     },
     "metadata": {},
     "output_type": "display_data"
    }
   ],
   "source": [
    "# Create a bar plot of continents and their average unemployment\n",
    "fig, ax = plt.subplots()\n",
    "sns.barplot(x=\"continent\", y=\"2021\", data=unemployment, hue=\"continent\", legend=False)\n",
    "ax.set(xlabel=\"\",\n",
    "       ylabel=\"Unemployment Rate (2021)\")\n",
    "\n",
    "ax.tick_params(axis='x', labelrotation=90)\n",
    "plt.tight_layout()\n",
    "plt.show()"
   ]
  },
  {
   "cell_type": "markdown",
   "id": "dNUc27QCcXcc",
   "metadata": {
    "id": "dNUc27QCcXcc"
   },
   "source": [
    "## Data Cleaning and Imputation\n",
    "Exploring and analyzing data often means dealing with missing values, incorrect data types, and outliers. In this chapter, you’ll learn techniques to handle these issues and streamline your EDA processes!\n",
    "\n"
   ]
  },
  {
   "cell_type": "code",
   "execution_count": 39,
   "id": "dw0ULEmbM8Fd",
   "metadata": {
    "id": "dw0ULEmbM8Fd"
   },
   "outputs": [],
   "source": [
    "planes = pd.read_csv(\"data/planes.csv\")"
   ]
  },
  {
   "cell_type": "markdown",
   "id": "WilXAyJKqVWI",
   "metadata": {
    "id": "WilXAyJKqVWI"
   },
   "source": [
    "### Dealing with missing data\n",
    "It is important to deal with missing data before starting your analysis.\n",
    "\n",
    "One approach is to drop missing values if they account for a small proportion, typically five percent, of your data.\n",
    "\n",
    "Working with a dataset on plane ticket prices, stored as a pandas DataFrame called planes, you'll need to count the number of missing values across all columns, calculate five percent of all values, use this threshold to remove observations, and check how many missing values remain in the dataset."
   ]
  },
  {
   "cell_type": "code",
   "execution_count": 40,
   "id": "JI4YlYaPdFe-",
   "metadata": {
    "colab": {
     "base_uri": "https://localhost:8080/",
     "height": 206
    },
    "id": "JI4YlYaPdFe-",
    "outputId": "140b36d1-7a03-403b-fd97-7867dcf29254"
   },
   "outputs": [
    {
     "data": {
      "application/vnd.microsoft.datawrangler.viewer.v0+json": {
       "columns": [
        {
         "name": "index",
         "rawType": "int64",
         "type": "integer"
        },
        {
         "name": "Airline",
         "rawType": "object",
         "type": "string"
        },
        {
         "name": "Date_of_Journey",
         "rawType": "object",
         "type": "string"
        },
        {
         "name": "Source",
         "rawType": "object",
         "type": "string"
        },
        {
         "name": "Destination",
         "rawType": "object",
         "type": "string"
        },
        {
         "name": "Route",
         "rawType": "object",
         "type": "string"
        },
        {
         "name": "Dep_Time",
         "rawType": "object",
         "type": "string"
        },
        {
         "name": "Arrival_Time",
         "rawType": "object",
         "type": "string"
        },
        {
         "name": "Duration",
         "rawType": "object",
         "type": "string"
        },
        {
         "name": "Total_Stops",
         "rawType": "object",
         "type": "string"
        },
        {
         "name": "Additional_Info",
         "rawType": "object",
         "type": "string"
        },
        {
         "name": "Price",
         "rawType": "float64",
         "type": "float"
        }
       ],
       "ref": "7d680f96-3a5a-4b11-b674-01357757f8a3",
       "rows": [
        [
         "0",
         "Jet Airways",
         "9/06/2019",
         "Delhi",
         "Cochin",
         "DEL → LKO → BOM → COK",
         "09:25",
         "04:25 10 Jun",
         "19h",
         "2 stops",
         "No info",
         "13882.0"
        ],
        [
         "1",
         "IndiGo",
         "12/05/2019",
         "Kolkata",
         "Banglore",
         "CCU → NAG → BLR",
         "18:05",
         "23:30",
         "5h 25m",
         "1 stop",
         "No info",
         "6218.0"
        ],
        [
         "2",
         "IndiGo",
         "01/03/2019",
         "Banglore",
         "New Delhi",
         "BLR → NAG → DEL",
         "16:50",
         "21:35",
         "4h 45m",
         "1 stop",
         "No info",
         "13302.0"
        ],
        [
         "3",
         "SpiceJet",
         "24/06/2019",
         "Kolkata",
         "Banglore",
         "CCU → BLR",
         "09:00",
         "11:25",
         "2h 25m",
         "non-stop",
         "No info",
         "3873.0"
        ],
        [
         "4",
         "Jet Airways",
         "12/03/2019",
         "Banglore",
         "New Delhi",
         "BLR → BOM → DEL",
         "18:55",
         "10:25 13 Mar",
         "15h 30m",
         "1 stop",
         "In-flight meal not included",
         "11087.0"
        ]
       ],
       "shape": {
        "columns": 11,
        "rows": 5
       }
      },
      "text/html": [
       "<div>\n",
       "<style scoped>\n",
       "    .dataframe tbody tr th:only-of-type {\n",
       "        vertical-align: middle;\n",
       "    }\n",
       "\n",
       "    .dataframe tbody tr th {\n",
       "        vertical-align: top;\n",
       "    }\n",
       "\n",
       "    .dataframe thead th {\n",
       "        text-align: right;\n",
       "    }\n",
       "</style>\n",
       "<table border=\"1\" class=\"dataframe\">\n",
       "  <thead>\n",
       "    <tr style=\"text-align: right;\">\n",
       "      <th></th>\n",
       "      <th>Airline</th>\n",
       "      <th>Date_of_Journey</th>\n",
       "      <th>Source</th>\n",
       "      <th>Destination</th>\n",
       "      <th>Route</th>\n",
       "      <th>Dep_Time</th>\n",
       "      <th>Arrival_Time</th>\n",
       "      <th>Duration</th>\n",
       "      <th>Total_Stops</th>\n",
       "      <th>Additional_Info</th>\n",
       "      <th>Price</th>\n",
       "    </tr>\n",
       "  </thead>\n",
       "  <tbody>\n",
       "    <tr>\n",
       "      <th>0</th>\n",
       "      <td>Jet Airways</td>\n",
       "      <td>9/06/2019</td>\n",
       "      <td>Delhi</td>\n",
       "      <td>Cochin</td>\n",
       "      <td>DEL → LKO → BOM → COK</td>\n",
       "      <td>09:25</td>\n",
       "      <td>04:25 10 Jun</td>\n",
       "      <td>19h</td>\n",
       "      <td>2 stops</td>\n",
       "      <td>No info</td>\n",
       "      <td>13882.0</td>\n",
       "    </tr>\n",
       "    <tr>\n",
       "      <th>1</th>\n",
       "      <td>IndiGo</td>\n",
       "      <td>12/05/2019</td>\n",
       "      <td>Kolkata</td>\n",
       "      <td>Banglore</td>\n",
       "      <td>CCU → NAG → BLR</td>\n",
       "      <td>18:05</td>\n",
       "      <td>23:30</td>\n",
       "      <td>5h 25m</td>\n",
       "      <td>1 stop</td>\n",
       "      <td>No info</td>\n",
       "      <td>6218.0</td>\n",
       "    </tr>\n",
       "    <tr>\n",
       "      <th>2</th>\n",
       "      <td>IndiGo</td>\n",
       "      <td>01/03/2019</td>\n",
       "      <td>Banglore</td>\n",
       "      <td>New Delhi</td>\n",
       "      <td>BLR → NAG → DEL</td>\n",
       "      <td>16:50</td>\n",
       "      <td>21:35</td>\n",
       "      <td>4h 45m</td>\n",
       "      <td>1 stop</td>\n",
       "      <td>No info</td>\n",
       "      <td>13302.0</td>\n",
       "    </tr>\n",
       "    <tr>\n",
       "      <th>3</th>\n",
       "      <td>SpiceJet</td>\n",
       "      <td>24/06/2019</td>\n",
       "      <td>Kolkata</td>\n",
       "      <td>Banglore</td>\n",
       "      <td>CCU → BLR</td>\n",
       "      <td>09:00</td>\n",
       "      <td>11:25</td>\n",
       "      <td>2h 25m</td>\n",
       "      <td>non-stop</td>\n",
       "      <td>No info</td>\n",
       "      <td>3873.0</td>\n",
       "    </tr>\n",
       "    <tr>\n",
       "      <th>4</th>\n",
       "      <td>Jet Airways</td>\n",
       "      <td>12/03/2019</td>\n",
       "      <td>Banglore</td>\n",
       "      <td>New Delhi</td>\n",
       "      <td>BLR → BOM → DEL</td>\n",
       "      <td>18:55</td>\n",
       "      <td>10:25 13 Mar</td>\n",
       "      <td>15h 30m</td>\n",
       "      <td>1 stop</td>\n",
       "      <td>In-flight meal not included</td>\n",
       "      <td>11087.0</td>\n",
       "    </tr>\n",
       "  </tbody>\n",
       "</table>\n",
       "</div>"
      ],
      "text/plain": [
       "       Airline Date_of_Journey    Source Destination                  Route  \\\n",
       "0  Jet Airways       9/06/2019     Delhi      Cochin  DEL → LKO → BOM → COK   \n",
       "1       IndiGo      12/05/2019   Kolkata    Banglore        CCU → NAG → BLR   \n",
       "2       IndiGo      01/03/2019  Banglore   New Delhi        BLR → NAG → DEL   \n",
       "3     SpiceJet      24/06/2019   Kolkata    Banglore              CCU → BLR   \n",
       "4  Jet Airways      12/03/2019  Banglore   New Delhi        BLR → BOM → DEL   \n",
       "\n",
       "  Dep_Time  Arrival_Time Duration Total_Stops              Additional_Info  \\\n",
       "0    09:25  04:25 10 Jun      19h     2 stops                      No info   \n",
       "1    18:05         23:30   5h 25m      1 stop                      No info   \n",
       "2    16:50         21:35   4h 45m      1 stop                      No info   \n",
       "3    09:00         11:25   2h 25m    non-stop                      No info   \n",
       "4    18:55  10:25 13 Mar  15h 30m      1 stop  In-flight meal not included   \n",
       "\n",
       "     Price  \n",
       "0  13882.0  \n",
       "1   6218.0  \n",
       "2  13302.0  \n",
       "3   3873.0  \n",
       "4  11087.0  "
      ]
     },
     "execution_count": 40,
     "metadata": {},
     "output_type": "execute_result"
    }
   ],
   "source": [
    "planes.head()"
   ]
  },
  {
   "cell_type": "code",
   "execution_count": 41,
   "id": "9e89ebc8",
   "metadata": {
    "colab": {
     "base_uri": "https://localhost:8080/",
     "height": 429
    },
    "id": "9e89ebc8",
    "outputId": "ef1d17b4-3fab-4fbe-f3fd-2d1ea48124ec"
   },
   "outputs": [
    {
     "data": {
      "application/vnd.microsoft.datawrangler.viewer.v0+json": {
       "columns": [
        {
         "name": "index",
         "rawType": "object",
         "type": "string"
        },
        {
         "name": "0",
         "rawType": "int64",
         "type": "integer"
        }
       ],
       "ref": "8a25c019-db06-4261-a5a1-62a5d0e85445",
       "rows": [
        [
         "Airline",
         "427"
        ],
        [
         "Date_of_Journey",
         "322"
        ],
        [
         "Source",
         "187"
        ],
        [
         "Destination",
         "347"
        ],
        [
         "Route",
         "256"
        ],
        [
         "Dep_Time",
         "260"
        ],
        [
         "Arrival_Time",
         "194"
        ],
        [
         "Duration",
         "214"
        ],
        [
         "Total_Stops",
         "212"
        ],
        [
         "Additional_Info",
         "589"
        ],
        [
         "Price",
         "616"
        ]
       ],
       "shape": {
        "columns": 1,
        "rows": 11
       }
      },
      "text/plain": [
       "Airline            427\n",
       "Date_of_Journey    322\n",
       "Source             187\n",
       "Destination        347\n",
       "Route              256\n",
       "Dep_Time           260\n",
       "Arrival_Time       194\n",
       "Duration           214\n",
       "Total_Stops        212\n",
       "Additional_Info    589\n",
       "Price              616\n",
       "dtype: int64"
      ]
     },
     "metadata": {},
     "output_type": "display_data"
    }
   ],
   "source": [
    "# Count the number of missing values in each column\n",
    "display(planes.isna().sum())"
   ]
  },
  {
   "cell_type": "code",
   "execution_count": 42,
   "id": "6I2UqH3kmHfp",
   "metadata": {
    "colab": {
     "base_uri": "https://localhost:8080/",
     "height": 34
    },
    "id": "6I2UqH3kmHfp",
    "outputId": "e4a8b950-0711-410b-e083-4762896fd03f"
   },
   "outputs": [
    {
     "data": {
      "text/plain": [
       "533.0"
      ]
     },
     "metadata": {},
     "output_type": "display_data"
    }
   ],
   "source": [
    "# Find the five percent threshold\n",
    "threshold = len(planes) * 0.05\n",
    "display(threshold)"
   ]
  },
  {
   "cell_type": "code",
   "execution_count": 43,
   "id": "Bup7iQslrEz3",
   "metadata": {
    "colab": {
     "base_uri": "https://localhost:8080/",
     "height": 69
    },
    "id": "Bup7iQslrEz3",
    "outputId": "9b2e5ef4-26c9-4b95-dc65-15cb5a327d25"
   },
   "outputs": [
    {
     "data": {
      "text/plain": [
       "Index(['Airline', 'Date_of_Journey', 'Source', 'Destination', 'Route',\n",
       "       'Dep_Time', 'Arrival_Time', 'Duration', 'Total_Stops'],\n",
       "      dtype='object')"
      ]
     },
     "metadata": {},
     "output_type": "display_data"
    }
   ],
   "source": [
    "# Create a filter\n",
    "cols_to_drop = planes.columns[planes.isna().sum() <= threshold]\n",
    "display(cols_to_drop)"
   ]
  },
  {
   "cell_type": "code",
   "execution_count": 44,
   "id": "csn4h5uIv2aP",
   "metadata": {
    "id": "csn4h5uIv2aP"
   },
   "outputs": [],
   "source": [
    "# Drop missing values for columns below the threshold\n",
    "planes.dropna(subset=cols_to_drop, inplace=True)"
   ]
  },
  {
   "cell_type": "code",
   "execution_count": 45,
   "id": "b8946f92",
   "metadata": {
    "colab": {
     "base_uri": "https://localhost:8080/",
     "height": 429
    },
    "id": "b8946f92",
    "outputId": "3ea346ad-b86a-40ef-9868-b32f37f2b6e8"
   },
   "outputs": [
    {
     "data": {
      "application/vnd.microsoft.datawrangler.viewer.v0+json": {
       "columns": [
        {
         "name": "index",
         "rawType": "object",
         "type": "string"
        },
        {
         "name": "0",
         "rawType": "int64",
         "type": "integer"
        }
       ],
       "ref": "aefa6d09-68e0-4407-acdc-529cafea72df",
       "rows": [
        [
         "Airline",
         "0"
        ],
        [
         "Date_of_Journey",
         "0"
        ],
        [
         "Source",
         "0"
        ],
        [
         "Destination",
         "0"
        ],
        [
         "Route",
         "0"
        ],
        [
         "Dep_Time",
         "0"
        ],
        [
         "Arrival_Time",
         "0"
        ],
        [
         "Duration",
         "0"
        ],
        [
         "Total_Stops",
         "0"
        ],
        [
         "Additional_Info",
         "300"
        ],
        [
         "Price",
         "368"
        ]
       ],
       "shape": {
        "columns": 1,
        "rows": 11
       }
      },
      "text/plain": [
       "Airline              0\n",
       "Date_of_Journey      0\n",
       "Source               0\n",
       "Destination          0\n",
       "Route                0\n",
       "Dep_Time             0\n",
       "Arrival_Time         0\n",
       "Duration             0\n",
       "Total_Stops          0\n",
       "Additional_Info    300\n",
       "Price              368\n",
       "dtype: int64"
      ]
     },
     "metadata": {},
     "output_type": "display_data"
    }
   ],
   "source": [
    "# Check how many missing values remain in each column\n",
    "display(planes.isna().sum())"
   ]
  },
  {
   "cell_type": "markdown",
   "id": "k-PEalSrwiS2",
   "metadata": {
    "id": "k-PEalSrwiS2"
   },
   "source": [
    "### Strategies for remaining missing data\n",
    "The five percent rule has worked nicely for your planes dataset, eliminating missing values from nine out of 11 columns!\n",
    "\n",
    "Now, you need to decide what to do with the `\"Additional_Info\"` and `\"Price\"` columns, which are missing 300 and 368 values respectively.\n",
    "\n",
    "You'll first take a look at what `\"Additional_Info\"` contains, then visualize the price of plane tickets by different airlines."
   ]
  },
  {
   "cell_type": "code",
   "execution_count": 46,
   "id": "vJVSB_Uwwutr",
   "metadata": {
    "colab": {
     "base_uri": "https://localhost:8080/",
     "height": 398
    },
    "id": "vJVSB_Uwwutr",
    "outputId": "3e60ab43-e89e-4952-a887-138f50dc2ad3"
   },
   "outputs": [
    {
     "data": {
      "application/vnd.microsoft.datawrangler.viewer.v0+json": {
       "columns": [
        {
         "name": "Additional_Info",
         "rawType": "object",
         "type": "string"
        },
        {
         "name": "count",
         "rawType": "int64",
         "type": "integer"
        }
       ],
       "ref": "25f39116-128a-4aed-9ddf-b81dcdc6e5ae",
       "rows": [
        [
         "No info",
         "6399"
        ],
        [
         "In-flight meal not included",
         "1525"
        ],
        [
         "No check-in baggage included",
         "258"
        ],
        [
         "1 Long layover",
         "14"
        ],
        [
         "Change airports",
         "7"
        ],
        [
         "No Info",
         "2"
        ],
        [
         "Business class",
         "1"
        ],
        [
         "Red-eye flight",
         "1"
        ],
        [
         "2 Long layover",
         "1"
        ]
       ],
       "shape": {
        "columns": 1,
        "rows": 9
       }
      },
      "text/plain": [
       "Additional_Info\n",
       "No info                         6399\n",
       "In-flight meal not included     1525\n",
       "No check-in baggage included     258\n",
       "1 Long layover                    14\n",
       "Change airports                    7\n",
       "No Info                            2\n",
       "Business class                     1\n",
       "Red-eye flight                     1\n",
       "2 Long layover                     1\n",
       "Name: count, dtype: int64"
      ]
     },
     "metadata": {},
     "output_type": "display_data"
    }
   ],
   "source": [
    "display(planes[\"Additional_Info\"].value_counts())"
   ]
  },
  {
   "cell_type": "code",
   "execution_count": 47,
   "id": "H_lNcj9GwyHF",
   "metadata": {
    "colab": {
     "base_uri": "https://localhost:8080/",
     "height": 487
    },
    "id": "H_lNcj9GwyHF",
    "outputId": "29c40689-5188-48d9-b69e-c73ae4aadf6a"
   },
   "outputs": [
    {
     "data": {
      "image/png": "[encoded data removed]",
      "text/plain": [
       "<Figure size 1000x600 with 1 Axes>"
      ]
     },
     "metadata": {},
     "output_type": "display_data"
    }
   ],
   "source": [
    "# Create a box plot of Price by Airline\n",
    "fig, ax = plt.subplots(figsize=(10, 6))\n",
    "\n",
    "sns.boxplot(data=planes, x=\"Airline\", y=\"Price\", hue=\"Airline\", palette=\"Set2\")\n",
    "ax.set(title=\"Distribution of Flight Prices by Airline\",\n",
    "       xlabel=\"Airline\",\n",
    "       ylabel=\"Price (in Currency Units)\")\n",
    "# Rotate x-axis labels using ax.tick_params\n",
    "ax.tick_params(axis='x', labelrotation=45)\n",
    "\n",
    "plt.tight_layout()\n",
    "plt.show()"
   ]
  },
  {
   "cell_type": "markdown",
   "id": "d0SX7XRKz1ZU",
   "metadata": {
    "id": "d0SX7XRKz1ZU"
   },
   "source": [
    "#### Question\n",
    "How should you deal with the missing values in `\"Additional_Info\"` and `\"Price\"`?\n",
    "\n",
    "**Possible Answers**\n",
    "\n",
    "1) Remove the `\"Additional_Info\"` column and impute the mean for missing values of `\"Price\"`.\n",
    "\n",
    "2) Remove \"No info\" values from `\"Additional_Info\"` and impute the median for missing values of `\"Price\"`.\n",
    "\n",
    "3) Remove the \"Additional_Info\" column and impute the mean by `\"Airline\"` for missing values of `\"Price\"`.\n",
    "\n",
    "4) Remove the \"Additional_Info\" column and impute the median by `\"Airline\"` for missing values of `\"Price\"`."
   ]
  },
  {
   "cell_type": "code",
   "execution_count": 48,
   "id": "3ea7acb7",
   "metadata": {
    "colab": {
     "base_uri": "https://localhost:8080/",
     "height": 607
    },
    "id": "3ea7acb7",
    "outputId": "54ceb409-3e51-4fdd-9a4c-6db52c84e5e5"
   },
   "outputs": [
    {
     "name": "stderr",
     "output_type": "stream",
     "text": [
      "C:\\Users\\lerea\\AppData\\Local\\Temp\\ipykernel_9596\\3056650141.py:12: UserWarning: set_ticklabels() should only be used with a fixed number of ticks, i.e. after set_ticks() or using a FixedLocator.\n",
      "  ax.set_xticklabels(ax.get_xticklabels(), ha='right')\n"
     ]
    },
    {
     "data": {
      "image/png": "[encoded data removed]",
      "text/plain": [
       "<Figure size 1200x600 with 1 Axes>"
      ]
     },
     "metadata": {},
     "output_type": "display_data"
    }
   ],
   "source": [
    "# Categorize 'Additional_Info' into 'No info' and 'Other info'\n",
    "planes['Additional_Info_Category'] = planes['Additional_Info'].apply(lambda x: 'No info' if pd.isna(x) or x == 'No info' else 'Other info')\n",
    "\n",
    "# Create a violin plot of Price by Airline, split by Additional_Info_Category\n",
    "fig, ax = plt.subplots(figsize=(12, 6))\n",
    "sns.violinplot(data=planes, x='Airline', y='Price', hue='Additional_Info_Category', split=True, palette=\"Set1\", ax=ax)\n",
    "ax.set(title=\"Flight Price Distribution by Airline and Additional Info Category\",\n",
    "       xlabel=\"Airline\",\n",
    "       ylabel=\"Price (in Currency Units)\")\n",
    "# Rotate x-axis labels for better readability using OOP approach\n",
    "ax.tick_params(axis='x', labelrotation=45)\n",
    "ax.set_xticklabels(ax.get_xticklabels(), ha='right')\n",
    "plt.tight_layout()\n",
    "plt.show()"
   ]
  },
  {
   "cell_type": "markdown",
   "id": "jX4P9hE_2Io3",
   "metadata": {
    "id": "jX4P9hE_2Io3"
   },
   "source": [
    "### Imputing missing plane prices\n",
    "Now there's just one column with missing values left!\n",
    "\n",
    "You've removed the `\"Additional_Info\"` column from planes—the last step is to impute the missing data in the `\"Price\"` column of the dataset.\n",
    "\n",
    "As a reminder, you generated this boxplot, which suggested that imputing the median price based on the `\"Airline\"` is a solid approach!"
   ]
  },
  {
   "cell_type": "code",
   "execution_count": 49,
   "id": "snOBacNC4OZl",
   "metadata": {
    "id": "snOBacNC4OZl"
   },
   "outputs": [],
   "source": [
    "planes.dropna(subset=\"Additional_Info\", inplace=True)"
   ]
  },
  {
   "cell_type": "code",
   "execution_count": 50,
   "id": "8yLoUVs72Qqa",
   "metadata": {
    "colab": {
     "base_uri": "https://localhost:8080/",
     "height": 366
    },
    "id": "8yLoUVs72Qqa",
    "outputId": "8f1f30fa-425d-4d0f-c9e9-02b28e514902"
   },
   "outputs": [
    {
     "data": {
      "application/vnd.microsoft.datawrangler.viewer.v0+json": {
       "columns": [
        {
         "name": "Airline",
         "rawType": "object",
         "type": "string"
        },
        {
         "name": "Price",
         "rawType": "float64",
         "type": "float"
        }
       ],
       "ref": "59c50fd7-919f-4c83-a0f0-579315dafc11",
       "rows": [
        [
         "Air Asia",
         "5177.0"
        ],
        [
         "Air India",
         "9443.0"
        ],
        [
         "GoAir",
         "4959.0"
        ],
        [
         "IndiGo",
         "5054.0"
        ],
        [
         "Jet Airways",
         "11507.0"
        ],
        [
         "Multiple carriers",
         "10010.0"
        ],
        [
         "SpiceJet",
         "3873.0"
        ],
        [
         "Vistara",
         "8085.0"
        ]
       ],
       "shape": {
        "columns": 1,
        "rows": 8
       }
      },
      "text/plain": [
       "Airline\n",
       "Air Asia              5177.0\n",
       "Air India             9443.0\n",
       "GoAir                 4959.0\n",
       "IndiGo                5054.0\n",
       "Jet Airways          11507.0\n",
       "Multiple carriers    10010.0\n",
       "SpiceJet              3873.0\n",
       "Vistara               8085.0\n",
       "Name: Price, dtype: float64"
      ]
     },
     "metadata": {},
     "output_type": "display_data"
    }
   ],
   "source": [
    "# Calculate median plane ticket prices by Airline after dropping rows with missing 'Additional_Info'\n",
    "airline_prices = planes.groupby(\"Airline\")[\"Price\"].median()\n",
    "display(airline_prices)"
   ]
  },
  {
   "cell_type": "code",
   "execution_count": 51,
   "id": "j-K2MNH92qMC",
   "metadata": {
    "colab": {
     "base_uri": "https://localhost:8080/",
     "height": 156
    },
    "id": "j-K2MNH92qMC",
    "outputId": "2b24c3a3-255b-4099-980b-493dcd1b1584"
   },
   "outputs": [
    {
     "data": {
      "text/plain": [
       "{'Air Asia': 5177.0,\n",
       " 'Air India': 9443.0,\n",
       " 'GoAir': 4959.0,\n",
       " 'IndiGo': 5054.0,\n",
       " 'Jet Airways': 11507.0,\n",
       " 'Multiple carriers': 10010.0,\n",
       " 'SpiceJet': 3873.0,\n",
       " 'Vistara': 8085.0}"
      ]
     },
     "metadata": {},
     "output_type": "display_data"
    }
   ],
   "source": [
    "# Convert to a dictionary\n",
    "prices_dict = airline_prices.to_dict()\n",
    "display(prices_dict)"
   ]
  },
  {
   "cell_type": "code",
   "execution_count": 52,
   "id": "hy3pyQuA3zmT",
   "metadata": {
    "colab": {
     "base_uri": "https://localhost:8080/",
     "height": 460
    },
    "id": "hy3pyQuA3zmT",
    "outputId": "918e51dd-dc2c-4410-8a77-63537060e8aa"
   },
   "outputs": [
    {
     "data": {
      "application/vnd.microsoft.datawrangler.viewer.v0+json": {
       "columns": [
        {
         "name": "index",
         "rawType": "object",
         "type": "string"
        },
        {
         "name": "0",
         "rawType": "int64",
         "type": "integer"
        }
       ],
       "ref": "c2dcbe3a-dccd-4dd2-a0bf-fbf1a77c7e6c",
       "rows": [
        [
         "Airline",
         "0"
        ],
        [
         "Date_of_Journey",
         "0"
        ],
        [
         "Source",
         "0"
        ],
        [
         "Destination",
         "0"
        ],
        [
         "Route",
         "0"
        ],
        [
         "Dep_Time",
         "0"
        ],
        [
         "Arrival_Time",
         "0"
        ],
        [
         "Duration",
         "0"
        ],
        [
         "Total_Stops",
         "0"
        ],
        [
         "Additional_Info",
         "0"
        ],
        [
         "Price",
         "0"
        ],
        [
         "Additional_Info_Category",
         "0"
        ]
       ],
       "shape": {
        "columns": 1,
        "rows": 12
       }
      },
      "text/plain": [
       "Airline                     0\n",
       "Date_of_Journey             0\n",
       "Source                      0\n",
       "Destination                 0\n",
       "Route                       0\n",
       "Dep_Time                    0\n",
       "Arrival_Time                0\n",
       "Duration                    0\n",
       "Total_Stops                 0\n",
       "Additional_Info             0\n",
       "Price                       0\n",
       "Additional_Info_Category    0\n",
       "dtype: int64"
      ]
     },
     "metadata": {},
     "output_type": "display_data"
    }
   ],
   "source": [
    "# Map the dictionary to missing values of Price by Airline\n",
    "planes[\"Price\"] = planes[\"Price\"].fillna(planes[\"Airline\"].map(prices_dict))\n",
    "\n",
    "# Check for missing values\n",
    "display(planes.isna().sum())"
   ]
  },
  {
   "cell_type": "markdown",
   "id": "fu9tEJkRgo9e",
   "metadata": {
    "id": "fu9tEJkRgo9e"
   },
   "source": []
  },
  {
   "cell_type": "code",
   "execution_count": 53,
   "id": "hTvlalmihDPb",
   "metadata": {
    "id": "hTvlalmihDPb"
   },
   "outputs": [],
   "source": [
    "salaries = pd.read_csv(\"data/ds_salaries_clean.csv\")\n",
    "#salaries = pd.read_csv(\"data/ds_salaries.csv\")"
   ]
  },
  {
   "cell_type": "code",
   "execution_count": 54,
   "id": "n_XEKhEJhVLM",
   "metadata": {
    "id": "n_XEKhEJhVLM"
   },
   "outputs": [],
   "source": [
    "# salaries = salaries.rename(columns={\"experience_level\": \"Experience\", \"employment_type\":\"Employment_Status\", \"job_title\": \"Designation\", \"company_size\":\"Company_Size\", \"salary\": \"Salary\", \"employee_residence\": \"Employee_Location\"})"
   ]
  },
  {
   "cell_type": "code",
   "execution_count": 55,
   "id": "8wkW6X0uh9xw",
   "metadata": {
    "colab": {
     "base_uri": "https://localhost:8080/",
     "height": 206
    },
    "id": "8wkW6X0uh9xw",
    "outputId": "46a44631-4050-4885-9b2d-f2622b0e3231"
   },
   "outputs": [
    {
     "data": {
      "application/vnd.microsoft.datawrangler.viewer.v0+json": {
       "columns": [
        {
         "name": "index",
         "rawType": "int64",
         "type": "integer"
        },
        {
         "name": "Working_Year",
         "rawType": "int64",
         "type": "integer"
        },
        {
         "name": "Designation",
         "rawType": "object",
         "type": "string"
        },
        {
         "name": "Experience",
         "rawType": "object",
         "type": "string"
        },
        {
         "name": "Employment_Status",
         "rawType": "object",
         "type": "string"
        },
        {
         "name": "Employee_Location",
         "rawType": "object",
         "type": "string"
        },
        {
         "name": "Company_Size",
         "rawType": "object",
         "type": "string"
        },
        {
         "name": "Remote_Working_Ratio",
         "rawType": "int64",
         "type": "integer"
        },
        {
         "name": "Salary_USD",
         "rawType": "float64",
         "type": "float"
        }
       ],
       "ref": "6597a699-aa50-4429-bee9-f48522984026",
       "rows": [
        [
         "0",
         "2020",
         "Data Scientist",
         "Mid",
         "FT",
         "DE",
         "L",
         "0",
         "76227.0"
        ],
        [
         "1",
         "2020",
         "Machine Learning Scientist",
         "Senior",
         "FT",
         "JP",
         "S",
         "0",
         "248257.0"
        ],
        [
         "2",
         "2020",
         "Big Data Engineer",
         "Senior",
         "FT",
         "GB",
         "M",
         "50",
         "104100.0"
        ],
        [
         "3",
         "2020",
         "Product Data Analyst",
         "Mid",
         "FT",
         "HN",
         "S",
         "0",
         "19097.0"
        ],
        [
         "4",
         "2020",
         "Machine Learning Engineer",
         "Senior",
         "FT",
         "US",
         "L",
         "50",
         "143225.0"
        ]
       ],
       "shape": {
        "columns": 8,
        "rows": 5
       }
      },
      "text/html": [
       "<div>\n",
       "<style scoped>\n",
       "    .dataframe tbody tr th:only-of-type {\n",
       "        vertical-align: middle;\n",
       "    }\n",
       "\n",
       "    .dataframe tbody tr th {\n",
       "        vertical-align: top;\n",
       "    }\n",
       "\n",
       "    .dataframe thead th {\n",
       "        text-align: right;\n",
       "    }\n",
       "</style>\n",
       "<table border=\"1\" class=\"dataframe\">\n",
       "  <thead>\n",
       "    <tr style=\"text-align: right;\">\n",
       "      <th></th>\n",
       "      <th>Working_Year</th>\n",
       "      <th>Designation</th>\n",
       "      <th>Experience</th>\n",
       "      <th>Employment_Status</th>\n",
       "      <th>Employee_Location</th>\n",
       "      <th>Company_Size</th>\n",
       "      <th>Remote_Working_Ratio</th>\n",
       "      <th>Salary_USD</th>\n",
       "    </tr>\n",
       "  </thead>\n",
       "  <tbody>\n",
       "    <tr>\n",
       "      <th>0</th>\n",
       "      <td>2020</td>\n",
       "      <td>Data Scientist</td>\n",
       "      <td>Mid</td>\n",
       "      <td>FT</td>\n",
       "      <td>DE</td>\n",
       "      <td>L</td>\n",
       "      <td>0</td>\n",
       "      <td>76227.0</td>\n",
       "    </tr>\n",
       "    <tr>\n",
       "      <th>1</th>\n",
       "      <td>2020</td>\n",
       "      <td>Machine Learning Scientist</td>\n",
       "      <td>Senior</td>\n",
       "      <td>FT</td>\n",
       "      <td>JP</td>\n",
       "      <td>S</td>\n",
       "      <td>0</td>\n",
       "      <td>248257.0</td>\n",
       "    </tr>\n",
       "    <tr>\n",
       "      <th>2</th>\n",
       "      <td>2020</td>\n",
       "      <td>Big Data Engineer</td>\n",
       "      <td>Senior</td>\n",
       "      <td>FT</td>\n",
       "      <td>GB</td>\n",
       "      <td>M</td>\n",
       "      <td>50</td>\n",
       "      <td>104100.0</td>\n",
       "    </tr>\n",
       "    <tr>\n",
       "      <th>3</th>\n",
       "      <td>2020</td>\n",
       "      <td>Product Data Analyst</td>\n",
       "      <td>Mid</td>\n",
       "      <td>FT</td>\n",
       "      <td>HN</td>\n",
       "      <td>S</td>\n",
       "      <td>0</td>\n",
       "      <td>19097.0</td>\n",
       "    </tr>\n",
       "    <tr>\n",
       "      <th>4</th>\n",
       "      <td>2020</td>\n",
       "      <td>Machine Learning Engineer</td>\n",
       "      <td>Senior</td>\n",
       "      <td>FT</td>\n",
       "      <td>US</td>\n",
       "      <td>L</td>\n",
       "      <td>50</td>\n",
       "      <td>143225.0</td>\n",
       "    </tr>\n",
       "  </tbody>\n",
       "</table>\n",
       "</div>"
      ],
      "text/plain": [
       "   Working_Year                 Designation Experience Employment_Status  \\\n",
       "0          2020              Data Scientist        Mid                FT   \n",
       "1          2020  Machine Learning Scientist     Senior                FT   \n",
       "2          2020           Big Data Engineer     Senior                FT   \n",
       "3          2020        Product Data Analyst        Mid                FT   \n",
       "4          2020   Machine Learning Engineer     Senior                FT   \n",
       "\n",
       "  Employee_Location Company_Size  Remote_Working_Ratio  Salary_USD  \n",
       "0                DE            L                     0     76227.0  \n",
       "1                JP            S                     0    248257.0  \n",
       "2                GB            M                    50    104100.0  \n",
       "3                HN            S                     0     19097.0  \n",
       "4                US            L                    50    143225.0  "
      ]
     },
     "execution_count": 55,
     "metadata": {},
     "output_type": "execute_result"
    }
   ],
   "source": [
    "salaries.head()"
   ]
  },
  {
   "cell_type": "code",
   "execution_count": 56,
   "id": "HR2tbgpbiOYI",
   "metadata": {
    "colab": {
     "base_uri": "https://localhost:8080/",
     "height": 34
    },
    "id": "HR2tbgpbiOYI",
    "outputId": "8ec700a4-c2f7-471a-ebb7-85178906afda"
   },
   "outputs": [
    {
     "data": {
      "text/plain": [
       "50"
      ]
     },
     "metadata": {},
     "output_type": "display_data"
    }
   ],
   "source": [
    "display(salaries[\"Designation\"].nunique())"
   ]
  },
  {
   "cell_type": "markdown",
   "id": "XEtl6PnarR8w",
   "metadata": {
    "id": "XEtl6PnarR8w"
   },
   "source": [
    "### Extracting values from categories\n",
    "- Current format limits our ability to generate insights\n",
    "- `pandas.Series.srt.contains()`\n",
    "-- Search a column for a specific string or multiple strings\n",
    "`salaries[\"Designation].str.contains(\"Scientist\")`"
   ]
  },
  {
   "cell_type": "code",
   "execution_count": 57,
   "id": "6yIjc4CIi8ia",
   "metadata": {
    "colab": {
     "base_uri": "https://localhost:8080/",
     "height": 458
    },
    "id": "6yIjc4CIi8ia",
    "outputId": "0ceaf970-c1e6-42b4-bd31-c5abeac26f5f"
   },
   "outputs": [
    {
     "data": {
      "application/vnd.microsoft.datawrangler.viewer.v0+json": {
       "columns": [
        {
         "name": "index",
         "rawType": "int64",
         "type": "integer"
        },
        {
         "name": "Designation",
         "rawType": "bool",
         "type": "boolean"
        }
       ],
       "ref": "6a5c9a5b-643a-493e-9ca5-a70e8edf9609",
       "rows": [
        [
         "0",
         "True"
        ],
        [
         "1",
         "True"
        ],
        [
         "2",
         "False"
        ],
        [
         "3",
         "False"
        ],
        [
         "4",
         "False"
        ],
        [
         "5",
         "False"
        ],
        [
         "6",
         "True"
        ],
        [
         "7",
         "True"
        ],
        [
         "8",
         "False"
        ],
        [
         "9",
         "False"
        ],
        [
         "10",
         "True"
        ],
        [
         "11",
         "True"
        ],
        [
         "12",
         "True"
        ],
        [
         "13",
         "False"
        ],
        [
         "14",
         "False"
        ],
        [
         "15",
         "False"
        ],
        [
         "16",
         "False"
        ],
        [
         "17",
         "False"
        ],
        [
         "18",
         "False"
        ],
        [
         "19",
         "False"
        ],
        [
         "20",
         "False"
        ],
        [
         "21",
         "False"
        ],
        [
         "22",
         "False"
        ],
        [
         "23",
         "False"
        ],
        [
         "24",
         "True"
        ],
        [
         "25",
         "False"
        ],
        [
         "26",
         "True"
        ],
        [
         "27",
         "False"
        ],
        [
         "28",
         "False"
        ],
        [
         "29",
         "False"
        ],
        [
         "30",
         "False"
        ],
        [
         "31",
         "False"
        ],
        [
         "32",
         "True"
        ],
        [
         "33",
         "True"
        ],
        [
         "34",
         "False"
        ],
        [
         "35",
         "False"
        ],
        [
         "36",
         "False"
        ],
        [
         "37",
         "False"
        ],
        [
         "38",
         "False"
        ],
        [
         "39",
         "False"
        ],
        [
         "40",
         "True"
        ],
        [
         "41",
         "False"
        ],
        [
         "42",
         "False"
        ],
        [
         "43",
         "False"
        ],
        [
         "44",
         "False"
        ],
        [
         "45",
         "False"
        ],
        [
         "46",
         "True"
        ],
        [
         "47",
         "False"
        ],
        [
         "48",
         "True"
        ],
        [
         "49",
         "False"
        ]
       ],
       "shape": {
        "columns": 1,
        "rows": 607
       }
      },
      "text/plain": [
       "0       True\n",
       "1       True\n",
       "2      False\n",
       "3      False\n",
       "4      False\n",
       "       ...  \n",
       "602    False\n",
       "603    False\n",
       "604    False\n",
       "605    False\n",
       "606     True\n",
       "Name: Designation, Length: 607, dtype: bool"
      ]
     },
     "execution_count": 57,
     "metadata": {},
     "output_type": "execute_result"
    }
   ],
   "source": [
    "salaries[\"Designation\"].str.contains(\"Scientist\")"
   ]
  },
  {
   "cell_type": "markdown",
   "id": "AwcOj7DDrpK5",
   "metadata": {
    "id": "AwcOj7DDrpK5"
   },
   "source": [
    "### Finding multiple phrases in strings\n",
    "- Words of interest: Machine Learning or AI"
   ]
  },
  {
   "cell_type": "code",
   "execution_count": 58,
   "id": "JjVNJjnJq6aq",
   "metadata": {
    "colab": {
     "base_uri": "https://localhost:8080/",
     "height": 458
    },
    "id": "JjVNJjnJq6aq",
    "outputId": "472e25ec-d514-44a3-a77a-103d280a4003"
   },
   "outputs": [
    {
     "data": {
      "application/vnd.microsoft.datawrangler.viewer.v0+json": {
       "columns": [
        {
         "name": "index",
         "rawType": "int64",
         "type": "integer"
        },
        {
         "name": "Designation",
         "rawType": "bool",
         "type": "boolean"
        }
       ],
       "ref": "da23d8f3-58a0-4572-a2fc-c0872f44cbae",
       "rows": [
        [
         "0",
         "False"
        ],
        [
         "1",
         "True"
        ],
        [
         "2",
         "False"
        ],
        [
         "3",
         "False"
        ],
        [
         "4",
         "True"
        ],
        [
         "5",
         "False"
        ],
        [
         "6",
         "False"
        ],
        [
         "7",
         "False"
        ],
        [
         "8",
         "False"
        ],
        [
         "9",
         "False"
        ],
        [
         "10",
         "False"
        ],
        [
         "11",
         "False"
        ],
        [
         "12",
         "False"
        ],
        [
         "13",
         "False"
        ],
        [
         "14",
         "False"
        ],
        [
         "15",
         "False"
        ],
        [
         "16",
         "False"
        ],
        [
         "17",
         "False"
        ],
        [
         "18",
         "False"
        ],
        [
         "19",
         "False"
        ],
        [
         "20",
         "True"
        ],
        [
         "21",
         "False"
        ],
        [
         "22",
         "False"
        ],
        [
         "23",
         "False"
        ],
        [
         "24",
         "False"
        ],
        [
         "25",
         "False"
        ],
        [
         "26",
         "False"
        ],
        [
         "27",
         "False"
        ],
        [
         "28",
         "False"
        ],
        [
         "29",
         "True"
        ],
        [
         "30",
         "False"
        ],
        [
         "31",
         "False"
        ],
        [
         "32",
         "False"
        ],
        [
         "33",
         "False"
        ],
        [
         "34",
         "False"
        ],
        [
         "35",
         "False"
        ],
        [
         "36",
         "False"
        ],
        [
         "37",
         "True"
        ],
        [
         "38",
         "False"
        ],
        [
         "39",
         "True"
        ],
        [
         "40",
         "False"
        ],
        [
         "41",
         "False"
        ],
        [
         "42",
         "True"
        ],
        [
         "43",
         "False"
        ],
        [
         "44",
         "False"
        ],
        [
         "45",
         "False"
        ],
        [
         "46",
         "False"
        ],
        [
         "47",
         "False"
        ],
        [
         "48",
         "False"
        ],
        [
         "49",
         "False"
        ]
       ],
       "shape": {
        "columns": 1,
        "rows": 607
       }
      },
      "text/plain": [
       "0      False\n",
       "1       True\n",
       "2      False\n",
       "3      False\n",
       "4       True\n",
       "       ...  \n",
       "602    False\n",
       "603    False\n",
       "604    False\n",
       "605    False\n",
       "606     True\n",
       "Name: Designation, Length: 607, dtype: bool"
      ]
     },
     "execution_count": 58,
     "metadata": {},
     "output_type": "execute_result"
    }
   ],
   "source": [
    "salaries[\"Designation\"].str.contains(\"Machine Learning|AI\")"
   ]
  },
  {
   "cell_type": "markdown",
   "id": "gJRMdEKQry_8",
   "metadata": {
    "id": "gJRMdEKQry_8"
   },
   "source": [
    "- Words of interest: Any that start with Data"
   ]
  },
  {
   "cell_type": "code",
   "execution_count": 59,
   "id": "u-qfAliBrBer",
   "metadata": {
    "colab": {
     "base_uri": "https://localhost:8080/",
     "height": 458
    },
    "id": "u-qfAliBrBer",
    "outputId": "5639e5ed-e8e6-4b09-b863-c522693b7d37"
   },
   "outputs": [
    {
     "data": {
      "application/vnd.microsoft.datawrangler.viewer.v0+json": {
       "columns": [
        {
         "name": "index",
         "rawType": "int64",
         "type": "integer"
        },
        {
         "name": "Designation",
         "rawType": "bool",
         "type": "boolean"
        }
       ],
       "ref": "3183e411-2953-4ffb-a806-9bb62e3a8c86",
       "rows": [
        [
         "0",
         "True"
        ],
        [
         "1",
         "False"
        ],
        [
         "2",
         "False"
        ],
        [
         "3",
         "False"
        ],
        [
         "4",
         "False"
        ],
        [
         "5",
         "True"
        ],
        [
         "6",
         "False"
        ],
        [
         "7",
         "True"
        ],
        [
         "8",
         "False"
        ],
        [
         "9",
         "False"
        ],
        [
         "10",
         "True"
        ],
        [
         "11",
         "True"
        ],
        [
         "12",
         "True"
        ],
        [
         "13",
         "False"
        ],
        [
         "14",
         "True"
        ],
        [
         "15",
         "True"
        ],
        [
         "16",
         "True"
        ],
        [
         "17",
         "False"
        ],
        [
         "18",
         "True"
        ],
        [
         "19",
         "False"
        ],
        [
         "20",
         "False"
        ],
        [
         "21",
         "False"
        ],
        [
         "22",
         "True"
        ],
        [
         "23",
         "False"
        ],
        [
         "24",
         "False"
        ],
        [
         "25",
         "False"
        ],
        [
         "26",
         "False"
        ],
        [
         "27",
         "True"
        ],
        [
         "28",
         "False"
        ],
        [
         "29",
         "False"
        ],
        [
         "30",
         "True"
        ],
        [
         "31",
         "False"
        ],
        [
         "32",
         "True"
        ],
        [
         "33",
         "False"
        ],
        [
         "34",
         "True"
        ],
        [
         "35",
         "True"
        ],
        [
         "36",
         "True"
        ],
        [
         "37",
         "False"
        ],
        [
         "38",
         "True"
        ],
        [
         "39",
         "False"
        ],
        [
         "40",
         "True"
        ],
        [
         "41",
         "True"
        ],
        [
         "42",
         "False"
        ],
        [
         "43",
         "True"
        ],
        [
         "44",
         "True"
        ],
        [
         "45",
         "False"
        ],
        [
         "46",
         "True"
        ],
        [
         "47",
         "True"
        ],
        [
         "48",
         "True"
        ],
        [
         "49",
         "True"
        ]
       ],
       "shape": {
        "columns": 1,
        "rows": 607
       }
      },
      "text/plain": [
       "0       True\n",
       "1      False\n",
       "2      False\n",
       "3      False\n",
       "4      False\n",
       "       ...  \n",
       "602     True\n",
       "603     True\n",
       "604     True\n",
       "605     True\n",
       "606    False\n",
       "Name: Designation, Length: 607, dtype: bool"
      ]
     },
     "execution_count": 59,
     "metadata": {},
     "output_type": "execute_result"
    }
   ],
   "source": [
    "salaries[\"Designation\"].str.contains(\"^Data\")"
   ]
  },
  {
   "cell_type": "markdown",
   "id": "CgE9IqBsr9et",
   "metadata": {
    "id": "CgE9IqBsr9et"
   },
   "source": [
    "- Using a list with categories of interest"
   ]
  },
  {
   "cell_type": "code",
   "execution_count": 60,
   "id": "ifTcWpJSrKJY",
   "metadata": {
    "id": "ifTcWpJSrKJY"
   },
   "outputs": [],
   "source": [
    "job_categories = [\"Data Science\", \"Data Analytics\", \"Data Engineering\", \"Machine Learning\", \"Managerial\", \"Consultant\"]"
   ]
  },
  {
   "cell_type": "code",
   "execution_count": 61,
   "id": "DhqNuhVosR9O",
   "metadata": {
    "id": "DhqNuhVosR9O"
   },
   "outputs": [],
   "source": [
    "data_science = \"Data Scientist|NLP\"\n",
    "data_analyst = \"Analyst|Analytics\"\n",
    "data_engineer = \"Data Engineer|ETL|Architect|Infrastructure\"\n",
    "ml_enngineer = \"Machine Learning|ML|Big Data|AI\"\n",
    "manager = \"Manager|Head|Director|Lead|Principal|Staff\"\n",
    "consultant = \"Consultant|Freelance\""
   ]
  },
  {
   "cell_type": "code",
   "execution_count": 62,
   "id": "OFtseSEdsroa",
   "metadata": {
    "id": "OFtseSEdsroa"
   },
   "outputs": [],
   "source": [
    "conditions = [\n",
    "    (salaries[\"Designation\"].str.contains(data_science)),\n",
    "    (salaries[\"Designation\"].str.contains(data_analyst)),\n",
    "    (salaries[\"Designation\"].str.contains(data_engineer)),\n",
    "    (salaries[\"Designation\"].str.contains(ml_enngineer)),\n",
    "    (salaries[\"Designation\"].str.contains(manager)),\n",
    "    (salaries[\"Designation\"].str.contains(consultant))\n",
    "]"
   ]
  },
  {
   "cell_type": "markdown",
   "id": "k3bEyZ8etiOo",
   "metadata": {
    "id": "k3bEyZ8etiOo"
   },
   "source": [
    "### Creating the categorical column"
   ]
  },
  {
   "cell_type": "code",
   "execution_count": 63,
   "id": "UA6nxl0AtOxU",
   "metadata": {
    "id": "UA6nxl0AtOxU"
   },
   "outputs": [],
   "source": [
    "salaries[\"Job_Category\"] = np.select(conditions,\n",
    "                                   job_categories,\n",
    "                                   default=\"Other\")"
   ]
  },
  {
   "cell_type": "code",
   "execution_count": 64,
   "id": "cq-XT3ZOtZ7f",
   "metadata": {
    "colab": {
     "base_uri": "https://localhost:8080/",
     "height": 206
    },
    "id": "cq-XT3ZOtZ7f",
    "outputId": "e8a4cfc6-b750-4ac6-8a28-09f9448b0672"
   },
   "outputs": [
    {
     "data": {
      "application/vnd.microsoft.datawrangler.viewer.v0+json": {
       "columns": [
        {
         "name": "index",
         "rawType": "int64",
         "type": "integer"
        },
        {
         "name": "Designation",
         "rawType": "object",
         "type": "string"
        },
        {
         "name": "Job_Category",
         "rawType": "object",
         "type": "string"
        }
       ],
       "ref": "2f68538f-f3a1-4d2e-8594-a27ab5a57c99",
       "rows": [
        [
         "0",
         "Data Scientist",
         "Data Science"
        ],
        [
         "1",
         "Machine Learning Scientist",
         "Machine Learning"
        ],
        [
         "2",
         "Big Data Engineer",
         "Data Engineering"
        ],
        [
         "3",
         "Product Data Analyst",
         "Data Analytics"
        ],
        [
         "4",
         "Machine Learning Engineer",
         "Machine Learning"
        ]
       ],
       "shape": {
        "columns": 2,
        "rows": 5
       }
      },
      "text/html": [
       "<div>\n",
       "<style scoped>\n",
       "    .dataframe tbody tr th:only-of-type {\n",
       "        vertical-align: middle;\n",
       "    }\n",
       "\n",
       "    .dataframe tbody tr th {\n",
       "        vertical-align: top;\n",
       "    }\n",
       "\n",
       "    .dataframe thead th {\n",
       "        text-align: right;\n",
       "    }\n",
       "</style>\n",
       "<table border=\"1\" class=\"dataframe\">\n",
       "  <thead>\n",
       "    <tr style=\"text-align: right;\">\n",
       "      <th></th>\n",
       "      <th>Designation</th>\n",
       "      <th>Job_Category</th>\n",
       "    </tr>\n",
       "  </thead>\n",
       "  <tbody>\n",
       "    <tr>\n",
       "      <th>0</th>\n",
       "      <td>Data Scientist</td>\n",
       "      <td>Data Science</td>\n",
       "    </tr>\n",
       "    <tr>\n",
       "      <th>1</th>\n",
       "      <td>Machine Learning Scientist</td>\n",
       "      <td>Machine Learning</td>\n",
       "    </tr>\n",
       "    <tr>\n",
       "      <th>2</th>\n",
       "      <td>Big Data Engineer</td>\n",
       "      <td>Data Engineering</td>\n",
       "    </tr>\n",
       "    <tr>\n",
       "      <th>3</th>\n",
       "      <td>Product Data Analyst</td>\n",
       "      <td>Data Analytics</td>\n",
       "    </tr>\n",
       "    <tr>\n",
       "      <th>4</th>\n",
       "      <td>Machine Learning Engineer</td>\n",
       "      <td>Machine Learning</td>\n",
       "    </tr>\n",
       "  </tbody>\n",
       "</table>\n",
       "</div>"
      ],
      "text/plain": [
       "                  Designation      Job_Category\n",
       "0              Data Scientist      Data Science\n",
       "1  Machine Learning Scientist  Machine Learning\n",
       "2           Big Data Engineer  Data Engineering\n",
       "3        Product Data Analyst    Data Analytics\n",
       "4   Machine Learning Engineer  Machine Learning"
      ]
     },
     "metadata": {},
     "output_type": "display_data"
    }
   ],
   "source": [
    "display(salaries[[\"Designation\", \"Job_Category\"]].head())"
   ]
  },
  {
   "cell_type": "markdown",
   "id": "Xco-g27Ft1XH",
   "metadata": {
    "id": "Xco-g27Ft1XH"
   },
   "source": [
    "### Visualizing job category frequency"
   ]
  },
  {
   "cell_type": "code",
   "execution_count": 65,
   "id": "0CFqajTWtuz3",
   "metadata": {
    "colab": {
     "base_uri": "https://localhost:8080/",
     "height": 487
    },
    "id": "0CFqajTWtuz3",
    "outputId": "4042dcba-bd35-431f-973f-9905ee4c37cd"
   },
   "outputs": [
    {
     "name": "stderr",
     "output_type": "stream",
     "text": [
      "C:\\Users\\lerea\\AppData\\Local\\Temp\\ipykernel_9596\\978416624.py:8: UserWarning: set_ticklabels() should only be used with a fixed number of ticks, i.e. after set_ticks() or using a FixedLocator.\n",
      "  ax.set_xticklabels(ax.get_xticklabels(), ha='right', rotation_mode='anchor')\n"
     ]
    },
    {
     "data": {
      "image/png": "[encoded data removed]",
      "text/plain": [
       "<Figure size 1000x600 with 1 Axes>"
      ]
     },
     "metadata": {},
     "output_type": "display_data"
    }
   ],
   "source": [
    "fig, ax = plt.subplots(figsize=(10, 6))\n",
    "sns.countplot(data=salaries, x=\"Job_Category\", hue=\"Job_Category\", palette='coolwarm', ax=ax)\n",
    "ax.set(title=\"Distribution of Job Categories in Data Science\",\n",
    "       xlabel=\"Job Category\",\n",
    "       ylabel=\"Count per Category\")\n",
    "# Rotate x-axis labels using the OOP approach\n",
    "ax.tick_params(axis='x', labelrotation=45)\n",
    "ax.set_xticklabels(ax.get_xticklabels(), ha='right', rotation_mode='anchor')\n",
    "plt.tight_layout()\n",
    "plt.show()"
   ]
  },
  {
   "cell_type": "markdown",
   "id": "V2Rvu8T4wif2",
   "metadata": {
    "id": "V2Rvu8T4wif2"
   },
   "source": [
    "### Finding the number of unique values\n",
    "You would like to practice some of the categorical data manipulation and analysis skills that you've just seen. To help identify which data could be reformatted to extract value, you are going to find out which non-numeric columns in the planes dataset have a large number of unique values."
   ]
  },
  {
   "cell_type": "code",
   "execution_count": 66,
   "id": "pPhho-Oht8uq",
   "metadata": {
    "colab": {
     "base_uri": "https://localhost:8080/"
    },
    "id": "pPhho-Oht8uq",
    "outputId": "b2766d11-d5a9-4bb1-c7ff-6afc87227d50"
   },
   "outputs": [
    {
     "name": "stdout",
     "output_type": "stream",
     "text": [
      "Number of unique values in Airline column:  8\n",
      "Number of unique values in Date_of_Journey column:  44\n",
      "Number of unique values in Source column:  5\n",
      "Number of unique values in Destination column:  6\n",
      "Number of unique values in Route column:  122\n",
      "Number of unique values in Dep_Time column:  218\n",
      "Number of unique values in Arrival_Time column:  1200\n",
      "Number of unique values in Duration column:  362\n",
      "Number of unique values in Total_Stops column:  5\n",
      "Number of unique values in Additional_Info column:  9\n",
      "Number of unique values in Additional_Info_Category column:  2\n"
     ]
    }
   ],
   "source": [
    "# Filter the DataFrame for object columns\n",
    "non_numeric = planes.select_dtypes(\"object\")\n",
    "# Loop through columns\n",
    "for column in non_numeric.columns:\n",
    "    # Print the number of unique values\n",
    "    print(f\"Number of unique values in {column} column: \", non_numeric[column].nunique())"
   ]
  },
  {
   "cell_type": "markdown",
   "id": "7qRvWaGcx-Xo",
   "metadata": {
    "id": "7qRvWaGcx-Xo"
   },
   "source": [
    "### Flight duration categories\n",
    "As you saw, there are 362 unique values in the `\"Duration\"` column of planes. Calling `planes[\"Duration\"].head()`, we see the following values:\n",
    "\n",
    "```\n",
    "0        19h\n",
    "1     5h 25m\n",
    "2     4h 45m\n",
    "3     2h 25m\n",
    "4    15h 30m\n",
    "Name: Duration, dtype: object`\n",
    "```\n",
    "\n",
    "Looks like this won't be simple to convert to numbers. However, you could categorize flights by duration and examine the frequency of different flight lengths!\n",
    "\n",
    "You'll create a `\"Duration_Category\"` column in the planes DataFrame. Before you can do this you'll need to create a list of the values you would like to insert into the DataFrame, followed by the existing values that these should be created from."
   ]
  },
  {
   "cell_type": "code",
   "execution_count": 67,
   "id": "ODIN45jXywbF",
   "metadata": {
    "colab": {
     "base_uri": "https://localhost:8080/",
     "height": 241
    },
    "id": "ODIN45jXywbF",
    "outputId": "8cfcc0a6-da85-45ad-a346-1ac2261831a2"
   },
   "outputs": [
    {
     "data": {
      "application/vnd.microsoft.datawrangler.viewer.v0+json": {
       "columns": [
        {
         "name": "index",
         "rawType": "int64",
         "type": "integer"
        },
        {
         "name": "Duration",
         "rawType": "object",
         "type": "string"
        }
       ],
       "ref": "dfb20f38-4590-458b-9653-cbe04a6a940e",
       "rows": [
        [
         "0",
         "19h"
        ],
        [
         "1",
         "5h 25m"
        ],
        [
         "2",
         "4h 45m"
        ],
        [
         "3",
         "2h 25m"
        ],
        [
         "4",
         "15h 30m"
        ]
       ],
       "shape": {
        "columns": 1,
        "rows": 5
       }
      },
      "text/plain": [
       "0        19h\n",
       "1     5h 25m\n",
       "2     4h 45m\n",
       "3     2h 25m\n",
       "4    15h 30m\n",
       "Name: Duration, dtype: object"
      ]
     },
     "execution_count": 67,
     "metadata": {},
     "output_type": "execute_result"
    }
   ],
   "source": [
    "planes[\"Duration\"].head()"
   ]
  },
  {
   "cell_type": "code",
   "execution_count": 68,
   "id": "SjFuAJA-xy7M",
   "metadata": {
    "id": "SjFuAJA-xy7M"
   },
   "outputs": [],
   "source": [
    "# Create a list of categories\n",
    "flight_categories = [\"Short-haul\", \"Medium\", \"Long-haul\"]\n",
    "\n",
    "# Create short-haul values\n",
    "short_flights = \"^0h|^1h|^2h|^3h|^4H\"\n",
    "\n",
    "# Create medium-haul values\n",
    "medium_flights = \"^5h|^6h|^7h|^8h|^9h\"\n",
    "\n",
    "# Create long-haul values\n",
    "long_flights = \"10h|11h|12h|13h|14h|15h|16h\""
   ]
  },
  {
   "cell_type": "markdown",
   "id": "G2cfCtUyzwCi",
   "metadata": {
    "id": "G2cfCtUyzwCi"
   },
   "source": [
    "### Adding duration categories\n",
    "Now that you've set up the categories and values you want to capture, it's time to build a new column to analyze the frequency of flights by duration!\n",
    "\n",
    "The variables `flight_categories`, `short_flights`, `medium_flights`, and long_flights that you previously created are available to you."
   ]
  },
  {
   "cell_type": "markdown",
   "id": "O1bNqDr4bOLx",
   "metadata": {
    "id": "O1bNqDr4bOLx"
   },
   "source": [
    "Create conditions, a list containing subsets of planes\n",
    "`[\"Duration\"]` based on `short_flights`, `medium_flights`, and `long_flights`.\n",
    "\n",
    "Each condition is a boolean Series indicating whether the `'Duration'` string contains the specified patterns.\n",
    "\n"
   ]
  },
  {
   "cell_type": "code",
   "execution_count": 69,
   "id": "KiUUDYvmz1AC",
   "metadata": {
    "id": "KiUUDYvmz1AC"
   },
   "outputs": [],
   "source": [
    "conditions = [\n",
    "    (planes[\"Duration\"].str.contains(short_flights)),\n",
    "    (planes[\"Duration\"].str.contains(medium_flights)),\n",
    "    (planes[\"Duration\"].str.contains(long_flights))\n",
    "]"
   ]
  },
  {
   "cell_type": "markdown",
   "id": "qNyBquZMbml1",
   "metadata": {
    "id": "qNyBquZMbml1"
   },
   "source": [
    "Create the `\"Duration_Category\"` column using `np.select()`.\n",
    "\n",
    "`np.select(conditions, choicelist, default)` assigns values from choicelist based on the corresponding condition being True.\n",
    "\n",
    "`conditions`: A list of boolean arrays or Series.\n",
    "\n",
    "`choicelist`: A list of values to be assigned based on the conditions.\n",
    "\n",
    "`default`: The value to assign when none of the conditions are met."
   ]
  },
  {
   "cell_type": "code",
   "execution_count": 70,
   "id": "HgdZrtmlbjmh",
   "metadata": {
    "id": "HgdZrtmlbjmh"
   },
   "outputs": [],
   "source": [
    "planes[\"Duration_Category\"] = np.select(conditions,\n",
    "                                        flight_categories,\n",
    "                                        default=\"Extreme duration\")"
   ]
  },
  {
   "cell_type": "code",
   "execution_count": 71,
   "id": "x3OfRKQR0rkl",
   "metadata": {
    "colab": {
     "base_uri": "https://localhost:8080/",
     "height": 487
    },
    "id": "x3OfRKQR0rkl",
    "outputId": "3dd2af88-1554-4c8d-9eec-175218db2059"
   },
   "outputs": [
    {
     "data": {
      "image/png": "[encoded data removed]",
      "text/plain": [
       "<Figure size 640x480 with 1 Axes>"
      ]
     },
     "metadata": {},
     "output_type": "display_data"
    }
   ],
   "source": [
    "# Create a plot showing the count of each category.\n",
    "fig, ax = plt.subplots()\n",
    "\n",
    "# Use seaborn's countplot to visualize the frequency of each 'Duration_Category'.\n",
    "sns.countplot(data=planes, x=\"Duration_Category\", hue=\"Duration_Category\", palette=\"viridis\")\n",
    "\n",
    "# Set the title for the x-axis.\n",
    "ax.set_title(\"Distribution of Flight Durations by Category\", fontsize=12, pad=10, loc=\"center\")\n",
    "\n",
    "# Set the label for the x-axis to an empty string.\n",
    "ax.set_xlabel(\"\")\n",
    "\n",
    "# Set the label for the y-axis and its font size.\n",
    "ax.set_ylabel(\"Number of Flights\", fontsize=10)\n",
    "\n",
    "# Rotate the x-axis labels for better readability, especially with longer category names.\n",
    "plt.xticks(\n",
    "    rotation=45,         # Rotate labels by 45 degrees.\n",
    "    fontsize=10,          # Set the font size of the labels.\n",
    "    ha=\"right\",          # Horizontal alignment of the labels.\n",
    "    rotation_mode=\"anchor\" # Ensure the alignment is maintained after rotation.\n",
    ")\n",
    "\n",
    "# Adjust layout to prevent labels from overlapping.\n",
    "plt.tight_layout()\n",
    "plt.show()"
   ]
  },
  {
   "cell_type": "markdown",
   "id": "RCPVUCZ369Bu",
   "metadata": {
    "id": "RCPVUCZ369Bu"
   },
   "source": [
    "### Work with numerical data"
   ]
  },
  {
   "cell_type": "markdown",
   "id": "i9HzxBNDRpQZ",
   "metadata": {
    "id": "i9HzxBNDRpQZ"
   },
   "source": [
    "The original salaries dataset"
   ]
  },
  {
   "cell_type": "code",
   "execution_count": 72,
   "id": "bRUpz7Go1b_L",
   "metadata": {
    "colab": {
     "base_uri": "https://localhost:8080/"
    },
    "id": "bRUpz7Go1b_L",
    "outputId": "098c622c-1f11-4473-f96b-238fdb27017f"
   },
   "outputs": [
    {
     "name": "stdout",
     "output_type": "stream",
     "text": [
      "<class 'pandas.core.frame.DataFrame'>\n",
      "RangeIndex: 607 entries, 0 to 606\n",
      "Data columns (total 9 columns):\n",
      " #   Column                Non-Null Count  Dtype  \n",
      "---  ------                --------------  -----  \n",
      " 0   Working_Year          607 non-null    int64  \n",
      " 1   Designation           607 non-null    object \n",
      " 2   Experience            607 non-null    object \n",
      " 3   Employment_Status     607 non-null    object \n",
      " 4   Employee_Location     607 non-null    object \n",
      " 5   Company_Size          607 non-null    object \n",
      " 6   Remote_Working_Ratio  607 non-null    int64  \n",
      " 7   Salary_USD            607 non-null    float64\n",
      " 8   Job_Category          607 non-null    object \n",
      "dtypes: float64(1), int64(2), object(6)\n",
      "memory usage: 42.8+ KB\n",
      "None\n"
     ]
    }
   ],
   "source": [
    "print(salaries.info())"
   ]
  },
  {
   "cell_type": "markdown",
   "id": "7ScK0YijR6T0",
   "metadata": {
    "id": "7ScK0YijR6T0"
   },
   "source": [
    "### Converting strings to numbers\n",
    "\n",
    "\n",
    "```\n",
    "pd.Series.str.replace(\"characters to remove\", \"characters to replace them with\")\n",
    "```\n",
    "\n",
    "\n",
    "\n",
    "```\n",
    "salaries[\"Salary_In_Rupees\"] = salaries[\"Salary_In_Rupees\"].str.replace(\",\" , \"\")\n",
    "```\n",
    "\n",
    "\n",
    "\n",
    "```\n",
    "print(salary[\"Salary_In_Rupees\"].head())\n",
    "```\n",
    "\n",
    "\n",
    "```\n",
    "1  20688070.00\n",
    "2  8674985.00\n",
    "3  1591390.00\n",
    "4  11935425.00\n",
    "5  5729004.00\n",
    "Name: Satary_In_Rupees, dtype: object\n",
    "```\n",
    "\n",
    "Converting strings to numbers\n",
    "```\n",
    "salaries[\"Salary_In_Rupees\"] = salaries[\"Salary_In_Rupees\"].astype(float)\n",
    "```\n",
    "- 1 Indian Rupee = 0.012 US Dollars\n",
    "\n",
    "```\n",
    "salaries[\"Salary_USD\"] = salaries[\"Salary_In_Rupees\"] * 0.012\n",
    "```\n"
   ]
  },
  {
   "cell_type": "markdown",
   "id": "JwywSztJTgfQ",
   "metadata": {
    "id": "JwywSztJTgfQ"
   },
   "source": [
    "### Adding summary statistics into a DataFrame"
   ]
  },
  {
   "cell_type": "code",
   "execution_count": 73,
   "id": "P3KtKCFeRrjv",
   "metadata": {
    "colab": {
     "base_uri": "https://localhost:8080/",
     "height": 210
    },
    "id": "P3KtKCFeRrjv",
    "outputId": "a2662c2d-33e2-4f3c-fff5-88df7343641d"
   },
   "outputs": [
    {
     "data": {
      "application/vnd.microsoft.datawrangler.viewer.v0+json": {
       "columns": [
        {
         "name": "Company_Size",
         "rawType": "object",
         "type": "string"
        },
        {
         "name": "Salary_USD",
         "rawType": "float64",
         "type": "float"
        }
       ],
       "ref": "94bdb9b7-eeee-41ec-929b-9e23e3f3b51b",
       "rows": [
        [
         "L",
         "113857.28282828283"
        ],
        [
         "M",
         "111625.3282208589"
        ],
        [
         "S",
         "74126.31325301205"
        ]
       ],
       "shape": {
        "columns": 1,
        "rows": 3
       }
      },
      "text/plain": [
       "Company_Size\n",
       "L    113857.282828\n",
       "M    111625.328221\n",
       "S     74126.313253\n",
       "Name: Salary_USD, dtype: float64"
      ]
     },
     "execution_count": 73,
     "metadata": {},
     "output_type": "execute_result"
    }
   ],
   "source": [
    "salaries.groupby(\"Company_Size\")[\"Salary_USD\"].mean()"
   ]
  },
  {
   "cell_type": "markdown",
   "id": "NRQ4z19kUgdo",
   "metadata": {
    "id": "NRQ4z19kUgdo"
   },
   "source": [
    "### Calculate the standard deviation of 'Salary_USD' for each 'Experience' level and add it as a new column.\n",
    "This is achieved by:\n",
    "1. Grouping the DataFrame by the `'Experience'` column.\n",
    "2. Selecting the `'Salary_USD'` column to perform the aggregation on.\n",
    "3. Using the `.transform()` method with a lambda function `(lambda x: x.std())`.\n",
    "    - `.transform()` applies a function to each group and returns a Series/DataFrame with the same index as the original DataFrame.\n",
    "    - The lambda function `x.std()` calculates the standard deviation for each group (each experience level).\n",
    "    - The result (the standard deviation for each group) is then broadcast back to all rows belonging to that group."
   ]
  },
  {
   "cell_type": "code",
   "execution_count": 74,
   "id": "rpEasnDgTnAv",
   "metadata": {
    "id": "rpEasnDgTnAv"
   },
   "outputs": [],
   "source": [
    "salaries[\"std_dev\"] = salaries.groupby(\"Experience\")[\"Salary_USD\"].transform(lambda x: x.std())"
   ]
  },
  {
   "cell_type": "code",
   "execution_count": 75,
   "id": "fW0sUZL4T7_j",
   "metadata": {
    "colab": {
     "base_uri": "https://localhost:8080/",
     "height": 241
    },
    "id": "fW0sUZL4T7_j",
    "outputId": "bf1a81b2-899a-499a-d378-30f7319f337a"
   },
   "outputs": [
    {
     "data": {
      "application/vnd.microsoft.datawrangler.viewer.v0+json": {
       "columns": [
        {
         "name": "('Experience', 'std_dev')",
         "rawType": "object",
         "type": "unknown"
        },
        {
         "name": "count",
         "rawType": "int64",
         "type": "integer"
        }
       ],
       "ref": "1cf180ae-8013-4e9c-8bbd-1edd863e5367",
       "rows": [
        [
         "('Senior', np.float64(55086.26407051483))",
         "280"
        ],
        [
         "('Mid', np.float64(61014.876753979115))",
         "213"
        ],
        [
         "('Entry', np.float64(42390.35518937503))",
         "88"
        ],
        [
         "('Executive', np.float64(111783.57677881226))",
         "26"
        ]
       ],
       "shape": {
        "columns": 1,
        "rows": 4
       }
      },
      "text/plain": [
       "Experience  std_dev      \n",
       "Senior      55086.264071     280\n",
       "Mid         61014.876754     213\n",
       "Entry       42390.355189      88\n",
       "Executive   111783.576779     26\n",
       "Name: count, dtype: int64"
      ]
     },
     "metadata": {},
     "output_type": "display_data"
    }
   ],
   "source": [
    "display(salaries[[\"Experience\", \"std_dev\"]].value_counts())"
   ]
  },
  {
   "cell_type": "markdown",
   "id": "3QlvJlZhVB-Q",
   "metadata": {
    "id": "3QlvJlZhVB-Q"
   },
   "source": [
    "Repeating the process for other summary statistics"
   ]
  },
  {
   "cell_type": "code",
   "execution_count": 76,
   "id": "pOld5BM0UHPS",
   "metadata": {
    "id": "pOld5BM0UHPS"
   },
   "outputs": [],
   "source": [
    "salaries[\"median_by_comp_size\"] = salaries.groupby(\"Company_Size\")[\"Salary_USD\"].transform(lambda x:x.median())"
   ]
  },
  {
   "cell_type": "code",
   "execution_count": 77,
   "id": "xYe-fG2zVPMh",
   "metadata": {
    "colab": {
     "base_uri": "https://localhost:8080/",
     "height": 210
    },
    "id": "xYe-fG2zVPMh",
    "outputId": "100cd6db-5e84-4adc-89f2-fa750c82f60a"
   },
   "outputs": [
    {
     "data": {
      "application/vnd.microsoft.datawrangler.viewer.v0+json": {
       "columns": [
        {
         "name": "('Company_Size', 'median_by_comp_size')",
         "rawType": "object",
         "type": "unknown"
        },
        {
         "name": "count",
         "rawType": "int64",
         "type": "integer"
        }
       ],
       "ref": "79e3eac8-3223-4d83-b731-b469e7ae5e2f",
       "rows": [
        [
         "('M', np.float64(108076.0))",
         "326"
        ],
        [
         "('L', np.float64(95483.0))",
         "198"
        ],
        [
         "('S', np.float64(62064.0))",
         "83"
        ]
       ],
       "shape": {
        "columns": 1,
        "rows": 3
       }
      },
      "text/plain": [
       "Company_Size  median_by_comp_size\n",
       "M             108076.0               326\n",
       "L             95483.0                198\n",
       "S             62064.0                 83\n",
       "Name: count, dtype: int64"
      ]
     },
     "metadata": {},
     "output_type": "display_data"
    }
   ],
   "source": [
    "display(salaries[[\"Company_Size\", \"median_by_comp_size\"]].value_counts())"
   ]
  },
  {
   "cell_type": "markdown",
   "id": "xhkyR0pvXsMZ",
   "metadata": {
    "id": "xhkyR0pvXsMZ"
   },
   "source": [
    "### Flight duration\n",
    "You would like to analyze the duration of flights, but unfortunately, the `\"Duration\"` column in the planes DataFrame currently contains string values."
   ]
  },
  {
   "cell_type": "code",
   "execution_count": 78,
   "id": "CzdU-P1sXqoc",
   "metadata": {
    "colab": {
     "base_uri": "https://localhost:8080/",
     "height": 241
    },
    "id": "CzdU-P1sXqoc",
    "outputId": "e30d5d34-ebf1-4b55-dc31-9a7b69183481"
   },
   "outputs": [
    {
     "data": {
      "application/vnd.microsoft.datawrangler.viewer.v0+json": {
       "columns": [
        {
         "name": "index",
         "rawType": "int64",
         "type": "integer"
        },
        {
         "name": "Duration",
         "rawType": "object",
         "type": "string"
        }
       ],
       "ref": "c0f5beba-2e16-4156-8b93-375f2dee3253",
       "rows": [
        [
         "0",
         "19h"
        ],
        [
         "1",
         "5h 25m"
        ],
        [
         "2",
         "4h 45m"
        ],
        [
         "3",
         "2h 25m"
        ],
        [
         "4",
         "15h 30m"
        ]
       ],
       "shape": {
        "columns": 1,
        "rows": 5
       }
      },
      "text/plain": [
       "0        19h\n",
       "1     5h 25m\n",
       "2     4h 45m\n",
       "3     2h 25m\n",
       "4    15h 30m\n",
       "Name: Duration, dtype: object"
      ]
     },
     "metadata": {},
     "output_type": "display_data"
    }
   ],
   "source": [
    "# Print the first five values of the \"Duration\" column.\n",
    "display(planes[\"Duration\"].head())"
   ]
  },
  {
   "cell_type": "markdown",
   "id": "YVKprMojZrR_",
   "metadata": {
    "id": "YVKprMojZrR_"
   },
   "source": [
    "- Use .str.extract to capture hours and minutes in two separate columns.\n",
    "- The regex '(?:(\\d+)\\s*h)?' matches an optional integer followed by 'h';\n",
    "- '(?:(\\d+)\\s*m)?' matches an optional integer followed by 'm'."
   ]
  },
  {
   "cell_type": "code",
   "execution_count": 79,
   "id": "b6g3JortVXch",
   "metadata": {
    "colab": {
     "base_uri": "https://localhost:8080/",
     "height": 424
    },
    "id": "b6g3JortVXch",
    "outputId": "f39a6dc2-0f3a-43cc-e855-57f16c0f9abb"
   },
   "outputs": [
    {
     "data": {
      "application/vnd.microsoft.datawrangler.viewer.v0+json": {
       "columns": [
        {
         "name": "index",
         "rawType": "int64",
         "type": "integer"
        },
        {
         "name": "0",
         "rawType": "object",
         "type": "unknown"
        },
        {
         "name": "1",
         "rawType": "object",
         "type": "unknown"
        }
       ],
       "ref": "e5caa82f-33bf-4544-b8c9-c5a8a66c2d55",
       "rows": [
        [
         "0",
         "19",
         null
        ],
        [
         "1",
         "5",
         "25"
        ],
        [
         "2",
         "4",
         "45"
        ],
        [
         "3",
         "2",
         "25"
        ],
        [
         "4",
         "15",
         "30"
        ],
        [
         "5",
         "21",
         "5"
        ],
        [
         "6",
         "25",
         "30"
        ],
        [
         "7",
         "7",
         "50"
        ],
        [
         "8",
         "13",
         "15"
        ],
        [
         "9",
         "2",
         "35"
        ],
        [
         "10",
         "2",
         "15"
        ],
        [
         "11",
         "12",
         "10"
        ],
        [
         "12",
         "2",
         "35"
        ],
        [
         "13",
         "26",
         "35"
        ],
        [
         "14",
         "4",
         "30"
        ],
        [
         "15",
         "22",
         "35"
        ],
        [
         "16",
         "23",
         null
        ],
        [
         "17",
         "20",
         "35"
        ],
        [
         "19",
         "15",
         "20"
        ],
        [
         "20",
         "2",
         "50"
        ],
        [
         "21",
         "2",
         "55"
        ],
        [
         "22",
         "13",
         "20"
        ],
        [
         "23",
         "15",
         "10"
        ],
        [
         "24",
         "5",
         "45"
        ],
        [
         "25",
         "5",
         "55"
        ],
        [
         "26",
         "2",
         "50"
        ],
        [
         "27",
         "2",
         "15"
        ],
        [
         "28",
         "2",
         "15"
        ],
        [
         "29",
         "13",
         "25"
        ],
        [
         "30",
         "2",
         "50"
        ],
        [
         "31",
         "22",
         null
        ],
        [
         "32",
         "5",
         "30"
        ],
        [
         "33",
         "10",
         "25"
        ],
        [
         "34",
         "5",
         "15"
        ],
        [
         "36",
         "6",
         "15"
        ],
        [
         "37",
         "11",
         "55"
        ],
        [
         "39",
         "8",
         "30"
        ],
        [
         "40",
         "22",
         "5"
        ],
        [
         "42",
         "12",
         null
        ],
        [
         "44",
         "2",
         "50"
        ],
        [
         "45",
         "2",
         "15"
        ],
        [
         "46",
         "16",
         "5"
        ],
        [
         "47",
         "19",
         "55"
        ],
        [
         "48",
         "3",
         "15"
        ],
        [
         "49",
         "25",
         "20"
        ],
        [
         "50",
         "2",
         "50"
        ],
        [
         "51",
         "3",
         null
        ],
        [
         "52",
         "2",
         "50"
        ],
        [
         "53",
         "16",
         "15"
        ],
        [
         "54",
         "15",
         "5"
        ]
       ],
       "shape": {
        "columns": 2,
        "rows": 8208
       }
      },
      "text/html": [
       "<div>\n",
       "<style scoped>\n",
       "    .dataframe tbody tr th:only-of-type {\n",
       "        vertical-align: middle;\n",
       "    }\n",
       "\n",
       "    .dataframe tbody tr th {\n",
       "        vertical-align: top;\n",
       "    }\n",
       "\n",
       "    .dataframe thead th {\n",
       "        text-align: right;\n",
       "    }\n",
       "</style>\n",
       "<table border=\"1\" class=\"dataframe\">\n",
       "  <thead>\n",
       "    <tr style=\"text-align: right;\">\n",
       "      <th></th>\n",
       "      <th>0</th>\n",
       "      <th>1</th>\n",
       "    </tr>\n",
       "  </thead>\n",
       "  <tbody>\n",
       "    <tr>\n",
       "      <th>0</th>\n",
       "      <td>19</td>\n",
       "      <td>NaN</td>\n",
       "    </tr>\n",
       "    <tr>\n",
       "      <th>1</th>\n",
       "      <td>5</td>\n",
       "      <td>25</td>\n",
       "    </tr>\n",
       "    <tr>\n",
       "      <th>2</th>\n",
       "      <td>4</td>\n",
       "      <td>45</td>\n",
       "    </tr>\n",
       "    <tr>\n",
       "      <th>3</th>\n",
       "      <td>2</td>\n",
       "      <td>25</td>\n",
       "    </tr>\n",
       "    <tr>\n",
       "      <th>4</th>\n",
       "      <td>15</td>\n",
       "      <td>30</td>\n",
       "    </tr>\n",
       "    <tr>\n",
       "      <th>...</th>\n",
       "      <td>...</td>\n",
       "      <td>...</td>\n",
       "    </tr>\n",
       "    <tr>\n",
       "      <th>10654</th>\n",
       "      <td>2</td>\n",
       "      <td>40</td>\n",
       "    </tr>\n",
       "    <tr>\n",
       "      <th>10655</th>\n",
       "      <td>2</td>\n",
       "      <td>30</td>\n",
       "    </tr>\n",
       "    <tr>\n",
       "      <th>10656</th>\n",
       "      <td>2</td>\n",
       "      <td>35</td>\n",
       "    </tr>\n",
       "    <tr>\n",
       "      <th>10658</th>\n",
       "      <td>2</td>\n",
       "      <td>40</td>\n",
       "    </tr>\n",
       "    <tr>\n",
       "      <th>10659</th>\n",
       "      <td>8</td>\n",
       "      <td>20</td>\n",
       "    </tr>\n",
       "  </tbody>\n",
       "</table>\n",
       "<p>8208 rows × 2 columns</p>\n",
       "</div>"
      ],
      "text/plain": [
       "        0    1\n",
       "0      19  NaN\n",
       "1       5   25\n",
       "2       4   45\n",
       "3       2   25\n",
       "4      15   30\n",
       "...    ..  ...\n",
       "10654   2   40\n",
       "10655   2   30\n",
       "10656   2   35\n",
       "10658   2   40\n",
       "10659   8   20\n",
       "\n",
       "[8208 rows x 2 columns]"
      ]
     },
     "metadata": {},
     "output_type": "display_data"
    }
   ],
   "source": [
    "duration_parts = planes[\"Duration\"].str.extract(r'(?:(\\d+)\\s*h)?\\s*(?:(\\d+)\\s*m)?')\n",
    "display(duration_parts)"
   ]
  },
  {
   "cell_type": "markdown",
   "id": "1WOPL9YhaDcS",
   "metadata": {
    "id": "1WOPL9YhaDcS"
   },
   "source": [
    "- Replace missing values (`NaN`) with '0'.\n",
    "- Convert both columns to integer dtype."
   ]
  },
  {
   "cell_type": "code",
   "execution_count": 80,
   "id": "j1tA_9FxYUbx",
   "metadata": {
    "id": "j1tA_9FxYUbx"
   },
   "outputs": [],
   "source": [
    "hours_series = duration_parts[0].fillna(\"0\").astype(int)\n",
    "minutes_series = duration_parts[1].fillna(\"0\").astype(int)"
   ]
  },
  {
   "cell_type": "markdown",
   "id": "Mwwk7hxxalQv",
   "metadata": {
    "id": "Mwwk7hxxalQv"
   },
   "source": [
    "- Compute total hours as hours + (minutes / 60.0).\n"
   ]
  },
  {
   "cell_type": "code",
   "execution_count": 81,
   "id": "W5AqCDuCYufN",
   "metadata": {
    "colab": {
     "base_uri": "https://localhost:8080/",
     "height": 493
    },
    "id": "W5AqCDuCYufN",
    "outputId": "81295d88-c10e-4045-9fd0-abdc0f2d85a1"
   },
   "outputs": [
    {
     "data": {
      "application/vnd.microsoft.datawrangler.viewer.v0+json": {
       "columns": [
        {
         "name": "index",
         "rawType": "int64",
         "type": "integer"
        },
        {
         "name": "Airline",
         "rawType": "object",
         "type": "string"
        },
        {
         "name": "Date_of_Journey",
         "rawType": "object",
         "type": "string"
        },
        {
         "name": "Source",
         "rawType": "object",
         "type": "string"
        },
        {
         "name": "Destination",
         "rawType": "object",
         "type": "string"
        },
        {
         "name": "Route",
         "rawType": "object",
         "type": "string"
        },
        {
         "name": "Dep_Time",
         "rawType": "object",
         "type": "string"
        },
        {
         "name": "Arrival_Time",
         "rawType": "object",
         "type": "string"
        },
        {
         "name": "Duration",
         "rawType": "float64",
         "type": "float"
        },
        {
         "name": "Total_Stops",
         "rawType": "object",
         "type": "string"
        },
        {
         "name": "Additional_Info",
         "rawType": "object",
         "type": "string"
        },
        {
         "name": "Price",
         "rawType": "float64",
         "type": "float"
        },
        {
         "name": "Additional_Info_Category",
         "rawType": "object",
         "type": "string"
        },
        {
         "name": "Duration_Category",
         "rawType": "object",
         "type": "string"
        }
       ],
       "ref": "8519b211-5584-43ad-a64e-d4386e756be3",
       "rows": [
        [
         "0",
         "Jet Airways",
         "9/06/2019",
         "Delhi",
         "Cochin",
         "DEL → LKO → BOM → COK",
         "09:25",
         "04:25 10 Jun",
         "19.0",
         "2 stops",
         "No info",
         "13882.0",
         "No info",
         "Extreme duration"
        ],
        [
         "1",
         "IndiGo",
         "12/05/2019",
         "Kolkata",
         "Banglore",
         "CCU → NAG → BLR",
         "18:05",
         "23:30",
         "5.42",
         "1 stop",
         "No info",
         "6218.0",
         "No info",
         "Medium"
        ],
        [
         "2",
         "IndiGo",
         "01/03/2019",
         "Banglore",
         "New Delhi",
         "BLR → NAG → DEL",
         "16:50",
         "21:35",
         "4.75",
         "1 stop",
         "No info",
         "13302.0",
         "No info",
         "Extreme duration"
        ],
        [
         "3",
         "SpiceJet",
         "24/06/2019",
         "Kolkata",
         "Banglore",
         "CCU → BLR",
         "09:00",
         "11:25",
         "2.42",
         "non-stop",
         "No info",
         "3873.0",
         "No info",
         "Short-haul"
        ],
        [
         "4",
         "Jet Airways",
         "12/03/2019",
         "Banglore",
         "New Delhi",
         "BLR → BOM → DEL",
         "18:55",
         "10:25 13 Mar",
         "15.5",
         "1 stop",
         "In-flight meal not included",
         "11087.0",
         "Other info",
         "Long-haul"
        ],
        [
         "5",
         "Jet Airways",
         "01/03/2019",
         "Banglore",
         "New Delhi",
         "BLR → BOM → DEL",
         "08:00",
         "05:05 02 Mar",
         "21.08",
         "1 stop",
         "No info",
         "22270.0",
         "No info",
         "Extreme duration"
        ],
        [
         "6",
         "Jet Airways",
         "12/03/2019",
         "Banglore",
         "New Delhi",
         "BLR → BOM → DEL",
         "08:55",
         "10:25 13 Mar",
         "25.5",
         "1 stop",
         "In-flight meal not included",
         "11087.0",
         "Other info",
         "Extreme duration"
        ],
        [
         "7",
         "Multiple carriers",
         "27/05/2019",
         "Delhi",
         "Cochin",
         "DEL → BOM → COK",
         "11:25",
         "19:15",
         "7.83",
         "1 stop",
         "No info",
         "8625.0",
         "No info",
         "Medium"
        ],
        [
         "8",
         "Air India",
         "1/06/2019",
         "Delhi",
         "Cochin",
         "DEL → BLR → COK",
         "09:45",
         "23:00",
         "13.25",
         "1 stop",
         "No info",
         "8907.0",
         "No info",
         "Long-haul"
        ],
        [
         "9",
         "IndiGo",
         "18/04/2019",
         "Kolkata",
         "Banglore",
         "CCU → BLR",
         "20:20",
         "22:55",
         "2.58",
         "non-stop",
         "No info",
         "4174.0",
         "No info",
         "Short-haul"
        ],
        [
         "10",
         "Air India",
         "24/06/2019",
         "Chennai",
         "Kolkata",
         "MAA → CCU",
         "11:40",
         "13:55",
         "2.25",
         "non-stop",
         "No info",
         "4667.0",
         "No info",
         "Short-haul"
        ],
        [
         "11",
         "Jet Airways",
         "9/05/2019",
         "Kolkata",
         "Banglore",
         "CCU → BOM → BLR",
         "21:10",
         "09:20 10 May",
         "12.17",
         "1 stop",
         "In-flight meal not included",
         "9663.0",
         "Other info",
         "Long-haul"
        ],
        [
         "12",
         "IndiGo",
         "24/04/2019",
         "Kolkata",
         "Banglore",
         "CCU → BLR",
         "17:15",
         "19:50",
         "2.58",
         "non-stop",
         "No info",
         "4804.0",
         "No info",
         "Short-haul"
        ],
        [
         "13",
         "Air India",
         "3/03/2019",
         "Delhi",
         "Cochin",
         "DEL → AMD → BOM → COK",
         "16:40",
         "19:15 04 Mar",
         "26.58",
         "2 stops",
         "No info",
         "14011.0",
         "No info",
         "Extreme duration"
        ],
        [
         "14",
         "SpiceJet",
         "15/04/2019",
         "Delhi",
         "Cochin",
         "DEL → PNQ → COK",
         "08:45",
         "13:15",
         "4.5",
         "1 stop",
         "No info",
         "5830.0",
         "No info",
         "Extreme duration"
        ],
        [
         "15",
         "Jet Airways",
         "12/06/2019",
         "Delhi",
         "Cochin",
         "DEL → BOM → COK",
         "14:00",
         "12:35 13 Jun",
         "22.58",
         "1 stop",
         "In-flight meal not included",
         "10262.0",
         "Other info",
         "Extreme duration"
        ],
        [
         "16",
         "Air India",
         "12/06/2019",
         "Delhi",
         "Cochin",
         "DEL → CCU → BOM → COK",
         "20:15",
         "19:15 13 Jun",
         "23.0",
         "2 stops",
         "No info",
         "13381.0",
         "No info",
         "Extreme duration"
        ],
        [
         "17",
         "Jet Airways",
         "27/05/2019",
         "Delhi",
         "Cochin",
         "DEL → BOM → COK",
         "16:00",
         "12:35 28 May",
         "20.58",
         "1 stop",
         "In-flight meal not included",
         "12898.0",
         "Other info",
         "Extreme duration"
        ],
        [
         "19",
         "Air India",
         "21/03/2019",
         "Banglore",
         "New Delhi",
         "BLR → COK → DEL",
         "22:00",
         "13:20 19 Mar",
         "15.33",
         "1 stop",
         "No info",
         "6955.0",
         "No info",
         "Long-haul"
        ],
        [
         "20",
         "IndiGo",
         "3/04/2019",
         "Banglore",
         "Delhi",
         "BLR → DEL",
         "04:00",
         "06:50",
         "2.83",
         "non-stop",
         "No info",
         "3943.0",
         "No info",
         "Short-haul"
        ],
        [
         "21",
         "IndiGo",
         "1/05/2019",
         "Banglore",
         "Delhi",
         "BLR → DEL",
         "18:55",
         "21:50",
         "2.92",
         "non-stop",
         "No info",
         "4823.0",
         "No info",
         "Short-haul"
        ],
        [
         "22",
         "Jet Airways",
         "6/05/2019",
         "Kolkata",
         "Banglore",
         "CCU → BOM → BLR",
         "18:55",
         "08:15 07 May",
         "13.33",
         "1 stop",
         "In-flight meal not included",
         "7757.0",
         "Other info",
         "Long-haul"
        ],
        [
         "23",
         "Jet Airways",
         "9/06/2019",
         "Delhi",
         "Cochin",
         "DEL → IDR → BOM → COK",
         "21:25",
         "12:35 10 Jun",
         "15.17",
         "2 stops",
         "No info",
         "13292.0",
         "No info",
         "Long-haul"
        ],
        [
         "24",
         "IndiGo",
         "1/06/2019",
         "Delhi",
         "Cochin",
         "DEL → LKO → COK",
         "21:50",
         "03:35 02 Jun",
         "5.75",
         "1 stop",
         "No info",
         "8238.0",
         "No info",
         "Medium"
        ],
        [
         "25",
         "GoAir",
         "15/05/2019",
         "Delhi",
         "Cochin",
         "DEL → BOM → COK",
         "07:00",
         "12:55",
         "5.92",
         "1 stop",
         "No info",
         "7682.0",
         "No info",
         "Medium"
        ],
        [
         "26",
         "Vistara",
         "18/06/2019",
         "Banglore",
         "Delhi",
         "BLR → DEL",
         "09:45",
         "12:35",
         "2.83",
         "non-stop",
         "No info",
         "4668.0",
         "No info",
         "Short-haul"
        ],
        [
         "27",
         "Vistara",
         "15/06/2019",
         "Chennai",
         "Kolkata",
         "MAA → CCU",
         "07:05",
         "09:20",
         "2.25",
         "non-stop",
         "No info",
         "3687.0",
         "No info",
         "Short-haul"
        ],
        [
         "28",
         "Vistara",
         "18/06/2019",
         "Chennai",
         "Kolkata",
         "MAA → CCU",
         "07:05",
         "09:20",
         "2.25",
         "non-stop",
         "No info",
         "3687.0",
         "No info",
         "Short-haul"
        ],
        [
         "29",
         "Air India",
         "1/05/2019",
         "Kolkata",
         "Banglore",
         "CCU → GAU → DEL → BLR",
         "09:50",
         "23:15",
         "13.42",
         "2 stops",
         "No info",
         "13227.0",
         "No info",
         "Long-haul"
        ],
        [
         "30",
         "IndiGo",
         "6/04/2019",
         "Banglore",
         "Delhi",
         "BLR → DEL",
         "04:00",
         "06:50",
         "2.83",
         "non-stop",
         "No info",
         "4423.0",
         "No info",
         "Short-haul"
        ],
        [
         "31",
         "Jet Airways",
         "15/06/2019",
         "Delhi",
         "Cochin",
         "DEL → NAG → BOM → COK",
         "14:35",
         "12:35 16 Jun",
         "22.0",
         "2 stops",
         "In-flight meal not included",
         "10919.0",
         "Other info",
         "Extreme duration"
        ],
        [
         "32",
         "Jet Airways",
         "18/05/2019",
         "Delhi",
         "Cochin",
         "DEL → BOM → COK",
         "07:05",
         "12:35",
         "5.5",
         "1 stop",
         "In-flight meal not included",
         "12373.0",
         "Other info",
         "Medium"
        ],
        [
         "33",
         "IndiGo",
         "27/06/2019",
         "Delhi",
         "Cochin",
         "DEL → BOM → COK",
         "10:35",
         "21:00",
         "10.42",
         "1 stop",
         "No info",
         "5894.0",
         "No info",
         "Long-haul"
        ],
        [
         "34",
         "SpiceJet",
         "21/05/2019",
         "Kolkata",
         "Banglore",
         "CCU → MAA → BLR",
         "15:05",
         "20:20",
         "5.25",
         "1 stop",
         "No info",
         "4649.0",
         "No info",
         "Medium"
        ],
        [
         "36",
         "Jet Airways",
         "06/03/2019",
         "Banglore",
         "New Delhi",
         "BLR → BOM → DEL",
         "07:00",
         "13:15",
         "6.25",
         "1 stop",
         "No info",
         "19225.0",
         "No info",
         "Medium"
        ],
        [
         "37",
         "Jet Airways",
         "3/06/2019",
         "Delhi",
         "Cochin",
         "DEL → BOM → COK",
         "07:05",
         "19:00",
         "11.92",
         "1 stop",
         "No info",
         "14924.0",
         "No info",
         "Long-haul"
        ],
        [
         "39",
         "Air India",
         "15/03/2019",
         "Banglore",
         "New Delhi",
         "BLR → BOM → DEL",
         "06:45",
         "15:15",
         "8.5",
         "1 stop",
         "No info",
         "8714.0",
         "No info",
         "Medium"
        ],
        [
         "40",
         "Jet Airways",
         "18/05/2019",
         "Delhi",
         "Cochin",
         "DEL → BOM → COK",
         "20:55",
         "19:00 19 May",
         "22.08",
         "1 stop",
         "In-flight meal not included",
         "12373.0",
         "Other info",
         "Extreme duration"
        ],
        [
         "42",
         "Multiple carriers",
         "21/03/2019",
         "Delhi",
         "Cochin",
         "DEL → BOM → COK",
         "09:00",
         "21:00",
         "12.0",
         "1 stop",
         "No info",
         "13062.0",
         "No info",
         "Long-haul"
        ],
        [
         "44",
         "IndiGo",
         "27/05/2019",
         "Banglore",
         "Delhi",
         "BLR → DEL",
         "04:00",
         "06:50",
         "2.83",
         "non-stop",
         "No info",
         "3943.0",
         "No info",
         "Short-haul"
        ],
        [
         "45",
         "Air India",
         "3/05/2019",
         "Chennai",
         "Kolkata",
         "MAA → CCU",
         "11:40",
         "13:55",
         "2.25",
         "non-stop",
         "No info",
         "4667.0",
         "No info",
         "Short-haul"
        ],
        [
         "46",
         "Air India",
         "15/05/2019",
         "Kolkata",
         "Banglore",
         "CCU → HYD → BLR",
         "19:00",
         "11:05 16 May",
         "16.08",
         "1 stop",
         "No info",
         "6117.0",
         "No info",
         "Long-haul"
        ],
        [
         "47",
         "Jet Airways",
         "27/06/2019",
         "Delhi",
         "Cochin",
         "DEL → AMD → BOM → COK",
         "23:05",
         "19:00 28 Jun",
         "19.92",
         "2 stops",
         "In-flight meal not included",
         "11150.0",
         "Other info",
         "Extreme duration"
        ],
        [
         "48",
         "Jet Airways",
         "9/03/2019",
         "Delhi",
         "Cochin",
         "DEL → COK",
         "11:00",
         "14:15",
         "3.25",
         "non-stop",
         "In-flight meal not included",
         "7202.0",
         "Other info",
         "Short-haul"
        ],
        [
         "49",
         "Jet Airways",
         "1/05/2019",
         "Kolkata",
         "Banglore",
         "CCU → DEL → BLR",
         "09:35",
         "10:55 02 May",
         "25.33",
         "1 stop",
         "No info",
         "12121.0",
         "No info",
         "Extreme duration"
        ],
        [
         "50",
         "IndiGo",
         "24/03/2019",
         "Banglore",
         "New Delhi",
         "BLR → DEL",
         "22:20",
         "01:10 28 Mar",
         "2.83",
         "non-stop",
         "No info",
         "4377.0",
         "No info",
         "Short-haul"
        ],
        [
         "51",
         "IndiGo",
         "18/06/2019",
         "Banglore",
         "Delhi",
         "BLR → DEL",
         "21:15",
         "00:15 19 Jun",
         "3.0",
         "non-stop",
         "No info",
         "3943.0",
         "No info",
         "Short-haul"
        ],
        [
         "52",
         "Air Asia",
         "3/04/2019",
         "Banglore",
         "Delhi",
         "BLR → DEL",
         "23:55",
         "02:45 04 Apr",
         "2.83",
         "non-stop",
         "No info",
         "4483.0",
         "No info",
         "Short-haul"
        ],
        [
         "53",
         "Jet Airways",
         "24/03/2019",
         "Kolkata",
         "Banglore",
         "CCU → BOM → BLR",
         "19:45",
         "12:00 25 Mar",
         "16.25",
         "1 stop",
         "No info",
         "14231.0",
         "No info",
         "Long-haul"
        ],
        [
         "54",
         "Air India",
         "01/03/2019",
         "Banglore",
         "New Delhi",
         "BLR → BOM → AMD → DEL",
         "08:50",
         "23:55",
         "15.08",
         "2 stops",
         "No info",
         "17345.0",
         "No info",
         "Long-haul"
        ]
       ],
       "shape": {
        "columns": 13,
        "rows": 8208
       }
      },
      "text/html": [
       "<div>\n",
       "<style scoped>\n",
       "    .dataframe tbody tr th:only-of-type {\n",
       "        vertical-align: middle;\n",
       "    }\n",
       "\n",
       "    .dataframe tbody tr th {\n",
       "        vertical-align: top;\n",
       "    }\n",
       "\n",
       "    .dataframe thead th {\n",
       "        text-align: right;\n",
       "    }\n",
       "</style>\n",
       "<table border=\"1\" class=\"dataframe\">\n",
       "  <thead>\n",
       "    <tr style=\"text-align: right;\">\n",
       "      <th></th>\n",
       "      <th>Airline</th>\n",
       "      <th>Date_of_Journey</th>\n",
       "      <th>Source</th>\n",
       "      <th>Destination</th>\n",
       "      <th>Route</th>\n",
       "      <th>Dep_Time</th>\n",
       "      <th>Arrival_Time</th>\n",
       "      <th>Duration</th>\n",
       "      <th>Total_Stops</th>\n",
       "      <th>Additional_Info</th>\n",
       "      <th>Price</th>\n",
       "      <th>Additional_Info_Category</th>\n",
       "      <th>Duration_Category</th>\n",
       "    </tr>\n",
       "  </thead>\n",
       "  <tbody>\n",
       "    <tr>\n",
       "      <th>0</th>\n",
       "      <td>Jet Airways</td>\n",
       "      <td>9/06/2019</td>\n",
       "      <td>Delhi</td>\n",
       "      <td>Cochin</td>\n",
       "      <td>DEL → LKO → BOM → COK</td>\n",
       "      <td>09:25</td>\n",
       "      <td>04:25 10 Jun</td>\n",
       "      <td>19.00</td>\n",
       "      <td>2 stops</td>\n",
       "      <td>No info</td>\n",
       "      <td>13882.0</td>\n",
       "      <td>No info</td>\n",
       "      <td>Extreme duration</td>\n",
       "    </tr>\n",
       "    <tr>\n",
       "      <th>1</th>\n",
       "      <td>IndiGo</td>\n",
       "      <td>12/05/2019</td>\n",
       "      <td>Kolkata</td>\n",
       "      <td>Banglore</td>\n",
       "      <td>CCU → NAG → BLR</td>\n",
       "      <td>18:05</td>\n",
       "      <td>23:30</td>\n",
       "      <td>5.42</td>\n",
       "      <td>1 stop</td>\n",
       "      <td>No info</td>\n",
       "      <td>6218.0</td>\n",
       "      <td>No info</td>\n",
       "      <td>Medium</td>\n",
       "    </tr>\n",
       "    <tr>\n",
       "      <th>2</th>\n",
       "      <td>IndiGo</td>\n",
       "      <td>01/03/2019</td>\n",
       "      <td>Banglore</td>\n",
       "      <td>New Delhi</td>\n",
       "      <td>BLR → NAG → DEL</td>\n",
       "      <td>16:50</td>\n",
       "      <td>21:35</td>\n",
       "      <td>4.75</td>\n",
       "      <td>1 stop</td>\n",
       "      <td>No info</td>\n",
       "      <td>13302.0</td>\n",
       "      <td>No info</td>\n",
       "      <td>Extreme duration</td>\n",
       "    </tr>\n",
       "    <tr>\n",
       "      <th>3</th>\n",
       "      <td>SpiceJet</td>\n",
       "      <td>24/06/2019</td>\n",
       "      <td>Kolkata</td>\n",
       "      <td>Banglore</td>\n",
       "      <td>CCU → BLR</td>\n",
       "      <td>09:00</td>\n",
       "      <td>11:25</td>\n",
       "      <td>2.42</td>\n",
       "      <td>non-stop</td>\n",
       "      <td>No info</td>\n",
       "      <td>3873.0</td>\n",
       "      <td>No info</td>\n",
       "      <td>Short-haul</td>\n",
       "    </tr>\n",
       "    <tr>\n",
       "      <th>4</th>\n",
       "      <td>Jet Airways</td>\n",
       "      <td>12/03/2019</td>\n",
       "      <td>Banglore</td>\n",
       "      <td>New Delhi</td>\n",
       "      <td>BLR → BOM → DEL</td>\n",
       "      <td>18:55</td>\n",
       "      <td>10:25 13 Mar</td>\n",
       "      <td>15.50</td>\n",
       "      <td>1 stop</td>\n",
       "      <td>In-flight meal not included</td>\n",
       "      <td>11087.0</td>\n",
       "      <td>Other info</td>\n",
       "      <td>Long-haul</td>\n",
       "    </tr>\n",
       "    <tr>\n",
       "      <th>...</th>\n",
       "      <td>...</td>\n",
       "      <td>...</td>\n",
       "      <td>...</td>\n",
       "      <td>...</td>\n",
       "      <td>...</td>\n",
       "      <td>...</td>\n",
       "      <td>...</td>\n",
       "      <td>...</td>\n",
       "      <td>...</td>\n",
       "      <td>...</td>\n",
       "      <td>...</td>\n",
       "      <td>...</td>\n",
       "      <td>...</td>\n",
       "    </tr>\n",
       "    <tr>\n",
       "      <th>10654</th>\n",
       "      <td>SpiceJet</td>\n",
       "      <td>21/05/2019</td>\n",
       "      <td>Banglore</td>\n",
       "      <td>Delhi</td>\n",
       "      <td>BLR → DEL</td>\n",
       "      <td>05:55</td>\n",
       "      <td>08:35</td>\n",
       "      <td>2.67</td>\n",
       "      <td>non-stop</td>\n",
       "      <td>No check-in baggage included</td>\n",
       "      <td>3257.0</td>\n",
       "      <td>Other info</td>\n",
       "      <td>Short-haul</td>\n",
       "    </tr>\n",
       "    <tr>\n",
       "      <th>10655</th>\n",
       "      <td>Air Asia</td>\n",
       "      <td>9/04/2019</td>\n",
       "      <td>Kolkata</td>\n",
       "      <td>Banglore</td>\n",
       "      <td>CCU → BLR</td>\n",
       "      <td>19:55</td>\n",
       "      <td>22:25</td>\n",
       "      <td>2.50</td>\n",
       "      <td>non-stop</td>\n",
       "      <td>No info</td>\n",
       "      <td>4107.0</td>\n",
       "      <td>No info</td>\n",
       "      <td>Short-haul</td>\n",
       "    </tr>\n",
       "    <tr>\n",
       "      <th>10656</th>\n",
       "      <td>Air India</td>\n",
       "      <td>27/04/2019</td>\n",
       "      <td>Kolkata</td>\n",
       "      <td>Banglore</td>\n",
       "      <td>CCU → BLR</td>\n",
       "      <td>20:45</td>\n",
       "      <td>23:20</td>\n",
       "      <td>2.58</td>\n",
       "      <td>non-stop</td>\n",
       "      <td>No info</td>\n",
       "      <td>4145.0</td>\n",
       "      <td>No info</td>\n",
       "      <td>Short-haul</td>\n",
       "    </tr>\n",
       "    <tr>\n",
       "      <th>10658</th>\n",
       "      <td>Vistara</td>\n",
       "      <td>01/03/2019</td>\n",
       "      <td>Banglore</td>\n",
       "      <td>New Delhi</td>\n",
       "      <td>BLR → DEL</td>\n",
       "      <td>11:30</td>\n",
       "      <td>14:10</td>\n",
       "      <td>2.67</td>\n",
       "      <td>non-stop</td>\n",
       "      <td>No info</td>\n",
       "      <td>12648.0</td>\n",
       "      <td>No info</td>\n",
       "      <td>Short-haul</td>\n",
       "    </tr>\n",
       "    <tr>\n",
       "      <th>10659</th>\n",
       "      <td>Air India</td>\n",
       "      <td>9/05/2019</td>\n",
       "      <td>Delhi</td>\n",
       "      <td>Cochin</td>\n",
       "      <td>DEL → GOI → BOM → COK</td>\n",
       "      <td>10:55</td>\n",
       "      <td>19:15</td>\n",
       "      <td>8.33</td>\n",
       "      <td>2 stops</td>\n",
       "      <td>No info</td>\n",
       "      <td>11753.0</td>\n",
       "      <td>No info</td>\n",
       "      <td>Medium</td>\n",
       "    </tr>\n",
       "  </tbody>\n",
       "</table>\n",
       "<p>8208 rows × 13 columns</p>\n",
       "</div>"
      ],
      "text/plain": [
       "           Airline Date_of_Journey    Source Destination  \\\n",
       "0      Jet Airways       9/06/2019     Delhi      Cochin   \n",
       "1           IndiGo      12/05/2019   Kolkata    Banglore   \n",
       "2           IndiGo      01/03/2019  Banglore   New Delhi   \n",
       "3         SpiceJet      24/06/2019   Kolkata    Banglore   \n",
       "4      Jet Airways      12/03/2019  Banglore   New Delhi   \n",
       "...            ...             ...       ...         ...   \n",
       "10654     SpiceJet      21/05/2019  Banglore       Delhi   \n",
       "10655     Air Asia       9/04/2019   Kolkata    Banglore   \n",
       "10656    Air India      27/04/2019   Kolkata    Banglore   \n",
       "10658      Vistara      01/03/2019  Banglore   New Delhi   \n",
       "10659    Air India       9/05/2019     Delhi      Cochin   \n",
       "\n",
       "                       Route Dep_Time  Arrival_Time  Duration Total_Stops  \\\n",
       "0      DEL → LKO → BOM → COK    09:25  04:25 10 Jun     19.00     2 stops   \n",
       "1            CCU → NAG → BLR    18:05         23:30      5.42      1 stop   \n",
       "2            BLR → NAG → DEL    16:50         21:35      4.75      1 stop   \n",
       "3                  CCU → BLR    09:00         11:25      2.42    non-stop   \n",
       "4            BLR → BOM → DEL    18:55  10:25 13 Mar     15.50      1 stop   \n",
       "...                      ...      ...           ...       ...         ...   \n",
       "10654              BLR → DEL    05:55         08:35      2.67    non-stop   \n",
       "10655              CCU → BLR    19:55         22:25      2.50    non-stop   \n",
       "10656              CCU → BLR    20:45         23:20      2.58    non-stop   \n",
       "10658              BLR → DEL    11:30         14:10      2.67    non-stop   \n",
       "10659  DEL → GOI → BOM → COK    10:55         19:15      8.33     2 stops   \n",
       "\n",
       "                    Additional_Info    Price Additional_Info_Category  \\\n",
       "0                           No info  13882.0                  No info   \n",
       "1                           No info   6218.0                  No info   \n",
       "2                           No info  13302.0                  No info   \n",
       "3                           No info   3873.0                  No info   \n",
       "4       In-flight meal not included  11087.0               Other info   \n",
       "...                             ...      ...                      ...   \n",
       "10654  No check-in baggage included   3257.0               Other info   \n",
       "10655                       No info   4107.0                  No info   \n",
       "10656                       No info   4145.0                  No info   \n",
       "10658                       No info  12648.0                  No info   \n",
       "10659                       No info  11753.0                  No info   \n",
       "\n",
       "      Duration_Category  \n",
       "0      Extreme duration  \n",
       "1                Medium  \n",
       "2      Extreme duration  \n",
       "3            Short-haul  \n",
       "4             Long-haul  \n",
       "...                 ...  \n",
       "10654        Short-haul  \n",
       "10655        Short-haul  \n",
       "10656        Short-haul  \n",
       "10658        Short-haul  \n",
       "10659            Medium  \n",
       "\n",
       "[8208 rows x 13 columns]"
      ]
     },
     "metadata": {},
     "output_type": "display_data"
    }
   ],
   "source": [
    "planes[\"Duration\"] = round(hours_series + (minutes_series / 60.0), 2)\n",
    "display(planes)"
   ]
  },
  {
   "cell_type": "code",
   "execution_count": 82,
   "id": "vxc8Yc3Earhv",
   "metadata": {
    "colab": {
     "base_uri": "https://localhost:8080/",
     "height": 487
    },
    "id": "vxc8Yc3Earhv",
    "outputId": "3a88a735-4cc7-4c56-da04-3c380b58896a"
   },
   "outputs": [
    {
     "data": {
      "image/png": "[encoded data removed]",
      "text/plain": [
       "<Figure size 640x480 with 1 Axes>"
      ]
     },
     "metadata": {},
     "output_type": "display_data"
    }
   ],
   "source": [
    "# Plot a histogram of \"Duration\" values.\n",
    "fig, ax = plt.subplots()\n",
    "\n",
    "sns.histplot(x=\"Duration\", data=planes, color=\"firebrick\")\n",
    "ax.set(title=\"Distribution of Flight Durations\",\n",
    "       xlabel=\"Duration of flight (in hours)\",\n",
    "       ylabel=\"Frequency\")\n",
    "plt.tight_layout()\n",
    "plt.show()"
   ]
  },
  {
   "cell_type": "markdown",
   "id": "peH231w_fkd2",
   "metadata": {
    "id": "peH231w_fkd2"
   },
   "source": [
    "### Adding descriptive statistics\n",
    "Now `\"Duration\"` and `\"Price\"` both contain numeric values in the planes DataFrame, you would like to calculate summary statistics for them that are conditional on values in other columns."
   ]
  },
  {
   "cell_type": "code",
   "execution_count": 83,
   "id": "jMuVYWISdRi9",
   "metadata": {
    "colab": {
     "base_uri": "https://localhost:8080/"
    },
    "id": "jMuVYWISdRi9",
    "outputId": "772e6f1f-d8ea-4989-84a0-728839e4f692"
   },
   "outputs": [
    {
     "name": "stdout",
     "output_type": "stream",
     "text": [
      "Airline            airline_price_st_dev\n",
      "Jet Airways        4189.074664             2964\n",
      "IndiGo             2218.605260             1585\n",
      "Air India          3691.028933             1346\n",
      "Multiple carriers  3516.555826              931\n",
      "SpiceJet           1799.368945              632\n",
      "Vistara            2885.765319              362\n",
      "Air Asia           2000.819195              248\n",
      "GoAir              2088.432342              140\n",
      "Name: count, dtype: int64\n"
     ]
    }
   ],
   "source": [
    "# Add a column to planes containing the standard deviation of \"Price\" based on \"Airline\"\n",
    "planes[\"airline_price_st_dev\"] = planes.groupby(\"Airline\")[\"Price\"].transform(lambda x:x.std())\n",
    "print(planes[[\"Airline\", \"airline_price_st_dev\"]].value_counts())"
   ]
  },
  {
   "cell_type": "code",
   "execution_count": 84,
   "id": "PNjaK_Ywf7ic",
   "metadata": {
    "colab": {
     "base_uri": "https://localhost:8080/"
    },
    "id": "PNjaK_Ywf7ic",
    "outputId": "e202e847-5226-4bf9-eb73-3f4f872f5473"
   },
   "outputs": [
    {
     "name": "stdout",
     "output_type": "stream",
     "text": [
      "Airline            airline_median_duration\n",
      "Jet Airways        13.33                      2964\n",
      "IndiGo             2.92                       1585\n",
      "Air India          15.42                      1346\n",
      "Multiple carriers  10.25                       931\n",
      "SpiceJet           2.50                        632\n",
      "Vistara            3.17                        362\n",
      "Air Asia           2.83                        248\n",
      "GoAir              2.92                        140\n",
      "Name: count, dtype: int64\n"
     ]
    }
   ],
   "source": [
    "# Calculate the median for \"Duration\" by \"Airline\", storing it as a column called \"airline_median_duration\"\n",
    "planes[\"airline_median_duration\"] = planes.groupby(\"Airline\")[\"Duration\"].transform(lambda x:x.median())\n",
    "print(planes[[\"Airline\",\"airline_median_duration\"]].value_counts())"
   ]
  },
  {
   "cell_type": "code",
   "execution_count": 85,
   "id": "BPKQh_oOgUa5",
   "metadata": {
    "colab": {
     "base_uri": "https://localhost:8080/"
    },
    "id": "BPKQh_oOgUa5",
    "outputId": "50879a5d-6a8e-45c9-9306-2d4174ec01a8"
   },
   "outputs": [
    {
     "name": "stdout",
     "output_type": "stream",
     "text": [
      "Destination  price_destination_mean\n",
      "Cochin       10445.639760              3506\n",
      "Banglore     9103.415154               2204\n",
      "Delhi        5243.953878                954\n",
      "New Delhi    11586.150215               699\n",
      "Hyderabad    5210.531993                547\n",
      "Kolkata      4921.620805                298\n",
      "Name: count, dtype: int64\n",
      "\n"
     ]
    }
   ],
   "source": [
    "# Find the mean \"Price\" by \"Destination\", saving it as a column called \"price_destination_mean\"\n",
    "planes[\"price_destination_mean\"] = planes.groupby(\"Destination\")[\"Price\"].transform(lambda x:x.mean())\n",
    "print(planes[[\"Destination\",\"price_destination_mean\"]].value_counts())"
   ]
  },
  {
   "cell_type": "markdown",
   "id": "eq_DCYIfgy22",
   "metadata": {
    "id": "eq_DCYIfgy22"
   },
   "source": [
    "### Handling Outliers\n",
    "\n",
    "What is an outlier?\n",
    "An observation far away from other data points\n",
    "- Median house price: $400,000\n",
    "\n",
    "- Outlier house price: $5,000,000\n",
    "\n",
    "Should consider why the value is different:\n",
    "- Location, number of bedrooms, overall size, etc."
   ]
  },
  {
   "cell_type": "markdown",
   "id": "lgZci1OFhqXu",
   "metadata": {
    "id": "lgZci1OFhqXu"
   },
   "source": [
    "### Using descriptive statistics"
   ]
  },
  {
   "cell_type": "code",
   "execution_count": 86,
   "id": "oZ4UCGzWgnQD",
   "metadata": {
    "colab": {
     "base_uri": "https://localhost:8080/",
     "height": 335
    },
    "id": "oZ4UCGzWgnQD",
    "outputId": "0c1ae211-9acb-4c84-eef4-a79d9f09939a"
   },
   "outputs": [
    {
     "data": {
      "application/vnd.microsoft.datawrangler.viewer.v0+json": {
       "columns": [
        {
         "name": "index",
         "rawType": "object",
         "type": "string"
        },
        {
         "name": "Salary_USD",
         "rawType": "float64",
         "type": "float"
        }
       ],
       "ref": "02ec3217-7eef-4300-ac56-4b6dc4c8f7ed",
       "rows": [
        [
         "count",
         "607.0"
        ],
        [
         "mean",
         "107225.83690280066"
        ],
        [
         "std",
         "67752.39325446503"
        ],
        [
         "min",
         "2730.0"
        ],
        [
         "25%",
         "59893.0"
        ],
        [
         "50%",
         "96982.0"
        ],
        [
         "75%",
         "143225.0"
        ],
        [
         "max",
         "572900.0"
        ]
       ],
       "shape": {
        "columns": 1,
        "rows": 8
       }
      },
      "text/plain": [
       "count       607.000000\n",
       "mean     107225.836903\n",
       "std       67752.393254\n",
       "min        2730.000000\n",
       "25%       59893.000000\n",
       "50%       96982.000000\n",
       "75%      143225.000000\n",
       "max      572900.000000\n",
       "Name: Salary_USD, dtype: float64"
      ]
     },
     "metadata": {},
     "output_type": "display_data"
    }
   ],
   "source": [
    "display(salaries[\"Salary_USD\"].describe())"
   ]
  },
  {
   "cell_type": "markdown",
   "id": "VDjNjD8thuOk",
   "metadata": {
    "id": "VDjNjD8thuOk"
   },
   "source": [
    "###  Using the interquartile range (IQR)\n",
    "\n",
    "IQR = 75th - 25th percentile"
   ]
  },
  {
   "cell_type": "code",
   "execution_count": 87,
   "id": "M3KpVe7Sixrw",
   "metadata": {
    "id": "M3KpVe7Sixrw"
   },
   "outputs": [],
   "source": [
    "# Extract the salary series\n",
    "salary_series: pd.Series = salaries[\"Salary_USD\"]\n",
    "\n",
    "# Compute quartiles\n",
    "Q1: float = salary_series.quantile(0.25)\n",
    "median: float = salary_series.median()\n",
    "Q3: float = salary_series.quantile(0.75)\n",
    "\n",
    "# Compute the interquartile range\n",
    "IQR: float = Q3 - Q1\n",
    "\n",
    "# Identify outliers as those strictly above Q3 + 1.5*IQR (for annotation)\n",
    "upper_bound: float = Q3 + 1.5 * IQR\n",
    "outliers: pd.Series = salary_series[salary_series > upper_bound]"
   ]
  },
  {
   "cell_type": "markdown",
   "id": "OuRMe9-aleBc",
   "metadata": {
    "id": "OuRMe9-aleBc"
   },
   "source": [
    "### IQR in box plots"
   ]
  },
  {
   "cell_type": "code",
   "execution_count": 88,
   "id": "lVsdEzKihkVP",
   "metadata": {
    "colab": {
     "base_uri": "https://localhost:8080/",
     "height": 607
    },
    "id": "lVsdEzKihkVP",
    "outputId": "ab54c323-2d0c-496d-af9e-9b57ad8acb39"
   },
   "outputs": [
    {
     "data": {
      "image/png": "[encoded data removed]",
      "text/plain": [
       "<Figure size 800x600 with 1 Axes>"
      ]
     },
     "metadata": {},
     "output_type": "display_data"
    }
   ],
   "source": [
    "fig, ax = plt.subplots(figsize=(8, 6))\n",
    "\n",
    "# Create a box plot of the 'Salary_USD' column from the 'salaries' DataFrame.\n",
    "sns.boxplot(data=salaries, y=\"Salary_USD\", ax=ax)\n",
    "\n",
    "# Set the title of the plot, including font size and padding.\n",
    "ax.set_title(\"Boxplot of Salary ($) for Data Professionals\", fontsize=14, pad=15)\n",
    "# Set an empty string for the x-axis label as it's a single box plot.\n",
    "ax.set_xlabel(\"\")\n",
    "# Set the label for the y-axis, indicating the variable being plotted and its unit.\n",
    "ax.set_ylabel(\"Salary ($)\", fontsize=12, labelpad=10)\n",
    "\n",
    "# Annotations for statistical measures\n",
    "# Define the x-coordinate for the annotations, positioned slightly to the right of the box.\n",
    "x_box = 0.4\n",
    "\n",
    "# Define keyword arguments for the arrows used in annotations.\n",
    "arrow_kw = dict(arrowstyle=\"<-\", lw=1.2, color=\"black\")\n",
    "\n",
    "# Annotate the 25th percentile (Q1).\n",
    "# xy: The point to annotate (x, y coordinates on the plot).\n",
    "# xytext: The position of the annotation text.\n",
    "# textcoords=\"offset points\": Specifies that xytext is an offset from xy.\n",
    "# va=\"center\", ha=\"left\": Vertical and horizontal alignment of the text.\n",
    "# arrowprops: Dictionary of arrow properties.\n",
    "ax.annotate(\"25th Percentile\",\n",
    "            xy=(x_box, Q1),\n",
    "            xytext=(60, 0), textcoords=\"offset points\",\n",
    "            va=\"center\", ha=\"left\",\n",
    "            arrowprops=arrow_kw)\n",
    "\n",
    "# Annotate the 50th percentile (Median).\n",
    "# The median is the middle value of the dataset when sorted.\n",
    "ax.annotate(\"50th Percentile\",\n",
    "            xy=(x_box, median),\n",
    "            xytext=(60, 0), textcoords=\"offset points\",\n",
    "            va=\"center\", ha=\"left\",\n",
    "            arrowprops=arrow_kw)\n",
    "\n",
    "# Annotate the 75th percentile (Q3).\n",
    "ax.annotate(\"75th Percentile\",\n",
    "            xy=(x_box, Q3),\n",
    "            xytext=(60, 0), textcoords=\"offset points\",\n",
    "            va=\"center\", ha=\"left\",\n",
    "            arrowprops=arrow_kw)\n",
    "\n",
    "# Annotate outliers if they exist.\n",
    "# Outliers are typically defined as values falling below Q1 - 1.5*IQR or above Q3 + 1.5*IQR.\n",
    "if not outliers.empty:\n",
    "    top = outliers.max()\n",
    "    ax.annotate(\"Outliers\",\n",
    "                xy=(x_box, top),\n",
    "                xytext=(60, 0), textcoords=\"offset points\",\n",
    "                va=\"center\", ha=\"left\",\n",
    "                arrowprops=arrow_kw)\n",
    "\n",
    "# Set the limits for the x-axis.\n",
    "ax.set_xlim(-0.5, 0.5)\n",
    "# Hide the right and bottom spines (borders) of the plot for a cleaner look.\n",
    "ax.spines[\"right\"].set_visible(False)\n",
    "ax.spines[\"bottom\"].set_visible(False)\n",
    "# Remove the x-axis ticks as they are not needed for a single box plot.\n",
    "ax.set_xticks([])\n",
    "\n",
    "plt.tight_layout()\n",
    "plt.show()"
   ]
  },
  {
   "cell_type": "markdown",
   "id": "LHr7hW_zU9TF",
   "metadata": {
    "id": "LHr7hW_zU9TF"
   },
   "source": [
    "### Identifying thresholds"
   ]
  },
  {
   "cell_type": "code",
   "execution_count": 89,
   "id": "Mviy2OBDiDTC",
   "metadata": {
    "colab": {
     "base_uri": "https://localhost:8080/"
    },
    "id": "Mviy2OBDiDTC",
    "outputId": "77768987-129b-4573-c6e5-25f5143283f1"
   },
   "outputs": [
    {
     "name": "stdout",
     "output_type": "stream",
     "text": [
      "83332.0\n"
     ]
    }
   ],
   "source": [
    "# 75th percentile\n",
    "seventy_fifth = salaries[\"Salary_USD\"].quantile(0.75)\n",
    "\n",
    "# 25th percentile\n",
    "twenty_fifth = salaries[\"Salary_USD\"].quantile(0.25)\n",
    "\n",
    "# Interquartile range\n",
    "salaries_iqr = seventy_fifth - twenty_fifth\n",
    "\n",
    "print(salaries_iqr)"
   ]
  },
  {
   "cell_type": "code",
   "execution_count": 90,
   "id": "qBl5Fnr2Vl4B",
   "metadata": {
    "colab": {
     "base_uri": "https://localhost:8080/"
    },
    "id": "qBl5Fnr2Vl4B",
    "outputId": "fb00801a-00ae-40d2-8786-03725a55769b"
   },
   "outputs": [
    {
     "name": "stdout",
     "output_type": "stream",
     "text": [
      "268223.0 -65105.0\n"
     ]
    }
   ],
   "source": [
    "# Upper threshold\n",
    "upper = seventy_fifth + (1.5 * salaries_iqr)\n",
    "\n",
    "# Lower threshold\n",
    "lower = twenty_fifth - (1.5 * salaries_iqr)\n",
    "\n",
    "print(upper, lower)"
   ]
  },
  {
   "cell_type": "markdown",
   "id": "YBTwcT3FWBVx",
   "metadata": {
    "id": "YBTwcT3FWBVx"
   },
   "source": [
    "### Subsetting our data"
   ]
  },
  {
   "cell_type": "code",
   "execution_count": 91,
   "id": "DeIRQg3nV8IW",
   "metadata": {
    "colab": {
     "base_uri": "https://localhost:8080/",
     "height": 363
    },
    "id": "DeIRQg3nV8IW",
    "outputId": "f7db6328-51b6-4898-9c8e-c9c4495ece8e"
   },
   "outputs": [
    {
     "data": {
      "application/vnd.microsoft.datawrangler.viewer.v0+json": {
       "columns": [
        {
         "name": "index",
         "rawType": "int64",
         "type": "integer"
        },
        {
         "name": "Experience",
         "rawType": "object",
         "type": "string"
        },
        {
         "name": "Employee_Location",
         "rawType": "object",
         "type": "string"
        },
        {
         "name": "Salary_USD",
         "rawType": "float64",
         "type": "float"
        }
       ],
       "ref": "3a192c63-d95a-4fdc-8619-f4b3fedee0f4",
       "rows": [
        [
         "25",
         "Executive",
         "US",
         "310321.0"
        ],
        [
         "33",
         "Mid",
         "US",
         "429675.0"
        ],
        [
         "63",
         "Senior",
         "US",
         "393392.0"
        ],
        [
         "97",
         "Mid",
         "US",
         "429675.0"
        ],
        [
         "157",
         "Mid",
         "US",
         "403895.0"
        ],
        [
         "225",
         "Executive",
         "US",
         "397211.0"
        ],
        [
         "252",
         "Executive",
         "US",
         "572900.0"
        ],
        [
         "482",
         "Executive",
         "US",
         "309366.0"
        ],
        [
         "519",
         "Senior",
         "US",
         "362837.0"
        ],
        [
         "523",
         "Senior",
         "US",
         "386708.0"
        ]
       ],
       "shape": {
        "columns": 3,
        "rows": 10
       }
      },
      "text/html": [
       "<div>\n",
       "<style scoped>\n",
       "    .dataframe tbody tr th:only-of-type {\n",
       "        vertical-align: middle;\n",
       "    }\n",
       "\n",
       "    .dataframe tbody tr th {\n",
       "        vertical-align: top;\n",
       "    }\n",
       "\n",
       "    .dataframe thead th {\n",
       "        text-align: right;\n",
       "    }\n",
       "</style>\n",
       "<table border=\"1\" class=\"dataframe\">\n",
       "  <thead>\n",
       "    <tr style=\"text-align: right;\">\n",
       "      <th></th>\n",
       "      <th>Experience</th>\n",
       "      <th>Employee_Location</th>\n",
       "      <th>Salary_USD</th>\n",
       "    </tr>\n",
       "  </thead>\n",
       "  <tbody>\n",
       "    <tr>\n",
       "      <th>25</th>\n",
       "      <td>Executive</td>\n",
       "      <td>US</td>\n",
       "      <td>310321.0</td>\n",
       "    </tr>\n",
       "    <tr>\n",
       "      <th>33</th>\n",
       "      <td>Mid</td>\n",
       "      <td>US</td>\n",
       "      <td>429675.0</td>\n",
       "    </tr>\n",
       "    <tr>\n",
       "      <th>63</th>\n",
       "      <td>Senior</td>\n",
       "      <td>US</td>\n",
       "      <td>393392.0</td>\n",
       "    </tr>\n",
       "    <tr>\n",
       "      <th>97</th>\n",
       "      <td>Mid</td>\n",
       "      <td>US</td>\n",
       "      <td>429675.0</td>\n",
       "    </tr>\n",
       "    <tr>\n",
       "      <th>157</th>\n",
       "      <td>Mid</td>\n",
       "      <td>US</td>\n",
       "      <td>403895.0</td>\n",
       "    </tr>\n",
       "    <tr>\n",
       "      <th>225</th>\n",
       "      <td>Executive</td>\n",
       "      <td>US</td>\n",
       "      <td>397211.0</td>\n",
       "    </tr>\n",
       "    <tr>\n",
       "      <th>252</th>\n",
       "      <td>Executive</td>\n",
       "      <td>US</td>\n",
       "      <td>572900.0</td>\n",
       "    </tr>\n",
       "    <tr>\n",
       "      <th>482</th>\n",
       "      <td>Executive</td>\n",
       "      <td>US</td>\n",
       "      <td>309366.0</td>\n",
       "    </tr>\n",
       "    <tr>\n",
       "      <th>519</th>\n",
       "      <td>Senior</td>\n",
       "      <td>US</td>\n",
       "      <td>362837.0</td>\n",
       "    </tr>\n",
       "    <tr>\n",
       "      <th>523</th>\n",
       "      <td>Senior</td>\n",
       "      <td>US</td>\n",
       "      <td>386708.0</td>\n",
       "    </tr>\n",
       "  </tbody>\n",
       "</table>\n",
       "</div>"
      ],
      "text/plain": [
       "    Experience Employee_Location  Salary_USD\n",
       "25   Executive                US    310321.0\n",
       "33         Mid                US    429675.0\n",
       "63      Senior                US    393392.0\n",
       "97         Mid                US    429675.0\n",
       "157        Mid                US    403895.0\n",
       "225  Executive                US    397211.0\n",
       "252  Executive                US    572900.0\n",
       "482  Executive                US    309366.0\n",
       "519     Senior                US    362837.0\n",
       "523     Senior                US    386708.0"
      ]
     },
     "execution_count": 91,
     "metadata": {},
     "output_type": "execute_result"
    }
   ],
   "source": [
    "salaries[(salaries[\"Salary_USD\"] < lower) | (salaries[\"Salary_USD\"] > upper)][[\"Experience\", \"Employee_Location\", \"Salary_USD\"]]"
   ]
  },
  {
   "cell_type": "markdown",
   "id": "vTddqgTIW0aF",
   "metadata": {
    "id": "vTddqgTIW0aF"
   },
   "source": [
    "### Why look for outliers?\n",
    "\n",
    "- Outliers are extreme values\n",
    "*- may not accurately represent our data\n",
    "- Can change the mean and standard deviation\n",
    "- Statistical tests and machine learning models need normally distributed data\n",
    "\n",
    "\n",
    "### What to do about outliers?\n",
    "- Why do these outliers exist?\n",
    "-- More senior roles / different countries pay more\n",
    "-- Consider leaving them in nthe dataset\n",
    "\n",
    "- Is the data accurate?\n",
    "-- Could there have been an error in data collection?\n",
    "-- If so, remove them.\n",
    "\n"
   ]
  },
  {
   "cell_type": "markdown",
   "id": "VChJ8BO4YKZm",
   "metadata": {
    "id": "VChJ8BO4YKZm"
   },
   "source": [
    "### Dropping outliers"
   ]
  },
  {
   "cell_type": "code",
   "execution_count": 92,
   "id": "UctHIlpcWxcA",
   "metadata": {
    "id": "UctHIlpcWxcA"
   },
   "outputs": [],
   "source": [
    "no_outliers = salaries[(salaries[\"Salary_USD\"] > lower) & (salaries[\"Salary_USD\"] < upper)]"
   ]
  },
  {
   "cell_type": "code",
   "execution_count": 93,
   "id": "yh9nPcW5YBuS",
   "metadata": {
    "colab": {
     "base_uri": "https://localhost:8080/"
    },
    "id": "yh9nPcW5YBuS",
    "outputId": "7d6b4649-2e4e-4dcf-f7cc-3ff90d53f447"
   },
   "outputs": [
    {
     "name": "stdout",
     "output_type": "stream",
     "text": [
      "count       597.000000\n",
      "mean     102328.480737\n",
      "std       55910.790653\n",
      "min        2730.000000\n",
      "25%       59819.000000\n",
      "50%       95483.000000\n",
      "75%      141565.000000\n",
      "max      263534.000000\n",
      "Name: Salary_USD, dtype: float64\n",
      "\n"
     ]
    }
   ],
   "source": [
    "print(no_outliers[\"Salary_USD\"].describe())"
   ]
  },
  {
   "cell_type": "code",
   "execution_count": 94,
   "id": "znrn48YGYIlL",
   "metadata": {
    "colab": {
     "base_uri": "https://localhost:8080/",
     "height": 591
    },
    "id": "znrn48YGYIlL",
    "outputId": "b608fc68-7707-4ae0-a443-736852883dd4"
   },
   "outputs": [
    {
     "data": {
      "image/png": "[encoded data removed]",
      "text/plain": [
       "<Figure size 1400x600 with 2 Axes>"
      ]
     },
     "metadata": {},
     "output_type": "display_data"
    }
   ],
   "source": [
    "fig, (ax1, ax2) = plt.subplots(nrows=1, ncols=2, figsize=(14, 6))\n",
    "\n",
    "sns.histplot(data=salaries, x=\"Salary_USD\", ax=ax1, stat=\"density\", element=\"bars\", bins=30)\n",
    "ax1.set(title=\"Salary ($) for Data Professionals including Outliers\",\n",
    "        xlabel=\"Salary ($)\",\n",
    "        ylabel=\"Count\")\n",
    "\n",
    "sns.histplot(data=no_outliers, x=\"Salary_USD\", ax=ax2, stat=\"density\", element=\"bars\", bins=30)\n",
    "ax2.set(title=\"Salary ($) for Data Professionals excluding Outliers\",\n",
    "        xlabel=\"Salary ($)\",\n",
    "        ylabel=\"Count\")\n",
    "\n",
    "plt.tight_layout()\n",
    "plt.show()"
   ]
  },
  {
   "cell_type": "markdown",
   "id": "a9bfac1e",
   "metadata": {},
   "source": [
    "### Identifying outliers in Flight Prices and Duration\n",
    "You've proven that you recognize what to do when presented with outliers, but can you identify them using visualizations?\n",
    "\n",
    "Try to figure out if there are outliers in the `\"Price\"` or `\"Duration\"` columns of the planes DataFrame. Visual inspection using histograms can often reveal skewness and potential extreme values."
   ]
  },
  {
   "cell_type": "code",
   "execution_count": 95,
   "id": "fRx1DgoRbRqn",
   "metadata": {
    "id": "fRx1DgoRbRqn"
   },
   "outputs": [
    {
     "data": {
      "image/png": "[encoded data removed]",
      "text/plain": [
       "<Figure size 640x480 with 2 Axes>"
      ]
     },
     "metadata": {},
     "output_type": "display_data"
    }
   ],
   "source": [
    "# Plot a histogram of flight prices and duration to visually inspect for outliers\n",
    "fig, (ax1, ax2) = plt.subplots(nrows=1, ncols=2)\n",
    "sns.histplot(data=planes, x=\"Price\", ax=ax1, bins=30)\n",
    "ax1.set_title(\"Distribution of Flight Prices\") # Add title for clarity\n",
    "sns.histplot(data=planes, x=\"Duration\", ax=ax2, bins=30)\n",
    "ax2.set_title(\"Distribution of Flight Durations\") # Add title for clarity\n",
    "plt.tight_layout()\n",
    "plt.show()"
   ]
  },
  {
   "cell_type": "markdown",
   "id": "50b9a5ae",
   "metadata": {},
   "source": [
    "### Calculating IQR for Outlier Detection in \"Price\"\n",
    "\n",
    "The Interquartile Range (IQR) is a common method for identifying outliers. It measures the spread of the middle 50% of the data.\n",
    "\n",
    "- **Q1 (25th percentile)**: The value below which 25% of the data falls.\n",
    "- **Q3 (75th percentile)**: The value below which 75% of the data falls.\n",
    "- **IQR = Q3 - Q1**\n",
    "\n",
    "Outliers are typically defined as values that fall below `Q1 - 1.5 * IQR` or above `Q3 + 1.5 * IQR`."
   ]
  },
  {
   "cell_type": "code",
   "execution_count": 96,
   "id": "849eb47a",
   "metadata": {},
   "outputs": [
    {
     "name": "stdout",
     "output_type": "stream",
     "text": [
      "Upper threshold for Price: 22763.0\n",
      "Lower threshold for Price: -5293.0\n",
      "IQR for Price: 7014.0\n"
     ]
    }
   ],
   "source": [
    "# Calculate the 75th percentile for 'Price'\n",
    "price_seventy_fifth = planes[\"Price\"].quantile(0.75)\n",
    "# Calculate the 25th percentile for 'Price'\n",
    "price_twenty_fifth = planes[\"Price\"].quantile(0.25)\n",
    "\n",
    "# Calculate the Interquartile Range (IQR) for 'Price'\n",
    "prices_iqr = price_seventy_fifth - price_twenty_fifth\n",
    "\n",
    "# Calculate the upper threshold for outlier detection\n",
    "upper = price_seventy_fifth + (1.5 * prices_iqr)\n",
    "# Calculate the lower threshold for outlier detection\n",
    "lower = price_twenty_fifth - (1.5 * prices_iqr)\n",
    "\n",
    "# Print the calculated thresholds and IQR for transparency\n",
    "print(f\"Upper threshold for Price: {upper}\")\n",
    "print(f\"Lower threshold for Price: {lower}\")\n",
    "print(f\"IQR for Price: {prices_iqr}\")"
   ]
  },
  {
   "cell_type": "markdown",
   "id": "141dce0e",
   "metadata": {},
   "source": [
    "### Filtering Outliers from \"Price\"\n",
    "\n",
    "Once the upper and lower bounds are defined using the IQR method, we can filter the DataFrame to remove rows where the \"Price\" falls outside these bounds. This helps in creating a dataset that is less influenced by extreme values, which can be beneficial for certain types of analysis or modeling."
   ]
  },
  {
   "cell_type": "code",
   "execution_count": 97,
   "id": "1f4a6e49",
   "metadata": {},
   "outputs": [],
   "source": [
    "planes = planes[(planes[\"Price\"] > lower) & (planes[\"Price\"] < upper)]\n"
   ]
  },
  {
   "cell_type": "markdown",
   "id": "e707b14a",
   "metadata": {},
   "source": [
    "### Verifying Price Distribution After Outlier Removal\n",
    "\n",
    "After removing outliers, it's good practice to check the descriptive statistics of the \"Price\" column again. We expect to see a more constrained range and potentially a mean value closer to the median if the outliers were significantly skewing the data."
   ]
  },
  {
   "cell_type": "code",
   "execution_count": 98,
   "id": "80867c8d",
   "metadata": {},
   "outputs": [
    {
     "name": "stdout",
     "output_type": "stream",
     "text": [
      "count     8141.000000\n",
      "mean      8872.072718\n",
      "std       4002.453551\n",
      "min       1759.000000\n",
      "25%       5224.000000\n",
      "50%       8372.000000\n",
      "75%      12121.000000\n",
      "max      22270.000000\n",
      "Name: Price, dtype: float64\n"
     ]
    }
   ],
   "source": [
    "print(planes[\"Price\"].describe())\n"
   ]
  },
  {
   "cell_type": "code",
   "execution_count": 99,
   "id": "132a94e9",
   "metadata": {},
   "outputs": [
    {
     "name": "stdout",
     "output_type": "stream",
     "text": [
      "count     8141.000000\n",
      "mean      8872.072718\n",
      "std       4002.453551\n",
      "min       1759.000000\n",
      "25%       5224.000000\n",
      "50%       8372.000000\n",
      "75%      12121.000000\n",
      "max      22270.000000\n",
      "Name: Price, dtype: float64\n",
      "Shape after outlier removal: (8141, 16)\n"
     ]
    }
   ],
   "source": [
    "# Display descriptive statistics for the 'Price' column after outlier removal\n",
    "# This helps to understand the impact of the outlier removal process on the distribution of 'Price'.\n",
    "print(planes[\"Price\"].describe())\n",
    "# Filter the DataFrame to keep only rows where 'Price' is within the calculated lower and upper bounds\n",
    "# This removes potential outliers based on the IQR method.\n",
    "planes = planes[(planes[\"Price\"] >= lower) & (planes[\"Price\"] <= upper)]\n",
    "\n",
    "# Check the shape of the DataFrame after outlier removal to see how many rows were affected\n",
    "print(f\"Shape after outlier removal: {planes.shape}\")\n"
   ]
  },
  {
   "cell_type": "markdown",
   "id": "ce98ab5a",
   "metadata": {},
   "source": [
    "## Relationships in Data\n",
    "Variables in datasets don't exist in a vacuum; they have relationships with each other. In this chapter, you'll look at relationships across numerical, categorical, and even DateTime data, exploring the direction and strength of these relationships as well as ways to visualize them."
   ]
  },
  {
   "cell_type": "markdown",
   "id": "8c8e56d3",
   "metadata": {},
   "source": [
    "### Patterns over time"
   ]
  },
  {
   "cell_type": "code",
   "execution_count": 100,
   "id": "304f8086",
   "metadata": {},
   "outputs": [
    {
     "data": {
      "application/vnd.microsoft.datawrangler.viewer.v0+json": {
       "columns": [
        {
         "name": "index",
         "rawType": "int64",
         "type": "integer"
        },
        {
         "name": "divorce_date",
         "rawType": "object",
         "type": "string"
        },
        {
         "name": "dob_man",
         "rawType": "object",
         "type": "string"
        },
        {
         "name": "education_man",
         "rawType": "object",
         "type": "string"
        },
        {
         "name": "income_man",
         "rawType": "float64",
         "type": "float"
        },
        {
         "name": "dob_woman",
         "rawType": "object",
         "type": "string"
        },
        {
         "name": "education_woman",
         "rawType": "object",
         "type": "string"
        },
        {
         "name": "income_woman",
         "rawType": "float64",
         "type": "float"
        },
        {
         "name": "marriage_date",
         "rawType": "object",
         "type": "string"
        },
        {
         "name": "marriage_duration",
         "rawType": "float64",
         "type": "float"
        },
        {
         "name": "num_kids",
         "rawType": "float64",
         "type": "float"
        }
       ],
       "ref": "17a6f826-8720-4f33-b667-08897bfdb45b",
       "rows": [
        [
         "0",
         "2006-09-06",
         "1975-12-18",
         "Secondary",
         "2000.0",
         "1983-08-01",
         "Secondary",
         "1800.0",
         "2000-06-26",
         "5.0",
         "1.0"
        ],
        [
         "1",
         "2008-01-02",
         "1976-11-17",
         "Professional",
         "6000.0",
         "1977-03-13",
         "Professional",
         "6000.0",
         "2001-09-02",
         "7.0",
         null
        ],
        [
         "2",
         "2011-01-02",
         "1969-04-06",
         "Preparatory",
         "5000.0",
         "1970-02-16",
         "Professional",
         "5000.0",
         "2000-02-02",
         "2.0",
         "2.0"
        ],
        [
         "3",
         "2011-01-02",
         "1979-11-13",
         "Secondary",
         "12000.0",
         "1981-05-13",
         "Secondary",
         "12000.0",
         "2006-05-13",
         "2.0",
         null
        ],
        [
         "4",
         "2011-01-02",
         "1982-09-20",
         "Professional",
         "6000.0",
         "1988-01-30",
         "Professional",
         "10000.0",
         "2007-08-06",
         "3.0",
         null
        ]
       ],
       "shape": {
        "columns": 10,
        "rows": 5
       }
      },
      "text/html": [
       "<div>\n",
       "<style scoped>\n",
       "    .dataframe tbody tr th:only-of-type {\n",
       "        vertical-align: middle;\n",
       "    }\n",
       "\n",
       "    .dataframe tbody tr th {\n",
       "        vertical-align: top;\n",
       "    }\n",
       "\n",
       "    .dataframe thead th {\n",
       "        text-align: right;\n",
       "    }\n",
       "</style>\n",
       "<table border=\"1\" class=\"dataframe\">\n",
       "  <thead>\n",
       "    <tr style=\"text-align: right;\">\n",
       "      <th></th>\n",
       "      <th>divorce_date</th>\n",
       "      <th>dob_man</th>\n",
       "      <th>education_man</th>\n",
       "      <th>income_man</th>\n",
       "      <th>dob_woman</th>\n",
       "      <th>education_woman</th>\n",
       "      <th>income_woman</th>\n",
       "      <th>marriage_date</th>\n",
       "      <th>marriage_duration</th>\n",
       "      <th>num_kids</th>\n",
       "    </tr>\n",
       "  </thead>\n",
       "  <tbody>\n",
       "    <tr>\n",
       "      <th>0</th>\n",
       "      <td>2006-09-06</td>\n",
       "      <td>1975-12-18</td>\n",
       "      <td>Secondary</td>\n",
       "      <td>2000.0</td>\n",
       "      <td>1983-08-01</td>\n",
       "      <td>Secondary</td>\n",
       "      <td>1800.0</td>\n",
       "      <td>2000-06-26</td>\n",
       "      <td>5.0</td>\n",
       "      <td>1.0</td>\n",
       "    </tr>\n",
       "    <tr>\n",
       "      <th>1</th>\n",
       "      <td>2008-01-02</td>\n",
       "      <td>1976-11-17</td>\n",
       "      <td>Professional</td>\n",
       "      <td>6000.0</td>\n",
       "      <td>1977-03-13</td>\n",
       "      <td>Professional</td>\n",
       "      <td>6000.0</td>\n",
       "      <td>2001-09-02</td>\n",
       "      <td>7.0</td>\n",
       "      <td>NaN</td>\n",
       "    </tr>\n",
       "    <tr>\n",
       "      <th>2</th>\n",
       "      <td>2011-01-02</td>\n",
       "      <td>1969-04-06</td>\n",
       "      <td>Preparatory</td>\n",
       "      <td>5000.0</td>\n",
       "      <td>1970-02-16</td>\n",
       "      <td>Professional</td>\n",
       "      <td>5000.0</td>\n",
       "      <td>2000-02-02</td>\n",
       "      <td>2.0</td>\n",
       "      <td>2.0</td>\n",
       "    </tr>\n",
       "    <tr>\n",
       "      <th>3</th>\n",
       "      <td>2011-01-02</td>\n",
       "      <td>1979-11-13</td>\n",
       "      <td>Secondary</td>\n",
       "      <td>12000.0</td>\n",
       "      <td>1981-05-13</td>\n",
       "      <td>Secondary</td>\n",
       "      <td>12000.0</td>\n",
       "      <td>2006-05-13</td>\n",
       "      <td>2.0</td>\n",
       "      <td>NaN</td>\n",
       "    </tr>\n",
       "    <tr>\n",
       "      <th>4</th>\n",
       "      <td>2011-01-02</td>\n",
       "      <td>1982-09-20</td>\n",
       "      <td>Professional</td>\n",
       "      <td>6000.0</td>\n",
       "      <td>1988-01-30</td>\n",
       "      <td>Professional</td>\n",
       "      <td>10000.0</td>\n",
       "      <td>2007-08-06</td>\n",
       "      <td>3.0</td>\n",
       "      <td>NaN</td>\n",
       "    </tr>\n",
       "  </tbody>\n",
       "</table>\n",
       "</div>"
      ],
      "text/plain": [
       "  divorce_date     dob_man education_man  income_man   dob_woman  \\\n",
       "0   2006-09-06  1975-12-18     Secondary      2000.0  1983-08-01   \n",
       "1   2008-01-02  1976-11-17  Professional      6000.0  1977-03-13   \n",
       "2   2011-01-02  1969-04-06   Preparatory      5000.0  1970-02-16   \n",
       "3   2011-01-02  1979-11-13     Secondary     12000.0  1981-05-13   \n",
       "4   2011-01-02  1982-09-20  Professional      6000.0  1988-01-30   \n",
       "\n",
       "  education_woman  income_woman marriage_date  marriage_duration  num_kids  \n",
       "0       Secondary        1800.0    2000-06-26                5.0       1.0  \n",
       "1    Professional        6000.0    2001-09-02                7.0       NaN  \n",
       "2    Professional        5000.0    2000-02-02                2.0       2.0  \n",
       "3       Secondary       12000.0    2006-05-13                2.0       NaN  \n",
       "4    Professional       10000.0    2007-08-06                3.0       NaN  "
      ]
     },
     "execution_count": 100,
     "metadata": {},
     "output_type": "execute_result"
    }
   ],
   "source": [
    "divorce = pd.read_csv(\"data/divorce.csv\")\n",
    "divorce.head()"
   ]
  },
  {
   "cell_type": "markdown",
   "id": "a98970f6",
   "metadata": {},
   "source": [
    "### Importing DateTime data\n",
    "- DateTime data needs to be explicitly declared to Pandas\n",
    "- Use `pd.to_datetime()` to convert strings to DateTime objects\n",
    "- Use or `parse_dates` to load DateTime data from a CSV file"
   ]
  },
  {
   "cell_type": "code",
   "execution_count": 101,
   "id": "47d10584",
   "metadata": {},
   "outputs": [
    {
     "data": {
      "application/vnd.microsoft.datawrangler.viewer.v0+json": {
       "columns": [
        {
         "name": "index",
         "rawType": "object",
         "type": "string"
        },
        {
         "name": "0",
         "rawType": "object",
         "type": "unknown"
        }
       ],
       "ref": "9ef7ac50-4305-446d-9f9a-2a1c25e32108",
       "rows": [
        [
         "divorce_date",
         "object"
        ],
        [
         "dob_man",
         "object"
        ],
        [
         "education_man",
         "object"
        ],
        [
         "income_man",
         "float64"
        ],
        [
         "dob_woman",
         "object"
        ],
        [
         "education_woman",
         "object"
        ],
        [
         "income_woman",
         "float64"
        ],
        [
         "marriage_date",
         "object"
        ],
        [
         "marriage_duration",
         "float64"
        ],
        [
         "num_kids",
         "float64"
        ]
       ],
       "shape": {
        "columns": 1,
        "rows": 10
       }
      },
      "text/plain": [
       "divorce_date          object\n",
       "dob_man               object\n",
       "education_man         object\n",
       "income_man           float64\n",
       "dob_woman             object\n",
       "education_woman       object\n",
       "income_woman         float64\n",
       "marriage_date         object\n",
       "marriage_duration    float64\n",
       "num_kids             float64\n",
       "dtype: object"
      ]
     },
     "execution_count": 101,
     "metadata": {},
     "output_type": "execute_result"
    }
   ],
   "source": [
    "divorce.dtypes"
   ]
  },
  {
   "cell_type": "code",
   "execution_count": 102,
   "id": "5919db18",
   "metadata": {},
   "outputs": [
    {
     "data": {
      "application/vnd.microsoft.datawrangler.viewer.v0+json": {
       "columns": [
        {
         "name": "index",
         "rawType": "object",
         "type": "string"
        },
        {
         "name": "0",
         "rawType": "object",
         "type": "unknown"
        }
       ],
       "ref": "2656395d-7554-473d-bab4-9ffa642645b2",
       "rows": [
        [
         "divorce_date",
         "object"
        ],
        [
         "dob_man",
         "object"
        ],
        [
         "education_man",
         "object"
        ],
        [
         "income_man",
         "float64"
        ],
        [
         "dob_woman",
         "object"
        ],
        [
         "education_woman",
         "object"
        ],
        [
         "income_woman",
         "float64"
        ],
        [
         "marriage_date",
         "datetime64[ns]"
        ],
        [
         "marriage_duration",
         "float64"
        ],
        [
         "num_kids",
         "float64"
        ]
       ],
       "shape": {
        "columns": 1,
        "rows": 10
       }
      },
      "text/plain": [
       "divorce_date                 object\n",
       "dob_man                      object\n",
       "education_man                object\n",
       "income_man                  float64\n",
       "dob_woman                    object\n",
       "education_woman              object\n",
       "income_woman                float64\n",
       "marriage_date        datetime64[ns]\n",
       "marriage_duration           float64\n",
       "num_kids                    float64\n",
       "dtype: object"
      ]
     },
     "execution_count": 102,
     "metadata": {},
     "output_type": "execute_result"
    }
   ],
   "source": [
    "divorce = pd.read_csv(\"data/divorce.csv\", parse_dates=[\"marriage_date\"])\n",
    "divorce.dtypes"
   ]
  },
  {
   "cell_type": "code",
   "execution_count": 103,
   "id": "3482e2d9",
   "metadata": {},
   "outputs": [
    {
     "data": {
      "application/vnd.microsoft.datawrangler.viewer.v0+json": {
       "columns": [
        {
         "name": "index",
         "rawType": "object",
         "type": "string"
        },
        {
         "name": "0",
         "rawType": "object",
         "type": "unknown"
        }
       ],
       "ref": "fe2fc621-fcf7-431c-b75f-f91367b052ac",
       "rows": [
        [
         "divorce_date",
         "object"
        ],
        [
         "dob_man",
         "object"
        ],
        [
         "education_man",
         "object"
        ],
        [
         "income_man",
         "float64"
        ],
        [
         "dob_woman",
         "object"
        ],
        [
         "education_woman",
         "object"
        ],
        [
         "income_woman",
         "float64"
        ],
        [
         "marriage_date",
         "datetime64[ns]"
        ],
        [
         "marriage_duration",
         "float64"
        ],
        [
         "num_kids",
         "float64"
        ]
       ],
       "shape": {
        "columns": 1,
        "rows": 10
       }
      },
      "text/plain": [
       "divorce_date                 object\n",
       "dob_man                      object\n",
       "education_man                object\n",
       "income_man                  float64\n",
       "dob_woman                    object\n",
       "education_woman              object\n",
       "income_woman                float64\n",
       "marriage_date        datetime64[ns]\n",
       "marriage_duration           float64\n",
       "num_kids                    float64\n",
       "dtype: object"
      ]
     },
     "execution_count": 103,
     "metadata": {},
     "output_type": "execute_result"
    }
   ],
   "source": [
    "# pd.to_datetime() converts arguments to DateTime data\n",
    "divorce[\"marriage_date\"] = pd.to_datetime(divorce[\"marriage_date\"])\n",
    "divorce.dtypes"
   ]
  },
  {
   "cell_type": "code",
   "execution_count": 104,
   "id": "f5693788",
   "metadata": {},
   "outputs": [
    {
     "data": {
      "application/vnd.microsoft.datawrangler.viewer.v0+json": {
       "columns": [
        {
         "name": "index",
         "rawType": "int64",
         "type": "integer"
        },
        {
         "name": "divorce_date",
         "rawType": "object",
         "type": "string"
        },
        {
         "name": "dob_man",
         "rawType": "object",
         "type": "string"
        },
        {
         "name": "education_man",
         "rawType": "object",
         "type": "string"
        },
        {
         "name": "income_man",
         "rawType": "float64",
         "type": "float"
        },
        {
         "name": "dob_woman",
         "rawType": "object",
         "type": "string"
        },
        {
         "name": "education_woman",
         "rawType": "object",
         "type": "string"
        },
        {
         "name": "income_woman",
         "rawType": "float64",
         "type": "float"
        },
        {
         "name": "marriage_date",
         "rawType": "datetime64[ns]",
         "type": "datetime"
        },
        {
         "name": "marriage_duration",
         "rawType": "float64",
         "type": "float"
        },
        {
         "name": "num_kids",
         "rawType": "float64",
         "type": "float"
        }
       ],
       "ref": "14a21970-ff1e-4522-ab44-086ca2a62b72",
       "rows": [
        [
         "0",
         "2006-09-06",
         "1975-12-18",
         "Secondary",
         "2000.0",
         "1983-08-01",
         "Secondary",
         "1800.0",
         "2000-06-26 00:00:00",
         "5.0",
         "1.0"
        ],
        [
         "1",
         "2008-01-02",
         "1976-11-17",
         "Professional",
         "6000.0",
         "1977-03-13",
         "Professional",
         "6000.0",
         "2001-09-02 00:00:00",
         "7.0",
         null
        ]
       ],
       "shape": {
        "columns": 10,
        "rows": 2
       }
      },
      "text/html": [
       "<div>\n",
       "<style scoped>\n",
       "    .dataframe tbody tr th:only-of-type {\n",
       "        vertical-align: middle;\n",
       "    }\n",
       "\n",
       "    .dataframe tbody tr th {\n",
       "        vertical-align: top;\n",
       "    }\n",
       "\n",
       "    .dataframe thead th {\n",
       "        text-align: right;\n",
       "    }\n",
       "</style>\n",
       "<table border=\"1\" class=\"dataframe\">\n",
       "  <thead>\n",
       "    <tr style=\"text-align: right;\">\n",
       "      <th></th>\n",
       "      <th>divorce_date</th>\n",
       "      <th>dob_man</th>\n",
       "      <th>education_man</th>\n",
       "      <th>income_man</th>\n",
       "      <th>dob_woman</th>\n",
       "      <th>education_woman</th>\n",
       "      <th>income_woman</th>\n",
       "      <th>marriage_date</th>\n",
       "      <th>marriage_duration</th>\n",
       "      <th>num_kids</th>\n",
       "    </tr>\n",
       "  </thead>\n",
       "  <tbody>\n",
       "    <tr>\n",
       "      <th>0</th>\n",
       "      <td>2006-09-06</td>\n",
       "      <td>1975-12-18</td>\n",
       "      <td>Secondary</td>\n",
       "      <td>2000.0</td>\n",
       "      <td>1983-08-01</td>\n",
       "      <td>Secondary</td>\n",
       "      <td>1800.0</td>\n",
       "      <td>2000-06-26</td>\n",
       "      <td>5.0</td>\n",
       "      <td>1.0</td>\n",
       "    </tr>\n",
       "    <tr>\n",
       "      <th>1</th>\n",
       "      <td>2008-01-02</td>\n",
       "      <td>1976-11-17</td>\n",
       "      <td>Professional</td>\n",
       "      <td>6000.0</td>\n",
       "      <td>1977-03-13</td>\n",
       "      <td>Professional</td>\n",
       "      <td>6000.0</td>\n",
       "      <td>2001-09-02</td>\n",
       "      <td>7.0</td>\n",
       "      <td>NaN</td>\n",
       "    </tr>\n",
       "  </tbody>\n",
       "</table>\n",
       "</div>"
      ],
      "text/plain": [
       "  divorce_date     dob_man education_man  income_man   dob_woman  \\\n",
       "0   2006-09-06  1975-12-18     Secondary      2000.0  1983-08-01   \n",
       "1   2008-01-02  1976-11-17  Professional      6000.0  1977-03-13   \n",
       "\n",
       "  education_woman  income_woman marriage_date  marriage_duration  num_kids  \n",
       "0       Secondary        1800.0    2000-06-26                5.0       1.0  \n",
       "1    Professional        6000.0    2001-09-02                7.0       NaN  "
      ]
     },
     "execution_count": 104,
     "metadata": {},
     "output_type": "execute_result"
    }
   ],
   "source": [
    "divorce.head(2)"
   ]
  },
  {
   "cell_type": "code",
   "execution_count": 105,
   "id": "6ac246b5",
   "metadata": {},
   "outputs": [],
   "source": [
    "# divorce[\"marriage_date\"] = pd.to_datetime(divorce[[\"month\", \"day\", \"year\"]])\n",
    "# divorce.head(2)\n"
   ]
  },
  {
   "cell_type": "markdown",
   "id": "6314288d",
   "metadata": {},
   "source": [
    "### Creating DateTime data\n",
    "Extract parts of a full date using `dt.month`, `dt.day`, and `dt.year` attributes\n"
   ]
  },
  {
   "cell_type": "code",
   "execution_count": 106,
   "id": "4403872c",
   "metadata": {},
   "outputs": [
    {
     "data": {
      "application/vnd.microsoft.datawrangler.viewer.v0+json": {
       "columns": [
        {
         "name": "index",
         "rawType": "int64",
         "type": "integer"
        },
        {
         "name": "divorce_date",
         "rawType": "object",
         "type": "string"
        },
        {
         "name": "dob_man",
         "rawType": "object",
         "type": "string"
        },
        {
         "name": "education_man",
         "rawType": "object",
         "type": "string"
        },
        {
         "name": "income_man",
         "rawType": "float64",
         "type": "float"
        },
        {
         "name": "dob_woman",
         "rawType": "object",
         "type": "string"
        },
        {
         "name": "education_woman",
         "rawType": "object",
         "type": "string"
        },
        {
         "name": "income_woman",
         "rawType": "float64",
         "type": "float"
        },
        {
         "name": "marriage_date",
         "rawType": "datetime64[ns]",
         "type": "datetime"
        },
        {
         "name": "marriage_duration",
         "rawType": "float64",
         "type": "float"
        },
        {
         "name": "num_kids",
         "rawType": "float64",
         "type": "float"
        },
        {
         "name": "marriage_month",
         "rawType": "int32",
         "type": "integer"
        }
       ],
       "ref": "8257bb8a-a35a-4aa6-819b-480f105eeab4",
       "rows": [
        [
         "0",
         "2006-09-06",
         "1975-12-18",
         "Secondary",
         "2000.0",
         "1983-08-01",
         "Secondary",
         "1800.0",
         "2000-06-26 00:00:00",
         "5.0",
         "1.0",
         "6"
        ],
        [
         "1",
         "2008-01-02",
         "1976-11-17",
         "Professional",
         "6000.0",
         "1977-03-13",
         "Professional",
         "6000.0",
         "2001-09-02 00:00:00",
         "7.0",
         null,
         "9"
        ],
        [
         "2",
         "2011-01-02",
         "1969-04-06",
         "Preparatory",
         "5000.0",
         "1970-02-16",
         "Professional",
         "5000.0",
         "2000-02-02 00:00:00",
         "2.0",
         "2.0",
         "2"
        ],
        [
         "3",
         "2011-01-02",
         "1979-11-13",
         "Secondary",
         "12000.0",
         "1981-05-13",
         "Secondary",
         "12000.0",
         "2006-05-13 00:00:00",
         "2.0",
         null,
         "5"
        ],
        [
         "4",
         "2011-01-02",
         "1982-09-20",
         "Professional",
         "6000.0",
         "1988-01-30",
         "Professional",
         "10000.0",
         "2007-08-06 00:00:00",
         "3.0",
         null,
         "8"
        ]
       ],
       "shape": {
        "columns": 11,
        "rows": 5
       }
      },
      "text/html": [
       "<div>\n",
       "<style scoped>\n",
       "    .dataframe tbody tr th:only-of-type {\n",
       "        vertical-align: middle;\n",
       "    }\n",
       "\n",
       "    .dataframe tbody tr th {\n",
       "        vertical-align: top;\n",
       "    }\n",
       "\n",
       "    .dataframe thead th {\n",
       "        text-align: right;\n",
       "    }\n",
       "</style>\n",
       "<table border=\"1\" class=\"dataframe\">\n",
       "  <thead>\n",
       "    <tr style=\"text-align: right;\">\n",
       "      <th></th>\n",
       "      <th>divorce_date</th>\n",
       "      <th>dob_man</th>\n",
       "      <th>education_man</th>\n",
       "      <th>income_man</th>\n",
       "      <th>dob_woman</th>\n",
       "      <th>education_woman</th>\n",
       "      <th>income_woman</th>\n",
       "      <th>marriage_date</th>\n",
       "      <th>marriage_duration</th>\n",
       "      <th>num_kids</th>\n",
       "      <th>marriage_month</th>\n",
       "    </tr>\n",
       "  </thead>\n",
       "  <tbody>\n",
       "    <tr>\n",
       "      <th>0</th>\n",
       "      <td>2006-09-06</td>\n",
       "      <td>1975-12-18</td>\n",
       "      <td>Secondary</td>\n",
       "      <td>2000.0</td>\n",
       "      <td>1983-08-01</td>\n",
       "      <td>Secondary</td>\n",
       "      <td>1800.0</td>\n",
       "      <td>2000-06-26</td>\n",
       "      <td>5.0</td>\n",
       "      <td>1.0</td>\n",
       "      <td>6</td>\n",
       "    </tr>\n",
       "    <tr>\n",
       "      <th>1</th>\n",
       "      <td>2008-01-02</td>\n",
       "      <td>1976-11-17</td>\n",
       "      <td>Professional</td>\n",
       "      <td>6000.0</td>\n",
       "      <td>1977-03-13</td>\n",
       "      <td>Professional</td>\n",
       "      <td>6000.0</td>\n",
       "      <td>2001-09-02</td>\n",
       "      <td>7.0</td>\n",
       "      <td>NaN</td>\n",
       "      <td>9</td>\n",
       "    </tr>\n",
       "    <tr>\n",
       "      <th>2</th>\n",
       "      <td>2011-01-02</td>\n",
       "      <td>1969-04-06</td>\n",
       "      <td>Preparatory</td>\n",
       "      <td>5000.0</td>\n",
       "      <td>1970-02-16</td>\n",
       "      <td>Professional</td>\n",
       "      <td>5000.0</td>\n",
       "      <td>2000-02-02</td>\n",
       "      <td>2.0</td>\n",
       "      <td>2.0</td>\n",
       "      <td>2</td>\n",
       "    </tr>\n",
       "    <tr>\n",
       "      <th>3</th>\n",
       "      <td>2011-01-02</td>\n",
       "      <td>1979-11-13</td>\n",
       "      <td>Secondary</td>\n",
       "      <td>12000.0</td>\n",
       "      <td>1981-05-13</td>\n",
       "      <td>Secondary</td>\n",
       "      <td>12000.0</td>\n",
       "      <td>2006-05-13</td>\n",
       "      <td>2.0</td>\n",
       "      <td>NaN</td>\n",
       "      <td>5</td>\n",
       "    </tr>\n",
       "    <tr>\n",
       "      <th>4</th>\n",
       "      <td>2011-01-02</td>\n",
       "      <td>1982-09-20</td>\n",
       "      <td>Professional</td>\n",
       "      <td>6000.0</td>\n",
       "      <td>1988-01-30</td>\n",
       "      <td>Professional</td>\n",
       "      <td>10000.0</td>\n",
       "      <td>2007-08-06</td>\n",
       "      <td>3.0</td>\n",
       "      <td>NaN</td>\n",
       "      <td>8</td>\n",
       "    </tr>\n",
       "  </tbody>\n",
       "</table>\n",
       "</div>"
      ],
      "text/plain": [
       "  divorce_date     dob_man education_man  income_man   dob_woman  \\\n",
       "0   2006-09-06  1975-12-18     Secondary      2000.0  1983-08-01   \n",
       "1   2008-01-02  1976-11-17  Professional      6000.0  1977-03-13   \n",
       "2   2011-01-02  1969-04-06   Preparatory      5000.0  1970-02-16   \n",
       "3   2011-01-02  1979-11-13     Secondary     12000.0  1981-05-13   \n",
       "4   2011-01-02  1982-09-20  Professional      6000.0  1988-01-30   \n",
       "\n",
       "  education_woman  income_woman marriage_date  marriage_duration  num_kids  \\\n",
       "0       Secondary        1800.0    2000-06-26                5.0       1.0   \n",
       "1    Professional        6000.0    2001-09-02                7.0       NaN   \n",
       "2    Professional        5000.0    2000-02-02                2.0       2.0   \n",
       "3       Secondary       12000.0    2006-05-13                2.0       NaN   \n",
       "4    Professional       10000.0    2007-08-06                3.0       NaN   \n",
       "\n",
       "   marriage_month  \n",
       "0               6  \n",
       "1               9  \n",
       "2               2  \n",
       "3               5  \n",
       "4               8  "
      ]
     },
     "execution_count": 106,
     "metadata": {},
     "output_type": "execute_result"
    }
   ],
   "source": [
    "divorce[\"marriage_month\"] = divorce[\"marriage_date\"].dt.month\n",
    "divorce.head()\n"
   ]
  },
  {
   "cell_type": "markdown",
   "id": "4fdd8d06",
   "metadata": {},
   "source": [
    "### Visualizing patterns over time\n"
   ]
  },
  {
   "cell_type": "code",
   "execution_count": 107,
   "id": "c44c30dd",
   "metadata": {},
   "outputs": [
    {
     "data": {
      "image/png": "[encoded data removed]",
      "text/plain": [
       "<Figure size 1000x600 with 1 Axes>"
      ]
     },
     "metadata": {},
     "output_type": "display_data"
    }
   ],
   "source": [
    "fig, ax = plt.subplots(figsize=(10, 6))\n",
    "sns.lineplot(data=divorce, x=\"marriage_month\", y=\"marriage_duration\", marker='o', linewidth=2.5, ax=ax)\n",
    "ax.set(title=\"Marriage Duration Trends by Month of Marriage\",\n",
    "       xlabel=\"Marriage Month\", \n",
    "       ylabel=\"Marriage Duration (in Years)\")\n",
    "# Add grid for better readability\n",
    "ax.grid(True, alpha=0.3)\n",
    "plt.tight_layout()\n",
    "plt.show()"
   ]
  },
  {
   "cell_type": "code",
   "execution_count": null,
   "id": "89e73056",
   "metadata": {},
   "outputs": [],
   "source": []
  }
 ],
 "metadata": {
  "accelerator": "TPU",
  "colab": {
   "gpuType": "V28",
   "include_colab_link": true,
   "machine_shape": "hm",
   "provenance": []
  },
  "kernelspec": {
   "display_name": "datacamp",
   "language": "python",
   "name": "python3"
  },
  "language_info": {
   "codemirror_mode": {
    "name": "ipython",
    "version": 3
   },
   "file_extension": ".py",
   "mimetype": "text/x-python",
   "name": "python",
   "nbconvert_exporter": "python",
   "pygments_lexer": "ipython3",
   "version": "3.12.8"
  }
 },
 "nbformat": 4,
 "nbformat_minor": 5
}
