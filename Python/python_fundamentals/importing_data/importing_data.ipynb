{
 "cells": [
  {
   "cell_type": "markdown",
   "id": "d9f27e06",
   "metadata": {},
   "source": [
    "# INTRODUCTION TO IMPORTING DATA IN PYTHON\n",
    "\n",
    "One of the core strengths of Python as a data science, engineering, and automation language is its extensive capability to **import and export data** from a wide range of sources. Whether working with flat files, files produced by other software, or relational databases, Python provides robust tools to read, process, and write data efficiently.\n",
    "\n",
    "\n",
    "### Types of Data Sources\n",
    "\n",
    "#### 1. Flat Files\n",
    "\n",
    "- Text files (`.txt`)\n",
    "- Comma-Separated Values (`.csv`)\n",
    "- Tab-delimited files (`.tsv`)\n",
    "- These are the most common formats for raw or exported data.\n",
    "\n",
    "#### 2. Files from Other Software\n",
    "\n",
    "- Excel files (`.xlsx`, `.xls`)\n",
    "- SPSS, Stata, SAS\n",
    "- Binary formats and data from statistical or business software\n",
    "\n",
    "#### 3. Relational Databases\n",
    "\n",
    "- SQL-based databases: SQLite, PostgreSQL, MySQL, etc.\n",
    "- NoSQL and semi-structured sources (MongoDB, JSON, XML) can also be handled, but require different approaches.\n",
    "\n",
    "### Reading Text Files in Python\n",
    "\n",
    "The foundational tool for file I/O in Python is the built-in `open()` function, which provides an interface to interact with files in various modes:\n",
    "\n",
    "- `'r'` – read (default)\n",
    "- `'w'` – write (overwrites existing file)\n",
    "- `'a'` – append (adds to end of file)\n",
    "- `'b'` – binary (for non-text data)\n",
    "- `'t'` – text (default, for strings)\n",
    "\n",
    "#### Basic Pattern: Reading a Text File\n",
    "\n",
    "```python\n",
    "filename = 'data.txt'\n",
    "file = open(filename, mode='r')  # Open file for reading\n",
    "text = file.read()               # Read entire file contents as a single string\n",
    "file.close()                     # Always close the file to free resources\n",
    "```\n",
    "\n",
    "##### Why Close the File?\n",
    "\n",
    "- Closing the file releases system resources, flushes any buffered data, and avoids resource leaks.\n",
    "- Failing to close files, especially in long-running programs or scripts processing many files, can lead to subtle bugs or performance issues.\n",
    "\n",
    "### Writing to a Text File\n",
    "\n",
    "Writing data follows the same `open()` pattern, with mode set to `'w'` (write):\n",
    "\n",
    "```python\n",
    "filename = 'output.txt'\n",
    "file = open(filename, mode='w')  # Open file for writing (creates/overwrites)\n",
    "file.write(\"Hello, world!\\n\")    # Write text to file\n",
    "file.close()                     # Always close after writing\n",
    "```\n",
    "\n",
    "- Be aware that opening a file in write mode will erase its previous contents.\n",
    "\n",
    "### The Pythonic Way: Context Managers with `with`\n",
    "\n",
    "Using the `with` statement (context manager) is the **recommended, Pythonic approach** for file I/O. It ensures that the file is **automatically closed** when the block is exited, even if errors occur.\n",
    "\n",
    "```python\n",
    "with open('data.txt', 'r') as file:\n",
    "    data = file.read()\n",
    "    # The file is open inside this block\n",
    "\n",
    "# Once outside, file is automatically closed\n",
    "```\n",
    "\n",
    "- Context managers improve reliability and code readability.\n",
    "- Works for both reading and writing (`'r'`, `'w'`, `'a'`, etc.).\n",
    "\n",
    "### Why These Techniques Matter\n",
    "\n",
    "- Data rarely comes in a single, ready-to-use format. Mastering Python’s I/O enables seamless integration with diverse data sources and downstream workflows.\n",
    "- Robust file handling practices (closing files, using context managers) prevent bugs, resource leaks, and data corruption.\n",
    "- This foundational knowledge prepares you to work with higher-level libraries (such as `pandas`, `csv`, `json`, `openpyxl`, and `sqlalchemy`) for more sophisticated data import/export tasks."
   ]
  },
  {
   "cell_type": "code",
   "execution_count": null,
   "id": "49c80e73",
   "metadata": {},
   "outputs": [],
   "source": [
    "import matplotlib.pyplot as plt\n",
    "import numpy as np\n",
    "import os\n",
    "import pandas as pd\n",
    "from pathlib import Path\n",
    "import polars as pl\n",
    "import seaborn as sns"
   ]
  },
  {
   "cell_type": "code",
   "execution_count": 182,
   "id": "315ffc37",
   "metadata": {},
   "outputs": [
    {
     "name": "stdout",
     "output_type": "stream",
     "text": [
      "CHAPTER 1. Loomings.\n",
      "\n",
      "Call me Ishmael. Some years ago--never mind how long precisely--having\n",
      "little or no money in my purse, and nothing particular to interest me on\n",
      "shore, I thought I would sail about a little and see the watery part of\n",
      "the world. It is a way I have of driving off the spleen and regulating\n",
      "the circulation. Whenever I find myself growing grim about the mouth;\n",
      "whenever it is a damp, drizzly November in my soul; whenever I find\n",
      "myself involuntarily pausing before coffin warehouses, and bringing up\n",
      "the rear of every funeral I meet; and especially whenever my hypos get\n",
      "such an upper hand of me, that it requires a strong moral principle to\n",
      "prevent me from deliberately stepping into the street, and methodically\n",
      "knocking people's hats off--then, I account it high time to get to sea\n",
      "as soon as I can. This is my substitute for pistol and ball. With a\n",
      "philosophical flourish Cato throws himself upon his sword; I quietly\n",
      "take to the ship. There is nothing surprising in this. If they but knew\n",
      "it, almost all men in their degree, some time or other, cherish very\n",
      "nearly the same feelings towards the ocean with me.\n"
     ]
    }
   ],
   "source": [
    "# Open the file moby_dick.txt as read-only using a with statement and bind it to the variable file. Make sure to pass the filename enclosed in quotation marks ''.\n",
    "with open(\"data/moby_dick.txt\") as file:\n",
    "    print(file.read())"
   ]
  },
  {
   "cell_type": "code",
   "execution_count": 183,
   "id": "d0ca44e4",
   "metadata": {},
   "outputs": [
    {
     "name": "stdout",
     "output_type": "stream",
     "text": [
      "CHAPTER 1. Loomings.\n",
      "\n",
      "Call me Ishmael. Some years ago--never mind how long precisely--having\n",
      "little or no money in my purse, and nothing particular to interest me on\n",
      "shore, I thought I would sail about a little and see the watery part of\n",
      "the world. It is a way I have of driving off the spleen and regulating\n",
      "the circulation. Whenever I find myself growing grim about the mouth;\n",
      "whenever it is a damp, drizzly November in my soul; whenever I find\n",
      "myself involuntarily pausing before coffin warehouses, and bringing up\n",
      "the rear of every funeral I meet; and especially whenever my hypos get\n",
      "such an upper hand of me, that it requires a strong moral principle to\n",
      "prevent me from deliberately stepping into the street, and methodically\n",
      "knocking people's hats off--then, I account it high time to get to sea\n",
      "as soon as I can. This is my substitute for pistol and ball. With a\n",
      "philosophical flourish Cato throws himself upon his sword; I quietly\n",
      "take to the ship. There is nothing surprising in this. If they but knew\n",
      "it, almost all men in their degree, some time or other, cherish very\n",
      "nearly the same feelings towards the ocean with me.\n"
     ]
    }
   ],
   "source": [
    "# Use the / operator to join path components - this is the key feature\n",
    "moby_path = Path(\"data\") / \"moby_dick.txt\"\n",
    "with open(moby_path, mode=\"r\", encoding=\"utf-8\") as file:\n",
    "    print(file.read().strip())"
   ]
  },
  {
   "cell_type": "markdown",
   "id": "bd63468e",
   "metadata": {},
   "source": [
    "### Importing text files line by line\n",
    "For large files, we may not want to print all of their content to the shell: you may wish to print only the first few lines. Enter the `.readline()` method, which allows you to do this. When a file called file is open, you can print out the first line by executing `file.readline()`. If you execute the same command again, the second line will print, and so on.\n",
    "\n",
    "In the introductory video, Hugo also introduced the concept of a context manager. He showed that you can bind a variable file by using a context manager construct:\n",
    "\n",
    "```python\n",
    "with open('huck_finn.txt') as file:\n",
    "```\n",
    "While still within this construct, the variable file will be bound to open('huck_finn.txt'); thus, to print the file to the shell, all the code you need to execute is:\n",
    "```python\n",
    "\n",
    "with open('huck_finn.txt') as file:\n",
    "    print(file.readline())\n",
    "```\n",
    "\n",
    "You'll now use these tools to print the first few lines of moby_dick.txt!"
   ]
  },
  {
   "cell_type": "code",
   "execution_count": 184,
   "id": "9b41822a",
   "metadata": {},
   "outputs": [
    {
     "name": "stdout",
     "output_type": "stream",
     "text": [
      "CHAPTER 1. Loomings.\n",
      "\n",
      "\n",
      "\n",
      "Call me Ishmael. Some years ago--never mind how long precisely--having\n",
      "\n"
     ]
    }
   ],
   "source": [
    "# Open moby_dick.txt using the with context manager and the variable file.\n",
    "with open(\"data/moby_dick.txt\") as file:\n",
    "    print(file.readline())\n",
    "    print(file.readline())\n",
    "    print(file.readline())"
   ]
  },
  {
   "cell_type": "markdown",
   "id": "16f2ce11",
   "metadata": {},
   "source": [
    "## The Importance of Flat Files in Data Science\n",
    "\n",
    "### What Are Flat Files?\n",
    "\n",
    "**Flat files** are the most fundamental and widely used format for storing and exchanging tabular data. They consist of plain text files in which each row represents a single record (observation) and each column represents a feature or attribute (field) of that record. Because of their simplicity and universal compatibility, flat files underpin the vast majority of data workflows, data exchanges, and archival systems in both research and industry.\n",
    "\n",
    "### Key Concepts\n",
    "\n",
    "- **Record**: A row in the file; each record is an individual observation or entry.\n",
    "- **Field / Attribute**: A column; each field is a property, variable, or feature of the record.\n",
    "- **Header Row**: Typically, the first row in the file specifies the names of each column, providing context for the data.\n",
    "- **Delimiters**: Characters that separate fields within a record—commonly commas (`,`), tabs (`\\t`), or semicolons (`;`).\n",
    "\n",
    "### Common File Extensions and Formats\n",
    "\n",
    "- `.csv` – **Comma-Separated Values** (most common): Each field is separated by a comma.\n",
    "- `.txt` – **Plain Text**: Can be structured with various delimiters (commas, tabs, spaces).\n",
    "- `.tsv` – **Tab-Separated Values**: Each field is separated by a tab character.\n",
    "\n",
    "**Example CSV:**\n",
    "```\n",
    "name,age,score\n",
    "Alice,23,88\n",
    "Bob,21,93\n",
    "```\n",
    "\n",
    "**Example Tab-Delimited (.txt or .tsv):**\n",
    "```\n",
    "name    age    score\n",
    "Alice   23     88\n",
    "Bob     21     93\n",
    "```\n",
    "\n",
    "### Flat Files in Practice\n",
    "\n",
    "#### Why Are Flat Files So Important in Data Science?\n",
    "\n",
    "- **Universality**: Supported by virtually all software tools, programming languages, databases, and operating systems.\n",
    "- **Human-Readable**: Easily inspected and edited with basic text editors.\n",
    "- **Portable**: Easy to share, version, and archive.\n",
    "- **Simplicity**: No embedded formulas, macros, or binary structures—just raw data.\n",
    "- **Interoperability**: Used as the lingua franca for data exchange between disparate systems.\n",
    "\n",
    "#### Data Science Scenarios\n",
    "\n",
    "- **Data Acquisition**: Many open datasets (e.g., from Kaggle, UCI, government portals) are distributed as flat files.\n",
    "- **Intermediate Processing**: Data pipelines often use CSV or TSV as staging or checkpoint formats.\n",
    "- **Archival**: Flat files are ideal for long-term storage and future-proofing data against software obsolescence.\n",
    "\n",
    "### Importing Flat Files in Python\n",
    "\n",
    "Two primary packages dominate the import of flat files in the data science ecosystem:\n",
    "\n",
    "- **NumPy**: Optimised for fast import of numeric tabular data into arrays (ideal for large, homogeneous datasets).\n",
    "    - Functions like `numpy.loadtxt()` and `numpy.genfromtxt()` read in delimited text files.\n",
    "- **pandas**: The de facto library for data manipulation, capable of importing flat files with both numeric and string data, handling headers, missing values, and various delimiters.\n",
    "    - The `pandas.read_csv()` and `pandas.read_table()` functions are highly flexible and feature-rich.\n",
    "\n",
    "#### Importing Examples\n",
    "\n",
    "```python\n",
    "import numpy as np\n",
    "numeric_data = np.loadtxt('data.csv', delimiter=',')\n",
    "\n",
    "import pandas as pd\n",
    "df = pd.read_csv('data.csv')  # Handles headers and mixed data types by default\n",
    "```\n",
    "\n",
    "### Beyond the Basics: Limitations and Considerations\n",
    "\n",
    "- **No Data Types**: All fields are read as text until parsed; you must specify or infer types post-import.\n",
    "- **No Metadata**: Flat files lack embedded information about units, relationships, or formats.\n",
    "- **Scalability**: Very large flat files can be unwieldy and require chunked or streamed processing."
   ]
  },
  {
   "cell_type": "code",
   "execution_count": 185,
   "id": "78b1d245",
   "metadata": {},
   "outputs": [
    {
     "name": "stdout",
     "output_type": "stream",
     "text": [
      "<class 'numpy.ndarray'>\n"
     ]
    }
   ],
   "source": [
    "# Assign filename to variable: file\n",
    "file = \"data/digits.csv\"\n",
    "\n",
    "# Load file as array: digits\n",
    "digits = np.loadtxt(file, delimiter=',')\n",
    "\n",
    "# Print datatype of digits\n",
    "print(type(digits))"
   ]
  },
  {
   "cell_type": "code",
   "execution_count": 186,
   "id": "5e6e269e",
   "metadata": {},
   "outputs": [
    {
     "data": {
      "image/png": "[encoded data removed]",
      "text/plain": [
       "<Figure size 640x480 with 1 Axes>"
      ]
     },
     "metadata": {},
     "output_type": "display_data"
    }
   ],
   "source": [
    "# Select and reshape a row\n",
    "im = digits[21, 1:]\n",
    "im_sq = np.reshape(im, (28, 28))\n",
    "\n",
    "# Plot reshaped data (matplotlib.pyplot already loaded as plt)\n",
    "plt.imshow(im_sq, cmap=\"Greys\", interpolation=\"nearest\")\n",
    "plt.show()"
   ]
  },
  {
   "cell_type": "markdown",
   "id": "1a5e6133",
   "metadata": {},
   "source": [
    "### Customizing your NumPy import\n",
    "What if there are rows, such as a header, that you don't want to import? What if your file has a delimiter other than a comma? What if you only wish to import particular columns?\n",
    "\n",
    "There are a number of arguments that `np.loadtxt()` takes that you'll find useful:\n",
    "\n",
    "- delimiter changes the delimiter that `loadtxt()` is expecting.\n",
    "    - You can use `','` for comma-delimited.\n",
    "    - You can use `'\\t'` for tab-delimited.\n",
    "- `skiprows` allows you to specify how many rows (not indices) you wish to skip.\n",
    "- `usecols` takes a list of the indices of the columns you wish to keep.\n",
    "The file that you'll be importing, `digits_header.txt`, has a header and is tab-delimited."
   ]
  },
  {
   "cell_type": "code",
   "execution_count": 187,
   "id": "809c3b81",
   "metadata": {},
   "outputs": [],
   "source": [
    "# Assign the filename: file\n",
    "file = \"data/digits_header.txt\"\n",
    "\n",
    "# Load the data: data, delimiter, skiprows, usecols\n",
    "data = np.loadtxt(file, delimiter=\"\\t\", skiprows=1, usecols=[0, 2])\n",
    "\n",
    "#print(data)"
   ]
  },
  {
   "cell_type": "markdown",
   "id": "8ecdf982",
   "metadata": {},
   "source": [
    "### Importing different datatypes\n",
    "The file `seaslug.txt`:\n",
    "- has a text header, consisting of strings is tab-delimited.\n",
    "- This data consists of the percentage of sea slug larvae that had metamorphosed in a given time period. \n",
    "\n",
    "Due to the header, if you tried to import it as-is using `np.loadtxt()`, Python would throw you a `ValueError` and tell you that it `could not convert string to float`. There are two ways to deal with this: firstly, you can set the data type argument `dtype` equal to `str` (for string).\n",
    "\n",
    "Alternatively, you can skip the first row as we have seen before, using the `skiprows` argument."
   ]
  },
  {
   "cell_type": "code",
   "execution_count": 188,
   "id": "bd96eb9b",
   "metadata": {},
   "outputs": [
    {
     "name": "stdout",
     "output_type": "stream",
     "text": [
      "['Time' 'Percent']\n"
     ]
    }
   ],
   "source": [
    "seaslug = \"data/seaslug.txt\"\n",
    "\n",
    "# Import file: data\n",
    "data = np.loadtxt(seaslug, delimiter=\"\\t\", dtype=str)\n",
    "\n",
    "# Print data\n",
    "print(data[0])"
   ]
  },
  {
   "cell_type": "code",
   "execution_count": 189,
   "id": "7bbe669f",
   "metadata": {},
   "outputs": [
    {
     "name": "stdout",
     "output_type": "stream",
     "text": [
      "[0.    0.357]\n"
     ]
    }
   ],
   "source": [
    "# Import file as floats and skip the first row: data_float\n",
    "data_float = np.loadtxt(seaslug, delimiter=\"\\t\", dtype=float, skiprows=1)\n",
    "\n",
    "# Print the 10th element of data_float\n",
    "print(data_float[9])"
   ]
  },
  {
   "cell_type": "code",
   "execution_count": 190,
   "id": "10d6769c",
   "metadata": {},
   "outputs": [
    {
     "data": {
      "image/png": "[encoded data removed]",
      "text/plain": [
       "<Figure size 640x480 with 1 Axes>"
      ]
     },
     "metadata": {},
     "output_type": "display_data"
    }
   ],
   "source": [
    "# Plot a scatterplot of the data with size and style based on time\n",
    "fig, ax = plt.subplots()\n",
    "sns.scatterplot(\n",
    "    x=data_float[:, 0], y=data_float[:, 1], \n",
    "    palette=\"viridis\", \n",
    "    hue=data_float[:, 0],\n",
    "    size=data_float[:, 0],  # Size based on time values\n",
    "    # style=data_float[:, 0],  # Style based on time values\n",
    "    sizes=(20, 200)  # Control the range of sizes (min, max)\n",
    ")\n",
    "ax.set(xlabel=\"time (min.)\", ylabel=\"percentage of larvae\", title=\"\")\n",
    "\n",
    "plt.tight_layout()\n",
    "plt.show()"
   ]
  },
  {
   "cell_type": "markdown",
   "id": "44862c80",
   "metadata": {},
   "source": [
    "### Using pandas to import flat files as DataFrames (1)\n",
    "In the last exercise, you were able to import flat files containing columns with different datatypes as `numpy` arrays. However, the `DataFrame` object in pandas is a more appropriate structure in which to store such data and, thankfully, we can easily import files of mixed data types as `DataFrames` using the pandas functions `read_csv()` and `read_table()`."
   ]
  },
  {
   "cell_type": "code",
   "execution_count": 191,
   "id": "5a90ab8a",
   "metadata": {},
   "outputs": [
    {
     "data": {
      "application/vnd.microsoft.datawrangler.viewer.v0+json": {
       "columns": [
        {
         "name": "index",
         "rawType": "int64",
         "type": "integer"
        },
        {
         "name": "PassengerId",
         "rawType": "int64",
         "type": "integer"
        },
        {
         "name": "Survived",
         "rawType": "int64",
         "type": "integer"
        },
        {
         "name": "Pclass",
         "rawType": "int64",
         "type": "integer"
        },
        {
         "name": "Sex",
         "rawType": "object",
         "type": "string"
        },
        {
         "name": "Age",
         "rawType": "float64",
         "type": "float"
        },
        {
         "name": "SibSp",
         "rawType": "int64",
         "type": "integer"
        },
        {
         "name": "Parch",
         "rawType": "int64",
         "type": "integer"
        },
        {
         "name": "Ticket",
         "rawType": "object",
         "type": "string"
        },
        {
         "name": "Fare",
         "rawType": "float64",
         "type": "float"
        },
        {
         "name": "Cabin",
         "rawType": "object",
         "type": "unknown"
        },
        {
         "name": "Embarked",
         "rawType": "object",
         "type": "string"
        }
       ],
       "ref": "f67fbd47-4380-4773-974e-875f2062f139",
       "rows": [
        [
         "0",
         "1",
         "0",
         "3",
         "male",
         "22.0",
         "1",
         "0",
         "A/5 21171",
         "7.25",
         null,
         "S"
        ],
        [
         "1",
         "2",
         "1",
         "1",
         "female",
         "38.0",
         "1",
         "0",
         "PC 17599",
         "71.2833",
         "C85",
         "C"
        ],
        [
         "2",
         "3",
         "1",
         "3",
         "female",
         "26.0",
         "0",
         "0",
         "STON/O2. 3101282",
         "7.925",
         null,
         "S"
        ],
        [
         "3",
         "4",
         "1",
         "1",
         "female",
         "35.0",
         "1",
         "0",
         "113803",
         "53.1",
         "C123",
         "S"
        ],
        [
         "4",
         "5",
         "0",
         "3",
         "male",
         "35.0",
         "0",
         "0",
         "373450",
         "8.05",
         null,
         "S"
        ]
       ],
       "shape": {
        "columns": 11,
        "rows": 5
       }
      },
      "text/html": [
       "<div>\n",
       "<style scoped>\n",
       "    .dataframe tbody tr th:only-of-type {\n",
       "        vertical-align: middle;\n",
       "    }\n",
       "\n",
       "    .dataframe tbody tr th {\n",
       "        vertical-align: top;\n",
       "    }\n",
       "\n",
       "    .dataframe thead th {\n",
       "        text-align: right;\n",
       "    }\n",
       "</style>\n",
       "<table border=\"1\" class=\"dataframe\">\n",
       "  <thead>\n",
       "    <tr style=\"text-align: right;\">\n",
       "      <th></th>\n",
       "      <th>PassengerId</th>\n",
       "      <th>Survived</th>\n",
       "      <th>Pclass</th>\n",
       "      <th>Sex</th>\n",
       "      <th>Age</th>\n",
       "      <th>SibSp</th>\n",
       "      <th>Parch</th>\n",
       "      <th>Ticket</th>\n",
       "      <th>Fare</th>\n",
       "      <th>Cabin</th>\n",
       "      <th>Embarked</th>\n",
       "    </tr>\n",
       "  </thead>\n",
       "  <tbody>\n",
       "    <tr>\n",
       "      <th>0</th>\n",
       "      <td>1</td>\n",
       "      <td>0</td>\n",
       "      <td>3</td>\n",
       "      <td>male</td>\n",
       "      <td>22.0</td>\n",
       "      <td>1</td>\n",
       "      <td>0</td>\n",
       "      <td>A/5 21171</td>\n",
       "      <td>7.2500</td>\n",
       "      <td>NaN</td>\n",
       "      <td>S</td>\n",
       "    </tr>\n",
       "    <tr>\n",
       "      <th>1</th>\n",
       "      <td>2</td>\n",
       "      <td>1</td>\n",
       "      <td>1</td>\n",
       "      <td>female</td>\n",
       "      <td>38.0</td>\n",
       "      <td>1</td>\n",
       "      <td>0</td>\n",
       "      <td>PC 17599</td>\n",
       "      <td>71.2833</td>\n",
       "      <td>C85</td>\n",
       "      <td>C</td>\n",
       "    </tr>\n",
       "    <tr>\n",
       "      <th>2</th>\n",
       "      <td>3</td>\n",
       "      <td>1</td>\n",
       "      <td>3</td>\n",
       "      <td>female</td>\n",
       "      <td>26.0</td>\n",
       "      <td>0</td>\n",
       "      <td>0</td>\n",
       "      <td>STON/O2. 3101282</td>\n",
       "      <td>7.9250</td>\n",
       "      <td>NaN</td>\n",
       "      <td>S</td>\n",
       "    </tr>\n",
       "    <tr>\n",
       "      <th>3</th>\n",
       "      <td>4</td>\n",
       "      <td>1</td>\n",
       "      <td>1</td>\n",
       "      <td>female</td>\n",
       "      <td>35.0</td>\n",
       "      <td>1</td>\n",
       "      <td>0</td>\n",
       "      <td>113803</td>\n",
       "      <td>53.1000</td>\n",
       "      <td>C123</td>\n",
       "      <td>S</td>\n",
       "    </tr>\n",
       "    <tr>\n",
       "      <th>4</th>\n",
       "      <td>5</td>\n",
       "      <td>0</td>\n",
       "      <td>3</td>\n",
       "      <td>male</td>\n",
       "      <td>35.0</td>\n",
       "      <td>0</td>\n",
       "      <td>0</td>\n",
       "      <td>373450</td>\n",
       "      <td>8.0500</td>\n",
       "      <td>NaN</td>\n",
       "      <td>S</td>\n",
       "    </tr>\n",
       "  </tbody>\n",
       "</table>\n",
       "</div>"
      ],
      "text/plain": [
       "   PassengerId  Survived  Pclass     Sex   Age  SibSp  Parch  \\\n",
       "0            1         0       3    male  22.0      1      0   \n",
       "1            2         1       1  female  38.0      1      0   \n",
       "2            3         1       3  female  26.0      0      0   \n",
       "3            4         1       1  female  35.0      1      0   \n",
       "4            5         0       3    male  35.0      0      0   \n",
       "\n",
       "             Ticket     Fare Cabin Embarked  \n",
       "0         A/5 21171   7.2500   NaN        S  \n",
       "1          PC 17599  71.2833   C85        C  \n",
       "2  STON/O2. 3101282   7.9250   NaN        S  \n",
       "3            113803  53.1000  C123        S  \n",
       "4            373450   8.0500   NaN        S  "
      ]
     },
     "execution_count": 191,
     "metadata": {},
     "output_type": "execute_result"
    }
   ],
   "source": [
    "titanic_pd = pd.read_csv(\"data/titanic_sub.csv\")\n",
    "titanic_pd.head()"
   ]
  },
  {
   "cell_type": "code",
   "execution_count": 192,
   "id": "42962779",
   "metadata": {},
   "outputs": [
    {
     "data": {
      "application/vnd.microsoft.datawrangler.viewer.v0+json": {
       "columns": [
        {
         "name": "index",
         "rawType": "int64",
         "type": "integer"
        },
        {
         "name": "PassengerId",
         "rawType": "int64",
         "type": "integer"
        },
        {
         "name": "Survived",
         "rawType": "int64",
         "type": "integer"
        },
        {
         "name": "Pclass",
         "rawType": "int64",
         "type": "integer"
        },
        {
         "name": "Sex",
         "rawType": "object",
         "type": "string"
        },
        {
         "name": "Age",
         "rawType": "float64",
         "type": "float"
        },
        {
         "name": "SibSp",
         "rawType": "int64",
         "type": "integer"
        },
        {
         "name": "Parch",
         "rawType": "int64",
         "type": "integer"
        },
        {
         "name": "Ticket",
         "rawType": "object",
         "type": "string"
        },
        {
         "name": "Fare",
         "rawType": "float64",
         "type": "float"
        },
        {
         "name": "Cabin",
         "rawType": "object",
         "type": "unknown"
        },
        {
         "name": "Embarked",
         "rawType": "object",
         "type": "string"
        }
       ],
       "ref": "589d78e5-b2d4-4562-89d5-6128a3d51296",
       "rows": [
        [
         "0",
         "1",
         "0",
         "3",
         "male",
         "22.0",
         "1",
         "0",
         "A/5 21171",
         "7.25",
         null,
         "S"
        ],
        [
         "1",
         "2",
         "1",
         "1",
         "female",
         "38.0",
         "1",
         "0",
         "PC 17599",
         "71.2833",
         "C85",
         "C"
        ],
        [
         "2",
         "3",
         "1",
         "3",
         "female",
         "26.0",
         "0",
         "0",
         "STON/O2. 3101282",
         "7.925",
         null,
         "S"
        ],
        [
         "3",
         "4",
         "1",
         "1",
         "female",
         "35.0",
         "1",
         "0",
         "113803",
         "53.1",
         "C123",
         "S"
        ],
        [
         "4",
         "5",
         "0",
         "3",
         "male",
         "35.0",
         "0",
         "0",
         "373450",
         "8.05",
         null,
         "S"
        ]
       ],
       "shape": {
        "columns": 11,
        "rows": 5
       }
      },
      "text/html": [
       "<div><style>\n",
       ".dataframe > thead > tr,\n",
       ".dataframe > tbody > tr {\n",
       "  text-align: right;\n",
       "  white-space: pre-wrap;\n",
       "}\n",
       "</style>\n",
       "<small>shape: (5, 11)</small><table border=\"1\" class=\"dataframe\"><thead><tr><th>PassengerId</th><th>Survived</th><th>Pclass</th><th>Sex</th><th>Age</th><th>SibSp</th><th>Parch</th><th>Ticket</th><th>Fare</th><th>Cabin</th><th>Embarked</th></tr><tr><td>i64</td><td>i64</td><td>i64</td><td>str</td><td>f64</td><td>i64</td><td>i64</td><td>str</td><td>f64</td><td>str</td><td>str</td></tr></thead><tbody><tr><td>1</td><td>0</td><td>3</td><td>&quot;male&quot;</td><td>22.0</td><td>1</td><td>0</td><td>&quot;A/5 21171&quot;</td><td>7.25</td><td>null</td><td>&quot;S&quot;</td></tr><tr><td>2</td><td>1</td><td>1</td><td>&quot;female&quot;</td><td>38.0</td><td>1</td><td>0</td><td>&quot;PC 17599&quot;</td><td>71.2833</td><td>&quot;C85&quot;</td><td>&quot;C&quot;</td></tr><tr><td>3</td><td>1</td><td>3</td><td>&quot;female&quot;</td><td>26.0</td><td>0</td><td>0</td><td>&quot;STON/O2. 3101282&quot;</td><td>7.925</td><td>null</td><td>&quot;S&quot;</td></tr><tr><td>4</td><td>1</td><td>1</td><td>&quot;female&quot;</td><td>35.0</td><td>1</td><td>0</td><td>&quot;113803&quot;</td><td>53.1</td><td>&quot;C123&quot;</td><td>&quot;S&quot;</td></tr><tr><td>5</td><td>0</td><td>3</td><td>&quot;male&quot;</td><td>35.0</td><td>0</td><td>0</td><td>&quot;373450&quot;</td><td>8.05</td><td>null</td><td>&quot;S&quot;</td></tr></tbody></table></div>"
      ],
      "text/plain": [
       "shape: (5, 11)\n",
       "┌─────────────┬──────────┬────────┬────────┬───┬──────────────────┬─────────┬───────┬──────────┐\n",
       "│ PassengerId ┆ Survived ┆ Pclass ┆ Sex    ┆ … ┆ Ticket           ┆ Fare    ┆ Cabin ┆ Embarked │\n",
       "│ ---         ┆ ---      ┆ ---    ┆ ---    ┆   ┆ ---              ┆ ---     ┆ ---   ┆ ---      │\n",
       "│ i64         ┆ i64      ┆ i64    ┆ str    ┆   ┆ str              ┆ f64     ┆ str   ┆ str      │\n",
       "╞═════════════╪══════════╪════════╪════════╪═══╪══════════════════╪═════════╪═══════╪══════════╡\n",
       "│ 1           ┆ 0        ┆ 3      ┆ male   ┆ … ┆ A/5 21171        ┆ 7.25    ┆ null  ┆ S        │\n",
       "│ 2           ┆ 1        ┆ 1      ┆ female ┆ … ┆ PC 17599         ┆ 71.2833 ┆ C85   ┆ C        │\n",
       "│ 3           ┆ 1        ┆ 3      ┆ female ┆ … ┆ STON/O2. 3101282 ┆ 7.925   ┆ null  ┆ S        │\n",
       "│ 4           ┆ 1        ┆ 1      ┆ female ┆ … ┆ 113803           ┆ 53.1    ┆ C123  ┆ S        │\n",
       "│ 5           ┆ 0        ┆ 3      ┆ male   ┆ … ┆ 373450           ┆ 8.05    ┆ null  ┆ S        │\n",
       "└─────────────┴──────────┴────────┴────────┴───┴──────────────────┴─────────┴───────┴──────────┘"
      ]
     },
     "execution_count": 192,
     "metadata": {},
     "output_type": "execute_result"
    }
   ],
   "source": [
    "titanic_pl = pl.read_csv(\"data/titanic_sub.csv\")\n",
    "titanic_pl.head()"
   ]
  },
  {
   "cell_type": "markdown",
   "id": "d7b895d8",
   "metadata": {},
   "source": [
    "### Using pandas to import flat files as DataFrames (2)\n",
    "In the last exercise, you were able to import flat files into a pandas `DataFrame`. As a bonus, it is then straightforward to retrieve the corresponding numpy array using the method `.to_numpy()`. You'll now have a chance to do this using the MNIST dataset, which is available as `digits.csv`.\n",
    "\n",
    "There are a number of arguments that `pd.read_csv()` takes that you'll find useful for this exercise:\n",
    "\n",
    "- `nrows` allows you to specify how many rows to read from the file. For example, `nrows=10` will only import the first 10 rows.\n",
    "- `header` accepts row numbers to use as the column labels and marks the start of the data. If the file does not contain a header row, you can set `header=None`, and pandas will automatically assign integer column labels starting from 0 (e.g., 0, 1, 2, …)."
   ]
  },
  {
   "cell_type": "code",
   "execution_count": 193,
   "id": "ab73d099",
   "metadata": {},
   "outputs": [
    {
     "name": "stdout",
     "output_type": "stream",
     "text": [
      "<class 'numpy.ndarray'>\n"
     ]
    }
   ],
   "source": [
    "digits_pd = pd.read_csv(\"data/digits.csv\", nrows=5, header=None)\n",
    "\n",
    "# Build a numpy array from the DataFrame: data_array\n",
    "data_array = digits_pd.to_numpy()\n",
    "\n",
    "# Print the datatype of data_array to the shell\n",
    "print(type(data_array))"
   ]
  },
  {
   "cell_type": "code",
   "execution_count": 194,
   "id": "48cdc219",
   "metadata": {},
   "outputs": [
    {
     "name": "stdout",
     "output_type": "stream",
     "text": [
      "<class 'numpy.ndarray'>\n"
     ]
    }
   ],
   "source": [
    "digits_pl = pl.read_csv(\"data/digits.csv\", n_rows=5, has_header=False,)\n",
    "\n",
    "# Build a numpy array from the DataFrame: data_array\n",
    "data_array = digits_pl.to_numpy()\n",
    "\n",
    "# Print the datatype of data_array to the shell\n",
    "print(type(data_array))"
   ]
  },
  {
   "cell_type": "markdown",
   "id": "352e8b54",
   "metadata": {},
   "source": [
    "### Customizing your pandas import\n",
    "The `pandas` package is great at dealing with many of the issues you will encounter when importing data as a data scientist, such as comments occurring in flat files, empty lines and missing values (`NA` or `NaN`). To wrap up this chapter, you're going to import a corrupted copy of the Titanic dataset `titanic_corrupt.txt`, which contains comments after the character `'#'`, and is tab-delimited.\n",
    "\n",
    "Key arguments for `pd.read_csv()` include:\n",
    "\n",
    "- `sep` sets the expected delimiter.\n",
    "    - You can use `','` for comma-delimited.\n",
    "    - You can use `'\\t'` for tab-delimited.\n",
    "- `comment` takes characters that comments occur after in the file, indicating that any text starting with these characters should be ignored.\n",
    "- `na_values` takes a list of strings to identify as `NA`/`NaN`. By default, some values are already recognized as `NA`/`NaN`. Providing this argument will supply additional values."
   ]
  },
  {
   "cell_type": "code",
   "execution_count": 195,
   "id": "7c383fab",
   "metadata": {},
   "outputs": [
    {
     "data": {
      "application/vnd.microsoft.datawrangler.viewer.v0+json": {
       "columns": [
        {
         "name": "index",
         "rawType": "int64",
         "type": "integer"
        },
        {
         "name": "PassengerId",
         "rawType": "int64",
         "type": "integer"
        },
        {
         "name": "Survived",
         "rawType": "int64",
         "type": "integer"
        },
        {
         "name": "Pclass",
         "rawType": "int64",
         "type": "integer"
        },
        {
         "name": "Sex",
         "rawType": "object",
         "type": "string"
        },
        {
         "name": "Age",
         "rawType": "float64",
         "type": "float"
        },
        {
         "name": "SibSp",
         "rawType": "int64",
         "type": "integer"
        },
        {
         "name": "Parch",
         "rawType": "int64",
         "type": "integer"
        },
        {
         "name": "Ticket",
         "rawType": "object",
         "type": "string"
        },
        {
         "name": "Fare",
         "rawType": "float64",
         "type": "float"
        },
        {
         "name": "Cabin",
         "rawType": "object",
         "type": "unknown"
        },
        {
         "name": "Embarked",
         "rawType": "object",
         "type": "unknown"
        }
       ],
       "ref": "5d9a88bc-293f-46d0-9cae-22701a9d829a",
       "rows": [
        [
         "0",
         "1",
         "0",
         "3",
         "male",
         "22.0",
         "1",
         "0",
         "A/5 21171",
         "7.25",
         null,
         "S "
        ],
        [
         "1",
         "2",
         "1",
         "1",
         "female",
         "38.0",
         "1",
         "0",
         "PC 17599",
         null,
         null,
         null
        ],
        [
         "2",
         "3",
         "1",
         "3",
         "female",
         "26.0",
         "0",
         "0",
         "STON/O2. 3101282",
         "7.925",
         null,
         "S"
        ],
        [
         "3",
         "4",
         "1",
         "1",
         "female",
         "35.0",
         "1",
         "0",
         "113803",
         "53.1",
         "C123",
         "S"
        ],
        [
         "4",
         "5",
         "0",
         "3",
         "male",
         "35.0",
         "0",
         "0",
         "373450",
         "8.05",
         null,
         "S"
        ]
       ],
       "shape": {
        "columns": 11,
        "rows": 5
       }
      },
      "text/html": [
       "<div>\n",
       "<style scoped>\n",
       "    .dataframe tbody tr th:only-of-type {\n",
       "        vertical-align: middle;\n",
       "    }\n",
       "\n",
       "    .dataframe tbody tr th {\n",
       "        vertical-align: top;\n",
       "    }\n",
       "\n",
       "    .dataframe thead th {\n",
       "        text-align: right;\n",
       "    }\n",
       "</style>\n",
       "<table border=\"1\" class=\"dataframe\">\n",
       "  <thead>\n",
       "    <tr style=\"text-align: right;\">\n",
       "      <th></th>\n",
       "      <th>PassengerId</th>\n",
       "      <th>Survived</th>\n",
       "      <th>Pclass</th>\n",
       "      <th>Sex</th>\n",
       "      <th>Age</th>\n",
       "      <th>SibSp</th>\n",
       "      <th>Parch</th>\n",
       "      <th>Ticket</th>\n",
       "      <th>Fare</th>\n",
       "      <th>Cabin</th>\n",
       "      <th>Embarked</th>\n",
       "    </tr>\n",
       "  </thead>\n",
       "  <tbody>\n",
       "    <tr>\n",
       "      <th>0</th>\n",
       "      <td>1</td>\n",
       "      <td>0</td>\n",
       "      <td>3</td>\n",
       "      <td>male</td>\n",
       "      <td>22.0</td>\n",
       "      <td>1</td>\n",
       "      <td>0</td>\n",
       "      <td>A/5 21171</td>\n",
       "      <td>7.250</td>\n",
       "      <td>NaN</td>\n",
       "      <td>S</td>\n",
       "    </tr>\n",
       "    <tr>\n",
       "      <th>1</th>\n",
       "      <td>2</td>\n",
       "      <td>1</td>\n",
       "      <td>1</td>\n",
       "      <td>female</td>\n",
       "      <td>38.0</td>\n",
       "      <td>1</td>\n",
       "      <td>0</td>\n",
       "      <td>PC 17599</td>\n",
       "      <td>NaN</td>\n",
       "      <td>NaN</td>\n",
       "      <td>NaN</td>\n",
       "    </tr>\n",
       "    <tr>\n",
       "      <th>2</th>\n",
       "      <td>3</td>\n",
       "      <td>1</td>\n",
       "      <td>3</td>\n",
       "      <td>female</td>\n",
       "      <td>26.0</td>\n",
       "      <td>0</td>\n",
       "      <td>0</td>\n",
       "      <td>STON/O2. 3101282</td>\n",
       "      <td>7.925</td>\n",
       "      <td>NaN</td>\n",
       "      <td>S</td>\n",
       "    </tr>\n",
       "    <tr>\n",
       "      <th>3</th>\n",
       "      <td>4</td>\n",
       "      <td>1</td>\n",
       "      <td>1</td>\n",
       "      <td>female</td>\n",
       "      <td>35.0</td>\n",
       "      <td>1</td>\n",
       "      <td>0</td>\n",
       "      <td>113803</td>\n",
       "      <td>53.100</td>\n",
       "      <td>C123</td>\n",
       "      <td>S</td>\n",
       "    </tr>\n",
       "    <tr>\n",
       "      <th>4</th>\n",
       "      <td>5</td>\n",
       "      <td>0</td>\n",
       "      <td>3</td>\n",
       "      <td>male</td>\n",
       "      <td>35.0</td>\n",
       "      <td>0</td>\n",
       "      <td>0</td>\n",
       "      <td>373450</td>\n",
       "      <td>8.050</td>\n",
       "      <td>NaN</td>\n",
       "      <td>S</td>\n",
       "    </tr>\n",
       "  </tbody>\n",
       "</table>\n",
       "</div>"
      ],
      "text/plain": [
       "   PassengerId  Survived  Pclass     Sex   Age  SibSp  Parch  \\\n",
       "0            1         0       3    male  22.0      1      0   \n",
       "1            2         1       1  female  38.0      1      0   \n",
       "2            3         1       3  female  26.0      0      0   \n",
       "3            4         1       1  female  35.0      1      0   \n",
       "4            5         0       3    male  35.0      0      0   \n",
       "\n",
       "             Ticket    Fare Cabin Embarked  \n",
       "0         A/5 21171   7.250   NaN       S   \n",
       "1          PC 17599     NaN   NaN      NaN  \n",
       "2  STON/O2. 3101282   7.925   NaN        S  \n",
       "3            113803  53.100  C123        S  \n",
       "4            373450   8.050   NaN        S  "
      ]
     },
     "execution_count": 195,
     "metadata": {},
     "output_type": "execute_result"
    }
   ],
   "source": [
    "titanic_corrupt_pd = pd.read_csv(\"data/titanic_corrupt.txt\", sep=\"\\t\", comment=\"#\", na_values=[\"Nothing\"])\n",
    "titanic_corrupt_pd.head()"
   ]
  },
  {
   "cell_type": "code",
   "execution_count": 196,
   "id": "1b19eecd",
   "metadata": {},
   "outputs": [
    {
     "data": {
      "application/vnd.microsoft.datawrangler.viewer.v0+json": {
       "columns": [
        {
         "name": "index",
         "rawType": "int64",
         "type": "integer"
        },
        {
         "name": "PassengerId",
         "rawType": "int64",
         "type": "integer"
        },
        {
         "name": "Survived",
         "rawType": "int64",
         "type": "integer"
        },
        {
         "name": "Pclass",
         "rawType": "int64",
         "type": "integer"
        },
        {
         "name": "Sex",
         "rawType": "object",
         "type": "string"
        },
        {
         "name": "Age",
         "rawType": "float64",
         "type": "float"
        },
        {
         "name": "SibSp",
         "rawType": "int64",
         "type": "integer"
        },
        {
         "name": "Parch",
         "rawType": "int64",
         "type": "integer"
        },
        {
         "name": "Ticket",
         "rawType": "object",
         "type": "string"
        },
        {
         "name": "Fare",
         "rawType": "float64",
         "type": "float"
        },
        {
         "name": "Cabin",
         "rawType": "object",
         "type": "unknown"
        },
        {
         "name": "Embarked",
         "rawType": "object",
         "type": "string"
        }
       ],
       "ref": "536a8bce-094b-49ad-a3db-8438aab7ee88",
       "rows": [
        [
         "0",
         "1",
         "0",
         "3",
         "male",
         "22.0",
         "1",
         "0",
         "A/5 21171",
         "7.25",
         null,
         "S #dfafdad"
        ],
        [
         "1",
         "2",
         "1",
         "1",
         "female",
         "38.0",
         "1",
         "0",
         "PC 17599#to",
         "71.2833",
         "C85",
         "C"
        ],
        [
         "2",
         "3",
         "1",
         "3",
         "female",
         "26.0",
         "0",
         "0",
         "STON/O2. 3101282",
         "7.925",
         null,
         "S"
        ],
        [
         "3",
         "4",
         "1",
         "1",
         "female",
         "35.0",
         "1",
         "0",
         "113803",
         "53.1",
         "C123",
         "S"
        ],
        [
         "4",
         "5",
         "0",
         "3",
         "male",
         "35.0",
         "0",
         "0",
         "373450",
         "8.05",
         null,
         "S"
        ]
       ],
       "shape": {
        "columns": 11,
        "rows": 5
       }
      },
      "text/html": [
       "<div><style>\n",
       ".dataframe > thead > tr,\n",
       ".dataframe > tbody > tr {\n",
       "  text-align: right;\n",
       "  white-space: pre-wrap;\n",
       "}\n",
       "</style>\n",
       "<small>shape: (5, 11)</small><table border=\"1\" class=\"dataframe\"><thead><tr><th>PassengerId</th><th>Survived</th><th>Pclass</th><th>Sex</th><th>Age</th><th>SibSp</th><th>Parch</th><th>Ticket</th><th>Fare</th><th>Cabin</th><th>Embarked</th></tr><tr><td>i64</td><td>i64</td><td>i64</td><td>str</td><td>f64</td><td>i64</td><td>i64</td><td>str</td><td>f64</td><td>str</td><td>str</td></tr></thead><tbody><tr><td>1</td><td>0</td><td>3</td><td>&quot;male&quot;</td><td>22.0</td><td>1</td><td>0</td><td>&quot;A/5 21171&quot;</td><td>7.25</td><td>null</td><td>&quot;S #dfafdad&quot;</td></tr><tr><td>2</td><td>1</td><td>1</td><td>&quot;female&quot;</td><td>38.0</td><td>1</td><td>0</td><td>&quot;PC 17599#to&quot;</td><td>71.2833</td><td>&quot;C85&quot;</td><td>&quot;C&quot;</td></tr><tr><td>3</td><td>1</td><td>3</td><td>&quot;female&quot;</td><td>26.0</td><td>0</td><td>0</td><td>&quot;STON/O2. 3101282&quot;</td><td>7.925</td><td>null</td><td>&quot;S&quot;</td></tr><tr><td>4</td><td>1</td><td>1</td><td>&quot;female&quot;</td><td>35.0</td><td>1</td><td>0</td><td>&quot;113803&quot;</td><td>53.1</td><td>&quot;C123&quot;</td><td>&quot;S&quot;</td></tr><tr><td>5</td><td>0</td><td>3</td><td>&quot;male&quot;</td><td>35.0</td><td>0</td><td>0</td><td>&quot;373450&quot;</td><td>8.05</td><td>null</td><td>&quot;S&quot;</td></tr></tbody></table></div>"
      ],
      "text/plain": [
       "shape: (5, 11)\n",
       "┌─────────────┬──────────┬────────┬────────┬───┬──────────────────┬─────────┬───────┬────────────┐\n",
       "│ PassengerId ┆ Survived ┆ Pclass ┆ Sex    ┆ … ┆ Ticket           ┆ Fare    ┆ Cabin ┆ Embarked   │\n",
       "│ ---         ┆ ---      ┆ ---    ┆ ---    ┆   ┆ ---              ┆ ---     ┆ ---   ┆ ---        │\n",
       "│ i64         ┆ i64      ┆ i64    ┆ str    ┆   ┆ str              ┆ f64     ┆ str   ┆ str        │\n",
       "╞═════════════╪══════════╪════════╪════════╪═══╪══════════════════╪═════════╪═══════╪════════════╡\n",
       "│ 1           ┆ 0        ┆ 3      ┆ male   ┆ … ┆ A/5 21171        ┆ 7.25    ┆ null  ┆ S #dfafdad │\n",
       "│ 2           ┆ 1        ┆ 1      ┆ female ┆ … ┆ PC 17599#to      ┆ 71.2833 ┆ C85   ┆ C          │\n",
       "│ 3           ┆ 1        ┆ 3      ┆ female ┆ … ┆ STON/O2. 3101282 ┆ 7.925   ┆ null  ┆ S          │\n",
       "│ 4           ┆ 1        ┆ 1      ┆ female ┆ … ┆ 113803           ┆ 53.1    ┆ C123  ┆ S          │\n",
       "│ 5           ┆ 0        ┆ 3      ┆ male   ┆ … ┆ 373450           ┆ 8.05    ┆ null  ┆ S          │\n",
       "└─────────────┴──────────┴────────┴────────┴───┴──────────────────┴─────────┴───────┴────────────┘"
      ]
     },
     "execution_count": 196,
     "metadata": {},
     "output_type": "execute_result"
    }
   ],
   "source": [
    "# Polars does not offer an equivalent to comment=\"#\"\n",
    "titanic_corrupt_pl = pl.read_csv(\"data/titanic_corrupt.txt\", separator=\"\\t\", null_values=[\"Nothing\"])\n",
    "titanic_corrupt_pl.head()"
   ]
  },
  {
   "cell_type": "code",
   "execution_count": 197,
   "id": "2c789b31",
   "metadata": {},
   "outputs": [
    {
     "data": {
      "image/png": "[encoded data removed]",
      "text/plain": [
       "<Figure size 640x480 with 1 Axes>"
      ]
     },
     "metadata": {},
     "output_type": "display_data"
    }
   ],
   "source": [
    "# Plot 'Age' variable in a histogram\n",
    "fig, ax = plt.subplots()\n",
    "\n",
    "# Create the histogram first\n",
    "sns.histplot(data=titanic_corrupt_pl, x=\"Age\", legend=False, color=\"blue\", ax=ax)\n",
    "\n",
    "ax.set_axisbelow(True)\n",
    "ax.grid(True, alpha=0.3, color=\"gray\")\n",
    "\n",
    "ax.set(xlabel=\"Age (years)\", ylabel=\"Count\")\n",
    "\n",
    "plt.tight_layout()\n",
    "plt.show()"
   ]
  },
  {
   "cell_type": "markdown",
   "id": "de11c540",
   "metadata": {},
   "source": [
    "### Not so flat any more\n",
    "You can explore your current working directory natively in Python using the library `os`, which consists of miscellaneous operating system interfaces.\n",
    "\n",
    "The first line of the following code imports the library `os`, the second line stores the name of the current directory in a string called wd and the third outputs the contents of the directory in a list to the shell.\n",
    "```python\n",
    "import os\n",
    "wd = os.getcwd()\n",
    "os.listdir(wd)\n",
    "```\n",
    "Run this code in the shell and answer the following questions. Ignore the files that begin with `.`.\n",
    "\n"
   ]
  },
  {
   "cell_type": "markdown",
   "id": "f8348528",
   "metadata": {},
   "source": [
    "### Loading a pickled file\n",
    "There are a number of datatypes that cannot be saved easily to flat files, such as lists and dictionaries. If you want your files to be human readable, you may want to save them as text files in a clever manner. JSONs, which you will see in a later chapter, are appropriate for Python dictionaries.\n",
    "\n",
    "However, if you merely want to be able to import them into Python, you can serialize them. All this means is converting the object into a sequence of bytes, or a bytestream.\n",
    "\n",
    "In this exercise, you'll import the `pickle package`, open a previously pickled data structure from a file and load it."
   ]
  },
  {
   "cell_type": "code",
   "execution_count": 198,
   "id": "e68f2c2e",
   "metadata": {},
   "outputs": [],
   "source": [
    "import pickle\n",
    "\n",
    "# Save the dictionary as a pickle file\n",
    "with open(\"data/data.pkl\", \"wb\") as f:\n",
    "    pickle.dump({\"June\": \"69.4\", \"Aug\": \"85\", \"Airline\": \"8\", \"Mar\": \"84.4\"}, f)"
   ]
  },
  {
   "cell_type": "code",
   "execution_count": 199,
   "id": "3faa03a3",
   "metadata": {},
   "outputs": [
    {
     "name": "stdout",
     "output_type": "stream",
     "text": [
      "{'June': '69.4', 'Aug': '85', 'Airline': '8', 'Mar': '84.4'}\n",
      "<class 'dict'>\n"
     ]
    }
   ],
   "source": [
    "# Open pickle file and load data: d\n",
    "with open(\"data/data.pkl\", \"rb\") as file:\n",
    "    d = pickle.load(file)\n",
    "\n",
    "# Print d\n",
    "print(d)\n",
    "\n",
    "# Print datatype of d\n",
    "print(type(d))"
   ]
  },
  {
   "cell_type": "markdown",
   "id": "258521d6",
   "metadata": {},
   "source": [
    "### Listing sheets in Excel files\n",
    "Whether you like it or not, any working data scientist will need to deal with Excel spreadsheets at some point in time. You won't always want to do so in Excel, however!\n",
    "\n",
    "Here, you'll learn how to use `pandas` to import Excel spreadsheets and how to list the names of the sheets in any loaded `.xlsx` file.\n",
    "\n",
    "Recall from the video that, given an Excel file imported into a variable `spreadsheet`, you can retrieve a list of the sheet names using the attribute `spreadsheet.sheet_names`.\n",
    "\n",
    "Specifically, you'll be loading and checking out the spreadsheet `'battledeath.xlsx'`, modified from the Peace Research Institute Oslo's (PRIO) dataset. This data contains age-adjusted mortality rates due to war in various countries over several years."
   ]
  },
  {
   "cell_type": "code",
   "execution_count": 200,
   "id": "8091a00d",
   "metadata": {},
   "outputs": [
    {
     "name": "stdout",
     "output_type": "stream",
     "text": [
      "['2002', '2004']\n"
     ]
    }
   ],
   "source": [
    "# Assign spreadsheet filename: file\n",
    "excel_file = \"data/battledeath.xlsx\"\n",
    "\n",
    "# Load spreadsheet: xls\n",
    "xls = pd.ExcelFile(excel_file)\n",
    "\n",
    "# Print sheet names\n",
    "print(xls.sheet_names)"
   ]
  },
  {
   "cell_type": "markdown",
   "id": "96b7c1ed",
   "metadata": {},
   "source": [
    "### Importing sheets from Excel files\n",
    "In the previous exercises, you saw that the Excel file contains two sheets, `'2002'` and `'2004'`. The next step is to import these.\n",
    "\n",
    "In this exercise, you'll learn how to import any given sheet of your loaded .xlsx file as a DataFrame. You'll be able to do so by specifying either the sheet's name or its index.\n",
    "\n",
    "The spreadsheet `'battledeath.xlsx'` is already loaded as `xls`."
   ]
  },
  {
   "cell_type": "code",
   "execution_count": 201,
   "id": "361af0aa",
   "metadata": {},
   "outputs": [],
   "source": [
    "df1 = xls.parse(\"2004\")\n",
    "df2 = xls.parse(0)"
   ]
  },
  {
   "cell_type": "code",
   "execution_count": 202,
   "id": "6fe7c8d3",
   "metadata": {},
   "outputs": [
    {
     "data": {
      "application/vnd.microsoft.datawrangler.viewer.v0+json": {
       "columns": [
        {
         "name": "index",
         "rawType": "int64",
         "type": "integer"
        },
        {
         "name": "War(country)",
         "rawType": "object",
         "type": "string"
        },
        {
         "name": "2004",
         "rawType": "float64",
         "type": "float"
        }
       ],
       "ref": "0aceb25a-6e61-4c27-8537-7f40842141c0",
       "rows": [
        [
         "0",
         "Afghanistan",
         "9.45102787017822"
        ],
        [
         "1",
         "Albania",
         "0.13035376369953"
        ],
        [
         "2",
         "Algeria",
         "3.40727734565735"
        ],
        [
         "3",
         "Andorra",
         "0.0"
        ],
        [
         "4",
         "Angola",
         "2.59793090820312"
        ]
       ],
       "shape": {
        "columns": 2,
        "rows": 5
       }
      },
      "text/html": [
       "<div>\n",
       "<style scoped>\n",
       "    .dataframe tbody tr th:only-of-type {\n",
       "        vertical-align: middle;\n",
       "    }\n",
       "\n",
       "    .dataframe tbody tr th {\n",
       "        vertical-align: top;\n",
       "    }\n",
       "\n",
       "    .dataframe thead th {\n",
       "        text-align: right;\n",
       "    }\n",
       "</style>\n",
       "<table border=\"1\" class=\"dataframe\">\n",
       "  <thead>\n",
       "    <tr style=\"text-align: right;\">\n",
       "      <th></th>\n",
       "      <th>War(country)</th>\n",
       "      <th>2004</th>\n",
       "    </tr>\n",
       "  </thead>\n",
       "  <tbody>\n",
       "    <tr>\n",
       "      <th>0</th>\n",
       "      <td>Afghanistan</td>\n",
       "      <td>9.451028</td>\n",
       "    </tr>\n",
       "    <tr>\n",
       "      <th>1</th>\n",
       "      <td>Albania</td>\n",
       "      <td>0.130354</td>\n",
       "    </tr>\n",
       "    <tr>\n",
       "      <th>2</th>\n",
       "      <td>Algeria</td>\n",
       "      <td>3.407277</td>\n",
       "    </tr>\n",
       "    <tr>\n",
       "      <th>3</th>\n",
       "      <td>Andorra</td>\n",
       "      <td>0.000000</td>\n",
       "    </tr>\n",
       "    <tr>\n",
       "      <th>4</th>\n",
       "      <td>Angola</td>\n",
       "      <td>2.597931</td>\n",
       "    </tr>\n",
       "  </tbody>\n",
       "</table>\n",
       "</div>"
      ],
      "text/plain": [
       "  War(country)      2004\n",
       "0  Afghanistan  9.451028\n",
       "1      Albania  0.130354\n",
       "2      Algeria  3.407277\n",
       "3      Andorra  0.000000\n",
       "4       Angola  2.597931"
      ]
     },
     "execution_count": 202,
     "metadata": {},
     "output_type": "execute_result"
    }
   ],
   "source": [
    "df1.head()"
   ]
  },
  {
   "cell_type": "code",
   "execution_count": 203,
   "id": "b5140d2b",
   "metadata": {},
   "outputs": [
    {
     "data": {
      "application/vnd.microsoft.datawrangler.viewer.v0+json": {
       "columns": [
        {
         "name": "index",
         "rawType": "int64",
         "type": "integer"
        },
        {
         "name": "War, age-adjusted mortality due to",
         "rawType": "object",
         "type": "string"
        },
        {
         "name": "2002",
         "rawType": "float64",
         "type": "float"
        }
       ],
       "ref": "3ebfe36b-8819-4e86-bbd0-2797537972b9",
       "rows": [
        [
         "0",
         "Afghanistan",
         "36.08399"
        ],
        [
         "1",
         "Albania",
         "0.1289084"
        ],
        [
         "2",
         "Algeria",
         "18.31412"
        ],
        [
         "3",
         "Andorra",
         "0.0"
        ],
        [
         "4",
         "Angola",
         "18.96456"
        ]
       ],
       "shape": {
        "columns": 2,
        "rows": 5
       }
      },
      "text/html": [
       "<div>\n",
       "<style scoped>\n",
       "    .dataframe tbody tr th:only-of-type {\n",
       "        vertical-align: middle;\n",
       "    }\n",
       "\n",
       "    .dataframe tbody tr th {\n",
       "        vertical-align: top;\n",
       "    }\n",
       "\n",
       "    .dataframe thead th {\n",
       "        text-align: right;\n",
       "    }\n",
       "</style>\n",
       "<table border=\"1\" class=\"dataframe\">\n",
       "  <thead>\n",
       "    <tr style=\"text-align: right;\">\n",
       "      <th></th>\n",
       "      <th>War, age-adjusted mortality due to</th>\n",
       "      <th>2002</th>\n",
       "    </tr>\n",
       "  </thead>\n",
       "  <tbody>\n",
       "    <tr>\n",
       "      <th>0</th>\n",
       "      <td>Afghanistan</td>\n",
       "      <td>36.083990</td>\n",
       "    </tr>\n",
       "    <tr>\n",
       "      <th>1</th>\n",
       "      <td>Albania</td>\n",
       "      <td>0.128908</td>\n",
       "    </tr>\n",
       "    <tr>\n",
       "      <th>2</th>\n",
       "      <td>Algeria</td>\n",
       "      <td>18.314120</td>\n",
       "    </tr>\n",
       "    <tr>\n",
       "      <th>3</th>\n",
       "      <td>Andorra</td>\n",
       "      <td>0.000000</td>\n",
       "    </tr>\n",
       "    <tr>\n",
       "      <th>4</th>\n",
       "      <td>Angola</td>\n",
       "      <td>18.964560</td>\n",
       "    </tr>\n",
       "  </tbody>\n",
       "</table>\n",
       "</div>"
      ],
      "text/plain": [
       "  War, age-adjusted mortality due to       2002\n",
       "0                        Afghanistan  36.083990\n",
       "1                            Albania   0.128908\n",
       "2                            Algeria  18.314120\n",
       "3                            Andorra   0.000000\n",
       "4                             Angola  18.964560"
      ]
     },
     "execution_count": 203,
     "metadata": {},
     "output_type": "execute_result"
    }
   ],
   "source": [
    "df2.head()"
   ]
  },
  {
   "cell_type": "markdown",
   "id": "688dd4e8",
   "metadata": {},
   "source": [
    "### Customizing your spreadsheet import\n",
    "Here, you'll parse your spreadsheets and use additional arguments to skip rows, rename columns and select only particular columns.\n",
    "\n",
    "The spreadsheet `'battledeath.xlsx'` is already loaded as `xls`.\n",
    "\n",
    "As before, you'll use the method `parse()`. This time, however, you'll add the additional arguments `skiprows`, `names` and `usecols`. These skip rows, name the columns and designate which columns to parse, respectively. All these arguments can be assigned to lists containing the specific row numbers, strings and column numbers, as appropriate."
   ]
  },
  {
   "cell_type": "code",
   "execution_count": 204,
   "id": "4a6e23c2",
   "metadata": {},
   "outputs": [
    {
     "data": {
      "application/vnd.microsoft.datawrangler.viewer.v0+json": {
       "columns": [
        {
         "name": "index",
         "rawType": "int64",
         "type": "integer"
        },
        {
         "name": "Country",
         "rawType": "object",
         "type": "string"
        },
        {
         "name": "AAM due to War (2002)",
         "rawType": "float64",
         "type": "float"
        }
       ],
       "ref": "0710b073-abe9-4321-8e5c-87c77c975afd",
       "rows": [
        [
         "0",
         "Albania",
         "0.1289084"
        ],
        [
         "1",
         "Algeria",
         "18.31412"
        ],
        [
         "2",
         "Andorra",
         "0.0"
        ],
        [
         "3",
         "Angola",
         "18.96456"
        ],
        [
         "4",
         "Antigua and Barbuda",
         "0.0"
        ]
       ],
       "shape": {
        "columns": 2,
        "rows": 5
       }
      },
      "text/html": [
       "<div>\n",
       "<style scoped>\n",
       "    .dataframe tbody tr th:only-of-type {\n",
       "        vertical-align: middle;\n",
       "    }\n",
       "\n",
       "    .dataframe tbody tr th {\n",
       "        vertical-align: top;\n",
       "    }\n",
       "\n",
       "    .dataframe thead th {\n",
       "        text-align: right;\n",
       "    }\n",
       "</style>\n",
       "<table border=\"1\" class=\"dataframe\">\n",
       "  <thead>\n",
       "    <tr style=\"text-align: right;\">\n",
       "      <th></th>\n",
       "      <th>Country</th>\n",
       "      <th>AAM due to War (2002)</th>\n",
       "    </tr>\n",
       "  </thead>\n",
       "  <tbody>\n",
       "    <tr>\n",
       "      <th>0</th>\n",
       "      <td>Albania</td>\n",
       "      <td>0.128908</td>\n",
       "    </tr>\n",
       "    <tr>\n",
       "      <th>1</th>\n",
       "      <td>Algeria</td>\n",
       "      <td>18.314120</td>\n",
       "    </tr>\n",
       "    <tr>\n",
       "      <th>2</th>\n",
       "      <td>Andorra</td>\n",
       "      <td>0.000000</td>\n",
       "    </tr>\n",
       "    <tr>\n",
       "      <th>3</th>\n",
       "      <td>Angola</td>\n",
       "      <td>18.964560</td>\n",
       "    </tr>\n",
       "    <tr>\n",
       "      <th>4</th>\n",
       "      <td>Antigua and Barbuda</td>\n",
       "      <td>0.000000</td>\n",
       "    </tr>\n",
       "  </tbody>\n",
       "</table>\n",
       "</div>"
      ],
      "text/plain": [
       "               Country  AAM due to War (2002)\n",
       "0              Albania               0.128908\n",
       "1              Algeria              18.314120\n",
       "2              Andorra               0.000000\n",
       "3               Angola              18.964560\n",
       "4  Antigua and Barbuda               0.000000"
      ]
     },
     "execution_count": 204,
     "metadata": {},
     "output_type": "execute_result"
    }
   ],
   "source": [
    "# Parse the first sheet and rename the columns: df1\n",
    "df1 = xls.parse(0, skiprows=[0], names=[\"Country\", \"AAM due to War (2002)\"])\n",
    "\n",
    "# Print the head of the DataFrame df1\n",
    "df1.head()"
   ]
  },
  {
   "cell_type": "code",
   "execution_count": 205,
   "id": "933e1f44",
   "metadata": {},
   "outputs": [
    {
     "data": {
      "application/vnd.microsoft.datawrangler.viewer.v0+json": {
       "columns": [
        {
         "name": "index",
         "rawType": "int64",
         "type": "integer"
        },
        {
         "name": "Country",
         "rawType": "object",
         "type": "string"
        }
       ],
       "ref": "492cc996-d414-4676-9a21-6175c649d4f6",
       "rows": [
        [
         "0",
         "Albania"
        ],
        [
         "1",
         "Algeria"
        ],
        [
         "2",
         "Andorra"
        ],
        [
         "3",
         "Angola"
        ],
        [
         "4",
         "Antigua and Barbuda"
        ]
       ],
       "shape": {
        "columns": 1,
        "rows": 5
       }
      },
      "text/html": [
       "<div>\n",
       "<style scoped>\n",
       "    .dataframe tbody tr th:only-of-type {\n",
       "        vertical-align: middle;\n",
       "    }\n",
       "\n",
       "    .dataframe tbody tr th {\n",
       "        vertical-align: top;\n",
       "    }\n",
       "\n",
       "    .dataframe thead th {\n",
       "        text-align: right;\n",
       "    }\n",
       "</style>\n",
       "<table border=\"1\" class=\"dataframe\">\n",
       "  <thead>\n",
       "    <tr style=\"text-align: right;\">\n",
       "      <th></th>\n",
       "      <th>Country</th>\n",
       "    </tr>\n",
       "  </thead>\n",
       "  <tbody>\n",
       "    <tr>\n",
       "      <th>0</th>\n",
       "      <td>Albania</td>\n",
       "    </tr>\n",
       "    <tr>\n",
       "      <th>1</th>\n",
       "      <td>Algeria</td>\n",
       "    </tr>\n",
       "    <tr>\n",
       "      <th>2</th>\n",
       "      <td>Andorra</td>\n",
       "    </tr>\n",
       "    <tr>\n",
       "      <th>3</th>\n",
       "      <td>Angola</td>\n",
       "    </tr>\n",
       "    <tr>\n",
       "      <th>4</th>\n",
       "      <td>Antigua and Barbuda</td>\n",
       "    </tr>\n",
       "  </tbody>\n",
       "</table>\n",
       "</div>"
      ],
      "text/plain": [
       "               Country\n",
       "0              Albania\n",
       "1              Algeria\n",
       "2              Andorra\n",
       "3               Angola\n",
       "4  Antigua and Barbuda"
      ]
     },
     "execution_count": 205,
     "metadata": {},
     "output_type": "execute_result"
    }
   ],
   "source": [
    "# Parse the first column of the second sheet and rename the column: df2\n",
    "df2 = xls.parse(1, usecols=[0], skiprows=[0], names=[\"Country\"])\n",
    "\n",
    "# Print the head of the DataFrame df2\n",
    "df2.head()"
   ]
  },
  {
   "cell_type": "markdown",
   "id": "743c1668",
   "metadata": {},
   "source": [
    "### Importing SAS files"
   ]
  },
  {
   "cell_type": "code",
   "execution_count": 206,
   "id": "9eafa273",
   "metadata": {},
   "outputs": [
    {
     "data": {
      "application/vnd.microsoft.datawrangler.viewer.v0+json": {
       "columns": [
        {
         "name": "index",
         "rawType": "int64",
         "type": "integer"
        },
        {
         "name": "YEAR",
         "rawType": "float64",
         "type": "float"
        },
        {
         "name": "P",
         "rawType": "float64",
         "type": "float"
        },
        {
         "name": "S",
         "rawType": "float64",
         "type": "float"
        }
       ],
       "ref": "9175422b-0573-434b-9aeb-7bd5a2a61702",
       "rows": [
        [
         "0",
         "1950.0",
         "12.899999618530273",
         "181.89999389648438"
        ],
        [
         "1",
         "1951.0",
         "11.899999618530273",
         "245.0"
        ],
        [
         "2",
         "1952.0",
         "10.699999809265137",
         "250.1999969482422"
        ],
        [
         "3",
         "1953.0",
         "11.300000190734863",
         "265.8999938964844"
        ],
        [
         "4",
         "1954.0",
         "11.199999809265137",
         "248.5"
        ]
       ],
       "shape": {
        "columns": 3,
        "rows": 5
       }
      },
      "text/html": [
       "<div>\n",
       "<style scoped>\n",
       "    .dataframe tbody tr th:only-of-type {\n",
       "        vertical-align: middle;\n",
       "    }\n",
       "\n",
       "    .dataframe tbody tr th {\n",
       "        vertical-align: top;\n",
       "    }\n",
       "\n",
       "    .dataframe thead th {\n",
       "        text-align: right;\n",
       "    }\n",
       "</style>\n",
       "<table border=\"1\" class=\"dataframe\">\n",
       "  <thead>\n",
       "    <tr style=\"text-align: right;\">\n",
       "      <th></th>\n",
       "      <th>YEAR</th>\n",
       "      <th>P</th>\n",
       "      <th>S</th>\n",
       "    </tr>\n",
       "  </thead>\n",
       "  <tbody>\n",
       "    <tr>\n",
       "      <th>0</th>\n",
       "      <td>1950.0</td>\n",
       "      <td>12.9</td>\n",
       "      <td>181.899994</td>\n",
       "    </tr>\n",
       "    <tr>\n",
       "      <th>1</th>\n",
       "      <td>1951.0</td>\n",
       "      <td>11.9</td>\n",
       "      <td>245.000000</td>\n",
       "    </tr>\n",
       "    <tr>\n",
       "      <th>2</th>\n",
       "      <td>1952.0</td>\n",
       "      <td>10.7</td>\n",
       "      <td>250.199997</td>\n",
       "    </tr>\n",
       "    <tr>\n",
       "      <th>3</th>\n",
       "      <td>1953.0</td>\n",
       "      <td>11.3</td>\n",
       "      <td>265.899994</td>\n",
       "    </tr>\n",
       "    <tr>\n",
       "      <th>4</th>\n",
       "      <td>1954.0</td>\n",
       "      <td>11.2</td>\n",
       "      <td>248.500000</td>\n",
       "    </tr>\n",
       "  </tbody>\n",
       "</table>\n",
       "</div>"
      ],
      "text/plain": [
       "     YEAR     P           S\n",
       "0  1950.0  12.9  181.899994\n",
       "1  1951.0  11.9  245.000000\n",
       "2  1952.0  10.7  250.199997\n",
       "3  1953.0  11.3  265.899994\n",
       "4  1954.0  11.2  248.500000"
      ]
     },
     "execution_count": 206,
     "metadata": {},
     "output_type": "execute_result"
    }
   ],
   "source": [
    "from sas7bdat import SAS7BDAT\n",
    "\n",
    "# In the context of the file 'sales.sas7bdat', load its contents to a DataFrame df_sas, using the method .to_data_frame() on the object file.\n",
    "with SAS7BDAT(\"data/sales.sas7bdat\") as file:\n",
    "    dfs_sas = file.to_data_frame()\n",
    "\n",
    "\n",
    "# Print head of DataFrame\n",
    "dfs_sas.head()"
   ]
  },
  {
   "cell_type": "code",
   "execution_count": 207,
   "id": "0e2cb6e8",
   "metadata": {},
   "outputs": [
    {
     "data": {
      "image/png": "[encoded data removed]",
      "text/plain": [
       "<Figure size 1000x600 with 1 Axes>"
      ]
     },
     "metadata": {},
     "output_type": "display_data"
    }
   ],
   "source": [
    "fig, ax = plt.subplots(figsize=(10, 6))\n",
    "\n",
    "sns.histplot(\n",
    "    data=dfs_sas, \n",
    "    x=\"P\",\n",
    "    bins=15,  # Optimal number of bins for this dataset\n",
    "    kde=True,  # Add kernel density estimation curve\n",
    "    stat=\"density\",  # Show density instead of count for better interpretation\n",
    "    alpha=0.7,  # Semi-transparent bars for better visual appeal\n",
    "    color=\"steelblue\",  # Professional color choice\n",
    "    edgecolor=\"white\",  # White edges for better bar separation\n",
    "    linewidth=1.5,  \n",
    "    ax=ax,\n",
    ")\n",
    "# Customize grid appearance for better readability\n",
    "ax.grid(True, alpha=0.3, color=\"lightgray\", linestyle=\"-\", linewidth=0.8)\n",
    "ax.set_axisbelow(True)  \n",
    "\n",
    "ax.set_xlabel(\"P Values\", fontsize=14, fontweight=\"bold\", color=\"darkslategray\")\n",
    "ax.set_ylabel(\"Density\", fontsize=14, fontweight=\"bold\", color=\"darkslategray\")\n",
    "ax.set_title(\"Distribution of P Values from SAS Sales Dataset\", fontsize=16, fontweight=\"bold\", color=\"darkslategray\", pad=20)\n",
    "\n",
    "# Customize tick parameters for better appearance\n",
    "ax.tick_params(\n",
    "    axis=\"both\",  \n",
    "    which=\"major\",  \n",
    "    labelsize=12,  \n",
    "    colors=\"darkslategray\",  \n",
    "    direction=\"out\",  \n",
    "    length=6,  \n",
    "    width=1.5  \n",
    ")\n",
    "\n",
    "# Add subtle background color and spine customization\n",
    "ax.set_facecolor(\"whitesmoke\")  \n",
    "for spine in ax.spines.values():\n",
    "    spine.set_edgecolor(\"darkgray\")  \n",
    "    spine.set_linewidth(1.5)  \n",
    "\n",
    "# Improve overall layout and spacing\n",
    "plt.tight_layout(pad=2.0)  \n",
    "plt.show()"
   ]
  },
  {
   "cell_type": "markdown",
   "id": "041db0cd",
   "metadata": {},
   "source": [
    "### Importing Stata files"
   ]
  },
  {
   "cell_type": "code",
   "execution_count": 208,
   "id": "e3afc067",
   "metadata": {},
   "outputs": [
    {
     "data": {
      "application/vnd.microsoft.datawrangler.viewer.v0+json": {
       "columns": [
        {
         "name": "index",
         "rawType": "int64",
         "type": "integer"
        },
        {
         "name": "wbcode",
         "rawType": "object",
         "type": "string"
        },
        {
         "name": "country",
         "rawType": "object",
         "type": "string"
        },
        {
         "name": "disa1",
         "rawType": "float32",
         "type": "float"
        },
        {
         "name": "disa2",
         "rawType": "float32",
         "type": "float"
        },
        {
         "name": "disa3",
         "rawType": "float32",
         "type": "float"
        },
        {
         "name": "disa4",
         "rawType": "float32",
         "type": "float"
        },
        {
         "name": "disa5",
         "rawType": "float32",
         "type": "float"
        },
        {
         "name": "disa6",
         "rawType": "float32",
         "type": "float"
        },
        {
         "name": "disa7",
         "rawType": "float32",
         "type": "float"
        },
        {
         "name": "disa8",
         "rawType": "float32",
         "type": "float"
        },
        {
         "name": "disa9",
         "rawType": "float32",
         "type": "float"
        },
        {
         "name": "disa10",
         "rawType": "float32",
         "type": "float"
        },
        {
         "name": "disa11",
         "rawType": "float32",
         "type": "float"
        },
        {
         "name": "disa12",
         "rawType": "float32",
         "type": "float"
        },
        {
         "name": "disa13",
         "rawType": "float32",
         "type": "float"
        },
        {
         "name": "disa14",
         "rawType": "float32",
         "type": "float"
        },
        {
         "name": "disa15",
         "rawType": "float32",
         "type": "float"
        },
        {
         "name": "disa16",
         "rawType": "float32",
         "type": "float"
        },
        {
         "name": "disa17",
         "rawType": "float32",
         "type": "float"
        },
        {
         "name": "disa18",
         "rawType": "float32",
         "type": "float"
        },
        {
         "name": "disa19",
         "rawType": "float32",
         "type": "float"
        },
        {
         "name": "disa20",
         "rawType": "float32",
         "type": "float"
        },
        {
         "name": "disa21",
         "rawType": "float32",
         "type": "float"
        },
        {
         "name": "disa22",
         "rawType": "float32",
         "type": "float"
        },
        {
         "name": "disa23",
         "rawType": "float32",
         "type": "float"
        },
        {
         "name": "disa24",
         "rawType": "float32",
         "type": "float"
        },
        {
         "name": "disa25",
         "rawType": "float32",
         "type": "float"
        }
       ],
       "ref": "72e10901-fc54-4f2e-be90-468499cd1ed1",
       "rows": [
        [
         "0",
         "AFG",
         "Afghanistan",
         "0.0",
         "0.0",
         "0.76",
         "0.73",
         "0.0",
         "0.0",
         "0.0",
         "0.0",
         "0.0",
         "0.0",
         "0.0",
         "0.0",
         "0.06",
         "0.0",
         "0.0",
         "0.0",
         "0.0",
         "0.0",
         "0.0",
         "0.0",
         "0.0",
         "0.0",
         "0.02",
         "0.0",
         "0.0"
        ],
        [
         "1",
         "AGO",
         "Angola",
         "0.32",
         "0.02",
         "0.56",
         "0.0",
         "0.0",
         "0.0",
         "0.56",
         "0.0",
         "0.0",
         "0.13",
         "0.0",
         "0.0",
         "0.0",
         "0.0",
         "0.06",
         "0.0",
         "0.4",
         "0.0",
         "0.61",
         "0.0",
         "0.0",
         "0.99",
         "0.98",
         "0.61",
         "0.0"
        ],
        [
         "2",
         "ALB",
         "Albania",
         "0.0",
         "0.0",
         "0.02",
         "0.0",
         "0.0",
         "0.0",
         "0.0",
         "0.0",
         "0.0",
         "0.0",
         "0.0",
         "0.0",
         "0.0",
         "0.0",
         "0.99",
         "0.0",
         "0.0",
         "0.0",
         "0.0",
         "0.0",
         "0.0",
         "0.0",
         "0.0",
         "0.0",
         "0.16"
        ],
        [
         "3",
         "ARE",
         "United Arab Emirates",
         "0.0",
         "0.0",
         "0.0",
         "0.0",
         "0.0",
         "0.0",
         "0.0",
         "0.0",
         "0.0",
         "0.0",
         "0.0",
         "0.0",
         "0.0",
         "0.0",
         "0.0",
         "0.0",
         "0.0",
         "0.0",
         "0.0",
         "0.0",
         "0.0",
         "0.0",
         "0.0",
         "0.0",
         "0.0"
        ],
        [
         "4",
         "ARG",
         "Argentina",
         "0.0",
         "0.24",
         "0.24",
         "0.0",
         "0.0",
         "0.23",
         "0.0",
         "0.0",
         "0.19",
         "0.0",
         "0.0",
         "0.0",
         "0.0",
         "0.0",
         "0.23",
         "0.0",
         "0.0",
         "0.0",
         "0.0",
         "0.05",
         "0.0",
         "0.0",
         "0.01",
         "0.0",
         "0.11"
        ]
       ],
       "shape": {
        "columns": 27,
        "rows": 5
       }
      },
      "text/html": [
       "<div>\n",
       "<style scoped>\n",
       "    .dataframe tbody tr th:only-of-type {\n",
       "        vertical-align: middle;\n",
       "    }\n",
       "\n",
       "    .dataframe tbody tr th {\n",
       "        vertical-align: top;\n",
       "    }\n",
       "\n",
       "    .dataframe thead th {\n",
       "        text-align: right;\n",
       "    }\n",
       "</style>\n",
       "<table border=\"1\" class=\"dataframe\">\n",
       "  <thead>\n",
       "    <tr style=\"text-align: right;\">\n",
       "      <th></th>\n",
       "      <th>wbcode</th>\n",
       "      <th>country</th>\n",
       "      <th>disa1</th>\n",
       "      <th>disa2</th>\n",
       "      <th>disa3</th>\n",
       "      <th>disa4</th>\n",
       "      <th>disa5</th>\n",
       "      <th>disa6</th>\n",
       "      <th>disa7</th>\n",
       "      <th>disa8</th>\n",
       "      <th>...</th>\n",
       "      <th>disa16</th>\n",
       "      <th>disa17</th>\n",
       "      <th>disa18</th>\n",
       "      <th>disa19</th>\n",
       "      <th>disa20</th>\n",
       "      <th>disa21</th>\n",
       "      <th>disa22</th>\n",
       "      <th>disa23</th>\n",
       "      <th>disa24</th>\n",
       "      <th>disa25</th>\n",
       "    </tr>\n",
       "  </thead>\n",
       "  <tbody>\n",
       "    <tr>\n",
       "      <th>0</th>\n",
       "      <td>AFG</td>\n",
       "      <td>Afghanistan</td>\n",
       "      <td>0.00</td>\n",
       "      <td>0.00</td>\n",
       "      <td>0.76</td>\n",
       "      <td>0.73</td>\n",
       "      <td>0.0</td>\n",
       "      <td>0.00</td>\n",
       "      <td>0.00</td>\n",
       "      <td>0.0</td>\n",
       "      <td>...</td>\n",
       "      <td>0.0</td>\n",
       "      <td>0.0</td>\n",
       "      <td>0.0</td>\n",
       "      <td>0.00</td>\n",
       "      <td>0.00</td>\n",
       "      <td>0.0</td>\n",
       "      <td>0.00</td>\n",
       "      <td>0.02</td>\n",
       "      <td>0.00</td>\n",
       "      <td>0.00</td>\n",
       "    </tr>\n",
       "    <tr>\n",
       "      <th>1</th>\n",
       "      <td>AGO</td>\n",
       "      <td>Angola</td>\n",
       "      <td>0.32</td>\n",
       "      <td>0.02</td>\n",
       "      <td>0.56</td>\n",
       "      <td>0.00</td>\n",
       "      <td>0.0</td>\n",
       "      <td>0.00</td>\n",
       "      <td>0.56</td>\n",
       "      <td>0.0</td>\n",
       "      <td>...</td>\n",
       "      <td>0.0</td>\n",
       "      <td>0.4</td>\n",
       "      <td>0.0</td>\n",
       "      <td>0.61</td>\n",
       "      <td>0.00</td>\n",
       "      <td>0.0</td>\n",
       "      <td>0.99</td>\n",
       "      <td>0.98</td>\n",
       "      <td>0.61</td>\n",
       "      <td>0.00</td>\n",
       "    </tr>\n",
       "    <tr>\n",
       "      <th>2</th>\n",
       "      <td>ALB</td>\n",
       "      <td>Albania</td>\n",
       "      <td>0.00</td>\n",
       "      <td>0.00</td>\n",
       "      <td>0.02</td>\n",
       "      <td>0.00</td>\n",
       "      <td>0.0</td>\n",
       "      <td>0.00</td>\n",
       "      <td>0.00</td>\n",
       "      <td>0.0</td>\n",
       "      <td>...</td>\n",
       "      <td>0.0</td>\n",
       "      <td>0.0</td>\n",
       "      <td>0.0</td>\n",
       "      <td>0.00</td>\n",
       "      <td>0.00</td>\n",
       "      <td>0.0</td>\n",
       "      <td>0.00</td>\n",
       "      <td>0.00</td>\n",
       "      <td>0.00</td>\n",
       "      <td>0.16</td>\n",
       "    </tr>\n",
       "    <tr>\n",
       "      <th>3</th>\n",
       "      <td>ARE</td>\n",
       "      <td>United Arab Emirates</td>\n",
       "      <td>0.00</td>\n",
       "      <td>0.00</td>\n",
       "      <td>0.00</td>\n",
       "      <td>0.00</td>\n",
       "      <td>0.0</td>\n",
       "      <td>0.00</td>\n",
       "      <td>0.00</td>\n",
       "      <td>0.0</td>\n",
       "      <td>...</td>\n",
       "      <td>0.0</td>\n",
       "      <td>0.0</td>\n",
       "      <td>0.0</td>\n",
       "      <td>0.00</td>\n",
       "      <td>0.00</td>\n",
       "      <td>0.0</td>\n",
       "      <td>0.00</td>\n",
       "      <td>0.00</td>\n",
       "      <td>0.00</td>\n",
       "      <td>0.00</td>\n",
       "    </tr>\n",
       "    <tr>\n",
       "      <th>4</th>\n",
       "      <td>ARG</td>\n",
       "      <td>Argentina</td>\n",
       "      <td>0.00</td>\n",
       "      <td>0.24</td>\n",
       "      <td>0.24</td>\n",
       "      <td>0.00</td>\n",
       "      <td>0.0</td>\n",
       "      <td>0.23</td>\n",
       "      <td>0.00</td>\n",
       "      <td>0.0</td>\n",
       "      <td>...</td>\n",
       "      <td>0.0</td>\n",
       "      <td>0.0</td>\n",
       "      <td>0.0</td>\n",
       "      <td>0.00</td>\n",
       "      <td>0.05</td>\n",
       "      <td>0.0</td>\n",
       "      <td>0.00</td>\n",
       "      <td>0.01</td>\n",
       "      <td>0.00</td>\n",
       "      <td>0.11</td>\n",
       "    </tr>\n",
       "  </tbody>\n",
       "</table>\n",
       "<p>5 rows × 27 columns</p>\n",
       "</div>"
      ],
      "text/plain": [
       "  wbcode               country  disa1  disa2  disa3  disa4  disa5  disa6  \\\n",
       "0    AFG           Afghanistan   0.00   0.00   0.76   0.73    0.0   0.00   \n",
       "1    AGO                Angola   0.32   0.02   0.56   0.00    0.0   0.00   \n",
       "2    ALB               Albania   0.00   0.00   0.02   0.00    0.0   0.00   \n",
       "3    ARE  United Arab Emirates   0.00   0.00   0.00   0.00    0.0   0.00   \n",
       "4    ARG             Argentina   0.00   0.24   0.24   0.00    0.0   0.23   \n",
       "\n",
       "   disa7  disa8  ...  disa16  disa17  disa18  disa19  disa20  disa21  disa22  \\\n",
       "0   0.00    0.0  ...     0.0     0.0     0.0    0.00    0.00     0.0    0.00   \n",
       "1   0.56    0.0  ...     0.0     0.4     0.0    0.61    0.00     0.0    0.99   \n",
       "2   0.00    0.0  ...     0.0     0.0     0.0    0.00    0.00     0.0    0.00   \n",
       "3   0.00    0.0  ...     0.0     0.0     0.0    0.00    0.00     0.0    0.00   \n",
       "4   0.00    0.0  ...     0.0     0.0     0.0    0.00    0.05     0.0    0.00   \n",
       "\n",
       "   disa23  disa24  disa25  \n",
       "0    0.02    0.00    0.00  \n",
       "1    0.98    0.61    0.00  \n",
       "2    0.00    0.00    0.16  \n",
       "3    0.00    0.00    0.00  \n",
       "4    0.01    0.00    0.11  \n",
       "\n",
       "[5 rows x 27 columns]"
      ]
     },
     "execution_count": 208,
     "metadata": {},
     "output_type": "execute_result"
    }
   ],
   "source": [
    "# Load Stata file into a pandas DataFrame\n",
    "disarea = pd.read_stata(\"data/disarea.dta\")\n",
    "\n",
    "# Print the head of the DataFrame df\n",
    "disarea.head()"
   ]
  },
  {
   "cell_type": "code",
   "execution_count": 209,
   "id": "2d441a6b",
   "metadata": {},
   "outputs": [
    {
     "data": {
      "image/png": "[encoded data removed]",
      "text/plain": [
       "<Figure size 640x480 with 1 Axes>"
      ]
     },
     "metadata": {},
     "output_type": "display_data"
    }
   ],
   "source": [
    "# Plot histogram of one column of the DataFrame\n",
    "fig, ax = plt.subplots()\n",
    "\n",
    "sns.histplot(data=disarea, x=\"disa10\", \n",
    "             kde=True, stat=\"density\", \n",
    "             alpha=0.7, color=\"steelblue\", \n",
    "             edgecolor=\"white\", linewidth=1.5)\n",
    "\n",
    "ax.grid(True, alpha=0.3, color=\"lightgray\", linestyle=\"-\", linewidth=0.8)\n",
    "ax.set_axisbelow(True)\n",
    "ax.set_xlabel(\"Disaster Area Score (disa10)\", fontsize=11, fontweight=\"bold\", color=\"darkslategray\")\n",
    "ax.set_ylabel(\"Density\", fontsize=11, fontweight=\"bold\", color=\"darkslategray\")\n",
    "ax.set_title(\"Distribution of Disaster Area Scores (disa10) from Stata Dataset\", \n",
    "             fontsize=12, fontweight=\"bold\", color=\"darkslategray\", pad=20,)\n",
    "\n",
    "# Add subtle background color and spine customization\n",
    "ax.set_facecolor(\"whitesmoke\")  \n",
    "for spine in ax.spines.values():\n",
    "    spine.set_edgecolor(\"darkgray\")  \n",
    "    spine.set_linewidth(1.5)  \n",
    "\n",
    "plt.tight_layout(pad=2.0)  \n",
    "\n",
    "plt.show()"
   ]
  },
  {
   "cell_type": "markdown",
   "id": "482372c5",
   "metadata": {},
   "source": [
    "### Using h5py to import HDF5 files\n",
    "The file `'LIGO_data.hdf5'` is already in your working directory. In this exercise, you'll import it using the `h5py` library. You'll also print out its datatype to confirm you have imported it correctly. You'll then study the structure of the file in order to see precisely what HDF groups it contains."
   ]
  },
  {
   "cell_type": "code",
   "execution_count": 210,
   "id": "58ebdebc",
   "metadata": {},
   "outputs": [
    {
     "name": "stdout",
     "output_type": "stream",
     "text": [
      "<class 'h5py._hl.files.File'>\n"
     ]
    }
   ],
   "source": [
    "import h5py\n",
    "# Assign filename: file\n",
    "ligo_file = \"data/LIGO_data.hdf5\"\n",
    "\n",
    "# Load file: data\n",
    "ligo_data = h5py.File(ligo_file, \"r\")\n",
    "\n",
    "# Print the datatype of the loaded file\n",
    "print(type(ligo_data))"
   ]
  },
  {
   "cell_type": "code",
   "execution_count": 211,
   "id": "f3d47c07",
   "metadata": {},
   "outputs": [
    {
     "name": "stdout",
     "output_type": "stream",
     "text": [
      "meta\n",
      "quality\n",
      "strain\n"
     ]
    }
   ],
   "source": [
    "# Print the keys of the file\n",
    "for key in ligo_data.keys():\n",
    "    print(key)"
   ]
  },
  {
   "cell_type": "code",
   "execution_count": 212,
   "id": "e6c30f51",
   "metadata": {},
   "outputs": [
    {
     "name": "stdout",
     "output_type": "stream",
     "text": [
      "Strain\n"
     ]
    }
   ],
   "source": [
    "# Assign the HDF5 group data['strain'] to group.\n",
    "group = ligo_data[\"strain\"]\n",
    "\n",
    "# Check out keys of group\n",
    "for key in group.keys():\n",
    "    print(key)"
   ]
  },
  {
   "cell_type": "code",
   "execution_count": 213,
   "id": "de25e080",
   "metadata": {},
   "outputs": [
    {
     "data": {
      "image/png": "[encoded data removed]",
      "text/plain": [
       "<Figure size 640x480 with 1 Axes>"
      ]
     },
     "metadata": {},
     "output_type": "display_data"
    }
   ],
   "source": [
    "# Set variable equal to time series data: strain\n",
    "strain = np.array(ligo_data[\"strain\"][\"Strain\"])\n",
    "\n",
    "# Set number of time points to sample: num_samples\n",
    "num_samples = 10000\n",
    "\n",
    "# Set time vector\n",
    "time = np.arange(0, 1, 1/num_samples)\n",
    "\n",
    "# Plot data using matplotlib OOP approach with seaborn styling\n",
    "fig, ax = plt.subplots()\n",
    "\n",
    "# Use seaborn style but matplotlib OOP for plotting\n",
    "ax.plot(time, strain[:num_samples], color='steelblue', linewidth=1.2, alpha=0.8)\n",
    "\n",
    "# Customize the plot\n",
    "ax.set_xlabel(\"GPS Time (s)\", fontsize=10, fontweight=\"bold\", color=\"darkslategray\")\n",
    "ax.set_ylabel(\"Strain\", fontsize=10, fontweight=\"bold\", color=\"darkslategray\")\n",
    "ax.set_title(\"LIGO Gravitational Wave Strain Data\", fontsize=12, fontweight='bold', pad=20)\n",
    "\n",
    "# Grid customization\n",
    "ax.grid(True, alpha=0.3)\n",
    "ax.set_axisbelow(True)\n",
    "\n",
    "# Spine customization\n",
    "for spine in ax.spines.values():\n",
    "    spine.set_edgecolor('darkgray')\n",
    "    spine.set_linewidth(1.2)\n",
    "\n",
    "plt.tight_layout()\n",
    "plt.show()"
   ]
  },
  {
   "cell_type": "markdown",
   "id": "10bad511",
   "metadata": {},
   "source": [
    "### Loading .mat files\n",
    "In this exercise, you'll figure out how to load a MATLAB file using `scipy.io.loadmat()` and you'll discover what Python datatype it yields."
   ]
  },
  {
   "cell_type": "code",
   "execution_count": 214,
   "id": "2d2f3069",
   "metadata": {},
   "outputs": [
    {
     "name": "stdout",
     "output_type": "stream",
     "text": [
      "<class 'dict'>\n"
     ]
    }
   ],
   "source": [
    "# Import the package scipy.io.\n",
    "import scipy.io\n",
    "\n",
    "# Load the file 'albeck_gene_expression.mat' into the variable mat; do so using the function scipy.io.loadmat().\n",
    "mat = scipy.io.loadmat(\"data/albeck_gene_expression.mat\")\n",
    "\n",
    "# Print the datatype type of mat\n",
    "print(type(mat))"
   ]
  },
  {
   "cell_type": "markdown",
   "id": "cde51e2b",
   "metadata": {},
   "source": [
    "Use the method `.keys()` on the dictionary `mat` to print the keys. Most of these keys (in fact the ones that do NOT begin and end with '__') are variables from the corresponding MATLAB environment.\n"
   ]
  },
  {
   "cell_type": "code",
   "execution_count": 219,
   "id": "26ce4f56",
   "metadata": {},
   "outputs": [
    {
     "name": "stdout",
     "output_type": "stream",
     "text": [
      "dict_keys(['__header__', '__version__', '__globals__', 'rfpCyt', 'rfpNuc', 'cfpNuc', 'cfpCyt', 'yfpNuc', 'yfpCyt', 'CYratioCyt'])\n"
     ]
    }
   ],
   "source": [
    "# Print the keys of the MATLAB dictionary\n",
    "print(mat.keys())"
   ]
  },
  {
   "cell_type": "code",
   "execution_count": 216,
   "id": "416cbcf9",
   "metadata": {},
   "outputs": [
    {
     "name": "stdout",
     "output_type": "stream",
     "text": [
      "['rfpCyt', 'rfpNuc', 'cfpNuc', 'cfpCyt', 'yfpNuc', 'yfpCyt', 'CYratioCyt']\n"
     ]
    }
   ],
   "source": [
    "# Print the keys of the MATLAB dictionary\n",
    "print([key for key in mat.keys() if key.startswith(\"__\") == False])"
   ]
  },
  {
   "cell_type": "markdown",
   "id": "f3588baf",
   "metadata": {},
   "source": [
    "Print the type of the value corresponding to the key `'CYratioCyt'` in `mat`. Recall that `mat['CYratioCyt']` accesses the value.\n"
   ]
  },
  {
   "cell_type": "code",
   "execution_count": 226,
   "id": "61d1137f",
   "metadata": {},
   "outputs": [
    {
     "name": "stdout",
     "output_type": "stream",
     "text": [
      "<class 'numpy.ndarray'>\n",
      "(200, 137)\n"
     ]
    }
   ],
   "source": [
    "# Print the type of the value corresponding to the key 'CYratioCyt'\n",
    "print(type(mat[\"CYratioCyt\"]))\n",
    "\n",
    "# Print the shape of the value corresponding to the key 'CYratioCyt'\n",
    "print(mat[\"CYratioCyt\"].shape)"
   ]
  },
  {
   "cell_type": "code",
   "execution_count": 225,
   "id": "e2273f24",
   "metadata": {},
   "outputs": [
    {
     "data": {
      "image/png": "[encoded data removed]",
      "text/plain": [
       "<Figure size 640x480 with 1 Axes>"
      ]
     },
     "metadata": {},
     "output_type": "display_data"
    }
   ],
   "source": [
    "# Subset the array and plot it\n",
    "mat_data_plot = mat[\"CYratioCyt\"][25, 5:]\n",
    "\n",
    "# Create figure and axis for plotting\n",
    "fig, ax = plt.subplots()\n",
    "\n",
    "# Plot the gene expression time series data\n",
    "ax.plot(mat_data_plot, color=\"steelblue\", linewidth=1.2, alpha=0.8)\n",
    "\n",
    "# Set axis labels and title\n",
    "ax.set_xlabel(\"Time (min.)\", fontsize=10, color=\"darkslategray\")\n",
    "ax.set_ylabel(\"Normalized Fluorescence (measure of expression)\", fontsize=10, color=\"darkslategray\")\n",
    "ax.set_title(\"Gene Expression Time Series (CYratioCyt, Cell #25)\", fontsize=12, fontweight=\"bold\", pad=20)\n",
    "\n",
    "# Add grid and customize appearance\n",
    "ax.grid(True, alpha=0.3)\n",
    "ax.set_axisbelow(True)\n",
    "\n",
    "# Customize spine appearance\n",
    "for spine in ax.spines.values():\n",
    "    spine.set_edgecolor(\"darkgray\")\n",
    "    spine.set_linewidth(1.2)\n",
    "\n",
    "plt.tight_layout()\n",
    "plt.show()"
   ]
  },
  {
   "cell_type": "markdown",
   "id": "878cac06",
   "metadata": {},
   "source": [
    "### Creating a database engine\n",
    "Here, you're going to fire up your very first SQL engine. You'll create an engine to connect to the SQLite database `'Chinook.sqlite'`, which is in your working directory. Remember that to create an engine to connect to `'Northwind.sqlite'`, Hugo executed the command\n",
    "\n",
    "`engine = create_engine('sqlite:///Northwind.sqlite')`\n",
    "Here, `'sqlite:///Northwind.sqlite'` is called the connection string to the SQLite database `Northwind.sqlite`. A little bit of background on the **Chinook database**: the Chinook database contains information about a semi-fictional digital media store in which media data is real and customer, employee and sales data has been manually created.\n",
    "\n",
    "Why the name Chinook, you ask? According to their website,\n",
    "\n",
    " _The name of this sample database was based on the Northwind database. Chinooks are winds in the interior West of North America, where the Canadian Prairies and Great Plains meet various mountain ranges. Chinooks are most prevalent over southern Alberta in Canada. Chinook is a good name choice for a database that intends to be an alternative to Northwind._"
   ]
  },
  {
   "cell_type": "code",
   "execution_count": null,
   "id": "69a08b3c",
   "metadata": {},
   "outputs": [
    {
     "name": "stdout",
     "output_type": "stream",
     "text": [
      "['Album', 'Artist', 'Customer', 'Employee', 'Genre', 'Invoice', 'InvoiceLine', 'MediaType', 'Playlist', 'PlaylistTrack', 'Track']\n"
     ]
    }
   ],
   "source": [
    "# Import necessary module\n",
    "from sqlalchemy import create_engine, inspect, text\n",
    "\n",
    "# Create engine: engine\n",
    "engine = create_engine(\"sqlite:///data/Chinook.sqlite\")"
   ]
  },
  {
   "cell_type": "markdown",
   "id": "d6ab79f1",
   "metadata": {},
   "source": [
    "### What are the tables in the database?\n",
    "In this exercise, you'll once again create an engine to connect to `'Chinook.sqlite'`. Before you can get any data out of the database, however, you'll need to know what tables it contains!\n",
    "\n",
    "To this end, you'll save the table names to a list using the method `.table_names()` on the engine and then you will print the list."
   ]
  },
  {
   "cell_type": "code",
   "execution_count": 235,
   "id": "86f0adff",
   "metadata": {},
   "outputs": [
    {
     "name": "stdout",
     "output_type": "stream",
     "text": [
      "['Album', 'Artist', 'Customer', 'Employee', 'Genre', 'Invoice', 'InvoiceLine', 'MediaType', 'Playlist', 'PlaylistTrack', 'Track']\n"
     ]
    }
   ],
   "source": [
    "# Save the table names to a list: table_names\n",
    "inspector = inspect(engine)\n",
    "table_names = inspector.get_table_names()\n",
    "\n",
    "# Print the table names to the shell\n",
    "print(table_names)"
   ]
  },
  {
   "cell_type": "markdown",
   "id": "baaa779b",
   "metadata": {},
   "source": [
    "## Querying Relational Databases in Python\n",
    "\n",
    "Interfacing with **relational databases** is a critical skill in data science, analytics, and software engineering. Databases efficiently store, organise, and query large structured datasets, often far exceeding what can be handled in memory. Python provides powerful, idiomatic tools for working with SQL databases—most notably, **SQLAlchemy** for connection and **pandas** for data wrangling.\n",
    "\n",
    "### Basic SQL Queries\n",
    "\n",
    "**SQL** (Structured Query Language) is the universal language for querying relational databases.\n",
    "\n",
    "- `SELECT * FROM Table_Name`: Returns all columns of all rows from a table.\n",
    "- Example: `SELECT * FROM Orders`\n",
    "\n",
    "### Pythonic Workflow for SQL Querying\n",
    "\n",
    "The canonical, robust workflow for querying SQL databases in Python is as follows:\n",
    "\n",
    "1. **Import necessary packages**\n",
    "2. **Create a database engine** (connection object)\n",
    "3. **Establish a connection** to the database\n",
    "4. **Execute SQL queries**\n",
    "5. **Load query results into a pandas DataFrame** for analysis\n",
    "6. **Close the connection** to free resources\n",
    "\n",
    "### Querying a Database\n",
    "\n",
    "#### Step 1: Import Packages and Create Engine\n",
    "\n",
    "```python\n",
    "from sqlalchemy import create_engine\n",
    "import pandas as pd\n",
    "\n",
    "# The connection string depends on the database and driver in use.\n",
    "# Example for SQLite:\n",
    "engine = create_engine('sqlite:///database_file.sqlite')\n",
    "```\n",
    "\n",
    "#### Step 2: Connect, Query, and Read Results\n",
    "\n",
    "##### Classic Pattern\n",
    "\n",
    "```python\n",
    "con = engine.connect()\n",
    "rs = con.execute(\"SELECT * FROM TableName\")\n",
    "df = pd.DataFrame(rs.fetchall())\n",
    "df.columns = rs.keys()  # Set column names from result set metadata\n",
    "con.close()\n",
    "```\n",
    "\n",
    "##### Context Manager (Recommended, Pythonic)\n",
    "\n",
    "Using the `with` statement ensures that the connection is properly closed even if errors occur, following best Python practices:\n",
    "\n",
    "```python\n",
    "with engine.connect() as con:\n",
    "    rs = con.execute(\"SELECT column1, column2 FROM TableName\")\n",
    "    df = pd.DataFrame(rs.fetchall())\n",
    "    df.columns = rs.keys()\n",
    "# The connection is now closed\n",
    "```\n",
    "\n",
    "#### Step 3: Limiting Results\n",
    "\n",
    "For exploratory analysis or debugging, it’s often useful to fetch only a subset of records:\n",
    "\n",
    "```python\n",
    "with engine.connect() as con:\n",
    "    rs = con.execute(\"SELECT * FROM TableName\")\n",
    "    df = pd.DataFrame(rs.fetchmany(size=10))  # Only the first 10 records\n",
    "    df.columns = rs.keys()\n",
    "```\n",
    "\n",
    "### Pythonic Patterns\n",
    "\n",
    "- Always use a **context manager** (`with ... as ...:`) to guarantee resource cleanup.\n",
    "- Always set `df.columns = rs.keys()` to ensure your DataFrame has the correct headers.\n",
    "- For production code or repeated queries, use **parameterised SQL** to prevent SQL injection and improve maintainability.\n",
    "- Use `pandas.read_sql_query()` for direct SQL-to-DataFrame workflows:\n",
    "    ```python\n",
    "    df = pd.read_sql_query(\"SELECT * FROM TableName\", engine)\n",
    "    ```\n",
    "- Leverage the power of SQL for filtering, aggregation, and joins before loading data into pandas—this is much more efficient than filtering in Python after a full table import."
   ]
  },
  {
   "cell_type": "code",
   "execution_count": 245,
   "id": "590d6a44",
   "metadata": {},
   "outputs": [
    {
     "data": {
      "application/vnd.microsoft.datawrangler.viewer.v0+json": {
       "columns": [
        {
         "name": "index",
         "rawType": "int64",
         "type": "integer"
        },
        {
         "name": "AlbumId",
         "rawType": "int64",
         "type": "integer"
        },
        {
         "name": "Title",
         "rawType": "object",
         "type": "string"
        },
        {
         "name": "ArtistId",
         "rawType": "int64",
         "type": "integer"
        }
       ],
       "ref": "2f81ea90-f59f-4e21-ac46-a149ee27e557",
       "rows": [
        [
         "0",
         "1",
         "For Those About To Rock We Salute You",
         "1"
        ],
        [
         "1",
         "2",
         "Balls to the Wall",
         "2"
        ],
        [
         "2",
         "3",
         "Restless and Wild",
         "2"
        ],
        [
         "3",
         "4",
         "Let There Be Rock",
         "1"
        ],
        [
         "4",
         "5",
         "Big Ones",
         "3"
        ]
       ],
       "shape": {
        "columns": 3,
        "rows": 5
       }
      },
      "text/html": [
       "<div>\n",
       "<style scoped>\n",
       "    .dataframe tbody tr th:only-of-type {\n",
       "        vertical-align: middle;\n",
       "    }\n",
       "\n",
       "    .dataframe tbody tr th {\n",
       "        vertical-align: top;\n",
       "    }\n",
       "\n",
       "    .dataframe thead th {\n",
       "        text-align: right;\n",
       "    }\n",
       "</style>\n",
       "<table border=\"1\" class=\"dataframe\">\n",
       "  <thead>\n",
       "    <tr style=\"text-align: right;\">\n",
       "      <th></th>\n",
       "      <th>AlbumId</th>\n",
       "      <th>Title</th>\n",
       "      <th>ArtistId</th>\n",
       "    </tr>\n",
       "  </thead>\n",
       "  <tbody>\n",
       "    <tr>\n",
       "      <th>0</th>\n",
       "      <td>1</td>\n",
       "      <td>For Those About To Rock We Salute You</td>\n",
       "      <td>1</td>\n",
       "    </tr>\n",
       "    <tr>\n",
       "      <th>1</th>\n",
       "      <td>2</td>\n",
       "      <td>Balls to the Wall</td>\n",
       "      <td>2</td>\n",
       "    </tr>\n",
       "    <tr>\n",
       "      <th>2</th>\n",
       "      <td>3</td>\n",
       "      <td>Restless and Wild</td>\n",
       "      <td>2</td>\n",
       "    </tr>\n",
       "    <tr>\n",
       "      <th>3</th>\n",
       "      <td>4</td>\n",
       "      <td>Let There Be Rock</td>\n",
       "      <td>1</td>\n",
       "    </tr>\n",
       "    <tr>\n",
       "      <th>4</th>\n",
       "      <td>5</td>\n",
       "      <td>Big Ones</td>\n",
       "      <td>3</td>\n",
       "    </tr>\n",
       "  </tbody>\n",
       "</table>\n",
       "</div>"
      ],
      "text/plain": [
       "   AlbumId                                  Title  ArtistId\n",
       "0        1  For Those About To Rock We Salute You         1\n",
       "1        2                      Balls to the Wall         2\n",
       "2        3                      Restless and Wild         2\n",
       "3        4                      Let There Be Rock         1\n",
       "4        5                               Big Ones         3"
      ]
     },
     "execution_count": 245,
     "metadata": {},
     "output_type": "execute_result"
    }
   ],
   "source": [
    "# Create engine: engine\n",
    "engine = create_engine(\"sqlite:///data/Chinook.sqlite\")\n",
    "\n",
    "# Open engine connection: con\n",
    "con = engine.connect()\n",
    "\n",
    "# Perform query: rs\n",
    "rs = con.execute(text(\"SELECT * FROM Album\"))\n",
    "\n",
    "# Save results of the query to DataFrame: df\n",
    "df_chin = pd.DataFrame(rs.fetchall())\n",
    "df_chin.columns = rs.keys()\n",
    "\n",
    "# Close connection\n",
    "con.close()\n",
    "\n",
    "# Print head of DataFrame df\n",
    "df_chin.head()"
   ]
  },
  {
   "cell_type": "code",
   "execution_count": 248,
   "id": "13bb0bfb",
   "metadata": {},
   "outputs": [
    {
     "name": "stdout",
     "output_type": "stream",
     "text": [
      "3\n"
     ]
    }
   ],
   "source": [
    "# Open engine in context manager\n",
    "with engine.connect() as con:\n",
    "    rs = con.execute(text(\"SELECT LastName, Title FROM Employee\"))\n",
    "    df_chin_with = pd.DataFrame(rs.fetchmany(3))\n",
    "    df_chin_with.columns = [\"LastName\", \"Title\"]\n",
    "\n",
    "# Print the length of the DataFrame df\n",
    "print(len(df_chin_with))"
   ]
  },
  {
   "cell_type": "code",
   "execution_count": 249,
   "id": "37cf87c2",
   "metadata": {},
   "outputs": [
    {
     "data": {
      "application/vnd.microsoft.datawrangler.viewer.v0+json": {
       "columns": [
        {
         "name": "index",
         "rawType": "int64",
         "type": "integer"
        },
        {
         "name": "LastName",
         "rawType": "object",
         "type": "string"
        },
        {
         "name": "Title",
         "rawType": "object",
         "type": "string"
        }
       ],
       "ref": "5fdc4e92-115a-4203-9505-c23884dbbadb",
       "rows": [
        [
         "0",
         "Adams",
         "General Manager"
        ],
        [
         "1",
         "Edwards",
         "Sales Manager"
        ],
        [
         "2",
         "Peacock",
         "Sales Support Agent"
        ]
       ],
       "shape": {
        "columns": 2,
        "rows": 3
       }
      },
      "text/html": [
       "<div>\n",
       "<style scoped>\n",
       "    .dataframe tbody tr th:only-of-type {\n",
       "        vertical-align: middle;\n",
       "    }\n",
       "\n",
       "    .dataframe tbody tr th {\n",
       "        vertical-align: top;\n",
       "    }\n",
       "\n",
       "    .dataframe thead th {\n",
       "        text-align: right;\n",
       "    }\n",
       "</style>\n",
       "<table border=\"1\" class=\"dataframe\">\n",
       "  <thead>\n",
       "    <tr style=\"text-align: right;\">\n",
       "      <th></th>\n",
       "      <th>LastName</th>\n",
       "      <th>Title</th>\n",
       "    </tr>\n",
       "  </thead>\n",
       "  <tbody>\n",
       "    <tr>\n",
       "      <th>0</th>\n",
       "      <td>Adams</td>\n",
       "      <td>General Manager</td>\n",
       "    </tr>\n",
       "    <tr>\n",
       "      <th>1</th>\n",
       "      <td>Edwards</td>\n",
       "      <td>Sales Manager</td>\n",
       "    </tr>\n",
       "    <tr>\n",
       "      <th>2</th>\n",
       "      <td>Peacock</td>\n",
       "      <td>Sales Support Agent</td>\n",
       "    </tr>\n",
       "  </tbody>\n",
       "</table>\n",
       "</div>"
      ],
      "text/plain": [
       "  LastName                Title\n",
       "0    Adams      General Manager\n",
       "1  Edwards        Sales Manager\n",
       "2  Peacock  Sales Support Agent"
      ]
     },
     "metadata": {},
     "output_type": "display_data"
    }
   ],
   "source": [
    "# Print the head of the DataFrame df\n",
    "display(df_chin_with.head())"
   ]
  },
  {
   "cell_type": "code",
   "execution_count": 250,
   "id": "2251f0d6",
   "metadata": {},
   "outputs": [
    {
     "data": {
      "application/vnd.microsoft.datawrangler.viewer.v0+json": {
       "columns": [
        {
         "name": "index",
         "rawType": "int64",
         "type": "integer"
        },
        {
         "name": "EmployeeId",
         "rawType": "int64",
         "type": "integer"
        },
        {
         "name": "LastName",
         "rawType": "object",
         "type": "string"
        },
        {
         "name": "FirstName",
         "rawType": "object",
         "type": "string"
        },
        {
         "name": "Title",
         "rawType": "object",
         "type": "string"
        },
        {
         "name": "ReportsTo",
         "rawType": "int64",
         "type": "integer"
        },
        {
         "name": "BirthDate",
         "rawType": "object",
         "type": "string"
        },
        {
         "name": "HireDate",
         "rawType": "object",
         "type": "string"
        },
        {
         "name": "Address",
         "rawType": "object",
         "type": "string"
        },
        {
         "name": "City",
         "rawType": "object",
         "type": "string"
        },
        {
         "name": "State",
         "rawType": "object",
         "type": "string"
        },
        {
         "name": "Country",
         "rawType": "object",
         "type": "string"
        },
        {
         "name": "PostalCode",
         "rawType": "object",
         "type": "string"
        },
        {
         "name": "Phone",
         "rawType": "object",
         "type": "string"
        },
        {
         "name": "Fax",
         "rawType": "object",
         "type": "string"
        },
        {
         "name": "Email",
         "rawType": "object",
         "type": "string"
        }
       ],
       "ref": "4fcd437f-3fb4-41c4-9441-0e0a4ac3b933",
       "rows": [
        [
         "0",
         "6",
         "Mitchell",
         "Michael",
         "IT Manager",
         "1",
         "1973-07-01 00:00:00",
         "2003-10-17 00:00:00",
         "5827 Bowness Road NW",
         "Calgary",
         "AB",
         "Canada",
         "T3B 0C5",
         "+1 (403) 246-9887",
         "+1 (403) 246-9899",
         "michael@chinookcorp.com"
        ],
        [
         "1",
         "7",
         "King",
         "Robert",
         "IT Staff",
         "6",
         "1970-05-29 00:00:00",
         "2004-01-02 00:00:00",
         "590 Columbia Boulevard West",
         "Lethbridge",
         "AB",
         "Canada",
         "T1K 5N8",
         "+1 (403) 456-9986",
         "+1 (403) 456-8485",
         "robert@chinookcorp.com"
        ],
        [
         "2",
         "8",
         "Callahan",
         "Laura",
         "IT Staff",
         "6",
         "1968-01-09 00:00:00",
         "2004-03-04 00:00:00",
         "923 7 ST NW",
         "Lethbridge",
         "AB",
         "Canada",
         "T1H 1Y8",
         "+1 (403) 467-3351",
         "+1 (403) 467-8772",
         "laura@chinookcorp.com"
        ]
       ],
       "shape": {
        "columns": 15,
        "rows": 3
       }
      },
      "text/html": [
       "<div>\n",
       "<style scoped>\n",
       "    .dataframe tbody tr th:only-of-type {\n",
       "        vertical-align: middle;\n",
       "    }\n",
       "\n",
       "    .dataframe tbody tr th {\n",
       "        vertical-align: top;\n",
       "    }\n",
       "\n",
       "    .dataframe thead th {\n",
       "        text-align: right;\n",
       "    }\n",
       "</style>\n",
       "<table border=\"1\" class=\"dataframe\">\n",
       "  <thead>\n",
       "    <tr style=\"text-align: right;\">\n",
       "      <th></th>\n",
       "      <th>EmployeeId</th>\n",
       "      <th>LastName</th>\n",
       "      <th>FirstName</th>\n",
       "      <th>Title</th>\n",
       "      <th>ReportsTo</th>\n",
       "      <th>BirthDate</th>\n",
       "      <th>HireDate</th>\n",
       "      <th>Address</th>\n",
       "      <th>City</th>\n",
       "      <th>State</th>\n",
       "      <th>Country</th>\n",
       "      <th>PostalCode</th>\n",
       "      <th>Phone</th>\n",
       "      <th>Fax</th>\n",
       "      <th>Email</th>\n",
       "    </tr>\n",
       "  </thead>\n",
       "  <tbody>\n",
       "    <tr>\n",
       "      <th>0</th>\n",
       "      <td>6</td>\n",
       "      <td>Mitchell</td>\n",
       "      <td>Michael</td>\n",
       "      <td>IT Manager</td>\n",
       "      <td>1</td>\n",
       "      <td>1973-07-01 00:00:00</td>\n",
       "      <td>2003-10-17 00:00:00</td>\n",
       "      <td>5827 Bowness Road NW</td>\n",
       "      <td>Calgary</td>\n",
       "      <td>AB</td>\n",
       "      <td>Canada</td>\n",
       "      <td>T3B 0C5</td>\n",
       "      <td>+1 (403) 246-9887</td>\n",
       "      <td>+1 (403) 246-9899</td>\n",
       "      <td>michael@chinookcorp.com</td>\n",
       "    </tr>\n",
       "    <tr>\n",
       "      <th>1</th>\n",
       "      <td>7</td>\n",
       "      <td>King</td>\n",
       "      <td>Robert</td>\n",
       "      <td>IT Staff</td>\n",
       "      <td>6</td>\n",
       "      <td>1970-05-29 00:00:00</td>\n",
       "      <td>2004-01-02 00:00:00</td>\n",
       "      <td>590 Columbia Boulevard West</td>\n",
       "      <td>Lethbridge</td>\n",
       "      <td>AB</td>\n",
       "      <td>Canada</td>\n",
       "      <td>T1K 5N8</td>\n",
       "      <td>+1 (403) 456-9986</td>\n",
       "      <td>+1 (403) 456-8485</td>\n",
       "      <td>robert@chinookcorp.com</td>\n",
       "    </tr>\n",
       "    <tr>\n",
       "      <th>2</th>\n",
       "      <td>8</td>\n",
       "      <td>Callahan</td>\n",
       "      <td>Laura</td>\n",
       "      <td>IT Staff</td>\n",
       "      <td>6</td>\n",
       "      <td>1968-01-09 00:00:00</td>\n",
       "      <td>2004-03-04 00:00:00</td>\n",
       "      <td>923 7 ST NW</td>\n",
       "      <td>Lethbridge</td>\n",
       "      <td>AB</td>\n",
       "      <td>Canada</td>\n",
       "      <td>T1H 1Y8</td>\n",
       "      <td>+1 (403) 467-3351</td>\n",
       "      <td>+1 (403) 467-8772</td>\n",
       "      <td>laura@chinookcorp.com</td>\n",
       "    </tr>\n",
       "  </tbody>\n",
       "</table>\n",
       "</div>"
      ],
      "text/plain": [
       "   EmployeeId  LastName FirstName       Title  ReportsTo            BirthDate  \\\n",
       "0           6  Mitchell   Michael  IT Manager          1  1973-07-01 00:00:00   \n",
       "1           7      King    Robert    IT Staff          6  1970-05-29 00:00:00   \n",
       "2           8  Callahan     Laura    IT Staff          6  1968-01-09 00:00:00   \n",
       "\n",
       "              HireDate                      Address        City State Country  \\\n",
       "0  2003-10-17 00:00:00         5827 Bowness Road NW     Calgary    AB  Canada   \n",
       "1  2004-01-02 00:00:00  590 Columbia Boulevard West  Lethbridge    AB  Canada   \n",
       "2  2004-03-04 00:00:00                  923 7 ST NW  Lethbridge    AB  Canada   \n",
       "\n",
       "  PostalCode              Phone                Fax                    Email  \n",
       "0    T3B 0C5  +1 (403) 246-9887  +1 (403) 246-9899  michael@chinookcorp.com  \n",
       "1    T1K 5N8  +1 (403) 456-9986  +1 (403) 456-8485   robert@chinookcorp.com  \n",
       "2    T1H 1Y8  +1 (403) 467-3351  +1 (403) 467-8772    laura@chinookcorp.com  "
      ]
     },
     "metadata": {},
     "output_type": "display_data"
    }
   ],
   "source": [
    "# Open engine in context manager\n",
    "# Perform query and save results to DataFrame\n",
    "with engine.connect() as con:\n",
    "    rs = con.execute(text(\"SELECT * from Employee WHERE EmployeeID >= 6\"))\n",
    "    df_chin_with = pd.DataFrame(rs.fetchall())\n",
    "    df_chin_with.columns = rs.keys()\n",
    "\n",
    "# Print the head of the DataFrame \n",
    "display(df_chin_with)"
   ]
  },
  {
   "cell_type": "code",
   "execution_count": 251,
   "id": "bf07cc12",
   "metadata": {},
   "outputs": [
    {
     "data": {
      "application/vnd.microsoft.datawrangler.viewer.v0+json": {
       "columns": [
        {
         "name": "index",
         "rawType": "int64",
         "type": "integer"
        },
        {
         "name": "EmployeeId",
         "rawType": "int64",
         "type": "integer"
        },
        {
         "name": "LastName",
         "rawType": "object",
         "type": "string"
        },
        {
         "name": "FirstName",
         "rawType": "object",
         "type": "string"
        },
        {
         "name": "Title",
         "rawType": "object",
         "type": "string"
        },
        {
         "name": "ReportsTo",
         "rawType": "float64",
         "type": "float"
        },
        {
         "name": "BirthDate",
         "rawType": "object",
         "type": "string"
        },
        {
         "name": "HireDate",
         "rawType": "object",
         "type": "string"
        },
        {
         "name": "Address",
         "rawType": "object",
         "type": "string"
        },
        {
         "name": "City",
         "rawType": "object",
         "type": "string"
        },
        {
         "name": "State",
         "rawType": "object",
         "type": "string"
        },
        {
         "name": "Country",
         "rawType": "object",
         "type": "string"
        },
        {
         "name": "PostalCode",
         "rawType": "object",
         "type": "string"
        },
        {
         "name": "Phone",
         "rawType": "object",
         "type": "string"
        },
        {
         "name": "Fax",
         "rawType": "object",
         "type": "string"
        },
        {
         "name": "Email",
         "rawType": "object",
         "type": "string"
        }
       ],
       "ref": "29ab63ba-6eaa-4a5b-b93b-eefcd8bcb147",
       "rows": [
        [
         "0",
         "4",
         "Park",
         "Margaret",
         "Sales Support Agent",
         "2.0",
         "1947-09-19 00:00:00",
         "2003-05-03 00:00:00",
         "683 10 Street SW",
         "Calgary",
         "AB",
         "Canada",
         "T2P 5G3",
         "+1 (403) 263-4423",
         "+1 (403) 263-4289",
         "margaret@chinookcorp.com"
        ],
        [
         "1",
         "2",
         "Edwards",
         "Nancy",
         "Sales Manager",
         "1.0",
         "1958-12-08 00:00:00",
         "2002-05-01 00:00:00",
         "825 8 Ave SW",
         "Calgary",
         "AB",
         "Canada",
         "T2P 2T3",
         "+1 (403) 262-3443",
         "+1 (403) 262-3322",
         "nancy@chinookcorp.com"
        ],
        [
         "2",
         "1",
         "Adams",
         "Andrew",
         "General Manager",
         null,
         "1962-02-18 00:00:00",
         "2002-08-14 00:00:00",
         "11120 Jasper Ave NW",
         "Edmonton",
         "AB",
         "Canada",
         "T5K 2N1",
         "+1 (780) 428-9482",
         "+1 (780) 428-3457",
         "andrew@chinookcorp.com"
        ],
        [
         "3",
         "5",
         "Johnson",
         "Steve",
         "Sales Support Agent",
         "2.0",
         "1965-03-03 00:00:00",
         "2003-10-17 00:00:00",
         "7727B 41 Ave",
         "Calgary",
         "AB",
         "Canada",
         "T3B 1Y7",
         "1 (780) 836-9987",
         "1 (780) 836-9543",
         "steve@chinookcorp.com"
        ],
        [
         "4",
         "8",
         "Callahan",
         "Laura",
         "IT Staff",
         "6.0",
         "1968-01-09 00:00:00",
         "2004-03-04 00:00:00",
         "923 7 ST NW",
         "Lethbridge",
         "AB",
         "Canada",
         "T1H 1Y8",
         "+1 (403) 467-3351",
         "+1 (403) 467-8772",
         "laura@chinookcorp.com"
        ]
       ],
       "shape": {
        "columns": 15,
        "rows": 5
       }
      },
      "text/html": [
       "<div>\n",
       "<style scoped>\n",
       "    .dataframe tbody tr th:only-of-type {\n",
       "        vertical-align: middle;\n",
       "    }\n",
       "\n",
       "    .dataframe tbody tr th {\n",
       "        vertical-align: top;\n",
       "    }\n",
       "\n",
       "    .dataframe thead th {\n",
       "        text-align: right;\n",
       "    }\n",
       "</style>\n",
       "<table border=\"1\" class=\"dataframe\">\n",
       "  <thead>\n",
       "    <tr style=\"text-align: right;\">\n",
       "      <th></th>\n",
       "      <th>EmployeeId</th>\n",
       "      <th>LastName</th>\n",
       "      <th>FirstName</th>\n",
       "      <th>Title</th>\n",
       "      <th>ReportsTo</th>\n",
       "      <th>BirthDate</th>\n",
       "      <th>HireDate</th>\n",
       "      <th>Address</th>\n",
       "      <th>City</th>\n",
       "      <th>State</th>\n",
       "      <th>Country</th>\n",
       "      <th>PostalCode</th>\n",
       "      <th>Phone</th>\n",
       "      <th>Fax</th>\n",
       "      <th>Email</th>\n",
       "    </tr>\n",
       "  </thead>\n",
       "  <tbody>\n",
       "    <tr>\n",
       "      <th>0</th>\n",
       "      <td>4</td>\n",
       "      <td>Park</td>\n",
       "      <td>Margaret</td>\n",
       "      <td>Sales Support Agent</td>\n",
       "      <td>2.0</td>\n",
       "      <td>1947-09-19 00:00:00</td>\n",
       "      <td>2003-05-03 00:00:00</td>\n",
       "      <td>683 10 Street SW</td>\n",
       "      <td>Calgary</td>\n",
       "      <td>AB</td>\n",
       "      <td>Canada</td>\n",
       "      <td>T2P 5G3</td>\n",
       "      <td>+1 (403) 263-4423</td>\n",
       "      <td>+1 (403) 263-4289</td>\n",
       "      <td>margaret@chinookcorp.com</td>\n",
       "    </tr>\n",
       "    <tr>\n",
       "      <th>1</th>\n",
       "      <td>2</td>\n",
       "      <td>Edwards</td>\n",
       "      <td>Nancy</td>\n",
       "      <td>Sales Manager</td>\n",
       "      <td>1.0</td>\n",
       "      <td>1958-12-08 00:00:00</td>\n",
       "      <td>2002-05-01 00:00:00</td>\n",
       "      <td>825 8 Ave SW</td>\n",
       "      <td>Calgary</td>\n",
       "      <td>AB</td>\n",
       "      <td>Canada</td>\n",
       "      <td>T2P 2T3</td>\n",
       "      <td>+1 (403) 262-3443</td>\n",
       "      <td>+1 (403) 262-3322</td>\n",
       "      <td>nancy@chinookcorp.com</td>\n",
       "    </tr>\n",
       "    <tr>\n",
       "      <th>2</th>\n",
       "      <td>1</td>\n",
       "      <td>Adams</td>\n",
       "      <td>Andrew</td>\n",
       "      <td>General Manager</td>\n",
       "      <td>NaN</td>\n",
       "      <td>1962-02-18 00:00:00</td>\n",
       "      <td>2002-08-14 00:00:00</td>\n",
       "      <td>11120 Jasper Ave NW</td>\n",
       "      <td>Edmonton</td>\n",
       "      <td>AB</td>\n",
       "      <td>Canada</td>\n",
       "      <td>T5K 2N1</td>\n",
       "      <td>+1 (780) 428-9482</td>\n",
       "      <td>+1 (780) 428-3457</td>\n",
       "      <td>andrew@chinookcorp.com</td>\n",
       "    </tr>\n",
       "    <tr>\n",
       "      <th>3</th>\n",
       "      <td>5</td>\n",
       "      <td>Johnson</td>\n",
       "      <td>Steve</td>\n",
       "      <td>Sales Support Agent</td>\n",
       "      <td>2.0</td>\n",
       "      <td>1965-03-03 00:00:00</td>\n",
       "      <td>2003-10-17 00:00:00</td>\n",
       "      <td>7727B 41 Ave</td>\n",
       "      <td>Calgary</td>\n",
       "      <td>AB</td>\n",
       "      <td>Canada</td>\n",
       "      <td>T3B 1Y7</td>\n",
       "      <td>1 (780) 836-9987</td>\n",
       "      <td>1 (780) 836-9543</td>\n",
       "      <td>steve@chinookcorp.com</td>\n",
       "    </tr>\n",
       "    <tr>\n",
       "      <th>4</th>\n",
       "      <td>8</td>\n",
       "      <td>Callahan</td>\n",
       "      <td>Laura</td>\n",
       "      <td>IT Staff</td>\n",
       "      <td>6.0</td>\n",
       "      <td>1968-01-09 00:00:00</td>\n",
       "      <td>2004-03-04 00:00:00</td>\n",
       "      <td>923 7 ST NW</td>\n",
       "      <td>Lethbridge</td>\n",
       "      <td>AB</td>\n",
       "      <td>Canada</td>\n",
       "      <td>T1H 1Y8</td>\n",
       "      <td>+1 (403) 467-3351</td>\n",
       "      <td>+1 (403) 467-8772</td>\n",
       "      <td>laura@chinookcorp.com</td>\n",
       "    </tr>\n",
       "  </tbody>\n",
       "</table>\n",
       "</div>"
      ],
      "text/plain": [
       "   EmployeeId  LastName FirstName                Title  ReportsTo  \\\n",
       "0           4      Park  Margaret  Sales Support Agent        2.0   \n",
       "1           2   Edwards     Nancy        Sales Manager        1.0   \n",
       "2           1     Adams    Andrew      General Manager        NaN   \n",
       "3           5   Johnson     Steve  Sales Support Agent        2.0   \n",
       "4           8  Callahan     Laura             IT Staff        6.0   \n",
       "\n",
       "             BirthDate             HireDate              Address        City  \\\n",
       "0  1947-09-19 00:00:00  2003-05-03 00:00:00     683 10 Street SW     Calgary   \n",
       "1  1958-12-08 00:00:00  2002-05-01 00:00:00         825 8 Ave SW     Calgary   \n",
       "2  1962-02-18 00:00:00  2002-08-14 00:00:00  11120 Jasper Ave NW    Edmonton   \n",
       "3  1965-03-03 00:00:00  2003-10-17 00:00:00         7727B 41 Ave     Calgary   \n",
       "4  1968-01-09 00:00:00  2004-03-04 00:00:00          923 7 ST NW  Lethbridge   \n",
       "\n",
       "  State Country PostalCode              Phone                Fax  \\\n",
       "0    AB  Canada    T2P 5G3  +1 (403) 263-4423  +1 (403) 263-4289   \n",
       "1    AB  Canada    T2P 2T3  +1 (403) 262-3443  +1 (403) 262-3322   \n",
       "2    AB  Canada    T5K 2N1  +1 (780) 428-9482  +1 (780) 428-3457   \n",
       "3    AB  Canada    T3B 1Y7   1 (780) 836-9987   1 (780) 836-9543   \n",
       "4    AB  Canada    T1H 1Y8  +1 (403) 467-3351  +1 (403) 467-8772   \n",
       "\n",
       "                      Email  \n",
       "0  margaret@chinookcorp.com  \n",
       "1     nancy@chinookcorp.com  \n",
       "2    andrew@chinookcorp.com  \n",
       "3     steve@chinookcorp.com  \n",
       "4     laura@chinookcorp.com  "
      ]
     },
     "metadata": {},
     "output_type": "display_data"
    }
   ],
   "source": [
    "# In the context manager, execute the query that selects all records from the Employee table and orders them in increasing order by the column BirthDate. Assign the result to rs.\n",
    "with engine.connect() as con:\n",
    "    rs = con.execute(text(\"SELECT * from Employee ORDER BY BirthDate\"))\n",
    "    df_chin_with = pd.DataFrame((rs.fetchall()))\n",
    "\n",
    "    # Set the DataFrame's column names\n",
    "    df_chin_with.columns = rs.keys()\n",
    "\n",
    "# Print head of DataFrame\n",
    "display(df_chin_with.head())"
   ]
  },
  {
   "cell_type": "markdown",
   "id": "99fa596c",
   "metadata": {},
   "source": [
    "### Pandas and The Hello World of SQL Queries!\n",
    "Here, you'll take advantage of the power of `pandas` to write the results of your SQL query to a DataFrame in one swift line of Python code!\n",
    "\n",
    "You'll first import `pandas` and create the SQLite `'Chinook.sqlite'` engine. Then you'll query the database to select all records from the `Album` table.\n",
    "\n",
    "Recall that to select all records from the `Orders` table in the Northwind database, Hugo executed the following command:\n",
    "\n",
    "`df = pd.read_sql_query(\"SELECT * FROM Orders\", engine)`"
   ]
  },
  {
   "cell_type": "markdown",
   "id": "2108b001",
   "metadata": {},
   "source": [
    "#### Pandas"
   ]
  },
  {
   "cell_type": "code",
   "execution_count": null,
   "id": "cde1fbbc",
   "metadata": {},
   "outputs": [
    {
     "data": {
      "application/vnd.microsoft.datawrangler.viewer.v0+json": {
       "columns": [
        {
         "name": "index",
         "rawType": "int64",
         "type": "integer"
        },
        {
         "name": "AlbumId",
         "rawType": "int64",
         "type": "integer"
        },
        {
         "name": "Title",
         "rawType": "object",
         "type": "string"
        },
        {
         "name": "ArtistId",
         "rawType": "int64",
         "type": "integer"
        }
       ],
       "ref": "27959d64-c1f8-4df4-b954-010982adf13b",
       "rows": [
        [
         "0",
         "1",
         "For Those About To Rock We Salute You",
         "1"
        ],
        [
         "1",
         "2",
         "Balls to the Wall",
         "2"
        ],
        [
         "2",
         "3",
         "Restless and Wild",
         "2"
        ],
        [
         "3",
         "4",
         "Let There Be Rock",
         "1"
        ],
        [
         "4",
         "5",
         "Big Ones",
         "3"
        ]
       ],
       "shape": {
        "columns": 3,
        "rows": 5
       }
      },
      "text/html": [
       "<div>\n",
       "<style scoped>\n",
       "    .dataframe tbody tr th:only-of-type {\n",
       "        vertical-align: middle;\n",
       "    }\n",
       "\n",
       "    .dataframe tbody tr th {\n",
       "        vertical-align: top;\n",
       "    }\n",
       "\n",
       "    .dataframe thead th {\n",
       "        text-align: right;\n",
       "    }\n",
       "</style>\n",
       "<table border=\"1\" class=\"dataframe\">\n",
       "  <thead>\n",
       "    <tr style=\"text-align: right;\">\n",
       "      <th></th>\n",
       "      <th>AlbumId</th>\n",
       "      <th>Title</th>\n",
       "      <th>ArtistId</th>\n",
       "    </tr>\n",
       "  </thead>\n",
       "  <tbody>\n",
       "    <tr>\n",
       "      <th>0</th>\n",
       "      <td>1</td>\n",
       "      <td>For Those About To Rock We Salute You</td>\n",
       "      <td>1</td>\n",
       "    </tr>\n",
       "    <tr>\n",
       "      <th>1</th>\n",
       "      <td>2</td>\n",
       "      <td>Balls to the Wall</td>\n",
       "      <td>2</td>\n",
       "    </tr>\n",
       "    <tr>\n",
       "      <th>2</th>\n",
       "      <td>3</td>\n",
       "      <td>Restless and Wild</td>\n",
       "      <td>2</td>\n",
       "    </tr>\n",
       "    <tr>\n",
       "      <th>3</th>\n",
       "      <td>4</td>\n",
       "      <td>Let There Be Rock</td>\n",
       "      <td>1</td>\n",
       "    </tr>\n",
       "    <tr>\n",
       "      <th>4</th>\n",
       "      <td>5</td>\n",
       "      <td>Big Ones</td>\n",
       "      <td>3</td>\n",
       "    </tr>\n",
       "  </tbody>\n",
       "</table>\n",
       "</div>"
      ],
      "text/plain": [
       "   AlbumId                                  Title  ArtistId\n",
       "0        1  For Those About To Rock We Salute You         1\n",
       "1        2                      Balls to the Wall         2\n",
       "2        3                      Restless and Wild         2\n",
       "3        4                      Let There Be Rock         1\n",
       "4        5                               Big Ones         3"
      ]
     },
     "metadata": {},
     "output_type": "display_data"
    },
    {
     "name": "stdout",
     "output_type": "stream",
     "text": [
      "True\n"
     ]
    }
   ],
   "source": [
    "# Using the function create_engine(), create an engine for the SQLite database Chinook.sqlite and assign it to the variable engine.\n",
    "engine = create_engine(\"sqlite:///data/Chinook.sqlite\")\n",
    "\n",
    "# Use the pandas function read_sql_query() to assign to the variable df the DataFrame of results from the following query: select all records from the table Album.\n",
    "pd_chinook = pd.read_sql_query(\"SELECT * from Album\", engine)\n",
    "\n",
    "# Print head of DataFrame\n",
    "display(pd_chinook.head())\n",
    "\n",
    "# COMPARISON WITH CONTEXT MANAGER\n",
    "# Open engine in context manager and store query result in df1\n",
    "with engine.connect() as con:\n",
    "    rs = con.execute(text(\"SELECT * FROM Album\"))\n",
    "    df1 = pd.DataFrame(rs.fetchall())\n",
    "    df1.columns = rs.keys()\n",
    "\n",
    "# Confirm that both methods yield the same result\n",
    "print(pd_chinook.equals(df1))"
   ]
  },
  {
   "cell_type": "markdown",
   "id": "f7bb43d2",
   "metadata": {},
   "source": [
    "#### Polars"
   ]
  },
  {
   "cell_type": "code",
   "execution_count": 259,
   "id": "3217076c",
   "metadata": {},
   "outputs": [
    {
     "data": {
      "application/vnd.microsoft.datawrangler.viewer.v0+json": {
       "columns": [
        {
         "name": "index",
         "rawType": "int64",
         "type": "integer"
        },
        {
         "name": "AlbumId",
         "rawType": "int64",
         "type": "integer"
        },
        {
         "name": "Title",
         "rawType": "object",
         "type": "string"
        },
        {
         "name": "ArtistId",
         "rawType": "int64",
         "type": "integer"
        }
       ],
       "ref": "251023dd-43d3-4fac-9f56-aecbe513f1dd",
       "rows": [
        [
         "0",
         "1",
         "For Those About To Rock We Salute You",
         "1"
        ],
        [
         "1",
         "2",
         "Balls to the Wall",
         "2"
        ],
        [
         "2",
         "3",
         "Restless and Wild",
         "2"
        ],
        [
         "3",
         "4",
         "Let There Be Rock",
         "1"
        ],
        [
         "4",
         "5",
         "Big Ones",
         "3"
        ]
       ],
       "shape": {
        "columns": 3,
        "rows": 5
       }
      },
      "text/html": [
       "<div><style>\n",
       ".dataframe > thead > tr,\n",
       ".dataframe > tbody > tr {\n",
       "  text-align: right;\n",
       "  white-space: pre-wrap;\n",
       "}\n",
       "</style>\n",
       "<small>shape: (5, 3)</small><table border=\"1\" class=\"dataframe\"><thead><tr><th>AlbumId</th><th>Title</th><th>ArtistId</th></tr><tr><td>i64</td><td>str</td><td>i64</td></tr></thead><tbody><tr><td>1</td><td>&quot;For Those About To Rock We Sal…</td><td>1</td></tr><tr><td>2</td><td>&quot;Balls to the Wall&quot;</td><td>2</td></tr><tr><td>3</td><td>&quot;Restless and Wild&quot;</td><td>2</td></tr><tr><td>4</td><td>&quot;Let There Be Rock&quot;</td><td>1</td></tr><tr><td>5</td><td>&quot;Big Ones&quot;</td><td>3</td></tr></tbody></table></div>"
      ],
      "text/plain": [
       "shape: (5, 3)\n",
       "┌─────────┬─────────────────────────────────┬──────────┐\n",
       "│ AlbumId ┆ Title                           ┆ ArtistId │\n",
       "│ ---     ┆ ---                             ┆ ---      │\n",
       "│ i64     ┆ str                             ┆ i64      │\n",
       "╞═════════╪═════════════════════════════════╪══════════╡\n",
       "│ 1       ┆ For Those About To Rock We Sal… ┆ 1        │\n",
       "│ 2       ┆ Balls to the Wall               ┆ 2        │\n",
       "│ 3       ┆ Restless and Wild               ┆ 2        │\n",
       "│ 4       ┆ Let There Be Rock               ┆ 1        │\n",
       "│ 5       ┆ Big Ones                        ┆ 3        │\n",
       "└─────────┴─────────────────────────────────┴──────────┘"
      ]
     },
     "metadata": {},
     "output_type": "display_data"
    },
    {
     "name": "stdout",
     "output_type": "stream",
     "text": [
      "True\n"
     ]
    }
   ],
   "source": [
    "# Using the function create_engine(), create an engine for the SQLite database Chinook.sqlite and assign it to the variable engine.\n",
    "engine = create_engine(\"sqlite:///data/Chinook.sqlite\")\n",
    "\n",
    "# Use the polars function read_database() to assign to the variable df the DataFrame of results from the following query: select all records from the table Album.\n",
    "pl_chinook = pl.read_database(\"SELECT * from Album\", engine)\n",
    "\n",
    "# Print head of DataFrame\n",
    "display(pl_chinook.head())\n",
    "\n",
    "# COMPARISON WITH CONTEXT MANAGER\n",
    "# Open engine in context manager and store query result in df1\n",
    "with engine.connect() as con:\n",
    "    rs = con.execute(text(\"SELECT * FROM Album\"))\n",
    "    df1 = pl.DataFrame(rs.fetchall())\n",
    "    df1.columns = list(rs.keys())\n",
    "\n",
    "# Confirm that both methods yield the same result\n",
    "print(pl_chinook.equals(df1))"
   ]
  },
  {
   "cell_type": "markdown",
   "id": "8502bc66",
   "metadata": {},
   "source": [
    "### Pandas for more complex querying\n",
    "Here, you'll become more familiar with the pandas function `read_sql_query()` by using it to execute a more complex query: a `SELECT` statement followed by both a `WHERE` clause AND an `ORDER BY` clause.\n",
    "\n",
    "You'll build a DataFrame that contains the rows of the `Employee` table for which the `EmployeeId` is greater than or equal to `6` and you'll order these entries by `BirthDate`."
   ]
  },
  {
   "cell_type": "code",
   "execution_count": null,
   "id": "fbe26e36",
   "metadata": {},
   "outputs": [
    {
     "data": {
      "application/vnd.microsoft.datawrangler.viewer.v0+json": {
       "columns": [
        {
         "name": "index",
         "rawType": "int64",
         "type": "integer"
        },
        {
         "name": "EmployeeId",
         "rawType": "int64",
         "type": "integer"
        },
        {
         "name": "LastName",
         "rawType": "object",
         "type": "string"
        },
        {
         "name": "FirstName",
         "rawType": "object",
         "type": "string"
        },
        {
         "name": "Title",
         "rawType": "object",
         "type": "string"
        },
        {
         "name": "ReportsTo",
         "rawType": "int64",
         "type": "integer"
        },
        {
         "name": "BirthDate",
         "rawType": "object",
         "type": "string"
        },
        {
         "name": "HireDate",
         "rawType": "object",
         "type": "string"
        },
        {
         "name": "Address",
         "rawType": "object",
         "type": "string"
        },
        {
         "name": "City",
         "rawType": "object",
         "type": "string"
        },
        {
         "name": "State",
         "rawType": "object",
         "type": "string"
        },
        {
         "name": "Country",
         "rawType": "object",
         "type": "string"
        },
        {
         "name": "PostalCode",
         "rawType": "object",
         "type": "string"
        },
        {
         "name": "Phone",
         "rawType": "object",
         "type": "string"
        },
        {
         "name": "Fax",
         "rawType": "object",
         "type": "string"
        },
        {
         "name": "Email",
         "rawType": "object",
         "type": "string"
        }
       ],
       "ref": "71e106ce-1e7b-46de-98fb-10b248afb5d3",
       "rows": [
        [
         "0",
         "8",
         "Callahan",
         "Laura",
         "IT Staff",
         "6",
         "1968-01-09 00:00:00",
         "2004-03-04 00:00:00",
         "923 7 ST NW",
         "Lethbridge",
         "AB",
         "Canada",
         "T1H 1Y8",
         "+1 (403) 467-3351",
         "+1 (403) 467-8772",
         "laura@chinookcorp.com"
        ],
        [
         "1",
         "7",
         "King",
         "Robert",
         "IT Staff",
         "6",
         "1970-05-29 00:00:00",
         "2004-01-02 00:00:00",
         "590 Columbia Boulevard West",
         "Lethbridge",
         "AB",
         "Canada",
         "T1K 5N8",
         "+1 (403) 456-9986",
         "+1 (403) 456-8485",
         "robert@chinookcorp.com"
        ],
        [
         "2",
         "6",
         "Mitchell",
         "Michael",
         "IT Manager",
         "1",
         "1973-07-01 00:00:00",
         "2003-10-17 00:00:00",
         "5827 Bowness Road NW",
         "Calgary",
         "AB",
         "Canada",
         "T3B 0C5",
         "+1 (403) 246-9887",
         "+1 (403) 246-9899",
         "michael@chinookcorp.com"
        ]
       ],
       "shape": {
        "columns": 15,
        "rows": 3
       }
      },
      "text/html": [
       "<div>\n",
       "<style scoped>\n",
       "    .dataframe tbody tr th:only-of-type {\n",
       "        vertical-align: middle;\n",
       "    }\n",
       "\n",
       "    .dataframe tbody tr th {\n",
       "        vertical-align: top;\n",
       "    }\n",
       "\n",
       "    .dataframe thead th {\n",
       "        text-align: right;\n",
       "    }\n",
       "</style>\n",
       "<table border=\"1\" class=\"dataframe\">\n",
       "  <thead>\n",
       "    <tr style=\"text-align: right;\">\n",
       "      <th></th>\n",
       "      <th>EmployeeId</th>\n",
       "      <th>LastName</th>\n",
       "      <th>FirstName</th>\n",
       "      <th>Title</th>\n",
       "      <th>ReportsTo</th>\n",
       "      <th>BirthDate</th>\n",
       "      <th>HireDate</th>\n",
       "      <th>Address</th>\n",
       "      <th>City</th>\n",
       "      <th>State</th>\n",
       "      <th>Country</th>\n",
       "      <th>PostalCode</th>\n",
       "      <th>Phone</th>\n",
       "      <th>Fax</th>\n",
       "      <th>Email</th>\n",
       "    </tr>\n",
       "  </thead>\n",
       "  <tbody>\n",
       "    <tr>\n",
       "      <th>0</th>\n",
       "      <td>8</td>\n",
       "      <td>Callahan</td>\n",
       "      <td>Laura</td>\n",
       "      <td>IT Staff</td>\n",
       "      <td>6</td>\n",
       "      <td>1968-01-09 00:00:00</td>\n",
       "      <td>2004-03-04 00:00:00</td>\n",
       "      <td>923 7 ST NW</td>\n",
       "      <td>Lethbridge</td>\n",
       "      <td>AB</td>\n",
       "      <td>Canada</td>\n",
       "      <td>T1H 1Y8</td>\n",
       "      <td>+1 (403) 467-3351</td>\n",
       "      <td>+1 (403) 467-8772</td>\n",
       "      <td>laura@chinookcorp.com</td>\n",
       "    </tr>\n",
       "    <tr>\n",
       "      <th>1</th>\n",
       "      <td>7</td>\n",
       "      <td>King</td>\n",
       "      <td>Robert</td>\n",
       "      <td>IT Staff</td>\n",
       "      <td>6</td>\n",
       "      <td>1970-05-29 00:00:00</td>\n",
       "      <td>2004-01-02 00:00:00</td>\n",
       "      <td>590 Columbia Boulevard West</td>\n",
       "      <td>Lethbridge</td>\n",
       "      <td>AB</td>\n",
       "      <td>Canada</td>\n",
       "      <td>T1K 5N8</td>\n",
       "      <td>+1 (403) 456-9986</td>\n",
       "      <td>+1 (403) 456-8485</td>\n",
       "      <td>robert@chinookcorp.com</td>\n",
       "    </tr>\n",
       "    <tr>\n",
       "      <th>2</th>\n",
       "      <td>6</td>\n",
       "      <td>Mitchell</td>\n",
       "      <td>Michael</td>\n",
       "      <td>IT Manager</td>\n",
       "      <td>1</td>\n",
       "      <td>1973-07-01 00:00:00</td>\n",
       "      <td>2003-10-17 00:00:00</td>\n",
       "      <td>5827 Bowness Road NW</td>\n",
       "      <td>Calgary</td>\n",
       "      <td>AB</td>\n",
       "      <td>Canada</td>\n",
       "      <td>T3B 0C5</td>\n",
       "      <td>+1 (403) 246-9887</td>\n",
       "      <td>+1 (403) 246-9899</td>\n",
       "      <td>michael@chinookcorp.com</td>\n",
       "    </tr>\n",
       "  </tbody>\n",
       "</table>\n",
       "</div>"
      ],
      "text/plain": [
       "   EmployeeId  LastName FirstName       Title  ReportsTo            BirthDate  \\\n",
       "0           8  Callahan     Laura    IT Staff          6  1968-01-09 00:00:00   \n",
       "1           7      King    Robert    IT Staff          6  1970-05-29 00:00:00   \n",
       "2           6  Mitchell   Michael  IT Manager          1  1973-07-01 00:00:00   \n",
       "\n",
       "              HireDate                      Address        City State Country  \\\n",
       "0  2004-03-04 00:00:00                  923 7 ST NW  Lethbridge    AB  Canada   \n",
       "1  2004-01-02 00:00:00  590 Columbia Boulevard West  Lethbridge    AB  Canada   \n",
       "2  2003-10-17 00:00:00         5827 Bowness Road NW     Calgary    AB  Canada   \n",
       "\n",
       "  PostalCode              Phone                Fax                    Email  \n",
       "0    T1H 1Y8  +1 (403) 467-3351  +1 (403) 467-8772    laura@chinookcorp.com  \n",
       "1    T1K 5N8  +1 (403) 456-9986  +1 (403) 456-8485   robert@chinookcorp.com  \n",
       "2    T3B 0C5  +1 (403) 246-9887  +1 (403) 246-9899  michael@chinookcorp.com  "
      ]
     },
     "metadata": {},
     "output_type": "display_data"
    }
   ],
   "source": [
    "# Using the function create_engine(), create an engine for the SQLite database Chinook.sqlite and assign it to the variable engine.\n",
    "engine = create_engine(\"sqlite:///data/Chinook.sqlite\")\n",
    "\n",
    "# Use the pandas to assign to the variable df the DataFrame of results from the following query: select all records from the Employee table where the EmployeeId is greater than or equal to 6 and ordered by BirthDate (make sure to use WHERE and ORDER BY in this precise order).\n",
    "pd_chinook = pd.read_sql_query(\"SELECT * from Employee WHERE EmployeeID >= 6 ORDER BY BirthDate\", engine)\n",
    "\n",
    "# Print head of DataFrame\n",
    "display(pd_chinook.head())"
   ]
  },
  {
   "cell_type": "markdown",
   "id": "382bd498",
   "metadata": {},
   "source": [
    "### The power of SQL lies in relationships between tables: INNER JOIN\n",
    "Here, you'll perform your first `INNER JOIN`! You'll be working with your favourite SQLite database, `Chinook.sqlite`. For each record in the `Album` table, you'll extract the `Title` along with the `Name` of the `Artist`. The latter will come from the `Artist` table and so you will need to `INNER JOIN` these two tables on the `ArtistID` column of both.\n",
    "\n",
    "Recall that to `INNER JOIN` the `Orders` and `Customers` tables from the Northwind database, Hugo executed the following SQL query:\n",
    "\n",
    "`\"SELECT OrderID, CompanyName FROM Orders INNER JOIN Customers on Orders.CustomerID = Customers.CustomerID\"`\n",
    "\n",
    "The following code has already been executed to import the necessary packages and to create the engine:\n",
    "```python\n",
    "import pandas as pd\n",
    "from sqlalchemy import create_engine\n",
    "engine = create_engine('sqlite:///Chinook.sqlite')\n",
    "```"
   ]
  },
  {
   "cell_type": "markdown",
   "id": "caaa4ce4",
   "metadata": {},
   "source": [
    "Assign to `rs` the results from the following query: select all the records, extracting the `Title` of the record and `Name` of the artist of each record from the `Album` table and the `Artist` table, respectively. To do so, `INNER JOIN` these two tables on the `ArtistID` column of both.\n"
   ]
  },
  {
   "cell_type": "markdown",
   "id": "48e51c24",
   "metadata": {},
   "source": [
    "### Pandas"
   ]
  },
  {
   "cell_type": "code",
   "execution_count": null,
   "id": "0c05a5ed",
   "metadata": {},
   "outputs": [
    {
     "data": {
      "application/vnd.microsoft.datawrangler.viewer.v0+json": {
       "columns": [
        {
         "name": "index",
         "rawType": "int64",
         "type": "integer"
        },
        {
         "name": "Title",
         "rawType": "object",
         "type": "string"
        },
        {
         "name": "Name",
         "rawType": "object",
         "type": "string"
        }
       ],
       "ref": "2efc1211-20e0-4d82-879b-687357d30426",
       "rows": [
        [
         "0",
         "For Those About To Rock We Salute You",
         "AC/DC"
        ],
        [
         "1",
         "Balls to the Wall",
         "Accept"
        ],
        [
         "2",
         "Restless and Wild",
         "Accept"
        ],
        [
         "3",
         "Let There Be Rock",
         "AC/DC"
        ],
        [
         "4",
         "Big Ones",
         "Aerosmith"
        ]
       ],
       "shape": {
        "columns": 2,
        "rows": 5
       }
      },
      "text/html": [
       "<div>\n",
       "<style scoped>\n",
       "    .dataframe tbody tr th:only-of-type {\n",
       "        vertical-align: middle;\n",
       "    }\n",
       "\n",
       "    .dataframe tbody tr th {\n",
       "        vertical-align: top;\n",
       "    }\n",
       "\n",
       "    .dataframe thead th {\n",
       "        text-align: right;\n",
       "    }\n",
       "</style>\n",
       "<table border=\"1\" class=\"dataframe\">\n",
       "  <thead>\n",
       "    <tr style=\"text-align: right;\">\n",
       "      <th></th>\n",
       "      <th>Title</th>\n",
       "      <th>Name</th>\n",
       "    </tr>\n",
       "  </thead>\n",
       "  <tbody>\n",
       "    <tr>\n",
       "      <th>0</th>\n",
       "      <td>For Those About To Rock We Salute You</td>\n",
       "      <td>AC/DC</td>\n",
       "    </tr>\n",
       "    <tr>\n",
       "      <th>1</th>\n",
       "      <td>Balls to the Wall</td>\n",
       "      <td>Accept</td>\n",
       "    </tr>\n",
       "    <tr>\n",
       "      <th>2</th>\n",
       "      <td>Restless and Wild</td>\n",
       "      <td>Accept</td>\n",
       "    </tr>\n",
       "    <tr>\n",
       "      <th>3</th>\n",
       "      <td>Let There Be Rock</td>\n",
       "      <td>AC/DC</td>\n",
       "    </tr>\n",
       "    <tr>\n",
       "      <th>4</th>\n",
       "      <td>Big Ones</td>\n",
       "      <td>Aerosmith</td>\n",
       "    </tr>\n",
       "  </tbody>\n",
       "</table>\n",
       "</div>"
      ],
      "text/plain": [
       "                                   Title       Name\n",
       "0  For Those About To Rock We Salute You      AC/DC\n",
       "1                      Balls to the Wall     Accept\n",
       "2                      Restless and Wild     Accept\n",
       "3                      Let There Be Rock      AC/DC\n",
       "4                               Big Ones  Aerosmith"
      ]
     },
     "metadata": {},
     "output_type": "display_data"
    }
   ],
   "source": [
    "# Open engine in context manager\n",
    "engine = create_engine(\"sqlite:///data/Chinook.sqlite\")\n",
    "\n",
    "with engine.connect() as con:\n",
    "    rs = con.execute(text(\"SELECT Title, Name FROM Album INNER JOIN Artist on Album.ArtistID = Artist.ArtistID\"))\n",
    "    pd_chinook = pd.DataFrame(rs.fetchall())\n",
    "    pd_chinook.columns = rs.keys()\n",
    "\n",
    "# Print head of DataFrame df\n",
    "display(pd_chinook.head())"
   ]
  },
  {
   "cell_type": "markdown",
   "id": "86e1c8e9",
   "metadata": {},
   "source": [
    "### Polars"
   ]
  },
  {
   "cell_type": "code",
   "execution_count": null,
   "id": "45f40959",
   "metadata": {},
   "outputs": [
    {
     "data": {
      "application/vnd.microsoft.datawrangler.viewer.v0+json": {
       "columns": [
        {
         "name": "index",
         "rawType": "int64",
         "type": "integer"
        },
        {
         "name": "Title",
         "rawType": "object",
         "type": "string"
        },
        {
         "name": "Name",
         "rawType": "object",
         "type": "string"
        }
       ],
       "ref": "3329ab03-3bd2-4e33-9b37-4f00eb025b9a",
       "rows": [
        [
         "0",
         "For Those About To Rock We Salute You",
         "AC/DC"
        ],
        [
         "1",
         "Balls to the Wall",
         "Accept"
        ],
        [
         "2",
         "Restless and Wild",
         "Accept"
        ],
        [
         "3",
         "Let There Be Rock",
         "AC/DC"
        ],
        [
         "4",
         "Big Ones",
         "Aerosmith"
        ]
       ],
       "shape": {
        "columns": 2,
        "rows": 5
       }
      },
      "text/html": [
       "<div><style>\n",
       ".dataframe > thead > tr,\n",
       ".dataframe > tbody > tr {\n",
       "  text-align: right;\n",
       "  white-space: pre-wrap;\n",
       "}\n",
       "</style>\n",
       "<small>shape: (5, 2)</small><table border=\"1\" class=\"dataframe\"><thead><tr><th>Title</th><th>Name</th></tr><tr><td>str</td><td>str</td></tr></thead><tbody><tr><td>&quot;For Those About To Rock We Sal…</td><td>&quot;AC/DC&quot;</td></tr><tr><td>&quot;Balls to the Wall&quot;</td><td>&quot;Accept&quot;</td></tr><tr><td>&quot;Restless and Wild&quot;</td><td>&quot;Accept&quot;</td></tr><tr><td>&quot;Let There Be Rock&quot;</td><td>&quot;AC/DC&quot;</td></tr><tr><td>&quot;Big Ones&quot;</td><td>&quot;Aerosmith&quot;</td></tr></tbody></table></div>"
      ],
      "text/plain": [
       "shape: (5, 2)\n",
       "┌─────────────────────────────────┬───────────┐\n",
       "│ Title                           ┆ Name      │\n",
       "│ ---                             ┆ ---       │\n",
       "│ str                             ┆ str       │\n",
       "╞═════════════════════════════════╪═══════════╡\n",
       "│ For Those About To Rock We Sal… ┆ AC/DC     │\n",
       "│ Balls to the Wall               ┆ Accept    │\n",
       "│ Restless and Wild               ┆ Accept    │\n",
       "│ Let There Be Rock               ┆ AC/DC     │\n",
       "│ Big Ones                        ┆ Aerosmith │\n",
       "└─────────────────────────────────┴───────────┘"
      ]
     },
     "metadata": {},
     "output_type": "display_data"
    }
   ],
   "source": [
    "# Open engine in context manager\n",
    "engine = create_engine(\"sqlite:///data/Chinook.sqlite\")\n",
    "\n",
    "with engine.connect() as con:\n",
    "    rs = con.execute(text(\"SELECT Title, Name FROM Album INNER JOIN Artist on Album.ArtistID = Artist.ArtistID\"))\n",
    "    pl_chinook = pl.DataFrame(rs.fetchall())\n",
    "    pl_chinook.columns = list(rs.keys())\n",
    "\n",
    "\n",
    "# Print head of DataFrame df\n",
    "display(pl_chinook.head())"
   ]
  },
  {
   "cell_type": "markdown",
   "id": "42e8cfc5",
   "metadata": {},
   "source": [
    "Use the pandas function `read_sql_query()` to assign to the variable `df` the DataFrame of results from the following query: **select** _all_ records **from** `PlaylistTrack INNER JOIN Track on PlaylistTrack.TrackId = Track.TrackId` that satisfy the condition `Milliseconds < 250000`.\n",
    "\n"
   ]
  },
  {
   "cell_type": "markdown",
   "id": "7e4232b7",
   "metadata": {},
   "source": [
    "### Pandas"
   ]
  },
  {
   "cell_type": "code",
   "execution_count": null,
   "id": "75db970e",
   "metadata": {},
   "outputs": [
    {
     "data": {
      "application/vnd.microsoft.datawrangler.viewer.v0+json": {
       "columns": [
        {
         "name": "index",
         "rawType": "int64",
         "type": "integer"
        },
        {
         "name": "PlaylistId",
         "rawType": "int64",
         "type": "integer"
        },
        {
         "name": "TrackId",
         "rawType": "int64",
         "type": "integer"
        },
        {
         "name": "Name",
         "rawType": "object",
         "type": "string"
        },
        {
         "name": "AlbumId",
         "rawType": "int64",
         "type": "integer"
        },
        {
         "name": "MediaTypeId",
         "rawType": "int64",
         "type": "integer"
        },
        {
         "name": "GenreId",
         "rawType": "int64",
         "type": "integer"
        },
        {
         "name": "Composer",
         "rawType": "object",
         "type": "unknown"
        },
        {
         "name": "Milliseconds",
         "rawType": "int64",
         "type": "integer"
        },
        {
         "name": "Bytes",
         "rawType": "int64",
         "type": "integer"
        },
        {
         "name": "UnitPrice",
         "rawType": "float64",
         "type": "float"
        }
       ],
       "ref": "34234c75-68e8-48a1-beaf-9766c36c6f64",
       "rows": [
        [
         "0",
         "1",
         "3390",
         "One and the Same",
         "271",
         "2",
         "23",
         null,
         "217732",
         "3559040",
         "0.99"
        ],
        [
         "1",
         "1",
         "3392",
         "Until We Fall",
         "271",
         "2",
         "23",
         null,
         "230758",
         "3766605",
         "0.99"
        ],
        [
         "2",
         "1",
         "3393",
         "Original Fire",
         "271",
         "2",
         "23",
         null,
         "218916",
         "3577821",
         "0.99"
        ],
        [
         "3",
         "1",
         "3394",
         "Broken City",
         "271",
         "2",
         "23",
         null,
         "228366",
         "3728955",
         "0.99"
        ],
        [
         "4",
         "1",
         "3395",
         "Somedays",
         "271",
         "2",
         "23",
         null,
         "213831",
         "3497176",
         "0.99"
        ]
       ],
       "shape": {
        "columns": 10,
        "rows": 5
       }
      },
      "text/html": [
       "<div>\n",
       "<style scoped>\n",
       "    .dataframe tbody tr th:only-of-type {\n",
       "        vertical-align: middle;\n",
       "    }\n",
       "\n",
       "    .dataframe tbody tr th {\n",
       "        vertical-align: top;\n",
       "    }\n",
       "\n",
       "    .dataframe thead th {\n",
       "        text-align: right;\n",
       "    }\n",
       "</style>\n",
       "<table border=\"1\" class=\"dataframe\">\n",
       "  <thead>\n",
       "    <tr style=\"text-align: right;\">\n",
       "      <th></th>\n",
       "      <th>PlaylistId</th>\n",
       "      <th>TrackId</th>\n",
       "      <th>Name</th>\n",
       "      <th>AlbumId</th>\n",
       "      <th>MediaTypeId</th>\n",
       "      <th>GenreId</th>\n",
       "      <th>Composer</th>\n",
       "      <th>Milliseconds</th>\n",
       "      <th>Bytes</th>\n",
       "      <th>UnitPrice</th>\n",
       "    </tr>\n",
       "  </thead>\n",
       "  <tbody>\n",
       "    <tr>\n",
       "      <th>0</th>\n",
       "      <td>1</td>\n",
       "      <td>3390</td>\n",
       "      <td>One and the Same</td>\n",
       "      <td>271</td>\n",
       "      <td>2</td>\n",
       "      <td>23</td>\n",
       "      <td>None</td>\n",
       "      <td>217732</td>\n",
       "      <td>3559040</td>\n",
       "      <td>0.99</td>\n",
       "    </tr>\n",
       "    <tr>\n",
       "      <th>1</th>\n",
       "      <td>1</td>\n",
       "      <td>3392</td>\n",
       "      <td>Until We Fall</td>\n",
       "      <td>271</td>\n",
       "      <td>2</td>\n",
       "      <td>23</td>\n",
       "      <td>None</td>\n",
       "      <td>230758</td>\n",
       "      <td>3766605</td>\n",
       "      <td>0.99</td>\n",
       "    </tr>\n",
       "    <tr>\n",
       "      <th>2</th>\n",
       "      <td>1</td>\n",
       "      <td>3393</td>\n",
       "      <td>Original Fire</td>\n",
       "      <td>271</td>\n",
       "      <td>2</td>\n",
       "      <td>23</td>\n",
       "      <td>None</td>\n",
       "      <td>218916</td>\n",
       "      <td>3577821</td>\n",
       "      <td>0.99</td>\n",
       "    </tr>\n",
       "    <tr>\n",
       "      <th>3</th>\n",
       "      <td>1</td>\n",
       "      <td>3394</td>\n",
       "      <td>Broken City</td>\n",
       "      <td>271</td>\n",
       "      <td>2</td>\n",
       "      <td>23</td>\n",
       "      <td>None</td>\n",
       "      <td>228366</td>\n",
       "      <td>3728955</td>\n",
       "      <td>0.99</td>\n",
       "    </tr>\n",
       "    <tr>\n",
       "      <th>4</th>\n",
       "      <td>1</td>\n",
       "      <td>3395</td>\n",
       "      <td>Somedays</td>\n",
       "      <td>271</td>\n",
       "      <td>2</td>\n",
       "      <td>23</td>\n",
       "      <td>None</td>\n",
       "      <td>213831</td>\n",
       "      <td>3497176</td>\n",
       "      <td>0.99</td>\n",
       "    </tr>\n",
       "  </tbody>\n",
       "</table>\n",
       "</div>"
      ],
      "text/plain": [
       "   PlaylistId  TrackId              Name  AlbumId  MediaTypeId  GenreId  \\\n",
       "0           1     3390  One and the Same      271            2       23   \n",
       "1           1     3392     Until We Fall      271            2       23   \n",
       "2           1     3393     Original Fire      271            2       23   \n",
       "3           1     3394       Broken City      271            2       23   \n",
       "4           1     3395          Somedays      271            2       23   \n",
       "\n",
       "  Composer  Milliseconds    Bytes  UnitPrice  \n",
       "0     None        217732  3559040       0.99  \n",
       "1     None        230758  3766605       0.99  \n",
       "2     None        218916  3577821       0.99  \n",
       "3     None        228366  3728955       0.99  \n",
       "4     None        213831  3497176       0.99  "
      ]
     },
     "metadata": {},
     "output_type": "display_data"
    }
   ],
   "source": [
    "engine = create_engine(\"sqlite:///data/Chinook.sqlite\")\n",
    "\n",
    "# Execute query and store records in DataFrame\n",
    "pd_chinook = pd.read_sql_query(\"SELECT * FROM PlaylistTrack INNER JOIN Track USING(TrackId) WHERE Milliseconds < 250000\", engine)\n",
    "\n",
    "# Print head of DataFrame\n",
    "display(pd_chinook.head())"
   ]
  },
  {
   "cell_type": "markdown",
   "id": "8895269b",
   "metadata": {},
   "source": [
    "### Polars"
   ]
  },
  {
   "cell_type": "code",
   "execution_count": 283,
   "id": "2d8c2edd",
   "metadata": {},
   "outputs": [
    {
     "data": {
      "application/vnd.microsoft.datawrangler.viewer.v0+json": {
       "columns": [
        {
         "name": "index",
         "rawType": "int64",
         "type": "integer"
        },
        {
         "name": "PlaylistId",
         "rawType": "int64",
         "type": "integer"
        },
        {
         "name": "TrackId",
         "rawType": "int64",
         "type": "integer"
        },
        {
         "name": "Name",
         "rawType": "object",
         "type": "string"
        },
        {
         "name": "AlbumId",
         "rawType": "int64",
         "type": "integer"
        },
        {
         "name": "MediaTypeId",
         "rawType": "int64",
         "type": "integer"
        },
        {
         "name": "GenreId",
         "rawType": "int64",
         "type": "integer"
        },
        {
         "name": "Composer",
         "rawType": "object",
         "type": "unknown"
        },
        {
         "name": "Milliseconds",
         "rawType": "int64",
         "type": "integer"
        },
        {
         "name": "Bytes",
         "rawType": "int64",
         "type": "integer"
        },
        {
         "name": "UnitPrice",
         "rawType": "float64",
         "type": "float"
        }
       ],
       "ref": "52077f9d-6fab-4748-acab-2c0dc193d731",
       "rows": [
        [
         "0",
         "1",
         "3390",
         "One and the Same",
         "271",
         "2",
         "23",
         null,
         "217732",
         "3559040",
         "0.99"
        ],
        [
         "1",
         "1",
         "3392",
         "Until We Fall",
         "271",
         "2",
         "23",
         null,
         "230758",
         "3766605",
         "0.99"
        ],
        [
         "2",
         "1",
         "3393",
         "Original Fire",
         "271",
         "2",
         "23",
         null,
         "218916",
         "3577821",
         "0.99"
        ],
        [
         "3",
         "1",
         "3394",
         "Broken City",
         "271",
         "2",
         "23",
         null,
         "228366",
         "3728955",
         "0.99"
        ],
        [
         "4",
         "1",
         "3395",
         "Somedays",
         "271",
         "2",
         "23",
         null,
         "213831",
         "3497176",
         "0.99"
        ]
       ],
       "shape": {
        "columns": 10,
        "rows": 5
       }
      },
      "text/html": [
       "<div><style>\n",
       ".dataframe > thead > tr,\n",
       ".dataframe > tbody > tr {\n",
       "  text-align: right;\n",
       "  white-space: pre-wrap;\n",
       "}\n",
       "</style>\n",
       "<small>shape: (5, 10)</small><table border=\"1\" class=\"dataframe\"><thead><tr><th>PlaylistId</th><th>TrackId</th><th>Name</th><th>AlbumId</th><th>MediaTypeId</th><th>GenreId</th><th>Composer</th><th>Milliseconds</th><th>Bytes</th><th>UnitPrice</th></tr><tr><td>i64</td><td>i64</td><td>str</td><td>i64</td><td>i64</td><td>i64</td><td>str</td><td>i64</td><td>i64</td><td>f64</td></tr></thead><tbody><tr><td>1</td><td>3390</td><td>&quot;One and the Same&quot;</td><td>271</td><td>2</td><td>23</td><td>null</td><td>217732</td><td>3559040</td><td>0.99</td></tr><tr><td>1</td><td>3392</td><td>&quot;Until We Fall&quot;</td><td>271</td><td>2</td><td>23</td><td>null</td><td>230758</td><td>3766605</td><td>0.99</td></tr><tr><td>1</td><td>3393</td><td>&quot;Original Fire&quot;</td><td>271</td><td>2</td><td>23</td><td>null</td><td>218916</td><td>3577821</td><td>0.99</td></tr><tr><td>1</td><td>3394</td><td>&quot;Broken City&quot;</td><td>271</td><td>2</td><td>23</td><td>null</td><td>228366</td><td>3728955</td><td>0.99</td></tr><tr><td>1</td><td>3395</td><td>&quot;Somedays&quot;</td><td>271</td><td>2</td><td>23</td><td>null</td><td>213831</td><td>3497176</td><td>0.99</td></tr></tbody></table></div>"
      ],
      "text/plain": [
       "shape: (5, 10)\n",
       "┌────────────┬─────────┬──────────────┬─────────┬───┬──────────┬─────────────┬─────────┬───────────┐\n",
       "│ PlaylistId ┆ TrackId ┆ Name         ┆ AlbumId ┆ … ┆ Composer ┆ Millisecond ┆ Bytes   ┆ UnitPrice │\n",
       "│ ---        ┆ ---     ┆ ---          ┆ ---     ┆   ┆ ---      ┆ s           ┆ ---     ┆ ---       │\n",
       "│ i64        ┆ i64     ┆ str          ┆ i64     ┆   ┆ str      ┆ ---         ┆ i64     ┆ f64       │\n",
       "│            ┆         ┆              ┆         ┆   ┆          ┆ i64         ┆         ┆           │\n",
       "╞════════════╪═════════╪══════════════╪═════════╪═══╪══════════╪═════════════╪═════════╪═══════════╡\n",
       "│ 1          ┆ 3390    ┆ One and the  ┆ 271     ┆ … ┆ null     ┆ 217732      ┆ 3559040 ┆ 0.99      │\n",
       "│            ┆         ┆ Same         ┆         ┆   ┆          ┆             ┆         ┆           │\n",
       "│ 1          ┆ 3392    ┆ Until We     ┆ 271     ┆ … ┆ null     ┆ 230758      ┆ 3766605 ┆ 0.99      │\n",
       "│            ┆         ┆ Fall         ┆         ┆   ┆          ┆             ┆         ┆           │\n",
       "│ 1          ┆ 3393    ┆ Original     ┆ 271     ┆ … ┆ null     ┆ 218916      ┆ 3577821 ┆ 0.99      │\n",
       "│            ┆         ┆ Fire         ┆         ┆   ┆          ┆             ┆         ┆           │\n",
       "│ 1          ┆ 3394    ┆ Broken City  ┆ 271     ┆ … ┆ null     ┆ 228366      ┆ 3728955 ┆ 0.99      │\n",
       "│ 1          ┆ 3395    ┆ Somedays     ┆ 271     ┆ … ┆ null     ┆ 213831      ┆ 3497176 ┆ 0.99      │\n",
       "└────────────┴─────────┴──────────────┴─────────┴───┴──────────┴─────────────┴─────────┴───────────┘"
      ]
     },
     "metadata": {},
     "output_type": "display_data"
    }
   ],
   "source": [
    "engine = create_engine(\"sqlite:///data/Chinook.sqlite\")\n",
    "\n",
    "# Execute query and store records in DataFrame\n",
    "pl_chinook = pl.read_database(\"SELECT * FROM PlaylistTrack INNER JOIN Track USING(TrackId) WHERE Milliseconds < 250000\", engine)\n",
    "\n",
    "# Print head of DataFrame\n",
    "display(pl_chinook.head())"
   ]
  },
  {
   "cell_type": "code",
   "execution_count": null,
   "id": "5f329845",
   "metadata": {},
   "outputs": [],
   "source": []
  }
 ],
 "metadata": {
  "kernelspec": {
   "display_name": "datacamp",
   "language": "python",
   "name": "python3"
  },
  "language_info": {
   "codemirror_mode": {
    "name": "ipython",
    "version": 3
   },
   "file_extension": ".py",
   "mimetype": "text/x-python",
   "name": "python",
   "nbconvert_exporter": "python",
   "pygments_lexer": "ipython3",
   "version": "3.12.7"
  }
 },
 "nbformat": 4,
 "nbformat_minor": 5
}
