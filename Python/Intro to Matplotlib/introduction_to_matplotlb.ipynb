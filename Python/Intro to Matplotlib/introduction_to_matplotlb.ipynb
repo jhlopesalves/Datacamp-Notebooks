{
  "cells": [
    {
      "cell_type": "markdown",
      "metadata": {
        "id": "view-in-github",
        "colab_type": "text"
      },
      "source": [
        "<a href=\"https://colab.research.google.com/github/jhlopesalves/Datacamp-Notebooks/blob/main/Python/Intro%20to%20Matplotlib/introduction_to_matplotlb.ipynb\" target=\"_parent\"><img src=\"https://colab.research.google.com/assets/colab-badge.svg\" alt=\"Open In Colab\"/></a>"
      ]
    },
    {
      "cell_type": "code",
      "source": [
        "import matplotlib.pyplot as plt\n",
        "import numpy as np\n",
        "import pandas as pd\n",
        "import seaborn as sns"
      ],
      "metadata": {
        "id": "iw9cFPxmMvEu"
      },
      "id": "iw9cFPxmMvEu",
      "execution_count": 1,
      "outputs": []
    },
    {
      "cell_type": "code",
      "metadata": {
        "id": "ad0c1c3d"
      },
      "source": [
        "# Create the data directory if it doesn't exist\n",
        "!mkdir -p data\n",
        "\n",
        "# Download the files using wget\n",
        "!wget -O data/seattle_weather.csv https://raw.githubusercontent.com/jhlopesalves/Datacamp-Notebooks/main/Python/Intro%20to%20Matplotlib/data/seattle_weather.csv\n",
        "!wget -O data/austin_weather.csv https://raw.githubusercontent.com/jhlopesalves/Datacamp-Notebooks/main/Python/Intro%20to%20Matplotlib/data/austin_weather.csv\n",
        "\n",
        "print(\"Files downloaded successfully using wget!\")"
      ],
      "id": "ad0c1c3d",
      "execution_count": null,
      "outputs": []
    },
    {
      "cell_type": "code",
      "metadata": {
        "id": "a828972c"
      },
      "source": [
        "# Load the dataset\n",
        "seattle_weather = pd.read_csv(\"data/seattle_weather.csv\")\n",
        "austin_weather = pd.read_csv(\"data/austin_weather.csv\")"
      ],
      "id": "a828972c",
      "execution_count": 9,
      "outputs": []
    }
  ],
  "metadata": {
    "language_info": {
      "name": "python"
    },
    "colab": {
      "provenance": [],
      "include_colab_link": true
    },
    "kernelspec": {
      "name": "python3",
      "display_name": "Python 3"
    }
  },
  "nbformat": 4,
  "nbformat_minor": 5
}