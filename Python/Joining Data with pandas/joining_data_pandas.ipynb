{
 "cells": [
  {
   "cell_type": "markdown",
   "id": "ed3b69c2",
   "metadata": {},
   "source": [
    "# Merging Data with Pandas\n",
    "\n",
    "## Introduction\n",
    "\n",
    "In real-world data analysis, information is rarely stored in a single monolithic table. Instead, data is typically distributed across multiple sources, each representing different aspects, entities, or time periods of the system under study. Combining these disparate tables - **merging** - is a foundational operation in data wrangling, much like performing SQL joins in a relational database. Effective merging allows you to enrich datasets, assemble complete records, and unlock the analytical power of relational thinking.\n",
    "\n",
    "## The Essence of Merging\n",
    "\n",
    "### What is a Merge (Join)?\n",
    "\n",
    "A **merge** combines two or more tables (DataFrames) based on the values of one or more shared columns, called **keys**. This process is analogous to SQL joins, enabling you to bring together related information from separate sources.\n",
    "\n",
    "### The Most Common Join: **Inner Join**\n",
    "\n",
    "**Intuition:**  \n",
    "An *inner join* retrieves only the rows that have matching key values in **both** DataFrames. It acts as a filter - retaining only those records for which the relationship exists in all datasets involved.\n",
    "\n",
    "- If you imagine each table as a circle in a Venn diagram, an inner join corresponds to the overlapping region: only values present in both circles are included in the result.\n",
    "- This is the default behaviour in Pandas' `merge` function.\n",
    "\n",
    "**When to use:**  \n",
    "- When you want to analyse only the “shared universe” of your datasets - i.e., where data is available in all sources.\n",
    "\n",
    "### Syntax: `pd.merge()`\n",
    "\n",
    "The principal function for table merging in Pandas is `pd.merge()`. The basic usage is:\n",
    "\n",
    "```python\n",
    "import pandas as pd\n",
    "\n",
    "merged_df = pd.merge(\n",
    "    left=table1,\n",
    "    right=table2,\n",
    "    on=\"key_column\"        # or on=[\"key1\", \"key2\"] for composite keys\n",
    ")\n",
    "```\n",
    "- By default, this performs an **inner join** on the specified key(s).\n",
    "\n",
    "\n",
    "### Example: Inner Join with a Common Key\n",
    "\n",
    "Suppose you have two DataFrames, each with a `\"user_id\"` column representing the entity to join on:\n",
    "\n",
    "```python\n",
    "merged_df = pd.merge(left=users, right=purchases, on=\"user_id\")\n",
    "```\n",
    "- Only users with purchase records - and vice versa - are included in the result.\n",
    "\n",
    "### Handling Overlapping Column Names: The `suffixes` Argument\n",
    "\n",
    "When both tables have columns with the same name (apart from the join key), Pandas automatically appends suffixes to distinguish them. You can customise these using the `suffixes` argument:\n",
    "\n",
    "```python\n",
    "merged_df = pd.merge(\n",
    "    left=table1,\n",
    "    right=table2,\n",
    "    on=\"id\",\n",
    "    suffixes=(\"_left\", \"_right\")\n",
    ")\n",
    "```\n",
    "- This ensures the resulting DataFrame remains unambiguous and self-explanatory.\n",
    "\n",
    "## Best Practices\n",
    "\n",
    "- **Explicit key columns:** Always specify the `on=` argument to avoid subtle merge errors, especially when column names are similar but not identical.\n",
    "- **Review join types:** Inner joins are safe and conservative, but for broader analyses, consider left, right, or outer joins (see Pandas documentation).\n",
    "- **Inspect results:** Always check the shape and sample rows of your merged DataFrame (`.shape`, `.head()`) to ensure correctness.\n",
    "- **Column name hygiene:** Use `suffixes` to manage naming collisions for maximum interpretability.\n",
    "\n"
   ]
  },
  {
   "cell_type": "code",
   "execution_count": 1,
   "id": "040f37df",
   "metadata": {},
   "outputs": [],
   "source": [
    "import matplotlib.pyplot as plt\n",
    "import numpy as np\n",
    "import pandas as pd \n",
    "import seaborn as sns \n",
    "import os "
   ]
  },
  {
   "cell_type": "code",
   "execution_count": 7,
   "id": "d45bd573",
   "metadata": {},
   "outputs": [],
   "source": [
    "wards = pd.read_pickle(\"data/ward.p\")\n"
   ]
  },
  {
   "cell_type": "code",
   "execution_count": 5,
   "id": "fade8c56",
   "metadata": {},
   "outputs": [],
   "source": [
    "census = pd.read_pickle(\"data/census.p\")"
   ]
  },
  {
   "cell_type": "code",
   "execution_count": 8,
   "id": "5b496ebf",
   "metadata": {},
   "outputs": [
    {
     "data": {
      "application/vnd.microsoft.datawrangler.viewer.v0+json": {
       "columns": [
        {
         "name": "index",
         "rawType": "int64",
         "type": "integer"
        },
        {
         "name": "ward",
         "rawType": "object",
         "type": "string"
        },
        {
         "name": "alderman",
         "rawType": "object",
         "type": "string"
        },
        {
         "name": "address",
         "rawType": "object",
         "type": "string"
        },
        {
         "name": "zip",
         "rawType": "object",
         "type": "string"
        }
       ],
       "ref": "8172feb8-0029-435c-83ed-e8f6f7704f77",
       "rows": [
        [
         "0",
         "1",
         "Proco \"Joe\" Moreno",
         "2058 NORTH WESTERN AVENUE",
         "60647"
        ],
        [
         "1",
         "2",
         "Brian Hopkins",
         "1400 NORTH  ASHLAND AVENUE",
         "60622"
        ],
        [
         "2",
         "3",
         "Pat Dowell",
         "5046 SOUTH STATE STREET",
         "60609"
        ],
        [
         "3",
         "4",
         "William D. Burns",
         "435 EAST 35TH STREET, 1ST FLOOR",
         "60616"
        ],
        [
         "4",
         "5",
         "Leslie A. Hairston",
         "2325 EAST 71ST STREET",
         "60649"
        ]
       ],
       "shape": {
        "columns": 4,
        "rows": 5
       }
      },
      "text/html": [
       "<div>\n",
       "<style scoped>\n",
       "    .dataframe tbody tr th:only-of-type {\n",
       "        vertical-align: middle;\n",
       "    }\n",
       "\n",
       "    .dataframe tbody tr th {\n",
       "        vertical-align: top;\n",
       "    }\n",
       "\n",
       "    .dataframe thead th {\n",
       "        text-align: right;\n",
       "    }\n",
       "</style>\n",
       "<table border=\"1\" class=\"dataframe\">\n",
       "  <thead>\n",
       "    <tr style=\"text-align: right;\">\n",
       "      <th></th>\n",
       "      <th>ward</th>\n",
       "      <th>alderman</th>\n",
       "      <th>address</th>\n",
       "      <th>zip</th>\n",
       "    </tr>\n",
       "  </thead>\n",
       "  <tbody>\n",
       "    <tr>\n",
       "      <th>0</th>\n",
       "      <td>1</td>\n",
       "      <td>Proco \"Joe\" Moreno</td>\n",
       "      <td>2058 NORTH WESTERN AVENUE</td>\n",
       "      <td>60647</td>\n",
       "    </tr>\n",
       "    <tr>\n",
       "      <th>1</th>\n",
       "      <td>2</td>\n",
       "      <td>Brian Hopkins</td>\n",
       "      <td>1400 NORTH  ASHLAND AVENUE</td>\n",
       "      <td>60622</td>\n",
       "    </tr>\n",
       "    <tr>\n",
       "      <th>2</th>\n",
       "      <td>3</td>\n",
       "      <td>Pat Dowell</td>\n",
       "      <td>5046 SOUTH STATE STREET</td>\n",
       "      <td>60609</td>\n",
       "    </tr>\n",
       "    <tr>\n",
       "      <th>3</th>\n",
       "      <td>4</td>\n",
       "      <td>William D. Burns</td>\n",
       "      <td>435 EAST 35TH STREET, 1ST FLOOR</td>\n",
       "      <td>60616</td>\n",
       "    </tr>\n",
       "    <tr>\n",
       "      <th>4</th>\n",
       "      <td>5</td>\n",
       "      <td>Leslie A. Hairston</td>\n",
       "      <td>2325 EAST 71ST STREET</td>\n",
       "      <td>60649</td>\n",
       "    </tr>\n",
       "  </tbody>\n",
       "</table>\n",
       "</div>"
      ],
      "text/plain": [
       "  ward            alderman                          address    zip\n",
       "0    1  Proco \"Joe\" Moreno        2058 NORTH WESTERN AVENUE  60647\n",
       "1    2       Brian Hopkins       1400 NORTH  ASHLAND AVENUE  60622\n",
       "2    3          Pat Dowell          5046 SOUTH STATE STREET  60609\n",
       "3    4    William D. Burns  435 EAST 35TH STREET, 1ST FLOOR  60616\n",
       "4    5  Leslie A. Hairston            2325 EAST 71ST STREET  60649"
      ]
     },
     "execution_count": 8,
     "metadata": {},
     "output_type": "execute_result"
    }
   ],
   "source": [
    "wards.head()"
   ]
  },
  {
   "cell_type": "code",
   "execution_count": 9,
   "id": "cd992382",
   "metadata": {},
   "outputs": [
    {
     "data": {
      "application/vnd.microsoft.datawrangler.viewer.v0+json": {
       "columns": [
        {
         "name": "index",
         "rawType": "int64",
         "type": "integer"
        },
        {
         "name": "ward",
         "rawType": "object",
         "type": "string"
        },
        {
         "name": "pop_2000",
         "rawType": "int64",
         "type": "integer"
        },
        {
         "name": "pop_2010",
         "rawType": "int64",
         "type": "integer"
        },
        {
         "name": "change",
         "rawType": "object",
         "type": "string"
        },
        {
         "name": "address",
         "rawType": "object",
         "type": "string"
        },
        {
         "name": "zip",
         "rawType": "object",
         "type": "string"
        }
       ],
       "ref": "6e13675d-b679-49b2-ae20-eaf0c8e47a32",
       "rows": [
        [
         "0",
         "1",
         "52951",
         "56149",
         "6%",
         "2765 WEST SAINT MARY STREET",
         "60647"
        ],
        [
         "1",
         "2",
         "54361",
         "55805",
         "3%",
         "WM WASTE MANAGEMENT 1500",
         "60622"
        ],
        [
         "2",
         "3",
         "40385",
         "53039",
         "31%",
         "17 EAST 38TH STREET",
         "60653"
        ],
        [
         "3",
         "4",
         "51953",
         "54589",
         "5%",
         "31ST ST HARBOR BUILDING LAKEFRONT TRAIL",
         "60653"
        ],
        [
         "4",
         "5",
         "55302",
         "51455",
         "-7%",
         "JACKSON PARK LAGOON SOUTH CORNELL DRIVE",
         "60637"
        ]
       ],
       "shape": {
        "columns": 6,
        "rows": 5
       }
      },
      "text/html": [
       "<div>\n",
       "<style scoped>\n",
       "    .dataframe tbody tr th:only-of-type {\n",
       "        vertical-align: middle;\n",
       "    }\n",
       "\n",
       "    .dataframe tbody tr th {\n",
       "        vertical-align: top;\n",
       "    }\n",
       "\n",
       "    .dataframe thead th {\n",
       "        text-align: right;\n",
       "    }\n",
       "</style>\n",
       "<table border=\"1\" class=\"dataframe\">\n",
       "  <thead>\n",
       "    <tr style=\"text-align: right;\">\n",
       "      <th></th>\n",
       "      <th>ward</th>\n",
       "      <th>pop_2000</th>\n",
       "      <th>pop_2010</th>\n",
       "      <th>change</th>\n",
       "      <th>address</th>\n",
       "      <th>zip</th>\n",
       "    </tr>\n",
       "  </thead>\n",
       "  <tbody>\n",
       "    <tr>\n",
       "      <th>0</th>\n",
       "      <td>1</td>\n",
       "      <td>52951</td>\n",
       "      <td>56149</td>\n",
       "      <td>6%</td>\n",
       "      <td>2765 WEST SAINT MARY STREET</td>\n",
       "      <td>60647</td>\n",
       "    </tr>\n",
       "    <tr>\n",
       "      <th>1</th>\n",
       "      <td>2</td>\n",
       "      <td>54361</td>\n",
       "      <td>55805</td>\n",
       "      <td>3%</td>\n",
       "      <td>WM WASTE MANAGEMENT 1500</td>\n",
       "      <td>60622</td>\n",
       "    </tr>\n",
       "    <tr>\n",
       "      <th>2</th>\n",
       "      <td>3</td>\n",
       "      <td>40385</td>\n",
       "      <td>53039</td>\n",
       "      <td>31%</td>\n",
       "      <td>17 EAST 38TH STREET</td>\n",
       "      <td>60653</td>\n",
       "    </tr>\n",
       "    <tr>\n",
       "      <th>3</th>\n",
       "      <td>4</td>\n",
       "      <td>51953</td>\n",
       "      <td>54589</td>\n",
       "      <td>5%</td>\n",
       "      <td>31ST ST HARBOR BUILDING LAKEFRONT TRAIL</td>\n",
       "      <td>60653</td>\n",
       "    </tr>\n",
       "    <tr>\n",
       "      <th>4</th>\n",
       "      <td>5</td>\n",
       "      <td>55302</td>\n",
       "      <td>51455</td>\n",
       "      <td>-7%</td>\n",
       "      <td>JACKSON PARK LAGOON SOUTH CORNELL DRIVE</td>\n",
       "      <td>60637</td>\n",
       "    </tr>\n",
       "  </tbody>\n",
       "</table>\n",
       "</div>"
      ],
      "text/plain": [
       "  ward  pop_2000  pop_2010 change                                  address  \\\n",
       "0    1     52951     56149     6%              2765 WEST SAINT MARY STREET   \n",
       "1    2     54361     55805     3%                 WM WASTE MANAGEMENT 1500   \n",
       "2    3     40385     53039    31%                      17 EAST 38TH STREET   \n",
       "3    4     51953     54589     5%  31ST ST HARBOR BUILDING LAKEFRONT TRAIL   \n",
       "4    5     55302     51455    -7%  JACKSON PARK LAGOON SOUTH CORNELL DRIVE   \n",
       "\n",
       "     zip  \n",
       "0  60647  \n",
       "1  60622  \n",
       "2  60653  \n",
       "3  60653  \n",
       "4  60637  "
      ]
     },
     "execution_count": 9,
     "metadata": {},
     "output_type": "execute_result"
    }
   ],
   "source": [
    "census.head()"
   ]
  },
  {
   "cell_type": "code",
   "execution_count": 12,
   "id": "2de29fef",
   "metadata": {},
   "outputs": [
    {
     "data": {
      "application/vnd.microsoft.datawrangler.viewer.v0+json": {
       "columns": [
        {
         "name": "index",
         "rawType": "int64",
         "type": "integer"
        },
        {
         "name": "ward",
         "rawType": "object",
         "type": "string"
        },
        {
         "name": "alderman",
         "rawType": "object",
         "type": "string"
        },
        {
         "name": "address_x",
         "rawType": "object",
         "type": "string"
        },
        {
         "name": "zip_x",
         "rawType": "object",
         "type": "string"
        },
        {
         "name": "pop_2000",
         "rawType": "int64",
         "type": "integer"
        },
        {
         "name": "pop_2010",
         "rawType": "int64",
         "type": "integer"
        },
        {
         "name": "change",
         "rawType": "object",
         "type": "string"
        },
        {
         "name": "address_y",
         "rawType": "object",
         "type": "string"
        },
        {
         "name": "zip_y",
         "rawType": "object",
         "type": "string"
        }
       ],
       "ref": "0067ba75-59d0-4ed2-b770-70420176385d",
       "rows": [
        [
         "0",
         "1",
         "Proco \"Joe\" Moreno",
         "2058 NORTH WESTERN AVENUE",
         "60647",
         "52951",
         "56149",
         "6%",
         "2765 WEST SAINT MARY STREET",
         "60647"
        ],
        [
         "1",
         "2",
         "Brian Hopkins",
         "1400 NORTH  ASHLAND AVENUE",
         "60622",
         "54361",
         "55805",
         "3%",
         "WM WASTE MANAGEMENT 1500",
         "60622"
        ],
        [
         "2",
         "3",
         "Pat Dowell",
         "5046 SOUTH STATE STREET",
         "60609",
         "40385",
         "53039",
         "31%",
         "17 EAST 38TH STREET",
         "60653"
        ],
        [
         "3",
         "4",
         "William D. Burns",
         "435 EAST 35TH STREET, 1ST FLOOR",
         "60616",
         "51953",
         "54589",
         "5%",
         "31ST ST HARBOR BUILDING LAKEFRONT TRAIL",
         "60653"
        ],
        [
         "4",
         "5",
         "Leslie A. Hairston",
         "2325 EAST 71ST STREET",
         "60649",
         "55302",
         "51455",
         "-7%",
         "JACKSON PARK LAGOON SOUTH CORNELL DRIVE",
         "60637"
        ]
       ],
       "shape": {
        "columns": 9,
        "rows": 5
       }
      },
      "text/html": [
       "<div>\n",
       "<style scoped>\n",
       "    .dataframe tbody tr th:only-of-type {\n",
       "        vertical-align: middle;\n",
       "    }\n",
       "\n",
       "    .dataframe tbody tr th {\n",
       "        vertical-align: top;\n",
       "    }\n",
       "\n",
       "    .dataframe thead th {\n",
       "        text-align: right;\n",
       "    }\n",
       "</style>\n",
       "<table border=\"1\" class=\"dataframe\">\n",
       "  <thead>\n",
       "    <tr style=\"text-align: right;\">\n",
       "      <th></th>\n",
       "      <th>ward</th>\n",
       "      <th>alderman</th>\n",
       "      <th>address_x</th>\n",
       "      <th>zip_x</th>\n",
       "      <th>pop_2000</th>\n",
       "      <th>pop_2010</th>\n",
       "      <th>change</th>\n",
       "      <th>address_y</th>\n",
       "      <th>zip_y</th>\n",
       "    </tr>\n",
       "  </thead>\n",
       "  <tbody>\n",
       "    <tr>\n",
       "      <th>0</th>\n",
       "      <td>1</td>\n",
       "      <td>Proco \"Joe\" Moreno</td>\n",
       "      <td>2058 NORTH WESTERN AVENUE</td>\n",
       "      <td>60647</td>\n",
       "      <td>52951</td>\n",
       "      <td>56149</td>\n",
       "      <td>6%</td>\n",
       "      <td>2765 WEST SAINT MARY STREET</td>\n",
       "      <td>60647</td>\n",
       "    </tr>\n",
       "    <tr>\n",
       "      <th>1</th>\n",
       "      <td>2</td>\n",
       "      <td>Brian Hopkins</td>\n",
       "      <td>1400 NORTH  ASHLAND AVENUE</td>\n",
       "      <td>60622</td>\n",
       "      <td>54361</td>\n",
       "      <td>55805</td>\n",
       "      <td>3%</td>\n",
       "      <td>WM WASTE MANAGEMENT 1500</td>\n",
       "      <td>60622</td>\n",
       "    </tr>\n",
       "    <tr>\n",
       "      <th>2</th>\n",
       "      <td>3</td>\n",
       "      <td>Pat Dowell</td>\n",
       "      <td>5046 SOUTH STATE STREET</td>\n",
       "      <td>60609</td>\n",
       "      <td>40385</td>\n",
       "      <td>53039</td>\n",
       "      <td>31%</td>\n",
       "      <td>17 EAST 38TH STREET</td>\n",
       "      <td>60653</td>\n",
       "    </tr>\n",
       "    <tr>\n",
       "      <th>3</th>\n",
       "      <td>4</td>\n",
       "      <td>William D. Burns</td>\n",
       "      <td>435 EAST 35TH STREET, 1ST FLOOR</td>\n",
       "      <td>60616</td>\n",
       "      <td>51953</td>\n",
       "      <td>54589</td>\n",
       "      <td>5%</td>\n",
       "      <td>31ST ST HARBOR BUILDING LAKEFRONT TRAIL</td>\n",
       "      <td>60653</td>\n",
       "    </tr>\n",
       "    <tr>\n",
       "      <th>4</th>\n",
       "      <td>5</td>\n",
       "      <td>Leslie A. Hairston</td>\n",
       "      <td>2325 EAST 71ST STREET</td>\n",
       "      <td>60649</td>\n",
       "      <td>55302</td>\n",
       "      <td>51455</td>\n",
       "      <td>-7%</td>\n",
       "      <td>JACKSON PARK LAGOON SOUTH CORNELL DRIVE</td>\n",
       "      <td>60637</td>\n",
       "    </tr>\n",
       "  </tbody>\n",
       "</table>\n",
       "</div>"
      ],
      "text/plain": [
       "  ward            alderman                        address_x  zip_x  pop_2000  \\\n",
       "0    1  Proco \"Joe\" Moreno        2058 NORTH WESTERN AVENUE  60647     52951   \n",
       "1    2       Brian Hopkins       1400 NORTH  ASHLAND AVENUE  60622     54361   \n",
       "2    3          Pat Dowell          5046 SOUTH STATE STREET  60609     40385   \n",
       "3    4    William D. Burns  435 EAST 35TH STREET, 1ST FLOOR  60616     51953   \n",
       "4    5  Leslie A. Hairston            2325 EAST 71ST STREET  60649     55302   \n",
       "\n",
       "   pop_2010 change                                address_y  zip_y  \n",
       "0     56149     6%              2765 WEST SAINT MARY STREET  60647  \n",
       "1     55805     3%                 WM WASTE MANAGEMENT 1500  60622  \n",
       "2     53039    31%                      17 EAST 38TH STREET  60653  \n",
       "3     54589     5%  31ST ST HARBOR BUILDING LAKEFRONT TRAIL  60653  \n",
       "4     51455    -7%  JACKSON PARK LAGOON SOUTH CORNELL DRIVE  60637  "
      ]
     },
     "metadata": {},
     "output_type": "display_data"
    }
   ],
   "source": [
    "wards_census = wards.merge(census, on=\"ward\")\n",
    "display(wards_census.head())"
   ]
  },
  {
   "cell_type": "code",
   "execution_count": 13,
   "id": "20acce93",
   "metadata": {},
   "outputs": [
    {
     "name": "stdout",
     "output_type": "stream",
     "text": [
      "Index(['ward', 'alderman', 'address_x', 'zip_x', 'pop_2000', 'pop_2010',\n",
      "       'change', 'address_y', 'zip_y'],\n",
      "      dtype='object')\n"
     ]
    }
   ],
   "source": [
    "print(wards_census.columns)"
   ]
  },
  {
   "cell_type": "code",
   "execution_count": 15,
   "id": "a0522cef",
   "metadata": {},
   "outputs": [
    {
     "data": {
      "application/vnd.microsoft.datawrangler.viewer.v0+json": {
       "columns": [
        {
         "name": "index",
         "rawType": "int64",
         "type": "integer"
        },
        {
         "name": "ward",
         "rawType": "object",
         "type": "string"
        },
        {
         "name": "alderman",
         "rawType": "object",
         "type": "string"
        },
        {
         "name": "address_ward",
         "rawType": "object",
         "type": "string"
        },
        {
         "name": "zip_ward",
         "rawType": "object",
         "type": "string"
        },
        {
         "name": "pop_2000",
         "rawType": "int64",
         "type": "integer"
        },
        {
         "name": "pop_2010",
         "rawType": "int64",
         "type": "integer"
        },
        {
         "name": "change",
         "rawType": "object",
         "type": "string"
        },
        {
         "name": "address_cen",
         "rawType": "object",
         "type": "string"
        },
        {
         "name": "zip_cen",
         "rawType": "object",
         "type": "string"
        }
       ],
       "ref": "d1e6c32f-5c44-4dcf-83ae-b3b52c8c1a96",
       "rows": [
        [
         "0",
         "1",
         "Proco \"Joe\" Moreno",
         "2058 NORTH WESTERN AVENUE",
         "60647",
         "52951",
         "56149",
         "6%",
         "2765 WEST SAINT MARY STREET",
         "60647"
        ],
        [
         "1",
         "2",
         "Brian Hopkins",
         "1400 NORTH  ASHLAND AVENUE",
         "60622",
         "54361",
         "55805",
         "3%",
         "WM WASTE MANAGEMENT 1500",
         "60622"
        ],
        [
         "2",
         "3",
         "Pat Dowell",
         "5046 SOUTH STATE STREET",
         "60609",
         "40385",
         "53039",
         "31%",
         "17 EAST 38TH STREET",
         "60653"
        ],
        [
         "3",
         "4",
         "William D. Burns",
         "435 EAST 35TH STREET, 1ST FLOOR",
         "60616",
         "51953",
         "54589",
         "5%",
         "31ST ST HARBOR BUILDING LAKEFRONT TRAIL",
         "60653"
        ],
        [
         "4",
         "5",
         "Leslie A. Hairston",
         "2325 EAST 71ST STREET",
         "60649",
         "55302",
         "51455",
         "-7%",
         "JACKSON PARK LAGOON SOUTH CORNELL DRIVE",
         "60637"
        ]
       ],
       "shape": {
        "columns": 9,
        "rows": 5
       }
      },
      "text/html": [
       "<div>\n",
       "<style scoped>\n",
       "    .dataframe tbody tr th:only-of-type {\n",
       "        vertical-align: middle;\n",
       "    }\n",
       "\n",
       "    .dataframe tbody tr th {\n",
       "        vertical-align: top;\n",
       "    }\n",
       "\n",
       "    .dataframe thead th {\n",
       "        text-align: right;\n",
       "    }\n",
       "</style>\n",
       "<table border=\"1\" class=\"dataframe\">\n",
       "  <thead>\n",
       "    <tr style=\"text-align: right;\">\n",
       "      <th></th>\n",
       "      <th>ward</th>\n",
       "      <th>alderman</th>\n",
       "      <th>address_ward</th>\n",
       "      <th>zip_ward</th>\n",
       "      <th>pop_2000</th>\n",
       "      <th>pop_2010</th>\n",
       "      <th>change</th>\n",
       "      <th>address_cen</th>\n",
       "      <th>zip_cen</th>\n",
       "    </tr>\n",
       "  </thead>\n",
       "  <tbody>\n",
       "    <tr>\n",
       "      <th>0</th>\n",
       "      <td>1</td>\n",
       "      <td>Proco \"Joe\" Moreno</td>\n",
       "      <td>2058 NORTH WESTERN AVENUE</td>\n",
       "      <td>60647</td>\n",
       "      <td>52951</td>\n",
       "      <td>56149</td>\n",
       "      <td>6%</td>\n",
       "      <td>2765 WEST SAINT MARY STREET</td>\n",
       "      <td>60647</td>\n",
       "    </tr>\n",
       "    <tr>\n",
       "      <th>1</th>\n",
       "      <td>2</td>\n",
       "      <td>Brian Hopkins</td>\n",
       "      <td>1400 NORTH  ASHLAND AVENUE</td>\n",
       "      <td>60622</td>\n",
       "      <td>54361</td>\n",
       "      <td>55805</td>\n",
       "      <td>3%</td>\n",
       "      <td>WM WASTE MANAGEMENT 1500</td>\n",
       "      <td>60622</td>\n",
       "    </tr>\n",
       "    <tr>\n",
       "      <th>2</th>\n",
       "      <td>3</td>\n",
       "      <td>Pat Dowell</td>\n",
       "      <td>5046 SOUTH STATE STREET</td>\n",
       "      <td>60609</td>\n",
       "      <td>40385</td>\n",
       "      <td>53039</td>\n",
       "      <td>31%</td>\n",
       "      <td>17 EAST 38TH STREET</td>\n",
       "      <td>60653</td>\n",
       "    </tr>\n",
       "    <tr>\n",
       "      <th>3</th>\n",
       "      <td>4</td>\n",
       "      <td>William D. Burns</td>\n",
       "      <td>435 EAST 35TH STREET, 1ST FLOOR</td>\n",
       "      <td>60616</td>\n",
       "      <td>51953</td>\n",
       "      <td>54589</td>\n",
       "      <td>5%</td>\n",
       "      <td>31ST ST HARBOR BUILDING LAKEFRONT TRAIL</td>\n",
       "      <td>60653</td>\n",
       "    </tr>\n",
       "    <tr>\n",
       "      <th>4</th>\n",
       "      <td>5</td>\n",
       "      <td>Leslie A. Hairston</td>\n",
       "      <td>2325 EAST 71ST STREET</td>\n",
       "      <td>60649</td>\n",
       "      <td>55302</td>\n",
       "      <td>51455</td>\n",
       "      <td>-7%</td>\n",
       "      <td>JACKSON PARK LAGOON SOUTH CORNELL DRIVE</td>\n",
       "      <td>60637</td>\n",
       "    </tr>\n",
       "  </tbody>\n",
       "</table>\n",
       "</div>"
      ],
      "text/plain": [
       "  ward            alderman                     address_ward zip_ward  \\\n",
       "0    1  Proco \"Joe\" Moreno        2058 NORTH WESTERN AVENUE    60647   \n",
       "1    2       Brian Hopkins       1400 NORTH  ASHLAND AVENUE    60622   \n",
       "2    3          Pat Dowell          5046 SOUTH STATE STREET    60609   \n",
       "3    4    William D. Burns  435 EAST 35TH STREET, 1ST FLOOR    60616   \n",
       "4    5  Leslie A. Hairston            2325 EAST 71ST STREET    60649   \n",
       "\n",
       "   pop_2000  pop_2010 change                              address_cen zip_cen  \n",
       "0     52951     56149     6%              2765 WEST SAINT MARY STREET   60647  \n",
       "1     54361     55805     3%                 WM WASTE MANAGEMENT 1500   60622  \n",
       "2     40385     53039    31%                      17 EAST 38TH STREET   60653  \n",
       "3     51953     54589     5%  31ST ST HARBOR BUILDING LAKEFRONT TRAIL   60653  \n",
       "4     55302     51455    -7%  JACKSON PARK LAGOON SOUTH CORNELL DRIVE   60637  "
      ]
     },
     "metadata": {},
     "output_type": "display_data"
    }
   ],
   "source": [
    "wards_census = wards.merge(census, on=\"ward\", suffixes=(\"_ward\", \"_cen\"))\n",
    "display(wards_census.head())"
   ]
  },
  {
   "cell_type": "code",
   "execution_count": 16,
   "id": "f743c259",
   "metadata": {},
   "outputs": [
    {
     "name": "stdout",
     "output_type": "stream",
     "text": [
      "(50, 9)\n"
     ]
    }
   ],
   "source": [
    "print(wards_census.shape)"
   ]
  },
  {
   "cell_type": "code",
   "execution_count": null,
   "id": "4a30eec0",
   "metadata": {},
   "outputs": [],
   "source": []
  }
 ],
 "metadata": {
  "kernelspec": {
   "display_name": "datacamp",
   "language": "python",
   "name": "python3"
  },
  "language_info": {
   "codemirror_mode": {
    "name": "ipython",
    "version": 3
   },
   "file_extension": ".py",
   "mimetype": "text/x-python",
   "name": "python",
   "nbconvert_exporter": "python",
   "pygments_lexer": "ipython3",
   "version": "3.12.8"
  }
 },
 "nbformat": 4,
 "nbformat_minor": 5
}
