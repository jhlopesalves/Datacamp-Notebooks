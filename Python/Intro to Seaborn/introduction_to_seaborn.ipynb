{
  "cells": [
    {
      "cell_type": "markdown",
      "metadata": {
        "id": "view-in-github",
        "colab_type": "text"
      },
      "source": [
        "<a href=\"https://colab.research.google.com/github/jhlopesalves/Datacamp-Notebooks/blob/main/Python/Intro%20to%20Seaborn/introduction_to_seaborn.ipynb\" target=\"_parent\"><img src=\"https://colab.research.google.com/assets/colab-badge.svg\" alt=\"Open In Colab\"/></a>"
      ]
    },
    {
      "cell_type": "code",
      "execution_count": 5,
      "id": "d32ebfb2",
      "metadata": {
        "vscode": {
          "languageId": "plaintext"
        },
        "id": "d32ebfb2"
      },
      "outputs": [],
      "source": [
        "import matplotlib.pyplot as plt\n",
        "import numpy as np\n",
        "import pandas as pd\n",
        "import seaborn as sns\n",
        "import os"
      ]
    },
    {
      "cell_type": "code",
      "execution_count": 7,
      "id": "c3736a08",
      "metadata": {
        "vscode": {
          "languageId": "plaintext"
        },
        "colab": {
          "base_uri": "https://localhost:8080/"
        },
        "collapsed": true,
        "id": "c3736a08",
        "outputId": "56ee142e-cc5f-4d63-f9f5-2e21258907dc"
      },
      "outputs": [
        {
          "output_type": "stream",
          "name": "stdout",
          "text": [
            "--2025-05-27 14:35:03--  https://raw.githubusercontent.com/jhlopesalves/Datacamp-Notebooks/main/Python/Intro%20to%20Seaborn/data/young-people-survey-responses.csv\n",
            "Resolving raw.githubusercontent.com (raw.githubusercontent.com)... 185.199.108.133, 185.199.109.133, 185.199.110.133, ...\n",
            "Connecting to raw.githubusercontent.com (raw.githubusercontent.com)|185.199.108.133|:443... connected.\n",
            "HTTP request sent, awaiting response... 200 OK\n",
            "Length: 82829 (81K) [text/plain]\n",
            "Saving to: ‘data/young-people-survey-responses.csv.2’\n",
            "\n",
            "\r          young-peo   0%[                    ]       0  --.-KB/s               \ryoung-people-survey 100%[===================>]  80.89K  --.-KB/s    in 0.01s   \n",
            "\n",
            "2025-05-27 14:35:03 (7.96 MB/s) - ‘data/young-people-survey-responses.csv.2’ saved [82829/82829]\n",
            "\n",
            "--2025-05-27 14:35:04--  https://github.com/jhlopesalves/Datacamp-Notebooks/blob/main/Python/Intro%20to%20Seaborn/data/countries-of-the-world.csv\n",
            "Resolving github.com (github.com)... 140.82.121.4\n",
            "Connecting to github.com (github.com)|140.82.121.4|:443... connected.\n",
            "HTTP request sent, awaiting response... 200 OK\n",
            "Length: unspecified [text/html]\n",
            "Saving to: ‘data/countries-of-the-world.csv’\n",
            "\n",
            "countries-of-the-wo     [ <=>                ] 216.91K  --.-KB/s    in 0.04s   \n",
            "\n",
            "2025-05-27 14:35:04 (5.17 MB/s) - ‘data/countries-of-the-world.csv’ saved [222120]\n",
            "\n",
            "--2025-05-27 14:35:04--  https://raw.githubusercontent.com/jhlopesalves/Datacamp-Notebooks/main/Python/Intro%20to%20Seaborn/data/mpg.csv\n",
            "Resolving raw.githubusercontent.com (raw.githubusercontent.com)... 185.199.111.133, 185.199.108.133, 185.199.110.133, ...\n",
            "Connecting to raw.githubusercontent.com (raw.githubusercontent.com)|185.199.111.133|:443... connected.\n",
            "HTTP request sent, awaiting response... 200 OK\n",
            "Length: 21222 (21K) [text/plain]\n",
            "Saving to: ‘data/mpg.csv.2’\n",
            "\n",
            "mpg.csv.2           100%[===================>]  20.72K  --.-KB/s    in 0.01s   \n",
            "\n",
            "2025-05-27 14:35:04 (1.65 MB/s) - ‘data/mpg.csv.2’ saved [21222/21222]\n",
            "\n",
            "--2025-05-27 14:35:04--  https://raw.githubusercontent.com/jhlopesalves/Datacamp-Notebooks/main/Python/Intro%20to%20Seaborn/data/student-alcohol-consumption.csv\n",
            "Resolving raw.githubusercontent.com (raw.githubusercontent.com)... 185.199.111.133, 185.199.109.133, 185.199.108.133, ...\n",
            "Connecting to raw.githubusercontent.com (raw.githubusercontent.com)|185.199.111.133|:443... connected.\n",
            "HTTP request sent, awaiting response... 200 OK\n",
            "Length: 37489 (37K) [text/plain]\n",
            "Saving to: ‘data/student-alcohol-consumption.csv.2’\n",
            "\n",
            "student-alcohol-con 100%[===================>]  36.61K  --.-KB/s    in 0.004s  \n",
            "\n",
            "2025-05-27 14:35:04 (8.25 MB/s) - ‘data/student-alcohol-consumption.csv.2’ saved [37489/37489]\n",
            "\n"
          ]
        }
      ],
      "source": [
        "# Create a data directory if it doesn't exist\n",
        "if not os.path.exists('data'):\n",
        "    os.makedirs('data')\n",
        "\n",
        "# Download files using raw GitHub URLs and save them to the data folder\n",
        "!wget -P data/ https://raw.githubusercontent.com/jhlopesalves/Datacamp-Notebooks/main/Python/Intro%20to%20Seaborn/data/young-people-survey-responses.csv\n",
        "!wget -P data/ https://github.com/jhlopesalves/Datacamp-Notebooks/blob/main/Python/Intro%20to%20Seaborn/data/countries-of-the-world.csv\n",
        "!wget -P data/ https://raw.githubusercontent.com/jhlopesalves/Datacamp-Notebooks/main/Python/Intro%20to%20Seaborn/data/mpg.csv\n",
        "!wget -P data/ https://raw.githubusercontent.com/jhlopesalves/Datacamp-Notebooks/main/Python/Intro%20to%20Seaborn/data/student-alcohol-consumption.csv"
      ]
    }
  ],
  "metadata": {
    "language_info": {
      "name": "python"
    },
    "colab": {
      "provenance": [],
      "machine_shape": "hm",
      "include_colab_link": true
    },
    "kernelspec": {
      "name": "python3",
      "display_name": "Python 3"
    }
  },
  "nbformat": 4,
  "nbformat_minor": 5
}