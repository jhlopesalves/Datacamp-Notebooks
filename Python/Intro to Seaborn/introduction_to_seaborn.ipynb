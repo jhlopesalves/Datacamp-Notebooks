{
  "cells": [
    {
      "cell_type": "markdown",
      "metadata": {
        "id": "view-in-github",
        "colab_type": "text"
      },
      "source": [
        "<a href=\"https://colab.research.google.com/github/jhlopesalves/Datacamp-Notebooks/blob/main/Python/Intro%20to%20Seaborn/introduction_to_seaborn.ipynb\" target=\"_parent\"><img src=\"https://colab.research.google.com/assets/colab-badge.svg\" alt=\"Open In Colab\"/></a>"
      ]
    },
    {
      "cell_type": "code",
      "execution_count": 6,
      "id": "d32ebfb2",
      "metadata": {
        "id": "d32ebfb2"
      },
      "outputs": [],
      "source": [
        "import matplotlib.pyplot as plt\n",
        "import numpy as np\n",
        "import pandas as pd\n",
        "import seaborn as sns\n",
        "import os"
      ]
    },
    {
      "cell_type": "code",
      "execution_count": 13,
      "id": "c3736a08",
      "metadata": {
        "collapsed": true,
        "id": "c3736a08",
        "colab": {
          "base_uri": "https://localhost:8080/"
        },
        "outputId": "ab697583-76b5-4474-8d2b-79523b9a4800"
      },
      "outputs": [
        {
          "output_type": "stream",
          "name": "stdout",
          "text": [
            "All files downloaded successfully.\n"
          ]
        }
      ],
      "source": [
        "# Ensure the data directory exists\n",
        "os.makedirs('data', exist_ok=True)\n",
        "\n",
        "# Define sources: URLs that point to CSVs and ZIPs\n",
        "urls = [\n",
        "    \"https://raw.githubusercontent.com/jhlopesalves/Datacamp-Notebooks/main/Python/Intro%20to%20Seaborn/data/young-people-survey-responses.csv\",\n",
        "    \"https://raw.githubusercontent.com/jhlopesalves/Datacamp-Notebooks/main/Python/Intro%20to%20Seaborn/data/mpg.csv\",\n",
        "    \"https://raw.githubusercontent.com/jhlopesalves/Datacamp-Notebooks/main/Python/Intro%20to%20Seaborn/data/student-alcohol-consumption.csv\",\n",
        "    \"https://raw.githubusercontent.com/jhlopesalves/Datacamp-Notebooks/main/Python/Intro%20to%20Seaborn/data/student-mat.csv\",\n",
        "    \"https://raw.githubusercontent.com/jhlopesalves/Datacamp-Notebooks/main/Python/Intro%20to%20Seaborn/data/student-por.csv\",\n",
        "    \"https://raw.githubusercontent.com/pandas-dev/pandas/main/doc/data/air_quality_no2_long.csv\"\n",
        "]\n",
        "\n",
        "# Run wget in quiet mode for each URL\n",
        "for url in urls:\n",
        "    # -q suppresses all output; -P directs output into 'data/' directory\n",
        "    !wget -q -P data/ \"{url}\"\n",
        "\n",
        "# Single success message\n",
        "print(\"All files downloaded successfully.\")"
      ]
    },
    {
      "cell_type": "markdown",
      "source": [
        "### Hue and count plots\n",
        "Let's continue exploring our dataset from students in secondary school by looking at a new variable. The `\"school\"` column indicates the initials of which school the student attended - either `\"GP\"` or `\"MS\"`.\n",
        "\n",
        "In the last exercise, we created a scatter plot where the plot points were colored based on whether the student lived in an urban or rural area. How many students live in urban vs. rural areas, and does this vary based on what school the student attends? Let's make a count plot with subgroups to find out."
      ],
      "metadata": {
        "id": "HIcAxj_MMufQ"
      },
      "id": "HIcAxj_MMufQ"
    },
    {
      "cell_type": "code",
      "execution_count": 16,
      "id": "3Ny_oih2jVqJ",
      "metadata": {
        "id": "3Ny_oih2jVqJ",
        "colab": {
          "base_uri": "https://localhost:8080/",
          "height": 559
        },
        "outputId": "74234514-91d3-4b7d-e93e-4bca5b670cf1"
      },
      "outputs": [
        {
          "output_type": "error",
          "ename": "ParserError",
          "evalue": "Error tokenizing data. C error: Expected 1 fields in line 42, saw 63\n",
          "traceback": [
            "\u001b[0;31m---------------------------------------------------------------------------\u001b[0m",
            "\u001b[0;31mParserError\u001b[0m                               Traceback (most recent call last)",
            "\u001b[0;32m<ipython-input-16-32349dc197fa>\u001b[0m in \u001b[0;36m<cell line: 0>\u001b[0;34m()\u001b[0m\n\u001b[1;32m      1\u001b[0m \u001b[0;31m# Load each subject file (semicolon-separated) into DataFrames\u001b[0m\u001b[0;34m\u001b[0m\u001b[0;34m\u001b[0m\u001b[0m\n\u001b[0;32m----> 2\u001b[0;31m \u001b[0mmat\u001b[0m \u001b[0;34m=\u001b[0m \u001b[0mpd\u001b[0m\u001b[0;34m.\u001b[0m\u001b[0mread_csv\u001b[0m\u001b[0;34m(\u001b[0m\u001b[0;34m'data/student-mat.csv'\u001b[0m\u001b[0;34m)\u001b[0m\u001b[0;34m\u001b[0m\u001b[0;34m\u001b[0m\u001b[0m\n\u001b[0m\u001b[1;32m      3\u001b[0m \u001b[0mpor\u001b[0m \u001b[0;34m=\u001b[0m \u001b[0mpd\u001b[0m\u001b[0;34m.\u001b[0m\u001b[0mread_csv\u001b[0m\u001b[0;34m(\u001b[0m\u001b[0;34m'data/student-por.csv'\u001b[0m\u001b[0;34m)\u001b[0m\u001b[0;34m\u001b[0m\u001b[0;34m\u001b[0m\u001b[0m\n\u001b[1;32m      4\u001b[0m \u001b[0;34m\u001b[0m\u001b[0m\n\u001b[1;32m      5\u001b[0m \u001b[0;31m# Concatenate along rows to get 1 044 records\u001b[0m\u001b[0;34m\u001b[0m\u001b[0;34m\u001b[0m\u001b[0m\n",
            "\u001b[0;32m/usr/local/lib/python3.11/dist-packages/pandas/io/parsers/readers.py\u001b[0m in \u001b[0;36mread_csv\u001b[0;34m(filepath_or_buffer, sep, delimiter, header, names, index_col, usecols, dtype, engine, converters, true_values, false_values, skipinitialspace, skiprows, skipfooter, nrows, na_values, keep_default_na, na_filter, verbose, skip_blank_lines, parse_dates, infer_datetime_format, keep_date_col, date_parser, date_format, dayfirst, cache_dates, iterator, chunksize, compression, thousands, decimal, lineterminator, quotechar, quoting, doublequote, escapechar, comment, encoding, encoding_errors, dialect, on_bad_lines, delim_whitespace, low_memory, memory_map, float_precision, storage_options, dtype_backend)\u001b[0m\n\u001b[1;32m   1024\u001b[0m     \u001b[0mkwds\u001b[0m\u001b[0;34m.\u001b[0m\u001b[0mupdate\u001b[0m\u001b[0;34m(\u001b[0m\u001b[0mkwds_defaults\u001b[0m\u001b[0;34m)\u001b[0m\u001b[0;34m\u001b[0m\u001b[0;34m\u001b[0m\u001b[0m\n\u001b[1;32m   1025\u001b[0m \u001b[0;34m\u001b[0m\u001b[0m\n\u001b[0;32m-> 1026\u001b[0;31m     \u001b[0;32mreturn\u001b[0m \u001b[0m_read\u001b[0m\u001b[0;34m(\u001b[0m\u001b[0mfilepath_or_buffer\u001b[0m\u001b[0;34m,\u001b[0m \u001b[0mkwds\u001b[0m\u001b[0;34m)\u001b[0m\u001b[0;34m\u001b[0m\u001b[0;34m\u001b[0m\u001b[0m\n\u001b[0m\u001b[1;32m   1027\u001b[0m \u001b[0;34m\u001b[0m\u001b[0m\n\u001b[1;32m   1028\u001b[0m \u001b[0;34m\u001b[0m\u001b[0m\n",
            "\u001b[0;32m/usr/local/lib/python3.11/dist-packages/pandas/io/parsers/readers.py\u001b[0m in \u001b[0;36m_read\u001b[0;34m(filepath_or_buffer, kwds)\u001b[0m\n\u001b[1;32m    624\u001b[0m \u001b[0;34m\u001b[0m\u001b[0m\n\u001b[1;32m    625\u001b[0m     \u001b[0;32mwith\u001b[0m \u001b[0mparser\u001b[0m\u001b[0;34m:\u001b[0m\u001b[0;34m\u001b[0m\u001b[0;34m\u001b[0m\u001b[0m\n\u001b[0;32m--> 626\u001b[0;31m         \u001b[0;32mreturn\u001b[0m \u001b[0mparser\u001b[0m\u001b[0;34m.\u001b[0m\u001b[0mread\u001b[0m\u001b[0;34m(\u001b[0m\u001b[0mnrows\u001b[0m\u001b[0;34m)\u001b[0m\u001b[0;34m\u001b[0m\u001b[0;34m\u001b[0m\u001b[0m\n\u001b[0m\u001b[1;32m    627\u001b[0m \u001b[0;34m\u001b[0m\u001b[0m\n\u001b[1;32m    628\u001b[0m \u001b[0;34m\u001b[0m\u001b[0m\n",
            "\u001b[0;32m/usr/local/lib/python3.11/dist-packages/pandas/io/parsers/readers.py\u001b[0m in \u001b[0;36mread\u001b[0;34m(self, nrows)\u001b[0m\n\u001b[1;32m   1921\u001b[0m                     \u001b[0mcolumns\u001b[0m\u001b[0;34m,\u001b[0m\u001b[0;34m\u001b[0m\u001b[0;34m\u001b[0m\u001b[0m\n\u001b[1;32m   1922\u001b[0m                     \u001b[0mcol_dict\u001b[0m\u001b[0;34m,\u001b[0m\u001b[0;34m\u001b[0m\u001b[0;34m\u001b[0m\u001b[0m\n\u001b[0;32m-> 1923\u001b[0;31m                 \u001b[0;34m)\u001b[0m \u001b[0;34m=\u001b[0m \u001b[0mself\u001b[0m\u001b[0;34m.\u001b[0m\u001b[0m_engine\u001b[0m\u001b[0;34m.\u001b[0m\u001b[0mread\u001b[0m\u001b[0;34m(\u001b[0m  \u001b[0;31m# type: ignore[attr-defined]\u001b[0m\u001b[0;34m\u001b[0m\u001b[0;34m\u001b[0m\u001b[0m\n\u001b[0m\u001b[1;32m   1924\u001b[0m                     \u001b[0mnrows\u001b[0m\u001b[0;34m\u001b[0m\u001b[0;34m\u001b[0m\u001b[0m\n\u001b[1;32m   1925\u001b[0m                 )\n",
            "\u001b[0;32m/usr/local/lib/python3.11/dist-packages/pandas/io/parsers/c_parser_wrapper.py\u001b[0m in \u001b[0;36mread\u001b[0;34m(self, nrows)\u001b[0m\n\u001b[1;32m    232\u001b[0m         \u001b[0;32mtry\u001b[0m\u001b[0;34m:\u001b[0m\u001b[0;34m\u001b[0m\u001b[0;34m\u001b[0m\u001b[0m\n\u001b[1;32m    233\u001b[0m             \u001b[0;32mif\u001b[0m \u001b[0mself\u001b[0m\u001b[0;34m.\u001b[0m\u001b[0mlow_memory\u001b[0m\u001b[0;34m:\u001b[0m\u001b[0;34m\u001b[0m\u001b[0;34m\u001b[0m\u001b[0m\n\u001b[0;32m--> 234\u001b[0;31m                 \u001b[0mchunks\u001b[0m \u001b[0;34m=\u001b[0m \u001b[0mself\u001b[0m\u001b[0;34m.\u001b[0m\u001b[0m_reader\u001b[0m\u001b[0;34m.\u001b[0m\u001b[0mread_low_memory\u001b[0m\u001b[0;34m(\u001b[0m\u001b[0mnrows\u001b[0m\u001b[0;34m)\u001b[0m\u001b[0;34m\u001b[0m\u001b[0;34m\u001b[0m\u001b[0m\n\u001b[0m\u001b[1;32m    235\u001b[0m                 \u001b[0;31m# destructive to chunks\u001b[0m\u001b[0;34m\u001b[0m\u001b[0;34m\u001b[0m\u001b[0m\n\u001b[1;32m    236\u001b[0m                 \u001b[0mdata\u001b[0m \u001b[0;34m=\u001b[0m \u001b[0m_concatenate_chunks\u001b[0m\u001b[0;34m(\u001b[0m\u001b[0mchunks\u001b[0m\u001b[0;34m)\u001b[0m\u001b[0;34m\u001b[0m\u001b[0;34m\u001b[0m\u001b[0m\n",
            "\u001b[0;32mparsers.pyx\u001b[0m in \u001b[0;36mpandas._libs.parsers.TextReader.read_low_memory\u001b[0;34m()\u001b[0m\n",
            "\u001b[0;32mparsers.pyx\u001b[0m in \u001b[0;36mpandas._libs.parsers.TextReader._read_rows\u001b[0;34m()\u001b[0m\n",
            "\u001b[0;32mparsers.pyx\u001b[0m in \u001b[0;36mpandas._libs.parsers.TextReader._tokenize_rows\u001b[0;34m()\u001b[0m\n",
            "\u001b[0;32mparsers.pyx\u001b[0m in \u001b[0;36mpandas._libs.parsers.TextReader._check_tokenize_status\u001b[0;34m()\u001b[0m\n",
            "\u001b[0;32mparsers.pyx\u001b[0m in \u001b[0;36mpandas._libs.parsers.raise_parser_error\u001b[0;34m()\u001b[0m\n",
            "\u001b[0;31mParserError\u001b[0m: Error tokenizing data. C error: Expected 1 fields in line 42, saw 63\n"
          ]
        }
      ],
      "source": [
        "# Load each subject file (semicolon-separated) into DataFrames\n",
        "mat = pd.read_csv('data/student-mat.csv')\n",
        "por = pd.read_csv('data/student-por.csv')\n",
        "\n",
        "# Concatenate along rows to get 1 044 records\n",
        "df = pd.concat([mat, por], ignore_index=True)\n",
        "\n",
        "# Drop job-related and guardian columns to match DataCamp’s 29 columns\n",
        "df.drop(columns=['Mjob', 'Fjob', 'reason', 'guardian'], inplace=True)\n",
        "\n",
        "# Rename and recode 'address' → 'location'\n",
        "df.rename(columns={'address': 'location'}, inplace=True)\n",
        "df['location'] = df['location'].map({'U': 'Urban', 'R': 'Rural'})\n",
        "\n",
        "# Rename and recode 'studytime' → 'study_time' with textual bands\n",
        "study_map = {\n",
        "    1: '<2 hours',\n",
        "    2: '2 to 5 hours',\n",
        "    3: '5 to 10 hours',\n",
        "    4: '>10 hours'\n",
        "}\n",
        "df.rename(columns={'studytime': 'study_time'}, inplace=True)\n",
        "df['study_time'] = df['study_time'].map(study_map)\n",
        "\n",
        "# Reorder columns to match DataCamp’s .head() layout\n",
        "desired_order = [\n",
        "    'school','sex','age','famsize','Pstatus','Medu','Fedu','traveltime',\n",
        "    'failures','schoolsup','famsup','paid','activities','nursery','higher',\n",
        "    'internet','romantic','famrel','freetime','goout','Dalc','Walc','health',\n",
        "    'absences','G1','G2','G3','location','study_time'\n",
        "]\n",
        "student_data = df[desired_order]"
      ]
    },
    {
      "cell_type": "code",
      "execution_count": null,
      "id": "R0MauRV-lRHD",
      "metadata": {
        "id": "R0MauRV-lRHD"
      },
      "outputs": [],
      "source": [
        "# Create a dictionary mapping subgroup values to colors\n",
        "palette_colors = {\"Rural\": \"green\", \"Urban\": \"blue\"}\n",
        "\n",
        "# Create a count plot of school with location subgroups\n",
        "# countplot(): Automatically counts occurrences of categorical variables\n",
        "# hue parameter in countplot: Creates grouped bar charts with subcategories\n",
        "# Consistent palette: Using same color scheme across multiple plots for coherent analysis\n",
        "sns.countplot(x=\"school\", data=student_data, hue=\"location\", palette=palette_colors)\n",
        "\n",
        "plt.show()"
      ]
    },
    {
      "cell_type": "markdown",
      "source": [
        "### Creating subplots with col and row\n",
        "We've seen in prior exercises that students with more absences (`\"absences\"`) tend to have lower final grades (`\"G3\"`). Does this relationship hold regardless of how much time students study each week?\n",
        "\n",
        "To answer this, we'll look at the relationship between the number of absences that a student has in school and their final grade in the course, creating separate subplots based on each student's weekly study time (`\"study_time\"`)."
      ],
      "metadata": {
        "id": "xQ3Y5aV0NNN7"
      },
      "id": "xQ3Y5aV0NNN7"
    },
    {
      "cell_type": "code",
      "execution_count": null,
      "id": "sxlabtZEtONG",
      "metadata": {
        "id": "sxlabtZEtONG"
      },
      "outputs": [],
      "source": [
        "# relplot() vs scatterplot(): relplot provides more flexibility for creating subplots\n",
        "# Consistent API: Same parameters work across different plot types\n",
        "# Change to use relplot() instead of scatterplot()\n",
        "sns.relplot(x=\"absences\", y=\"G3\", kind=\"scatter\", data=student_data)\n",
        "\n",
        "plt.show()"
      ]
    },
    {
      "cell_type": "code",
      "execution_count": null,
      "id": "zQjRdA8BjudZ",
      "metadata": {
        "id": "zQjRdA8BjudZ"
      },
      "outputs": [],
      "source": [
        "# Create a dictionary mapping subgroup values to colors\n",
        "palette_colors = {\"Rural\": \"green\", \"Urban\": \"blue\"}\n",
        "# Create a scatter plot of absences vs. final grade\n",
        "# hue_order parameter: Controls the order in which hue categories appear in the legend\n",
        "# Custom palette: Mapping specific colors to categorical values for consistent visualization\n",
        "sns.scatterplot(x=\"absences\",\n",
        "                y=\"G3\",\n",
        "                data=student_data,\n",
        "                hue=\"location\",\n",
        "                hue_order=[\"Rural\", \"Urban\"],  # Specify order of categories in legend\n",
        "                palette=palette_colors)\n",
        "\n",
        "plt.show()"
      ]
    },
    {
      "cell_type": "markdown",
      "id": "N5tTE8uTTBfI",
      "metadata": {
        "id": "N5tTE8uTTBfI"
      },
      "source": [
        "### Seaborn built-in dataset `tips`\n",
        "\n",
        "- total_bill: The total bill amount in dollars.\n",
        "- tip: The tip amount in dollars.\n",
        "- sex: The gender of the person who paid the bill (Male or Female).\n",
        "- smoker: Whether the party included smokers (Yes or No).\n",
        "- day: The day of the week (Sun, Sat, Thur, Fri).\n",
        "- time: The time of the day (Dinner or Lunch).\n",
        "- size: The number of people in the party."
      ]
    },
    {
      "cell_type": "code",
      "execution_count": null,
      "id": "3WV4H0mLRan2",
      "metadata": {
        "id": "3WV4H0mLRan2"
      },
      "outputs": [],
      "source": [
        "# Load the built-in Seaborn 'tips' dataset\n",
        "tips = sns.load_dataset(\"tips\")\n",
        "# Display the first 5 rows to examine the data structure\n",
        "tips.head()"
      ]
    },
    {
      "cell_type": "markdown",
      "source": [
        "### Changing the size of scatter plot points\n",
        "In this exercise, we'll explore Seaborn's mpg dataset, which contains one row per car model and includes information such as the year the car was made, the number of miles per gallon (`\"M.P.G.\"`) it achieves, the power of its engine (measured in `\"horsepower\"`), and its country of origin.\n",
        "\n",
        "What is the relationship between the power of a car's engine (`\"horsepower\"`) and its fuel efficiency (`\"mpg\"`)? And how does this relationship vary by the number of cylinders (`\"cylinders\"`) the car has? Let's find out."
      ],
      "metadata": {
        "id": "8pJ90cw5NwTH"
      },
      "id": "8pJ90cw5NwTH"
    },
    {
      "cell_type": "code",
      "execution_count": null,
      "id": "Dyp839xKxBwK",
      "metadata": {
        "id": "Dyp839xKxBwK"
      },
      "outputs": [],
      "source": [
        "# Load the MPG (Miles Per Gallon) dataset from CSV file\n",
        "# This dataset contains car performance metrics including fuel efficiency and engine specifications\n",
        "mpg = pd.read_csv(\"data/mpg.csv\")"
      ]
    },
    {
      "cell_type": "code",
      "execution_count": null,
      "id": "f7Dh1j3YxZrq",
      "metadata": {
        "id": "f7Dh1j3YxZrq"
      },
      "outputs": [],
      "source": [
        "# Dual encoding: Using both size and color helps distinguish categories clearly\n",
        "# Numeric to visual mapping: Automatic scaling of point sizes based on data values\n",
        "# Create scatter plot of horsepower vs. mpg\n",
        "sns.relplot(x=\"horsepower\", y=\"mpg\",\n",
        "            data=mpg, kind=\"scatter\",\n",
        "            size=\"cylinders\",  # Point size varies with cylinder count\n",
        "            hue=\"cylinders\")   # Color varies with cylinder count\n",
        "\n",
        "plt.show()"
      ]
    },
    {
      "cell_type": "code",
      "execution_count": null,
      "id": "OcV91elFwBJ1",
      "metadata": {
        "id": "OcV91elFwBJ1"
      },
      "outputs": [],
      "source": [
        "# size parameter: Maps point size to a numeric variable (party size)\n",
        "# hue parameter: Maps color to the same variable for redundant encoding\n",
        "# style parameter: Maps point markers to a categorical variable (smoker status)\n",
        "# alpha parameter: Controls transparency for better visualization of overlapping points\n",
        "# Multiple aesthetics: Encoding multiple variables simultaneously in one plot\n",
        "sns.relplot(x=\"total_bill\",\n",
        "            y=\"tip\",\n",
        "            data=tips,\n",
        "            kind=\"scatter\",\n",
        "            size=\"size\",      # Point size varies with party size\n",
        "            hue=\"size\",       # Color also varies with party size\n",
        "            style=\"smoker\",   # Point shape varies with smoker status\n",
        "            alpha=0.8)        # Slight transparency\n",
        "\n",
        "plt.show()"
      ]
    },
    {
      "cell_type": "code",
      "execution_count": null,
      "id": "kUvDYH-byTz7",
      "metadata": {
        "id": "kUvDYH-byTz7"
      },
      "outputs": [],
      "source": [
        "# style parameter: Uses different marker shapes for each country\n",
        "# Categorical encoding: Both color and shape help distinguish between categories\n",
        "# Accessibility: Multiple visual cues make plots readable even in grayscale\n",
        "# Create a scatter plot of acceleration vs. mpg\n",
        "sns.relplot(x=\"acceleration\",\n",
        "            y=\"mpg\",\n",
        "            kind=\"scatter\",\n",
        "            hue=\"origin\",     # Color by country of origin\n",
        "            style=\"origin\",   # Different markers for each country\n",
        "            data=mpg)\n",
        "\n",
        "plt.show()"
      ]
    },
    {
      "cell_type": "markdown",
      "source": [
        "### Interpreting line plots\n",
        "In this exercise, we'll continue to explore Seaborn's mpg dataset, which contains one row per car model and includes information such as the year the car was made, its fuel efficiency (measured in \"miles per gallon\" or \"M.P.G\"), and its country of origin (USA, Europe, or Japan).\n",
        "\n",
        "How has the average miles per gallon achieved by these cars changed over time? Let's use line plots to find out!"
      ],
      "metadata": {
        "id": "CJ6kn_ntO7CC"
      },
      "id": "CJ6kn_ntO7CC"
    },
    {
      "cell_type": "code",
      "source": [
        "sns.set_palette(\"tab10\")\n",
        "\n",
        "# Create line plot\n",
        "sns.relplot(x=\"model_year\", y=\"mpg\", data=mpg, kind=\"line\",\n",
        "            height=5, aspect=1.5) # Adjust height and aspect ratio\n",
        "\n",
        "# Show plot\n",
        "plt.show()"
      ],
      "metadata": {
        "id": "3JQ_dGrbPAAd"
      },
      "id": "3JQ_dGrbPAAd",
      "execution_count": null,
      "outputs": []
    },
    {
      "cell_type": "markdown",
      "source": [
        "### Visualizing standard deviation with line plots\n",
        "In the last exercise, we looked at how the average miles per gallon achieved by cars has changed over time. Now let's use a line plot to visualize how the distribution of miles per gallon has changed over time."
      ],
      "metadata": {
        "id": "FtlqHpICPNtR"
      },
      "id": "FtlqHpICPNtR"
    },
    {
      "cell_type": "code",
      "source": [
        "# Make the shaded area show the standard deviation\n",
        "sns.relplot(x=\"model_year\", y=\"mpg\",\n",
        "            data=mpg, kind=\"line\", errorbar=\"sd\",\n",
        "            height=5, aspect=1.5)\n",
        "\n",
        "# Show plot\n",
        "plt.show()"
      ],
      "metadata": {
        "id": "jfJ1mvCXPUGr"
      },
      "id": "jfJ1mvCXPUGr",
      "execution_count": null,
      "outputs": []
    },
    {
      "cell_type": "markdown",
      "source": [
        "### Plotting subgroups in line plots\n",
        "Let's continue to look at the mpg dataset. We've seen that the average miles per gallon for cars has increased over time, but how has the average horsepower for cars changed over time? And does this trend differ by country of origin?"
      ],
      "metadata": {
        "id": "25CvW3GcPyTF"
      },
      "id": "25CvW3GcPyTF"
    },
    {
      "cell_type": "code",
      "source": [
        "# Create line plot of model year vs. horsepower\n",
        "sns.relplot(x=\"model_year\", y=\"horsepower\",\n",
        "            data=mpg, kind=\"line\", errorbar=None,\n",
        "            height=5, aspect=1.5)\n",
        "\n",
        "# Show plot\n",
        "plt.show()"
      ],
      "metadata": {
        "id": "KNfAbw4kP3zx"
      },
      "id": "KNfAbw4kP3zx",
      "execution_count": null,
      "outputs": []
    },
    {
      "cell_type": "markdown",
      "source": [
        "### Count plots\n",
        "In this exercise, we'll return to exploring our dataset that contains the responses to a survey sent out to young people. We might suspect that young people spend a lot of time on the internet, but how much do they report using the internet each day? Let's use a count plot to break down the number of survey responses in each category and then explore whether it changes based on age.\n",
        "\n",
        "As a reminder, to create a count plot, we'll use the `catplot()` function and specify the name of the categorical variable to count (`x=____`), the pandas DataFrame to use (`data=____`), and the type of plot (`kind=\"count\"`)."
      ],
      "metadata": {
        "id": "qp78rYGoQgZd"
      },
      "id": "qp78rYGoQgZd"
    },
    {
      "cell_type": "code",
      "source": [
        "# Change the orientation of the plot\n",
        "sns.catplot(y=\"Internet usage\", data=survey_data,\n",
        "            kind=\"count\", hue=\"Internet usage\")\n",
        "\n",
        "# Show plot\n",
        "plt.show()"
      ],
      "metadata": {
        "id": "pjA1aEQIQ3Qj"
      },
      "id": "pjA1aEQIQ3Qj",
      "execution_count": null,
      "outputs": []
    },
    {
      "cell_type": "markdown",
      "source": [
        "### Bar plots with percentages\n",
        "Let's continue exploring the responses to a survey sent out to young people. The variable \"Interested in Math\" is True if the person reported being interested or very interested in mathematics, and False otherwise. What percentage of young people report being interested in math, and does this vary based on gender? Let's use a bar plot to find out.\n",
        "\n",
        "As a reminder, we'll create a bar plot using the `catplot()` function, providing the name of categorical variable to put on the x-axis (`x=____`), the name of the quantitative variable to summarize on the y-axis (`y=____`), the pandas DataFrame to use (`data=____`), and the type of categorical plot (`kind=\"bar\"`)."
      ],
      "metadata": {
        "id": "vKMWauKrRL1-"
      },
      "id": "vKMWauKrRL1-"
    },
    {
      "cell_type": "code",
      "source": [
        "survey_data = pd.read_csv(\"data/young-people-survey-responses.csv\")"
      ],
      "metadata": {
        "id": "TtzkhhhJCZeh"
      },
      "id": "TtzkhhhJCZeh",
      "execution_count": null,
      "outputs": []
    },
    {
      "cell_type": "code",
      "source": [
        "survey_data.head()"
      ],
      "metadata": {
        "id": "3lWH_t7HDxky"
      },
      "id": "3lWH_t7HDxky",
      "execution_count": null,
      "outputs": []
    },
    {
      "cell_type": "code",
      "source": [
        "# Separate this plot into two side-by-side column subplots based on \"Age Category\", which separates respondents into those that are younger than 21 vs. 21 and older.\n",
        "survey_data[\"Age Category\"] = survey_data[\"Age\"].apply(lambda x: \"Under 21\" if x < 21 else \"21 and Older\")\n",
        "display(survey_data.head())"
      ],
      "metadata": {
        "id": "hn2XitKBEIZl"
      },
      "id": "hn2XitKBEIZl",
      "execution_count": null,
      "outputs": []
    },
    {
      "cell_type": "code",
      "metadata": {
        "id": "1d701e0e"
      },
      "source": [
        "# Create the \"Interested in math\" column\n",
        "# Define \"Interested in math\" as a rating of 4 or 5 in the 'Mathematics' column\n",
        "survey_data['Interested in math'] = survey_data['Mathematics'].apply(lambda x: x in [4, 5])\n",
        "\n",
        "# Display the head of the DataFrame with the new column\n",
        "display(survey_data.head())"
      ],
      "id": "1d701e0e",
      "execution_count": null,
      "outputs": []
    },
    {
      "cell_type": "code",
      "source": [
        "# Create a bar plot of interest in math, separated by gender\n",
        "sns.catplot(x=\"Gender\", y=\"Interested in math\",\n",
        "            data=survey_data,\n",
        "            kind=\"bar\", hue=\"Gender\")\n",
        "\n",
        "\n",
        "# Show plot\n",
        "plt.show()"
      ],
      "metadata": {
        "id": "PTTbcVrERaOT"
      },
      "id": "PTTbcVrERaOT",
      "execution_count": null,
      "outputs": []
    },
    {
      "cell_type": "code",
      "source": [
        "# Create bar plot of average final grade in each study category\n",
        "sns.catplot(x=\"study_time\",\n",
        "            y=\"G3\", kind=\"bar\",\n",
        "            data=student_data,\n",
        "            hue=\"study_time\")\n",
        "\n",
        "# Show plot\n",
        "plt.show()"
      ],
      "metadata": {
        "id": "yU1vAQ5pTjXg"
      },
      "id": "yU1vAQ5pTjXg",
      "execution_count": null,
      "outputs": []
    },
    {
      "cell_type": "code",
      "execution_count": null,
      "id": "M6Z6Dga9RjRv",
      "metadata": {
        "id": "M6Z6Dga9RjRv"
      },
      "outputs": [],
      "source": [
        "# Define a dictionary to map hue values (\"smoker\") to specific colors\n",
        "hue_colors = {\"Yes\": \"black\",\n",
        "\"No\": \"red\"}\n",
        "\n",
        "# scatterplot(): Creates scatter plots for visualizing relationships between two continuous variables\n",
        "# hue parameter: Colors points based on a categorical variable (smoker status)\n",
        "# palette parameter: Custom color mapping using a dictionary for precise color control\n",
        "sns.scatterplot(x=\"total_bill\",\n",
        "                y=\"tip\",\n",
        "                data=tips,       # Use the 'tips' DataFrame as the data source\n",
        "                hue=\"smoker\",    # Color the points based on the 'smoker' column\n",
        "                palette=hue_colors) # Use the defined 'hue_colors' dictionary for coloring\n",
        "\n",
        "plt.show()"
      ]
    },
    {
      "cell_type": "markdown",
      "id": "WOEyWeldRwVb",
      "metadata": {
        "id": "WOEyWeldRwVb"
      },
      "source": [
        "### Using HTML hex color codes with hue\n"
      ]
    },
    {
      "cell_type": "code",
      "execution_count": null,
      "id": "ibhphfKDR22f",
      "metadata": {
        "id": "ibhphfKDR22f"
      },
      "outputs": [],
      "source": [
        "# Define a dictionary to map hue values (\"smoker\") to specific HTML hex color codes\n",
        "hue_colors = {\"Yes\": \"#808080\", # Grey color for \"Yes\"\n",
        "\"No\": \"#00FF00\"} # Green color for \"No\"\n",
        "\n",
        "# palette with hex colors: Using HTML hex color codes (#RRGGBB) for precise color specification\n",
        "# Custom color mapping: More professional color control compared to basic color names\n",
        "sns.scatterplot(x=\"total_bill\",\n",
        "                y=\"tip\",\n",
        "                data=tips,\n",
        "                hue=\"smoker\",    # Color the points based on the 'smoker' column\n",
        "                palette=hue_colors) # Use the defined 'hue_colors' dictionary for coloring\n",
        "\n",
        "plt.show()"
      ]
    },
    {
      "cell_type": "code",
      "execution_count": null,
      "id": "XXBbscKkjtAx",
      "metadata": {
        "id": "XXBbscKkjtAx"
      },
      "outputs": [],
      "source": [
        "student_data.head()"
      ]
    },
    {
      "cell_type": "markdown",
      "id": "Wi6ijXf_nNd9",
      "metadata": {
        "id": "Wi6ijXf_nNd9"
      },
      "source": [
        "## Visualizing Two Quantitative Variables\n",
        "\n",
        "In this chapter, you will create and customize plots that visualize the relationship between two quantitative variables. To do this, you will use scatter plots and line plots to explore how the level of air pollution in a city changes over the course of a day and how horsepower relates to fuel efficiency in cars. You will also see another big advantage of using Seaborn - the ability to easily create subplots in a single figure!"
      ]
    },
    {
      "cell_type": "code",
      "execution_count": null,
      "id": "J4tt2YbDnMyG",
      "metadata": {
        "id": "J4tt2YbDnMyG"
      },
      "outputs": [],
      "source": [
        "# Create a scatter plot using relplot\n",
        "# relplot(): High-level interface for relational plots (scatter and line)\n",
        "# col parameter: Creates separate subplot columns for each category\n",
        "# row parameter: Creates separate subplot rows for each category\n",
        "# Subplot grid: Automatically creates a 2x2 grid based on smoker (Yes/No) and time (Dinner/Lunch)\n",
        "sns.relplot(x=\"total_bill\", # Map total_bill to the x-axis\n",
        "            y=\"tip\",        # Map tip to the y-axis\n",
        "            data=tips,      # Use the 'tips' DataFrame\n",
        "            kind=\"scatter\", # Create a scatter plot\n",
        "            col=\"smoker\",   # Create columns for each smoker category (Yes/No)\n",
        "            row=\"time\")     # Create rows for each time category (Dinner/Lunch)\n",
        "\n",
        "plt.show()"
      ]
    },
    {
      "cell_type": "code",
      "execution_count": null,
      "id": "WOMzfnZlsuvT",
      "metadata": {
        "id": "WOMzfnZlsuvT"
      },
      "outputs": [],
      "source": [
        "# col_wrap parameter: Wraps subplot columns after specified number (creates 2x2 grid instead of 1x4)\n",
        "# col_order parameter: Controls the sequence in which categories appear in subplots\n",
        "# Flexible subplot layout: Better space utilization for multiple categories\n",
        "sns.relplot(x=\"total_bill\",\n",
        "            y=\"tip\",\n",
        "            data=tips,\n",
        "            kind=\"scatter\",\n",
        "            col=\"day\", # Create columns for each day of the week\n",
        "            col_wrap=2, # Wrap the columns after 2 plots\n",
        "            col_order=[\"Thur\", # Specify the order of the columns\n",
        "                       \"Fri\",\n",
        "                       \"Sat\",\n",
        "                       \"Sun\"])\n",
        "\n",
        "plt.show()"
      ]
    },
    {
      "cell_type": "code",
      "execution_count": null,
      "id": "mtLVRkwdulBU",
      "metadata": {
        "id": "mtLVRkwdulBU"
      },
      "outputs": [],
      "source": [
        "# col parameter: Creates separate plots for each study time category\n",
        "# Automatic subplot arrangement: Seaborn handles layout and spacing automatically\n",
        "# Comparative analysis: Easy to compare patterns across different groups\n",
        "sns.relplot(x=\"absences\", y=\"G3\",\n",
        "            data=student_data,\n",
        "            kind=\"scatter\",\n",
        "            col=\"study_time\")  # Creates 4 subplots for different study time categories\n",
        "\n",
        "plt.show()"
      ]
    },
    {
      "cell_type": "code",
      "execution_count": null,
      "id": "uhf1OcA1vnOQ",
      "metadata": {
        "id": "uhf1OcA1vnOQ"
      },
      "outputs": [],
      "source": [
        "# Combined col and row parameters: Creates a 2x2 grid (2 school support × 2 family support)\n",
        "# col_order and row_order: Controls the arrangement of categories in the grid\n",
        "# Multi-dimensional analysis: Examines relationships across two categorical variables simultaneously\n",
        "sns.relplot(x=\"G1\", y=\"G3\",\n",
        "            data=student_data,\n",
        "            kind=\"scatter\",\n",
        "            col=\"schoolsup\",           # Columns for school support (yes/no)\n",
        "            col_order=[\"yes\", \"no\"],\n",
        "            row=\"famsup\",              # Rows for family support (yes/no)\n",
        "            row_order=[\"yes\", \"no\"])\n",
        "plt.show()"
      ]
    },
    {
      "cell_type": "markdown",
      "id": "J9NXwDFFwFMZ",
      "metadata": {
        "id": "J9NXwDFFwFMZ"
      },
      "source": [
        "## Custmizing Scatter Plots"
      ]
    },
    {
      "cell_type": "code",
      "execution_count": null,
      "id": "cBfQOA4J0jXu",
      "metadata": {
        "id": "cBfQOA4J0jXu"
      },
      "outputs": [],
      "source": [
        "# Load the air quality dataset containing NO2 pollution measurements\n",
        "# This dataset includes air pollution data from different cities and time periods\n",
        "air_quality = pd.read_csv(\"data/air_quality_no2_long.csv\")"
      ]
    },
    {
      "cell_type": "code",
      "execution_count": null,
      "id": "xdwm5uj50vgm",
      "metadata": {
        "id": "xdwm5uj50vgm"
      },
      "outputs": [],
      "source": [
        "air_quality.head()"
      ]
    },
    {
      "cell_type": "code",
      "execution_count": null,
      "id": "liRo7GpL0w3U",
      "metadata": {
        "id": "liRo7GpL0w3U"
      },
      "outputs": [],
      "source": [
        "# Convert 'date.utc' to datetime objects and extract the hour\n",
        "air_quality['date.utc'] = pd.to_datetime(air_quality['date.utc'])\n",
        "air_quality['hour'] = air_quality['date.utc'].dt.hour\n",
        "\n",
        "# Group by hour and location and calculate the mean of 'value' (assuming 'value' is the NO_2 measurement)\n",
        "air_df_mean = air_quality.groupby(['hour','location',\"country\"])['value'].mean().reset_index(name='NO_2_mean')"
      ]
    },
    {
      "cell_type": "code",
      "execution_count": null,
      "id": "VQixaer71Fpy",
      "metadata": {
        "id": "VQixaer71Fpy"
      },
      "outputs": [],
      "source": [
        "air_df_mean.head()"
      ]
    },
    {
      "cell_type": "code",
      "execution_count": null,
      "id": "5F0D1Ti_1Hv3",
      "metadata": {
        "id": "5F0D1Ti_1Hv3"
      },
      "outputs": [],
      "source": [
        "# kind=\"line\": Creates line plots instead of scatter plots using relplot\n",
        "# style parameter: Different line styles (solid, dashed, etc.) for each country\n",
        "# hue parameter: Different colors for each country\n",
        "# markers=True: Adds point markers to line plots for better visibility\n",
        "# Time series visualization: Line plots are ideal for showing trends over time\n",
        "sns.relplot(x=\"hour\",\n",
        "            y=\"NO_2_mean\",\n",
        "            data=air_df_mean,\n",
        "            kind=\"line\",      # Line plot for time series data\n",
        "            style=\"country\",  # Different line styles per country\n",
        "            hue=\"country\",    # Different colors per country\n",
        "            markers=True)     # Add markers to lines\n",
        "plt.show()"
      ]
    },
    {
      "cell_type": "code",
      "source": [
        "# Change to create subgroups for country of origin\n",
        "sns.relplot(x=\"model_year\", y=\"horsepower\",\n",
        "            data=mpg, kind=\"line\",\n",
        "            errorbar=None,\n",
        "            style=\"origin\",\n",
        "            hue=\"origin\")\n",
        "plt.show()"
      ],
      "metadata": {
        "id": "3Nj90Zrc8QWb"
      },
      "id": "3Nj90Zrc8QWb",
      "execution_count": null,
      "outputs": []
    },
    {
      "cell_type": "markdown",
      "source": [
        "## Visualizing a Categorical and a Quantitative Variable\n",
        "\n",
        "Categorical variables are present in nearly every dataset, but they are especially prominent in survey data. In this chapter, you will learn how to create and customize categorical plots such as box plots, bar plots, count plots, and point plots. Along the way, you will explore survey data from young people about their interests, students about their study habits, and adult men about their feelings about masculinity."
      ],
      "metadata": {
        "id": "o4-fLb0-DLsr"
      },
      "id": "o4-fLb0-DLsr"
    },
    {
      "cell_type": "code",
      "metadata": {
        "id": "075b4457"
      },
      "source": [
        "# Separate into column subplots based on age category\n",
        "sns.catplot(y=\"Internet usage\", data=survey_data,\n",
        "            kind=\"count\",\n",
        "            col=\"Age Category\",\n",
        "            hue=\"Internet usage\") # Add hue to color bars by Internet usage category\n",
        "\n",
        "# Show plot\n",
        "plt.show()"
      ],
      "id": "075b4457",
      "execution_count": null,
      "outputs": []
    },
    {
      "cell_type": "markdown",
      "source": [
        "### Bar plots with percentages\n",
        "\n",
        "Let's continue exploring the responses to a survey sent out to young people. The variable \"Interested in Math\" is True if the person reported being interested or very interested in mathematics, and False otherwise. What percentage of young people report being interested in math, and does this vary based on gender? Let's use a bar plot to find out.\n",
        "\n",
        "As a reminder, we'll create a bar plot using the catplot() function, providing the name of categorical variable to put on the x-axis (x=____), the name of the quantitative variable to summarize on the y-axis (y=____), the pandas DataFrame to use (data=____), and the type of categorical plot (kind=\"bar\")."
      ],
      "metadata": {
        "id": "xLL7NyvJV9Bx"
      },
      "id": "xLL7NyvJV9Bx"
    },
    {
      "cell_type": "code",
      "metadata": {
        "id": "e2ddbf8c"
      },
      "source": [
        "sns.catplot(x=\"Gender\",\n",
        "            y=\"Interested in math\",\n",
        "            data=survey_data,\n",
        "            kind=\"bar\",\n",
        "            hue=\"Gender\") # Add hue to color bars by Gender\n",
        "plt.show()"
      ],
      "id": "e2ddbf8c",
      "execution_count": null,
      "outputs": []
    },
    {
      "cell_type": "markdown",
      "source": [
        "### Customizing bar plots\n",
        "\n",
        "In this exercise, we'll explore data from students in secondary school. The \"study_time\" variable records each student's reported weekly study time as one of the following categories: \"<2 hours\", \"2 to 5 hours\", \"5 to 10 hours\", or \">10 hours\". Do students who report higher amounts of studying tend to get better final grades? Let's compare the average final grade among students in each category using a bar plot."
      ],
      "metadata": {
        "id": "RISGAXmVWR3e"
      },
      "id": "RISGAXmVWR3e"
    },
    {
      "cell_type": "code",
      "source": [
        "# Create bar plot of average final grade in each study category\n",
        "sns.catplot(x=\"study_time\",\n",
        "            y=\"G3\", kind=\"bar\",\n",
        "            data=student_data,\n",
        "            hue=\"study_time\")\n",
        "\n",
        "# Show plot\n",
        "plt.show()"
      ],
      "metadata": {
        "id": "tMTGuF_RWQ4w"
      },
      "id": "tMTGuF_RWQ4w",
      "execution_count": null,
      "outputs": []
    },
    {
      "cell_type": "code",
      "source": [
        "# List of categories from lowest to highest\n",
        "category_order = [\"<2 hours\",\n",
        "                  \"2 to 5 hours\",\n",
        "                  \"5 to 10 hours\",\n",
        "                  \">10 hours\"]\n",
        "\n",
        "# Rearrange the categories\n",
        "sns.catplot(x=\"study_time\", y=\"G3\", order=category_order,\n",
        "data=student_data, kind=\"bar\", hue=\"study_time\")\n",
        "\n",
        "# Show plot\n",
        "plt.show()"
      ],
      "metadata": {
        "id": "JL2-ayPjWkrr"
      },
      "id": "JL2-ayPjWkrr",
      "execution_count": null,
      "outputs": []
    },
    {
      "cell_type": "markdown",
      "source": [
        "### Create and interpret a box plot\n",
        "\n",
        "Let's continue using the student_data dataset. In an earlier exercise, we explored the relationship between studying and final grade by using a bar plot to compare the average final grade (`\"G3\"`) among students in different categories of `\"study_time\"`.\n",
        "\n",
        "In this exercise, we'll try using a box plot look at this relationship instead. As a reminder, to create a box plot you'll need to use the `catplot()` function and specify the name of the categorical variable to put on the x-axis (`x=____`), the name of the quantitative variable to summarize on the y-axis (`y=____`), the pandas DataFrame to use (`data=____`), and the type of plot (`kind=\"box\"`)."
      ],
      "metadata": {
        "id": "3_lO7PzXufWY"
      },
      "id": "3_lO7PzXufWY"
    },
    {
      "cell_type": "code",
      "source": [
        "# Specify the category ordering\n",
        "study_time_order = [\"<2 hours\", \"2 to 5 hours\",\n",
        "                    \"5 to 10 hours\", \">10 hours\"]\n",
        "\n",
        "# Create a box plot and set the order of the categories\n",
        "sns.catplot(x=\"study_time\",\n",
        "            y=\"G3\",\n",
        "            data=student_data,\n",
        "            kind=\"box\",\n",
        "            order=study_time_order,\n",
        "            hue=\"study_time\")\n",
        "\n",
        "# Show plot\n",
        "plt.show()"
      ],
      "metadata": {
        "id": "73halLnLulRA"
      },
      "id": "73halLnLulRA",
      "execution_count": null,
      "outputs": []
    },
    {
      "cell_type": "code",
      "source": [
        "# Create a box plot with subgroups and omit the outliers\n",
        "sns.catplot(x=\"internet\",\n",
        "            y=\"G3\",\n",
        "            data=student_data,\n",
        "            kind=\"box\",\n",
        "            showfliers=False,\n",
        "            hue=\"location\")\n",
        "\n",
        "# Show plot\n",
        "plt.show()"
      ],
      "metadata": {
        "id": "Pbw81f19v9rH"
      },
      "id": "Pbw81f19v9rH",
      "execution_count": null,
      "outputs": []
    },
    {
      "cell_type": "code",
      "source": [
        "# Set the whiskers to 0.5 * IQR\n",
        "\n",
        "sns.catplot(x=\"romantic\", y=\"G3\",\n",
        "            data=student_data,\n",
        "            kind=\"box\",\n",
        "            hue=\"romantic\",\n",
        "            whis=0.5)\n",
        "\n",
        "# Show plot\n",
        "plt.show()"
      ],
      "metadata": {
        "id": "rXkOxNtRxWF7"
      },
      "id": "rXkOxNtRxWF7",
      "execution_count": null,
      "outputs": []
    },
    {
      "cell_type": "code",
      "source": [
        "# Extend the whiskers to the 5th and 95th percentile\n",
        "sns.catplot(x=\"romantic\", y=\"G3\",\n",
        "            data=student_data,\n",
        "            kind=\"box\",\n",
        "            hue=\"romantic\",\n",
        "            whis=[5, 95])\n",
        "\n",
        "# Show plot\n",
        "plt.show()"
      ],
      "metadata": {
        "id": "05pFEWFTxrC2"
      },
      "id": "05pFEWFTxrC2",
      "execution_count": null,
      "outputs": []
    },
    {
      "cell_type": "code",
      "source": [
        "# Set the whiskers at the min and max values\n",
        "sns.catplot(x=\"romantic\", y=\"G3\",\n",
        "            data=student_data,\n",
        "            kind=\"box\",\n",
        "            whis=[0, 100])\n",
        "\n",
        "# Show plot\n",
        "plt.show()"
      ],
      "metadata": {
        "id": "qkFY8um6xupt"
      },
      "id": "qkFY8um6xupt",
      "execution_count": null,
      "outputs": []
    },
    {
      "cell_type": "markdown",
      "source": [
        "### Customizing point plots\n",
        "Let's continue to look at data from students in secondary school, this time using a point plot to answer the question: does the quality of the student's family relationship influence the number of absences the student has in school? Here, we'll use the `\"famrel\"` variable, which describes the quality of a student's family relationship from 1 (very bad) to 5 (very good).\n",
        "\n",
        "As a reminder, to create a point plot, use the `catplot()` function and specify the name of the categorical variable to put on the x-axis (`x=____`), the name of the quantitative variable to summarize on the y-axis (`y=____`), the pandas DataFrame to use (`data=____`), and the type of categorical plot (`kind=\"point\"`)."
      ],
      "metadata": {
        "id": "Q7amu80J2QUo"
      },
      "id": "Q7amu80J2QUo"
    },
    {
      "cell_type": "code",
      "source": [
        "# Create a point plot of family relationship vs. absences\n",
        "sns.catplot(x=\"famrel\",\n",
        "            y=\"absences\",\n",
        "            data=student_data,\n",
        "            kind=\"point\")\n",
        "\n",
        "# Show plot\n",
        "plt.show()"
      ],
      "metadata": {
        "id": "C-I5wZcg2gWI"
      },
      "id": "C-I5wZcg2gWI",
      "execution_count": null,
      "outputs": []
    },
    {
      "cell_type": "code",
      "source": [
        "# Add caps to the confidence interval\n",
        "sns.catplot(x=\"famrel\", y=\"absences\",\n",
        "            data=student_data,\n",
        "            kind=\"point\",\n",
        "            capsize=0.2)\n",
        "\n",
        "\n",
        "# Show plot\n",
        "plt.show()"
      ],
      "metadata": {
        "id": "6i8d2VEx3BjB"
      },
      "id": "6i8d2VEx3BjB",
      "execution_count": null,
      "outputs": []
    },
    {
      "cell_type": "code",
      "source": [
        "# Remove the lines joining the points\n",
        "sns.catplot(x=\"famrel\", y=\"absences\",\n",
        "\t\t\tdata=student_data,\n",
        "            kind=\"point\",\n",
        "            capsize=0.2,\n",
        "            linestyle=\"none\")\n",
        "\n",
        "# Show plot\n",
        "plt.show()"
      ],
      "metadata": {
        "id": "4LdyiB4-3CN1"
      },
      "id": "4LdyiB4-3CN1",
      "execution_count": null,
      "outputs": []
    },
    {
      "cell_type": "markdown",
      "source": [
        "Let's continue exploring the dataset of students in secondary school. This time, we'll ask the question: is being in a romantic relationship associated with higher or lower school attendance? And does this association differ by which school the students attend? Let's find out using a point plot."
      ],
      "metadata": {
        "id": "uOSqvFNN_JLh"
      },
      "id": "uOSqvFNN_JLh"
    },
    {
      "cell_type": "code",
      "source": [
        "# Turn off the confidence intervals for this plot\n",
        "sns.catplot(x=\"romantic\", y=\"absences\",\n",
        "\t\t\tdata=student_data,\n",
        "            kind=\"point\",\n",
        "            hue=\"school\",\n",
        "            errorbar=None)\n",
        "\n",
        "# Show plot\n",
        "plt.show()"
      ],
      "metadata": {
        "id": "r4BPi0zj31R_"
      },
      "id": "r4BPi0zj31R_",
      "execution_count": null,
      "outputs": []
    },
    {
      "cell_type": "markdown",
      "source": [
        "### Changing style and palette\n",
        "Let's return to our dataset containing the results of a survey given to young people about their habits and preferences. We've provided the code to create a count plot of their responses to the question \"How often do you listen to your parents' advice?\". Now let's change the style and palette to make this plot easier to interpret.\n"
      ],
      "metadata": {
        "id": "_g4DQy3PUNr7"
      },
      "id": "_g4DQy3PUNr7"
    },
    {
      "cell_type": "code",
      "source": [
        "# Apply a lambda function to the 'Parents' advice' column to map numerical values to descriptive strings\n",
        "survey_data[\"Parents' advice\"] = survey_data[\"Parents' advice\"].apply(lambda x: \"Never\" if x == 1 else (\"Rarely\" if x == 2 else (\"Sometimes\" if x == 3 else (\"Often\" if x == 4 else \"Always\"))))\n",
        "\n",
        "# Rename the 'Parents' advice' column to 'Parents Advice Category'\n",
        "survey_data.rename(columns={\"Parents' advice\": \"Parents Advice\"}, inplace=True)\n",
        "\n",
        "display(survey_data.head())"
      ],
      "metadata": {
        "id": "1trQMbgTU8Qy"
      },
      "id": "1trQMbgTU8Qy",
      "execution_count": null,
      "outputs": []
    },
    {
      "cell_type": "code",
      "source": [
        "# # Set the style to \"whitegrid\"\n",
        "sns.set_style(\"whitegrid\")\n",
        "sns.set_palette(\"Purples\")\n",
        "\n",
        "# Create a count plot of survey responses\n",
        "category_order = [\"Never\", \"Rarely\", \"Sometimes\",\n",
        "                  \"Often\", \"Always\"]\n",
        "\n",
        "sns.catplot(x=\"Parents Advice\",\n",
        "            data=survey_data,\n",
        "            kind=\"count\",\n",
        "            order=category_order,\n",
        "            hue=\"Parents Advice\")\n",
        "\n",
        "plt.show()"
      ],
      "metadata": {
        "id": "HnyGPcyfYza-"
      },
      "id": "HnyGPcyfYza-",
      "execution_count": null,
      "outputs": []
    },
    {
      "cell_type": "code",
      "source": [
        "# # Change the color palette to \"RdBu\"\n",
        "sns.set_style(\"whitegrid\")\n",
        "sns.set_palette(\"RdBu\")\n",
        "\n",
        "# Create a count plot of survey responses\n",
        "category_order = [\"Never\", \"Rarely\", \"Sometimes\",\n",
        "                  \"Often\", \"Always\"]\n",
        "\n",
        "sns.catplot(x=\"Parents Advice\",\n",
        "            data=survey_data,\n",
        "            kind=\"count\",\n",
        "            order=category_order,\n",
        "            hue=\"Parents Advice\")\n",
        "\n",
        "# Show plot\n",
        "plt.show()"
      ],
      "metadata": {
        "id": "1OU950I3ZF44"
      },
      "id": "1OU950I3ZF44",
      "execution_count": null,
      "outputs": []
    },
    {
      "cell_type": "code",
      "source": [
        "# 1. Define the per-group probability of feeling lonely\n",
        "probabilities = {\n",
        "    \"0\": 0.28,\n",
        "    \"1 - 2\": 0.265,\n",
        "    \"3+\": 0.29\n",
        "}\n",
        "\n",
        "# 2. Map each row’s sibling category to its probability (fall back to the mean if unexpected)\n",
        "row_probs = (\n",
        "    survey_data[\"Siblings\"]\n",
        "    .astype(str)\n",
        "    .map(probabilities)\n",
        "    .fillna(np.mean(list(probabilities.values())))\n",
        ")\n",
        "\n",
        "# 3. Perform a Bernoulli trial for each row\n",
        "random_values = np.random.rand(len(survey_data))\n",
        "survey_data[\"Feels Lonely\"] = random_values < row_probs"
      ],
      "metadata": {
        "id": "_01ZK9ZSbgco"
      },
      "id": "_01ZK9ZSbgco",
      "execution_count": null,
      "outputs": []
    },
    {
      "cell_type": "code",
      "source": [
        "# Set the context to \"paper\"\n",
        "sns.set_context(\"notebook\")\n",
        "\n",
        "# Create bar plot\n",
        "sns.catplot(x=\"Siblings\", y=\"Feels Lonely\",\n",
        "            data=survey_data, kind=\"bar\", hue=\"Siblings\")\n",
        "\n",
        "# Show plot\n",
        "plt.show()"
      ],
      "metadata": {
        "id": "PkewmIOhbifO"
      },
      "id": "PkewmIOhbifO",
      "execution_count": null,
      "outputs": []
    },
    {
      "cell_type": "code",
      "source": [
        "# Set the context to \"paper\"\n",
        "sns.set_context(\"paper\")\n",
        "\n",
        "# Create bar plot\n",
        "sns.catplot(x=\"Siblings\", y=\"Feels Lonely\",\n",
        "            data=survey_data, kind=\"bar\", hue=\"Siblings\")\n",
        "\n",
        "# Show plot\n",
        "plt.show()"
      ],
      "metadata": {
        "id": "vU2T3JP8f-ib"
      },
      "id": "vU2T3JP8f-ib",
      "execution_count": null,
      "outputs": []
    },
    {
      "cell_type": "code",
      "source": [
        "# Set the context to \"poster\"\n",
        "sns.set_context(\"poster\")\n",
        "\n",
        "# Create bar plot\n",
        "sns.catplot(x=\"Siblings\", y=\"Feels Lonely\",\n",
        "            data=survey_data, kind=\"bar\", hue=\"Siblings\",\n",
        "            height=6, aspect=1.5) # Added height and aspect for better layout\n",
        "\n",
        "# Show plot\n",
        "plt.show()"
      ],
      "metadata": {
        "id": "PEX0NNcif_A0"
      },
      "id": "PEX0NNcif_A0",
      "execution_count": null,
      "outputs": []
    },
    {
      "cell_type": "code",
      "source": [
        "# Set the style to \"darkgrid\"\n",
        "sns.set_style(\"darkgrid\")\n",
        "sns.set_context(\"notebook\")\n",
        "\n",
        "# Set a custom color palette\n",
        "custom_palette = [\"#39A7D0\", \"#36ADA4\"]\n",
        "\n",
        "sns.set_palette(custom_palette)\n",
        "\n",
        "# Create the box plot of age distribution by gender\n",
        "sns.catplot(x=\"Gender\", y=\"Age\",\n",
        "            data=survey_data, kind=\"box\", hue=\"Gender\")\n",
        "\n",
        "# Show plot\n",
        "plt.show()"
      ],
      "metadata": {
        "id": "y0M_uQfj9sTg"
      },
      "id": "y0M_uQfj9sTg",
      "execution_count": null,
      "outputs": []
    },
    {
      "cell_type": "markdown",
      "source": [
        "**FacetGrid**\n",
        "\n",
        "- **Level**: Figure-level  \n",
        "- **Primary functions**: `relplot()`, `catplot()`, `displot()`, `histplot()`, `ecdfplot()`  \n",
        "- **Returned object**: `FacetGrid`  \n",
        "- **Key characteristics**:  \n",
        "  - Builds a grid of subplots based on `row`, `col` and/or `hue`.  \n",
        "  - Apply axes-level plots via `.map()` or `.map_dataframe()`.  \n",
        "  - Methods available: `.set_axis_labels()`, `.add_legend()`, `.set_titles()`, and access to `.fig` for layout control.\n",
        "\n",
        "**PairGrid**\n",
        "\n",
        "- **Level**: Figure-level  \n",
        "- **Primary functions**: `pairplot()`, direct via `PairGrid(data, ...)`  \n",
        "- **Returned object**: `PairGrid`  \n",
        "- **Key characteristics**:  \n",
        "  - Matrix of axes for every pairwise variable combination.  \n",
        "  - Assign plots with `.map_upper()`, `.map_lower()`, `.map_diag()`.  \n",
        "  - Fine-grained control over individual cells.\n",
        "\n",
        "**JointGrid**\n",
        "\n",
        "- **Level**: Figure-level  \n",
        "- **Primary functions**: `jointplot(kind='scatter'|'hex'|'kde'|'hist'|'reg')`, direct via `JointGrid()`  \n",
        "- **Returned object**: `JointGrid`  \n",
        "- **Key characteristics**:  \n",
        "  - Central bivariate plot with marginal distributions on top and right.  \n",
        "  - Configure sections using `.plot_joint()` and `.plot_marginals()`.  \n",
        "  - Annotation with `.annotate()`, axis labels via `.set_axis_labels()`, and legend management.\n",
        "\n",
        "**AxesSubplot**\n",
        "\n",
        "- **Level**: Axes-level  \n",
        "- **Primary functions**: `scatterplot()`, `lineplot()`, `histplot()`, `kdeplot()`, `boxplot()`, `violinplot()`, `barplot()`, `countplot()`, `heatmap()`, etc.  \n",
        "- **Returned object**: Matplotlib’s `AxesSubplot`  \n",
        "- **Key characteristics**:  \n",
        "  - Single axes for precise layering and annotation.  \n",
        "  - Chain Matplotlib methods: `.set_title()`, `.set_xlabel()`, `.invert_xaxis()`, `.tick_params()`, `.legend()`.  \n",
        "  - Ideal for detailed styling or combining multiple plot types on the same axes.\n",
        "\n",
        "Use figure-level APIs for automated faceting with high-level parameters (`hue`, `row`, `col`, `height`, `aspect`). Opt for axes-level functions when you need detailed control over an individual plot or wish to layer multiple elements on one axes.  \n"
      ],
      "metadata": {
        "id": "8H0ZSyj1_S9y"
      },
      "id": "8H0ZSyj1_S9y"
    },
    {
      "cell_type": "markdown",
      "source": [
        "### FacetGrids vs. AxesSubplots\n",
        "In the recent lesson, we learned that Seaborn plot functions create two different types of objects: `FacetGrid` objects and `AxesSubplot` objects. The method for adding a title to your plot will differ depending on the type of object it is.\n",
        "\n",
        "In the code provided, we've used `relplot()` with the miles per gallon dataset to create a scatter plot showing the relationship between a car's weight and its horsepower. This scatter plot is assigned to the variable name g. Let's identify which type of object it is."
      ],
      "metadata": {
        "id": "vur2jTAxHPkG"
      },
      "id": "vur2jTAxHPkG"
    },
    {
      "cell_type": "code",
      "source": [
        "# Create scatter plot\n",
        "g = sns.relplot(x=\"weight\",\n",
        "                y=\"horsepower\",\n",
        "                data=mpg,\n",
        "                kind=\"scatter\")\n",
        "\n",
        "# Identify plot type\n",
        "type_of_g = type(g)\n",
        "\n",
        "# Print type\n",
        "print(type_of_g)"
      ],
      "metadata": {
        "id": "4BMBxi4S-K1I"
      },
      "id": "4BMBxi4S-K1I",
      "execution_count": null,
      "outputs": []
    },
    {
      "cell_type": "code",
      "source": [
        "# Set a different palette and a different style\n",
        "g = sns.color_palette(\"dark:#5A9_r\", as_cmap=True)\n",
        "g = sns.set_style(\"whitegrid\")\n",
        "\n",
        "# Create scatter plot\n",
        "g = sns.relplot(x=\"weight\",\n",
        "                y=\"horsepower\",\n",
        "                data=mpg,\n",
        "                kind=\"scatter\",\n",
        "                hue=\"weight\")\n",
        "\n",
        "# Add a title \"Car Weight vs. Horsepower\" and move it upwards\n",
        "g.fig.suptitle(\"Car Weight vs. Horsepower\", y=1.02)\n",
        "\n",
        "# Show plot\n",
        "plt.show()"
      ],
      "metadata": {
        "id": "McRdsHOdIj5J"
      },
      "id": "McRdsHOdIj5J",
      "execution_count": null,
      "outputs": []
    },
    {
      "cell_type": "markdown",
      "source": [
        "### Adding a title and axis labels\n",
        "Let's continue to look at the miles per gallon dataset. This time we'll create a line plot to answer the question: How does the average miles per gallon achieved by cars change over time for each of the three places of origin? To improve the readability of this plot, we'll add a title and more informative axis labels.\n",
        "\n",
        "In the code provided, we create the line plot using the `lineplot()` function. Note that `lineplot()` does not support the creation of subplots, so it returns an AxesSubplot object instead of an FacetGrid object."
      ],
      "metadata": {
        "id": "fxiLWz6yVnwH"
      },
      "id": "fxiLWz6yVnwH"
    },
    {
      "cell_type": "code",
      "source": [
        "mpg_mean = mpg.groupby([\"model_year\", \"origin\"])[\"mpg\"].mean().reset_index(name='mpg_mean')\n",
        "display(mpg_mean.head())"
      ],
      "metadata": {
        "id": "2nKdWK1mWKTh"
      },
      "id": "2nKdWK1mWKTh",
      "execution_count": null,
      "outputs": []
    },
    {
      "cell_type": "code",
      "source": [
        "# Set default seaborn color palette\n",
        "sns.color_palette(\"tab10\")\n",
        "\n",
        "# Create line plot\n",
        "g = sns.lineplot(x=\"model_year\", y=\"mpg_mean\",\n",
        "                 data=mpg_mean,\n",
        "                 hue=\"origin\")\n",
        "\n",
        "# Add a title \"Average MPG Over Time\"\n",
        "g.set_title(\"Average MPG Over Time\")\n",
        "\n",
        "# Show plot\n",
        "plt.show()"
      ],
      "metadata": {
        "id": "n4qPZZ3QIlAO"
      },
      "id": "n4qPZZ3QIlAO",
      "execution_count": null,
      "outputs": []
    },
    {
      "cell_type": "code",
      "source": [
        "# Create line plot\n",
        "g = sns.lineplot(x=\"model_year\", y=\"mpg_mean\",\n",
        "                 data=mpg_mean,\n",
        "                 hue=\"origin\")\n",
        "\n",
        "# Add a title \"Average MPG Over Time\"\n",
        "g.set_title(\"Average MPG Over Time\")\n",
        "\n",
        "# Add x-axis and y-axis labels\n",
        "g.set(xlabel=\"Car Model Year\", ylabel=\"Average MPG\")\n",
        "\n",
        "\n",
        "# Show plot\n",
        "plt.show()"
      ],
      "metadata": {
        "id": "P5H124xlXoj_"
      },
      "id": "P5H124xlXoj_",
      "execution_count": null,
      "outputs": []
    },
    {
      "cell_type": "markdown",
      "source": [
        "### Rotating x-tick labels\n",
        "In this exercise, we'll continue looking at the miles per gallon dataset. In the code provided, we create a point plot that displays the average acceleration for cars in each of the three places of origin. Note that the \"acceleration\" variable is the time to accelerate from 0 to 60 miles per hour, in seconds. Higher values indicate slower acceleration.\n",
        "\n",
        "Let's use this plot to practice rotating the x-tick labels. Recall that the function to rotate x-tick labels is a standalone Matplotlib function and not a function applied to the plot object itself."
      ],
      "metadata": {
        "id": "4zj1jYymYmPT"
      },
      "id": "4zj1jYymYmPT"
    },
    {
      "cell_type": "code",
      "source": [
        "# Create point plot\n",
        "sns.catplot(x=\"origin\",\n",
        "            y=\"acceleration\",\n",
        "            data=mpg,\n",
        "            kind=\"point\",\n",
        "            linestyle=\"none\",\n",
        "            capsize=0.1)\n",
        "\n",
        "# Rotate x-tick labels\n",
        "plt.xticks(rotation=90)\n",
        "\n",
        "# Show plot\n",
        "plt.show()"
      ],
      "metadata": {
        "id": "hFZk7w-SYp92"
      },
      "id": "hFZk7w-SYp92",
      "execution_count": null,
      "outputs": []
    },
    {
      "cell_type": "markdown",
      "source": [
        "### Box plot with subgroups\n",
        "In this exercise, we'll look at the dataset containing responses from a survey given to young people. One of the questions asked of the young people was: \"Are you interested in having pets?\" Let's explore whether the distribution of ages of those answering \"yes\" tends to be higher or lower than those answering \"no\", controlling for gender."
      ],
      "metadata": {
        "id": "E6lcQWcvdG5y"
      },
      "id": "E6lcQWcvdG5y"
    },
    {
      "cell_type": "code",
      "source": [
        "# Set palette to \"Blues\"\n",
        "sns.set_palette(\"Blues\")\n",
        "\n",
        "# Adjust to add subgroups based on \"Interested in Pets\"\n",
        "g = sns.catplot(x=\"Gender\",\n",
        "                y=\"Age\", data=survey_data,\n",
        "                kind=\"box\", hue=\"Pets\")\n",
        "\n",
        "# Set title to \"Age of Those Interested in Pets vs. Not\"\n",
        "g.fig.suptitle(\"Age of Those Interested in Pets vs. Not\")\n",
        "\n",
        "# Show plot\n",
        "plt.show()"
      ],
      "metadata": {
        "id": "--29wYg9YtB-"
      },
      "id": "--29wYg9YtB-",
      "execution_count": null,
      "outputs": []
    },
    {
      "cell_type": "markdown",
      "source": [
        "### Bar plot with subgroups and subplots\n",
        "In this exercise, we'll return to our young people survey dataset and investigate whether the proportion of people who like techno music (`\"Likes Techno\"`) varies by their gender (`\"Gender\"`) or where they live (`\"Village - town\"`). This exercise will give us an opportunity to practice the many things we've learned throughout this course!"
      ],
      "metadata": {
        "id": "FN9mICaadQ0n"
      },
      "id": "FN9mICaadQ0n"
    },
    {
      "cell_type": "code",
      "source": [
        "# Set the figure style to \"dark\"\n",
        "sns.set_style(\"dark\")\n",
        "\n",
        "# Adjust to add subplots per gender\n",
        "g = sns.catplot(x=\"Village - town\", y=\"Techno\",\n",
        "                data=survey_data, kind=\"bar\",\n",
        "                col=\"Gender\",\n",
        "                palette=\"magma\") # Pass the palette directly to catplot\n",
        "\n",
        "# Add title and axis labels\n",
        "g.fig.suptitle(\"Percentage of Young People Who Like Techno\", y=1.02)\n",
        "g.set(xlabel=\"Location of Residence\",\n",
        "       ylabel=\"% Who Like Techno\")\n",
        "\n",
        "# Show plot\n",
        "plt.show()"
      ],
      "metadata": {
        "id": "EYmdsObidwoF"
      },
      "id": "EYmdsObidwoF",
      "execution_count": null,
      "outputs": []
    },
    {
      "cell_type": "code",
      "source": [],
      "metadata": {
        "id": "WOSAf6EPd0CC"
      },
      "id": "WOSAf6EPd0CC",
      "execution_count": null,
      "outputs": []
    },
    {
      "cell_type": "code",
      "metadata": {
        "colab": {
          "base_uri": "https://localhost:8080/"
        },
        "id": "345128bf",
        "outputId": "b44cbe3d-c1e6-4252-b089-d6f9c7a1999d"
      },
      "source": [
        "# Read the raw content of the student-mat.csv file\n",
        "with open('data/student-mat.csv', 'r', encoding='utf-8') as f:\n",
        "    # Print the first 20 lines to inspect the format\n",
        "    for i in range(20):\n",
        "        print(f.readline())"
      ],
      "id": "345128bf",
      "execution_count": 12,
      "outputs": [
        {
          "output_type": "stream",
          "name": "stdout",
          "text": [
            "\n",
            "\n",
            "\n",
            "\n",
            "\n",
            "\n",
            "\n",
            "\n",
            "\n",
            "\n",
            "\n",
            "\n",
            "<!DOCTYPE html>\n",
            "\n",
            "<html\n",
            "\n",
            "  lang=\"en\"\n",
            "\n",
            "  \n",
            "\n",
            "  data-color-mode=\"auto\" data-light-theme=\"light\" data-dark-theme=\"dark\"\n",
            "\n",
            "  data-a11y-animated-images=\"system\" data-a11y-link-underlines=\"true\"\n",
            "\n",
            "  \n",
            "\n",
            "  >\n",
            "\n",
            "\n",
            "\n",
            "\n",
            "\n",
            "\n",
            "\n",
            "  <head>\n",
            "\n",
            "    <meta charset=\"utf-8\">\n",
            "\n",
            "  <link rel=\"dns-prefetch\" href=\"https://github.githubassets.com\">\n",
            "\n"
          ]
        }
      ]
    }
  ],
  "metadata": {
    "colab": {
      "machine_shape": "hm",
      "provenance": [],
      "include_colab_link": true
    },
    "kernelspec": {
      "display_name": ".conda",
      "language": "python",
      "name": "python3"
    },
    "language_info": {
      "name": "python",
      "version": "3.11.11"
    }
  },
  "nbformat": 4,
  "nbformat_minor": 5
}