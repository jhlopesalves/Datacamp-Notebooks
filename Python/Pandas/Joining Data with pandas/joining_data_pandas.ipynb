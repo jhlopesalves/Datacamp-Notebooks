{
 "cells": [
  {
   "cell_type": "markdown",
   "id": "ed3b69c2",
   "metadata": {},
   "source": [
    "# Merging Data with Pandas\n",
    "\n",
    "## Introduction\n",
    "\n",
    "In real-world data analysis, information is rarely stored in a single monolithic table. Instead, data is typically distributed across multiple sources, each representing different aspects, entities, or time periods of the system under study. Combining these disparate tables - **merging** - is a foundational operation in data wrangling, much like performing SQL joins in a relational database. Effective merging allows you to enrich datasets, assemble complete records, and unlock the analytical power of relational thinking.\n",
    "\n",
    "## The Essence of Merging\n",
    "\n",
    "### What is a Merge (Join)?\n",
    "\n",
    "A **merge** combines two or more tables (DataFrames) based on the values of one or more shared columns, called **keys**. This process is analogous to SQL joins, enabling you to bring together related information from separate sources.\n",
    "\n",
    "### The Most Common Join: **Inner Join**\n",
    "\n",
    "**Intuition:**  \n",
    "An *inner join* retrieves only the rows that have matching key values in **both** DataFrames. It acts as a filter - retaining only those records for which the relationship exists in all datasets involved.\n",
    "\n",
    "- If you imagine each table as a circle in a Venn diagram, an inner join corresponds to the overlapping region: only values present in both circles are included in the result.\n",
    "- This is the default behaviour in Pandas' `merge` function.\n",
    "\n",
    "**When to use:**  \n",
    "- When you want to analyse only the “shared universe” of your datasets - i.e., where data is available in all sources.\n",
    "\n",
    "### Syntax: `pd.merge()`\n",
    "\n",
    "The principal function for table merging in Pandas is `pd.merge()`. The basic usage is:\n",
    "\n",
    "```python\n",
    "import pandas as pd\n",
    "\n",
    "merged_df = pd.merge(\n",
    "    left=table1,\n",
    "    right=table2,\n",
    "    on=\"key_column\"        # or on=[\"key1\", \"key2\"] for composite keys\n",
    ")\n",
    "```\n",
    "- By default, this performs an **inner join** on the specified key(s).\n",
    "\n",
    "\n",
    "### Example: Inner Join with a Common Key\n",
    "\n",
    "Suppose you have two DataFrames, each with a `\"user_id\"` column representing the entity to join on:\n",
    "\n",
    "```python\n",
    "merged_df = pd.merge(left=users, right=purchases, on=\"user_id\")\n",
    "```\n",
    "- Only users with purchase records - and vice versa - are included in the result.\n",
    "\n",
    "### Handling Overlapping Column Names: The `suffixes` Argument\n",
    "\n",
    "When both tables have columns with the same name (apart from the join key), Pandas automatically appends suffixes to distinguish them. You can customise these using the `suffixes` argument:\n",
    "\n",
    "```python\n",
    "merged_df = pd.merge(\n",
    "    left=table1,\n",
    "    right=table2,\n",
    "    on=\"id\",\n",
    "    suffixes=(\"_left\", \"_right\")\n",
    ")\n",
    "```\n",
    "- This ensures the resulting DataFrame remains unambiguous and self-explanatory.\n",
    "\n",
    "## Best Practices\n",
    "\n",
    "- **Explicit key columns:** Always specify the `on=` argument to avoid subtle merge errors, especially when column names are similar but not identical.\n",
    "- **Review join types:** Inner joins are safe and conservative, but for broader analyses, consider left, right, or outer joins (see Pandas documentation).\n",
    "- **Inspect results:** Always check the shape and sample rows of your merged DataFrame (`.shape`, `.head()`) to ensure correctness.\n",
    "- **Column name hygiene:** Use `suffixes` to manage naming collisions for maximum interpretability.\n",
    "\n"
   ]
  },
  {
   "cell_type": "code",
   "execution_count": 1,
   "id": "040f37df",
   "metadata": {},
   "outputs": [],
   "source": [
    "import matplotlib.pyplot as plt\n",
    "import numpy as np\n",
    "import pandas as pd \n",
    "import seaborn as sns \n",
    "import os "
   ]
  },
  {
   "cell_type": "code",
   "execution_count": 2,
   "id": "d45bd573",
   "metadata": {},
   "outputs": [],
   "source": [
    "wards = pd.read_pickle(\"data/ward.p\")\n",
    "census = pd.read_pickle(\"data/census.p\")"
   ]
  },
  {
   "cell_type": "code",
   "execution_count": 3,
   "id": "5b496ebf",
   "metadata": {},
   "outputs": [
    {
     "data": {
      "application/vnd.microsoft.datawrangler.viewer.v0+json": {
       "columns": [
        {
         "name": "index",
         "rawType": "int64",
         "type": "integer"
        },
        {
         "name": "ward",
         "rawType": "object",
         "type": "string"
        },
        {
         "name": "alderman",
         "rawType": "object",
         "type": "string"
        },
        {
         "name": "address",
         "rawType": "object",
         "type": "string"
        },
        {
         "name": "zip",
         "rawType": "object",
         "type": "string"
        }
       ],
       "ref": "d8cf91c8-ebf1-4440-adb3-8766347e1036",
       "rows": [
        [
         "0",
         "1",
         "Proco \"Joe\" Moreno",
         "2058 NORTH WESTERN AVENUE",
         "60647"
        ],
        [
         "1",
         "2",
         "Brian Hopkins",
         "1400 NORTH  ASHLAND AVENUE",
         "60622"
        ],
        [
         "2",
         "3",
         "Pat Dowell",
         "5046 SOUTH STATE STREET",
         "60609"
        ],
        [
         "3",
         "4",
         "William D. Burns",
         "435 EAST 35TH STREET, 1ST FLOOR",
         "60616"
        ],
        [
         "4",
         "5",
         "Leslie A. Hairston",
         "2325 EAST 71ST STREET",
         "60649"
        ]
       ],
       "shape": {
        "columns": 4,
        "rows": 5
       }
      },
      "text/html": [
       "<div>\n",
       "<style scoped>\n",
       "    .dataframe tbody tr th:only-of-type {\n",
       "        vertical-align: middle;\n",
       "    }\n",
       "\n",
       "    .dataframe tbody tr th {\n",
       "        vertical-align: top;\n",
       "    }\n",
       "\n",
       "    .dataframe thead th {\n",
       "        text-align: right;\n",
       "    }\n",
       "</style>\n",
       "<table border=\"1\" class=\"dataframe\">\n",
       "  <thead>\n",
       "    <tr style=\"text-align: right;\">\n",
       "      <th></th>\n",
       "      <th>ward</th>\n",
       "      <th>alderman</th>\n",
       "      <th>address</th>\n",
       "      <th>zip</th>\n",
       "    </tr>\n",
       "  </thead>\n",
       "  <tbody>\n",
       "    <tr>\n",
       "      <th>0</th>\n",
       "      <td>1</td>\n",
       "      <td>Proco \"Joe\" Moreno</td>\n",
       "      <td>2058 NORTH WESTERN AVENUE</td>\n",
       "      <td>60647</td>\n",
       "    </tr>\n",
       "    <tr>\n",
       "      <th>1</th>\n",
       "      <td>2</td>\n",
       "      <td>Brian Hopkins</td>\n",
       "      <td>1400 NORTH  ASHLAND AVENUE</td>\n",
       "      <td>60622</td>\n",
       "    </tr>\n",
       "    <tr>\n",
       "      <th>2</th>\n",
       "      <td>3</td>\n",
       "      <td>Pat Dowell</td>\n",
       "      <td>5046 SOUTH STATE STREET</td>\n",
       "      <td>60609</td>\n",
       "    </tr>\n",
       "    <tr>\n",
       "      <th>3</th>\n",
       "      <td>4</td>\n",
       "      <td>William D. Burns</td>\n",
       "      <td>435 EAST 35TH STREET, 1ST FLOOR</td>\n",
       "      <td>60616</td>\n",
       "    </tr>\n",
       "    <tr>\n",
       "      <th>4</th>\n",
       "      <td>5</td>\n",
       "      <td>Leslie A. Hairston</td>\n",
       "      <td>2325 EAST 71ST STREET</td>\n",
       "      <td>60649</td>\n",
       "    </tr>\n",
       "  </tbody>\n",
       "</table>\n",
       "</div>"
      ],
      "text/plain": [
       "  ward            alderman                          address    zip\n",
       "0    1  Proco \"Joe\" Moreno        2058 NORTH WESTERN AVENUE  60647\n",
       "1    2       Brian Hopkins       1400 NORTH  ASHLAND AVENUE  60622\n",
       "2    3          Pat Dowell          5046 SOUTH STATE STREET  60609\n",
       "3    4    William D. Burns  435 EAST 35TH STREET, 1ST FLOOR  60616\n",
       "4    5  Leslie A. Hairston            2325 EAST 71ST STREET  60649"
      ]
     },
     "execution_count": 3,
     "metadata": {},
     "output_type": "execute_result"
    }
   ],
   "source": [
    "wards.head()"
   ]
  },
  {
   "cell_type": "code",
   "execution_count": 4,
   "id": "cd992382",
   "metadata": {},
   "outputs": [
    {
     "data": {
      "application/vnd.microsoft.datawrangler.viewer.v0+json": {
       "columns": [
        {
         "name": "index",
         "rawType": "int64",
         "type": "integer"
        },
        {
         "name": "ward",
         "rawType": "object",
         "type": "string"
        },
        {
         "name": "pop_2000",
         "rawType": "int64",
         "type": "integer"
        },
        {
         "name": "pop_2010",
         "rawType": "int64",
         "type": "integer"
        },
        {
         "name": "change",
         "rawType": "object",
         "type": "string"
        },
        {
         "name": "address",
         "rawType": "object",
         "type": "string"
        },
        {
         "name": "zip",
         "rawType": "object",
         "type": "string"
        }
       ],
       "ref": "4517ceea-61f5-4f21-98e5-c2f66a53ed39",
       "rows": [
        [
         "0",
         "1",
         "52951",
         "56149",
         "6%",
         "2765 WEST SAINT MARY STREET",
         "60647"
        ],
        [
         "1",
         "2",
         "54361",
         "55805",
         "3%",
         "WM WASTE MANAGEMENT 1500",
         "60622"
        ],
        [
         "2",
         "3",
         "40385",
         "53039",
         "31%",
         "17 EAST 38TH STREET",
         "60653"
        ],
        [
         "3",
         "4",
         "51953",
         "54589",
         "5%",
         "31ST ST HARBOR BUILDING LAKEFRONT TRAIL",
         "60653"
        ],
        [
         "4",
         "5",
         "55302",
         "51455",
         "-7%",
         "JACKSON PARK LAGOON SOUTH CORNELL DRIVE",
         "60637"
        ]
       ],
       "shape": {
        "columns": 6,
        "rows": 5
       }
      },
      "text/html": [
       "<div>\n",
       "<style scoped>\n",
       "    .dataframe tbody tr th:only-of-type {\n",
       "        vertical-align: middle;\n",
       "    }\n",
       "\n",
       "    .dataframe tbody tr th {\n",
       "        vertical-align: top;\n",
       "    }\n",
       "\n",
       "    .dataframe thead th {\n",
       "        text-align: right;\n",
       "    }\n",
       "</style>\n",
       "<table border=\"1\" class=\"dataframe\">\n",
       "  <thead>\n",
       "    <tr style=\"text-align: right;\">\n",
       "      <th></th>\n",
       "      <th>ward</th>\n",
       "      <th>pop_2000</th>\n",
       "      <th>pop_2010</th>\n",
       "      <th>change</th>\n",
       "      <th>address</th>\n",
       "      <th>zip</th>\n",
       "    </tr>\n",
       "  </thead>\n",
       "  <tbody>\n",
       "    <tr>\n",
       "      <th>0</th>\n",
       "      <td>1</td>\n",
       "      <td>52951</td>\n",
       "      <td>56149</td>\n",
       "      <td>6%</td>\n",
       "      <td>2765 WEST SAINT MARY STREET</td>\n",
       "      <td>60647</td>\n",
       "    </tr>\n",
       "    <tr>\n",
       "      <th>1</th>\n",
       "      <td>2</td>\n",
       "      <td>54361</td>\n",
       "      <td>55805</td>\n",
       "      <td>3%</td>\n",
       "      <td>WM WASTE MANAGEMENT 1500</td>\n",
       "      <td>60622</td>\n",
       "    </tr>\n",
       "    <tr>\n",
       "      <th>2</th>\n",
       "      <td>3</td>\n",
       "      <td>40385</td>\n",
       "      <td>53039</td>\n",
       "      <td>31%</td>\n",
       "      <td>17 EAST 38TH STREET</td>\n",
       "      <td>60653</td>\n",
       "    </tr>\n",
       "    <tr>\n",
       "      <th>3</th>\n",
       "      <td>4</td>\n",
       "      <td>51953</td>\n",
       "      <td>54589</td>\n",
       "      <td>5%</td>\n",
       "      <td>31ST ST HARBOR BUILDING LAKEFRONT TRAIL</td>\n",
       "      <td>60653</td>\n",
       "    </tr>\n",
       "    <tr>\n",
       "      <th>4</th>\n",
       "      <td>5</td>\n",
       "      <td>55302</td>\n",
       "      <td>51455</td>\n",
       "      <td>-7%</td>\n",
       "      <td>JACKSON PARK LAGOON SOUTH CORNELL DRIVE</td>\n",
       "      <td>60637</td>\n",
       "    </tr>\n",
       "  </tbody>\n",
       "</table>\n",
       "</div>"
      ],
      "text/plain": [
       "  ward  pop_2000  pop_2010 change                                  address  \\\n",
       "0    1     52951     56149     6%              2765 WEST SAINT MARY STREET   \n",
       "1    2     54361     55805     3%                 WM WASTE MANAGEMENT 1500   \n",
       "2    3     40385     53039    31%                      17 EAST 38TH STREET   \n",
       "3    4     51953     54589     5%  31ST ST HARBOR BUILDING LAKEFRONT TRAIL   \n",
       "4    5     55302     51455    -7%  JACKSON PARK LAGOON SOUTH CORNELL DRIVE   \n",
       "\n",
       "     zip  \n",
       "0  60647  \n",
       "1  60622  \n",
       "2  60653  \n",
       "3  60653  \n",
       "4  60637  "
      ]
     },
     "execution_count": 4,
     "metadata": {},
     "output_type": "execute_result"
    }
   ],
   "source": [
    "census.head()"
   ]
  },
  {
   "cell_type": "code",
   "execution_count": 5,
   "id": "2de29fef",
   "metadata": {},
   "outputs": [
    {
     "data": {
      "application/vnd.microsoft.datawrangler.viewer.v0+json": {
       "columns": [
        {
         "name": "index",
         "rawType": "int64",
         "type": "integer"
        },
        {
         "name": "ward",
         "rawType": "object",
         "type": "string"
        },
        {
         "name": "alderman",
         "rawType": "object",
         "type": "string"
        },
        {
         "name": "address_x",
         "rawType": "object",
         "type": "string"
        },
        {
         "name": "zip_x",
         "rawType": "object",
         "type": "string"
        },
        {
         "name": "pop_2000",
         "rawType": "int64",
         "type": "integer"
        },
        {
         "name": "pop_2010",
         "rawType": "int64",
         "type": "integer"
        },
        {
         "name": "change",
         "rawType": "object",
         "type": "string"
        },
        {
         "name": "address_y",
         "rawType": "object",
         "type": "string"
        },
        {
         "name": "zip_y",
         "rawType": "object",
         "type": "string"
        }
       ],
       "ref": "1c3bece1-733d-4408-a24d-8940d9ab7947",
       "rows": [
        [
         "0",
         "1",
         "Proco \"Joe\" Moreno",
         "2058 NORTH WESTERN AVENUE",
         "60647",
         "52951",
         "56149",
         "6%",
         "2765 WEST SAINT MARY STREET",
         "60647"
        ],
        [
         "1",
         "2",
         "Brian Hopkins",
         "1400 NORTH  ASHLAND AVENUE",
         "60622",
         "54361",
         "55805",
         "3%",
         "WM WASTE MANAGEMENT 1500",
         "60622"
        ],
        [
         "2",
         "3",
         "Pat Dowell",
         "5046 SOUTH STATE STREET",
         "60609",
         "40385",
         "53039",
         "31%",
         "17 EAST 38TH STREET",
         "60653"
        ],
        [
         "3",
         "4",
         "William D. Burns",
         "435 EAST 35TH STREET, 1ST FLOOR",
         "60616",
         "51953",
         "54589",
         "5%",
         "31ST ST HARBOR BUILDING LAKEFRONT TRAIL",
         "60653"
        ],
        [
         "4",
         "5",
         "Leslie A. Hairston",
         "2325 EAST 71ST STREET",
         "60649",
         "55302",
         "51455",
         "-7%",
         "JACKSON PARK LAGOON SOUTH CORNELL DRIVE",
         "60637"
        ]
       ],
       "shape": {
        "columns": 9,
        "rows": 5
       }
      },
      "text/html": [
       "<div>\n",
       "<style scoped>\n",
       "    .dataframe tbody tr th:only-of-type {\n",
       "        vertical-align: middle;\n",
       "    }\n",
       "\n",
       "    .dataframe tbody tr th {\n",
       "        vertical-align: top;\n",
       "    }\n",
       "\n",
       "    .dataframe thead th {\n",
       "        text-align: right;\n",
       "    }\n",
       "</style>\n",
       "<table border=\"1\" class=\"dataframe\">\n",
       "  <thead>\n",
       "    <tr style=\"text-align: right;\">\n",
       "      <th></th>\n",
       "      <th>ward</th>\n",
       "      <th>alderman</th>\n",
       "      <th>address_x</th>\n",
       "      <th>zip_x</th>\n",
       "      <th>pop_2000</th>\n",
       "      <th>pop_2010</th>\n",
       "      <th>change</th>\n",
       "      <th>address_y</th>\n",
       "      <th>zip_y</th>\n",
       "    </tr>\n",
       "  </thead>\n",
       "  <tbody>\n",
       "    <tr>\n",
       "      <th>0</th>\n",
       "      <td>1</td>\n",
       "      <td>Proco \"Joe\" Moreno</td>\n",
       "      <td>2058 NORTH WESTERN AVENUE</td>\n",
       "      <td>60647</td>\n",
       "      <td>52951</td>\n",
       "      <td>56149</td>\n",
       "      <td>6%</td>\n",
       "      <td>2765 WEST SAINT MARY STREET</td>\n",
       "      <td>60647</td>\n",
       "    </tr>\n",
       "    <tr>\n",
       "      <th>1</th>\n",
       "      <td>2</td>\n",
       "      <td>Brian Hopkins</td>\n",
       "      <td>1400 NORTH  ASHLAND AVENUE</td>\n",
       "      <td>60622</td>\n",
       "      <td>54361</td>\n",
       "      <td>55805</td>\n",
       "      <td>3%</td>\n",
       "      <td>WM WASTE MANAGEMENT 1500</td>\n",
       "      <td>60622</td>\n",
       "    </tr>\n",
       "    <tr>\n",
       "      <th>2</th>\n",
       "      <td>3</td>\n",
       "      <td>Pat Dowell</td>\n",
       "      <td>5046 SOUTH STATE STREET</td>\n",
       "      <td>60609</td>\n",
       "      <td>40385</td>\n",
       "      <td>53039</td>\n",
       "      <td>31%</td>\n",
       "      <td>17 EAST 38TH STREET</td>\n",
       "      <td>60653</td>\n",
       "    </tr>\n",
       "    <tr>\n",
       "      <th>3</th>\n",
       "      <td>4</td>\n",
       "      <td>William D. Burns</td>\n",
       "      <td>435 EAST 35TH STREET, 1ST FLOOR</td>\n",
       "      <td>60616</td>\n",
       "      <td>51953</td>\n",
       "      <td>54589</td>\n",
       "      <td>5%</td>\n",
       "      <td>31ST ST HARBOR BUILDING LAKEFRONT TRAIL</td>\n",
       "      <td>60653</td>\n",
       "    </tr>\n",
       "    <tr>\n",
       "      <th>4</th>\n",
       "      <td>5</td>\n",
       "      <td>Leslie A. Hairston</td>\n",
       "      <td>2325 EAST 71ST STREET</td>\n",
       "      <td>60649</td>\n",
       "      <td>55302</td>\n",
       "      <td>51455</td>\n",
       "      <td>-7%</td>\n",
       "      <td>JACKSON PARK LAGOON SOUTH CORNELL DRIVE</td>\n",
       "      <td>60637</td>\n",
       "    </tr>\n",
       "  </tbody>\n",
       "</table>\n",
       "</div>"
      ],
      "text/plain": [
       "  ward            alderman                        address_x  zip_x  pop_2000  \\\n",
       "0    1  Proco \"Joe\" Moreno        2058 NORTH WESTERN AVENUE  60647     52951   \n",
       "1    2       Brian Hopkins       1400 NORTH  ASHLAND AVENUE  60622     54361   \n",
       "2    3          Pat Dowell          5046 SOUTH STATE STREET  60609     40385   \n",
       "3    4    William D. Burns  435 EAST 35TH STREET, 1ST FLOOR  60616     51953   \n",
       "4    5  Leslie A. Hairston            2325 EAST 71ST STREET  60649     55302   \n",
       "\n",
       "   pop_2010 change                                address_y  zip_y  \n",
       "0     56149     6%              2765 WEST SAINT MARY STREET  60647  \n",
       "1     55805     3%                 WM WASTE MANAGEMENT 1500  60622  \n",
       "2     53039    31%                      17 EAST 38TH STREET  60653  \n",
       "3     54589     5%  31ST ST HARBOR BUILDING LAKEFRONT TRAIL  60653  \n",
       "4     51455    -7%  JACKSON PARK LAGOON SOUTH CORNELL DRIVE  60637  "
      ]
     },
     "metadata": {},
     "output_type": "display_data"
    }
   ],
   "source": [
    "wards_census = wards.merge(census, on=\"ward\")\n",
    "display(wards_census.head())"
   ]
  },
  {
   "cell_type": "code",
   "execution_count": 6,
   "id": "20acce93",
   "metadata": {},
   "outputs": [
    {
     "name": "stdout",
     "output_type": "stream",
     "text": [
      "Index(['ward', 'alderman', 'address_x', 'zip_x', 'pop_2000', 'pop_2010',\n",
      "       'change', 'address_y', 'zip_y'],\n",
      "      dtype='object')\n"
     ]
    }
   ],
   "source": [
    "print(wards_census.columns)"
   ]
  },
  {
   "cell_type": "code",
   "execution_count": 7,
   "id": "a0522cef",
   "metadata": {},
   "outputs": [
    {
     "data": {
      "application/vnd.microsoft.datawrangler.viewer.v0+json": {
       "columns": [
        {
         "name": "index",
         "rawType": "int64",
         "type": "integer"
        },
        {
         "name": "ward",
         "rawType": "object",
         "type": "string"
        },
        {
         "name": "alderman",
         "rawType": "object",
         "type": "string"
        },
        {
         "name": "address_ward",
         "rawType": "object",
         "type": "string"
        },
        {
         "name": "zip_ward",
         "rawType": "object",
         "type": "string"
        },
        {
         "name": "pop_2000",
         "rawType": "int64",
         "type": "integer"
        },
        {
         "name": "pop_2010",
         "rawType": "int64",
         "type": "integer"
        },
        {
         "name": "change",
         "rawType": "object",
         "type": "string"
        },
        {
         "name": "address_cen",
         "rawType": "object",
         "type": "string"
        },
        {
         "name": "zip_cen",
         "rawType": "object",
         "type": "string"
        }
       ],
       "ref": "1c5e24f3-f483-440c-8b5d-8ffb07f7d2a5",
       "rows": [
        [
         "0",
         "1",
         "Proco \"Joe\" Moreno",
         "2058 NORTH WESTERN AVENUE",
         "60647",
         "52951",
         "56149",
         "6%",
         "2765 WEST SAINT MARY STREET",
         "60647"
        ],
        [
         "1",
         "2",
         "Brian Hopkins",
         "1400 NORTH  ASHLAND AVENUE",
         "60622",
         "54361",
         "55805",
         "3%",
         "WM WASTE MANAGEMENT 1500",
         "60622"
        ],
        [
         "2",
         "3",
         "Pat Dowell",
         "5046 SOUTH STATE STREET",
         "60609",
         "40385",
         "53039",
         "31%",
         "17 EAST 38TH STREET",
         "60653"
        ],
        [
         "3",
         "4",
         "William D. Burns",
         "435 EAST 35TH STREET, 1ST FLOOR",
         "60616",
         "51953",
         "54589",
         "5%",
         "31ST ST HARBOR BUILDING LAKEFRONT TRAIL",
         "60653"
        ],
        [
         "4",
         "5",
         "Leslie A. Hairston",
         "2325 EAST 71ST STREET",
         "60649",
         "55302",
         "51455",
         "-7%",
         "JACKSON PARK LAGOON SOUTH CORNELL DRIVE",
         "60637"
        ]
       ],
       "shape": {
        "columns": 9,
        "rows": 5
       }
      },
      "text/html": [
       "<div>\n",
       "<style scoped>\n",
       "    .dataframe tbody tr th:only-of-type {\n",
       "        vertical-align: middle;\n",
       "    }\n",
       "\n",
       "    .dataframe tbody tr th {\n",
       "        vertical-align: top;\n",
       "    }\n",
       "\n",
       "    .dataframe thead th {\n",
       "        text-align: right;\n",
       "    }\n",
       "</style>\n",
       "<table border=\"1\" class=\"dataframe\">\n",
       "  <thead>\n",
       "    <tr style=\"text-align: right;\">\n",
       "      <th></th>\n",
       "      <th>ward</th>\n",
       "      <th>alderman</th>\n",
       "      <th>address_ward</th>\n",
       "      <th>zip_ward</th>\n",
       "      <th>pop_2000</th>\n",
       "      <th>pop_2010</th>\n",
       "      <th>change</th>\n",
       "      <th>address_cen</th>\n",
       "      <th>zip_cen</th>\n",
       "    </tr>\n",
       "  </thead>\n",
       "  <tbody>\n",
       "    <tr>\n",
       "      <th>0</th>\n",
       "      <td>1</td>\n",
       "      <td>Proco \"Joe\" Moreno</td>\n",
       "      <td>2058 NORTH WESTERN AVENUE</td>\n",
       "      <td>60647</td>\n",
       "      <td>52951</td>\n",
       "      <td>56149</td>\n",
       "      <td>6%</td>\n",
       "      <td>2765 WEST SAINT MARY STREET</td>\n",
       "      <td>60647</td>\n",
       "    </tr>\n",
       "    <tr>\n",
       "      <th>1</th>\n",
       "      <td>2</td>\n",
       "      <td>Brian Hopkins</td>\n",
       "      <td>1400 NORTH  ASHLAND AVENUE</td>\n",
       "      <td>60622</td>\n",
       "      <td>54361</td>\n",
       "      <td>55805</td>\n",
       "      <td>3%</td>\n",
       "      <td>WM WASTE MANAGEMENT 1500</td>\n",
       "      <td>60622</td>\n",
       "    </tr>\n",
       "    <tr>\n",
       "      <th>2</th>\n",
       "      <td>3</td>\n",
       "      <td>Pat Dowell</td>\n",
       "      <td>5046 SOUTH STATE STREET</td>\n",
       "      <td>60609</td>\n",
       "      <td>40385</td>\n",
       "      <td>53039</td>\n",
       "      <td>31%</td>\n",
       "      <td>17 EAST 38TH STREET</td>\n",
       "      <td>60653</td>\n",
       "    </tr>\n",
       "    <tr>\n",
       "      <th>3</th>\n",
       "      <td>4</td>\n",
       "      <td>William D. Burns</td>\n",
       "      <td>435 EAST 35TH STREET, 1ST FLOOR</td>\n",
       "      <td>60616</td>\n",
       "      <td>51953</td>\n",
       "      <td>54589</td>\n",
       "      <td>5%</td>\n",
       "      <td>31ST ST HARBOR BUILDING LAKEFRONT TRAIL</td>\n",
       "      <td>60653</td>\n",
       "    </tr>\n",
       "    <tr>\n",
       "      <th>4</th>\n",
       "      <td>5</td>\n",
       "      <td>Leslie A. Hairston</td>\n",
       "      <td>2325 EAST 71ST STREET</td>\n",
       "      <td>60649</td>\n",
       "      <td>55302</td>\n",
       "      <td>51455</td>\n",
       "      <td>-7%</td>\n",
       "      <td>JACKSON PARK LAGOON SOUTH CORNELL DRIVE</td>\n",
       "      <td>60637</td>\n",
       "    </tr>\n",
       "  </tbody>\n",
       "</table>\n",
       "</div>"
      ],
      "text/plain": [
       "  ward            alderman                     address_ward zip_ward  \\\n",
       "0    1  Proco \"Joe\" Moreno        2058 NORTH WESTERN AVENUE    60647   \n",
       "1    2       Brian Hopkins       1400 NORTH  ASHLAND AVENUE    60622   \n",
       "2    3          Pat Dowell          5046 SOUTH STATE STREET    60609   \n",
       "3    4    William D. Burns  435 EAST 35TH STREET, 1ST FLOOR    60616   \n",
       "4    5  Leslie A. Hairston            2325 EAST 71ST STREET    60649   \n",
       "\n",
       "   pop_2000  pop_2010 change                              address_cen zip_cen  \n",
       "0     52951     56149     6%              2765 WEST SAINT MARY STREET   60647  \n",
       "1     54361     55805     3%                 WM WASTE MANAGEMENT 1500   60622  \n",
       "2     40385     53039    31%                      17 EAST 38TH STREET   60653  \n",
       "3     51953     54589     5%  31ST ST HARBOR BUILDING LAKEFRONT TRAIL   60653  \n",
       "4     55302     51455    -7%  JACKSON PARK LAGOON SOUTH CORNELL DRIVE   60637  "
      ]
     },
     "metadata": {},
     "output_type": "display_data"
    }
   ],
   "source": [
    "wards_census = wards.merge(census, on=\"ward\", suffixes=(\"_ward\", \"_cen\"))\n",
    "display(wards_census.head())"
   ]
  },
  {
   "cell_type": "code",
   "execution_count": 8,
   "id": "f743c259",
   "metadata": {},
   "outputs": [
    {
     "name": "stdout",
     "output_type": "stream",
     "text": [
      "(50, 9)\n"
     ]
    }
   ],
   "source": [
    "print(wards_census.shape)"
   ]
  },
  {
   "cell_type": "markdown",
   "id": "4a30eec0",
   "metadata": {},
   "source": [
    "### What column to merge on?\n",
    "Chicago provides a list of taxicab owners and vehicles licensed to operate within the city, for public safety. Your goal is to merge two tables together. One table is called `taxi_owners`, with info about the taxi cab company owners, and one is called `taxi_veh`, with info about each taxi cab vehicle. Both the `taxi_owners` and `taxi_veh` tables have been loaded for you to explore.\n",
    "\n",
    "Choose the column you would use to merge the two tables on using the `.merge()` method."
   ]
  },
  {
   "cell_type": "code",
   "execution_count": 9,
   "id": "a3d46a34",
   "metadata": {},
   "outputs": [],
   "source": [
    "# Load the datasets taxi_owners and taxi_veh\n",
    "taxi_veh = pd.read_pickle(\"data/taxi_vehicles.p\")\n",
    "taxi_owners = pd.read_pickle(\"data/taxi_owners.p\")"
   ]
  },
  {
   "cell_type": "code",
   "execution_count": 10,
   "id": "472f9e50",
   "metadata": {},
   "outputs": [
    {
     "data": {
      "application/vnd.microsoft.datawrangler.viewer.v0+json": {
       "columns": [
        {
         "name": "index",
         "rawType": "int64",
         "type": "integer"
        },
        {
         "name": "vid",
         "rawType": "object",
         "type": "string"
        },
        {
         "name": "make",
         "rawType": "object",
         "type": "string"
        },
        {
         "name": "model",
         "rawType": "object",
         "type": "string"
        },
        {
         "name": "year",
         "rawType": "int64",
         "type": "integer"
        },
        {
         "name": "fuel_type",
         "rawType": "object",
         "type": "string"
        },
        {
         "name": "owner",
         "rawType": "object",
         "type": "string"
        }
       ],
       "ref": "e98f518f-f6ce-4baf-b19e-f14df12218ae",
       "rows": [
        [
         "0",
         "2767",
         "TOYOTA",
         "CAMRY",
         "2013",
         "HYBRID",
         "SEYED M. BADRI"
        ],
        [
         "1",
         "1411",
         "TOYOTA",
         "RAV4",
         "2017",
         "HYBRID",
         "DESZY CORP."
        ],
        [
         "2",
         "6500",
         "NISSAN",
         "SENTRA",
         "2019",
         "GASOLINE",
         "AGAPH CAB CORP"
        ],
        [
         "3",
         "2746",
         "TOYOTA",
         "CAMRY",
         "2013",
         "HYBRID",
         "MIDWEST CAB CO, INC"
        ],
        [
         "4",
         "5922",
         "TOYOTA",
         "CAMRY",
         "2013",
         "HYBRID",
         "SUMETTI CAB CO"
        ]
       ],
       "shape": {
        "columns": 6,
        "rows": 5
       }
      },
      "text/html": [
       "<div>\n",
       "<style scoped>\n",
       "    .dataframe tbody tr th:only-of-type {\n",
       "        vertical-align: middle;\n",
       "    }\n",
       "\n",
       "    .dataframe tbody tr th {\n",
       "        vertical-align: top;\n",
       "    }\n",
       "\n",
       "    .dataframe thead th {\n",
       "        text-align: right;\n",
       "    }\n",
       "</style>\n",
       "<table border=\"1\" class=\"dataframe\">\n",
       "  <thead>\n",
       "    <tr style=\"text-align: right;\">\n",
       "      <th></th>\n",
       "      <th>vid</th>\n",
       "      <th>make</th>\n",
       "      <th>model</th>\n",
       "      <th>year</th>\n",
       "      <th>fuel_type</th>\n",
       "      <th>owner</th>\n",
       "    </tr>\n",
       "  </thead>\n",
       "  <tbody>\n",
       "    <tr>\n",
       "      <th>0</th>\n",
       "      <td>2767</td>\n",
       "      <td>TOYOTA</td>\n",
       "      <td>CAMRY</td>\n",
       "      <td>2013</td>\n",
       "      <td>HYBRID</td>\n",
       "      <td>SEYED M. BADRI</td>\n",
       "    </tr>\n",
       "    <tr>\n",
       "      <th>1</th>\n",
       "      <td>1411</td>\n",
       "      <td>TOYOTA</td>\n",
       "      <td>RAV4</td>\n",
       "      <td>2017</td>\n",
       "      <td>HYBRID</td>\n",
       "      <td>DESZY CORP.</td>\n",
       "    </tr>\n",
       "    <tr>\n",
       "      <th>2</th>\n",
       "      <td>6500</td>\n",
       "      <td>NISSAN</td>\n",
       "      <td>SENTRA</td>\n",
       "      <td>2019</td>\n",
       "      <td>GASOLINE</td>\n",
       "      <td>AGAPH CAB CORP</td>\n",
       "    </tr>\n",
       "    <tr>\n",
       "      <th>3</th>\n",
       "      <td>2746</td>\n",
       "      <td>TOYOTA</td>\n",
       "      <td>CAMRY</td>\n",
       "      <td>2013</td>\n",
       "      <td>HYBRID</td>\n",
       "      <td>MIDWEST CAB CO, INC</td>\n",
       "    </tr>\n",
       "    <tr>\n",
       "      <th>4</th>\n",
       "      <td>5922</td>\n",
       "      <td>TOYOTA</td>\n",
       "      <td>CAMRY</td>\n",
       "      <td>2013</td>\n",
       "      <td>HYBRID</td>\n",
       "      <td>SUMETTI CAB CO</td>\n",
       "    </tr>\n",
       "  </tbody>\n",
       "</table>\n",
       "</div>"
      ],
      "text/plain": [
       "    vid    make   model  year fuel_type                owner\n",
       "0  2767  TOYOTA   CAMRY  2013    HYBRID       SEYED M. BADRI\n",
       "1  1411  TOYOTA    RAV4  2017    HYBRID          DESZY CORP.\n",
       "2  6500  NISSAN  SENTRA  2019  GASOLINE       AGAPH CAB CORP\n",
       "3  2746  TOYOTA   CAMRY  2013    HYBRID  MIDWEST CAB CO, INC\n",
       "4  5922  TOYOTA   CAMRY  2013    HYBRID       SUMETTI CAB CO"
      ]
     },
     "execution_count": 10,
     "metadata": {},
     "output_type": "execute_result"
    }
   ],
   "source": [
    "taxi_veh.head()"
   ]
  },
  {
   "cell_type": "code",
   "execution_count": 11,
   "id": "a1039bcb",
   "metadata": {},
   "outputs": [
    {
     "data": {
      "application/vnd.microsoft.datawrangler.viewer.v0+json": {
       "columns": [
        {
         "name": "index",
         "rawType": "int64",
         "type": "integer"
        },
        {
         "name": "rid",
         "rawType": "object",
         "type": "string"
        },
        {
         "name": "vid",
         "rawType": "object",
         "type": "string"
        },
        {
         "name": "owner",
         "rawType": "object",
         "type": "string"
        },
        {
         "name": "address",
         "rawType": "object",
         "type": "string"
        },
        {
         "name": "zip",
         "rawType": "object",
         "type": "string"
        }
       ],
       "ref": "125142c5-2f14-441d-8c4f-98be13c03442",
       "rows": [
        [
         "0",
         "T6285",
         "6285",
         "AGEAN TAXI LLC",
         "4536 N. ELSTON AVE.",
         "60630"
        ],
        [
         "1",
         "T4862",
         "4862",
         "MANGIB CORP.",
         "5717 N. WASHTENAW AVE.",
         "60659"
        ],
        [
         "2",
         "T1495",
         "1495",
         "FUNRIDE, INC.",
         "3351 W. ADDISON ST.",
         "60618"
        ],
        [
         "3",
         "T4231",
         "4231",
         "ALQUSH CORP.",
         "6611 N. CAMPBELL AVE.",
         "60645"
        ],
        [
         "4",
         "T5971",
         "5971",
         "EUNIFFORD INC.",
         "3351 W. ADDISON ST.",
         "60618"
        ]
       ],
       "shape": {
        "columns": 5,
        "rows": 5
       }
      },
      "text/html": [
       "<div>\n",
       "<style scoped>\n",
       "    .dataframe tbody tr th:only-of-type {\n",
       "        vertical-align: middle;\n",
       "    }\n",
       "\n",
       "    .dataframe tbody tr th {\n",
       "        vertical-align: top;\n",
       "    }\n",
       "\n",
       "    .dataframe thead th {\n",
       "        text-align: right;\n",
       "    }\n",
       "</style>\n",
       "<table border=\"1\" class=\"dataframe\">\n",
       "  <thead>\n",
       "    <tr style=\"text-align: right;\">\n",
       "      <th></th>\n",
       "      <th>rid</th>\n",
       "      <th>vid</th>\n",
       "      <th>owner</th>\n",
       "      <th>address</th>\n",
       "      <th>zip</th>\n",
       "    </tr>\n",
       "  </thead>\n",
       "  <tbody>\n",
       "    <tr>\n",
       "      <th>0</th>\n",
       "      <td>T6285</td>\n",
       "      <td>6285</td>\n",
       "      <td>AGEAN TAXI LLC</td>\n",
       "      <td>4536 N. ELSTON AVE.</td>\n",
       "      <td>60630</td>\n",
       "    </tr>\n",
       "    <tr>\n",
       "      <th>1</th>\n",
       "      <td>T4862</td>\n",
       "      <td>4862</td>\n",
       "      <td>MANGIB CORP.</td>\n",
       "      <td>5717 N. WASHTENAW AVE.</td>\n",
       "      <td>60659</td>\n",
       "    </tr>\n",
       "    <tr>\n",
       "      <th>2</th>\n",
       "      <td>T1495</td>\n",
       "      <td>1495</td>\n",
       "      <td>FUNRIDE, INC.</td>\n",
       "      <td>3351 W. ADDISON ST.</td>\n",
       "      <td>60618</td>\n",
       "    </tr>\n",
       "    <tr>\n",
       "      <th>3</th>\n",
       "      <td>T4231</td>\n",
       "      <td>4231</td>\n",
       "      <td>ALQUSH CORP.</td>\n",
       "      <td>6611 N. CAMPBELL AVE.</td>\n",
       "      <td>60645</td>\n",
       "    </tr>\n",
       "    <tr>\n",
       "      <th>4</th>\n",
       "      <td>T5971</td>\n",
       "      <td>5971</td>\n",
       "      <td>EUNIFFORD INC.</td>\n",
       "      <td>3351 W. ADDISON ST.</td>\n",
       "      <td>60618</td>\n",
       "    </tr>\n",
       "  </tbody>\n",
       "</table>\n",
       "</div>"
      ],
      "text/plain": [
       "     rid   vid           owner                 address    zip\n",
       "0  T6285  6285  AGEAN TAXI LLC     4536 N. ELSTON AVE.  60630\n",
       "1  T4862  4862    MANGIB CORP.  5717 N. WASHTENAW AVE.  60659\n",
       "2  T1495  1495   FUNRIDE, INC.     3351 W. ADDISON ST.  60618\n",
       "3  T4231  4231    ALQUSH CORP.   6611 N. CAMPBELL AVE.  60645\n",
       "4  T5971  5971  EUNIFFORD INC.     3351 W. ADDISON ST.  60618"
      ]
     },
     "execution_count": 11,
     "metadata": {},
     "output_type": "execute_result"
    }
   ],
   "source": [
    "taxi_owners.head()"
   ]
  },
  {
   "cell_type": "markdown",
   "id": "703cf22a",
   "metadata": {},
   "source": [
    "### Your first inner join\n",
    "You have been tasked with figuring out what the most popular types of fuel used in Chicago taxis are. To complete the analysis, you need to merge the `taxi_owners` and `taxi_veh` tables together on the vid column. You can then use the merged table along with the `.value_counts()` method to find the most common fuel_type."
   ]
  },
  {
   "cell_type": "code",
   "execution_count": 12,
   "id": "385171f7",
   "metadata": {},
   "outputs": [
    {
     "name": "stdout",
     "output_type": "stream",
     "text": [
      "Index(['rid', 'vid', 'owner_own', 'address', 'zip', 'make', 'model', 'year',\n",
      "       'fuel_type', 'owner_veh'],\n",
      "      dtype='object')\n"
     ]
    }
   ],
   "source": [
    "# Merge taxi_owners with taxi_veh on the column vid, and save the result to taxi_own_veh.\n",
    "# Set the left and right table suffixes for overlapping columns of the merge to _own and _veh, respectively.\n",
    "taxi_own_veh = taxi_owners.merge(taxi_veh, on=\"vid\", suffixes=(\"_own\",\"_veh\"))\n",
    "print(taxi_own_veh.columns)"
   ]
  },
  {
   "cell_type": "code",
   "execution_count": 13,
   "id": "7c282f80",
   "metadata": {},
   "outputs": [
    {
     "name": "stdout",
     "output_type": "stream",
     "text": [
      "<bound method IndexOpsMixin.value_counts of 0         HYBRID\n",
      "1       GASOLINE\n",
      "2       GASOLINE\n",
      "3         HYBRID\n",
      "4       GASOLINE\n",
      "          ...   \n",
      "3514      HYBRID\n",
      "3515      HYBRID\n",
      "3516      HYBRID\n",
      "3517      HYBRID\n",
      "3518      HYBRID\n",
      "Name: fuel_type, Length: 3519, dtype: object>\n"
     ]
    }
   ],
   "source": [
    "# Select the fuel_type column from taxi_own_veh and print the value_counts() to find the most popular fuel_types used.\n",
    "print(taxi_own_veh[\"fuel_type\"].value_counts)"
   ]
  },
  {
   "cell_type": "markdown",
   "id": "9f3c6627",
   "metadata": {},
   "source": [
    "### Inner joins and number of rows returned\n",
    "All of the merges you have studied to this point are called inner joins. It is necessary to understand that inner joins only return the rows with matching values in both tables. "
   ]
  },
  {
   "cell_type": "code",
   "execution_count": 14,
   "id": "b28f1867",
   "metadata": {},
   "outputs": [
    {
     "data": {
      "application/vnd.microsoft.datawrangler.viewer.v0+json": {
       "columns": [
        {
         "name": "index",
         "rawType": "int64",
         "type": "integer"
        },
        {
         "name": "ward",
         "rawType": "object",
         "type": "string"
        },
        {
         "name": "alderman",
         "rawType": "object",
         "type": "string"
        },
        {
         "name": "address_x",
         "rawType": "object",
         "type": "string"
        },
        {
         "name": "zip_x",
         "rawType": "object",
         "type": "string"
        },
        {
         "name": "pop_2000",
         "rawType": "int64",
         "type": "integer"
        },
        {
         "name": "pop_2010",
         "rawType": "int64",
         "type": "integer"
        },
        {
         "name": "change",
         "rawType": "object",
         "type": "string"
        },
        {
         "name": "address_y",
         "rawType": "object",
         "type": "string"
        },
        {
         "name": "zip_y",
         "rawType": "object",
         "type": "string"
        }
       ],
       "ref": "285bbd81-6abd-4879-8afa-5f4d15076786",
       "rows": [
        [
         "0",
         "1",
         "Proco \"Joe\" Moreno",
         "2058 NORTH WESTERN AVENUE",
         "60647",
         "52951",
         "56149",
         "6%",
         "2765 WEST SAINT MARY STREET",
         "60647"
        ],
        [
         "1",
         "2",
         "Brian Hopkins",
         "1400 NORTH  ASHLAND AVENUE",
         "60622",
         "54361",
         "55805",
         "3%",
         "WM WASTE MANAGEMENT 1500",
         "60622"
        ],
        [
         "2",
         "3",
         "Pat Dowell",
         "5046 SOUTH STATE STREET",
         "60609",
         "40385",
         "53039",
         "31%",
         "17 EAST 38TH STREET",
         "60653"
        ],
        [
         "3",
         "4",
         "William D. Burns",
         "435 EAST 35TH STREET, 1ST FLOOR",
         "60616",
         "51953",
         "54589",
         "5%",
         "31ST ST HARBOR BUILDING LAKEFRONT TRAIL",
         "60653"
        ],
        [
         "4",
         "5",
         "Leslie A. Hairston",
         "2325 EAST 71ST STREET",
         "60649",
         "55302",
         "51455",
         "-7%",
         "JACKSON PARK LAGOON SOUTH CORNELL DRIVE",
         "60637"
        ],
        [
         "5",
         "6",
         "Roderick T. Sawyer",
         "8001 S. MARTIN LUTHER KING DRIVE",
         "60619",
         "54989",
         "52341",
         "-5%",
         "150 WEST 74TH STREET",
         "60636"
        ],
        [
         "6",
         "7",
         "Gregory I. Mitchell",
         "2249 EAST 95TH STREET",
         "60617",
         "54593",
         "51581",
         "-6%",
         "8549 SOUTH OGLESBY AVENUE",
         "60617"
        ],
        [
         "7",
         "8",
         "Michelle A. Harris",
         "8539 SOUTH COTTAGE GROVE AVENUE",
         "60619",
         "54039",
         "51687",
         "-4%",
         "1346-1352 EAST 75TH STREET",
         "60649"
        ],
        [
         "8",
         "9",
         "Anthony A. Beale",
         "34 EAST 112TH PLACE",
         "60628",
         "52008",
         "51519",
         "-1%",
         "11039-11059 SOUTH WENTWORTH AVENUE",
         "60628"
        ],
        [
         "9",
         "10",
         "Susan Sadlowski Garza",
         "10500 SOUTH EWING AVENUE",
         "60617",
         "56613",
         "51535",
         "-9%",
         "10534 SOUTH AVENUE F",
         "46394"
        ],
        [
         "10",
         "11",
         "Patrick Daley Thompson",
         "3659 SOUTH HALSTED STREET",
         "60609",
         "64228",
         "51497",
         "-20%",
         "943-947 WEST 14TH PLACE",
         "60607"
        ],
        [
         "11",
         "12",
         "George Cardenas",
         "3476 SOUTH ARCHER AVENUE",
         "60608",
         "68922",
         "52235",
         "-24%",
         "CP 46 STEVENSON EXPRESSWAY",
         "60632"
        ],
        [
         "12",
         "13",
         "Marty Quinn",
         "6500 SOUTH PULASKI ROAD",
         "60629",
         "64382",
         "53722",
         "-17%",
         "SOUTH RAMP SOUTH LARAMIE AVENUE",
         "60638"
        ],
        [
         "13",
         "14",
         "Edward M. Burke",
         "2650 WEST 51ST STREET",
         "60632",
         "80143",
         "54031",
         "-33%",
         "4540 WEST 51ST STREET",
         "60632"
        ],
        [
         "14",
         "15",
         "Raymond A. Lopez",
         "1650 WEST 63RD STREET",
         "60636",
         "56057",
         "51501",
         "-8%",
         "CHICAGO FIRE DEPARTMENT ENGINE COMPANY 123 2215",
         "60632"
        ],
        [
         "15",
         "16",
         "Toni L. Foulkes",
         "3045 WEST 63RD STREET",
         "60629",
         "50205",
         "51954",
         "3%",
         "6036 SOUTH WOOD STREET",
         "60636"
        ],
        [
         "16",
         "17",
         "David H. Moore",
         "7313 SOUTH ASHLAND AVENUE",
         "60636",
         "49264",
         "51846",
         "5%",
         "7216 SOUTH WINCHESTER AVENUE",
         "60636"
        ],
        [
         "17",
         "18",
         "Derrick G. Curtis",
         "8359 SOUTH PULASKI ROAD",
         "60652",
         "55043",
         "52992",
         "-4%",
         "3286 WEST COLUMBUS AVENUE",
         "60652"
        ],
        [
         "18",
         "19",
         "Matthew J. O'Shea",
         "10400 SOUTH WESTERN AVENUE",
         "60643",
         "54546",
         "51525",
         "-6%",
         "9999 SOUTH FRANCISCO AVENUE",
         "60805"
        ],
        [
         "19",
         "20",
         "Willie B. Cochran",
         "6357 SOUTH COTTAGE GROVE AVENUE",
         "60637",
         "51854",
         "52372",
         "1%",
         "DAN RYAN EXPRESSWAY PARK MANOR",
         "60621"
        ],
        [
         "20",
         "21",
         "Howard B. Brookins, Jr.",
         "9011 SOUTH ASHLAND AVENUE, UNIT B",
         "60620",
         "51751",
         "51632",
         "0%",
         "8852-8854 SOUTH EMERALD AVENUE",
         "60620"
        ],
        [
         "21",
         "22",
         "Ricardo Munoz",
         "2500 SOUTH ST. LOUIS AVENUE",
         "60623",
         "59734",
         "53515",
         "-10%",
         "4233 WEST 36TH STREET",
         "60632"
        ],
        [
         "22",
         "23",
         "Michael R. Zalewski",
         "6247 SOUTH ARCHER AVENUE",
         "60638",
         "63691",
         "53728",
         "-16%",
         "CHICAGO MIDWAY INTERNATIONAL AIRPORT WEST 62ND STREET",
         "60629"
        ],
        [
         "23",
         "24",
         "Michael Scott, Jr.",
         "1158 SOUTH KEELER AVENUE",
         "60624",
         "50879",
         "54909",
         "8%",
         "1635 SOUTH CHRISTIANA AVENUE",
         "60623"
        ],
        [
         "24",
         "25",
         "Daniel \"Danny\" Solis",
         "1800 SOUTH BLUE ISLAND AVENUE",
         "60608",
         "55954",
         "54539",
         "-3%",
         "1632-1746 SOUTH MILLER STREET",
         "60608"
        ],
        [
         "25",
         "26",
         "Roberto Maldonado",
         "2511 WEST DIVISION STREET",
         "60622",
         "56841",
         "53516",
         "-6%",
         "LITTLE CUBS FIELD COMFORT STATION 1400",
         "60622"
        ],
        [
         "26",
         "27",
         "Walter Burnett, Jr.",
         "4 NORTH WESTERN AVENUE",
         "60612",
         "61287",
         "52939",
         "-14%",
         "2151-2153 WEST CHICAGO AVENUE",
         "60651"
        ],
        [
         "27",
         "28",
         "Jason C. Ervin",
         "2602 WEST 16TH STREET",
         "60612",
         "49423",
         "55199",
         "12%",
         "RML SPECIALTY HOSPITAL 3435",
         "60624"
        ],
        [
         "28",
         "29",
         "Chris Taliaferro",
         "6272 WEST NORTH AVENUE",
         "60639",
         "61949",
         "55267",
         "-11%",
         "1241 NORTH RIDGELAND AVENUE",
         "60302"
        ],
        [
         "29",
         "30",
         "Ariel E. Reyboras",
         "3559 NORTH MILWAUKEE AVENUE",
         "60641",
         "72698",
         "55560",
         "-24%",
         "5118 WEST FLETCHER STREET",
         "60641"
        ],
        [
         "30",
         "31",
         "Milagros \"Milly\" Santiago",
         "2521 NORTH PULASKI ROAD",
         "60639",
         "65045",
         "53724",
         "-17%",
         "2854 NORTH KEATING AVENUE",
         "60641"
        ],
        [
         "31",
         "32",
         "Scott Waguespack",
         "2657 NORTH CLYBOURN AVENUE",
         "60614",
         "57204",
         "55184",
         "-4%",
         "2901 NORTH WASHTENAW AVENUE",
         "60618"
        ],
        [
         "32",
         "33",
         "Deborah Mell",
         "3001 WEST IRVING PARK ROAD",
         "60618",
         "63695",
         "55598",
         "-13%",
         "4041-4043 NORTH RICHMOND STREET",
         "60625"
        ],
        [
         "33",
         "34",
         "Carrie M. Austin",
         "507 WEST 111TH STREET",
         "60628",
         "49922",
         "51599",
         "3%",
         "11544-11546 SOUTH PEORIA STREET",
         "60827"
        ],
        [
         "34",
         "35",
         "Carlos Ramirez-Rosa",
         "2710 NORTH SAWYER AVENUE",
         "60647",
         "57588",
         "55281",
         "-4%",
         "3634 WEST BELMONT AVENUE",
         "60618"
        ],
        [
         "35",
         "36",
         "Gilbert Villegas",
         "6934 WEST DIVERSEY",
         "60607",
         "63376",
         "54766",
         "-14%",
         "2918 NORTH RUTHERFORD AVENUE",
         "60634"
        ],
        [
         "36",
         "37",
         "Emma M. Mitts",
         "4924 WEST CHICAGO AVENUE",
         "60651",
         "56120",
         "51538",
         "-8%",
         "4738-4748 WEST RICE STREET",
         "60651"
        ],
        [
         "37",
         "38",
         "Nicholas Sposato",
         "3821  NORTH HARLEM AVENUE",
         "60634",
         "66011",
         "56001",
         "-15%",
         "7307-7331 WEST IRVING PARK ROAD",
         "60706"
        ],
        [
         "38",
         "39",
         "Margaret Laurino",
         "4404 WEST LAWRENCE AVENUE",
         "60630",
         "64291",
         "55882",
         "-13%",
         "QUEEN OF ALL SAINTS BASILICA 6280",
         "60646"
        ],
        [
         "39",
         "40",
         "Patrick J. O'Connor",
         "5850 NORTH LINCOLN AVENUE",
         "60659",
         "58652",
         "55319",
         "-6%",
         "5536 NORTH ARTESIAN AVENUE",
         "60645"
        ],
        [
         "40",
         "41",
         "Anthony V. Napolitano",
         "7442 NORTH HARLEM AVENUE",
         "60631",
         "56127",
         "55991",
         "0%",
         "1652 SOUTH CLIFTON AVENUE",
         "60068"
        ],
        [
         "41",
         "42",
         "Brendan Reilly",
         "325 WEST HURON STREET, SUITE 510",
         "60654",
         "68102",
         "55870",
         "-18%",
         "410-420 WEST GRAND AVENUE",
         "60654"
        ],
        [
         "42",
         "43",
         "Michelle Smith",
         "2523 NORTH HALSTED STREET",
         "60614",
         "57668",
         "56170",
         "-3%",
         "LINCOLN PARK ZOO 2001",
         "60614"
        ],
        [
         "43",
         "44",
         "Tom Tunney",
         "3223 NORTH SHEFFIELD AVENUE",
         "60657",
         "58758",
         "56058",
         "-5%",
         "507-513 WEST ALDINE AVENUE",
         "60657"
        ],
        [
         "44",
         "45",
         "John S. Arena",
         "4754 NORTH MILWAUKEE AVENUE",
         "60630",
         "60653",
         "55967",
         "-8%",
         "CONGREGATIONAL CHURCH OF JEFFERSON PARK 5320",
         "60630"
        ],
        [
         "45",
         "46",
         "James Cappleman",
         "4544 NORTH BROADWAY AVENUE",
         "60640",
         "56587",
         "53784",
         "-5%",
         "UPTOWN BROADWAY BUILDING 4743-4763",
         "60640"
        ],
        [
         "46",
         "47",
         "Ameya Pawar",
         "4243 NORTH LINCOLN AVENUE",
         "60618",
         "52108",
         "55074",
         "6%",
         "2153 WEST BERTEAU AVENUE",
         "60618"
        ],
        [
         "47",
         "48",
         "Harry Osterman",
         "5533 NORTH BROADWAY AVENUE",
         "60640",
         "56246",
         "55014",
         "-2%",
         "1025 WEST HOLLYWOOD AVENUE",
         "60660"
        ],
        [
         "48",
         "49",
         "Joe Moore",
         "7356 NORTH GREENVIEW AVENUE",
         "60626",
         "59435",
         "54633",
         "-8%",
         "1426 WEST ESTES AVENUE",
         "60645"
        ],
        [
         "49",
         "50",
         "Debra L. Silverstein",
         "2949 WEST DEVON AVENUE, SUITE A",
         "60659",
         "62383",
         "55809",
         "-11%",
         "2638 WEST NORTH SHORE AVENUE",
         "60645"
        ]
       ],
       "shape": {
        "columns": 9,
        "rows": 50
       }
      },
      "text/html": [
       "<div>\n",
       "<style scoped>\n",
       "    .dataframe tbody tr th:only-of-type {\n",
       "        vertical-align: middle;\n",
       "    }\n",
       "\n",
       "    .dataframe tbody tr th {\n",
       "        vertical-align: top;\n",
       "    }\n",
       "\n",
       "    .dataframe thead th {\n",
       "        text-align: right;\n",
       "    }\n",
       "</style>\n",
       "<table border=\"1\" class=\"dataframe\">\n",
       "  <thead>\n",
       "    <tr style=\"text-align: right;\">\n",
       "      <th></th>\n",
       "      <th>ward</th>\n",
       "      <th>alderman</th>\n",
       "      <th>address_x</th>\n",
       "      <th>zip_x</th>\n",
       "      <th>pop_2000</th>\n",
       "      <th>pop_2010</th>\n",
       "      <th>change</th>\n",
       "      <th>address_y</th>\n",
       "      <th>zip_y</th>\n",
       "    </tr>\n",
       "  </thead>\n",
       "  <tbody>\n",
       "    <tr>\n",
       "      <th>0</th>\n",
       "      <td>1</td>\n",
       "      <td>Proco \"Joe\" Moreno</td>\n",
       "      <td>2058 NORTH WESTERN AVENUE</td>\n",
       "      <td>60647</td>\n",
       "      <td>52951</td>\n",
       "      <td>56149</td>\n",
       "      <td>6%</td>\n",
       "      <td>2765 WEST SAINT MARY STREET</td>\n",
       "      <td>60647</td>\n",
       "    </tr>\n",
       "    <tr>\n",
       "      <th>1</th>\n",
       "      <td>2</td>\n",
       "      <td>Brian Hopkins</td>\n",
       "      <td>1400 NORTH  ASHLAND AVENUE</td>\n",
       "      <td>60622</td>\n",
       "      <td>54361</td>\n",
       "      <td>55805</td>\n",
       "      <td>3%</td>\n",
       "      <td>WM WASTE MANAGEMENT 1500</td>\n",
       "      <td>60622</td>\n",
       "    </tr>\n",
       "    <tr>\n",
       "      <th>2</th>\n",
       "      <td>3</td>\n",
       "      <td>Pat Dowell</td>\n",
       "      <td>5046 SOUTH STATE STREET</td>\n",
       "      <td>60609</td>\n",
       "      <td>40385</td>\n",
       "      <td>53039</td>\n",
       "      <td>31%</td>\n",
       "      <td>17 EAST 38TH STREET</td>\n",
       "      <td>60653</td>\n",
       "    </tr>\n",
       "    <tr>\n",
       "      <th>3</th>\n",
       "      <td>4</td>\n",
       "      <td>William D. Burns</td>\n",
       "      <td>435 EAST 35TH STREET, 1ST FLOOR</td>\n",
       "      <td>60616</td>\n",
       "      <td>51953</td>\n",
       "      <td>54589</td>\n",
       "      <td>5%</td>\n",
       "      <td>31ST ST HARBOR BUILDING LAKEFRONT TRAIL</td>\n",
       "      <td>60653</td>\n",
       "    </tr>\n",
       "    <tr>\n",
       "      <th>4</th>\n",
       "      <td>5</td>\n",
       "      <td>Leslie A. Hairston</td>\n",
       "      <td>2325 EAST 71ST STREET</td>\n",
       "      <td>60649</td>\n",
       "      <td>55302</td>\n",
       "      <td>51455</td>\n",
       "      <td>-7%</td>\n",
       "      <td>JACKSON PARK LAGOON SOUTH CORNELL DRIVE</td>\n",
       "      <td>60637</td>\n",
       "    </tr>\n",
       "    <tr>\n",
       "      <th>5</th>\n",
       "      <td>6</td>\n",
       "      <td>Roderick T. Sawyer</td>\n",
       "      <td>8001 S. MARTIN LUTHER KING DRIVE</td>\n",
       "      <td>60619</td>\n",
       "      <td>54989</td>\n",
       "      <td>52341</td>\n",
       "      <td>-5%</td>\n",
       "      <td>150 WEST 74TH STREET</td>\n",
       "      <td>60636</td>\n",
       "    </tr>\n",
       "    <tr>\n",
       "      <th>6</th>\n",
       "      <td>7</td>\n",
       "      <td>Gregory I. Mitchell</td>\n",
       "      <td>2249 EAST 95TH STREET</td>\n",
       "      <td>60617</td>\n",
       "      <td>54593</td>\n",
       "      <td>51581</td>\n",
       "      <td>-6%</td>\n",
       "      <td>8549 SOUTH OGLESBY AVENUE</td>\n",
       "      <td>60617</td>\n",
       "    </tr>\n",
       "    <tr>\n",
       "      <th>7</th>\n",
       "      <td>8</td>\n",
       "      <td>Michelle A. Harris</td>\n",
       "      <td>8539 SOUTH COTTAGE GROVE AVENUE</td>\n",
       "      <td>60619</td>\n",
       "      <td>54039</td>\n",
       "      <td>51687</td>\n",
       "      <td>-4%</td>\n",
       "      <td>1346-1352 EAST 75TH STREET</td>\n",
       "      <td>60649</td>\n",
       "    </tr>\n",
       "    <tr>\n",
       "      <th>8</th>\n",
       "      <td>9</td>\n",
       "      <td>Anthony A. Beale</td>\n",
       "      <td>34 EAST 112TH PLACE</td>\n",
       "      <td>60628</td>\n",
       "      <td>52008</td>\n",
       "      <td>51519</td>\n",
       "      <td>-1%</td>\n",
       "      <td>11039-11059 SOUTH WENTWORTH AVENUE</td>\n",
       "      <td>60628</td>\n",
       "    </tr>\n",
       "    <tr>\n",
       "      <th>9</th>\n",
       "      <td>10</td>\n",
       "      <td>Susan Sadlowski Garza</td>\n",
       "      <td>10500 SOUTH EWING AVENUE</td>\n",
       "      <td>60617</td>\n",
       "      <td>56613</td>\n",
       "      <td>51535</td>\n",
       "      <td>-9%</td>\n",
       "      <td>10534 SOUTH AVENUE F</td>\n",
       "      <td>46394</td>\n",
       "    </tr>\n",
       "    <tr>\n",
       "      <th>10</th>\n",
       "      <td>11</td>\n",
       "      <td>Patrick Daley Thompson</td>\n",
       "      <td>3659 SOUTH HALSTED STREET</td>\n",
       "      <td>60609</td>\n",
       "      <td>64228</td>\n",
       "      <td>51497</td>\n",
       "      <td>-20%</td>\n",
       "      <td>943-947 WEST 14TH PLACE</td>\n",
       "      <td>60607</td>\n",
       "    </tr>\n",
       "    <tr>\n",
       "      <th>11</th>\n",
       "      <td>12</td>\n",
       "      <td>George Cardenas</td>\n",
       "      <td>3476 SOUTH ARCHER AVENUE</td>\n",
       "      <td>60608</td>\n",
       "      <td>68922</td>\n",
       "      <td>52235</td>\n",
       "      <td>-24%</td>\n",
       "      <td>CP 46 STEVENSON EXPRESSWAY</td>\n",
       "      <td>60632</td>\n",
       "    </tr>\n",
       "    <tr>\n",
       "      <th>12</th>\n",
       "      <td>13</td>\n",
       "      <td>Marty Quinn</td>\n",
       "      <td>6500 SOUTH PULASKI ROAD</td>\n",
       "      <td>60629</td>\n",
       "      <td>64382</td>\n",
       "      <td>53722</td>\n",
       "      <td>-17%</td>\n",
       "      <td>SOUTH RAMP SOUTH LARAMIE AVENUE</td>\n",
       "      <td>60638</td>\n",
       "    </tr>\n",
       "    <tr>\n",
       "      <th>13</th>\n",
       "      <td>14</td>\n",
       "      <td>Edward M. Burke</td>\n",
       "      <td>2650 WEST 51ST STREET</td>\n",
       "      <td>60632</td>\n",
       "      <td>80143</td>\n",
       "      <td>54031</td>\n",
       "      <td>-33%</td>\n",
       "      <td>4540 WEST 51ST STREET</td>\n",
       "      <td>60632</td>\n",
       "    </tr>\n",
       "    <tr>\n",
       "      <th>14</th>\n",
       "      <td>15</td>\n",
       "      <td>Raymond A. Lopez</td>\n",
       "      <td>1650 WEST 63RD STREET</td>\n",
       "      <td>60636</td>\n",
       "      <td>56057</td>\n",
       "      <td>51501</td>\n",
       "      <td>-8%</td>\n",
       "      <td>CHICAGO FIRE DEPARTMENT ENGINE COMPANY 123 2215</td>\n",
       "      <td>60632</td>\n",
       "    </tr>\n",
       "    <tr>\n",
       "      <th>15</th>\n",
       "      <td>16</td>\n",
       "      <td>Toni L. Foulkes</td>\n",
       "      <td>3045 WEST 63RD STREET</td>\n",
       "      <td>60629</td>\n",
       "      <td>50205</td>\n",
       "      <td>51954</td>\n",
       "      <td>3%</td>\n",
       "      <td>6036 SOUTH WOOD STREET</td>\n",
       "      <td>60636</td>\n",
       "    </tr>\n",
       "    <tr>\n",
       "      <th>16</th>\n",
       "      <td>17</td>\n",
       "      <td>David H. Moore</td>\n",
       "      <td>7313 SOUTH ASHLAND AVENUE</td>\n",
       "      <td>60636</td>\n",
       "      <td>49264</td>\n",
       "      <td>51846</td>\n",
       "      <td>5%</td>\n",
       "      <td>7216 SOUTH WINCHESTER AVENUE</td>\n",
       "      <td>60636</td>\n",
       "    </tr>\n",
       "    <tr>\n",
       "      <th>17</th>\n",
       "      <td>18</td>\n",
       "      <td>Derrick G. Curtis</td>\n",
       "      <td>8359 SOUTH PULASKI ROAD</td>\n",
       "      <td>60652</td>\n",
       "      <td>55043</td>\n",
       "      <td>52992</td>\n",
       "      <td>-4%</td>\n",
       "      <td>3286 WEST COLUMBUS AVENUE</td>\n",
       "      <td>60652</td>\n",
       "    </tr>\n",
       "    <tr>\n",
       "      <th>18</th>\n",
       "      <td>19</td>\n",
       "      <td>Matthew J. O'Shea</td>\n",
       "      <td>10400 SOUTH WESTERN AVENUE</td>\n",
       "      <td>60643</td>\n",
       "      <td>54546</td>\n",
       "      <td>51525</td>\n",
       "      <td>-6%</td>\n",
       "      <td>9999 SOUTH FRANCISCO AVENUE</td>\n",
       "      <td>60805</td>\n",
       "    </tr>\n",
       "    <tr>\n",
       "      <th>19</th>\n",
       "      <td>20</td>\n",
       "      <td>Willie B. Cochran</td>\n",
       "      <td>6357 SOUTH COTTAGE GROVE AVENUE</td>\n",
       "      <td>60637</td>\n",
       "      <td>51854</td>\n",
       "      <td>52372</td>\n",
       "      <td>1%</td>\n",
       "      <td>DAN RYAN EXPRESSWAY PARK MANOR</td>\n",
       "      <td>60621</td>\n",
       "    </tr>\n",
       "    <tr>\n",
       "      <th>20</th>\n",
       "      <td>21</td>\n",
       "      <td>Howard B. Brookins, Jr.</td>\n",
       "      <td>9011 SOUTH ASHLAND AVENUE, UNIT B</td>\n",
       "      <td>60620</td>\n",
       "      <td>51751</td>\n",
       "      <td>51632</td>\n",
       "      <td>0%</td>\n",
       "      <td>8852-8854 SOUTH EMERALD AVENUE</td>\n",
       "      <td>60620</td>\n",
       "    </tr>\n",
       "    <tr>\n",
       "      <th>21</th>\n",
       "      <td>22</td>\n",
       "      <td>Ricardo Munoz</td>\n",
       "      <td>2500 SOUTH ST. LOUIS AVENUE</td>\n",
       "      <td>60623</td>\n",
       "      <td>59734</td>\n",
       "      <td>53515</td>\n",
       "      <td>-10%</td>\n",
       "      <td>4233 WEST 36TH STREET</td>\n",
       "      <td>60632</td>\n",
       "    </tr>\n",
       "    <tr>\n",
       "      <th>22</th>\n",
       "      <td>23</td>\n",
       "      <td>Michael R. Zalewski</td>\n",
       "      <td>6247 SOUTH ARCHER AVENUE</td>\n",
       "      <td>60638</td>\n",
       "      <td>63691</td>\n",
       "      <td>53728</td>\n",
       "      <td>-16%</td>\n",
       "      <td>CHICAGO MIDWAY INTERNATIONAL AIRPORT WEST 62ND...</td>\n",
       "      <td>60629</td>\n",
       "    </tr>\n",
       "    <tr>\n",
       "      <th>23</th>\n",
       "      <td>24</td>\n",
       "      <td>Michael Scott, Jr.</td>\n",
       "      <td>1158 SOUTH KEELER AVENUE</td>\n",
       "      <td>60624</td>\n",
       "      <td>50879</td>\n",
       "      <td>54909</td>\n",
       "      <td>8%</td>\n",
       "      <td>1635 SOUTH CHRISTIANA AVENUE</td>\n",
       "      <td>60623</td>\n",
       "    </tr>\n",
       "    <tr>\n",
       "      <th>24</th>\n",
       "      <td>25</td>\n",
       "      <td>Daniel \"Danny\" Solis</td>\n",
       "      <td>1800 SOUTH BLUE ISLAND AVENUE</td>\n",
       "      <td>60608</td>\n",
       "      <td>55954</td>\n",
       "      <td>54539</td>\n",
       "      <td>-3%</td>\n",
       "      <td>1632-1746 SOUTH MILLER STREET</td>\n",
       "      <td>60608</td>\n",
       "    </tr>\n",
       "    <tr>\n",
       "      <th>25</th>\n",
       "      <td>26</td>\n",
       "      <td>Roberto Maldonado</td>\n",
       "      <td>2511 WEST DIVISION STREET</td>\n",
       "      <td>60622</td>\n",
       "      <td>56841</td>\n",
       "      <td>53516</td>\n",
       "      <td>-6%</td>\n",
       "      <td>LITTLE CUBS FIELD COMFORT STATION 1400</td>\n",
       "      <td>60622</td>\n",
       "    </tr>\n",
       "    <tr>\n",
       "      <th>26</th>\n",
       "      <td>27</td>\n",
       "      <td>Walter Burnett, Jr.</td>\n",
       "      <td>4 NORTH WESTERN AVENUE</td>\n",
       "      <td>60612</td>\n",
       "      <td>61287</td>\n",
       "      <td>52939</td>\n",
       "      <td>-14%</td>\n",
       "      <td>2151-2153 WEST CHICAGO AVENUE</td>\n",
       "      <td>60651</td>\n",
       "    </tr>\n",
       "    <tr>\n",
       "      <th>27</th>\n",
       "      <td>28</td>\n",
       "      <td>Jason C. Ervin</td>\n",
       "      <td>2602 WEST 16TH STREET</td>\n",
       "      <td>60612</td>\n",
       "      <td>49423</td>\n",
       "      <td>55199</td>\n",
       "      <td>12%</td>\n",
       "      <td>RML SPECIALTY HOSPITAL 3435</td>\n",
       "      <td>60624</td>\n",
       "    </tr>\n",
       "    <tr>\n",
       "      <th>28</th>\n",
       "      <td>29</td>\n",
       "      <td>Chris Taliaferro</td>\n",
       "      <td>6272 WEST NORTH AVENUE</td>\n",
       "      <td>60639</td>\n",
       "      <td>61949</td>\n",
       "      <td>55267</td>\n",
       "      <td>-11%</td>\n",
       "      <td>1241 NORTH RIDGELAND AVENUE</td>\n",
       "      <td>60302</td>\n",
       "    </tr>\n",
       "    <tr>\n",
       "      <th>29</th>\n",
       "      <td>30</td>\n",
       "      <td>Ariel E. Reyboras</td>\n",
       "      <td>3559 NORTH MILWAUKEE AVENUE</td>\n",
       "      <td>60641</td>\n",
       "      <td>72698</td>\n",
       "      <td>55560</td>\n",
       "      <td>-24%</td>\n",
       "      <td>5118 WEST FLETCHER STREET</td>\n",
       "      <td>60641</td>\n",
       "    </tr>\n",
       "    <tr>\n",
       "      <th>30</th>\n",
       "      <td>31</td>\n",
       "      <td>Milagros \"Milly\" Santiago</td>\n",
       "      <td>2521 NORTH PULASKI ROAD</td>\n",
       "      <td>60639</td>\n",
       "      <td>65045</td>\n",
       "      <td>53724</td>\n",
       "      <td>-17%</td>\n",
       "      <td>2854 NORTH KEATING AVENUE</td>\n",
       "      <td>60641</td>\n",
       "    </tr>\n",
       "    <tr>\n",
       "      <th>31</th>\n",
       "      <td>32</td>\n",
       "      <td>Scott Waguespack</td>\n",
       "      <td>2657 NORTH CLYBOURN AVENUE</td>\n",
       "      <td>60614</td>\n",
       "      <td>57204</td>\n",
       "      <td>55184</td>\n",
       "      <td>-4%</td>\n",
       "      <td>2901 NORTH WASHTENAW AVENUE</td>\n",
       "      <td>60618</td>\n",
       "    </tr>\n",
       "    <tr>\n",
       "      <th>32</th>\n",
       "      <td>33</td>\n",
       "      <td>Deborah Mell</td>\n",
       "      <td>3001 WEST IRVING PARK ROAD</td>\n",
       "      <td>60618</td>\n",
       "      <td>63695</td>\n",
       "      <td>55598</td>\n",
       "      <td>-13%</td>\n",
       "      <td>4041-4043 NORTH RICHMOND STREET</td>\n",
       "      <td>60625</td>\n",
       "    </tr>\n",
       "    <tr>\n",
       "      <th>33</th>\n",
       "      <td>34</td>\n",
       "      <td>Carrie M. Austin</td>\n",
       "      <td>507 WEST 111TH STREET</td>\n",
       "      <td>60628</td>\n",
       "      <td>49922</td>\n",
       "      <td>51599</td>\n",
       "      <td>3%</td>\n",
       "      <td>11544-11546 SOUTH PEORIA STREET</td>\n",
       "      <td>60827</td>\n",
       "    </tr>\n",
       "    <tr>\n",
       "      <th>34</th>\n",
       "      <td>35</td>\n",
       "      <td>Carlos Ramirez-Rosa</td>\n",
       "      <td>2710 NORTH SAWYER AVENUE</td>\n",
       "      <td>60647</td>\n",
       "      <td>57588</td>\n",
       "      <td>55281</td>\n",
       "      <td>-4%</td>\n",
       "      <td>3634 WEST BELMONT AVENUE</td>\n",
       "      <td>60618</td>\n",
       "    </tr>\n",
       "    <tr>\n",
       "      <th>35</th>\n",
       "      <td>36</td>\n",
       "      <td>Gilbert Villegas</td>\n",
       "      <td>6934 WEST DIVERSEY</td>\n",
       "      <td>60607</td>\n",
       "      <td>63376</td>\n",
       "      <td>54766</td>\n",
       "      <td>-14%</td>\n",
       "      <td>2918 NORTH RUTHERFORD AVENUE</td>\n",
       "      <td>60634</td>\n",
       "    </tr>\n",
       "    <tr>\n",
       "      <th>36</th>\n",
       "      <td>37</td>\n",
       "      <td>Emma M. Mitts</td>\n",
       "      <td>4924 WEST CHICAGO AVENUE</td>\n",
       "      <td>60651</td>\n",
       "      <td>56120</td>\n",
       "      <td>51538</td>\n",
       "      <td>-8%</td>\n",
       "      <td>4738-4748 WEST RICE STREET</td>\n",
       "      <td>60651</td>\n",
       "    </tr>\n",
       "    <tr>\n",
       "      <th>37</th>\n",
       "      <td>38</td>\n",
       "      <td>Nicholas Sposato</td>\n",
       "      <td>3821  NORTH HARLEM AVENUE</td>\n",
       "      <td>60634</td>\n",
       "      <td>66011</td>\n",
       "      <td>56001</td>\n",
       "      <td>-15%</td>\n",
       "      <td>7307-7331 WEST IRVING PARK ROAD</td>\n",
       "      <td>60706</td>\n",
       "    </tr>\n",
       "    <tr>\n",
       "      <th>38</th>\n",
       "      <td>39</td>\n",
       "      <td>Margaret Laurino</td>\n",
       "      <td>4404 WEST LAWRENCE AVENUE</td>\n",
       "      <td>60630</td>\n",
       "      <td>64291</td>\n",
       "      <td>55882</td>\n",
       "      <td>-13%</td>\n",
       "      <td>QUEEN OF ALL SAINTS BASILICA 6280</td>\n",
       "      <td>60646</td>\n",
       "    </tr>\n",
       "    <tr>\n",
       "      <th>39</th>\n",
       "      <td>40</td>\n",
       "      <td>Patrick J. O'Connor</td>\n",
       "      <td>5850 NORTH LINCOLN AVENUE</td>\n",
       "      <td>60659</td>\n",
       "      <td>58652</td>\n",
       "      <td>55319</td>\n",
       "      <td>-6%</td>\n",
       "      <td>5536 NORTH ARTESIAN AVENUE</td>\n",
       "      <td>60645</td>\n",
       "    </tr>\n",
       "    <tr>\n",
       "      <th>40</th>\n",
       "      <td>41</td>\n",
       "      <td>Anthony V. Napolitano</td>\n",
       "      <td>7442 NORTH HARLEM AVENUE</td>\n",
       "      <td>60631</td>\n",
       "      <td>56127</td>\n",
       "      <td>55991</td>\n",
       "      <td>0%</td>\n",
       "      <td>1652 SOUTH CLIFTON AVENUE</td>\n",
       "      <td>60068</td>\n",
       "    </tr>\n",
       "    <tr>\n",
       "      <th>41</th>\n",
       "      <td>42</td>\n",
       "      <td>Brendan Reilly</td>\n",
       "      <td>325 WEST HURON STREET, SUITE 510</td>\n",
       "      <td>60654</td>\n",
       "      <td>68102</td>\n",
       "      <td>55870</td>\n",
       "      <td>-18%</td>\n",
       "      <td>410-420 WEST GRAND AVENUE</td>\n",
       "      <td>60654</td>\n",
       "    </tr>\n",
       "    <tr>\n",
       "      <th>42</th>\n",
       "      <td>43</td>\n",
       "      <td>Michelle Smith</td>\n",
       "      <td>2523 NORTH HALSTED STREET</td>\n",
       "      <td>60614</td>\n",
       "      <td>57668</td>\n",
       "      <td>56170</td>\n",
       "      <td>-3%</td>\n",
       "      <td>LINCOLN PARK ZOO 2001</td>\n",
       "      <td>60614</td>\n",
       "    </tr>\n",
       "    <tr>\n",
       "      <th>43</th>\n",
       "      <td>44</td>\n",
       "      <td>Tom Tunney</td>\n",
       "      <td>3223 NORTH SHEFFIELD AVENUE</td>\n",
       "      <td>60657</td>\n",
       "      <td>58758</td>\n",
       "      <td>56058</td>\n",
       "      <td>-5%</td>\n",
       "      <td>507-513 WEST ALDINE AVENUE</td>\n",
       "      <td>60657</td>\n",
       "    </tr>\n",
       "    <tr>\n",
       "      <th>44</th>\n",
       "      <td>45</td>\n",
       "      <td>John S. Arena</td>\n",
       "      <td>4754 NORTH MILWAUKEE AVENUE</td>\n",
       "      <td>60630</td>\n",
       "      <td>60653</td>\n",
       "      <td>55967</td>\n",
       "      <td>-8%</td>\n",
       "      <td>CONGREGATIONAL CHURCH OF JEFFERSON PARK 5320</td>\n",
       "      <td>60630</td>\n",
       "    </tr>\n",
       "    <tr>\n",
       "      <th>45</th>\n",
       "      <td>46</td>\n",
       "      <td>James Cappleman</td>\n",
       "      <td>4544 NORTH BROADWAY AVENUE</td>\n",
       "      <td>60640</td>\n",
       "      <td>56587</td>\n",
       "      <td>53784</td>\n",
       "      <td>-5%</td>\n",
       "      <td>UPTOWN BROADWAY BUILDING 4743-4763</td>\n",
       "      <td>60640</td>\n",
       "    </tr>\n",
       "    <tr>\n",
       "      <th>46</th>\n",
       "      <td>47</td>\n",
       "      <td>Ameya Pawar</td>\n",
       "      <td>4243 NORTH LINCOLN AVENUE</td>\n",
       "      <td>60618</td>\n",
       "      <td>52108</td>\n",
       "      <td>55074</td>\n",
       "      <td>6%</td>\n",
       "      <td>2153 WEST BERTEAU AVENUE</td>\n",
       "      <td>60618</td>\n",
       "    </tr>\n",
       "    <tr>\n",
       "      <th>47</th>\n",
       "      <td>48</td>\n",
       "      <td>Harry Osterman</td>\n",
       "      <td>5533 NORTH BROADWAY AVENUE</td>\n",
       "      <td>60640</td>\n",
       "      <td>56246</td>\n",
       "      <td>55014</td>\n",
       "      <td>-2%</td>\n",
       "      <td>1025 WEST HOLLYWOOD AVENUE</td>\n",
       "      <td>60660</td>\n",
       "    </tr>\n",
       "    <tr>\n",
       "      <th>48</th>\n",
       "      <td>49</td>\n",
       "      <td>Joe Moore</td>\n",
       "      <td>7356 NORTH GREENVIEW AVENUE</td>\n",
       "      <td>60626</td>\n",
       "      <td>59435</td>\n",
       "      <td>54633</td>\n",
       "      <td>-8%</td>\n",
       "      <td>1426 WEST ESTES AVENUE</td>\n",
       "      <td>60645</td>\n",
       "    </tr>\n",
       "    <tr>\n",
       "      <th>49</th>\n",
       "      <td>50</td>\n",
       "      <td>Debra L. Silverstein</td>\n",
       "      <td>2949 WEST DEVON AVENUE, SUITE A</td>\n",
       "      <td>60659</td>\n",
       "      <td>62383</td>\n",
       "      <td>55809</td>\n",
       "      <td>-11%</td>\n",
       "      <td>2638 WEST NORTH SHORE AVENUE</td>\n",
       "      <td>60645</td>\n",
       "    </tr>\n",
       "  </tbody>\n",
       "</table>\n",
       "</div>"
      ],
      "text/plain": [
       "   ward                   alderman                          address_x  zip_x  \\\n",
       "0     1         Proco \"Joe\" Moreno          2058 NORTH WESTERN AVENUE  60647   \n",
       "1     2              Brian Hopkins         1400 NORTH  ASHLAND AVENUE  60622   \n",
       "2     3                 Pat Dowell            5046 SOUTH STATE STREET  60609   \n",
       "3     4           William D. Burns    435 EAST 35TH STREET, 1ST FLOOR  60616   \n",
       "4     5         Leslie A. Hairston              2325 EAST 71ST STREET  60649   \n",
       "5     6         Roderick T. Sawyer   8001 S. MARTIN LUTHER KING DRIVE  60619   \n",
       "6     7        Gregory I. Mitchell              2249 EAST 95TH STREET  60617   \n",
       "7     8         Michelle A. Harris    8539 SOUTH COTTAGE GROVE AVENUE  60619   \n",
       "8     9           Anthony A. Beale                34 EAST 112TH PLACE  60628   \n",
       "9    10      Susan Sadlowski Garza           10500 SOUTH EWING AVENUE  60617   \n",
       "10   11     Patrick Daley Thompson          3659 SOUTH HALSTED STREET  60609   \n",
       "11   12            George Cardenas           3476 SOUTH ARCHER AVENUE  60608   \n",
       "12   13                Marty Quinn            6500 SOUTH PULASKI ROAD  60629   \n",
       "13   14            Edward M. Burke              2650 WEST 51ST STREET  60632   \n",
       "14   15           Raymond A. Lopez              1650 WEST 63RD STREET  60636   \n",
       "15   16            Toni L. Foulkes              3045 WEST 63RD STREET  60629   \n",
       "16   17             David H. Moore          7313 SOUTH ASHLAND AVENUE  60636   \n",
       "17   18          Derrick G. Curtis            8359 SOUTH PULASKI ROAD  60652   \n",
       "18   19          Matthew J. O'Shea         10400 SOUTH WESTERN AVENUE  60643   \n",
       "19   20          Willie B. Cochran    6357 SOUTH COTTAGE GROVE AVENUE  60637   \n",
       "20   21    Howard B. Brookins, Jr.  9011 SOUTH ASHLAND AVENUE, UNIT B  60620   \n",
       "21   22              Ricardo Munoz        2500 SOUTH ST. LOUIS AVENUE  60623   \n",
       "22   23        Michael R. Zalewski           6247 SOUTH ARCHER AVENUE  60638   \n",
       "23   24         Michael Scott, Jr.           1158 SOUTH KEELER AVENUE  60624   \n",
       "24   25       Daniel \"Danny\" Solis      1800 SOUTH BLUE ISLAND AVENUE  60608   \n",
       "25   26          Roberto Maldonado          2511 WEST DIVISION STREET  60622   \n",
       "26   27        Walter Burnett, Jr.             4 NORTH WESTERN AVENUE  60612   \n",
       "27   28             Jason C. Ervin              2602 WEST 16TH STREET  60612   \n",
       "28   29           Chris Taliaferro             6272 WEST NORTH AVENUE  60639   \n",
       "29   30          Ariel E. Reyboras        3559 NORTH MILWAUKEE AVENUE  60641   \n",
       "30   31  Milagros \"Milly\" Santiago            2521 NORTH PULASKI ROAD  60639   \n",
       "31   32           Scott Waguespack         2657 NORTH CLYBOURN AVENUE  60614   \n",
       "32   33               Deborah Mell         3001 WEST IRVING PARK ROAD  60618   \n",
       "33   34           Carrie M. Austin              507 WEST 111TH STREET  60628   \n",
       "34   35        Carlos Ramirez-Rosa           2710 NORTH SAWYER AVENUE  60647   \n",
       "35   36           Gilbert Villegas                 6934 WEST DIVERSEY  60607   \n",
       "36   37              Emma M. Mitts           4924 WEST CHICAGO AVENUE  60651   \n",
       "37   38           Nicholas Sposato          3821  NORTH HARLEM AVENUE  60634   \n",
       "38   39           Margaret Laurino          4404 WEST LAWRENCE AVENUE  60630   \n",
       "39   40        Patrick J. O'Connor          5850 NORTH LINCOLN AVENUE  60659   \n",
       "40   41      Anthony V. Napolitano           7442 NORTH HARLEM AVENUE  60631   \n",
       "41   42             Brendan Reilly   325 WEST HURON STREET, SUITE 510  60654   \n",
       "42   43             Michelle Smith          2523 NORTH HALSTED STREET  60614   \n",
       "43   44                 Tom Tunney        3223 NORTH SHEFFIELD AVENUE  60657   \n",
       "44   45              John S. Arena        4754 NORTH MILWAUKEE AVENUE  60630   \n",
       "45   46            James Cappleman         4544 NORTH BROADWAY AVENUE  60640   \n",
       "46   47                Ameya Pawar          4243 NORTH LINCOLN AVENUE  60618   \n",
       "47   48             Harry Osterman         5533 NORTH BROADWAY AVENUE  60640   \n",
       "48   49                  Joe Moore        7356 NORTH GREENVIEW AVENUE  60626   \n",
       "49   50       Debra L. Silverstein    2949 WEST DEVON AVENUE, SUITE A  60659   \n",
       "\n",
       "    pop_2000  pop_2010 change  \\\n",
       "0      52951     56149     6%   \n",
       "1      54361     55805     3%   \n",
       "2      40385     53039    31%   \n",
       "3      51953     54589     5%   \n",
       "4      55302     51455    -7%   \n",
       "5      54989     52341    -5%   \n",
       "6      54593     51581    -6%   \n",
       "7      54039     51687    -4%   \n",
       "8      52008     51519    -1%   \n",
       "9      56613     51535    -9%   \n",
       "10     64228     51497   -20%   \n",
       "11     68922     52235   -24%   \n",
       "12     64382     53722   -17%   \n",
       "13     80143     54031   -33%   \n",
       "14     56057     51501    -8%   \n",
       "15     50205     51954     3%   \n",
       "16     49264     51846     5%   \n",
       "17     55043     52992    -4%   \n",
       "18     54546     51525    -6%   \n",
       "19     51854     52372     1%   \n",
       "20     51751     51632     0%   \n",
       "21     59734     53515   -10%   \n",
       "22     63691     53728   -16%   \n",
       "23     50879     54909     8%   \n",
       "24     55954     54539    -3%   \n",
       "25     56841     53516    -6%   \n",
       "26     61287     52939   -14%   \n",
       "27     49423     55199    12%   \n",
       "28     61949     55267   -11%   \n",
       "29     72698     55560   -24%   \n",
       "30     65045     53724   -17%   \n",
       "31     57204     55184    -4%   \n",
       "32     63695     55598   -13%   \n",
       "33     49922     51599     3%   \n",
       "34     57588     55281    -4%   \n",
       "35     63376     54766   -14%   \n",
       "36     56120     51538    -8%   \n",
       "37     66011     56001   -15%   \n",
       "38     64291     55882   -13%   \n",
       "39     58652     55319    -6%   \n",
       "40     56127     55991     0%   \n",
       "41     68102     55870   -18%   \n",
       "42     57668     56170    -3%   \n",
       "43     58758     56058    -5%   \n",
       "44     60653     55967    -8%   \n",
       "45     56587     53784    -5%   \n",
       "46     52108     55074     6%   \n",
       "47     56246     55014    -2%   \n",
       "48     59435     54633    -8%   \n",
       "49     62383     55809   -11%   \n",
       "\n",
       "                                            address_y  zip_y  \n",
       "0                         2765 WEST SAINT MARY STREET  60647  \n",
       "1                            WM WASTE MANAGEMENT 1500  60622  \n",
       "2                                 17 EAST 38TH STREET  60653  \n",
       "3             31ST ST HARBOR BUILDING LAKEFRONT TRAIL  60653  \n",
       "4             JACKSON PARK LAGOON SOUTH CORNELL DRIVE  60637  \n",
       "5                                150 WEST 74TH STREET  60636  \n",
       "6                           8549 SOUTH OGLESBY AVENUE  60617  \n",
       "7                          1346-1352 EAST 75TH STREET  60649  \n",
       "8                  11039-11059 SOUTH WENTWORTH AVENUE  60628  \n",
       "9                                10534 SOUTH AVENUE F  46394  \n",
       "10                            943-947 WEST 14TH PLACE  60607  \n",
       "11                         CP 46 STEVENSON EXPRESSWAY  60632  \n",
       "12                    SOUTH RAMP SOUTH LARAMIE AVENUE  60638  \n",
       "13                              4540 WEST 51ST STREET  60632  \n",
       "14    CHICAGO FIRE DEPARTMENT ENGINE COMPANY 123 2215  60632  \n",
       "15                             6036 SOUTH WOOD STREET  60636  \n",
       "16                       7216 SOUTH WINCHESTER AVENUE  60636  \n",
       "17                          3286 WEST COLUMBUS AVENUE  60652  \n",
       "18                        9999 SOUTH FRANCISCO AVENUE  60805  \n",
       "19                     DAN RYAN EXPRESSWAY PARK MANOR  60621  \n",
       "20                     8852-8854 SOUTH EMERALD AVENUE  60620  \n",
       "21                              4233 WEST 36TH STREET  60632  \n",
       "22  CHICAGO MIDWAY INTERNATIONAL AIRPORT WEST 62ND...  60629  \n",
       "23                       1635 SOUTH CHRISTIANA AVENUE  60623  \n",
       "24                      1632-1746 SOUTH MILLER STREET  60608  \n",
       "25             LITTLE CUBS FIELD COMFORT STATION 1400  60622  \n",
       "26                      2151-2153 WEST CHICAGO AVENUE  60651  \n",
       "27                        RML SPECIALTY HOSPITAL 3435  60624  \n",
       "28                        1241 NORTH RIDGELAND AVENUE  60302  \n",
       "29                          5118 WEST FLETCHER STREET  60641  \n",
       "30                          2854 NORTH KEATING AVENUE  60641  \n",
       "31                        2901 NORTH WASHTENAW AVENUE  60618  \n",
       "32                    4041-4043 NORTH RICHMOND STREET  60625  \n",
       "33                    11544-11546 SOUTH PEORIA STREET  60827  \n",
       "34                           3634 WEST BELMONT AVENUE  60618  \n",
       "35                       2918 NORTH RUTHERFORD AVENUE  60634  \n",
       "36                         4738-4748 WEST RICE STREET  60651  \n",
       "37                    7307-7331 WEST IRVING PARK ROAD  60706  \n",
       "38                  QUEEN OF ALL SAINTS BASILICA 6280  60646  \n",
       "39                         5536 NORTH ARTESIAN AVENUE  60645  \n",
       "40                          1652 SOUTH CLIFTON AVENUE  60068  \n",
       "41                          410-420 WEST GRAND AVENUE  60654  \n",
       "42                              LINCOLN PARK ZOO 2001  60614  \n",
       "43                         507-513 WEST ALDINE AVENUE  60657  \n",
       "44       CONGREGATIONAL CHURCH OF JEFFERSON PARK 5320  60630  \n",
       "45                 UPTOWN BROADWAY BUILDING 4743-4763  60640  \n",
       "46                           2153 WEST BERTEAU AVENUE  60618  \n",
       "47                         1025 WEST HOLLYWOOD AVENUE  60660  \n",
       "48                             1426 WEST ESTES AVENUE  60645  \n",
       "49                       2638 WEST NORTH SHORE AVENUE  60645  "
      ]
     },
     "execution_count": 14,
     "metadata": {},
     "output_type": "execute_result"
    }
   ],
   "source": [
    "# Merge wards and census on the ward column and save the result to wards_census.\n",
    "ward_census = wards.merge(census, on=\"ward\")\n",
    "ward_census\n"
   ]
  },
  {
   "cell_type": "markdown",
   "id": "d7c2b260",
   "metadata": {},
   "source": [
    "# Merging Multiple DataFrames\n",
    "\n",
    "## Introduction\n",
    "\n",
    "In practical data analysis, you frequently encounter scenarios where data is distributed across more than two tables—perhaps different files for different years, separate tables for related entities, or multiple sources tracking overlapping phenomena. The ability to **merge multiple DataFrames** is essential for building a unified, coherent dataset from fragmented sources. This task, while conceptually an extension of pairwise merging, introduces new technical and organisational considerations.\n",
    "\n",
    "This section presents a rigorous and pedagogical approach to merging more than two DataFrames in Pandas, emphasising underlying principles, technical best practices, and clear strategies for complex real-world workflows.\n",
    "\n",
    "## Why Merge Multiple Tables?\n",
    "\n",
    "- **Normalised data:** Well-structured datasets are often “normalised,” with each table focusing on a single entity or relationship (e.g., users, transactions, products).\n",
    "- **Incremental enrichment:** You may need to successively enrich a “core” dataset by merging in supplementary information (demographics, geography, transactions, etc.).\n",
    "- **Time series and partitioned data:** Data split by year, month, or region often arrives as multiple files/tables requiring consolidation.\n",
    "- **Integrating data from multiple systems:** Merging is required to assemble a holistic view from various sources or platforms.\n",
    "\n",
    "## Principles and Theory: Merging Beyond Two Tables\n",
    "\n",
    "Theoretically, a **multi-way merge** can be decomposed into a sequence of binary (pairwise) merges. The result of each merge serves as the left table in the next merge, and so on.  \n",
    "However, practical complexities arise:\n",
    "- **Consistent join keys:** All merges must use compatible keys; mismatched keys lead to data loss or duplication.\n",
    "- **Naming collisions:** Overlapping column names across tables require explicit disambiguation via `suffixes`.\n",
    "- **Data loss:** Each inner join restricts the dataset to rows common to all merged tables; outer joins preserve more data but may introduce missing values.\n",
    "\n",
    "## Single Merge vs. Multiple Merges\n",
    "\n",
    "### Single (Pairwise) Merge\n",
    "\n",
    "```python\n",
    "merged = pd.merge(table1, table2, on=\"id\")\n",
    "```\n",
    "- Simple, clear, and effective when you only need to combine two tables.\n",
    "\n",
    "### Merging Multiple Tables: Stepwise Approach\n",
    "\n",
    "To merge three or more tables, you typically proceed recursively:\n",
    "\n",
    "```python\n",
    "merged = pd.merge(table1, table2, on=\"id\", suffixes=(\"_t1\", \"_t2\"))\n",
    "merged = pd.merge(merged, table3, on=\"id\", suffixes=(\"\", \"_t3\"))\n",
    "```\n",
    "\n",
    "Each call combines the result of the previous merge with the next table, one at a time.\n",
    "\n",
    "### Example: Merging Multiple Tables with Composite Keys and Suffixes\n",
    "\n",
    "Suppose you have several tables sharing composite keys (multiple columns), and some columns overlap in name:\n",
    "\n",
    "```python\n",
    "merged = pd.merge(\n",
    "    table1,\n",
    "    table2,\n",
    "    on=[\"user_id\", \"date\"],\n",
    "    suffixes=(\"_t1\", \"_t2\")\n",
    ")\n",
    "merged = pd.merge(\n",
    "    merged,\n",
    "    table3,\n",
    "    on=[\"user_id\", \"date\"],\n",
    "    suffixes=(\"\", \"_t3\")\n",
    ")\n",
    "```\n",
    "- **Composite keys:** Use `on=[...]` to specify all join columns.\n",
    "- **Suffixes:** Avoid naming collisions as each table is added.\n",
    "\n",
    "## Chaining `.merge()` for Multiple DataFrames\n",
    "\n",
    "When merging more than two DataFrames that all share the same join key(s), Pandas allows you to **chain** `.merge()` calls. This produces concise, readable code and maintains clarity about the order and logic of each join.\n",
    "\n",
    "### Example: Merging Three or More Tables\n",
    "\n",
    "#### Merging Three Tables\n",
    "\n",
    "```python\n",
    "merged = df1.merge(df2, on=\"col\") \\\n",
    "            .merge(df3, on=\"col\")\n",
    "```\n",
    "- The result of the first merge (`df1` with `df2`) is merged immediately with `df3` on the same key.\n",
    "\n",
    "#### Merging Four Tables\n",
    "\n",
    "```python\n",
    "merged = df1.merge(df2, on=\"col\") \\\n",
    "            .merge(df3, on=\"col\") \\\n",
    "            .merge(df4, on=\"col\")\n",
    "```\n",
    "- The process is associative and left-to-right:  \n",
    "  `(((df1 + df2) + df3) + df4)`\n",
    "\n",
    "#### Merging Five or More Tables\n",
    "\n",
    "```python\n",
    "merged = df1.merge(df2, on=\"col\") \\\n",
    "            .merge(df3, on=\"col\") \\\n",
    "            .merge(df4, on=\"col\") \\\n",
    "            .merge(df5, on=\"col\")\n",
    "```\n",
    "- Each additional table is merged into the accumulating result.\n",
    "\n",
    "### Key Points and Best Practices\n",
    "\n",
    "- **Consistent join key:** All tables must share the same key(s). For composite keys, use `on=[\"col1\", \"col2\"]`.\n",
    "- **Suffixes for name collisions:** If non-key columns have the same names, manage them with `suffixes` in each call to avoid ambiguity.\n",
    "- **Join type:** By default, `.merge()` performs an inner join. Specify `how=\"left\"` (or `\"outer\"`, etc.) if needed for your logic.\n",
    "- **Readability:** For many tables or programmatic merges, consider using a loop or `functools.reduce()` for even greater generality and maintainability.\n",
    "\n",
    "### Programmatic Merging with a Loop\n",
    "\n",
    "If you have a list of DataFrames to merge:\n",
    "\n",
    "```python\n",
    "from functools import reduce\n",
    "\n",
    "merged = reduce(lambda left, right: left.merge(right, on=\"col\"), [df1, df2, df3, df4, df5])\n",
    "```\n",
    "- This pattern is particularly useful when the number of tables is not known in advance (e.g., reading from a directory of CSV files).\n",
    "\n",
    "\n",
    "### Advanced: Different Join Keys and Suffixes\n",
    "\n",
    "If each merge uses different keys or needs custom suffixes, chain explicitly:\n",
    "\n",
    "```python\n",
    "merged = df1.merge(df2, on=\"key1\", suffixes=(\"_a\", \"_b\")) \\\n",
    "            .merge(df3, on=\"key2\", suffixes=(\"\", \"_c\")) \\\n",
    "            .merge(df4, on=\"key3\", suffixes=(\"\", \"_d\"))\n",
    "```\n",
    "\n"
   ]
  },
  {
   "cell_type": "code",
   "execution_count": 36,
   "id": "8b69a1a6",
   "metadata": {},
   "outputs": [],
   "source": [
    "licenses = pd.read_pickle(\"data/licenses.p\")\n",
    "biz_owners = pd.read_pickle(\"data/business_owners.p\")"
   ]
  },
  {
   "cell_type": "code",
   "execution_count": 18,
   "id": "20760643",
   "metadata": {},
   "outputs": [
    {
     "data": {
      "application/vnd.microsoft.datawrangler.viewer.v0+json": {
       "columns": [
        {
         "name": "index",
         "rawType": "int64",
         "type": "integer"
        },
        {
         "name": "account",
         "rawType": "object",
         "type": "string"
        },
        {
         "name": "ward",
         "rawType": "object",
         "type": "string"
        },
        {
         "name": "aid",
         "rawType": "object",
         "type": "unknown"
        },
        {
         "name": "business",
         "rawType": "object",
         "type": "string"
        },
        {
         "name": "address",
         "rawType": "object",
         "type": "string"
        },
        {
         "name": "zip",
         "rawType": "object",
         "type": "string"
        }
       ],
       "ref": "dfa95640-8625-4584-9fca-5eada2c6c650",
       "rows": [
        [
         "0",
         "307071",
         "3",
         "743",
         "REGGIE'S BAR & GRILL",
         "2105 S STATE ST",
         "60616"
        ],
        [
         "1",
         "10",
         "10",
         "829",
         "HONEYBEERS",
         "13200 S HOUSTON AVE",
         "60633"
        ],
        [
         "2",
         "10002",
         "14",
         "775",
         "CELINA DELI",
         "5089 S ARCHER AVE",
         "60632"
        ],
        [
         "3",
         "10005",
         "12",
         null,
         "KRAFT FOODS NORTH AMERICA",
         "2005 W 43RD ST",
         "60609"
        ],
        [
         "4",
         "10044",
         "44",
         "638",
         "NEYBOUR'S TAVERN & GRILLE",
         "3651 N SOUTHPORT AVE",
         "60613"
        ]
       ],
       "shape": {
        "columns": 6,
        "rows": 5
       }
      },
      "text/html": [
       "<div>\n",
       "<style scoped>\n",
       "    .dataframe tbody tr th:only-of-type {\n",
       "        vertical-align: middle;\n",
       "    }\n",
       "\n",
       "    .dataframe tbody tr th {\n",
       "        vertical-align: top;\n",
       "    }\n",
       "\n",
       "    .dataframe thead th {\n",
       "        text-align: right;\n",
       "    }\n",
       "</style>\n",
       "<table border=\"1\" class=\"dataframe\">\n",
       "  <thead>\n",
       "    <tr style=\"text-align: right;\">\n",
       "      <th></th>\n",
       "      <th>account</th>\n",
       "      <th>ward</th>\n",
       "      <th>aid</th>\n",
       "      <th>business</th>\n",
       "      <th>address</th>\n",
       "      <th>zip</th>\n",
       "    </tr>\n",
       "  </thead>\n",
       "  <tbody>\n",
       "    <tr>\n",
       "      <th>0</th>\n",
       "      <td>307071</td>\n",
       "      <td>3</td>\n",
       "      <td>743</td>\n",
       "      <td>REGGIE'S BAR &amp; GRILL</td>\n",
       "      <td>2105 S STATE ST</td>\n",
       "      <td>60616</td>\n",
       "    </tr>\n",
       "    <tr>\n",
       "      <th>1</th>\n",
       "      <td>10</td>\n",
       "      <td>10</td>\n",
       "      <td>829</td>\n",
       "      <td>HONEYBEERS</td>\n",
       "      <td>13200 S HOUSTON AVE</td>\n",
       "      <td>60633</td>\n",
       "    </tr>\n",
       "    <tr>\n",
       "      <th>2</th>\n",
       "      <td>10002</td>\n",
       "      <td>14</td>\n",
       "      <td>775</td>\n",
       "      <td>CELINA DELI</td>\n",
       "      <td>5089 S ARCHER AVE</td>\n",
       "      <td>60632</td>\n",
       "    </tr>\n",
       "    <tr>\n",
       "      <th>3</th>\n",
       "      <td>10005</td>\n",
       "      <td>12</td>\n",
       "      <td>NaN</td>\n",
       "      <td>KRAFT FOODS NORTH AMERICA</td>\n",
       "      <td>2005 W 43RD ST</td>\n",
       "      <td>60609</td>\n",
       "    </tr>\n",
       "    <tr>\n",
       "      <th>4</th>\n",
       "      <td>10044</td>\n",
       "      <td>44</td>\n",
       "      <td>638</td>\n",
       "      <td>NEYBOUR'S TAVERN &amp; GRILLE</td>\n",
       "      <td>3651 N SOUTHPORT AVE</td>\n",
       "      <td>60613</td>\n",
       "    </tr>\n",
       "  </tbody>\n",
       "</table>\n",
       "</div>"
      ],
      "text/plain": [
       "  account ward  aid                   business               address    zip\n",
       "0  307071    3  743       REGGIE'S BAR & GRILL       2105 S STATE ST  60616\n",
       "1      10   10  829                 HONEYBEERS   13200 S HOUSTON AVE  60633\n",
       "2   10002   14  775                CELINA DELI     5089 S ARCHER AVE  60632\n",
       "3   10005   12  NaN  KRAFT FOODS NORTH AMERICA        2005 W 43RD ST  60609\n",
       "4   10044   44  638  NEYBOUR'S TAVERN & GRILLE  3651 N SOUTHPORT AVE  60613"
      ]
     },
     "metadata": {},
     "output_type": "display_data"
    },
    {
     "data": {
      "text/plain": [
       "(10000, 6)"
      ]
     },
     "metadata": {},
     "output_type": "display_data"
    }
   ],
   "source": [
    "display(licenses.head())\n",
    "display(licenses.shape)"
   ]
  },
  {
   "cell_type": "code",
   "execution_count": 21,
   "id": "e1fda37b",
   "metadata": {},
   "outputs": [
    {
     "data": {
      "application/vnd.microsoft.datawrangler.viewer.v0+json": {
       "columns": [
        {
         "name": "index",
         "rawType": "int64",
         "type": "integer"
        },
        {
         "name": "account",
         "rawType": "object",
         "type": "string"
        },
        {
         "name": "first_name",
         "rawType": "object",
         "type": "string"
        },
        {
         "name": "last_name",
         "rawType": "object",
         "type": "string"
        },
        {
         "name": "title",
         "rawType": "object",
         "type": "string"
        }
       ],
       "ref": "636a6d0c-767d-4351-ae93-c7e2d35252dc",
       "rows": [
        [
         "0",
         "10",
         "PEARL",
         "SHERMAN",
         "PRESIDENT"
        ],
        [
         "1",
         "10",
         "PEARL",
         "SHERMAN",
         "SECRETARY"
        ],
        [
         "2",
         "10002",
         "WALTER",
         "MROZEK",
         "PARTNER"
        ],
        [
         "3",
         "10002",
         "CELINA",
         "BYRDAK",
         "PARTNER"
        ],
        [
         "4",
         "10005",
         "IRENE",
         "ROSENFELD",
         "PRESIDENT"
        ]
       ],
       "shape": {
        "columns": 4,
        "rows": 5
       }
      },
      "text/html": [
       "<div>\n",
       "<style scoped>\n",
       "    .dataframe tbody tr th:only-of-type {\n",
       "        vertical-align: middle;\n",
       "    }\n",
       "\n",
       "    .dataframe tbody tr th {\n",
       "        vertical-align: top;\n",
       "    }\n",
       "\n",
       "    .dataframe thead th {\n",
       "        text-align: right;\n",
       "    }\n",
       "</style>\n",
       "<table border=\"1\" class=\"dataframe\">\n",
       "  <thead>\n",
       "    <tr style=\"text-align: right;\">\n",
       "      <th></th>\n",
       "      <th>account</th>\n",
       "      <th>first_name</th>\n",
       "      <th>last_name</th>\n",
       "      <th>title</th>\n",
       "    </tr>\n",
       "  </thead>\n",
       "  <tbody>\n",
       "    <tr>\n",
       "      <th>0</th>\n",
       "      <td>10</td>\n",
       "      <td>PEARL</td>\n",
       "      <td>SHERMAN</td>\n",
       "      <td>PRESIDENT</td>\n",
       "    </tr>\n",
       "    <tr>\n",
       "      <th>1</th>\n",
       "      <td>10</td>\n",
       "      <td>PEARL</td>\n",
       "      <td>SHERMAN</td>\n",
       "      <td>SECRETARY</td>\n",
       "    </tr>\n",
       "    <tr>\n",
       "      <th>2</th>\n",
       "      <td>10002</td>\n",
       "      <td>WALTER</td>\n",
       "      <td>MROZEK</td>\n",
       "      <td>PARTNER</td>\n",
       "    </tr>\n",
       "    <tr>\n",
       "      <th>3</th>\n",
       "      <td>10002</td>\n",
       "      <td>CELINA</td>\n",
       "      <td>BYRDAK</td>\n",
       "      <td>PARTNER</td>\n",
       "    </tr>\n",
       "    <tr>\n",
       "      <th>4</th>\n",
       "      <td>10005</td>\n",
       "      <td>IRENE</td>\n",
       "      <td>ROSENFELD</td>\n",
       "      <td>PRESIDENT</td>\n",
       "    </tr>\n",
       "  </tbody>\n",
       "</table>\n",
       "</div>"
      ],
      "text/plain": [
       "  account first_name  last_name      title\n",
       "0      10      PEARL    SHERMAN  PRESIDENT\n",
       "1      10      PEARL    SHERMAN  SECRETARY\n",
       "2   10002     WALTER     MROZEK    PARTNER\n",
       "3   10002     CELINA     BYRDAK    PARTNER\n",
       "4   10005      IRENE  ROSENFELD  PRESIDENT"
      ]
     },
     "metadata": {},
     "output_type": "display_data"
    },
    {
     "data": {
      "text/plain": [
       "(21352, 4)"
      ]
     },
     "metadata": {},
     "output_type": "display_data"
    }
   ],
   "source": [
    "display(biz_owners.head())\n",
    "display(biz_owners.shape)"
   ]
  },
  {
   "cell_type": "code",
   "execution_count": 19,
   "id": "fd0b5169",
   "metadata": {},
   "outputs": [
    {
     "data": {
      "application/vnd.microsoft.datawrangler.viewer.v0+json": {
       "columns": [
        {
         "name": "index",
         "rawType": "int64",
         "type": "integer"
        },
        {
         "name": "ward",
         "rawType": "object",
         "type": "string"
        },
        {
         "name": "alderman",
         "rawType": "object",
         "type": "string"
        },
        {
         "name": "address_ward",
         "rawType": "object",
         "type": "string"
        },
        {
         "name": "zip_ward",
         "rawType": "object",
         "type": "string"
        },
        {
         "name": "account",
         "rawType": "object",
         "type": "string"
        },
        {
         "name": "aid",
         "rawType": "object",
         "type": "unknown"
        },
        {
         "name": "business",
         "rawType": "object",
         "type": "string"
        },
        {
         "name": "address_lic",
         "rawType": "object",
         "type": "string"
        },
        {
         "name": "zip_lic",
         "rawType": "object",
         "type": "string"
        }
       ],
       "ref": "72edec23-31c3-4beb-8757-0d59ef5b4e25",
       "rows": [
        [
         "0",
         "1",
         "Proco \"Joe\" Moreno",
         "2058 NORTH WESTERN AVENUE",
         "60647",
         "12024",
         null,
         "DIGILOG ELECTRONICS",
         "1038 N ASHLAND AVE",
         "60622"
        ],
        [
         "1",
         "1",
         "Proco \"Joe\" Moreno",
         "2058 NORTH WESTERN AVENUE",
         "60647",
         "14446",
         "743",
         "EMPTY BOTTLE INC",
         "1035 N WESTERN AVE 1ST",
         "60622"
        ],
        [
         "2",
         "1",
         "Proco \"Joe\" Moreno",
         "2058 NORTH WESTERN AVENUE",
         "60647",
         "14624",
         "775",
         "LITTLE MEL'S HOT DOG",
         "2205 N CALIFORNIA AVE",
         "60647"
        ],
        [
         "3",
         "1",
         "Proco \"Joe\" Moreno",
         "2058 NORTH WESTERN AVENUE",
         "60647",
         "14987",
         null,
         "MR. BROWN'S LOUNGE",
         "2301 W CHICAGO AVE 1ST",
         "60622"
        ],
        [
         "4",
         "1",
         "Proco \"Joe\" Moreno",
         "2058 NORTH WESTERN AVENUE",
         "60647",
         "15642",
         "814",
         "Beat Kitchen",
         "2000-2100 W DIVISION ST",
         "60622"
        ]
       ],
       "shape": {
        "columns": 9,
        "rows": 5
       }
      },
      "text/html": [
       "<div>\n",
       "<style scoped>\n",
       "    .dataframe tbody tr th:only-of-type {\n",
       "        vertical-align: middle;\n",
       "    }\n",
       "\n",
       "    .dataframe tbody tr th {\n",
       "        vertical-align: top;\n",
       "    }\n",
       "\n",
       "    .dataframe thead th {\n",
       "        text-align: right;\n",
       "    }\n",
       "</style>\n",
       "<table border=\"1\" class=\"dataframe\">\n",
       "  <thead>\n",
       "    <tr style=\"text-align: right;\">\n",
       "      <th></th>\n",
       "      <th>ward</th>\n",
       "      <th>alderman</th>\n",
       "      <th>address_ward</th>\n",
       "      <th>zip_ward</th>\n",
       "      <th>account</th>\n",
       "      <th>aid</th>\n",
       "      <th>business</th>\n",
       "      <th>address_lic</th>\n",
       "      <th>zip_lic</th>\n",
       "    </tr>\n",
       "  </thead>\n",
       "  <tbody>\n",
       "    <tr>\n",
       "      <th>0</th>\n",
       "      <td>1</td>\n",
       "      <td>Proco \"Joe\" Moreno</td>\n",
       "      <td>2058 NORTH WESTERN AVENUE</td>\n",
       "      <td>60647</td>\n",
       "      <td>12024</td>\n",
       "      <td>NaN</td>\n",
       "      <td>DIGILOG ELECTRONICS</td>\n",
       "      <td>1038 N ASHLAND AVE</td>\n",
       "      <td>60622</td>\n",
       "    </tr>\n",
       "    <tr>\n",
       "      <th>1</th>\n",
       "      <td>1</td>\n",
       "      <td>Proco \"Joe\" Moreno</td>\n",
       "      <td>2058 NORTH WESTERN AVENUE</td>\n",
       "      <td>60647</td>\n",
       "      <td>14446</td>\n",
       "      <td>743</td>\n",
       "      <td>EMPTY BOTTLE INC</td>\n",
       "      <td>1035 N WESTERN AVE 1ST</td>\n",
       "      <td>60622</td>\n",
       "    </tr>\n",
       "    <tr>\n",
       "      <th>2</th>\n",
       "      <td>1</td>\n",
       "      <td>Proco \"Joe\" Moreno</td>\n",
       "      <td>2058 NORTH WESTERN AVENUE</td>\n",
       "      <td>60647</td>\n",
       "      <td>14624</td>\n",
       "      <td>775</td>\n",
       "      <td>LITTLE MEL'S HOT DOG</td>\n",
       "      <td>2205 N CALIFORNIA AVE</td>\n",
       "      <td>60647</td>\n",
       "    </tr>\n",
       "    <tr>\n",
       "      <th>3</th>\n",
       "      <td>1</td>\n",
       "      <td>Proco \"Joe\" Moreno</td>\n",
       "      <td>2058 NORTH WESTERN AVENUE</td>\n",
       "      <td>60647</td>\n",
       "      <td>14987</td>\n",
       "      <td>NaN</td>\n",
       "      <td>MR. BROWN'S LOUNGE</td>\n",
       "      <td>2301 W CHICAGO AVE 1ST</td>\n",
       "      <td>60622</td>\n",
       "    </tr>\n",
       "    <tr>\n",
       "      <th>4</th>\n",
       "      <td>1</td>\n",
       "      <td>Proco \"Joe\" Moreno</td>\n",
       "      <td>2058 NORTH WESTERN AVENUE</td>\n",
       "      <td>60647</td>\n",
       "      <td>15642</td>\n",
       "      <td>814</td>\n",
       "      <td>Beat Kitchen</td>\n",
       "      <td>2000-2100 W DIVISION ST</td>\n",
       "      <td>60622</td>\n",
       "    </tr>\n",
       "  </tbody>\n",
       "</table>\n",
       "</div>"
      ],
      "text/plain": [
       "  ward            alderman               address_ward zip_ward account  aid  \\\n",
       "0    1  Proco \"Joe\" Moreno  2058 NORTH WESTERN AVENUE    60647   12024  NaN   \n",
       "1    1  Proco \"Joe\" Moreno  2058 NORTH WESTERN AVENUE    60647   14446  743   \n",
       "2    1  Proco \"Joe\" Moreno  2058 NORTH WESTERN AVENUE    60647   14624  775   \n",
       "3    1  Proco \"Joe\" Moreno  2058 NORTH WESTERN AVENUE    60647   14987  NaN   \n",
       "4    1  Proco \"Joe\" Moreno  2058 NORTH WESTERN AVENUE    60647   15642  814   \n",
       "\n",
       "               business              address_lic zip_lic  \n",
       "0   DIGILOG ELECTRONICS       1038 N ASHLAND AVE   60622  \n",
       "1      EMPTY BOTTLE INC   1035 N WESTERN AVE 1ST   60622  \n",
       "2  LITTLE MEL'S HOT DOG    2205 N CALIFORNIA AVE   60647  \n",
       "3    MR. BROWN'S LOUNGE   2301 W CHICAGO AVE 1ST   60622  \n",
       "4          Beat Kitchen  2000-2100 W DIVISION ST   60622  "
      ]
     },
     "metadata": {},
     "output_type": "display_data"
    }
   ],
   "source": [
    "ward_licenses = wards.merge(licenses, on=\"ward\", suffixes=(\"_ward\", \"_lic\"))\n",
    "display(ward_licenses.head())"
   ]
  },
  {
   "cell_type": "markdown",
   "id": "30ac6232",
   "metadata": {},
   "source": [
    "### One-to-many merge\n",
    "A business may have one or multiple owners. In this exercise, you will continue to gain experience with one-to-many merges by merging a table of business owners, called `biz_owners`, to the `licenses` table. Recall from the video lesson, with a one-to-many relationship, a row in the left table may be repeated if it is related to multiple rows in the right table. In this lesson, you will explore this further by finding out what is the most common business owner title. (i.e., secretary, CEO, or vice president)"
   ]
  },
  {
   "cell_type": "code",
   "execution_count": 22,
   "id": "0f746631",
   "metadata": {},
   "outputs": [],
   "source": [
    "# Starting with the licenses table on the left, merge it to the biz_owners table on the column account, and save the results to a variable named licenses_owners.\n",
    "licenses_owners = licenses.merge(biz_owners, on=\"account\")"
   ]
  },
  {
   "cell_type": "code",
   "execution_count": 24,
   "id": "dd8ee5a3",
   "metadata": {},
   "outputs": [
    {
     "data": {
      "application/vnd.microsoft.datawrangler.viewer.v0+json": {
       "columns": [
        {
         "name": "title",
         "rawType": "object",
         "type": "string"
        },
        {
         "name": "account",
         "rawType": "int64",
         "type": "integer"
        }
       ],
       "ref": "a06969f0-e5a5-4469-b2e7-d07aa7c7e73c",
       "rows": [
        [
         "ASST. SECRETARY",
         "111"
        ],
        [
         "BENEFICIARY",
         "4"
        ],
        [
         "CEO",
         "110"
        ],
        [
         "DIRECTOR",
         "146"
        ],
        [
         "EXECUTIVE DIRECTOR",
         "10"
        ],
        [
         "GENERAL PARTNER",
         "21"
        ],
        [
         "INDIVIDUAL",
         "268"
        ],
        [
         "LIMITED PARTNER",
         "26"
        ],
        [
         "MANAGER",
         "134"
        ],
        [
         "MANAGING MEMBER",
         "878"
        ],
        [
         "MEMBER",
         "884"
        ],
        [
         "NOT APPLICABLE",
         "11"
        ],
        [
         "OTHER",
         "1200"
        ],
        [
         "PARTNER",
         "451"
        ],
        [
         "PRESIDENT",
         "6259"
        ],
        [
         "PRINCIPAL OFFICER",
         "63"
        ],
        [
         "SECRETARY",
         "5205"
        ],
        [
         "SHAREHOLDER",
         "590"
        ],
        [
         "SOLE PROPRIETOR",
         "1658"
        ],
        [
         "SPOUSE",
         "34"
        ],
        [
         "TREASURER",
         "447"
        ],
        [
         "TRUSTEE",
         "6"
        ],
        [
         "VICE PRESIDENT",
         "970"
        ]
       ],
       "shape": {
        "columns": 1,
        "rows": 23
       }
      },
      "text/html": [
       "<div>\n",
       "<style scoped>\n",
       "    .dataframe tbody tr th:only-of-type {\n",
       "        vertical-align: middle;\n",
       "    }\n",
       "\n",
       "    .dataframe tbody tr th {\n",
       "        vertical-align: top;\n",
       "    }\n",
       "\n",
       "    .dataframe thead th {\n",
       "        text-align: right;\n",
       "    }\n",
       "</style>\n",
       "<table border=\"1\" class=\"dataframe\">\n",
       "  <thead>\n",
       "    <tr style=\"text-align: right;\">\n",
       "      <th></th>\n",
       "      <th>account</th>\n",
       "    </tr>\n",
       "    <tr>\n",
       "      <th>title</th>\n",
       "      <th></th>\n",
       "    </tr>\n",
       "  </thead>\n",
       "  <tbody>\n",
       "    <tr>\n",
       "      <th>ASST. SECRETARY</th>\n",
       "      <td>111</td>\n",
       "    </tr>\n",
       "    <tr>\n",
       "      <th>BENEFICIARY</th>\n",
       "      <td>4</td>\n",
       "    </tr>\n",
       "    <tr>\n",
       "      <th>CEO</th>\n",
       "      <td>110</td>\n",
       "    </tr>\n",
       "    <tr>\n",
       "      <th>DIRECTOR</th>\n",
       "      <td>146</td>\n",
       "    </tr>\n",
       "    <tr>\n",
       "      <th>EXECUTIVE DIRECTOR</th>\n",
       "      <td>10</td>\n",
       "    </tr>\n",
       "    <tr>\n",
       "      <th>GENERAL PARTNER</th>\n",
       "      <td>21</td>\n",
       "    </tr>\n",
       "    <tr>\n",
       "      <th>INDIVIDUAL</th>\n",
       "      <td>268</td>\n",
       "    </tr>\n",
       "    <tr>\n",
       "      <th>LIMITED PARTNER</th>\n",
       "      <td>26</td>\n",
       "    </tr>\n",
       "    <tr>\n",
       "      <th>MANAGER</th>\n",
       "      <td>134</td>\n",
       "    </tr>\n",
       "    <tr>\n",
       "      <th>MANAGING MEMBER</th>\n",
       "      <td>878</td>\n",
       "    </tr>\n",
       "    <tr>\n",
       "      <th>MEMBER</th>\n",
       "      <td>884</td>\n",
       "    </tr>\n",
       "    <tr>\n",
       "      <th>NOT APPLICABLE</th>\n",
       "      <td>11</td>\n",
       "    </tr>\n",
       "    <tr>\n",
       "      <th>OTHER</th>\n",
       "      <td>1200</td>\n",
       "    </tr>\n",
       "    <tr>\n",
       "      <th>PARTNER</th>\n",
       "      <td>451</td>\n",
       "    </tr>\n",
       "    <tr>\n",
       "      <th>PRESIDENT</th>\n",
       "      <td>6259</td>\n",
       "    </tr>\n",
       "    <tr>\n",
       "      <th>PRINCIPAL OFFICER</th>\n",
       "      <td>63</td>\n",
       "    </tr>\n",
       "    <tr>\n",
       "      <th>SECRETARY</th>\n",
       "      <td>5205</td>\n",
       "    </tr>\n",
       "    <tr>\n",
       "      <th>SHAREHOLDER</th>\n",
       "      <td>590</td>\n",
       "    </tr>\n",
       "    <tr>\n",
       "      <th>SOLE PROPRIETOR</th>\n",
       "      <td>1658</td>\n",
       "    </tr>\n",
       "    <tr>\n",
       "      <th>SPOUSE</th>\n",
       "      <td>34</td>\n",
       "    </tr>\n",
       "    <tr>\n",
       "      <th>TREASURER</th>\n",
       "      <td>447</td>\n",
       "    </tr>\n",
       "    <tr>\n",
       "      <th>TRUSTEE</th>\n",
       "      <td>6</td>\n",
       "    </tr>\n",
       "    <tr>\n",
       "      <th>VICE PRESIDENT</th>\n",
       "      <td>970</td>\n",
       "    </tr>\n",
       "  </tbody>\n",
       "</table>\n",
       "</div>"
      ],
      "text/plain": [
       "                    account\n",
       "title                      \n",
       "ASST. SECRETARY         111\n",
       "BENEFICIARY               4\n",
       "CEO                     110\n",
       "DIRECTOR                146\n",
       "EXECUTIVE DIRECTOR       10\n",
       "GENERAL PARTNER          21\n",
       "INDIVIDUAL              268\n",
       "LIMITED PARTNER          26\n",
       "MANAGER                 134\n",
       "MANAGING MEMBER         878\n",
       "MEMBER                  884\n",
       "NOT APPLICABLE           11\n",
       "OTHER                  1200\n",
       "PARTNER                 451\n",
       "PRESIDENT              6259\n",
       "PRINCIPAL OFFICER        63\n",
       "SECRETARY              5205\n",
       "SHAREHOLDER             590\n",
       "SOLE PROPRIETOR        1658\n",
       "SPOUSE                   34\n",
       "TREASURER               447\n",
       "TRUSTEE                   6\n",
       "VICE PRESIDENT          970"
      ]
     },
     "execution_count": 24,
     "metadata": {},
     "output_type": "execute_result"
    }
   ],
   "source": [
    "# Group the licenses_owners dataframe by the 'title' column to analyze business owner titles\n",
    "# Use the agg() function with a dictionary to specify aggregation operations for specific columns\n",
    "# The dictionary format is: {'column_name': 'aggregation_function'}\n",
    "counted_df = licenses_owners.groupby(\"title\").agg({\"account\":\"count\"})\n",
    "counted_df"
   ]
  },
  {
   "cell_type": "code",
   "execution_count": 27,
   "id": "1eb385ec",
   "metadata": {},
   "outputs": [
    {
     "data": {
      "application/vnd.microsoft.datawrangler.viewer.v0+json": {
       "columns": [
        {
         "name": "title",
         "rawType": "object",
         "type": "string"
        },
        {
         "name": "account",
         "rawType": "int64",
         "type": "integer"
        }
       ],
       "ref": "bd71d54b-55a9-40f3-b457-2f713109fe6e",
       "rows": [
        [
         "PRESIDENT",
         "6259"
        ],
        [
         "SECRETARY",
         "5205"
        ],
        [
         "SOLE PROPRIETOR",
         "1658"
        ],
        [
         "OTHER",
         "1200"
        ],
        [
         "VICE PRESIDENT",
         "970"
        ]
       ],
       "shape": {
        "columns": 1,
        "rows": 5
       }
      },
      "text/html": [
       "<div>\n",
       "<style scoped>\n",
       "    .dataframe tbody tr th:only-of-type {\n",
       "        vertical-align: middle;\n",
       "    }\n",
       "\n",
       "    .dataframe tbody tr th {\n",
       "        vertical-align: top;\n",
       "    }\n",
       "\n",
       "    .dataframe thead th {\n",
       "        text-align: right;\n",
       "    }\n",
       "</style>\n",
       "<table border=\"1\" class=\"dataframe\">\n",
       "  <thead>\n",
       "    <tr style=\"text-align: right;\">\n",
       "      <th></th>\n",
       "      <th>account</th>\n",
       "    </tr>\n",
       "    <tr>\n",
       "      <th>title</th>\n",
       "      <th></th>\n",
       "    </tr>\n",
       "  </thead>\n",
       "  <tbody>\n",
       "    <tr>\n",
       "      <th>PRESIDENT</th>\n",
       "      <td>6259</td>\n",
       "    </tr>\n",
       "    <tr>\n",
       "      <th>SECRETARY</th>\n",
       "      <td>5205</td>\n",
       "    </tr>\n",
       "    <tr>\n",
       "      <th>SOLE PROPRIETOR</th>\n",
       "      <td>1658</td>\n",
       "    </tr>\n",
       "    <tr>\n",
       "      <th>OTHER</th>\n",
       "      <td>1200</td>\n",
       "    </tr>\n",
       "    <tr>\n",
       "      <th>VICE PRESIDENT</th>\n",
       "      <td>970</td>\n",
       "    </tr>\n",
       "  </tbody>\n",
       "</table>\n",
       "</div>"
      ],
      "text/plain": [
       "                 account\n",
       "title                   \n",
       "PRESIDENT           6259\n",
       "SECRETARY           5205\n",
       "SOLE PROPRIETOR     1658\n",
       "OTHER               1200\n",
       "VICE PRESIDENT       970"
      ]
     },
     "metadata": {},
     "output_type": "display_data"
    }
   ],
   "source": [
    "# Sort counted_df by the number of accounts in descending order, and save this as a variable named sorted_df.\n",
    "sorted_df = counted_df.sort_values(by=\"account\", ascending=False)\n",
    "display(sorted_df.head())"
   ]
  },
  {
   "cell_type": "markdown",
   "id": "e0270089",
   "metadata": {},
   "source": [
    "### Total riders in a month\n",
    "Your goal is to find the total number of rides provided to passengers passing through the Wilson station (`station_name == 'Wilson'`) when riding Chicago's public transportation system on weekdays (`day_type == 'Weekday'`) in July (`month == 7`). Luckily, Chicago provides this detailed data, but it is in three different tables. You will work on merging these tables together to answer the question. This data is different from the business related data you have seen so far, but all the information you need to answer the question is provided."
   ]
  },
  {
   "cell_type": "code",
   "execution_count": 38,
   "id": "936ce396",
   "metadata": {},
   "outputs": [],
   "source": [
    "cal = pd.read_pickle(\"data/cta_calendar.p\")\n",
    "ridership = pd.read_pickle(\"data/cta_ridership.p\")\n",
    "stations = pd.read_pickle(\"data/stations.p\")"
   ]
  },
  {
   "cell_type": "code",
   "execution_count": 39,
   "id": "67c0f0a9",
   "metadata": {},
   "outputs": [
    {
     "data": {
      "application/vnd.microsoft.datawrangler.viewer.v0+json": {
       "columns": [
        {
         "name": "index",
         "rawType": "int64",
         "type": "integer"
        },
        {
         "name": "year",
         "rawType": "int64",
         "type": "integer"
        },
        {
         "name": "month",
         "rawType": "int64",
         "type": "integer"
        },
        {
         "name": "day",
         "rawType": "int64",
         "type": "integer"
        },
        {
         "name": "day_type",
         "rawType": "object",
         "type": "string"
        }
       ],
       "ref": "b86f57d0-2c3b-48f4-83d9-fa74997b979d",
       "rows": [
        [
         "0",
         "2019",
         "1",
         "1",
         "Sunday/Holiday"
        ],
        [
         "1",
         "2019",
         "1",
         "2",
         "Weekday"
        ],
        [
         "2",
         "2019",
         "1",
         "3",
         "Weekday"
        ],
        [
         "3",
         "2019",
         "1",
         "4",
         "Weekday"
        ],
        [
         "4",
         "2019",
         "1",
         "5",
         "Saturday"
        ]
       ],
       "shape": {
        "columns": 4,
        "rows": 5
       }
      },
      "text/html": [
       "<div>\n",
       "<style scoped>\n",
       "    .dataframe tbody tr th:only-of-type {\n",
       "        vertical-align: middle;\n",
       "    }\n",
       "\n",
       "    .dataframe tbody tr th {\n",
       "        vertical-align: top;\n",
       "    }\n",
       "\n",
       "    .dataframe thead th {\n",
       "        text-align: right;\n",
       "    }\n",
       "</style>\n",
       "<table border=\"1\" class=\"dataframe\">\n",
       "  <thead>\n",
       "    <tr style=\"text-align: right;\">\n",
       "      <th></th>\n",
       "      <th>year</th>\n",
       "      <th>month</th>\n",
       "      <th>day</th>\n",
       "      <th>day_type</th>\n",
       "    </tr>\n",
       "  </thead>\n",
       "  <tbody>\n",
       "    <tr>\n",
       "      <th>0</th>\n",
       "      <td>2019</td>\n",
       "      <td>1</td>\n",
       "      <td>1</td>\n",
       "      <td>Sunday/Holiday</td>\n",
       "    </tr>\n",
       "    <tr>\n",
       "      <th>1</th>\n",
       "      <td>2019</td>\n",
       "      <td>1</td>\n",
       "      <td>2</td>\n",
       "      <td>Weekday</td>\n",
       "    </tr>\n",
       "    <tr>\n",
       "      <th>2</th>\n",
       "      <td>2019</td>\n",
       "      <td>1</td>\n",
       "      <td>3</td>\n",
       "      <td>Weekday</td>\n",
       "    </tr>\n",
       "    <tr>\n",
       "      <th>3</th>\n",
       "      <td>2019</td>\n",
       "      <td>1</td>\n",
       "      <td>4</td>\n",
       "      <td>Weekday</td>\n",
       "    </tr>\n",
       "    <tr>\n",
       "      <th>4</th>\n",
       "      <td>2019</td>\n",
       "      <td>1</td>\n",
       "      <td>5</td>\n",
       "      <td>Saturday</td>\n",
       "    </tr>\n",
       "  </tbody>\n",
       "</table>\n",
       "</div>"
      ],
      "text/plain": [
       "   year  month  day        day_type\n",
       "0  2019      1    1  Sunday/Holiday\n",
       "1  2019      1    2         Weekday\n",
       "2  2019      1    3         Weekday\n",
       "3  2019      1    4         Weekday\n",
       "4  2019      1    5        Saturday"
      ]
     },
     "execution_count": 39,
     "metadata": {},
     "output_type": "execute_result"
    }
   ],
   "source": [
    "cal.head()"
   ]
  },
  {
   "cell_type": "code",
   "execution_count": 40,
   "id": "6912285a",
   "metadata": {},
   "outputs": [
    {
     "data": {
      "application/vnd.microsoft.datawrangler.viewer.v0+json": {
       "columns": [
        {
         "name": "index",
         "rawType": "int64",
         "type": "integer"
        },
        {
         "name": "station_id",
         "rawType": "object",
         "type": "string"
        },
        {
         "name": "year",
         "rawType": "int64",
         "type": "integer"
        },
        {
         "name": "month",
         "rawType": "int64",
         "type": "integer"
        },
        {
         "name": "day",
         "rawType": "int64",
         "type": "integer"
        },
        {
         "name": "rides",
         "rawType": "int64",
         "type": "integer"
        }
       ],
       "ref": "510452da-4176-4ad9-814d-be17f9ddc9dc",
       "rows": [
        [
         "0",
         "40010",
         "2019",
         "1",
         "1",
         "576"
        ],
        [
         "1",
         "40010",
         "2019",
         "1",
         "2",
         "1457"
        ],
        [
         "2",
         "40010",
         "2019",
         "1",
         "3",
         "1543"
        ],
        [
         "3",
         "40010",
         "2019",
         "1",
         "4",
         "1621"
        ],
        [
         "4",
         "40010",
         "2019",
         "1",
         "5",
         "719"
        ]
       ],
       "shape": {
        "columns": 5,
        "rows": 5
       }
      },
      "text/html": [
       "<div>\n",
       "<style scoped>\n",
       "    .dataframe tbody tr th:only-of-type {\n",
       "        vertical-align: middle;\n",
       "    }\n",
       "\n",
       "    .dataframe tbody tr th {\n",
       "        vertical-align: top;\n",
       "    }\n",
       "\n",
       "    .dataframe thead th {\n",
       "        text-align: right;\n",
       "    }\n",
       "</style>\n",
       "<table border=\"1\" class=\"dataframe\">\n",
       "  <thead>\n",
       "    <tr style=\"text-align: right;\">\n",
       "      <th></th>\n",
       "      <th>station_id</th>\n",
       "      <th>year</th>\n",
       "      <th>month</th>\n",
       "      <th>day</th>\n",
       "      <th>rides</th>\n",
       "    </tr>\n",
       "  </thead>\n",
       "  <tbody>\n",
       "    <tr>\n",
       "      <th>0</th>\n",
       "      <td>40010</td>\n",
       "      <td>2019</td>\n",
       "      <td>1</td>\n",
       "      <td>1</td>\n",
       "      <td>576</td>\n",
       "    </tr>\n",
       "    <tr>\n",
       "      <th>1</th>\n",
       "      <td>40010</td>\n",
       "      <td>2019</td>\n",
       "      <td>1</td>\n",
       "      <td>2</td>\n",
       "      <td>1457</td>\n",
       "    </tr>\n",
       "    <tr>\n",
       "      <th>2</th>\n",
       "      <td>40010</td>\n",
       "      <td>2019</td>\n",
       "      <td>1</td>\n",
       "      <td>3</td>\n",
       "      <td>1543</td>\n",
       "    </tr>\n",
       "    <tr>\n",
       "      <th>3</th>\n",
       "      <td>40010</td>\n",
       "      <td>2019</td>\n",
       "      <td>1</td>\n",
       "      <td>4</td>\n",
       "      <td>1621</td>\n",
       "    </tr>\n",
       "    <tr>\n",
       "      <th>4</th>\n",
       "      <td>40010</td>\n",
       "      <td>2019</td>\n",
       "      <td>1</td>\n",
       "      <td>5</td>\n",
       "      <td>719</td>\n",
       "    </tr>\n",
       "  </tbody>\n",
       "</table>\n",
       "</div>"
      ],
      "text/plain": [
       "  station_id  year  month  day  rides\n",
       "0      40010  2019      1    1    576\n",
       "1      40010  2019      1    2   1457\n",
       "2      40010  2019      1    3   1543\n",
       "3      40010  2019      1    4   1621\n",
       "4      40010  2019      1    5    719"
      ]
     },
     "execution_count": 40,
     "metadata": {},
     "output_type": "execute_result"
    }
   ],
   "source": [
    "ridership.head()"
   ]
  },
  {
   "cell_type": "code",
   "execution_count": 41,
   "id": "3315ae2b",
   "metadata": {},
   "outputs": [
    {
     "data": {
      "application/vnd.microsoft.datawrangler.viewer.v0+json": {
       "columns": [
        {
         "name": "index",
         "rawType": "int64",
         "type": "integer"
        },
        {
         "name": "station_id",
         "rawType": "object",
         "type": "string"
        },
        {
         "name": "station_name",
         "rawType": "object",
         "type": "string"
        },
        {
         "name": "location",
         "rawType": "object",
         "type": "string"
        }
       ],
       "ref": "aa3905ad-af34-4f82-93bd-c33e60fe8e61",
       "rows": [
        [
         "0",
         "40010",
         "Austin-Forest Park",
         "(41.870851, -87.776812)"
        ],
        [
         "1",
         "40020",
         "Harlem-Lake",
         "(41.886848, -87.803176)"
        ],
        [
         "2",
         "40030",
         "Pulaski-Lake",
         "(41.885412, -87.725404)"
        ],
        [
         "3",
         "40040",
         "Quincy/Wells",
         "(41.878723, -87.63374)"
        ],
        [
         "4",
         "40050",
         "Davis",
         "(42.04771, -87.683543)"
        ]
       ],
       "shape": {
        "columns": 3,
        "rows": 5
       }
      },
      "text/html": [
       "<div>\n",
       "<style scoped>\n",
       "    .dataframe tbody tr th:only-of-type {\n",
       "        vertical-align: middle;\n",
       "    }\n",
       "\n",
       "    .dataframe tbody tr th {\n",
       "        vertical-align: top;\n",
       "    }\n",
       "\n",
       "    .dataframe thead th {\n",
       "        text-align: right;\n",
       "    }\n",
       "</style>\n",
       "<table border=\"1\" class=\"dataframe\">\n",
       "  <thead>\n",
       "    <tr style=\"text-align: right;\">\n",
       "      <th></th>\n",
       "      <th>station_id</th>\n",
       "      <th>station_name</th>\n",
       "      <th>location</th>\n",
       "    </tr>\n",
       "  </thead>\n",
       "  <tbody>\n",
       "    <tr>\n",
       "      <th>0</th>\n",
       "      <td>40010</td>\n",
       "      <td>Austin-Forest Park</td>\n",
       "      <td>(41.870851, -87.776812)</td>\n",
       "    </tr>\n",
       "    <tr>\n",
       "      <th>1</th>\n",
       "      <td>40020</td>\n",
       "      <td>Harlem-Lake</td>\n",
       "      <td>(41.886848, -87.803176)</td>\n",
       "    </tr>\n",
       "    <tr>\n",
       "      <th>2</th>\n",
       "      <td>40030</td>\n",
       "      <td>Pulaski-Lake</td>\n",
       "      <td>(41.885412, -87.725404)</td>\n",
       "    </tr>\n",
       "    <tr>\n",
       "      <th>3</th>\n",
       "      <td>40040</td>\n",
       "      <td>Quincy/Wells</td>\n",
       "      <td>(41.878723, -87.63374)</td>\n",
       "    </tr>\n",
       "    <tr>\n",
       "      <th>4</th>\n",
       "      <td>40050</td>\n",
       "      <td>Davis</td>\n",
       "      <td>(42.04771, -87.683543)</td>\n",
       "    </tr>\n",
       "  </tbody>\n",
       "</table>\n",
       "</div>"
      ],
      "text/plain": [
       "  station_id        station_name                 location\n",
       "0      40010  Austin-Forest Park  (41.870851, -87.776812)\n",
       "1      40020         Harlem-Lake  (41.886848, -87.803176)\n",
       "2      40030        Pulaski-Lake  (41.885412, -87.725404)\n",
       "3      40040        Quincy/Wells   (41.878723, -87.63374)\n",
       "4      40050               Davis   (42.04771, -87.683543)"
      ]
     },
     "execution_count": 41,
     "metadata": {},
     "output_type": "execute_result"
    }
   ],
   "source": [
    "stations.head()"
   ]
  },
  {
   "cell_type": "code",
   "execution_count": 42,
   "id": "1a2b696e",
   "metadata": {},
   "outputs": [
    {
     "data": {
      "application/vnd.microsoft.datawrangler.viewer.v0+json": {
       "columns": [
        {
         "name": "index",
         "rawType": "int64",
         "type": "integer"
        },
        {
         "name": "station_id",
         "rawType": "object",
         "type": "string"
        },
        {
         "name": "year",
         "rawType": "int64",
         "type": "integer"
        },
        {
         "name": "month",
         "rawType": "int64",
         "type": "integer"
        },
        {
         "name": "day",
         "rawType": "int64",
         "type": "integer"
        },
        {
         "name": "rides",
         "rawType": "int64",
         "type": "integer"
        },
        {
         "name": "day_type",
         "rawType": "object",
         "type": "string"
        }
       ],
       "ref": "dd9f16af-32e4-40f7-8158-364d46583a5c",
       "rows": [
        [
         "0",
         "40010",
         "2019",
         "1",
         "1",
         "576",
         "Sunday/Holiday"
        ],
        [
         "1",
         "40010",
         "2019",
         "1",
         "2",
         "1457",
         "Weekday"
        ],
        [
         "2",
         "40010",
         "2019",
         "1",
         "3",
         "1543",
         "Weekday"
        ],
        [
         "3",
         "40010",
         "2019",
         "1",
         "4",
         "1621",
         "Weekday"
        ],
        [
         "4",
         "40010",
         "2019",
         "1",
         "5",
         "719",
         "Saturday"
        ],
        [
         "5",
         "40010",
         "2019",
         "1",
         "6",
         "554",
         "Sunday/Holiday"
        ],
        [
         "6",
         "40010",
         "2019",
         "1",
         "7",
         "1714",
         "Weekday"
        ],
        [
         "7",
         "40010",
         "2019",
         "1",
         "8",
         "1868",
         "Weekday"
        ],
        [
         "8",
         "40010",
         "2019",
         "1",
         "9",
         "1811",
         "Weekday"
        ],
        [
         "9",
         "40010",
         "2019",
         "1",
         "10",
         "1805",
         "Weekday"
        ],
        [
         "10",
         "40010",
         "2019",
         "1",
         "11",
         "1697",
         "Weekday"
        ],
        [
         "11",
         "40010",
         "2019",
         "1",
         "12",
         "679",
         "Saturday"
        ],
        [
         "12",
         "40010",
         "2019",
         "1",
         "13",
         "489",
         "Sunday/Holiday"
        ],
        [
         "13",
         "40010",
         "2019",
         "1",
         "14",
         "1945",
         "Weekday"
        ],
        [
         "14",
         "40010",
         "2019",
         "1",
         "15",
         "1946",
         "Weekday"
        ],
        [
         "15",
         "40010",
         "2019",
         "1",
         "16",
         "1994",
         "Weekday"
        ],
        [
         "16",
         "40010",
         "2019",
         "1",
         "17",
         "2118",
         "Weekday"
        ],
        [
         "17",
         "40010",
         "2019",
         "1",
         "18",
         "1836",
         "Weekday"
        ],
        [
         "18",
         "40010",
         "2019",
         "1",
         "19",
         "594",
         "Saturday"
        ],
        [
         "19",
         "40010",
         "2019",
         "1",
         "20",
         "458",
         "Sunday/Holiday"
        ],
        [
         "20",
         "40010",
         "2019",
         "1",
         "21",
         "919",
         "Weekday"
        ],
        [
         "21",
         "40010",
         "2019",
         "1",
         "22",
         "1976",
         "Weekday"
        ],
        [
         "22",
         "40010",
         "2019",
         "1",
         "23",
         "1999",
         "Weekday"
        ],
        [
         "23",
         "40010",
         "2019",
         "1",
         "24",
         "1923",
         "Weekday"
        ],
        [
         "24",
         "40010",
         "2019",
         "1",
         "25",
         "1454",
         "Weekday"
        ],
        [
         "25",
         "40010",
         "2019",
         "1",
         "26",
         "522",
         "Saturday"
        ],
        [
         "26",
         "40010",
         "2019",
         "1",
         "27",
         "394",
         "Sunday/Holiday"
        ],
        [
         "27",
         "40010",
         "2019",
         "1",
         "28",
         "1798",
         "Weekday"
        ],
        [
         "28",
         "40010",
         "2019",
         "1",
         "29",
         "1573",
         "Weekday"
        ],
        [
         "29",
         "40010",
         "2019",
         "1",
         "30",
         "255",
         "Weekday"
        ],
        [
         "30",
         "40010",
         "2019",
         "1",
         "31",
         "562",
         "Weekday"
        ],
        [
         "31",
         "40010",
         "2019",
         "2",
         "1",
         "1741",
         "Weekday"
        ],
        [
         "32",
         "40010",
         "2019",
         "2",
         "2",
         "642",
         "Saturday"
        ],
        [
         "33",
         "40010",
         "2019",
         "2",
         "3",
         "485",
         "Sunday/Holiday"
        ],
        [
         "34",
         "40010",
         "2019",
         "2",
         "4",
         "1978",
         "Weekday"
        ],
        [
         "35",
         "40010",
         "2019",
         "2",
         "5",
         "2035",
         "Weekday"
        ],
        [
         "36",
         "40010",
         "2019",
         "2",
         "6",
         "1976",
         "Weekday"
        ],
        [
         "37",
         "40010",
         "2019",
         "2",
         "7",
         "1949",
         "Weekday"
        ],
        [
         "38",
         "40010",
         "2019",
         "2",
         "8",
         "1715",
         "Weekday"
        ],
        [
         "39",
         "40010",
         "2019",
         "2",
         "9",
         "644",
         "Saturday"
        ],
        [
         "40",
         "40010",
         "2019",
         "2",
         "10",
         "501",
         "Sunday/Holiday"
        ],
        [
         "41",
         "40010",
         "2019",
         "2",
         "11",
         "1916",
         "Weekday"
        ],
        [
         "42",
         "40010",
         "2019",
         "2",
         "12",
         "1905",
         "Weekday"
        ],
        [
         "43",
         "40010",
         "2019",
         "2",
         "13",
         "1937",
         "Weekday"
        ],
        [
         "44",
         "40010",
         "2019",
         "2",
         "14",
         "1996",
         "Weekday"
        ],
        [
         "45",
         "40010",
         "2019",
         "2",
         "15",
         "1717",
         "Weekday"
        ],
        [
         "46",
         "40010",
         "2019",
         "2",
         "16",
         "645",
         "Saturday"
        ],
        [
         "47",
         "40010",
         "2019",
         "2",
         "17",
         "444",
         "Sunday/Holiday"
        ],
        [
         "48",
         "40010",
         "2019",
         "2",
         "18",
         "1341",
         "Weekday"
        ],
        [
         "49",
         "40010",
         "2019",
         "2",
         "19",
         "1941",
         "Weekday"
        ]
       ],
       "shape": {
        "columns": 6,
        "rows": 3285
       }
      },
      "text/html": [
       "<div>\n",
       "<style scoped>\n",
       "    .dataframe tbody tr th:only-of-type {\n",
       "        vertical-align: middle;\n",
       "    }\n",
       "\n",
       "    .dataframe tbody tr th {\n",
       "        vertical-align: top;\n",
       "    }\n",
       "\n",
       "    .dataframe thead th {\n",
       "        text-align: right;\n",
       "    }\n",
       "</style>\n",
       "<table border=\"1\" class=\"dataframe\">\n",
       "  <thead>\n",
       "    <tr style=\"text-align: right;\">\n",
       "      <th></th>\n",
       "      <th>station_id</th>\n",
       "      <th>year</th>\n",
       "      <th>month</th>\n",
       "      <th>day</th>\n",
       "      <th>rides</th>\n",
       "      <th>day_type</th>\n",
       "    </tr>\n",
       "  </thead>\n",
       "  <tbody>\n",
       "    <tr>\n",
       "      <th>0</th>\n",
       "      <td>40010</td>\n",
       "      <td>2019</td>\n",
       "      <td>1</td>\n",
       "      <td>1</td>\n",
       "      <td>576</td>\n",
       "      <td>Sunday/Holiday</td>\n",
       "    </tr>\n",
       "    <tr>\n",
       "      <th>1</th>\n",
       "      <td>40010</td>\n",
       "      <td>2019</td>\n",
       "      <td>1</td>\n",
       "      <td>2</td>\n",
       "      <td>1457</td>\n",
       "      <td>Weekday</td>\n",
       "    </tr>\n",
       "    <tr>\n",
       "      <th>2</th>\n",
       "      <td>40010</td>\n",
       "      <td>2019</td>\n",
       "      <td>1</td>\n",
       "      <td>3</td>\n",
       "      <td>1543</td>\n",
       "      <td>Weekday</td>\n",
       "    </tr>\n",
       "    <tr>\n",
       "      <th>3</th>\n",
       "      <td>40010</td>\n",
       "      <td>2019</td>\n",
       "      <td>1</td>\n",
       "      <td>4</td>\n",
       "      <td>1621</td>\n",
       "      <td>Weekday</td>\n",
       "    </tr>\n",
       "    <tr>\n",
       "      <th>4</th>\n",
       "      <td>40010</td>\n",
       "      <td>2019</td>\n",
       "      <td>1</td>\n",
       "      <td>5</td>\n",
       "      <td>719</td>\n",
       "      <td>Saturday</td>\n",
       "    </tr>\n",
       "    <tr>\n",
       "      <th>...</th>\n",
       "      <td>...</td>\n",
       "      <td>...</td>\n",
       "      <td>...</td>\n",
       "      <td>...</td>\n",
       "      <td>...</td>\n",
       "      <td>...</td>\n",
       "    </tr>\n",
       "    <tr>\n",
       "      <th>3280</th>\n",
       "      <td>41660</td>\n",
       "      <td>2019</td>\n",
       "      <td>12</td>\n",
       "      <td>27</td>\n",
       "      <td>13898</td>\n",
       "      <td>Weekday</td>\n",
       "    </tr>\n",
       "    <tr>\n",
       "      <th>3281</th>\n",
       "      <td>41660</td>\n",
       "      <td>2019</td>\n",
       "      <td>12</td>\n",
       "      <td>28</td>\n",
       "      <td>9485</td>\n",
       "      <td>Saturday</td>\n",
       "    </tr>\n",
       "    <tr>\n",
       "      <th>3282</th>\n",
       "      <td>41660</td>\n",
       "      <td>2019</td>\n",
       "      <td>12</td>\n",
       "      <td>29</td>\n",
       "      <td>7581</td>\n",
       "      <td>Sunday/Holiday</td>\n",
       "    </tr>\n",
       "    <tr>\n",
       "      <th>3283</th>\n",
       "      <td>41660</td>\n",
       "      <td>2019</td>\n",
       "      <td>12</td>\n",
       "      <td>30</td>\n",
       "      <td>15332</td>\n",
       "      <td>Weekday</td>\n",
       "    </tr>\n",
       "    <tr>\n",
       "      <th>3284</th>\n",
       "      <td>41660</td>\n",
       "      <td>2019</td>\n",
       "      <td>12</td>\n",
       "      <td>31</td>\n",
       "      <td>13430</td>\n",
       "      <td>Weekday</td>\n",
       "    </tr>\n",
       "  </tbody>\n",
       "</table>\n",
       "<p>3285 rows × 6 columns</p>\n",
       "</div>"
      ],
      "text/plain": [
       "     station_id  year  month  day  rides        day_type\n",
       "0         40010  2019      1    1    576  Sunday/Holiday\n",
       "1         40010  2019      1    2   1457         Weekday\n",
       "2         40010  2019      1    3   1543         Weekday\n",
       "3         40010  2019      1    4   1621         Weekday\n",
       "4         40010  2019      1    5    719        Saturday\n",
       "...         ...   ...    ...  ...    ...             ...\n",
       "3280      41660  2019     12   27  13898         Weekday\n",
       "3281      41660  2019     12   28   9485        Saturday\n",
       "3282      41660  2019     12   29   7581  Sunday/Holiday\n",
       "3283      41660  2019     12   30  15332         Weekday\n",
       "3284      41660  2019     12   31  13430         Weekday\n",
       "\n",
       "[3285 rows x 6 columns]"
      ]
     },
     "execution_count": 42,
     "metadata": {},
     "output_type": "execute_result"
    }
   ],
   "source": [
    "# Merge the ridership and cal tables together, starting with the ridership table on the left and save the result to the variable ridership_cal. If you code takes too long to run, your merge conditions might be incorrect.\n",
    "ridership_cal = ridership.merge(cal, on=[\"year\", \"month\", \"day\"])\n",
    "ridership_cal"
   ]
  },
  {
   "cell_type": "code",
   "execution_count": 46,
   "id": "3b140fcd",
   "metadata": {},
   "outputs": [
    {
     "data": {
      "application/vnd.microsoft.datawrangler.viewer.v0+json": {
       "columns": [
        {
         "name": "index",
         "rawType": "int64",
         "type": "integer"
        },
        {
         "name": "station_id",
         "rawType": "object",
         "type": "string"
        },
        {
         "name": "year",
         "rawType": "int64",
         "type": "integer"
        },
        {
         "name": "month",
         "rawType": "int64",
         "type": "integer"
        },
        {
         "name": "day",
         "rawType": "int64",
         "type": "integer"
        },
        {
         "name": "rides",
         "rawType": "int64",
         "type": "integer"
        },
        {
         "name": "day_type",
         "rawType": "object",
         "type": "string"
        },
        {
         "name": "station_name",
         "rawType": "object",
         "type": "string"
        },
        {
         "name": "location",
         "rawType": "object",
         "type": "string"
        }
       ],
       "ref": "d81379f1-867c-47ac-913f-ec9273211b70",
       "rows": [
        [
         "0",
         "40010",
         "2019",
         "1",
         "1",
         "576",
         "Sunday/Holiday",
         "Austin-Forest Park",
         "(41.870851, -87.776812)"
        ],
        [
         "1",
         "40010",
         "2019",
         "1",
         "2",
         "1457",
         "Weekday",
         "Austin-Forest Park",
         "(41.870851, -87.776812)"
        ],
        [
         "2",
         "40010",
         "2019",
         "1",
         "3",
         "1543",
         "Weekday",
         "Austin-Forest Park",
         "(41.870851, -87.776812)"
        ],
        [
         "3",
         "40010",
         "2019",
         "1",
         "4",
         "1621",
         "Weekday",
         "Austin-Forest Park",
         "(41.870851, -87.776812)"
        ],
        [
         "4",
         "40010",
         "2019",
         "1",
         "5",
         "719",
         "Saturday",
         "Austin-Forest Park",
         "(41.870851, -87.776812)"
        ],
        [
         "5",
         "40010",
         "2019",
         "1",
         "6",
         "554",
         "Sunday/Holiday",
         "Austin-Forest Park",
         "(41.870851, -87.776812)"
        ],
        [
         "6",
         "40010",
         "2019",
         "1",
         "7",
         "1714",
         "Weekday",
         "Austin-Forest Park",
         "(41.870851, -87.776812)"
        ],
        [
         "7",
         "40010",
         "2019",
         "1",
         "8",
         "1868",
         "Weekday",
         "Austin-Forest Park",
         "(41.870851, -87.776812)"
        ],
        [
         "8",
         "40010",
         "2019",
         "1",
         "9",
         "1811",
         "Weekday",
         "Austin-Forest Park",
         "(41.870851, -87.776812)"
        ],
        [
         "9",
         "40010",
         "2019",
         "1",
         "10",
         "1805",
         "Weekday",
         "Austin-Forest Park",
         "(41.870851, -87.776812)"
        ],
        [
         "10",
         "40010",
         "2019",
         "1",
         "11",
         "1697",
         "Weekday",
         "Austin-Forest Park",
         "(41.870851, -87.776812)"
        ],
        [
         "11",
         "40010",
         "2019",
         "1",
         "12",
         "679",
         "Saturday",
         "Austin-Forest Park",
         "(41.870851, -87.776812)"
        ],
        [
         "12",
         "40010",
         "2019",
         "1",
         "13",
         "489",
         "Sunday/Holiday",
         "Austin-Forest Park",
         "(41.870851, -87.776812)"
        ],
        [
         "13",
         "40010",
         "2019",
         "1",
         "14",
         "1945",
         "Weekday",
         "Austin-Forest Park",
         "(41.870851, -87.776812)"
        ],
        [
         "14",
         "40010",
         "2019",
         "1",
         "15",
         "1946",
         "Weekday",
         "Austin-Forest Park",
         "(41.870851, -87.776812)"
        ],
        [
         "15",
         "40010",
         "2019",
         "1",
         "16",
         "1994",
         "Weekday",
         "Austin-Forest Park",
         "(41.870851, -87.776812)"
        ],
        [
         "16",
         "40010",
         "2019",
         "1",
         "17",
         "2118",
         "Weekday",
         "Austin-Forest Park",
         "(41.870851, -87.776812)"
        ],
        [
         "17",
         "40010",
         "2019",
         "1",
         "18",
         "1836",
         "Weekday",
         "Austin-Forest Park",
         "(41.870851, -87.776812)"
        ],
        [
         "18",
         "40010",
         "2019",
         "1",
         "19",
         "594",
         "Saturday",
         "Austin-Forest Park",
         "(41.870851, -87.776812)"
        ],
        [
         "19",
         "40010",
         "2019",
         "1",
         "20",
         "458",
         "Sunday/Holiday",
         "Austin-Forest Park",
         "(41.870851, -87.776812)"
        ],
        [
         "20",
         "40010",
         "2019",
         "1",
         "21",
         "919",
         "Weekday",
         "Austin-Forest Park",
         "(41.870851, -87.776812)"
        ],
        [
         "21",
         "40010",
         "2019",
         "1",
         "22",
         "1976",
         "Weekday",
         "Austin-Forest Park",
         "(41.870851, -87.776812)"
        ],
        [
         "22",
         "40010",
         "2019",
         "1",
         "23",
         "1999",
         "Weekday",
         "Austin-Forest Park",
         "(41.870851, -87.776812)"
        ],
        [
         "23",
         "40010",
         "2019",
         "1",
         "24",
         "1923",
         "Weekday",
         "Austin-Forest Park",
         "(41.870851, -87.776812)"
        ],
        [
         "24",
         "40010",
         "2019",
         "1",
         "25",
         "1454",
         "Weekday",
         "Austin-Forest Park",
         "(41.870851, -87.776812)"
        ],
        [
         "25",
         "40010",
         "2019",
         "1",
         "26",
         "522",
         "Saturday",
         "Austin-Forest Park",
         "(41.870851, -87.776812)"
        ],
        [
         "26",
         "40010",
         "2019",
         "1",
         "27",
         "394",
         "Sunday/Holiday",
         "Austin-Forest Park",
         "(41.870851, -87.776812)"
        ],
        [
         "27",
         "40010",
         "2019",
         "1",
         "28",
         "1798",
         "Weekday",
         "Austin-Forest Park",
         "(41.870851, -87.776812)"
        ],
        [
         "28",
         "40010",
         "2019",
         "1",
         "29",
         "1573",
         "Weekday",
         "Austin-Forest Park",
         "(41.870851, -87.776812)"
        ],
        [
         "29",
         "40010",
         "2019",
         "1",
         "30",
         "255",
         "Weekday",
         "Austin-Forest Park",
         "(41.870851, -87.776812)"
        ],
        [
         "30",
         "40010",
         "2019",
         "1",
         "31",
         "562",
         "Weekday",
         "Austin-Forest Park",
         "(41.870851, -87.776812)"
        ],
        [
         "31",
         "40010",
         "2019",
         "2",
         "1",
         "1741",
         "Weekday",
         "Austin-Forest Park",
         "(41.870851, -87.776812)"
        ],
        [
         "32",
         "40010",
         "2019",
         "2",
         "2",
         "642",
         "Saturday",
         "Austin-Forest Park",
         "(41.870851, -87.776812)"
        ],
        [
         "33",
         "40010",
         "2019",
         "2",
         "3",
         "485",
         "Sunday/Holiday",
         "Austin-Forest Park",
         "(41.870851, -87.776812)"
        ],
        [
         "34",
         "40010",
         "2019",
         "2",
         "4",
         "1978",
         "Weekday",
         "Austin-Forest Park",
         "(41.870851, -87.776812)"
        ],
        [
         "35",
         "40010",
         "2019",
         "2",
         "5",
         "2035",
         "Weekday",
         "Austin-Forest Park",
         "(41.870851, -87.776812)"
        ],
        [
         "36",
         "40010",
         "2019",
         "2",
         "6",
         "1976",
         "Weekday",
         "Austin-Forest Park",
         "(41.870851, -87.776812)"
        ],
        [
         "37",
         "40010",
         "2019",
         "2",
         "7",
         "1949",
         "Weekday",
         "Austin-Forest Park",
         "(41.870851, -87.776812)"
        ],
        [
         "38",
         "40010",
         "2019",
         "2",
         "8",
         "1715",
         "Weekday",
         "Austin-Forest Park",
         "(41.870851, -87.776812)"
        ],
        [
         "39",
         "40010",
         "2019",
         "2",
         "9",
         "644",
         "Saturday",
         "Austin-Forest Park",
         "(41.870851, -87.776812)"
        ],
        [
         "40",
         "40010",
         "2019",
         "2",
         "10",
         "501",
         "Sunday/Holiday",
         "Austin-Forest Park",
         "(41.870851, -87.776812)"
        ],
        [
         "41",
         "40010",
         "2019",
         "2",
         "11",
         "1916",
         "Weekday",
         "Austin-Forest Park",
         "(41.870851, -87.776812)"
        ],
        [
         "42",
         "40010",
         "2019",
         "2",
         "12",
         "1905",
         "Weekday",
         "Austin-Forest Park",
         "(41.870851, -87.776812)"
        ],
        [
         "43",
         "40010",
         "2019",
         "2",
         "13",
         "1937",
         "Weekday",
         "Austin-Forest Park",
         "(41.870851, -87.776812)"
        ],
        [
         "44",
         "40010",
         "2019",
         "2",
         "14",
         "1996",
         "Weekday",
         "Austin-Forest Park",
         "(41.870851, -87.776812)"
        ],
        [
         "45",
         "40010",
         "2019",
         "2",
         "15",
         "1717",
         "Weekday",
         "Austin-Forest Park",
         "(41.870851, -87.776812)"
        ],
        [
         "46",
         "40010",
         "2019",
         "2",
         "16",
         "645",
         "Saturday",
         "Austin-Forest Park",
         "(41.870851, -87.776812)"
        ],
        [
         "47",
         "40010",
         "2019",
         "2",
         "17",
         "444",
         "Sunday/Holiday",
         "Austin-Forest Park",
         "(41.870851, -87.776812)"
        ],
        [
         "48",
         "40010",
         "2019",
         "2",
         "18",
         "1341",
         "Weekday",
         "Austin-Forest Park",
         "(41.870851, -87.776812)"
        ],
        [
         "49",
         "40010",
         "2019",
         "2",
         "19",
         "1941",
         "Weekday",
         "Austin-Forest Park",
         "(41.870851, -87.776812)"
        ]
       ],
       "shape": {
        "columns": 8,
        "rows": 3285
       }
      },
      "text/html": [
       "<div>\n",
       "<style scoped>\n",
       "    .dataframe tbody tr th:only-of-type {\n",
       "        vertical-align: middle;\n",
       "    }\n",
       "\n",
       "    .dataframe tbody tr th {\n",
       "        vertical-align: top;\n",
       "    }\n",
       "\n",
       "    .dataframe thead th {\n",
       "        text-align: right;\n",
       "    }\n",
       "</style>\n",
       "<table border=\"1\" class=\"dataframe\">\n",
       "  <thead>\n",
       "    <tr style=\"text-align: right;\">\n",
       "      <th></th>\n",
       "      <th>station_id</th>\n",
       "      <th>year</th>\n",
       "      <th>month</th>\n",
       "      <th>day</th>\n",
       "      <th>rides</th>\n",
       "      <th>day_type</th>\n",
       "      <th>station_name</th>\n",
       "      <th>location</th>\n",
       "    </tr>\n",
       "  </thead>\n",
       "  <tbody>\n",
       "    <tr>\n",
       "      <th>0</th>\n",
       "      <td>40010</td>\n",
       "      <td>2019</td>\n",
       "      <td>1</td>\n",
       "      <td>1</td>\n",
       "      <td>576</td>\n",
       "      <td>Sunday/Holiday</td>\n",
       "      <td>Austin-Forest Park</td>\n",
       "      <td>(41.870851, -87.776812)</td>\n",
       "    </tr>\n",
       "    <tr>\n",
       "      <th>1</th>\n",
       "      <td>40010</td>\n",
       "      <td>2019</td>\n",
       "      <td>1</td>\n",
       "      <td>2</td>\n",
       "      <td>1457</td>\n",
       "      <td>Weekday</td>\n",
       "      <td>Austin-Forest Park</td>\n",
       "      <td>(41.870851, -87.776812)</td>\n",
       "    </tr>\n",
       "    <tr>\n",
       "      <th>2</th>\n",
       "      <td>40010</td>\n",
       "      <td>2019</td>\n",
       "      <td>1</td>\n",
       "      <td>3</td>\n",
       "      <td>1543</td>\n",
       "      <td>Weekday</td>\n",
       "      <td>Austin-Forest Park</td>\n",
       "      <td>(41.870851, -87.776812)</td>\n",
       "    </tr>\n",
       "    <tr>\n",
       "      <th>3</th>\n",
       "      <td>40010</td>\n",
       "      <td>2019</td>\n",
       "      <td>1</td>\n",
       "      <td>4</td>\n",
       "      <td>1621</td>\n",
       "      <td>Weekday</td>\n",
       "      <td>Austin-Forest Park</td>\n",
       "      <td>(41.870851, -87.776812)</td>\n",
       "    </tr>\n",
       "    <tr>\n",
       "      <th>4</th>\n",
       "      <td>40010</td>\n",
       "      <td>2019</td>\n",
       "      <td>1</td>\n",
       "      <td>5</td>\n",
       "      <td>719</td>\n",
       "      <td>Saturday</td>\n",
       "      <td>Austin-Forest Park</td>\n",
       "      <td>(41.870851, -87.776812)</td>\n",
       "    </tr>\n",
       "    <tr>\n",
       "      <th>...</th>\n",
       "      <td>...</td>\n",
       "      <td>...</td>\n",
       "      <td>...</td>\n",
       "      <td>...</td>\n",
       "      <td>...</td>\n",
       "      <td>...</td>\n",
       "      <td>...</td>\n",
       "      <td>...</td>\n",
       "    </tr>\n",
       "    <tr>\n",
       "      <th>3280</th>\n",
       "      <td>41660</td>\n",
       "      <td>2019</td>\n",
       "      <td>12</td>\n",
       "      <td>27</td>\n",
       "      <td>13898</td>\n",
       "      <td>Weekday</td>\n",
       "      <td>Lake/State</td>\n",
       "      <td>(41.884809, -87.627813)</td>\n",
       "    </tr>\n",
       "    <tr>\n",
       "      <th>3281</th>\n",
       "      <td>41660</td>\n",
       "      <td>2019</td>\n",
       "      <td>12</td>\n",
       "      <td>28</td>\n",
       "      <td>9485</td>\n",
       "      <td>Saturday</td>\n",
       "      <td>Lake/State</td>\n",
       "      <td>(41.884809, -87.627813)</td>\n",
       "    </tr>\n",
       "    <tr>\n",
       "      <th>3282</th>\n",
       "      <td>41660</td>\n",
       "      <td>2019</td>\n",
       "      <td>12</td>\n",
       "      <td>29</td>\n",
       "      <td>7581</td>\n",
       "      <td>Sunday/Holiday</td>\n",
       "      <td>Lake/State</td>\n",
       "      <td>(41.884809, -87.627813)</td>\n",
       "    </tr>\n",
       "    <tr>\n",
       "      <th>3283</th>\n",
       "      <td>41660</td>\n",
       "      <td>2019</td>\n",
       "      <td>12</td>\n",
       "      <td>30</td>\n",
       "      <td>15332</td>\n",
       "      <td>Weekday</td>\n",
       "      <td>Lake/State</td>\n",
       "      <td>(41.884809, -87.627813)</td>\n",
       "    </tr>\n",
       "    <tr>\n",
       "      <th>3284</th>\n",
       "      <td>41660</td>\n",
       "      <td>2019</td>\n",
       "      <td>12</td>\n",
       "      <td>31</td>\n",
       "      <td>13430</td>\n",
       "      <td>Weekday</td>\n",
       "      <td>Lake/State</td>\n",
       "      <td>(41.884809, -87.627813)</td>\n",
       "    </tr>\n",
       "  </tbody>\n",
       "</table>\n",
       "<p>3285 rows × 8 columns</p>\n",
       "</div>"
      ],
      "text/plain": [
       "     station_id  year  month  day  rides        day_type        station_name  \\\n",
       "0         40010  2019      1    1    576  Sunday/Holiday  Austin-Forest Park   \n",
       "1         40010  2019      1    2   1457         Weekday  Austin-Forest Park   \n",
       "2         40010  2019      1    3   1543         Weekday  Austin-Forest Park   \n",
       "3         40010  2019      1    4   1621         Weekday  Austin-Forest Park   \n",
       "4         40010  2019      1    5    719        Saturday  Austin-Forest Park   \n",
       "...         ...   ...    ...  ...    ...             ...                 ...   \n",
       "3280      41660  2019     12   27  13898         Weekday          Lake/State   \n",
       "3281      41660  2019     12   28   9485        Saturday          Lake/State   \n",
       "3282      41660  2019     12   29   7581  Sunday/Holiday          Lake/State   \n",
       "3283      41660  2019     12   30  15332         Weekday          Lake/State   \n",
       "3284      41660  2019     12   31  13430         Weekday          Lake/State   \n",
       "\n",
       "                     location  \n",
       "0     (41.870851, -87.776812)  \n",
       "1     (41.870851, -87.776812)  \n",
       "2     (41.870851, -87.776812)  \n",
       "3     (41.870851, -87.776812)  \n",
       "4     (41.870851, -87.776812)  \n",
       "...                       ...  \n",
       "3280  (41.884809, -87.627813)  \n",
       "3281  (41.884809, -87.627813)  \n",
       "3282  (41.884809, -87.627813)  \n",
       "3283  (41.884809, -87.627813)  \n",
       "3284  (41.884809, -87.627813)  \n",
       "\n",
       "[3285 rows x 8 columns]"
      ]
     },
     "execution_count": 46,
     "metadata": {},
     "output_type": "execute_result"
    }
   ],
   "source": [
    "# Extend the previous merge to three tables by also merging the stations table.\n",
    "ridership_cal_stations = ridership.merge(cal, on=['year','month','day']).merge(stations, on=\"station_id\")\n",
    "ridership_cal_stations"
   ]
  },
  {
   "cell_type": "code",
   "execution_count": 48,
   "id": "51afc865",
   "metadata": {},
   "outputs": [
    {
     "name": "stdout",
     "output_type": "stream",
     "text": [
      "140005\n"
     ]
    }
   ],
   "source": [
    "# Create a variable called filter_criteria to select the appropriate rows from the merged table so that you can sum the rides column.\n",
    "filter_criteria  = ((ridership_cal_stations[\"month\"] == 7) \n",
    "                    & (ridership_cal_stations[\"day_type\"] == \"Weekday\") \n",
    "                    & (ridership_cal_stations[\"station_name\"] == \"Wilson\"))\n",
    "\n",
    "# Use .loc and the filter to select for rides\n",
    "print(ridership_cal_stations.loc[filter_criteria, \"rides\"].sum())"
   ]
  },
  {
   "cell_type": "markdown",
   "id": "189eefe2",
   "metadata": {},
   "source": [
    "### Three table merge\n",
    "To solidify the concept of a three DataFrame merge, practice another exercise. A reasonable extension of our review of Chicago business data would include looking at demographics information about the neighborhoods where the businesses are. A table with the median income by zip code has been provided to you. You will merge the `licenses` and `wards` tables with this new income-by-zip-code table called `zip_demo`."
   ]
  },
  {
   "cell_type": "code",
   "execution_count": 49,
   "id": "603614b6",
   "metadata": {},
   "outputs": [],
   "source": [
    "zip_demo = pd.read_pickle(\"data/zip_demo.p\")"
   ]
  },
  {
   "cell_type": "code",
   "execution_count": 50,
   "id": "64047582",
   "metadata": {},
   "outputs": [
    {
     "data": {
      "application/vnd.microsoft.datawrangler.viewer.v0+json": {
       "columns": [
        {
         "name": "index",
         "rawType": "int64",
         "type": "integer"
        },
        {
         "name": "zip",
         "rawType": "object",
         "type": "string"
        },
        {
         "name": "income",
         "rawType": "int64",
         "type": "integer"
        }
       ],
       "ref": "03beb166-d488-4584-bf64-41ad115bc114",
       "rows": [
        [
         "0",
         "60630",
         "70122"
        ],
        [
         "1",
         "60640",
         "50488"
        ],
        [
         "2",
         "60622",
         "87143"
        ],
        [
         "3",
         "60614",
         "100116"
        ],
        [
         "4",
         "60608",
         "41226"
        ]
       ],
       "shape": {
        "columns": 2,
        "rows": 5
       }
      },
      "text/html": [
       "<div>\n",
       "<style scoped>\n",
       "    .dataframe tbody tr th:only-of-type {\n",
       "        vertical-align: middle;\n",
       "    }\n",
       "\n",
       "    .dataframe tbody tr th {\n",
       "        vertical-align: top;\n",
       "    }\n",
       "\n",
       "    .dataframe thead th {\n",
       "        text-align: right;\n",
       "    }\n",
       "</style>\n",
       "<table border=\"1\" class=\"dataframe\">\n",
       "  <thead>\n",
       "    <tr style=\"text-align: right;\">\n",
       "      <th></th>\n",
       "      <th>zip</th>\n",
       "      <th>income</th>\n",
       "    </tr>\n",
       "  </thead>\n",
       "  <tbody>\n",
       "    <tr>\n",
       "      <th>0</th>\n",
       "      <td>60630</td>\n",
       "      <td>70122</td>\n",
       "    </tr>\n",
       "    <tr>\n",
       "      <th>1</th>\n",
       "      <td>60640</td>\n",
       "      <td>50488</td>\n",
       "    </tr>\n",
       "    <tr>\n",
       "      <th>2</th>\n",
       "      <td>60622</td>\n",
       "      <td>87143</td>\n",
       "    </tr>\n",
       "    <tr>\n",
       "      <th>3</th>\n",
       "      <td>60614</td>\n",
       "      <td>100116</td>\n",
       "    </tr>\n",
       "    <tr>\n",
       "      <th>4</th>\n",
       "      <td>60608</td>\n",
       "      <td>41226</td>\n",
       "    </tr>\n",
       "  </tbody>\n",
       "</table>\n",
       "</div>"
      ],
      "text/plain": [
       "     zip  income\n",
       "0  60630   70122\n",
       "1  60640   50488\n",
       "2  60622   87143\n",
       "3  60614  100116\n",
       "4  60608   41226"
      ]
     },
     "execution_count": 50,
     "metadata": {},
     "output_type": "execute_result"
    }
   ],
   "source": [
    "zip_demo.head()"
   ]
  },
  {
   "cell_type": "code",
   "execution_count": 54,
   "id": "f3cf4565",
   "metadata": {},
   "outputs": [
    {
     "data": {
      "application/vnd.microsoft.datawrangler.viewer.v0+json": {
       "columns": [
        {
         "name": "index",
         "rawType": "int64",
         "type": "integer"
        },
        {
         "name": "account",
         "rawType": "object",
         "type": "string"
        },
        {
         "name": "ward",
         "rawType": "object",
         "type": "string"
        },
        {
         "name": "aid",
         "rawType": "object",
         "type": "unknown"
        },
        {
         "name": "business",
         "rawType": "object",
         "type": "string"
        },
        {
         "name": "address_x",
         "rawType": "object",
         "type": "string"
        },
        {
         "name": "zip_x",
         "rawType": "object",
         "type": "string"
        },
        {
         "name": "income",
         "rawType": "int64",
         "type": "integer"
        },
        {
         "name": "alderman",
         "rawType": "object",
         "type": "string"
        },
        {
         "name": "address_y",
         "rawType": "object",
         "type": "string"
        },
        {
         "name": "zip_y",
         "rawType": "object",
         "type": "string"
        }
       ],
       "ref": "94dc0a02-a77e-475d-b880-a0ac1915847c",
       "rows": [
        [
         "0",
         "307071",
         "3",
         "743",
         "REGGIE'S BAR & GRILL",
         "2105 S STATE ST",
         "60616",
         "46340",
         "Pat Dowell",
         "5046 SOUTH STATE STREET",
         "60609"
        ],
        [
         "1",
         "10",
         "10",
         "829",
         "HONEYBEERS",
         "13200 S HOUSTON AVE",
         "60633",
         "50164",
         "Susan Sadlowski Garza",
         "10500 SOUTH EWING AVENUE",
         "60617"
        ],
        [
         "2",
         "10002",
         "14",
         "775",
         "CELINA DELI",
         "5089 S ARCHER AVE",
         "60632",
         "42335",
         "Edward M. Burke",
         "2650 WEST 51ST STREET",
         "60632"
        ],
        [
         "3",
         "10005",
         "12",
         null,
         "KRAFT FOODS NORTH AMERICA",
         "2005 W 43RD ST",
         "60609",
         "33959",
         "George Cardenas",
         "3476 SOUTH ARCHER AVENUE",
         "60608"
        ],
        [
         "4",
         "10044",
         "44",
         "638",
         "NEYBOUR'S TAVERN & GRILLE",
         "3651 N SOUTHPORT AVE",
         "60613",
         "79565",
         "Tom Tunney",
         "3223 NORTH SHEFFIELD AVENUE",
         "60657"
        ]
       ],
       "shape": {
        "columns": 10,
        "rows": 5
       }
      },
      "text/html": [
       "<div>\n",
       "<style scoped>\n",
       "    .dataframe tbody tr th:only-of-type {\n",
       "        vertical-align: middle;\n",
       "    }\n",
       "\n",
       "    .dataframe tbody tr th {\n",
       "        vertical-align: top;\n",
       "    }\n",
       "\n",
       "    .dataframe thead th {\n",
       "        text-align: right;\n",
       "    }\n",
       "</style>\n",
       "<table border=\"1\" class=\"dataframe\">\n",
       "  <thead>\n",
       "    <tr style=\"text-align: right;\">\n",
       "      <th></th>\n",
       "      <th>account</th>\n",
       "      <th>ward</th>\n",
       "      <th>aid</th>\n",
       "      <th>business</th>\n",
       "      <th>address_x</th>\n",
       "      <th>zip_x</th>\n",
       "      <th>income</th>\n",
       "      <th>alderman</th>\n",
       "      <th>address_y</th>\n",
       "      <th>zip_y</th>\n",
       "    </tr>\n",
       "  </thead>\n",
       "  <tbody>\n",
       "    <tr>\n",
       "      <th>0</th>\n",
       "      <td>307071</td>\n",
       "      <td>3</td>\n",
       "      <td>743</td>\n",
       "      <td>REGGIE'S BAR &amp; GRILL</td>\n",
       "      <td>2105 S STATE ST</td>\n",
       "      <td>60616</td>\n",
       "      <td>46340</td>\n",
       "      <td>Pat Dowell</td>\n",
       "      <td>5046 SOUTH STATE STREET</td>\n",
       "      <td>60609</td>\n",
       "    </tr>\n",
       "    <tr>\n",
       "      <th>1</th>\n",
       "      <td>10</td>\n",
       "      <td>10</td>\n",
       "      <td>829</td>\n",
       "      <td>HONEYBEERS</td>\n",
       "      <td>13200 S HOUSTON AVE</td>\n",
       "      <td>60633</td>\n",
       "      <td>50164</td>\n",
       "      <td>Susan Sadlowski Garza</td>\n",
       "      <td>10500 SOUTH EWING AVENUE</td>\n",
       "      <td>60617</td>\n",
       "    </tr>\n",
       "    <tr>\n",
       "      <th>2</th>\n",
       "      <td>10002</td>\n",
       "      <td>14</td>\n",
       "      <td>775</td>\n",
       "      <td>CELINA DELI</td>\n",
       "      <td>5089 S ARCHER AVE</td>\n",
       "      <td>60632</td>\n",
       "      <td>42335</td>\n",
       "      <td>Edward M. Burke</td>\n",
       "      <td>2650 WEST 51ST STREET</td>\n",
       "      <td>60632</td>\n",
       "    </tr>\n",
       "    <tr>\n",
       "      <th>3</th>\n",
       "      <td>10005</td>\n",
       "      <td>12</td>\n",
       "      <td>NaN</td>\n",
       "      <td>KRAFT FOODS NORTH AMERICA</td>\n",
       "      <td>2005 W 43RD ST</td>\n",
       "      <td>60609</td>\n",
       "      <td>33959</td>\n",
       "      <td>George Cardenas</td>\n",
       "      <td>3476 SOUTH ARCHER AVENUE</td>\n",
       "      <td>60608</td>\n",
       "    </tr>\n",
       "    <tr>\n",
       "      <th>4</th>\n",
       "      <td>10044</td>\n",
       "      <td>44</td>\n",
       "      <td>638</td>\n",
       "      <td>NEYBOUR'S TAVERN &amp; GRILLE</td>\n",
       "      <td>3651 N SOUTHPORT AVE</td>\n",
       "      <td>60613</td>\n",
       "      <td>79565</td>\n",
       "      <td>Tom Tunney</td>\n",
       "      <td>3223 NORTH SHEFFIELD AVENUE</td>\n",
       "      <td>60657</td>\n",
       "    </tr>\n",
       "  </tbody>\n",
       "</table>\n",
       "</div>"
      ],
      "text/plain": [
       "  account ward  aid                   business             address_x  zip_x  \\\n",
       "0  307071    3  743       REGGIE'S BAR & GRILL       2105 S STATE ST  60616   \n",
       "1      10   10  829                 HONEYBEERS   13200 S HOUSTON AVE  60633   \n",
       "2   10002   14  775                CELINA DELI     5089 S ARCHER AVE  60632   \n",
       "3   10005   12  NaN  KRAFT FOODS NORTH AMERICA        2005 W 43RD ST  60609   \n",
       "4   10044   44  638  NEYBOUR'S TAVERN & GRILLE  3651 N SOUTHPORT AVE  60613   \n",
       "\n",
       "   income               alderman                    address_y  zip_y  \n",
       "0   46340             Pat Dowell      5046 SOUTH STATE STREET  60609  \n",
       "1   50164  Susan Sadlowski Garza     10500 SOUTH EWING AVENUE  60617  \n",
       "2   42335        Edward M. Burke        2650 WEST 51ST STREET  60632  \n",
       "3   33959        George Cardenas     3476 SOUTH ARCHER AVENUE  60608  \n",
       "4   79565             Tom Tunney  3223 NORTH SHEFFIELD AVENUE  60657  "
      ]
     },
     "execution_count": 54,
     "metadata": {},
     "output_type": "execute_result"
    }
   ],
   "source": [
    "# Starting with the licenses table, merge to it the zip_demo table on the zip column. Then merge the resulting table to the wards table on the ward column. Save result of the three merged tables to a variable named licenses_zip_ward.\n",
    "licenses_zip_ward = licenses.merge(zip_demo, on=\"zip\").merge(wards, on=\"ward\")\n",
    "licenses_zip_ward.head()"
   ]
  },
  {
   "cell_type": "code",
   "execution_count": 55,
   "id": "c372bf29",
   "metadata": {},
   "outputs": [
    {
     "data": {
      "application/vnd.microsoft.datawrangler.viewer.v0+json": {
       "columns": [
        {
         "name": "alderman",
         "rawType": "object",
         "type": "string"
        },
        {
         "name": "income",
         "rawType": "float64",
         "type": "float"
        }
       ],
       "ref": "a1748d4b-05b0-41b3-a9cd-e174a3d9a7fc",
       "rows": [
        [
         "Ameya Pawar",
         "66246.0"
        ],
        [
         "Anthony A. Beale",
         "38206.0"
        ],
        [
         "Anthony V. Napolitano",
         "82226.0"
        ],
        [
         "Ariel E. Reyboras",
         "41307.0"
        ],
        [
         "Brendan Reilly",
         "110215.0"
        ],
        [
         "Brian Hopkins",
         "87143.0"
        ],
        [
         "Carlos Ramirez-Rosa",
         "66246.0"
        ],
        [
         "Carrie M. Austin",
         "38206.0"
        ],
        [
         "Chris Taliaferro",
         "55566.0"
        ],
        [
         "Daniel \"Danny\" Solis",
         "41226.0"
        ],
        [
         "David H. Moore",
         "33304.0"
        ],
        [
         "Deborah Mell",
         "66246.0"
        ],
        [
         "Debra L. Silverstein",
         "50554.0"
        ],
        [
         "Derrick G. Curtis",
         "65770.0"
        ],
        [
         "Edward M. Burke",
         "42335.0"
        ],
        [
         "Emma M. Mitts",
         "36283.0"
        ],
        [
         "George Cardenas",
         "33959.0"
        ],
        [
         "Gilbert Villegas",
         "41307.0"
        ],
        [
         "Gregory I. Mitchell",
         "24941.0"
        ],
        [
         "Harry Osterman",
         "45442.0"
        ],
        [
         "Howard B. Brookins, Jr.",
         "33304.0"
        ],
        [
         "James Cappleman",
         "79565.0"
        ],
        [
         "Jason C. Ervin",
         "41226.0"
        ],
        [
         "Joe Moore",
         "39163.0"
        ],
        [
         "John S. Arena",
         "70122.0"
        ],
        [
         "Leslie A. Hairston",
         "28024.0"
        ],
        [
         "Margaret Laurino",
         "70122.0"
        ],
        [
         "Marty Quinn",
         "67045.0"
        ],
        [
         "Matthew J. O'Shea",
         "59488.0"
        ],
        [
         "Michael R. Zalewski",
         "42335.0"
        ],
        [
         "Michael Scott, Jr.",
         "31445.0"
        ],
        [
         "Michelle A. Harris",
         "32558.0"
        ],
        [
         "Michelle Smith",
         "100116.0"
        ],
        [
         "Milagros \"Milly\" Santiago",
         "41307.0"
        ],
        [
         "Nicholas Sposato",
         "62223.0"
        ],
        [
         "Pat Dowell",
         "46340.0"
        ],
        [
         "Patrick Daley Thompson",
         "41226.0"
        ],
        [
         "Patrick J. O'Connor",
         "50554.0"
        ],
        [
         "Proco \"Joe\" Moreno",
         "87143.0"
        ],
        [
         "Raymond A. Lopez",
         "33959.0"
        ],
        [
         "Ricardo Munoz",
         "31445.0"
        ],
        [
         "Roberto Maldonado",
         "68223.0"
        ],
        [
         "Roderick T. Sawyer",
         "32558.0"
        ],
        [
         "Scott Waguespack",
         "68223.0"
        ],
        [
         "Susan Sadlowski Garza",
         "38417.0"
        ],
        [
         "Tom Tunney",
         "88708.0"
        ],
        [
         "Toni L. Foulkes",
         "27573.0"
        ],
        [
         "Walter Burnett, Jr.",
         "87143.0"
        ],
        [
         "William D. Burns",
         "107811.0"
        ],
        [
         "Willie B. Cochran",
         "28024.0"
        ]
       ],
       "shape": {
        "columns": 1,
        "rows": 50
       }
      },
      "text/html": [
       "<div>\n",
       "<style scoped>\n",
       "    .dataframe tbody tr th:only-of-type {\n",
       "        vertical-align: middle;\n",
       "    }\n",
       "\n",
       "    .dataframe tbody tr th {\n",
       "        vertical-align: top;\n",
       "    }\n",
       "\n",
       "    .dataframe thead th {\n",
       "        text-align: right;\n",
       "    }\n",
       "</style>\n",
       "<table border=\"1\" class=\"dataframe\">\n",
       "  <thead>\n",
       "    <tr style=\"text-align: right;\">\n",
       "      <th></th>\n",
       "      <th>income</th>\n",
       "    </tr>\n",
       "    <tr>\n",
       "      <th>alderman</th>\n",
       "      <th></th>\n",
       "    </tr>\n",
       "  </thead>\n",
       "  <tbody>\n",
       "    <tr>\n",
       "      <th>Ameya Pawar</th>\n",
       "      <td>66246.0</td>\n",
       "    </tr>\n",
       "    <tr>\n",
       "      <th>Anthony A. Beale</th>\n",
       "      <td>38206.0</td>\n",
       "    </tr>\n",
       "    <tr>\n",
       "      <th>Anthony V. Napolitano</th>\n",
       "      <td>82226.0</td>\n",
       "    </tr>\n",
       "    <tr>\n",
       "      <th>Ariel E. Reyboras</th>\n",
       "      <td>41307.0</td>\n",
       "    </tr>\n",
       "    <tr>\n",
       "      <th>Brendan Reilly</th>\n",
       "      <td>110215.0</td>\n",
       "    </tr>\n",
       "    <tr>\n",
       "      <th>Brian Hopkins</th>\n",
       "      <td>87143.0</td>\n",
       "    </tr>\n",
       "    <tr>\n",
       "      <th>Carlos Ramirez-Rosa</th>\n",
       "      <td>66246.0</td>\n",
       "    </tr>\n",
       "    <tr>\n",
       "      <th>Carrie M. Austin</th>\n",
       "      <td>38206.0</td>\n",
       "    </tr>\n",
       "    <tr>\n",
       "      <th>Chris Taliaferro</th>\n",
       "      <td>55566.0</td>\n",
       "    </tr>\n",
       "    <tr>\n",
       "      <th>Daniel \"Danny\" Solis</th>\n",
       "      <td>41226.0</td>\n",
       "    </tr>\n",
       "    <tr>\n",
       "      <th>David H. Moore</th>\n",
       "      <td>33304.0</td>\n",
       "    </tr>\n",
       "    <tr>\n",
       "      <th>Deborah Mell</th>\n",
       "      <td>66246.0</td>\n",
       "    </tr>\n",
       "    <tr>\n",
       "      <th>Debra L. Silverstein</th>\n",
       "      <td>50554.0</td>\n",
       "    </tr>\n",
       "    <tr>\n",
       "      <th>Derrick G. Curtis</th>\n",
       "      <td>65770.0</td>\n",
       "    </tr>\n",
       "    <tr>\n",
       "      <th>Edward M. Burke</th>\n",
       "      <td>42335.0</td>\n",
       "    </tr>\n",
       "    <tr>\n",
       "      <th>Emma M. Mitts</th>\n",
       "      <td>36283.0</td>\n",
       "    </tr>\n",
       "    <tr>\n",
       "      <th>George Cardenas</th>\n",
       "      <td>33959.0</td>\n",
       "    </tr>\n",
       "    <tr>\n",
       "      <th>Gilbert Villegas</th>\n",
       "      <td>41307.0</td>\n",
       "    </tr>\n",
       "    <tr>\n",
       "      <th>Gregory I. Mitchell</th>\n",
       "      <td>24941.0</td>\n",
       "    </tr>\n",
       "    <tr>\n",
       "      <th>Harry Osterman</th>\n",
       "      <td>45442.0</td>\n",
       "    </tr>\n",
       "    <tr>\n",
       "      <th>Howard B. Brookins, Jr.</th>\n",
       "      <td>33304.0</td>\n",
       "    </tr>\n",
       "    <tr>\n",
       "      <th>James Cappleman</th>\n",
       "      <td>79565.0</td>\n",
       "    </tr>\n",
       "    <tr>\n",
       "      <th>Jason C. Ervin</th>\n",
       "      <td>41226.0</td>\n",
       "    </tr>\n",
       "    <tr>\n",
       "      <th>Joe Moore</th>\n",
       "      <td>39163.0</td>\n",
       "    </tr>\n",
       "    <tr>\n",
       "      <th>John S. Arena</th>\n",
       "      <td>70122.0</td>\n",
       "    </tr>\n",
       "    <tr>\n",
       "      <th>Leslie A. Hairston</th>\n",
       "      <td>28024.0</td>\n",
       "    </tr>\n",
       "    <tr>\n",
       "      <th>Margaret Laurino</th>\n",
       "      <td>70122.0</td>\n",
       "    </tr>\n",
       "    <tr>\n",
       "      <th>Marty Quinn</th>\n",
       "      <td>67045.0</td>\n",
       "    </tr>\n",
       "    <tr>\n",
       "      <th>Matthew J. O'Shea</th>\n",
       "      <td>59488.0</td>\n",
       "    </tr>\n",
       "    <tr>\n",
       "      <th>Michael R. Zalewski</th>\n",
       "      <td>42335.0</td>\n",
       "    </tr>\n",
       "    <tr>\n",
       "      <th>Michael Scott, Jr.</th>\n",
       "      <td>31445.0</td>\n",
       "    </tr>\n",
       "    <tr>\n",
       "      <th>Michelle A. Harris</th>\n",
       "      <td>32558.0</td>\n",
       "    </tr>\n",
       "    <tr>\n",
       "      <th>Michelle Smith</th>\n",
       "      <td>100116.0</td>\n",
       "    </tr>\n",
       "    <tr>\n",
       "      <th>Milagros \"Milly\" Santiago</th>\n",
       "      <td>41307.0</td>\n",
       "    </tr>\n",
       "    <tr>\n",
       "      <th>Nicholas Sposato</th>\n",
       "      <td>62223.0</td>\n",
       "    </tr>\n",
       "    <tr>\n",
       "      <th>Pat Dowell</th>\n",
       "      <td>46340.0</td>\n",
       "    </tr>\n",
       "    <tr>\n",
       "      <th>Patrick Daley Thompson</th>\n",
       "      <td>41226.0</td>\n",
       "    </tr>\n",
       "    <tr>\n",
       "      <th>Patrick J. O'Connor</th>\n",
       "      <td>50554.0</td>\n",
       "    </tr>\n",
       "    <tr>\n",
       "      <th>Proco \"Joe\" Moreno</th>\n",
       "      <td>87143.0</td>\n",
       "    </tr>\n",
       "    <tr>\n",
       "      <th>Raymond A. Lopez</th>\n",
       "      <td>33959.0</td>\n",
       "    </tr>\n",
       "    <tr>\n",
       "      <th>Ricardo Munoz</th>\n",
       "      <td>31445.0</td>\n",
       "    </tr>\n",
       "    <tr>\n",
       "      <th>Roberto Maldonado</th>\n",
       "      <td>68223.0</td>\n",
       "    </tr>\n",
       "    <tr>\n",
       "      <th>Roderick T. Sawyer</th>\n",
       "      <td>32558.0</td>\n",
       "    </tr>\n",
       "    <tr>\n",
       "      <th>Scott Waguespack</th>\n",
       "      <td>68223.0</td>\n",
       "    </tr>\n",
       "    <tr>\n",
       "      <th>Susan Sadlowski Garza</th>\n",
       "      <td>38417.0</td>\n",
       "    </tr>\n",
       "    <tr>\n",
       "      <th>Tom Tunney</th>\n",
       "      <td>88708.0</td>\n",
       "    </tr>\n",
       "    <tr>\n",
       "      <th>Toni L. Foulkes</th>\n",
       "      <td>27573.0</td>\n",
       "    </tr>\n",
       "    <tr>\n",
       "      <th>Walter Burnett, Jr.</th>\n",
       "      <td>87143.0</td>\n",
       "    </tr>\n",
       "    <tr>\n",
       "      <th>William D. Burns</th>\n",
       "      <td>107811.0</td>\n",
       "    </tr>\n",
       "    <tr>\n",
       "      <th>Willie B. Cochran</th>\n",
       "      <td>28024.0</td>\n",
       "    </tr>\n",
       "  </tbody>\n",
       "</table>\n",
       "</div>"
      ],
      "text/plain": [
       "                             income\n",
       "alderman                           \n",
       "Ameya Pawar                 66246.0\n",
       "Anthony A. Beale            38206.0\n",
       "Anthony V. Napolitano       82226.0\n",
       "Ariel E. Reyboras           41307.0\n",
       "Brendan Reilly             110215.0\n",
       "Brian Hopkins               87143.0\n",
       "Carlos Ramirez-Rosa         66246.0\n",
       "Carrie M. Austin            38206.0\n",
       "Chris Taliaferro            55566.0\n",
       "Daniel \"Danny\" Solis        41226.0\n",
       "David H. Moore              33304.0\n",
       "Deborah Mell                66246.0\n",
       "Debra L. Silverstein        50554.0\n",
       "Derrick G. Curtis           65770.0\n",
       "Edward M. Burke             42335.0\n",
       "Emma M. Mitts               36283.0\n",
       "George Cardenas             33959.0\n",
       "Gilbert Villegas            41307.0\n",
       "Gregory I. Mitchell         24941.0\n",
       "Harry Osterman              45442.0\n",
       "Howard B. Brookins, Jr.     33304.0\n",
       "James Cappleman             79565.0\n",
       "Jason C. Ervin              41226.0\n",
       "Joe Moore                   39163.0\n",
       "John S. Arena               70122.0\n",
       "Leslie A. Hairston          28024.0\n",
       "Margaret Laurino            70122.0\n",
       "Marty Quinn                 67045.0\n",
       "Matthew J. O'Shea           59488.0\n",
       "Michael R. Zalewski         42335.0\n",
       "Michael Scott, Jr.          31445.0\n",
       "Michelle A. Harris          32558.0\n",
       "Michelle Smith             100116.0\n",
       "Milagros \"Milly\" Santiago   41307.0\n",
       "Nicholas Sposato            62223.0\n",
       "Pat Dowell                  46340.0\n",
       "Patrick Daley Thompson      41226.0\n",
       "Patrick J. O'Connor         50554.0\n",
       "Proco \"Joe\" Moreno          87143.0\n",
       "Raymond A. Lopez            33959.0\n",
       "Ricardo Munoz               31445.0\n",
       "Roberto Maldonado           68223.0\n",
       "Roderick T. Sawyer          32558.0\n",
       "Scott Waguespack            68223.0\n",
       "Susan Sadlowski Garza       38417.0\n",
       "Tom Tunney                  88708.0\n",
       "Toni L. Foulkes             27573.0\n",
       "Walter Burnett, Jr.         87143.0\n",
       "William D. Burns           107811.0\n",
       "Willie B. Cochran           28024.0"
      ]
     },
     "metadata": {},
     "output_type": "display_data"
    }
   ],
   "source": [
    "# Group the results of the three merged tables by the column alderman and find the median income.\n",
    "display(licenses_zip_ward.groupby(\"alderman\").agg({\"income\":\"median\"}))\n"
   ]
  },
  {
   "cell_type": "markdown",
   "id": "1bdcbfb3",
   "metadata": {},
   "source": [
    "### One-to-many merge with multiple tables\n",
    "In this exercise, assume that you are looking to start a business in the city of Chicago. Your perfect idea is to start a company that uses goats to mow the lawn for other businesses. However, you have to choose a location in the city to put your goat farm. You need a location with a great deal of space and relatively few businesses and people around to avoid complaints about the smell. You will need to merge three tables to help you choose your location. The `land_use` table has info on the percentage of vacant land by city ward. The `census` table has population by ward, and the `licenses` table lists businesses by ward."
   ]
  },
  {
   "cell_type": "code",
   "execution_count": 57,
   "id": "6f75f696",
   "metadata": {},
   "outputs": [
    {
     "data": {
      "application/vnd.microsoft.datawrangler.viewer.v0+json": {
       "columns": [
        {
         "name": "index",
         "rawType": "int64",
         "type": "integer"
        },
        {
         "name": "ward",
         "rawType": "object",
         "type": "string"
        },
        {
         "name": "residential",
         "rawType": "int64",
         "type": "integer"
        },
        {
         "name": "commercial",
         "rawType": "int64",
         "type": "integer"
        },
        {
         "name": "industrial",
         "rawType": "int64",
         "type": "integer"
        },
        {
         "name": "vacant",
         "rawType": "int64",
         "type": "integer"
        },
        {
         "name": "other",
         "rawType": "int64",
         "type": "integer"
        }
       ],
       "ref": "5cc2b7ef-e460-4b37-86ac-dfff3e84fbd7",
       "rows": [
        [
         "0",
         "1",
         "41",
         "9",
         "2",
         "2",
         "46"
        ],
        [
         "1",
         "2",
         "31",
         "11",
         "6",
         "2",
         "50"
        ],
        [
         "2",
         "3",
         "20",
         "5",
         "3",
         "13",
         "59"
        ],
        [
         "3",
         "4",
         "22",
         "13",
         "0",
         "7",
         "58"
        ],
        [
         "4",
         "5",
         "25",
         "3",
         "1",
         "3",
         "68"
        ]
       ],
       "shape": {
        "columns": 6,
        "rows": 5
       }
      },
      "text/html": [
       "<div>\n",
       "<style scoped>\n",
       "    .dataframe tbody tr th:only-of-type {\n",
       "        vertical-align: middle;\n",
       "    }\n",
       "\n",
       "    .dataframe tbody tr th {\n",
       "        vertical-align: top;\n",
       "    }\n",
       "\n",
       "    .dataframe thead th {\n",
       "        text-align: right;\n",
       "    }\n",
       "</style>\n",
       "<table border=\"1\" class=\"dataframe\">\n",
       "  <thead>\n",
       "    <tr style=\"text-align: right;\">\n",
       "      <th></th>\n",
       "      <th>ward</th>\n",
       "      <th>residential</th>\n",
       "      <th>commercial</th>\n",
       "      <th>industrial</th>\n",
       "      <th>vacant</th>\n",
       "      <th>other</th>\n",
       "    </tr>\n",
       "  </thead>\n",
       "  <tbody>\n",
       "    <tr>\n",
       "      <th>0</th>\n",
       "      <td>1</td>\n",
       "      <td>41</td>\n",
       "      <td>9</td>\n",
       "      <td>2</td>\n",
       "      <td>2</td>\n",
       "      <td>46</td>\n",
       "    </tr>\n",
       "    <tr>\n",
       "      <th>1</th>\n",
       "      <td>2</td>\n",
       "      <td>31</td>\n",
       "      <td>11</td>\n",
       "      <td>6</td>\n",
       "      <td>2</td>\n",
       "      <td>50</td>\n",
       "    </tr>\n",
       "    <tr>\n",
       "      <th>2</th>\n",
       "      <td>3</td>\n",
       "      <td>20</td>\n",
       "      <td>5</td>\n",
       "      <td>3</td>\n",
       "      <td>13</td>\n",
       "      <td>59</td>\n",
       "    </tr>\n",
       "    <tr>\n",
       "      <th>3</th>\n",
       "      <td>4</td>\n",
       "      <td>22</td>\n",
       "      <td>13</td>\n",
       "      <td>0</td>\n",
       "      <td>7</td>\n",
       "      <td>58</td>\n",
       "    </tr>\n",
       "    <tr>\n",
       "      <th>4</th>\n",
       "      <td>5</td>\n",
       "      <td>25</td>\n",
       "      <td>3</td>\n",
       "      <td>1</td>\n",
       "      <td>3</td>\n",
       "      <td>68</td>\n",
       "    </tr>\n",
       "  </tbody>\n",
       "</table>\n",
       "</div>"
      ],
      "text/plain": [
       "  ward  residential  commercial  industrial  vacant  other\n",
       "0    1           41           9           2       2     46\n",
       "1    2           31          11           6       2     50\n",
       "2    3           20           5           3      13     59\n",
       "3    4           22          13           0       7     58\n",
       "4    5           25           3           1       3     68"
      ]
     },
     "execution_count": 57,
     "metadata": {},
     "output_type": "execute_result"
    }
   ],
   "source": [
    "land_use = pd.read_pickle(\"data/land_use.p\")\n",
    "land_use.head()"
   ]
  },
  {
   "cell_type": "code",
   "execution_count": 58,
   "id": "a144405d",
   "metadata": {},
   "outputs": [
    {
     "data": {
      "application/vnd.microsoft.datawrangler.viewer.v0+json": {
       "columns": [
        {
         "name": "index",
         "rawType": "int64",
         "type": "integer"
        },
        {
         "name": "ward",
         "rawType": "object",
         "type": "string"
        },
        {
         "name": "pop_2000",
         "rawType": "int64",
         "type": "integer"
        },
        {
         "name": "pop_2010",
         "rawType": "int64",
         "type": "integer"
        },
        {
         "name": "change",
         "rawType": "object",
         "type": "string"
        },
        {
         "name": "address",
         "rawType": "object",
         "type": "string"
        },
        {
         "name": "zip",
         "rawType": "object",
         "type": "string"
        }
       ],
       "ref": "26616507-4f7a-4b89-a1ff-7ff207013603",
       "rows": [
        [
         "0",
         "1",
         "52951",
         "56149",
         "6%",
         "2765 WEST SAINT MARY STREET",
         "60647"
        ],
        [
         "1",
         "2",
         "54361",
         "55805",
         "3%",
         "WM WASTE MANAGEMENT 1500",
         "60622"
        ],
        [
         "2",
         "3",
         "40385",
         "53039",
         "31%",
         "17 EAST 38TH STREET",
         "60653"
        ],
        [
         "3",
         "4",
         "51953",
         "54589",
         "5%",
         "31ST ST HARBOR BUILDING LAKEFRONT TRAIL",
         "60653"
        ],
        [
         "4",
         "5",
         "55302",
         "51455",
         "-7%",
         "JACKSON PARK LAGOON SOUTH CORNELL DRIVE",
         "60637"
        ]
       ],
       "shape": {
        "columns": 6,
        "rows": 5
       }
      },
      "text/html": [
       "<div>\n",
       "<style scoped>\n",
       "    .dataframe tbody tr th:only-of-type {\n",
       "        vertical-align: middle;\n",
       "    }\n",
       "\n",
       "    .dataframe tbody tr th {\n",
       "        vertical-align: top;\n",
       "    }\n",
       "\n",
       "    .dataframe thead th {\n",
       "        text-align: right;\n",
       "    }\n",
       "</style>\n",
       "<table border=\"1\" class=\"dataframe\">\n",
       "  <thead>\n",
       "    <tr style=\"text-align: right;\">\n",
       "      <th></th>\n",
       "      <th>ward</th>\n",
       "      <th>pop_2000</th>\n",
       "      <th>pop_2010</th>\n",
       "      <th>change</th>\n",
       "      <th>address</th>\n",
       "      <th>zip</th>\n",
       "    </tr>\n",
       "  </thead>\n",
       "  <tbody>\n",
       "    <tr>\n",
       "      <th>0</th>\n",
       "      <td>1</td>\n",
       "      <td>52951</td>\n",
       "      <td>56149</td>\n",
       "      <td>6%</td>\n",
       "      <td>2765 WEST SAINT MARY STREET</td>\n",
       "      <td>60647</td>\n",
       "    </tr>\n",
       "    <tr>\n",
       "      <th>1</th>\n",
       "      <td>2</td>\n",
       "      <td>54361</td>\n",
       "      <td>55805</td>\n",
       "      <td>3%</td>\n",
       "      <td>WM WASTE MANAGEMENT 1500</td>\n",
       "      <td>60622</td>\n",
       "    </tr>\n",
       "    <tr>\n",
       "      <th>2</th>\n",
       "      <td>3</td>\n",
       "      <td>40385</td>\n",
       "      <td>53039</td>\n",
       "      <td>31%</td>\n",
       "      <td>17 EAST 38TH STREET</td>\n",
       "      <td>60653</td>\n",
       "    </tr>\n",
       "    <tr>\n",
       "      <th>3</th>\n",
       "      <td>4</td>\n",
       "      <td>51953</td>\n",
       "      <td>54589</td>\n",
       "      <td>5%</td>\n",
       "      <td>31ST ST HARBOR BUILDING LAKEFRONT TRAIL</td>\n",
       "      <td>60653</td>\n",
       "    </tr>\n",
       "    <tr>\n",
       "      <th>4</th>\n",
       "      <td>5</td>\n",
       "      <td>55302</td>\n",
       "      <td>51455</td>\n",
       "      <td>-7%</td>\n",
       "      <td>JACKSON PARK LAGOON SOUTH CORNELL DRIVE</td>\n",
       "      <td>60637</td>\n",
       "    </tr>\n",
       "  </tbody>\n",
       "</table>\n",
       "</div>"
      ],
      "text/plain": [
       "  ward  pop_2000  pop_2010 change                                  address  \\\n",
       "0    1     52951     56149     6%              2765 WEST SAINT MARY STREET   \n",
       "1    2     54361     55805     3%                 WM WASTE MANAGEMENT 1500   \n",
       "2    3     40385     53039    31%                      17 EAST 38TH STREET   \n",
       "3    4     51953     54589     5%  31ST ST HARBOR BUILDING LAKEFRONT TRAIL   \n",
       "4    5     55302     51455    -7%  JACKSON PARK LAGOON SOUTH CORNELL DRIVE   \n",
       "\n",
       "     zip  \n",
       "0  60647  \n",
       "1  60622  \n",
       "2  60653  \n",
       "3  60653  \n",
       "4  60637  "
      ]
     },
     "execution_count": 58,
     "metadata": {},
     "output_type": "execute_result"
    }
   ],
   "source": [
    "census.head()"
   ]
  },
  {
   "cell_type": "code",
   "execution_count": 59,
   "id": "8a19cc4a",
   "metadata": {},
   "outputs": [
    {
     "data": {
      "application/vnd.microsoft.datawrangler.viewer.v0+json": {
       "columns": [
        {
         "name": "index",
         "rawType": "int64",
         "type": "integer"
        },
        {
         "name": "account",
         "rawType": "object",
         "type": "string"
        },
        {
         "name": "ward",
         "rawType": "object",
         "type": "string"
        },
        {
         "name": "aid",
         "rawType": "object",
         "type": "unknown"
        },
        {
         "name": "business",
         "rawType": "object",
         "type": "string"
        },
        {
         "name": "address",
         "rawType": "object",
         "type": "string"
        },
        {
         "name": "zip",
         "rawType": "object",
         "type": "string"
        }
       ],
       "ref": "537d2a59-5f56-4434-91b0-0e8074e470f5",
       "rows": [
        [
         "0",
         "307071",
         "3",
         "743",
         "REGGIE'S BAR & GRILL",
         "2105 S STATE ST",
         "60616"
        ],
        [
         "1",
         "10",
         "10",
         "829",
         "HONEYBEERS",
         "13200 S HOUSTON AVE",
         "60633"
        ],
        [
         "2",
         "10002",
         "14",
         "775",
         "CELINA DELI",
         "5089 S ARCHER AVE",
         "60632"
        ],
        [
         "3",
         "10005",
         "12",
         null,
         "KRAFT FOODS NORTH AMERICA",
         "2005 W 43RD ST",
         "60609"
        ],
        [
         "4",
         "10044",
         "44",
         "638",
         "NEYBOUR'S TAVERN & GRILLE",
         "3651 N SOUTHPORT AVE",
         "60613"
        ]
       ],
       "shape": {
        "columns": 6,
        "rows": 5
       }
      },
      "text/html": [
       "<div>\n",
       "<style scoped>\n",
       "    .dataframe tbody tr th:only-of-type {\n",
       "        vertical-align: middle;\n",
       "    }\n",
       "\n",
       "    .dataframe tbody tr th {\n",
       "        vertical-align: top;\n",
       "    }\n",
       "\n",
       "    .dataframe thead th {\n",
       "        text-align: right;\n",
       "    }\n",
       "</style>\n",
       "<table border=\"1\" class=\"dataframe\">\n",
       "  <thead>\n",
       "    <tr style=\"text-align: right;\">\n",
       "      <th></th>\n",
       "      <th>account</th>\n",
       "      <th>ward</th>\n",
       "      <th>aid</th>\n",
       "      <th>business</th>\n",
       "      <th>address</th>\n",
       "      <th>zip</th>\n",
       "    </tr>\n",
       "  </thead>\n",
       "  <tbody>\n",
       "    <tr>\n",
       "      <th>0</th>\n",
       "      <td>307071</td>\n",
       "      <td>3</td>\n",
       "      <td>743</td>\n",
       "      <td>REGGIE'S BAR &amp; GRILL</td>\n",
       "      <td>2105 S STATE ST</td>\n",
       "      <td>60616</td>\n",
       "    </tr>\n",
       "    <tr>\n",
       "      <th>1</th>\n",
       "      <td>10</td>\n",
       "      <td>10</td>\n",
       "      <td>829</td>\n",
       "      <td>HONEYBEERS</td>\n",
       "      <td>13200 S HOUSTON AVE</td>\n",
       "      <td>60633</td>\n",
       "    </tr>\n",
       "    <tr>\n",
       "      <th>2</th>\n",
       "      <td>10002</td>\n",
       "      <td>14</td>\n",
       "      <td>775</td>\n",
       "      <td>CELINA DELI</td>\n",
       "      <td>5089 S ARCHER AVE</td>\n",
       "      <td>60632</td>\n",
       "    </tr>\n",
       "    <tr>\n",
       "      <th>3</th>\n",
       "      <td>10005</td>\n",
       "      <td>12</td>\n",
       "      <td>NaN</td>\n",
       "      <td>KRAFT FOODS NORTH AMERICA</td>\n",
       "      <td>2005 W 43RD ST</td>\n",
       "      <td>60609</td>\n",
       "    </tr>\n",
       "    <tr>\n",
       "      <th>4</th>\n",
       "      <td>10044</td>\n",
       "      <td>44</td>\n",
       "      <td>638</td>\n",
       "      <td>NEYBOUR'S TAVERN &amp; GRILLE</td>\n",
       "      <td>3651 N SOUTHPORT AVE</td>\n",
       "      <td>60613</td>\n",
       "    </tr>\n",
       "  </tbody>\n",
       "</table>\n",
       "</div>"
      ],
      "text/plain": [
       "  account ward  aid                   business               address    zip\n",
       "0  307071    3  743       REGGIE'S BAR & GRILL       2105 S STATE ST  60616\n",
       "1      10   10  829                 HONEYBEERS   13200 S HOUSTON AVE  60633\n",
       "2   10002   14  775                CELINA DELI     5089 S ARCHER AVE  60632\n",
       "3   10005   12  NaN  KRAFT FOODS NORTH AMERICA        2005 W 43RD ST  60609\n",
       "4   10044   44  638  NEYBOUR'S TAVERN & GRILLE  3651 N SOUTHPORT AVE  60613"
      ]
     },
     "execution_count": 59,
     "metadata": {},
     "output_type": "execute_result"
    }
   ],
   "source": [
    "licenses.head()"
   ]
  },
  {
   "cell_type": "code",
   "execution_count": 63,
   "id": "1a68e4ab",
   "metadata": {},
   "outputs": [
    {
     "data": {
      "application/vnd.microsoft.datawrangler.viewer.v0+json": {
       "columns": [
        {
         "name": "index",
         "rawType": "int64",
         "type": "integer"
        },
        {
         "name": "ward",
         "rawType": "object",
         "type": "string"
        },
        {
         "name": "residential",
         "rawType": "int64",
         "type": "integer"
        },
        {
         "name": "commercial",
         "rawType": "int64",
         "type": "integer"
        },
        {
         "name": "industrial",
         "rawType": "int64",
         "type": "integer"
        },
        {
         "name": "vacant",
         "rawType": "int64",
         "type": "integer"
        },
        {
         "name": "other",
         "rawType": "int64",
         "type": "integer"
        },
        {
         "name": "pop_2000",
         "rawType": "int64",
         "type": "integer"
        },
        {
         "name": "pop_2010",
         "rawType": "int64",
         "type": "integer"
        },
        {
         "name": "change",
         "rawType": "object",
         "type": "string"
        },
        {
         "name": "address_cen",
         "rawType": "object",
         "type": "string"
        },
        {
         "name": "zip_cen",
         "rawType": "object",
         "type": "string"
        },
        {
         "name": "account",
         "rawType": "object",
         "type": "string"
        },
        {
         "name": "aid",
         "rawType": "object",
         "type": "unknown"
        },
        {
         "name": "business",
         "rawType": "object",
         "type": "string"
        },
        {
         "name": "address_lic",
         "rawType": "object",
         "type": "string"
        },
        {
         "name": "zip_lic",
         "rawType": "object",
         "type": "string"
        }
       ],
       "ref": "86ce49cb-8ee5-4252-a0c7-61412d88d7a2",
       "rows": [
        [
         "0",
         "1",
         "41",
         "9",
         "2",
         "2",
         "46",
         "52951",
         "56149",
         "6%",
         "2765 WEST SAINT MARY STREET",
         "60647",
         "12024",
         null,
         "DIGILOG ELECTRONICS",
         "1038 N ASHLAND AVE",
         "60622"
        ],
        [
         "1",
         "1",
         "41",
         "9",
         "2",
         "2",
         "46",
         "52951",
         "56149",
         "6%",
         "2765 WEST SAINT MARY STREET",
         "60647",
         "14446",
         "743",
         "EMPTY BOTTLE INC",
         "1035 N WESTERN AVE 1ST",
         "60622"
        ],
        [
         "2",
         "1",
         "41",
         "9",
         "2",
         "2",
         "46",
         "52951",
         "56149",
         "6%",
         "2765 WEST SAINT MARY STREET",
         "60647",
         "14624",
         "775",
         "LITTLE MEL'S HOT DOG",
         "2205 N CALIFORNIA AVE",
         "60647"
        ],
        [
         "3",
         "1",
         "41",
         "9",
         "2",
         "2",
         "46",
         "52951",
         "56149",
         "6%",
         "2765 WEST SAINT MARY STREET",
         "60647",
         "14987",
         null,
         "MR. BROWN'S LOUNGE",
         "2301 W CHICAGO AVE 1ST",
         "60622"
        ],
        [
         "4",
         "1",
         "41",
         "9",
         "2",
         "2",
         "46",
         "52951",
         "56149",
         "6%",
         "2765 WEST SAINT MARY STREET",
         "60647",
         "15642",
         "814",
         "Beat Kitchen",
         "2000-2100 W DIVISION ST",
         "60622"
        ]
       ],
       "shape": {
        "columns": 16,
        "rows": 5
       }
      },
      "text/html": [
       "<div>\n",
       "<style scoped>\n",
       "    .dataframe tbody tr th:only-of-type {\n",
       "        vertical-align: middle;\n",
       "    }\n",
       "\n",
       "    .dataframe tbody tr th {\n",
       "        vertical-align: top;\n",
       "    }\n",
       "\n",
       "    .dataframe thead th {\n",
       "        text-align: right;\n",
       "    }\n",
       "</style>\n",
       "<table border=\"1\" class=\"dataframe\">\n",
       "  <thead>\n",
       "    <tr style=\"text-align: right;\">\n",
       "      <th></th>\n",
       "      <th>ward</th>\n",
       "      <th>residential</th>\n",
       "      <th>commercial</th>\n",
       "      <th>industrial</th>\n",
       "      <th>vacant</th>\n",
       "      <th>other</th>\n",
       "      <th>pop_2000</th>\n",
       "      <th>pop_2010</th>\n",
       "      <th>change</th>\n",
       "      <th>address_cen</th>\n",
       "      <th>zip_cen</th>\n",
       "      <th>account</th>\n",
       "      <th>aid</th>\n",
       "      <th>business</th>\n",
       "      <th>address_lic</th>\n",
       "      <th>zip_lic</th>\n",
       "    </tr>\n",
       "  </thead>\n",
       "  <tbody>\n",
       "    <tr>\n",
       "      <th>0</th>\n",
       "      <td>1</td>\n",
       "      <td>41</td>\n",
       "      <td>9</td>\n",
       "      <td>2</td>\n",
       "      <td>2</td>\n",
       "      <td>46</td>\n",
       "      <td>52951</td>\n",
       "      <td>56149</td>\n",
       "      <td>6%</td>\n",
       "      <td>2765 WEST SAINT MARY STREET</td>\n",
       "      <td>60647</td>\n",
       "      <td>12024</td>\n",
       "      <td>NaN</td>\n",
       "      <td>DIGILOG ELECTRONICS</td>\n",
       "      <td>1038 N ASHLAND AVE</td>\n",
       "      <td>60622</td>\n",
       "    </tr>\n",
       "    <tr>\n",
       "      <th>1</th>\n",
       "      <td>1</td>\n",
       "      <td>41</td>\n",
       "      <td>9</td>\n",
       "      <td>2</td>\n",
       "      <td>2</td>\n",
       "      <td>46</td>\n",
       "      <td>52951</td>\n",
       "      <td>56149</td>\n",
       "      <td>6%</td>\n",
       "      <td>2765 WEST SAINT MARY STREET</td>\n",
       "      <td>60647</td>\n",
       "      <td>14446</td>\n",
       "      <td>743</td>\n",
       "      <td>EMPTY BOTTLE INC</td>\n",
       "      <td>1035 N WESTERN AVE 1ST</td>\n",
       "      <td>60622</td>\n",
       "    </tr>\n",
       "    <tr>\n",
       "      <th>2</th>\n",
       "      <td>1</td>\n",
       "      <td>41</td>\n",
       "      <td>9</td>\n",
       "      <td>2</td>\n",
       "      <td>2</td>\n",
       "      <td>46</td>\n",
       "      <td>52951</td>\n",
       "      <td>56149</td>\n",
       "      <td>6%</td>\n",
       "      <td>2765 WEST SAINT MARY STREET</td>\n",
       "      <td>60647</td>\n",
       "      <td>14624</td>\n",
       "      <td>775</td>\n",
       "      <td>LITTLE MEL'S HOT DOG</td>\n",
       "      <td>2205 N CALIFORNIA AVE</td>\n",
       "      <td>60647</td>\n",
       "    </tr>\n",
       "    <tr>\n",
       "      <th>3</th>\n",
       "      <td>1</td>\n",
       "      <td>41</td>\n",
       "      <td>9</td>\n",
       "      <td>2</td>\n",
       "      <td>2</td>\n",
       "      <td>46</td>\n",
       "      <td>52951</td>\n",
       "      <td>56149</td>\n",
       "      <td>6%</td>\n",
       "      <td>2765 WEST SAINT MARY STREET</td>\n",
       "      <td>60647</td>\n",
       "      <td>14987</td>\n",
       "      <td>NaN</td>\n",
       "      <td>MR. BROWN'S LOUNGE</td>\n",
       "      <td>2301 W CHICAGO AVE 1ST</td>\n",
       "      <td>60622</td>\n",
       "    </tr>\n",
       "    <tr>\n",
       "      <th>4</th>\n",
       "      <td>1</td>\n",
       "      <td>41</td>\n",
       "      <td>9</td>\n",
       "      <td>2</td>\n",
       "      <td>2</td>\n",
       "      <td>46</td>\n",
       "      <td>52951</td>\n",
       "      <td>56149</td>\n",
       "      <td>6%</td>\n",
       "      <td>2765 WEST SAINT MARY STREET</td>\n",
       "      <td>60647</td>\n",
       "      <td>15642</td>\n",
       "      <td>814</td>\n",
       "      <td>Beat Kitchen</td>\n",
       "      <td>2000-2100 W DIVISION ST</td>\n",
       "      <td>60622</td>\n",
       "    </tr>\n",
       "  </tbody>\n",
       "</table>\n",
       "</div>"
      ],
      "text/plain": [
       "  ward  residential  commercial  industrial  vacant  other  pop_2000  \\\n",
       "0    1           41           9           2       2     46     52951   \n",
       "1    1           41           9           2       2     46     52951   \n",
       "2    1           41           9           2       2     46     52951   \n",
       "3    1           41           9           2       2     46     52951   \n",
       "4    1           41           9           2       2     46     52951   \n",
       "\n",
       "   pop_2010 change                  address_cen zip_cen account  aid  \\\n",
       "0     56149     6%  2765 WEST SAINT MARY STREET   60647   12024  NaN   \n",
       "1     56149     6%  2765 WEST SAINT MARY STREET   60647   14446  743   \n",
       "2     56149     6%  2765 WEST SAINT MARY STREET   60647   14624  775   \n",
       "3     56149     6%  2765 WEST SAINT MARY STREET   60647   14987  NaN   \n",
       "4     56149     6%  2765 WEST SAINT MARY STREET   60647   15642  814   \n",
       "\n",
       "               business              address_lic zip_lic  \n",
       "0   DIGILOG ELECTRONICS       1038 N ASHLAND AVE   60622  \n",
       "1      EMPTY BOTTLE INC   1035 N WESTERN AVE 1ST   60622  \n",
       "2  LITTLE MEL'S HOT DOG    2205 N CALIFORNIA AVE   60647  \n",
       "3    MR. BROWN'S LOUNGE   2301 W CHICAGO AVE 1ST   60622  \n",
       "4          Beat Kitchen  2000-2100 W DIVISION ST   60622  "
      ]
     },
     "execution_count": 63,
     "metadata": {},
     "output_type": "execute_result"
    }
   ],
   "source": [
    "# Merge land_use and census on the ward column. Merge the result of this with licenses on the ward column, using the suffix _cen for the left table and _lic for the right table. Save this to the variable land_cen_lic.\n",
    "land_cen_lic = land_use.merge(census, on=\"ward\").merge(licenses, on=\"ward\", suffixes=(\"_cen\", \"_lic\"))\n",
    "land_cen_lic.head()"
   ]
  },
  {
   "cell_type": "code",
   "execution_count": null,
   "id": "cd6ebf74",
   "metadata": {},
   "outputs": [
    {
     "data": {
      "application/vnd.microsoft.datawrangler.viewer.v0+json": {
       "columns": [
        {
         "name": "index",
         "rawType": "int64",
         "type": "integer"
        },
        {
         "name": "ward",
         "rawType": "object",
         "type": "string"
        },
        {
         "name": "pop_2010",
         "rawType": "int64",
         "type": "integer"
        },
        {
         "name": "vacant",
         "rawType": "int64",
         "type": "integer"
        },
        {
         "name": "account",
         "rawType": "int64",
         "type": "integer"
        }
       ],
       "ref": "f578d28f-2cd3-4185-b278-d44e9cdcbbeb",
       "rows": [
        [
         "0",
         "1",
         "56149",
         "2",
         "253"
        ],
        [
         "1",
         "10",
         "51535",
         "14",
         "130"
        ],
        [
         "2",
         "11",
         "51497",
         "5",
         "201"
        ],
        [
         "3",
         "12",
         "52235",
         "4",
         "255"
        ],
        [
         "4",
         "13",
         "53722",
         "1",
         "101"
        ]
       ],
       "shape": {
        "columns": 4,
        "rows": 5
       }
      },
      "text/html": [
       "<div>\n",
       "<style scoped>\n",
       "    .dataframe tbody tr th:only-of-type {\n",
       "        vertical-align: middle;\n",
       "    }\n",
       "\n",
       "    .dataframe tbody tr th {\n",
       "        vertical-align: top;\n",
       "    }\n",
       "\n",
       "    .dataframe thead th {\n",
       "        text-align: right;\n",
       "    }\n",
       "</style>\n",
       "<table border=\"1\" class=\"dataframe\">\n",
       "  <thead>\n",
       "    <tr style=\"text-align: right;\">\n",
       "      <th></th>\n",
       "      <th>ward</th>\n",
       "      <th>pop_2010</th>\n",
       "      <th>vacant</th>\n",
       "      <th>account</th>\n",
       "    </tr>\n",
       "  </thead>\n",
       "  <tbody>\n",
       "    <tr>\n",
       "      <th>0</th>\n",
       "      <td>1</td>\n",
       "      <td>56149</td>\n",
       "      <td>2</td>\n",
       "      <td>253</td>\n",
       "    </tr>\n",
       "    <tr>\n",
       "      <th>1</th>\n",
       "      <td>10</td>\n",
       "      <td>51535</td>\n",
       "      <td>14</td>\n",
       "      <td>130</td>\n",
       "    </tr>\n",
       "    <tr>\n",
       "      <th>2</th>\n",
       "      <td>11</td>\n",
       "      <td>51497</td>\n",
       "      <td>5</td>\n",
       "      <td>201</td>\n",
       "    </tr>\n",
       "    <tr>\n",
       "      <th>3</th>\n",
       "      <td>12</td>\n",
       "      <td>52235</td>\n",
       "      <td>4</td>\n",
       "      <td>255</td>\n",
       "    </tr>\n",
       "    <tr>\n",
       "      <th>4</th>\n",
       "      <td>13</td>\n",
       "      <td>53722</td>\n",
       "      <td>1</td>\n",
       "      <td>101</td>\n",
       "    </tr>\n",
       "  </tbody>\n",
       "</table>\n",
       "</div>"
      ],
      "text/plain": [
       "  ward  pop_2010  vacant  account\n",
       "0    1     56149       2      253\n",
       "1   10     51535      14      130\n",
       "2   11     51497       5      201\n",
       "3   12     52235       4      255\n",
       "4   13     53722       1      101"
      ]
     },
     "execution_count": 66,
     "metadata": {},
     "output_type": "execute_result"
    }
   ],
   "source": [
    "# Group land_cen_lic by ward, pop_2010 (the population in 2010), and vacant, then count the number of accounts. Save the results to pop_vac_lic.\n",
    "# The as_index=False parameter keeps the grouping columns as regular columns instead of making them the index\n",
    "# The agg() function applies the count aggregation to the 'account' column\n",
    "pop_vac_lic = land_cen_lic.groupby([\"ward\", \"pop_2010\", \"vacant\"], as_index=False).agg({\"account\":\"count\"})\n",
    "pop_vac_lic.head()"
   ]
  },
  {
   "cell_type": "code",
   "execution_count": 69,
   "id": "f7f127d4",
   "metadata": {},
   "outputs": [
    {
     "data": {
      "application/vnd.microsoft.datawrangler.viewer.v0+json": {
       "columns": [
        {
         "name": "index",
         "rawType": "int64",
         "type": "integer"
        },
        {
         "name": "ward",
         "rawType": "object",
         "type": "string"
        },
        {
         "name": "pop_2010",
         "rawType": "int64",
         "type": "integer"
        },
        {
         "name": "vacant",
         "rawType": "int64",
         "type": "integer"
        },
        {
         "name": "account",
         "rawType": "int64",
         "type": "integer"
        }
       ],
       "ref": "3016bb2a-1783-4a9a-a569-655ddb411ccf",
       "rows": [
        [
         "47",
         "7",
         "51581",
         "19",
         "80"
        ],
        [
         "12",
         "20",
         "52372",
         "15",
         "123"
        ],
        [
         "1",
         "10",
         "51535",
         "14",
         "130"
        ],
        [
         "16",
         "24",
         "54909",
         "13",
         "98"
        ],
        [
         "7",
         "16",
         "51954",
         "13",
         "156"
        ]
       ],
       "shape": {
        "columns": 4,
        "rows": 5
       }
      },
      "text/html": [
       "<div>\n",
       "<style scoped>\n",
       "    .dataframe tbody tr th:only-of-type {\n",
       "        vertical-align: middle;\n",
       "    }\n",
       "\n",
       "    .dataframe tbody tr th {\n",
       "        vertical-align: top;\n",
       "    }\n",
       "\n",
       "    .dataframe thead th {\n",
       "        text-align: right;\n",
       "    }\n",
       "</style>\n",
       "<table border=\"1\" class=\"dataframe\">\n",
       "  <thead>\n",
       "    <tr style=\"text-align: right;\">\n",
       "      <th></th>\n",
       "      <th>ward</th>\n",
       "      <th>pop_2010</th>\n",
       "      <th>vacant</th>\n",
       "      <th>account</th>\n",
       "    </tr>\n",
       "  </thead>\n",
       "  <tbody>\n",
       "    <tr>\n",
       "      <th>47</th>\n",
       "      <td>7</td>\n",
       "      <td>51581</td>\n",
       "      <td>19</td>\n",
       "      <td>80</td>\n",
       "    </tr>\n",
       "    <tr>\n",
       "      <th>12</th>\n",
       "      <td>20</td>\n",
       "      <td>52372</td>\n",
       "      <td>15</td>\n",
       "      <td>123</td>\n",
       "    </tr>\n",
       "    <tr>\n",
       "      <th>1</th>\n",
       "      <td>10</td>\n",
       "      <td>51535</td>\n",
       "      <td>14</td>\n",
       "      <td>130</td>\n",
       "    </tr>\n",
       "    <tr>\n",
       "      <th>16</th>\n",
       "      <td>24</td>\n",
       "      <td>54909</td>\n",
       "      <td>13</td>\n",
       "      <td>98</td>\n",
       "    </tr>\n",
       "    <tr>\n",
       "      <th>7</th>\n",
       "      <td>16</td>\n",
       "      <td>51954</td>\n",
       "      <td>13</td>\n",
       "      <td>156</td>\n",
       "    </tr>\n",
       "  </tbody>\n",
       "</table>\n",
       "</div>"
      ],
      "text/plain": [
       "   ward  pop_2010  vacant  account\n",
       "47    7     51581      19       80\n",
       "12   20     52372      15      123\n",
       "1    10     51535      14      130\n",
       "16   24     54909      13       98\n",
       "7    16     51954      13      156"
      ]
     },
     "metadata": {},
     "output_type": "display_data"
    }
   ],
   "source": [
    "# Sort pop_vac_lic by vacant, account, an pop_2010 in descending, ascending, and ascending order respectively. Save it as sorted_pop_vac_lic.\n",
    "sorted_pop_vac_lic = pop_vac_lic.sort_values(by=[\"vacant\", \"account\", \"pop_2010\"], ascending=[False, True, True])\n",
    "# Print the top few rows of sorted_pop_vac_lic\n",
    "display(sorted_pop_vac_lic.head())"
   ]
  },
  {
   "cell_type": "code",
   "execution_count": null,
   "id": "a683cfc8",
   "metadata": {},
   "outputs": [],
   "source": []
  }
 ],
 "metadata": {
  "kernelspec": {
   "display_name": "datacamp",
   "language": "python",
   "name": "python3"
  },
  "language_info": {
   "codemirror_mode": {
    "name": "ipython",
    "version": 3
   },
   "file_extension": ".py",
   "mimetype": "text/x-python",
   "name": "python",
   "nbconvert_exporter": "python",
   "pygments_lexer": "ipython3",
   "version": "3.12.8"
  }
 },
 "nbformat": 4,
 "nbformat_minor": 5
}
