{
 "cells": [
  {
   "cell_type": "markdown",
   "id": "eb63343c",
   "metadata": {},
   "source": [
    "# Project Instructions\n",
    "The Head Data Scientist at Training Data Ltd. has asked you to create a DataFrame called `ds_jobs_transformed` that stores the data in `customer_train.csv` much more efficiently. Specifically, they have set the following requirements:\n",
    "- Columns containing categories with only two factors must be stored as Booleans (bool).\n",
    "- Columns containing integers only must be stored as 32-bit integers (int32).\n",
    "- Columns containing floats must be stored as 16-bit floats (float16).\n",
    "- Columns containing nominal categorical data must be stored as the category data type.\n",
    "- Columns containing ordinal categorical data must be stored as ordered categories, and not mapped to numerical values, with an order that reflects the natural order of the column.\n",
    "- The DataFrame should be filtered to only contain students with 10 or more years of experience at companies with at least 1000 employees, as their recruiter base is suited to more experienced professionals at enterprise companies.<br>\n",
    "If you call `.info()` or `.memory_usage()` methods on `ds_jobs` and `ds_jobs_transformed` after you've preprocessed it, you should notice a substantial decrease in memory usage."
   ]
  },
  {
   "cell_type": "markdown",
   "id": "a09e6d54-bf3f-4632-b299-bd49d5c80d5f",
   "metadata": {},
   "source": [
    "![Two data scientists working on a dashboard.](data/hr-image-small.png)\n",
    "\n",
    "A common problem when creating models to generate business value from data is that the datasets can be so large that it can take days for the model to generate predictions. Ensuring that your dataset is stored as efficiently as possible is crucial for allowing these models to run on a more reasonable timescale without having to reduce the size of the dataset.\n",
    "\n",
    "You've been hired by a major online data science training provider called *Training Data Ltd.* to clean up one of their largest customer datasets. This dataset will eventually be used to predict whether their students are looking for a new job or not, information that they will then use to direct them to prospective recruiters.\n",
    "\n",
    "You've been given access to `customer_train.csv`, which is a subset of their entire customer dataset, so you can create a proof-of-concept of a much more efficient storage solution. The dataset contains anonymized student information, and whether they were looking for a new job or not during training:\n",
    "\n",
    "| Column                   | Description                                                                      |\n",
    "|------------------------- |--------------------------------------------------------------------------------- |\n",
    "| `student_id`             | A unique ID for each student.                                                    |\n",
    "| `city`                   | A code for the city the student lives in.                                        |\n",
    "| `city_development_index` | A scaled development index for the city.                                         |\n",
    "| `gender`                 | The student's gender.                                                            |\n",
    "| `relevant_experience`    | An indicator of the student's work relevant experience.                          |\n",
    "| `enrolled_university`    | The type of university course enrolled in (if any).                              |\n",
    "| `education_level`        | The student's education level.                                                   |\n",
    "| `major_discipline`       | The educational discipline of the student.                                       |\n",
    "| `experience`             | The student's total work experience (in years).                                  |\n",
    "| `company_size`           | The number of employees at the student's current employer.                       |\n",
    "| `company_type`           | The type of company employing the student.                                       |\n",
    "| `last_new_job`           | The number of years between the student's current and previous jobs.             |\n",
    "| `training_hours`         | The number of hours of training completed.                                       |\n",
    "| `job_change`             | An indicator of whether the student is looking for a new job (`1`) or not (`0`). |"
   ]
  },
  {
   "cell_type": "code",
   "execution_count": 78,
   "id": "eda9c1b2-4e9a-41ac-8da6-d4c98775f986",
   "metadata": {
    "executionCancelledAt": null,
    "executionTime": null,
    "lastExecutedAt": null,
    "lastExecutedByKernel": null,
    "lastScheduledRunId": null,
    "lastSuccessfullyExecutedCode": null,
    "outputsMetadata": {
     "0": {
      "height": 550,
      "tableState": {},
      "type": "dataFrame"
     }
    }
   },
   "outputs": [
    {
     "data": {
      "application/vnd.microsoft.datawrangler.viewer.v0+json": {
       "columns": [
        {
         "name": "index",
         "rawType": "int64",
         "type": "integer"
        },
        {
         "name": "student_id",
         "rawType": "int64",
         "type": "integer"
        },
        {
         "name": "city",
         "rawType": "object",
         "type": "string"
        },
        {
         "name": "city_development_index",
         "rawType": "float64",
         "type": "float"
        },
        {
         "name": "gender",
         "rawType": "object",
         "type": "unknown"
        },
        {
         "name": "relevant_experience",
         "rawType": "object",
         "type": "string"
        },
        {
         "name": "enrolled_university",
         "rawType": "object",
         "type": "unknown"
        },
        {
         "name": "education_level",
         "rawType": "object",
         "type": "string"
        },
        {
         "name": "major_discipline",
         "rawType": "object",
         "type": "string"
        },
        {
         "name": "experience",
         "rawType": "object",
         "type": "string"
        },
        {
         "name": "company_size",
         "rawType": "object",
         "type": "unknown"
        },
        {
         "name": "company_type",
         "rawType": "object",
         "type": "unknown"
        },
        {
         "name": "last_new_job",
         "rawType": "object",
         "type": "string"
        },
        {
         "name": "training_hours",
         "rawType": "int64",
         "type": "integer"
        },
        {
         "name": "job_change",
         "rawType": "float64",
         "type": "float"
        }
       ],
       "ref": "46ab2d38-8cf4-46a7-bc02-ad05b5ea77ef",
       "rows": [
        [
         "0",
         "8949",
         "city_103",
         "0.92",
         "Male",
         "Has relevant experience",
         "no_enrollment",
         "Graduate",
         "STEM",
         ">20",
         null,
         null,
         "1",
         "36",
         "1.0"
        ],
        [
         "1",
         "29725",
         "city_40",
         "0.7759999999999999",
         "Male",
         "No relevant experience",
         "no_enrollment",
         "Graduate",
         "STEM",
         "15",
         "50-99",
         "Pvt Ltd",
         ">4",
         "47",
         "0.0"
        ],
        [
         "2",
         "11561",
         "city_21",
         "0.624",
         null,
         "No relevant experience",
         "Full time course",
         "Graduate",
         "STEM",
         "5",
         null,
         null,
         "never",
         "83",
         "0.0"
        ],
        [
         "3",
         "33241",
         "city_115",
         "0.789",
         null,
         "No relevant experience",
         null,
         "Graduate",
         "Business Degree",
         "<1",
         null,
         "Pvt Ltd",
         "never",
         "52",
         "1.0"
        ],
        [
         "4",
         "666",
         "city_162",
         "0.767",
         "Male",
         "Has relevant experience",
         "no_enrollment",
         "Masters",
         "STEM",
         ">20",
         "50-99",
         "Funded Startup",
         "4",
         "8",
         "0.0"
        ]
       ],
       "shape": {
        "columns": 14,
        "rows": 5
       }
      },
      "text/html": [
       "<div>\n",
       "<style scoped>\n",
       "    .dataframe tbody tr th:only-of-type {\n",
       "        vertical-align: middle;\n",
       "    }\n",
       "\n",
       "    .dataframe tbody tr th {\n",
       "        vertical-align: top;\n",
       "    }\n",
       "\n",
       "    .dataframe thead th {\n",
       "        text-align: right;\n",
       "    }\n",
       "</style>\n",
       "<table border=\"1\" class=\"dataframe\">\n",
       "  <thead>\n",
       "    <tr style=\"text-align: right;\">\n",
       "      <th></th>\n",
       "      <th>student_id</th>\n",
       "      <th>city</th>\n",
       "      <th>city_development_index</th>\n",
       "      <th>gender</th>\n",
       "      <th>relevant_experience</th>\n",
       "      <th>enrolled_university</th>\n",
       "      <th>education_level</th>\n",
       "      <th>major_discipline</th>\n",
       "      <th>experience</th>\n",
       "      <th>company_size</th>\n",
       "      <th>company_type</th>\n",
       "      <th>last_new_job</th>\n",
       "      <th>training_hours</th>\n",
       "      <th>job_change</th>\n",
       "    </tr>\n",
       "  </thead>\n",
       "  <tbody>\n",
       "    <tr>\n",
       "      <th>0</th>\n",
       "      <td>8949</td>\n",
       "      <td>city_103</td>\n",
       "      <td>0.920</td>\n",
       "      <td>Male</td>\n",
       "      <td>Has relevant experience</td>\n",
       "      <td>no_enrollment</td>\n",
       "      <td>Graduate</td>\n",
       "      <td>STEM</td>\n",
       "      <td>&gt;20</td>\n",
       "      <td>NaN</td>\n",
       "      <td>NaN</td>\n",
       "      <td>1</td>\n",
       "      <td>36</td>\n",
       "      <td>1.0</td>\n",
       "    </tr>\n",
       "    <tr>\n",
       "      <th>1</th>\n",
       "      <td>29725</td>\n",
       "      <td>city_40</td>\n",
       "      <td>0.776</td>\n",
       "      <td>Male</td>\n",
       "      <td>No relevant experience</td>\n",
       "      <td>no_enrollment</td>\n",
       "      <td>Graduate</td>\n",
       "      <td>STEM</td>\n",
       "      <td>15</td>\n",
       "      <td>50-99</td>\n",
       "      <td>Pvt Ltd</td>\n",
       "      <td>&gt;4</td>\n",
       "      <td>47</td>\n",
       "      <td>0.0</td>\n",
       "    </tr>\n",
       "    <tr>\n",
       "      <th>2</th>\n",
       "      <td>11561</td>\n",
       "      <td>city_21</td>\n",
       "      <td>0.624</td>\n",
       "      <td>NaN</td>\n",
       "      <td>No relevant experience</td>\n",
       "      <td>Full time course</td>\n",
       "      <td>Graduate</td>\n",
       "      <td>STEM</td>\n",
       "      <td>5</td>\n",
       "      <td>NaN</td>\n",
       "      <td>NaN</td>\n",
       "      <td>never</td>\n",
       "      <td>83</td>\n",
       "      <td>0.0</td>\n",
       "    </tr>\n",
       "    <tr>\n",
       "      <th>3</th>\n",
       "      <td>33241</td>\n",
       "      <td>city_115</td>\n",
       "      <td>0.789</td>\n",
       "      <td>NaN</td>\n",
       "      <td>No relevant experience</td>\n",
       "      <td>NaN</td>\n",
       "      <td>Graduate</td>\n",
       "      <td>Business Degree</td>\n",
       "      <td>&lt;1</td>\n",
       "      <td>NaN</td>\n",
       "      <td>Pvt Ltd</td>\n",
       "      <td>never</td>\n",
       "      <td>52</td>\n",
       "      <td>1.0</td>\n",
       "    </tr>\n",
       "    <tr>\n",
       "      <th>4</th>\n",
       "      <td>666</td>\n",
       "      <td>city_162</td>\n",
       "      <td>0.767</td>\n",
       "      <td>Male</td>\n",
       "      <td>Has relevant experience</td>\n",
       "      <td>no_enrollment</td>\n",
       "      <td>Masters</td>\n",
       "      <td>STEM</td>\n",
       "      <td>&gt;20</td>\n",
       "      <td>50-99</td>\n",
       "      <td>Funded Startup</td>\n",
       "      <td>4</td>\n",
       "      <td>8</td>\n",
       "      <td>0.0</td>\n",
       "    </tr>\n",
       "  </tbody>\n",
       "</table>\n",
       "</div>"
      ],
      "text/plain": [
       "   student_id      city  city_development_index gender  \\\n",
       "0        8949  city_103                   0.920   Male   \n",
       "1       29725   city_40                   0.776   Male   \n",
       "2       11561   city_21                   0.624    NaN   \n",
       "3       33241  city_115                   0.789    NaN   \n",
       "4         666  city_162                   0.767   Male   \n",
       "\n",
       "       relevant_experience enrolled_university education_level  \\\n",
       "0  Has relevant experience       no_enrollment        Graduate   \n",
       "1   No relevant experience       no_enrollment        Graduate   \n",
       "2   No relevant experience    Full time course        Graduate   \n",
       "3   No relevant experience                 NaN        Graduate   \n",
       "4  Has relevant experience       no_enrollment         Masters   \n",
       "\n",
       "  major_discipline experience company_size    company_type last_new_job  \\\n",
       "0             STEM        >20          NaN             NaN            1   \n",
       "1             STEM         15        50-99         Pvt Ltd           >4   \n",
       "2             STEM          5          NaN             NaN        never   \n",
       "3  Business Degree         <1          NaN         Pvt Ltd        never   \n",
       "4             STEM        >20        50-99  Funded Startup            4   \n",
       "\n",
       "   training_hours  job_change  \n",
       "0              36         1.0  \n",
       "1              47         0.0  \n",
       "2              83         0.0  \n",
       "3              52         1.0  \n",
       "4               8         0.0  "
      ]
     },
     "execution_count": 78,
     "metadata": {},
     "output_type": "execute_result"
    }
   ],
   "source": [
    "# Import necessary libraries\n",
    "import numpy as np\n",
    "import matplotlib.pyplot as plt\n",
    "import pandas as pd\n",
    "import seaborn as sns\n",
    "\n",
    "# Load the dataset\n",
    "ds_jobs = pd.read_csv(\"data/customer_train.csv\")\n",
    "\n",
    "# View the dataset\n",
    "ds_jobs.head()"
   ]
  },
  {
   "cell_type": "code",
   "execution_count": 79,
   "id": "13757e62-aca2-48f4-b569-a838af11bdd5",
   "metadata": {},
   "outputs": [],
   "source": [
    "# Create a copy of ds_jobs for transforming\n",
    "ds_jobs_transformed = ds_jobs.copy()"
   ]
  },
  {
   "cell_type": "code",
   "execution_count": 80,
   "id": "c16c3a09",
   "metadata": {},
   "outputs": [
    {
     "name": "stdout",
     "output_type": "stream",
     "text": [
      "<class 'pandas.core.frame.DataFrame'>\n",
      "RangeIndex: 19158 entries, 0 to 19157\n",
      "Data columns (total 14 columns):\n",
      " #   Column                  Non-Null Count  Dtype  \n",
      "---  ------                  --------------  -----  \n",
      " 0   student_id              19158 non-null  int64  \n",
      " 1   city                    19158 non-null  object \n",
      " 2   city_development_index  19158 non-null  float64\n",
      " 3   gender                  14650 non-null  object \n",
      " 4   relevant_experience     19158 non-null  object \n",
      " 5   enrolled_university     18772 non-null  object \n",
      " 6   education_level         18698 non-null  object \n",
      " 7   major_discipline        16345 non-null  object \n",
      " 8   experience              19093 non-null  object \n",
      " 9   company_size            13220 non-null  object \n",
      " 10  company_type            13018 non-null  object \n",
      " 11  last_new_job            18735 non-null  object \n",
      " 12  training_hours          19158 non-null  int64  \n",
      " 13  job_change              19158 non-null  float64\n",
      "dtypes: float64(2), int64(2), object(10)\n",
      "memory usage: 2.0+ MB\n"
     ]
    }
   ],
   "source": [
    "ds_jobs_transformed.info()"
   ]
  },
  {
   "cell_type": "code",
   "execution_count": 81,
   "id": "1e807994",
   "metadata": {},
   "outputs": [],
   "source": [
    "# Set a professional plot style for a cleaner look.\n",
    "sns.set_style(\"darkgrid\")"
   ]
  },
  {
   "cell_type": "markdown",
   "id": "914cc47a",
   "metadata": {},
   "source": [
    "The DataFrame should be filtered to only contain students with 10 or more years of experience at companies with at least 1000 employees, as their recruiter base is suited to more experienced professionals at enterprise companies."
   ]
  },
  {
   "cell_type": "code",
   "execution_count": 82,
   "id": "17e7ca69",
   "metadata": {},
   "outputs": [],
   "source": [
    "# Convert experience to numeric values for filtering\n",
    "# First, handle the special cases '<1' and '>20'\n",
    "ds_jobs_transformed.loc[:, \"experience_numeric\"] = ds_jobs_transformed[\n",
    "    \"experience\"\n",
    "].replace({\"<1\": 0, \">20\": 21})\n",
    "\n",
    "# Convert to numeric\n",
    "ds_jobs_transformed.loc[:, \"experience_numeric\"] = pd.to_numeric(\n",
    "    ds_jobs_transformed[\"experience_numeric\"], errors=\"coerce\"\n",
    ")\n",
    "\n",
    "# Filter to keep only students with 10 or more years of experience\n",
    "ds_jobs_transformed = ds_jobs_transformed[\n",
    "    ds_jobs_transformed[\"experience_numeric\"] >= 10\n",
    "]\n",
    "\n",
    "# Convert experience to int32 as required\n",
    "ds_jobs_transformed.loc[:, \"experience\"] = ds_jobs_transformed[\n",
    "    \"experience_numeric\"\n",
    "].astype(\"int32\")\n",
    "\n",
    "# Drop the temporary column\n",
    "ds_jobs_transformed = ds_jobs_transformed.drop(\"experience_numeric\", axis=1)"
   ]
  },
  {
   "cell_type": "markdown",
   "id": "ec65ed9b",
   "metadata": {},
   "source": [
    "#### Experience Distribution After Filtering\n",
    "\n",
    "This line plot shows the distribution of years of experience among students after applying the 10+ years filter. The visualization confirms our filtering criteria and helps us understand the experience profile of our target demographic."
   ]
  },
  {
   "cell_type": "code",
   "execution_count": 83,
   "id": "f1150a64",
   "metadata": {},
   "outputs": [
    {
     "data": {
      "image/png": "[encoded data removed]",
      "text/plain": [
       "<Figure size 640x480 with 1 Axes>"
      ]
     },
     "metadata": {},
     "output_type": "display_data"
    }
   ],
   "source": [
    "experience_counts = ds_jobs_transformed[\"experience\"].value_counts().sort_index()\n",
    "\n",
    "fig, ax = plt.subplots()\n",
    "\n",
    "sns.lineplot(\n",
    "    x=experience_counts.index,\n",
    "    y=experience_counts.values,\n",
    "    marker=\"o\",\n",
    "    linewidth=2,\n",
    "    color=\"#0d50c5\",\n",
    ")\n",
    "\n",
    "ax.set(\n",
    "    xlabel=\"Years of Experience\",\n",
    "    ylabel=\"Number of Students\",\n",
    "    title=\"Distribution of Years of Experience\",\n",
    ")\n",
    "\n",
    "ax.grid(True, alpha=0.3, color=\"gray\", zorder=True)\n",
    "ax.set_axisbelow(True)\n",
    "\n",
    "plt.tight_layout()\n",
    "plt.show()"
   ]
  },
  {
   "cell_type": "markdown",
   "id": "02e5e14e",
   "metadata": {},
   "source": [
    "The DataFrame should be filtered to only contain students with 10 or more years of experience at companies with at least 1000 employees, as their recruiter base is suited to more experienced professionals at enterprise companies.\n"
   ]
  },
  {
   "cell_type": "code",
   "execution_count": 84,
   "id": "309ac214",
   "metadata": {},
   "outputs": [],
   "source": [
    "# Convert company_size to numeric values for filtering\n",
    "ds_jobs_transformed[\"company_size\"] = ds_jobs_transformed[\"company_size\"].replace(\n",
    "    {\n",
    "        \"50-99\": 100,\n",
    "        \"100-499\": 500,\n",
    "        \"<10\": 0,\n",
    "        \"500-999\": 1000,\n",
    "        \"10000+\": 10000,\n",
    "        \"5000-9999\": 9999,\n",
    "    }\n",
    ")\n",
    "\n",
    "# Convert to numeric\n",
    "ds_jobs_transformed[\"company_size\"] = pd.to_numeric(\n",
    "    ds_jobs_transformed[\"company_size\"], errors=\"coerce\"\n",
    ")\n",
    "\n",
    "# Filter to keep only companies with at least 1000 employees\n",
    "ds_jobs_transformed = ds_jobs_transformed[ds_jobs_transformed[\"company_size\"] >= 1000]\n",
    "\n",
    "# Convert company_size to int32 as required\n",
    "ds_jobs_transformed[\"company_size\"] = ds_jobs_transformed[\"company_size\"].astype(\n",
    "    \"int32\"\n",
    ")"
   ]
  },
  {
   "cell_type": "markdown",
   "id": "3a592f0f",
   "metadata": {},
   "source": [
    "#### Company Size Distribution Analysis\n",
    "\n",
    "The following plot shows the distribution of students across different company sizes after filtering for companies with at least 1000 employees. This visualization helps us understand the composition of our filtered dataset and ensures we're working with the target demographic of enterprise-level professionals."
   ]
  },
  {
   "cell_type": "code",
   "execution_count": 85,
   "id": "430da431",
   "metadata": {},
   "outputs": [
    {
     "data": {
      "image/png": "[encoded data removed]",
      "text/plain": [
       "<Figure size 500x500 with 1 Axes>"
      ]
     },
     "metadata": {},
     "output_type": "display_data"
    }
   ],
   "source": [
    "g = sns.catplot(\n",
    "    x=\"company_size\",\n",
    "    data=ds_jobs_transformed,\n",
    "    kind=\"count\",\n",
    "    palette=\"Set2\",\n",
    "    hue=\"company_size\",\n",
    "    legend=False,\n",
    ")\n",
    "g.figure.suptitle(\"Distribution of Company Size\", fontsize=16, y=1.03)\n",
    "g.set_axis_labels(\"Company Size (Number of Employees)\", \"Number of Students\")\n",
    "\n",
    "for ax in g.axes.flat:\n",
    "    ax.grid(True, alpha=0.7)\n",
    "    ax.set_axisbelow(True)\n",
    "\n",
    "plt.tight_layout()\n",
    "plt.show()"
   ]
  },
  {
   "cell_type": "markdown",
   "id": "de919101",
   "metadata": {},
   "source": [
    "### \"student_id\""
   ]
  },
  {
   "cell_type": "code",
   "execution_count": 86,
   "id": "bc985360",
   "metadata": {},
   "outputs": [],
   "source": [
    "ds_jobs_transformed[\"student_id\"] = ds_jobs_transformed[\"student_id\"].astype(\"int32\")"
   ]
  },
  {
   "cell_type": "markdown",
   "id": "be3839c8",
   "metadata": {},
   "source": [
    "### \"city\""
   ]
  },
  {
   "cell_type": "code",
   "execution_count": 87,
   "id": "2e01709a",
   "metadata": {},
   "outputs": [
    {
     "name": "stdout",
     "output_type": "stream",
     "text": [
      "Number of unique cities: 79\n",
      "Total records: 1868\n"
     ]
    }
   ],
   "source": [
    "# Convert city to category data type for memory efficiency\n",
    "ds_jobs_transformed[\"city\"] = ds_jobs_transformed[\"city\"].astype(\"category\")\n",
    "\n",
    "# Note: City visualization is not practical due to the large number of unique city values\n",
    "\n",
    "# The dataset contains too many distinct cities to create meaningful plots\n",
    "\n",
    "# Any city-based visualization would be cluttered and difficult to interpret\n",
    "\n",
    "# For analysis purposes, city data is better used for filtering or grouping operations\n",
    "\n",
    "print(f\"Number of unique cities: {ds_jobs_transformed['city'].nunique()}\")\n",
    "print(f\"Total records: {len(ds_jobs_transformed)}\")\n"
   ]
  },
  {
   "cell_type": "markdown",
   "id": "0aa02e1f",
   "metadata": {},
   "source": [
    "### \"city_development_index\""
   ]
  },
  {
   "cell_type": "code",
   "execution_count": 88,
   "id": "b57ba2c9",
   "metadata": {},
   "outputs": [
    {
     "data": {
      "application/vnd.microsoft.datawrangler.viewer.v0+json": {
       "columns": [
        {
         "name": "city_development_index",
         "rawType": "float32",
         "type": "float"
        },
        {
         "name": "count",
         "rawType": "int64",
         "type": "integer"
        }
       ],
       "ref": "4478d187-4639-4a3e-8d7c-331bcb2708de",
       "rows": [
        [
         "0.9199219",
         "756"
        ],
        [
         "0.91015625",
         "185"
        ],
        [
         "0.62402344",
         "152"
        ],
        [
         "0.92578125",
         "149"
        ],
        [
         "0.93896484",
         "72"
        ],
        [
         "0.89697266",
         "52"
        ],
        [
         "0.85498047",
         "35"
        ],
        [
         "0.9238281",
         "33"
        ],
        [
         "0.8041992",
         "31"
        ],
        [
         "0.8989258",
         "31"
        ],
        [
         "0.6982422",
         "28"
        ],
        [
         "0.91308594",
         "23"
        ],
        [
         "0.75390625",
         "20"
        ],
        [
         "0.88378906",
         "20"
        ],
        [
         "0.8017578",
         "19"
        ],
        [
         "0.88720703",
         "18"
        ],
        [
         "0.92285156",
         "17"
        ],
        [
         "0.9248047",
         "16"
        ],
        [
         "0.8779297",
         "15"
        ],
        [
         "0.8959961",
         "14"
        ],
        [
         "0.94921875",
         "12"
        ],
        [
         "0.6660156",
         "12"
        ],
        [
         "0.8359375",
         "11"
        ],
        [
         "0.8930664",
         "11"
        ],
        [
         "0.76220703",
         "10"
        ],
        [
         "0.89501953",
         "10"
        ],
        [
         "0.74316406",
         "9"
        ],
        [
         "0.82714844",
         "9"
        ],
        [
         "0.73779297",
         "7"
        ],
        [
         "0.8901367",
         "7"
        ],
        [
         "0.90283203",
         "6"
        ],
        [
         "0.7402344",
         "6"
        ],
        [
         "0.6821289",
         "6"
        ],
        [
         "0.84277344",
         "6"
        ],
        [
         "0.86621094",
         "5"
        ],
        [
         "0.91503906",
         "5"
        ],
        [
         "0.76708984",
         "5"
        ],
        [
         "0.84716797",
         "5"
        ],
        [
         "0.7890625",
         "4"
        ],
        [
         "0.69091797",
         "3"
        ],
        [
         "0.76904297",
         "3"
        ],
        [
         "0.7661133",
         "2"
        ],
        [
         "0.8652344",
         "2"
        ],
        [
         "0.7758789",
         "2"
        ],
        [
         "0.5551758",
         "2"
        ],
        [
         "0.8979492",
         "2"
        ],
        [
         "0.7939453",
         "2"
        ],
        [
         "0.7270508",
         "2"
        ],
        [
         "0.77490234",
         "2"
        ],
        [
         "0.5498047",
         "2"
        ]
       ],
       "shape": {
        "columns": 1,
        "rows": 62
       }
      },
      "text/plain": [
       "city_development_index\n",
       "0.919922    756\n",
       "0.910156    185\n",
       "0.624023    152\n",
       "0.925781    149\n",
       "0.938965     72\n",
       "           ... \n",
       "0.646973      1\n",
       "0.824219      1\n",
       "0.518066      1\n",
       "0.795898      1\n",
       "0.839844      1\n",
       "Name: count, Length: 62, dtype: int64"
      ]
     },
     "execution_count": 88,
     "metadata": {},
     "output_type": "execute_result"
    }
   ],
   "source": [
    "ds_jobs_transformed[\"city_development_index\"] = ds_jobs_transformed[\n",
    "    \"city_development_index\"\n",
    "].astype(\"float16\")\n",
    "ds_jobs_transformed[\"city_development_index\"].value_counts()"
   ]
  },
  {
   "cell_type": "markdown",
   "id": "52eaf015",
   "metadata": {},
   "source": [
    "### \"gender\""
   ]
  },
  {
   "cell_type": "code",
   "execution_count": 89,
   "id": "0d3b990e",
   "metadata": {},
   "outputs": [
    {
     "data": {
      "application/vnd.microsoft.datawrangler.viewer.v0+json": {
       "columns": [
        {
         "name": "gender",
         "rawType": "bool",
         "type": "boolean"
        },
        {
         "name": "count",
         "rawType": "int64",
         "type": "integer"
        }
       ],
       "ref": "83f4c61a-89e1-4b6c-8570-f86a2a626f65",
       "rows": [
        [
         "True",
         "1742"
        ],
        [
         "False",
         "126"
        ]
       ],
       "shape": {
        "columns": 1,
        "rows": 2
       }
      },
      "text/plain": [
       "gender\n",
       "True     1742\n",
       "False     126\n",
       "Name: count, dtype: int64"
      ]
     },
     "execution_count": 89,
     "metadata": {},
     "output_type": "execute_result"
    }
   ],
   "source": [
    "ds_jobs_transformed[\"gender\"] = ds_jobs_transformed[\"gender\"].astype(\"category\")\n",
    "ds_jobs_transformed[\"gender\"] = np.where(\n",
    "    ds_jobs_transformed[\"gender\"].str.contains(\"Male\", regex=False), True, False\n",
    ")\n",
    "ds_jobs_transformed[\"gender\"] = ds_jobs_transformed[\"gender\"].astype(\"bool\")\n",
    "ds_jobs_transformed[\"gender\"].value_counts()"
   ]
  },
  {
   "cell_type": "markdown",
   "id": "e76ca084",
   "metadata": {},
   "source": [
    "#### Gender Distribution Analysis by Relevant Experience\n",
    "\n",
    "The following visualization examines how relevant work experience is distributed across genders in our filtered dataset. This analysis helps us understand the professional background composition and identify any potential patterns in experience levels between male and female students in enterprise-level companies."
   ]
  },
  {
   "cell_type": "code",
   "execution_count": 90,
   "id": "57ce619e",
   "metadata": {},
   "outputs": [
    {
     "data": {
      "image/png": "[encoded data removed]",
      "text/plain": [
       "<Figure size 800x600 with 1 Axes>"
      ]
     },
     "metadata": {},
     "output_type": "display_data"
    }
   ],
   "source": [
    "g = sns.catplot(\n",
    "    x=\"gender\",\n",
    "    data=ds_jobs_transformed,\n",
    "    kind=\"count\",\n",
    "    palette=\"flare\",\n",
    "    hue=\"relevant_experience\",\n",
    "    legend_out=True,\n",
    "    height=6,\n",
    "    aspect=1,\n",
    ")\n",
    "\n",
    "g.figure.suptitle(\"Gender Distribution by Relevant Experience\", fontsize=16, y=1.03)\n",
    "g.set_axis_labels(\"Gender\", \"Number of Students\")\n",
    "\n",
    "leg = g._legend\n",
    "leg.set_title(\"Experience\")\n",
    "leg._legend_box.align = \"left\"\n",
    "\n",
    "# Iterate through the axes to apply customizations.\n",
    "for ax in g.axes.flat:\n",
    "    ax.grid(True, alpha=0.7)\n",
    "    ax.set_axisbelow(True)\n",
    "    ax.set_xticks([0, 1])\n",
    "    ax.set_xticklabels([\"Female\", \"Male\"])\n",
    "\n",
    "plt.show()"
   ]
  },
  {
   "cell_type": "markdown",
   "id": "bd5d6643",
   "metadata": {},
   "source": [
    "### \"relevant_experience\""
   ]
  },
  {
   "cell_type": "code",
   "execution_count": 91,
   "id": "45e4715a",
   "metadata": {},
   "outputs": [
    {
     "data": {
      "application/vnd.microsoft.datawrangler.viewer.v0+json": {
       "columns": [
        {
         "name": "relevant_experience",
         "rawType": "bool",
         "type": "boolean"
        },
        {
         "name": "count",
         "rawType": "int64",
         "type": "integer"
        }
       ],
       "ref": "b669752d-3d81-4f5d-ba9a-a746e13eadfc",
       "rows": [
        [
         "True",
         "1632"
        ],
        [
         "False",
         "236"
        ]
       ],
       "shape": {
        "columns": 1,
        "rows": 2
       }
      },
      "text/plain": [
       "relevant_experience\n",
       "True     1632\n",
       "False     236\n",
       "Name: count, dtype: int64"
      ]
     },
     "execution_count": 91,
     "metadata": {},
     "output_type": "execute_result"
    }
   ],
   "source": [
    "ds_jobs_transformed[\"relevant_experience\"] = ds_jobs_transformed[\"relevant_experience\"].astype(\"category\")\n",
    "ds_jobs_transformed[\"relevant_experience\"] = np.where(\n",
    "    ds_jobs_transformed[\"relevant_experience\"].str.contains(\"Has relevant experience\", regex=False), True, False\n",
    ")\n",
    "ds_jobs_transformed[\"relevant_experience\"] = ds_jobs_transformed[\"relevant_experience\"].astype(\"bool\")\n",
    "ds_jobs_transformed[\"relevant_experience\"].value_counts()"
   ]
  },
  {
   "cell_type": "markdown",
   "id": "1cd10550",
   "metadata": {},
   "source": [
    "#### Relevant Experience vs University Enrollment Analysis\n",
    "\n",
    "This visualization explores the relationship between students' relevant work experience and their current university enrollment status. Understanding this relationship helps identify patterns in continuing education among professionals with different experience backgrounds, which is valuable for targeted recruitment strategies."
   ]
  },
  {
   "cell_type": "code",
   "execution_count": 92,
   "id": "4dfa0b9e",
   "metadata": {},
   "outputs": [
    {
     "data": {
      "image/png": "[encoded data removed]",
      "text/plain": [
       "<Figure size 651.25x500 with 1 Axes>"
      ]
     },
     "metadata": {},
     "output_type": "display_data"
    }
   ],
   "source": [
    "g = sns.catplot(\n",
    "    x=\"relevant_experience\",\n",
    "    data=ds_jobs_transformed,\n",
    "    kind=\"count\",\n",
    "    palette=\"flare\",\n",
    "    hue=\"enrolled_university\",\n",
    "    legend_out=True\n",
    ")\n",
    "\n",
    "g.figure.suptitle(\"Relevant Experience vs University Enrollment Distribution\", fontsize=16, y=1.03)\n",
    "g.set_axis_labels(\"Relevant Experience\", \"Count\")\n",
    "\n",
    "leg = g._legend\n",
    "leg.set_title(\"University Enrollment\")\n",
    "leg._legend_box.align = \"left\"\n",
    "\n",
    "for ax in g.axes.flat:\n",
    "    ax.grid(True, alpha=0.7)\n",
    "    ax.set_axisbelow(True)\n",
    "    ax.set_xticks([0, 1])\n",
    "    ax.set_xticklabels(['No Relevant Experience', 'Has Relevant Experience'])\n",
    "\n",
    "sns.despine(left=True)\n",
    "plt.show()"
   ]
  },
  {
   "cell_type": "code",
   "execution_count": 93,
   "id": "b5252dc6",
   "metadata": {},
   "outputs": [
    {
     "data": {
      "application/vnd.microsoft.datawrangler.viewer.v0+json": {
       "columns": [
        {
         "name": "enrolled_university",
         "rawType": "category",
         "type": "unknown"
        },
        {
         "name": "count",
         "rawType": "int64",
         "type": "integer"
        }
       ],
       "ref": "0522438f-27c4-415c-a126-8210ac6432a1",
       "rows": [
        [
         "no_enrollment",
         "1668"
        ],
        [
         "Part time course",
         "87"
        ],
        [
         "Full time course",
         "103"
        ]
       ],
       "shape": {
        "columns": 1,
        "rows": 3
       }
      },
      "text/plain": [
       "enrolled_university\n",
       "no_enrollment       1668\n",
       "Part time course      87\n",
       "Full time course     103\n",
       "Name: count, dtype: int64"
      ]
     },
     "execution_count": 93,
     "metadata": {},
     "output_type": "execute_result"
    }
   ],
   "source": [
    "ds_jobs_transformed[\"enrolled_university\"] = ds_jobs_transformed[\n",
    "    \"enrolled_university\"\n",
    "].astype(\"category\")\n",
    "\n",
    "ds_jobs_transformed[\"enrolled_university\"] = ds_jobs_transformed[\n",
    "    \"enrolled_university\"\n",
    "].cat.reorder_categories(\n",
    "    new_categories=[\"no_enrollment\", \"Part time course\", \"Full time course\"],\n",
    "    ordered=True,\n",
    ")\n",
    "ds_jobs_transformed[\"enrolled_university\"].value_counts(sort=False)"
   ]
  },
  {
   "cell_type": "markdown",
   "id": "f3f3c646",
   "metadata": {},
   "source": [
    "#### University Enrollment Distribution by Relevant Experience\n",
    "\n",
    "This plot provides another perspective on the relationship between university enrollment and relevant experience. It helps us understand how students with different experience levels engage in continuing education, which is crucial for recruitment targeting."
   ]
  },
  {
   "cell_type": "code",
   "execution_count": 94,
   "id": "903ae3ec",
   "metadata": {},
   "outputs": [
    {
     "data": {
      "image/png": "[encoded data removed]",
      "text/plain": [
       "<Figure size 636.486x500 with 1 Axes>"
      ]
     },
     "metadata": {},
     "output_type": "display_data"
    }
   ],
   "source": [
    "g = sns.catplot(\n",
    "    x=\"enrolled_university\",\n",
    "    data=ds_jobs_transformed,\n",
    "    kind=\"count\",\n",
    "    palette=\"flare\",\n",
    "    hue=\"relevant_experience\",\n",
    "    \n",
    ")\n",
    "\n",
    "g.figure.suptitle(\"Distribution of University Enrollment by Relevant Experience\", fontsize=16, y=1.03)\n",
    "g.set_axis_labels(\"University Enrollment\", \"Number of Students\")\n",
    "\n",
    "leg = g._legend\n",
    "leg.set_title(\"Relevant Experience\")\n",
    "leg.set_bbox_to_anchor((0.98,.78))\n",
    "\n",
    "for ax in g.axes.flat:\n",
    "    ax.grid(True, alpha=0.7)\n",
    "    ax.set_axisbelow(True)\n",
    "\n",
    "sns.despine(left=True)\n",
    "plt.tight_layout()\n",
    "plt.show()"
   ]
  },
  {
   "cell_type": "markdown",
   "id": "5b784ef5",
   "metadata": {},
   "source": [
    "### \"education_level\""
   ]
  },
  {
   "cell_type": "code",
   "execution_count": 95,
   "id": "1799db90",
   "metadata": {},
   "outputs": [
    {
     "data": {
      "application/vnd.microsoft.datawrangler.viewer.v0+json": {
       "columns": [
        {
         "name": "education_level",
         "rawType": "category",
         "type": "unknown"
        },
        {
         "name": "count",
         "rawType": "int64",
         "type": "integer"
        }
       ],
       "ref": "71241ca9-5984-4cc7-8b32-64e743e0722b",
       "rows": [
        [
         "Primary School",
         "4"
        ],
        [
         "High School",
         "61"
        ],
        [
         "Graduate",
         "1083"
        ],
        [
         "Masters",
         "610"
        ],
        [
         "Phd",
         "96"
        ]
       ],
       "shape": {
        "columns": 1,
        "rows": 5
       }
      },
      "text/plain": [
       "education_level\n",
       "Primary School       4\n",
       "High School         61\n",
       "Graduate          1083\n",
       "Masters            610\n",
       "Phd                 96\n",
       "Name: count, dtype: int64"
      ]
     },
     "execution_count": 95,
     "metadata": {},
     "output_type": "execute_result"
    }
   ],
   "source": [
    "ds_jobs_transformed[\"education_level\"] = ds_jobs_transformed[\"education_level\"].astype(\n",
    "    \"category\"\n",
    ")\n",
    "\n",
    "ds_jobs_transformed[\"education_level\"] = ds_jobs_transformed[\n",
    "    \"education_level\"\n",
    "].cat.reorder_categories(\n",
    "    new_categories=[\"Primary School\", \"High School\", \"Graduate\", \"Masters\", \"Phd\"],\n",
    "    ordered=True,\n",
    ")\n",
    "ds_jobs_transformed[\"education_level\"].value_counts(sort=False)"
   ]
  },
  {
   "cell_type": "markdown",
   "id": "fba5bc3e",
   "metadata": {},
   "source": [
    "#### Education Level Distribution by Gender\n",
    "\n",
    "This visualization examines the distribution of education levels across genders in our filtered dataset. Understanding educational backgrounds helps identify qualification patterns and potential recruitment opportunities across different demographic segments."
   ]
  },
  {
   "cell_type": "code",
   "execution_count": 96,
   "id": "74654087",
   "metadata": {},
   "outputs": [
    {
     "data": {
      "image/png": "[encoded data removed]",
      "text/plain": [
       "<Figure size 583.875x500 with 1 Axes>"
      ]
     },
     "metadata": {},
     "output_type": "display_data"
    }
   ],
   "source": [
    "# Filter out rows with missing education_level data\n",
    "plot_data = ds_jobs_transformed.dropna(subset=[\"education_level\"])\n",
    "\n",
    "g = sns.catplot(\n",
    "    x=\"education_level\",\n",
    "    data=plot_data,\n",
    "    kind=\"count\",\n",
    "    palette=\"cubehelix\",\n",
    "    hue=\"gender\",\n",
    "    legend_out=True,\n",
    ")\n",
    "\n",
    "g.figure.suptitle(\"Distribution of Education Level by Gender\", fontsize=16, y=1.02)\n",
    "g.set_axis_labels(\"Education Level\", \"Number of Students\")\n",
    "\n",
    "# Check if legend exists before accessing it\n",
    "if g._legend is not None:\n",
    "    leg = g._legend\n",
    "    leg.set_title(\"Gender\")\n",
    "    leg.set_bbox_to_anchor((0.98, 0.78))\n",
    "\n",
    "    # Update legend labels to show actual gender names\n",
    "    for text, label in zip(leg.get_texts(), [\"Female\", \"Male\"]):\n",
    "        text.set_text(label)\n",
    "\n",
    "for ax in g.axes.flat:\n",
    "    ax.grid(True, alpha=0.7)\n",
    "    ax.set_axisbelow(True)\n",
    "    plt.setp(ax.get_xticklabels(), ha=\"right\", rotation=45)\n",
    "\n",
    "plt.tight_layout()\n",
    "plt.show()"
   ]
  },
  {
   "cell_type": "markdown",
   "id": "45354849",
   "metadata": {},
   "source": [
    "### \"major_discipline\""
   ]
  },
  {
   "cell_type": "code",
   "execution_count": 97,
   "id": "0053b7dd",
   "metadata": {},
   "outputs": [
    {
     "data": {
      "application/vnd.microsoft.datawrangler.viewer.v0+json": {
       "columns": [
        {
         "name": "major_discipline",
         "rawType": "category",
         "type": "unknown"
        },
        {
         "name": "count",
         "rawType": "int64",
         "type": "integer"
        }
       ],
       "ref": "dbf33481-1c5d-4329-afd9-7ddc65f5ea71",
       "rows": [
        [
         "Arts",
         "24"
        ],
        [
         "Business Degree",
         "38"
        ],
        [
         "Humanities",
         "59"
        ],
        [
         "No Major",
         "19"
        ],
        [
         "Other",
         "32"
        ],
        [
         "STEM",
         "1615"
        ]
       ],
       "shape": {
        "columns": 1,
        "rows": 6
       }
      },
      "text/plain": [
       "major_discipline\n",
       "Arts                 24\n",
       "Business Degree      38\n",
       "Humanities           59\n",
       "No Major             19\n",
       "Other                32\n",
       "STEM               1615\n",
       "Name: count, dtype: int64"
      ]
     },
     "execution_count": 97,
     "metadata": {},
     "output_type": "execute_result"
    }
   ],
   "source": [
    "ds_jobs_transformed[\"major_discipline\"] = ds_jobs_transformed[\"major_discipline\"].astype(\"category\")\n",
    "ds_jobs_transformed[\"major_discipline\"].value_counts(sort=False)"
   ]
  },
  {
   "cell_type": "markdown",
   "id": "9f66741d",
   "metadata": {},
   "source": [
    "#### Major Discipline Distribution by Gender\n",
    "\n",
    "This plot shows the distribution of academic disciplines across genders, revealing field preferences and representation patterns. This information is valuable for understanding the educational diversity of our target population and tailoring recruitment strategies by discipline."
   ]
  },
  {
   "cell_type": "code",
   "execution_count": 98,
   "id": "52a10a40",
   "metadata": {},
   "outputs": [
    {
     "data": {
      "image/png": "[encoded data removed]",
      "text/plain": [
       "<Figure size 583.875x500 with 1 Axes>"
      ]
     },
     "metadata": {},
     "output_type": "display_data"
    }
   ],
   "source": [
    "g = sns.catplot(\n",
    "    x=\"major_discipline\",\n",
    "    data=ds_jobs_transformed,\n",
    "    kind=\"count\",\n",
    "    palette=\"viridis\",\n",
    "    hue=\"gender\",\n",
    "    legend_out=True\n",
    ")\n",
    "\n",
    "g.figure.suptitle(\"\")\n",
    "g.set_axis_labels(\"\", \"\")\n",
    "\n",
    "leg = g._legend\n",
    "leg.set_title(\"Gender\")\n",
    "leg.set_bbox_to_anchor((0.3, 0.86))\n",
    "\n",
    "for text, label in zip(leg.get_texts(), [\"Female\", \"Male\"]):\n",
    "    text.set_text(label)\n",
    "\n",
    "\n",
    "for ax in g.axes.flat:\n",
    "    ax.grid(True, alpha=0.1, color=\"gray\")\n",
    "    ax.set_axisbelow(True)\n",
    "    plt.setp(\n",
    "        ax.get_xticklabels(),\n",
    "        rotation=45,\n",
    "        ha=\"right\",\n",
    "        va=\"center\",\n",
    "        rotation_mode=\"anchor\",\n",
    "    )\n",
    "\n",
    "plt.tight_layout()\n",
    "plt.show()"
   ]
  },
  {
   "cell_type": "markdown",
   "id": "0491d126",
   "metadata": {},
   "source": [
    "### \"company_type\""
   ]
  },
  {
   "cell_type": "code",
   "execution_count": 99,
   "id": "29978f54",
   "metadata": {},
   "outputs": [],
   "source": [
    "ds_jobs_transformed[\"company_type\"] = ds_jobs_transformed[\"company_type\"].astype(\"category\")"
   ]
  },
  {
   "cell_type": "markdown",
   "id": "bf8b9669",
   "metadata": {},
   "source": [
    "#### Company Type Distribution by Company Size\n",
    "\n",
    "This comprehensive visualization shows how different company types are represented across various company sizes in our filtered dataset. Understanding the corporate landscape helps identify the most common employer profiles and informs recruitment strategy development."
   ]
  },
  {
   "cell_type": "code",
   "execution_count": 100,
   "id": "f0a6b188",
   "metadata": {},
   "outputs": [
    {
     "data": {
      "image/png": "[encoded data removed]",
      "text/plain": [
       "<Figure size 699.736x600 with 1 Axes>"
      ]
     },
     "metadata": {},
     "output_type": "display_data"
    }
   ],
   "source": [
    "g = sns.catplot(\n",
    "    x=\"company_type\",\n",
    "    data=ds_jobs_transformed,\n",
    "    kind=\"count\",\n",
    "    hue=\"company_size\",\n",
    "    palette=\"crest\",\n",
    "    legend_out=True,       \n",
    "    height=6,              \n",
    "    aspect=1               \n",
    ")\n",
    "\n",
    "g.figure.suptitle(\"Company Type Distribution by Company Size\", y=1.02)\n",
    "g.set_axis_labels(\"\", \"Number of Students\")\n",
    "\n",
    "# Rotate x‐labels and add grid\n",
    "for ax in g.axes.flat:\n",
    "    ax.grid(True, color=\"gray\", alpha=0.3)\n",
    "    ax.set_axisbelow(True)\n",
    "    plt.setp(ax.get_xticklabels(), ha=\"right\", rotation=45)\n",
    "\n",
    "leg = g._legend\n",
    "leg.set_title(\"Company Size\")\n",
    "leg._legend_box.align = \"left\"\n",
    "\n",
    "plt.show()"
   ]
  },
  {
   "cell_type": "code",
   "execution_count": 101,
   "id": "44464c74",
   "metadata": {},
   "outputs": [
    {
     "data": {
      "application/vnd.microsoft.datawrangler.viewer.v0+json": {
       "columns": [
        {
         "name": "last_new_job",
         "rawType": "object",
         "type": "unknown"
        },
        {
         "name": "count",
         "rawType": "int64",
         "type": "integer"
        }
       ],
       "ref": "cc1ed0c0-c2d3-4572-92f9-6ea6953cb40c",
       "rows": [
        [
         ">4",
         "691"
        ],
        [
         "1",
         "506"
        ],
        [
         "2",
         "303"
        ],
        [
         "4",
         "151"
        ],
        [
         "3",
         "140"
        ],
        [
         "never",
         "64"
        ],
        [
         null,
         "13"
        ]
       ],
       "shape": {
        "columns": 1,
        "rows": 7
       }
      },
      "text/plain": [
       "last_new_job\n",
       ">4       691\n",
       "1        506\n",
       "2        303\n",
       "4        151\n",
       "3        140\n",
       "never     64\n",
       "NaN       13\n",
       "Name: count, dtype: int64"
      ]
     },
     "execution_count": 101,
     "metadata": {},
     "output_type": "execute_result"
    }
   ],
   "source": [
    "ds_jobs_transformed[\"last_new_job\"].value_counts(dropna=False)"
   ]
  },
  {
   "cell_type": "code",
   "execution_count": 102,
   "id": "7c6d1c9f",
   "metadata": {},
   "outputs": [],
   "source": [
    "# Convert last_new_job to numeric values\n",
    "ds_jobs_transformed[\"last_new_job\"] = ds_jobs_transformed[\"last_new_job\"].replace(\n",
    "    {\">4\": 5, \"never\": 0}\n",
    ")\n",
    "\n",
    "# Convert to numeric and handle NaN values\n",
    "ds_jobs_transformed[\"last_new_job\"] = (\n",
    "    pd.to_numeric(ds_jobs_transformed[\"last_new_job\"], errors=\"coerce\")\n",
    "    .fillna(0)\n",
    "    .astype(\"int32\")\n",
    ")"
   ]
  },
  {
   "cell_type": "code",
   "execution_count": 103,
   "id": "1564c8e3",
   "metadata": {},
   "outputs": [
    {
     "data": {
      "application/vnd.microsoft.datawrangler.viewer.v0+json": {
       "columns": [
        {
         "name": "last_new_job",
         "rawType": "int32",
         "type": "integer"
        },
        {
         "name": "count",
         "rawType": "int64",
         "type": "integer"
        }
       ],
       "ref": "9bcc1ae6-8576-4113-b21b-414463ad1c83",
       "rows": [
        [
         "5",
         "691"
        ],
        [
         "1",
         "506"
        ],
        [
         "2",
         "303"
        ],
        [
         "4",
         "151"
        ],
        [
         "3",
         "140"
        ],
        [
         "0",
         "77"
        ]
       ],
       "shape": {
        "columns": 1,
        "rows": 6
       }
      },
      "text/plain": [
       "last_new_job\n",
       "5    691\n",
       "1    506\n",
       "2    303\n",
       "4    151\n",
       "3    140\n",
       "0     77\n",
       "Name: count, dtype: int64"
      ]
     },
     "execution_count": 103,
     "metadata": {},
     "output_type": "execute_result"
    }
   ],
   "source": [
    "ds_jobs_transformed[\"last_new_job\"].value_counts(dropna=False)"
   ]
  },
  {
   "cell_type": "markdown",
   "id": "124f99d6",
   "metadata": {},
   "source": [
    "#### Years Since Last Job Change Distribution\n",
    "\n",
    "This line plot illustrates the distribution of time since students' last job change. Understanding job mobility patterns helps identify career transition trends and timing, which is essential for effective job placement and recruitment timing strategies."
   ]
  },
  {
   "cell_type": "code",
   "execution_count": 104,
   "id": "dfbe273c",
   "metadata": {},
   "outputs": [
    {
     "data": {
      "image/png": "[encoded data removed]",
      "text/plain": [
       "<Figure size 640x480 with 1 Axes>"
      ]
     },
     "metadata": {},
     "output_type": "display_data"
    }
   ],
   "source": [
    "lastnew_counts = ds_jobs_transformed[\"last_new_job\"].value_counts().sort_index()\n",
    "\n",
    "fig, ax = plt.subplots()\n",
    "\n",
    "sns.lineplot(\n",
    "    x=lastnew_counts.index,\n",
    "    y=lastnew_counts.values,\n",
    "    marker=\"o\",\n",
    "    linewidth=2,\n",
    "    color=\"#0d50c5\",\n",
    ")\n",
    "\n",
    "ax.set(\n",
    "    xlabel=\"Years Since Last Job Change\",\n",
    "    ylabel=\"Number of Students\",\n",
    "    title=\"Distribution of Years Since Last Job Change\",\n",
    ")\n",
    "\n",
    "ax.grid(True, alpha=0.3, color=\"gray\", zorder=True)\n",
    "ax.set_axisbelow(True)\n",
    "\n",
    "plt.tight_layout()\n",
    "plt.show()"
   ]
  },
  {
   "cell_type": "code",
   "execution_count": 105,
   "id": "e2aa6c8e",
   "metadata": {},
   "outputs": [
    {
     "name": "stdout",
     "output_type": "stream",
     "text": [
      "<class 'pandas.core.frame.DataFrame'>\n",
      "Index: 1868 entries, 9 to 19143\n",
      "Data columns (total 14 columns):\n",
      " #   Column                  Non-Null Count  Dtype   \n",
      "---  ------                  --------------  -----   \n",
      " 0   student_id              1868 non-null   int32   \n",
      " 1   city                    1868 non-null   category\n",
      " 2   city_development_index  1868 non-null   float16 \n",
      " 3   gender                  1868 non-null   bool    \n",
      " 4   relevant_experience     1868 non-null   bool    \n",
      " 5   enrolled_university     1858 non-null   category\n",
      " 6   education_level         1854 non-null   category\n",
      " 7   major_discipline        1787 non-null   category\n",
      " 8   experience              1868 non-null   object  \n",
      " 9   company_size            1868 non-null   int32   \n",
      " 10  company_type            1807 non-null   category\n",
      " 11  last_new_job            1868 non-null   int32   \n",
      " 12  training_hours          1868 non-null   int64   \n",
      " 13  job_change              1868 non-null   float64 \n",
      "dtypes: bool(2), category(5), float16(1), float64(1), int32(3), int64(1), object(1)\n",
      "memory usage: 100.1+ KB\n"
     ]
    }
   ],
   "source": [
    "ds_jobs_transformed.info()"
   ]
  },
  {
   "cell_type": "markdown",
   "id": "0ce26a01",
   "metadata": {},
   "source": [
    "The `\"experience\"` column repeatedly reverts to the `\"object\"` dtype. To address this, I have decided to convert it to the `\"int32\"` dtype once more before finalizing the project. This will help ensure the dataset remains efficient and optimizes memory usage.\n"
   ]
  },
  {
   "cell_type": "code",
   "execution_count": 106,
   "id": "be16a65f",
   "metadata": {},
   "outputs": [],
   "source": [
    "ds_jobs_transformed[\"experience\"] = ds_jobs_transformed[\"experience\"].astype(\"int32\")"
   ]
  },
  {
   "cell_type": "markdown",
   "id": "bdc38b91",
   "metadata": {},
   "source": [
    "### \"training_hours\""
   ]
  },
  {
   "cell_type": "code",
   "execution_count": 107,
   "id": "1c2752e8",
   "metadata": {},
   "outputs": [
    {
     "data": {
      "application/vnd.microsoft.datawrangler.viewer.v0+json": {
       "columns": [
        {
         "name": "training_hours",
         "rawType": "int32",
         "type": "integer"
        },
        {
         "name": "count",
         "rawType": "int64",
         "type": "integer"
        }
       ],
       "ref": "5bb5f8db-650a-41e8-bdc1-18bf3e2cede9",
       "rows": [
        [
         "18",
         "33"
        ],
        [
         "26",
         "32"
        ],
        [
         "28",
         "32"
        ],
        [
         "22",
         "31"
        ],
        [
         "20",
         "30"
        ],
        [
         "12",
         "30"
        ],
        [
         "17",
         "29"
        ],
        [
         "9",
         "28"
        ],
        [
         "6",
         "27"
        ],
        [
         "10",
         "27"
        ],
        [
         "50",
         "25"
        ],
        [
         "7",
         "25"
        ],
        [
         "42",
         "25"
        ],
        [
         "14",
         "25"
        ],
        [
         "13",
         "24"
        ],
        [
         "40",
         "24"
        ],
        [
         "56",
         "24"
        ],
        [
         "36",
         "24"
        ],
        [
         "32",
         "24"
        ],
        [
         "34",
         "24"
        ],
        [
         "33",
         "23"
        ],
        [
         "23",
         "23"
        ],
        [
         "11",
         "23"
        ],
        [
         "16",
         "23"
        ],
        [
         "4",
         "23"
        ],
        [
         "24",
         "23"
        ],
        [
         "15",
         "22"
        ],
        [
         "21",
         "21"
        ],
        [
         "51",
         "21"
        ],
        [
         "52",
         "20"
        ],
        [
         "48",
         "20"
        ],
        [
         "44",
         "20"
        ],
        [
         "45",
         "20"
        ],
        [
         "25",
         "19"
        ],
        [
         "64",
         "18"
        ],
        [
         "30",
         "18"
        ],
        [
         "94",
         "18"
        ],
        [
         "46",
         "18"
        ],
        [
         "54",
         "18"
        ],
        [
         "78",
         "17"
        ],
        [
         "80",
         "17"
        ],
        [
         "8",
         "17"
        ],
        [
         "58",
         "16"
        ],
        [
         "43",
         "16"
        ],
        [
         "55",
         "16"
        ],
        [
         "53",
         "15"
        ],
        [
         "90",
         "15"
        ],
        [
         "57",
         "15"
        ],
        [
         "35",
         "15"
        ],
        [
         "37",
         "14"
        ]
       ],
       "shape": {
        "columns": 1,
        "rows": 213
       }
      },
      "text/plain": [
       "training_hours\n",
       "18     33\n",
       "26     32\n",
       "28     32\n",
       "22     31\n",
       "20     30\n",
       "       ..\n",
       "198     1\n",
       "268     1\n",
       "139     1\n",
       "246     1\n",
       "150     1\n",
       "Name: count, Length: 213, dtype: int64"
      ]
     },
     "execution_count": 107,
     "metadata": {},
     "output_type": "execute_result"
    }
   ],
   "source": [
    "ds_jobs_transformed[\"training_hours\"] = ds_jobs_transformed[\"training_hours\"].astype(\"int32\")\n",
    "ds_jobs_transformed[\"training_hours\"].value_counts()"
   ]
  },
  {
   "cell_type": "markdown",
   "id": "8c541c99",
   "metadata": {},
   "source": [
    "### \"job_change\""
   ]
  },
  {
   "cell_type": "code",
   "execution_count": 108,
   "id": "3895023a",
   "metadata": {},
   "outputs": [
    {
     "data": {
      "application/vnd.microsoft.datawrangler.viewer.v0+json": {
       "columns": [
        {
         "name": "job_change",
         "rawType": "float64",
         "type": "float"
        },
        {
         "name": "count",
         "rawType": "int64",
         "type": "integer"
        }
       ],
       "ref": "b02a25f1-3e2b-462a-96dd-2b283be7ddb0",
       "rows": [
        [
         "0.0",
         "1616"
        ],
        [
         "1.0",
         "252"
        ]
       ],
       "shape": {
        "columns": 1,
        "rows": 2
       }
      },
      "text/plain": [
       "job_change\n",
       "0.0    1616\n",
       "1.0     252\n",
       "Name: count, dtype: int64"
      ]
     },
     "execution_count": 108,
     "metadata": {},
     "output_type": "execute_result"
    }
   ],
   "source": [
    "ds_jobs_transformed[\"job_change\"].value_counts()"
   ]
  },
  {
   "cell_type": "code",
   "execution_count": 109,
   "id": "a0f594df",
   "metadata": {},
   "outputs": [
    {
     "data": {
      "application/vnd.microsoft.datawrangler.viewer.v0+json": {
       "columns": [
        {
         "name": "job_change",
         "rawType": "bool",
         "type": "boolean"
        },
        {
         "name": "count",
         "rawType": "int64",
         "type": "integer"
        }
       ],
       "ref": "81b93c6a-10ba-45ff-a7b7-56d09f96df33",
       "rows": [
        [
         "False",
         "1616"
        ],
        [
         "True",
         "252"
        ]
       ],
       "shape": {
        "columns": 1,
        "rows": 2
       }
      },
      "text/plain": [
       "job_change\n",
       "False    1616\n",
       "True      252\n",
       "Name: count, dtype: int64"
      ]
     },
     "execution_count": 109,
     "metadata": {},
     "output_type": "execute_result"
    }
   ],
   "source": [
    "ds_jobs_transformed[\"job_change\"] = (ds_jobs_transformed[\"job_change\"] == 1.0).astype(\"bool\")\n",
    "ds_jobs_transformed[\"job_change\"].value_counts()\n"
   ]
  },
  {
   "cell_type": "code",
   "execution_count": 110,
   "id": "e56df9e5",
   "metadata": {},
   "outputs": [
    {
     "name": "stdout",
     "output_type": "stream",
     "text": [
      "<class 'pandas.core.frame.DataFrame'>\n",
      "Index: 1868 entries, 9 to 19143\n",
      "Data columns (total 14 columns):\n",
      " #   Column                  Non-Null Count  Dtype   \n",
      "---  ------                  --------------  -----   \n",
      " 0   student_id              1868 non-null   int32   \n",
      " 1   city                    1868 non-null   category\n",
      " 2   city_development_index  1868 non-null   float16 \n",
      " 3   gender                  1868 non-null   bool    \n",
      " 4   relevant_experience     1868 non-null   bool    \n",
      " 5   enrolled_university     1858 non-null   category\n",
      " 6   education_level         1854 non-null   category\n",
      " 7   major_discipline        1787 non-null   category\n",
      " 8   experience              1868 non-null   int32   \n",
      " 9   company_size            1868 non-null   int32   \n",
      " 10  company_type            1807 non-null   category\n",
      " 11  last_new_job            1868 non-null   int32   \n",
      " 12  training_hours          1868 non-null   int32   \n",
      " 13  job_change              1868 non-null   bool    \n",
      "dtypes: bool(3), category(5), float16(1), int32(5)\n",
      "memory usage: 72.8 KB\n"
     ]
    }
   ],
   "source": [
    "ds_jobs_transformed.info()"
   ]
  },
  {
   "cell_type": "markdown",
   "id": "b89191e9",
   "metadata": {},
   "source": [
    "### Project Conclusion\n",
    "\n",
    "In this project, the objective was to transform the `customer_train.csv` dataset into a more efficient and focused format for future modeling tasks. The primary rationale was that large datasets can be computationally expensive to work with, and optimizing them is a critical first step in any data science workflow.\n",
    "\n",
    "My approach was twofold: first, to reduce the memory footprint of the DataFrame, and second, to filter the data to align with the specific business requirement of targeting experienced professionals at enterprise-level companies.\n",
    "\n",
    "\n",
    "1.  **Data Type Optimization:** I analyzed each column to assign the most memory-efficient data type.\n",
    "    *   Binary categorical columns like `gender` and `relevant_experience` were converted to the `bool` type.\n",
    "  <br>\n",
    "    *   Numerical columns were downcast; for example, I used `int32` for integers and `float16` for floating-point numbers where appropriate, which significantly reduced memory without sacrificing necessary precision.\n",
    "  <br>\n",
    "    *   Nominal and ordinal categorical columns (`enrolled_university`, `education_level`, etc.) were converted to pandas' `category` dtype. For ordinal columns, I explicitly defined the order to preserve their inherent hierarchy, which is crucial for certain modeling techniques.\n",
    "\n",
    "1.  **Strategic Filtering:** To meet the project's requirements, I filtered the dataset to include only students with 10 or more years of experience working at companies with 1000 or more employees. This involved cleaning and converting columns like `experience` and `company_size` from object types to numerical formats that could be used for comparison.\n",
    "\n",
    "2.  **Documented Exploration:** Throughout the process, I used visualizations to explore and validate the transformations. I made some decisions to add markdown cells before each plot to document my thought process and explain what the visualization revealed about the data. This practice makes the notebook a self-contained and easily understandable piece of analysis.\n",
    "\n",
    "The final `ds_jobs_transformed` DataFrame is substantially more memory-efficient than the original, which will accelerate subsequent modeling and analysis. By focusing the dataset on the target demographic, we ensure that any insights or predictive models generated will be directly relevant to the business goal. "
   ]
  }
 ],
 "metadata": {
  "editor": "DataLab",
  "kernelspec": {
   "display_name": "datacamp",
   "language": "python",
   "name": "python3"
  },
  "language_info": {
   "codemirror_mode": {
    "name": "ipython",
    "version": 3
   },
   "file_extension": ".py",
   "mimetype": "text/x-python",
   "name": "python",
   "nbconvert_exporter": "python",
   "pygments_lexer": "ipython3",
   "version": "3.12.7"
  }
 },
 "nbformat": 4,
 "nbformat_minor": 5
}
